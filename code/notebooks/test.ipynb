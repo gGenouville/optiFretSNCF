{
 "cells": [
  {
   "cell_type": "code",
   "execution_count": 5,
   "metadata": {},
   "outputs": [],
   "source": [
    "import sys\n",
    "import os\n",
    "\n",
    "sys.path.append(os.path.abspath('..'))\n",
    "\n",
    "from module import utils as u"
   ]
  },
  {
   "cell_type": "code",
   "execution_count": 8,
   "metadata": {},
   "outputs": [
    {
     "name": "stdout",
     "output_type": "stream",
     "text": [
      "feuille Chantiers :\n",
      "  Chantier  Nombre de voies                                 Indisponibilites\n",
      "0  WPY_REC               15                                                0\n",
      "1  WPY_FOR               40  (1,05:00-13:00);(6,13:00-21:00);(7,13:00-21:00)\n",
      "2  WPY_DEP               14                                                0\n",
      "feuille Machines :\n",
      "  Machine  Type de tache  Duree   \\\n",
      "0     DEB  Débranchement      15   \n",
      "1     FOR      Formation      15   \n",
      "2     DEG       Dégarage      15   \n",
      "\n",
      "                                  Indisponibilites  \n",
      "0  (1,05:00-13:00);(6,13:00-21:00);(7,13:00-21:00)  \n",
      "1  (1,05:00-13:00);(6,13:00-21:00);(7,13:00-21:00)  \n",
      "2  (1,05:00-13:00);(6,13:00-21:00);(7,13:00-21:00)  \n",
      "feuille Sillons arrivee :\n",
      "     n°TRAIN   HARR        JARR\n",
      "0     412202  20:48  08/08/2022\n",
      "1     431018  13:21  08/08/2022\n",
      "2     431246  11:04  08/08/2022\n",
      "3      44951  18:50  08/08/2022\n",
      "4     450237  11:47  08/08/2022\n",
      "..       ...    ...         ...\n",
      "106    55396  07:45  13/08/2022\n",
      "107    56135  21:28  13/08/2022\n",
      "108    56730  02:32  13/08/2022\n",
      "109    58706  21:15  13/08/2022\n",
      "110    56730  02:35  14/08/2022\n",
      "\n",
      "[111 rows x 3 columns]\n",
      "feuille Sillons depart :\n",
      "     n°TRAIN   HDEP        JDEP\n",
      "0     400006  15:46  09/08/2022\n",
      "1     400016  22:46  09/08/2022\n",
      "2     400110  20:57  09/08/2022\n",
      "3     431035  15:02  09/08/2022\n",
      "4     431091  06:19  09/08/2022\n",
      "..       ...    ...         ...\n",
      "101   431091  06:19  16/08/2022\n",
      "102   489044  02:10  16/08/2022\n",
      "103    54051  05:34  16/08/2022\n",
      "104   412124  03:13  17/08/2022\n",
      "105   431113  11:00  17/08/2022\n",
      "\n",
      "[106 rows x 3 columns]\n",
      "feuille Correspondances :\n",
      "     Id wagon Jour arrivee  n°Train arrivee Jour depart  n°Train depart\n",
      "0          48   09/08/2022           431802  10/08/2022           54003\n",
      "1          49   10/08/2022           431802  11/08/2022           54003\n",
      "2          50   11/08/2022           431802  12/08/2022           54003\n",
      "3          51   12/08/2022           431802  15/08/2022           54003\n",
      "4          52   09/08/2022            58706  10/08/2022          400014\n",
      "..        ...          ...              ...         ...             ...\n",
      "333      4094   12/08/2022            58706  13/08/2022           44241\n",
      "334      4095   12/08/2022            41264  13/08/2022           47237\n",
      "335      4096   13/08/2022            55396  14/08/2022           44559\n",
      "336      4097   13/08/2022            55390  14/08/2022           44247\n",
      "337      4098   13/08/2022            55390  14/08/2022           47820\n",
      "\n",
      "[338 rows x 5 columns]\n",
      "feuille Taches humaines :\n",
      "  Type de train            Type de tache humaine Lien machine  Durée Chantier  \\\n",
      "0           ARR                arrivée Reception          NaN     15  WPY_REC   \n",
      "1           ARR                  préparation tri          NaN     45  WPY_REC   \n",
      "2           ARR                    débranchement         DEB=     15  WPY_REC   \n",
      "3           DEP  appui voie + mise en place câle         FOR=     15  WPY_FOR   \n",
      "4           DEP               attelage véhicules          NaN    150  WPY_FOR   \n",
      "5           DEP        dégarage / bouger de rame         DEG=     15  WPY_FOR   \n",
      "6           DEP            essai de frein départ          NaN     20  WPY_DEP   \n",
      "\n",
      "   Ordre  \n",
      "0      1  \n",
      "1      2  \n",
      "2      3  \n",
      "3      1  \n",
      "4      2  \n",
      "5      3  \n",
      "6      4  \n",
      "feuille Roulements agents :\n",
      "                    Roulement Jours de la semaine  Nombre agents  \\\n",
      "0         roulement_reception       1;2;3;4;5;6;7              6   \n",
      "1         roulement_formation       1;2;3;4;5;6;7              8   \n",
      "2            roulement_depart       1;2;3;4;5;6;7              2   \n",
      "3  roulement_reception_depart           1;2;3;4;5              1   \n",
      "4  roulement_formation_depart       1;2;3;4;5;6;7              7   \n",
      "\n",
      "                       Cycles horaires Connaissances chantiers  \n",
      "0  05:00-13:00;13:00-21:00;21:00-05:00                 WPY_REC  \n",
      "1  05:00-13:00;13:00-21:00;21:00-05:00                 WPY_FOR  \n",
      "2  05:00-13:00;13:00-21:00;21:00-05:00                 WPY_DEP  \n",
      "3              22:00-06:00;09:00-17:00         WPY_REC;WPY_DEP  \n",
      "4  05:00-13:00;13:00-21:00;21:00-05:00         WPY_FOR;WPY_DEP  \n"
     ]
    }
   ],
   "source": [
    "dfs = u.data_open(\"./instance_WPY_realiste_jalon2.xlsx\")\n",
    "\n",
    "for sheet in dfs:\n",
    "    print(f\"feuille {sheet} :\")\n",
    "    print(dfs[sheet])\n",
    "    "
   ]
  },
  {
   "cell_type": "code",
   "execution_count": 9,
   "metadata": {},
   "outputs": [
    {
     "name": "stdout",
     "output_type": "stream",
     "text": [
      "Chantiers\n",
      "Machines\n",
      "Sillons arrivee\n",
      "Sillons depart\n",
      "Correspondances\n",
      "Taches humaines\n",
      "Roulements agents\n"
     ]
    }
   ],
   "source": [
    "for s in dfs :\n",
    "    print(s)"
   ]
  },
  {
   "cell_type": "code",
   "execution_count": 6,
   "metadata": {},
   "outputs": [
    {
     "name": "stdout",
     "output_type": "stream",
     "text": [
      "[1 2 3 4 5 6 7]\n"
     ]
    }
   ],
   "source": [
    "print(dfs['Correspondances']['Id wagon'].unique())"
   ]
  }
 ],
 "metadata": {
  "kernelspec": {
   "display_name": "transport",
   "language": "python",
   "name": "python3"
  },
  "language_info": {
   "codemirror_mode": {
    "name": "ipython",
    "version": 3
   },
   "file_extension": ".py",
   "mimetype": "text/x-python",
   "name": "python",
   "nbconvert_exporter": "python",
   "pygments_lexer": "ipython3",
   "version": "3.11.11"
  }
 },
 "nbformat": 4,
 "nbformat_minor": 2
}
