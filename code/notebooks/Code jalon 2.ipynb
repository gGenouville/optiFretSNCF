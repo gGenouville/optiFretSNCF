{
 "cells": [
  {
   "cell_type": "code",
   "execution_count": 1,
   "metadata": {},
   "outputs": [],
   "source": [
    "import os\n",
    "import sys\n",
    "from gurobipy import *\n",
    "import pandas as pd\n",
    "import numpy as np\n",
    "import itertools\n",
    "import datetime\n",
    "import plotly.express as px\n",
    "import matplotlib.pyplot as plt\n",
    "import matplotlib.dates as mdates\n",
    "\n",
    "module_path = os.path.abspath(\"..\")\n",
    "sys.path.append(module_path)\n",
    "from module.modele2 import init_model, init_model2\n",
    "from module.visualisation2 import (\n",
    "    visualisation_gantt,\n",
    "    visualisation_occupation\n",
    ")\n",
    "from module.parser import (\n",
    "    lightning_mcqueen_parser,\n",
    "    ecriture_donnees_sortie\n",
    ")\n",
    "from module.constants import Constantes,Taches"
   ]
  },
  {
   "cell_type": "code",
   "execution_count": 2,
   "metadata": {},
   "outputs": [],
   "source": [
    "# Charger le fichier Excel\n",
    "\n",
    "id_file = 3\n",
    "\n",
    "if id_file == 0:\n",
    "    file = \"mini_instance.xlsx\"\n",
    "elif id_file == 1:    \n",
    "    file = \"instance_WPY_realiste_jalon1.xlsx\"\n",
    "elif id_file == 2:\n",
    "    file = \"instance_WPY_realiste_jalon2.xlsx\"\n",
    "elif id_file == 3:\n",
    "    file = \"instance_WPY_simple.xlsx\"\n",
    "else:\n",
    "    raise ValueError(f\"Erreur : '{id_file}' n'est pas une valeur acceptable. Choisissez parmi 0, 1, 2 et 3.\")\n",
    "\n",
    "(\n",
    "    temps_min,\n",
    "    temps_max,\n",
    "    monday,\n",
    "    nb_roulements,\n",
    "    #\n",
    "    df_sillons_arr,\n",
    "    df_sillons_dep,\n",
    "    df_correspondance,\n",
    "    df_chantiers,\n",
    "    df_machines,\n",
    "    df_roulement_agent,\n",
    "    df_taches_humaines,\n",
    "    #\n",
    "    t_a,\n",
    "    t_d,\n",
    "    D,\n",
    "    limites_chantiers,\n",
    "    limites_machines,\n",
    "    limites_voies,\n",
    "    max_agents_sur_roulement,\n",
    "    equip,\n",
    "    h_deb,\n",
    "    nb_cycles_agents,\n",
    "    nb_cycle_jour,\n",
    "    comp_arr,\n",
    "    comp_dep,\n",
    "    ) = lightning_mcqueen_parser(file)\n",
    "\n",
    "time_base=Constantes.BASE_TIME\n",
    "\n",
    "#Initialisation de l'intervalle de temps étudié\n",
    "t_min=0\n",
    "t_max=int(temps_max)\n",
    "#print(t_max//15+1)\n",
    "\n",
    "# Vérification finale\n",
    "#print(\"Vérification du contenu final de t_a :\")\n",
    "#for key, value in t_a.items():\n",
    "#    print(f\"Le train {key} arrive en gare de Woippy au bout de {value} minutes\")\n",
    "\n",
    "#print(\"Vérification du contenu final de t_d :\")\n",
    "#for key, value in t_d.items():\n",
    "#    print(f\"Le train {key} part de la gare de Woippy au bout de {value} minutes\")\n",
    "#print(D)\n",
    "\n",
    "temps_min = 0\n",
    "temps_max = int(temps_max//15+1) #passage en quinzaines de minutes\n",
    "#print(nb_cycles_agents)\n",
    "#print(h_deb)\n",
    "\n",
    "#print(comp(file))\n",
    "\n",
    "\n",
    "liste_id_train_arrivee=t_a.keys()\n",
    "liste_id_train_depart=t_d.keys()"
   ]
  },
  {
   "cell_type": "code",
   "execution_count": 3,
   "metadata": {},
   "outputs": [
    {
     "name": "stdout",
     "output_type": "stream",
     "text": [
      "Set parameter Username\n",
      "Set parameter LicenseID to value 2618972\n",
      "Academic license - for non-commercial use only - expires 2026-02-06\n"
     ]
    },
    {
     "name": "stderr",
     "output_type": "stream",
     "text": [
      "Contrainte assurant la succession des tâches sur les trains d'arrivée: 100%|██████████| 18/18 [00:00<00:00, 3952.75it/s]\n",
      "Contrainte assurant la succession des tâches sur les trains de départ: 100%|██████████| 18/18 [00:00<00:00, 8961.12it/s]\n",
      "Contrainte assurant qu'il n'y a qu'un train niveau de la machine DEB: 100%|██████████| 18/18 [00:00<00:00, 1979.48it/s]\n",
      "Contrainte assurant qu'il n'y a qu'un train niveau des machines FOR et DEG: 100%|██████████| 2/2 [00:00<00:00, 55.27it/s]\n",
      "Contrainte de fermeture de la machine DEB: 100%|██████████| 18/18 [00:00<00:00, 1230.66it/s]\n",
      "Contrainte de fermeture de la machine FOR: 100%|██████████| 18/18 [00:00<?, ?it/s]\n",
      "Contrainte de fermeture de la machine DEG: 100%|██████████| 18/18 [00:00<00:00, 2185.55it/s]\n",
      "Contrainte de fermeture du Chantier FOR: 100%|██████████| 18/18 [00:00<00:00, 918.84it/s]\n",
      "Contrainte assurant la succession des tâches entre les chantiers de REC et FOR: 100%|██████████| 18/18 [00:00<00:00, 4840.51it/s]\n",
      "Contrainte relative au nombre de voies des chantiers: 100%|██████████| 630/630 [00:00<00:00, 8557.12it/s]\n",
      "Contrainte définissant le temps de débranchement du premier wagon d'un train de départ: 100%|██████████| 18/18 [00:00<00:00, 1788.23it/s]\n"
     ]
    }
   ],
   "source": [
    "model,t_arr,t_dep, is_present = init_model(\n",
    "    liste_id_train_arrivee = liste_id_train_arrivee,\n",
    "    t_a = t_a,\n",
    "    liste_id_train_depart = liste_id_train_depart,\n",
    "    t_d = t_d,\n",
    "    dict_correspondances = D,\n",
    "    limites_voies=limites_voies,\n",
    "    temps_max=temps_max,\n",
    "    temps_min=temps_min,\n",
    "    limites_chantiers=limites_chantiers,\n",
    "    limites_machines=limites_machines,\n",
    ")\n"
   ]
  },
  {
   "cell_type": "code",
   "execution_count": 4,
   "metadata": {},
   "outputs": [
    {
     "name": "stdout",
     "output_type": "stream",
     "text": [
      "Ca marche !\n",
      "Tâche 1 - Train A1_08 : <gurobi.Var t (value 40.0)>\n",
      "Tâche 1 - Train A3_08 : <gurobi.Var t (value 88.0)>\n",
      "Tâche 1 - Train A2_08 : <gurobi.Var t (value 46.0)>\n",
      "Tâche 1 - Train A2_09 : <gurobi.Var t (value 142.0)>\n",
      "Tâche 1 - Train A3_09 : <gurobi.Var t (value 184.0)>\n",
      "Tâche 1 - Train A1_09 : <gurobi.Var t (value 136.0)>\n",
      "Tâche 1 - Train A3_10 : <gurobi.Var t (value 280.0)>\n",
      "Tâche 1 - Train A1_10 : <gurobi.Var t (value 232.0)>\n",
      "Tâche 1 - Train A2_10 : <gurobi.Var t (value 238.0)>\n",
      "Tâche 1 - Train A2_11 : <gurobi.Var t (value 334.0)>\n",
      "Tâche 1 - Train A1_11 : <gurobi.Var t (value 328.0)>\n",
      "Tâche 1 - Train A3_11 : <gurobi.Var t (value 376.0)>\n",
      "Tâche 1 - Train A2_12 : <gurobi.Var t (value 430.0)>\n",
      "Tâche 1 - Train A3_12 : <gurobi.Var t (value 472.0)>\n",
      "Tâche 1 - Train A1_12 : <gurobi.Var t (value 424.0)>\n",
      "Tâche 1 - Train A3_13 : <gurobi.Var t (value 568.0)>\n",
      "Tâche 1 - Train A4_13 : <gurobi.Var t (value 515.0)>\n",
      "Tâche 1 - Train A4_14 : <gurobi.Var t (value 611.0)>\n",
      "Tâche 2 - Train A1_08 : <gurobi.Var t (value 41.0)>\n",
      "Tâche 2 - Train A3_08 : <gurobi.Var t (value 89.0)>\n",
      "Tâche 2 - Train A2_08 : <gurobi.Var t (value 47.0)>\n",
      "Tâche 2 - Train A2_09 : <gurobi.Var t (value 143.0)>\n",
      "Tâche 2 - Train A3_09 : <gurobi.Var t (value 185.0)>\n",
      "Tâche 2 - Train A1_09 : <gurobi.Var t (value 137.0)>\n",
      "Tâche 2 - Train A3_10 : <gurobi.Var t (value 281.0)>\n",
      "Tâche 2 - Train A1_10 : <gurobi.Var t (value 233.0)>\n",
      "Tâche 2 - Train A2_10 : <gurobi.Var t (value 239.0)>\n",
      "Tâche 2 - Train A2_11 : <gurobi.Var t (value 335.0)>\n",
      "Tâche 2 - Train A1_11 : <gurobi.Var t (value 329.0)>\n",
      "Tâche 2 - Train A3_11 : <gurobi.Var t (value 377.0)>\n",
      "Tâche 2 - Train A2_12 : <gurobi.Var t (value 431.0)>\n",
      "Tâche 2 - Train A3_12 : <gurobi.Var t (value 473.0)>\n",
      "Tâche 2 - Train A1_12 : <gurobi.Var t (value 425.0)>\n",
      "Tâche 2 - Train A3_13 : <gurobi.Var t (value 569.0)>\n",
      "Tâche 2 - Train A4_13 : <gurobi.Var t (value 516.0)>\n",
      "Tâche 2 - Train A4_14 : <gurobi.Var t (value 612.0)>\n",
      "Tâche 3 - Train A1_08 : <gurobi.Var t (value 53.0)>\n",
      "Tâche 3 - Train A3_08 : <gurobi.Var t (value 92.0)>\n",
      "Tâche 3 - Train A2_08 : <gurobi.Var t (value 52.0)>\n",
      "Tâche 3 - Train A2_09 : <gurobi.Var t (value 146.0)>\n",
      "Tâche 3 - Train A3_09 : <gurobi.Var t (value 188.0)>\n",
      "Tâche 3 - Train A1_09 : <gurobi.Var t (value 140.0)>\n",
      "Tâche 3 - Train A3_10 : <gurobi.Var t (value 284.0)>\n",
      "Tâche 3 - Train A1_10 : <gurobi.Var t (value 236.0)>\n",
      "Tâche 3 - Train A2_10 : <gurobi.Var t (value 242.0)>\n",
      "Tâche 3 - Train A2_11 : <gurobi.Var t (value 338.0)>\n",
      "Tâche 3 - Train A1_11 : <gurobi.Var t (value 332.0)>\n",
      "Tâche 3 - Train A3_11 : <gurobi.Var t (value 380.0)>\n",
      "Tâche 3 - Train A2_12 : <gurobi.Var t (value 434.0)>\n",
      "Tâche 3 - Train A3_12 : <gurobi.Var t (value 476.0)>\n",
      "Tâche 3 - Train A1_12 : <gurobi.Var t (value 428.0)>\n",
      "Tâche 3 - Train A3_13 : <gurobi.Var t (value 572.0)>\n",
      "Tâche 3 - Train A4_13 : <gurobi.Var t (value 519.0)>\n",
      "Tâche 3 - Train A4_14 : <gurobi.Var t (value 615.0)>\n",
      "Tâche 1 - Train D1_08 : <gurobi.Var t (value 58.0)>\n",
      "Tâche 1 - Train D2_08 : <gurobi.Var t (value 78.0)>\n",
      "Tâche 1 - Train D1_09 : <gurobi.Var t (value 154.0)>\n",
      "Tâche 1 - Train D3_09 : <gurobi.Var t (value 98.0)>\n",
      "Tâche 1 - Train D2_09 : <gurobi.Var t (value 174.0)>\n",
      "Tâche 1 - Train D1_10 : <gurobi.Var t (value 250.0)>\n",
      "Tâche 1 - Train D2_10 : <gurobi.Var t (value 270.0)>\n",
      "Tâche 1 - Train D3_10 : <gurobi.Var t (value 194.0)>\n",
      "Tâche 1 - Train D3_11 : <gurobi.Var t (value 290.0)>\n",
      "Tâche 1 - Train D1_11 : <gurobi.Var t (value 346.0)>\n",
      "Tâche 1 - Train D2_11 : <gurobi.Var t (value 366.0)>\n",
      "Tâche 1 - Train D2_12 : <gurobi.Var t (value 436.0)>\n",
      "Tâche 1 - Train D1_12 : <gurobi.Var t (value 435.0)>\n",
      "Tâche 1 - Train D3_12 : <gurobi.Var t (value 386.0)>\n",
      "Tâche 1 - Train D3_13 : <gurobi.Var t (value 482.0)>\n",
      "Tâche 1 - Train D4_13 : <gurobi.Var t (value 520.0)>\n",
      "Tâche 1 - Train D3_14 : <gurobi.Var t (value 578.0)>\n",
      "Tâche 1 - Train D4_14 : <gurobi.Var t (value 616.0)>\n",
      "Tâche 2 - Train D1_08 : <gurobi.Var t (value 59.0)>\n",
      "Tâche 2 - Train D2_08 : <gurobi.Var t (value 79.0)>\n",
      "Tâche 2 - Train D1_09 : <gurobi.Var t (value 155.0)>\n",
      "Tâche 2 - Train D3_09 : <gurobi.Var t (value 99.0)>\n",
      "Tâche 2 - Train D2_09 : <gurobi.Var t (value 175.0)>\n",
      "Tâche 2 - Train D1_10 : <gurobi.Var t (value 251.0)>\n",
      "Tâche 2 - Train D2_10 : <gurobi.Var t (value 271.0)>\n",
      "Tâche 2 - Train D3_10 : <gurobi.Var t (value 195.0)>\n",
      "Tâche 2 - Train D3_11 : <gurobi.Var t (value 291.0)>\n",
      "Tâche 2 - Train D1_11 : <gurobi.Var t (value 347.0)>\n",
      "Tâche 2 - Train D2_11 : <gurobi.Var t (value 367.0)>\n",
      "Tâche 2 - Train D2_12 : <gurobi.Var t (value 463.0)>\n",
      "Tâche 2 - Train D1_12 : <gurobi.Var t (value 443.0)>\n",
      "Tâche 2 - Train D3_12 : <gurobi.Var t (value 387.0)>\n",
      "Tâche 2 - Train D3_13 : <gurobi.Var t (value 483.0)>\n",
      "Tâche 2 - Train D4_13 : <gurobi.Var t (value 521.0)>\n",
      "Tâche 2 - Train D3_14 : <gurobi.Var t (value 579.0)>\n",
      "Tâche 2 - Train D4_14 : <gurobi.Var t (value 617.0)>\n",
      "Tâche 3 - Train D1_08 : <gurobi.Var t (value 69.0)>\n",
      "Tâche 3 - Train D2_08 : <gurobi.Var t (value 89.0)>\n",
      "Tâche 3 - Train D1_09 : <gurobi.Var t (value 165.0)>\n",
      "Tâche 3 - Train D3_09 : <gurobi.Var t (value 109.0)>\n",
      "Tâche 3 - Train D2_09 : <gurobi.Var t (value 185.0)>\n",
      "Tâche 3 - Train D1_10 : <gurobi.Var t (value 261.0)>\n",
      "Tâche 3 - Train D2_10 : <gurobi.Var t (value 281.0)>\n",
      "Tâche 3 - Train D3_10 : <gurobi.Var t (value 205.0)>\n",
      "Tâche 3 - Train D3_11 : <gurobi.Var t (value 301.0)>\n",
      "Tâche 3 - Train D1_11 : <gurobi.Var t (value 357.0)>\n",
      "Tâche 3 - Train D2_11 : <gurobi.Var t (value 377.0)>\n",
      "Tâche 3 - Train D2_12 : <gurobi.Var t (value 473.0)>\n",
      "Tâche 3 - Train D1_12 : <gurobi.Var t (value 453.0)>\n",
      "Tâche 3 - Train D3_12 : <gurobi.Var t (value 397.0)>\n",
      "Tâche 3 - Train D3_13 : <gurobi.Var t (value 493.0)>\n",
      "Tâche 3 - Train D4_13 : <gurobi.Var t (value 569.0)>\n",
      "Tâche 3 - Train D3_14 : <gurobi.Var t (value 589.0)>\n",
      "Tâche 3 - Train D4_14 : <gurobi.Var t (value 665.0)>\n",
      "Tâche 4 - Train D1_08 : <gurobi.Var t (value 70.0)>\n",
      "Tâche 4 - Train D2_08 : <gurobi.Var t (value 90.0)>\n",
      "Tâche 4 - Train D1_09 : <gurobi.Var t (value 166.0)>\n",
      "Tâche 4 - Train D3_09 : <gurobi.Var t (value 110.0)>\n",
      "Tâche 4 - Train D2_09 : <gurobi.Var t (value 186.0)>\n",
      "Tâche 4 - Train D1_10 : <gurobi.Var t (value 262.0)>\n",
      "Tâche 4 - Train D2_10 : <gurobi.Var t (value 282.0)>\n",
      "Tâche 4 - Train D3_10 : <gurobi.Var t (value 206.0)>\n",
      "Tâche 4 - Train D3_11 : <gurobi.Var t (value 302.0)>\n",
      "Tâche 4 - Train D1_11 : <gurobi.Var t (value 358.0)>\n",
      "Tâche 4 - Train D2_11 : <gurobi.Var t (value 378.0)>\n",
      "Tâche 4 - Train D2_12 : <gurobi.Var t (value 474.0)>\n",
      "Tâche 4 - Train D1_12 : <gurobi.Var t (value 454.0)>\n",
      "Tâche 4 - Train D3_12 : <gurobi.Var t (value 398.0)>\n",
      "Tâche 4 - Train D3_13 : <gurobi.Var t (value 494.0)>\n",
      "Tâche 4 - Train D4_13 : <gurobi.Var t (value 570.0)>\n",
      "Tâche 4 - Train D3_14 : <gurobi.Var t (value 590.0)>\n",
      "Tâche 4 - Train D4_14 : <gurobi.Var t (value 666.0)>\n",
      "La valeur objectif est : 1.999999670847318\n"
     ]
    }
   ],
   "source": [
    "model.optimize()\n",
    "\n",
    "if model.status == GRB.INFEASIBLE:\n",
    "    print(\"Le modèle n'a pas de solution\")\n",
    "elif model.status == GRB.UNBOUNDED:\n",
    "    print(\"Le modèle est non borné\")\n",
    "else:\n",
    "    print(\"Ca marche !\")\n",
    "    for (m, n), var in t_arr.items():\n",
    "        print(f\"Tâche {m} - Train {n} : {var}\")\n",
    "    for (m, n), var in t_dep.items():\n",
    "        print(f\"Tâche {m} - Train {n} : {var}\")\n",
    "    print('La valeur objectif est :', model.objVal)"
   ]
  },
  {
   "cell_type": "code",
   "execution_count": 5,
   "metadata": {},
   "outputs": [
    {
     "data": {
      "application/vnd.plotly.v1+json": {
       "config": {
        "plotlyServerURL": "https://plot.ly"
       },
       "data": [
        {
         "base": [
          "2022-08-08T10:00:00.000000000",
          "2022-08-08T10:15:00.000000000",
          "2022-08-08T13:15:00.000000000"
         ],
         "hovertemplate": "Train=A1_08<br>Start=%{base}<br>Finish=%{x}<br>Tâches=%{y}<extra></extra>",
         "legendgroup": "A1_08",
         "marker": {
          "color": "#636efa",
          "pattern": {
           "shape": ""
          }
         },
         "name": "A1_08",
         "orientation": "h",
         "showlegend": true,
         "textposition": "auto",
         "type": "bar",
         "x": {
          "bdata": "oLsNAOAyKQCguw0A",
          "dtype": "i4"
         },
         "xaxis": "x",
         "y": [
          "arr_1",
          "arr_2",
          "arr_3"
         ],
         "yaxis": "y"
        },
        {
         "base": [
          "2022-08-08T22:00:00.000000000",
          "2022-08-08T22:15:00.000000000",
          "2022-08-08T23:00:00.000000000"
         ],
         "hovertemplate": "Train=A3_08<br>Start=%{base}<br>Finish=%{x}<br>Tâches=%{y}<extra></extra>",
         "legendgroup": "A3_08",
         "marker": {
          "color": "#EF553B",
          "pattern": {
           "shape": ""
          }
         },
         "name": "A3_08",
         "orientation": "h",
         "showlegend": true,
         "textposition": "auto",
         "type": "bar",
         "x": {
          "bdata": "oLsNAOAyKQCguw0A",
          "dtype": "i4"
         },
         "xaxis": "x",
         "y": [
          "arr_1",
          "arr_2",
          "arr_3"
         ],
         "yaxis": "y"
        },
        {
         "base": [
          "2022-08-08T11:30:00.000000000",
          "2022-08-08T11:45:00.000000000",
          "2022-08-08T13:00:00.000000000"
         ],
         "hovertemplate": "Train=A2_08<br>Start=%{base}<br>Finish=%{x}<br>Tâches=%{y}<extra></extra>",
         "legendgroup": "A2_08",
         "marker": {
          "color": "#00cc96",
          "pattern": {
           "shape": ""
          }
         },
         "name": "A2_08",
         "orientation": "h",
         "showlegend": true,
         "textposition": "auto",
         "type": "bar",
         "x": {
          "bdata": "oLsNAOAyKQCguw0A",
          "dtype": "i4"
         },
         "xaxis": "x",
         "y": [
          "arr_1",
          "arr_2",
          "arr_3"
         ],
         "yaxis": "y"
        },
        {
         "base": [
          "2022-08-09T11:30:00.000000000",
          "2022-08-09T11:45:00.000000000",
          "2022-08-09T12:30:00.000000000"
         ],
         "hovertemplate": "Train=A2_09<br>Start=%{base}<br>Finish=%{x}<br>Tâches=%{y}<extra></extra>",
         "legendgroup": "A2_09",
         "marker": {
          "color": "#ab63fa",
          "pattern": {
           "shape": ""
          }
         },
         "name": "A2_09",
         "orientation": "h",
         "showlegend": true,
         "textposition": "auto",
         "type": "bar",
         "x": {
          "bdata": "oLsNAOAyKQCguw0A",
          "dtype": "i4"
         },
         "xaxis": "x",
         "y": [
          "arr_1",
          "arr_2",
          "arr_3"
         ],
         "yaxis": "y"
        },
        {
         "base": [
          "2022-08-09T22:00:00.000000000",
          "2022-08-09T22:15:00.000000000",
          "2022-08-09T23:00:00.000000000"
         ],
         "hovertemplate": "Train=A3_09<br>Start=%{base}<br>Finish=%{x}<br>Tâches=%{y}<extra></extra>",
         "legendgroup": "A3_09",
         "marker": {
          "color": "#FFA15A",
          "pattern": {
           "shape": ""
          }
         },
         "name": "A3_09",
         "orientation": "h",
         "showlegend": true,
         "textposition": "auto",
         "type": "bar",
         "x": {
          "bdata": "oLsNAOAyKQCguw0A",
          "dtype": "i4"
         },
         "xaxis": "x",
         "y": [
          "arr_1",
          "arr_2",
          "arr_3"
         ],
         "yaxis": "y"
        },
        {
         "base": [
          "2022-08-09T10:00:00.000000000",
          "2022-08-09T10:15:00.000000000",
          "2022-08-09T11:00:00.000000000"
         ],
         "hovertemplate": "Train=A1_09<br>Start=%{base}<br>Finish=%{x}<br>Tâches=%{y}<extra></extra>",
         "legendgroup": "A1_09",
         "marker": {
          "color": "#19d3f3",
          "pattern": {
           "shape": ""
          }
         },
         "name": "A1_09",
         "orientation": "h",
         "showlegend": true,
         "textposition": "auto",
         "type": "bar",
         "x": {
          "bdata": "oLsNAOAyKQCguw0A",
          "dtype": "i4"
         },
         "xaxis": "x",
         "y": [
          "arr_1",
          "arr_2",
          "arr_3"
         ],
         "yaxis": "y"
        },
        {
         "base": [
          "2022-08-10T22:00:00.000000000",
          "2022-08-10T22:15:00.000000000",
          "2022-08-10T23:00:00.000000000"
         ],
         "hovertemplate": "Train=A3_10<br>Start=%{base}<br>Finish=%{x}<br>Tâches=%{y}<extra></extra>",
         "legendgroup": "A3_10",
         "marker": {
          "color": "#FF6692",
          "pattern": {
           "shape": ""
          }
         },
         "name": "A3_10",
         "orientation": "h",
         "showlegend": true,
         "textposition": "auto",
         "type": "bar",
         "x": {
          "bdata": "oLsNAOAyKQCguw0A",
          "dtype": "i4"
         },
         "xaxis": "x",
         "y": [
          "arr_1",
          "arr_2",
          "arr_3"
         ],
         "yaxis": "y"
        },
        {
         "base": [
          "2022-08-10T10:00:00.000000000",
          "2022-08-10T10:15:00.000000000",
          "2022-08-10T11:00:00.000000000"
         ],
         "hovertemplate": "Train=A1_10<br>Start=%{base}<br>Finish=%{x}<br>Tâches=%{y}<extra></extra>",
         "legendgroup": "A1_10",
         "marker": {
          "color": "#B6E880",
          "pattern": {
           "shape": ""
          }
         },
         "name": "A1_10",
         "orientation": "h",
         "showlegend": true,
         "textposition": "auto",
         "type": "bar",
         "x": {
          "bdata": "oLsNAOAyKQCguw0A",
          "dtype": "i4"
         },
         "xaxis": "x",
         "y": [
          "arr_1",
          "arr_2",
          "arr_3"
         ],
         "yaxis": "y"
        },
        {
         "base": [
          "2022-08-10T11:30:00.000000000",
          "2022-08-10T11:45:00.000000000",
          "2022-08-10T12:30:00.000000000"
         ],
         "hovertemplate": "Train=A2_10<br>Start=%{base}<br>Finish=%{x}<br>Tâches=%{y}<extra></extra>",
         "legendgroup": "A2_10",
         "marker": {
          "color": "#FF97FF",
          "pattern": {
           "shape": ""
          }
         },
         "name": "A2_10",
         "orientation": "h",
         "showlegend": true,
         "textposition": "auto",
         "type": "bar",
         "x": {
          "bdata": "oLsNAOAyKQCguw0A",
          "dtype": "i4"
         },
         "xaxis": "x",
         "y": [
          "arr_1",
          "arr_2",
          "arr_3"
         ],
         "yaxis": "y"
        },
        {
         "base": [
          "2022-08-11T11:30:00.000000000",
          "2022-08-11T11:45:00.000000000",
          "2022-08-11T12:30:00.000000000"
         ],
         "hovertemplate": "Train=A2_11<br>Start=%{base}<br>Finish=%{x}<br>Tâches=%{y}<extra></extra>",
         "legendgroup": "A2_11",
         "marker": {
          "color": "#FECB52",
          "pattern": {
           "shape": ""
          }
         },
         "name": "A2_11",
         "orientation": "h",
         "showlegend": true,
         "textposition": "auto",
         "type": "bar",
         "x": {
          "bdata": "oLsNAOAyKQCguw0A",
          "dtype": "i4"
         },
         "xaxis": "x",
         "y": [
          "arr_1",
          "arr_2",
          "arr_3"
         ],
         "yaxis": "y"
        },
        {
         "base": [
          "2022-08-11T10:00:00.000000000",
          "2022-08-11T10:15:00.000000000",
          "2022-08-11T11:00:00.000000000"
         ],
         "hovertemplate": "Train=A1_11<br>Start=%{base}<br>Finish=%{x}<br>Tâches=%{y}<extra></extra>",
         "legendgroup": "A1_11",
         "marker": {
          "color": "#636efa",
          "pattern": {
           "shape": ""
          }
         },
         "name": "A1_11",
         "orientation": "h",
         "showlegend": true,
         "textposition": "auto",
         "type": "bar",
         "x": {
          "bdata": "oLsNAOAyKQCguw0A",
          "dtype": "i4"
         },
         "xaxis": "x",
         "y": [
          "arr_1",
          "arr_2",
          "arr_3"
         ],
         "yaxis": "y"
        },
        {
         "base": [
          "2022-08-11T22:00:00.000000000",
          "2022-08-11T22:15:00.000000000",
          "2022-08-11T23:00:00.000000000"
         ],
         "hovertemplate": "Train=A3_11<br>Start=%{base}<br>Finish=%{x}<br>Tâches=%{y}<extra></extra>",
         "legendgroup": "A3_11",
         "marker": {
          "color": "#EF553B",
          "pattern": {
           "shape": ""
          }
         },
         "name": "A3_11",
         "orientation": "h",
         "showlegend": true,
         "textposition": "auto",
         "type": "bar",
         "x": {
          "bdata": "oLsNAOAyKQCguw0A",
          "dtype": "i4"
         },
         "xaxis": "x",
         "y": [
          "arr_1",
          "arr_2",
          "arr_3"
         ],
         "yaxis": "y"
        },
        {
         "base": [
          "2022-08-12T11:30:00.000000000",
          "2022-08-12T11:45:00.000000000",
          "2022-08-12T12:30:00.000000000"
         ],
         "hovertemplate": "Train=A2_12<br>Start=%{base}<br>Finish=%{x}<br>Tâches=%{y}<extra></extra>",
         "legendgroup": "A2_12",
         "marker": {
          "color": "#00cc96",
          "pattern": {
           "shape": ""
          }
         },
         "name": "A2_12",
         "orientation": "h",
         "showlegend": true,
         "textposition": "auto",
         "type": "bar",
         "x": {
          "bdata": "oLsNAOAyKQCguw0A",
          "dtype": "i4"
         },
         "xaxis": "x",
         "y": [
          "arr_1",
          "arr_2",
          "arr_3"
         ],
         "yaxis": "y"
        },
        {
         "base": [
          "2022-08-12T22:00:00.000000000",
          "2022-08-12T22:15:00.000000000",
          "2022-08-12T23:00:00.000000000"
         ],
         "hovertemplate": "Train=A3_12<br>Start=%{base}<br>Finish=%{x}<br>Tâches=%{y}<extra></extra>",
         "legendgroup": "A3_12",
         "marker": {
          "color": "#ab63fa",
          "pattern": {
           "shape": ""
          }
         },
         "name": "A3_12",
         "orientation": "h",
         "showlegend": true,
         "textposition": "auto",
         "type": "bar",
         "x": {
          "bdata": "oLsNAOAyKQCguw0A",
          "dtype": "i4"
         },
         "xaxis": "x",
         "y": [
          "arr_1",
          "arr_2",
          "arr_3"
         ],
         "yaxis": "y"
        },
        {
         "base": [
          "2022-08-12T10:00:00.000000000",
          "2022-08-12T10:15:00.000000000",
          "2022-08-12T11:00:00.000000000"
         ],
         "hovertemplate": "Train=A1_12<br>Start=%{base}<br>Finish=%{x}<br>Tâches=%{y}<extra></extra>",
         "legendgroup": "A1_12",
         "marker": {
          "color": "#FFA15A",
          "pattern": {
           "shape": ""
          }
         },
         "name": "A1_12",
         "orientation": "h",
         "showlegend": true,
         "textposition": "auto",
         "type": "bar",
         "x": {
          "bdata": "oLsNAOAyKQCguw0A",
          "dtype": "i4"
         },
         "xaxis": "x",
         "y": [
          "arr_1",
          "arr_2",
          "arr_3"
         ],
         "yaxis": "y"
        },
        {
         "base": [
          "2022-08-13T22:00:00.000000000",
          "2022-08-13T22:15:00.000000000",
          "2022-08-13T23:00:00.000000000"
         ],
         "hovertemplate": "Train=A3_13<br>Start=%{base}<br>Finish=%{x}<br>Tâches=%{y}<extra></extra>",
         "legendgroup": "A3_13",
         "marker": {
          "color": "#19d3f3",
          "pattern": {
           "shape": ""
          }
         },
         "name": "A3_13",
         "orientation": "h",
         "showlegend": true,
         "textposition": "auto",
         "type": "bar",
         "x": {
          "bdata": "oLsNAOAyKQCguw0A",
          "dtype": "i4"
         },
         "xaxis": "x",
         "y": [
          "arr_1",
          "arr_2",
          "arr_3"
         ],
         "yaxis": "y"
        },
        {
         "base": [
          "2022-08-13T08:45:00.000000000",
          "2022-08-13T09:00:00.000000000",
          "2022-08-13T09:45:00.000000000"
         ],
         "hovertemplate": "Train=A4_13<br>Start=%{base}<br>Finish=%{x}<br>Tâches=%{y}<extra></extra>",
         "legendgroup": "A4_13",
         "marker": {
          "color": "#FF6692",
          "pattern": {
           "shape": ""
          }
         },
         "name": "A4_13",
         "orientation": "h",
         "showlegend": true,
         "textposition": "auto",
         "type": "bar",
         "x": {
          "bdata": "oLsNAOAyKQCguw0A",
          "dtype": "i4"
         },
         "xaxis": "x",
         "y": [
          "arr_1",
          "arr_2",
          "arr_3"
         ],
         "yaxis": "y"
        },
        {
         "base": [
          "2022-08-14T08:45:00.000000000",
          "2022-08-14T09:00:00.000000000",
          "2022-08-14T09:45:00.000000000"
         ],
         "hovertemplate": "Train=A4_14<br>Start=%{base}<br>Finish=%{x}<br>Tâches=%{y}<extra></extra>",
         "legendgroup": "A4_14",
         "marker": {
          "color": "#B6E880",
          "pattern": {
           "shape": ""
          }
         },
         "name": "A4_14",
         "orientation": "h",
         "showlegend": true,
         "textposition": "auto",
         "type": "bar",
         "x": {
          "bdata": "oLsNAOAyKQCguw0A",
          "dtype": "i4"
         },
         "xaxis": "x",
         "y": [
          "arr_1",
          "arr_2",
          "arr_3"
         ],
         "yaxis": "y"
        },
        {
         "base": [
          "2022-08-08T14:30:00.000000000",
          "2022-08-08T14:45:00.000000000",
          "2022-08-08T17:15:00.000000000",
          "2022-08-08T17:30:00.000000000"
         ],
         "hovertemplate": "Train=D1_08<br>Start=%{base}<br>Finish=%{x}<br>Tâches=%{y}<extra></extra>",
         "legendgroup": "D1_08",
         "marker": {
          "color": "#FF97FF",
          "pattern": {
           "shape": ""
          }
         },
         "name": "D1_08",
         "orientation": "h",
         "showlegend": true,
         "textposition": "auto",
         "type": "bar",
         "x": {
          "bdata": "oLsNAEBUiQCguw0AgE8SAA==",
          "dtype": "i4"
         },
         "xaxis": "x",
         "y": [
          "dep_1",
          "dep_2",
          "dep_3",
          "dep_4"
         ],
         "yaxis": "y"
        },
        {
         "base": [
          "2022-08-08T19:30:00.000000000",
          "2022-08-08T19:45:00.000000000",
          "2022-08-08T22:15:00.000000000",
          "2022-08-08T22:30:00.000000000"
         ],
         "hovertemplate": "Train=D2_08<br>Start=%{base}<br>Finish=%{x}<br>Tâches=%{y}<extra></extra>",
         "legendgroup": "D2_08",
         "marker": {
          "color": "#FECB52",
          "pattern": {
           "shape": ""
          }
         },
         "name": "D2_08",
         "orientation": "h",
         "showlegend": true,
         "textposition": "auto",
         "type": "bar",
         "x": {
          "bdata": "oLsNAEBUiQCguw0AgE8SAA==",
          "dtype": "i4"
         },
         "xaxis": "x",
         "y": [
          "dep_1",
          "dep_2",
          "dep_3",
          "dep_4"
         ],
         "yaxis": "y"
        },
        {
         "base": [
          "2022-08-09T14:30:00.000000000",
          "2022-08-09T14:45:00.000000000",
          "2022-08-09T17:15:00.000000000",
          "2022-08-09T17:30:00.000000000"
         ],
         "hovertemplate": "Train=D1_09<br>Start=%{base}<br>Finish=%{x}<br>Tâches=%{y}<extra></extra>",
         "legendgroup": "D1_09",
         "marker": {
          "color": "#636efa",
          "pattern": {
           "shape": ""
          }
         },
         "name": "D1_09",
         "orientation": "h",
         "showlegend": true,
         "textposition": "auto",
         "type": "bar",
         "x": {
          "bdata": "oLsNAEBUiQCguw0AgE8SAA==",
          "dtype": "i4"
         },
         "xaxis": "x",
         "y": [
          "dep_1",
          "dep_2",
          "dep_3",
          "dep_4"
         ],
         "yaxis": "y"
        },
        {
         "base": [
          "2022-08-09T00:30:00.000000000",
          "2022-08-09T00:45:00.000000000",
          "2022-08-09T03:15:00.000000000",
          "2022-08-09T03:30:00.000000000"
         ],
         "hovertemplate": "Train=D3_09<br>Start=%{base}<br>Finish=%{x}<br>Tâches=%{y}<extra></extra>",
         "legendgroup": "D3_09",
         "marker": {
          "color": "#EF553B",
          "pattern": {
           "shape": ""
          }
         },
         "name": "D3_09",
         "orientation": "h",
         "showlegend": true,
         "textposition": "auto",
         "type": "bar",
         "x": {
          "bdata": "oLsNAEBUiQCguw0AgE8SAA==",
          "dtype": "i4"
         },
         "xaxis": "x",
         "y": [
          "dep_1",
          "dep_2",
          "dep_3",
          "dep_4"
         ],
         "yaxis": "y"
        },
        {
         "base": [
          "2022-08-09T19:30:00.000000000",
          "2022-08-09T19:45:00.000000000",
          "2022-08-09T22:15:00.000000000",
          "2022-08-09T22:30:00.000000000"
         ],
         "hovertemplate": "Train=D2_09<br>Start=%{base}<br>Finish=%{x}<br>Tâches=%{y}<extra></extra>",
         "legendgroup": "D2_09",
         "marker": {
          "color": "#00cc96",
          "pattern": {
           "shape": ""
          }
         },
         "name": "D2_09",
         "orientation": "h",
         "showlegend": true,
         "textposition": "auto",
         "type": "bar",
         "x": {
          "bdata": "oLsNAEBUiQCguw0AgE8SAA==",
          "dtype": "i4"
         },
         "xaxis": "x",
         "y": [
          "dep_1",
          "dep_2",
          "dep_3",
          "dep_4"
         ],
         "yaxis": "y"
        },
        {
         "base": [
          "2022-08-10T14:30:00.000000000",
          "2022-08-10T14:45:00.000000000",
          "2022-08-10T17:15:00.000000000",
          "2022-08-10T17:30:00.000000000"
         ],
         "hovertemplate": "Train=D1_10<br>Start=%{base}<br>Finish=%{x}<br>Tâches=%{y}<extra></extra>",
         "legendgroup": "D1_10",
         "marker": {
          "color": "#ab63fa",
          "pattern": {
           "shape": ""
          }
         },
         "name": "D1_10",
         "orientation": "h",
         "showlegend": true,
         "textposition": "auto",
         "type": "bar",
         "x": {
          "bdata": "oLsNAEBUiQCguw0AgE8SAA==",
          "dtype": "i4"
         },
         "xaxis": "x",
         "y": [
          "dep_1",
          "dep_2",
          "dep_3",
          "dep_4"
         ],
         "yaxis": "y"
        },
        {
         "base": [
          "2022-08-10T19:30:00.000000000",
          "2022-08-10T19:45:00.000000000",
          "2022-08-10T22:15:00.000000000",
          "2022-08-10T22:30:00.000000000"
         ],
         "hovertemplate": "Train=D2_10<br>Start=%{base}<br>Finish=%{x}<br>Tâches=%{y}<extra></extra>",
         "legendgroup": "D2_10",
         "marker": {
          "color": "#FFA15A",
          "pattern": {
           "shape": ""
          }
         },
         "name": "D2_10",
         "orientation": "h",
         "showlegend": true,
         "textposition": "auto",
         "type": "bar",
         "x": {
          "bdata": "oLsNAEBUiQCguw0AgE8SAA==",
          "dtype": "i4"
         },
         "xaxis": "x",
         "y": [
          "dep_1",
          "dep_2",
          "dep_3",
          "dep_4"
         ],
         "yaxis": "y"
        },
        {
         "base": [
          "2022-08-10T00:30:00.000000000",
          "2022-08-10T00:45:00.000000000",
          "2022-08-10T03:15:00.000000000",
          "2022-08-10T03:30:00.000000000"
         ],
         "hovertemplate": "Train=D3_10<br>Start=%{base}<br>Finish=%{x}<br>Tâches=%{y}<extra></extra>",
         "legendgroup": "D3_10",
         "marker": {
          "color": "#19d3f3",
          "pattern": {
           "shape": ""
          }
         },
         "name": "D3_10",
         "orientation": "h",
         "showlegend": true,
         "textposition": "auto",
         "type": "bar",
         "x": {
          "bdata": "oLsNAEBUiQCguw0AgE8SAA==",
          "dtype": "i4"
         },
         "xaxis": "x",
         "y": [
          "dep_1",
          "dep_2",
          "dep_3",
          "dep_4"
         ],
         "yaxis": "y"
        },
        {
         "base": [
          "2022-08-11T00:30:00.000000000",
          "2022-08-11T00:45:00.000000000",
          "2022-08-11T03:15:00.000000000",
          "2022-08-11T03:30:00.000000000"
         ],
         "hovertemplate": "Train=D3_11<br>Start=%{base}<br>Finish=%{x}<br>Tâches=%{y}<extra></extra>",
         "legendgroup": "D3_11",
         "marker": {
          "color": "#FF6692",
          "pattern": {
           "shape": ""
          }
         },
         "name": "D3_11",
         "orientation": "h",
         "showlegend": true,
         "textposition": "auto",
         "type": "bar",
         "x": {
          "bdata": "oLsNAEBUiQCguw0AgE8SAA==",
          "dtype": "i4"
         },
         "xaxis": "x",
         "y": [
          "dep_1",
          "dep_2",
          "dep_3",
          "dep_4"
         ],
         "yaxis": "y"
        },
        {
         "base": [
          "2022-08-11T14:30:00.000000000",
          "2022-08-11T14:45:00.000000000",
          "2022-08-11T17:15:00.000000000",
          "2022-08-11T17:30:00.000000000"
         ],
         "hovertemplate": "Train=D1_11<br>Start=%{base}<br>Finish=%{x}<br>Tâches=%{y}<extra></extra>",
         "legendgroup": "D1_11",
         "marker": {
          "color": "#B6E880",
          "pattern": {
           "shape": ""
          }
         },
         "name": "D1_11",
         "orientation": "h",
         "showlegend": true,
         "textposition": "auto",
         "type": "bar",
         "x": {
          "bdata": "oLsNAEBUiQCguw0AgE8SAA==",
          "dtype": "i4"
         },
         "xaxis": "x",
         "y": [
          "dep_1",
          "dep_2",
          "dep_3",
          "dep_4"
         ],
         "yaxis": "y"
        },
        {
         "base": [
          "2022-08-11T19:30:00.000000000",
          "2022-08-11T19:45:00.000000000",
          "2022-08-11T22:15:00.000000000",
          "2022-08-11T22:30:00.000000000"
         ],
         "hovertemplate": "Train=D2_11<br>Start=%{base}<br>Finish=%{x}<br>Tâches=%{y}<extra></extra>",
         "legendgroup": "D2_11",
         "marker": {
          "color": "#FF97FF",
          "pattern": {
           "shape": ""
          }
         },
         "name": "D2_11",
         "orientation": "h",
         "showlegend": true,
         "textposition": "auto",
         "type": "bar",
         "x": {
          "bdata": "oLsNAEBUiQCguw0AgE8SAA==",
          "dtype": "i4"
         },
         "xaxis": "x",
         "y": [
          "dep_1",
          "dep_2",
          "dep_3",
          "dep_4"
         ],
         "yaxis": "y"
        },
        {
         "base": [
          "2022-08-12T13:00:00.000000000",
          "2022-08-12T19:45:00.000000000",
          "2022-08-12T22:15:00.000000000",
          "2022-08-12T22:30:00.000000000"
         ],
         "hovertemplate": "Train=D2_12<br>Start=%{base}<br>Finish=%{x}<br>Tâches=%{y}<extra></extra>",
         "legendgroup": "D2_12",
         "marker": {
          "color": "#FECB52",
          "pattern": {
           "shape": ""
          }
         },
         "name": "D2_12",
         "orientation": "h",
         "showlegend": true,
         "textposition": "auto",
         "type": "bar",
         "x": {
          "bdata": "oLsNAEBUiQCguw0AgE8SAA==",
          "dtype": "i4"
         },
         "xaxis": "x",
         "y": [
          "dep_1",
          "dep_2",
          "dep_3",
          "dep_4"
         ],
         "yaxis": "y"
        },
        {
         "base": [
          "2022-08-12T12:45:00.000000000",
          "2022-08-12T14:45:00.000000000",
          "2022-08-12T17:15:00.000000000",
          "2022-08-12T17:30:00.000000000"
         ],
         "hovertemplate": "Train=D1_12<br>Start=%{base}<br>Finish=%{x}<br>Tâches=%{y}<extra></extra>",
         "legendgroup": "D1_12",
         "marker": {
          "color": "#636efa",
          "pattern": {
           "shape": ""
          }
         },
         "name": "D1_12",
         "orientation": "h",
         "showlegend": true,
         "textposition": "auto",
         "type": "bar",
         "x": {
          "bdata": "oLsNAEBUiQCguw0AgE8SAA==",
          "dtype": "i4"
         },
         "xaxis": "x",
         "y": [
          "dep_1",
          "dep_2",
          "dep_3",
          "dep_4"
         ],
         "yaxis": "y"
        },
        {
         "base": [
          "2022-08-12T00:30:00.000000000",
          "2022-08-12T00:45:00.000000000",
          "2022-08-12T03:15:00.000000000",
          "2022-08-12T03:30:00.000000000"
         ],
         "hovertemplate": "Train=D3_12<br>Start=%{base}<br>Finish=%{x}<br>Tâches=%{y}<extra></extra>",
         "legendgroup": "D3_12",
         "marker": {
          "color": "#EF553B",
          "pattern": {
           "shape": ""
          }
         },
         "name": "D3_12",
         "orientation": "h",
         "showlegend": true,
         "textposition": "auto",
         "type": "bar",
         "x": {
          "bdata": "oLsNAEBUiQCguw0AgE8SAA==",
          "dtype": "i4"
         },
         "xaxis": "x",
         "y": [
          "dep_1",
          "dep_2",
          "dep_3",
          "dep_4"
         ],
         "yaxis": "y"
        },
        {
         "base": [
          "2022-08-13T00:30:00.000000000",
          "2022-08-13T00:45:00.000000000",
          "2022-08-13T03:15:00.000000000",
          "2022-08-13T03:30:00.000000000"
         ],
         "hovertemplate": "Train=D3_13<br>Start=%{base}<br>Finish=%{x}<br>Tâches=%{y}<extra></extra>",
         "legendgroup": "D3_13",
         "marker": {
          "color": "#00cc96",
          "pattern": {
           "shape": ""
          }
         },
         "name": "D3_13",
         "orientation": "h",
         "showlegend": true,
         "textposition": "auto",
         "type": "bar",
         "x": {
          "bdata": "oLsNAEBUiQCguw0AgE8SAA==",
          "dtype": "i4"
         },
         "xaxis": "x",
         "y": [
          "dep_1",
          "dep_2",
          "dep_3",
          "dep_4"
         ],
         "yaxis": "y"
        },
        {
         "base": [
          "2022-08-13T10:00:00.000000000",
          "2022-08-13T10:15:00.000000000",
          "2022-08-13T22:15:00.000000000",
          "2022-08-13T22:30:00.000000000"
         ],
         "hovertemplate": "Train=D4_13<br>Start=%{base}<br>Finish=%{x}<br>Tâches=%{y}<extra></extra>",
         "legendgroup": "D4_13",
         "marker": {
          "color": "#ab63fa",
          "pattern": {
           "shape": ""
          }
         },
         "name": "D4_13",
         "orientation": "h",
         "showlegend": true,
         "textposition": "auto",
         "type": "bar",
         "x": {
          "bdata": "oLsNAEBUiQCguw0AgE8SAA==",
          "dtype": "i4"
         },
         "xaxis": "x",
         "y": [
          "dep_1",
          "dep_2",
          "dep_3",
          "dep_4"
         ],
         "yaxis": "y"
        },
        {
         "base": [
          "2022-08-14T00:30:00.000000000",
          "2022-08-14T00:45:00.000000000",
          "2022-08-14T03:15:00.000000000",
          "2022-08-14T03:30:00.000000000"
         ],
         "hovertemplate": "Train=D3_14<br>Start=%{base}<br>Finish=%{x}<br>Tâches=%{y}<extra></extra>",
         "legendgroup": "D3_14",
         "marker": {
          "color": "#FFA15A",
          "pattern": {
           "shape": ""
          }
         },
         "name": "D3_14",
         "orientation": "h",
         "showlegend": true,
         "textposition": "auto",
         "type": "bar",
         "x": {
          "bdata": "oLsNAEBUiQCguw0AgE8SAA==",
          "dtype": "i4"
         },
         "xaxis": "x",
         "y": [
          "dep_1",
          "dep_2",
          "dep_3",
          "dep_4"
         ],
         "yaxis": "y"
        },
        {
         "base": [
          "2022-08-14T10:00:00.000000000",
          "2022-08-14T10:15:00.000000000",
          "2022-08-14T22:15:00.000000000",
          "2022-08-14T22:30:00.000000000"
         ],
         "hovertemplate": "Train=D4_14<br>Start=%{base}<br>Finish=%{x}<br>Tâches=%{y}<extra></extra>",
         "legendgroup": "D4_14",
         "marker": {
          "color": "#19d3f3",
          "pattern": {
           "shape": ""
          }
         },
         "name": "D4_14",
         "orientation": "h",
         "showlegend": true,
         "textposition": "auto",
         "type": "bar",
         "x": {
          "bdata": "oLsNAEBUiQCguw0AgE8SAA==",
          "dtype": "i4"
         },
         "xaxis": "x",
         "y": [
          "dep_1",
          "dep_2",
          "dep_3",
          "dep_4"
         ],
         "yaxis": "y"
        }
       ],
       "layout": {
        "barmode": "overlay",
        "legend": {
         "title": {
          "text": "Train"
         },
         "tracegroupgap": 0
        },
        "margin": {
         "t": 60
        },
        "template": {
         "data": {
          "bar": [
           {
            "error_x": {
             "color": "#2a3f5f"
            },
            "error_y": {
             "color": "#2a3f5f"
            },
            "marker": {
             "line": {
              "color": "#E5ECF6",
              "width": 0.5
             },
             "pattern": {
              "fillmode": "overlay",
              "size": 10,
              "solidity": 0.2
             }
            },
            "type": "bar"
           }
          ],
          "barpolar": [
           {
            "marker": {
             "line": {
              "color": "#E5ECF6",
              "width": 0.5
             },
             "pattern": {
              "fillmode": "overlay",
              "size": 10,
              "solidity": 0.2
             }
            },
            "type": "barpolar"
           }
          ],
          "carpet": [
           {
            "aaxis": {
             "endlinecolor": "#2a3f5f",
             "gridcolor": "white",
             "linecolor": "white",
             "minorgridcolor": "white",
             "startlinecolor": "#2a3f5f"
            },
            "baxis": {
             "endlinecolor": "#2a3f5f",
             "gridcolor": "white",
             "linecolor": "white",
             "minorgridcolor": "white",
             "startlinecolor": "#2a3f5f"
            },
            "type": "carpet"
           }
          ],
          "choropleth": [
           {
            "colorbar": {
             "outlinewidth": 0,
             "ticks": ""
            },
            "type": "choropleth"
           }
          ],
          "contour": [
           {
            "colorbar": {
             "outlinewidth": 0,
             "ticks": ""
            },
            "colorscale": [
             [
              0,
              "#0d0887"
             ],
             [
              0.1111111111111111,
              "#46039f"
             ],
             [
              0.2222222222222222,
              "#7201a8"
             ],
             [
              0.3333333333333333,
              "#9c179e"
             ],
             [
              0.4444444444444444,
              "#bd3786"
             ],
             [
              0.5555555555555556,
              "#d8576b"
             ],
             [
              0.6666666666666666,
              "#ed7953"
             ],
             [
              0.7777777777777778,
              "#fb9f3a"
             ],
             [
              0.8888888888888888,
              "#fdca26"
             ],
             [
              1,
              "#f0f921"
             ]
            ],
            "type": "contour"
           }
          ],
          "contourcarpet": [
           {
            "colorbar": {
             "outlinewidth": 0,
             "ticks": ""
            },
            "type": "contourcarpet"
           }
          ],
          "heatmap": [
           {
            "colorbar": {
             "outlinewidth": 0,
             "ticks": ""
            },
            "colorscale": [
             [
              0,
              "#0d0887"
             ],
             [
              0.1111111111111111,
              "#46039f"
             ],
             [
              0.2222222222222222,
              "#7201a8"
             ],
             [
              0.3333333333333333,
              "#9c179e"
             ],
             [
              0.4444444444444444,
              "#bd3786"
             ],
             [
              0.5555555555555556,
              "#d8576b"
             ],
             [
              0.6666666666666666,
              "#ed7953"
             ],
             [
              0.7777777777777778,
              "#fb9f3a"
             ],
             [
              0.8888888888888888,
              "#fdca26"
             ],
             [
              1,
              "#f0f921"
             ]
            ],
            "type": "heatmap"
           }
          ],
          "histogram": [
           {
            "marker": {
             "pattern": {
              "fillmode": "overlay",
              "size": 10,
              "solidity": 0.2
             }
            },
            "type": "histogram"
           }
          ],
          "histogram2d": [
           {
            "colorbar": {
             "outlinewidth": 0,
             "ticks": ""
            },
            "colorscale": [
             [
              0,
              "#0d0887"
             ],
             [
              0.1111111111111111,
              "#46039f"
             ],
             [
              0.2222222222222222,
              "#7201a8"
             ],
             [
              0.3333333333333333,
              "#9c179e"
             ],
             [
              0.4444444444444444,
              "#bd3786"
             ],
             [
              0.5555555555555556,
              "#d8576b"
             ],
             [
              0.6666666666666666,
              "#ed7953"
             ],
             [
              0.7777777777777778,
              "#fb9f3a"
             ],
             [
              0.8888888888888888,
              "#fdca26"
             ],
             [
              1,
              "#f0f921"
             ]
            ],
            "type": "histogram2d"
           }
          ],
          "histogram2dcontour": [
           {
            "colorbar": {
             "outlinewidth": 0,
             "ticks": ""
            },
            "colorscale": [
             [
              0,
              "#0d0887"
             ],
             [
              0.1111111111111111,
              "#46039f"
             ],
             [
              0.2222222222222222,
              "#7201a8"
             ],
             [
              0.3333333333333333,
              "#9c179e"
             ],
             [
              0.4444444444444444,
              "#bd3786"
             ],
             [
              0.5555555555555556,
              "#d8576b"
             ],
             [
              0.6666666666666666,
              "#ed7953"
             ],
             [
              0.7777777777777778,
              "#fb9f3a"
             ],
             [
              0.8888888888888888,
              "#fdca26"
             ],
             [
              1,
              "#f0f921"
             ]
            ],
            "type": "histogram2dcontour"
           }
          ],
          "mesh3d": [
           {
            "colorbar": {
             "outlinewidth": 0,
             "ticks": ""
            },
            "type": "mesh3d"
           }
          ],
          "parcoords": [
           {
            "line": {
             "colorbar": {
              "outlinewidth": 0,
              "ticks": ""
             }
            },
            "type": "parcoords"
           }
          ],
          "pie": [
           {
            "automargin": true,
            "type": "pie"
           }
          ],
          "scatter": [
           {
            "fillpattern": {
             "fillmode": "overlay",
             "size": 10,
             "solidity": 0.2
            },
            "type": "scatter"
           }
          ],
          "scatter3d": [
           {
            "line": {
             "colorbar": {
              "outlinewidth": 0,
              "ticks": ""
             }
            },
            "marker": {
             "colorbar": {
              "outlinewidth": 0,
              "ticks": ""
             }
            },
            "type": "scatter3d"
           }
          ],
          "scattercarpet": [
           {
            "marker": {
             "colorbar": {
              "outlinewidth": 0,
              "ticks": ""
             }
            },
            "type": "scattercarpet"
           }
          ],
          "scattergeo": [
           {
            "marker": {
             "colorbar": {
              "outlinewidth": 0,
              "ticks": ""
             }
            },
            "type": "scattergeo"
           }
          ],
          "scattergl": [
           {
            "marker": {
             "colorbar": {
              "outlinewidth": 0,
              "ticks": ""
             }
            },
            "type": "scattergl"
           }
          ],
          "scattermap": [
           {
            "marker": {
             "colorbar": {
              "outlinewidth": 0,
              "ticks": ""
             }
            },
            "type": "scattermap"
           }
          ],
          "scattermapbox": [
           {
            "marker": {
             "colorbar": {
              "outlinewidth": 0,
              "ticks": ""
             }
            },
            "type": "scattermapbox"
           }
          ],
          "scatterpolar": [
           {
            "marker": {
             "colorbar": {
              "outlinewidth": 0,
              "ticks": ""
             }
            },
            "type": "scatterpolar"
           }
          ],
          "scatterpolargl": [
           {
            "marker": {
             "colorbar": {
              "outlinewidth": 0,
              "ticks": ""
             }
            },
            "type": "scatterpolargl"
           }
          ],
          "scatterternary": [
           {
            "marker": {
             "colorbar": {
              "outlinewidth": 0,
              "ticks": ""
             }
            },
            "type": "scatterternary"
           }
          ],
          "surface": [
           {
            "colorbar": {
             "outlinewidth": 0,
             "ticks": ""
            },
            "colorscale": [
             [
              0,
              "#0d0887"
             ],
             [
              0.1111111111111111,
              "#46039f"
             ],
             [
              0.2222222222222222,
              "#7201a8"
             ],
             [
              0.3333333333333333,
              "#9c179e"
             ],
             [
              0.4444444444444444,
              "#bd3786"
             ],
             [
              0.5555555555555556,
              "#d8576b"
             ],
             [
              0.6666666666666666,
              "#ed7953"
             ],
             [
              0.7777777777777778,
              "#fb9f3a"
             ],
             [
              0.8888888888888888,
              "#fdca26"
             ],
             [
              1,
              "#f0f921"
             ]
            ],
            "type": "surface"
           }
          ],
          "table": [
           {
            "cells": {
             "fill": {
              "color": "#EBF0F8"
             },
             "line": {
              "color": "white"
             }
            },
            "header": {
             "fill": {
              "color": "#C8D4E3"
             },
             "line": {
              "color": "white"
             }
            },
            "type": "table"
           }
          ]
         },
         "layout": {
          "annotationdefaults": {
           "arrowcolor": "#2a3f5f",
           "arrowhead": 0,
           "arrowwidth": 1
          },
          "autotypenumbers": "strict",
          "coloraxis": {
           "colorbar": {
            "outlinewidth": 0,
            "ticks": ""
           }
          },
          "colorscale": {
           "diverging": [
            [
             0,
             "#8e0152"
            ],
            [
             0.1,
             "#c51b7d"
            ],
            [
             0.2,
             "#de77ae"
            ],
            [
             0.3,
             "#f1b6da"
            ],
            [
             0.4,
             "#fde0ef"
            ],
            [
             0.5,
             "#f7f7f7"
            ],
            [
             0.6,
             "#e6f5d0"
            ],
            [
             0.7,
             "#b8e186"
            ],
            [
             0.8,
             "#7fbc41"
            ],
            [
             0.9,
             "#4d9221"
            ],
            [
             1,
             "#276419"
            ]
           ],
           "sequential": [
            [
             0,
             "#0d0887"
            ],
            [
             0.1111111111111111,
             "#46039f"
            ],
            [
             0.2222222222222222,
             "#7201a8"
            ],
            [
             0.3333333333333333,
             "#9c179e"
            ],
            [
             0.4444444444444444,
             "#bd3786"
            ],
            [
             0.5555555555555556,
             "#d8576b"
            ],
            [
             0.6666666666666666,
             "#ed7953"
            ],
            [
             0.7777777777777778,
             "#fb9f3a"
            ],
            [
             0.8888888888888888,
             "#fdca26"
            ],
            [
             1,
             "#f0f921"
            ]
           ],
           "sequentialminus": [
            [
             0,
             "#0d0887"
            ],
            [
             0.1111111111111111,
             "#46039f"
            ],
            [
             0.2222222222222222,
             "#7201a8"
            ],
            [
             0.3333333333333333,
             "#9c179e"
            ],
            [
             0.4444444444444444,
             "#bd3786"
            ],
            [
             0.5555555555555556,
             "#d8576b"
            ],
            [
             0.6666666666666666,
             "#ed7953"
            ],
            [
             0.7777777777777778,
             "#fb9f3a"
            ],
            [
             0.8888888888888888,
             "#fdca26"
            ],
            [
             1,
             "#f0f921"
            ]
           ]
          },
          "colorway": [
           "#636efa",
           "#EF553B",
           "#00cc96",
           "#ab63fa",
           "#FFA15A",
           "#19d3f3",
           "#FF6692",
           "#B6E880",
           "#FF97FF",
           "#FECB52"
          ],
          "font": {
           "color": "#2a3f5f"
          },
          "geo": {
           "bgcolor": "white",
           "lakecolor": "white",
           "landcolor": "#E5ECF6",
           "showlakes": true,
           "showland": true,
           "subunitcolor": "white"
          },
          "hoverlabel": {
           "align": "left"
          },
          "hovermode": "closest",
          "mapbox": {
           "style": "light"
          },
          "paper_bgcolor": "white",
          "plot_bgcolor": "#E5ECF6",
          "polar": {
           "angularaxis": {
            "gridcolor": "white",
            "linecolor": "white",
            "ticks": ""
           },
           "bgcolor": "#E5ECF6",
           "radialaxis": {
            "gridcolor": "white",
            "linecolor": "white",
            "ticks": ""
           }
          },
          "scene": {
           "xaxis": {
            "backgroundcolor": "#E5ECF6",
            "gridcolor": "white",
            "gridwidth": 2,
            "linecolor": "white",
            "showbackground": true,
            "ticks": "",
            "zerolinecolor": "white"
           },
           "yaxis": {
            "backgroundcolor": "#E5ECF6",
            "gridcolor": "white",
            "gridwidth": 2,
            "linecolor": "white",
            "showbackground": true,
            "ticks": "",
            "zerolinecolor": "white"
           },
           "zaxis": {
            "backgroundcolor": "#E5ECF6",
            "gridcolor": "white",
            "gridwidth": 2,
            "linecolor": "white",
            "showbackground": true,
            "ticks": "",
            "zerolinecolor": "white"
           }
          },
          "shapedefaults": {
           "line": {
            "color": "#2a3f5f"
           }
          },
          "ternary": {
           "aaxis": {
            "gridcolor": "white",
            "linecolor": "white",
            "ticks": ""
           },
           "baxis": {
            "gridcolor": "white",
            "linecolor": "white",
            "ticks": ""
           },
           "bgcolor": "#E5ECF6",
           "caxis": {
            "gridcolor": "white",
            "linecolor": "white",
            "ticks": ""
           }
          },
          "title": {
           "x": 0.05
          },
          "xaxis": {
           "automargin": true,
           "gridcolor": "white",
           "linecolor": "white",
           "ticks": "",
           "title": {
            "standoff": 15
           },
           "zerolinecolor": "white",
           "zerolinewidth": 2
          },
          "yaxis": {
           "automargin": true,
           "gridcolor": "white",
           "linecolor": "white",
           "ticks": "",
           "title": {
            "standoff": 15
           },
           "zerolinecolor": "white",
           "zerolinewidth": 2
          }
         }
        },
        "xaxis": {
         "anchor": "y",
         "domain": [
          0,
          1
         ],
         "tickformat": "%d/%m/%y %H:%M",
         "title": {
          "text": "Temps"
         },
         "type": "date"
        },
        "yaxis": {
         "anchor": "x",
         "categoryarray": [
          "dep_4",
          "dep_3",
          "dep_2",
          "dep_1",
          "arr_3",
          "arr_2",
          "arr_1"
         ],
         "categoryorder": "array",
         "domain": [
          0,
          1
         ],
         "title": {
          "text": "Tâches"
         }
        }
       }
      }
     },
     "metadata": {},
     "output_type": "display_data"
    }
   ],
   "source": [
    "visualisation_gantt(t_arr,t_dep).show()"
   ]
  },
  {
   "cell_type": "code",
   "execution_count": 6,
   "metadata": {},
   "outputs": [
    {
     "data": {
      "image/png": "[encoded data removed]",
      "text/plain": [
       "<Figure size 1000x500 with 1 Axes>"
      ]
     },
     "metadata": {},
     "output_type": "display_data"
    }
   ],
   "source": [
    "# Correction du format de la date de référence\n",
    "ref_date = datetime.datetime.strptime(\"08/08/2022\", \"%d/%m/%Y\")\n",
    "\n",
    "# Conversion des temps en dates au format \"dd/mm/yyyy/HH/MM\"\n",
    "x_date = [ref_date + datetime.timedelta(minutes=15*t) for t in range((t_max-t_min)//15+2)]\n",
    "\n",
    "# Calcul des voies occupées pour chaque chantier\n",
    "occupation_REC = np.array([quicksum(is_present['REC'][(id_train, t)].X for id_train in liste_id_train_arrivee).getValue() for t in range((t_max-t_min)//15+2)])\n",
    "occupation_FOR = np.array([quicksum(is_present['FOR'][(id_train, t)].X for id_train in liste_id_train_depart).getValue() for t in range((t_max-t_min)//15+2)])\n",
    "occupation_DEP = np.array([quicksum(is_present['DEP'][(id_train, t)].X for id_train in liste_id_train_depart).getValue() for t in range((t_max-t_min)//15+2)])\n",
    "\n",
    "if visualisation_occupation(occupation_REC, occupation_FOR, occupation_DEP, x_date):\n",
    "    plt.show()\n"
   ]
  },
  {
   "cell_type": "code",
   "execution_count": 7,
   "metadata": {},
   "outputs": [],
   "source": [
    "#Les anciennes variables de décision deviennent les nouvelles données\n",
    "t_arr = {\n",
    "        (m, id_train_arr): t_arr[(m, id_train_arr)].X\n",
    "        for m in Taches.TACHES_ARRIVEE\n",
    "        for id_train_arr in liste_id_train_arrivee\n",
    "    }\n",
    "\n",
    "t_dep = {\n",
    "        (m, id_train_dep): t_dep[(m, id_train_dep)].X\n",
    "        for m in Taches.TACHES_DEPART\n",
    "        for id_train_dep in liste_id_train_depart\n",
    "    }"
   ]
  },
  {
   "cell_type": "code",
   "execution_count": 8,
   "metadata": {},
   "outputs": [],
   "source": [
    "model2, who_arr, who_dep, nombre_agents = init_model2(\n",
    "    liste_id_train_arrivee,\n",
    "    liste_id_train_depart,\n",
    "    nb_cycles_agents,\n",
    "    h_deb,\n",
    "    nombre_roulements=nb_roulements,\n",
    "    equip=equip,\n",
    "    max_agents_sur_roulement=max_agents_sur_roulement,\n",
    "    comp_arr=comp_arr,\n",
    "    comp_dep=comp_dep,\n",
    "    nb_cycle_jour=nb_cycle_jour,\n",
    "    t_arr=t_arr,\n",
    "    t_dep=t_dep\n",
    ")"
   ]
  },
  {
   "cell_type": "code",
   "execution_count": 9,
   "metadata": {},
   "outputs": [
    {
     "name": "stdout",
     "output_type": "stream",
     "text": [
      "Ca marche !\n",
      "La valeur objectif est : 28.0\n"
     ]
    }
   ],
   "source": [
    "model2.optimize()\n",
    "\n",
    "if model2.status == GRB.INFEASIBLE:\n",
    "    print(\"Le modèle n'a pas de solution\")\n",
    "elif model2.status == GRB.UNBOUNDED:\n",
    "    print(\"Le modèle est non borné\")\n",
    "else:\n",
    "    print(\"Ca marche !\")\n",
    "    print('La valeur objectif est :', model2.objVal)"
   ]
  },
  {
   "cell_type": "code",
   "execution_count": 10,
   "metadata": {},
   "outputs": [
    {
     "name": "stdout",
     "output_type": "stream",
     "text": [
      "jour 0 roulement 1 0.0 6\n",
      "jour 1 roulement 1 0.0 6\n",
      "jour 2 roulement 1 0.0 6\n",
      "jour 3 roulement 1 0.0 6\n",
      "jour 4 roulement 1 0.0 6\n",
      "jour 5 roulement 1 1.0 6\n",
      "jour 6 roulement 1 1.0 6\n",
      "jour 7 roulement 1 0.0 6\n",
      "jour 8 roulement 1 0.0 6\n",
      "jour 9 roulement 1 0.0 6\n",
      "jour 10 roulement 1 0.0 6\n",
      "jour 11 roulement 1 0.0 6\n",
      "jour 12 roulement 1 0.0 6\n",
      "jour 13 roulement 1 0.0 6\n",
      "jour 14 roulement 1 0.0 6\n",
      "jour 15 roulement 1 0.0 6\n",
      "jour 16 roulement 1 0.0 6\n",
      "jour 17 roulement 1 0.0 6\n",
      "jour 18 roulement 1 0.0 6\n",
      "jour 19 roulement 1 0.0 6\n",
      "jour 20 roulement 1 0.0 6\n",
      "jour 21 roulement 1 0.0 6\n",
      "jour 22 roulement 1 0.0 6\n",
      "jour 23 roulement 1 0.0 6\n",
      "jour 24 roulement 1 0.0 6\n",
      "jour 25 roulement 1 0.0 6\n",
      "jour 26 roulement 1 0.0 6\n",
      "jour 27 roulement 1 0.0 6\n",
      "jour 28 roulement 1 0.0 6\n",
      "jour 29 roulement 1 0.0 6\n",
      "jour 30 roulement 1 0.0 6\n",
      "jour 31 roulement 1 0.0 6\n",
      "jour 32 roulement 1 0.0 6\n",
      "jour 33 roulement 1 0.0 6\n",
      "jour 34 roulement 1 0.0 6\n",
      "jour 35 roulement 1 0.0 6\n",
      "jour 36 roulement 1 0.0 6\n",
      "jour 37 roulement 1 0.0 6\n",
      "jour 38 roulement 1 0.0 6\n",
      "jour 39 roulement 1 0.0 6\n",
      "jour 40 roulement 1 0.0 6\n",
      "jour 41 roulement 1 0.0 6\n",
      "jour 42 roulement 1 0.0 6\n",
      "jour 43 roulement 1 0.0 6\n",
      "jour 44 roulement 1 0.0 6\n",
      "jour 45 roulement 1 0.0 6\n",
      "jour 46 roulement 1 0.0 6\n",
      "jour 47 roulement 1 0.0 6\n",
      "jour 48 roulement 1 0.0 6\n",
      "jour 49 roulement 1 0.0 6\n",
      "jour 50 roulement 1 0.0 6\n",
      "jour 51 roulement 1 0.0 6\n",
      "jour 52 roulement 1 0.0 6\n",
      "jour 53 roulement 1 0.0 6\n",
      "jour 54 roulement 1 0.0 6\n",
      "jour 55 roulement 1 0.0 6\n",
      "jour 56 roulement 1 0.0 6\n",
      "jour 57 roulement 1 0.0 6\n",
      "jour 58 roulement 1 0.0 6\n",
      "jour 59 roulement 1 0.0 6\n",
      "jour 60 roulement 1 0.0 6\n",
      "jour 61 roulement 1 0.0 6\n",
      "jour 62 roulement 1 0.0 6\n",
      "jour 63 roulement 1 0.0 6\n",
      "jour 64 roulement 1 0.0 6\n",
      "jour 65 roulement 1 0.0 6\n",
      "jour 66 roulement 1 0.0 6\n",
      "jour 67 roulement 1 0.0 6\n",
      "jour 68 roulement 1 0.0 6\n",
      "jour 69 roulement 1 0.0 6\n",
      "jour 70 roulement 1 0.0 6\n",
      "jour 71 roulement 1 0.0 6\n",
      "jour 72 roulement 1 0.0 6\n",
      "jour 73 roulement 1 0.0 6\n",
      "jour 74 roulement 1 0.0 6\n",
      "jour 75 roulement 1 0.0 6\n",
      "jour 76 roulement 1 0.0 6\n",
      "jour 77 roulement 1 0.0 6\n",
      "jour 78 roulement 1 0.0 6\n",
      "jour 79 roulement 1 0.0 6\n",
      "jour 80 roulement 1 0.0 6\n",
      "jour 81 roulement 1 0.0 6\n",
      "jour 82 roulement 1 0.0 6\n",
      "jour 83 roulement 1 0.0 6\n",
      "jour 84 roulement 1 0.0 6\n",
      "jour 85 roulement 1 0.0 6\n",
      "jour 86 roulement 1 0.0 6\n",
      "jour 87 roulement 1 0.0 6\n",
      "jour 88 roulement 1 0.0 6\n",
      "jour 89 roulement 1 0.0 6\n",
      "jour 90 roulement 1 0.0 6\n",
      "jour 91 roulement 1 0.0 6\n",
      "jour 92 roulement 1 0.0 6\n",
      "jour 93 roulement 1 0.0 6\n",
      "jour 94 roulement 1 0.0 6\n",
      "jour 95 roulement 1 0.0 6\n",
      "jour 96 roulement 1 0.0 6\n",
      "jour 97 roulement 1 0.0 6\n",
      "jour 98 roulement 1 0.0 6\n",
      "jour 99 roulement 1 0.0 6\n",
      "jour 0 roulement 2 0.0 8\n",
      "jour 1 roulement 2 0.0 8\n",
      "jour 2 roulement 2 0.0 8\n",
      "jour 3 roulement 2 0.0 8\n",
      "jour 4 roulement 2 1.0 8\n",
      "jour 5 roulement 2 0.0 8\n",
      "jour 6 roulement 2 1.0 8\n",
      "jour 7 roulement 2 0.0 8\n",
      "jour 8 roulement 2 0.0 8\n",
      "jour 9 roulement 2 0.0 8\n",
      "jour 10 roulement 2 0.0 8\n",
      "jour 11 roulement 2 0.0 8\n",
      "jour 12 roulement 2 0.0 8\n",
      "jour 13 roulement 2 0.0 8\n",
      "jour 14 roulement 2 0.0 8\n",
      "jour 15 roulement 2 0.0 8\n",
      "jour 16 roulement 2 0.0 8\n",
      "jour 17 roulement 2 0.0 8\n",
      "jour 18 roulement 2 0.0 8\n",
      "jour 19 roulement 2 0.0 8\n",
      "jour 20 roulement 2 0.0 8\n",
      "jour 21 roulement 2 0.0 8\n",
      "jour 22 roulement 2 0.0 8\n",
      "jour 23 roulement 2 0.0 8\n",
      "jour 24 roulement 2 0.0 8\n",
      "jour 25 roulement 2 0.0 8\n",
      "jour 26 roulement 2 0.0 8\n",
      "jour 27 roulement 2 0.0 8\n",
      "jour 28 roulement 2 0.0 8\n",
      "jour 29 roulement 2 0.0 8\n",
      "jour 30 roulement 2 0.0 8\n",
      "jour 31 roulement 2 0.0 8\n",
      "jour 32 roulement 2 0.0 8\n",
      "jour 33 roulement 2 0.0 8\n",
      "jour 34 roulement 2 0.0 8\n",
      "jour 35 roulement 2 0.0 8\n",
      "jour 36 roulement 2 0.0 8\n",
      "jour 37 roulement 2 0.0 8\n",
      "jour 38 roulement 2 0.0 8\n",
      "jour 39 roulement 2 0.0 8\n",
      "jour 40 roulement 2 0.0 8\n",
      "jour 41 roulement 2 0.0 8\n",
      "jour 42 roulement 2 0.0 8\n",
      "jour 43 roulement 2 0.0 8\n",
      "jour 44 roulement 2 0.0 8\n",
      "jour 45 roulement 2 0.0 8\n",
      "jour 46 roulement 2 0.0 8\n",
      "jour 47 roulement 2 0.0 8\n",
      "jour 48 roulement 2 0.0 8\n",
      "jour 49 roulement 2 0.0 8\n",
      "jour 50 roulement 2 0.0 8\n",
      "jour 51 roulement 2 0.0 8\n",
      "jour 52 roulement 2 0.0 8\n",
      "jour 53 roulement 2 0.0 8\n",
      "jour 54 roulement 2 0.0 8\n",
      "jour 55 roulement 2 0.0 8\n",
      "jour 56 roulement 2 0.0 8\n",
      "jour 57 roulement 2 0.0 8\n",
      "jour 58 roulement 2 0.0 8\n",
      "jour 59 roulement 2 0.0 8\n",
      "jour 60 roulement 2 0.0 8\n",
      "jour 61 roulement 2 0.0 8\n",
      "jour 62 roulement 2 0.0 8\n",
      "jour 63 roulement 2 0.0 8\n",
      "jour 64 roulement 2 0.0 8\n",
      "jour 65 roulement 2 0.0 8\n",
      "jour 66 roulement 2 0.0 8\n",
      "jour 67 roulement 2 0.0 8\n",
      "jour 68 roulement 2 0.0 8\n",
      "jour 69 roulement 2 0.0 8\n",
      "jour 70 roulement 2 0.0 8\n",
      "jour 71 roulement 2 0.0 8\n",
      "jour 72 roulement 2 0.0 8\n",
      "jour 73 roulement 2 0.0 8\n",
      "jour 74 roulement 2 0.0 8\n",
      "jour 75 roulement 2 0.0 8\n",
      "jour 76 roulement 2 0.0 8\n",
      "jour 77 roulement 2 0.0 8\n",
      "jour 78 roulement 2 0.0 8\n",
      "jour 79 roulement 2 0.0 8\n",
      "jour 80 roulement 2 0.0 8\n",
      "jour 81 roulement 2 0.0 8\n",
      "jour 82 roulement 2 0.0 8\n",
      "jour 83 roulement 2 0.0 8\n",
      "jour 84 roulement 2 0.0 8\n",
      "jour 85 roulement 2 0.0 8\n",
      "jour 86 roulement 2 0.0 8\n",
      "jour 87 roulement 2 0.0 8\n",
      "jour 88 roulement 2 0.0 8\n",
      "jour 89 roulement 2 0.0 8\n",
      "jour 90 roulement 2 0.0 8\n",
      "jour 91 roulement 2 0.0 8\n",
      "jour 92 roulement 2 0.0 8\n",
      "jour 93 roulement 2 0.0 8\n",
      "jour 94 roulement 2 0.0 8\n",
      "jour 95 roulement 2 0.0 8\n",
      "jour 96 roulement 2 0.0 8\n",
      "jour 97 roulement 2 0.0 8\n",
      "jour 98 roulement 2 0.0 8\n",
      "jour 99 roulement 2 0.0 8\n",
      "jour 0 roulement 3 0.0 2\n",
      "jour 1 roulement 3 0.0 2\n",
      "jour 2 roulement 3 0.0 2\n",
      "jour 3 roulement 3 0.0 2\n",
      "jour 4 roulement 3 0.0 2\n",
      "jour 5 roulement 3 0.0 2\n",
      "jour 6 roulement 3 0.0 2\n",
      "jour 7 roulement 3 0.0 2\n",
      "jour 8 roulement 3 0.0 2\n",
      "jour 9 roulement 3 0.0 2\n",
      "jour 10 roulement 3 0.0 2\n",
      "jour 11 roulement 3 0.0 2\n",
      "jour 12 roulement 3 0.0 2\n",
      "jour 13 roulement 3 0.0 2\n",
      "jour 14 roulement 3 0.0 2\n",
      "jour 15 roulement 3 0.0 2\n",
      "jour 16 roulement 3 0.0 2\n",
      "jour 17 roulement 3 0.0 2\n",
      "jour 18 roulement 3 0.0 2\n",
      "jour 19 roulement 3 0.0 2\n",
      "jour 20 roulement 3 0.0 2\n",
      "jour 21 roulement 3 0.0 2\n",
      "jour 22 roulement 3 0.0 2\n",
      "jour 23 roulement 3 0.0 2\n",
      "jour 24 roulement 3 0.0 2\n",
      "jour 25 roulement 3 0.0 2\n",
      "jour 26 roulement 3 0.0 2\n",
      "jour 27 roulement 3 0.0 2\n",
      "jour 28 roulement 3 0.0 2\n",
      "jour 29 roulement 3 0.0 2\n",
      "jour 30 roulement 3 0.0 2\n",
      "jour 31 roulement 3 0.0 2\n",
      "jour 32 roulement 3 0.0 2\n",
      "jour 33 roulement 3 0.0 2\n",
      "jour 34 roulement 3 0.0 2\n",
      "jour 35 roulement 3 0.0 2\n",
      "jour 36 roulement 3 0.0 2\n",
      "jour 37 roulement 3 0.0 2\n",
      "jour 38 roulement 3 0.0 2\n",
      "jour 39 roulement 3 0.0 2\n",
      "jour 40 roulement 3 0.0 2\n",
      "jour 41 roulement 3 0.0 2\n",
      "jour 42 roulement 3 0.0 2\n",
      "jour 43 roulement 3 0.0 2\n",
      "jour 44 roulement 3 0.0 2\n",
      "jour 45 roulement 3 0.0 2\n",
      "jour 46 roulement 3 0.0 2\n",
      "jour 47 roulement 3 0.0 2\n",
      "jour 48 roulement 3 0.0 2\n",
      "jour 49 roulement 3 0.0 2\n",
      "jour 50 roulement 3 0.0 2\n",
      "jour 51 roulement 3 0.0 2\n",
      "jour 52 roulement 3 0.0 2\n",
      "jour 53 roulement 3 0.0 2\n",
      "jour 54 roulement 3 0.0 2\n",
      "jour 55 roulement 3 0.0 2\n",
      "jour 56 roulement 3 0.0 2\n",
      "jour 57 roulement 3 0.0 2\n",
      "jour 58 roulement 3 0.0 2\n",
      "jour 59 roulement 3 0.0 2\n",
      "jour 60 roulement 3 0.0 2\n",
      "jour 61 roulement 3 0.0 2\n",
      "jour 62 roulement 3 0.0 2\n",
      "jour 63 roulement 3 0.0 2\n",
      "jour 64 roulement 3 0.0 2\n",
      "jour 65 roulement 3 0.0 2\n",
      "jour 66 roulement 3 0.0 2\n",
      "jour 67 roulement 3 0.0 2\n",
      "jour 68 roulement 3 0.0 2\n",
      "jour 69 roulement 3 0.0 2\n",
      "jour 70 roulement 3 0.0 2\n",
      "jour 71 roulement 3 0.0 2\n",
      "jour 72 roulement 3 0.0 2\n",
      "jour 73 roulement 3 0.0 2\n",
      "jour 74 roulement 3 0.0 2\n",
      "jour 75 roulement 3 0.0 2\n",
      "jour 76 roulement 3 0.0 2\n",
      "jour 77 roulement 3 0.0 2\n",
      "jour 78 roulement 3 0.0 2\n",
      "jour 79 roulement 3 0.0 2\n",
      "jour 80 roulement 3 0.0 2\n",
      "jour 81 roulement 3 0.0 2\n",
      "jour 82 roulement 3 0.0 2\n",
      "jour 83 roulement 3 0.0 2\n",
      "jour 84 roulement 3 0.0 2\n",
      "jour 85 roulement 3 0.0 2\n",
      "jour 86 roulement 3 0.0 2\n",
      "jour 87 roulement 3 0.0 2\n",
      "jour 88 roulement 3 0.0 2\n",
      "jour 89 roulement 3 0.0 2\n",
      "jour 90 roulement 3 0.0 2\n",
      "jour 91 roulement 3 0.0 2\n",
      "jour 92 roulement 3 0.0 2\n",
      "jour 93 roulement 3 0.0 2\n",
      "jour 94 roulement 3 0.0 2\n",
      "jour 95 roulement 3 0.0 2\n",
      "jour 96 roulement 3 0.0 2\n",
      "jour 97 roulement 3 0.0 2\n",
      "jour 98 roulement 3 0.0 2\n",
      "jour 99 roulement 3 0.0 2\n",
      "jour 0 roulement 4 2.0 1\n",
      "jour 1 roulement 4 2.0 1\n",
      "jour 2 roulement 4 2.0 1\n",
      "jour 3 roulement 4 2.0 1\n",
      "jour 4 roulement 4 2.0 1\n",
      "jour 5 roulement 4 1.0 1\n",
      "jour 6 roulement 4 0.0 1\n",
      "jour 7 roulement 4 0.0 1\n",
      "jour 8 roulement 4 0.0 1\n",
      "jour 9 roulement 4 0.0 1\n",
      "jour 10 roulement 4 0.0 1\n",
      "jour 11 roulement 4 0.0 1\n",
      "jour 12 roulement 4 0.0 1\n",
      "jour 13 roulement 4 0.0 1\n",
      "jour 14 roulement 4 0.0 1\n",
      "jour 15 roulement 4 0.0 1\n",
      "jour 16 roulement 4 0.0 1\n",
      "jour 17 roulement 4 0.0 1\n",
      "jour 18 roulement 4 0.0 1\n",
      "jour 19 roulement 4 0.0 1\n",
      "jour 20 roulement 4 0.0 1\n",
      "jour 21 roulement 4 0.0 1\n",
      "jour 22 roulement 4 0.0 1\n",
      "jour 23 roulement 4 0.0 1\n",
      "jour 24 roulement 4 0.0 1\n",
      "jour 25 roulement 4 0.0 1\n",
      "jour 26 roulement 4 0.0 1\n",
      "jour 27 roulement 4 0.0 1\n",
      "jour 28 roulement 4 0.0 1\n",
      "jour 29 roulement 4 0.0 1\n",
      "jour 30 roulement 4 0.0 1\n",
      "jour 31 roulement 4 0.0 1\n",
      "jour 32 roulement 4 0.0 1\n",
      "jour 33 roulement 4 0.0 1\n",
      "jour 34 roulement 4 0.0 1\n",
      "jour 35 roulement 4 0.0 1\n",
      "jour 36 roulement 4 0.0 1\n",
      "jour 37 roulement 4 0.0 1\n",
      "jour 38 roulement 4 0.0 1\n",
      "jour 39 roulement 4 0.0 1\n",
      "jour 40 roulement 4 0.0 1\n",
      "jour 41 roulement 4 0.0 1\n",
      "jour 42 roulement 4 0.0 1\n",
      "jour 43 roulement 4 0.0 1\n",
      "jour 44 roulement 4 0.0 1\n",
      "jour 45 roulement 4 0.0 1\n",
      "jour 46 roulement 4 0.0 1\n",
      "jour 47 roulement 4 0.0 1\n",
      "jour 48 roulement 4 0.0 1\n",
      "jour 49 roulement 4 0.0 1\n",
      "jour 50 roulement 4 0.0 1\n",
      "jour 51 roulement 4 0.0 1\n",
      "jour 52 roulement 4 0.0 1\n",
      "jour 53 roulement 4 0.0 1\n",
      "jour 54 roulement 4 0.0 1\n",
      "jour 55 roulement 4 0.0 1\n",
      "jour 56 roulement 4 0.0 1\n",
      "jour 57 roulement 4 0.0 1\n",
      "jour 58 roulement 4 0.0 1\n",
      "jour 59 roulement 4 0.0 1\n",
      "jour 60 roulement 4 0.0 1\n",
      "jour 61 roulement 4 0.0 1\n",
      "jour 62 roulement 4 0.0 1\n",
      "jour 63 roulement 4 0.0 1\n",
      "jour 64 roulement 4 0.0 1\n",
      "jour 65 roulement 4 0.0 1\n",
      "jour 66 roulement 4 0.0 1\n",
      "jour 67 roulement 4 0.0 1\n",
      "jour 68 roulement 4 0.0 1\n",
      "jour 69 roulement 4 0.0 1\n",
      "jour 70 roulement 4 0.0 1\n",
      "jour 71 roulement 4 0.0 1\n",
      "jour 72 roulement 4 0.0 1\n",
      "jour 73 roulement 4 0.0 1\n",
      "jour 74 roulement 4 0.0 1\n",
      "jour 75 roulement 4 0.0 1\n",
      "jour 76 roulement 4 0.0 1\n",
      "jour 77 roulement 4 0.0 1\n",
      "jour 78 roulement 4 0.0 1\n",
      "jour 79 roulement 4 0.0 1\n",
      "jour 80 roulement 4 0.0 1\n",
      "jour 81 roulement 4 0.0 1\n",
      "jour 82 roulement 4 0.0 1\n",
      "jour 83 roulement 4 0.0 1\n",
      "jour 84 roulement 4 0.0 1\n",
      "jour 85 roulement 4 0.0 1\n",
      "jour 0 roulement 5 2.0 7\n",
      "jour 1 roulement 5 2.0 7\n",
      "jour 2 roulement 5 2.0 7\n",
      "jour 3 roulement 5 2.0 7\n",
      "jour 4 roulement 5 2.0 7\n",
      "jour 5 roulement 5 2.0 7\n",
      "jour 6 roulement 5 1.0 7\n",
      "jour 7 roulement 5 0.0 7\n",
      "jour 8 roulement 5 0.0 7\n",
      "jour 9 roulement 5 0.0 7\n",
      "jour 10 roulement 5 0.0 7\n",
      "jour 11 roulement 5 0.0 7\n",
      "jour 12 roulement 5 0.0 7\n",
      "jour 13 roulement 5 0.0 7\n",
      "jour 14 roulement 5 0.0 7\n",
      "jour 15 roulement 5 0.0 7\n",
      "jour 16 roulement 5 0.0 7\n",
      "jour 17 roulement 5 0.0 7\n",
      "jour 18 roulement 5 0.0 7\n",
      "jour 19 roulement 5 0.0 7\n",
      "jour 20 roulement 5 0.0 7\n",
      "jour 21 roulement 5 0.0 7\n",
      "jour 22 roulement 5 0.0 7\n",
      "jour 23 roulement 5 0.0 7\n",
      "jour 24 roulement 5 0.0 7\n",
      "jour 25 roulement 5 0.0 7\n",
      "jour 26 roulement 5 0.0 7\n",
      "jour 27 roulement 5 0.0 7\n",
      "jour 28 roulement 5 0.0 7\n",
      "jour 29 roulement 5 0.0 7\n",
      "jour 30 roulement 5 0.0 7\n",
      "jour 31 roulement 5 0.0 7\n",
      "jour 32 roulement 5 0.0 7\n",
      "jour 33 roulement 5 0.0 7\n",
      "jour 34 roulement 5 0.0 7\n",
      "jour 35 roulement 5 0.0 7\n",
      "jour 36 roulement 5 0.0 7\n",
      "jour 37 roulement 5 0.0 7\n",
      "jour 38 roulement 5 0.0 7\n",
      "jour 39 roulement 5 0.0 7\n",
      "jour 40 roulement 5 0.0 7\n",
      "jour 41 roulement 5 0.0 7\n",
      "jour 42 roulement 5 0.0 7\n",
      "jour 43 roulement 5 0.0 7\n",
      "jour 44 roulement 5 0.0 7\n",
      "jour 45 roulement 5 0.0 7\n",
      "jour 46 roulement 5 0.0 7\n",
      "jour 47 roulement 5 0.0 7\n",
      "jour 48 roulement 5 0.0 7\n",
      "jour 49 roulement 5 0.0 7\n",
      "jour 50 roulement 5 0.0 7\n",
      "jour 51 roulement 5 0.0 7\n",
      "jour 52 roulement 5 0.0 7\n",
      "jour 53 roulement 5 0.0 7\n",
      "jour 54 roulement 5 0.0 7\n",
      "jour 55 roulement 5 0.0 7\n",
      "jour 56 roulement 5 0.0 7\n",
      "jour 57 roulement 5 0.0 7\n",
      "jour 58 roulement 5 0.0 7\n",
      "jour 59 roulement 5 0.0 7\n",
      "jour 60 roulement 5 0.0 7\n",
      "jour 61 roulement 5 0.0 7\n",
      "jour 62 roulement 5 0.0 7\n",
      "jour 63 roulement 5 0.0 7\n",
      "jour 64 roulement 5 0.0 7\n",
      "jour 65 roulement 5 0.0 7\n",
      "jour 66 roulement 5 0.0 7\n",
      "jour 67 roulement 5 0.0 7\n",
      "jour 68 roulement 5 0.0 7\n",
      "jour 69 roulement 5 0.0 7\n",
      "jour 70 roulement 5 0.0 7\n",
      "jour 71 roulement 5 0.0 7\n",
      "jour 72 roulement 5 0.0 7\n",
      "jour 73 roulement 5 0.0 7\n",
      "jour 74 roulement 5 0.0 7\n",
      "jour 75 roulement 5 0.0 7\n",
      "jour 76 roulement 5 0.0 7\n",
      "jour 77 roulement 5 0.0 7\n",
      "jour 78 roulement 5 0.0 7\n",
      "jour 79 roulement 5 0.0 7\n",
      "jour 80 roulement 5 0.0 7\n",
      "jour 81 roulement 5 0.0 7\n",
      "jour 82 roulement 5 0.0 7\n",
      "jour 83 roulement 5 0.0 7\n",
      "jour 84 roulement 5 0.0 7\n",
      "jour 85 roulement 5 0.0 7\n",
      "jour 86 roulement 5 0.0 7\n",
      "jour 87 roulement 5 0.0 7\n",
      "jour 88 roulement 5 0.0 7\n",
      "jour 89 roulement 5 0.0 7\n",
      "jour 90 roulement 5 0.0 7\n",
      "jour 91 roulement 5 0.0 7\n",
      "jour 92 roulement 5 0.0 7\n",
      "jour 93 roulement 5 0.0 7\n",
      "jour 94 roulement 5 0.0 7\n",
      "jour 95 roulement 5 0.0 7\n",
      "jour 96 roulement 5 0.0 7\n",
      "jour 97 roulement 5 0.0 7\n",
      "jour 98 roulement 5 0.0 7\n",
      "jour 99 roulement 5 0.0 7\n"
     ]
    }
   ],
   "source": [
    "for r in range(1, nb_roulements + 1):\n",
    "        for q in range(nb_cycles_agents[r] // nb_cycle_jour[r]):\n",
    "            print(\"jour\", q, \"roulement\", r, quicksum(\n",
    "                    [\n",
    "                        nombre_agents[(r, nb_cycle_jour[r] * q + i)].X\n",
    "                        for i in range(1, nb_cycle_jour[r] + 1)\n",
    "                    ]\n",
    "                )\n",
    "                , max_agents_sur_roulement[r])"
   ]
  },
  {
   "cell_type": "code",
   "execution_count": 12,
   "metadata": {},
   "outputs": [
    {
     "ename": "AttributeError",
     "evalue": "'float' object has no attribute 'X'",
     "output_type": "error",
     "traceback": [
      "\u001b[1;31m---------------------------------------------------------------------------\u001b[0m",
      "\u001b[1;31mAttributeError\u001b[0m                            Traceback (most recent call last)",
      "Cell \u001b[1;32mIn[12], line 1\u001b[0m\n\u001b[1;32m----> 1\u001b[0m \u001b[43mecriture_donnees_sortie\u001b[49m\u001b[43m(\u001b[49m\n\u001b[0;32m      2\u001b[0m \u001b[43m    \u001b[49m\u001b[43mt_arr\u001b[49m\u001b[43m,\u001b[49m\u001b[43m \u001b[49m\n\u001b[0;32m      3\u001b[0m \u001b[43m    \u001b[49m\u001b[43mt_dep\u001b[49m\u001b[43m,\u001b[49m\u001b[43m \u001b[49m\n\u001b[0;32m      4\u001b[0m \u001b[43m    \u001b[49m\u001b[43moccupation_REC\u001b[49m\u001b[43m,\u001b[49m\u001b[43m \u001b[49m\n\u001b[0;32m      5\u001b[0m \u001b[43m    \u001b[49m\u001b[43moccupation_FOR\u001b[49m\u001b[43m,\u001b[49m\u001b[43m \u001b[49m\n\u001b[0;32m      6\u001b[0m \u001b[43m    \u001b[49m\u001b[43moccupation_REC\u001b[49m\u001b[43m,\u001b[49m\u001b[43m \u001b[49m\n\u001b[0;32m      7\u001b[0m \u001b[43m    \u001b[49m\u001b[43mx_date\u001b[49m\u001b[43m,\u001b[49m\n\u001b[0;32m      8\u001b[0m \u001b[43m    \u001b[49m\u001b[43mlimites_voies\u001b[49m\u001b[43m,\u001b[49m\n\u001b[0;32m      9\u001b[0m \u001b[43m    \u001b[49m\u001b[43mh_deb\u001b[49m\u001b[43m,\u001b[49m\n\u001b[0;32m     10\u001b[0m \u001b[43m    \u001b[49m\u001b[43mequip\u001b[49m\u001b[43m,\u001b[49m\n\u001b[0;32m     11\u001b[0m \u001b[43m    \u001b[49m\u001b[43mnb_cycles_agents\u001b[49m\u001b[43m,\u001b[49m\n\u001b[0;32m     12\u001b[0m \u001b[43m    \u001b[49m\u001b[43mwho_arr\u001b[49m\u001b[43m,\u001b[49m\n\u001b[0;32m     13\u001b[0m \u001b[43m    \u001b[49m\u001b[43mwho_dep\u001b[49m\u001b[43m,\u001b[49m\n\u001b[0;32m     14\u001b[0m \u001b[43m    \u001b[49m\u001b[43mliste_id_train_arrivee\u001b[49m\u001b[43m,\u001b[49m\n\u001b[0;32m     15\u001b[0m \u001b[43m    \u001b[49m\u001b[43mliste_id_train_depart\u001b[49m\u001b[43m,\u001b[49m\n\u001b[0;32m     16\u001b[0m \u001b[43m    \u001b[49m\u001b[43mnombre_agents\u001b[49m\u001b[43m,\u001b[49m\n\u001b[0;32m     17\u001b[0m \u001b[43m    \u001b[49m\u001b[43mnb_cycle_jour\u001b[49m\u001b[43m,\u001b[49m\n\u001b[0;32m     18\u001b[0m \u001b[43m    \u001b[49m\u001b[43mnb_cycles_agents\u001b[49m\u001b[43m,\u001b[49m\n\u001b[0;32m     19\u001b[0m \u001b[43m    \u001b[49m\u001b[43mdf_roulement_agent\u001b[49m\u001b[43m,\u001b[49m\n\u001b[0;32m     20\u001b[0m \u001b[43m    \u001b[49m\u001b[43mdf_taches_humaines\u001b[49m\u001b[43m,\u001b[49m\n\u001b[0;32m     21\u001b[0m \u001b[43m    \u001b[49m\u001b[38;5;124;43m\"\u001b[39;49m\u001b[38;5;124;43msortie_jalon3\u001b[39;49m\u001b[38;5;124;43m\"\u001b[39;49m\n\u001b[0;32m     22\u001b[0m \u001b[43m)\u001b[49m\n",
      "File \u001b[1;32mc:\\Users\\ggeno\\OneDrive\\Documents\\optiFretSNCF\\code\\module\\parser.py:996\u001b[0m, in \u001b[0;36mecriture_donnees_sortie\u001b[1;34m(t_arr, t_dep, occupation_REC, occupation_FOR, occupation_DEP, x_date, limites_voies, h_deb, equip, nb_cycles_agents, who_arr, who_dep, liste_id_train_arrivee, liste_id_train_depart, nombre_agents, nb_cycle_jour, nombre_cycles_agents, df_roulement_agent, df_taches_humaines, file_name)\u001b[0m\n\u001b[0;32m    943\u001b[0m \u001b[38;5;250m\u001b[39m\u001b[38;5;124;03m\"\"\"\u001b[39;00m\n\u001b[0;32m    944\u001b[0m \u001b[38;5;124;03mTraite les données pour les mettre dans une feuille de calcul de sortie au format standard.\u001b[39;00m\n\u001b[0;32m    945\u001b[0m \n\u001b[1;32m   (...)\u001b[0m\n\u001b[0;32m    992\u001b[0m \u001b[38;5;124;03m    True si les données sont écrites.\u001b[39;00m\n\u001b[0;32m    993\u001b[0m \u001b[38;5;124;03m\"\"\"\u001b[39;00m\n\u001b[0;32m    994\u001b[0m \u001b[38;5;66;03m# Création des données de sortie\u001b[39;00m\n\u001b[0;32m    995\u001b[0m xl \u001b[38;5;241m=\u001b[39m (\n\u001b[1;32m--> 996\u001b[0m     \u001b[43m[\u001b[49m\n\u001b[0;32m    997\u001b[0m \u001b[43m        \u001b[49m\u001b[43m{\u001b[49m\n\u001b[0;32m    998\u001b[0m \u001b[43m            \u001b[49m\u001b[38;5;124;43m\"\u001b[39;49m\u001b[38;5;124;43mId tâche\u001b[39;49m\u001b[38;5;124;43m\"\u001b[39;49m\u001b[43m:\u001b[49m\u001b[43m \u001b[49m\u001b[38;5;124;43m\"\u001b[39;49m\u001b[38;5;124;43mDEB_\u001b[39;49m\u001b[38;5;124;43m\"\u001b[39;49m\n\u001b[0;32m    999\u001b[0m \u001b[43m            \u001b[49m\u001b[38;5;241;43m+\u001b[39;49m\u001b[43m \u001b[49m\u001b[43mn_arr\u001b[49m\n\u001b[0;32m   1000\u001b[0m \u001b[43m            \u001b[49m\u001b[38;5;241;43m+\u001b[39;49m\u001b[43m \u001b[49m\u001b[38;5;124;43m\"\u001b[39;49m\u001b[38;5;124;43m#\u001b[39;49m\u001b[38;5;124;43m\"\u001b[39;49m\n\u001b[0;32m   1001\u001b[0m \u001b[43m            \u001b[49m\u001b[38;5;241;43m+\u001b[39;49m\u001b[43m \u001b[49m\u001b[43m(\u001b[49m\n\u001b[0;32m   1002\u001b[0m \u001b[43m                \u001b[49m\u001b[43mConstantes\u001b[49m\u001b[38;5;241;43m.\u001b[39;49m\u001b[43mBASE_TIME\u001b[49m\u001b[43m \u001b[49m\u001b[38;5;241;43m+\u001b[39;49m\u001b[43m \u001b[49m\u001b[43mtimedelta\u001b[49m\u001b[43m(\u001b[49m\u001b[43mminutes\u001b[49m\u001b[38;5;241;43m=\u001b[39;49m\u001b[38;5;241;43m15\u001b[39;49m\u001b[43m \u001b[49m\u001b[38;5;241;43m*\u001b[39;49m\u001b[43m \u001b[49m\u001b[43mvar_arr\u001b[49m\u001b[38;5;241;43m.\u001b[39;49m\u001b[43mX\u001b[49m\u001b[43m)\u001b[49m\n\u001b[0;32m   1003\u001b[0m \u001b[43m            \u001b[49m\u001b[43m)\u001b[49m\u001b[38;5;241;43m.\u001b[39;49m\u001b[43mstrftime\u001b[49m\u001b[43m(\u001b[49m\u001b[38;5;124;43m\"\u001b[39;49m\u001b[38;5;132;43;01m%d\u001b[39;49;00m\u001b[38;5;124;43m/\u001b[39;49m\u001b[38;5;124;43m%\u001b[39;49m\u001b[38;5;124;43mm/\u001b[39;49m\u001b[38;5;124;43m%\u001b[39;49m\u001b[38;5;124;43mY\u001b[39;49m\u001b[38;5;124;43m\"\u001b[39;49m\u001b[43m)\u001b[49m\n\u001b[0;32m   1004\u001b[0m \u001b[43m            \u001b[49m\u001b[38;5;241;43m+\u001b[39;49m\u001b[43m \u001b[49m\u001b[38;5;124;43m\"\u001b[39;49m\u001b[38;5;124;43m#A\u001b[39;49m\u001b[38;5;124;43m\"\u001b[39;49m\u001b[43m,\u001b[49m\n\u001b[0;32m   1005\u001b[0m \u001b[43m            \u001b[49m\u001b[38;5;124;43m\"\u001b[39;49m\u001b[38;5;124;43mType de tâche\u001b[39;49m\u001b[38;5;124;43m\"\u001b[39;49m\u001b[43m:\u001b[49m\u001b[43m \u001b[49m\u001b[38;5;124;43m\"\u001b[39;49m\u001b[38;5;124;43mDEB\u001b[39;49m\u001b[38;5;124;43m\"\u001b[39;49m\u001b[43m,\u001b[49m\n\u001b[0;32m   1006\u001b[0m \u001b[43m            \u001b[49m\u001b[38;5;124;43m\"\u001b[39;49m\u001b[38;5;124;43mJour\u001b[39;49m\u001b[38;5;124;43m\"\u001b[39;49m\u001b[43m:\u001b[49m\u001b[43m \u001b[49m\u001b[43m(\u001b[49m\n\u001b[0;32m   1007\u001b[0m \u001b[43m                \u001b[49m\u001b[43mConstantes\u001b[49m\u001b[38;5;241;43m.\u001b[39;49m\u001b[43mBASE_TIME\u001b[49m\u001b[43m \u001b[49m\u001b[38;5;241;43m+\u001b[39;49m\u001b[43m \u001b[49m\u001b[43mtimedelta\u001b[49m\u001b[43m(\u001b[49m\u001b[43mminutes\u001b[49m\u001b[38;5;241;43m=\u001b[39;49m\u001b[38;5;241;43m15\u001b[39;49m\u001b[43m \u001b[49m\u001b[38;5;241;43m*\u001b[39;49m\u001b[43m \u001b[49m\u001b[43mvar_arr\u001b[49m\u001b[38;5;241;43m.\u001b[39;49m\u001b[43mX\u001b[49m\u001b[43m)\u001b[49m\n\u001b[0;32m   1008\u001b[0m \u001b[43m            \u001b[49m\u001b[43m)\u001b[49m\u001b[38;5;241;43m.\u001b[39;49m\u001b[43mstrftime\u001b[49m\u001b[43m(\u001b[49m\u001b[38;5;124;43m\"\u001b[39;49m\u001b[38;5;132;43;01m%d\u001b[39;49;00m\u001b[38;5;124;43m/\u001b[39;49m\u001b[38;5;124;43m%\u001b[39;49m\u001b[38;5;124;43mm/\u001b[39;49m\u001b[38;5;124;43m%\u001b[39;49m\u001b[38;5;124;43mY\u001b[39;49m\u001b[38;5;124;43m\"\u001b[39;49m\u001b[43m)\u001b[49m\u001b[43m,\u001b[49m\n\u001b[0;32m   1009\u001b[0m \u001b[43m            \u001b[49m\u001b[38;5;124;43m\"\u001b[39;49m\u001b[38;5;124;43mHeure de début\u001b[39;49m\u001b[38;5;124;43m\"\u001b[39;49m\u001b[43m:\u001b[49m\u001b[43m \u001b[49m\u001b[43m(\u001b[49m\n\u001b[0;32m   1010\u001b[0m \u001b[43m                \u001b[49m\u001b[43mConstantes\u001b[49m\u001b[38;5;241;43m.\u001b[39;49m\u001b[43mBASE_TIME\u001b[49m\u001b[43m \u001b[49m\u001b[38;5;241;43m+\u001b[39;49m\u001b[43m \u001b[49m\u001b[43mtimedelta\u001b[49m\u001b[43m(\u001b[49m\u001b[43mminutes\u001b[49m\u001b[38;5;241;43m=\u001b[39;49m\u001b[38;5;241;43m15\u001b[39;49m\u001b[43m \u001b[49m\u001b[38;5;241;43m*\u001b[39;49m\u001b[43m \u001b[49m\u001b[43mvar_arr\u001b[49m\u001b[38;5;241;43m.\u001b[39;49m\u001b[43mX\u001b[49m\u001b[43m)\u001b[49m\n\u001b[0;32m   1011\u001b[0m \u001b[43m            \u001b[49m\u001b[43m)\u001b[49m\u001b[38;5;241;43m.\u001b[39;49m\u001b[43mstrftime\u001b[49m\u001b[43m(\u001b[49m\u001b[38;5;124;43m\"\u001b[39;49m\u001b[38;5;124;43m%\u001b[39;49m\u001b[38;5;124;43mH:\u001b[39;49m\u001b[38;5;124;43m%\u001b[39;49m\u001b[38;5;124;43mM\u001b[39;49m\u001b[38;5;124;43m\"\u001b[39;49m\u001b[43m)\u001b[49m\u001b[43m,\u001b[49m\n\u001b[0;32m   1012\u001b[0m \u001b[43m            \u001b[49m\u001b[38;5;124;43m\"\u001b[39;49m\u001b[38;5;124;43mDurée\u001b[39;49m\u001b[38;5;124;43m\"\u001b[39;49m\u001b[43m:\u001b[49m\u001b[43m \u001b[49m\u001b[43mTaches\u001b[49m\u001b[38;5;241;43m.\u001b[39;49m\u001b[43mT_ARR\u001b[49m\u001b[43m[\u001b[49m\u001b[43mm_arr\u001b[49m\u001b[43m]\u001b[49m\u001b[43m,\u001b[49m\n\u001b[0;32m   1013\u001b[0m \u001b[43m            \u001b[49m\u001b[38;5;124;43m\"\u001b[39;49m\u001b[38;5;124;43mSillon\u001b[39;49m\u001b[38;5;124;43m\"\u001b[39;49m\u001b[43m:\u001b[49m\u001b[43m \u001b[49m\u001b[43mn_arr\u001b[49m\n\u001b[0;32m   1014\u001b[0m \u001b[43m            \u001b[49m\u001b[38;5;241;43m+\u001b[39;49m\u001b[43m \u001b[49m\u001b[38;5;124;43m\"\u001b[39;49m\u001b[38;5;124;43m#\u001b[39;49m\u001b[38;5;124;43m\"\u001b[39;49m\n\u001b[0;32m   1015\u001b[0m \u001b[43m            \u001b[49m\u001b[38;5;241;43m+\u001b[39;49m\u001b[43m \u001b[49m\u001b[43m(\u001b[49m\n\u001b[0;32m   1016\u001b[0m \u001b[43m                \u001b[49m\u001b[43mConstantes\u001b[49m\u001b[38;5;241;43m.\u001b[39;49m\u001b[43mBASE_TIME\u001b[49m\u001b[43m \u001b[49m\u001b[38;5;241;43m+\u001b[39;49m\u001b[43m \u001b[49m\u001b[43mtimedelta\u001b[49m\u001b[43m(\u001b[49m\u001b[43mminutes\u001b[49m\u001b[38;5;241;43m=\u001b[39;49m\u001b[38;5;241;43m15\u001b[39;49m\u001b[43m \u001b[49m\u001b[38;5;241;43m*\u001b[39;49m\u001b[43m \u001b[49m\u001b[43mvar_arr\u001b[49m\u001b[38;5;241;43m.\u001b[39;49m\u001b[43mX\u001b[49m\u001b[43m)\u001b[49m\n\u001b[0;32m   1017\u001b[0m \u001b[43m            \u001b[49m\u001b[43m)\u001b[49m\u001b[38;5;241;43m.\u001b[39;49m\u001b[43mstrftime\u001b[49m\u001b[43m(\u001b[49m\u001b[38;5;124;43m\"\u001b[39;49m\u001b[38;5;132;43;01m%d\u001b[39;49;00m\u001b[38;5;124;43m/\u001b[39;49m\u001b[38;5;124;43m%\u001b[39;49m\u001b[38;5;124;43mm/\u001b[39;49m\u001b[38;5;124;43m%\u001b[39;49m\u001b[38;5;124;43mY\u001b[39;49m\u001b[38;5;124;43m\"\u001b[39;49m\u001b[43m)\u001b[49m\n\u001b[0;32m   1018\u001b[0m \u001b[43m            \u001b[49m\u001b[38;5;241;43m+\u001b[39;49m\u001b[43m \u001b[49m\u001b[38;5;124;43m\"\u001b[39;49m\u001b[38;5;124;43m#A\u001b[39;49m\u001b[38;5;124;43m\"\u001b[39;49m\u001b[43m,\u001b[49m\n\u001b[0;32m   1019\u001b[0m \u001b[43m        \u001b[49m\u001b[43m}\u001b[49m\n\u001b[0;32m   1020\u001b[0m \u001b[43m        \u001b[49m\u001b[38;5;28;43;01mfor\u001b[39;49;00m\u001b[43m \u001b[49m\u001b[43m(\u001b[49m\u001b[43mm_arr\u001b[49m\u001b[43m,\u001b[49m\u001b[43m \u001b[49m\u001b[43mn_arr\u001b[49m\u001b[43m)\u001b[49m\u001b[43m,\u001b[49m\u001b[43m \u001b[49m\u001b[43mvar_arr\u001b[49m\u001b[43m \u001b[49m\u001b[38;5;129;43;01min\u001b[39;49;00m\u001b[43m \u001b[49m\u001b[43mt_arr\u001b[49m\u001b[38;5;241;43m.\u001b[39;49m\u001b[43mitems\u001b[49m\u001b[43m(\u001b[49m\u001b[43m)\u001b[49m\n\u001b[0;32m   1021\u001b[0m \u001b[43m        \u001b[49m\u001b[38;5;28;43;01mif\u001b[39;49;00m\u001b[43m \u001b[49m\u001b[43mm_arr\u001b[49m\u001b[43m \u001b[49m\u001b[38;5;241;43m==\u001b[39;49m\u001b[43m \u001b[49m\u001b[38;5;241;43m3\u001b[39;49m\n\u001b[0;32m   1022\u001b[0m \u001b[43m    \u001b[49m\u001b[43m]\u001b[49m\n\u001b[0;32m   1023\u001b[0m     \u001b[38;5;241m+\u001b[39m [\n\u001b[0;32m   1024\u001b[0m         {\n\u001b[0;32m   1025\u001b[0m             \u001b[38;5;124m\"\u001b[39m\u001b[38;5;124mId tâche\u001b[39m\u001b[38;5;124m\"\u001b[39m: \u001b[38;5;124m\"\u001b[39m\u001b[38;5;124mFOR_\u001b[39m\u001b[38;5;124m\"\u001b[39m\n\u001b[0;32m   1026\u001b[0m             \u001b[38;5;241m+\u001b[39m n_dep\n\u001b[0;32m   1027\u001b[0m             \u001b[38;5;241m+\u001b[39m \u001b[38;5;124m\"\u001b[39m\u001b[38;5;124m#\u001b[39m\u001b[38;5;124m\"\u001b[39m\n\u001b[0;32m   1028\u001b[0m             \u001b[38;5;241m+\u001b[39m (\n\u001b[0;32m   1029\u001b[0m                 Constantes\u001b[38;5;241m.\u001b[39mBASE_TIME \u001b[38;5;241m+\u001b[39m timedelta(minutes\u001b[38;5;241m=\u001b[39m\u001b[38;5;241m15\u001b[39m \u001b[38;5;241m*\u001b[39m var_dep\u001b[38;5;241m.\u001b[39mX)\n\u001b[0;32m   1030\u001b[0m             )\u001b[38;5;241m.\u001b[39mstrftime(\u001b[38;5;124m\"\u001b[39m\u001b[38;5;132;01m%d\u001b[39;00m\u001b[38;5;124m/\u001b[39m\u001b[38;5;124m%\u001b[39m\u001b[38;5;124mm/\u001b[39m\u001b[38;5;124m%\u001b[39m\u001b[38;5;124mY\u001b[39m\u001b[38;5;124m\"\u001b[39m)\n\u001b[0;32m   1031\u001b[0m             \u001b[38;5;241m+\u001b[39m \u001b[38;5;124m\"\u001b[39m\u001b[38;5;124m#D\u001b[39m\u001b[38;5;124m\"\u001b[39m,\n\u001b[0;32m   1032\u001b[0m             \u001b[38;5;124m\"\u001b[39m\u001b[38;5;124mType de tâche\u001b[39m\u001b[38;5;124m\"\u001b[39m: \u001b[38;5;124m\"\u001b[39m\u001b[38;5;124mFOR\u001b[39m\u001b[38;5;124m\"\u001b[39m,\n\u001b[0;32m   1033\u001b[0m             \u001b[38;5;124m\"\u001b[39m\u001b[38;5;124mJour\u001b[39m\u001b[38;5;124m\"\u001b[39m: (\n\u001b[0;32m   1034\u001b[0m                 Constantes\u001b[38;5;241m.\u001b[39mBASE_TIME \u001b[38;5;241m+\u001b[39m timedelta(minutes\u001b[38;5;241m=\u001b[39m\u001b[38;5;241m15\u001b[39m \u001b[38;5;241m*\u001b[39m var_dep\u001b[38;5;241m.\u001b[39mX)\n\u001b[0;32m   1035\u001b[0m             )\u001b[38;5;241m.\u001b[39mstrftime(\u001b[38;5;124m\"\u001b[39m\u001b[38;5;132;01m%d\u001b[39;00m\u001b[38;5;124m/\u001b[39m\u001b[38;5;124m%\u001b[39m\u001b[38;5;124mm/\u001b[39m\u001b[38;5;124m%\u001b[39m\u001b[38;5;124mY\u001b[39m\u001b[38;5;124m\"\u001b[39m),\n\u001b[0;32m   1036\u001b[0m             \u001b[38;5;124m\"\u001b[39m\u001b[38;5;124mHeure de début\u001b[39m\u001b[38;5;124m\"\u001b[39m: (\n\u001b[0;32m   1037\u001b[0m                 Constantes\u001b[38;5;241m.\u001b[39mBASE_TIME \u001b[38;5;241m+\u001b[39m timedelta(minutes\u001b[38;5;241m=\u001b[39m\u001b[38;5;241m15\u001b[39m \u001b[38;5;241m*\u001b[39m var_dep\u001b[38;5;241m.\u001b[39mX)\n\u001b[0;32m   1038\u001b[0m             )\u001b[38;5;241m.\u001b[39mstrftime(\u001b[38;5;124m\"\u001b[39m\u001b[38;5;124m%\u001b[39m\u001b[38;5;124mH:\u001b[39m\u001b[38;5;124m%\u001b[39m\u001b[38;5;124mM\u001b[39m\u001b[38;5;124m\"\u001b[39m),\n\u001b[0;32m   1039\u001b[0m             \u001b[38;5;124m\"\u001b[39m\u001b[38;5;124mDurée\u001b[39m\u001b[38;5;124m\"\u001b[39m: Taches\u001b[38;5;241m.\u001b[39mT_DEP[m_dep],\n\u001b[0;32m   1040\u001b[0m             \u001b[38;5;124m\"\u001b[39m\u001b[38;5;124mSillon\u001b[39m\u001b[38;5;124m\"\u001b[39m: n_dep\n\u001b[0;32m   1041\u001b[0m             \u001b[38;5;241m+\u001b[39m \u001b[38;5;124m\"\u001b[39m\u001b[38;5;124m#\u001b[39m\u001b[38;5;124m\"\u001b[39m\n\u001b[0;32m   1042\u001b[0m             \u001b[38;5;241m+\u001b[39m (\n\u001b[0;32m   1043\u001b[0m                 Constantes\u001b[38;5;241m.\u001b[39mBASE_TIME \u001b[38;5;241m+\u001b[39m timedelta(minutes\u001b[38;5;241m=\u001b[39m\u001b[38;5;241m15\u001b[39m \u001b[38;5;241m*\u001b[39m var_dep\u001b[38;5;241m.\u001b[39mX)\n\u001b[0;32m   1044\u001b[0m             )\u001b[38;5;241m.\u001b[39mstrftime(\u001b[38;5;124m\"\u001b[39m\u001b[38;5;132;01m%d\u001b[39;00m\u001b[38;5;124m/\u001b[39m\u001b[38;5;124m%\u001b[39m\u001b[38;5;124mm/\u001b[39m\u001b[38;5;124m%\u001b[39m\u001b[38;5;124mY\u001b[39m\u001b[38;5;124m\"\u001b[39m)\n\u001b[0;32m   1045\u001b[0m             \u001b[38;5;241m+\u001b[39m \u001b[38;5;124m\"\u001b[39m\u001b[38;5;124m#D\u001b[39m\u001b[38;5;124m\"\u001b[39m,\n\u001b[0;32m   1046\u001b[0m         }\n\u001b[0;32m   1047\u001b[0m         \u001b[38;5;28;01mfor\u001b[39;00m (m_dep, n_dep), var_dep \u001b[38;5;129;01min\u001b[39;00m t_dep\u001b[38;5;241m.\u001b[39mitems()\n\u001b[0;32m   1048\u001b[0m         \u001b[38;5;28;01mif\u001b[39;00m m_dep \u001b[38;5;241m==\u001b[39m \u001b[38;5;241m1\u001b[39m\n\u001b[0;32m   1049\u001b[0m     ]\n\u001b[0;32m   1050\u001b[0m     \u001b[38;5;241m+\u001b[39m [\n\u001b[0;32m   1051\u001b[0m         {\n\u001b[0;32m   1052\u001b[0m             \u001b[38;5;124m\"\u001b[39m\u001b[38;5;124mId tâche\u001b[39m\u001b[38;5;124m\"\u001b[39m: \u001b[38;5;124m\"\u001b[39m\u001b[38;5;124mDEG_\u001b[39m\u001b[38;5;124m\"\u001b[39m\n\u001b[0;32m   1053\u001b[0m             \u001b[38;5;241m+\u001b[39m n_dep\n\u001b[0;32m   1054\u001b[0m             \u001b[38;5;241m+\u001b[39m \u001b[38;5;124m\"\u001b[39m\u001b[38;5;124m#\u001b[39m\u001b[38;5;124m\"\u001b[39m\n\u001b[0;32m   1055\u001b[0m             \u001b[38;5;241m+\u001b[39m (\n\u001b[0;32m   1056\u001b[0m                 Constantes\u001b[38;5;241m.\u001b[39mBASE_TIME \u001b[38;5;241m+\u001b[39m timedelta(minutes\u001b[38;5;241m=\u001b[39m\u001b[38;5;241m15\u001b[39m \u001b[38;5;241m*\u001b[39m var_dep\u001b[38;5;241m.\u001b[39mX)\n\u001b[0;32m   1057\u001b[0m             )\u001b[38;5;241m.\u001b[39mstrftime(\u001b[38;5;124m\"\u001b[39m\u001b[38;5;132;01m%d\u001b[39;00m\u001b[38;5;124m/\u001b[39m\u001b[38;5;124m%\u001b[39m\u001b[38;5;124mm/\u001b[39m\u001b[38;5;124m%\u001b[39m\u001b[38;5;124mY\u001b[39m\u001b[38;5;124m\"\u001b[39m)\n\u001b[0;32m   1058\u001b[0m             \u001b[38;5;241m+\u001b[39m \u001b[38;5;124m\"\u001b[39m\u001b[38;5;124m#D\u001b[39m\u001b[38;5;124m\"\u001b[39m,\n\u001b[0;32m   1059\u001b[0m             \u001b[38;5;124m\"\u001b[39m\u001b[38;5;124mType de tâche\u001b[39m\u001b[38;5;124m\"\u001b[39m: \u001b[38;5;124m\"\u001b[39m\u001b[38;5;124mDEG\u001b[39m\u001b[38;5;124m\"\u001b[39m,\n\u001b[0;32m   1060\u001b[0m             \u001b[38;5;124m\"\u001b[39m\u001b[38;5;124mJour\u001b[39m\u001b[38;5;124m\"\u001b[39m: (\n\u001b[0;32m   1061\u001b[0m                 Constantes\u001b[38;5;241m.\u001b[39mBASE_TIME \u001b[38;5;241m+\u001b[39m timedelta(minutes\u001b[38;5;241m=\u001b[39m\u001b[38;5;241m15\u001b[39m \u001b[38;5;241m*\u001b[39m var_dep\u001b[38;5;241m.\u001b[39mX)\n\u001b[0;32m   1062\u001b[0m             )\u001b[38;5;241m.\u001b[39mstrftime(\u001b[38;5;124m\"\u001b[39m\u001b[38;5;132;01m%d\u001b[39;00m\u001b[38;5;124m/\u001b[39m\u001b[38;5;124m%\u001b[39m\u001b[38;5;124mm/\u001b[39m\u001b[38;5;124m%\u001b[39m\u001b[38;5;124mY\u001b[39m\u001b[38;5;124m\"\u001b[39m),\n\u001b[0;32m   1063\u001b[0m             \u001b[38;5;124m\"\u001b[39m\u001b[38;5;124mHeure de début\u001b[39m\u001b[38;5;124m\"\u001b[39m: (\n\u001b[0;32m   1064\u001b[0m                 Constantes\u001b[38;5;241m.\u001b[39mBASE_TIME \u001b[38;5;241m+\u001b[39m timedelta(minutes\u001b[38;5;241m=\u001b[39m\u001b[38;5;241m15\u001b[39m \u001b[38;5;241m*\u001b[39m var_dep\u001b[38;5;241m.\u001b[39mX)\n\u001b[0;32m   1065\u001b[0m             )\u001b[38;5;241m.\u001b[39mstrftime(\u001b[38;5;124m\"\u001b[39m\u001b[38;5;124m%\u001b[39m\u001b[38;5;124mH:\u001b[39m\u001b[38;5;124m%\u001b[39m\u001b[38;5;124mM\u001b[39m\u001b[38;5;124m\"\u001b[39m),\n\u001b[0;32m   1066\u001b[0m             \u001b[38;5;124m\"\u001b[39m\u001b[38;5;124mDurée\u001b[39m\u001b[38;5;124m\"\u001b[39m: Taches\u001b[38;5;241m.\u001b[39mT_DEP[m_dep],\n\u001b[0;32m   1067\u001b[0m             \u001b[38;5;124m\"\u001b[39m\u001b[38;5;124mSillon\u001b[39m\u001b[38;5;124m\"\u001b[39m: n_dep\n\u001b[0;32m   1068\u001b[0m             \u001b[38;5;241m+\u001b[39m \u001b[38;5;124m\"\u001b[39m\u001b[38;5;124m#\u001b[39m\u001b[38;5;124m\"\u001b[39m\n\u001b[0;32m   1069\u001b[0m             \u001b[38;5;241m+\u001b[39m (\n\u001b[0;32m   1070\u001b[0m                 Constantes\u001b[38;5;241m.\u001b[39mBASE_TIME \u001b[38;5;241m+\u001b[39m timedelta(minutes\u001b[38;5;241m=\u001b[39m\u001b[38;5;241m15\u001b[39m \u001b[38;5;241m*\u001b[39m var_dep\u001b[38;5;241m.\u001b[39mX)\n\u001b[0;32m   1071\u001b[0m             )\u001b[38;5;241m.\u001b[39mstrftime(\u001b[38;5;124m\"\u001b[39m\u001b[38;5;132;01m%d\u001b[39;00m\u001b[38;5;124m/\u001b[39m\u001b[38;5;124m%\u001b[39m\u001b[38;5;124mm/\u001b[39m\u001b[38;5;124m%\u001b[39m\u001b[38;5;124mY\u001b[39m\u001b[38;5;124m\"\u001b[39m)\n\u001b[0;32m   1072\u001b[0m             \u001b[38;5;241m+\u001b[39m \u001b[38;5;124m\"\u001b[39m\u001b[38;5;124m#D\u001b[39m\u001b[38;5;124m\"\u001b[39m,\n\u001b[0;32m   1073\u001b[0m         }\n\u001b[0;32m   1074\u001b[0m         \u001b[38;5;28;01mfor\u001b[39;00m (m_dep, n_dep), var_dep \u001b[38;5;129;01min\u001b[39;00m t_dep\u001b[38;5;241m.\u001b[39mitems()\n\u001b[0;32m   1075\u001b[0m         \u001b[38;5;28;01mif\u001b[39;00m m_dep \u001b[38;5;241m==\u001b[39m \u001b[38;5;241m3\u001b[39m\n\u001b[0;32m   1076\u001b[0m     ]\n\u001b[0;32m   1077\u001b[0m )\n\u001b[0;32m   1079\u001b[0m \u001b[38;5;66;03m# Versement des données de sortie vers une trame de données\u001b[39;00m\n\u001b[0;32m   1080\u001b[0m df_xl \u001b[38;5;241m=\u001b[39m pd\u001b[38;5;241m.\u001b[39mDataFrame(xl)\n",
      "File \u001b[1;32mc:\\Users\\ggeno\\OneDrive\\Documents\\optiFretSNCF\\code\\module\\parser.py:1002\u001b[0m, in \u001b[0;36m<listcomp>\u001b[1;34m(.0)\u001b[0m\n\u001b[0;32m    943\u001b[0m \u001b[38;5;250m\u001b[39m\u001b[38;5;124;03m\"\"\"\u001b[39;00m\n\u001b[0;32m    944\u001b[0m \u001b[38;5;124;03mTraite les données pour les mettre dans une feuille de calcul de sortie au format standard.\u001b[39;00m\n\u001b[0;32m    945\u001b[0m \n\u001b[1;32m   (...)\u001b[0m\n\u001b[0;32m    992\u001b[0m \u001b[38;5;124;03m    True si les données sont écrites.\u001b[39;00m\n\u001b[0;32m    993\u001b[0m \u001b[38;5;124;03m\"\"\"\u001b[39;00m\n\u001b[0;32m    994\u001b[0m \u001b[38;5;66;03m# Création des données de sortie\u001b[39;00m\n\u001b[0;32m    995\u001b[0m xl \u001b[38;5;241m=\u001b[39m (\n\u001b[0;32m    996\u001b[0m     [\n\u001b[0;32m    997\u001b[0m         {\n\u001b[0;32m    998\u001b[0m             \u001b[38;5;124m\"\u001b[39m\u001b[38;5;124mId tâche\u001b[39m\u001b[38;5;124m\"\u001b[39m: \u001b[38;5;124m\"\u001b[39m\u001b[38;5;124mDEB_\u001b[39m\u001b[38;5;124m\"\u001b[39m\n\u001b[0;32m    999\u001b[0m             \u001b[38;5;241m+\u001b[39m n_arr\n\u001b[0;32m   1000\u001b[0m             \u001b[38;5;241m+\u001b[39m \u001b[38;5;124m\"\u001b[39m\u001b[38;5;124m#\u001b[39m\u001b[38;5;124m\"\u001b[39m\n\u001b[0;32m   1001\u001b[0m             \u001b[38;5;241m+\u001b[39m (\n\u001b[1;32m-> 1002\u001b[0m                 Constantes\u001b[38;5;241m.\u001b[39mBASE_TIME \u001b[38;5;241m+\u001b[39m timedelta(minutes\u001b[38;5;241m=\u001b[39m\u001b[38;5;241m15\u001b[39m \u001b[38;5;241m*\u001b[39m \u001b[43mvar_arr\u001b[49m\u001b[38;5;241;43m.\u001b[39;49m\u001b[43mX\u001b[49m)\n\u001b[0;32m   1003\u001b[0m             )\u001b[38;5;241m.\u001b[39mstrftime(\u001b[38;5;124m\"\u001b[39m\u001b[38;5;132;01m%d\u001b[39;00m\u001b[38;5;124m/\u001b[39m\u001b[38;5;124m%\u001b[39m\u001b[38;5;124mm/\u001b[39m\u001b[38;5;124m%\u001b[39m\u001b[38;5;124mY\u001b[39m\u001b[38;5;124m\"\u001b[39m)\n\u001b[0;32m   1004\u001b[0m             \u001b[38;5;241m+\u001b[39m \u001b[38;5;124m\"\u001b[39m\u001b[38;5;124m#A\u001b[39m\u001b[38;5;124m\"\u001b[39m,\n\u001b[0;32m   1005\u001b[0m             \u001b[38;5;124m\"\u001b[39m\u001b[38;5;124mType de tâche\u001b[39m\u001b[38;5;124m\"\u001b[39m: \u001b[38;5;124m\"\u001b[39m\u001b[38;5;124mDEB\u001b[39m\u001b[38;5;124m\"\u001b[39m,\n\u001b[0;32m   1006\u001b[0m             \u001b[38;5;124m\"\u001b[39m\u001b[38;5;124mJour\u001b[39m\u001b[38;5;124m\"\u001b[39m: (\n\u001b[0;32m   1007\u001b[0m                 Constantes\u001b[38;5;241m.\u001b[39mBASE_TIME \u001b[38;5;241m+\u001b[39m timedelta(minutes\u001b[38;5;241m=\u001b[39m\u001b[38;5;241m15\u001b[39m \u001b[38;5;241m*\u001b[39m var_arr\u001b[38;5;241m.\u001b[39mX)\n\u001b[0;32m   1008\u001b[0m             )\u001b[38;5;241m.\u001b[39mstrftime(\u001b[38;5;124m\"\u001b[39m\u001b[38;5;132;01m%d\u001b[39;00m\u001b[38;5;124m/\u001b[39m\u001b[38;5;124m%\u001b[39m\u001b[38;5;124mm/\u001b[39m\u001b[38;5;124m%\u001b[39m\u001b[38;5;124mY\u001b[39m\u001b[38;5;124m\"\u001b[39m),\n\u001b[0;32m   1009\u001b[0m             \u001b[38;5;124m\"\u001b[39m\u001b[38;5;124mHeure de début\u001b[39m\u001b[38;5;124m\"\u001b[39m: (\n\u001b[0;32m   1010\u001b[0m                 Constantes\u001b[38;5;241m.\u001b[39mBASE_TIME \u001b[38;5;241m+\u001b[39m timedelta(minutes\u001b[38;5;241m=\u001b[39m\u001b[38;5;241m15\u001b[39m \u001b[38;5;241m*\u001b[39m var_arr\u001b[38;5;241m.\u001b[39mX)\n\u001b[0;32m   1011\u001b[0m             )\u001b[38;5;241m.\u001b[39mstrftime(\u001b[38;5;124m\"\u001b[39m\u001b[38;5;124m%\u001b[39m\u001b[38;5;124mH:\u001b[39m\u001b[38;5;124m%\u001b[39m\u001b[38;5;124mM\u001b[39m\u001b[38;5;124m\"\u001b[39m),\n\u001b[0;32m   1012\u001b[0m             \u001b[38;5;124m\"\u001b[39m\u001b[38;5;124mDurée\u001b[39m\u001b[38;5;124m\"\u001b[39m: Taches\u001b[38;5;241m.\u001b[39mT_ARR[m_arr],\n\u001b[0;32m   1013\u001b[0m             \u001b[38;5;124m\"\u001b[39m\u001b[38;5;124mSillon\u001b[39m\u001b[38;5;124m\"\u001b[39m: n_arr\n\u001b[0;32m   1014\u001b[0m             \u001b[38;5;241m+\u001b[39m \u001b[38;5;124m\"\u001b[39m\u001b[38;5;124m#\u001b[39m\u001b[38;5;124m\"\u001b[39m\n\u001b[0;32m   1015\u001b[0m             \u001b[38;5;241m+\u001b[39m (\n\u001b[0;32m   1016\u001b[0m                 Constantes\u001b[38;5;241m.\u001b[39mBASE_TIME \u001b[38;5;241m+\u001b[39m timedelta(minutes\u001b[38;5;241m=\u001b[39m\u001b[38;5;241m15\u001b[39m \u001b[38;5;241m*\u001b[39m var_arr\u001b[38;5;241m.\u001b[39mX)\n\u001b[0;32m   1017\u001b[0m             )\u001b[38;5;241m.\u001b[39mstrftime(\u001b[38;5;124m\"\u001b[39m\u001b[38;5;132;01m%d\u001b[39;00m\u001b[38;5;124m/\u001b[39m\u001b[38;5;124m%\u001b[39m\u001b[38;5;124mm/\u001b[39m\u001b[38;5;124m%\u001b[39m\u001b[38;5;124mY\u001b[39m\u001b[38;5;124m\"\u001b[39m)\n\u001b[0;32m   1018\u001b[0m             \u001b[38;5;241m+\u001b[39m \u001b[38;5;124m\"\u001b[39m\u001b[38;5;124m#A\u001b[39m\u001b[38;5;124m\"\u001b[39m,\n\u001b[0;32m   1019\u001b[0m         }\n\u001b[0;32m   1020\u001b[0m         \u001b[38;5;28;01mfor\u001b[39;00m (m_arr, n_arr), var_arr \u001b[38;5;129;01min\u001b[39;00m t_arr\u001b[38;5;241m.\u001b[39mitems()\n\u001b[0;32m   1021\u001b[0m         \u001b[38;5;28;01mif\u001b[39;00m m_arr \u001b[38;5;241m==\u001b[39m \u001b[38;5;241m3\u001b[39m\n\u001b[0;32m   1022\u001b[0m     ]\n\u001b[0;32m   1023\u001b[0m     \u001b[38;5;241m+\u001b[39m [\n\u001b[0;32m   1024\u001b[0m         {\n\u001b[0;32m   1025\u001b[0m             \u001b[38;5;124m\"\u001b[39m\u001b[38;5;124mId tâche\u001b[39m\u001b[38;5;124m\"\u001b[39m: \u001b[38;5;124m\"\u001b[39m\u001b[38;5;124mFOR_\u001b[39m\u001b[38;5;124m\"\u001b[39m\n\u001b[0;32m   1026\u001b[0m             \u001b[38;5;241m+\u001b[39m n_dep\n\u001b[0;32m   1027\u001b[0m             \u001b[38;5;241m+\u001b[39m \u001b[38;5;124m\"\u001b[39m\u001b[38;5;124m#\u001b[39m\u001b[38;5;124m\"\u001b[39m\n\u001b[0;32m   1028\u001b[0m             \u001b[38;5;241m+\u001b[39m (\n\u001b[0;32m   1029\u001b[0m                 Constantes\u001b[38;5;241m.\u001b[39mBASE_TIME \u001b[38;5;241m+\u001b[39m timedelta(minutes\u001b[38;5;241m=\u001b[39m\u001b[38;5;241m15\u001b[39m \u001b[38;5;241m*\u001b[39m var_dep\u001b[38;5;241m.\u001b[39mX)\n\u001b[0;32m   1030\u001b[0m             )\u001b[38;5;241m.\u001b[39mstrftime(\u001b[38;5;124m\"\u001b[39m\u001b[38;5;132;01m%d\u001b[39;00m\u001b[38;5;124m/\u001b[39m\u001b[38;5;124m%\u001b[39m\u001b[38;5;124mm/\u001b[39m\u001b[38;5;124m%\u001b[39m\u001b[38;5;124mY\u001b[39m\u001b[38;5;124m\"\u001b[39m)\n\u001b[0;32m   1031\u001b[0m             \u001b[38;5;241m+\u001b[39m \u001b[38;5;124m\"\u001b[39m\u001b[38;5;124m#D\u001b[39m\u001b[38;5;124m\"\u001b[39m,\n\u001b[0;32m   1032\u001b[0m             \u001b[38;5;124m\"\u001b[39m\u001b[38;5;124mType de tâche\u001b[39m\u001b[38;5;124m\"\u001b[39m: \u001b[38;5;124m\"\u001b[39m\u001b[38;5;124mFOR\u001b[39m\u001b[38;5;124m\"\u001b[39m,\n\u001b[0;32m   1033\u001b[0m             \u001b[38;5;124m\"\u001b[39m\u001b[38;5;124mJour\u001b[39m\u001b[38;5;124m\"\u001b[39m: (\n\u001b[0;32m   1034\u001b[0m                 Constantes\u001b[38;5;241m.\u001b[39mBASE_TIME \u001b[38;5;241m+\u001b[39m timedelta(minutes\u001b[38;5;241m=\u001b[39m\u001b[38;5;241m15\u001b[39m \u001b[38;5;241m*\u001b[39m var_dep\u001b[38;5;241m.\u001b[39mX)\n\u001b[0;32m   1035\u001b[0m             )\u001b[38;5;241m.\u001b[39mstrftime(\u001b[38;5;124m\"\u001b[39m\u001b[38;5;132;01m%d\u001b[39;00m\u001b[38;5;124m/\u001b[39m\u001b[38;5;124m%\u001b[39m\u001b[38;5;124mm/\u001b[39m\u001b[38;5;124m%\u001b[39m\u001b[38;5;124mY\u001b[39m\u001b[38;5;124m\"\u001b[39m),\n\u001b[0;32m   1036\u001b[0m             \u001b[38;5;124m\"\u001b[39m\u001b[38;5;124mHeure de début\u001b[39m\u001b[38;5;124m\"\u001b[39m: (\n\u001b[0;32m   1037\u001b[0m                 Constantes\u001b[38;5;241m.\u001b[39mBASE_TIME \u001b[38;5;241m+\u001b[39m timedelta(minutes\u001b[38;5;241m=\u001b[39m\u001b[38;5;241m15\u001b[39m \u001b[38;5;241m*\u001b[39m var_dep\u001b[38;5;241m.\u001b[39mX)\n\u001b[0;32m   1038\u001b[0m             )\u001b[38;5;241m.\u001b[39mstrftime(\u001b[38;5;124m\"\u001b[39m\u001b[38;5;124m%\u001b[39m\u001b[38;5;124mH:\u001b[39m\u001b[38;5;124m%\u001b[39m\u001b[38;5;124mM\u001b[39m\u001b[38;5;124m\"\u001b[39m),\n\u001b[0;32m   1039\u001b[0m             \u001b[38;5;124m\"\u001b[39m\u001b[38;5;124mDurée\u001b[39m\u001b[38;5;124m\"\u001b[39m: Taches\u001b[38;5;241m.\u001b[39mT_DEP[m_dep],\n\u001b[0;32m   1040\u001b[0m             \u001b[38;5;124m\"\u001b[39m\u001b[38;5;124mSillon\u001b[39m\u001b[38;5;124m\"\u001b[39m: n_dep\n\u001b[0;32m   1041\u001b[0m             \u001b[38;5;241m+\u001b[39m \u001b[38;5;124m\"\u001b[39m\u001b[38;5;124m#\u001b[39m\u001b[38;5;124m\"\u001b[39m\n\u001b[0;32m   1042\u001b[0m             \u001b[38;5;241m+\u001b[39m (\n\u001b[0;32m   1043\u001b[0m                 Constantes\u001b[38;5;241m.\u001b[39mBASE_TIME \u001b[38;5;241m+\u001b[39m timedelta(minutes\u001b[38;5;241m=\u001b[39m\u001b[38;5;241m15\u001b[39m \u001b[38;5;241m*\u001b[39m var_dep\u001b[38;5;241m.\u001b[39mX)\n\u001b[0;32m   1044\u001b[0m             )\u001b[38;5;241m.\u001b[39mstrftime(\u001b[38;5;124m\"\u001b[39m\u001b[38;5;132;01m%d\u001b[39;00m\u001b[38;5;124m/\u001b[39m\u001b[38;5;124m%\u001b[39m\u001b[38;5;124mm/\u001b[39m\u001b[38;5;124m%\u001b[39m\u001b[38;5;124mY\u001b[39m\u001b[38;5;124m\"\u001b[39m)\n\u001b[0;32m   1045\u001b[0m             \u001b[38;5;241m+\u001b[39m \u001b[38;5;124m\"\u001b[39m\u001b[38;5;124m#D\u001b[39m\u001b[38;5;124m\"\u001b[39m,\n\u001b[0;32m   1046\u001b[0m         }\n\u001b[0;32m   1047\u001b[0m         \u001b[38;5;28;01mfor\u001b[39;00m (m_dep, n_dep), var_dep \u001b[38;5;129;01min\u001b[39;00m t_dep\u001b[38;5;241m.\u001b[39mitems()\n\u001b[0;32m   1048\u001b[0m         \u001b[38;5;28;01mif\u001b[39;00m m_dep \u001b[38;5;241m==\u001b[39m \u001b[38;5;241m1\u001b[39m\n\u001b[0;32m   1049\u001b[0m     ]\n\u001b[0;32m   1050\u001b[0m     \u001b[38;5;241m+\u001b[39m [\n\u001b[0;32m   1051\u001b[0m         {\n\u001b[0;32m   1052\u001b[0m             \u001b[38;5;124m\"\u001b[39m\u001b[38;5;124mId tâche\u001b[39m\u001b[38;5;124m\"\u001b[39m: \u001b[38;5;124m\"\u001b[39m\u001b[38;5;124mDEG_\u001b[39m\u001b[38;5;124m\"\u001b[39m\n\u001b[0;32m   1053\u001b[0m             \u001b[38;5;241m+\u001b[39m n_dep\n\u001b[0;32m   1054\u001b[0m             \u001b[38;5;241m+\u001b[39m \u001b[38;5;124m\"\u001b[39m\u001b[38;5;124m#\u001b[39m\u001b[38;5;124m\"\u001b[39m\n\u001b[0;32m   1055\u001b[0m             \u001b[38;5;241m+\u001b[39m (\n\u001b[0;32m   1056\u001b[0m                 Constantes\u001b[38;5;241m.\u001b[39mBASE_TIME \u001b[38;5;241m+\u001b[39m timedelta(minutes\u001b[38;5;241m=\u001b[39m\u001b[38;5;241m15\u001b[39m \u001b[38;5;241m*\u001b[39m var_dep\u001b[38;5;241m.\u001b[39mX)\n\u001b[0;32m   1057\u001b[0m             )\u001b[38;5;241m.\u001b[39mstrftime(\u001b[38;5;124m\"\u001b[39m\u001b[38;5;132;01m%d\u001b[39;00m\u001b[38;5;124m/\u001b[39m\u001b[38;5;124m%\u001b[39m\u001b[38;5;124mm/\u001b[39m\u001b[38;5;124m%\u001b[39m\u001b[38;5;124mY\u001b[39m\u001b[38;5;124m\"\u001b[39m)\n\u001b[0;32m   1058\u001b[0m             \u001b[38;5;241m+\u001b[39m \u001b[38;5;124m\"\u001b[39m\u001b[38;5;124m#D\u001b[39m\u001b[38;5;124m\"\u001b[39m,\n\u001b[0;32m   1059\u001b[0m             \u001b[38;5;124m\"\u001b[39m\u001b[38;5;124mType de tâche\u001b[39m\u001b[38;5;124m\"\u001b[39m: \u001b[38;5;124m\"\u001b[39m\u001b[38;5;124mDEG\u001b[39m\u001b[38;5;124m\"\u001b[39m,\n\u001b[0;32m   1060\u001b[0m             \u001b[38;5;124m\"\u001b[39m\u001b[38;5;124mJour\u001b[39m\u001b[38;5;124m\"\u001b[39m: (\n\u001b[0;32m   1061\u001b[0m                 Constantes\u001b[38;5;241m.\u001b[39mBASE_TIME \u001b[38;5;241m+\u001b[39m timedelta(minutes\u001b[38;5;241m=\u001b[39m\u001b[38;5;241m15\u001b[39m \u001b[38;5;241m*\u001b[39m var_dep\u001b[38;5;241m.\u001b[39mX)\n\u001b[0;32m   1062\u001b[0m             )\u001b[38;5;241m.\u001b[39mstrftime(\u001b[38;5;124m\"\u001b[39m\u001b[38;5;132;01m%d\u001b[39;00m\u001b[38;5;124m/\u001b[39m\u001b[38;5;124m%\u001b[39m\u001b[38;5;124mm/\u001b[39m\u001b[38;5;124m%\u001b[39m\u001b[38;5;124mY\u001b[39m\u001b[38;5;124m\"\u001b[39m),\n\u001b[0;32m   1063\u001b[0m             \u001b[38;5;124m\"\u001b[39m\u001b[38;5;124mHeure de début\u001b[39m\u001b[38;5;124m\"\u001b[39m: (\n\u001b[0;32m   1064\u001b[0m                 Constantes\u001b[38;5;241m.\u001b[39mBASE_TIME \u001b[38;5;241m+\u001b[39m timedelta(minutes\u001b[38;5;241m=\u001b[39m\u001b[38;5;241m15\u001b[39m \u001b[38;5;241m*\u001b[39m var_dep\u001b[38;5;241m.\u001b[39mX)\n\u001b[0;32m   1065\u001b[0m             )\u001b[38;5;241m.\u001b[39mstrftime(\u001b[38;5;124m\"\u001b[39m\u001b[38;5;124m%\u001b[39m\u001b[38;5;124mH:\u001b[39m\u001b[38;5;124m%\u001b[39m\u001b[38;5;124mM\u001b[39m\u001b[38;5;124m\"\u001b[39m),\n\u001b[0;32m   1066\u001b[0m             \u001b[38;5;124m\"\u001b[39m\u001b[38;5;124mDurée\u001b[39m\u001b[38;5;124m\"\u001b[39m: Taches\u001b[38;5;241m.\u001b[39mT_DEP[m_dep],\n\u001b[0;32m   1067\u001b[0m             \u001b[38;5;124m\"\u001b[39m\u001b[38;5;124mSillon\u001b[39m\u001b[38;5;124m\"\u001b[39m: n_dep\n\u001b[0;32m   1068\u001b[0m             \u001b[38;5;241m+\u001b[39m \u001b[38;5;124m\"\u001b[39m\u001b[38;5;124m#\u001b[39m\u001b[38;5;124m\"\u001b[39m\n\u001b[0;32m   1069\u001b[0m             \u001b[38;5;241m+\u001b[39m (\n\u001b[0;32m   1070\u001b[0m                 Constantes\u001b[38;5;241m.\u001b[39mBASE_TIME \u001b[38;5;241m+\u001b[39m timedelta(minutes\u001b[38;5;241m=\u001b[39m\u001b[38;5;241m15\u001b[39m \u001b[38;5;241m*\u001b[39m var_dep\u001b[38;5;241m.\u001b[39mX)\n\u001b[0;32m   1071\u001b[0m             )\u001b[38;5;241m.\u001b[39mstrftime(\u001b[38;5;124m\"\u001b[39m\u001b[38;5;132;01m%d\u001b[39;00m\u001b[38;5;124m/\u001b[39m\u001b[38;5;124m%\u001b[39m\u001b[38;5;124mm/\u001b[39m\u001b[38;5;124m%\u001b[39m\u001b[38;5;124mY\u001b[39m\u001b[38;5;124m\"\u001b[39m)\n\u001b[0;32m   1072\u001b[0m             \u001b[38;5;241m+\u001b[39m \u001b[38;5;124m\"\u001b[39m\u001b[38;5;124m#D\u001b[39m\u001b[38;5;124m\"\u001b[39m,\n\u001b[0;32m   1073\u001b[0m         }\n\u001b[0;32m   1074\u001b[0m         \u001b[38;5;28;01mfor\u001b[39;00m (m_dep, n_dep), var_dep \u001b[38;5;129;01min\u001b[39;00m t_dep\u001b[38;5;241m.\u001b[39mitems()\n\u001b[0;32m   1075\u001b[0m         \u001b[38;5;28;01mif\u001b[39;00m m_dep \u001b[38;5;241m==\u001b[39m \u001b[38;5;241m3\u001b[39m\n\u001b[0;32m   1076\u001b[0m     ]\n\u001b[0;32m   1077\u001b[0m )\n\u001b[0;32m   1079\u001b[0m \u001b[38;5;66;03m# Versement des données de sortie vers une trame de données\u001b[39;00m\n\u001b[0;32m   1080\u001b[0m df_xl \u001b[38;5;241m=\u001b[39m pd\u001b[38;5;241m.\u001b[39mDataFrame(xl)\n",
      "\u001b[1;31mAttributeError\u001b[0m: 'float' object has no attribute 'X'"
     ]
    }
   ],
   "source": [
    "ecriture_donnees_sortie(\n",
    "    t_arr, \n",
    "    t_dep, \n",
    "    occupation_REC, \n",
    "    occupation_FOR, \n",
    "    occupation_REC, \n",
    "    x_date,\n",
    "    limites_voies,\n",
    "    h_deb,\n",
    "    equip,\n",
    "    nb_cycles_agents,\n",
    "    who_arr,\n",
    "    who_dep,\n",
    "    liste_id_train_arrivee,\n",
    "    liste_id_train_depart,\n",
    "    nombre_agents,\n",
    "    nb_cycle_jour,\n",
    "    nb_cycles_agents,\n",
    "    df_roulement_agent,\n",
    "    df_taches_humaines,\n",
    "    \"sortie_jalon3\"\n",
    ")"
   ]
  }
 ],
 "metadata": {
  "kernelspec": {
   "display_name": "Opti",
   "language": "python",
   "name": "python3"
  },
  "language_info": {
   "codemirror_mode": {
    "name": "ipython",
    "version": 3
   },
   "file_extension": ".py",
   "mimetype": "text/x-python",
   "name": "python",
   "nbconvert_exporter": "python",
   "pygments_lexer": "ipython3",
   "version": "3.12.3"
  }
 },
 "nbformat": 4,
 "nbformat_minor": 2
}
