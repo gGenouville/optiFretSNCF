{
 "cells": [
  {
   "cell_type": "code",
   "execution_count": 4,
   "metadata": {},
   "outputs": [],
   "source": [
    "import os\n",
    "import sys\n",
    "from gurobipy import *\n",
    "import pandas as pd\n",
    "import numpy as np\n",
    "import itertools\n",
    "import datetime\n",
    "import plotly.express as px\n",
    "import matplotlib.pyplot as plt\n",
    "import matplotlib.dates as mdates\n",
    "\n",
    "module_path = os.path.abspath(\"..\")\n",
    "sys.path.append(module_path)\n",
    "from module.modele2 import init_model, init_model2\n",
    "from module.visualisation2 import (\n",
    "    visualisation_gantt,\n",
    "    visualisation_occupation\n",
    ")\n",
    "from module.parser import (\n",
    "    lightning_mcqueen_parser,\n",
    "    ecriture_donnees_sortie\n",
    ")\n",
    "from module.constants import Constantes,Taches"
   ]
  },
  {
   "cell_type": "code",
   "execution_count": 5,
   "metadata": {},
   "outputs": [
    {
     "name": "stdout",
     "output_type": "stream",
     "text": [
      "7\n"
     ]
    }
   ],
   "source": [
    "# Charger le fichier Excel\n",
    "\n",
    "id_file = 3\n",
    "\n",
    "if id_file == 0:\n",
    "    file = \"mini_instance.xlsx\"\n",
    "elif id_file == 1:    \n",
    "    file = \"instance_WPY_realiste_jalon1.xlsx\"\n",
    "elif id_file == 2:\n",
    "    file = \"instance_WPY_realiste_jalon2.xlsx\"\n",
    "elif id_file == 3:\n",
    "    file = \"instance_WPY_simple.xlsx\"\n",
    "else:\n",
    "    raise ValueError(f\"Erreur : '{id_file}' n'est pas une valeur acceptable. Choisissez parmi 0, 1, 2 et 3.\")\n",
    "\n",
    "(\n",
    "    temps_min,\n",
    "    temps_max,\n",
    "    monday,\n",
    "    nb_roulements,\n",
    "    #\n",
    "    df_sillons_arr,\n",
    "    df_sillons_dep,\n",
    "    df_correspondance,\n",
    "    df_chantiers,\n",
    "    df_machines,\n",
    "    df_roulement_agent,\n",
    "    df_taches_humaines,\n",
    "    #\n",
    "    t_a,\n",
    "    t_d,\n",
    "    D,\n",
    "    limites_chantiers,\n",
    "    limites_machines,\n",
    "    limites_voies,\n",
    "    max_agents_sur_roulement,\n",
    "    equip,\n",
    "    h_deb,\n",
    "    nb_cycles_agents,\n",
    "    nb_cycle_jour,\n",
    "    comp_arr,\n",
    "    comp_dep,\n",
    "    ) = lightning_mcqueen_parser(file)\n",
    "\n",
    "time_base=Constantes.BASE_TIME\n",
    "\n",
    "#Initialisation de l'intervalle de temps étudié\n",
    "t_min=0\n",
    "t_max=int(temps_max)\n",
    "#print(t_max//15+1)\n",
    "\n",
    "# Vérification finale\n",
    "#print(\"Vérification du contenu final de t_a :\")\n",
    "#for key, value in t_a.items():\n",
    "#    print(f\"Le train {key} arrive en gare de Woippy au bout de {value} minutes\")\n",
    "\n",
    "#print(\"Vérification du contenu final de t_d :\")\n",
    "#for key, value in t_d.items():\n",
    "#    print(f\"Le train {key} part de la gare de Woippy au bout de {value} minutes\")\n",
    "#print(D)\n",
    "\n",
    "temps_min = 0\n",
    "temps_max = int(temps_max//15+1) #passage en quinzaines de minutes\n",
    "#print(nb_cycles_agents)\n",
    "#print(h_deb)\n",
    "\n",
    "#print(comp(file))\n",
    "\n",
    "\n",
    "liste_id_train_arrivee=t_a.keys()\n",
    "liste_id_train_depart=t_d.keys()"
   ]
  },
  {
   "cell_type": "code",
   "execution_count": 6,
   "metadata": {},
   "outputs": [
    {
     "name": "stdout",
     "output_type": "stream",
     "text": [
      "Set parameter Username\n",
      "Set parameter LicenseID to value 2618972\n",
      "Academic license - for non-commercial use only - expires 2026-02-06\n"
     ]
    },
    {
     "name": "stderr",
     "output_type": "stream",
     "text": [
      "Contrainte assurant la succession des tâches sur les trains d'arrivée: 100%|██████████| 18/18 [00:00<00:00, 11908.12it/s]\n",
      "Contrainte assurant la succession des tâches sur les trains de départ: 100%|██████████| 18/18 [00:00<?, ?it/s]\n",
      "Contrainte assurant la décomposition des heures de début de tâches sur les trains d'arrivée: 100%|██████████| 18/18 [00:00<?, ?it/s]\n",
      "Contrainte assurant la décomposition des heures de début de tâches sur les trains d'arrivée: 100%|██████████| 18/18 [00:00<00:00, 1367.39it/s]\n",
      "Contrainte assurant qu'il n'y a qu'un train niveau de la machine DEB: 100%|██████████| 18/18 [00:00<00:00, 1161.54it/s]\n",
      "Contrainte assurant qu'il n'y a qu'un train niveau des machines FOR et DEG: 100%|██████████| 2/2 [00:00<00:00, 68.21it/s]\n",
      "Contrainte de fermeture de la machine DEB: 100%|██████████| 18/18 [00:00<?, ?it/s]\n",
      "Contrainte de fermeture de la machine FOR: 100%|██████████| 18/18 [00:00<00:00, 2062.94it/s]\n",
      "Contrainte de fermeture de la machine DEG: 100%|██████████| 18/18 [00:00<00:00, 5471.23it/s]\n",
      "Contrainte de fermeture du Chantier FOR: 100%|██████████| 18/18 [00:00<00:00, 1330.91it/s]\n",
      "Contrainte assurant la succession des tâches entre les chantiers de REC et FOR: 100%|██████████| 18/18 [00:00<?, ?it/s]\n",
      "Contrainte relative au nombre de voies des chantiers: 100%|██████████| 630/630 [00:00<00:00, 13016.36it/s]\n",
      "Contrainte définissant le temps de débranchement du premier wagon d'un train de départ: 100%|██████████| 18/18 [00:00<?, ?it/s]\n"
     ]
    }
   ],
   "source": [
    "\n",
    "model,t_arr,t_dep, is_present = init_model(\n",
    "    liste_id_train_arrivee = liste_id_train_arrivee,\n",
    "    t_a = t_a,\n",
    "    liste_id_train_depart = liste_id_train_depart,\n",
    "    t_d = t_d,\n",
    "    dict_correspondances = D,\n",
    "    limites_voies=limites_voies,\n",
    "    temps_max=temps_max,\n",
    "    temps_min=temps_min,\n",
    "    limites_chantiers=limites_chantiers,\n",
    "    limites_machines=limites_machines,\n",
    "    nb_cycle_agents=nb_cycles_agents\n",
    ")\n"
   ]
  },
  {
   "cell_type": "code",
   "execution_count": 7,
   "metadata": {},
   "outputs": [
    {
     "name": "stdout",
     "output_type": "stream",
     "text": [
      "Ca marche !\n",
      "Tâche 1 - Train A1_08 : <gurobi.Var t (value 40.0)>\n",
      "Tâche 1 - Train A3_08 : <gurobi.Var t (value 88.0)>\n",
      "Tâche 1 - Train A2_08 : <gurobi.Var t (value 46.0)>\n",
      "Tâche 1 - Train A2_09 : <gurobi.Var t (value 142.0)>\n",
      "Tâche 1 - Train A3_09 : <gurobi.Var t (value 184.0)>\n",
      "Tâche 1 - Train A1_09 : <gurobi.Var t (value 136.0)>\n",
      "Tâche 1 - Train A3_10 : <gurobi.Var t (value 280.0)>\n",
      "Tâche 1 - Train A1_10 : <gurobi.Var t (value 232.0)>\n",
      "Tâche 1 - Train A2_10 : <gurobi.Var t (value 238.0)>\n",
      "Tâche 1 - Train A2_11 : <gurobi.Var t (value 334.0)>\n",
      "Tâche 1 - Train A1_11 : <gurobi.Var t (value 328.0)>\n",
      "Tâche 1 - Train A3_11 : <gurobi.Var t (value 376.0)>\n",
      "Tâche 1 - Train A2_12 : <gurobi.Var t (value 430.0)>\n",
      "Tâche 1 - Train A3_12 : <gurobi.Var t (value 472.0)>\n",
      "Tâche 1 - Train A1_12 : <gurobi.Var t (value 424.0)>\n",
      "Tâche 1 - Train A3_13 : <gurobi.Var t (value 568.0)>\n",
      "Tâche 1 - Train A4_13 : <gurobi.Var t (value 515.0)>\n",
      "Tâche 1 - Train A4_14 : <gurobi.Var t (value 611.0)>\n",
      "Tâche 2 - Train A1_08 : <gurobi.Var t (value 41.0)>\n",
      "Tâche 2 - Train A3_08 : <gurobi.Var t (value 89.0)>\n",
      "Tâche 2 - Train A2_08 : <gurobi.Var t (value 47.0)>\n",
      "Tâche 2 - Train A2_09 : <gurobi.Var t (value 143.0)>\n",
      "Tâche 2 - Train A3_09 : <gurobi.Var t (value 185.0)>\n",
      "Tâche 2 - Train A1_09 : <gurobi.Var t (value 142.0)>\n",
      "Tâche 2 - Train A3_10 : <gurobi.Var t (value 281.0)>\n",
      "Tâche 2 - Train A1_10 : <gurobi.Var t (value 233.0)>\n",
      "Tâche 2 - Train A2_10 : <gurobi.Var t (value 239.0)>\n",
      "Tâche 2 - Train A2_11 : <gurobi.Var t (value 335.0)>\n",
      "Tâche 2 - Train A1_11 : <gurobi.Var t (value 329.0)>\n",
      "Tâche 2 - Train A3_11 : <gurobi.Var t (value 377.0)>\n",
      "Tâche 2 - Train A2_12 : <gurobi.Var t (value 431.0)>\n",
      "Tâche 2 - Train A3_12 : <gurobi.Var t (value 473.0)>\n",
      "Tâche 2 - Train A1_12 : <gurobi.Var t (value 430.0)>\n",
      "Tâche 2 - Train A3_13 : <gurobi.Var t (value 569.0)>\n",
      "Tâche 2 - Train A4_13 : <gurobi.Var t (value 516.0)>\n",
      "Tâche 2 - Train A4_14 : <gurobi.Var t (value 612.0)>\n",
      "Tâche 3 - Train A1_08 : <gurobi.Var t (value 53.0)>\n",
      "Tâche 3 - Train A3_08 : <gurobi.Var t (value 92.0)>\n",
      "Tâche 3 - Train A2_08 : <gurobi.Var t (value 52.0)>\n",
      "Tâche 3 - Train A2_09 : <gurobi.Var t (value 146.0)>\n",
      "Tâche 3 - Train A3_09 : <gurobi.Var t (value 188.0)>\n",
      "Tâche 3 - Train A1_09 : <gurobi.Var t (value 145.0)>\n",
      "Tâche 3 - Train A3_10 : <gurobi.Var t (value 284.0)>\n",
      "Tâche 3 - Train A1_10 : <gurobi.Var t (value 236.0)>\n",
      "Tâche 3 - Train A2_10 : <gurobi.Var t (value 242.0)>\n",
      "Tâche 3 - Train A2_11 : <gurobi.Var t (value 338.0)>\n",
      "Tâche 3 - Train A1_11 : <gurobi.Var t (value 332.0)>\n",
      "Tâche 3 - Train A3_11 : <gurobi.Var t (value 380.0)>\n",
      "Tâche 3 - Train A2_12 : <gurobi.Var t (value 434.0)>\n",
      "Tâche 3 - Train A3_12 : <gurobi.Var t (value 476.0)>\n",
      "Tâche 3 - Train A1_12 : <gurobi.Var t (value 433.0)>\n",
      "Tâche 3 - Train A3_13 : <gurobi.Var t (value 572.0)>\n",
      "Tâche 3 - Train A4_13 : <gurobi.Var t (value 519.0)>\n",
      "Tâche 3 - Train A4_14 : <gurobi.Var t (value 615.0)>\n",
      "Tâche 1 - Train D1_08 : <gurobi.Var t (value 54.0)>\n",
      "Tâche 1 - Train D2_08 : <gurobi.Var t (value 53.0)>\n",
      "Tâche 1 - Train D1_09 : <gurobi.Var t (value 147.0)>\n",
      "Tâche 1 - Train D3_09 : <gurobi.Var t (value 98.0)>\n",
      "Tâche 1 - Train D2_09 : <gurobi.Var t (value 148.0)>\n",
      "Tâche 1 - Train D1_10 : <gurobi.Var t (value 243.0)>\n",
      "Tâche 1 - Train D2_10 : <gurobi.Var t (value 244.0)>\n",
      "Tâche 1 - Train D3_10 : <gurobi.Var t (value 194.0)>\n",
      "Tâche 1 - Train D3_11 : <gurobi.Var t (value 290.0)>\n",
      "Tâche 1 - Train D1_11 : <gurobi.Var t (value 339.0)>\n",
      "Tâche 1 - Train D2_11 : <gurobi.Var t (value 340.0)>\n",
      "Tâche 1 - Train D2_12 : <gurobi.Var t (value 436.0)>\n",
      "Tâche 1 - Train D1_12 : <gurobi.Var t (value 435.0)>\n",
      "Tâche 1 - Train D3_12 : <gurobi.Var t (value 386.0)>\n",
      "Tâche 1 - Train D3_13 : <gurobi.Var t (value 482.0)>\n",
      "Tâche 1 - Train D4_13 : <gurobi.Var t (value 520.0)>\n",
      "Tâche 1 - Train D3_14 : <gurobi.Var t (value 578.0)>\n",
      "Tâche 1 - Train D4_14 : <gurobi.Var t (value 616.0)>\n",
      "Tâche 2 - Train D1_08 : <gurobi.Var t (value 55.0)>\n",
      "Tâche 2 - Train D2_08 : <gurobi.Var t (value 54.0)>\n",
      "Tâche 2 - Train D1_09 : <gurobi.Var t (value 148.0)>\n",
      "Tâche 2 - Train D3_09 : <gurobi.Var t (value 99.0)>\n",
      "Tâche 2 - Train D2_09 : <gurobi.Var t (value 149.0)>\n",
      "Tâche 2 - Train D1_10 : <gurobi.Var t (value 244.0)>\n",
      "Tâche 2 - Train D2_10 : <gurobi.Var t (value 245.0)>\n",
      "Tâche 2 - Train D3_10 : <gurobi.Var t (value 195.0)>\n",
      "Tâche 2 - Train D3_11 : <gurobi.Var t (value 291.0)>\n",
      "Tâche 2 - Train D1_11 : <gurobi.Var t (value 340.0)>\n",
      "Tâche 2 - Train D2_11 : <gurobi.Var t (value 341.0)>\n",
      "Tâche 2 - Train D2_12 : <gurobi.Var t (value 437.0)>\n",
      "Tâche 2 - Train D1_12 : <gurobi.Var t (value 443.0)>\n",
      "Tâche 2 - Train D3_12 : <gurobi.Var t (value 387.0)>\n",
      "Tâche 2 - Train D3_13 : <gurobi.Var t (value 483.0)>\n",
      "Tâche 2 - Train D4_13 : <gurobi.Var t (value 521.0)>\n",
      "Tâche 2 - Train D3_14 : <gurobi.Var t (value 579.0)>\n",
      "Tâche 2 - Train D4_14 : <gurobi.Var t (value 617.0)>\n",
      "Tâche 3 - Train D1_08 : <gurobi.Var t (value 65.0)>\n",
      "Tâche 3 - Train D2_08 : <gurobi.Var t (value 64.0)>\n",
      "Tâche 3 - Train D1_09 : <gurobi.Var t (value 158.0)>\n",
      "Tâche 3 - Train D3_09 : <gurobi.Var t (value 109.0)>\n",
      "Tâche 3 - Train D2_09 : <gurobi.Var t (value 159.0)>\n",
      "Tâche 3 - Train D1_10 : <gurobi.Var t (value 254.0)>\n",
      "Tâche 3 - Train D2_10 : <gurobi.Var t (value 255.0)>\n",
      "Tâche 3 - Train D3_10 : <gurobi.Var t (value 205.0)>\n",
      "Tâche 3 - Train D3_11 : <gurobi.Var t (value 301.0)>\n",
      "Tâche 3 - Train D1_11 : <gurobi.Var t (value 350.0)>\n",
      "Tâche 3 - Train D2_11 : <gurobi.Var t (value 351.0)>\n",
      "Tâche 3 - Train D2_12 : <gurobi.Var t (value 447.0)>\n",
      "Tâche 3 - Train D1_12 : <gurobi.Var t (value 453.0)>\n",
      "Tâche 3 - Train D3_12 : <gurobi.Var t (value 397.0)>\n",
      "Tâche 3 - Train D3_13 : <gurobi.Var t (value 493.0)>\n",
      "Tâche 3 - Train D4_13 : <gurobi.Var t (value 531.0)>\n",
      "Tâche 3 - Train D3_14 : <gurobi.Var t (value 589.0)>\n",
      "Tâche 3 - Train D4_14 : <gurobi.Var t (value 627.0)>\n",
      "Tâche 4 - Train D1_08 : <gurobi.Var t (value 70.0)>\n",
      "Tâche 4 - Train D2_08 : <gurobi.Var t (value 84.0)>\n",
      "Tâche 4 - Train D1_09 : <gurobi.Var t (value 166.0)>\n",
      "Tâche 4 - Train D3_09 : <gurobi.Var t (value 110.0)>\n",
      "Tâche 4 - Train D2_09 : <gurobi.Var t (value 180.0)>\n",
      "Tâche 4 - Train D1_10 : <gurobi.Var t (value 262.0)>\n",
      "Tâche 4 - Train D2_10 : <gurobi.Var t (value 276.0)>\n",
      "Tâche 4 - Train D3_10 : <gurobi.Var t (value 206.0)>\n",
      "Tâche 4 - Train D3_11 : <gurobi.Var t (value 302.0)>\n",
      "Tâche 4 - Train D1_11 : <gurobi.Var t (value 358.0)>\n",
      "Tâche 4 - Train D2_11 : <gurobi.Var t (value 352.0)>\n",
      "Tâche 4 - Train D2_12 : <gurobi.Var t (value 448.0)>\n",
      "Tâche 4 - Train D1_12 : <gurobi.Var t (value 454.0)>\n",
      "Tâche 4 - Train D3_12 : <gurobi.Var t (value 398.0)>\n",
      "Tâche 4 - Train D3_13 : <gurobi.Var t (value 494.0)>\n",
      "Tâche 4 - Train D4_13 : <gurobi.Var t (value 532.0)>\n",
      "Tâche 4 - Train D3_14 : <gurobi.Var t (value 590.0)>\n",
      "Tâche 4 - Train D4_14 : <gurobi.Var t (value 628.0)>\n",
      "La valeur objectif est : 9.0\n"
     ]
    }
   ],
   "source": [
    "model.optimize()\n",
    "\n",
    "if model.status == GRB.INFEASIBLE:\n",
    "    print(\"Le modèle n'a pas de solution\")\n",
    "elif model.status == GRB.UNBOUNDED:\n",
    "    print(\"Le modèle est non borné\")\n",
    "else:\n",
    "    print(\"Ca marche !\")\n",
    "    for (m, n), var in t_arr.items():\n",
    "        print(f\"Tâche {m} - Train {n} : {var}\")\n",
    "    for (m, n), var in t_dep.items():\n",
    "        print(f\"Tâche {m} - Train {n} : {var}\")\n",
    "    print('La valeur objectif est :', model.objVal)"
   ]
  },
  {
   "cell_type": "code",
   "execution_count": 8,
   "metadata": {},
   "outputs": [
    {
     "data": {
      "application/vnd.plotly.v1+json": {
       "config": {
        "plotlyServerURL": "https://plot.ly"
       },
       "data": [
        {
         "base": [
          "2022-08-08T10:00:00.000000000",
          "2022-08-08T10:15:00.000000000",
          "2022-08-08T13:15:00.000000000"
         ],
         "hovertemplate": "Train=A1_08<br>Start=%{base}<br>Finish=%{x}<br>Tâches=%{y}<extra></extra>",
         "legendgroup": "A1_08",
         "marker": {
          "color": "#636efa",
          "pattern": {
           "shape": ""
          }
         },
         "name": "A1_08",
         "orientation": "h",
         "showlegend": true,
         "textposition": "auto",
         "type": "bar",
         "x": {
          "bdata": "oLsNAOAyKQCguw0A",
          "dtype": "i4"
         },
         "xaxis": "x",
         "y": [
          "arr_1",
          "arr_2",
          "arr_3"
         ],
         "yaxis": "y"
        },
        {
         "base": [
          "2022-08-08T22:00:00.000000000",
          "2022-08-08T22:15:00.000000000",
          "2022-08-08T23:00:00.000000000"
         ],
         "hovertemplate": "Train=A3_08<br>Start=%{base}<br>Finish=%{x}<br>Tâches=%{y}<extra></extra>",
         "legendgroup": "A3_08",
         "marker": {
          "color": "#EF553B",
          "pattern": {
           "shape": ""
          }
         },
         "name": "A3_08",
         "orientation": "h",
         "showlegend": true,
         "textposition": "auto",
         "type": "bar",
         "x": {
          "bdata": "oLsNAOAyKQCguw0A",
          "dtype": "i4"
         },
         "xaxis": "x",
         "y": [
          "arr_1",
          "arr_2",
          "arr_3"
         ],
         "yaxis": "y"
        },
        {
         "base": [
          "2022-08-08T11:30:00.000000000",
          "2022-08-08T11:45:00.000000000",
          "2022-08-08T13:00:00.000000000"
         ],
         "hovertemplate": "Train=A2_08<br>Start=%{base}<br>Finish=%{x}<br>Tâches=%{y}<extra></extra>",
         "legendgroup": "A2_08",
         "marker": {
          "color": "#00cc96",
          "pattern": {
           "shape": ""
          }
         },
         "name": "A2_08",
         "orientation": "h",
         "showlegend": true,
         "textposition": "auto",
         "type": "bar",
         "x": {
          "bdata": "oLsNAOAyKQCguw0A",
          "dtype": "i4"
         },
         "xaxis": "x",
         "y": [
          "arr_1",
          "arr_2",
          "arr_3"
         ],
         "yaxis": "y"
        },
        {
         "base": [
          "2022-08-09T11:30:00.000000000",
          "2022-08-09T11:45:00.000000000",
          "2022-08-09T12:30:00.000000000"
         ],
         "hovertemplate": "Train=A2_09<br>Start=%{base}<br>Finish=%{x}<br>Tâches=%{y}<extra></extra>",
         "legendgroup": "A2_09",
         "marker": {
          "color": "#ab63fa",
          "pattern": {
           "shape": ""
          }
         },
         "name": "A2_09",
         "orientation": "h",
         "showlegend": true,
         "textposition": "auto",
         "type": "bar",
         "x": {
          "bdata": "oLsNAOAyKQCguw0A",
          "dtype": "i4"
         },
         "xaxis": "x",
         "y": [
          "arr_1",
          "arr_2",
          "arr_3"
         ],
         "yaxis": "y"
        },
        {
         "base": [
          "2022-08-09T22:00:00.000000000",
          "2022-08-09T22:15:00.000000000",
          "2022-08-09T23:00:00.000000000"
         ],
         "hovertemplate": "Train=A3_09<br>Start=%{base}<br>Finish=%{x}<br>Tâches=%{y}<extra></extra>",
         "legendgroup": "A3_09",
         "marker": {
          "color": "#FFA15A",
          "pattern": {
           "shape": ""
          }
         },
         "name": "A3_09",
         "orientation": "h",
         "showlegend": true,
         "textposition": "auto",
         "type": "bar",
         "x": {
          "bdata": "oLsNAOAyKQCguw0A",
          "dtype": "i4"
         },
         "xaxis": "x",
         "y": [
          "arr_1",
          "arr_2",
          "arr_3"
         ],
         "yaxis": "y"
        },
        {
         "base": [
          "2022-08-09T10:00:00.000000000",
          "2022-08-09T11:30:00.000000000",
          "2022-08-09T12:15:00.000000000"
         ],
         "hovertemplate": "Train=A1_09<br>Start=%{base}<br>Finish=%{x}<br>Tâches=%{y}<extra></extra>",
         "legendgroup": "A1_09",
         "marker": {
          "color": "#19d3f3",
          "pattern": {
           "shape": ""
          }
         },
         "name": "A1_09",
         "orientation": "h",
         "showlegend": true,
         "textposition": "auto",
         "type": "bar",
         "x": {
          "bdata": "oLsNAOAyKQCguw0A",
          "dtype": "i4"
         },
         "xaxis": "x",
         "y": [
          "arr_1",
          "arr_2",
          "arr_3"
         ],
         "yaxis": "y"
        },
        {
         "base": [
          "2022-08-10T22:00:00.000000000",
          "2022-08-10T22:15:00.000000000",
          "2022-08-10T23:00:00.000000000"
         ],
         "hovertemplate": "Train=A3_10<br>Start=%{base}<br>Finish=%{x}<br>Tâches=%{y}<extra></extra>",
         "legendgroup": "A3_10",
         "marker": {
          "color": "#FF6692",
          "pattern": {
           "shape": ""
          }
         },
         "name": "A3_10",
         "orientation": "h",
         "showlegend": true,
         "textposition": "auto",
         "type": "bar",
         "x": {
          "bdata": "oLsNAOAyKQCguw0A",
          "dtype": "i4"
         },
         "xaxis": "x",
         "y": [
          "arr_1",
          "arr_2",
          "arr_3"
         ],
         "yaxis": "y"
        },
        {
         "base": [
          "2022-08-10T10:00:00.000000000",
          "2022-08-10T10:15:00.000000000",
          "2022-08-10T11:00:00.000000000"
         ],
         "hovertemplate": "Train=A1_10<br>Start=%{base}<br>Finish=%{x}<br>Tâches=%{y}<extra></extra>",
         "legendgroup": "A1_10",
         "marker": {
          "color": "#B6E880",
          "pattern": {
           "shape": ""
          }
         },
         "name": "A1_10",
         "orientation": "h",
         "showlegend": true,
         "textposition": "auto",
         "type": "bar",
         "x": {
          "bdata": "oLsNAOAyKQCguw0A",
          "dtype": "i4"
         },
         "xaxis": "x",
         "y": [
          "arr_1",
          "arr_2",
          "arr_3"
         ],
         "yaxis": "y"
        },
        {
         "base": [
          "2022-08-10T11:30:00.000000000",
          "2022-08-10T11:45:00.000000000",
          "2022-08-10T12:30:00.000000000"
         ],
         "hovertemplate": "Train=A2_10<br>Start=%{base}<br>Finish=%{x}<br>Tâches=%{y}<extra></extra>",
         "legendgroup": "A2_10",
         "marker": {
          "color": "#FF97FF",
          "pattern": {
           "shape": ""
          }
         },
         "name": "A2_10",
         "orientation": "h",
         "showlegend": true,
         "textposition": "auto",
         "type": "bar",
         "x": {
          "bdata": "oLsNAOAyKQCguw0A",
          "dtype": "i4"
         },
         "xaxis": "x",
         "y": [
          "arr_1",
          "arr_2",
          "arr_3"
         ],
         "yaxis": "y"
        },
        {
         "base": [
          "2022-08-11T11:30:00.000000000",
          "2022-08-11T11:45:00.000000000",
          "2022-08-11T12:30:00.000000000"
         ],
         "hovertemplate": "Train=A2_11<br>Start=%{base}<br>Finish=%{x}<br>Tâches=%{y}<extra></extra>",
         "legendgroup": "A2_11",
         "marker": {
          "color": "#FECB52",
          "pattern": {
           "shape": ""
          }
         },
         "name": "A2_11",
         "orientation": "h",
         "showlegend": true,
         "textposition": "auto",
         "type": "bar",
         "x": {
          "bdata": "oLsNAOAyKQCguw0A",
          "dtype": "i4"
         },
         "xaxis": "x",
         "y": [
          "arr_1",
          "arr_2",
          "arr_3"
         ],
         "yaxis": "y"
        },
        {
         "base": [
          "2022-08-11T10:00:00.000000000",
          "2022-08-11T10:15:00.000000000",
          "2022-08-11T11:00:00.000000000"
         ],
         "hovertemplate": "Train=A1_11<br>Start=%{base}<br>Finish=%{x}<br>Tâches=%{y}<extra></extra>",
         "legendgroup": "A1_11",
         "marker": {
          "color": "#636efa",
          "pattern": {
           "shape": ""
          }
         },
         "name": "A1_11",
         "orientation": "h",
         "showlegend": true,
         "textposition": "auto",
         "type": "bar",
         "x": {
          "bdata": "oLsNAOAyKQCguw0A",
          "dtype": "i4"
         },
         "xaxis": "x",
         "y": [
          "arr_1",
          "arr_2",
          "arr_3"
         ],
         "yaxis": "y"
        },
        {
         "base": [
          "2022-08-11T22:00:00.000000000",
          "2022-08-11T22:15:00.000000000",
          "2022-08-11T23:00:00.000000000"
         ],
         "hovertemplate": "Train=A3_11<br>Start=%{base}<br>Finish=%{x}<br>Tâches=%{y}<extra></extra>",
         "legendgroup": "A3_11",
         "marker": {
          "color": "#EF553B",
          "pattern": {
           "shape": ""
          }
         },
         "name": "A3_11",
         "orientation": "h",
         "showlegend": true,
         "textposition": "auto",
         "type": "bar",
         "x": {
          "bdata": "oLsNAOAyKQCguw0A",
          "dtype": "i4"
         },
         "xaxis": "x",
         "y": [
          "arr_1",
          "arr_2",
          "arr_3"
         ],
         "yaxis": "y"
        },
        {
         "base": [
          "2022-08-12T11:30:00.000000000",
          "2022-08-12T11:45:00.000000000",
          "2022-08-12T12:30:00.000000000"
         ],
         "hovertemplate": "Train=A2_12<br>Start=%{base}<br>Finish=%{x}<br>Tâches=%{y}<extra></extra>",
         "legendgroup": "A2_12",
         "marker": {
          "color": "#00cc96",
          "pattern": {
           "shape": ""
          }
         },
         "name": "A2_12",
         "orientation": "h",
         "showlegend": true,
         "textposition": "auto",
         "type": "bar",
         "x": {
          "bdata": "oLsNAOAyKQCguw0A",
          "dtype": "i4"
         },
         "xaxis": "x",
         "y": [
          "arr_1",
          "arr_2",
          "arr_3"
         ],
         "yaxis": "y"
        },
        {
         "base": [
          "2022-08-12T22:00:00.000000000",
          "2022-08-12T22:15:00.000000000",
          "2022-08-12T23:00:00.000000000"
         ],
         "hovertemplate": "Train=A3_12<br>Start=%{base}<br>Finish=%{x}<br>Tâches=%{y}<extra></extra>",
         "legendgroup": "A3_12",
         "marker": {
          "color": "#ab63fa",
          "pattern": {
           "shape": ""
          }
         },
         "name": "A3_12",
         "orientation": "h",
         "showlegend": true,
         "textposition": "auto",
         "type": "bar",
         "x": {
          "bdata": "oLsNAOAyKQCguw0A",
          "dtype": "i4"
         },
         "xaxis": "x",
         "y": [
          "arr_1",
          "arr_2",
          "arr_3"
         ],
         "yaxis": "y"
        },
        {
         "base": [
          "2022-08-12T10:00:00.000000000",
          "2022-08-12T11:30:00.000000000",
          "2022-08-12T12:15:00.000000000"
         ],
         "hovertemplate": "Train=A1_12<br>Start=%{base}<br>Finish=%{x}<br>Tâches=%{y}<extra></extra>",
         "legendgroup": "A1_12",
         "marker": {
          "color": "#FFA15A",
          "pattern": {
           "shape": ""
          }
         },
         "name": "A1_12",
         "orientation": "h",
         "showlegend": true,
         "textposition": "auto",
         "type": "bar",
         "x": {
          "bdata": "oLsNAOAyKQCguw0A",
          "dtype": "i4"
         },
         "xaxis": "x",
         "y": [
          "arr_1",
          "arr_2",
          "arr_3"
         ],
         "yaxis": "y"
        },
        {
         "base": [
          "2022-08-13T22:00:00.000000000",
          "2022-08-13T22:15:00.000000000",
          "2022-08-13T23:00:00.000000000"
         ],
         "hovertemplate": "Train=A3_13<br>Start=%{base}<br>Finish=%{x}<br>Tâches=%{y}<extra></extra>",
         "legendgroup": "A3_13",
         "marker": {
          "color": "#19d3f3",
          "pattern": {
           "shape": ""
          }
         },
         "name": "A3_13",
         "orientation": "h",
         "showlegend": true,
         "textposition": "auto",
         "type": "bar",
         "x": {
          "bdata": "oLsNAOAyKQCguw0A",
          "dtype": "i4"
         },
         "xaxis": "x",
         "y": [
          "arr_1",
          "arr_2",
          "arr_3"
         ],
         "yaxis": "y"
        },
        {
         "base": [
          "2022-08-13T08:45:00.000000000",
          "2022-08-13T09:00:00.000000000",
          "2022-08-13T09:45:00.000000000"
         ],
         "hovertemplate": "Train=A4_13<br>Start=%{base}<br>Finish=%{x}<br>Tâches=%{y}<extra></extra>",
         "legendgroup": "A4_13",
         "marker": {
          "color": "#FF6692",
          "pattern": {
           "shape": ""
          }
         },
         "name": "A4_13",
         "orientation": "h",
         "showlegend": true,
         "textposition": "auto",
         "type": "bar",
         "x": {
          "bdata": "oLsNAOAyKQCguw0A",
          "dtype": "i4"
         },
         "xaxis": "x",
         "y": [
          "arr_1",
          "arr_2",
          "arr_3"
         ],
         "yaxis": "y"
        },
        {
         "base": [
          "2022-08-14T08:45:00.000000000",
          "2022-08-14T09:00:00.000000000",
          "2022-08-14T09:45:00.000000000"
         ],
         "hovertemplate": "Train=A4_14<br>Start=%{base}<br>Finish=%{x}<br>Tâches=%{y}<extra></extra>",
         "legendgroup": "A4_14",
         "marker": {
          "color": "#B6E880",
          "pattern": {
           "shape": ""
          }
         },
         "name": "A4_14",
         "orientation": "h",
         "showlegend": true,
         "textposition": "auto",
         "type": "bar",
         "x": {
          "bdata": "oLsNAOAyKQCguw0A",
          "dtype": "i4"
         },
         "xaxis": "x",
         "y": [
          "arr_1",
          "arr_2",
          "arr_3"
         ],
         "yaxis": "y"
        },
        {
         "base": [
          "2022-08-08T13:30:00.000000000",
          "2022-08-08T13:45:00.000000000",
          "2022-08-08T16:15:00.000000000",
          "2022-08-08T17:30:00.000000000"
         ],
         "hovertemplate": "Train=D1_08<br>Start=%{base}<br>Finish=%{x}<br>Tâches=%{y}<extra></extra>",
         "legendgroup": "D1_08",
         "marker": {
          "color": "#FF97FF",
          "pattern": {
           "shape": ""
          }
         },
         "name": "D1_08",
         "orientation": "h",
         "showlegend": true,
         "textposition": "auto",
         "type": "bar",
         "x": {
          "bdata": "oLsNAEBUiQCguw0AgE8SAA==",
          "dtype": "i4"
         },
         "xaxis": "x",
         "y": [
          "dep_1",
          "dep_2",
          "dep_3",
          "dep_4"
         ],
         "yaxis": "y"
        },
        {
         "base": [
          "2022-08-08T13:15:00.000000000",
          "2022-08-08T13:30:00.000000000",
          "2022-08-08T16:00:00.000000000",
          "2022-08-08T21:00:00.000000000"
         ],
         "hovertemplate": "Train=D2_08<br>Start=%{base}<br>Finish=%{x}<br>Tâches=%{y}<extra></extra>",
         "legendgroup": "D2_08",
         "marker": {
          "color": "#FECB52",
          "pattern": {
           "shape": ""
          }
         },
         "name": "D2_08",
         "orientation": "h",
         "showlegend": true,
         "textposition": "auto",
         "type": "bar",
         "x": {
          "bdata": "oLsNAEBUiQCguw0AgE8SAA==",
          "dtype": "i4"
         },
         "xaxis": "x",
         "y": [
          "dep_1",
          "dep_2",
          "dep_3",
          "dep_4"
         ],
         "yaxis": "y"
        },
        {
         "base": [
          "2022-08-09T12:45:00.000000000",
          "2022-08-09T13:00:00.000000000",
          "2022-08-09T15:30:00.000000000",
          "2022-08-09T17:30:00.000000000"
         ],
         "hovertemplate": "Train=D1_09<br>Start=%{base}<br>Finish=%{x}<br>Tâches=%{y}<extra></extra>",
         "legendgroup": "D1_09",
         "marker": {
          "color": "#636efa",
          "pattern": {
           "shape": ""
          }
         },
         "name": "D1_09",
         "orientation": "h",
         "showlegend": true,
         "textposition": "auto",
         "type": "bar",
         "x": {
          "bdata": "oLsNAEBUiQCguw0AgE8SAA==",
          "dtype": "i4"
         },
         "xaxis": "x",
         "y": [
          "dep_1",
          "dep_2",
          "dep_3",
          "dep_4"
         ],
         "yaxis": "y"
        },
        {
         "base": [
          "2022-08-09T00:30:00.000000000",
          "2022-08-09T00:45:00.000000000",
          "2022-08-09T03:15:00.000000000",
          "2022-08-09T03:30:00.000000000"
         ],
         "hovertemplate": "Train=D3_09<br>Start=%{base}<br>Finish=%{x}<br>Tâches=%{y}<extra></extra>",
         "legendgroup": "D3_09",
         "marker": {
          "color": "#EF553B",
          "pattern": {
           "shape": ""
          }
         },
         "name": "D3_09",
         "orientation": "h",
         "showlegend": true,
         "textposition": "auto",
         "type": "bar",
         "x": {
          "bdata": "oLsNAEBUiQCguw0AgE8SAA==",
          "dtype": "i4"
         },
         "xaxis": "x",
         "y": [
          "dep_1",
          "dep_2",
          "dep_3",
          "dep_4"
         ],
         "yaxis": "y"
        },
        {
         "base": [
          "2022-08-09T13:00:00.000000000",
          "2022-08-09T13:15:00.000000000",
          "2022-08-09T15:45:00.000000000",
          "2022-08-09T21:00:00.000000000"
         ],
         "hovertemplate": "Train=D2_09<br>Start=%{base}<br>Finish=%{x}<br>Tâches=%{y}<extra></extra>",
         "legendgroup": "D2_09",
         "marker": {
          "color": "#00cc96",
          "pattern": {
           "shape": ""
          }
         },
         "name": "D2_09",
         "orientation": "h",
         "showlegend": true,
         "textposition": "auto",
         "type": "bar",
         "x": {
          "bdata": "oLsNAEBUiQCguw0AgE8SAA==",
          "dtype": "i4"
         },
         "xaxis": "x",
         "y": [
          "dep_1",
          "dep_2",
          "dep_3",
          "dep_4"
         ],
         "yaxis": "y"
        },
        {
         "base": [
          "2022-08-10T12:45:00.000000000",
          "2022-08-10T13:00:00.000000000",
          "2022-08-10T15:30:00.000000000",
          "2022-08-10T17:30:00.000000000"
         ],
         "hovertemplate": "Train=D1_10<br>Start=%{base}<br>Finish=%{x}<br>Tâches=%{y}<extra></extra>",
         "legendgroup": "D1_10",
         "marker": {
          "color": "#ab63fa",
          "pattern": {
           "shape": ""
          }
         },
         "name": "D1_10",
         "orientation": "h",
         "showlegend": true,
         "textposition": "auto",
         "type": "bar",
         "x": {
          "bdata": "oLsNAEBUiQCguw0AgE8SAA==",
          "dtype": "i4"
         },
         "xaxis": "x",
         "y": [
          "dep_1",
          "dep_2",
          "dep_3",
          "dep_4"
         ],
         "yaxis": "y"
        },
        {
         "base": [
          "2022-08-10T13:00:00.000000000",
          "2022-08-10T13:15:00.000000000",
          "2022-08-10T15:45:00.000000000",
          "2022-08-10T21:00:00.000000000"
         ],
         "hovertemplate": "Train=D2_10<br>Start=%{base}<br>Finish=%{x}<br>Tâches=%{y}<extra></extra>",
         "legendgroup": "D2_10",
         "marker": {
          "color": "#FFA15A",
          "pattern": {
           "shape": ""
          }
         },
         "name": "D2_10",
         "orientation": "h",
         "showlegend": true,
         "textposition": "auto",
         "type": "bar",
         "x": {
          "bdata": "oLsNAEBUiQCguw0AgE8SAA==",
          "dtype": "i4"
         },
         "xaxis": "x",
         "y": [
          "dep_1",
          "dep_2",
          "dep_3",
          "dep_4"
         ],
         "yaxis": "y"
        },
        {
         "base": [
          "2022-08-10T00:30:00.000000000",
          "2022-08-10T00:45:00.000000000",
          "2022-08-10T03:15:00.000000000",
          "2022-08-10T03:30:00.000000000"
         ],
         "hovertemplate": "Train=D3_10<br>Start=%{base}<br>Finish=%{x}<br>Tâches=%{y}<extra></extra>",
         "legendgroup": "D3_10",
         "marker": {
          "color": "#19d3f3",
          "pattern": {
           "shape": ""
          }
         },
         "name": "D3_10",
         "orientation": "h",
         "showlegend": true,
         "textposition": "auto",
         "type": "bar",
         "x": {
          "bdata": "oLsNAEBUiQCguw0AgE8SAA==",
          "dtype": "i4"
         },
         "xaxis": "x",
         "y": [
          "dep_1",
          "dep_2",
          "dep_3",
          "dep_4"
         ],
         "yaxis": "y"
        },
        {
         "base": [
          "2022-08-11T00:30:00.000000000",
          "2022-08-11T00:45:00.000000000",
          "2022-08-11T03:15:00.000000000",
          "2022-08-11T03:30:00.000000000"
         ],
         "hovertemplate": "Train=D3_11<br>Start=%{base}<br>Finish=%{x}<br>Tâches=%{y}<extra></extra>",
         "legendgroup": "D3_11",
         "marker": {
          "color": "#FF6692",
          "pattern": {
           "shape": ""
          }
         },
         "name": "D3_11",
         "orientation": "h",
         "showlegend": true,
         "textposition": "auto",
         "type": "bar",
         "x": {
          "bdata": "oLsNAEBUiQCguw0AgE8SAA==",
          "dtype": "i4"
         },
         "xaxis": "x",
         "y": [
          "dep_1",
          "dep_2",
          "dep_3",
          "dep_4"
         ],
         "yaxis": "y"
        },
        {
         "base": [
          "2022-08-11T12:45:00.000000000",
          "2022-08-11T13:00:00.000000000",
          "2022-08-11T15:30:00.000000000",
          "2022-08-11T17:30:00.000000000"
         ],
         "hovertemplate": "Train=D1_11<br>Start=%{base}<br>Finish=%{x}<br>Tâches=%{y}<extra></extra>",
         "legendgroup": "D1_11",
         "marker": {
          "color": "#B6E880",
          "pattern": {
           "shape": ""
          }
         },
         "name": "D1_11",
         "orientation": "h",
         "showlegend": true,
         "textposition": "auto",
         "type": "bar",
         "x": {
          "bdata": "oLsNAEBUiQCguw0AgE8SAA==",
          "dtype": "i4"
         },
         "xaxis": "x",
         "y": [
          "dep_1",
          "dep_2",
          "dep_3",
          "dep_4"
         ],
         "yaxis": "y"
        },
        {
         "base": [
          "2022-08-11T13:00:00.000000000",
          "2022-08-11T13:15:00.000000000",
          "2022-08-11T15:45:00.000000000",
          "2022-08-11T16:00:00.000000000"
         ],
         "hovertemplate": "Train=D2_11<br>Start=%{base}<br>Finish=%{x}<br>Tâches=%{y}<extra></extra>",
         "legendgroup": "D2_11",
         "marker": {
          "color": "#FF97FF",
          "pattern": {
           "shape": ""
          }
         },
         "name": "D2_11",
         "orientation": "h",
         "showlegend": true,
         "textposition": "auto",
         "type": "bar",
         "x": {
          "bdata": "oLsNAEBUiQCguw0AgE8SAA==",
          "dtype": "i4"
         },
         "xaxis": "x",
         "y": [
          "dep_1",
          "dep_2",
          "dep_3",
          "dep_4"
         ],
         "yaxis": "y"
        },
        {
         "base": [
          "2022-08-12T13:00:00.000000000",
          "2022-08-12T13:15:00.000000000",
          "2022-08-12T15:45:00.000000000",
          "2022-08-12T16:00:00.000000000"
         ],
         "hovertemplate": "Train=D2_12<br>Start=%{base}<br>Finish=%{x}<br>Tâches=%{y}<extra></extra>",
         "legendgroup": "D2_12",
         "marker": {
          "color": "#FECB52",
          "pattern": {
           "shape": ""
          }
         },
         "name": "D2_12",
         "orientation": "h",
         "showlegend": true,
         "textposition": "auto",
         "type": "bar",
         "x": {
          "bdata": "oLsNAEBUiQCguw0AgE8SAA==",
          "dtype": "i4"
         },
         "xaxis": "x",
         "y": [
          "dep_1",
          "dep_2",
          "dep_3",
          "dep_4"
         ],
         "yaxis": "y"
        },
        {
         "base": [
          "2022-08-12T12:45:00.000000000",
          "2022-08-12T14:45:00.000000000",
          "2022-08-12T17:15:00.000000000",
          "2022-08-12T17:30:00.000000000"
         ],
         "hovertemplate": "Train=D1_12<br>Start=%{base}<br>Finish=%{x}<br>Tâches=%{y}<extra></extra>",
         "legendgroup": "D1_12",
         "marker": {
          "color": "#636efa",
          "pattern": {
           "shape": ""
          }
         },
         "name": "D1_12",
         "orientation": "h",
         "showlegend": true,
         "textposition": "auto",
         "type": "bar",
         "x": {
          "bdata": "oLsNAEBUiQCguw0AgE8SAA==",
          "dtype": "i4"
         },
         "xaxis": "x",
         "y": [
          "dep_1",
          "dep_2",
          "dep_3",
          "dep_4"
         ],
         "yaxis": "y"
        },
        {
         "base": [
          "2022-08-12T00:30:00.000000000",
          "2022-08-12T00:45:00.000000000",
          "2022-08-12T03:15:00.000000000",
          "2022-08-12T03:30:00.000000000"
         ],
         "hovertemplate": "Train=D3_12<br>Start=%{base}<br>Finish=%{x}<br>Tâches=%{y}<extra></extra>",
         "legendgroup": "D3_12",
         "marker": {
          "color": "#EF553B",
          "pattern": {
           "shape": ""
          }
         },
         "name": "D3_12",
         "orientation": "h",
         "showlegend": true,
         "textposition": "auto",
         "type": "bar",
         "x": {
          "bdata": "oLsNAEBUiQCguw0AgE8SAA==",
          "dtype": "i4"
         },
         "xaxis": "x",
         "y": [
          "dep_1",
          "dep_2",
          "dep_3",
          "dep_4"
         ],
         "yaxis": "y"
        },
        {
         "base": [
          "2022-08-13T00:30:00.000000000",
          "2022-08-13T00:45:00.000000000",
          "2022-08-13T03:15:00.000000000",
          "2022-08-13T03:30:00.000000000"
         ],
         "hovertemplate": "Train=D3_13<br>Start=%{base}<br>Finish=%{x}<br>Tâches=%{y}<extra></extra>",
         "legendgroup": "D3_13",
         "marker": {
          "color": "#00cc96",
          "pattern": {
           "shape": ""
          }
         },
         "name": "D3_13",
         "orientation": "h",
         "showlegend": true,
         "textposition": "auto",
         "type": "bar",
         "x": {
          "bdata": "oLsNAEBUiQCguw0AgE8SAA==",
          "dtype": "i4"
         },
         "xaxis": "x",
         "y": [
          "dep_1",
          "dep_2",
          "dep_3",
          "dep_4"
         ],
         "yaxis": "y"
        },
        {
         "base": [
          "2022-08-13T10:00:00.000000000",
          "2022-08-13T10:15:00.000000000",
          "2022-08-13T12:45:00.000000000",
          "2022-08-13T13:00:00.000000000"
         ],
         "hovertemplate": "Train=D4_13<br>Start=%{base}<br>Finish=%{x}<br>Tâches=%{y}<extra></extra>",
         "legendgroup": "D4_13",
         "marker": {
          "color": "#ab63fa",
          "pattern": {
           "shape": ""
          }
         },
         "name": "D4_13",
         "orientation": "h",
         "showlegend": true,
         "textposition": "auto",
         "type": "bar",
         "x": {
          "bdata": "oLsNAEBUiQCguw0AgE8SAA==",
          "dtype": "i4"
         },
         "xaxis": "x",
         "y": [
          "dep_1",
          "dep_2",
          "dep_3",
          "dep_4"
         ],
         "yaxis": "y"
        },
        {
         "base": [
          "2022-08-14T00:30:00.000000000",
          "2022-08-14T00:45:00.000000000",
          "2022-08-14T03:15:00.000000000",
          "2022-08-14T03:30:00.000000000"
         ],
         "hovertemplate": "Train=D3_14<br>Start=%{base}<br>Finish=%{x}<br>Tâches=%{y}<extra></extra>",
         "legendgroup": "D3_14",
         "marker": {
          "color": "#FFA15A",
          "pattern": {
           "shape": ""
          }
         },
         "name": "D3_14",
         "orientation": "h",
         "showlegend": true,
         "textposition": "auto",
         "type": "bar",
         "x": {
          "bdata": "oLsNAEBUiQCguw0AgE8SAA==",
          "dtype": "i4"
         },
         "xaxis": "x",
         "y": [
          "dep_1",
          "dep_2",
          "dep_3",
          "dep_4"
         ],
         "yaxis": "y"
        },
        {
         "base": [
          "2022-08-14T10:00:00.000000000",
          "2022-08-14T10:15:00.000000000",
          "2022-08-14T12:45:00.000000000",
          "2022-08-14T13:00:00.000000000"
         ],
         "hovertemplate": "Train=D4_14<br>Start=%{base}<br>Finish=%{x}<br>Tâches=%{y}<extra></extra>",
         "legendgroup": "D4_14",
         "marker": {
          "color": "#19d3f3",
          "pattern": {
           "shape": ""
          }
         },
         "name": "D4_14",
         "orientation": "h",
         "showlegend": true,
         "textposition": "auto",
         "type": "bar",
         "x": {
          "bdata": "oLsNAEBUiQCguw0AgE8SAA==",
          "dtype": "i4"
         },
         "xaxis": "x",
         "y": [
          "dep_1",
          "dep_2",
          "dep_3",
          "dep_4"
         ],
         "yaxis": "y"
        }
       ],
       "layout": {
        "barmode": "overlay",
        "legend": {
         "title": {
          "text": "Train"
         },
         "tracegroupgap": 0
        },
        "margin": {
         "t": 60
        },
        "template": {
         "data": {
          "bar": [
           {
            "error_x": {
             "color": "#2a3f5f"
            },
            "error_y": {
             "color": "#2a3f5f"
            },
            "marker": {
             "line": {
              "color": "#E5ECF6",
              "width": 0.5
             },
             "pattern": {
              "fillmode": "overlay",
              "size": 10,
              "solidity": 0.2
             }
            },
            "type": "bar"
           }
          ],
          "barpolar": [
           {
            "marker": {
             "line": {
              "color": "#E5ECF6",
              "width": 0.5
             },
             "pattern": {
              "fillmode": "overlay",
              "size": 10,
              "solidity": 0.2
             }
            },
            "type": "barpolar"
           }
          ],
          "carpet": [
           {
            "aaxis": {
             "endlinecolor": "#2a3f5f",
             "gridcolor": "white",
             "linecolor": "white",
             "minorgridcolor": "white",
             "startlinecolor": "#2a3f5f"
            },
            "baxis": {
             "endlinecolor": "#2a3f5f",
             "gridcolor": "white",
             "linecolor": "white",
             "minorgridcolor": "white",
             "startlinecolor": "#2a3f5f"
            },
            "type": "carpet"
           }
          ],
          "choropleth": [
           {
            "colorbar": {
             "outlinewidth": 0,
             "ticks": ""
            },
            "type": "choropleth"
           }
          ],
          "contour": [
           {
            "colorbar": {
             "outlinewidth": 0,
             "ticks": ""
            },
            "colorscale": [
             [
              0,
              "#0d0887"
             ],
             [
              0.1111111111111111,
              "#46039f"
             ],
             [
              0.2222222222222222,
              "#7201a8"
             ],
             [
              0.3333333333333333,
              "#9c179e"
             ],
             [
              0.4444444444444444,
              "#bd3786"
             ],
             [
              0.5555555555555556,
              "#d8576b"
             ],
             [
              0.6666666666666666,
              "#ed7953"
             ],
             [
              0.7777777777777778,
              "#fb9f3a"
             ],
             [
              0.8888888888888888,
              "#fdca26"
             ],
             [
              1,
              "#f0f921"
             ]
            ],
            "type": "contour"
           }
          ],
          "contourcarpet": [
           {
            "colorbar": {
             "outlinewidth": 0,
             "ticks": ""
            },
            "type": "contourcarpet"
           }
          ],
          "heatmap": [
           {
            "colorbar": {
             "outlinewidth": 0,
             "ticks": ""
            },
            "colorscale": [
             [
              0,
              "#0d0887"
             ],
             [
              0.1111111111111111,
              "#46039f"
             ],
             [
              0.2222222222222222,
              "#7201a8"
             ],
             [
              0.3333333333333333,
              "#9c179e"
             ],
             [
              0.4444444444444444,
              "#bd3786"
             ],
             [
              0.5555555555555556,
              "#d8576b"
             ],
             [
              0.6666666666666666,
              "#ed7953"
             ],
             [
              0.7777777777777778,
              "#fb9f3a"
             ],
             [
              0.8888888888888888,
              "#fdca26"
             ],
             [
              1,
              "#f0f921"
             ]
            ],
            "type": "heatmap"
           }
          ],
          "histogram": [
           {
            "marker": {
             "pattern": {
              "fillmode": "overlay",
              "size": 10,
              "solidity": 0.2
             }
            },
            "type": "histogram"
           }
          ],
          "histogram2d": [
           {
            "colorbar": {
             "outlinewidth": 0,
             "ticks": ""
            },
            "colorscale": [
             [
              0,
              "#0d0887"
             ],
             [
              0.1111111111111111,
              "#46039f"
             ],
             [
              0.2222222222222222,
              "#7201a8"
             ],
             [
              0.3333333333333333,
              "#9c179e"
             ],
             [
              0.4444444444444444,
              "#bd3786"
             ],
             [
              0.5555555555555556,
              "#d8576b"
             ],
             [
              0.6666666666666666,
              "#ed7953"
             ],
             [
              0.7777777777777778,
              "#fb9f3a"
             ],
             [
              0.8888888888888888,
              "#fdca26"
             ],
             [
              1,
              "#f0f921"
             ]
            ],
            "type": "histogram2d"
           }
          ],
          "histogram2dcontour": [
           {
            "colorbar": {
             "outlinewidth": 0,
             "ticks": ""
            },
            "colorscale": [
             [
              0,
              "#0d0887"
             ],
             [
              0.1111111111111111,
              "#46039f"
             ],
             [
              0.2222222222222222,
              "#7201a8"
             ],
             [
              0.3333333333333333,
              "#9c179e"
             ],
             [
              0.4444444444444444,
              "#bd3786"
             ],
             [
              0.5555555555555556,
              "#d8576b"
             ],
             [
              0.6666666666666666,
              "#ed7953"
             ],
             [
              0.7777777777777778,
              "#fb9f3a"
             ],
             [
              0.8888888888888888,
              "#fdca26"
             ],
             [
              1,
              "#f0f921"
             ]
            ],
            "type": "histogram2dcontour"
           }
          ],
          "mesh3d": [
           {
            "colorbar": {
             "outlinewidth": 0,
             "ticks": ""
            },
            "type": "mesh3d"
           }
          ],
          "parcoords": [
           {
            "line": {
             "colorbar": {
              "outlinewidth": 0,
              "ticks": ""
             }
            },
            "type": "parcoords"
           }
          ],
          "pie": [
           {
            "automargin": true,
            "type": "pie"
           }
          ],
          "scatter": [
           {
            "fillpattern": {
             "fillmode": "overlay",
             "size": 10,
             "solidity": 0.2
            },
            "type": "scatter"
           }
          ],
          "scatter3d": [
           {
            "line": {
             "colorbar": {
              "outlinewidth": 0,
              "ticks": ""
             }
            },
            "marker": {
             "colorbar": {
              "outlinewidth": 0,
              "ticks": ""
             }
            },
            "type": "scatter3d"
           }
          ],
          "scattercarpet": [
           {
            "marker": {
             "colorbar": {
              "outlinewidth": 0,
              "ticks": ""
             }
            },
            "type": "scattercarpet"
           }
          ],
          "scattergeo": [
           {
            "marker": {
             "colorbar": {
              "outlinewidth": 0,
              "ticks": ""
             }
            },
            "type": "scattergeo"
           }
          ],
          "scattergl": [
           {
            "marker": {
             "colorbar": {
              "outlinewidth": 0,
              "ticks": ""
             }
            },
            "type": "scattergl"
           }
          ],
          "scattermap": [
           {
            "marker": {
             "colorbar": {
              "outlinewidth": 0,
              "ticks": ""
             }
            },
            "type": "scattermap"
           }
          ],
          "scattermapbox": [
           {
            "marker": {
             "colorbar": {
              "outlinewidth": 0,
              "ticks": ""
             }
            },
            "type": "scattermapbox"
           }
          ],
          "scatterpolar": [
           {
            "marker": {
             "colorbar": {
              "outlinewidth": 0,
              "ticks": ""
             }
            },
            "type": "scatterpolar"
           }
          ],
          "scatterpolargl": [
           {
            "marker": {
             "colorbar": {
              "outlinewidth": 0,
              "ticks": ""
             }
            },
            "type": "scatterpolargl"
           }
          ],
          "scatterternary": [
           {
            "marker": {
             "colorbar": {
              "outlinewidth": 0,
              "ticks": ""
             }
            },
            "type": "scatterternary"
           }
          ],
          "surface": [
           {
            "colorbar": {
             "outlinewidth": 0,
             "ticks": ""
            },
            "colorscale": [
             [
              0,
              "#0d0887"
             ],
             [
              0.1111111111111111,
              "#46039f"
             ],
             [
              0.2222222222222222,
              "#7201a8"
             ],
             [
              0.3333333333333333,
              "#9c179e"
             ],
             [
              0.4444444444444444,
              "#bd3786"
             ],
             [
              0.5555555555555556,
              "#d8576b"
             ],
             [
              0.6666666666666666,
              "#ed7953"
             ],
             [
              0.7777777777777778,
              "#fb9f3a"
             ],
             [
              0.8888888888888888,
              "#fdca26"
             ],
             [
              1,
              "#f0f921"
             ]
            ],
            "type": "surface"
           }
          ],
          "table": [
           {
            "cells": {
             "fill": {
              "color": "#EBF0F8"
             },
             "line": {
              "color": "white"
             }
            },
            "header": {
             "fill": {
              "color": "#C8D4E3"
             },
             "line": {
              "color": "white"
             }
            },
            "type": "table"
           }
          ]
         },
         "layout": {
          "annotationdefaults": {
           "arrowcolor": "#2a3f5f",
           "arrowhead": 0,
           "arrowwidth": 1
          },
          "autotypenumbers": "strict",
          "coloraxis": {
           "colorbar": {
            "outlinewidth": 0,
            "ticks": ""
           }
          },
          "colorscale": {
           "diverging": [
            [
             0,
             "#8e0152"
            ],
            [
             0.1,
             "#c51b7d"
            ],
            [
             0.2,
             "#de77ae"
            ],
            [
             0.3,
             "#f1b6da"
            ],
            [
             0.4,
             "#fde0ef"
            ],
            [
             0.5,
             "#f7f7f7"
            ],
            [
             0.6,
             "#e6f5d0"
            ],
            [
             0.7,
             "#b8e186"
            ],
            [
             0.8,
             "#7fbc41"
            ],
            [
             0.9,
             "#4d9221"
            ],
            [
             1,
             "#276419"
            ]
           ],
           "sequential": [
            [
             0,
             "#0d0887"
            ],
            [
             0.1111111111111111,
             "#46039f"
            ],
            [
             0.2222222222222222,
             "#7201a8"
            ],
            [
             0.3333333333333333,
             "#9c179e"
            ],
            [
             0.4444444444444444,
             "#bd3786"
            ],
            [
             0.5555555555555556,
             "#d8576b"
            ],
            [
             0.6666666666666666,
             "#ed7953"
            ],
            [
             0.7777777777777778,
             "#fb9f3a"
            ],
            [
             0.8888888888888888,
             "#fdca26"
            ],
            [
             1,
             "#f0f921"
            ]
           ],
           "sequentialminus": [
            [
             0,
             "#0d0887"
            ],
            [
             0.1111111111111111,
             "#46039f"
            ],
            [
             0.2222222222222222,
             "#7201a8"
            ],
            [
             0.3333333333333333,
             "#9c179e"
            ],
            [
             0.4444444444444444,
             "#bd3786"
            ],
            [
             0.5555555555555556,
             "#d8576b"
            ],
            [
             0.6666666666666666,
             "#ed7953"
            ],
            [
             0.7777777777777778,
             "#fb9f3a"
            ],
            [
             0.8888888888888888,
             "#fdca26"
            ],
            [
             1,
             "#f0f921"
            ]
           ]
          },
          "colorway": [
           "#636efa",
           "#EF553B",
           "#00cc96",
           "#ab63fa",
           "#FFA15A",
           "#19d3f3",
           "#FF6692",
           "#B6E880",
           "#FF97FF",
           "#FECB52"
          ],
          "font": {
           "color": "#2a3f5f"
          },
          "geo": {
           "bgcolor": "white",
           "lakecolor": "white",
           "landcolor": "#E5ECF6",
           "showlakes": true,
           "showland": true,
           "subunitcolor": "white"
          },
          "hoverlabel": {
           "align": "left"
          },
          "hovermode": "closest",
          "mapbox": {
           "style": "light"
          },
          "paper_bgcolor": "white",
          "plot_bgcolor": "#E5ECF6",
          "polar": {
           "angularaxis": {
            "gridcolor": "white",
            "linecolor": "white",
            "ticks": ""
           },
           "bgcolor": "#E5ECF6",
           "radialaxis": {
            "gridcolor": "white",
            "linecolor": "white",
            "ticks": ""
           }
          },
          "scene": {
           "xaxis": {
            "backgroundcolor": "#E5ECF6",
            "gridcolor": "white",
            "gridwidth": 2,
            "linecolor": "white",
            "showbackground": true,
            "ticks": "",
            "zerolinecolor": "white"
           },
           "yaxis": {
            "backgroundcolor": "#E5ECF6",
            "gridcolor": "white",
            "gridwidth": 2,
            "linecolor": "white",
            "showbackground": true,
            "ticks": "",
            "zerolinecolor": "white"
           },
           "zaxis": {
            "backgroundcolor": "#E5ECF6",
            "gridcolor": "white",
            "gridwidth": 2,
            "linecolor": "white",
            "showbackground": true,
            "ticks": "",
            "zerolinecolor": "white"
           }
          },
          "shapedefaults": {
           "line": {
            "color": "#2a3f5f"
           }
          },
          "ternary": {
           "aaxis": {
            "gridcolor": "white",
            "linecolor": "white",
            "ticks": ""
           },
           "baxis": {
            "gridcolor": "white",
            "linecolor": "white",
            "ticks": ""
           },
           "bgcolor": "#E5ECF6",
           "caxis": {
            "gridcolor": "white",
            "linecolor": "white",
            "ticks": ""
           }
          },
          "title": {
           "x": 0.05
          },
          "xaxis": {
           "automargin": true,
           "gridcolor": "white",
           "linecolor": "white",
           "ticks": "",
           "title": {
            "standoff": 15
           },
           "zerolinecolor": "white",
           "zerolinewidth": 2
          },
          "yaxis": {
           "automargin": true,
           "gridcolor": "white",
           "linecolor": "white",
           "ticks": "",
           "title": {
            "standoff": 15
           },
           "zerolinecolor": "white",
           "zerolinewidth": 2
          }
         }
        },
        "xaxis": {
         "anchor": "y",
         "domain": [
          0,
          1
         ],
         "tickformat": "%d/%m/%y %H:%M",
         "title": {
          "text": "Temps"
         },
         "type": "date"
        },
        "yaxis": {
         "anchor": "x",
         "categoryarray": [
          "dep_4",
          "dep_3",
          "dep_2",
          "dep_1",
          "arr_3",
          "arr_2",
          "arr_1"
         ],
         "categoryorder": "array",
         "domain": [
          0,
          1
         ],
         "title": {
          "text": "Tâches"
         }
        }
       }
      }
     },
     "metadata": {},
     "output_type": "display_data"
    }
   ],
   "source": [
    "visualisation_gantt(t_arr,t_dep).show()"
   ]
  },
  {
   "cell_type": "code",
   "execution_count": 9,
   "metadata": {},
   "outputs": [
    {
     "data": {
      "image/png": "[encoded data removed]",
      "text/plain": [
       "<Figure size 1000x500 with 1 Axes>"
      ]
     },
     "metadata": {},
     "output_type": "display_data"
    }
   ],
   "source": [
    "# Correction du format de la date de référence\n",
    "ref_date = datetime.datetime.strptime(\"08/08/2022\", \"%d/%m/%Y\")\n",
    "\n",
    "# Conversion des temps en dates au format \"dd/mm/yyyy/HH/MM\"\n",
    "x_date = [ref_date + datetime.timedelta(minutes=15*t) for t in range((t_max-t_min)//15+2)]\n",
    "\n",
    "# Calcul des voies occupées pour chaque chantier\n",
    "occupation_REC = np.array([quicksum(is_present['REC'][(id_train, t)].X for id_train in liste_id_train_arrivee).getValue() for t in range((t_max-t_min)//15+2)])\n",
    "occupation_FOR = np.array([quicksum(is_present['FOR'][(id_train, t)].X for id_train in liste_id_train_depart).getValue() for t in range((t_max-t_min)//15+2)])\n",
    "occupation_DEP = np.array([quicksum(is_present['DEP'][(id_train, t)].X for id_train in liste_id_train_depart).getValue() for t in range((t_max-t_min)//15+2)])\n",
    "\n",
    "if visualisation_occupation(occupation_REC, occupation_FOR, occupation_DEP, x_date):\n",
    "    plt.show()\n"
   ]
  },
  {
   "cell_type": "code",
   "execution_count": 10,
   "metadata": {},
   "outputs": [],
   "source": [
    "#Les anciennes variables de décision deviennent les nouvelles données\n",
    "t_arr = {\n",
    "        (m, id_train_arr): t_arr[(m, id_train_arr)].X\n",
    "        for m in Taches.TACHES_ARRIVEE\n",
    "        for id_train_arr in liste_id_train_arrivee\n",
    "    }\n",
    "\n",
    "t_dep = {\n",
    "        (m, id_train_dep): t_dep[(m, id_train_dep)].X\n",
    "        for m in Taches.TACHES_DEPART\n",
    "        for id_train_dep in liste_id_train_depart\n",
    "    }"
   ]
  },
  {
   "cell_type": "code",
   "execution_count": 11,
   "metadata": {},
   "outputs": [],
   "source": [
    "model2, who_arr, who_dep, nombre_agents = init_model2(\n",
    "    liste_id_train_arrivee,\n",
    "    liste_id_train_depart,\n",
    "    nb_cycles_agents,\n",
    "    h_deb,\n",
    "    nombre_roulements=nb_roulements,\n",
    "    equip=equip,\n",
    "    max_agents_sur_roulement=max_agents_sur_roulement,\n",
    "    comp_arr=comp_arr,\n",
    "    comp_dep=comp_dep,\n",
    "    nb_cycle_jour=nb_cycle_jour,\n",
    "    t_arr=t_arr,\n",
    "    t_dep=t_dep\n",
    ")"
   ]
  },
  {
   "cell_type": "code",
   "execution_count": 12,
   "metadata": {},
   "outputs": [
    {
     "name": "stdout",
     "output_type": "stream",
     "text": [
      "Ca marche !\n",
      "La valeur objectif est : 39.0\n"
     ]
    }
   ],
   "source": [
    "model2.optimize()\n",
    "\n",
    "if model2.status == GRB.INFEASIBLE:\n",
    "    print(\"Le modèle n'a pas de solution\")\n",
    "elif model2.status == GRB.UNBOUNDED:\n",
    "    print(\"Le modèle est non borné\")\n",
    "else:\n",
    "    print(\"Ca marche !\")\n",
    "    print('La valeur objectif est :', model2.objVal)"
   ]
  },
  {
   "cell_type": "code",
   "execution_count": 13,
   "metadata": {},
   "outputs": [
    {
     "name": "stdout",
     "output_type": "stream",
     "text": [
      "jour 0 roulement 1 1.0 6\n",
      "jour 1 roulement 1 2.0 6\n",
      "jour 2 roulement 1 2.0 6\n",
      "jour 3 roulement 1 2.0 6\n",
      "jour 4 roulement 1 2.0 6\n",
      "jour 5 roulement 1 2.0 6\n",
      "jour 6 roulement 1 1.0 6\n",
      "jour 7 roulement 1 0.0 6\n",
      "jour 0 roulement 2 1.0 8\n",
      "jour 1 roulement 2 2.0 8\n",
      "jour 2 roulement 2 2.0 8\n",
      "jour 3 roulement 2 1.0 8\n",
      "jour 4 roulement 2 2.0 8\n",
      "jour 5 roulement 2 1.0 8\n",
      "jour 6 roulement 2 0.0 8\n",
      "jour 7 roulement 2 0.0 8\n",
      "jour 0 roulement 3 0.0 2\n",
      "jour 1 roulement 3 0.0 2\n",
      "jour 2 roulement 3 0.0 2\n",
      "jour 3 roulement 3 0.0 2\n",
      "jour 4 roulement 3 0.0 2\n",
      "jour 5 roulement 3 0.0 2\n",
      "jour 6 roulement 3 1.0 2\n",
      "jour 7 roulement 3 0.0 2\n",
      "jour 0 roulement 4 1.0 1\n",
      "jour 1 roulement 4 1.0 1\n",
      "jour 2 roulement 4 0.0 1\n",
      "jour 3 roulement 4 0.0 1\n",
      "jour 4 roulement 4 1.0 1\n",
      "jour 5 roulement 4 1.0 1\n",
      "jour 6 roulement 4 0.0 1\n",
      "jour 0 roulement 5 2.0 7\n",
      "jour 1 roulement 5 2.0 7\n",
      "jour 2 roulement 5 2.0 7\n",
      "jour 3 roulement 5 3.0 7\n",
      "jour 4 roulement 5 2.0 7\n",
      "jour 5 roulement 5 1.0 7\n",
      "jour 6 roulement 5 1.0 7\n",
      "jour 7 roulement 5 0.0 7\n"
     ]
    }
   ],
   "source": [
    "for r in range(1, nb_roulements + 1):\n",
    "        for q in range(nb_cycles_agents[r] // nb_cycle_jour[r]):\n",
    "            print(\"jour\", q, \"roulement\", r, quicksum(\n",
    "                    [\n",
    "                        nombre_agents[(r, nb_cycle_jour[r] * q + i)].X\n",
    "                        for i in range(1, nb_cycle_jour[r] + 1)\n",
    "                    ]\n",
    "                )\n",
    "                , max_agents_sur_roulement[r])"
   ]
  },
  {
   "cell_type": "code",
   "execution_count": null,
   "metadata": {},
   "outputs": [
    {
     "name": "stdout",
     "output_type": "stream",
     "text": [
      "8\n"
     ]
    },
    {
     "name": "stderr",
     "output_type": "stream",
     "text": [
      "c:\\Users\\ggeno\\AppData\\Local\\Programs\\Python\\Python311\\Lib\\site-packages\\openpyxl\\workbook\\child.py:99: UserWarning:\n",
      "\n",
      "Title is more than 31 characters. Some applications may not be able to read the file\n",
      "\n"
     ]
    },
    {
     "name": "stdout",
     "output_type": "stream",
     "text": [
      "{1: 24, 2: 24, 3: 24, 4: 14, 5: 24}\n",
      "{1: 3, 2: 3, 3: 3, 4: 2, 5: 3}\n"
     ]
    }
   ],
   "source": [
    "ecriture_donnees_sortie(\n",
    "    t_arr, \n",
    "    t_dep, \n",
    "    occupation_REC, \n",
    "    occupation_FOR, \n",
    "    occupation_REC, \n",
    "    x_date,\n",
    "    limites_voies,\n",
    "    h_deb,\n",
    "    equip,\n",
    "    nb_cycles_agents,\n",
    "    who_arr,\n",
    "    who_dep,\n",
    "    liste_id_train_arrivee,\n",
    "    liste_id_train_depart,\n",
    "    nombre_agents,\n",
    "    nb_cycle_jour,\n",
    "    df_roulement_agent,\n",
    "    df_taches_humaines,\n",
    "    \"sortie_jalon3\"\n",
    ")"
   ]
  }
 ],
 "metadata": {
  "kernelspec": {
   "display_name": "Python 3",
   "language": "python",
   "name": "python3"
  },
  "language_info": {
   "codemirror_mode": {
    "name": "ipython",
    "version": 3
   },
   "file_extension": ".py",
   "mimetype": "text/x-python",
   "name": "python",
   "nbconvert_exporter": "python",
   "pygments_lexer": "ipython3",
   "version": "3.11.5"
  }
 },
 "nbformat": 4,
 "nbformat_minor": 2
}
