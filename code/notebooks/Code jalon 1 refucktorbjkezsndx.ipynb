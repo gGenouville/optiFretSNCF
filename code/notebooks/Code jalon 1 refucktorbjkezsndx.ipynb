{
 "cells": [
  {
   "cell_type": "code",
   "execution_count": 1,
   "metadata": {},
   "outputs": [],
   "source": [
    "import os\n",
    "import sys\n",
    "from gurobipy import *\n",
    "import pandas as pd\n",
    "module_path = os.path.abspath(\"..\")\n",
    "sys.path.append(module_path)\n",
    "import itertools\n",
    "import datetime\n",
    "import plotly.express as px\n",
    "\n",
    "from module.modele1 import init_model,Taches\n",
    "from module.utils1 import (\n",
    "    read_sillon,\n",
    "    init_t_a,\n",
    "    init_t_d,\n",
    "    init_dict_correspondance,\n",
    "    base_time,\n",
    "    init_limites_voies\n",
    ")"
   ]
  },
  {
   "cell_type": "code",
   "execution_count": 2,
   "metadata": {},
   "outputs": [
    {
     "name": "stdout",
     "output_type": "stream",
     "text": [
      "Vérification du contenu final de t_a :\n",
      "Le train 412202_08 arrive en gare de Woippy au bout de 1248 minutes\n",
      "Le train 431018_08 arrive en gare de Woippy au bout de 801 minutes\n",
      "Le train 431246_08 arrive en gare de Woippy au bout de 664 minutes\n",
      "Le train 44951_08 arrive en gare de Woippy au bout de 1130 minutes\n",
      "Le train 450237_08 arrive en gare de Woippy au bout de 707 minutes\n",
      "Le train 489016_08 arrive en gare de Woippy au bout de 1415 minutes\n",
      "Le train 54234_08 arrive en gare de Woippy au bout de 1321 minutes\n",
      "Le train 55390_08 arrive en gare de Woippy au bout de 1429 minutes\n",
      "Le train 56135_08 arrive en gare de Woippy au bout de 1288 minutes\n",
      "Le train 412023_09 arrive en gare de Woippy au bout de 1567 minutes\n",
      "Le train 41264_09 arrive en gare de Woippy au bout de 2793 minutes\n",
      "Le train 431802_09 arrive en gare de Woippy au bout de 1620 minutes\n",
      "Le train 44222_09 arrive en gare de Woippy au bout de 2533 minutes\n",
      "Le train 44250_09 arrive en gare de Woippy au bout de 2058 minutes\n",
      "Le train 44865_09 arrive en gare de Woippy au bout de 2416 minutes\n",
      "Le train 450237_09 arrive en gare de Woippy au bout de 2147 minutes\n",
      "Le train 471003_09 arrive en gare de Woippy au bout de 2203 minutes\n",
      "Le train 47262_09 arrive en gare de Woippy au bout de 1982 minutes\n",
      "Le train 489026_09 arrive en gare de Woippy au bout de 2011 minutes\n",
      "Le train 54234_09 arrive en gare de Woippy au bout de 2761 minutes\n",
      "Le train 55390_09 arrive en gare de Woippy au bout de 2869 minutes\n",
      "Le train 55398_09 arrive en gare de Woippy au bout de 1680 minutes\n",
      "Le train 56135_09 arrive en gare de Woippy au bout de 2728 minutes\n",
      "Le train 56730_09 arrive en gare de Woippy au bout de 1592 minutes\n",
      "Le train 58706_09 arrive en gare de Woippy au bout de 2715 minutes\n",
      "Le train 412023_10 arrive en gare de Woippy au bout de 3007 minutes\n",
      "Le train 412202_10 arrive en gare de Woippy au bout de 4128 minutes\n",
      "Le train 41264_10 arrive en gare de Woippy au bout de 4233 minutes\n",
      "Le train 431020_10 arrive en gare de Woippy au bout de 4098 minutes\n",
      "Le train 431110_10 arrive en gare de Woippy au bout de 3630 minutes\n",
      "Le train 431246_10 arrive en gare de Woippy au bout de 3544 minutes\n",
      "Le train 431802_10 arrive en gare de Woippy au bout de 3115 minutes\n",
      "Le train 44222_10 arrive en gare de Woippy au bout de 3832 minutes\n",
      "Le train 44228_10 arrive en gare de Woippy au bout de 2953 minutes\n",
      "Le train 44250_10 arrive en gare de Woippy au bout de 3498 minutes\n",
      "Le train 450237_10 arrive en gare de Woippy au bout de 3587 minutes\n",
      "Le train 471003_10 arrive en gare de Woippy au bout de 3643 minutes\n",
      "Le train 47214_10 arrive en gare de Woippy au bout de 3643 minutes\n",
      "Le train 47262_10 arrive en gare de Woippy au bout de 3422 minutes\n",
      "Le train 54234_10 arrive en gare de Woippy au bout de 4201 minutes\n",
      "Le train 55390_10 arrive en gare de Woippy au bout de 4309 minutes\n",
      "Le train 55396_10 arrive en gare de Woippy au bout de 3345 minutes\n",
      "Le train 56135_10 arrive en gare de Woippy au bout de 4168 minutes\n",
      "Le train 56730_10 arrive en gare de Woippy au bout de 3032 minutes\n",
      "Le train 58706_10 arrive en gare de Woippy au bout de 4155 minutes\n",
      "Le train 71270_10 arrive en gare de Woippy au bout de 3445 minutes\n",
      "Le train 412023_11 arrive en gare de Woippy au bout de 4447 minutes\n",
      "Le train 412202_11 arrive en gare de Woippy au bout de 5568 minutes\n",
      "Le train 41254_11 arrive en gare de Woippy au bout de 5717 minutes\n",
      "Le train 431246_11 arrive en gare de Woippy au bout de 4984 minutes\n",
      "Le train 431640_11 arrive en gare de Woippy au bout de 4989 minutes\n",
      "Le train 431802_11 arrive en gare de Woippy au bout de 4500 minutes\n",
      "Le train 44222_11 arrive en gare de Woippy au bout de 5272 minutes\n",
      "Le train 44250_11 arrive en gare de Woippy au bout de 4938 minutes\n",
      "Le train 44865_11 arrive en gare de Woippy au bout de 5299 minutes\n",
      "Le train 450237_11 arrive en gare de Woippy au bout de 5027 minutes\n",
      "Le train 471003_11 arrive en gare de Woippy au bout de 5083 minutes\n",
      "Le train 47212_11 arrive en gare de Woippy au bout de 5383 minutes\n",
      "Le train 47240_11 arrive en gare de Woippy au bout de 4487 minutes\n",
      "Le train 47262_11 arrive en gare de Woippy au bout de 4862 minutes\n",
      "Le train 47822_11 arrive en gare de Woippy au bout de 5493 minutes\n",
      "Le train 54234_11 arrive en gare de Woippy au bout de 5641 minutes\n",
      "Le train 55390_11 arrive en gare de Woippy au bout de 5749 minutes\n",
      "Le train 55394_11 arrive en gare de Woippy au bout de 5013 minutes\n",
      "Le train 55396_11 arrive en gare de Woippy au bout de 4545 minutes\n",
      "Le train 56135_11 arrive en gare de Woippy au bout de 5608 minutes\n",
      "Le train 56730_11 arrive en gare de Woippy au bout de 4472 minutes\n",
      "Le train 58706_11 arrive en gare de Woippy au bout de 5595 minutes\n",
      "Le train 412023_12 arrive en gare de Woippy au bout de 5887 minutes\n",
      "Le train 412202_12 arrive en gare de Woippy au bout de 7008 minutes\n",
      "Le train 41264_12 arrive en gare de Woippy au bout de 7113 minutes\n",
      "Le train 431246_12 arrive en gare de Woippy au bout de 6424 minutes\n",
      "Le train 431802_12 arrive en gare de Woippy au bout de 6063 minutes\n",
      "Le train 44222_12 arrive en gare de Woippy au bout de 6712 minutes\n",
      "Le train 44228_12 arrive en gare de Woippy au bout de 5833 minutes\n",
      "Le train 44250_12 arrive en gare de Woippy au bout de 6378 minutes\n",
      "Le train 44865_12 arrive en gare de Woippy au bout de 6739 minutes\n",
      "Le train 44951_12 arrive en gare de Woippy au bout de 6890 minutes\n",
      "Le train 450237_12 arrive en gare de Woippy au bout de 6467 minutes\n",
      "Le train 471003_12 arrive en gare de Woippy au bout de 6523 minutes\n",
      "Le train 47214_12 arrive en gare de Woippy au bout de 6823 minutes\n",
      "Le train 47262_12 arrive en gare de Woippy au bout de 6302 minutes\n",
      "Le train 47822_12 arrive en gare de Woippy au bout de 6933 minutes\n",
      "Le train 48216_12 arrive en gare de Woippy au bout de 6223 minutes\n",
      "Le train 489026_12 arrive en gare de Woippy au bout de 6453 minutes\n",
      "Le train 489042_12 arrive en gare de Woippy au bout de 7056 minutes\n",
      "Le train 54234_12 arrive en gare de Woippy au bout de 7081 minutes\n",
      "Le train 55396_12 arrive en gare de Woippy au bout de 6225 minutes\n",
      "Le train 56135_12 arrive en gare de Woippy au bout de 7048 minutes\n",
      "Le train 56730_12 arrive en gare de Woippy au bout de 5912 minutes\n",
      "Le train 58706_12 arrive en gare de Woippy au bout de 7035 minutes\n",
      "Le train 71270_12 arrive en gare de Woippy au bout de 6325 minutes\n",
      "Le train 412023_13 arrive en gare de Woippy au bout de 7327 minutes\n",
      "Le train 41230_13 arrive en gare de Woippy au bout de 8521 minutes\n",
      "Le train 431802_13 arrive en gare de Woippy au bout de 7503 minutes\n",
      "Le train 44222_13 arrive en gare de Woippy au bout de 8165 minutes\n",
      "Le train 44228_13 arrive en gare de Woippy au bout de 7273 minutes\n",
      "Le train 44250_13 arrive en gare de Woippy au bout de 7831 minutes\n",
      "Le train 44864_13 arrive en gare de Woippy au bout de 8172 minutes\n",
      "Le train 450235_13 arrive en gare de Woippy au bout de 7911 minutes\n",
      "Le train 47240_13 arrive en gare de Woippy au bout de 7306 minutes\n",
      "Le train 47262_13 arrive en gare de Woippy au bout de 7757 minutes\n",
      "Le train 47822_13 arrive en gare de Woippy au bout de 8373 minutes\n",
      "Le train 489026_13 arrive en gare de Woippy au bout de 7893 minutes\n",
      "Le train 54234_13 arrive en gare de Woippy au bout de 8521 minutes\n",
      "Le train 55390_13 arrive en gare de Woippy au bout de 8629 minutes\n",
      "Le train 55396_13 arrive en gare de Woippy au bout de 7665 minutes\n",
      "Le train 56135_13 arrive en gare de Woippy au bout de 8488 minutes\n",
      "Le train 56730_13 arrive en gare de Woippy au bout de 7352 minutes\n",
      "Le train 58706_13 arrive en gare de Woippy au bout de 8475 minutes\n",
      "Le train 56730_14 arrive en gare de Woippy au bout de 8795 minutes\n",
      "Vérification du contenu final de t_d :\n",
      "Le train 400006_09 part de la gare de Woippy au bout de 2386 minutes\n",
      "Le train 400016_09 part de la gare de Woippy au bout de 2806 minutes\n",
      "Le train 400110_09 part de la gare de Woippy au bout de 2697 minutes\n",
      "Le train 431035_09 part de la gare de Woippy au bout de 2342 minutes\n",
      "Le train 431091_09 part de la gare de Woippy au bout de 1819 minutes\n",
      "Le train 44203_09 part de la gare de Woippy au bout de 2515 minutes\n",
      "Le train 44241_09 part de la gare de Woippy au bout de 2242 minutes\n",
      "Le train 44249_09 part de la gare de Woippy au bout de 1627 minutes\n",
      "Le train 44806_09 part de la gare de Woippy au bout de 1933 minutes\n",
      "Le train 47245_09 part de la gare de Woippy au bout de 2300 minutes\n",
      "Le train 47289_09 part de la gare de Woippy au bout de 2100 minutes\n",
      "Le train 47821_09 part de la gare de Woippy au bout de 2785 minutes\n",
      "Le train 489447_09 part de la gare de Woippy au bout de 1811 minutes\n",
      "Le train 52672_09 part de la gare de Woippy au bout de 2412 minutes\n",
      "Le train 54003_09 part de la gare de Woippy au bout de 1679 minutes\n",
      "Le train 54051_09 part de la gare de Woippy au bout de 1774 minutes\n",
      "Le train 54086_09 part de la gare de Woippy au bout de 1670 minutes\n",
      "Le train 54231_09 part de la gare de Woippy au bout de 2289 minutes\n",
      "Le train 450226_10 part de la gare de Woippy au bout de 3320 minutes\n",
      "Le train 400014_10 part de la gare de Woippy au bout de 4067 minutes\n",
      "Le train 412124_10 part de la gare de Woippy au bout de 3073 minutes\n",
      "Le train 41258_10 part de la gare de Woippy au bout de 3043 minutes\n",
      "Le train 431035_10 part de la gare de Woippy au bout de 3783 minutes\n",
      "Le train 431091_10 part de la gare de Woippy au bout de 3259 minutes\n",
      "Le train 44203_10 part de la gare de Woippy au bout de 3955 minutes\n",
      "Le train 44241_10 part de la gare de Woippy au bout de 3682 minutes\n",
      "Le train 44249_10 part de la gare de Woippy au bout de 3067 minutes\n",
      "Le train 47205_10 part de la gare de Woippy au bout de 3728 minutes\n",
      "Le train 48215_10 part de la gare de Woippy au bout de 3847 minutes\n",
      "Le train 489044_10 part de la gare de Woippy au bout de 3010 minutes\n",
      "Le train 52672_10 part de la gare de Woippy au bout de 3852 minutes\n",
      "Le train 54003_10 part de la gare de Woippy au bout de 3119 minutes\n",
      "Le train 54053_10 part de la gare de Woippy au bout de 3818 minutes\n",
      "Le train 54231_10 part de la gare de Woippy au bout de 3729 minutes\n",
      "Le train 71210_10 part de la gare de Woippy au bout de 3180 minutes\n",
      "Le train 400006_11 part de la gare de Woippy au bout de 5266 minutes\n",
      "Le train 400010_11 part de la gare de Woippy au bout de 5746 minutes\n",
      "Le train 400016_11 part de la gare de Woippy au bout de 5686 minutes\n",
      "Le train 431035_11 part de la gare de Woippy au bout de 5222 minutes\n",
      "Le train 44203_11 part de la gare de Woippy au bout de 5395 minutes\n",
      "Le train 44241_11 part de la gare de Woippy au bout de 5122 minutes\n",
      "Le train 44806_11 part de la gare de Woippy au bout de 4638 minutes\n",
      "Le train 450226_11 part de la gare de Woippy au bout de 4760 minutes\n",
      "Le train 47245_11 part de la gare de Woippy au bout de 5203 minutes\n",
      "Le train 47247_11 part de la gare de Woippy au bout de 4980 minutes\n",
      "Le train 47820_11 part de la gare de Woippy au bout de 5665 minutes\n",
      "Le train 489118_11 part de la gare de Woippy au bout de 5230 minutes\n",
      "Le train 52672_11 part de la gare de Woippy au bout de 5292 minutes\n",
      "Le train 54003_11 part de la gare de Woippy au bout de 4559 minutes\n",
      "Le train 54051_11 part de la gare de Woippy au bout de 4654 minutes\n",
      "Le train 54086_11 part de la gare de Woippy au bout de 4550 minutes\n",
      "Le train 54231_11 part de la gare de Woippy au bout de 5169 minutes\n",
      "Le train 71256_11 part de la gare de Woippy au bout de 4466 minutes\n",
      "Le train 400010_12 part de la gare de Woippy au bout de 7186 minutes\n",
      "Le train 400016_12 part de la gare de Woippy au bout de 7126 minutes\n",
      "Le train 412024_12 part de la gare de Woippy au bout de 6026 minutes\n",
      "Le train 41258_12 part de la gare de Woippy au bout de 5923 minutes\n",
      "Le train 431035_12 part de la gare de Woippy au bout de 6663 minutes\n",
      "Le train 44241_12 part de la gare de Woippy au bout de 6562 minutes\n",
      "Le train 44249_12 part de la gare de Woippy au bout de 5947 minutes\n",
      "Le train 44952_12 part de la gare de Woippy au bout de 7017 minutes\n",
      "Le train 47205_12 part de la gare de Woippy au bout de 6919 minutes\n",
      "Le train 48219_12 part de la gare de Woippy au bout de 5914 minutes\n",
      "Le train 489447_12 part de la gare de Woippy au bout de 6131 minutes\n",
      "Le train 52672_12 part de la gare de Woippy au bout de 6732 minutes\n",
      "Le train 54003_12 part de la gare de Woippy au bout de 5999 minutes\n",
      "Le train 54053_12 part de la gare de Woippy au bout de 6698 minutes\n",
      "Le train 54086_12 part de la gare de Woippy au bout de 5990 minutes\n",
      "Le train 54231_12 part de la gare de Woippy au bout de 6609 minutes\n",
      "Le train 71217_12 part de la gare de Woippy au bout de 7170 minutes\n",
      "Le train 41258_13 part de la gare de Woippy au bout de 7363 minutes\n",
      "Le train 431091_13 part de la gare de Woippy au bout de 7579 minutes\n",
      "Le train 44241_13 part de la gare de Woippy au bout de 8002 minutes\n",
      "Le train 44806_13 part de la gare de Woippy au bout de 7470 minutes\n",
      "Le train 450224_13 part de la gare de Woippy au bout de 7779 minutes\n",
      "Le train 47237_13 part de la gare de Woippy au bout de 7860 minutes\n",
      "Le train 47281_13 part de la gare de Woippy au bout de 8309 minutes\n",
      "Le train 489044_13 part de la gare de Woippy au bout de 7330 minutes\n",
      "Le train 489119_13 part de la gare de Woippy au bout de 8103 minutes\n",
      "Le train 489447_13 part de la gare de Woippy au bout de 7571 minutes\n",
      "Le train 54051_13 part de la gare de Woippy au bout de 7536 minutes\n",
      "Le train 54086_13 part de la gare de Woippy au bout de 7430 minutes\n",
      "Le train 431037_14 part de la gare de Woippy au bout de 9700 minutes\n",
      "Le train 44247_14 part de la gare de Woippy au bout de 9515 minutes\n",
      "Le train 44559_14 part de la gare de Woippy au bout de 9368 minutes\n",
      "Le train 47820_14 part de la gare de Woippy au bout de 9542 minutes\n",
      "Le train 489447_14 part de la gare de Woippy au bout de 9011 minutes\n",
      "Le train 54003_14 part de la gare de Woippy au bout de 8879 minutes\n",
      "Le train 54053_14 part de la gare de Woippy au bout de 9578 minutes\n",
      "Le train 54055_14 part de la gare de Woippy au bout de 8730 minutes\n",
      "Le train 54086_14 part de la gare de Woippy au bout de 8870 minutes\n",
      "Le train 400014_15 part de la gare de Woippy au bout de 11267 minutes\n",
      "Le train 431035_15 part de la gare de Woippy au bout de 10982 minutes\n",
      "Le train 431121_15 part de la gare de Woippy au bout de 10421 minutes\n",
      "Le train 450226_15 part de la gare de Woippy au bout de 10520 minutes\n",
      "Le train 489447_15 part de la gare de Woippy au bout de 10451 minutes\n",
      "Le train 54003_15 part de la gare de Woippy au bout de 10319 minutes\n",
      "Le train 54051_15 part de la gare de Woippy au bout de 10414 minutes\n",
      "Le train 54086_15 part de la gare de Woippy au bout de 10310 minutes\n",
      "Le train 54231_15 part de la gare de Woippy au bout de 10929 minutes\n",
      "Le train 41258_16 part de la gare de Woippy au bout de 11683 minutes\n",
      "Le train 431091_16 part de la gare de Woippy au bout de 11899 minutes\n",
      "Le train 489044_16 part de la gare de Woippy au bout de 11650 minutes\n",
      "Le train 54051_16 part de la gare de Woippy au bout de 11854 minutes\n",
      "Le train 412124_17 part de la gare de Woippy au bout de 13153 minutes\n",
      "Le train 431113_17 part de la gare de Woippy au bout de 13620 minutes\n"
     ]
    }
   ],
   "source": [
    "# Charger le fichier Excel\n",
    "\n",
    "id_file = 2\n",
    "\n",
    "if id_file == 0:\n",
    "    file = \"mini_instance.xlsx\"\n",
    "elif id_file == 1:    \n",
    "    file = \"instance_WPY_realiste_jalon1.xlsx\"\n",
    "elif id_file == 2:\n",
    "    file = \"instance_WPY_realiste_jalon2.xlsx\"\n",
    "elif id_file == 3:\n",
    "    file = \"instance_WPY_simple.xlsx\"\n",
    "else:\n",
    "    raise ValueError(f\"Erreur : '{id_file}' n'est pas une valeur acceptable. Choisissez parmi 0, 1, 2 et 3.\")\n",
    "\n",
    "# Lire les feuilles \"Sillons arrivée\" et \"Sillons départ\"\n",
    "df_sillons_arr, df_sillons_dep = read_sillon(file)\n",
    "\n",
    "# Dictionnaires pour stocker les temps d'arrivée et de départ en minutes :\n",
    "# Traitement des arrivées\n",
    "t_a = init_t_a(df_sillons_arr, id_file, print_bool=True)\n",
    "\n",
    "t_d = init_t_d(df_sillons_dep, id_file, print_bool=True)\n",
    "\n",
    "# Vérification finale\n",
    "print(\"Vérification du contenu final de t_a :\")\n",
    "for key, value in t_a.items():\n",
    "    print(f\"Le train {key} arrive en gare de Woippy au bout de {value} minutes\")\n",
    "\n",
    "print(\"Vérification du contenu final de t_d :\")\n",
    "for key, value in t_d.items():\n",
    "    print(f\"Le train {key} part de la gare de Woippy au bout de {value} minutes\")"
   ]
  },
  {
   "cell_type": "code",
   "execution_count": 3,
   "metadata": {},
   "outputs": [
    {
     "name": "stdout",
     "output_type": "stream",
     "text": [
      "{'54003_10': ['431802_09', '56135_08', '44865_09', '44250_09', '47262_09'], '54003_11': ['431802_10', '412202_10', '412202_10', '412202_10', '47262_10', '431020_10', '44250_10', '44222_10', '44228_10', '47214_10'], '54003_12': ['431802_11', '412202_11', '412202_11', '56135_11', '412202_11', '56135_11', '56135_11', '55396_11', '47262_11', '44250_11', '44222_11', '44865_11', '47822_11', '47262_11'], '54003_15': ['431802_12', '58706_13', '58706_12', '56730_14', '58706_12', '412202_12', '431802_13', '431802_13', '58706_12'], '400014_10': ['58706_09', '58706_09', '54234_09'], '400110_09': ['489016_08', '54234_08', '54234_08', '54234_08'], '450226_15': ['412023_13', '41230_13', '56730_13', '412023_13', '412023_13', '412023_13', '412023_13', '412023_13', '412023_13', '412023_13', '412023_13', '412023_13', '412023_13', '412023_13', '412023_13', '450235_13', '412023_13', '450235_13', '412023_13'], '54003_14': ['58706_13', '58706_13', '58706_13', '412202_12', '58706_13', '58706_13', '58706_13', '56135_13', '56135_13', '56135_12', '56135_13', '56135_13', '412202_12', '58706_13', '44250_13', '44222_13', '44864_13', '47822_13', '47262_13', '44228_13'], '54086_15': ['58706_13', '56730_13', '56730_14', '55390_11', '41230_13', '41230_13', '56730_13', '55390_13', '41230_13', '58706_13', '55390_13'], '41258_10': ['412023_09'], '41258_13': ['450237_12', '450237_12', '55390_11', '55390_11', '55390_11'], '41258_16': ['450235_13', '41230_13', '41230_13', '41230_13'], '400016_11': ['41264_10', '56730_11', '56135_10'], '400016_12': ['41254_11', '489026_12', '56135_11'], '52672_09': ['412023_09'], '52672_10': ['412023_10', '471003_09'], '52672_11': ['412023_11', '55390_10', '471003_10'], '52672_12': ['412023_12', '55396_12', '412202_11', '55396_12', '55390_11', '471003_11'], '400016_09': ['56730_09', '55398_09', '56135_08'], '450226_11': ['56730_10'], '450224_13': ['56730_13'], '54086_11': ['450237_10'], '54086_12': ['450237_11', '56730_11', '56730_11', '41264_10', '54234_10', '41264_10', '41264_10', '431640_11', '431246_11'], '71217_12': ['450237_12', '56730_12', '56730_12', '41254_11', '489026_12', '41254_11', '431246_12', '54234_11'], '54086_14': ['412023_13', '54234_12'], '489447_15': ['56730_13', '54234_10', '54234_10'], '54051_09': ['450237_08'], '54051_11': ['450237_10', '41264_09', '41264_10'], '71256_11': ['56730_10', '56730_10', '431246_10'], '489447_09': ['412202_08', '412202_08', '412202_08', '54234_08', '44951_08'], '431037_14': ['71270_12', '54234_13', '58706_13', '58706_12', '58706_12', '54234_13', '58706_11', '489026_13', '489026_13', '54234_13', '58706_13', '58706_13', '58706_13'], '431035_11': ['71270_10', '56135_10', '54234_10', '54234_10', '58706_10', '54234_10', '54234_10', '47240_11'], '431091_16': ['431246_12', '431246_12'], '489447_13': ['412202_12', '58706_09', '412202_12', '71270_12', '412202_12'], '54003_09': ['412202_08', '412202_08', '412202_08', '56135_08', '450237_08', '412202_08'], '400006_09': ['489016_08', '489016_08', '56730_09'], '54231_09': ['412202_08', '55398_09', '412202_08', '412202_08', '412023_09'], '54231_11': ['412202_10', '55396_11', '56730_11', '55390_10', '55396_11', '412202_10', '55390_10', '55390_10', '55390_10', '412202_10', '412023_11', '431802_10', '431802_11', '431802_11'], '431035_09': ['54234_08', '489016_08', '489016_08', '54234_08', '54234_08'], '71210_10': ['54234_09', '41264_09', '41264_09', '54234_09', '54234_09', '41264_09', '41264_09', '41264_09', '41264_09', '44222_09'], '489447_12': ['55390_11'], '41258_12': ['55390_10', '55390_10', '55390_10'], '489447_14': ['54234_12', '412202_12'], '400014_15': ['431802_12', '56730_14', '56135_12', '56135_13', '58706_13'], '54051_16': ['56135_11', '55390_10'], '489044_13': ['58706_09', '489026_12', '44951_12', '44222_12'], '400010_12': ['489026_12'], '54053_10': ['58706_09', '450237_09', '54234_09', '58706_09'], '450226_10': ['58706_09', '54234_09'], '54231_12': ['55390_11', '412023_12', '431802_12'], '54231_15': ['54234_13', '54234_11', '54234_12', '54234_11'], '54086_13': ['41254_11'], '489044_10': ['450237_09'], '412124_17': ['58706_13', '471003_12'], '431113_17': ['431110_10'], '54231_10': ['412023_10'], '54055_14': ['431246_12', '471003_12', '47240_13'], '431091_09': ['450237_08', '54234_08', '55390_08', '55390_08'], '431091_10': ['450237_09', '55390_09', '55390_09'], '431091_13': ['412023_12'], '431035_15': ['71270_12'], '400006_11': ['54234_10'], '489044_16': ['431802_13', '489026_13', '489026_13'], '54051_15': ['431802_13'], '54053_14': ['58706_13', '41230_13'], '400010_11': ['54234_10'], '412124_10': ['56730_09'], '412024_12': ['56730_11'], '54086_09': ['431246_08'], '489118_11': ['55396_11'], '47821_09': ['489026_09'], '44806_09': ['431018_08'], '44241_10': ['54234_09'], '44203_10': ['41264_09', '56730_09'], '44249_10': ['471003_09'], '44203_11': ['71270_10', '58706_10'], '44249_12': ['55394_11'], '44241_12': ['47212_11', '54234_11'], '44806_13': ['489042_12'], '44952_12': ['56730_12'], '54051_13': ['48216_12'], '47281_13': ['41264_12'], '489119_13': ['44250_12', '44865_12', '47822_12', '47262_12', '47214_12'], '54053_12': ['44228_12'], '431121_15': ['56730_13'], '44249_09': ['450237_08'], '44241_09': ['450237_08'], '44203_09': ['56730_09'], '47289_09': ['489016_08'], '47245_09': ['56135_08'], '47205_10': ['55396_10'], '431035_10': ['56730_10'], '48215_10': ['56135_09'], '47247_11': ['58706_10'], '44806_11': ['58706_10'], '44241_11': ['56135_10'], '47820_11': ['55390_10'], '47245_11': ['56135_10'], '47205_12': ['55396_11'], '48219_12': ['450237_11'], '431035_12': ['58706_11'], '44241_13': ['58706_12'], '47237_13': ['41264_12'], '44559_14': ['55396_13'], '44247_14': ['55390_13'], '47820_14': ['55390_13']}\n"
     ]
    }
   ],
   "source": [
    "df_correspondance = pd.read_excel(file, sheet_name=\"Correspondances\")\n",
    "\n",
    "D = init_dict_correspondance(df_correspondance, id_file)\n",
    "\n",
    "print(D)"
   ]
  },
  {
   "cell_type": "code",
   "execution_count": 4,
   "metadata": {},
   "outputs": [
    {
     "name": "stdout",
     "output_type": "stream",
     "text": [
      "Set parameter Username\n",
      "Set parameter LicenseID to value 2617576\n",
      "Academic license - for non-commercial use only - expires 2026-02-03\n"
     ]
    },
    {
     "name": "stderr",
     "output_type": "stream",
     "text": [
      "Contrainte assurant la succession des tâches sur les trains d'arrivée: 100%|██████████| 111/111 [00:00<00:00, 18111.25it/s]\n",
      "Contrainte assurant la succession des tâches sur les trains de départ: 100%|██████████| 106/106 [00:00<00:00, 10514.28it/s]\n",
      "Contrainte assurant qu'il n'y a qu'un train niveau de la machine DEB: 100%|██████████| 111/111 [00:01<00:00, 107.60it/s]\n",
      "Contrainte assurant qu'il n'y a qu'un train niveau des machines FOR et DEG: 100%|██████████| 2/2 [00:01<00:00,  1.15it/s]\n",
      "Contrainte de fermeture de la machine DEB: 100%|██████████| 111/111 [00:00<00:00, 1800.26it/s]\n",
      "Contrainte de fermeture de la machine FOR: 100%|██████████| 106/106 [00:00<00:00, 1625.06it/s]\n",
      "Contrainte de fermeture de la machine DEG: 100%|██████████| 106/106 [00:00<00:00, 1681.58it/s]\n",
      "Contrainte de fermeture du Chantier FOR: 100%|██████████| 106/106 [00:00<00:00, 573.50it/s]\n",
      "Contrainte assurant la succession des tâches entre les chantiers de REC et FOR: 100%|██████████| 106/106 [00:00<00:00, 12069.61it/s]\n",
      "Contrainte relative au nombre de voies des chantiers: 100%|██████████| 2001/2001 [00:00<00:00, 2526.11it/s]\n"
     ]
    }
   ],
   "source": [
    "model,t_arr,t_dep, is_present = init_model(\n",
    "    liste_id_train_arrivee = t_a.keys(),\n",
    "    t_a = t_a,\n",
    "    liste_id_train_depart = t_d.keys(),\n",
    "    t_d = t_d,\n",
    "    dict_correspondances = D,\n",
    "    file=file,\n",
    "    id_file = id_file,\n",
    "    limites_voies=init_limites_voies(file),\n",
    "    tempsMax=2000,\n",
    "    tempsMin=0\n",
    ")\n"
   ]
  },
  {
   "cell_type": "code",
   "execution_count": 9,
   "metadata": {},
   "outputs": [
    {
     "name": "stdout",
     "output_type": "stream",
     "text": [
      "Ca marche !\n",
      "Tâche 1 - Train 412202_08 : 1260.0\n",
      "Tâche 1 - Train 431018_08 : 810.0\n",
      "Tâche 1 - Train 431246_08 : 675.0\n",
      "Tâche 1 - Train 44951_08 : 1140.0\n",
      "Tâche 1 - Train 450237_08 : 720.0\n",
      "Tâche 1 - Train 489016_08 : 1425.0\n",
      "Tâche 1 - Train 54234_08 : 1335.0\n",
      "Tâche 1 - Train 55390_08 : 1440.0\n",
      "Tâche 1 - Train 56135_08 : 1290.0\n",
      "Tâche 1 - Train 412023_09 : 1575.0\n",
      "Tâche 1 - Train 41264_09 : 2805.0\n",
      "Tâche 1 - Train 431802_09 : 1620.0\n",
      "Tâche 1 - Train 44222_09 : 2535.0\n",
      "Tâche 1 - Train 44250_09 : 2070.0\n",
      "Tâche 1 - Train 44865_09 : 2430.0\n",
      "Tâche 1 - Train 450237_09 : 2160.0\n",
      "Tâche 1 - Train 471003_09 : 2205.0\n",
      "Tâche 1 - Train 47262_09 : 1995.0\n",
      "Tâche 1 - Train 489026_09 : 2025.0\n",
      "Tâche 1 - Train 54234_09 : 2775.0\n",
      "Tâche 1 - Train 55390_09 : 2880.0\n",
      "Tâche 1 - Train 55398_09 : 1680.0\n",
      "Tâche 1 - Train 56135_09 : 2730.0\n",
      "Tâche 1 - Train 56730_09 : 1605.0\n",
      "Tâche 1 - Train 58706_09 : 2715.0\n",
      "Tâche 1 - Train 412023_10 : 3015.0\n",
      "Tâche 1 - Train 412202_10 : 4140.0\n",
      "Tâche 1 - Train 41264_10 : 4245.0\n",
      "Tâche 1 - Train 431020_10 : 4110.0\n",
      "Tâche 1 - Train 431110_10 : 3630.0\n",
      "Tâche 1 - Train 431246_10 : 3555.0\n",
      "Tâche 1 - Train 431802_10 : 3120.0\n",
      "Tâche 1 - Train 44222_10 : 3840.0\n",
      "Tâche 1 - Train 44228_10 : 2955.0\n",
      "Tâche 1 - Train 44250_10 : 3510.0\n",
      "Tâche 1 - Train 450237_10 : 3600.0\n",
      "Tâche 1 - Train 471003_10 : 3645.0\n",
      "Tâche 1 - Train 47214_10 : 3645.0\n",
      "Tâche 1 - Train 47262_10 : 3435.0\n",
      "Tâche 1 - Train 54234_10 : 4215.0\n",
      "Tâche 1 - Train 55390_10 : 4320.0\n",
      "Tâche 1 - Train 55396_10 : 3345.0\n",
      "Tâche 1 - Train 56135_10 : 4170.0\n",
      "Tâche 1 - Train 56730_10 : 3045.0\n",
      "Tâche 1 - Train 58706_10 : 4155.0\n",
      "Tâche 1 - Train 71270_10 : 3450.0\n",
      "Tâche 1 - Train 412023_11 : 4455.0\n",
      "Tâche 1 - Train 412202_11 : 5580.0\n",
      "Tâche 1 - Train 41254_11 : 5730.0\n",
      "Tâche 1 - Train 431246_11 : 4995.0\n",
      "Tâche 1 - Train 431640_11 : 4995.0\n",
      "Tâche 1 - Train 431802_11 : 4500.0\n",
      "Tâche 1 - Train 44222_11 : 5280.0\n",
      "Tâche 1 - Train 44250_11 : 4950.0\n",
      "Tâche 1 - Train 44865_11 : 5310.0\n",
      "Tâche 1 - Train 450237_11 : 5040.0\n",
      "Tâche 1 - Train 471003_11 : 5085.0\n",
      "Tâche 1 - Train 47212_11 : 5385.0\n",
      "Tâche 1 - Train 47240_11 : 4500.0\n",
      "Tâche 1 - Train 47262_11 : 4875.0\n",
      "Tâche 1 - Train 47822_11 : 5505.0\n",
      "Tâche 1 - Train 54234_11 : 5655.0\n",
      "Tâche 1 - Train 55390_11 : 5760.0\n",
      "Tâche 1 - Train 55394_11 : 5025.0\n",
      "Tâche 1 - Train 55396_11 : 4545.0\n",
      "Tâche 1 - Train 56135_11 : 5610.0\n",
      "Tâche 1 - Train 56730_11 : 4485.0\n",
      "Tâche 1 - Train 58706_11 : 5595.0\n",
      "Tâche 1 - Train 412023_12 : 5895.0\n",
      "Tâche 1 - Train 412202_12 : 7020.0\n",
      "Tâche 1 - Train 41264_12 : 7125.0\n",
      "Tâche 1 - Train 431246_12 : 6435.0\n",
      "Tâche 1 - Train 431802_12 : 6075.0\n",
      "Tâche 1 - Train 44222_12 : 6720.0\n",
      "Tâche 1 - Train 44228_12 : 5835.0\n",
      "Tâche 1 - Train 44250_12 : 6390.0\n",
      "Tâche 1 - Train 44865_12 : 6750.0\n",
      "Tâche 1 - Train 44951_12 : 6900.0\n",
      "Tâche 1 - Train 450237_12 : 6480.0\n",
      "Tâche 1 - Train 471003_12 : 6525.0\n",
      "Tâche 1 - Train 47214_12 : 6825.0\n",
      "Tâche 1 - Train 47262_12 : 6315.0\n",
      "Tâche 1 - Train 47822_12 : 6945.0\n",
      "Tâche 1 - Train 48216_12 : 6225.0\n",
      "Tâche 1 - Train 489026_12 : 6465.0\n",
      "Tâche 1 - Train 489042_12 : 7065.0\n",
      "Tâche 1 - Train 54234_12 : 7095.0\n",
      "Tâche 1 - Train 55396_12 : 6225.0\n",
      "Tâche 1 - Train 56135_12 : 7050.0\n",
      "Tâche 1 - Train 56730_12 : 5925.0\n",
      "Tâche 1 - Train 58706_12 : 7035.0\n",
      "Tâche 1 - Train 71270_12 : 6330.0\n",
      "Tâche 1 - Train 412023_13 : 7335.0\n",
      "Tâche 1 - Train 41230_13 : 8535.0\n",
      "Tâche 1 - Train 431802_13 : 7515.0\n",
      "Tâche 1 - Train 44222_13 : 8175.0\n",
      "Tâche 1 - Train 44228_13 : 7275.0\n",
      "Tâche 1 - Train 44250_13 : 7845.0\n",
      "Tâche 1 - Train 44864_13 : 8175.0\n",
      "Tâche 1 - Train 450235_13 : 7920.0\n",
      "Tâche 1 - Train 47240_13 : 7320.0\n",
      "Tâche 1 - Train 47262_13 : 7770.0\n",
      "Tâche 1 - Train 47822_13 : 8385.0\n",
      "Tâche 1 - Train 489026_13 : 7905.0\n",
      "Tâche 1 - Train 54234_13 : 8535.0\n",
      "Tâche 1 - Train 55390_13 : 8640.0\n",
      "Tâche 1 - Train 55396_13 : 7665.0\n",
      "Tâche 1 - Train 56135_13 : 8490.0\n",
      "Tâche 1 - Train 56730_13 : 7365.0\n",
      "Tâche 1 - Train 58706_13 : 8475.0\n",
      "Tâche 1 - Train 56730_14 : 8805.0\n",
      "Tâche 2 - Train 412202_08 : 1275.0\n",
      "Tâche 2 - Train 431018_08 : 825.0\n",
      "Tâche 2 - Train 431246_08 : 690.0\n",
      "Tâche 2 - Train 44951_08 : 1155.0\n",
      "Tâche 2 - Train 450237_08 : 735.0\n",
      "Tâche 2 - Train 489016_08 : 1440.0\n",
      "Tâche 2 - Train 54234_08 : 1350.0\n",
      "Tâche 2 - Train 55390_08 : 1455.0\n",
      "Tâche 2 - Train 56135_08 : 1305.0\n",
      "Tâche 2 - Train 412023_09 : 1590.0\n",
      "Tâche 2 - Train 41264_09 : 2820.0\n",
      "Tâche 2 - Train 431802_09 : 1635.0\n",
      "Tâche 2 - Train 44222_09 : 2550.0\n",
      "Tâche 2 - Train 44250_09 : 2085.0\n",
      "Tâche 2 - Train 44865_09 : 2445.0\n",
      "Tâche 2 - Train 450237_09 : 2175.0\n",
      "Tâche 2 - Train 471003_09 : 2220.0\n",
      "Tâche 2 - Train 47262_09 : 2010.0\n",
      "Tâche 2 - Train 489026_09 : 2040.0\n",
      "Tâche 2 - Train 54234_09 : 2790.0\n",
      "Tâche 2 - Train 55390_09 : 2895.0\n",
      "Tâche 2 - Train 55398_09 : 1695.0\n",
      "Tâche 2 - Train 56135_09 : 2745.0\n",
      "Tâche 2 - Train 56730_09 : 1620.0\n",
      "Tâche 2 - Train 58706_09 : 2730.0\n",
      "Tâche 2 - Train 412023_10 : 3030.0\n",
      "Tâche 2 - Train 412202_10 : 4155.0\n",
      "Tâche 2 - Train 41264_10 : 4260.0\n",
      "Tâche 2 - Train 431020_10 : 4125.0\n",
      "Tâche 2 - Train 431110_10 : 3645.0\n",
      "Tâche 2 - Train 431246_10 : 3570.0\n",
      "Tâche 2 - Train 431802_10 : 3135.0\n",
      "Tâche 2 - Train 44222_10 : 3855.0\n",
      "Tâche 2 - Train 44228_10 : 2970.0\n",
      "Tâche 2 - Train 44250_10 : 3525.0\n",
      "Tâche 2 - Train 450237_10 : 3615.0\n",
      "Tâche 2 - Train 471003_10 : 3660.0\n",
      "Tâche 2 - Train 47214_10 : 3660.0\n",
      "Tâche 2 - Train 47262_10 : 3450.0\n",
      "Tâche 2 - Train 54234_10 : 4230.0\n",
      "Tâche 2 - Train 55390_10 : 4335.0\n",
      "Tâche 2 - Train 55396_10 : 3360.0\n",
      "Tâche 2 - Train 56135_10 : 4185.0\n",
      "Tâche 2 - Train 56730_10 : 3060.0\n",
      "Tâche 2 - Train 58706_10 : 4170.0\n",
      "Tâche 2 - Train 71270_10 : 3465.0\n",
      "Tâche 2 - Train 412023_11 : 4470.0\n",
      "Tâche 2 - Train 412202_11 : 5595.0\n",
      "Tâche 2 - Train 41254_11 : 5745.0\n",
      "Tâche 2 - Train 431246_11 : 5010.0\n",
      "Tâche 2 - Train 431640_11 : 5010.0\n",
      "Tâche 2 - Train 431802_11 : 4515.0\n",
      "Tâche 2 - Train 44222_11 : 5295.0\n",
      "Tâche 2 - Train 44250_11 : 4965.0\n",
      "Tâche 2 - Train 44865_11 : 5325.0\n",
      "Tâche 2 - Train 450237_11 : 5055.0\n",
      "Tâche 2 - Train 471003_11 : 5100.0\n",
      "Tâche 2 - Train 47212_11 : 5400.0\n",
      "Tâche 2 - Train 47240_11 : 4515.0\n",
      "Tâche 2 - Train 47262_11 : 4890.0\n",
      "Tâche 2 - Train 47822_11 : 5520.0\n",
      "Tâche 2 - Train 54234_11 : 5670.0\n",
      "Tâche 2 - Train 55390_11 : 5775.0\n",
      "Tâche 2 - Train 55394_11 : 5040.0\n",
      "Tâche 2 - Train 55396_11 : 4560.0\n",
      "Tâche 2 - Train 56135_11 : 5625.0\n",
      "Tâche 2 - Train 56730_11 : 4500.0\n",
      "Tâche 2 - Train 58706_11 : 5610.0\n",
      "Tâche 2 - Train 412023_12 : 5910.0\n",
      "Tâche 2 - Train 412202_12 : 7035.0\n",
      "Tâche 2 - Train 41264_12 : 7140.0\n",
      "Tâche 2 - Train 431246_12 : 6450.0\n",
      "Tâche 2 - Train 431802_12 : 6090.0\n",
      "Tâche 2 - Train 44222_12 : 6735.0\n",
      "Tâche 2 - Train 44228_12 : 5850.0\n",
      "Tâche 2 - Train 44250_12 : 6405.0\n",
      "Tâche 2 - Train 44865_12 : 6765.0\n",
      "Tâche 2 - Train 44951_12 : 6915.0\n",
      "Tâche 2 - Train 450237_12 : 6495.0\n",
      "Tâche 2 - Train 471003_12 : 6540.0\n",
      "Tâche 2 - Train 47214_12 : 6840.0\n",
      "Tâche 2 - Train 47262_12 : 6330.0\n",
      "Tâche 2 - Train 47822_12 : 6960.0\n",
      "Tâche 2 - Train 48216_12 : 6240.0\n",
      "Tâche 2 - Train 489026_12 : 6480.0\n",
      "Tâche 2 - Train 489042_12 : 7080.0\n",
      "Tâche 2 - Train 54234_12 : 7110.0\n",
      "Tâche 2 - Train 55396_12 : 6240.0\n",
      "Tâche 2 - Train 56135_12 : 7065.0\n",
      "Tâche 2 - Train 56730_12 : 5940.0\n",
      "Tâche 2 - Train 58706_12 : 7050.0\n",
      "Tâche 2 - Train 71270_12 : 6345.0\n",
      "Tâche 2 - Train 412023_13 : 7350.0\n",
      "Tâche 2 - Train 41230_13 : 8550.0\n",
      "Tâche 2 - Train 431802_13 : 7530.0\n",
      "Tâche 2 - Train 44222_13 : 8190.0\n",
      "Tâche 2 - Train 44228_13 : 7290.0\n",
      "Tâche 2 - Train 44250_13 : 7860.0\n",
      "Tâche 2 - Train 44864_13 : 8190.0\n",
      "Tâche 2 - Train 450235_13 : 7935.0\n",
      "Tâche 2 - Train 47240_13 : 7335.0\n",
      "Tâche 2 - Train 47262_13 : 7785.0\n",
      "Tâche 2 - Train 47822_13 : 8400.0\n",
      "Tâche 2 - Train 489026_13 : 7920.0\n",
      "Tâche 2 - Train 54234_13 : 8550.0\n",
      "Tâche 2 - Train 55390_13 : 8655.0\n",
      "Tâche 2 - Train 55396_13 : 7680.0\n",
      "Tâche 2 - Train 56135_13 : 8505.0\n",
      "Tâche 2 - Train 56730_13 : 7380.0\n",
      "Tâche 2 - Train 58706_13 : 8490.0\n",
      "Tâche 2 - Train 56730_14 : 8820.0\n",
      "Tâche 3 - Train 412202_08 : 1320.0\n",
      "Tâche 3 - Train 431018_08 : 870.0\n",
      "Tâche 3 - Train 431246_08 : 780.0\n",
      "Tâche 3 - Train 44951_08 : 1200.0\n",
      "Tâche 3 - Train 450237_08 : 795.0\n",
      "Tâche 3 - Train 489016_08 : 1485.0\n",
      "Tâche 3 - Train 54234_08 : 1395.0\n",
      "Tâche 3 - Train 55390_08 : 1500.0\n",
      "Tâche 3 - Train 56135_08 : 1350.0\n",
      "Tâche 3 - Train 412023_09 : 1650.0\n",
      "Tâche 3 - Train 41264_09 : 2865.0\n",
      "Tâche 3 - Train 431802_09 : 1680.0\n",
      "Tâche 3 - Train 44222_09 : 2595.0\n",
      "Tâche 3 - Train 44250_09 : 2130.0\n",
      "Tâche 3 - Train 44865_09 : 2490.0\n",
      "Tâche 3 - Train 450237_09 : 2220.0\n",
      "Tâche 3 - Train 471003_09 : 2265.0\n",
      "Tâche 3 - Train 47262_09 : 2055.0\n",
      "Tâche 3 - Train 489026_09 : 2085.0\n",
      "Tâche 3 - Train 54234_09 : 2835.0\n",
      "Tâche 3 - Train 55390_09 : 2940.0\n",
      "Tâche 3 - Train 55398_09 : 1740.0\n",
      "Tâche 3 - Train 56135_09 : 2790.0\n",
      "Tâche 3 - Train 56730_09 : 1665.0\n",
      "Tâche 3 - Train 58706_09 : 2805.0\n",
      "Tâche 3 - Train 412023_10 : 3075.0\n",
      "Tâche 3 - Train 412202_10 : 4200.0\n",
      "Tâche 3 - Train 41264_10 : 4305.0\n",
      "Tâche 3 - Train 431020_10 : 4170.0\n",
      "Tâche 3 - Train 431110_10 : 5625.0\n",
      "Tâche 3 - Train 431246_10 : 3615.0\n",
      "Tâche 3 - Train 431802_10 : 3180.0\n",
      "Tâche 3 - Train 44222_10 : 3900.0\n",
      "Tâche 3 - Train 44228_10 : 3090.0\n",
      "Tâche 3 - Train 44250_10 : 3570.0\n",
      "Tâche 3 - Train 450237_10 : 3660.0\n",
      "Tâche 3 - Train 471003_10 : 3705.0\n",
      "Tâche 3 - Train 47214_10 : 3720.0\n",
      "Tâche 3 - Train 47262_10 : 3495.0\n",
      "Tâche 3 - Train 54234_10 : 4275.0\n",
      "Tâche 3 - Train 55390_10 : 4380.0\n",
      "Tâche 3 - Train 55396_10 : 3405.0\n",
      "Tâche 3 - Train 56135_10 : 4230.0\n",
      "Tâche 3 - Train 56730_10 : 3105.0\n",
      "Tâche 3 - Train 58706_10 : 4215.0\n",
      "Tâche 3 - Train 71270_10 : 3510.0\n",
      "Tâche 3 - Train 412023_11 : 4530.0\n",
      "Tâche 3 - Train 412202_11 : 5640.0\n",
      "Tâche 3 - Train 41254_11 : 5790.0\n",
      "Tâche 3 - Train 431246_11 : 5070.0\n",
      "Tâche 3 - Train 431640_11 : 5055.0\n",
      "Tâche 3 - Train 431802_11 : 4560.0\n",
      "Tâche 3 - Train 44222_11 : 5340.0\n",
      "Tâche 3 - Train 44250_11 : 5040.0\n",
      "Tâche 3 - Train 44865_11 : 5370.0\n",
      "Tâche 3 - Train 450237_11 : 5100.0\n",
      "Tâche 3 - Train 471003_11 : 5145.0\n",
      "Tâche 3 - Train 47212_11 : 5445.0\n",
      "Tâche 3 - Train 47240_11 : 4575.0\n",
      "Tâche 3 - Train 47262_11 : 4935.0\n",
      "Tâche 3 - Train 47822_11 : 5565.0\n",
      "Tâche 3 - Train 54234_11 : 5715.0\n",
      "Tâche 3 - Train 55390_11 : 5820.0\n",
      "Tâche 3 - Train 55394_11 : 5085.0\n",
      "Tâche 3 - Train 55396_11 : 4605.0\n",
      "Tâche 3 - Train 56135_11 : 5670.0\n",
      "Tâche 3 - Train 56730_11 : 4545.0\n",
      "Tâche 3 - Train 58706_11 : 5655.0\n",
      "Tâche 3 - Train 412023_12 : 5955.0\n",
      "Tâche 3 - Train 412202_12 : 7095.0\n",
      "Tâche 3 - Train 41264_12 : 7185.0\n",
      "Tâche 3 - Train 431246_12 : 6495.0\n",
      "Tâche 3 - Train 431802_12 : 6135.0\n",
      "Tâche 3 - Train 44222_12 : 6780.0\n",
      "Tâche 3 - Train 44228_12 : 5895.0\n",
      "Tâche 3 - Train 44250_12 : 6480.0\n",
      "Tâche 3 - Train 44865_12 : 7125.0\n",
      "Tâche 3 - Train 44951_12 : 6960.0\n",
      "Tâche 3 - Train 450237_12 : 6540.0\n",
      "Tâche 3 - Train 471003_12 : 6585.0\n",
      "Tâche 3 - Train 47214_12 : 6885.0\n",
      "Tâche 3 - Train 47262_12 : 6375.0\n",
      "Tâche 3 - Train 47822_12 : 7005.0\n",
      "Tâche 3 - Train 48216_12 : 6300.0\n",
      "Tâche 3 - Train 489026_12 : 6555.0\n",
      "Tâche 3 - Train 489042_12 : 7140.0\n",
      "Tâche 3 - Train 54234_12 : 7155.0\n",
      "Tâche 3 - Train 55396_12 : 6285.0\n",
      "Tâche 3 - Train 56135_12 : 7170.0\n",
      "Tâche 3 - Train 56730_12 : 5985.0\n",
      "Tâche 3 - Train 58706_12 : 7110.0\n",
      "Tâche 3 - Train 71270_12 : 6390.0\n",
      "Tâche 3 - Train 412023_13 : 7440.0\n",
      "Tâche 3 - Train 41230_13 : 8595.0\n",
      "Tâche 3 - Train 431802_13 : 7575.0\n",
      "Tâche 3 - Train 44222_13 : 8505.0\n",
      "Tâche 3 - Train 44228_13 : 7335.0\n",
      "Tâche 3 - Train 44250_13 : 7905.0\n",
      "Tâche 3 - Train 44864_13 : 8460.0\n",
      "Tâche 3 - Train 450235_13 : 8475.0\n",
      "Tâche 3 - Train 47240_13 : 7380.0\n",
      "Tâche 3 - Train 47262_13 : 7830.0\n",
      "Tâche 3 - Train 47822_13 : 8490.0\n",
      "Tâche 3 - Train 489026_13 : 7965.0\n",
      "Tâche 3 - Train 54234_13 : 8610.0\n",
      "Tâche 3 - Train 55390_13 : 8700.0\n",
      "Tâche 3 - Train 55396_13 : 7725.0\n",
      "Tâche 3 - Train 56135_13 : 8580.0\n",
      "Tâche 3 - Train 56730_13 : 7425.0\n",
      "Tâche 3 - Train 58706_13 : 8535.0\n",
      "Tâche 3 - Train 56730_14 : 8865.0\n",
      "Tâche 1 - Train 400006_09 : 1815.0\n",
      "Tâche 1 - Train 400016_09 : 2145.0\n",
      "Tâche 1 - Train 400110_09 : 2010.0\n",
      "Tâche 1 - Train 431035_09 : 1605.0\n",
      "Tâche 1 - Train 431091_09 : 1575.0\n",
      "Tâche 1 - Train 44203_09 : 1905.0\n",
      "Tâche 1 - Train 44241_09 : 810.0\n",
      "Tâche 1 - Train 44249_09 : 870.0\n",
      "Tâche 1 - Train 44806_09 : 1275.0\n",
      "Tâche 1 - Train 47245_09 : 1470.0\n",
      "Tâche 1 - Train 47289_09 : 1710.0\n",
      "Tâche 1 - Train 47821_09 : 2355.0\n",
      "Tâche 1 - Train 489447_09 : 1410.0\n",
      "Tâche 1 - Train 52672_09 : 1995.0\n",
      "Tâche 1 - Train 54003_09 : 1365.0\n",
      "Tâche 1 - Train 54051_09 : 1095.0\n",
      "Tâche 1 - Train 54086_09 : 795.0\n",
      "Tâche 1 - Train 54231_09 : 1800.0\n",
      "Tâche 1 - Train 450226_10 : 2850.0\n",
      "Tâche 1 - Train 400014_10 : 3330.0\n",
      "Tâche 1 - Train 412124_10 : 2325.0\n",
      "Tâche 1 - Train 41258_10 : 2220.0\n",
      "Tâche 1 - Train 431035_10 : 3150.0\n",
      "Tâche 1 - Train 431091_10 : 3045.0\n",
      "Tâche 1 - Train 44203_10 : 3585.0\n",
      "Tâche 1 - Train 44241_10 : 2910.0\n",
      "Tâche 1 - Train 44249_10 : 2595.0\n",
      "Tâche 1 - Train 47205_10 : 3465.0\n",
      "Tâche 1 - Train 48215_10 : 3345.0\n",
      "Tâche 1 - Train 489044_10 : 2415.0\n",
      "Tâche 1 - Train 52672_10 : 3525.0\n",
      "Tâche 1 - Train 54003_10 : 2715.0\n",
      "Tâche 1 - Train 54053_10 : 3135.0\n",
      "Tâche 1 - Train 54231_10 : 3240.0\n",
      "Tâche 1 - Train 71210_10 : 2880.0\n",
      "Tâche 1 - Train 400006_11 : 4995.0\n",
      "Tâche 1 - Train 400010_11 : 4980.0\n",
      "Tâche 1 - Train 400016_11 : 5475.0\n",
      "Tâche 1 - Train 431035_11 : 4950.0\n",
      "Tâche 1 - Train 44203_11 : 5175.0\n",
      "Tâche 1 - Train 44241_11 : 4530.0\n",
      "Tâche 1 - Train 44806_11 : 4305.0\n",
      "Tâche 1 - Train 450226_11 : 3660.0\n",
      "Tâche 1 - Train 47245_11 : 4320.0\n",
      "Tâche 1 - Train 47247_11 : 4515.0\n",
      "Tâche 1 - Train 47820_11 : 5460.0\n",
      "Tâche 1 - Train 489118_11 : 4785.0\n",
      "Tâche 1 - Train 52672_11 : 4755.0\n",
      "Tâche 1 - Train 54003_11 : 4245.0\n",
      "Tâche 1 - Train 54051_11 : 4440.0\n",
      "Tâche 1 - Train 54086_11 : 3780.0\n",
      "Tâche 1 - Train 54231_11 : 4800.0\n",
      "Tâche 1 - Train 71256_11 : 3720.0\n",
      "Tâche 1 - Train 400010_12 : 6945.0\n",
      "Tâche 1 - Train 400016_12 : 6810.0\n",
      "Tâche 1 - Train 412024_12 : 5730.0\n",
      "Tâche 1 - Train 41258_12 : 5280.0\n",
      "Tâche 1 - Train 431035_12 : 5925.0\n",
      "Tâche 1 - Train 44241_12 : 6030.0\n",
      "Tâche 1 - Train 44249_12 : 5535.0\n",
      "Tâche 1 - Train 44952_12 : 6720.0\n",
      "Tâche 1 - Train 47205_12 : 6585.0\n",
      "Tâche 1 - Train 48219_12 : 5700.0\n",
      "Tâche 1 - Train 489447_12 : 5895.0\n",
      "Tâche 1 - Train 52672_12 : 6300.0\n",
      "Tâche 1 - Train 54003_12 : 5745.0\n",
      "Tâche 1 - Train 54053_12 : 6105.0\n",
      "Tâche 1 - Train 54086_12 : 5340.0\n",
      "Tâche 1 - Train 54231_12 : 6225.0\n",
      "Tâche 1 - Train 71217_12 : 6795.0\n",
      "Tâche 1 - Train 41258_13 : 7140.0\n",
      "Tâche 1 - Train 431091_13 : 6570.0\n",
      "Tâche 1 - Train 44241_13 : 7695.0\n",
      "Tâche 1 - Train 44806_13 : 7215.0\n",
      "Tâche 1 - Train 450224_13 : 7500.0\n",
      "Tâche 1 - Train 47237_13 : 7530.0\n",
      "Tâche 1 - Train 47281_13 : 7605.0\n",
      "Tâche 1 - Train 489044_13 : 6990.0\n",
      "Tâche 1 - Train 489119_13 : 7410.0\n",
      "Tâche 1 - Train 489447_13 : 7275.0\n",
      "Tâche 1 - Train 54051_13 : 7335.0\n",
      "Tâche 1 - Train 54086_13 : 6525.0\n",
      "Tâche 1 - Train 431037_14 : 8955.0\n",
      "Tâche 1 - Train 44247_14 : 9225.0\n",
      "Tâche 1 - Train 44559_14 : 7815.0\n",
      "Tâche 1 - Train 47820_14 : 9060.0\n",
      "Tâche 1 - Train 489447_14 : 8670.0\n",
      "Tâche 1 - Train 54003_14 : 8655.0\n",
      "Tâche 1 - Train 54053_14 : 8775.0\n",
      "Tâche 1 - Train 54055_14 : 8475.0\n",
      "Tâche 1 - Train 54086_14 : 7800.0\n",
      "Tâche 1 - Train 400014_15 : 10875.0\n",
      "Tâche 1 - Train 431035_15 : 8580.0\n",
      "Tâche 1 - Train 431121_15 : 7965.0\n",
      "Tâche 1 - Train 450226_15 : 9900.0\n",
      "Tâche 1 - Train 489447_15 : 10125.0\n",
      "Tâche 1 - Train 54003_15 : 10080.0\n",
      "Tâche 1 - Train 54051_15 : 9915.0\n",
      "Tâche 1 - Train 54086_15 : 9045.0\n",
      "Tâche 1 - Train 54231_15 : 8865.0\n",
      "Tâche 1 - Train 41258_16 : 10170.0\n",
      "Tâche 1 - Train 431091_16 : 9285.0\n",
      "Tâche 1 - Train 489044_16 : 10860.0\n",
      "Tâche 1 - Train 54051_16 : 7080.0\n",
      "Tâche 1 - Train 412124_17 : 11790.0\n",
      "Tâche 1 - Train 431113_17 : 9240.0\n",
      "Tâche 2 - Train 400006_09 : 1830.0\n",
      "Tâche 2 - Train 400016_09 : 2175.0\n",
      "Tâche 2 - Train 400110_09 : 2025.0\n",
      "Tâche 2 - Train 431035_09 : 1635.0\n",
      "Tâche 2 - Train 431091_09 : 1590.0\n",
      "Tâche 2 - Train 44203_09 : 1965.0\n",
      "Tâche 2 - Train 44241_09 : 870.0\n",
      "Tâche 2 - Train 44249_09 : 885.0\n",
      "Tâche 2 - Train 44806_09 : 1290.0\n",
      "Tâche 2 - Train 47245_09 : 1485.0\n",
      "Tâche 2 - Train 47289_09 : 1725.0\n",
      "Tâche 2 - Train 47821_09 : 2370.0\n",
      "Tâche 2 - Train 489447_09 : 1425.0\n",
      "Tâche 2 - Train 52672_09 : 2010.0\n",
      "Tâche 2 - Train 54003_09 : 1380.0\n",
      "Tâche 2 - Train 54051_09 : 1110.0\n",
      "Tâche 2 - Train 54086_09 : 1050.0\n",
      "Tâche 2 - Train 54231_09 : 1815.0\n",
      "Tâche 2 - Train 450226_10 : 2865.0\n",
      "Tâche 2 - Train 400014_10 : 3345.0\n",
      "Tâche 2 - Train 412124_10 : 2400.0\n",
      "Tâche 2 - Train 41258_10 : 2235.0\n",
      "Tâche 2 - Train 431035_10 : 3165.0\n",
      "Tâche 2 - Train 431091_10 : 3060.0\n",
      "Tâche 2 - Train 44203_10 : 3600.0\n",
      "Tâche 2 - Train 44241_10 : 2925.0\n",
      "Tâche 2 - Train 44249_10 : 2610.0\n",
      "Tâche 2 - Train 47205_10 : 3480.0\n",
      "Tâche 2 - Train 48215_10 : 3405.0\n",
      "Tâche 2 - Train 489044_10 : 2430.0\n",
      "Tâche 2 - Train 52672_10 : 3540.0\n",
      "Tâche 2 - Train 54003_10 : 2730.0\n",
      "Tâche 2 - Train 54053_10 : 3150.0\n",
      "Tâche 2 - Train 54231_10 : 3255.0\n",
      "Tâche 2 - Train 71210_10 : 2895.0\n",
      "Tâche 2 - Train 400006_11 : 5010.0\n",
      "Tâche 2 - Train 400010_11 : 4995.0\n",
      "Tâche 2 - Train 400016_11 : 5490.0\n",
      "Tâche 2 - Train 431035_11 : 4965.0\n",
      "Tâche 2 - Train 44203_11 : 5205.0\n",
      "Tâche 2 - Train 44241_11 : 4620.0\n",
      "Tâche 2 - Train 44806_11 : 4350.0\n",
      "Tâche 2 - Train 450226_11 : 3825.0\n",
      "Tâche 2 - Train 47245_11 : 4335.0\n",
      "Tâche 2 - Train 47247_11 : 4560.0\n",
      "Tâche 2 - Train 47820_11 : 5475.0\n",
      "Tâche 2 - Train 489118_11 : 4800.0\n",
      "Tâche 2 - Train 52672_11 : 4770.0\n",
      "Tâche 2 - Train 54003_11 : 4260.0\n",
      "Tâche 2 - Train 54051_11 : 4455.0\n",
      "Tâche 2 - Train 54086_11 : 3795.0\n",
      "Tâche 2 - Train 54231_11 : 4815.0\n",
      "Tâche 2 - Train 71256_11 : 3735.0\n",
      "Tâche 2 - Train 400010_12 : 6960.0\n",
      "Tâche 2 - Train 400016_12 : 6825.0\n",
      "Tâche 2 - Train 412024_12 : 5745.0\n",
      "Tâche 2 - Train 41258_12 : 5295.0\n",
      "Tâche 2 - Train 431035_12 : 6060.0\n",
      "Tâche 2 - Train 44241_12 : 6045.0\n",
      "Tâche 2 - Train 44249_12 : 5550.0\n",
      "Tâche 2 - Train 44952_12 : 6735.0\n",
      "Tâche 2 - Train 47205_12 : 6615.0\n",
      "Tâche 2 - Train 48219_12 : 5715.0\n",
      "Tâche 2 - Train 489447_12 : 5910.0\n",
      "Tâche 2 - Train 52672_12 : 6405.0\n",
      "Tâche 2 - Train 54003_12 : 5760.0\n",
      "Tâche 2 - Train 54053_12 : 6240.0\n",
      "Tâche 2 - Train 54086_12 : 5355.0\n",
      "Tâche 2 - Train 54231_12 : 6390.0\n",
      "Tâche 2 - Train 71217_12 : 6810.0\n",
      "Tâche 2 - Train 41258_13 : 7155.0\n",
      "Tâche 2 - Train 431091_13 : 6585.0\n",
      "Tâche 2 - Train 44241_13 : 7710.0\n",
      "Tâche 2 - Train 44806_13 : 7230.0\n",
      "Tâche 2 - Train 450224_13 : 7515.0\n",
      "Tâche 2 - Train 47237_13 : 7545.0\n",
      "Tâche 2 - Train 47281_13 : 7620.0\n",
      "Tâche 2 - Train 489044_13 : 7005.0\n",
      "Tâche 2 - Train 489119_13 : 7425.0\n",
      "Tâche 2 - Train 489447_13 : 7290.0\n",
      "Tâche 2 - Train 54051_13 : 7350.0\n",
      "Tâche 2 - Train 54086_13 : 6540.0\n",
      "Tâche 2 - Train 431037_14 : 8970.0\n",
      "Tâche 2 - Train 44247_14 : 9240.0\n",
      "Tâche 2 - Train 44559_14 : 7830.0\n",
      "Tâche 2 - Train 47820_14 : 9075.0\n",
      "Tâche 2 - Train 489447_14 : 8685.0\n",
      "Tâche 2 - Train 54003_14 : 8670.0\n",
      "Tâche 2 - Train 54053_14 : 8865.0\n",
      "Tâche 2 - Train 54055_14 : 8490.0\n",
      "Tâche 2 - Train 54086_14 : 7815.0\n",
      "Tâche 2 - Train 400014_15 : 11070.0\n",
      "Tâche 2 - Train 431035_15 : 8595.0\n",
      "Tâche 2 - Train 431121_15 : 8475.0\n",
      "Tâche 2 - Train 450226_15 : 9915.0\n",
      "Tâche 2 - Train 489447_15 : 10140.0\n",
      "Tâche 2 - Train 54003_15 : 10095.0\n",
      "Tâche 2 - Train 54051_15 : 9930.0\n",
      "Tâche 2 - Train 54086_15 : 9060.0\n",
      "Tâche 2 - Train 54231_15 : 8880.0\n",
      "Tâche 2 - Train 41258_16 : 10185.0\n",
      "Tâche 2 - Train 431091_16 : 9900.0\n",
      "Tâche 2 - Train 489044_16 : 10980.0\n",
      "Tâche 2 - Train 54051_16 : 7095.0\n",
      "Tâche 2 - Train 412124_17 : 11805.0\n",
      "Tâche 2 - Train 431113_17 : 9255.0\n",
      "Tâche 3 - Train 400006_09 : 1980.0\n",
      "Tâche 3 - Train 400016_09 : 2325.0\n",
      "Tâche 3 - Train 400110_09 : 2175.0\n",
      "Tâche 3 - Train 431035_09 : 1785.0\n",
      "Tâche 3 - Train 431091_09 : 1740.0\n",
      "Tâche 3 - Train 44203_09 : 2115.0\n",
      "Tâche 3 - Train 44241_09 : 1020.0\n",
      "Tâche 3 - Train 44249_09 : 1035.0\n",
      "Tâche 3 - Train 44806_09 : 1440.0\n",
      "Tâche 3 - Train 47245_09 : 1635.0\n",
      "Tâche 3 - Train 47289_09 : 1875.0\n",
      "Tâche 3 - Train 47821_09 : 2520.0\n",
      "Tâche 3 - Train 489447_09 : 1575.0\n",
      "Tâche 3 - Train 52672_09 : 2160.0\n",
      "Tâche 3 - Train 54003_09 : 1530.0\n",
      "Tâche 3 - Train 54051_09 : 1260.0\n",
      "Tâche 3 - Train 54086_09 : 1200.0\n",
      "Tâche 3 - Train 54231_09 : 1965.0\n",
      "Tâche 3 - Train 450226_10 : 3015.0\n",
      "Tâche 3 - Train 400014_10 : 3495.0\n",
      "Tâche 3 - Train 412124_10 : 2550.0\n",
      "Tâche 3 - Train 41258_10 : 2385.0\n",
      "Tâche 3 - Train 431035_10 : 3315.0\n",
      "Tâche 3 - Train 431091_10 : 3210.0\n",
      "Tâche 3 - Train 44203_10 : 3750.0\n",
      "Tâche 3 - Train 44241_10 : 3075.0\n",
      "Tâche 3 - Train 44249_10 : 2760.0\n",
      "Tâche 3 - Train 47205_10 : 3630.0\n",
      "Tâche 3 - Train 48215_10 : 3555.0\n",
      "Tâche 3 - Train 489044_10 : 2580.0\n",
      "Tâche 3 - Train 52672_10 : 3690.0\n",
      "Tâche 3 - Train 54003_10 : 2880.0\n",
      "Tâche 3 - Train 54053_10 : 3300.0\n",
      "Tâche 3 - Train 54231_10 : 3405.0\n",
      "Tâche 3 - Train 71210_10 : 3045.0\n",
      "Tâche 3 - Train 400006_11 : 5160.0\n",
      "Tâche 3 - Train 400010_11 : 5145.0\n",
      "Tâche 3 - Train 400016_11 : 5640.0\n",
      "Tâche 3 - Train 431035_11 : 5115.0\n",
      "Tâche 3 - Train 44203_11 : 5355.0\n",
      "Tâche 3 - Train 44241_11 : 4770.0\n",
      "Tâche 3 - Train 44806_11 : 4500.0\n",
      "Tâche 3 - Train 450226_11 : 3975.0\n",
      "Tâche 3 - Train 47245_11 : 4485.0\n",
      "Tâche 3 - Train 47247_11 : 4710.0\n",
      "Tâche 3 - Train 47820_11 : 5625.0\n",
      "Tâche 3 - Train 489118_11 : 4950.0\n",
      "Tâche 3 - Train 52672_11 : 4920.0\n",
      "Tâche 3 - Train 54003_11 : 4410.0\n",
      "Tâche 3 - Train 54051_11 : 4605.0\n",
      "Tâche 3 - Train 54086_11 : 3945.0\n",
      "Tâche 3 - Train 54231_11 : 4965.0\n",
      "Tâche 3 - Train 71256_11 : 3885.0\n",
      "Tâche 3 - Train 400010_12 : 7110.0\n",
      "Tâche 3 - Train 400016_12 : 6975.0\n",
      "Tâche 3 - Train 412024_12 : 5895.0\n",
      "Tâche 3 - Train 41258_12 : 5445.0\n",
      "Tâche 3 - Train 431035_12 : 6210.0\n",
      "Tâche 3 - Train 44241_12 : 6195.0\n",
      "Tâche 3 - Train 44249_12 : 5700.0\n",
      "Tâche 3 - Train 44952_12 : 6885.0\n",
      "Tâche 3 - Train 47205_12 : 6765.0\n",
      "Tâche 3 - Train 48219_12 : 5865.0\n",
      "Tâche 3 - Train 489447_12 : 6060.0\n",
      "Tâche 3 - Train 52672_12 : 6555.0\n",
      "Tâche 3 - Train 54003_12 : 5910.0\n",
      "Tâche 3 - Train 54053_12 : 6390.0\n",
      "Tâche 3 - Train 54086_12 : 5505.0\n",
      "Tâche 3 - Train 54231_12 : 6540.0\n",
      "Tâche 3 - Train 71217_12 : 6960.0\n",
      "Tâche 3 - Train 41258_13 : 7305.0\n",
      "Tâche 3 - Train 431091_13 : 6735.0\n",
      "Tâche 3 - Train 44241_13 : 7860.0\n",
      "Tâche 3 - Train 44806_13 : 7380.0\n",
      "Tâche 3 - Train 450224_13 : 7665.0\n",
      "Tâche 3 - Train 47237_13 : 7695.0\n",
      "Tâche 3 - Train 47281_13 : 7770.0\n",
      "Tâche 3 - Train 489044_13 : 7155.0\n",
      "Tâche 3 - Train 489119_13 : 7575.0\n",
      "Tâche 3 - Train 489447_13 : 7440.0\n",
      "Tâche 3 - Train 54051_13 : 7500.0\n",
      "Tâche 3 - Train 54086_13 : 6690.0\n",
      "Tâche 3 - Train 431037_14 : 9120.0\n",
      "Tâche 3 - Train 44247_14 : 9390.0\n",
      "Tâche 3 - Train 44559_14 : 8460.0\n",
      "Tâche 3 - Train 47820_14 : 9225.0\n",
      "Tâche 3 - Train 489447_14 : 8835.0\n",
      "Tâche 3 - Train 54003_14 : 8820.0\n",
      "Tâche 3 - Train 54053_14 : 9015.0\n",
      "Tâche 3 - Train 54055_14 : 8640.0\n",
      "Tâche 3 - Train 54086_14 : 7965.0\n",
      "Tâche 3 - Train 400014_15 : 11220.0\n",
      "Tâche 3 - Train 431035_15 : 8745.0\n",
      "Tâche 3 - Train 431121_15 : 8625.0\n",
      "Tâche 3 - Train 450226_15 : 10065.0\n",
      "Tâche 3 - Train 489447_15 : 10290.0\n",
      "Tâche 3 - Train 54003_15 : 10245.0\n",
      "Tâche 3 - Train 54051_15 : 10080.0\n",
      "Tâche 3 - Train 54086_15 : 9210.0\n",
      "Tâche 3 - Train 54231_15 : 9030.0\n",
      "Tâche 3 - Train 41258_16 : 10335.0\n",
      "Tâche 3 - Train 431091_16 : 10050.0\n",
      "Tâche 3 - Train 489044_16 : 11130.0\n",
      "Tâche 3 - Train 54051_16 : 7245.0\n",
      "Tâche 3 - Train 412124_17 : 13110.0\n",
      "Tâche 3 - Train 431113_17 : 9405.0\n",
      "Tâche 4 - Train 400006_09 : 2355.0\n",
      "Tâche 4 - Train 400016_09 : 2775.0\n",
      "Tâche 4 - Train 400110_09 : 2670.0\n",
      "Tâche 4 - Train 431035_09 : 2310.0\n",
      "Tâche 4 - Train 431091_09 : 1785.0\n",
      "Tâche 4 - Train 44203_09 : 2490.0\n",
      "Tâche 4 - Train 44241_09 : 2220.0\n",
      "Tâche 4 - Train 44249_09 : 1605.0\n",
      "Tâche 4 - Train 44806_09 : 1905.0\n",
      "Tâche 4 - Train 47245_09 : 2280.0\n",
      "Tâche 4 - Train 47289_09 : 2070.0\n",
      "Tâche 4 - Train 47821_09 : 2760.0\n",
      "Tâche 4 - Train 489447_09 : 1785.0\n",
      "Tâche 4 - Train 52672_09 : 2385.0\n",
      "Tâche 4 - Train 54003_09 : 1650.0\n",
      "Tâche 4 - Train 54051_09 : 1740.0\n",
      "Tâche 4 - Train 54086_09 : 1650.0\n",
      "Tâche 4 - Train 54231_09 : 2265.0\n",
      "Tâche 4 - Train 450226_10 : 3300.0\n",
      "Tâche 4 - Train 400014_10 : 4035.0\n",
      "Tâche 4 - Train 412124_10 : 3045.0\n",
      "Tâche 4 - Train 41258_10 : 3015.0\n",
      "Tâche 4 - Train 431035_10 : 3750.0\n",
      "Tâche 4 - Train 431091_10 : 3225.0\n",
      "Tâche 4 - Train 44203_10 : 3930.0\n",
      "Tâche 4 - Train 44241_10 : 3660.0\n",
      "Tâche 4 - Train 44249_10 : 3045.0\n",
      "Tâche 4 - Train 47205_10 : 3705.0\n",
      "Tâche 4 - Train 48215_10 : 3825.0\n",
      "Tâche 4 - Train 489044_10 : 2985.0\n",
      "Tâche 4 - Train 52672_10 : 3825.0\n",
      "Tâche 4 - Train 54003_10 : 3090.0\n",
      "Tâche 4 - Train 54053_10 : 3795.0\n",
      "Tâche 4 - Train 54231_10 : 3705.0\n",
      "Tâche 4 - Train 71210_10 : 3150.0\n",
      "Tâche 4 - Train 400006_11 : 5235.0\n",
      "Tâche 4 - Train 400010_11 : 5715.0\n",
      "Tâche 4 - Train 400016_11 : 5655.0\n",
      "Tâche 4 - Train 431035_11 : 5190.0\n",
      "Tâche 4 - Train 44203_11 : 5370.0\n",
      "Tâche 4 - Train 44241_11 : 5100.0\n",
      "Tâche 4 - Train 44806_11 : 4605.0\n",
      "Tâche 4 - Train 450226_11 : 4740.0\n",
      "Tâche 4 - Train 47245_11 : 5175.0\n",
      "Tâche 4 - Train 47247_11 : 4950.0\n",
      "Tâche 4 - Train 47820_11 : 5640.0\n",
      "Tâche 4 - Train 489118_11 : 5205.0\n",
      "Tâche 4 - Train 52672_11 : 5265.0\n",
      "Tâche 4 - Train 54003_11 : 4530.0\n",
      "Tâche 4 - Train 54051_11 : 4620.0\n",
      "Tâche 4 - Train 54086_11 : 4530.0\n",
      "Tâche 4 - Train 54231_11 : 5145.0\n",
      "Tâche 4 - Train 71256_11 : 4440.0\n",
      "Tâche 4 - Train 400010_12 : 7155.0\n",
      "Tâche 4 - Train 400016_12 : 7095.0\n",
      "Tâche 4 - Train 412024_12 : 6000.0\n",
      "Tâche 4 - Train 41258_12 : 5895.0\n",
      "Tâche 4 - Train 431035_12 : 6630.0\n",
      "Tâche 4 - Train 44241_12 : 6540.0\n",
      "Tâche 4 - Train 44249_12 : 5925.0\n",
      "Tâche 4 - Train 44952_12 : 6990.0\n",
      "Tâche 4 - Train 47205_12 : 6885.0\n",
      "Tâche 4 - Train 48219_12 : 5880.0\n",
      "Tâche 4 - Train 489447_12 : 6105.0\n",
      "Tâche 4 - Train 52672_12 : 6705.0\n",
      "Tâche 4 - Train 54003_12 : 5970.0\n",
      "Tâche 4 - Train 54053_12 : 6675.0\n",
      "Tâche 4 - Train 54086_12 : 5970.0\n",
      "Tâche 4 - Train 54231_12 : 6585.0\n",
      "Tâche 4 - Train 71217_12 : 7140.0\n",
      "Tâche 4 - Train 41258_13 : 7335.0\n",
      "Tâche 4 - Train 431091_13 : 7545.0\n",
      "Tâche 4 - Train 44241_13 : 7980.0\n",
      "Tâche 4 - Train 44806_13 : 7440.0\n",
      "Tâche 4 - Train 450224_13 : 7755.0\n",
      "Tâche 4 - Train 47237_13 : 7830.0\n",
      "Tâche 4 - Train 47281_13 : 8280.0\n",
      "Tâche 4 - Train 489044_13 : 7305.0\n",
      "Tâche 4 - Train 489119_13 : 8070.0\n",
      "Tâche 4 - Train 489447_13 : 7545.0\n",
      "Tâche 4 - Train 54051_13 : 7515.0\n",
      "Tâche 4 - Train 54086_13 : 7410.0\n",
      "Tâche 4 - Train 431037_14 : 9675.0\n",
      "Tâche 4 - Train 44247_14 : 9495.0\n",
      "Tâche 4 - Train 44559_14 : 9345.0\n",
      "Tâche 4 - Train 47820_14 : 9510.0\n",
      "Tâche 4 - Train 489447_14 : 8985.0\n",
      "Tâche 4 - Train 54003_14 : 8850.0\n",
      "Tâche 4 - Train 54053_14 : 9555.0\n",
      "Tâche 4 - Train 54055_14 : 8700.0\n",
      "Tâche 4 - Train 54086_14 : 8850.0\n",
      "Tâche 4 - Train 400014_15 : 11235.0\n",
      "Tâche 4 - Train 431035_15 : 10950.0\n",
      "Tâche 4 - Train 431121_15 : 10395.0\n",
      "Tâche 4 - Train 450226_15 : 10500.0\n",
      "Tâche 4 - Train 489447_15 : 10425.0\n",
      "Tâche 4 - Train 54003_15 : 10290.0\n",
      "Tâche 4 - Train 54051_15 : 10380.0\n",
      "Tâche 4 - Train 54086_15 : 10290.0\n",
      "Tâche 4 - Train 54231_15 : 10905.0\n",
      "Tâche 4 - Train 41258_16 : 11655.0\n",
      "Tâche 4 - Train 431091_16 : 11865.0\n",
      "Tâche 4 - Train 489044_16 : 11625.0\n",
      "Tâche 4 - Train 54051_16 : 11820.0\n",
      "Tâche 4 - Train 412124_17 : 13125.0\n",
      "Tâche 4 - Train 431113_17 : 13590.0\n",
      "La valeur objectif est : 3.0\n"
     ]
    }
   ],
   "source": [
    "model.optimize()\n",
    "\n",
    "if model.status == GRB.INFEASIBLE:\n",
    "    print(\"Le modèle n'a pas de solution\")\n",
    "elif model.status == GRB.UNBOUNDED:\n",
    "    print(\"Le modèle est non borné\")\n",
    "else:\n",
    "    print(\"Ca marche !\")\n",
    "    for (m, n), var in t_arr.items():\n",
    "        print(f\"Tâche {m} - Train {n} : {15*var.x}\")\n",
    "    for (m, n), var in t_dep.items():\n",
    "        print(f\"Tâche {m} - Train {n} : {15*var.x}\")\n",
    "    print('La valeur objectif est :', model.objVal)"
   ]
  },
  {
   "cell_type": "code",
   "execution_count": 6,
   "metadata": {},
   "outputs": [
    {
     "data": {
      "application/vnd.plotly.v1+json": {
       "config": {
        "plotlyServerURL": "https://plot.ly"
       },
       "data": [
        {
         "base": [
          "2022-08-08T21:00:00.000000000",
          "2022-08-08T21:15:00.000000000",
          "2022-08-08T22:00:00.000000000"
         ],
         "hovertemplate": "Train=412202_08<br>Start=%{base}<br>Finish=%{x}<br>Tâches=%{y}<extra></extra>",
         "legendgroup": "412202_08",
         "marker": {
          "color": "#636efa",
          "pattern": {
           "shape": ""
          }
         },
         "name": "412202_08",
         "orientation": "h",
         "showlegend": true,
         "textposition": "auto",
         "type": "bar",
         "x": {
          "bdata": "oLsNAOAyKQCguw0A",
          "dtype": "i4"
         },
         "xaxis": "x",
         "y": [
          "arr_1",
          "arr_2",
          "arr_3"
         ],
         "yaxis": "y"
        },
        {
         "base": [
          "2022-08-08T13:30:00.000000000",
          "2022-08-08T13:45:00.000000000",
          "2022-08-08T14:30:00.000000000"
         ],
         "hovertemplate": "Train=431018_08<br>Start=%{base}<br>Finish=%{x}<br>Tâches=%{y}<extra></extra>",
         "legendgroup": "431018_08",
         "marker": {
          "color": "#EF553B",
          "pattern": {
           "shape": ""
          }
         },
         "name": "431018_08",
         "orientation": "h",
         "showlegend": true,
         "textposition": "auto",
         "type": "bar",
         "x": {
          "bdata": "oLsNAOAyKQCguw0A",
          "dtype": "i4"
         },
         "xaxis": "x",
         "y": [
          "arr_1",
          "arr_2",
          "arr_3"
         ],
         "yaxis": "y"
        },
        {
         "base": [
          "2022-08-08T11:15:00.000000000",
          "2022-08-08T11:30:00.000000000",
          "2022-08-08T13:00:00.000000000"
         ],
         "hovertemplate": "Train=431246_08<br>Start=%{base}<br>Finish=%{x}<br>Tâches=%{y}<extra></extra>",
         "legendgroup": "431246_08",
         "marker": {
          "color": "#00cc96",
          "pattern": {
           "shape": ""
          }
         },
         "name": "431246_08",
         "orientation": "h",
         "showlegend": true,
         "textposition": "auto",
         "type": "bar",
         "x": {
          "bdata": "oLsNAOAyKQCguw0A",
          "dtype": "i4"
         },
         "xaxis": "x",
         "y": [
          "arr_1",
          "arr_2",
          "arr_3"
         ],
         "yaxis": "y"
        },
        {
         "base": [
          "2022-08-08T19:00:00.000000000",
          "2022-08-08T19:15:00.000000000",
          "2022-08-08T20:00:00.000000000"
         ],
         "hovertemplate": "Train=44951_08<br>Start=%{base}<br>Finish=%{x}<br>Tâches=%{y}<extra></extra>",
         "legendgroup": "44951_08",
         "marker": {
          "color": "#ab63fa",
          "pattern": {
           "shape": ""
          }
         },
         "name": "44951_08",
         "orientation": "h",
         "showlegend": true,
         "textposition": "auto",
         "type": "bar",
         "x": {
          "bdata": "oLsNAOAyKQCguw0A",
          "dtype": "i4"
         },
         "xaxis": "x",
         "y": [
          "arr_1",
          "arr_2",
          "arr_3"
         ],
         "yaxis": "y"
        },
        {
         "base": [
          "2022-08-08T12:00:00.000000000",
          "2022-08-08T12:15:00.000000000",
          "2022-08-08T13:15:00.000000000"
         ],
         "hovertemplate": "Train=450237_08<br>Start=%{base}<br>Finish=%{x}<br>Tâches=%{y}<extra></extra>",
         "legendgroup": "450237_08",
         "marker": {
          "color": "#FFA15A",
          "pattern": {
           "shape": ""
          }
         },
         "name": "450237_08",
         "orientation": "h",
         "showlegend": true,
         "textposition": "auto",
         "type": "bar",
         "x": {
          "bdata": "oLsNAOAyKQCguw0A",
          "dtype": "i4"
         },
         "xaxis": "x",
         "y": [
          "arr_1",
          "arr_2",
          "arr_3"
         ],
         "yaxis": "y"
        },
        {
         "base": [
          "2022-08-08T23:45:00.000000000",
          "2022-08-09T00:00:00.000000000",
          "2022-08-09T00:45:00.000000000"
         ],
         "hovertemplate": "Train=489016_08<br>Start=%{base}<br>Finish=%{x}<br>Tâches=%{y}<extra></extra>",
         "legendgroup": "489016_08",
         "marker": {
          "color": "#19d3f3",
          "pattern": {
           "shape": ""
          }
         },
         "name": "489016_08",
         "orientation": "h",
         "showlegend": true,
         "textposition": "auto",
         "type": "bar",
         "x": {
          "bdata": "oLsNAOAyKQCguw0A",
          "dtype": "i4"
         },
         "xaxis": "x",
         "y": [
          "arr_1",
          "arr_2",
          "arr_3"
         ],
         "yaxis": "y"
        },
        {
         "base": [
          "2022-08-08T22:15:00.000000000",
          "2022-08-08T22:30:00.000000000",
          "2022-08-08T23:15:00.000000000"
         ],
         "hovertemplate": "Train=54234_08<br>Start=%{base}<br>Finish=%{x}<br>Tâches=%{y}<extra></extra>",
         "legendgroup": "54234_08",
         "marker": {
          "color": "#FF6692",
          "pattern": {
           "shape": ""
          }
         },
         "name": "54234_08",
         "orientation": "h",
         "showlegend": true,
         "textposition": "auto",
         "type": "bar",
         "x": {
          "bdata": "oLsNAOAyKQCguw0A",
          "dtype": "i4"
         },
         "xaxis": "x",
         "y": [
          "arr_1",
          "arr_2",
          "arr_3"
         ],
         "yaxis": "y"
        },
        {
         "base": [
          "2022-08-09T00:00:00.000000000",
          "2022-08-09T00:15:00.000000000",
          "2022-08-09T01:00:00.000000000"
         ],
         "hovertemplate": "Train=55390_08<br>Start=%{base}<br>Finish=%{x}<br>Tâches=%{y}<extra></extra>",
         "legendgroup": "55390_08",
         "marker": {
          "color": "#B6E880",
          "pattern": {
           "shape": ""
          }
         },
         "name": "55390_08",
         "orientation": "h",
         "showlegend": true,
         "textposition": "auto",
         "type": "bar",
         "x": {
          "bdata": "oLsNAOAyKQCguw0A",
          "dtype": "i4"
         },
         "xaxis": "x",
         "y": [
          "arr_1",
          "arr_2",
          "arr_3"
         ],
         "yaxis": "y"
        },
        {
         "base": [
          "2022-08-08T21:30:00.000000000",
          "2022-08-08T21:45:00.000000000",
          "2022-08-08T22:30:00.000000000"
         ],
         "hovertemplate": "Train=56135_08<br>Start=%{base}<br>Finish=%{x}<br>Tâches=%{y}<extra></extra>",
         "legendgroup": "56135_08",
         "marker": {
          "color": "#FF97FF",
          "pattern": {
           "shape": ""
          }
         },
         "name": "56135_08",
         "orientation": "h",
         "showlegend": true,
         "textposition": "auto",
         "type": "bar",
         "x": {
          "bdata": "oLsNAOAyKQCguw0A",
          "dtype": "i4"
         },
         "xaxis": "x",
         "y": [
          "arr_1",
          "arr_2",
          "arr_3"
         ],
         "yaxis": "y"
        },
        {
         "base": [
          "2022-08-09T02:15:00.000000000",
          "2022-08-09T02:30:00.000000000",
          "2022-08-09T03:30:00.000000000"
         ],
         "hovertemplate": "Train=412023_09<br>Start=%{base}<br>Finish=%{x}<br>Tâches=%{y}<extra></extra>",
         "legendgroup": "412023_09",
         "marker": {
          "color": "#FECB52",
          "pattern": {
           "shape": ""
          }
         },
         "name": "412023_09",
         "orientation": "h",
         "showlegend": true,
         "textposition": "auto",
         "type": "bar",
         "x": {
          "bdata": "oLsNAOAyKQCguw0A",
          "dtype": "i4"
         },
         "xaxis": "x",
         "y": [
          "arr_1",
          "arr_2",
          "arr_3"
         ],
         "yaxis": "y"
        },
        {
         "base": [
          "2022-08-09T22:45:00.000000000",
          "2022-08-09T23:00:00.000000000",
          "2022-08-09T23:45:00.000000000"
         ],
         "hovertemplate": "Train=41264_09<br>Start=%{base}<br>Finish=%{x}<br>Tâches=%{y}<extra></extra>",
         "legendgroup": "41264_09",
         "marker": {
          "color": "#636efa",
          "pattern": {
           "shape": ""
          }
         },
         "name": "41264_09",
         "orientation": "h",
         "showlegend": true,
         "textposition": "auto",
         "type": "bar",
         "x": {
          "bdata": "oLsNAOAyKQCguw0A",
          "dtype": "i4"
         },
         "xaxis": "x",
         "y": [
          "arr_1",
          "arr_2",
          "arr_3"
         ],
         "yaxis": "y"
        },
        {
         "base": [
          "2022-08-09T03:00:00.000000000",
          "2022-08-09T03:15:00.000000000",
          "2022-08-09T04:00:00.000000000"
         ],
         "hovertemplate": "Train=431802_09<br>Start=%{base}<br>Finish=%{x}<br>Tâches=%{y}<extra></extra>",
         "legendgroup": "431802_09",
         "marker": {
          "color": "#EF553B",
          "pattern": {
           "shape": ""
          }
         },
         "name": "431802_09",
         "orientation": "h",
         "showlegend": true,
         "textposition": "auto",
         "type": "bar",
         "x": {
          "bdata": "oLsNAOAyKQCguw0A",
          "dtype": "i4"
         },
         "xaxis": "x",
         "y": [
          "arr_1",
          "arr_2",
          "arr_3"
         ],
         "yaxis": "y"
        },
        {
         "base": [
          "2022-08-09T18:15:00.000000000",
          "2022-08-09T18:30:00.000000000",
          "2022-08-09T19:15:00.000000000"
         ],
         "hovertemplate": "Train=44222_09<br>Start=%{base}<br>Finish=%{x}<br>Tâches=%{y}<extra></extra>",
         "legendgroup": "44222_09",
         "marker": {
          "color": "#00cc96",
          "pattern": {
           "shape": ""
          }
         },
         "name": "44222_09",
         "orientation": "h",
         "showlegend": true,
         "textposition": "auto",
         "type": "bar",
         "x": {
          "bdata": "oLsNAOAyKQCguw0A",
          "dtype": "i4"
         },
         "xaxis": "x",
         "y": [
          "arr_1",
          "arr_2",
          "arr_3"
         ],
         "yaxis": "y"
        },
        {
         "base": [
          "2022-08-09T10:30:00.000000000",
          "2022-08-09T10:45:00.000000000",
          "2022-08-09T11:30:00.000000000"
         ],
         "hovertemplate": "Train=44250_09<br>Start=%{base}<br>Finish=%{x}<br>Tâches=%{y}<extra></extra>",
         "legendgroup": "44250_09",
         "marker": {
          "color": "#ab63fa",
          "pattern": {
           "shape": ""
          }
         },
         "name": "44250_09",
         "orientation": "h",
         "showlegend": true,
         "textposition": "auto",
         "type": "bar",
         "x": {
          "bdata": "oLsNAOAyKQCguw0A",
          "dtype": "i4"
         },
         "xaxis": "x",
         "y": [
          "arr_1",
          "arr_2",
          "arr_3"
         ],
         "yaxis": "y"
        },
        {
         "base": [
          "2022-08-09T16:30:00.000000000",
          "2022-08-09T16:45:00.000000000",
          "2022-08-09T17:30:00.000000000"
         ],
         "hovertemplate": "Train=44865_09<br>Start=%{base}<br>Finish=%{x}<br>Tâches=%{y}<extra></extra>",
         "legendgroup": "44865_09",
         "marker": {
          "color": "#FFA15A",
          "pattern": {
           "shape": ""
          }
         },
         "name": "44865_09",
         "orientation": "h",
         "showlegend": true,
         "textposition": "auto",
         "type": "bar",
         "x": {
          "bdata": "oLsNAOAyKQCguw0A",
          "dtype": "i4"
         },
         "xaxis": "x",
         "y": [
          "arr_1",
          "arr_2",
          "arr_3"
         ],
         "yaxis": "y"
        },
        {
         "base": [
          "2022-08-09T12:00:00.000000000",
          "2022-08-09T12:15:00.000000000",
          "2022-08-09T13:00:00.000000000"
         ],
         "hovertemplate": "Train=450237_09<br>Start=%{base}<br>Finish=%{x}<br>Tâches=%{y}<extra></extra>",
         "legendgroup": "450237_09",
         "marker": {
          "color": "#19d3f3",
          "pattern": {
           "shape": ""
          }
         },
         "name": "450237_09",
         "orientation": "h",
         "showlegend": true,
         "textposition": "auto",
         "type": "bar",
         "x": {
          "bdata": "oLsNAOAyKQCguw0A",
          "dtype": "i4"
         },
         "xaxis": "x",
         "y": [
          "arr_1",
          "arr_2",
          "arr_3"
         ],
         "yaxis": "y"
        },
        {
         "base": [
          "2022-08-09T12:45:00.000000000",
          "2022-08-09T13:00:00.000000000",
          "2022-08-09T13:45:00.000000000"
         ],
         "hovertemplate": "Train=471003_09<br>Start=%{base}<br>Finish=%{x}<br>Tâches=%{y}<extra></extra>",
         "legendgroup": "471003_09",
         "marker": {
          "color": "#FF6692",
          "pattern": {
           "shape": ""
          }
         },
         "name": "471003_09",
         "orientation": "h",
         "showlegend": true,
         "textposition": "auto",
         "type": "bar",
         "x": {
          "bdata": "oLsNAOAyKQCguw0A",
          "dtype": "i4"
         },
         "xaxis": "x",
         "y": [
          "arr_1",
          "arr_2",
          "arr_3"
         ],
         "yaxis": "y"
        },
        {
         "base": [
          "2022-08-09T09:15:00.000000000",
          "2022-08-09T09:30:00.000000000",
          "2022-08-09T10:15:00.000000000"
         ],
         "hovertemplate": "Train=47262_09<br>Start=%{base}<br>Finish=%{x}<br>Tâches=%{y}<extra></extra>",
         "legendgroup": "47262_09",
         "marker": {
          "color": "#B6E880",
          "pattern": {
           "shape": ""
          }
         },
         "name": "47262_09",
         "orientation": "h",
         "showlegend": true,
         "textposition": "auto",
         "type": "bar",
         "x": {
          "bdata": "oLsNAOAyKQCguw0A",
          "dtype": "i4"
         },
         "xaxis": "x",
         "y": [
          "arr_1",
          "arr_2",
          "arr_3"
         ],
         "yaxis": "y"
        },
        {
         "base": [
          "2022-08-09T09:45:00.000000000",
          "2022-08-09T10:00:00.000000000",
          "2022-08-09T10:45:00.000000000"
         ],
         "hovertemplate": "Train=489026_09<br>Start=%{base}<br>Finish=%{x}<br>Tâches=%{y}<extra></extra>",
         "legendgroup": "489026_09",
         "marker": {
          "color": "#FF97FF",
          "pattern": {
           "shape": ""
          }
         },
         "name": "489026_09",
         "orientation": "h",
         "showlegend": true,
         "textposition": "auto",
         "type": "bar",
         "x": {
          "bdata": "oLsNAOAyKQCguw0A",
          "dtype": "i4"
         },
         "xaxis": "x",
         "y": [
          "arr_1",
          "arr_2",
          "arr_3"
         ],
         "yaxis": "y"
        },
        {
         "base": [
          "2022-08-09T22:15:00.000000000",
          "2022-08-09T22:30:00.000000000",
          "2022-08-09T23:15:00.000000000"
         ],
         "hovertemplate": "Train=54234_09<br>Start=%{base}<br>Finish=%{x}<br>Tâches=%{y}<extra></extra>",
         "legendgroup": "54234_09",
         "marker": {
          "color": "#FECB52",
          "pattern": {
           "shape": ""
          }
         },
         "name": "54234_09",
         "orientation": "h",
         "showlegend": true,
         "textposition": "auto",
         "type": "bar",
         "x": {
          "bdata": "oLsNAOAyKQCguw0A",
          "dtype": "i4"
         },
         "xaxis": "x",
         "y": [
          "arr_1",
          "arr_2",
          "arr_3"
         ],
         "yaxis": "y"
        },
        {
         "base": [
          "2022-08-10T00:00:00.000000000",
          "2022-08-10T00:15:00.000000000",
          "2022-08-10T01:00:00.000000000"
         ],
         "hovertemplate": "Train=55390_09<br>Start=%{base}<br>Finish=%{x}<br>Tâches=%{y}<extra></extra>",
         "legendgroup": "55390_09",
         "marker": {
          "color": "#636efa",
          "pattern": {
           "shape": ""
          }
         },
         "name": "55390_09",
         "orientation": "h",
         "showlegend": true,
         "textposition": "auto",
         "type": "bar",
         "x": {
          "bdata": "oLsNAOAyKQCguw0A",
          "dtype": "i4"
         },
         "xaxis": "x",
         "y": [
          "arr_1",
          "arr_2",
          "arr_3"
         ],
         "yaxis": "y"
        },
        {
         "base": [
          "2022-08-09T04:00:00.000000000",
          "2022-08-09T04:15:00.000000000",
          "2022-08-09T05:00:00.000000000"
         ],
         "hovertemplate": "Train=55398_09<br>Start=%{base}<br>Finish=%{x}<br>Tâches=%{y}<extra></extra>",
         "legendgroup": "55398_09",
         "marker": {
          "color": "#EF553B",
          "pattern": {
           "shape": ""
          }
         },
         "name": "55398_09",
         "orientation": "h",
         "showlegend": true,
         "textposition": "auto",
         "type": "bar",
         "x": {
          "bdata": "oLsNAOAyKQCguw0A",
          "dtype": "i4"
         },
         "xaxis": "x",
         "y": [
          "arr_1",
          "arr_2",
          "arr_3"
         ],
         "yaxis": "y"
        },
        {
         "base": [
          "2022-08-09T21:30:00.000000000",
          "2022-08-09T21:45:00.000000000",
          "2022-08-09T22:30:00.000000000"
         ],
         "hovertemplate": "Train=56135_09<br>Start=%{base}<br>Finish=%{x}<br>Tâches=%{y}<extra></extra>",
         "legendgroup": "56135_09",
         "marker": {
          "color": "#00cc96",
          "pattern": {
           "shape": ""
          }
         },
         "name": "56135_09",
         "orientation": "h",
         "showlegend": true,
         "textposition": "auto",
         "type": "bar",
         "x": {
          "bdata": "oLsNAOAyKQCguw0A",
          "dtype": "i4"
         },
         "xaxis": "x",
         "y": [
          "arr_1",
          "arr_2",
          "arr_3"
         ],
         "yaxis": "y"
        },
        {
         "base": [
          "2022-08-09T02:45:00.000000000",
          "2022-08-09T03:00:00.000000000",
          "2022-08-09T03:45:00.000000000"
         ],
         "hovertemplate": "Train=56730_09<br>Start=%{base}<br>Finish=%{x}<br>Tâches=%{y}<extra></extra>",
         "legendgroup": "56730_09",
         "marker": {
          "color": "#ab63fa",
          "pattern": {
           "shape": ""
          }
         },
         "name": "56730_09",
         "orientation": "h",
         "showlegend": true,
         "textposition": "auto",
         "type": "bar",
         "x": {
          "bdata": "oLsNAOAyKQCguw0A",
          "dtype": "i4"
         },
         "xaxis": "x",
         "y": [
          "arr_1",
          "arr_2",
          "arr_3"
         ],
         "yaxis": "y"
        },
        {
         "base": [
          "2022-08-09T21:15:00.000000000",
          "2022-08-09T21:30:00.000000000",
          "2022-08-09T22:45:00.000000000"
         ],
         "hovertemplate": "Train=58706_09<br>Start=%{base}<br>Finish=%{x}<br>Tâches=%{y}<extra></extra>",
         "legendgroup": "58706_09",
         "marker": {
          "color": "#FFA15A",
          "pattern": {
           "shape": ""
          }
         },
         "name": "58706_09",
         "orientation": "h",
         "showlegend": true,
         "textposition": "auto",
         "type": "bar",
         "x": {
          "bdata": "oLsNAOAyKQCguw0A",
          "dtype": "i4"
         },
         "xaxis": "x",
         "y": [
          "arr_1",
          "arr_2",
          "arr_3"
         ],
         "yaxis": "y"
        },
        {
         "base": [
          "2022-08-10T02:15:00.000000000",
          "2022-08-10T02:30:00.000000000",
          "2022-08-10T03:15:00.000000000"
         ],
         "hovertemplate": "Train=412023_10<br>Start=%{base}<br>Finish=%{x}<br>Tâches=%{y}<extra></extra>",
         "legendgroup": "412023_10",
         "marker": {
          "color": "#19d3f3",
          "pattern": {
           "shape": ""
          }
         },
         "name": "412023_10",
         "orientation": "h",
         "showlegend": true,
         "textposition": "auto",
         "type": "bar",
         "x": {
          "bdata": "oLsNAOAyKQCguw0A",
          "dtype": "i4"
         },
         "xaxis": "x",
         "y": [
          "arr_1",
          "arr_2",
          "arr_3"
         ],
         "yaxis": "y"
        },
        {
         "base": [
          "2022-08-10T21:00:00.000000000",
          "2022-08-10T21:15:00.000000000",
          "2022-08-10T22:00:00.000000000"
         ],
         "hovertemplate": "Train=412202_10<br>Start=%{base}<br>Finish=%{x}<br>Tâches=%{y}<extra></extra>",
         "legendgroup": "412202_10",
         "marker": {
          "color": "#FF6692",
          "pattern": {
           "shape": ""
          }
         },
         "name": "412202_10",
         "orientation": "h",
         "showlegend": true,
         "textposition": "auto",
         "type": "bar",
         "x": {
          "bdata": "oLsNAOAyKQCguw0A",
          "dtype": "i4"
         },
         "xaxis": "x",
         "y": [
          "arr_1",
          "arr_2",
          "arr_3"
         ],
         "yaxis": "y"
        },
        {
         "base": [
          "2022-08-10T22:45:00.000000000",
          "2022-08-10T23:00:00.000000000",
          "2022-08-10T23:45:00.000000000"
         ],
         "hovertemplate": "Train=41264_10<br>Start=%{base}<br>Finish=%{x}<br>Tâches=%{y}<extra></extra>",
         "legendgroup": "41264_10",
         "marker": {
          "color": "#B6E880",
          "pattern": {
           "shape": ""
          }
         },
         "name": "41264_10",
         "orientation": "h",
         "showlegend": true,
         "textposition": "auto",
         "type": "bar",
         "x": {
          "bdata": "oLsNAOAyKQCguw0A",
          "dtype": "i4"
         },
         "xaxis": "x",
         "y": [
          "arr_1",
          "arr_2",
          "arr_3"
         ],
         "yaxis": "y"
        },
        {
         "base": [
          "2022-08-10T20:30:00.000000000",
          "2022-08-10T20:45:00.000000000",
          "2022-08-10T21:30:00.000000000"
         ],
         "hovertemplate": "Train=431020_10<br>Start=%{base}<br>Finish=%{x}<br>Tâches=%{y}<extra></extra>",
         "legendgroup": "431020_10",
         "marker": {
          "color": "#FF97FF",
          "pattern": {
           "shape": ""
          }
         },
         "name": "431020_10",
         "orientation": "h",
         "showlegend": true,
         "textposition": "auto",
         "type": "bar",
         "x": {
          "bdata": "oLsNAOAyKQCguw0A",
          "dtype": "i4"
         },
         "xaxis": "x",
         "y": [
          "arr_1",
          "arr_2",
          "arr_3"
         ],
         "yaxis": "y"
        },
        {
         "base": [
          "2022-08-10T12:30:00.000000000",
          "2022-08-10T12:45:00.000000000",
          "2022-08-11T21:45:00.000000000"
         ],
         "hovertemplate": "Train=431110_10<br>Start=%{base}<br>Finish=%{x}<br>Tâches=%{y}<extra></extra>",
         "legendgroup": "431110_10",
         "marker": {
          "color": "#FECB52",
          "pattern": {
           "shape": ""
          }
         },
         "name": "431110_10",
         "orientation": "h",
         "showlegend": true,
         "textposition": "auto",
         "type": "bar",
         "x": {
          "bdata": "oLsNAOAyKQCguw0A",
          "dtype": "i4"
         },
         "xaxis": "x",
         "y": [
          "arr_1",
          "arr_2",
          "arr_3"
         ],
         "yaxis": "y"
        },
        {
         "base": [
          "2022-08-10T11:15:00.000000000",
          "2022-08-10T11:30:00.000000000",
          "2022-08-10T12:15:00.000000000"
         ],
         "hovertemplate": "Train=431246_10<br>Start=%{base}<br>Finish=%{x}<br>Tâches=%{y}<extra></extra>",
         "legendgroup": "431246_10",
         "marker": {
          "color": "#636efa",
          "pattern": {
           "shape": ""
          }
         },
         "name": "431246_10",
         "orientation": "h",
         "showlegend": true,
         "textposition": "auto",
         "type": "bar",
         "x": {
          "bdata": "oLsNAOAyKQCguw0A",
          "dtype": "i4"
         },
         "xaxis": "x",
         "y": [
          "arr_1",
          "arr_2",
          "arr_3"
         ],
         "yaxis": "y"
        },
        {
         "base": [
          "2022-08-10T04:00:00.000000000",
          "2022-08-10T04:15:00.000000000",
          "2022-08-10T05:00:00.000000000"
         ],
         "hovertemplate": "Train=431802_10<br>Start=%{base}<br>Finish=%{x}<br>Tâches=%{y}<extra></extra>",
         "legendgroup": "431802_10",
         "marker": {
          "color": "#EF553B",
          "pattern": {
           "shape": ""
          }
         },
         "name": "431802_10",
         "orientation": "h",
         "showlegend": true,
         "textposition": "auto",
         "type": "bar",
         "x": {
          "bdata": "oLsNAOAyKQCguw0A",
          "dtype": "i4"
         },
         "xaxis": "x",
         "y": [
          "arr_1",
          "arr_2",
          "arr_3"
         ],
         "yaxis": "y"
        },
        {
         "base": [
          "2022-08-10T16:00:00.000000000",
          "2022-08-10T16:15:00.000000000",
          "2022-08-10T17:00:00.000000000"
         ],
         "hovertemplate": "Train=44222_10<br>Start=%{base}<br>Finish=%{x}<br>Tâches=%{y}<extra></extra>",
         "legendgroup": "44222_10",
         "marker": {
          "color": "#00cc96",
          "pattern": {
           "shape": ""
          }
         },
         "name": "44222_10",
         "orientation": "h",
         "showlegend": true,
         "textposition": "auto",
         "type": "bar",
         "x": {
          "bdata": "oLsNAOAyKQCguw0A",
          "dtype": "i4"
         },
         "xaxis": "x",
         "y": [
          "arr_1",
          "arr_2",
          "arr_3"
         ],
         "yaxis": "y"
        },
        {
         "base": [
          "2022-08-10T01:15:00.000000000",
          "2022-08-10T01:30:00.000000000",
          "2022-08-10T03:30:00.000000000"
         ],
         "hovertemplate": "Train=44228_10<br>Start=%{base}<br>Finish=%{x}<br>Tâches=%{y}<extra></extra>",
         "legendgroup": "44228_10",
         "marker": {
          "color": "#ab63fa",
          "pattern": {
           "shape": ""
          }
         },
         "name": "44228_10",
         "orientation": "h",
         "showlegend": true,
         "textposition": "auto",
         "type": "bar",
         "x": {
          "bdata": "oLsNAOAyKQCguw0A",
          "dtype": "i4"
         },
         "xaxis": "x",
         "y": [
          "arr_1",
          "arr_2",
          "arr_3"
         ],
         "yaxis": "y"
        },
        {
         "base": [
          "2022-08-10T10:30:00.000000000",
          "2022-08-10T10:45:00.000000000",
          "2022-08-10T11:30:00.000000000"
         ],
         "hovertemplate": "Train=44250_10<br>Start=%{base}<br>Finish=%{x}<br>Tâches=%{y}<extra></extra>",
         "legendgroup": "44250_10",
         "marker": {
          "color": "#FFA15A",
          "pattern": {
           "shape": ""
          }
         },
         "name": "44250_10",
         "orientation": "h",
         "showlegend": true,
         "textposition": "auto",
         "type": "bar",
         "x": {
          "bdata": "oLsNAOAyKQCguw0A",
          "dtype": "i4"
         },
         "xaxis": "x",
         "y": [
          "arr_1",
          "arr_2",
          "arr_3"
         ],
         "yaxis": "y"
        },
        {
         "base": [
          "2022-08-10T12:00:00.000000000",
          "2022-08-10T12:15:00.000000000",
          "2022-08-10T13:00:00.000000000"
         ],
         "hovertemplate": "Train=450237_10<br>Start=%{base}<br>Finish=%{x}<br>Tâches=%{y}<extra></extra>",
         "legendgroup": "450237_10",
         "marker": {
          "color": "#19d3f3",
          "pattern": {
           "shape": ""
          }
         },
         "name": "450237_10",
         "orientation": "h",
         "showlegend": true,
         "textposition": "auto",
         "type": "bar",
         "x": {
          "bdata": "oLsNAOAyKQCguw0A",
          "dtype": "i4"
         },
         "xaxis": "x",
         "y": [
          "arr_1",
          "arr_2",
          "arr_3"
         ],
         "yaxis": "y"
        },
        {
         "base": [
          "2022-08-10T12:45:00.000000000",
          "2022-08-10T13:00:00.000000000",
          "2022-08-10T13:45:00.000000000"
         ],
         "hovertemplate": "Train=471003_10<br>Start=%{base}<br>Finish=%{x}<br>Tâches=%{y}<extra></extra>",
         "legendgroup": "471003_10",
         "marker": {
          "color": "#FF6692",
          "pattern": {
           "shape": ""
          }
         },
         "name": "471003_10",
         "orientation": "h",
         "showlegend": true,
         "textposition": "auto",
         "type": "bar",
         "x": {
          "bdata": "oLsNAOAyKQCguw0A",
          "dtype": "i4"
         },
         "xaxis": "x",
         "y": [
          "arr_1",
          "arr_2",
          "arr_3"
         ],
         "yaxis": "y"
        },
        {
         "base": [
          "2022-08-10T12:45:00.000000000",
          "2022-08-10T13:00:00.000000000",
          "2022-08-10T14:00:00.000000000"
         ],
         "hovertemplate": "Train=47214_10<br>Start=%{base}<br>Finish=%{x}<br>Tâches=%{y}<extra></extra>",
         "legendgroup": "47214_10",
         "marker": {
          "color": "#B6E880",
          "pattern": {
           "shape": ""
          }
         },
         "name": "47214_10",
         "orientation": "h",
         "showlegend": true,
         "textposition": "auto",
         "type": "bar",
         "x": {
          "bdata": "oLsNAOAyKQCguw0A",
          "dtype": "i4"
         },
         "xaxis": "x",
         "y": [
          "arr_1",
          "arr_2",
          "arr_3"
         ],
         "yaxis": "y"
        },
        {
         "base": [
          "2022-08-10T09:15:00.000000000",
          "2022-08-10T09:30:00.000000000",
          "2022-08-10T10:15:00.000000000"
         ],
         "hovertemplate": "Train=47262_10<br>Start=%{base}<br>Finish=%{x}<br>Tâches=%{y}<extra></extra>",
         "legendgroup": "47262_10",
         "marker": {
          "color": "#FF97FF",
          "pattern": {
           "shape": ""
          }
         },
         "name": "47262_10",
         "orientation": "h",
         "showlegend": true,
         "textposition": "auto",
         "type": "bar",
         "x": {
          "bdata": "oLsNAOAyKQCguw0A",
          "dtype": "i4"
         },
         "xaxis": "x",
         "y": [
          "arr_1",
          "arr_2",
          "arr_3"
         ],
         "yaxis": "y"
        },
        {
         "base": [
          "2022-08-10T22:15:00.000000000",
          "2022-08-10T22:30:00.000000000",
          "2022-08-10T23:15:00.000000000"
         ],
         "hovertemplate": "Train=54234_10<br>Start=%{base}<br>Finish=%{x}<br>Tâches=%{y}<extra></extra>",
         "legendgroup": "54234_10",
         "marker": {
          "color": "#FECB52",
          "pattern": {
           "shape": ""
          }
         },
         "name": "54234_10",
         "orientation": "h",
         "showlegend": true,
         "textposition": "auto",
         "type": "bar",
         "x": {
          "bdata": "oLsNAOAyKQCguw0A",
          "dtype": "i4"
         },
         "xaxis": "x",
         "y": [
          "arr_1",
          "arr_2",
          "arr_3"
         ],
         "yaxis": "y"
        },
        {
         "base": [
          "2022-08-11T00:00:00.000000000",
          "2022-08-11T00:15:00.000000000",
          "2022-08-11T01:00:00.000000000"
         ],
         "hovertemplate": "Train=55390_10<br>Start=%{base}<br>Finish=%{x}<br>Tâches=%{y}<extra></extra>",
         "legendgroup": "55390_10",
         "marker": {
          "color": "#636efa",
          "pattern": {
           "shape": ""
          }
         },
         "name": "55390_10",
         "orientation": "h",
         "showlegend": true,
         "textposition": "auto",
         "type": "bar",
         "x": {
          "bdata": "oLsNAOAyKQCguw0A",
          "dtype": "i4"
         },
         "xaxis": "x",
         "y": [
          "arr_1",
          "arr_2",
          "arr_3"
         ],
         "yaxis": "y"
        },
        {
         "base": [
          "2022-08-10T07:45:00.000000000",
          "2022-08-10T08:00:00.000000000",
          "2022-08-10T08:45:00.000000000"
         ],
         "hovertemplate": "Train=55396_10<br>Start=%{base}<br>Finish=%{x}<br>Tâches=%{y}<extra></extra>",
         "legendgroup": "55396_10",
         "marker": {
          "color": "#EF553B",
          "pattern": {
           "shape": ""
          }
         },
         "name": "55396_10",
         "orientation": "h",
         "showlegend": true,
         "textposition": "auto",
         "type": "bar",
         "x": {
          "bdata": "oLsNAOAyKQCguw0A",
          "dtype": "i4"
         },
         "xaxis": "x",
         "y": [
          "arr_1",
          "arr_2",
          "arr_3"
         ],
         "yaxis": "y"
        },
        {
         "base": [
          "2022-08-10T21:30:00.000000000",
          "2022-08-10T21:45:00.000000000",
          "2022-08-10T22:30:00.000000000"
         ],
         "hovertemplate": "Train=56135_10<br>Start=%{base}<br>Finish=%{x}<br>Tâches=%{y}<extra></extra>",
         "legendgroup": "56135_10",
         "marker": {
          "color": "#00cc96",
          "pattern": {
           "shape": ""
          }
         },
         "name": "56135_10",
         "orientation": "h",
         "showlegend": true,
         "textposition": "auto",
         "type": "bar",
         "x": {
          "bdata": "oLsNAOAyKQCguw0A",
          "dtype": "i4"
         },
         "xaxis": "x",
         "y": [
          "arr_1",
          "arr_2",
          "arr_3"
         ],
         "yaxis": "y"
        },
        {
         "base": [
          "2022-08-10T02:45:00.000000000",
          "2022-08-10T03:00:00.000000000",
          "2022-08-10T03:45:00.000000000"
         ],
         "hovertemplate": "Train=56730_10<br>Start=%{base}<br>Finish=%{x}<br>Tâches=%{y}<extra></extra>",
         "legendgroup": "56730_10",
         "marker": {
          "color": "#ab63fa",
          "pattern": {
           "shape": ""
          }
         },
         "name": "56730_10",
         "orientation": "h",
         "showlegend": true,
         "textposition": "auto",
         "type": "bar",
         "x": {
          "bdata": "oLsNAOAyKQCguw0A",
          "dtype": "i4"
         },
         "xaxis": "x",
         "y": [
          "arr_1",
          "arr_2",
          "arr_3"
         ],
         "yaxis": "y"
        },
        {
         "base": [
          "2022-08-10T21:15:00.000000000",
          "2022-08-10T21:30:00.000000000",
          "2022-08-10T22:15:00.000000000"
         ],
         "hovertemplate": "Train=58706_10<br>Start=%{base}<br>Finish=%{x}<br>Tâches=%{y}<extra></extra>",
         "legendgroup": "58706_10",
         "marker": {
          "color": "#FFA15A",
          "pattern": {
           "shape": ""
          }
         },
         "name": "58706_10",
         "orientation": "h",
         "showlegend": true,
         "textposition": "auto",
         "type": "bar",
         "x": {
          "bdata": "oLsNAOAyKQCguw0A",
          "dtype": "i4"
         },
         "xaxis": "x",
         "y": [
          "arr_1",
          "arr_2",
          "arr_3"
         ],
         "yaxis": "y"
        },
        {
         "base": [
          "2022-08-10T09:30:00.000000000",
          "2022-08-10T09:45:00.000000000",
          "2022-08-10T10:30:00.000000000"
         ],
         "hovertemplate": "Train=71270_10<br>Start=%{base}<br>Finish=%{x}<br>Tâches=%{y}<extra></extra>",
         "legendgroup": "71270_10",
         "marker": {
          "color": "#19d3f3",
          "pattern": {
           "shape": ""
          }
         },
         "name": "71270_10",
         "orientation": "h",
         "showlegend": true,
         "textposition": "auto",
         "type": "bar",
         "x": {
          "bdata": "oLsNAOAyKQCguw0A",
          "dtype": "i4"
         },
         "xaxis": "x",
         "y": [
          "arr_1",
          "arr_2",
          "arr_3"
         ],
         "yaxis": "y"
        },
        {
         "base": [
          "2022-08-11T02:15:00.000000000",
          "2022-08-11T02:30:00.000000000",
          "2022-08-11T03:30:00.000000000"
         ],
         "hovertemplate": "Train=412023_11<br>Start=%{base}<br>Finish=%{x}<br>Tâches=%{y}<extra></extra>",
         "legendgroup": "412023_11",
         "marker": {
          "color": "#FF6692",
          "pattern": {
           "shape": ""
          }
         },
         "name": "412023_11",
         "orientation": "h",
         "showlegend": true,
         "textposition": "auto",
         "type": "bar",
         "x": {
          "bdata": "oLsNAOAyKQCguw0A",
          "dtype": "i4"
         },
         "xaxis": "x",
         "y": [
          "arr_1",
          "arr_2",
          "arr_3"
         ],
         "yaxis": "y"
        },
        {
         "base": [
          "2022-08-11T21:00:00.000000000",
          "2022-08-11T21:15:00.000000000",
          "2022-08-11T22:00:00.000000000"
         ],
         "hovertemplate": "Train=412202_11<br>Start=%{base}<br>Finish=%{x}<br>Tâches=%{y}<extra></extra>",
         "legendgroup": "412202_11",
         "marker": {
          "color": "#B6E880",
          "pattern": {
           "shape": ""
          }
         },
         "name": "412202_11",
         "orientation": "h",
         "showlegend": true,
         "textposition": "auto",
         "type": "bar",
         "x": {
          "bdata": "oLsNAOAyKQCguw0A",
          "dtype": "i4"
         },
         "xaxis": "x",
         "y": [
          "arr_1",
          "arr_2",
          "arr_3"
         ],
         "yaxis": "y"
        },
        {
         "base": [
          "2022-08-11T23:30:00.000000000",
          "2022-08-11T23:45:00.000000000",
          "2022-08-12T00:30:00.000000000"
         ],
         "hovertemplate": "Train=41254_11<br>Start=%{base}<br>Finish=%{x}<br>Tâches=%{y}<extra></extra>",
         "legendgroup": "41254_11",
         "marker": {
          "color": "#FF97FF",
          "pattern": {
           "shape": ""
          }
         },
         "name": "41254_11",
         "orientation": "h",
         "showlegend": true,
         "textposition": "auto",
         "type": "bar",
         "x": {
          "bdata": "oLsNAOAyKQCguw0A",
          "dtype": "i4"
         },
         "xaxis": "x",
         "y": [
          "arr_1",
          "arr_2",
          "arr_3"
         ],
         "yaxis": "y"
        },
        {
         "base": [
          "2022-08-11T11:15:00.000000000",
          "2022-08-11T11:30:00.000000000",
          "2022-08-11T12:30:00.000000000"
         ],
         "hovertemplate": "Train=431246_11<br>Start=%{base}<br>Finish=%{x}<br>Tâches=%{y}<extra></extra>",
         "legendgroup": "431246_11",
         "marker": {
          "color": "#FECB52",
          "pattern": {
           "shape": ""
          }
         },
         "name": "431246_11",
         "orientation": "h",
         "showlegend": true,
         "textposition": "auto",
         "type": "bar",
         "x": {
          "bdata": "oLsNAOAyKQCguw0A",
          "dtype": "i4"
         },
         "xaxis": "x",
         "y": [
          "arr_1",
          "arr_2",
          "arr_3"
         ],
         "yaxis": "y"
        },
        {
         "base": [
          "2022-08-11T11:15:00.000000000",
          "2022-08-11T11:30:00.000000000",
          "2022-08-11T12:15:00.000000000"
         ],
         "hovertemplate": "Train=431640_11<br>Start=%{base}<br>Finish=%{x}<br>Tâches=%{y}<extra></extra>",
         "legendgroup": "431640_11",
         "marker": {
          "color": "#636efa",
          "pattern": {
           "shape": ""
          }
         },
         "name": "431640_11",
         "orientation": "h",
         "showlegend": true,
         "textposition": "auto",
         "type": "bar",
         "x": {
          "bdata": "oLsNAOAyKQCguw0A",
          "dtype": "i4"
         },
         "xaxis": "x",
         "y": [
          "arr_1",
          "arr_2",
          "arr_3"
         ],
         "yaxis": "y"
        },
        {
         "base": [
          "2022-08-11T03:00:00.000000000",
          "2022-08-11T03:15:00.000000000",
          "2022-08-11T04:00:00.000000000"
         ],
         "hovertemplate": "Train=431802_11<br>Start=%{base}<br>Finish=%{x}<br>Tâches=%{y}<extra></extra>",
         "legendgroup": "431802_11",
         "marker": {
          "color": "#EF553B",
          "pattern": {
           "shape": ""
          }
         },
         "name": "431802_11",
         "orientation": "h",
         "showlegend": true,
         "textposition": "auto",
         "type": "bar",
         "x": {
          "bdata": "oLsNAOAyKQCguw0A",
          "dtype": "i4"
         },
         "xaxis": "x",
         "y": [
          "arr_1",
          "arr_2",
          "arr_3"
         ],
         "yaxis": "y"
        },
        {
         "base": [
          "2022-08-11T16:00:00.000000000",
          "2022-08-11T16:15:00.000000000",
          "2022-08-11T17:00:00.000000000"
         ],
         "hovertemplate": "Train=44222_11<br>Start=%{base}<br>Finish=%{x}<br>Tâches=%{y}<extra></extra>",
         "legendgroup": "44222_11",
         "marker": {
          "color": "#00cc96",
          "pattern": {
           "shape": ""
          }
         },
         "name": "44222_11",
         "orientation": "h",
         "showlegend": true,
         "textposition": "auto",
         "type": "bar",
         "x": {
          "bdata": "oLsNAOAyKQCguw0A",
          "dtype": "i4"
         },
         "xaxis": "x",
         "y": [
          "arr_1",
          "arr_2",
          "arr_3"
         ],
         "yaxis": "y"
        },
        {
         "base": [
          "2022-08-11T10:30:00.000000000",
          "2022-08-11T10:45:00.000000000",
          "2022-08-11T12:00:00.000000000"
         ],
         "hovertemplate": "Train=44250_11<br>Start=%{base}<br>Finish=%{x}<br>Tâches=%{y}<extra></extra>",
         "legendgroup": "44250_11",
         "marker": {
          "color": "#ab63fa",
          "pattern": {
           "shape": ""
          }
         },
         "name": "44250_11",
         "orientation": "h",
         "showlegend": true,
         "textposition": "auto",
         "type": "bar",
         "x": {
          "bdata": "oLsNAOAyKQCguw0A",
          "dtype": "i4"
         },
         "xaxis": "x",
         "y": [
          "arr_1",
          "arr_2",
          "arr_3"
         ],
         "yaxis": "y"
        },
        {
         "base": [
          "2022-08-11T16:30:00.000000000",
          "2022-08-11T16:45:00.000000000",
          "2022-08-11T17:30:00.000000000"
         ],
         "hovertemplate": "Train=44865_11<br>Start=%{base}<br>Finish=%{x}<br>Tâches=%{y}<extra></extra>",
         "legendgroup": "44865_11",
         "marker": {
          "color": "#FFA15A",
          "pattern": {
           "shape": ""
          }
         },
         "name": "44865_11",
         "orientation": "h",
         "showlegend": true,
         "textposition": "auto",
         "type": "bar",
         "x": {
          "bdata": "oLsNAOAyKQCguw0A",
          "dtype": "i4"
         },
         "xaxis": "x",
         "y": [
          "arr_1",
          "arr_2",
          "arr_3"
         ],
         "yaxis": "y"
        },
        {
         "base": [
          "2022-08-11T12:00:00.000000000",
          "2022-08-11T12:15:00.000000000",
          "2022-08-11T13:00:00.000000000"
         ],
         "hovertemplate": "Train=450237_11<br>Start=%{base}<br>Finish=%{x}<br>Tâches=%{y}<extra></extra>",
         "legendgroup": "450237_11",
         "marker": {
          "color": "#19d3f3",
          "pattern": {
           "shape": ""
          }
         },
         "name": "450237_11",
         "orientation": "h",
         "showlegend": true,
         "textposition": "auto",
         "type": "bar",
         "x": {
          "bdata": "oLsNAOAyKQCguw0A",
          "dtype": "i4"
         },
         "xaxis": "x",
         "y": [
          "arr_1",
          "arr_2",
          "arr_3"
         ],
         "yaxis": "y"
        },
        {
         "base": [
          "2022-08-11T12:45:00.000000000",
          "2022-08-11T13:00:00.000000000",
          "2022-08-11T13:45:00.000000000"
         ],
         "hovertemplate": "Train=471003_11<br>Start=%{base}<br>Finish=%{x}<br>Tâches=%{y}<extra></extra>",
         "legendgroup": "471003_11",
         "marker": {
          "color": "#FF6692",
          "pattern": {
           "shape": ""
          }
         },
         "name": "471003_11",
         "orientation": "h",
         "showlegend": true,
         "textposition": "auto",
         "type": "bar",
         "x": {
          "bdata": "oLsNAOAyKQCguw0A",
          "dtype": "i4"
         },
         "xaxis": "x",
         "y": [
          "arr_1",
          "arr_2",
          "arr_3"
         ],
         "yaxis": "y"
        },
        {
         "base": [
          "2022-08-11T17:45:00.000000000",
          "2022-08-11T18:00:00.000000000",
          "2022-08-11T18:45:00.000000000"
         ],
         "hovertemplate": "Train=47212_11<br>Start=%{base}<br>Finish=%{x}<br>Tâches=%{y}<extra></extra>",
         "legendgroup": "47212_11",
         "marker": {
          "color": "#B6E880",
          "pattern": {
           "shape": ""
          }
         },
         "name": "47212_11",
         "orientation": "h",
         "showlegend": true,
         "textposition": "auto",
         "type": "bar",
         "x": {
          "bdata": "oLsNAOAyKQCguw0A",
          "dtype": "i4"
         },
         "xaxis": "x",
         "y": [
          "arr_1",
          "arr_2",
          "arr_3"
         ],
         "yaxis": "y"
        },
        {
         "base": [
          "2022-08-11T03:00:00.000000000",
          "2022-08-11T03:15:00.000000000",
          "2022-08-11T04:15:00.000000000"
         ],
         "hovertemplate": "Train=47240_11<br>Start=%{base}<br>Finish=%{x}<br>Tâches=%{y}<extra></extra>",
         "legendgroup": "47240_11",
         "marker": {
          "color": "#FF97FF",
          "pattern": {
           "shape": ""
          }
         },
         "name": "47240_11",
         "orientation": "h",
         "showlegend": true,
         "textposition": "auto",
         "type": "bar",
         "x": {
          "bdata": "oLsNAOAyKQCguw0A",
          "dtype": "i4"
         },
         "xaxis": "x",
         "y": [
          "arr_1",
          "arr_2",
          "arr_3"
         ],
         "yaxis": "y"
        },
        {
         "base": [
          "2022-08-11T09:15:00.000000000",
          "2022-08-11T09:30:00.000000000",
          "2022-08-11T10:15:00.000000000"
         ],
         "hovertemplate": "Train=47262_11<br>Start=%{base}<br>Finish=%{x}<br>Tâches=%{y}<extra></extra>",
         "legendgroup": "47262_11",
         "marker": {
          "color": "#FECB52",
          "pattern": {
           "shape": ""
          }
         },
         "name": "47262_11",
         "orientation": "h",
         "showlegend": true,
         "textposition": "auto",
         "type": "bar",
         "x": {
          "bdata": "oLsNAOAyKQCguw0A",
          "dtype": "i4"
         },
         "xaxis": "x",
         "y": [
          "arr_1",
          "arr_2",
          "arr_3"
         ],
         "yaxis": "y"
        },
        {
         "base": [
          "2022-08-11T19:45:00.000000000",
          "2022-08-11T20:00:00.000000000",
          "2022-08-11T20:45:00.000000000"
         ],
         "hovertemplate": "Train=47822_11<br>Start=%{base}<br>Finish=%{x}<br>Tâches=%{y}<extra></extra>",
         "legendgroup": "47822_11",
         "marker": {
          "color": "#636efa",
          "pattern": {
           "shape": ""
          }
         },
         "name": "47822_11",
         "orientation": "h",
         "showlegend": true,
         "textposition": "auto",
         "type": "bar",
         "x": {
          "bdata": "oLsNAOAyKQCguw0A",
          "dtype": "i4"
         },
         "xaxis": "x",
         "y": [
          "arr_1",
          "arr_2",
          "arr_3"
         ],
         "yaxis": "y"
        },
        {
         "base": [
          "2022-08-11T22:15:00.000000000",
          "2022-08-11T22:30:00.000000000",
          "2022-08-11T23:15:00.000000000"
         ],
         "hovertemplate": "Train=54234_11<br>Start=%{base}<br>Finish=%{x}<br>Tâches=%{y}<extra></extra>",
         "legendgroup": "54234_11",
         "marker": {
          "color": "#EF553B",
          "pattern": {
           "shape": ""
          }
         },
         "name": "54234_11",
         "orientation": "h",
         "showlegend": true,
         "textposition": "auto",
         "type": "bar",
         "x": {
          "bdata": "oLsNAOAyKQCguw0A",
          "dtype": "i4"
         },
         "xaxis": "x",
         "y": [
          "arr_1",
          "arr_2",
          "arr_3"
         ],
         "yaxis": "y"
        },
        {
         "base": [
          "2022-08-12T00:00:00.000000000",
          "2022-08-12T00:15:00.000000000",
          "2022-08-12T01:00:00.000000000"
         ],
         "hovertemplate": "Train=55390_11<br>Start=%{base}<br>Finish=%{x}<br>Tâches=%{y}<extra></extra>",
         "legendgroup": "55390_11",
         "marker": {
          "color": "#00cc96",
          "pattern": {
           "shape": ""
          }
         },
         "name": "55390_11",
         "orientation": "h",
         "showlegend": true,
         "textposition": "auto",
         "type": "bar",
         "x": {
          "bdata": "oLsNAOAyKQCguw0A",
          "dtype": "i4"
         },
         "xaxis": "x",
         "y": [
          "arr_1",
          "arr_2",
          "arr_3"
         ],
         "yaxis": "y"
        },
        {
         "base": [
          "2022-08-11T11:45:00.000000000",
          "2022-08-11T12:00:00.000000000",
          "2022-08-11T12:45:00.000000000"
         ],
         "hovertemplate": "Train=55394_11<br>Start=%{base}<br>Finish=%{x}<br>Tâches=%{y}<extra></extra>",
         "legendgroup": "55394_11",
         "marker": {
          "color": "#ab63fa",
          "pattern": {
           "shape": ""
          }
         },
         "name": "55394_11",
         "orientation": "h",
         "showlegend": true,
         "textposition": "auto",
         "type": "bar",
         "x": {
          "bdata": "oLsNAOAyKQCguw0A",
          "dtype": "i4"
         },
         "xaxis": "x",
         "y": [
          "arr_1",
          "arr_2",
          "arr_3"
         ],
         "yaxis": "y"
        },
        {
         "base": [
          "2022-08-11T03:45:00.000000000",
          "2022-08-11T04:00:00.000000000",
          "2022-08-11T04:45:00.000000000"
         ],
         "hovertemplate": "Train=55396_11<br>Start=%{base}<br>Finish=%{x}<br>Tâches=%{y}<extra></extra>",
         "legendgroup": "55396_11",
         "marker": {
          "color": "#FFA15A",
          "pattern": {
           "shape": ""
          }
         },
         "name": "55396_11",
         "orientation": "h",
         "showlegend": true,
         "textposition": "auto",
         "type": "bar",
         "x": {
          "bdata": "oLsNAOAyKQCguw0A",
          "dtype": "i4"
         },
         "xaxis": "x",
         "y": [
          "arr_1",
          "arr_2",
          "arr_3"
         ],
         "yaxis": "y"
        },
        {
         "base": [
          "2022-08-11T21:30:00.000000000",
          "2022-08-11T21:45:00.000000000",
          "2022-08-11T22:30:00.000000000"
         ],
         "hovertemplate": "Train=56135_11<br>Start=%{base}<br>Finish=%{x}<br>Tâches=%{y}<extra></extra>",
         "legendgroup": "56135_11",
         "marker": {
          "color": "#19d3f3",
          "pattern": {
           "shape": ""
          }
         },
         "name": "56135_11",
         "orientation": "h",
         "showlegend": true,
         "textposition": "auto",
         "type": "bar",
         "x": {
          "bdata": "oLsNAOAyKQCguw0A",
          "dtype": "i4"
         },
         "xaxis": "x",
         "y": [
          "arr_1",
          "arr_2",
          "arr_3"
         ],
         "yaxis": "y"
        },
        {
         "base": [
          "2022-08-11T02:45:00.000000000",
          "2022-08-11T03:00:00.000000000",
          "2022-08-11T03:45:00.000000000"
         ],
         "hovertemplate": "Train=56730_11<br>Start=%{base}<br>Finish=%{x}<br>Tâches=%{y}<extra></extra>",
         "legendgroup": "56730_11",
         "marker": {
          "color": "#FF6692",
          "pattern": {
           "shape": ""
          }
         },
         "name": "56730_11",
         "orientation": "h",
         "showlegend": true,
         "textposition": "auto",
         "type": "bar",
         "x": {
          "bdata": "oLsNAOAyKQCguw0A",
          "dtype": "i4"
         },
         "xaxis": "x",
         "y": [
          "arr_1",
          "arr_2",
          "arr_3"
         ],
         "yaxis": "y"
        },
        {
         "base": [
          "2022-08-11T21:15:00.000000000",
          "2022-08-11T21:30:00.000000000",
          "2022-08-11T22:15:00.000000000"
         ],
         "hovertemplate": "Train=58706_11<br>Start=%{base}<br>Finish=%{x}<br>Tâches=%{y}<extra></extra>",
         "legendgroup": "58706_11",
         "marker": {
          "color": "#B6E880",
          "pattern": {
           "shape": ""
          }
         },
         "name": "58706_11",
         "orientation": "h",
         "showlegend": true,
         "textposition": "auto",
         "type": "bar",
         "x": {
          "bdata": "oLsNAOAyKQCguw0A",
          "dtype": "i4"
         },
         "xaxis": "x",
         "y": [
          "arr_1",
          "arr_2",
          "arr_3"
         ],
         "yaxis": "y"
        },
        {
         "base": [
          "2022-08-12T02:15:00.000000000",
          "2022-08-12T02:30:00.000000000",
          "2022-08-12T03:15:00.000000000"
         ],
         "hovertemplate": "Train=412023_12<br>Start=%{base}<br>Finish=%{x}<br>Tâches=%{y}<extra></extra>",
         "legendgroup": "412023_12",
         "marker": {
          "color": "#FF97FF",
          "pattern": {
           "shape": ""
          }
         },
         "name": "412023_12",
         "orientation": "h",
         "showlegend": true,
         "textposition": "auto",
         "type": "bar",
         "x": {
          "bdata": "oLsNAOAyKQCguw0A",
          "dtype": "i4"
         },
         "xaxis": "x",
         "y": [
          "arr_1",
          "arr_2",
          "arr_3"
         ],
         "yaxis": "y"
        },
        {
         "base": [
          "2022-08-12T21:00:00.000000000",
          "2022-08-12T21:15:00.000000000",
          "2022-08-12T22:15:00.000000000"
         ],
         "hovertemplate": "Train=412202_12<br>Start=%{base}<br>Finish=%{x}<br>Tâches=%{y}<extra></extra>",
         "legendgroup": "412202_12",
         "marker": {
          "color": "#FECB52",
          "pattern": {
           "shape": ""
          }
         },
         "name": "412202_12",
         "orientation": "h",
         "showlegend": true,
         "textposition": "auto",
         "type": "bar",
         "x": {
          "bdata": "oLsNAOAyKQCguw0A",
          "dtype": "i4"
         },
         "xaxis": "x",
         "y": [
          "arr_1",
          "arr_2",
          "arr_3"
         ],
         "yaxis": "y"
        },
        {
         "base": [
          "2022-08-12T22:45:00.000000000",
          "2022-08-12T23:00:00.000000000",
          "2022-08-12T23:45:00.000000000"
         ],
         "hovertemplate": "Train=41264_12<br>Start=%{base}<br>Finish=%{x}<br>Tâches=%{y}<extra></extra>",
         "legendgroup": "41264_12",
         "marker": {
          "color": "#636efa",
          "pattern": {
           "shape": ""
          }
         },
         "name": "41264_12",
         "orientation": "h",
         "showlegend": true,
         "textposition": "auto",
         "type": "bar",
         "x": {
          "bdata": "oLsNAOAyKQCguw0A",
          "dtype": "i4"
         },
         "xaxis": "x",
         "y": [
          "arr_1",
          "arr_2",
          "arr_3"
         ],
         "yaxis": "y"
        },
        {
         "base": [
          "2022-08-12T11:15:00.000000000",
          "2022-08-12T11:30:00.000000000",
          "2022-08-12T12:15:00.000000000"
         ],
         "hovertemplate": "Train=431246_12<br>Start=%{base}<br>Finish=%{x}<br>Tâches=%{y}<extra></extra>",
         "legendgroup": "431246_12",
         "marker": {
          "color": "#EF553B",
          "pattern": {
           "shape": ""
          }
         },
         "name": "431246_12",
         "orientation": "h",
         "showlegend": true,
         "textposition": "auto",
         "type": "bar",
         "x": {
          "bdata": "oLsNAOAyKQCguw0A",
          "dtype": "i4"
         },
         "xaxis": "x",
         "y": [
          "arr_1",
          "arr_2",
          "arr_3"
         ],
         "yaxis": "y"
        },
        {
         "base": [
          "2022-08-12T05:15:00.000000000",
          "2022-08-12T05:30:00.000000000",
          "2022-08-12T06:15:00.000000000"
         ],
         "hovertemplate": "Train=431802_12<br>Start=%{base}<br>Finish=%{x}<br>Tâches=%{y}<extra></extra>",
         "legendgroup": "431802_12",
         "marker": {
          "color": "#00cc96",
          "pattern": {
           "shape": ""
          }
         },
         "name": "431802_12",
         "orientation": "h",
         "showlegend": true,
         "textposition": "auto",
         "type": "bar",
         "x": {
          "bdata": "oLsNAOAyKQCguw0A",
          "dtype": "i4"
         },
         "xaxis": "x",
         "y": [
          "arr_1",
          "arr_2",
          "arr_3"
         ],
         "yaxis": "y"
        },
        {
         "base": [
          "2022-08-12T16:00:00.000000000",
          "2022-08-12T16:15:00.000000000",
          "2022-08-12T17:00:00.000000000"
         ],
         "hovertemplate": "Train=44222_12<br>Start=%{base}<br>Finish=%{x}<br>Tâches=%{y}<extra></extra>",
         "legendgroup": "44222_12",
         "marker": {
          "color": "#ab63fa",
          "pattern": {
           "shape": ""
          }
         },
         "name": "44222_12",
         "orientation": "h",
         "showlegend": true,
         "textposition": "auto",
         "type": "bar",
         "x": {
          "bdata": "oLsNAOAyKQCguw0A",
          "dtype": "i4"
         },
         "xaxis": "x",
         "y": [
          "arr_1",
          "arr_2",
          "arr_3"
         ],
         "yaxis": "y"
        },
        {
         "base": [
          "2022-08-12T01:15:00.000000000",
          "2022-08-12T01:30:00.000000000",
          "2022-08-12T02:15:00.000000000"
         ],
         "hovertemplate": "Train=44228_12<br>Start=%{base}<br>Finish=%{x}<br>Tâches=%{y}<extra></extra>",
         "legendgroup": "44228_12",
         "marker": {
          "color": "#FFA15A",
          "pattern": {
           "shape": ""
          }
         },
         "name": "44228_12",
         "orientation": "h",
         "showlegend": true,
         "textposition": "auto",
         "type": "bar",
         "x": {
          "bdata": "oLsNAOAyKQCguw0A",
          "dtype": "i4"
         },
         "xaxis": "x",
         "y": [
          "arr_1",
          "arr_2",
          "arr_3"
         ],
         "yaxis": "y"
        },
        {
         "base": [
          "2022-08-12T10:30:00.000000000",
          "2022-08-12T10:45:00.000000000",
          "2022-08-12T12:00:00.000000000"
         ],
         "hovertemplate": "Train=44250_12<br>Start=%{base}<br>Finish=%{x}<br>Tâches=%{y}<extra></extra>",
         "legendgroup": "44250_12",
         "marker": {
          "color": "#19d3f3",
          "pattern": {
           "shape": ""
          }
         },
         "name": "44250_12",
         "orientation": "h",
         "showlegend": true,
         "textposition": "auto",
         "type": "bar",
         "x": {
          "bdata": "oLsNAOAyKQCguw0A",
          "dtype": "i4"
         },
         "xaxis": "x",
         "y": [
          "arr_1",
          "arr_2",
          "arr_3"
         ],
         "yaxis": "y"
        },
        {
         "base": [
          "2022-08-12T16:30:00.000000000",
          "2022-08-12T16:45:00.000000000",
          "2022-08-12T22:45:00.000000000"
         ],
         "hovertemplate": "Train=44865_12<br>Start=%{base}<br>Finish=%{x}<br>Tâches=%{y}<extra></extra>",
         "legendgroup": "44865_12",
         "marker": {
          "color": "#FF6692",
          "pattern": {
           "shape": ""
          }
         },
         "name": "44865_12",
         "orientation": "h",
         "showlegend": true,
         "textposition": "auto",
         "type": "bar",
         "x": {
          "bdata": "oLsNAOAyKQCguw0A",
          "dtype": "i4"
         },
         "xaxis": "x",
         "y": [
          "arr_1",
          "arr_2",
          "arr_3"
         ],
         "yaxis": "y"
        },
        {
         "base": [
          "2022-08-12T19:00:00.000000000",
          "2022-08-12T19:15:00.000000000",
          "2022-08-12T20:00:00.000000000"
         ],
         "hovertemplate": "Train=44951_12<br>Start=%{base}<br>Finish=%{x}<br>Tâches=%{y}<extra></extra>",
         "legendgroup": "44951_12",
         "marker": {
          "color": "#B6E880",
          "pattern": {
           "shape": ""
          }
         },
         "name": "44951_12",
         "orientation": "h",
         "showlegend": true,
         "textposition": "auto",
         "type": "bar",
         "x": {
          "bdata": "oLsNAOAyKQCguw0A",
          "dtype": "i4"
         },
         "xaxis": "x",
         "y": [
          "arr_1",
          "arr_2",
          "arr_3"
         ],
         "yaxis": "y"
        },
        {
         "base": [
          "2022-08-12T12:00:00.000000000",
          "2022-08-12T12:15:00.000000000",
          "2022-08-12T13:00:00.000000000"
         ],
         "hovertemplate": "Train=450237_12<br>Start=%{base}<br>Finish=%{x}<br>Tâches=%{y}<extra></extra>",
         "legendgroup": "450237_12",
         "marker": {
          "color": "#FF97FF",
          "pattern": {
           "shape": ""
          }
         },
         "name": "450237_12",
         "orientation": "h",
         "showlegend": true,
         "textposition": "auto",
         "type": "bar",
         "x": {
          "bdata": "oLsNAOAyKQCguw0A",
          "dtype": "i4"
         },
         "xaxis": "x",
         "y": [
          "arr_1",
          "arr_2",
          "arr_3"
         ],
         "yaxis": "y"
        },
        {
         "base": [
          "2022-08-12T12:45:00.000000000",
          "2022-08-12T13:00:00.000000000",
          "2022-08-12T13:45:00.000000000"
         ],
         "hovertemplate": "Train=471003_12<br>Start=%{base}<br>Finish=%{x}<br>Tâches=%{y}<extra></extra>",
         "legendgroup": "471003_12",
         "marker": {
          "color": "#FECB52",
          "pattern": {
           "shape": ""
          }
         },
         "name": "471003_12",
         "orientation": "h",
         "showlegend": true,
         "textposition": "auto",
         "type": "bar",
         "x": {
          "bdata": "oLsNAOAyKQCguw0A",
          "dtype": "i4"
         },
         "xaxis": "x",
         "y": [
          "arr_1",
          "arr_2",
          "arr_3"
         ],
         "yaxis": "y"
        },
        {
         "base": [
          "2022-08-12T17:45:00.000000000",
          "2022-08-12T18:00:00.000000000",
          "2022-08-12T18:45:00.000000000"
         ],
         "hovertemplate": "Train=47214_12<br>Start=%{base}<br>Finish=%{x}<br>Tâches=%{y}<extra></extra>",
         "legendgroup": "47214_12",
         "marker": {
          "color": "#636efa",
          "pattern": {
           "shape": ""
          }
         },
         "name": "47214_12",
         "orientation": "h",
         "showlegend": true,
         "textposition": "auto",
         "type": "bar",
         "x": {
          "bdata": "oLsNAOAyKQCguw0A",
          "dtype": "i4"
         },
         "xaxis": "x",
         "y": [
          "arr_1",
          "arr_2",
          "arr_3"
         ],
         "yaxis": "y"
        },
        {
         "base": [
          "2022-08-12T09:15:00.000000000",
          "2022-08-12T09:30:00.000000000",
          "2022-08-12T10:15:00.000000000"
         ],
         "hovertemplate": "Train=47262_12<br>Start=%{base}<br>Finish=%{x}<br>Tâches=%{y}<extra></extra>",
         "legendgroup": "47262_12",
         "marker": {
          "color": "#EF553B",
          "pattern": {
           "shape": ""
          }
         },
         "name": "47262_12",
         "orientation": "h",
         "showlegend": true,
         "textposition": "auto",
         "type": "bar",
         "x": {
          "bdata": "oLsNAOAyKQCguw0A",
          "dtype": "i4"
         },
         "xaxis": "x",
         "y": [
          "arr_1",
          "arr_2",
          "arr_3"
         ],
         "yaxis": "y"
        },
        {
         "base": [
          "2022-08-12T19:45:00.000000000",
          "2022-08-12T20:00:00.000000000",
          "2022-08-12T20:45:00.000000000"
         ],
         "hovertemplate": "Train=47822_12<br>Start=%{base}<br>Finish=%{x}<br>Tâches=%{y}<extra></extra>",
         "legendgroup": "47822_12",
         "marker": {
          "color": "#00cc96",
          "pattern": {
           "shape": ""
          }
         },
         "name": "47822_12",
         "orientation": "h",
         "showlegend": true,
         "textposition": "auto",
         "type": "bar",
         "x": {
          "bdata": "oLsNAOAyKQCguw0A",
          "dtype": "i4"
         },
         "xaxis": "x",
         "y": [
          "arr_1",
          "arr_2",
          "arr_3"
         ],
         "yaxis": "y"
        },
        {
         "base": [
          "2022-08-12T07:45:00.000000000",
          "2022-08-12T08:00:00.000000000",
          "2022-08-12T09:00:00.000000000"
         ],
         "hovertemplate": "Train=48216_12<br>Start=%{base}<br>Finish=%{x}<br>Tâches=%{y}<extra></extra>",
         "legendgroup": "48216_12",
         "marker": {
          "color": "#ab63fa",
          "pattern": {
           "shape": ""
          }
         },
         "name": "48216_12",
         "orientation": "h",
         "showlegend": true,
         "textposition": "auto",
         "type": "bar",
         "x": {
          "bdata": "oLsNAOAyKQCguw0A",
          "dtype": "i4"
         },
         "xaxis": "x",
         "y": [
          "arr_1",
          "arr_2",
          "arr_3"
         ],
         "yaxis": "y"
        },
        {
         "base": [
          "2022-08-12T11:45:00.000000000",
          "2022-08-12T12:00:00.000000000",
          "2022-08-12T13:15:00.000000000"
         ],
         "hovertemplate": "Train=489026_12<br>Start=%{base}<br>Finish=%{x}<br>Tâches=%{y}<extra></extra>",
         "legendgroup": "489026_12",
         "marker": {
          "color": "#FFA15A",
          "pattern": {
           "shape": ""
          }
         },
         "name": "489026_12",
         "orientation": "h",
         "showlegend": true,
         "textposition": "auto",
         "type": "bar",
         "x": {
          "bdata": "oLsNAOAyKQCguw0A",
          "dtype": "i4"
         },
         "xaxis": "x",
         "y": [
          "arr_1",
          "arr_2",
          "arr_3"
         ],
         "yaxis": "y"
        },
        {
         "base": [
          "2022-08-12T21:45:00.000000000",
          "2022-08-12T22:00:00.000000000",
          "2022-08-12T23:00:00.000000000"
         ],
         "hovertemplate": "Train=489042_12<br>Start=%{base}<br>Finish=%{x}<br>Tâches=%{y}<extra></extra>",
         "legendgroup": "489042_12",
         "marker": {
          "color": "#19d3f3",
          "pattern": {
           "shape": ""
          }
         },
         "name": "489042_12",
         "orientation": "h",
         "showlegend": true,
         "textposition": "auto",
         "type": "bar",
         "x": {
          "bdata": "oLsNAOAyKQCguw0A",
          "dtype": "i4"
         },
         "xaxis": "x",
         "y": [
          "arr_1",
          "arr_2",
          "arr_3"
         ],
         "yaxis": "y"
        },
        {
         "base": [
          "2022-08-12T22:15:00.000000000",
          "2022-08-12T22:30:00.000000000",
          "2022-08-12T23:15:00.000000000"
         ],
         "hovertemplate": "Train=54234_12<br>Start=%{base}<br>Finish=%{x}<br>Tâches=%{y}<extra></extra>",
         "legendgroup": "54234_12",
         "marker": {
          "color": "#FF6692",
          "pattern": {
           "shape": ""
          }
         },
         "name": "54234_12",
         "orientation": "h",
         "showlegend": true,
         "textposition": "auto",
         "type": "bar",
         "x": {
          "bdata": "oLsNAOAyKQCguw0A",
          "dtype": "i4"
         },
         "xaxis": "x",
         "y": [
          "arr_1",
          "arr_2",
          "arr_3"
         ],
         "yaxis": "y"
        },
        {
         "base": [
          "2022-08-12T07:45:00.000000000",
          "2022-08-12T08:00:00.000000000",
          "2022-08-12T08:45:00.000000000"
         ],
         "hovertemplate": "Train=55396_12<br>Start=%{base}<br>Finish=%{x}<br>Tâches=%{y}<extra></extra>",
         "legendgroup": "55396_12",
         "marker": {
          "color": "#B6E880",
          "pattern": {
           "shape": ""
          }
         },
         "name": "55396_12",
         "orientation": "h",
         "showlegend": true,
         "textposition": "auto",
         "type": "bar",
         "x": {
          "bdata": "oLsNAOAyKQCguw0A",
          "dtype": "i4"
         },
         "xaxis": "x",
         "y": [
          "arr_1",
          "arr_2",
          "arr_3"
         ],
         "yaxis": "y"
        },
        {
         "base": [
          "2022-08-12T21:30:00.000000000",
          "2022-08-12T21:45:00.000000000",
          "2022-08-12T23:30:00.000000000"
         ],
         "hovertemplate": "Train=56135_12<br>Start=%{base}<br>Finish=%{x}<br>Tâches=%{y}<extra></extra>",
         "legendgroup": "56135_12",
         "marker": {
          "color": "#FF97FF",
          "pattern": {
           "shape": ""
          }
         },
         "name": "56135_12",
         "orientation": "h",
         "showlegend": true,
         "textposition": "auto",
         "type": "bar",
         "x": {
          "bdata": "oLsNAOAyKQCguw0A",
          "dtype": "i4"
         },
         "xaxis": "x",
         "y": [
          "arr_1",
          "arr_2",
          "arr_3"
         ],
         "yaxis": "y"
        },
        {
         "base": [
          "2022-08-12T02:45:00.000000000",
          "2022-08-12T03:00:00.000000000",
          "2022-08-12T03:45:00.000000000"
         ],
         "hovertemplate": "Train=56730_12<br>Start=%{base}<br>Finish=%{x}<br>Tâches=%{y}<extra></extra>",
         "legendgroup": "56730_12",
         "marker": {
          "color": "#FECB52",
          "pattern": {
           "shape": ""
          }
         },
         "name": "56730_12",
         "orientation": "h",
         "showlegend": true,
         "textposition": "auto",
         "type": "bar",
         "x": {
          "bdata": "oLsNAOAyKQCguw0A",
          "dtype": "i4"
         },
         "xaxis": "x",
         "y": [
          "arr_1",
          "arr_2",
          "arr_3"
         ],
         "yaxis": "y"
        },
        {
         "base": [
          "2022-08-12T21:15:00.000000000",
          "2022-08-12T21:30:00.000000000",
          "2022-08-12T22:30:00.000000000"
         ],
         "hovertemplate": "Train=58706_12<br>Start=%{base}<br>Finish=%{x}<br>Tâches=%{y}<extra></extra>",
         "legendgroup": "58706_12",
         "marker": {
          "color": "#636efa",
          "pattern": {
           "shape": ""
          }
         },
         "name": "58706_12",
         "orientation": "h",
         "showlegend": true,
         "textposition": "auto",
         "type": "bar",
         "x": {
          "bdata": "oLsNAOAyKQCguw0A",
          "dtype": "i4"
         },
         "xaxis": "x",
         "y": [
          "arr_1",
          "arr_2",
          "arr_3"
         ],
         "yaxis": "y"
        },
        {
         "base": [
          "2022-08-12T09:30:00.000000000",
          "2022-08-12T09:45:00.000000000",
          "2022-08-12T10:30:00.000000000"
         ],
         "hovertemplate": "Train=71270_12<br>Start=%{base}<br>Finish=%{x}<br>Tâches=%{y}<extra></extra>",
         "legendgroup": "71270_12",
         "marker": {
          "color": "#EF553B",
          "pattern": {
           "shape": ""
          }
         },
         "name": "71270_12",
         "orientation": "h",
         "showlegend": true,
         "textposition": "auto",
         "type": "bar",
         "x": {
          "bdata": "oLsNAOAyKQCguw0A",
          "dtype": "i4"
         },
         "xaxis": "x",
         "y": [
          "arr_1",
          "arr_2",
          "arr_3"
         ],
         "yaxis": "y"
        },
        {
         "base": [
          "2022-08-13T02:15:00.000000000",
          "2022-08-13T02:30:00.000000000",
          "2022-08-13T04:00:00.000000000"
         ],
         "hovertemplate": "Train=412023_13<br>Start=%{base}<br>Finish=%{x}<br>Tâches=%{y}<extra></extra>",
         "legendgroup": "412023_13",
         "marker": {
          "color": "#00cc96",
          "pattern": {
           "shape": ""
          }
         },
         "name": "412023_13",
         "orientation": "h",
         "showlegend": true,
         "textposition": "auto",
         "type": "bar",
         "x": {
          "bdata": "oLsNAOAyKQCguw0A",
          "dtype": "i4"
         },
         "xaxis": "x",
         "y": [
          "arr_1",
          "arr_2",
          "arr_3"
         ],
         "yaxis": "y"
        },
        {
         "base": [
          "2022-08-13T22:15:00.000000000",
          "2022-08-13T22:30:00.000000000",
          "2022-08-13T23:15:00.000000000"
         ],
         "hovertemplate": "Train=41230_13<br>Start=%{base}<br>Finish=%{x}<br>Tâches=%{y}<extra></extra>",
         "legendgroup": "41230_13",
         "marker": {
          "color": "#ab63fa",
          "pattern": {
           "shape": ""
          }
         },
         "name": "41230_13",
         "orientation": "h",
         "showlegend": true,
         "textposition": "auto",
         "type": "bar",
         "x": {
          "bdata": "oLsNAOAyKQCguw0A",
          "dtype": "i4"
         },
         "xaxis": "x",
         "y": [
          "arr_1",
          "arr_2",
          "arr_3"
         ],
         "yaxis": "y"
        },
        {
         "base": [
          "2022-08-13T05:15:00.000000000",
          "2022-08-13T05:30:00.000000000",
          "2022-08-13T06:15:00.000000000"
         ],
         "hovertemplate": "Train=431802_13<br>Start=%{base}<br>Finish=%{x}<br>Tâches=%{y}<extra></extra>",
         "legendgroup": "431802_13",
         "marker": {
          "color": "#FFA15A",
          "pattern": {
           "shape": ""
          }
         },
         "name": "431802_13",
         "orientation": "h",
         "showlegend": true,
         "textposition": "auto",
         "type": "bar",
         "x": {
          "bdata": "oLsNAOAyKQCguw0A",
          "dtype": "i4"
         },
         "xaxis": "x",
         "y": [
          "arr_1",
          "arr_2",
          "arr_3"
         ],
         "yaxis": "y"
        },
        {
         "base": [
          "2022-08-13T16:15:00.000000000",
          "2022-08-13T16:30:00.000000000",
          "2022-08-13T21:45:00.000000000"
         ],
         "hovertemplate": "Train=44222_13<br>Start=%{base}<br>Finish=%{x}<br>Tâches=%{y}<extra></extra>",
         "legendgroup": "44222_13",
         "marker": {
          "color": "#19d3f3",
          "pattern": {
           "shape": ""
          }
         },
         "name": "44222_13",
         "orientation": "h",
         "showlegend": true,
         "textposition": "auto",
         "type": "bar",
         "x": {
          "bdata": "oLsNAOAyKQCguw0A",
          "dtype": "i4"
         },
         "xaxis": "x",
         "y": [
          "arr_1",
          "arr_2",
          "arr_3"
         ],
         "yaxis": "y"
        },
        {
         "base": [
          "2022-08-13T01:15:00.000000000",
          "2022-08-13T01:30:00.000000000",
          "2022-08-13T02:15:00.000000000"
         ],
         "hovertemplate": "Train=44228_13<br>Start=%{base}<br>Finish=%{x}<br>Tâches=%{y}<extra></extra>",
         "legendgroup": "44228_13",
         "marker": {
          "color": "#FF6692",
          "pattern": {
           "shape": ""
          }
         },
         "name": "44228_13",
         "orientation": "h",
         "showlegend": true,
         "textposition": "auto",
         "type": "bar",
         "x": {
          "bdata": "oLsNAOAyKQCguw0A",
          "dtype": "i4"
         },
         "xaxis": "x",
         "y": [
          "arr_1",
          "arr_2",
          "arr_3"
         ],
         "yaxis": "y"
        },
        {
         "base": [
          "2022-08-13T10:45:00.000000000",
          "2022-08-13T11:00:00.000000000",
          "2022-08-13T11:45:00.000000000"
         ],
         "hovertemplate": "Train=44250_13<br>Start=%{base}<br>Finish=%{x}<br>Tâches=%{y}<extra></extra>",
         "legendgroup": "44250_13",
         "marker": {
          "color": "#B6E880",
          "pattern": {
           "shape": ""
          }
         },
         "name": "44250_13",
         "orientation": "h",
         "showlegend": true,
         "textposition": "auto",
         "type": "bar",
         "x": {
          "bdata": "oLsNAOAyKQCguw0A",
          "dtype": "i4"
         },
         "xaxis": "x",
         "y": [
          "arr_1",
          "arr_2",
          "arr_3"
         ],
         "yaxis": "y"
        },
        {
         "base": [
          "2022-08-13T16:15:00.000000000",
          "2022-08-13T16:30:00.000000000",
          "2022-08-13T21:00:00.000000000"
         ],
         "hovertemplate": "Train=44864_13<br>Start=%{base}<br>Finish=%{x}<br>Tâches=%{y}<extra></extra>",
         "legendgroup": "44864_13",
         "marker": {
          "color": "#FF97FF",
          "pattern": {
           "shape": ""
          }
         },
         "name": "44864_13",
         "orientation": "h",
         "showlegend": true,
         "textposition": "auto",
         "type": "bar",
         "x": {
          "bdata": "oLsNAOAyKQCguw0A",
          "dtype": "i4"
         },
         "xaxis": "x",
         "y": [
          "arr_1",
          "arr_2",
          "arr_3"
         ],
         "yaxis": "y"
        },
        {
         "base": [
          "2022-08-13T12:00:00.000000000",
          "2022-08-13T12:15:00.000000000",
          "2022-08-13T21:15:00.000000000"
         ],
         "hovertemplate": "Train=450235_13<br>Start=%{base}<br>Finish=%{x}<br>Tâches=%{y}<extra></extra>",
         "legendgroup": "450235_13",
         "marker": {
          "color": "#FECB52",
          "pattern": {
           "shape": ""
          }
         },
         "name": "450235_13",
         "orientation": "h",
         "showlegend": true,
         "textposition": "auto",
         "type": "bar",
         "x": {
          "bdata": "oLsNAOAyKQCguw0A",
          "dtype": "i4"
         },
         "xaxis": "x",
         "y": [
          "arr_1",
          "arr_2",
          "arr_3"
         ],
         "yaxis": "y"
        },
        {
         "base": [
          "2022-08-13T02:00:00.000000000",
          "2022-08-13T02:15:00.000000000",
          "2022-08-13T03:00:00.000000000"
         ],
         "hovertemplate": "Train=47240_13<br>Start=%{base}<br>Finish=%{x}<br>Tâches=%{y}<extra></extra>",
         "legendgroup": "47240_13",
         "marker": {
          "color": "#636efa",
          "pattern": {
           "shape": ""
          }
         },
         "name": "47240_13",
         "orientation": "h",
         "showlegend": true,
         "textposition": "auto",
         "type": "bar",
         "x": {
          "bdata": "oLsNAOAyKQCguw0A",
          "dtype": "i4"
         },
         "xaxis": "x",
         "y": [
          "arr_1",
          "arr_2",
          "arr_3"
         ],
         "yaxis": "y"
        },
        {
         "base": [
          "2022-08-13T09:30:00.000000000",
          "2022-08-13T09:45:00.000000000",
          "2022-08-13T10:30:00.000000000"
         ],
         "hovertemplate": "Train=47262_13<br>Start=%{base}<br>Finish=%{x}<br>Tâches=%{y}<extra></extra>",
         "legendgroup": "47262_13",
         "marker": {
          "color": "#EF553B",
          "pattern": {
           "shape": ""
          }
         },
         "name": "47262_13",
         "orientation": "h",
         "showlegend": true,
         "textposition": "auto",
         "type": "bar",
         "x": {
          "bdata": "oLsNAOAyKQCguw0A",
          "dtype": "i4"
         },
         "xaxis": "x",
         "y": [
          "arr_1",
          "arr_2",
          "arr_3"
         ],
         "yaxis": "y"
        },
        {
         "base": [
          "2022-08-13T19:45:00.000000000",
          "2022-08-13T20:00:00.000000000",
          "2022-08-13T21:30:00.000000000"
         ],
         "hovertemplate": "Train=47822_13<br>Start=%{base}<br>Finish=%{x}<br>Tâches=%{y}<extra></extra>",
         "legendgroup": "47822_13",
         "marker": {
          "color": "#00cc96",
          "pattern": {
           "shape": ""
          }
         },
         "name": "47822_13",
         "orientation": "h",
         "showlegend": true,
         "textposition": "auto",
         "type": "bar",
         "x": {
          "bdata": "oLsNAOAyKQCguw0A",
          "dtype": "i4"
         },
         "xaxis": "x",
         "y": [
          "arr_1",
          "arr_2",
          "arr_3"
         ],
         "yaxis": "y"
        },
        {
         "base": [
          "2022-08-13T11:45:00.000000000",
          "2022-08-13T12:00:00.000000000",
          "2022-08-13T12:45:00.000000000"
         ],
         "hovertemplate": "Train=489026_13<br>Start=%{base}<br>Finish=%{x}<br>Tâches=%{y}<extra></extra>",
         "legendgroup": "489026_13",
         "marker": {
          "color": "#ab63fa",
          "pattern": {
           "shape": ""
          }
         },
         "name": "489026_13",
         "orientation": "h",
         "showlegend": true,
         "textposition": "auto",
         "type": "bar",
         "x": {
          "bdata": "oLsNAOAyKQCguw0A",
          "dtype": "i4"
         },
         "xaxis": "x",
         "y": [
          "arr_1",
          "arr_2",
          "arr_3"
         ],
         "yaxis": "y"
        },
        {
         "base": [
          "2022-08-13T22:15:00.000000000",
          "2022-08-13T22:30:00.000000000",
          "2022-08-13T23:30:00.000000000"
         ],
         "hovertemplate": "Train=54234_13<br>Start=%{base}<br>Finish=%{x}<br>Tâches=%{y}<extra></extra>",
         "legendgroup": "54234_13",
         "marker": {
          "color": "#FFA15A",
          "pattern": {
           "shape": ""
          }
         },
         "name": "54234_13",
         "orientation": "h",
         "showlegend": true,
         "textposition": "auto",
         "type": "bar",
         "x": {
          "bdata": "oLsNAOAyKQCguw0A",
          "dtype": "i4"
         },
         "xaxis": "x",
         "y": [
          "arr_1",
          "arr_2",
          "arr_3"
         ],
         "yaxis": "y"
        },
        {
         "base": [
          "2022-08-14T00:00:00.000000000",
          "2022-08-14T00:15:00.000000000",
          "2022-08-14T01:00:00.000000000"
         ],
         "hovertemplate": "Train=55390_13<br>Start=%{base}<br>Finish=%{x}<br>Tâches=%{y}<extra></extra>",
         "legendgroup": "55390_13",
         "marker": {
          "color": "#19d3f3",
          "pattern": {
           "shape": ""
          }
         },
         "name": "55390_13",
         "orientation": "h",
         "showlegend": true,
         "textposition": "auto",
         "type": "bar",
         "x": {
          "bdata": "oLsNAOAyKQCguw0A",
          "dtype": "i4"
         },
         "xaxis": "x",
         "y": [
          "arr_1",
          "arr_2",
          "arr_3"
         ],
         "yaxis": "y"
        },
        {
         "base": [
          "2022-08-13T07:45:00.000000000",
          "2022-08-13T08:00:00.000000000",
          "2022-08-13T08:45:00.000000000"
         ],
         "hovertemplate": "Train=55396_13<br>Start=%{base}<br>Finish=%{x}<br>Tâches=%{y}<extra></extra>",
         "legendgroup": "55396_13",
         "marker": {
          "color": "#FF6692",
          "pattern": {
           "shape": ""
          }
         },
         "name": "55396_13",
         "orientation": "h",
         "showlegend": true,
         "textposition": "auto",
         "type": "bar",
         "x": {
          "bdata": "oLsNAOAyKQCguw0A",
          "dtype": "i4"
         },
         "xaxis": "x",
         "y": [
          "arr_1",
          "arr_2",
          "arr_3"
         ],
         "yaxis": "y"
        },
        {
         "base": [
          "2022-08-13T21:30:00.000000000",
          "2022-08-13T21:45:00.000000000",
          "2022-08-13T23:00:00.000000000"
         ],
         "hovertemplate": "Train=56135_13<br>Start=%{base}<br>Finish=%{x}<br>Tâches=%{y}<extra></extra>",
         "legendgroup": "56135_13",
         "marker": {
          "color": "#B6E880",
          "pattern": {
           "shape": ""
          }
         },
         "name": "56135_13",
         "orientation": "h",
         "showlegend": true,
         "textposition": "auto",
         "type": "bar",
         "x": {
          "bdata": "oLsNAOAyKQCguw0A",
          "dtype": "i4"
         },
         "xaxis": "x",
         "y": [
          "arr_1",
          "arr_2",
          "arr_3"
         ],
         "yaxis": "y"
        },
        {
         "base": [
          "2022-08-13T02:45:00.000000000",
          "2022-08-13T03:00:00.000000000",
          "2022-08-13T03:45:00.000000000"
         ],
         "hovertemplate": "Train=56730_13<br>Start=%{base}<br>Finish=%{x}<br>Tâches=%{y}<extra></extra>",
         "legendgroup": "56730_13",
         "marker": {
          "color": "#FF97FF",
          "pattern": {
           "shape": ""
          }
         },
         "name": "56730_13",
         "orientation": "h",
         "showlegend": true,
         "textposition": "auto",
         "type": "bar",
         "x": {
          "bdata": "oLsNAOAyKQCguw0A",
          "dtype": "i4"
         },
         "xaxis": "x",
         "y": [
          "arr_1",
          "arr_2",
          "arr_3"
         ],
         "yaxis": "y"
        },
        {
         "base": [
          "2022-08-13T21:15:00.000000000",
          "2022-08-13T21:30:00.000000000",
          "2022-08-13T22:15:00.000000000"
         ],
         "hovertemplate": "Train=58706_13<br>Start=%{base}<br>Finish=%{x}<br>Tâches=%{y}<extra></extra>",
         "legendgroup": "58706_13",
         "marker": {
          "color": "#FECB52",
          "pattern": {
           "shape": ""
          }
         },
         "name": "58706_13",
         "orientation": "h",
         "showlegend": true,
         "textposition": "auto",
         "type": "bar",
         "x": {
          "bdata": "oLsNAOAyKQCguw0A",
          "dtype": "i4"
         },
         "xaxis": "x",
         "y": [
          "arr_1",
          "arr_2",
          "arr_3"
         ],
         "yaxis": "y"
        },
        {
         "base": [
          "2022-08-14T02:45:00.000000000",
          "2022-08-14T03:00:00.000000000",
          "2022-08-14T03:45:00.000000000"
         ],
         "hovertemplate": "Train=56730_14<br>Start=%{base}<br>Finish=%{x}<br>Tâches=%{y}<extra></extra>",
         "legendgroup": "56730_14",
         "marker": {
          "color": "#636efa",
          "pattern": {
           "shape": ""
          }
         },
         "name": "56730_14",
         "orientation": "h",
         "showlegend": true,
         "textposition": "auto",
         "type": "bar",
         "x": {
          "bdata": "oLsNAOAyKQCguw0A",
          "dtype": "i4"
         },
         "xaxis": "x",
         "y": [
          "arr_1",
          "arr_2",
          "arr_3"
         ],
         "yaxis": "y"
        },
        {
         "base": [
          "2022-08-09T06:15:00.000000000",
          "2022-08-09T06:30:00.000000000",
          "2022-08-09T09:00:00.000000000",
          "2022-08-09T15:15:00.000000000"
         ],
         "hovertemplate": "Train=400006_09<br>Start=%{base}<br>Finish=%{x}<br>Tâches=%{y}<extra></extra>",
         "legendgroup": "400006_09",
         "marker": {
          "color": "#EF553B",
          "pattern": {
           "shape": ""
          }
         },
         "name": "400006_09",
         "orientation": "h",
         "showlegend": true,
         "textposition": "auto",
         "type": "bar",
         "x": {
          "bdata": "oLsNAEBUiQCguw0AgE8SAA==",
          "dtype": "i4"
         },
         "xaxis": "x",
         "y": [
          "dep_1",
          "dep_2",
          "dep_3",
          "dep_4"
         ],
         "yaxis": "y"
        },
        {
         "base": [
          "2022-08-09T11:45:00.000000000",
          "2022-08-09T12:15:00.000000000",
          "2022-08-09T14:45:00.000000000",
          "2022-08-09T22:15:00.000000000"
         ],
         "hovertemplate": "Train=400016_09<br>Start=%{base}<br>Finish=%{x}<br>Tâches=%{y}<extra></extra>",
         "legendgroup": "400016_09",
         "marker": {
          "color": "#00cc96",
          "pattern": {
           "shape": ""
          }
         },
         "name": "400016_09",
         "orientation": "h",
         "showlegend": true,
         "textposition": "auto",
         "type": "bar",
         "x": {
          "bdata": "oLsNAEBUiQCguw0AgE8SAA==",
          "dtype": "i4"
         },
         "xaxis": "x",
         "y": [
          "dep_1",
          "dep_2",
          "dep_3",
          "dep_4"
         ],
         "yaxis": "y"
        },
        {
         "base": [
          "2022-08-09T09:30:00.000000000",
          "2022-08-09T09:45:00.000000000",
          "2022-08-09T12:15:00.000000000",
          "2022-08-09T20:30:00.000000000"
         ],
         "hovertemplate": "Train=400110_09<br>Start=%{base}<br>Finish=%{x}<br>Tâches=%{y}<extra></extra>",
         "legendgroup": "400110_09",
         "marker": {
          "color": "#ab63fa",
          "pattern": {
           "shape": ""
          }
         },
         "name": "400110_09",
         "orientation": "h",
         "showlegend": true,
         "textposition": "auto",
         "type": "bar",
         "x": {
          "bdata": "oLsNAEBUiQCguw0AgE8SAA==",
          "dtype": "i4"
         },
         "xaxis": "x",
         "y": [
          "dep_1",
          "dep_2",
          "dep_3",
          "dep_4"
         ],
         "yaxis": "y"
        },
        {
         "base": [
          "2022-08-09T02:45:00.000000000",
          "2022-08-09T03:15:00.000000000",
          "2022-08-09T05:45:00.000000000",
          "2022-08-09T14:30:00.000000000"
         ],
         "hovertemplate": "Train=431035_09<br>Start=%{base}<br>Finish=%{x}<br>Tâches=%{y}<extra></extra>",
         "legendgroup": "431035_09",
         "marker": {
          "color": "#FFA15A",
          "pattern": {
           "shape": ""
          }
         },
         "name": "431035_09",
         "orientation": "h",
         "showlegend": true,
         "textposition": "auto",
         "type": "bar",
         "x": {
          "bdata": "oLsNAEBUiQCguw0AgE8SAA==",
          "dtype": "i4"
         },
         "xaxis": "x",
         "y": [
          "dep_1",
          "dep_2",
          "dep_3",
          "dep_4"
         ],
         "yaxis": "y"
        },
        {
         "base": [
          "2022-08-09T02:15:00.000000000",
          "2022-08-09T02:30:00.000000000",
          "2022-08-09T05:00:00.000000000",
          "2022-08-09T05:45:00.000000000"
         ],
         "hovertemplate": "Train=431091_09<br>Start=%{base}<br>Finish=%{x}<br>Tâches=%{y}<extra></extra>",
         "legendgroup": "431091_09",
         "marker": {
          "color": "#19d3f3",
          "pattern": {
           "shape": ""
          }
         },
         "name": "431091_09",
         "orientation": "h",
         "showlegend": true,
         "textposition": "auto",
         "type": "bar",
         "x": {
          "bdata": "oLsNAEBUiQCguw0AgE8SAA==",
          "dtype": "i4"
         },
         "xaxis": "x",
         "y": [
          "dep_1",
          "dep_2",
          "dep_3",
          "dep_4"
         ],
         "yaxis": "y"
        },
        {
         "base": [
          "2022-08-09T07:45:00.000000000",
          "2022-08-09T08:45:00.000000000",
          "2022-08-09T11:15:00.000000000",
          "2022-08-09T17:30:00.000000000"
         ],
         "hovertemplate": "Train=44203_09<br>Start=%{base}<br>Finish=%{x}<br>Tâches=%{y}<extra></extra>",
         "legendgroup": "44203_09",
         "marker": {
          "color": "#FF6692",
          "pattern": {
           "shape": ""
          }
         },
         "name": "44203_09",
         "orientation": "h",
         "showlegend": true,
         "textposition": "auto",
         "type": "bar",
         "x": {
          "bdata": "oLsNAEBUiQCguw0AgE8SAA==",
          "dtype": "i4"
         },
         "xaxis": "x",
         "y": [
          "dep_1",
          "dep_2",
          "dep_3",
          "dep_4"
         ],
         "yaxis": "y"
        },
        {
         "base": [
          "2022-08-08T13:30:00.000000000",
          "2022-08-08T14:30:00.000000000",
          "2022-08-08T17:00:00.000000000",
          "2022-08-09T13:00:00.000000000"
         ],
         "hovertemplate": "Train=44241_09<br>Start=%{base}<br>Finish=%{x}<br>Tâches=%{y}<extra></extra>",
         "legendgroup": "44241_09",
         "marker": {
          "color": "#B6E880",
          "pattern": {
           "shape": ""
          }
         },
         "name": "44241_09",
         "orientation": "h",
         "showlegend": true,
         "textposition": "auto",
         "type": "bar",
         "x": {
          "bdata": "oLsNAEBUiQCguw0AgE8SAA==",
          "dtype": "i4"
         },
         "xaxis": "x",
         "y": [
          "dep_1",
          "dep_2",
          "dep_3",
          "dep_4"
         ],
         "yaxis": "y"
        },
        {
         "base": [
          "2022-08-08T14:30:00.000000000",
          "2022-08-08T14:45:00.000000000",
          "2022-08-08T17:15:00.000000000",
          "2022-08-09T02:45:00.000000000"
         ],
         "hovertemplate": "Train=44249_09<br>Start=%{base}<br>Finish=%{x}<br>Tâches=%{y}<extra></extra>",
         "legendgroup": "44249_09",
         "marker": {
          "color": "#FF97FF",
          "pattern": {
           "shape": ""
          }
         },
         "name": "44249_09",
         "orientation": "h",
         "showlegend": true,
         "textposition": "auto",
         "type": "bar",
         "x": {
          "bdata": "oLsNAEBUiQCguw0AgE8SAA==",
          "dtype": "i4"
         },
         "xaxis": "x",
         "y": [
          "dep_1",
          "dep_2",
          "dep_3",
          "dep_4"
         ],
         "yaxis": "y"
        },
        {
         "base": [
          "2022-08-08T21:15:00.000000000",
          "2022-08-08T21:30:00.000000000",
          "2022-08-09T00:00:00.000000000",
          "2022-08-09T07:45:00.000000000"
         ],
         "hovertemplate": "Train=44806_09<br>Start=%{base}<br>Finish=%{x}<br>Tâches=%{y}<extra></extra>",
         "legendgroup": "44806_09",
         "marker": {
          "color": "#FECB52",
          "pattern": {
           "shape": ""
          }
         },
         "name": "44806_09",
         "orientation": "h",
         "showlegend": true,
         "textposition": "auto",
         "type": "bar",
         "x": {
          "bdata": "oLsNAEBUiQCguw0AgE8SAA==",
          "dtype": "i4"
         },
         "xaxis": "x",
         "y": [
          "dep_1",
          "dep_2",
          "dep_3",
          "dep_4"
         ],
         "yaxis": "y"
        },
        {
         "base": [
          "2022-08-09T00:30:00.000000000",
          "2022-08-09T00:45:00.000000000",
          "2022-08-09T03:15:00.000000000",
          "2022-08-09T14:00:00.000000000"
         ],
         "hovertemplate": "Train=47245_09<br>Start=%{base}<br>Finish=%{x}<br>Tâches=%{y}<extra></extra>",
         "legendgroup": "47245_09",
         "marker": {
          "color": "#636efa",
          "pattern": {
           "shape": ""
          }
         },
         "name": "47245_09",
         "orientation": "h",
         "showlegend": true,
         "textposition": "auto",
         "type": "bar",
         "x": {
          "bdata": "oLsNAEBUiQCguw0AgE8SAA==",
          "dtype": "i4"
         },
         "xaxis": "x",
         "y": [
          "dep_1",
          "dep_2",
          "dep_3",
          "dep_4"
         ],
         "yaxis": "y"
        },
        {
         "base": [
          "2022-08-09T04:30:00.000000000",
          "2022-08-09T04:45:00.000000000",
          "2022-08-09T07:15:00.000000000",
          "2022-08-09T10:30:00.000000000"
         ],
         "hovertemplate": "Train=47289_09<br>Start=%{base}<br>Finish=%{x}<br>Tâches=%{y}<extra></extra>",
         "legendgroup": "47289_09",
         "marker": {
          "color": "#EF553B",
          "pattern": {
           "shape": ""
          }
         },
         "name": "47289_09",
         "orientation": "h",
         "showlegend": true,
         "textposition": "auto",
         "type": "bar",
         "x": {
          "bdata": "oLsNAEBUiQCguw0AgE8SAA==",
          "dtype": "i4"
         },
         "xaxis": "x",
         "y": [
          "dep_1",
          "dep_2",
          "dep_3",
          "dep_4"
         ],
         "yaxis": "y"
        },
        {
         "base": [
          "2022-08-09T15:15:00.000000000",
          "2022-08-09T15:30:00.000000000",
          "2022-08-09T18:00:00.000000000",
          "2022-08-09T22:00:00.000000000"
         ],
         "hovertemplate": "Train=47821_09<br>Start=%{base}<br>Finish=%{x}<br>Tâches=%{y}<extra></extra>",
         "legendgroup": "47821_09",
         "marker": {
          "color": "#00cc96",
          "pattern": {
           "shape": ""
          }
         },
         "name": "47821_09",
         "orientation": "h",
         "showlegend": true,
         "textposition": "auto",
         "type": "bar",
         "x": {
          "bdata": "oLsNAEBUiQCguw0AgE8SAA==",
          "dtype": "i4"
         },
         "xaxis": "x",
         "y": [
          "dep_1",
          "dep_2",
          "dep_3",
          "dep_4"
         ],
         "yaxis": "y"
        },
        {
         "base": [
          "2022-08-08T23:30:00.000000000",
          "2022-08-08T23:45:00.000000000",
          "2022-08-09T02:15:00.000000000",
          "2022-08-09T05:45:00.000000000"
         ],
         "hovertemplate": "Train=489447_09<br>Start=%{base}<br>Finish=%{x}<br>Tâches=%{y}<extra></extra>",
         "legendgroup": "489447_09",
         "marker": {
          "color": "#ab63fa",
          "pattern": {
           "shape": ""
          }
         },
         "name": "489447_09",
         "orientation": "h",
         "showlegend": true,
         "textposition": "auto",
         "type": "bar",
         "x": {
          "bdata": "oLsNAEBUiQCguw0AgE8SAA==",
          "dtype": "i4"
         },
         "xaxis": "x",
         "y": [
          "dep_1",
          "dep_2",
          "dep_3",
          "dep_4"
         ],
         "yaxis": "y"
        },
        {
         "base": [
          "2022-08-09T09:15:00.000000000",
          "2022-08-09T09:30:00.000000000",
          "2022-08-09T12:00:00.000000000",
          "2022-08-09T15:45:00.000000000"
         ],
         "hovertemplate": "Train=52672_09<br>Start=%{base}<br>Finish=%{x}<br>Tâches=%{y}<extra></extra>",
         "legendgroup": "52672_09",
         "marker": {
          "color": "#FFA15A",
          "pattern": {
           "shape": ""
          }
         },
         "name": "52672_09",
         "orientation": "h",
         "showlegend": true,
         "textposition": "auto",
         "type": "bar",
         "x": {
          "bdata": "oLsNAEBUiQCguw0AgE8SAA==",
          "dtype": "i4"
         },
         "xaxis": "x",
         "y": [
          "dep_1",
          "dep_2",
          "dep_3",
          "dep_4"
         ],
         "yaxis": "y"
        },
        {
         "base": [
          "2022-08-08T22:45:00.000000000",
          "2022-08-08T23:00:00.000000000",
          "2022-08-09T01:30:00.000000000",
          "2022-08-09T03:30:00.000000000"
         ],
         "hovertemplate": "Train=54003_09<br>Start=%{base}<br>Finish=%{x}<br>Tâches=%{y}<extra></extra>",
         "legendgroup": "54003_09",
         "marker": {
          "color": "#19d3f3",
          "pattern": {
           "shape": ""
          }
         },
         "name": "54003_09",
         "orientation": "h",
         "showlegend": true,
         "textposition": "auto",
         "type": "bar",
         "x": {
          "bdata": "oLsNAEBUiQCguw0AgE8SAA==",
          "dtype": "i4"
         },
         "xaxis": "x",
         "y": [
          "dep_1",
          "dep_2",
          "dep_3",
          "dep_4"
         ],
         "yaxis": "y"
        },
        {
         "base": [
          "2022-08-08T18:15:00.000000000",
          "2022-08-08T18:30:00.000000000",
          "2022-08-08T21:00:00.000000000",
          "2022-08-09T05:00:00.000000000"
         ],
         "hovertemplate": "Train=54051_09<br>Start=%{base}<br>Finish=%{x}<br>Tâches=%{y}<extra></extra>",
         "legendgroup": "54051_09",
         "marker": {
          "color": "#FF6692",
          "pattern": {
           "shape": ""
          }
         },
         "name": "54051_09",
         "orientation": "h",
         "showlegend": true,
         "textposition": "auto",
         "type": "bar",
         "x": {
          "bdata": "oLsNAEBUiQCguw0AgE8SAA==",
          "dtype": "i4"
         },
         "xaxis": "x",
         "y": [
          "dep_1",
          "dep_2",
          "dep_3",
          "dep_4"
         ],
         "yaxis": "y"
        },
        {
         "base": [
          "2022-08-08T13:15:00.000000000",
          "2022-08-08T17:30:00.000000000",
          "2022-08-08T20:00:00.000000000",
          "2022-08-09T03:30:00.000000000"
         ],
         "hovertemplate": "Train=54086_09<br>Start=%{base}<br>Finish=%{x}<br>Tâches=%{y}<extra></extra>",
         "legendgroup": "54086_09",
         "marker": {
          "color": "#B6E880",
          "pattern": {
           "shape": ""
          }
         },
         "name": "54086_09",
         "orientation": "h",
         "showlegend": true,
         "textposition": "auto",
         "type": "bar",
         "x": {
          "bdata": "oLsNAEBUiQCguw0AgE8SAA==",
          "dtype": "i4"
         },
         "xaxis": "x",
         "y": [
          "dep_1",
          "dep_2",
          "dep_3",
          "dep_4"
         ],
         "yaxis": "y"
        },
        {
         "base": [
          "2022-08-09T06:00:00.000000000",
          "2022-08-09T06:15:00.000000000",
          "2022-08-09T08:45:00.000000000",
          "2022-08-09T13:45:00.000000000"
         ],
         "hovertemplate": "Train=54231_09<br>Start=%{base}<br>Finish=%{x}<br>Tâches=%{y}<extra></extra>",
         "legendgroup": "54231_09",
         "marker": {
          "color": "#FF97FF",
          "pattern": {
           "shape": ""
          }
         },
         "name": "54231_09",
         "orientation": "h",
         "showlegend": true,
         "textposition": "auto",
         "type": "bar",
         "x": {
          "bdata": "oLsNAEBUiQCguw0AgE8SAA==",
          "dtype": "i4"
         },
         "xaxis": "x",
         "y": [
          "dep_1",
          "dep_2",
          "dep_3",
          "dep_4"
         ],
         "yaxis": "y"
        },
        {
         "base": [
          "2022-08-09T23:30:00.000000000",
          "2022-08-09T23:45:00.000000000",
          "2022-08-10T02:15:00.000000000",
          "2022-08-10T07:00:00.000000000"
         ],
         "hovertemplate": "Train=450226_10<br>Start=%{base}<br>Finish=%{x}<br>Tâches=%{y}<extra></extra>",
         "legendgroup": "450226_10",
         "marker": {
          "color": "#FECB52",
          "pattern": {
           "shape": ""
          }
         },
         "name": "450226_10",
         "orientation": "h",
         "showlegend": true,
         "textposition": "auto",
         "type": "bar",
         "x": {
          "bdata": "oLsNAEBUiQCguw0AgE8SAA==",
          "dtype": "i4"
         },
         "xaxis": "x",
         "y": [
          "dep_1",
          "dep_2",
          "dep_3",
          "dep_4"
         ],
         "yaxis": "y"
        },
        {
         "base": [
          "2022-08-10T07:30:00.000000000",
          "2022-08-10T07:45:00.000000000",
          "2022-08-10T10:15:00.000000000",
          "2022-08-10T19:15:00.000000000"
         ],
         "hovertemplate": "Train=400014_10<br>Start=%{base}<br>Finish=%{x}<br>Tâches=%{y}<extra></extra>",
         "legendgroup": "400014_10",
         "marker": {
          "color": "#636efa",
          "pattern": {
           "shape": ""
          }
         },
         "name": "400014_10",
         "orientation": "h",
         "showlegend": true,
         "textposition": "auto",
         "type": "bar",
         "x": {
          "bdata": "oLsNAEBUiQCguw0AgE8SAA==",
          "dtype": "i4"
         },
         "xaxis": "x",
         "y": [
          "dep_1",
          "dep_2",
          "dep_3",
          "dep_4"
         ],
         "yaxis": "y"
        },
        {
         "base": [
          "2022-08-09T14:45:00.000000000",
          "2022-08-09T16:00:00.000000000",
          "2022-08-09T18:30:00.000000000",
          "2022-08-10T02:45:00.000000000"
         ],
         "hovertemplate": "Train=412124_10<br>Start=%{base}<br>Finish=%{x}<br>Tâches=%{y}<extra></extra>",
         "legendgroup": "412124_10",
         "marker": {
          "color": "#EF553B",
          "pattern": {
           "shape": ""
          }
         },
         "name": "412124_10",
         "orientation": "h",
         "showlegend": true,
         "textposition": "auto",
         "type": "bar",
         "x": {
          "bdata": "oLsNAEBUiQCguw0AgE8SAA==",
          "dtype": "i4"
         },
         "xaxis": "x",
         "y": [
          "dep_1",
          "dep_2",
          "dep_3",
          "dep_4"
         ],
         "yaxis": "y"
        },
        {
         "base": [
          "2022-08-09T13:00:00.000000000",
          "2022-08-09T13:15:00.000000000",
          "2022-08-09T15:45:00.000000000",
          "2022-08-10T02:15:00.000000000"
         ],
         "hovertemplate": "Train=41258_10<br>Start=%{base}<br>Finish=%{x}<br>Tâches=%{y}<extra></extra>",
         "legendgroup": "41258_10",
         "marker": {
          "color": "#00cc96",
          "pattern": {
           "shape": ""
          }
         },
         "name": "41258_10",
         "orientation": "h",
         "showlegend": true,
         "textposition": "auto",
         "type": "bar",
         "x": {
          "bdata": "oLsNAEBUiQCguw0AgE8SAA==",
          "dtype": "i4"
         },
         "xaxis": "x",
         "y": [
          "dep_1",
          "dep_2",
          "dep_3",
          "dep_4"
         ],
         "yaxis": "y"
        },
        {
         "base": [
          "2022-08-10T04:30:00.000000000",
          "2022-08-10T04:45:00.000000000",
          "2022-08-10T07:15:00.000000000",
          "2022-08-10T14:30:00.000000000"
         ],
         "hovertemplate": "Train=431035_10<br>Start=%{base}<br>Finish=%{x}<br>Tâches=%{y}<extra></extra>",
         "legendgroup": "431035_10",
         "marker": {
          "color": "#ab63fa",
          "pattern": {
           "shape": ""
          }
         },
         "name": "431035_10",
         "orientation": "h",
         "showlegend": true,
         "textposition": "auto",
         "type": "bar",
         "x": {
          "bdata": "oLsNAEBUiQCguw0AgE8SAA==",
          "dtype": "i4"
         },
         "xaxis": "x",
         "y": [
          "dep_1",
          "dep_2",
          "dep_3",
          "dep_4"
         ],
         "yaxis": "y"
        },
        {
         "base": [
          "2022-08-10T02:45:00.000000000",
          "2022-08-10T03:00:00.000000000",
          "2022-08-10T05:30:00.000000000",
          "2022-08-10T05:45:00.000000000"
         ],
         "hovertemplate": "Train=431091_10<br>Start=%{base}<br>Finish=%{x}<br>Tâches=%{y}<extra></extra>",
         "legendgroup": "431091_10",
         "marker": {
          "color": "#FFA15A",
          "pattern": {
           "shape": ""
          }
         },
         "name": "431091_10",
         "orientation": "h",
         "showlegend": true,
         "textposition": "auto",
         "type": "bar",
         "x": {
          "bdata": "oLsNAEBUiQCguw0AgE8SAA==",
          "dtype": "i4"
         },
         "xaxis": "x",
         "y": [
          "dep_1",
          "dep_2",
          "dep_3",
          "dep_4"
         ],
         "yaxis": "y"
        },
        {
         "base": [
          "2022-08-10T11:45:00.000000000",
          "2022-08-10T12:00:00.000000000",
          "2022-08-10T14:30:00.000000000",
          "2022-08-10T17:30:00.000000000"
         ],
         "hovertemplate": "Train=44203_10<br>Start=%{base}<br>Finish=%{x}<br>Tâches=%{y}<extra></extra>",
         "legendgroup": "44203_10",
         "marker": {
          "color": "#19d3f3",
          "pattern": {
           "shape": ""
          }
         },
         "name": "44203_10",
         "orientation": "h",
         "showlegend": true,
         "textposition": "auto",
         "type": "bar",
         "x": {
          "bdata": "oLsNAEBUiQCguw0AgE8SAA==",
          "dtype": "i4"
         },
         "xaxis": "x",
         "y": [
          "dep_1",
          "dep_2",
          "dep_3",
          "dep_4"
         ],
         "yaxis": "y"
        },
        {
         "base": [
          "2022-08-10T00:30:00.000000000",
          "2022-08-10T00:45:00.000000000",
          "2022-08-10T03:15:00.000000000",
          "2022-08-10T13:00:00.000000000"
         ],
         "hovertemplate": "Train=44241_10<br>Start=%{base}<br>Finish=%{x}<br>Tâches=%{y}<extra></extra>",
         "legendgroup": "44241_10",
         "marker": {
          "color": "#FF6692",
          "pattern": {
           "shape": ""
          }
         },
         "name": "44241_10",
         "orientation": "h",
         "showlegend": true,
         "textposition": "auto",
         "type": "bar",
         "x": {
          "bdata": "oLsNAEBUiQCguw0AgE8SAA==",
          "dtype": "i4"
         },
         "xaxis": "x",
         "y": [
          "dep_1",
          "dep_2",
          "dep_3",
          "dep_4"
         ],
         "yaxis": "y"
        },
        {
         "base": [
          "2022-08-09T19:15:00.000000000",
          "2022-08-09T19:30:00.000000000",
          "2022-08-09T22:00:00.000000000",
          "2022-08-10T02:45:00.000000000"
         ],
         "hovertemplate": "Train=44249_10<br>Start=%{base}<br>Finish=%{x}<br>Tâches=%{y}<extra></extra>",
         "legendgroup": "44249_10",
         "marker": {
          "color": "#B6E880",
          "pattern": {
           "shape": ""
          }
         },
         "name": "44249_10",
         "orientation": "h",
         "showlegend": true,
         "textposition": "auto",
         "type": "bar",
         "x": {
          "bdata": "oLsNAEBUiQCguw0AgE8SAA==",
          "dtype": "i4"
         },
         "xaxis": "x",
         "y": [
          "dep_1",
          "dep_2",
          "dep_3",
          "dep_4"
         ],
         "yaxis": "y"
        },
        {
         "base": [
          "2022-08-10T09:45:00.000000000",
          "2022-08-10T10:00:00.000000000",
          "2022-08-10T12:30:00.000000000",
          "2022-08-10T13:45:00.000000000"
         ],
         "hovertemplate": "Train=47205_10<br>Start=%{base}<br>Finish=%{x}<br>Tâches=%{y}<extra></extra>",
         "legendgroup": "47205_10",
         "marker": {
          "color": "#FF97FF",
          "pattern": {
           "shape": ""
          }
         },
         "name": "47205_10",
         "orientation": "h",
         "showlegend": true,
         "textposition": "auto",
         "type": "bar",
         "x": {
          "bdata": "oLsNAEBUiQCguw0AgE8SAA==",
          "dtype": "i4"
         },
         "xaxis": "x",
         "y": [
          "dep_1",
          "dep_2",
          "dep_3",
          "dep_4"
         ],
         "yaxis": "y"
        },
        {
         "base": [
          "2022-08-10T07:45:00.000000000",
          "2022-08-10T08:45:00.000000000",
          "2022-08-10T11:15:00.000000000",
          "2022-08-10T15:45:00.000000000"
         ],
         "hovertemplate": "Train=48215_10<br>Start=%{base}<br>Finish=%{x}<br>Tâches=%{y}<extra></extra>",
         "legendgroup": "48215_10",
         "marker": {
          "color": "#FECB52",
          "pattern": {
           "shape": ""
          }
         },
         "name": "48215_10",
         "orientation": "h",
         "showlegend": true,
         "textposition": "auto",
         "type": "bar",
         "x": {
          "bdata": "oLsNAEBUiQCguw0AgE8SAA==",
          "dtype": "i4"
         },
         "xaxis": "x",
         "y": [
          "dep_1",
          "dep_2",
          "dep_3",
          "dep_4"
         ],
         "yaxis": "y"
        },
        {
         "base": [
          "2022-08-09T16:15:00.000000000",
          "2022-08-09T16:30:00.000000000",
          "2022-08-09T19:00:00.000000000",
          "2022-08-10T01:45:00.000000000"
         ],
         "hovertemplate": "Train=489044_10<br>Start=%{base}<br>Finish=%{x}<br>Tâches=%{y}<extra></extra>",
         "legendgroup": "489044_10",
         "marker": {
          "color": "#636efa",
          "pattern": {
           "shape": ""
          }
         },
         "name": "489044_10",
         "orientation": "h",
         "showlegend": true,
         "textposition": "auto",
         "type": "bar",
         "x": {
          "bdata": "oLsNAEBUiQCguw0AgE8SAA==",
          "dtype": "i4"
         },
         "xaxis": "x",
         "y": [
          "dep_1",
          "dep_2",
          "dep_3",
          "dep_4"
         ],
         "yaxis": "y"
        },
        {
         "base": [
          "2022-08-10T10:45:00.000000000",
          "2022-08-10T11:00:00.000000000",
          "2022-08-10T13:30:00.000000000",
          "2022-08-10T15:45:00.000000000"
         ],
         "hovertemplate": "Train=52672_10<br>Start=%{base}<br>Finish=%{x}<br>Tâches=%{y}<extra></extra>",
         "legendgroup": "52672_10",
         "marker": {
          "color": "#EF553B",
          "pattern": {
           "shape": ""
          }
         },
         "name": "52672_10",
         "orientation": "h",
         "showlegend": true,
         "textposition": "auto",
         "type": "bar",
         "x": {
          "bdata": "oLsNAEBUiQCguw0AgE8SAA==",
          "dtype": "i4"
         },
         "xaxis": "x",
         "y": [
          "dep_1",
          "dep_2",
          "dep_3",
          "dep_4"
         ],
         "yaxis": "y"
        },
        {
         "base": [
          "2022-08-09T21:15:00.000000000",
          "2022-08-09T21:30:00.000000000",
          "2022-08-10T00:00:00.000000000",
          "2022-08-10T03:30:00.000000000"
         ],
         "hovertemplate": "Train=54003_10<br>Start=%{base}<br>Finish=%{x}<br>Tâches=%{y}<extra></extra>",
         "legendgroup": "54003_10",
         "marker": {
          "color": "#00cc96",
          "pattern": {
           "shape": ""
          }
         },
         "name": "54003_10",
         "orientation": "h",
         "showlegend": true,
         "textposition": "auto",
         "type": "bar",
         "x": {
          "bdata": "oLsNAEBUiQCguw0AgE8SAA==",
          "dtype": "i4"
         },
         "xaxis": "x",
         "y": [
          "dep_1",
          "dep_2",
          "dep_3",
          "dep_4"
         ],
         "yaxis": "y"
        },
        {
         "base": [
          "2022-08-10T04:15:00.000000000",
          "2022-08-10T04:30:00.000000000",
          "2022-08-10T07:00:00.000000000",
          "2022-08-10T15:15:00.000000000"
         ],
         "hovertemplate": "Train=54053_10<br>Start=%{base}<br>Finish=%{x}<br>Tâches=%{y}<extra></extra>",
         "legendgroup": "54053_10",
         "marker": {
          "color": "#ab63fa",
          "pattern": {
           "shape": ""
          }
         },
         "name": "54053_10",
         "orientation": "h",
         "showlegend": true,
         "textposition": "auto",
         "type": "bar",
         "x": {
          "bdata": "oLsNAEBUiQCguw0AgE8SAA==",
          "dtype": "i4"
         },
         "xaxis": "x",
         "y": [
          "dep_1",
          "dep_2",
          "dep_3",
          "dep_4"
         ],
         "yaxis": "y"
        },
        {
         "base": [
          "2022-08-10T06:00:00.000000000",
          "2022-08-10T06:15:00.000000000",
          "2022-08-10T08:45:00.000000000",
          "2022-08-10T13:45:00.000000000"
         ],
         "hovertemplate": "Train=54231_10<br>Start=%{base}<br>Finish=%{x}<br>Tâches=%{y}<extra></extra>",
         "legendgroup": "54231_10",
         "marker": {
          "color": "#FFA15A",
          "pattern": {
           "shape": ""
          }
         },
         "name": "54231_10",
         "orientation": "h",
         "showlegend": true,
         "textposition": "auto",
         "type": "bar",
         "x": {
          "bdata": "oLsNAEBUiQCguw0AgE8SAA==",
          "dtype": "i4"
         },
         "xaxis": "x",
         "y": [
          "dep_1",
          "dep_2",
          "dep_3",
          "dep_4"
         ],
         "yaxis": "y"
        },
        {
         "base": [
          "2022-08-10T00:00:00.000000000",
          "2022-08-10T00:15:00.000000000",
          "2022-08-10T02:45:00.000000000",
          "2022-08-10T04:30:00.000000000"
         ],
         "hovertemplate": "Train=71210_10<br>Start=%{base}<br>Finish=%{x}<br>Tâches=%{y}<extra></extra>",
         "legendgroup": "71210_10",
         "marker": {
          "color": "#19d3f3",
          "pattern": {
           "shape": ""
          }
         },
         "name": "71210_10",
         "orientation": "h",
         "showlegend": true,
         "textposition": "auto",
         "type": "bar",
         "x": {
          "bdata": "oLsNAEBUiQCguw0AgE8SAA==",
          "dtype": "i4"
         },
         "xaxis": "x",
         "y": [
          "dep_1",
          "dep_2",
          "dep_3",
          "dep_4"
         ],
         "yaxis": "y"
        },
        {
         "base": [
          "2022-08-11T11:15:00.000000000",
          "2022-08-11T11:30:00.000000000",
          "2022-08-11T14:00:00.000000000",
          "2022-08-11T15:15:00.000000000"
         ],
         "hovertemplate": "Train=400006_11<br>Start=%{base}<br>Finish=%{x}<br>Tâches=%{y}<extra></extra>",
         "legendgroup": "400006_11",
         "marker": {
          "color": "#FF6692",
          "pattern": {
           "shape": ""
          }
         },
         "name": "400006_11",
         "orientation": "h",
         "showlegend": true,
         "textposition": "auto",
         "type": "bar",
         "x": {
          "bdata": "oLsNAEBUiQCguw0AgE8SAA==",
          "dtype": "i4"
         },
         "xaxis": "x",
         "y": [
          "dep_1",
          "dep_2",
          "dep_3",
          "dep_4"
         ],
         "yaxis": "y"
        },
        {
         "base": [
          "2022-08-11T11:00:00.000000000",
          "2022-08-11T11:15:00.000000000",
          "2022-08-11T13:45:00.000000000",
          "2022-08-11T23:15:00.000000000"
         ],
         "hovertemplate": "Train=400010_11<br>Start=%{base}<br>Finish=%{x}<br>Tâches=%{y}<extra></extra>",
         "legendgroup": "400010_11",
         "marker": {
          "color": "#B6E880",
          "pattern": {
           "shape": ""
          }
         },
         "name": "400010_11",
         "orientation": "h",
         "showlegend": true,
         "textposition": "auto",
         "type": "bar",
         "x": {
          "bdata": "oLsNAEBUiQCguw0AgE8SAA==",
          "dtype": "i4"
         },
         "xaxis": "x",
         "y": [
          "dep_1",
          "dep_2",
          "dep_3",
          "dep_4"
         ],
         "yaxis": "y"
        },
        {
         "base": [
          "2022-08-11T19:15:00.000000000",
          "2022-08-11T19:30:00.000000000",
          "2022-08-11T22:00:00.000000000",
          "2022-08-11T22:15:00.000000000"
         ],
         "hovertemplate": "Train=400016_11<br>Start=%{base}<br>Finish=%{x}<br>Tâches=%{y}<extra></extra>",
         "legendgroup": "400016_11",
         "marker": {
          "color": "#FF97FF",
          "pattern": {
           "shape": ""
          }
         },
         "name": "400016_11",
         "orientation": "h",
         "showlegend": true,
         "textposition": "auto",
         "type": "bar",
         "x": {
          "bdata": "oLsNAEBUiQCguw0AgE8SAA==",
          "dtype": "i4"
         },
         "xaxis": "x",
         "y": [
          "dep_1",
          "dep_2",
          "dep_3",
          "dep_4"
         ],
         "yaxis": "y"
        },
        {
         "base": [
          "2022-08-11T10:30:00.000000000",
          "2022-08-11T10:45:00.000000000",
          "2022-08-11T13:15:00.000000000",
          "2022-08-11T14:30:00.000000000"
         ],
         "hovertemplate": "Train=431035_11<br>Start=%{base}<br>Finish=%{x}<br>Tâches=%{y}<extra></extra>",
         "legendgroup": "431035_11",
         "marker": {
          "color": "#FECB52",
          "pattern": {
           "shape": ""
          }
         },
         "name": "431035_11",
         "orientation": "h",
         "showlegend": true,
         "textposition": "auto",
         "type": "bar",
         "x": {
          "bdata": "oLsNAEBUiQCguw0AgE8SAA==",
          "dtype": "i4"
         },
         "xaxis": "x",
         "y": [
          "dep_1",
          "dep_2",
          "dep_3",
          "dep_4"
         ],
         "yaxis": "y"
        },
        {
         "base": [
          "2022-08-11T14:15:00.000000000",
          "2022-08-11T14:45:00.000000000",
          "2022-08-11T17:15:00.000000000",
          "2022-08-11T17:30:00.000000000"
         ],
         "hovertemplate": "Train=44203_11<br>Start=%{base}<br>Finish=%{x}<br>Tâches=%{y}<extra></extra>",
         "legendgroup": "44203_11",
         "marker": {
          "color": "#636efa",
          "pattern": {
           "shape": ""
          }
         },
         "name": "44203_11",
         "orientation": "h",
         "showlegend": true,
         "textposition": "auto",
         "type": "bar",
         "x": {
          "bdata": "oLsNAEBUiQCguw0AgE8SAA==",
          "dtype": "i4"
         },
         "xaxis": "x",
         "y": [
          "dep_1",
          "dep_2",
          "dep_3",
          "dep_4"
         ],
         "yaxis": "y"
        },
        {
         "base": [
          "2022-08-11T03:30:00.000000000",
          "2022-08-11T05:00:00.000000000",
          "2022-08-11T07:30:00.000000000",
          "2022-08-11T13:00:00.000000000"
         ],
         "hovertemplate": "Train=44241_11<br>Start=%{base}<br>Finish=%{x}<br>Tâches=%{y}<extra></extra>",
         "legendgroup": "44241_11",
         "marker": {
          "color": "#EF553B",
          "pattern": {
           "shape": ""
          }
         },
         "name": "44241_11",
         "orientation": "h",
         "showlegend": true,
         "textposition": "auto",
         "type": "bar",
         "x": {
          "bdata": "oLsNAEBUiQCguw0AgE8SAA==",
          "dtype": "i4"
         },
         "xaxis": "x",
         "y": [
          "dep_1",
          "dep_2",
          "dep_3",
          "dep_4"
         ],
         "yaxis": "y"
        },
        {
         "base": [
          "2022-08-10T23:45:00.000000000",
          "2022-08-11T00:30:00.000000000",
          "2022-08-11T03:00:00.000000000",
          "2022-08-11T04:45:00.000000000"
         ],
         "hovertemplate": "Train=44806_11<br>Start=%{base}<br>Finish=%{x}<br>Tâches=%{y}<extra></extra>",
         "legendgroup": "44806_11",
         "marker": {
          "color": "#00cc96",
          "pattern": {
           "shape": ""
          }
         },
         "name": "44806_11",
         "orientation": "h",
         "showlegend": true,
         "textposition": "auto",
         "type": "bar",
         "x": {
          "bdata": "oLsNAEBUiQCguw0AgE8SAA==",
          "dtype": "i4"
         },
         "xaxis": "x",
         "y": [
          "dep_1",
          "dep_2",
          "dep_3",
          "dep_4"
         ],
         "yaxis": "y"
        },
        {
         "base": [
          "2022-08-10T13:00:00.000000000",
          "2022-08-10T15:45:00.000000000",
          "2022-08-10T18:15:00.000000000",
          "2022-08-11T07:00:00.000000000"
         ],
         "hovertemplate": "Train=450226_11<br>Start=%{base}<br>Finish=%{x}<br>Tâches=%{y}<extra></extra>",
         "legendgroup": "450226_11",
         "marker": {
          "color": "#ab63fa",
          "pattern": {
           "shape": ""
          }
         },
         "name": "450226_11",
         "orientation": "h",
         "showlegend": true,
         "textposition": "auto",
         "type": "bar",
         "x": {
          "bdata": "oLsNAEBUiQCguw0AgE8SAA==",
          "dtype": "i4"
         },
         "xaxis": "x",
         "y": [
          "dep_1",
          "dep_2",
          "dep_3",
          "dep_4"
         ],
         "yaxis": "y"
        },
        {
         "base": [
          "2022-08-11T00:00:00.000000000",
          "2022-08-11T00:15:00.000000000",
          "2022-08-11T02:45:00.000000000",
          "2022-08-11T14:15:00.000000000"
         ],
         "hovertemplate": "Train=47245_11<br>Start=%{base}<br>Finish=%{x}<br>Tâches=%{y}<extra></extra>",
         "legendgroup": "47245_11",
         "marker": {
          "color": "#FFA15A",
          "pattern": {
           "shape": ""
          }
         },
         "name": "47245_11",
         "orientation": "h",
         "showlegend": true,
         "textposition": "auto",
         "type": "bar",
         "x": {
          "bdata": "oLsNAEBUiQCguw0AgE8SAA==",
          "dtype": "i4"
         },
         "xaxis": "x",
         "y": [
          "dep_1",
          "dep_2",
          "dep_3",
          "dep_4"
         ],
         "yaxis": "y"
        },
        {
         "base": [
          "2022-08-11T03:15:00.000000000",
          "2022-08-11T04:00:00.000000000",
          "2022-08-11T06:30:00.000000000",
          "2022-08-11T10:30:00.000000000"
         ],
         "hovertemplate": "Train=47247_11<br>Start=%{base}<br>Finish=%{x}<br>Tâches=%{y}<extra></extra>",
         "legendgroup": "47247_11",
         "marker": {
          "color": "#19d3f3",
          "pattern": {
           "shape": ""
          }
         },
         "name": "47247_11",
         "orientation": "h",
         "showlegend": true,
         "textposition": "auto",
         "type": "bar",
         "x": {
          "bdata": "oLsNAEBUiQCguw0AgE8SAA==",
          "dtype": "i4"
         },
         "xaxis": "x",
         "y": [
          "dep_1",
          "dep_2",
          "dep_3",
          "dep_4"
         ],
         "yaxis": "y"
        },
        {
         "base": [
          "2022-08-11T19:00:00.000000000",
          "2022-08-11T19:15:00.000000000",
          "2022-08-11T21:45:00.000000000",
          "2022-08-11T22:00:00.000000000"
         ],
         "hovertemplate": "Train=47820_11<br>Start=%{base}<br>Finish=%{x}<br>Tâches=%{y}<extra></extra>",
         "legendgroup": "47820_11",
         "marker": {
          "color": "#FF6692",
          "pattern": {
           "shape": ""
          }
         },
         "name": "47820_11",
         "orientation": "h",
         "showlegend": true,
         "textposition": "auto",
         "type": "bar",
         "x": {
          "bdata": "oLsNAEBUiQCguw0AgE8SAA==",
          "dtype": "i4"
         },
         "xaxis": "x",
         "y": [
          "dep_1",
          "dep_2",
          "dep_3",
          "dep_4"
         ],
         "yaxis": "y"
        },
        {
         "base": [
          "2022-08-11T07:45:00.000000000",
          "2022-08-11T08:00:00.000000000",
          "2022-08-11T10:30:00.000000000",
          "2022-08-11T14:45:00.000000000"
         ],
         "hovertemplate": "Train=489118_11<br>Start=%{base}<br>Finish=%{x}<br>Tâches=%{y}<extra></extra>",
         "legendgroup": "489118_11",
         "marker": {
          "color": "#B6E880",
          "pattern": {
           "shape": ""
          }
         },
         "name": "489118_11",
         "orientation": "h",
         "showlegend": true,
         "textposition": "auto",
         "type": "bar",
         "x": {
          "bdata": "oLsNAEBUiQCguw0AgE8SAA==",
          "dtype": "i4"
         },
         "xaxis": "x",
         "y": [
          "dep_1",
          "dep_2",
          "dep_3",
          "dep_4"
         ],
         "yaxis": "y"
        },
        {
         "base": [
          "2022-08-11T07:15:00.000000000",
          "2022-08-11T07:30:00.000000000",
          "2022-08-11T10:00:00.000000000",
          "2022-08-11T15:45:00.000000000"
         ],
         "hovertemplate": "Train=52672_11<br>Start=%{base}<br>Finish=%{x}<br>Tâches=%{y}<extra></extra>",
         "legendgroup": "52672_11",
         "marker": {
          "color": "#FF97FF",
          "pattern": {
           "shape": ""
          }
         },
         "name": "52672_11",
         "orientation": "h",
         "showlegend": true,
         "textposition": "auto",
         "type": "bar",
         "x": {
          "bdata": "oLsNAEBUiQCguw0AgE8SAA==",
          "dtype": "i4"
         },
         "xaxis": "x",
         "y": [
          "dep_1",
          "dep_2",
          "dep_3",
          "dep_4"
         ],
         "yaxis": "y"
        },
        {
         "base": [
          "2022-08-10T22:45:00.000000000",
          "2022-08-10T23:00:00.000000000",
          "2022-08-11T01:30:00.000000000",
          "2022-08-11T03:30:00.000000000"
         ],
         "hovertemplate": "Train=54003_11<br>Start=%{base}<br>Finish=%{x}<br>Tâches=%{y}<extra></extra>",
         "legendgroup": "54003_11",
         "marker": {
          "color": "#FECB52",
          "pattern": {
           "shape": ""
          }
         },
         "name": "54003_11",
         "orientation": "h",
         "showlegend": true,
         "textposition": "auto",
         "type": "bar",
         "x": {
          "bdata": "oLsNAEBUiQCguw0AgE8SAA==",
          "dtype": "i4"
         },
         "xaxis": "x",
         "y": [
          "dep_1",
          "dep_2",
          "dep_3",
          "dep_4"
         ],
         "yaxis": "y"
        },
        {
         "base": [
          "2022-08-11T02:00:00.000000000",
          "2022-08-11T02:15:00.000000000",
          "2022-08-11T04:45:00.000000000",
          "2022-08-11T05:00:00.000000000"
         ],
         "hovertemplate": "Train=54051_11<br>Start=%{base}<br>Finish=%{x}<br>Tâches=%{y}<extra></extra>",
         "legendgroup": "54051_11",
         "marker": {
          "color": "#636efa",
          "pattern": {
           "shape": ""
          }
         },
         "name": "54051_11",
         "orientation": "h",
         "showlegend": true,
         "textposition": "auto",
         "type": "bar",
         "x": {
          "bdata": "oLsNAEBUiQCguw0AgE8SAA==",
          "dtype": "i4"
         },
         "xaxis": "x",
         "y": [
          "dep_1",
          "dep_2",
          "dep_3",
          "dep_4"
         ],
         "yaxis": "y"
        },
        {
         "base": [
          "2022-08-10T15:00:00.000000000",
          "2022-08-10T15:15:00.000000000",
          "2022-08-10T17:45:00.000000000",
          "2022-08-11T03:30:00.000000000"
         ],
         "hovertemplate": "Train=54086_11<br>Start=%{base}<br>Finish=%{x}<br>Tâches=%{y}<extra></extra>",
         "legendgroup": "54086_11",
         "marker": {
          "color": "#EF553B",
          "pattern": {
           "shape": ""
          }
         },
         "name": "54086_11",
         "orientation": "h",
         "showlegend": true,
         "textposition": "auto",
         "type": "bar",
         "x": {
          "bdata": "oLsNAEBUiQCguw0AgE8SAA==",
          "dtype": "i4"
         },
         "xaxis": "x",
         "y": [
          "dep_1",
          "dep_2",
          "dep_3",
          "dep_4"
         ],
         "yaxis": "y"
        },
        {
         "base": [
          "2022-08-11T08:00:00.000000000",
          "2022-08-11T08:15:00.000000000",
          "2022-08-11T10:45:00.000000000",
          "2022-08-11T13:45:00.000000000"
         ],
         "hovertemplate": "Train=54231_11<br>Start=%{base}<br>Finish=%{x}<br>Tâches=%{y}<extra></extra>",
         "legendgroup": "54231_11",
         "marker": {
          "color": "#00cc96",
          "pattern": {
           "shape": ""
          }
         },
         "name": "54231_11",
         "orientation": "h",
         "showlegend": true,
         "textposition": "auto",
         "type": "bar",
         "x": {
          "bdata": "oLsNAEBUiQCguw0AgE8SAA==",
          "dtype": "i4"
         },
         "xaxis": "x",
         "y": [
          "dep_1",
          "dep_2",
          "dep_3",
          "dep_4"
         ],
         "yaxis": "y"
        },
        {
         "base": [
          "2022-08-10T14:00:00.000000000",
          "2022-08-10T14:15:00.000000000",
          "2022-08-10T16:45:00.000000000",
          "2022-08-11T02:00:00.000000000"
         ],
         "hovertemplate": "Train=71256_11<br>Start=%{base}<br>Finish=%{x}<br>Tâches=%{y}<extra></extra>",
         "legendgroup": "71256_11",
         "marker": {
          "color": "#ab63fa",
          "pattern": {
           "shape": ""
          }
         },
         "name": "71256_11",
         "orientation": "h",
         "showlegend": true,
         "textposition": "auto",
         "type": "bar",
         "x": {
          "bdata": "oLsNAEBUiQCguw0AgE8SAA==",
          "dtype": "i4"
         },
         "xaxis": "x",
         "y": [
          "dep_1",
          "dep_2",
          "dep_3",
          "dep_4"
         ],
         "yaxis": "y"
        },
        {
         "base": [
          "2022-08-12T19:45:00.000000000",
          "2022-08-12T20:00:00.000000000",
          "2022-08-12T22:30:00.000000000",
          "2022-08-12T23:15:00.000000000"
         ],
         "hovertemplate": "Train=400010_12<br>Start=%{base}<br>Finish=%{x}<br>Tâches=%{y}<extra></extra>",
         "legendgroup": "400010_12",
         "marker": {
          "color": "#FFA15A",
          "pattern": {
           "shape": ""
          }
         },
         "name": "400010_12",
         "orientation": "h",
         "showlegend": true,
         "textposition": "auto",
         "type": "bar",
         "x": {
          "bdata": "oLsNAEBUiQCguw0AgE8SAA==",
          "dtype": "i4"
         },
         "xaxis": "x",
         "y": [
          "dep_1",
          "dep_2",
          "dep_3",
          "dep_4"
         ],
         "yaxis": "y"
        },
        {
         "base": [
          "2022-08-12T17:30:00.000000000",
          "2022-08-12T17:45:00.000000000",
          "2022-08-12T20:15:00.000000000",
          "2022-08-12T22:15:00.000000000"
         ],
         "hovertemplate": "Train=400016_12<br>Start=%{base}<br>Finish=%{x}<br>Tâches=%{y}<extra></extra>",
         "legendgroup": "400016_12",
         "marker": {
          "color": "#19d3f3",
          "pattern": {
           "shape": ""
          }
         },
         "name": "400016_12",
         "orientation": "h",
         "showlegend": true,
         "textposition": "auto",
         "type": "bar",
         "x": {
          "bdata": "oLsNAEBUiQCguw0AgE8SAA==",
          "dtype": "i4"
         },
         "xaxis": "x",
         "y": [
          "dep_1",
          "dep_2",
          "dep_3",
          "dep_4"
         ],
         "yaxis": "y"
        },
        {
         "base": [
          "2022-08-11T23:30:00.000000000",
          "2022-08-11T23:45:00.000000000",
          "2022-08-12T02:15:00.000000000",
          "2022-08-12T04:00:00.000000000"
         ],
         "hovertemplate": "Train=412024_12<br>Start=%{base}<br>Finish=%{x}<br>Tâches=%{y}<extra></extra>",
         "legendgroup": "412024_12",
         "marker": {
          "color": "#FF6692",
          "pattern": {
           "shape": ""
          }
         },
         "name": "412024_12",
         "orientation": "h",
         "showlegend": true,
         "textposition": "auto",
         "type": "bar",
         "x": {
          "bdata": "oLsNAEBUiQCguw0AgE8SAA==",
          "dtype": "i4"
         },
         "xaxis": "x",
         "y": [
          "dep_1",
          "dep_2",
          "dep_3",
          "dep_4"
         ],
         "yaxis": "y"
        },
        {
         "base": [
          "2022-08-11T16:00:00.000000000",
          "2022-08-11T16:15:00.000000000",
          "2022-08-11T18:45:00.000000000",
          "2022-08-12T02:15:00.000000000"
         ],
         "hovertemplate": "Train=41258_12<br>Start=%{base}<br>Finish=%{x}<br>Tâches=%{y}<extra></extra>",
         "legendgroup": "41258_12",
         "marker": {
          "color": "#B6E880",
          "pattern": {
           "shape": ""
          }
         },
         "name": "41258_12",
         "orientation": "h",
         "showlegend": true,
         "textposition": "auto",
         "type": "bar",
         "x": {
          "bdata": "oLsNAEBUiQCguw0AgE8SAA==",
          "dtype": "i4"
         },
         "xaxis": "x",
         "y": [
          "dep_1",
          "dep_2",
          "dep_3",
          "dep_4"
         ],
         "yaxis": "y"
        },
        {
         "base": [
          "2022-08-12T02:45:00.000000000",
          "2022-08-12T05:00:00.000000000",
          "2022-08-12T07:30:00.000000000",
          "2022-08-12T14:30:00.000000000"
         ],
         "hovertemplate": "Train=431035_12<br>Start=%{base}<br>Finish=%{x}<br>Tâches=%{y}<extra></extra>",
         "legendgroup": "431035_12",
         "marker": {
          "color": "#FF97FF",
          "pattern": {
           "shape": ""
          }
         },
         "name": "431035_12",
         "orientation": "h",
         "showlegend": true,
         "textposition": "auto",
         "type": "bar",
         "x": {
          "bdata": "oLsNAEBUiQCguw0AgE8SAA==",
          "dtype": "i4"
         },
         "xaxis": "x",
         "y": [
          "dep_1",
          "dep_2",
          "dep_3",
          "dep_4"
         ],
         "yaxis": "y"
        },
        {
         "base": [
          "2022-08-12T04:30:00.000000000",
          "2022-08-12T04:45:00.000000000",
          "2022-08-12T07:15:00.000000000",
          "2022-08-12T13:00:00.000000000"
         ],
         "hovertemplate": "Train=44241_12<br>Start=%{base}<br>Finish=%{x}<br>Tâches=%{y}<extra></extra>",
         "legendgroup": "44241_12",
         "marker": {
          "color": "#FECB52",
          "pattern": {
           "shape": ""
          }
         },
         "name": "44241_12",
         "orientation": "h",
         "showlegend": true,
         "textposition": "auto",
         "type": "bar",
         "x": {
          "bdata": "oLsNAEBUiQCguw0AgE8SAA==",
          "dtype": "i4"
         },
         "xaxis": "x",
         "y": [
          "dep_1",
          "dep_2",
          "dep_3",
          "dep_4"
         ],
         "yaxis": "y"
        },
        {
         "base": [
          "2022-08-11T20:15:00.000000000",
          "2022-08-11T20:30:00.000000000",
          "2022-08-11T23:00:00.000000000",
          "2022-08-12T02:45:00.000000000"
         ],
         "hovertemplate": "Train=44249_12<br>Start=%{base}<br>Finish=%{x}<br>Tâches=%{y}<extra></extra>",
         "legendgroup": "44249_12",
         "marker": {
          "color": "#636efa",
          "pattern": {
           "shape": ""
          }
         },
         "name": "44249_12",
         "orientation": "h",
         "showlegend": true,
         "textposition": "auto",
         "type": "bar",
         "x": {
          "bdata": "oLsNAEBUiQCguw0AgE8SAA==",
          "dtype": "i4"
         },
         "xaxis": "x",
         "y": [
          "dep_1",
          "dep_2",
          "dep_3",
          "dep_4"
         ],
         "yaxis": "y"
        },
        {
         "base": [
          "2022-08-12T16:00:00.000000000",
          "2022-08-12T16:15:00.000000000",
          "2022-08-12T18:45:00.000000000",
          "2022-08-12T20:30:00.000000000"
         ],
         "hovertemplate": "Train=44952_12<br>Start=%{base}<br>Finish=%{x}<br>Tâches=%{y}<extra></extra>",
         "legendgroup": "44952_12",
         "marker": {
          "color": "#EF553B",
          "pattern": {
           "shape": ""
          }
         },
         "name": "44952_12",
         "orientation": "h",
         "showlegend": true,
         "textposition": "auto",
         "type": "bar",
         "x": {
          "bdata": "oLsNAEBUiQCguw0AgE8SAA==",
          "dtype": "i4"
         },
         "xaxis": "x",
         "y": [
          "dep_1",
          "dep_2",
          "dep_3",
          "dep_4"
         ],
         "yaxis": "y"
        },
        {
         "base": [
          "2022-08-12T13:45:00.000000000",
          "2022-08-12T14:15:00.000000000",
          "2022-08-12T16:45:00.000000000",
          "2022-08-12T18:45:00.000000000"
         ],
         "hovertemplate": "Train=47205_12<br>Start=%{base}<br>Finish=%{x}<br>Tâches=%{y}<extra></extra>",
         "legendgroup": "47205_12",
         "marker": {
          "color": "#00cc96",
          "pattern": {
           "shape": ""
          }
         },
         "name": "47205_12",
         "orientation": "h",
         "showlegend": true,
         "textposition": "auto",
         "type": "bar",
         "x": {
          "bdata": "oLsNAEBUiQCguw0AgE8SAA==",
          "dtype": "i4"
         },
         "xaxis": "x",
         "y": [
          "dep_1",
          "dep_2",
          "dep_3",
          "dep_4"
         ],
         "yaxis": "y"
        },
        {
         "base": [
          "2022-08-11T23:00:00.000000000",
          "2022-08-11T23:15:00.000000000",
          "2022-08-12T01:45:00.000000000",
          "2022-08-12T02:00:00.000000000"
         ],
         "hovertemplate": "Train=48219_12<br>Start=%{base}<br>Finish=%{x}<br>Tâches=%{y}<extra></extra>",
         "legendgroup": "48219_12",
         "marker": {
          "color": "#ab63fa",
          "pattern": {
           "shape": ""
          }
         },
         "name": "48219_12",
         "orientation": "h",
         "showlegend": true,
         "textposition": "auto",
         "type": "bar",
         "x": {
          "bdata": "oLsNAEBUiQCguw0AgE8SAA==",
          "dtype": "i4"
         },
         "xaxis": "x",
         "y": [
          "dep_1",
          "dep_2",
          "dep_3",
          "dep_4"
         ],
         "yaxis": "y"
        },
        {
         "base": [
          "2022-08-12T02:15:00.000000000",
          "2022-08-12T02:30:00.000000000",
          "2022-08-12T05:00:00.000000000",
          "2022-08-12T05:45:00.000000000"
         ],
         "hovertemplate": "Train=489447_12<br>Start=%{base}<br>Finish=%{x}<br>Tâches=%{y}<extra></extra>",
         "legendgroup": "489447_12",
         "marker": {
          "color": "#FFA15A",
          "pattern": {
           "shape": ""
          }
         },
         "name": "489447_12",
         "orientation": "h",
         "showlegend": true,
         "textposition": "auto",
         "type": "bar",
         "x": {
          "bdata": "oLsNAEBUiQCguw0AgE8SAA==",
          "dtype": "i4"
         },
         "xaxis": "x",
         "y": [
          "dep_1",
          "dep_2",
          "dep_3",
          "dep_4"
         ],
         "yaxis": "y"
        },
        {
         "base": [
          "2022-08-12T09:00:00.000000000",
          "2022-08-12T10:45:00.000000000",
          "2022-08-12T13:15:00.000000000",
          "2022-08-12T15:45:00.000000000"
         ],
         "hovertemplate": "Train=52672_12<br>Start=%{base}<br>Finish=%{x}<br>Tâches=%{y}<extra></extra>",
         "legendgroup": "52672_12",
         "marker": {
          "color": "#19d3f3",
          "pattern": {
           "shape": ""
          }
         },
         "name": "52672_12",
         "orientation": "h",
         "showlegend": true,
         "textposition": "auto",
         "type": "bar",
         "x": {
          "bdata": "oLsNAEBUiQCguw0AgE8SAA==",
          "dtype": "i4"
         },
         "xaxis": "x",
         "y": [
          "dep_1",
          "dep_2",
          "dep_3",
          "dep_4"
         ],
         "yaxis": "y"
        },
        {
         "base": [
          "2022-08-11T23:45:00.000000000",
          "2022-08-12T00:00:00.000000000",
          "2022-08-12T02:30:00.000000000",
          "2022-08-12T03:30:00.000000000"
         ],
         "hovertemplate": "Train=54003_12<br>Start=%{base}<br>Finish=%{x}<br>Tâches=%{y}<extra></extra>",
         "legendgroup": "54003_12",
         "marker": {
          "color": "#FF6692",
          "pattern": {
           "shape": ""
          }
         },
         "name": "54003_12",
         "orientation": "h",
         "showlegend": true,
         "textposition": "auto",
         "type": "bar",
         "x": {
          "bdata": "oLsNAEBUiQCguw0AgE8SAA==",
          "dtype": "i4"
         },
         "xaxis": "x",
         "y": [
          "dep_1",
          "dep_2",
          "dep_3",
          "dep_4"
         ],
         "yaxis": "y"
        },
        {
         "base": [
          "2022-08-12T05:45:00.000000000",
          "2022-08-12T08:00:00.000000000",
          "2022-08-12T10:30:00.000000000",
          "2022-08-12T15:15:00.000000000"
         ],
         "hovertemplate": "Train=54053_12<br>Start=%{base}<br>Finish=%{x}<br>Tâches=%{y}<extra></extra>",
         "legendgroup": "54053_12",
         "marker": {
          "color": "#B6E880",
          "pattern": {
           "shape": ""
          }
         },
         "name": "54053_12",
         "orientation": "h",
         "showlegend": true,
         "textposition": "auto",
         "type": "bar",
         "x": {
          "bdata": "oLsNAEBUiQCguw0AgE8SAA==",
          "dtype": "i4"
         },
         "xaxis": "x",
         "y": [
          "dep_1",
          "dep_2",
          "dep_3",
          "dep_4"
         ],
         "yaxis": "y"
        },
        {
         "base": [
          "2022-08-11T17:00:00.000000000",
          "2022-08-11T17:15:00.000000000",
          "2022-08-11T19:45:00.000000000",
          "2022-08-12T03:30:00.000000000"
         ],
         "hovertemplate": "Train=54086_12<br>Start=%{base}<br>Finish=%{x}<br>Tâches=%{y}<extra></extra>",
         "legendgroup": "54086_12",
         "marker": {
          "color": "#FF97FF",
          "pattern": {
           "shape": ""
          }
         },
         "name": "54086_12",
         "orientation": "h",
         "showlegend": true,
         "textposition": "auto",
         "type": "bar",
         "x": {
          "bdata": "oLsNAEBUiQCguw0AgE8SAA==",
          "dtype": "i4"
         },
         "xaxis": "x",
         "y": [
          "dep_1",
          "dep_2",
          "dep_3",
          "dep_4"
         ],
         "yaxis": "y"
        },
        {
         "base": [
          "2022-08-12T07:45:00.000000000",
          "2022-08-12T10:30:00.000000000",
          "2022-08-12T13:00:00.000000000",
          "2022-08-12T13:45:00.000000000"
         ],
         "hovertemplate": "Train=54231_12<br>Start=%{base}<br>Finish=%{x}<br>Tâches=%{y}<extra></extra>",
         "legendgroup": "54231_12",
         "marker": {
          "color": "#FECB52",
          "pattern": {
           "shape": ""
          }
         },
         "name": "54231_12",
         "orientation": "h",
         "showlegend": true,
         "textposition": "auto",
         "type": "bar",
         "x": {
          "bdata": "oLsNAEBUiQCguw0AgE8SAA==",
          "dtype": "i4"
         },
         "xaxis": "x",
         "y": [
          "dep_1",
          "dep_2",
          "dep_3",
          "dep_4"
         ],
         "yaxis": "y"
        },
        {
         "base": [
          "2022-08-12T17:15:00.000000000",
          "2022-08-12T17:30:00.000000000",
          "2022-08-12T20:00:00.000000000",
          "2022-08-12T23:00:00.000000000"
         ],
         "hovertemplate": "Train=71217_12<br>Start=%{base}<br>Finish=%{x}<br>Tâches=%{y}<extra></extra>",
         "legendgroup": "71217_12",
         "marker": {
          "color": "#636efa",
          "pattern": {
           "shape": ""
          }
         },
         "name": "71217_12",
         "orientation": "h",
         "showlegend": true,
         "textposition": "auto",
         "type": "bar",
         "x": {
          "bdata": "oLsNAEBUiQCguw0AgE8SAA==",
          "dtype": "i4"
         },
         "xaxis": "x",
         "y": [
          "dep_1",
          "dep_2",
          "dep_3",
          "dep_4"
         ],
         "yaxis": "y"
        },
        {
         "base": [
          "2022-08-12T23:00:00.000000000",
          "2022-08-12T23:15:00.000000000",
          "2022-08-13T01:45:00.000000000",
          "2022-08-13T02:15:00.000000000"
         ],
         "hovertemplate": "Train=41258_13<br>Start=%{base}<br>Finish=%{x}<br>Tâches=%{y}<extra></extra>",
         "legendgroup": "41258_13",
         "marker": {
          "color": "#EF553B",
          "pattern": {
           "shape": ""
          }
         },
         "name": "41258_13",
         "orientation": "h",
         "showlegend": true,
         "textposition": "auto",
         "type": "bar",
         "x": {
          "bdata": "oLsNAEBUiQCguw0AgE8SAA==",
          "dtype": "i4"
         },
         "xaxis": "x",
         "y": [
          "dep_1",
          "dep_2",
          "dep_3",
          "dep_4"
         ],
         "yaxis": "y"
        },
        {
         "base": [
          "2022-08-12T13:30:00.000000000",
          "2022-08-12T13:45:00.000000000",
          "2022-08-12T16:15:00.000000000",
          "2022-08-13T05:45:00.000000000"
         ],
         "hovertemplate": "Train=431091_13<br>Start=%{base}<br>Finish=%{x}<br>Tâches=%{y}<extra></extra>",
         "legendgroup": "431091_13",
         "marker": {
          "color": "#00cc96",
          "pattern": {
           "shape": ""
          }
         },
         "name": "431091_13",
         "orientation": "h",
         "showlegend": true,
         "textposition": "auto",
         "type": "bar",
         "x": {
          "bdata": "oLsNAEBUiQCguw0AgE8SAA==",
          "dtype": "i4"
         },
         "xaxis": "x",
         "y": [
          "dep_1",
          "dep_2",
          "dep_3",
          "dep_4"
         ],
         "yaxis": "y"
        },
        {
         "base": [
          "2022-08-13T08:15:00.000000000",
          "2022-08-13T08:30:00.000000000",
          "2022-08-13T11:00:00.000000000",
          "2022-08-13T13:00:00.000000000"
         ],
         "hovertemplate": "Train=44241_13<br>Start=%{base}<br>Finish=%{x}<br>Tâches=%{y}<extra></extra>",
         "legendgroup": "44241_13",
         "marker": {
          "color": "#ab63fa",
          "pattern": {
           "shape": ""
          }
         },
         "name": "44241_13",
         "orientation": "h",
         "showlegend": true,
         "textposition": "auto",
         "type": "bar",
         "x": {
          "bdata": "oLsNAEBUiQCguw0AgE8SAA==",
          "dtype": "i4"
         },
         "xaxis": "x",
         "y": [
          "dep_1",
          "dep_2",
          "dep_3",
          "dep_4"
         ],
         "yaxis": "y"
        },
        {
         "base": [
          "2022-08-13T00:15:00.000000000",
          "2022-08-13T00:30:00.000000000",
          "2022-08-13T03:00:00.000000000",
          "2022-08-13T04:00:00.000000000"
         ],
         "hovertemplate": "Train=44806_13<br>Start=%{base}<br>Finish=%{x}<br>Tâches=%{y}<extra></extra>",
         "legendgroup": "44806_13",
         "marker": {
          "color": "#FFA15A",
          "pattern": {
           "shape": ""
          }
         },
         "name": "44806_13",
         "orientation": "h",
         "showlegend": true,
         "textposition": "auto",
         "type": "bar",
         "x": {
          "bdata": "oLsNAEBUiQCguw0AgE8SAA==",
          "dtype": "i4"
         },
         "xaxis": "x",
         "y": [
          "dep_1",
          "dep_2",
          "dep_3",
          "dep_4"
         ],
         "yaxis": "y"
        },
        {
         "base": [
          "2022-08-13T05:00:00.000000000",
          "2022-08-13T05:15:00.000000000",
          "2022-08-13T07:45:00.000000000",
          "2022-08-13T09:15:00.000000000"
         ],
         "hovertemplate": "Train=450224_13<br>Start=%{base}<br>Finish=%{x}<br>Tâches=%{y}<extra></extra>",
         "legendgroup": "450224_13",
         "marker": {
          "color": "#19d3f3",
          "pattern": {
           "shape": ""
          }
         },
         "name": "450224_13",
         "orientation": "h",
         "showlegend": true,
         "textposition": "auto",
         "type": "bar",
         "x": {
          "bdata": "oLsNAEBUiQCguw0AgE8SAA==",
          "dtype": "i4"
         },
         "xaxis": "x",
         "y": [
          "dep_1",
          "dep_2",
          "dep_3",
          "dep_4"
         ],
         "yaxis": "y"
        },
        {
         "base": [
          "2022-08-13T05:30:00.000000000",
          "2022-08-13T05:45:00.000000000",
          "2022-08-13T08:15:00.000000000",
          "2022-08-13T10:30:00.000000000"
         ],
         "hovertemplate": "Train=47237_13<br>Start=%{base}<br>Finish=%{x}<br>Tâches=%{y}<extra></extra>",
         "legendgroup": "47237_13",
         "marker": {
          "color": "#FF6692",
          "pattern": {
           "shape": ""
          }
         },
         "name": "47237_13",
         "orientation": "h",
         "showlegend": true,
         "textposition": "auto",
         "type": "bar",
         "x": {
          "bdata": "oLsNAEBUiQCguw0AgE8SAA==",
          "dtype": "i4"
         },
         "xaxis": "x",
         "y": [
          "dep_1",
          "dep_2",
          "dep_3",
          "dep_4"
         ],
         "yaxis": "y"
        },
        {
         "base": [
          "2022-08-13T06:45:00.000000000",
          "2022-08-13T07:00:00.000000000",
          "2022-08-13T09:30:00.000000000",
          "2022-08-13T18:00:00.000000000"
         ],
         "hovertemplate": "Train=47281_13<br>Start=%{base}<br>Finish=%{x}<br>Tâches=%{y}<extra></extra>",
         "legendgroup": "47281_13",
         "marker": {
          "color": "#B6E880",
          "pattern": {
           "shape": ""
          }
         },
         "name": "47281_13",
         "orientation": "h",
         "showlegend": true,
         "textposition": "auto",
         "type": "bar",
         "x": {
          "bdata": "oLsNAEBUiQCguw0AgE8SAA==",
          "dtype": "i4"
         },
         "xaxis": "x",
         "y": [
          "dep_1",
          "dep_2",
          "dep_3",
          "dep_4"
         ],
         "yaxis": "y"
        },
        {
         "base": [
          "2022-08-12T20:30:00.000000000",
          "2022-08-12T20:45:00.000000000",
          "2022-08-12T23:15:00.000000000",
          "2022-08-13T01:45:00.000000000"
         ],
         "hovertemplate": "Train=489044_13<br>Start=%{base}<br>Finish=%{x}<br>Tâches=%{y}<extra></extra>",
         "legendgroup": "489044_13",
         "marker": {
          "color": "#FF97FF",
          "pattern": {
           "shape": ""
          }
         },
         "name": "489044_13",
         "orientation": "h",
         "showlegend": true,
         "textposition": "auto",
         "type": "bar",
         "x": {
          "bdata": "oLsNAEBUiQCguw0AgE8SAA==",
          "dtype": "i4"
         },
         "xaxis": "x",
         "y": [
          "dep_1",
          "dep_2",
          "dep_3",
          "dep_4"
         ],
         "yaxis": "y"
        },
        {
         "base": [
          "2022-08-13T03:30:00.000000000",
          "2022-08-13T03:45:00.000000000",
          "2022-08-13T06:15:00.000000000",
          "2022-08-13T14:30:00.000000000"
         ],
         "hovertemplate": "Train=489119_13<br>Start=%{base}<br>Finish=%{x}<br>Tâches=%{y}<extra></extra>",
         "legendgroup": "489119_13",
         "marker": {
          "color": "#FECB52",
          "pattern": {
           "shape": ""
          }
         },
         "name": "489119_13",
         "orientation": "h",
         "showlegend": true,
         "textposition": "auto",
         "type": "bar",
         "x": {
          "bdata": "oLsNAEBUiQCguw0AgE8SAA==",
          "dtype": "i4"
         },
         "xaxis": "x",
         "y": [
          "dep_1",
          "dep_2",
          "dep_3",
          "dep_4"
         ],
         "yaxis": "y"
        },
        {
         "base": [
          "2022-08-13T01:15:00.000000000",
          "2022-08-13T01:30:00.000000000",
          "2022-08-13T04:00:00.000000000",
          "2022-08-13T05:45:00.000000000"
         ],
         "hovertemplate": "Train=489447_13<br>Start=%{base}<br>Finish=%{x}<br>Tâches=%{y}<extra></extra>",
         "legendgroup": "489447_13",
         "marker": {
          "color": "#636efa",
          "pattern": {
           "shape": ""
          }
         },
         "name": "489447_13",
         "orientation": "h",
         "showlegend": true,
         "textposition": "auto",
         "type": "bar",
         "x": {
          "bdata": "oLsNAEBUiQCguw0AgE8SAA==",
          "dtype": "i4"
         },
         "xaxis": "x",
         "y": [
          "dep_1",
          "dep_2",
          "dep_3",
          "dep_4"
         ],
         "yaxis": "y"
        },
        {
         "base": [
          "2022-08-13T02:15:00.000000000",
          "2022-08-13T02:30:00.000000000",
          "2022-08-13T05:00:00.000000000",
          "2022-08-13T05:15:00.000000000"
         ],
         "hovertemplate": "Train=54051_13<br>Start=%{base}<br>Finish=%{x}<br>Tâches=%{y}<extra></extra>",
         "legendgroup": "54051_13",
         "marker": {
          "color": "#EF553B",
          "pattern": {
           "shape": ""
          }
         },
         "name": "54051_13",
         "orientation": "h",
         "showlegend": true,
         "textposition": "auto",
         "type": "bar",
         "x": {
          "bdata": "oLsNAEBUiQCguw0AgE8SAA==",
          "dtype": "i4"
         },
         "xaxis": "x",
         "y": [
          "dep_1",
          "dep_2",
          "dep_3",
          "dep_4"
         ],
         "yaxis": "y"
        },
        {
         "base": [
          "2022-08-12T12:45:00.000000000",
          "2022-08-12T13:00:00.000000000",
          "2022-08-12T15:30:00.000000000",
          "2022-08-13T03:30:00.000000000"
         ],
         "hovertemplate": "Train=54086_13<br>Start=%{base}<br>Finish=%{x}<br>Tâches=%{y}<extra></extra>",
         "legendgroup": "54086_13",
         "marker": {
          "color": "#00cc96",
          "pattern": {
           "shape": ""
          }
         },
         "name": "54086_13",
         "orientation": "h",
         "showlegend": true,
         "textposition": "auto",
         "type": "bar",
         "x": {
          "bdata": "oLsNAEBUiQCguw0AgE8SAA==",
          "dtype": "i4"
         },
         "xaxis": "x",
         "y": [
          "dep_1",
          "dep_2",
          "dep_3",
          "dep_4"
         ],
         "yaxis": "y"
        },
        {
         "base": [
          "2022-08-14T05:15:00.000000000",
          "2022-08-14T05:30:00.000000000",
          "2022-08-14T08:00:00.000000000",
          "2022-08-14T17:15:00.000000000"
         ],
         "hovertemplate": "Train=431037_14<br>Start=%{base}<br>Finish=%{x}<br>Tâches=%{y}<extra></extra>",
         "legendgroup": "431037_14",
         "marker": {
          "color": "#ab63fa",
          "pattern": {
           "shape": ""
          }
         },
         "name": "431037_14",
         "orientation": "h",
         "showlegend": true,
         "textposition": "auto",
         "type": "bar",
         "x": {
          "bdata": "oLsNAEBUiQCguw0AgE8SAA==",
          "dtype": "i4"
         },
         "xaxis": "x",
         "y": [
          "dep_1",
          "dep_2",
          "dep_3",
          "dep_4"
         ],
         "yaxis": "y"
        },
        {
         "base": [
          "2022-08-14T09:45:00.000000000",
          "2022-08-14T10:00:00.000000000",
          "2022-08-14T12:30:00.000000000",
          "2022-08-14T14:15:00.000000000"
         ],
         "hovertemplate": "Train=44247_14<br>Start=%{base}<br>Finish=%{x}<br>Tâches=%{y}<extra></extra>",
         "legendgroup": "44247_14",
         "marker": {
          "color": "#FFA15A",
          "pattern": {
           "shape": ""
          }
         },
         "name": "44247_14",
         "orientation": "h",
         "showlegend": true,
         "textposition": "auto",
         "type": "bar",
         "x": {
          "bdata": "oLsNAEBUiQCguw0AgE8SAA==",
          "dtype": "i4"
         },
         "xaxis": "x",
         "y": [
          "dep_1",
          "dep_2",
          "dep_3",
          "dep_4"
         ],
         "yaxis": "y"
        },
        {
         "base": [
          "2022-08-13T10:15:00.000000000",
          "2022-08-13T10:30:00.000000000",
          "2022-08-13T21:00:00.000000000",
          "2022-08-14T11:45:00.000000000"
         ],
         "hovertemplate": "Train=44559_14<br>Start=%{base}<br>Finish=%{x}<br>Tâches=%{y}<extra></extra>",
         "legendgroup": "44559_14",
         "marker": {
          "color": "#19d3f3",
          "pattern": {
           "shape": ""
          }
         },
         "name": "44559_14",
         "orientation": "h",
         "showlegend": true,
         "textposition": "auto",
         "type": "bar",
         "x": {
          "bdata": "oLsNAEBUiQCguw0AgE8SAA==",
          "dtype": "i4"
         },
         "xaxis": "x",
         "y": [
          "dep_1",
          "dep_2",
          "dep_3",
          "dep_4"
         ],
         "yaxis": "y"
        },
        {
         "base": [
          "2022-08-14T07:00:00.000000000",
          "2022-08-14T07:15:00.000000000",
          "2022-08-14T09:45:00.000000000",
          "2022-08-14T14:30:00.000000000"
         ],
         "hovertemplate": "Train=47820_14<br>Start=%{base}<br>Finish=%{x}<br>Tâches=%{y}<extra></extra>",
         "legendgroup": "47820_14",
         "marker": {
          "color": "#FF6692",
          "pattern": {
           "shape": ""
          }
         },
         "name": "47820_14",
         "orientation": "h",
         "showlegend": true,
         "textposition": "auto",
         "type": "bar",
         "x": {
          "bdata": "oLsNAEBUiQCguw0AgE8SAA==",
          "dtype": "i4"
         },
         "xaxis": "x",
         "y": [
          "dep_1",
          "dep_2",
          "dep_3",
          "dep_4"
         ],
         "yaxis": "y"
        },
        {
         "base": [
          "2022-08-14T00:30:00.000000000",
          "2022-08-14T00:45:00.000000000",
          "2022-08-14T03:15:00.000000000",
          "2022-08-14T05:45:00.000000000"
         ],
         "hovertemplate": "Train=489447_14<br>Start=%{base}<br>Finish=%{x}<br>Tâches=%{y}<extra></extra>",
         "legendgroup": "489447_14",
         "marker": {
          "color": "#B6E880",
          "pattern": {
           "shape": ""
          }
         },
         "name": "489447_14",
         "orientation": "h",
         "showlegend": true,
         "textposition": "auto",
         "type": "bar",
         "x": {
          "bdata": "oLsNAEBUiQCguw0AgE8SAA==",
          "dtype": "i4"
         },
         "xaxis": "x",
         "y": [
          "dep_1",
          "dep_2",
          "dep_3",
          "dep_4"
         ],
         "yaxis": "y"
        },
        {
         "base": [
          "2022-08-14T00:15:00.000000000",
          "2022-08-14T00:30:00.000000000",
          "2022-08-14T03:00:00.000000000",
          "2022-08-14T03:30:00.000000000"
         ],
         "hovertemplate": "Train=54003_14<br>Start=%{base}<br>Finish=%{x}<br>Tâches=%{y}<extra></extra>",
         "legendgroup": "54003_14",
         "marker": {
          "color": "#FF97FF",
          "pattern": {
           "shape": ""
          }
         },
         "name": "54003_14",
         "orientation": "h",
         "showlegend": true,
         "textposition": "auto",
         "type": "bar",
         "x": {
          "bdata": "oLsNAEBUiQCguw0AgE8SAA==",
          "dtype": "i4"
         },
         "xaxis": "x",
         "y": [
          "dep_1",
          "dep_2",
          "dep_3",
          "dep_4"
         ],
         "yaxis": "y"
        },
        {
         "base": [
          "2022-08-14T02:15:00.000000000",
          "2022-08-14T03:45:00.000000000",
          "2022-08-14T06:15:00.000000000",
          "2022-08-14T15:15:00.000000000"
         ],
         "hovertemplate": "Train=54053_14<br>Start=%{base}<br>Finish=%{x}<br>Tâches=%{y}<extra></extra>",
         "legendgroup": "54053_14",
         "marker": {
          "color": "#FECB52",
          "pattern": {
           "shape": ""
          }
         },
         "name": "54053_14",
         "orientation": "h",
         "showlegend": true,
         "textposition": "auto",
         "type": "bar",
         "x": {
          "bdata": "oLsNAEBUiQCguw0AgE8SAA==",
          "dtype": "i4"
         },
         "xaxis": "x",
         "y": [
          "dep_1",
          "dep_2",
          "dep_3",
          "dep_4"
         ],
         "yaxis": "y"
        },
        {
         "base": [
          "2022-08-13T21:15:00.000000000",
          "2022-08-13T21:30:00.000000000",
          "2022-08-14T00:00:00.000000000",
          "2022-08-14T01:00:00.000000000"
         ],
         "hovertemplate": "Train=54055_14<br>Start=%{base}<br>Finish=%{x}<br>Tâches=%{y}<extra></extra>",
         "legendgroup": "54055_14",
         "marker": {
          "color": "#636efa",
          "pattern": {
           "shape": ""
          }
         },
         "name": "54055_14",
         "orientation": "h",
         "showlegend": true,
         "textposition": "auto",
         "type": "bar",
         "x": {
          "bdata": "oLsNAEBUiQCguw0AgE8SAA==",
          "dtype": "i4"
         },
         "xaxis": "x",
         "y": [
          "dep_1",
          "dep_2",
          "dep_3",
          "dep_4"
         ],
         "yaxis": "y"
        },
        {
         "base": [
          "2022-08-13T10:00:00.000000000",
          "2022-08-13T10:15:00.000000000",
          "2022-08-13T12:45:00.000000000",
          "2022-08-14T03:30:00.000000000"
         ],
         "hovertemplate": "Train=54086_14<br>Start=%{base}<br>Finish=%{x}<br>Tâches=%{y}<extra></extra>",
         "legendgroup": "54086_14",
         "marker": {
          "color": "#EF553B",
          "pattern": {
           "shape": ""
          }
         },
         "name": "54086_14",
         "orientation": "h",
         "showlegend": true,
         "textposition": "auto",
         "type": "bar",
         "x": {
          "bdata": "oLsNAEBUiQCguw0AgE8SAA==",
          "dtype": "i4"
         },
         "xaxis": "x",
         "y": [
          "dep_1",
          "dep_2",
          "dep_3",
          "dep_4"
         ],
         "yaxis": "y"
        },
        {
         "base": [
          "2022-08-15T13:15:00.000000000",
          "2022-08-15T16:30:00.000000000",
          "2022-08-15T19:00:00.000000000",
          "2022-08-15T19:15:00.000000000"
         ],
         "hovertemplate": "Train=400014_15<br>Start=%{base}<br>Finish=%{x}<br>Tâches=%{y}<extra></extra>",
         "legendgroup": "400014_15",
         "marker": {
          "color": "#00cc96",
          "pattern": {
           "shape": ""
          }
         },
         "name": "400014_15",
         "orientation": "h",
         "showlegend": true,
         "textposition": "auto",
         "type": "bar",
         "x": {
          "bdata": "oLsNAEBUiQCguw0AgE8SAA==",
          "dtype": "i4"
         },
         "xaxis": "x",
         "y": [
          "dep_1",
          "dep_2",
          "dep_3",
          "dep_4"
         ],
         "yaxis": "y"
        },
        {
         "base": [
          "2022-08-13T23:00:00.000000000",
          "2022-08-13T23:15:00.000000000",
          "2022-08-14T01:45:00.000000000",
          "2022-08-15T14:30:00.000000000"
         ],
         "hovertemplate": "Train=431035_15<br>Start=%{base}<br>Finish=%{x}<br>Tâches=%{y}<extra></extra>",
         "legendgroup": "431035_15",
         "marker": {
          "color": "#ab63fa",
          "pattern": {
           "shape": ""
          }
         },
         "name": "431035_15",
         "orientation": "h",
         "showlegend": true,
         "textposition": "auto",
         "type": "bar",
         "x": {
          "bdata": "oLsNAEBUiQCguw0AgE8SAA==",
          "dtype": "i4"
         },
         "xaxis": "x",
         "y": [
          "dep_1",
          "dep_2",
          "dep_3",
          "dep_4"
         ],
         "yaxis": "y"
        },
        {
         "base": [
          "2022-08-13T12:45:00.000000000",
          "2022-08-13T21:15:00.000000000",
          "2022-08-13T23:45:00.000000000",
          "2022-08-15T05:15:00.000000000"
         ],
         "hovertemplate": "Train=431121_15<br>Start=%{base}<br>Finish=%{x}<br>Tâches=%{y}<extra></extra>",
         "legendgroup": "431121_15",
         "marker": {
          "color": "#FFA15A",
          "pattern": {
           "shape": ""
          }
         },
         "name": "431121_15",
         "orientation": "h",
         "showlegend": true,
         "textposition": "auto",
         "type": "bar",
         "x": {
          "bdata": "oLsNAEBUiQCguw0AgE8SAA==",
          "dtype": "i4"
         },
         "xaxis": "x",
         "y": [
          "dep_1",
          "dep_2",
          "dep_3",
          "dep_4"
         ],
         "yaxis": "y"
        },
        {
         "base": [
          "2022-08-14T21:00:00.000000000",
          "2022-08-14T21:15:00.000000000",
          "2022-08-14T23:45:00.000000000",
          "2022-08-15T07:00:00.000000000"
         ],
         "hovertemplate": "Train=450226_15<br>Start=%{base}<br>Finish=%{x}<br>Tâches=%{y}<extra></extra>",
         "legendgroup": "450226_15",
         "marker": {
          "color": "#19d3f3",
          "pattern": {
           "shape": ""
          }
         },
         "name": "450226_15",
         "orientation": "h",
         "showlegend": true,
         "textposition": "auto",
         "type": "bar",
         "x": {
          "bdata": "oLsNAEBUiQCguw0AgE8SAA==",
          "dtype": "i4"
         },
         "xaxis": "x",
         "y": [
          "dep_1",
          "dep_2",
          "dep_3",
          "dep_4"
         ],
         "yaxis": "y"
        },
        {
         "base": [
          "2022-08-15T00:45:00.000000000",
          "2022-08-15T01:00:00.000000000",
          "2022-08-15T03:30:00.000000000",
          "2022-08-15T05:45:00.000000000"
         ],
         "hovertemplate": "Train=489447_15<br>Start=%{base}<br>Finish=%{x}<br>Tâches=%{y}<extra></extra>",
         "legendgroup": "489447_15",
         "marker": {
          "color": "#FF6692",
          "pattern": {
           "shape": ""
          }
         },
         "name": "489447_15",
         "orientation": "h",
         "showlegend": true,
         "textposition": "auto",
         "type": "bar",
         "x": {
          "bdata": "oLsNAEBUiQCguw0AgE8SAA==",
          "dtype": "i4"
         },
         "xaxis": "x",
         "y": [
          "dep_1",
          "dep_2",
          "dep_3",
          "dep_4"
         ],
         "yaxis": "y"
        },
        {
         "base": [
          "2022-08-15T00:00:00.000000000",
          "2022-08-15T00:15:00.000000000",
          "2022-08-15T02:45:00.000000000",
          "2022-08-15T03:30:00.000000000"
         ],
         "hovertemplate": "Train=54003_15<br>Start=%{base}<br>Finish=%{x}<br>Tâches=%{y}<extra></extra>",
         "legendgroup": "54003_15",
         "marker": {
          "color": "#B6E880",
          "pattern": {
           "shape": ""
          }
         },
         "name": "54003_15",
         "orientation": "h",
         "showlegend": true,
         "textposition": "auto",
         "type": "bar",
         "x": {
          "bdata": "oLsNAEBUiQCguw0AgE8SAA==",
          "dtype": "i4"
         },
         "xaxis": "x",
         "y": [
          "dep_1",
          "dep_2",
          "dep_3",
          "dep_4"
         ],
         "yaxis": "y"
        },
        {
         "base": [
          "2022-08-14T21:15:00.000000000",
          "2022-08-14T21:30:00.000000000",
          "2022-08-15T00:00:00.000000000",
          "2022-08-15T05:00:00.000000000"
         ],
         "hovertemplate": "Train=54051_15<br>Start=%{base}<br>Finish=%{x}<br>Tâches=%{y}<extra></extra>",
         "legendgroup": "54051_15",
         "marker": {
          "color": "#FF97FF",
          "pattern": {
           "shape": ""
          }
         },
         "name": "54051_15",
         "orientation": "h",
         "showlegend": true,
         "textposition": "auto",
         "type": "bar",
         "x": {
          "bdata": "oLsNAEBUiQCguw0AgE8SAA==",
          "dtype": "i4"
         },
         "xaxis": "x",
         "y": [
          "dep_1",
          "dep_2",
          "dep_3",
          "dep_4"
         ],
         "yaxis": "y"
        },
        {
         "base": [
          "2022-08-14T06:45:00.000000000",
          "2022-08-14T07:00:00.000000000",
          "2022-08-14T09:30:00.000000000",
          "2022-08-15T03:30:00.000000000"
         ],
         "hovertemplate": "Train=54086_15<br>Start=%{base}<br>Finish=%{x}<br>Tâches=%{y}<extra></extra>",
         "legendgroup": "54086_15",
         "marker": {
          "color": "#FECB52",
          "pattern": {
           "shape": ""
          }
         },
         "name": "54086_15",
         "orientation": "h",
         "showlegend": true,
         "textposition": "auto",
         "type": "bar",
         "x": {
          "bdata": "oLsNAEBUiQCguw0AgE8SAA==",
          "dtype": "i4"
         },
         "xaxis": "x",
         "y": [
          "dep_1",
          "dep_2",
          "dep_3",
          "dep_4"
         ],
         "yaxis": "y"
        },
        {
         "base": [
          "2022-08-14T03:45:00.000000000",
          "2022-08-14T04:00:00.000000000",
          "2022-08-14T06:30:00.000000000",
          "2022-08-15T13:45:00.000000000"
         ],
         "hovertemplate": "Train=54231_15<br>Start=%{base}<br>Finish=%{x}<br>Tâches=%{y}<extra></extra>",
         "legendgroup": "54231_15",
         "marker": {
          "color": "#636efa",
          "pattern": {
           "shape": ""
          }
         },
         "name": "54231_15",
         "orientation": "h",
         "showlegend": true,
         "textposition": "auto",
         "type": "bar",
         "x": {
          "bdata": "oLsNAEBUiQCguw0AgE8SAA==",
          "dtype": "i4"
         },
         "xaxis": "x",
         "y": [
          "dep_1",
          "dep_2",
          "dep_3",
          "dep_4"
         ],
         "yaxis": "y"
        },
        {
         "base": [
          "2022-08-15T01:30:00.000000000",
          "2022-08-15T01:45:00.000000000",
          "2022-08-15T04:15:00.000000000",
          "2022-08-16T02:15:00.000000000"
         ],
         "hovertemplate": "Train=41258_16<br>Start=%{base}<br>Finish=%{x}<br>Tâches=%{y}<extra></extra>",
         "legendgroup": "41258_16",
         "marker": {
          "color": "#EF553B",
          "pattern": {
           "shape": ""
          }
         },
         "name": "41258_16",
         "orientation": "h",
         "showlegend": true,
         "textposition": "auto",
         "type": "bar",
         "x": {
          "bdata": "oLsNAEBUiQCguw0AgE8SAA==",
          "dtype": "i4"
         },
         "xaxis": "x",
         "y": [
          "dep_1",
          "dep_2",
          "dep_3",
          "dep_4"
         ],
         "yaxis": "y"
        },
        {
         "base": [
          "2022-08-14T10:45:00.000000000",
          "2022-08-14T21:00:00.000000000",
          "2022-08-14T23:30:00.000000000",
          "2022-08-16T05:45:00.000000000"
         ],
         "hovertemplate": "Train=431091_16<br>Start=%{base}<br>Finish=%{x}<br>Tâches=%{y}<extra></extra>",
         "legendgroup": "431091_16",
         "marker": {
          "color": "#00cc96",
          "pattern": {
           "shape": ""
          }
         },
         "name": "431091_16",
         "orientation": "h",
         "showlegend": true,
         "textposition": "auto",
         "type": "bar",
         "x": {
          "bdata": "oLsNAEBUiQCguw0AgE8SAA==",
          "dtype": "i4"
         },
         "xaxis": "x",
         "y": [
          "dep_1",
          "dep_2",
          "dep_3",
          "dep_4"
         ],
         "yaxis": "y"
        },
        {
         "base": [
          "2022-08-15T13:00:00.000000000",
          "2022-08-15T15:00:00.000000000",
          "2022-08-15T17:30:00.000000000",
          "2022-08-16T01:45:00.000000000"
         ],
         "hovertemplate": "Train=489044_16<br>Start=%{base}<br>Finish=%{x}<br>Tâches=%{y}<extra></extra>",
         "legendgroup": "489044_16",
         "marker": {
          "color": "#ab63fa",
          "pattern": {
           "shape": ""
          }
         },
         "name": "489044_16",
         "orientation": "h",
         "showlegend": true,
         "textposition": "auto",
         "type": "bar",
         "x": {
          "bdata": "oLsNAEBUiQCguw0AgE8SAA==",
          "dtype": "i4"
         },
         "xaxis": "x",
         "y": [
          "dep_1",
          "dep_2",
          "dep_3",
          "dep_4"
         ],
         "yaxis": "y"
        },
        {
         "base": [
          "2022-08-12T22:00:00.000000000",
          "2022-08-12T22:15:00.000000000",
          "2022-08-13T00:45:00.000000000",
          "2022-08-16T05:00:00.000000000"
         ],
         "hovertemplate": "Train=54051_16<br>Start=%{base}<br>Finish=%{x}<br>Tâches=%{y}<extra></extra>",
         "legendgroup": "54051_16",
         "marker": {
          "color": "#FFA15A",
          "pattern": {
           "shape": ""
          }
         },
         "name": "54051_16",
         "orientation": "h",
         "showlegend": true,
         "textposition": "auto",
         "type": "bar",
         "x": {
          "bdata": "oLsNAEBUiQCguw0AgE8SAA==",
          "dtype": "i4"
         },
         "xaxis": "x",
         "y": [
          "dep_1",
          "dep_2",
          "dep_3",
          "dep_4"
         ],
         "yaxis": "y"
        },
        {
         "base": [
          "2022-08-16T04:30:00.000000000",
          "2022-08-16T04:45:00.000000000",
          "2022-08-17T02:30:00.000000000",
          "2022-08-17T02:45:00.000000000"
         ],
         "hovertemplate": "Train=412124_17<br>Start=%{base}<br>Finish=%{x}<br>Tâches=%{y}<extra></extra>",
         "legendgroup": "412124_17",
         "marker": {
          "color": "#19d3f3",
          "pattern": {
           "shape": ""
          }
         },
         "name": "412124_17",
         "orientation": "h",
         "showlegend": true,
         "textposition": "auto",
         "type": "bar",
         "x": {
          "bdata": "oLsNAEBUiQCguw0AgE8SAA==",
          "dtype": "i4"
         },
         "xaxis": "x",
         "y": [
          "dep_1",
          "dep_2",
          "dep_3",
          "dep_4"
         ],
         "yaxis": "y"
        },
        {
         "base": [
          "2022-08-14T10:00:00.000000000",
          "2022-08-14T10:15:00.000000000",
          "2022-08-14T12:45:00.000000000",
          "2022-08-17T10:30:00.000000000"
         ],
         "hovertemplate": "Train=431113_17<br>Start=%{base}<br>Finish=%{x}<br>Tâches=%{y}<extra></extra>",
         "legendgroup": "431113_17",
         "marker": {
          "color": "#FF6692",
          "pattern": {
           "shape": ""
          }
         },
         "name": "431113_17",
         "orientation": "h",
         "showlegend": true,
         "textposition": "auto",
         "type": "bar",
         "x": {
          "bdata": "oLsNAEBUiQCguw0AgE8SAA==",
          "dtype": "i4"
         },
         "xaxis": "x",
         "y": [
          "dep_1",
          "dep_2",
          "dep_3",
          "dep_4"
         ],
         "yaxis": "y"
        }
       ],
       "layout": {
        "barmode": "overlay",
        "legend": {
         "title": {
          "text": "Train"
         },
         "tracegroupgap": 0
        },
        "margin": {
         "t": 60
        },
        "template": {
         "data": {
          "bar": [
           {
            "error_x": {
             "color": "#2a3f5f"
            },
            "error_y": {
             "color": "#2a3f5f"
            },
            "marker": {
             "line": {
              "color": "#E5ECF6",
              "width": 0.5
             },
             "pattern": {
              "fillmode": "overlay",
              "size": 10,
              "solidity": 0.2
             }
            },
            "type": "bar"
           }
          ],
          "barpolar": [
           {
            "marker": {
             "line": {
              "color": "#E5ECF6",
              "width": 0.5
             },
             "pattern": {
              "fillmode": "overlay",
              "size": 10,
              "solidity": 0.2
             }
            },
            "type": "barpolar"
           }
          ],
          "carpet": [
           {
            "aaxis": {
             "endlinecolor": "#2a3f5f",
             "gridcolor": "white",
             "linecolor": "white",
             "minorgridcolor": "white",
             "startlinecolor": "#2a3f5f"
            },
            "baxis": {
             "endlinecolor": "#2a3f5f",
             "gridcolor": "white",
             "linecolor": "white",
             "minorgridcolor": "white",
             "startlinecolor": "#2a3f5f"
            },
            "type": "carpet"
           }
          ],
          "choropleth": [
           {
            "colorbar": {
             "outlinewidth": 0,
             "ticks": ""
            },
            "type": "choropleth"
           }
          ],
          "contour": [
           {
            "colorbar": {
             "outlinewidth": 0,
             "ticks": ""
            },
            "colorscale": [
             [
              0,
              "#0d0887"
             ],
             [
              0.1111111111111111,
              "#46039f"
             ],
             [
              0.2222222222222222,
              "#7201a8"
             ],
             [
              0.3333333333333333,
              "#9c179e"
             ],
             [
              0.4444444444444444,
              "#bd3786"
             ],
             [
              0.5555555555555556,
              "#d8576b"
             ],
             [
              0.6666666666666666,
              "#ed7953"
             ],
             [
              0.7777777777777778,
              "#fb9f3a"
             ],
             [
              0.8888888888888888,
              "#fdca26"
             ],
             [
              1,
              "#f0f921"
             ]
            ],
            "type": "contour"
           }
          ],
          "contourcarpet": [
           {
            "colorbar": {
             "outlinewidth": 0,
             "ticks": ""
            },
            "type": "contourcarpet"
           }
          ],
          "heatmap": [
           {
            "colorbar": {
             "outlinewidth": 0,
             "ticks": ""
            },
            "colorscale": [
             [
              0,
              "#0d0887"
             ],
             [
              0.1111111111111111,
              "#46039f"
             ],
             [
              0.2222222222222222,
              "#7201a8"
             ],
             [
              0.3333333333333333,
              "#9c179e"
             ],
             [
              0.4444444444444444,
              "#bd3786"
             ],
             [
              0.5555555555555556,
              "#d8576b"
             ],
             [
              0.6666666666666666,
              "#ed7953"
             ],
             [
              0.7777777777777778,
              "#fb9f3a"
             ],
             [
              0.8888888888888888,
              "#fdca26"
             ],
             [
              1,
              "#f0f921"
             ]
            ],
            "type": "heatmap"
           }
          ],
          "histogram": [
           {
            "marker": {
             "pattern": {
              "fillmode": "overlay",
              "size": 10,
              "solidity": 0.2
             }
            },
            "type": "histogram"
           }
          ],
          "histogram2d": [
           {
            "colorbar": {
             "outlinewidth": 0,
             "ticks": ""
            },
            "colorscale": [
             [
              0,
              "#0d0887"
             ],
             [
              0.1111111111111111,
              "#46039f"
             ],
             [
              0.2222222222222222,
              "#7201a8"
             ],
             [
              0.3333333333333333,
              "#9c179e"
             ],
             [
              0.4444444444444444,
              "#bd3786"
             ],
             [
              0.5555555555555556,
              "#d8576b"
             ],
             [
              0.6666666666666666,
              "#ed7953"
             ],
             [
              0.7777777777777778,
              "#fb9f3a"
             ],
             [
              0.8888888888888888,
              "#fdca26"
             ],
             [
              1,
              "#f0f921"
             ]
            ],
            "type": "histogram2d"
           }
          ],
          "histogram2dcontour": [
           {
            "colorbar": {
             "outlinewidth": 0,
             "ticks": ""
            },
            "colorscale": [
             [
              0,
              "#0d0887"
             ],
             [
              0.1111111111111111,
              "#46039f"
             ],
             [
              0.2222222222222222,
              "#7201a8"
             ],
             [
              0.3333333333333333,
              "#9c179e"
             ],
             [
              0.4444444444444444,
              "#bd3786"
             ],
             [
              0.5555555555555556,
              "#d8576b"
             ],
             [
              0.6666666666666666,
              "#ed7953"
             ],
             [
              0.7777777777777778,
              "#fb9f3a"
             ],
             [
              0.8888888888888888,
              "#fdca26"
             ],
             [
              1,
              "#f0f921"
             ]
            ],
            "type": "histogram2dcontour"
           }
          ],
          "mesh3d": [
           {
            "colorbar": {
             "outlinewidth": 0,
             "ticks": ""
            },
            "type": "mesh3d"
           }
          ],
          "parcoords": [
           {
            "line": {
             "colorbar": {
              "outlinewidth": 0,
              "ticks": ""
             }
            },
            "type": "parcoords"
           }
          ],
          "pie": [
           {
            "automargin": true,
            "type": "pie"
           }
          ],
          "scatter": [
           {
            "fillpattern": {
             "fillmode": "overlay",
             "size": 10,
             "solidity": 0.2
            },
            "type": "scatter"
           }
          ],
          "scatter3d": [
           {
            "line": {
             "colorbar": {
              "outlinewidth": 0,
              "ticks": ""
             }
            },
            "marker": {
             "colorbar": {
              "outlinewidth": 0,
              "ticks": ""
             }
            },
            "type": "scatter3d"
           }
          ],
          "scattercarpet": [
           {
            "marker": {
             "colorbar": {
              "outlinewidth": 0,
              "ticks": ""
             }
            },
            "type": "scattercarpet"
           }
          ],
          "scattergeo": [
           {
            "marker": {
             "colorbar": {
              "outlinewidth": 0,
              "ticks": ""
             }
            },
            "type": "scattergeo"
           }
          ],
          "scattergl": [
           {
            "marker": {
             "colorbar": {
              "outlinewidth": 0,
              "ticks": ""
             }
            },
            "type": "scattergl"
           }
          ],
          "scattermap": [
           {
            "marker": {
             "colorbar": {
              "outlinewidth": 0,
              "ticks": ""
             }
            },
            "type": "scattermap"
           }
          ],
          "scattermapbox": [
           {
            "marker": {
             "colorbar": {
              "outlinewidth": 0,
              "ticks": ""
             }
            },
            "type": "scattermapbox"
           }
          ],
          "scatterpolar": [
           {
            "marker": {
             "colorbar": {
              "outlinewidth": 0,
              "ticks": ""
             }
            },
            "type": "scatterpolar"
           }
          ],
          "scatterpolargl": [
           {
            "marker": {
             "colorbar": {
              "outlinewidth": 0,
              "ticks": ""
             }
            },
            "type": "scatterpolargl"
           }
          ],
          "scatterternary": [
           {
            "marker": {
             "colorbar": {
              "outlinewidth": 0,
              "ticks": ""
             }
            },
            "type": "scatterternary"
           }
          ],
          "surface": [
           {
            "colorbar": {
             "outlinewidth": 0,
             "ticks": ""
            },
            "colorscale": [
             [
              0,
              "#0d0887"
             ],
             [
              0.1111111111111111,
              "#46039f"
             ],
             [
              0.2222222222222222,
              "#7201a8"
             ],
             [
              0.3333333333333333,
              "#9c179e"
             ],
             [
              0.4444444444444444,
              "#bd3786"
             ],
             [
              0.5555555555555556,
              "#d8576b"
             ],
             [
              0.6666666666666666,
              "#ed7953"
             ],
             [
              0.7777777777777778,
              "#fb9f3a"
             ],
             [
              0.8888888888888888,
              "#fdca26"
             ],
             [
              1,
              "#f0f921"
             ]
            ],
            "type": "surface"
           }
          ],
          "table": [
           {
            "cells": {
             "fill": {
              "color": "#EBF0F8"
             },
             "line": {
              "color": "white"
             }
            },
            "header": {
             "fill": {
              "color": "#C8D4E3"
             },
             "line": {
              "color": "white"
             }
            },
            "type": "table"
           }
          ]
         },
         "layout": {
          "annotationdefaults": {
           "arrowcolor": "#2a3f5f",
           "arrowhead": 0,
           "arrowwidth": 1
          },
          "autotypenumbers": "strict",
          "coloraxis": {
           "colorbar": {
            "outlinewidth": 0,
            "ticks": ""
           }
          },
          "colorscale": {
           "diverging": [
            [
             0,
             "#8e0152"
            ],
            [
             0.1,
             "#c51b7d"
            ],
            [
             0.2,
             "#de77ae"
            ],
            [
             0.3,
             "#f1b6da"
            ],
            [
             0.4,
             "#fde0ef"
            ],
            [
             0.5,
             "#f7f7f7"
            ],
            [
             0.6,
             "#e6f5d0"
            ],
            [
             0.7,
             "#b8e186"
            ],
            [
             0.8,
             "#7fbc41"
            ],
            [
             0.9,
             "#4d9221"
            ],
            [
             1,
             "#276419"
            ]
           ],
           "sequential": [
            [
             0,
             "#0d0887"
            ],
            [
             0.1111111111111111,
             "#46039f"
            ],
            [
             0.2222222222222222,
             "#7201a8"
            ],
            [
             0.3333333333333333,
             "#9c179e"
            ],
            [
             0.4444444444444444,
             "#bd3786"
            ],
            [
             0.5555555555555556,
             "#d8576b"
            ],
            [
             0.6666666666666666,
             "#ed7953"
            ],
            [
             0.7777777777777778,
             "#fb9f3a"
            ],
            [
             0.8888888888888888,
             "#fdca26"
            ],
            [
             1,
             "#f0f921"
            ]
           ],
           "sequentialminus": [
            [
             0,
             "#0d0887"
            ],
            [
             0.1111111111111111,
             "#46039f"
            ],
            [
             0.2222222222222222,
             "#7201a8"
            ],
            [
             0.3333333333333333,
             "#9c179e"
            ],
            [
             0.4444444444444444,
             "#bd3786"
            ],
            [
             0.5555555555555556,
             "#d8576b"
            ],
            [
             0.6666666666666666,
             "#ed7953"
            ],
            [
             0.7777777777777778,
             "#fb9f3a"
            ],
            [
             0.8888888888888888,
             "#fdca26"
            ],
            [
             1,
             "#f0f921"
            ]
           ]
          },
          "colorway": [
           "#636efa",
           "#EF553B",
           "#00cc96",
           "#ab63fa",
           "#FFA15A",
           "#19d3f3",
           "#FF6692",
           "#B6E880",
           "#FF97FF",
           "#FECB52"
          ],
          "font": {
           "color": "#2a3f5f"
          },
          "geo": {
           "bgcolor": "white",
           "lakecolor": "white",
           "landcolor": "#E5ECF6",
           "showlakes": true,
           "showland": true,
           "subunitcolor": "white"
          },
          "hoverlabel": {
           "align": "left"
          },
          "hovermode": "closest",
          "mapbox": {
           "style": "light"
          },
          "paper_bgcolor": "white",
          "plot_bgcolor": "#E5ECF6",
          "polar": {
           "angularaxis": {
            "gridcolor": "white",
            "linecolor": "white",
            "ticks": ""
           },
           "bgcolor": "#E5ECF6",
           "radialaxis": {
            "gridcolor": "white",
            "linecolor": "white",
            "ticks": ""
           }
          },
          "scene": {
           "xaxis": {
            "backgroundcolor": "#E5ECF6",
            "gridcolor": "white",
            "gridwidth": 2,
            "linecolor": "white",
            "showbackground": true,
            "ticks": "",
            "zerolinecolor": "white"
           },
           "yaxis": {
            "backgroundcolor": "#E5ECF6",
            "gridcolor": "white",
            "gridwidth": 2,
            "linecolor": "white",
            "showbackground": true,
            "ticks": "",
            "zerolinecolor": "white"
           },
           "zaxis": {
            "backgroundcolor": "#E5ECF6",
            "gridcolor": "white",
            "gridwidth": 2,
            "linecolor": "white",
            "showbackground": true,
            "ticks": "",
            "zerolinecolor": "white"
           }
          },
          "shapedefaults": {
           "line": {
            "color": "#2a3f5f"
           }
          },
          "ternary": {
           "aaxis": {
            "gridcolor": "white",
            "linecolor": "white",
            "ticks": ""
           },
           "baxis": {
            "gridcolor": "white",
            "linecolor": "white",
            "ticks": ""
           },
           "bgcolor": "#E5ECF6",
           "caxis": {
            "gridcolor": "white",
            "linecolor": "white",
            "ticks": ""
           }
          },
          "title": {
           "x": 0.05
          },
          "xaxis": {
           "automargin": true,
           "gridcolor": "white",
           "linecolor": "white",
           "ticks": "",
           "title": {
            "standoff": 15
           },
           "zerolinecolor": "white",
           "zerolinewidth": 2
          },
          "yaxis": {
           "automargin": true,
           "gridcolor": "white",
           "linecolor": "white",
           "ticks": "",
           "title": {
            "standoff": 15
           },
           "zerolinecolor": "white",
           "zerolinewidth": 2
          }
         }
        },
        "xaxis": {
         "anchor": "y",
         "domain": [
          0,
          1
         ],
         "tickformat": "%d/%m/%y %H:%M",
         "title": {
          "text": "Temps"
         },
         "type": "date"
        },
        "yaxis": {
         "anchor": "x",
         "categoryarray": [
          "dep_4",
          "dep_3",
          "dep_2",
          "dep_1",
          "arr_3",
          "arr_2",
          "arr_1"
         ],
         "categoryorder": "array",
         "domain": [
          0,
          1
         ],
         "title": {
          "text": "Tâches"
         }
        }
       }
      }
     },
     "metadata": {},
     "output_type": "display_data"
    }
   ],
   "source": [
    "# Liste ordonnée des machines\n",
    "ORDERED_MACHINES = [\"arr_1\", \"arr_2\", \"arr_3\",\n",
    "                        \"dep_1\", \"dep_2\", \"dep_3\", \"dep_4\"]\n",
    "\n",
    "# Données fournies sous forme de liste de dictionnaires\n",
    "tasks = [\n",
    "        {\"Train\": n_arr,\n",
    "         \"Start\": base_time(1) + datetime.timedelta(minutes=15*var_arr.X),\n",
    "         \"Finish\": base_time(1) + datetime.timedelta(minutes=15*var_arr.X + Taches.T_ARR[m_arr]),\n",
    "         \"Machine\": f\"arr_{m_arr}\",\n",
    "         \"Tâches\": f\"arr_{m_arr}\"}\n",
    "        for (m_arr, n_arr), var_arr in t_arr.items()\n",
    "    ] + [\n",
    "        {\"Train\": n_dep,\n",
    "         \"Start\": base_time(1) + datetime.timedelta(minutes=15*var_dep.X),\n",
    "         \"Finish\": base_time(1) + datetime.timedelta(minutes=15*var_dep.X + Taches.T_DEP[m_dep]),\n",
    "         \"Machine\": f\"dep_{m_dep}\",\n",
    "         \"Tâches\": f\"dep_{m_dep}\"}\n",
    "        for (m_dep, n_dep), var_dep in t_dep.items()\n",
    "    ]\n",
    "\n",
    "# Construction du DataFrame pour la visualisation\n",
    "gantt_df = pd.DataFrame(tasks)\n",
    "\n",
    "# Regroupement des ressources par machine\n",
    "resource_per_machine = {}\n",
    "for task in tasks:\n",
    "    resource_per_machine.setdefault(\n",
    "        task[\"Machine\"], set()).add(task[\"Tâches\"])\n",
    "\n",
    "sorted_resources = list(itertools.chain.from_iterable(\n",
    "    [sorted(resource_per_machine[machine]) for machine in ORDERED_MACHINES]\n",
    "))\n",
    "\n",
    "fig = px.timeline(gantt_df, x_start=\"Start\",\n",
    "                    x_end=\"Finish\", y=\"Tâches\", color=\"Train\")\n",
    "fig.update_layout(xaxis=dict(title='Temps',\n",
    "                    tickformat='%d/%m/%y %H:%M'))\n",
    "fig.update_yaxes(categoryorder=\"array\",\n",
    "                    categoryarray=sorted_resources[::-1])\n",
    "fig.show()"
   ]
  }
 ],
 "metadata": {
  "kernelspec": {
   "display_name": "Opti",
   "language": "python",
   "name": "python3"
  },
  "language_info": {
   "codemirror_mode": {
    "name": "ipython",
    "version": 3
   },
   "file_extension": ".py",
   "mimetype": "text/x-python",
   "name": "python",
   "nbconvert_exporter": "python",
   "pygments_lexer": "ipython3",
   "version": "3.12.3"
  }
 },
 "nbformat": 4,
 "nbformat_minor": 2
}
