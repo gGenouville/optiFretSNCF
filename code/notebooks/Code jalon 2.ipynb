{
 "cells": [
  {
   "cell_type": "code",
   "execution_count": 1,
   "metadata": {},
   "outputs": [],
   "source": [
    "import os\n",
    "import sys\n",
    "from gurobipy import *\n",
    "import pandas as pd\n",
    "import numpy as np\n",
    "import itertools\n",
    "import datetime\n",
    "import plotly.express as px\n",
    "import matplotlib.pyplot as plt\n",
    "import matplotlib.dates as mdates\n",
    "\n",
    "module_path = os.path.abspath(\"..\")\n",
    "sys.path.append(module_path)\n",
    "from module.modele2 import init_model,Taches\n",
    "from module.utils2 import (\n",
    "    read_sillon,\n",
    "    init_t_a,\n",
    "    init_t_d,\n",
    "    init_dict_correspondance,\n",
    "    base_time,\n",
    "    init_limites_voies,\n",
    "    dernier_depart,\n",
    "    ecriture_donnees_sortie_jalon2,\n",
    "    ecriture_donnees_sortie_jalon3,\n",
    "    nombre_max_agents_sur_roulement,\n",
    "    nombre_roulements,\n",
    "    roulements_operants_sur_tache,\n",
    "    heure_debut_roulement,\n",
    "    comp,\n",
    ")\n",
    "from module.visualisation2 import (\n",
    "    visualisation_gantt,\n",
    "    visualisation_occupation\n",
    ")"
   ]
  },
  {
   "cell_type": "code",
   "execution_count": 2,
   "metadata": {},
   "outputs": [
    {
     "name": "stdout",
     "output_type": "stream",
     "text": [
      "{1: [Timestamp('2022-08-08 05:00:00'), Timestamp('2022-08-08 13:00:00'), Timestamp('2022-08-08 21:00:00'), Timestamp('2022-08-09 05:00:00'), Timestamp('2022-08-09 13:00:00'), Timestamp('2022-08-09 21:00:00'), Timestamp('2022-08-10 05:00:00'), Timestamp('2022-08-10 13:00:00'), Timestamp('2022-08-10 21:00:00'), Timestamp('2022-08-11 05:00:00'), Timestamp('2022-08-11 13:00:00'), Timestamp('2022-08-11 21:00:00'), Timestamp('2022-08-12 05:00:00'), Timestamp('2022-08-12 13:00:00'), Timestamp('2022-08-12 21:00:00'), Timestamp('2022-08-13 05:00:00'), Timestamp('2022-08-13 13:00:00'), Timestamp('2022-08-13 21:00:00'), Timestamp('2022-08-14 05:00:00'), Timestamp('2022-08-14 13:00:00'), Timestamp('2022-08-14 21:00:00'), Timestamp('2022-08-15 05:00:00'), Timestamp('2022-08-15 13:00:00'), Timestamp('2022-08-15 21:00:00')], 2: [Timestamp('2022-08-08 05:00:00'), Timestamp('2022-08-08 13:00:00'), Timestamp('2022-08-08 21:00:00'), Timestamp('2022-08-09 05:00:00'), Timestamp('2022-08-09 13:00:00'), Timestamp('2022-08-09 21:00:00'), Timestamp('2022-08-10 05:00:00'), Timestamp('2022-08-10 13:00:00'), Timestamp('2022-08-10 21:00:00'), Timestamp('2022-08-11 05:00:00'), Timestamp('2022-08-11 13:00:00'), Timestamp('2022-08-11 21:00:00'), Timestamp('2022-08-12 05:00:00'), Timestamp('2022-08-12 13:00:00'), Timestamp('2022-08-12 21:00:00'), Timestamp('2022-08-13 05:00:00'), Timestamp('2022-08-13 13:00:00'), Timestamp('2022-08-13 21:00:00'), Timestamp('2022-08-14 05:00:00'), Timestamp('2022-08-14 13:00:00'), Timestamp('2022-08-14 21:00:00'), Timestamp('2022-08-15 05:00:00'), Timestamp('2022-08-15 13:00:00'), Timestamp('2022-08-15 21:00:00')], 3: [Timestamp('2022-08-08 05:00:00'), Timestamp('2022-08-08 13:00:00'), Timestamp('2022-08-08 21:00:00'), Timestamp('2022-08-09 05:00:00'), Timestamp('2022-08-09 13:00:00'), Timestamp('2022-08-09 21:00:00'), Timestamp('2022-08-10 05:00:00'), Timestamp('2022-08-10 13:00:00'), Timestamp('2022-08-10 21:00:00'), Timestamp('2022-08-11 05:00:00'), Timestamp('2022-08-11 13:00:00'), Timestamp('2022-08-11 21:00:00'), Timestamp('2022-08-12 05:00:00'), Timestamp('2022-08-12 13:00:00'), Timestamp('2022-08-12 21:00:00'), Timestamp('2022-08-13 05:00:00'), Timestamp('2022-08-13 13:00:00'), Timestamp('2022-08-13 21:00:00'), Timestamp('2022-08-14 05:00:00'), Timestamp('2022-08-14 13:00:00'), Timestamp('2022-08-14 21:00:00'), Timestamp('2022-08-15 05:00:00'), Timestamp('2022-08-15 13:00:00'), Timestamp('2022-08-15 21:00:00')], 4: [Timestamp('2022-08-08 09:00:00'), Timestamp('2022-08-08 22:00:00'), Timestamp('2022-08-09 09:00:00'), Timestamp('2022-08-09 22:00:00'), Timestamp('2022-08-10 09:00:00'), Timestamp('2022-08-10 22:00:00'), Timestamp('2022-08-11 09:00:00'), Timestamp('2022-08-11 22:00:00'), Timestamp('2022-08-12 09:00:00'), Timestamp('2022-08-12 22:00:00'), Timestamp('2022-08-13 09:00:00'), Timestamp('2022-08-13 22:00:00'), Timestamp('2022-08-15 09:00:00'), Timestamp('2022-08-15 22:00:00')], 5: [Timestamp('2022-08-08 05:00:00'), Timestamp('2022-08-08 13:00:00'), Timestamp('2022-08-08 21:00:00'), Timestamp('2022-08-09 05:00:00'), Timestamp('2022-08-09 13:00:00'), Timestamp('2022-08-09 21:00:00'), Timestamp('2022-08-10 05:00:00'), Timestamp('2022-08-10 13:00:00'), Timestamp('2022-08-10 21:00:00'), Timestamp('2022-08-11 05:00:00'), Timestamp('2022-08-11 13:00:00'), Timestamp('2022-08-11 21:00:00'), Timestamp('2022-08-12 05:00:00'), Timestamp('2022-08-12 13:00:00'), Timestamp('2022-08-12 21:00:00'), Timestamp('2022-08-13 05:00:00'), Timestamp('2022-08-13 13:00:00'), Timestamp('2022-08-13 21:00:00'), Timestamp('2022-08-14 05:00:00'), Timestamp('2022-08-14 13:00:00'), Timestamp('2022-08-14 21:00:00'), Timestamp('2022-08-15 05:00:00'), Timestamp('2022-08-15 13:00:00'), Timestamp('2022-08-15 21:00:00')]}\n",
      "{('arr', 1): [1, 4], ('dep', 1): [2, 5], ('arr', 2): [1, 4], ('dep', 2): [2, 5], ('arr', 3): [1, 4], ('dep', 3): [2, 5], ('dep', 4): [3, 4, 5]}\n",
      "{1: np.int64(6), 2: np.int64(8), 3: np.int64(2), 4: np.int64(1), 5: np.int64(7)}\n"
     ]
    }
   ],
   "source": [
    "# Charger le fichier Excel\n",
    "\n",
    "id_file = 3\n",
    "\n",
    "if id_file == 0:\n",
    "    file = \"mini_instance.xlsx\"\n",
    "elif id_file == 1:    \n",
    "    file = \"instance_WPY_realiste_jalon1.xlsx\"\n",
    "elif id_file == 2:\n",
    "    file = \"instance_WPY_realiste_jalon2.xlsx\"\n",
    "elif id_file == 3:\n",
    "    file = \"instance_WPY_simple.xlsx\"\n",
    "else:\n",
    "    raise ValueError(f\"Erreur : '{id_file}' n'est pas une valeur acceptable. Choisissez parmi 0, 1, 2 et 3.\")\n",
    "\n",
    "# Lire les feuilles \"Sillons arrivée\" et \"Sillons départ\"\n",
    "df_sillons_arr, df_sillons_dep = read_sillon(file)\n",
    "\n",
    "# Dictionnaires pour stocker les temps d'arrivée et de départ en minutes :\n",
    "# Traitement des arrivées\n",
    "t_a = init_t_a(df_sillons_arr, id_file)\n",
    "\n",
    "t_d = init_t_d(df_sillons_dep, id_file)\n",
    "\n",
    "time_base=base_time(id_file)\n",
    "\n",
    "#Initialisation de l'intervalle de temps étudié\n",
    "t_min=0\n",
    "t_max=int(dernier_depart(df_sillons_dep,time_base)) #en quinzaine de minutes\n",
    "#print(t_max//15+1)\n",
    "\n",
    "# Vérification finale\n",
    "#print(\"Vérification du contenu final de t_a :\")\n",
    "#for key, value in t_a.items():\n",
    "#    print(f\"Le train {key} arrive en gare de Woippy au bout de {value} minutes\")\n",
    "\n",
    "#print(\"Vérification du contenu final de t_d :\")\n",
    "#for key, value in t_d.items():\n",
    "#    print(f\"Le train {key} part de la gare de Woippy au bout de {value} minutes\")\n",
    "\n",
    "df_correspondance = pd.read_excel(file, sheet_name=\"Correspondances\")\n",
    "\n",
    "D = init_dict_correspondance(df_correspondance, id_file)\n",
    "#print(D)\n",
    "\n",
    "temps_min = 0\n",
    "temps_max = int(t_max//15+1)\n",
    "\n",
    "nb_roulements=nombre_roulements(file)\n",
    "\n",
    "h_deb, nb_cycles_agents, nb_cycle_jour=heure_debut_roulement(file,temps_min,temps_max)\n",
    "#print(nb_cycles_agents)\n",
    "#print(h_deb)\n",
    "\n",
    "#print(comp(file))\n",
    "comp_arr, comp_dep = comp(file)\n",
    "\n",
    "equip=roulements_operants_sur_tache(file)\n",
    "\n",
    "print(equip)\n",
    "print(nombre_max_agents_sur_roulement(file))"
   ]
  },
  {
   "cell_type": "code",
   "execution_count": 3,
   "metadata": {},
   "outputs": [
    {
     "name": "stdout",
     "output_type": "stream",
     "text": [
      "Set parameter Username\n",
      "Set parameter LicenseID to value 2617576\n",
      "Academic license - for non-commercial use only - expires 2026-02-03\n"
     ]
    },
    {
     "name": "stderr",
     "output_type": "stream",
     "text": [
      "Contrainte assurant la succession des tâches sur les trains d'arrivée: 100%|██████████| 18/18 [00:00<00:00, 895.17it/s]\n",
      "Contrainte assurant la succession des tâches sur les trains de départ: 100%|██████████| 18/18 [00:00<00:00, 8606.64it/s]\n",
      "Contrainte assurant qu'il n'y a qu'un train niveau de la machine DEB: 100%|██████████| 18/18 [00:00<00:00, 685.84it/s]\n",
      "Contrainte assurant qu'il n'y a qu'un train niveau des machines FOR et DEG: 100%|██████████| 2/2 [00:00<00:00, 40.95it/s]\n",
      "Contrainte de fermeture de la machine DEB: 100%|██████████| 18/18 [00:00<00:00, 593.64it/s]\n",
      "Contrainte de fermeture de la machine FOR: 100%|██████████| 18/18 [00:00<00:00, 1909.39it/s]\n",
      "Contrainte de fermeture de la machine DEG: 100%|██████████| 18/18 [00:00<00:00, 1466.48it/s]\n",
      "Contrainte de fermeture du Chantier FOR: 100%|██████████| 18/18 [00:00<00:00, 485.12it/s]\n",
      "Contrainte assurant la succession des tâches entre les chantiers de REC et FOR: 100%|██████████| 18/18 [00:00<00:00, 14215.30it/s]\n",
      "Contrainte relative au nombre de voies des chantiers: 100%|██████████| 670/670 [00:00<00:00, 11419.89it/s]\n",
      "Contrainte définissant le temps de débranchement du premier wagon d'un train de départ: 100%|██████████| 18/18 [00:00<00:00, 902.17it/s]\n"
     ]
    }
   ],
   "source": [
    "model,t_arr,t_dep, is_present, who_arr, who_dep = init_model(\n",
    "    liste_id_train_arrivee = t_a.keys(),\n",
    "    t_a = t_a,\n",
    "    liste_id_train_depart = t_d.keys(),\n",
    "    t_d = t_d,\n",
    "    dict_correspondances = D,\n",
    "    file=file,\n",
    "    id_file = id_file,\n",
    "    limites_voies=init_limites_voies(file),\n",
    "    temps_max=temps_max,\n",
    "    temps_min=temps_min,\n",
    "    nb_cycles_agents=nb_cycles_agents,\n",
    "    heure_debut_roulement=h_deb,\n",
    "    nombre_roulements=nb_roulements,\n",
    "    equip=equip,\n",
    "    max_agents_sur_roulement=nombre_max_agents_sur_roulement(file),\n",
    "    #nombre_cycles=nombre_cycles_agents(file,temps_min,temps_max),\n",
    "    h_deb=h_deb,\n",
    "    comp_arr=comp_arr,\n",
    "    comp_dep=comp_dep,\n",
    "    nb_cycle_jour=nb_cycle_jour\n",
    ")\n"
   ]
  },
  {
   "cell_type": "code",
   "execution_count": 4,
   "metadata": {},
   "outputs": [
    {
     "name": "stdout",
     "output_type": "stream",
     "text": [
      "Ca marche !\n",
      "Tâche 1 - Train A1_08 : 600.0\n",
      "Tâche 1 - Train A3_08 : 1320.0\n",
      "Tâche 1 - Train A2_08 : 705.0\n",
      "Tâche 1 - Train A2_09 : 2130.0\n",
      "Tâche 1 - Train A3_09 : 2760.0\n",
      "Tâche 1 - Train A1_09 : 2040.0\n",
      "Tâche 1 - Train A3_10 : 4200.0\n",
      "Tâche 1 - Train A1_10 : 3480.0\n",
      "Tâche 1 - Train A2_10 : 3570.0\n",
      "Tâche 1 - Train A2_11 : 5010.0\n",
      "Tâche 1 - Train A1_11 : 4920.0\n",
      "Tâche 1 - Train A3_11 : 5655.0\n",
      "Tâche 1 - Train A2_12 : 6450.0\n",
      "Tâche 1 - Train A3_12 : 7155.0\n",
      "Tâche 1 - Train A1_12 : 6360.0\n",
      "Tâche 1 - Train A3_13 : 8535.0\n",
      "Tâche 1 - Train A4_13 : 7725.0\n",
      "Tâche 1 - Train A4_14 : 9165.0\n",
      "Tâche 2 - Train A1_08 : 630.0\n",
      "Tâche 2 - Train A3_08 : 1335.0\n",
      "Tâche 2 - Train A2_08 : 720.0\n",
      "Tâche 2 - Train A2_09 : 2160.0\n",
      "Tâche 2 - Train A3_09 : 2805.0\n",
      "Tâche 2 - Train A1_09 : 2055.0\n",
      "Tâche 2 - Train A3_10 : 4260.0\n",
      "Tâche 2 - Train A1_10 : 3495.0\n",
      "Tâche 2 - Train A2_10 : 3585.0\n",
      "Tâche 2 - Train A2_11 : 5070.0\n",
      "Tâche 2 - Train A1_11 : 4965.0\n",
      "Tâche 2 - Train A3_11 : 5685.0\n",
      "Tâche 2 - Train A2_12 : 6465.0\n",
      "Tâche 2 - Train A3_12 : 7170.0\n",
      "Tâche 2 - Train A1_12 : 6375.0\n",
      "Tâche 2 - Train A3_13 : 8550.0\n",
      "Tâche 2 - Train A4_13 : 7740.0\n",
      "Tâche 2 - Train A4_14 : 9180.0\n",
      "Tâche 3 - Train A1_08 : 780.0\n",
      "Tâche 3 - Train A3_08 : 1380.0\n",
      "Tâche 3 - Train A2_08 : 795.0\n",
      "Tâche 3 - Train A2_09 : 2235.0\n",
      "Tâche 3 - Train A3_09 : 2850.0\n",
      "Tâche 3 - Train A1_09 : 2100.0\n",
      "Tâche 3 - Train A3_10 : 4335.0\n",
      "Tâche 3 - Train A1_10 : 3540.0\n",
      "Tâche 3 - Train A2_10 : 3630.0\n",
      "Tâche 3 - Train A2_11 : 5115.0\n",
      "Tâche 3 - Train A1_11 : 5130.0\n",
      "Tâche 3 - Train A3_11 : 5730.0\n",
      "Tâche 3 - Train A2_12 : 6510.0\n",
      "Tâche 3 - Train A3_12 : 7215.0\n",
      "Tâche 3 - Train A1_12 : 6435.0\n",
      "Tâche 3 - Train A3_13 : 8595.0\n",
      "Tâche 3 - Train A4_13 : 7800.0\n",
      "Tâche 3 - Train A4_14 : 9225.0\n",
      "Tâche 1 - Train D1_08 : 810.0\n",
      "Tâche 1 - Train D2_08 : 990.0\n",
      "Tâche 1 - Train D1_09 : 2250.0\n",
      "Tâche 1 - Train D3_09 : 1395.0\n",
      "Tâche 1 - Train D2_09 : 2430.0\n",
      "Tâche 1 - Train D1_10 : 3675.0\n",
      "Tâche 1 - Train D2_10 : 3855.0\n",
      "Tâche 1 - Train D3_10 : 2865.0\n",
      "Tâche 1 - Train D3_11 : 4350.0\n",
      "Tâche 1 - Train D1_11 : 5145.0\n",
      "Tâche 1 - Train D2_11 : 5370.0\n",
      "Tâche 1 - Train D2_12 : 6765.0\n",
      "Tâche 1 - Train D1_12 : 6540.0\n",
      "Tâche 1 - Train D3_12 : 5745.0\n",
      "Tâche 1 - Train D3_13 : 7230.0\n",
      "Tâche 1 - Train D4_13 : 7815.0\n",
      "Tâche 1 - Train D3_14 : 8640.0\n",
      "Tâche 1 - Train D4_14 : 9240.0\n",
      "Tâche 2 - Train D1_08 : 825.0\n",
      "Tâche 2 - Train D2_08 : 1005.0\n",
      "Tâche 2 - Train D1_09 : 2265.0\n",
      "Tâche 2 - Train D3_09 : 1410.0\n",
      "Tâche 2 - Train D2_09 : 2445.0\n",
      "Tâche 2 - Train D1_10 : 3690.0\n",
      "Tâche 2 - Train D2_10 : 3900.0\n",
      "Tâche 2 - Train D3_10 : 2925.0\n",
      "Tâche 2 - Train D3_11 : 4365.0\n",
      "Tâche 2 - Train D1_11 : 5160.0\n",
      "Tâche 2 - Train D2_11 : 5385.0\n",
      "Tâche 2 - Train D2_12 : 6870.0\n",
      "Tâche 2 - Train D1_12 : 6555.0\n",
      "Tâche 2 - Train D3_12 : 5775.0\n",
      "Tâche 2 - Train D3_13 : 7245.0\n",
      "Tâche 2 - Train D4_13 : 7830.0\n",
      "Tâche 2 - Train D3_14 : 8655.0\n",
      "Tâche 2 - Train D4_14 : 9255.0\n",
      "Tâche 3 - Train D1_08 : 975.0\n",
      "Tâche 3 - Train D2_08 : 1170.0\n",
      "Tâche 3 - Train D1_09 : 2415.0\n",
      "Tâche 3 - Train D3_09 : 1560.0\n",
      "Tâche 3 - Train D2_09 : 2700.0\n",
      "Tâche 3 - Train D1_10 : 3840.0\n",
      "Tâche 3 - Train D2_10 : 4050.0\n",
      "Tâche 3 - Train D3_10 : 3075.0\n",
      "Tâche 3 - Train D3_11 : 4515.0\n",
      "Tâche 3 - Train D1_11 : 5310.0\n",
      "Tâche 3 - Train D2_11 : 5655.0\n",
      "Tâche 3 - Train D2_12 : 7020.0\n",
      "Tâche 3 - Train D1_12 : 6795.0\n",
      "Tâche 3 - Train D3_12 : 5925.0\n",
      "Tâche 3 - Train D3_13 : 7395.0\n",
      "Tâche 3 - Train D4_13 : 8520.0\n",
      "Tâche 3 - Train D3_14 : 8835.0\n",
      "Tâche 3 - Train D4_14 : 9405.0\n",
      "Tâche 4 - Train D1_08 : 990.0\n",
      "Tâche 4 - Train D2_08 : 1290.0\n",
      "Tâche 4 - Train D1_09 : 2430.0\n",
      "Tâche 4 - Train D3_09 : 1650.0\n",
      "Tâche 4 - Train D2_09 : 2730.0\n",
      "Tâche 4 - Train D1_10 : 3885.0\n",
      "Tâche 4 - Train D2_10 : 4200.0\n",
      "Tâche 4 - Train D3_10 : 3090.0\n",
      "Tâche 4 - Train D3_11 : 4530.0\n",
      "Tâche 4 - Train D1_11 : 5340.0\n",
      "Tâche 4 - Train D2_11 : 5670.0\n",
      "Tâche 4 - Train D2_12 : 7080.0\n",
      "Tâche 4 - Train D1_12 : 6810.0\n",
      "Tâche 4 - Train D3_12 : 5955.0\n",
      "Tâche 4 - Train D3_13 : 7410.0\n",
      "Tâche 4 - Train D4_13 : 8535.0\n",
      "Tâche 4 - Train D3_14 : 8850.0\n",
      "Tâche 4 - Train D4_14 : 9435.0\n",
      "La valeur objectif est : 27.0\n"
     ]
    }
   ],
   "source": [
    "model.optimize()\n",
    "\n",
    "if model.status == GRB.INFEASIBLE:\n",
    "    print(\"Le modèle n'a pas de solution\")\n",
    "elif model.status == GRB.UNBOUNDED:\n",
    "    print(\"Le modèle est non borné\")\n",
    "else:\n",
    "    print(\"Ca marche !\")\n",
    "    for (m, n), var in t_arr.items():\n",
    "        print(f\"Tâche {m} - Train {n} : {15*var.x}\")\n",
    "    for (m, n), var in t_dep.items():\n",
    "        print(f\"Tâche {m} - Train {n} : {15*var.x}\")\n",
    "    print('La valeur objectif est :', model.objVal)"
   ]
  },
  {
   "cell_type": "code",
   "execution_count": 5,
   "metadata": {},
   "outputs": [
    {
     "data": {
      "application/vnd.plotly.v1+json": {
       "config": {
        "plotlyServerURL": "https://plot.ly"
       },
       "data": [
        {
         "base": [
          "2022-08-08T10:00:00.000000000",
          "2022-08-08T10:30:00.000000000",
          "2022-08-08T13:00:00.000000000"
         ],
         "hovertemplate": "Train=A1_08<br>Start=%{base}<br>Finish=%{x}<br>Tâches=%{y}<extra></extra>",
         "legendgroup": "A1_08",
         "marker": {
          "color": "#636efa",
          "pattern": {
           "shape": ""
          }
         },
         "name": "A1_08",
         "orientation": "h",
         "showlegend": true,
         "textposition": "auto",
         "type": "bar",
         "x": {
          "bdata": "oLsNAOAyKQCguw0A",
          "dtype": "i4"
         },
         "xaxis": "x",
         "y": [
          "arr_1",
          "arr_2",
          "arr_3"
         ],
         "yaxis": "y"
        },
        {
         "base": [
          "2022-08-08T22:00:00.000000000",
          "2022-08-08T22:15:00.000000000",
          "2022-08-08T23:00:00.000000000"
         ],
         "hovertemplate": "Train=A3_08<br>Start=%{base}<br>Finish=%{x}<br>Tâches=%{y}<extra></extra>",
         "legendgroup": "A3_08",
         "marker": {
          "color": "#EF553B",
          "pattern": {
           "shape": ""
          }
         },
         "name": "A3_08",
         "orientation": "h",
         "showlegend": true,
         "textposition": "auto",
         "type": "bar",
         "x": {
          "bdata": "oLsNAOAyKQCguw0A",
          "dtype": "i4"
         },
         "xaxis": "x",
         "y": [
          "arr_1",
          "arr_2",
          "arr_3"
         ],
         "yaxis": "y"
        },
        {
         "base": [
          "2022-08-08T11:45:00.000000000",
          "2022-08-08T12:00:00.000000000",
          "2022-08-08T13:15:00.000000000"
         ],
         "hovertemplate": "Train=A2_08<br>Start=%{base}<br>Finish=%{x}<br>Tâches=%{y}<extra></extra>",
         "legendgroup": "A2_08",
         "marker": {
          "color": "#00cc96",
          "pattern": {
           "shape": ""
          }
         },
         "name": "A2_08",
         "orientation": "h",
         "showlegend": true,
         "textposition": "auto",
         "type": "bar",
         "x": {
          "bdata": "oLsNAOAyKQCguw0A",
          "dtype": "i4"
         },
         "xaxis": "x",
         "y": [
          "arr_1",
          "arr_2",
          "arr_3"
         ],
         "yaxis": "y"
        },
        {
         "base": [
          "2022-08-09T11:30:00.000000000",
          "2022-08-09T12:00:00.000000000",
          "2022-08-09T13:15:00.000000000"
         ],
         "hovertemplate": "Train=A2_09<br>Start=%{base}<br>Finish=%{x}<br>Tâches=%{y}<extra></extra>",
         "legendgroup": "A2_09",
         "marker": {
          "color": "#ab63fa",
          "pattern": {
           "shape": ""
          }
         },
         "name": "A2_09",
         "orientation": "h",
         "showlegend": true,
         "textposition": "auto",
         "type": "bar",
         "x": {
          "bdata": "oLsNAOAyKQCguw0A",
          "dtype": "i4"
         },
         "xaxis": "x",
         "y": [
          "arr_1",
          "arr_2",
          "arr_3"
         ],
         "yaxis": "y"
        },
        {
         "base": [
          "2022-08-09T22:00:00.000000000",
          "2022-08-09T22:45:00.000000000",
          "2022-08-09T23:30:00.000000000"
         ],
         "hovertemplate": "Train=A3_09<br>Start=%{base}<br>Finish=%{x}<br>Tâches=%{y}<extra></extra>",
         "legendgroup": "A3_09",
         "marker": {
          "color": "#FFA15A",
          "pattern": {
           "shape": ""
          }
         },
         "name": "A3_09",
         "orientation": "h",
         "showlegend": true,
         "textposition": "auto",
         "type": "bar",
         "x": {
          "bdata": "oLsNAOAyKQCguw0A",
          "dtype": "i4"
         },
         "xaxis": "x",
         "y": [
          "arr_1",
          "arr_2",
          "arr_3"
         ],
         "yaxis": "y"
        },
        {
         "base": [
          "2022-08-09T10:00:00.000000000",
          "2022-08-09T10:15:00.000000000",
          "2022-08-09T11:00:00.000000000"
         ],
         "hovertemplate": "Train=A1_09<br>Start=%{base}<br>Finish=%{x}<br>Tâches=%{y}<extra></extra>",
         "legendgroup": "A1_09",
         "marker": {
          "color": "#19d3f3",
          "pattern": {
           "shape": ""
          }
         },
         "name": "A1_09",
         "orientation": "h",
         "showlegend": true,
         "textposition": "auto",
         "type": "bar",
         "x": {
          "bdata": "oLsNAOAyKQCguw0A",
          "dtype": "i4"
         },
         "xaxis": "x",
         "y": [
          "arr_1",
          "arr_2",
          "arr_3"
         ],
         "yaxis": "y"
        },
        {
         "base": [
          "2022-08-10T22:00:00.000000000",
          "2022-08-10T23:00:00.000000000",
          "2022-08-11T00:15:00.000000000"
         ],
         "hovertemplate": "Train=A3_10<br>Start=%{base}<br>Finish=%{x}<br>Tâches=%{y}<extra></extra>",
         "legendgroup": "A3_10",
         "marker": {
          "color": "#FF6692",
          "pattern": {
           "shape": ""
          }
         },
         "name": "A3_10",
         "orientation": "h",
         "showlegend": true,
         "textposition": "auto",
         "type": "bar",
         "x": {
          "bdata": "oLsNAOAyKQCguw0A",
          "dtype": "i4"
         },
         "xaxis": "x",
         "y": [
          "arr_1",
          "arr_2",
          "arr_3"
         ],
         "yaxis": "y"
        },
        {
         "base": [
          "2022-08-10T10:00:00.000000000",
          "2022-08-10T10:15:00.000000000",
          "2022-08-10T11:00:00.000000000"
         ],
         "hovertemplate": "Train=A1_10<br>Start=%{base}<br>Finish=%{x}<br>Tâches=%{y}<extra></extra>",
         "legendgroup": "A1_10",
         "marker": {
          "color": "#B6E880",
          "pattern": {
           "shape": ""
          }
         },
         "name": "A1_10",
         "orientation": "h",
         "showlegend": true,
         "textposition": "auto",
         "type": "bar",
         "x": {
          "bdata": "oLsNAOAyKQCguw0A",
          "dtype": "i4"
         },
         "xaxis": "x",
         "y": [
          "arr_1",
          "arr_2",
          "arr_3"
         ],
         "yaxis": "y"
        },
        {
         "base": [
          "2022-08-10T11:30:00.000000000",
          "2022-08-10T11:45:00.000000000",
          "2022-08-10T12:30:00.000000000"
         ],
         "hovertemplate": "Train=A2_10<br>Start=%{base}<br>Finish=%{x}<br>Tâches=%{y}<extra></extra>",
         "legendgroup": "A2_10",
         "marker": {
          "color": "#FF97FF",
          "pattern": {
           "shape": ""
          }
         },
         "name": "A2_10",
         "orientation": "h",
         "showlegend": true,
         "textposition": "auto",
         "type": "bar",
         "x": {
          "bdata": "oLsNAOAyKQCguw0A",
          "dtype": "i4"
         },
         "xaxis": "x",
         "y": [
          "arr_1",
          "arr_2",
          "arr_3"
         ],
         "yaxis": "y"
        },
        {
         "base": [
          "2022-08-11T11:30:00.000000000",
          "2022-08-11T12:30:00.000000000",
          "2022-08-11T13:15:00.000000000"
         ],
         "hovertemplate": "Train=A2_11<br>Start=%{base}<br>Finish=%{x}<br>Tâches=%{y}<extra></extra>",
         "legendgroup": "A2_11",
         "marker": {
          "color": "#FECB52",
          "pattern": {
           "shape": ""
          }
         },
         "name": "A2_11",
         "orientation": "h",
         "showlegend": true,
         "textposition": "auto",
         "type": "bar",
         "x": {
          "bdata": "oLsNAOAyKQCguw0A",
          "dtype": "i4"
         },
         "xaxis": "x",
         "y": [
          "arr_1",
          "arr_2",
          "arr_3"
         ],
         "yaxis": "y"
        },
        {
         "base": [
          "2022-08-11T10:00:00.000000000",
          "2022-08-11T10:45:00.000000000",
          "2022-08-11T13:30:00.000000000"
         ],
         "hovertemplate": "Train=A1_11<br>Start=%{base}<br>Finish=%{x}<br>Tâches=%{y}<extra></extra>",
         "legendgroup": "A1_11",
         "marker": {
          "color": "#636efa",
          "pattern": {
           "shape": ""
          }
         },
         "name": "A1_11",
         "orientation": "h",
         "showlegend": true,
         "textposition": "auto",
         "type": "bar",
         "x": {
          "bdata": "oLsNAOAyKQCguw0A",
          "dtype": "i4"
         },
         "xaxis": "x",
         "y": [
          "arr_1",
          "arr_2",
          "arr_3"
         ],
         "yaxis": "y"
        },
        {
         "base": [
          "2022-08-11T22:15:00.000000000",
          "2022-08-11T22:45:00.000000000",
          "2022-08-11T23:30:00.000000000"
         ],
         "hovertemplate": "Train=A3_11<br>Start=%{base}<br>Finish=%{x}<br>Tâches=%{y}<extra></extra>",
         "legendgroup": "A3_11",
         "marker": {
          "color": "#EF553B",
          "pattern": {
           "shape": ""
          }
         },
         "name": "A3_11",
         "orientation": "h",
         "showlegend": true,
         "textposition": "auto",
         "type": "bar",
         "x": {
          "bdata": "oLsNAOAyKQCguw0A",
          "dtype": "i4"
         },
         "xaxis": "x",
         "y": [
          "arr_1",
          "arr_2",
          "arr_3"
         ],
         "yaxis": "y"
        },
        {
         "base": [
          "2022-08-12T11:30:00.000000000",
          "2022-08-12T11:45:00.000000000",
          "2022-08-12T12:30:00.000000000"
         ],
         "hovertemplate": "Train=A2_12<br>Start=%{base}<br>Finish=%{x}<br>Tâches=%{y}<extra></extra>",
         "legendgroup": "A2_12",
         "marker": {
          "color": "#00cc96",
          "pattern": {
           "shape": ""
          }
         },
         "name": "A2_12",
         "orientation": "h",
         "showlegend": true,
         "textposition": "auto",
         "type": "bar",
         "x": {
          "bdata": "oLsNAOAyKQCguw0A",
          "dtype": "i4"
         },
         "xaxis": "x",
         "y": [
          "arr_1",
          "arr_2",
          "arr_3"
         ],
         "yaxis": "y"
        },
        {
         "base": [
          "2022-08-12T23:15:00.000000000",
          "2022-08-12T23:30:00.000000000",
          "2022-08-13T00:15:00.000000000"
         ],
         "hovertemplate": "Train=A3_12<br>Start=%{base}<br>Finish=%{x}<br>Tâches=%{y}<extra></extra>",
         "legendgroup": "A3_12",
         "marker": {
          "color": "#ab63fa",
          "pattern": {
           "shape": ""
          }
         },
         "name": "A3_12",
         "orientation": "h",
         "showlegend": true,
         "textposition": "auto",
         "type": "bar",
         "x": {
          "bdata": "oLsNAOAyKQCguw0A",
          "dtype": "i4"
         },
         "xaxis": "x",
         "y": [
          "arr_1",
          "arr_2",
          "arr_3"
         ],
         "yaxis": "y"
        },
        {
         "base": [
          "2022-08-12T10:00:00.000000000",
          "2022-08-12T10:15:00.000000000",
          "2022-08-12T11:15:00.000000000"
         ],
         "hovertemplate": "Train=A1_12<br>Start=%{base}<br>Finish=%{x}<br>Tâches=%{y}<extra></extra>",
         "legendgroup": "A1_12",
         "marker": {
          "color": "#FFA15A",
          "pattern": {
           "shape": ""
          }
         },
         "name": "A1_12",
         "orientation": "h",
         "showlegend": true,
         "textposition": "auto",
         "type": "bar",
         "x": {
          "bdata": "oLsNAOAyKQCguw0A",
          "dtype": "i4"
         },
         "xaxis": "x",
         "y": [
          "arr_1",
          "arr_2",
          "arr_3"
         ],
         "yaxis": "y"
        },
        {
         "base": [
          "2022-08-13T22:15:00.000000000",
          "2022-08-13T22:30:00.000000000",
          "2022-08-13T23:15:00.000000000"
         ],
         "hovertemplate": "Train=A3_13<br>Start=%{base}<br>Finish=%{x}<br>Tâches=%{y}<extra></extra>",
         "legendgroup": "A3_13",
         "marker": {
          "color": "#19d3f3",
          "pattern": {
           "shape": ""
          }
         },
         "name": "A3_13",
         "orientation": "h",
         "showlegend": true,
         "textposition": "auto",
         "type": "bar",
         "x": {
          "bdata": "oLsNAOAyKQCguw0A",
          "dtype": "i4"
         },
         "xaxis": "x",
         "y": [
          "arr_1",
          "arr_2",
          "arr_3"
         ],
         "yaxis": "y"
        },
        {
         "base": [
          "2022-08-13T08:45:00.000000000",
          "2022-08-13T09:00:00.000000000",
          "2022-08-13T10:00:00.000000000"
         ],
         "hovertemplate": "Train=A4_13<br>Start=%{base}<br>Finish=%{x}<br>Tâches=%{y}<extra></extra>",
         "legendgroup": "A4_13",
         "marker": {
          "color": "#FF6692",
          "pattern": {
           "shape": ""
          }
         },
         "name": "A4_13",
         "orientation": "h",
         "showlegend": true,
         "textposition": "auto",
         "type": "bar",
         "x": {
          "bdata": "oLsNAOAyKQCguw0A",
          "dtype": "i4"
         },
         "xaxis": "x",
         "y": [
          "arr_1",
          "arr_2",
          "arr_3"
         ],
         "yaxis": "y"
        },
        {
         "base": [
          "2022-08-14T08:45:00.000000000",
          "2022-08-14T09:00:00.000000000",
          "2022-08-14T09:45:00.000000000"
         ],
         "hovertemplate": "Train=A4_14<br>Start=%{base}<br>Finish=%{x}<br>Tâches=%{y}<extra></extra>",
         "legendgroup": "A4_14",
         "marker": {
          "color": "#B6E880",
          "pattern": {
           "shape": ""
          }
         },
         "name": "A4_14",
         "orientation": "h",
         "showlegend": true,
         "textposition": "auto",
         "type": "bar",
         "x": {
          "bdata": "oLsNAOAyKQCguw0A",
          "dtype": "i4"
         },
         "xaxis": "x",
         "y": [
          "arr_1",
          "arr_2",
          "arr_3"
         ],
         "yaxis": "y"
        },
        {
         "base": [
          "2022-08-08T13:30:00.000000000",
          "2022-08-08T13:45:00.000000000",
          "2022-08-08T16:15:00.000000000",
          "2022-08-08T16:30:00.000000000"
         ],
         "hovertemplate": "Train=D1_08<br>Start=%{base}<br>Finish=%{x}<br>Tâches=%{y}<extra></extra>",
         "legendgroup": "D1_08",
         "marker": {
          "color": "#FF97FF",
          "pattern": {
           "shape": ""
          }
         },
         "name": "D1_08",
         "orientation": "h",
         "showlegend": true,
         "textposition": "auto",
         "type": "bar",
         "x": {
          "bdata": "oLsNAEBUiQCguw0AgE8SAA==",
          "dtype": "i4"
         },
         "xaxis": "x",
         "y": [
          "dep_1",
          "dep_2",
          "dep_3",
          "dep_4"
         ],
         "yaxis": "y"
        },
        {
         "base": [
          "2022-08-08T16:30:00.000000000",
          "2022-08-08T16:45:00.000000000",
          "2022-08-08T19:30:00.000000000",
          "2022-08-08T21:30:00.000000000"
         ],
         "hovertemplate": "Train=D2_08<br>Start=%{base}<br>Finish=%{x}<br>Tâches=%{y}<extra></extra>",
         "legendgroup": "D2_08",
         "marker": {
          "color": "#FECB52",
          "pattern": {
           "shape": ""
          }
         },
         "name": "D2_08",
         "orientation": "h",
         "showlegend": true,
         "textposition": "auto",
         "type": "bar",
         "x": {
          "bdata": "oLsNAEBUiQCguw0AgE8SAA==",
          "dtype": "i4"
         },
         "xaxis": "x",
         "y": [
          "dep_1",
          "dep_2",
          "dep_3",
          "dep_4"
         ],
         "yaxis": "y"
        },
        {
         "base": [
          "2022-08-09T13:30:00.000000000",
          "2022-08-09T13:45:00.000000000",
          "2022-08-09T16:15:00.000000000",
          "2022-08-09T16:30:00.000000000"
         ],
         "hovertemplate": "Train=D1_09<br>Start=%{base}<br>Finish=%{x}<br>Tâches=%{y}<extra></extra>",
         "legendgroup": "D1_09",
         "marker": {
          "color": "#636efa",
          "pattern": {
           "shape": ""
          }
         },
         "name": "D1_09",
         "orientation": "h",
         "showlegend": true,
         "textposition": "auto",
         "type": "bar",
         "x": {
          "bdata": "oLsNAEBUiQCguw0AgE8SAA==",
          "dtype": "i4"
         },
         "xaxis": "x",
         "y": [
          "dep_1",
          "dep_2",
          "dep_3",
          "dep_4"
         ],
         "yaxis": "y"
        },
        {
         "base": [
          "2022-08-08T23:15:00.000000000",
          "2022-08-08T23:30:00.000000000",
          "2022-08-09T02:00:00.000000000",
          "2022-08-09T03:30:00.000000000"
         ],
         "hovertemplate": "Train=D3_09<br>Start=%{base}<br>Finish=%{x}<br>Tâches=%{y}<extra></extra>",
         "legendgroup": "D3_09",
         "marker": {
          "color": "#EF553B",
          "pattern": {
           "shape": ""
          }
         },
         "name": "D3_09",
         "orientation": "h",
         "showlegend": true,
         "textposition": "auto",
         "type": "bar",
         "x": {
          "bdata": "oLsNAEBUiQCguw0AgE8SAA==",
          "dtype": "i4"
         },
         "xaxis": "x",
         "y": [
          "dep_1",
          "dep_2",
          "dep_3",
          "dep_4"
         ],
         "yaxis": "y"
        },
        {
         "base": [
          "2022-08-09T16:30:00.000000000",
          "2022-08-09T16:45:00.000000000",
          "2022-08-09T21:00:00.000000000",
          "2022-08-09T21:30:00.000000000"
         ],
         "hovertemplate": "Train=D2_09<br>Start=%{base}<br>Finish=%{x}<br>Tâches=%{y}<extra></extra>",
         "legendgroup": "D2_09",
         "marker": {
          "color": "#00cc96",
          "pattern": {
           "shape": ""
          }
         },
         "name": "D2_09",
         "orientation": "h",
         "showlegend": true,
         "textposition": "auto",
         "type": "bar",
         "x": {
          "bdata": "oLsNAEBUiQCguw0AgE8SAA==",
          "dtype": "i4"
         },
         "xaxis": "x",
         "y": [
          "dep_1",
          "dep_2",
          "dep_3",
          "dep_4"
         ],
         "yaxis": "y"
        },
        {
         "base": [
          "2022-08-10T13:15:00.000000000",
          "2022-08-10T13:30:00.000000000",
          "2022-08-10T16:00:00.000000000",
          "2022-08-10T16:45:00.000000000"
         ],
         "hovertemplate": "Train=D1_10<br>Start=%{base}<br>Finish=%{x}<br>Tâches=%{y}<extra></extra>",
         "legendgroup": "D1_10",
         "marker": {
          "color": "#ab63fa",
          "pattern": {
           "shape": ""
          }
         },
         "name": "D1_10",
         "orientation": "h",
         "showlegend": true,
         "textposition": "auto",
         "type": "bar",
         "x": {
          "bdata": "oLsNAEBUiQCguw0AgE8SAA==",
          "dtype": "i4"
         },
         "xaxis": "x",
         "y": [
          "dep_1",
          "dep_2",
          "dep_3",
          "dep_4"
         ],
         "yaxis": "y"
        },
        {
         "base": [
          "2022-08-10T16:15:00.000000000",
          "2022-08-10T17:00:00.000000000",
          "2022-08-10T19:30:00.000000000",
          "2022-08-10T22:00:00.000000000"
         ],
         "hovertemplate": "Train=D2_10<br>Start=%{base}<br>Finish=%{x}<br>Tâches=%{y}<extra></extra>",
         "legendgroup": "D2_10",
         "marker": {
          "color": "#FFA15A",
          "pattern": {
           "shape": ""
          }
         },
         "name": "D2_10",
         "orientation": "h",
         "showlegend": true,
         "textposition": "auto",
         "type": "bar",
         "x": {
          "bdata": "oLsNAEBUiQCguw0AgE8SAA==",
          "dtype": "i4"
         },
         "xaxis": "x",
         "y": [
          "dep_1",
          "dep_2",
          "dep_3",
          "dep_4"
         ],
         "yaxis": "y"
        },
        {
         "base": [
          "2022-08-09T23:45:00.000000000",
          "2022-08-10T00:45:00.000000000",
          "2022-08-10T03:15:00.000000000",
          "2022-08-10T03:30:00.000000000"
         ],
         "hovertemplate": "Train=D3_10<br>Start=%{base}<br>Finish=%{x}<br>Tâches=%{y}<extra></extra>",
         "legendgroup": "D3_10",
         "marker": {
          "color": "#19d3f3",
          "pattern": {
           "shape": ""
          }
         },
         "name": "D3_10",
         "orientation": "h",
         "showlegend": true,
         "textposition": "auto",
         "type": "bar",
         "x": {
          "bdata": "oLsNAEBUiQCguw0AgE8SAA==",
          "dtype": "i4"
         },
         "xaxis": "x",
         "y": [
          "dep_1",
          "dep_2",
          "dep_3",
          "dep_4"
         ],
         "yaxis": "y"
        },
        {
         "base": [
          "2022-08-11T00:30:00.000000000",
          "2022-08-11T00:45:00.000000000",
          "2022-08-11T03:15:00.000000000",
          "2022-08-11T03:30:00.000000000"
         ],
         "hovertemplate": "Train=D3_11<br>Start=%{base}<br>Finish=%{x}<br>Tâches=%{y}<extra></extra>",
         "legendgroup": "D3_11",
         "marker": {
          "color": "#FF6692",
          "pattern": {
           "shape": ""
          }
         },
         "name": "D3_11",
         "orientation": "h",
         "showlegend": true,
         "textposition": "auto",
         "type": "bar",
         "x": {
          "bdata": "oLsNAEBUiQCguw0AgE8SAA==",
          "dtype": "i4"
         },
         "xaxis": "x",
         "y": [
          "dep_1",
          "dep_2",
          "dep_3",
          "dep_4"
         ],
         "yaxis": "y"
        },
        {
         "base": [
          "2022-08-11T13:45:00.000000000",
          "2022-08-11T14:00:00.000000000",
          "2022-08-11T16:30:00.000000000",
          "2022-08-11T17:00:00.000000000"
         ],
         "hovertemplate": "Train=D1_11<br>Start=%{base}<br>Finish=%{x}<br>Tâches=%{y}<extra></extra>",
         "legendgroup": "D1_11",
         "marker": {
          "color": "#B6E880",
          "pattern": {
           "shape": ""
          }
         },
         "name": "D1_11",
         "orientation": "h",
         "showlegend": true,
         "textposition": "auto",
         "type": "bar",
         "x": {
          "bdata": "oLsNAEBUiQCguw0AgE8SAA==",
          "dtype": "i4"
         },
         "xaxis": "x",
         "y": [
          "dep_1",
          "dep_2",
          "dep_3",
          "dep_4"
         ],
         "yaxis": "y"
        },
        {
         "base": [
          "2022-08-11T17:30:00.000000000",
          "2022-08-11T17:45:00.000000000",
          "2022-08-11T22:15:00.000000000",
          "2022-08-11T22:30:00.000000000"
         ],
         "hovertemplate": "Train=D2_11<br>Start=%{base}<br>Finish=%{x}<br>Tâches=%{y}<extra></extra>",
         "legendgroup": "D2_11",
         "marker": {
          "color": "#FF97FF",
          "pattern": {
           "shape": ""
          }
         },
         "name": "D2_11",
         "orientation": "h",
         "showlegend": true,
         "textposition": "auto",
         "type": "bar",
         "x": {
          "bdata": "oLsNAEBUiQCguw0AgE8SAA==",
          "dtype": "i4"
         },
         "xaxis": "x",
         "y": [
          "dep_1",
          "dep_2",
          "dep_3",
          "dep_4"
         ],
         "yaxis": "y"
        },
        {
         "base": [
          "2022-08-12T16:45:00.000000000",
          "2022-08-12T18:30:00.000000000",
          "2022-08-12T21:00:00.000000000",
          "2022-08-12T22:00:00.000000000"
         ],
         "hovertemplate": "Train=D2_12<br>Start=%{base}<br>Finish=%{x}<br>Tâches=%{y}<extra></extra>",
         "legendgroup": "D2_12",
         "marker": {
          "color": "#FECB52",
          "pattern": {
           "shape": ""
          }
         },
         "name": "D2_12",
         "orientation": "h",
         "showlegend": true,
         "textposition": "auto",
         "type": "bar",
         "x": {
          "bdata": "oLsNAEBUiQCguw0AgE8SAA==",
          "dtype": "i4"
         },
         "xaxis": "x",
         "y": [
          "dep_1",
          "dep_2",
          "dep_3",
          "dep_4"
         ],
         "yaxis": "y"
        },
        {
         "base": [
          "2022-08-12T13:00:00.000000000",
          "2022-08-12T13:15:00.000000000",
          "2022-08-12T17:15:00.000000000",
          "2022-08-12T17:30:00.000000000"
         ],
         "hovertemplate": "Train=D1_12<br>Start=%{base}<br>Finish=%{x}<br>Tâches=%{y}<extra></extra>",
         "legendgroup": "D1_12",
         "marker": {
          "color": "#636efa",
          "pattern": {
           "shape": ""
          }
         },
         "name": "D1_12",
         "orientation": "h",
         "showlegend": true,
         "textposition": "auto",
         "type": "bar",
         "x": {
          "bdata": "oLsNAEBUiQCguw0AgE8SAA==",
          "dtype": "i4"
         },
         "xaxis": "x",
         "y": [
          "dep_1",
          "dep_2",
          "dep_3",
          "dep_4"
         ],
         "yaxis": "y"
        },
        {
         "base": [
          "2022-08-11T23:45:00.000000000",
          "2022-08-12T00:15:00.000000000",
          "2022-08-12T02:45:00.000000000",
          "2022-08-12T03:15:00.000000000"
         ],
         "hovertemplate": "Train=D3_12<br>Start=%{base}<br>Finish=%{x}<br>Tâches=%{y}<extra></extra>",
         "legendgroup": "D3_12",
         "marker": {
          "color": "#EF553B",
          "pattern": {
           "shape": ""
          }
         },
         "name": "D3_12",
         "orientation": "h",
         "showlegend": true,
         "textposition": "auto",
         "type": "bar",
         "x": {
          "bdata": "oLsNAEBUiQCguw0AgE8SAA==",
          "dtype": "i4"
         },
         "xaxis": "x",
         "y": [
          "dep_1",
          "dep_2",
          "dep_3",
          "dep_4"
         ],
         "yaxis": "y"
        },
        {
         "base": [
          "2022-08-13T00:30:00.000000000",
          "2022-08-13T00:45:00.000000000",
          "2022-08-13T03:15:00.000000000",
          "2022-08-13T03:30:00.000000000"
         ],
         "hovertemplate": "Train=D3_13<br>Start=%{base}<br>Finish=%{x}<br>Tâches=%{y}<extra></extra>",
         "legendgroup": "D3_13",
         "marker": {
          "color": "#00cc96",
          "pattern": {
           "shape": ""
          }
         },
         "name": "D3_13",
         "orientation": "h",
         "showlegend": true,
         "textposition": "auto",
         "type": "bar",
         "x": {
          "bdata": "oLsNAEBUiQCguw0AgE8SAA==",
          "dtype": "i4"
         },
         "xaxis": "x",
         "y": [
          "dep_1",
          "dep_2",
          "dep_3",
          "dep_4"
         ],
         "yaxis": "y"
        },
        {
         "base": [
          "2022-08-13T10:15:00.000000000",
          "2022-08-13T10:30:00.000000000",
          "2022-08-13T22:00:00.000000000",
          "2022-08-13T22:15:00.000000000"
         ],
         "hovertemplate": "Train=D4_13<br>Start=%{base}<br>Finish=%{x}<br>Tâches=%{y}<extra></extra>",
         "legendgroup": "D4_13",
         "marker": {
          "color": "#ab63fa",
          "pattern": {
           "shape": ""
          }
         },
         "name": "D4_13",
         "orientation": "h",
         "showlegend": true,
         "textposition": "auto",
         "type": "bar",
         "x": {
          "bdata": "oLsNAEBUiQCguw0AgE8SAA==",
          "dtype": "i4"
         },
         "xaxis": "x",
         "y": [
          "dep_1",
          "dep_2",
          "dep_3",
          "dep_4"
         ],
         "yaxis": "y"
        },
        {
         "base": [
          "2022-08-14T00:00:00.000000000",
          "2022-08-14T00:15:00.000000000",
          "2022-08-14T03:15:00.000000000",
          "2022-08-14T03:30:00.000000000"
         ],
         "hovertemplate": "Train=D3_14<br>Start=%{base}<br>Finish=%{x}<br>Tâches=%{y}<extra></extra>",
         "legendgroup": "D3_14",
         "marker": {
          "color": "#FFA15A",
          "pattern": {
           "shape": ""
          }
         },
         "name": "D3_14",
         "orientation": "h",
         "showlegend": true,
         "textposition": "auto",
         "type": "bar",
         "x": {
          "bdata": "oLsNAEBUiQCguw0AgE8SAA==",
          "dtype": "i4"
         },
         "xaxis": "x",
         "y": [
          "dep_1",
          "dep_2",
          "dep_3",
          "dep_4"
         ],
         "yaxis": "y"
        },
        {
         "base": [
          "2022-08-14T10:00:00.000000000",
          "2022-08-14T10:15:00.000000000",
          "2022-08-14T12:45:00.000000000",
          "2022-08-14T13:15:00.000000000"
         ],
         "hovertemplate": "Train=D4_14<br>Start=%{base}<br>Finish=%{x}<br>Tâches=%{y}<extra></extra>",
         "legendgroup": "D4_14",
         "marker": {
          "color": "#19d3f3",
          "pattern": {
           "shape": ""
          }
         },
         "name": "D4_14",
         "orientation": "h",
         "showlegend": true,
         "textposition": "auto",
         "type": "bar",
         "x": {
          "bdata": "oLsNAEBUiQCguw0AgE8SAA==",
          "dtype": "i4"
         },
         "xaxis": "x",
         "y": [
          "dep_1",
          "dep_2",
          "dep_3",
          "dep_4"
         ],
         "yaxis": "y"
        }
       ],
       "layout": {
        "barmode": "overlay",
        "legend": {
         "title": {
          "text": "Train"
         },
         "tracegroupgap": 0
        },
        "margin": {
         "t": 60
        },
        "template": {
         "data": {
          "bar": [
           {
            "error_x": {
             "color": "#2a3f5f"
            },
            "error_y": {
             "color": "#2a3f5f"
            },
            "marker": {
             "line": {
              "color": "#E5ECF6",
              "width": 0.5
             },
             "pattern": {
              "fillmode": "overlay",
              "size": 10,
              "solidity": 0.2
             }
            },
            "type": "bar"
           }
          ],
          "barpolar": [
           {
            "marker": {
             "line": {
              "color": "#E5ECF6",
              "width": 0.5
             },
             "pattern": {
              "fillmode": "overlay",
              "size": 10,
              "solidity": 0.2
             }
            },
            "type": "barpolar"
           }
          ],
          "carpet": [
           {
            "aaxis": {
             "endlinecolor": "#2a3f5f",
             "gridcolor": "white",
             "linecolor": "white",
             "minorgridcolor": "white",
             "startlinecolor": "#2a3f5f"
            },
            "baxis": {
             "endlinecolor": "#2a3f5f",
             "gridcolor": "white",
             "linecolor": "white",
             "minorgridcolor": "white",
             "startlinecolor": "#2a3f5f"
            },
            "type": "carpet"
           }
          ],
          "choropleth": [
           {
            "colorbar": {
             "outlinewidth": 0,
             "ticks": ""
            },
            "type": "choropleth"
           }
          ],
          "contour": [
           {
            "colorbar": {
             "outlinewidth": 0,
             "ticks": ""
            },
            "colorscale": [
             [
              0,
              "#0d0887"
             ],
             [
              0.1111111111111111,
              "#46039f"
             ],
             [
              0.2222222222222222,
              "#7201a8"
             ],
             [
              0.3333333333333333,
              "#9c179e"
             ],
             [
              0.4444444444444444,
              "#bd3786"
             ],
             [
              0.5555555555555556,
              "#d8576b"
             ],
             [
              0.6666666666666666,
              "#ed7953"
             ],
             [
              0.7777777777777778,
              "#fb9f3a"
             ],
             [
              0.8888888888888888,
              "#fdca26"
             ],
             [
              1,
              "#f0f921"
             ]
            ],
            "type": "contour"
           }
          ],
          "contourcarpet": [
           {
            "colorbar": {
             "outlinewidth": 0,
             "ticks": ""
            },
            "type": "contourcarpet"
           }
          ],
          "heatmap": [
           {
            "colorbar": {
             "outlinewidth": 0,
             "ticks": ""
            },
            "colorscale": [
             [
              0,
              "#0d0887"
             ],
             [
              0.1111111111111111,
              "#46039f"
             ],
             [
              0.2222222222222222,
              "#7201a8"
             ],
             [
              0.3333333333333333,
              "#9c179e"
             ],
             [
              0.4444444444444444,
              "#bd3786"
             ],
             [
              0.5555555555555556,
              "#d8576b"
             ],
             [
              0.6666666666666666,
              "#ed7953"
             ],
             [
              0.7777777777777778,
              "#fb9f3a"
             ],
             [
              0.8888888888888888,
              "#fdca26"
             ],
             [
              1,
              "#f0f921"
             ]
            ],
            "type": "heatmap"
           }
          ],
          "histogram": [
           {
            "marker": {
             "pattern": {
              "fillmode": "overlay",
              "size": 10,
              "solidity": 0.2
             }
            },
            "type": "histogram"
           }
          ],
          "histogram2d": [
           {
            "colorbar": {
             "outlinewidth": 0,
             "ticks": ""
            },
            "colorscale": [
             [
              0,
              "#0d0887"
             ],
             [
              0.1111111111111111,
              "#46039f"
             ],
             [
              0.2222222222222222,
              "#7201a8"
             ],
             [
              0.3333333333333333,
              "#9c179e"
             ],
             [
              0.4444444444444444,
              "#bd3786"
             ],
             [
              0.5555555555555556,
              "#d8576b"
             ],
             [
              0.6666666666666666,
              "#ed7953"
             ],
             [
              0.7777777777777778,
              "#fb9f3a"
             ],
             [
              0.8888888888888888,
              "#fdca26"
             ],
             [
              1,
              "#f0f921"
             ]
            ],
            "type": "histogram2d"
           }
          ],
          "histogram2dcontour": [
           {
            "colorbar": {
             "outlinewidth": 0,
             "ticks": ""
            },
            "colorscale": [
             [
              0,
              "#0d0887"
             ],
             [
              0.1111111111111111,
              "#46039f"
             ],
             [
              0.2222222222222222,
              "#7201a8"
             ],
             [
              0.3333333333333333,
              "#9c179e"
             ],
             [
              0.4444444444444444,
              "#bd3786"
             ],
             [
              0.5555555555555556,
              "#d8576b"
             ],
             [
              0.6666666666666666,
              "#ed7953"
             ],
             [
              0.7777777777777778,
              "#fb9f3a"
             ],
             [
              0.8888888888888888,
              "#fdca26"
             ],
             [
              1,
              "#f0f921"
             ]
            ],
            "type": "histogram2dcontour"
           }
          ],
          "mesh3d": [
           {
            "colorbar": {
             "outlinewidth": 0,
             "ticks": ""
            },
            "type": "mesh3d"
           }
          ],
          "parcoords": [
           {
            "line": {
             "colorbar": {
              "outlinewidth": 0,
              "ticks": ""
             }
            },
            "type": "parcoords"
           }
          ],
          "pie": [
           {
            "automargin": true,
            "type": "pie"
           }
          ],
          "scatter": [
           {
            "fillpattern": {
             "fillmode": "overlay",
             "size": 10,
             "solidity": 0.2
            },
            "type": "scatter"
           }
          ],
          "scatter3d": [
           {
            "line": {
             "colorbar": {
              "outlinewidth": 0,
              "ticks": ""
             }
            },
            "marker": {
             "colorbar": {
              "outlinewidth": 0,
              "ticks": ""
             }
            },
            "type": "scatter3d"
           }
          ],
          "scattercarpet": [
           {
            "marker": {
             "colorbar": {
              "outlinewidth": 0,
              "ticks": ""
             }
            },
            "type": "scattercarpet"
           }
          ],
          "scattergeo": [
           {
            "marker": {
             "colorbar": {
              "outlinewidth": 0,
              "ticks": ""
             }
            },
            "type": "scattergeo"
           }
          ],
          "scattergl": [
           {
            "marker": {
             "colorbar": {
              "outlinewidth": 0,
              "ticks": ""
             }
            },
            "type": "scattergl"
           }
          ],
          "scattermap": [
           {
            "marker": {
             "colorbar": {
              "outlinewidth": 0,
              "ticks": ""
             }
            },
            "type": "scattermap"
           }
          ],
          "scattermapbox": [
           {
            "marker": {
             "colorbar": {
              "outlinewidth": 0,
              "ticks": ""
             }
            },
            "type": "scattermapbox"
           }
          ],
          "scatterpolar": [
           {
            "marker": {
             "colorbar": {
              "outlinewidth": 0,
              "ticks": ""
             }
            },
            "type": "scatterpolar"
           }
          ],
          "scatterpolargl": [
           {
            "marker": {
             "colorbar": {
              "outlinewidth": 0,
              "ticks": ""
             }
            },
            "type": "scatterpolargl"
           }
          ],
          "scatterternary": [
           {
            "marker": {
             "colorbar": {
              "outlinewidth": 0,
              "ticks": ""
             }
            },
            "type": "scatterternary"
           }
          ],
          "surface": [
           {
            "colorbar": {
             "outlinewidth": 0,
             "ticks": ""
            },
            "colorscale": [
             [
              0,
              "#0d0887"
             ],
             [
              0.1111111111111111,
              "#46039f"
             ],
             [
              0.2222222222222222,
              "#7201a8"
             ],
             [
              0.3333333333333333,
              "#9c179e"
             ],
             [
              0.4444444444444444,
              "#bd3786"
             ],
             [
              0.5555555555555556,
              "#d8576b"
             ],
             [
              0.6666666666666666,
              "#ed7953"
             ],
             [
              0.7777777777777778,
              "#fb9f3a"
             ],
             [
              0.8888888888888888,
              "#fdca26"
             ],
             [
              1,
              "#f0f921"
             ]
            ],
            "type": "surface"
           }
          ],
          "table": [
           {
            "cells": {
             "fill": {
              "color": "#EBF0F8"
             },
             "line": {
              "color": "white"
             }
            },
            "header": {
             "fill": {
              "color": "#C8D4E3"
             },
             "line": {
              "color": "white"
             }
            },
            "type": "table"
           }
          ]
         },
         "layout": {
          "annotationdefaults": {
           "arrowcolor": "#2a3f5f",
           "arrowhead": 0,
           "arrowwidth": 1
          },
          "autotypenumbers": "strict",
          "coloraxis": {
           "colorbar": {
            "outlinewidth": 0,
            "ticks": ""
           }
          },
          "colorscale": {
           "diverging": [
            [
             0,
             "#8e0152"
            ],
            [
             0.1,
             "#c51b7d"
            ],
            [
             0.2,
             "#de77ae"
            ],
            [
             0.3,
             "#f1b6da"
            ],
            [
             0.4,
             "#fde0ef"
            ],
            [
             0.5,
             "#f7f7f7"
            ],
            [
             0.6,
             "#e6f5d0"
            ],
            [
             0.7,
             "#b8e186"
            ],
            [
             0.8,
             "#7fbc41"
            ],
            [
             0.9,
             "#4d9221"
            ],
            [
             1,
             "#276419"
            ]
           ],
           "sequential": [
            [
             0,
             "#0d0887"
            ],
            [
             0.1111111111111111,
             "#46039f"
            ],
            [
             0.2222222222222222,
             "#7201a8"
            ],
            [
             0.3333333333333333,
             "#9c179e"
            ],
            [
             0.4444444444444444,
             "#bd3786"
            ],
            [
             0.5555555555555556,
             "#d8576b"
            ],
            [
             0.6666666666666666,
             "#ed7953"
            ],
            [
             0.7777777777777778,
             "#fb9f3a"
            ],
            [
             0.8888888888888888,
             "#fdca26"
            ],
            [
             1,
             "#f0f921"
            ]
           ],
           "sequentialminus": [
            [
             0,
             "#0d0887"
            ],
            [
             0.1111111111111111,
             "#46039f"
            ],
            [
             0.2222222222222222,
             "#7201a8"
            ],
            [
             0.3333333333333333,
             "#9c179e"
            ],
            [
             0.4444444444444444,
             "#bd3786"
            ],
            [
             0.5555555555555556,
             "#d8576b"
            ],
            [
             0.6666666666666666,
             "#ed7953"
            ],
            [
             0.7777777777777778,
             "#fb9f3a"
            ],
            [
             0.8888888888888888,
             "#fdca26"
            ],
            [
             1,
             "#f0f921"
            ]
           ]
          },
          "colorway": [
           "#636efa",
           "#EF553B",
           "#00cc96",
           "#ab63fa",
           "#FFA15A",
           "#19d3f3",
           "#FF6692",
           "#B6E880",
           "#FF97FF",
           "#FECB52"
          ],
          "font": {
           "color": "#2a3f5f"
          },
          "geo": {
           "bgcolor": "white",
           "lakecolor": "white",
           "landcolor": "#E5ECF6",
           "showlakes": true,
           "showland": true,
           "subunitcolor": "white"
          },
          "hoverlabel": {
           "align": "left"
          },
          "hovermode": "closest",
          "mapbox": {
           "style": "light"
          },
          "paper_bgcolor": "white",
          "plot_bgcolor": "#E5ECF6",
          "polar": {
           "angularaxis": {
            "gridcolor": "white",
            "linecolor": "white",
            "ticks": ""
           },
           "bgcolor": "#E5ECF6",
           "radialaxis": {
            "gridcolor": "white",
            "linecolor": "white",
            "ticks": ""
           }
          },
          "scene": {
           "xaxis": {
            "backgroundcolor": "#E5ECF6",
            "gridcolor": "white",
            "gridwidth": 2,
            "linecolor": "white",
            "showbackground": true,
            "ticks": "",
            "zerolinecolor": "white"
           },
           "yaxis": {
            "backgroundcolor": "#E5ECF6",
            "gridcolor": "white",
            "gridwidth": 2,
            "linecolor": "white",
            "showbackground": true,
            "ticks": "",
            "zerolinecolor": "white"
           },
           "zaxis": {
            "backgroundcolor": "#E5ECF6",
            "gridcolor": "white",
            "gridwidth": 2,
            "linecolor": "white",
            "showbackground": true,
            "ticks": "",
            "zerolinecolor": "white"
           }
          },
          "shapedefaults": {
           "line": {
            "color": "#2a3f5f"
           }
          },
          "ternary": {
           "aaxis": {
            "gridcolor": "white",
            "linecolor": "white",
            "ticks": ""
           },
           "baxis": {
            "gridcolor": "white",
            "linecolor": "white",
            "ticks": ""
           },
           "bgcolor": "#E5ECF6",
           "caxis": {
            "gridcolor": "white",
            "linecolor": "white",
            "ticks": ""
           }
          },
          "title": {
           "x": 0.05
          },
          "xaxis": {
           "automargin": true,
           "gridcolor": "white",
           "linecolor": "white",
           "ticks": "",
           "title": {
            "standoff": 15
           },
           "zerolinecolor": "white",
           "zerolinewidth": 2
          },
          "yaxis": {
           "automargin": true,
           "gridcolor": "white",
           "linecolor": "white",
           "ticks": "",
           "title": {
            "standoff": 15
           },
           "zerolinecolor": "white",
           "zerolinewidth": 2
          }
         }
        },
        "xaxis": {
         "anchor": "y",
         "domain": [
          0,
          1
         ],
         "tickformat": "%d/%m/%y %H:%M",
         "title": {
          "text": "Temps"
         },
         "type": "date"
        },
        "yaxis": {
         "anchor": "x",
         "categoryarray": [
          "dep_4",
          "dep_3",
          "dep_2",
          "dep_1",
          "arr_3",
          "arr_2",
          "arr_1"
         ],
         "categoryorder": "array",
         "domain": [
          0,
          1
         ],
         "title": {
          "text": "Tâches"
         }
        }
       }
      }
     },
     "metadata": {},
     "output_type": "display_data"
    }
   ],
   "source": [
    "visualisation_gantt(t_arr,t_dep).show()"
   ]
  },
  {
   "cell_type": "code",
   "execution_count": 6,
   "metadata": {},
   "outputs": [
    {
     "data": {
      "image/png": "[encoded data removed]",
      "text/plain": [
       "<Figure size 1000x500 with 1 Axes>"
      ]
     },
     "metadata": {},
     "output_type": "display_data"
    }
   ],
   "source": [
    "# Correction du format de la date de référence\n",
    "ref_date = datetime.datetime.strptime(\"08/08/2022\", \"%d/%m/%Y\")\n",
    "\n",
    "# Conversion des temps en dates au format \"dd/mm/yyyy/HH/MM\"\n",
    "x_date = [ref_date + datetime.timedelta(minutes=15*t) for t in range((t_max-t_min)//15+2)]\n",
    "\n",
    "# Calcul des voies occupées pour chaque chantier\n",
    "occupation_REC = np.array([quicksum(is_present['REC'][(id_train, t)].X for id_train in t_a.keys()).getValue() for t in range((t_max-t_min)//15+2)])\n",
    "occupation_FOR = np.array([quicksum(is_present['FOR'][(id_train, t)].X for id_train in t_d.keys()).getValue() for t in range((t_max-t_min)//15+2)])\n",
    "occupation_DEP = np.array([quicksum(is_present['DEP'][(id_train, t)].X for id_train in t_d.keys()).getValue() for t in range((t_max-t_min)//15+2)])\n",
    "\n",
    "if visualisation_occupation(occupation_REC, occupation_FOR, occupation_DEP, x_date):\n",
    "    plt.show()\n"
   ]
  },
  {
   "cell_type": "code",
   "execution_count": 7,
   "metadata": {},
   "outputs": [
    {
     "data": {
      "text/plain": [
       "True"
      ]
     },
     "execution_count": 7,
     "metadata": {},
     "output_type": "execute_result"
    }
   ],
   "source": [
    "ecriture_donnees_sortie_jalon2(\n",
    "    t_arr, \n",
    "    t_dep, \n",
    "    occupation_REC, \n",
    "    occupation_FOR, \n",
    "    occupation_REC, \n",
    "    x_date\n",
    ")"
   ]
  },
  {
   "cell_type": "code",
   "execution_count": 8,
   "metadata": {},
   "outputs": [
    {
     "ename": "KeyError",
     "evalue": "1",
     "output_type": "error",
     "traceback": [
      "\u001b[1;31m---------------------------------------------------------------------------\u001b[0m",
      "\u001b[1;31mKeyError\u001b[0m                                  Traceback (most recent call last)",
      "Cell \u001b[1;32mIn[8], line 1\u001b[0m\n\u001b[1;32m----> 1\u001b[0m \u001b[43mecriture_donnees_sortie_jalon3\u001b[49m\u001b[43m(\u001b[49m\n\u001b[0;32m      2\u001b[0m \u001b[43m    \u001b[49m\u001b[43mfile\u001b[49m\u001b[43m,\u001b[49m\n\u001b[0;32m      3\u001b[0m \u001b[43m    \u001b[49m\u001b[43mt_arr\u001b[49m\u001b[43m,\u001b[49m\n\u001b[0;32m      4\u001b[0m \u001b[43m    \u001b[49m\u001b[43mt_dep\u001b[49m\u001b[43m,\u001b[49m\n\u001b[0;32m      5\u001b[0m \u001b[43m    \u001b[49m\u001b[43mh_deb\u001b[49m\u001b[43m,\u001b[49m\n\u001b[0;32m      6\u001b[0m \u001b[43m    \u001b[49m\u001b[43mequip\u001b[49m\u001b[43m,\u001b[49m\n\u001b[0;32m      7\u001b[0m \u001b[43m    \u001b[49m\u001b[43mnb_cycles_agents\u001b[49m\u001b[43m,\u001b[49m\n\u001b[0;32m      8\u001b[0m \u001b[43m    \u001b[49m\u001b[43mwho_arr\u001b[49m\u001b[43m,\u001b[49m\n\u001b[0;32m      9\u001b[0m \u001b[43m    \u001b[49m\u001b[43mwho_dep\u001b[49m\u001b[43m)\u001b[49m\n",
      "File \u001b[1;32md:\\Bureau2\\CS\\Cours\\2A\\ST7\\Projet\\optiFretSNCF\\code\\module\\utils2.py:1103\u001b[0m, in \u001b[0;36mecriture_donnees_sortie_jalon3\u001b[1;34m(file, t_arr, t_dep, h_deb, equip, nb_cycles_agents, who_arr, who_dep)\u001b[0m\n\u001b[0;32m   1088\u001b[0m     var_value \u001b[38;5;241m=\u001b[39m \u001b[38;5;28mint\u001b[39m(var\u001b[38;5;241m.\u001b[39mX) \u001b[38;5;28;01mif\u001b[39;00m \u001b[38;5;28mhasattr\u001b[39m(var, \u001b[38;5;124m\"\u001b[39m\u001b[38;5;124mX\u001b[39m\u001b[38;5;124m\"\u001b[39m) \u001b[38;5;28;01melse\u001b[39;00m \u001b[38;5;28mint\u001b[39m(var)\n\u001b[0;32m   1089\u001b[0m     \u001b[38;5;28;01mreturn\u001b[39;00m (Constantes\u001b[38;5;241m.\u001b[39mBASE_TIME \u001b[38;5;241m+\u001b[39m datetime\u001b[38;5;241m.\u001b[39mtimedelta(minutes\u001b[38;5;241m=\u001b[39m\u001b[38;5;241m15\u001b[39m \u001b[38;5;241m*\u001b[39m var_value))\u001b[38;5;241m.\u001b[39mstrftime(\u001b[38;5;124m\"\u001b[39m\u001b[38;5;132;01m%d\u001b[39;00m\u001b[38;5;124m/\u001b[39m\u001b[38;5;124m%\u001b[39m\u001b[38;5;124mm/\u001b[39m\u001b[38;5;124m%\u001b[39m\u001b[38;5;124mY \u001b[39m\u001b[38;5;124m%\u001b[39m\u001b[38;5;124mH:\u001b[39m\u001b[38;5;124m%\u001b[39m\u001b[38;5;124mM\u001b[39m\u001b[38;5;124m\"\u001b[39m)\n\u001b[0;32m   1091\u001b[0m xl \u001b[38;5;241m=\u001b[39m [\n\u001b[0;32m   1092\u001b[0m     {\n\u001b[0;32m   1093\u001b[0m         \u001b[38;5;124m\"\u001b[39m\u001b[38;5;124mId JS\u001b[39m\u001b[38;5;124m\"\u001b[39m: noms_roulements[r] \u001b[38;5;241m+\u001b[39m \u001b[38;5;124m\"\u001b[39m\u001b[38;5;124m_\u001b[39m\u001b[38;5;124m\"\u001b[39m \u001b[38;5;241m+\u001b[39m \u001b[38;5;28mstr\u001b[39m((h_deb[(r, k)] \u001b[38;5;241m%\u001b[39m \u001b[38;5;241m1440\u001b[39m) \u001b[38;5;241m/\u001b[39m\u001b[38;5;241m/\u001b[39m \u001b[38;5;241m60\u001b[39m) \u001b[38;5;241m+\u001b[39m \u001b[38;5;124m\"\u001b[39m\u001b[38;5;124m_\u001b[39m\u001b[38;5;124m\"\u001b[39m \u001b[38;5;241m+\u001b[39m get_time_string(var_arr),\n\u001b[0;32m   1094\u001b[0m         \u001b[38;5;124m\"\u001b[39m\u001b[38;5;124mOrdre T\u001b[39m\u001b[38;5;124m\"\u001b[39m: m_arr,\n\u001b[0;32m   1095\u001b[0m         \u001b[38;5;124m\"\u001b[39m\u001b[38;5;124mType T\u001b[39m\u001b[38;5;124m\"\u001b[39m: \u001b[38;5;124m\"\u001b[39m\u001b[38;5;124marrivée Reception\u001b[39m\u001b[38;5;124m\"\u001b[39m,\n\u001b[0;32m   1096\u001b[0m         \u001b[38;5;124m\"\u001b[39m\u001b[38;5;124mSillon\u001b[39m\u001b[38;5;124m\"\u001b[39m: \u001b[38;5;124mf\u001b[39m\u001b[38;5;124m\"\u001b[39m\u001b[38;5;132;01m{\u001b[39;00mn_arr\u001b[38;5;132;01m}\u001b[39;00m\u001b[38;5;124m#\u001b[39m\u001b[38;5;132;01m{\u001b[39;00mget_time_string(var_arr)\u001b[38;5;132;01m}\u001b[39;00m\u001b[38;5;124m#A\u001b[39m\u001b[38;5;124m\"\u001b[39m,\n\u001b[0;32m   1097\u001b[0m         \u001b[38;5;124m\"\u001b[39m\u001b[38;5;124mDébut T\u001b[39m\u001b[38;5;124m\"\u001b[39m: get_time_string(var_arr),\n\u001b[0;32m   1098\u001b[0m         \u001b[38;5;124m\"\u001b[39m\u001b[38;5;124mDurée T\u001b[39m\u001b[38;5;124m\"\u001b[39m: Taches\u001b[38;5;241m.\u001b[39mT_ARR[m_arr],\n\u001b[0;32m   1099\u001b[0m         \u001b[38;5;124m\"\u001b[39m\u001b[38;5;124mLieu T\u001b[39m\u001b[38;5;124m\"\u001b[39m: \u001b[38;5;124m\"\u001b[39m\u001b[38;5;124mWPY_REC\u001b[39m\u001b[38;5;124m\"\u001b[39m,\n\u001b[0;32m   1100\u001b[0m         \u001b[38;5;124m\"\u001b[39m\u001b[38;5;124mRoulement\u001b[39m\u001b[38;5;124m\"\u001b[39m: noms_roulements[r],\n\u001b[0;32m   1101\u001b[0m     }\n\u001b[0;32m   1102\u001b[0m     \u001b[38;5;28;01mfor\u001b[39;00m (m_arr, n_arr), var_arr \u001b[38;5;129;01min\u001b[39;00m t_arr\u001b[38;5;241m.\u001b[39mitems()\n\u001b[1;32m-> 1103\u001b[0m     \u001b[38;5;28;01mfor\u001b[39;00m r \u001b[38;5;129;01min\u001b[39;00m \u001b[43mequip\u001b[49m\u001b[43m[\u001b[49m\u001b[43mm_arr\u001b[49m\u001b[43m]\u001b[49m\n\u001b[0;32m   1104\u001b[0m     \u001b[38;5;28;01mfor\u001b[39;00m k \u001b[38;5;129;01min\u001b[39;00m \u001b[38;5;28mrange\u001b[39m(\u001b[38;5;241m1\u001b[39m, nb_cycles_agents[r] \u001b[38;5;241m+\u001b[39m \u001b[38;5;241m1\u001b[39m)\n\u001b[0;32m   1105\u001b[0m     \u001b[38;5;28;01mif\u001b[39;00m m_arr \u001b[38;5;241m==\u001b[39m \u001b[38;5;241m1\u001b[39m\n\u001b[0;32m   1106\u001b[0m     \u001b[38;5;28;01mif\u001b[39;00m who_arr[(m_arr, n_arr, r, k, \u001b[38;5;241m3\u001b[39m \u001b[38;5;241m*\u001b[39m \u001b[38;5;28mint\u001b[39m(var_arr\u001b[38;5;241m.\u001b[39mX))]\u001b[38;5;241m.\u001b[39mX \u001b[38;5;241m==\u001b[39m \u001b[38;5;241m1\u001b[39m\n\u001b[0;32m   1107\u001b[0m ] \u001b[38;5;241m+\u001b[39m [\n\u001b[0;32m   1108\u001b[0m     {\n\u001b[0;32m   1109\u001b[0m         \u001b[38;5;124m\"\u001b[39m\u001b[38;5;124mId JS\u001b[39m\u001b[38;5;124m\"\u001b[39m: noms_roulements[r] \u001b[38;5;241m+\u001b[39m \u001b[38;5;124m\"\u001b[39m\u001b[38;5;124m_\u001b[39m\u001b[38;5;124m\"\u001b[39m \u001b[38;5;241m+\u001b[39m \u001b[38;5;28mstr\u001b[39m((h_deb[(r, k)] \u001b[38;5;241m%\u001b[39m \u001b[38;5;241m1440\u001b[39m) \u001b[38;5;241m/\u001b[39m\u001b[38;5;241m/\u001b[39m \u001b[38;5;241m60\u001b[39m) \u001b[38;5;241m+\u001b[39m \u001b[38;5;124m\"\u001b[39m\u001b[38;5;124m_\u001b[39m\u001b[38;5;124m\"\u001b[39m \u001b[38;5;241m+\u001b[39m get_time_string(var_arr),\n\u001b[0;32m   1110\u001b[0m         \u001b[38;5;124m\"\u001b[39m\u001b[38;5;124mOrdre T\u001b[39m\u001b[38;5;124m\"\u001b[39m: m_arr,\n\u001b[0;32m   1111\u001b[0m         \u001b[38;5;124m\"\u001b[39m\u001b[38;5;124mType T\u001b[39m\u001b[38;5;124m\"\u001b[39m: \u001b[38;5;124m\"\u001b[39m\u001b[38;5;124mpréparation tri\u001b[39m\u001b[38;5;124m\"\u001b[39m,\n\u001b[0;32m   1112\u001b[0m         \u001b[38;5;124m\"\u001b[39m\u001b[38;5;124mSillon\u001b[39m\u001b[38;5;124m\"\u001b[39m: \u001b[38;5;124mf\u001b[39m\u001b[38;5;124m\"\u001b[39m\u001b[38;5;132;01m{\u001b[39;00mn_arr\u001b[38;5;132;01m}\u001b[39;00m\u001b[38;5;124m#\u001b[39m\u001b[38;5;132;01m{\u001b[39;00mget_time_string(var_arr)\u001b[38;5;132;01m}\u001b[39;00m\u001b[38;5;124m#A\u001b[39m\u001b[38;5;124m\"\u001b[39m,\n\u001b[0;32m   1113\u001b[0m         \u001b[38;5;124m\"\u001b[39m\u001b[38;5;124mDébut T\u001b[39m\u001b[38;5;124m\"\u001b[39m: get_time_string(var_arr),\n\u001b[0;32m   1114\u001b[0m         \u001b[38;5;124m\"\u001b[39m\u001b[38;5;124mDurée T\u001b[39m\u001b[38;5;124m\"\u001b[39m: Taches\u001b[38;5;241m.\u001b[39mT_ARR[m_arr],\n\u001b[0;32m   1115\u001b[0m         \u001b[38;5;124m\"\u001b[39m\u001b[38;5;124mLieu T\u001b[39m\u001b[38;5;124m\"\u001b[39m: \u001b[38;5;124m\"\u001b[39m\u001b[38;5;124mWPY_REC\u001b[39m\u001b[38;5;124m\"\u001b[39m,\n\u001b[0;32m   1116\u001b[0m         \u001b[38;5;124m\"\u001b[39m\u001b[38;5;124mRoulement\u001b[39m\u001b[38;5;124m\"\u001b[39m: noms_roulements[r],\n\u001b[0;32m   1117\u001b[0m     }\n\u001b[0;32m   1118\u001b[0m     \u001b[38;5;28;01mfor\u001b[39;00m (m_arr, n_arr), var_arr \u001b[38;5;129;01min\u001b[39;00m t_arr\u001b[38;5;241m.\u001b[39mitems()\n\u001b[0;32m   1119\u001b[0m     \u001b[38;5;28;01mfor\u001b[39;00m r \u001b[38;5;129;01min\u001b[39;00m equip[m_arr]\n\u001b[0;32m   1120\u001b[0m     \u001b[38;5;28;01mfor\u001b[39;00m k \u001b[38;5;129;01min\u001b[39;00m \u001b[38;5;28mrange\u001b[39m(\u001b[38;5;241m1\u001b[39m, nb_cycles_agents[r] \u001b[38;5;241m+\u001b[39m \u001b[38;5;241m1\u001b[39m)\n\u001b[0;32m   1121\u001b[0m     \u001b[38;5;28;01mif\u001b[39;00m m_arr \u001b[38;5;241m==\u001b[39m \u001b[38;5;241m2\u001b[39m\n\u001b[0;32m   1122\u001b[0m     \u001b[38;5;28;01mif\u001b[39;00m who_arr[(m_arr, n_arr, r, k, \u001b[38;5;241m3\u001b[39m \u001b[38;5;241m*\u001b[39m \u001b[38;5;28mint\u001b[39m(var_arr\u001b[38;5;241m.\u001b[39mX))]\u001b[38;5;241m.\u001b[39mX \u001b[38;5;241m==\u001b[39m \u001b[38;5;241m1\u001b[39m\n\u001b[0;32m   1123\u001b[0m ] \u001b[38;5;241m+\u001b[39m [\n\u001b[0;32m   1124\u001b[0m     {\n\u001b[0;32m   1125\u001b[0m         \u001b[38;5;124m\"\u001b[39m\u001b[38;5;124mId JS\u001b[39m\u001b[38;5;124m\"\u001b[39m: noms_roulements[r] \u001b[38;5;241m+\u001b[39m \u001b[38;5;124m\"\u001b[39m\u001b[38;5;124m_\u001b[39m\u001b[38;5;124m\"\u001b[39m \u001b[38;5;241m+\u001b[39m \u001b[38;5;28mstr\u001b[39m((h_deb[(r, k)] \u001b[38;5;241m%\u001b[39m \u001b[38;5;241m1440\u001b[39m) \u001b[38;5;241m/\u001b[39m\u001b[38;5;241m/\u001b[39m \u001b[38;5;241m60\u001b[39m) \u001b[38;5;241m+\u001b[39m \u001b[38;5;124m\"\u001b[39m\u001b[38;5;124m_\u001b[39m\u001b[38;5;124m\"\u001b[39m \u001b[38;5;241m+\u001b[39m get_time_string(var_arr),\n\u001b[0;32m   1126\u001b[0m         \u001b[38;5;124m\"\u001b[39m\u001b[38;5;124mOrdre T\u001b[39m\u001b[38;5;124m\"\u001b[39m: m_arr,\n\u001b[0;32m   1127\u001b[0m         \u001b[38;5;124m\"\u001b[39m\u001b[38;5;124mType T\u001b[39m\u001b[38;5;124m\"\u001b[39m: \u001b[38;5;124m\"\u001b[39m\u001b[38;5;124mdébranchement\u001b[39m\u001b[38;5;124m\"\u001b[39m,\n\u001b[0;32m   1128\u001b[0m         \u001b[38;5;124m\"\u001b[39m\u001b[38;5;124mSillon\u001b[39m\u001b[38;5;124m\"\u001b[39m: \u001b[38;5;124mf\u001b[39m\u001b[38;5;124m\"\u001b[39m\u001b[38;5;132;01m{\u001b[39;00mn_arr\u001b[38;5;132;01m}\u001b[39;00m\u001b[38;5;124m#\u001b[39m\u001b[38;5;132;01m{\u001b[39;00mget_time_string(var_arr)\u001b[38;5;132;01m}\u001b[39;00m\u001b[38;5;124m#A\u001b[39m\u001b[38;5;124m\"\u001b[39m,\n\u001b[0;32m   1129\u001b[0m         \u001b[38;5;124m\"\u001b[39m\u001b[38;5;124mDébut T\u001b[39m\u001b[38;5;124m\"\u001b[39m: get_time_string(var_arr),\n\u001b[0;32m   1130\u001b[0m         \u001b[38;5;124m\"\u001b[39m\u001b[38;5;124mDurée T\u001b[39m\u001b[38;5;124m\"\u001b[39m: Taches\u001b[38;5;241m.\u001b[39mT_ARR[m_arr],\n\u001b[0;32m   1131\u001b[0m         \u001b[38;5;124m\"\u001b[39m\u001b[38;5;124mLieu T\u001b[39m\u001b[38;5;124m\"\u001b[39m: \u001b[38;5;124m\"\u001b[39m\u001b[38;5;124mWPY_REC\u001b[39m\u001b[38;5;124m\"\u001b[39m,\n\u001b[0;32m   1132\u001b[0m         \u001b[38;5;124m\"\u001b[39m\u001b[38;5;124mRoulement\u001b[39m\u001b[38;5;124m\"\u001b[39m: noms_roulements[r],\n\u001b[0;32m   1133\u001b[0m     }\n\u001b[0;32m   1134\u001b[0m     \u001b[38;5;28;01mfor\u001b[39;00m (m_arr, n_arr), var_arr \u001b[38;5;129;01min\u001b[39;00m t_arr\u001b[38;5;241m.\u001b[39mitems()\n\u001b[0;32m   1135\u001b[0m     \u001b[38;5;28;01mfor\u001b[39;00m r \u001b[38;5;129;01min\u001b[39;00m equip[m_arr]\n\u001b[0;32m   1136\u001b[0m     \u001b[38;5;28;01mfor\u001b[39;00m k \u001b[38;5;129;01min\u001b[39;00m \u001b[38;5;28mrange\u001b[39m(\u001b[38;5;241m1\u001b[39m, nb_cycles_agents[r] \u001b[38;5;241m+\u001b[39m \u001b[38;5;241m1\u001b[39m)\n\u001b[0;32m   1137\u001b[0m     \u001b[38;5;28;01mif\u001b[39;00m m_arr \u001b[38;5;241m==\u001b[39m \u001b[38;5;241m3\u001b[39m\n\u001b[0;32m   1138\u001b[0m     \u001b[38;5;28;01mif\u001b[39;00m who_arr[(m_arr, n_arr, r, k, \u001b[38;5;241m3\u001b[39m \u001b[38;5;241m*\u001b[39m \u001b[38;5;28mint\u001b[39m(var_arr\u001b[38;5;241m.\u001b[39mX))]\u001b[38;5;241m.\u001b[39mX \u001b[38;5;241m==\u001b[39m \u001b[38;5;241m1\u001b[39m\n\u001b[0;32m   1139\u001b[0m ] \u001b[38;5;241m+\u001b[39m [\n\u001b[0;32m   1140\u001b[0m     {\n\u001b[0;32m   1141\u001b[0m         \u001b[38;5;124m\"\u001b[39m\u001b[38;5;124mId JS\u001b[39m\u001b[38;5;124m\"\u001b[39m: noms_roulements[r] \u001b[38;5;241m+\u001b[39m \u001b[38;5;124m\"\u001b[39m\u001b[38;5;124m_\u001b[39m\u001b[38;5;124m\"\u001b[39m \u001b[38;5;241m+\u001b[39m \u001b[38;5;28mstr\u001b[39m((h_deb[(r, k)] \u001b[38;5;241m%\u001b[39m \u001b[38;5;241m1440\u001b[39m) \u001b[38;5;241m/\u001b[39m\u001b[38;5;241m/\u001b[39m \u001b[38;5;241m60\u001b[39m) \u001b[38;5;241m+\u001b[39m \u001b[38;5;124m\"\u001b[39m\u001b[38;5;124m_\u001b[39m\u001b[38;5;124m\"\u001b[39m \u001b[38;5;241m+\u001b[39m get_time_string(var_dep),\n\u001b[0;32m   1142\u001b[0m         \u001b[38;5;124m\"\u001b[39m\u001b[38;5;124mOrdre T\u001b[39m\u001b[38;5;124m\"\u001b[39m: m_dep,\n\u001b[0;32m   1143\u001b[0m         \u001b[38;5;124m\"\u001b[39m\u001b[38;5;124mType T\u001b[39m\u001b[38;5;124m\"\u001b[39m: \u001b[38;5;124m\"\u001b[39m\u001b[38;5;124mappui voie + mise en place câle\u001b[39m\u001b[38;5;124m\"\u001b[39m,\n\u001b[0;32m   1144\u001b[0m         \u001b[38;5;124m\"\u001b[39m\u001b[38;5;124mSillon\u001b[39m\u001b[38;5;124m\"\u001b[39m: \u001b[38;5;124mf\u001b[39m\u001b[38;5;124m\"\u001b[39m\u001b[38;5;132;01m{\u001b[39;00mn_dep\u001b[38;5;132;01m}\u001b[39;00m\u001b[38;5;124m#\u001b[39m\u001b[38;5;132;01m{\u001b[39;00mget_time_string(var_dep)\u001b[38;5;132;01m}\u001b[39;00m\u001b[38;5;124m#A\u001b[39m\u001b[38;5;124m\"\u001b[39m,\n\u001b[0;32m   1145\u001b[0m         \u001b[38;5;124m\"\u001b[39m\u001b[38;5;124mDébut T\u001b[39m\u001b[38;5;124m\"\u001b[39m: get_time_string(var_dep),\n\u001b[0;32m   1146\u001b[0m         \u001b[38;5;124m\"\u001b[39m\u001b[38;5;124mDurée T\u001b[39m\u001b[38;5;124m\"\u001b[39m: Taches\u001b[38;5;241m.\u001b[39mT_DEP[m_dep],\n\u001b[0;32m   1147\u001b[0m         \u001b[38;5;124m\"\u001b[39m\u001b[38;5;124mLieu T\u001b[39m\u001b[38;5;124m\"\u001b[39m: \u001b[38;5;124m\"\u001b[39m\u001b[38;5;124mWPY_FOR\u001b[39m\u001b[38;5;124m\"\u001b[39m,\n\u001b[0;32m   1148\u001b[0m         \u001b[38;5;124m\"\u001b[39m\u001b[38;5;124mRoulement\u001b[39m\u001b[38;5;124m\"\u001b[39m: noms_roulements[r],\n\u001b[0;32m   1149\u001b[0m     }\n\u001b[0;32m   1150\u001b[0m     \u001b[38;5;28;01mfor\u001b[39;00m (m_dep, n_dep), var_dep \u001b[38;5;129;01min\u001b[39;00m t_dep\u001b[38;5;241m.\u001b[39mitems()\n\u001b[0;32m   1151\u001b[0m     \u001b[38;5;28;01mfor\u001b[39;00m r \u001b[38;5;129;01min\u001b[39;00m equip[m_dep]\n\u001b[0;32m   1152\u001b[0m     \u001b[38;5;28;01mfor\u001b[39;00m k \u001b[38;5;129;01min\u001b[39;00m \u001b[38;5;28mrange\u001b[39m(\u001b[38;5;241m1\u001b[39m, nb_cycles_agents[r] \u001b[38;5;241m+\u001b[39m \u001b[38;5;241m1\u001b[39m)\n\u001b[0;32m   1153\u001b[0m     \u001b[38;5;28;01mif\u001b[39;00m m_dep \u001b[38;5;241m==\u001b[39m \u001b[38;5;241m1\u001b[39m\n\u001b[0;32m   1154\u001b[0m     \u001b[38;5;28;01mif\u001b[39;00m who_dep[(m_dep, n_dep, r, k, \u001b[38;5;241m3\u001b[39m \u001b[38;5;241m*\u001b[39m \u001b[38;5;28mint\u001b[39m(var_dep\u001b[38;5;241m.\u001b[39mX))]\u001b[38;5;241m.\u001b[39mX \u001b[38;5;241m==\u001b[39m \u001b[38;5;241m1\u001b[39m\n\u001b[0;32m   1155\u001b[0m ] \u001b[38;5;241m+\u001b[39m [\n\u001b[0;32m   1156\u001b[0m     {\n\u001b[0;32m   1157\u001b[0m         \u001b[38;5;124m\"\u001b[39m\u001b[38;5;124mId JS\u001b[39m\u001b[38;5;124m\"\u001b[39m: noms_roulements[r] \u001b[38;5;241m+\u001b[39m \u001b[38;5;124m\"\u001b[39m\u001b[38;5;124m_\u001b[39m\u001b[38;5;124m\"\u001b[39m \u001b[38;5;241m+\u001b[39m \u001b[38;5;28mstr\u001b[39m((h_deb[(r, k)] \u001b[38;5;241m%\u001b[39m \u001b[38;5;241m1440\u001b[39m) \u001b[38;5;241m/\u001b[39m\u001b[38;5;241m/\u001b[39m \u001b[38;5;241m60\u001b[39m) \u001b[38;5;241m+\u001b[39m \u001b[38;5;124m\"\u001b[39m\u001b[38;5;124m_\u001b[39m\u001b[38;5;124m\"\u001b[39m \u001b[38;5;241m+\u001b[39m get_time_string(var_dep),\n\u001b[0;32m   1158\u001b[0m         \u001b[38;5;124m\"\u001b[39m\u001b[38;5;124mOrdre T\u001b[39m\u001b[38;5;124m\"\u001b[39m: m_dep,\n\u001b[0;32m   1159\u001b[0m         \u001b[38;5;124m\"\u001b[39m\u001b[38;5;124mType T\u001b[39m\u001b[38;5;124m\"\u001b[39m: \u001b[38;5;124m\"\u001b[39m\u001b[38;5;124mattelage véhicules\u001b[39m\u001b[38;5;124m\"\u001b[39m,\n\u001b[0;32m   1160\u001b[0m         \u001b[38;5;124m\"\u001b[39m\u001b[38;5;124mSillon\u001b[39m\u001b[38;5;124m\"\u001b[39m: \u001b[38;5;124mf\u001b[39m\u001b[38;5;124m\"\u001b[39m\u001b[38;5;132;01m{\u001b[39;00mn_dep\u001b[38;5;132;01m}\u001b[39;00m\u001b[38;5;124m#\u001b[39m\u001b[38;5;132;01m{\u001b[39;00mget_time_string(var_dep)\u001b[38;5;132;01m}\u001b[39;00m\u001b[38;5;124m#A\u001b[39m\u001b[38;5;124m\"\u001b[39m,\n\u001b[0;32m   1161\u001b[0m         \u001b[38;5;124m\"\u001b[39m\u001b[38;5;124mDébut T\u001b[39m\u001b[38;5;124m\"\u001b[39m: get_time_string(var_dep),\n\u001b[0;32m   1162\u001b[0m         \u001b[38;5;124m\"\u001b[39m\u001b[38;5;124mDurée T\u001b[39m\u001b[38;5;124m\"\u001b[39m: Taches\u001b[38;5;241m.\u001b[39mT_DEP[m_dep],\n\u001b[0;32m   1163\u001b[0m         \u001b[38;5;124m\"\u001b[39m\u001b[38;5;124mLieu T\u001b[39m\u001b[38;5;124m\"\u001b[39m: \u001b[38;5;124m\"\u001b[39m\u001b[38;5;124mWPY_FOR\u001b[39m\u001b[38;5;124m\"\u001b[39m,\n\u001b[0;32m   1164\u001b[0m         \u001b[38;5;124m\"\u001b[39m\u001b[38;5;124mRoulement\u001b[39m\u001b[38;5;124m\"\u001b[39m: noms_roulements[r],\n\u001b[0;32m   1165\u001b[0m     }\n\u001b[0;32m   1166\u001b[0m     \u001b[38;5;28;01mfor\u001b[39;00m (m_dep, n_dep), var_dep \u001b[38;5;129;01min\u001b[39;00m t_dep\u001b[38;5;241m.\u001b[39mitems()\n\u001b[0;32m   1167\u001b[0m     \u001b[38;5;28;01mfor\u001b[39;00m r \u001b[38;5;129;01min\u001b[39;00m equip[m_dep]\n\u001b[0;32m   1168\u001b[0m     \u001b[38;5;28;01mfor\u001b[39;00m k \u001b[38;5;129;01min\u001b[39;00m \u001b[38;5;28mrange\u001b[39m(\u001b[38;5;241m1\u001b[39m, nb_cycles_agents[r] \u001b[38;5;241m+\u001b[39m \u001b[38;5;241m1\u001b[39m)\n\u001b[0;32m   1169\u001b[0m     \u001b[38;5;28;01mif\u001b[39;00m m_dep \u001b[38;5;241m==\u001b[39m \u001b[38;5;241m2\u001b[39m\n\u001b[0;32m   1170\u001b[0m     \u001b[38;5;28;01mif\u001b[39;00m who_dep[(m_dep, n_dep, r, k, \u001b[38;5;241m3\u001b[39m \u001b[38;5;241m*\u001b[39m \u001b[38;5;28mint\u001b[39m(var_dep\u001b[38;5;241m.\u001b[39mX))]\u001b[38;5;241m.\u001b[39mX \u001b[38;5;241m==\u001b[39m \u001b[38;5;241m1\u001b[39m\n\u001b[0;32m   1171\u001b[0m ] \u001b[38;5;241m+\u001b[39m [\n\u001b[0;32m   1172\u001b[0m     {\n\u001b[0;32m   1173\u001b[0m         \u001b[38;5;124m\"\u001b[39m\u001b[38;5;124mId JS\u001b[39m\u001b[38;5;124m\"\u001b[39m: noms_roulements[r] \u001b[38;5;241m+\u001b[39m \u001b[38;5;124m\"\u001b[39m\u001b[38;5;124m_\u001b[39m\u001b[38;5;124m\"\u001b[39m \u001b[38;5;241m+\u001b[39m \u001b[38;5;28mstr\u001b[39m((h_deb[(r, k)] \u001b[38;5;241m%\u001b[39m \u001b[38;5;241m1440\u001b[39m) \u001b[38;5;241m/\u001b[39m\u001b[38;5;241m/\u001b[39m \u001b[38;5;241m60\u001b[39m) \u001b[38;5;241m+\u001b[39m \u001b[38;5;124m\"\u001b[39m\u001b[38;5;124m_\u001b[39m\u001b[38;5;124m\"\u001b[39m \u001b[38;5;241m+\u001b[39m get_time_string(var_dep),\n\u001b[0;32m   1174\u001b[0m         \u001b[38;5;124m\"\u001b[39m\u001b[38;5;124mOrdre T\u001b[39m\u001b[38;5;124m\"\u001b[39m: m_dep,\n\u001b[0;32m   1175\u001b[0m         \u001b[38;5;124m\"\u001b[39m\u001b[38;5;124mType T\u001b[39m\u001b[38;5;124m\"\u001b[39m: \u001b[38;5;124m\"\u001b[39m\u001b[38;5;124mdégarage / bouger de rame\u001b[39m\u001b[38;5;124m\"\u001b[39m,\n\u001b[0;32m   1176\u001b[0m         \u001b[38;5;124m\"\u001b[39m\u001b[38;5;124mSillon\u001b[39m\u001b[38;5;124m\"\u001b[39m: \u001b[38;5;124mf\u001b[39m\u001b[38;5;124m\"\u001b[39m\u001b[38;5;132;01m{\u001b[39;00mn_dep\u001b[38;5;132;01m}\u001b[39;00m\u001b[38;5;124m#\u001b[39m\u001b[38;5;132;01m{\u001b[39;00mget_time_string(var_dep)\u001b[38;5;132;01m}\u001b[39;00m\u001b[38;5;124m#A\u001b[39m\u001b[38;5;124m\"\u001b[39m,\n\u001b[0;32m   1177\u001b[0m         \u001b[38;5;124m\"\u001b[39m\u001b[38;5;124mDébut T\u001b[39m\u001b[38;5;124m\"\u001b[39m: get_time_string(var_dep),\n\u001b[0;32m   1178\u001b[0m         \u001b[38;5;124m\"\u001b[39m\u001b[38;5;124mDurée T\u001b[39m\u001b[38;5;124m\"\u001b[39m: Taches\u001b[38;5;241m.\u001b[39mT_DEP[m_dep],\n\u001b[0;32m   1179\u001b[0m         \u001b[38;5;124m\"\u001b[39m\u001b[38;5;124mLieu T\u001b[39m\u001b[38;5;124m\"\u001b[39m: \u001b[38;5;124m\"\u001b[39m\u001b[38;5;124mWPY_FOR\u001b[39m\u001b[38;5;124m\"\u001b[39m,\n\u001b[0;32m   1180\u001b[0m         \u001b[38;5;124m\"\u001b[39m\u001b[38;5;124mRoulement\u001b[39m\u001b[38;5;124m\"\u001b[39m: noms_roulements[r],\n\u001b[0;32m   1181\u001b[0m     }\n\u001b[0;32m   1182\u001b[0m     \u001b[38;5;28;01mfor\u001b[39;00m (m_dep, n_dep), var_dep \u001b[38;5;129;01min\u001b[39;00m t_dep\u001b[38;5;241m.\u001b[39mitems()\n\u001b[0;32m   1183\u001b[0m     \u001b[38;5;28;01mfor\u001b[39;00m r \u001b[38;5;129;01min\u001b[39;00m equip[m_dep]\n\u001b[0;32m   1184\u001b[0m     \u001b[38;5;28;01mfor\u001b[39;00m k \u001b[38;5;129;01min\u001b[39;00m \u001b[38;5;28mrange\u001b[39m(\u001b[38;5;241m1\u001b[39m, nb_cycles_agents[r] \u001b[38;5;241m+\u001b[39m \u001b[38;5;241m1\u001b[39m)\n\u001b[0;32m   1185\u001b[0m     \u001b[38;5;28;01mif\u001b[39;00m m_dep \u001b[38;5;241m==\u001b[39m \u001b[38;5;241m3\u001b[39m\n\u001b[0;32m   1186\u001b[0m     \u001b[38;5;28;01mif\u001b[39;00m who_dep[(m_dep, n_dep, r, k, \u001b[38;5;241m3\u001b[39m \u001b[38;5;241m*\u001b[39m \u001b[38;5;28mint\u001b[39m(var_dep\u001b[38;5;241m.\u001b[39mX))]\u001b[38;5;241m.\u001b[39mX \u001b[38;5;241m==\u001b[39m \u001b[38;5;241m1\u001b[39m\n\u001b[0;32m   1187\u001b[0m ] \u001b[38;5;241m+\u001b[39m [\n\u001b[0;32m   1188\u001b[0m     {\n\u001b[0;32m   1189\u001b[0m         \u001b[38;5;124m\"\u001b[39m\u001b[38;5;124mId JS\u001b[39m\u001b[38;5;124m\"\u001b[39m: noms_roulements[r] \u001b[38;5;241m+\u001b[39m \u001b[38;5;124m\"\u001b[39m\u001b[38;5;124m_\u001b[39m\u001b[38;5;124m\"\u001b[39m \u001b[38;5;241m+\u001b[39m \u001b[38;5;28mstr\u001b[39m((h_deb[(r, k)] \u001b[38;5;241m%\u001b[39m \u001b[38;5;241m1440\u001b[39m) \u001b[38;5;241m/\u001b[39m\u001b[38;5;241m/\u001b[39m \u001b[38;5;241m60\u001b[39m) \u001b[38;5;241m+\u001b[39m \u001b[38;5;124m\"\u001b[39m\u001b[38;5;124m_\u001b[39m\u001b[38;5;124m\"\u001b[39m \u001b[38;5;241m+\u001b[39m get_time_string(var_dep),\n\u001b[0;32m   1190\u001b[0m         \u001b[38;5;124m\"\u001b[39m\u001b[38;5;124mOrdre T\u001b[39m\u001b[38;5;124m\"\u001b[39m: m_dep,\n\u001b[0;32m   1191\u001b[0m         \u001b[38;5;124m\"\u001b[39m\u001b[38;5;124mType T\u001b[39m\u001b[38;5;124m\"\u001b[39m: \u001b[38;5;124m\"\u001b[39m\u001b[38;5;124messai de frein départ\u001b[39m\u001b[38;5;124m\"\u001b[39m,\n\u001b[0;32m   1192\u001b[0m         \u001b[38;5;124m\"\u001b[39m\u001b[38;5;124mSillon\u001b[39m\u001b[38;5;124m\"\u001b[39m: \u001b[38;5;124mf\u001b[39m\u001b[38;5;124m\"\u001b[39m\u001b[38;5;132;01m{\u001b[39;00mn_dep\u001b[38;5;132;01m}\u001b[39;00m\u001b[38;5;124m#\u001b[39m\u001b[38;5;132;01m{\u001b[39;00mget_time_string(var_dep)\u001b[38;5;132;01m}\u001b[39;00m\u001b[38;5;124m#A\u001b[39m\u001b[38;5;124m\"\u001b[39m,\n\u001b[0;32m   1193\u001b[0m         \u001b[38;5;124m\"\u001b[39m\u001b[38;5;124mDébut T\u001b[39m\u001b[38;5;124m\"\u001b[39m: get_time_string(var_dep),\n\u001b[0;32m   1194\u001b[0m         \u001b[38;5;124m\"\u001b[39m\u001b[38;5;124mDurée T\u001b[39m\u001b[38;5;124m\"\u001b[39m: Taches\u001b[38;5;241m.\u001b[39mT_DEP[m_dep],\n\u001b[0;32m   1195\u001b[0m         \u001b[38;5;124m\"\u001b[39m\u001b[38;5;124mLieu T\u001b[39m\u001b[38;5;124m\"\u001b[39m: \u001b[38;5;124m\"\u001b[39m\u001b[38;5;124mWPY_FOR\u001b[39m\u001b[38;5;124m\"\u001b[39m,\n\u001b[0;32m   1196\u001b[0m         \u001b[38;5;124m\"\u001b[39m\u001b[38;5;124mRoulement\u001b[39m\u001b[38;5;124m\"\u001b[39m: noms_roulements[r],\n\u001b[0;32m   1197\u001b[0m     }\n\u001b[0;32m   1198\u001b[0m     \u001b[38;5;28;01mfor\u001b[39;00m (m_dep, n_dep), var_dep \u001b[38;5;129;01min\u001b[39;00m t_dep\u001b[38;5;241m.\u001b[39mitems()\n\u001b[0;32m   1199\u001b[0m     \u001b[38;5;28;01mfor\u001b[39;00m r \u001b[38;5;129;01min\u001b[39;00m equip[m_dep]\n\u001b[0;32m   1200\u001b[0m     \u001b[38;5;28;01mfor\u001b[39;00m k \u001b[38;5;129;01min\u001b[39;00m \u001b[38;5;28mrange\u001b[39m(\u001b[38;5;241m1\u001b[39m, nb_cycles_agents[r] \u001b[38;5;241m+\u001b[39m \u001b[38;5;241m1\u001b[39m)\n\u001b[0;32m   1201\u001b[0m     \u001b[38;5;28;01mif\u001b[39;00m m_dep \u001b[38;5;241m==\u001b[39m \u001b[38;5;241m4\u001b[39m\n\u001b[0;32m   1202\u001b[0m     \u001b[38;5;28;01mif\u001b[39;00m who_dep[(m_dep, n_dep, r, k, \u001b[38;5;241m3\u001b[39m \u001b[38;5;241m*\u001b[39m \u001b[38;5;28mint\u001b[39m(var_dep\u001b[38;5;241m.\u001b[39mX))]\u001b[38;5;241m.\u001b[39mX \u001b[38;5;241m==\u001b[39m \u001b[38;5;241m1\u001b[39m\n\u001b[0;32m   1203\u001b[0m ]\n\u001b[0;32m   1205\u001b[0m df_xl \u001b[38;5;241m=\u001b[39m pd\u001b[38;5;241m.\u001b[39mDataFrame(xl)\n\u001b[0;32m   1207\u001b[0m \u001b[38;5;28;01mwith\u001b[39;00m pd\u001b[38;5;241m.\u001b[39mExcelWriter(\u001b[38;5;124m\"\u001b[39m\u001b[38;5;124msortie_jalon3.xlsx\u001b[39m\u001b[38;5;124m\"\u001b[39m, engine\u001b[38;5;241m=\u001b[39m\u001b[38;5;124m\"\u001b[39m\u001b[38;5;124mopenpyxl\u001b[39m\u001b[38;5;124m\"\u001b[39m) \u001b[38;5;28;01mas\u001b[39;00m writer:\n",
      "\u001b[1;31mKeyError\u001b[0m: 1"
     ]
    }
   ],
   "source": [
    "ecriture_donnees_sortie_jalon3(\n",
    "    file,\n",
    "    t_arr,\n",
    "    t_dep,\n",
    "    h_deb,\n",
    "    equip,\n",
    "    nb_cycles_agents,\n",
    "    who_arr,\n",
    "    who_dep)"
   ]
  }
 ],
 "metadata": {
  "kernelspec": {
   "display_name": "Opti",
   "language": "python",
   "name": "python3"
  },
  "language_info": {
   "codemirror_mode": {
    "name": "ipython",
    "version": 3
   },
   "file_extension": ".py",
   "mimetype": "text/x-python",
   "name": "python",
   "nbconvert_exporter": "python",
   "pygments_lexer": "ipython3",
   "version": "3.12.3"
  }
 },
 "nbformat": 4,
 "nbformat_minor": 2
}
