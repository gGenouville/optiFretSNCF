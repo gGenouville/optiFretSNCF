{
 "cells": [
  {
   "cell_type": "code",
   "execution_count": 1,
   "metadata": {},
   "outputs": [],
   "source": [
    "import os\n",
    "import sys\n",
    "from gurobipy import *\n",
    "import pandas as pd\n",
    "import numpy as np\n",
    "import itertools\n",
    "import datetime\n",
    "import plotly.express as px\n",
    "import matplotlib.pyplot as plt\n",
    "import matplotlib.dates as mdates\n",
    "\n",
    "module_path = os.path.abspath(\"..\")\n",
    "sys.path.append(module_path)\n",
    "from module.modele2 import init_model, init_model2,Taches\n",
    "from module.utils2 import (\n",
    "    read_sillon,\n",
    "    init_t_a,\n",
    "    init_t_d,\n",
    "    init_dict_correspondance,\n",
    "    base_time,\n",
    "    init_limites_voies,\n",
    "    dernier_depart,\n",
    "    ecriture_donnees_sortie,\n",
    "    nombre_max_agents_sur_roulement,\n",
    "    nombre_roulements,\n",
    "    roulements_operants_sur_tache,\n",
    "    heure_debut_roulement,\n",
    "    comp,\n",
    ")\n",
    "from module.visualisation2 import (\n",
    "    visualisation_gantt,\n",
    "    visualisation_occupation\n",
    ")"
   ]
  },
  {
   "cell_type": "code",
   "execution_count": 2,
   "metadata": {},
   "outputs": [
    {
     "name": "stdout",
     "output_type": "stream",
     "text": [
      "{1: [Timestamp('2022-08-08 05:00:00'), Timestamp('2022-08-08 13:00:00'), Timestamp('2022-08-08 21:00:00'), Timestamp('2022-08-09 05:00:00'), Timestamp('2022-08-09 13:00:00'), Timestamp('2022-08-09 21:00:00'), Timestamp('2022-08-10 05:00:00'), Timestamp('2022-08-10 13:00:00'), Timestamp('2022-08-10 21:00:00'), Timestamp('2022-08-11 05:00:00'), Timestamp('2022-08-11 13:00:00'), Timestamp('2022-08-11 21:00:00'), Timestamp('2022-08-12 05:00:00'), Timestamp('2022-08-12 13:00:00'), Timestamp('2022-08-12 21:00:00'), Timestamp('2022-08-13 05:00:00'), Timestamp('2022-08-13 13:00:00'), Timestamp('2022-08-13 21:00:00'), Timestamp('2022-08-14 05:00:00'), Timestamp('2022-08-14 13:00:00'), Timestamp('2022-08-14 21:00:00'), Timestamp('2022-08-15 05:00:00'), Timestamp('2022-08-15 13:00:00'), Timestamp('2022-08-15 21:00:00'), Timestamp('2022-08-16 05:00:00'), Timestamp('2022-08-16 13:00:00'), Timestamp('2022-08-16 21:00:00'), Timestamp('2022-08-17 05:00:00'), Timestamp('2022-08-17 13:00:00'), Timestamp('2022-08-17 21:00:00'), Timestamp('2022-08-18 05:00:00'), Timestamp('2022-08-18 13:00:00'), Timestamp('2022-08-18 21:00:00')], 2: [Timestamp('2022-08-08 05:00:00'), Timestamp('2022-08-08 13:00:00'), Timestamp('2022-08-08 21:00:00'), Timestamp('2022-08-09 05:00:00'), Timestamp('2022-08-09 13:00:00'), Timestamp('2022-08-09 21:00:00'), Timestamp('2022-08-10 05:00:00'), Timestamp('2022-08-10 13:00:00'), Timestamp('2022-08-10 21:00:00'), Timestamp('2022-08-11 05:00:00'), Timestamp('2022-08-11 13:00:00'), Timestamp('2022-08-11 21:00:00'), Timestamp('2022-08-12 05:00:00'), Timestamp('2022-08-12 13:00:00'), Timestamp('2022-08-12 21:00:00'), Timestamp('2022-08-13 05:00:00'), Timestamp('2022-08-13 13:00:00'), Timestamp('2022-08-13 21:00:00'), Timestamp('2022-08-14 05:00:00'), Timestamp('2022-08-14 13:00:00'), Timestamp('2022-08-14 21:00:00'), Timestamp('2022-08-15 05:00:00'), Timestamp('2022-08-15 13:00:00'), Timestamp('2022-08-15 21:00:00'), Timestamp('2022-08-16 05:00:00'), Timestamp('2022-08-16 13:00:00'), Timestamp('2022-08-16 21:00:00'), Timestamp('2022-08-17 05:00:00'), Timestamp('2022-08-17 13:00:00'), Timestamp('2022-08-17 21:00:00'), Timestamp('2022-08-18 05:00:00'), Timestamp('2022-08-18 13:00:00'), Timestamp('2022-08-18 21:00:00')], 3: [Timestamp('2022-08-08 05:00:00'), Timestamp('2022-08-08 13:00:00'), Timestamp('2022-08-08 21:00:00'), Timestamp('2022-08-09 05:00:00'), Timestamp('2022-08-09 13:00:00'), Timestamp('2022-08-09 21:00:00'), Timestamp('2022-08-10 05:00:00'), Timestamp('2022-08-10 13:00:00'), Timestamp('2022-08-10 21:00:00'), Timestamp('2022-08-11 05:00:00'), Timestamp('2022-08-11 13:00:00'), Timestamp('2022-08-11 21:00:00'), Timestamp('2022-08-12 05:00:00'), Timestamp('2022-08-12 13:00:00'), Timestamp('2022-08-12 21:00:00'), Timestamp('2022-08-13 05:00:00'), Timestamp('2022-08-13 13:00:00'), Timestamp('2022-08-13 21:00:00'), Timestamp('2022-08-14 05:00:00'), Timestamp('2022-08-14 13:00:00'), Timestamp('2022-08-14 21:00:00'), Timestamp('2022-08-15 05:00:00'), Timestamp('2022-08-15 13:00:00'), Timestamp('2022-08-15 21:00:00'), Timestamp('2022-08-16 05:00:00'), Timestamp('2022-08-16 13:00:00'), Timestamp('2022-08-16 21:00:00'), Timestamp('2022-08-17 05:00:00'), Timestamp('2022-08-17 13:00:00'), Timestamp('2022-08-17 21:00:00'), Timestamp('2022-08-18 05:00:00'), Timestamp('2022-08-18 13:00:00'), Timestamp('2022-08-18 21:00:00')], 4: [Timestamp('2022-08-08 09:00:00'), Timestamp('2022-08-08 22:00:00'), Timestamp('2022-08-09 09:00:00'), Timestamp('2022-08-09 22:00:00'), Timestamp('2022-08-10 09:00:00'), Timestamp('2022-08-10 22:00:00'), Timestamp('2022-08-11 09:00:00'), Timestamp('2022-08-11 22:00:00'), Timestamp('2022-08-12 09:00:00'), Timestamp('2022-08-12 22:00:00'), Timestamp('2022-08-15 09:00:00'), Timestamp('2022-08-15 22:00:00'), Timestamp('2022-08-16 09:00:00'), Timestamp('2022-08-16 22:00:00'), Timestamp('2022-08-17 09:00:00'), Timestamp('2022-08-17 22:00:00'), Timestamp('2022-08-18 09:00:00'), Timestamp('2022-08-18 22:00:00')], 5: [Timestamp('2022-08-08 05:00:00'), Timestamp('2022-08-08 13:00:00'), Timestamp('2022-08-08 21:00:00'), Timestamp('2022-08-09 05:00:00'), Timestamp('2022-08-09 13:00:00'), Timestamp('2022-08-09 21:00:00'), Timestamp('2022-08-10 05:00:00'), Timestamp('2022-08-10 13:00:00'), Timestamp('2022-08-10 21:00:00'), Timestamp('2022-08-11 05:00:00'), Timestamp('2022-08-11 13:00:00'), Timestamp('2022-08-11 21:00:00'), Timestamp('2022-08-12 05:00:00'), Timestamp('2022-08-12 13:00:00'), Timestamp('2022-08-12 21:00:00'), Timestamp('2022-08-13 05:00:00'), Timestamp('2022-08-13 13:00:00'), Timestamp('2022-08-13 21:00:00'), Timestamp('2022-08-14 05:00:00'), Timestamp('2022-08-14 13:00:00'), Timestamp('2022-08-14 21:00:00'), Timestamp('2022-08-15 05:00:00'), Timestamp('2022-08-15 13:00:00'), Timestamp('2022-08-15 21:00:00'), Timestamp('2022-08-16 05:00:00'), Timestamp('2022-08-16 13:00:00'), Timestamp('2022-08-16 21:00:00'), Timestamp('2022-08-17 05:00:00'), Timestamp('2022-08-17 13:00:00'), Timestamp('2022-08-17 21:00:00'), Timestamp('2022-08-18 05:00:00'), Timestamp('2022-08-18 13:00:00'), Timestamp('2022-08-18 21:00:00')]}\n",
      "{('arr', 1): [1, 4], ('dep', 1): [2, 5], ('arr', 2): [1, 4], ('dep', 2): [2, 5], ('arr', 3): [1, 4], ('dep', 3): [2, 5], ('dep', 4): [3, 4, 5]}\n"
     ]
    }
   ],
   "source": [
    "# Charger le fichier Excel\n",
    "\n",
    "id_file = 2\n",
    "\n",
    "if id_file == 0:\n",
    "    file = \"mini_instance.xlsx\"\n",
    "elif id_file == 1:    \n",
    "    file = \"instance_WPY_realiste_jalon1.xlsx\"\n",
    "elif id_file == 2:\n",
    "    file = \"instance_WPY_realiste_jalon2.xlsx\"\n",
    "elif id_file == 3:\n",
    "    file = \"instance_WPY_simple.xlsx\"\n",
    "else:\n",
    "    raise ValueError(f\"Erreur : '{id_file}' n'est pas une valeur acceptable. Choisissez parmi 0, 1, 2 et 3.\")\n",
    "\n",
    "# Lire les feuilles \"Sillons arrivée\" et \"Sillons départ\"\n",
    "df_sillons_arr, df_sillons_dep = read_sillon(file)\n",
    "\n",
    "# Dictionnaires pour stocker les temps d'arrivée et de départ en minutes :\n",
    "# Traitement des arrivées\n",
    "t_a = init_t_a(df_sillons_arr, id_file)\n",
    "\n",
    "t_d = init_t_d(df_sillons_dep, id_file)\n",
    "\n",
    "time_base=base_time(id_file)\n",
    "\n",
    "#Initialisation de l'intervalle de temps étudié\n",
    "t_min=0\n",
    "t_max=int(dernier_depart(df_sillons_dep,time_base)) #en quinzaine de minutes\n",
    "#print(t_max//15+1)\n",
    "\n",
    "# Vérification finale\n",
    "#print(\"Vérification du contenu final de t_a :\")\n",
    "#for key, value in t_a.items():\n",
    "#    print(f\"Le train {key} arrive en gare de Woippy au bout de {value} minutes\")\n",
    "\n",
    "#print(\"Vérification du contenu final de t_d :\")\n",
    "#for key, value in t_d.items():\n",
    "#    print(f\"Le train {key} part de la gare de Woippy au bout de {value} minutes\")\n",
    "\n",
    "df_correspondance = pd.read_excel(file, sheet_name=\"Correspondances\")\n",
    "\n",
    "D = init_dict_correspondance(df_correspondance, id_file)\n",
    "#print(D)\n",
    "\n",
    "temps_min = 0\n",
    "temps_max = int(t_max//15+1)\n",
    "\n",
    "nb_roulements=nombre_roulements(file)\n",
    "\n",
    "h_deb, nb_cycles_agents, nb_cycle_jour=heure_debut_roulement(file,temps_min,temps_max)\n",
    "#print(nb_cycles_agents)\n",
    "#print(h_deb)\n",
    "\n",
    "#print(comp(file))\n",
    "comp_arr, comp_dep = comp(file)\n",
    "\n",
    "print(roulements_operants_sur_tache(file))\n",
    "max_agents_sur_roulement=nombre_max_agents_sur_roulement(file)\n",
    "\n",
    "liste_id_train_arrivee = t_a.keys()\n",
    "liste_id_train_depart = t_d.keys()"
   ]
  },
  {
   "cell_type": "code",
   "execution_count": 3,
   "metadata": {},
   "outputs": [
    {
     "name": "stdout",
     "output_type": "stream",
     "text": [
      "Set parameter Username\n",
      "Set parameter LicenseID to value 2618972\n",
      "Academic license - for non-commercial use only - expires 2026-02-06\n"
     ]
    },
    {
     "name": "stderr",
     "output_type": "stream",
     "text": [
      "Contrainte assurant la succession des tâches sur les trains d'arrivée: 100%|██████████| 111/111 [00:00<00:00, 6665.25it/s]\n",
      "Contrainte assurant la succession des tâches sur les trains de départ: 100%|██████████| 106/106 [00:00<00:00, 13549.81it/s]\n",
      "Contrainte assurant qu'il n'y a qu'un train niveau de la machine DEB: 100%|██████████| 111/111 [00:00<00:00, 157.60it/s]\n",
      "Contrainte assurant qu'il n'y a qu'un train niveau des machines FOR et DEG: 100%|██████████| 2/2 [00:01<00:00,  1.36it/s]\n",
      "Contrainte de fermeture de la machine DEB: 100%|██████████| 111/111 [00:00<00:00, 1395.19it/s]\n",
      "Contrainte de fermeture de la machine FOR: 100%|██████████| 106/106 [00:00<00:00, 1423.82it/s]\n",
      "Contrainte de fermeture de la machine DEG: 100%|██████████| 106/106 [00:00<00:00, 1415.16it/s]\n",
      "Contrainte de fermeture du Chantier FOR: 100%|██████████| 106/106 [00:00<00:00, 504.78it/s]\n",
      "Contrainte assurant la succession des tâches entre les chantiers de REC et FOR: 100%|██████████| 106/106 [00:00<00:00, 5875.15it/s]\n",
      "Contrainte relative au nombre de voies des chantiers: 100%|██████████| 910/910 [00:00<00:00, 1964.45it/s]\n",
      "Contrainte définissant le temps de débranchement du premier wagon d'un train de départ: 100%|██████████| 106/106 [00:00<00:00, 7480.50it/s]\n"
     ]
    }
   ],
   "source": [
    "model,t_arr,t_dep, is_present = init_model(\n",
    "    liste_id_train_arrivee = liste_id_train_arrivee,\n",
    "    t_a = t_a,\n",
    "    liste_id_train_depart = liste_id_train_depart,\n",
    "    t_d = t_d,\n",
    "    dict_correspondances = D,\n",
    "    file=file,\n",
    "    id_file = id_file,\n",
    "    limites_voies=init_limites_voies(file),\n",
    "    temps_max=temps_max,\n",
    "    temps_min=temps_min\n",
    ")\n"
   ]
  },
  {
   "cell_type": "code",
   "execution_count": 4,
   "metadata": {},
   "outputs": [
    {
     "name": "stdout",
     "output_type": "stream",
     "text": [
      "Ca marche !\n",
      "Tâche 1 - Train 412202_08 : <gurobi.Var t (value 84.0)>\n",
      "Tâche 1 - Train 431018_08 : <gurobi.Var t (value 54.0)>\n",
      "Tâche 1 - Train 431246_08 : <gurobi.Var t (value 45.0)>\n",
      "Tâche 1 - Train 44951_08 : <gurobi.Var t (value 76.0)>\n",
      "Tâche 1 - Train 450237_08 : <gurobi.Var t (value 48.0)>\n",
      "Tâche 1 - Train 489016_08 : <gurobi.Var t (value 95.0)>\n",
      "Tâche 1 - Train 54234_08 : <gurobi.Var t (value 89.0)>\n",
      "Tâche 1 - Train 55390_08 : <gurobi.Var t (value 96.0)>\n",
      "Tâche 1 - Train 56135_08 : <gurobi.Var t (value 86.0)>\n",
      "Tâche 1 - Train 412023_09 : <gurobi.Var t (value 105.0)>\n",
      "Tâche 1 - Train 41264_09 : <gurobi.Var t (value 187.0)>\n",
      "Tâche 1 - Train 431802_09 : <gurobi.Var t (value 108.0)>\n",
      "Tâche 1 - Train 44222_09 : <gurobi.Var t (value 169.0)>\n",
      "Tâche 1 - Train 44250_09 : <gurobi.Var t (value 138.0)>\n",
      "Tâche 1 - Train 44865_09 : <gurobi.Var t (value 162.0)>\n",
      "Tâche 1 - Train 450237_09 : <gurobi.Var t (value 144.0)>\n",
      "Tâche 1 - Train 471003_09 : <gurobi.Var t (value 147.0)>\n",
      "Tâche 1 - Train 47262_09 : <gurobi.Var t (value 133.0)>\n",
      "Tâche 1 - Train 489026_09 : <gurobi.Var t (value 135.0)>\n",
      "Tâche 1 - Train 54234_09 : <gurobi.Var t (value 185.0)>\n",
      "Tâche 1 - Train 55390_09 : <gurobi.Var t (value 192.0)>\n",
      "Tâche 1 - Train 55398_09 : <gurobi.Var t (value 112.0)>\n",
      "Tâche 1 - Train 56135_09 : <gurobi.Var t (value 182.0)>\n",
      "Tâche 1 - Train 56730_09 : <gurobi.Var t (value 107.0)>\n",
      "Tâche 1 - Train 58706_09 : <gurobi.Var t (value 181.0)>\n",
      "Tâche 1 - Train 412023_10 : <gurobi.Var t (value 201.0)>\n",
      "Tâche 1 - Train 412202_10 : <gurobi.Var t (value 276.0)>\n",
      "Tâche 1 - Train 41264_10 : <gurobi.Var t (value 283.0)>\n",
      "Tâche 1 - Train 431020_10 : <gurobi.Var t (value 274.0)>\n",
      "Tâche 1 - Train 431110_10 : <gurobi.Var t (value 242.0)>\n",
      "Tâche 1 - Train 431246_10 : <gurobi.Var t (value 237.0)>\n",
      "Tâche 1 - Train 431802_10 : <gurobi.Var t (value 208.0)>\n",
      "Tâche 1 - Train 44222_10 : <gurobi.Var t (value 256.0)>\n",
      "Tâche 1 - Train 44228_10 : <gurobi.Var t (value 197.0)>\n",
      "Tâche 1 - Train 44250_10 : <gurobi.Var t (value 234.0)>\n",
      "Tâche 1 - Train 450237_10 : <gurobi.Var t (value 240.0)>\n",
      "Tâche 1 - Train 471003_10 : <gurobi.Var t (value 243.0)>\n",
      "Tâche 1 - Train 47214_10 : <gurobi.Var t (value 243.0)>\n",
      "Tâche 1 - Train 47262_10 : <gurobi.Var t (value 229.0)>\n",
      "Tâche 1 - Train 54234_10 : <gurobi.Var t (value 281.0)>\n",
      "Tâche 1 - Train 55390_10 : <gurobi.Var t (value 288.0)>\n",
      "Tâche 1 - Train 55396_10 : <gurobi.Var t (value 223.0)>\n",
      "Tâche 1 - Train 56135_10 : <gurobi.Var t (value 278.0)>\n",
      "Tâche 1 - Train 56730_10 : <gurobi.Var t (value 203.0)>\n",
      "Tâche 1 - Train 58706_10 : <gurobi.Var t (value 277.0)>\n",
      "Tâche 1 - Train 71270_10 : <gurobi.Var t (value 230.0)>\n",
      "Tâche 1 - Train 412023_11 : <gurobi.Var t (value 297.0)>\n",
      "Tâche 1 - Train 412202_11 : <gurobi.Var t (value 372.0)>\n",
      "Tâche 1 - Train 41254_11 : <gurobi.Var t (value 382.0)>\n",
      "Tâche 1 - Train 431246_11 : <gurobi.Var t (value 333.0)>\n",
      "Tâche 1 - Train 431640_11 : <gurobi.Var t (value 333.0)>\n",
      "Tâche 1 - Train 431802_11 : <gurobi.Var t (value 300.0)>\n",
      "Tâche 1 - Train 44222_11 : <gurobi.Var t (value 352.0)>\n",
      "Tâche 1 - Train 44250_11 : <gurobi.Var t (value 330.0)>\n",
      "Tâche 1 - Train 44865_11 : <gurobi.Var t (value 354.0)>\n",
      "Tâche 1 - Train 450237_11 : <gurobi.Var t (value 336.0)>\n",
      "Tâche 1 - Train 471003_11 : <gurobi.Var t (value 339.0)>\n",
      "Tâche 1 - Train 47212_11 : <gurobi.Var t (value 359.0)>\n",
      "Tâche 1 - Train 47240_11 : <gurobi.Var t (value 300.0)>\n",
      "Tâche 1 - Train 47262_11 : <gurobi.Var t (value 325.0)>\n",
      "Tâche 1 - Train 47822_11 : <gurobi.Var t (value 367.0)>\n",
      "Tâche 1 - Train 54234_11 : <gurobi.Var t (value 377.0)>\n",
      "Tâche 1 - Train 55390_11 : <gurobi.Var t (value 384.0)>\n",
      "Tâche 1 - Train 55394_11 : <gurobi.Var t (value 335.0)>\n",
      "Tâche 1 - Train 55396_11 : <gurobi.Var t (value 303.0)>\n",
      "Tâche 1 - Train 56135_11 : <gurobi.Var t (value 374.0)>\n",
      "Tâche 1 - Train 56730_11 : <gurobi.Var t (value 299.0)>\n",
      "Tâche 1 - Train 58706_11 : <gurobi.Var t (value 373.0)>\n",
      "Tâche 1 - Train 412023_12 : <gurobi.Var t (value 393.0)>\n",
      "Tâche 1 - Train 412202_12 : <gurobi.Var t (value 468.0)>\n",
      "Tâche 1 - Train 41264_12 : <gurobi.Var t (value 475.0)>\n",
      "Tâche 1 - Train 431246_12 : <gurobi.Var t (value 429.0)>\n",
      "Tâche 1 - Train 431802_12 : <gurobi.Var t (value 405.0)>\n",
      "Tâche 1 - Train 44222_12 : <gurobi.Var t (value 448.0)>\n",
      "Tâche 1 - Train 44228_12 : <gurobi.Var t (value 389.0)>\n",
      "Tâche 1 - Train 44250_12 : <gurobi.Var t (value 426.0)>\n",
      "Tâche 1 - Train 44865_12 : <gurobi.Var t (value 450.0)>\n",
      "Tâche 1 - Train 44951_12 : <gurobi.Var t (value 460.0)>\n",
      "Tâche 1 - Train 450237_12 : <gurobi.Var t (value 432.0)>\n",
      "Tâche 1 - Train 471003_12 : <gurobi.Var t (value 435.0)>\n",
      "Tâche 1 - Train 47214_12 : <gurobi.Var t (value 455.0)>\n",
      "Tâche 1 - Train 47262_12 : <gurobi.Var t (value 421.0)>\n",
      "Tâche 1 - Train 47822_12 : <gurobi.Var t (value 463.0)>\n",
      "Tâche 1 - Train 48216_12 : <gurobi.Var t (value 415.0)>\n",
      "Tâche 1 - Train 489026_12 : <gurobi.Var t (value 431.0)>\n",
      "Tâche 1 - Train 489042_12 : <gurobi.Var t (value 471.0)>\n",
      "Tâche 1 - Train 54234_12 : <gurobi.Var t (value 473.0)>\n",
      "Tâche 1 - Train 55396_12 : <gurobi.Var t (value 415.0)>\n",
      "Tâche 1 - Train 56135_12 : <gurobi.Var t (value 470.0)>\n",
      "Tâche 1 - Train 56730_12 : <gurobi.Var t (value 395.0)>\n",
      "Tâche 1 - Train 58706_12 : <gurobi.Var t (value 469.0)>\n",
      "Tâche 1 - Train 71270_12 : <gurobi.Var t (value 422.0)>\n",
      "Tâche 1 - Train 412023_13 : <gurobi.Var t (value 489.0)>\n",
      "Tâche 1 - Train 41230_13 : <gurobi.Var t (value 569.0)>\n",
      "Tâche 1 - Train 431802_13 : <gurobi.Var t (value 501.0)>\n",
      "Tâche 1 - Train 44222_13 : <gurobi.Var t (value 545.0)>\n",
      "Tâche 1 - Train 44228_13 : <gurobi.Var t (value 485.0)>\n",
      "Tâche 1 - Train 44250_13 : <gurobi.Var t (value 523.0)>\n",
      "Tâche 1 - Train 44864_13 : <gurobi.Var t (value 545.0)>\n",
      "Tâche 1 - Train 450235_13 : <gurobi.Var t (value 528.0)>\n",
      "Tâche 1 - Train 47240_13 : <gurobi.Var t (value 488.0)>\n",
      "Tâche 1 - Train 47262_13 : <gurobi.Var t (value 518.0)>\n",
      "Tâche 1 - Train 47822_13 : <gurobi.Var t (value 559.0)>\n",
      "Tâche 1 - Train 489026_13 : <gurobi.Var t (value 527.0)>\n",
      "Tâche 1 - Train 54234_13 : <gurobi.Var t (value 569.0)>\n",
      "Tâche 1 - Train 55390_13 : <gurobi.Var t (value 576.0)>\n",
      "Tâche 1 - Train 55396_13 : <gurobi.Var t (value 511.0)>\n",
      "Tâche 1 - Train 56135_13 : <gurobi.Var t (value 566.0)>\n",
      "Tâche 1 - Train 56730_13 : <gurobi.Var t (value 491.0)>\n",
      "Tâche 1 - Train 58706_13 : <gurobi.Var t (value 565.0)>\n",
      "Tâche 1 - Train 56730_14 : <gurobi.Var t (value 587.0)>\n",
      "Tâche 2 - Train 412202_08 : <gurobi.Var t (value 85.0)>\n",
      "Tâche 2 - Train 431018_08 : <gurobi.Var t (value 55.0)>\n",
      "Tâche 2 - Train 431246_08 : <gurobi.Var t (value 46.0)>\n",
      "Tâche 2 - Train 44951_08 : <gurobi.Var t (value 77.0)>\n",
      "Tâche 2 - Train 450237_08 : <gurobi.Var t (value 49.0)>\n",
      "Tâche 2 - Train 489016_08 : <gurobi.Var t (value 96.0)>\n",
      "Tâche 2 - Train 54234_08 : <gurobi.Var t (value 90.0)>\n",
      "Tâche 2 - Train 55390_08 : <gurobi.Var t (value 97.0)>\n",
      "Tâche 2 - Train 56135_08 : <gurobi.Var t (value 87.0)>\n",
      "Tâche 2 - Train 412023_09 : <gurobi.Var t (value 106.0)>\n",
      "Tâche 2 - Train 41264_09 : <gurobi.Var t (value 188.0)>\n",
      "Tâche 2 - Train 431802_09 : <gurobi.Var t (value 109.0)>\n",
      "Tâche 2 - Train 44222_09 : <gurobi.Var t (value 170.0)>\n",
      "Tâche 2 - Train 44250_09 : <gurobi.Var t (value 139.0)>\n",
      "Tâche 2 - Train 44865_09 : <gurobi.Var t (value 163.0)>\n",
      "Tâche 2 - Train 450237_09 : <gurobi.Var t (value 145.0)>\n",
      "Tâche 2 - Train 471003_09 : <gurobi.Var t (value 148.0)>\n",
      "Tâche 2 - Train 47262_09 : <gurobi.Var t (value 134.0)>\n",
      "Tâche 2 - Train 489026_09 : <gurobi.Var t (value 136.0)>\n",
      "Tâche 2 - Train 54234_09 : <gurobi.Var t (value 186.0)>\n",
      "Tâche 2 - Train 55390_09 : <gurobi.Var t (value 193.0)>\n",
      "Tâche 2 - Train 55398_09 : <gurobi.Var t (value 113.0)>\n",
      "Tâche 2 - Train 56135_09 : <gurobi.Var t (value 183.0)>\n",
      "Tâche 2 - Train 56730_09 : <gurobi.Var t (value 108.0)>\n",
      "Tâche 2 - Train 58706_09 : <gurobi.Var t (value 182.0)>\n",
      "Tâche 2 - Train 412023_10 : <gurobi.Var t (value 202.0)>\n",
      "Tâche 2 - Train 412202_10 : <gurobi.Var t (value 277.0)>\n",
      "Tâche 2 - Train 41264_10 : <gurobi.Var t (value 284.0)>\n",
      "Tâche 2 - Train 431020_10 : <gurobi.Var t (value 275.0)>\n",
      "Tâche 2 - Train 431110_10 : <gurobi.Var t (value 243.0)>\n",
      "Tâche 2 - Train 431246_10 : <gurobi.Var t (value 238.0)>\n",
      "Tâche 2 - Train 431802_10 : <gurobi.Var t (value 209.0)>\n",
      "Tâche 2 - Train 44222_10 : <gurobi.Var t (value 257.0)>\n",
      "Tâche 2 - Train 44228_10 : <gurobi.Var t (value 198.0)>\n",
      "Tâche 2 - Train 44250_10 : <gurobi.Var t (value 235.0)>\n",
      "Tâche 2 - Train 450237_10 : <gurobi.Var t (value 241.0)>\n",
      "Tâche 2 - Train 471003_10 : <gurobi.Var t (value 244.0)>\n",
      "Tâche 2 - Train 47214_10 : <gurobi.Var t (value 244.0)>\n",
      "Tâche 2 - Train 47262_10 : <gurobi.Var t (value 230.0)>\n",
      "Tâche 2 - Train 54234_10 : <gurobi.Var t (value 282.0)>\n",
      "Tâche 2 - Train 55390_10 : <gurobi.Var t (value 289.0)>\n",
      "Tâche 2 - Train 55396_10 : <gurobi.Var t (value 224.0)>\n",
      "Tâche 2 - Train 56135_10 : <gurobi.Var t (value 279.0)>\n",
      "Tâche 2 - Train 56730_10 : <gurobi.Var t (value 204.0)>\n",
      "Tâche 2 - Train 58706_10 : <gurobi.Var t (value 278.0)>\n",
      "Tâche 2 - Train 71270_10 : <gurobi.Var t (value 231.0)>\n",
      "Tâche 2 - Train 412023_11 : <gurobi.Var t (value 298.0)>\n",
      "Tâche 2 - Train 412202_11 : <gurobi.Var t (value 373.0)>\n",
      "Tâche 2 - Train 41254_11 : <gurobi.Var t (value 383.0)>\n",
      "Tâche 2 - Train 431246_11 : <gurobi.Var t (value 334.0)>\n",
      "Tâche 2 - Train 431640_11 : <gurobi.Var t (value 334.0)>\n",
      "Tâche 2 - Train 431802_11 : <gurobi.Var t (value 301.0)>\n",
      "Tâche 2 - Train 44222_11 : <gurobi.Var t (value 353.0)>\n",
      "Tâche 2 - Train 44250_11 : <gurobi.Var t (value 331.0)>\n",
      "Tâche 2 - Train 44865_11 : <gurobi.Var t (value 355.0)>\n",
      "Tâche 2 - Train 450237_11 : <gurobi.Var t (value 337.0)>\n",
      "Tâche 2 - Train 471003_11 : <gurobi.Var t (value 340.0)>\n",
      "Tâche 2 - Train 47212_11 : <gurobi.Var t (value 360.0)>\n",
      "Tâche 2 - Train 47240_11 : <gurobi.Var t (value 301.0)>\n",
      "Tâche 2 - Train 47262_11 : <gurobi.Var t (value 326.0)>\n",
      "Tâche 2 - Train 47822_11 : <gurobi.Var t (value 368.0)>\n",
      "Tâche 2 - Train 54234_11 : <gurobi.Var t (value 378.0)>\n",
      "Tâche 2 - Train 55390_11 : <gurobi.Var t (value 385.0)>\n",
      "Tâche 2 - Train 55394_11 : <gurobi.Var t (value 336.0)>\n",
      "Tâche 2 - Train 55396_11 : <gurobi.Var t (value 304.0)>\n",
      "Tâche 2 - Train 56135_11 : <gurobi.Var t (value 375.0)>\n",
      "Tâche 2 - Train 56730_11 : <gurobi.Var t (value 300.0)>\n",
      "Tâche 2 - Train 58706_11 : <gurobi.Var t (value 374.0)>\n",
      "Tâche 2 - Train 412023_12 : <gurobi.Var t (value 394.0)>\n",
      "Tâche 2 - Train 412202_12 : <gurobi.Var t (value 469.0)>\n",
      "Tâche 2 - Train 41264_12 : <gurobi.Var t (value 476.0)>\n",
      "Tâche 2 - Train 431246_12 : <gurobi.Var t (value 430.0)>\n",
      "Tâche 2 - Train 431802_12 : <gurobi.Var t (value 406.0)>\n",
      "Tâche 2 - Train 44222_12 : <gurobi.Var t (value 449.0)>\n",
      "Tâche 2 - Train 44228_12 : <gurobi.Var t (value 390.0)>\n",
      "Tâche 2 - Train 44250_12 : <gurobi.Var t (value 427.0)>\n",
      "Tâche 2 - Train 44865_12 : <gurobi.Var t (value 451.0)>\n",
      "Tâche 2 - Train 44951_12 : <gurobi.Var t (value 461.0)>\n",
      "Tâche 2 - Train 450237_12 : <gurobi.Var t (value 433.0)>\n",
      "Tâche 2 - Train 471003_12 : <gurobi.Var t (value 436.0)>\n",
      "Tâche 2 - Train 47214_12 : <gurobi.Var t (value 456.0)>\n",
      "Tâche 2 - Train 47262_12 : <gurobi.Var t (value 422.0)>\n",
      "Tâche 2 - Train 47822_12 : <gurobi.Var t (value 464.0)>\n",
      "Tâche 2 - Train 48216_12 : <gurobi.Var t (value 416.0)>\n",
      "Tâche 2 - Train 489026_12 : <gurobi.Var t (value 432.0)>\n",
      "Tâche 2 - Train 489042_12 : <gurobi.Var t (value 472.0)>\n",
      "Tâche 2 - Train 54234_12 : <gurobi.Var t (value 474.0)>\n",
      "Tâche 2 - Train 55396_12 : <gurobi.Var t (value 416.0)>\n",
      "Tâche 2 - Train 56135_12 : <gurobi.Var t (value 471.0)>\n",
      "Tâche 2 - Train 56730_12 : <gurobi.Var t (value 396.0)>\n",
      "Tâche 2 - Train 58706_12 : <gurobi.Var t (value 470.0)>\n",
      "Tâche 2 - Train 71270_12 : <gurobi.Var t (value 423.0)>\n",
      "Tâche 2 - Train 412023_13 : <gurobi.Var t (value 490.0)>\n",
      "Tâche 2 - Train 41230_13 : <gurobi.Var t (value 570.0)>\n",
      "Tâche 2 - Train 431802_13 : <gurobi.Var t (value 502.0)>\n",
      "Tâche 2 - Train 44222_13 : <gurobi.Var t (value 546.0)>\n",
      "Tâche 2 - Train 44228_13 : <gurobi.Var t (value 486.0)>\n",
      "Tâche 2 - Train 44250_13 : <gurobi.Var t (value 524.0)>\n",
      "Tâche 2 - Train 44864_13 : <gurobi.Var t (value 546.0)>\n",
      "Tâche 2 - Train 450235_13 : <gurobi.Var t (value 529.0)>\n",
      "Tâche 2 - Train 47240_13 : <gurobi.Var t (value 489.0)>\n",
      "Tâche 2 - Train 47262_13 : <gurobi.Var t (value 519.0)>\n",
      "Tâche 2 - Train 47822_13 : <gurobi.Var t (value 560.0)>\n",
      "Tâche 2 - Train 489026_13 : <gurobi.Var t (value 528.0)>\n",
      "Tâche 2 - Train 54234_13 : <gurobi.Var t (value 570.0)>\n",
      "Tâche 2 - Train 55390_13 : <gurobi.Var t (value 577.0)>\n",
      "Tâche 2 - Train 55396_13 : <gurobi.Var t (value 512.0)>\n",
      "Tâche 2 - Train 56135_13 : <gurobi.Var t (value 567.0)>\n",
      "Tâche 2 - Train 56730_13 : <gurobi.Var t (value 492.0)>\n",
      "Tâche 2 - Train 58706_13 : <gurobi.Var t (value 566.0)>\n",
      "Tâche 2 - Train 56730_14 : <gurobi.Var t (value 588.0)>\n",
      "Tâche 3 - Train 412202_08 : <gurobi.Var t (value 88.0)>\n",
      "Tâche 3 - Train 431018_08 : <gurobi.Var t (value 58.0)>\n",
      "Tâche 3 - Train 431246_08 : <gurobi.Var t (value 53.0)>\n",
      "Tâche 3 - Train 44951_08 : <gurobi.Var t (value 89.0)>\n",
      "Tâche 3 - Train 450237_08 : <gurobi.Var t (value 52.0)>\n",
      "Tâche 3 - Train 489016_08 : <gurobi.Var t (value 117.0)>\n",
      "Tâche 3 - Train 54234_08 : <gurobi.Var t (value 96.0)>\n",
      "Tâche 3 - Train 55390_08 : <gurobi.Var t (value 100.0)>\n",
      "Tâche 3 - Train 56135_08 : <gurobi.Var t (value 95.0)>\n",
      "Tâche 3 - Train 412023_09 : <gurobi.Var t (value 109.0)>\n",
      "Tâche 3 - Train 41264_09 : <gurobi.Var t (value 191.0)>\n",
      "Tâche 3 - Train 431802_09 : <gurobi.Var t (value 118.0)>\n",
      "Tâche 3 - Train 44222_09 : <gurobi.Var t (value 173.0)>\n",
      "Tâche 3 - Train 44250_09 : <gurobi.Var t (value 142.0)>\n",
      "Tâche 3 - Train 44865_09 : <gurobi.Var t (value 166.0)>\n",
      "Tâche 3 - Train 450237_09 : <gurobi.Var t (value 152.0)>\n",
      "Tâche 3 - Train 471003_09 : <gurobi.Var t (value 153.0)>\n",
      "Tâche 3 - Train 47262_09 : <gurobi.Var t (value 137.0)>\n",
      "Tâche 3 - Train 489026_09 : <gurobi.Var t (value 139.0)>\n",
      "Tâche 3 - Train 54234_09 : <gurobi.Var t (value 189.0)>\n",
      "Tâche 3 - Train 55390_09 : <gurobi.Var t (value 196.0)>\n",
      "Tâche 3 - Train 55398_09 : <gurobi.Var t (value 116.0)>\n",
      "Tâche 3 - Train 56135_09 : <gurobi.Var t (value 211.0)>\n",
      "Tâche 3 - Train 56730_09 : <gurobi.Var t (value 111.0)>\n",
      "Tâche 3 - Train 58706_09 : <gurobi.Var t (value 207.0)>\n",
      "Tâche 3 - Train 412023_10 : <gurobi.Var t (value 205.0)>\n",
      "Tâche 3 - Train 412202_10 : <gurobi.Var t (value 280.0)>\n",
      "Tâche 3 - Train 41264_10 : <gurobi.Var t (value 287.0)>\n",
      "Tâche 3 - Train 431020_10 : <gurobi.Var t (value 278.0)>\n",
      "Tâche 3 - Train 431110_10 : <gurobi.Var t (value 246.0)>\n",
      "Tâche 3 - Train 431246_10 : <gurobi.Var t (value 283.0)>\n",
      "Tâche 3 - Train 431802_10 : <gurobi.Var t (value 218.0)>\n",
      "Tâche 3 - Train 44222_10 : <gurobi.Var t (value 260.0)>\n",
      "Tâche 3 - Train 44228_10 : <gurobi.Var t (value 227.0)>\n",
      "Tâche 3 - Train 44250_10 : <gurobi.Var t (value 238.0)>\n",
      "Tâche 3 - Train 450237_10 : <gurobi.Var t (value 244.0)>\n",
      "Tâche 3 - Train 471003_10 : <gurobi.Var t (value 324.0)>\n",
      "Tâche 3 - Train 47214_10 : <gurobi.Var t (value 247.0)>\n",
      "Tâche 3 - Train 47262_10 : <gurobi.Var t (value 288.0)>\n",
      "Tâche 3 - Train 54234_10 : <gurobi.Var t (value 333.0)>\n",
      "Tâche 3 - Train 55390_10 : <gurobi.Var t (value 327.0)>\n",
      "Tâche 3 - Train 55396_10 : <gurobi.Var t (value 228.0)>\n",
      "Tâche 3 - Train 56135_10 : <gurobi.Var t (value 311.0)>\n",
      "Tâche 3 - Train 56730_10 : <gurobi.Var t (value 226.0)>\n",
      "Tâche 3 - Train 58706_10 : <gurobi.Var t (value 281.0)>\n",
      "Tâche 3 - Train 71270_10 : <gurobi.Var t (value 267.0)>\n",
      "Tâche 3 - Train 412023_11 : <gurobi.Var t (value 325.0)>\n",
      "Tâche 3 - Train 412202_11 : <gurobi.Var t (value 376.0)>\n",
      "Tâche 3 - Train 41254_11 : <gurobi.Var t (value 448.0)>\n",
      "Tâche 3 - Train 431246_11 : <gurobi.Var t (value 337.0)>\n",
      "Tâche 3 - Train 431640_11 : <gurobi.Var t (value 338.0)>\n",
      "Tâche 3 - Train 431802_11 : <gurobi.Var t (value 304.0)>\n",
      "Tâche 3 - Train 44222_11 : <gurobi.Var t (value 360.0)>\n",
      "Tâche 3 - Train 44250_11 : <gurobi.Var t (value 334.0)>\n",
      "Tâche 3 - Train 44865_11 : <gurobi.Var t (value 359.0)>\n",
      "Tâche 3 - Train 450237_11 : <gurobi.Var t (value 341.0)>\n",
      "Tâche 3 - Train 471003_11 : <gurobi.Var t (value 343.0)>\n",
      "Tâche 3 - Train 47212_11 : <gurobi.Var t (value 422.0)>\n",
      "Tâche 3 - Train 47240_11 : <gurobi.Var t (value 305.0)>\n",
      "Tâche 3 - Train 47262_11 : <gurobi.Var t (value 329.0)>\n",
      "Tâche 3 - Train 47822_11 : <gurobi.Var t (value 371.0)>\n",
      "Tâche 3 - Train 54234_11 : <gurobi.Var t (value 423.0)>\n",
      "Tâche 3 - Train 55390_11 : <gurobi.Var t (value 388.0)>\n",
      "Tâche 3 - Train 55394_11 : <gurobi.Var t (value 358.0)>\n",
      "Tâche 3 - Train 55396_11 : <gurobi.Var t (value 307.0)>\n",
      "Tâche 3 - Train 56135_11 : <gurobi.Var t (value 378.0)>\n",
      "Tâche 3 - Train 56730_11 : <gurobi.Var t (value 313.0)>\n",
      "Tâche 3 - Train 58706_11 : <gurobi.Var t (value 395.0)>\n",
      "Tâche 3 - Train 412023_12 : <gurobi.Var t (value 403.0)>\n",
      "Tâche 3 - Train 412202_12 : <gurobi.Var t (value 476.0)>\n",
      "Tâche 3 - Train 41264_12 : <gurobi.Var t (value 509.0)>\n",
      "Tâche 3 - Train 431246_12 : <gurobi.Var t (value 455.0)>\n",
      "Tâche 3 - Train 431802_12 : <gurobi.Var t (value 409.0)>\n",
      "Tâche 3 - Train 44222_12 : <gurobi.Var t (value 454.0)>\n",
      "Tâche 3 - Train 44228_12 : <gurobi.Var t (value 408.0)>\n",
      "Tâche 3 - Train 44250_12 : <gurobi.Var t (value 463.0)>\n",
      "Tâche 3 - Train 44865_12 : <gurobi.Var t (value 466.0)>\n",
      "Tâche 3 - Train 44951_12 : <gurobi.Var t (value 464.0)>\n",
      "Tâche 3 - Train 450237_12 : <gurobi.Var t (value 438.0)>\n",
      "Tâche 3 - Train 471003_12 : <gurobi.Var t (value 567.0)>\n",
      "Tâche 3 - Train 47214_12 : <gurobi.Var t (value 467.0)>\n",
      "Tâche 3 - Train 47262_12 : <gurobi.Var t (value 465.0)>\n",
      "Tâche 3 - Train 47822_12 : <gurobi.Var t (value 468.0)>\n",
      "Tâche 3 - Train 48216_12 : <gurobi.Var t (value 462.0)>\n",
      "Tâche 3 - Train 489026_12 : <gurobi.Var t (value 437.0)>\n",
      "Tâche 3 - Train 489042_12 : <gurobi.Var t (value 479.0)>\n",
      "Tâche 3 - Train 54234_12 : <gurobi.Var t (value 494.0)>\n",
      "Tâche 3 - Train 55396_12 : <gurobi.Var t (value 419.0)>\n",
      "Tâche 3 - Train 56135_12 : <gurobi.Var t (value 474.0)>\n",
      "Tâche 3 - Train 56730_12 : <gurobi.Var t (value 433.0)>\n",
      "Tâche 3 - Train 58706_12 : <gurobi.Var t (value 516.0)>\n",
      "Tâche 3 - Train 71270_12 : <gurobi.Var t (value 471.0)>\n",
      "Tâche 3 - Train 412023_13 : <gurobi.Var t (value 495.0)>\n",
      "Tâche 3 - Train 41230_13 : <gurobi.Var t (value 598.0)>\n",
      "Tâche 3 - Train 431802_13 : <gurobi.Var t (value 583.0)>\n",
      "Tâche 3 - Train 44222_13 : <gurobi.Var t (value 564.0)>\n",
      "Tâche 3 - Train 44228_13 : <gurobi.Var t (value 497.0)>\n",
      "Tâche 3 - Train 44250_13 : <gurobi.Var t (value 527.0)>\n",
      "Tâche 3 - Train 44864_13 : <gurobi.Var t (value 577.0)>\n",
      "Tâche 3 - Train 450235_13 : <gurobi.Var t (value 600.0)>\n",
      "Tâche 3 - Train 47240_13 : <gurobi.Var t (value 566.0)>\n",
      "Tâche 3 - Train 47262_13 : <gurobi.Var t (value 522.0)>\n",
      "Tâche 3 - Train 47822_13 : <gurobi.Var t (value 565.0)>\n",
      "Tâche 3 - Train 489026_13 : <gurobi.Var t (value 612.0)>\n",
      "Tâche 3 - Train 54234_13 : <gurobi.Var t (value 573.0)>\n",
      "Tâche 3 - Train 55390_13 : <gurobi.Var t (value 611.0)>\n",
      "Tâche 3 - Train 55396_13 : <gurobi.Var t (value 591.0)>\n",
      "Tâche 3 - Train 56135_13 : <gurobi.Var t (value 571.0)>\n",
      "Tâche 3 - Train 56730_13 : <gurobi.Var t (value 496.0)>\n",
      "Tâche 3 - Train 58706_13 : <gurobi.Var t (value 569.0)>\n",
      "Tâche 3 - Train 56730_14 : <gurobi.Var t (value 592.0)>\n",
      "Tâche 1 - Train 400006_09 : <gurobi.Var t (value 140.0)>\n",
      "Tâche 1 - Train 400016_09 : <gurobi.Var t (value 117.0)>\n",
      "Tâche 1 - Train 400110_09 : <gurobi.Var t (value 120.0)>\n",
      "Tâche 1 - Train 431035_09 : <gurobi.Var t (value 142.0)>\n",
      "Tâche 1 - Train 431091_09 : <gurobi.Var t (value 102.0)>\n",
      "Tâche 1 - Train 44203_09 : <gurobi.Var t (value 154.0)>\n",
      "Tâche 1 - Train 44241_09 : <gurobi.Var t (value 136.0)>\n",
      "Tâche 1 - Train 44249_09 : <gurobi.Var t (value 95.0)>\n",
      "Tâche 1 - Train 44806_09 : <gurobi.Var t (value 94.0)>\n",
      "Tâche 1 - Train 47245_09 : <gurobi.Var t (value 96.0)>\n",
      "Tâche 1 - Train 47289_09 : <gurobi.Var t (value 126.0)>\n",
      "Tâche 1 - Train 47821_09 : <gurobi.Var t (value 172.0)>\n",
      "Tâche 1 - Train 489447_09 : <gurobi.Var t (value 98.0)>\n",
      "Tâche 1 - Train 52672_09 : <gurobi.Var t (value 141.0)>\n",
      "Tâche 1 - Train 54003_09 : <gurobi.Var t (value 97.0)>\n",
      "Tâche 1 - Train 54051_09 : <gurobi.Var t (value 92.0)>\n",
      "Tâche 1 - Train 54086_09 : <gurobi.Var t (value 80.0)>\n",
      "Tâche 1 - Train 54231_09 : <gurobi.Var t (value 139.0)>\n",
      "Tâche 1 - Train 450226_10 : <gurobi.Var t (value 208.0)>\n",
      "Tâche 1 - Train 400014_10 : <gurobi.Var t (value 210.0)>\n",
      "Tâche 1 - Train 412124_10 : <gurobi.Var t (value 185.0)>\n",
      "Tâche 1 - Train 41258_10 : <gurobi.Var t (value 110.0)>\n",
      "Tâche 1 - Train 431035_10 : <gurobi.Var t (value 227.0)>\n",
      "Tâche 1 - Train 431091_10 : <gurobi.Var t (value 203.0)>\n",
      "Tâche 1 - Train 44203_10 : <gurobi.Var t (value 244.0)>\n",
      "Tâche 1 - Train 44241_10 : <gurobi.Var t (value 195.0)>\n",
      "Tâche 1 - Train 44249_10 : <gurobi.Var t (value 186.0)>\n",
      "Tâche 1 - Train 47205_10 : <gurobi.Var t (value 235.0)>\n",
      "Tâche 1 - Train 48215_10 : <gurobi.Var t (value 212.0)>\n",
      "Tâche 1 - Train 489044_10 : <gurobi.Var t (value 187.0)>\n",
      "Tâche 1 - Train 52672_10 : <gurobi.Var t (value 209.0)>\n",
      "Tâche 1 - Train 54003_10 : <gurobi.Var t (value 190.0)>\n",
      "Tâche 1 - Train 54053_10 : <gurobi.Var t (value 241.0)>\n",
      "Tâche 1 - Train 54231_10 : <gurobi.Var t (value 213.0)>\n",
      "Tâche 1 - Train 71210_10 : <gurobi.Var t (value 198.0)>\n",
      "Tâche 1 - Train 400006_11 : <gurobi.Var t (value 337.0)>\n",
      "Tâche 1 - Train 400010_11 : <gurobi.Var t (value 335.0)>\n",
      "Tâche 1 - Train 400016_11 : <gurobi.Var t (value 315.0)>\n",
      "Tâche 1 - Train 431035_11 : <gurobi.Var t (value 334.0)>\n",
      "Tâche 1 - Train 44203_11 : <gurobi.Var t (value 307.0)>\n",
      "Tâche 1 - Train 44241_11 : <gurobi.Var t (value 313.0)>\n",
      "Tâche 1 - Train 44806_11 : <gurobi.Var t (value 283.0)>\n",
      "Tâche 1 - Train 450226_11 : <gurobi.Var t (value 228.0)>\n",
      "Tâche 1 - Train 47245_11 : <gurobi.Var t (value 314.0)>\n",
      "Tâche 1 - Train 47247_11 : <gurobi.Var t (value 294.0)>\n",
      "Tâche 1 - Train 47820_11 : <gurobi.Var t (value 330.0)>\n",
      "Tâche 1 - Train 489118_11 : <gurobi.Var t (value 316.0)>\n",
      "Tâche 1 - Train 52672_11 : <gurobi.Var t (value 328.0)>\n",
      "Tâche 1 - Train 54003_11 : <gurobi.Var t (value 290.0)>\n",
      "Tâche 1 - Train 54051_11 : <gurobi.Var t (value 296.0)>\n",
      "Tâche 1 - Train 54086_11 : <gurobi.Var t (value 245.0)>\n",
      "Tâche 1 - Train 54231_11 : <gurobi.Var t (value 329.0)>\n",
      "Tâche 1 - Train 71256_11 : <gurobi.Var t (value 284.0)>\n",
      "Tâche 1 - Train 400010_12 : <gurobi.Var t (value 441.0)>\n",
      "Tâche 1 - Train 400016_12 : <gurobi.Var t (value 450.0)>\n",
      "Tâche 1 - Train 412024_12 : <gurobi.Var t (value 317.0)>\n",
      "Tâche 1 - Train 41258_12 : <gurobi.Var t (value 378.0)>\n",
      "Tâche 1 - Train 431035_12 : <gurobi.Var t (value 396.0)>\n",
      "Tâche 1 - Train 44241_12 : <gurobi.Var t (value 424.0)>\n",
      "Tâche 1 - Train 44249_12 : <gurobi.Var t (value 359.0)>\n",
      "Tâche 1 - Train 44952_12 : <gurobi.Var t (value 434.0)>\n",
      "Tâche 1 - Train 47205_12 : <gurobi.Var t (value 309.0)>\n",
      "Tâche 1 - Train 48219_12 : <gurobi.Var t (value 343.0)>\n",
      "Tâche 1 - Train 489447_12 : <gurobi.Var t (value 395.0)>\n",
      "Tâche 1 - Train 52672_12 : <gurobi.Var t (value 420.0)>\n",
      "Tâche 1 - Train 54003_12 : <gurobi.Var t (value 385.0)>\n",
      "Tâche 1 - Train 54053_12 : <gurobi.Var t (value 409.0)>\n",
      "Tâche 1 - Train 54086_12 : <gurobi.Var t (value 342.0)>\n",
      "Tâche 1 - Train 54231_12 : <gurobi.Var t (value 410.0)>\n",
      "Tâche 1 - Train 71217_12 : <gurobi.Var t (value 457.0)>\n",
      "Tâche 1 - Train 41258_13 : <gurobi.Var t (value 440.0)>\n",
      "Tâche 1 - Train 431091_13 : <gurobi.Var t (value 404.0)>\n",
      "Tâche 1 - Train 44241_13 : <gurobi.Var t (value 517.0)>\n",
      "Tâche 1 - Train 44806_13 : <gurobi.Var t (value 480.0)>\n",
      "Tâche 1 - Train 450224_13 : <gurobi.Var t (value 502.0)>\n",
      "Tâche 1 - Train 47237_13 : <gurobi.Var t (value 510.0)>\n",
      "Tâche 1 - Train 47281_13 : <gurobi.Var t (value 511.0)>\n",
      "Tâche 1 - Train 489044_13 : <gurobi.Var t (value 465.0)>\n",
      "Tâche 1 - Train 489119_13 : <gurobi.Var t (value 479.0)>\n",
      "Tâche 1 - Train 489447_13 : <gurobi.Var t (value 483.0)>\n",
      "Tâche 1 - Train 54051_13 : <gurobi.Var t (value 463.0)>\n",
      "Tâche 1 - Train 54086_13 : <gurobi.Var t (value 449.0)>\n",
      "Tâche 1 - Train 431037_14 : <gurobi.Var t (value 614.0)>\n",
      "Tâche 1 - Train 44247_14 : <gurobi.Var t (value 615.0)>\n",
      "Tâche 1 - Train 44559_14 : <gurobi.Var t (value 592.0)>\n",
      "Tâche 1 - Train 47820_14 : <gurobi.Var t (value 612.0)>\n",
      "Tâche 1 - Train 489447_14 : <gurobi.Var t (value 495.0)>\n",
      "Tâche 1 - Train 54003_14 : <gurobi.Var t (value 578.0)>\n",
      "Tâche 1 - Train 54053_14 : <gurobi.Var t (value 599.0)>\n",
      "Tâche 1 - Train 54055_14 : <gurobi.Var t (value 568.0)>\n",
      "Tâche 1 - Train 54086_14 : <gurobi.Var t (value 496.0)>\n",
      "Tâche 1 - Train 400014_15 : <gurobi.Var t (value 680.0)>\n",
      "Tâche 1 - Train 431035_15 : <gurobi.Var t (value 482.0)>\n",
      "Tâche 1 - Train 431121_15 : <gurobi.Var t (value 503.0)>\n",
      "Tâche 1 - Train 450226_15 : <gurobi.Var t (value 617.0)>\n",
      "Tâche 1 - Train 489447_15 : <gurobi.Var t (value 497.0)>\n",
      "Tâche 1 - Train 54003_15 : <gurobi.Var t (value 600.0)>\n",
      "Tâche 1 - Train 54051_15 : <gurobi.Var t (value 584.0)>\n",
      "Tâche 1 - Train 54086_15 : <gurobi.Var t (value 616.0)>\n",
      "Tâche 1 - Train 54231_15 : <gurobi.Var t (value 574.0)>\n",
      "Tâche 1 - Train 41258_16 : <gurobi.Var t (value 765.0)>\n",
      "Tâche 1 - Train 431091_16 : <gurobi.Var t (value 456.0)>\n",
      "Tâche 1 - Train 489044_16 : <gurobi.Var t (value 613.0)>\n",
      "Tâche 1 - Train 54051_16 : <gurobi.Var t (value 379.0)>\n",
      "Tâche 1 - Train 412124_17 : <gurobi.Var t (value 577.0)>\n",
      "Tâche 1 - Train 431113_17 : <gurobi.Var t (value 247.0)>\n",
      "Tâche 2 - Train 400006_09 : <gurobi.Var t (value 142.0)>\n",
      "Tâche 2 - Train 400016_09 : <gurobi.Var t (value 118.0)>\n",
      "Tâche 2 - Train 400110_09 : <gurobi.Var t (value 121.0)>\n",
      "Tâche 2 - Train 431035_09 : <gurobi.Var t (value 143.0)>\n",
      "Tâche 2 - Train 431091_09 : <gurobi.Var t (value 104.0)>\n",
      "Tâche 2 - Train 44203_09 : <gurobi.Var t (value 155.0)>\n",
      "Tâche 2 - Train 44241_09 : <gurobi.Var t (value 137.0)>\n",
      "Tâche 2 - Train 44249_09 : <gurobi.Var t (value 96.0)>\n",
      "Tâche 2 - Train 44806_09 : <gurobi.Var t (value 95.0)>\n",
      "Tâche 2 - Train 47245_09 : <gurobi.Var t (value 97.0)>\n",
      "Tâche 2 - Train 47289_09 : <gurobi.Var t (value 127.0)>\n",
      "Tâche 2 - Train 47821_09 : <gurobi.Var t (value 173.0)>\n",
      "Tâche 2 - Train 489447_09 : <gurobi.Var t (value 99.0)>\n",
      "Tâche 2 - Train 52672_09 : <gurobi.Var t (value 144.0)>\n",
      "Tâche 2 - Train 54003_09 : <gurobi.Var t (value 98.0)>\n",
      "Tâche 2 - Train 54051_09 : <gurobi.Var t (value 93.0)>\n",
      "Tâche 2 - Train 54086_09 : <gurobi.Var t (value 81.0)>\n",
      "Tâche 2 - Train 54231_09 : <gurobi.Var t (value 140.0)>\n",
      "Tâche 2 - Train 450226_10 : <gurobi.Var t (value 209.0)>\n",
      "Tâche 2 - Train 400014_10 : <gurobi.Var t (value 211.0)>\n",
      "Tâche 2 - Train 412124_10 : <gurobi.Var t (value 190.0)>\n",
      "Tâche 2 - Train 41258_10 : <gurobi.Var t (value 111.0)>\n",
      "Tâche 2 - Train 431035_10 : <gurobi.Var t (value 228.0)>\n",
      "Tâche 2 - Train 431091_10 : <gurobi.Var t (value 204.0)>\n",
      "Tâche 2 - Train 44203_10 : <gurobi.Var t (value 251.0)>\n",
      "Tâche 2 - Train 44241_10 : <gurobi.Var t (value 233.0)>\n",
      "Tâche 2 - Train 44249_10 : <gurobi.Var t (value 192.0)>\n",
      "Tâche 2 - Train 47205_10 : <gurobi.Var t (value 236.0)>\n",
      "Tâche 2 - Train 48215_10 : <gurobi.Var t (value 216.0)>\n",
      "Tâche 2 - Train 489044_10 : <gurobi.Var t (value 188.0)>\n",
      "Tâche 2 - Train 52672_10 : <gurobi.Var t (value 210.0)>\n",
      "Tâche 2 - Train 54003_10 : <gurobi.Var t (value 191.0)>\n",
      "Tâche 2 - Train 54053_10 : <gurobi.Var t (value 242.0)>\n",
      "Tâche 2 - Train 54231_10 : <gurobi.Var t (value 218.0)>\n",
      "Tâche 2 - Train 71210_10 : <gurobi.Var t (value 199.0)>\n",
      "Tâche 2 - Train 400006_11 : <gurobi.Var t (value 338.0)>\n",
      "Tâche 2 - Train 400010_11 : <gurobi.Var t (value 336.0)>\n",
      "Tâche 2 - Train 400016_11 : <gurobi.Var t (value 316.0)>\n",
      "Tâche 2 - Train 431035_11 : <gurobi.Var t (value 335.0)>\n",
      "Tâche 2 - Train 44203_11 : <gurobi.Var t (value 308.0)>\n",
      "Tâche 2 - Train 44241_11 : <gurobi.Var t (value 314.0)>\n",
      "Tâche 2 - Train 44806_11 : <gurobi.Var t (value 284.0)>\n",
      "Tâche 2 - Train 450226_11 : <gurobi.Var t (value 245.0)>\n",
      "Tâche 2 - Train 47245_11 : <gurobi.Var t (value 315.0)>\n",
      "Tâche 2 - Train 47247_11 : <gurobi.Var t (value 301.0)>\n",
      "Tâche 2 - Train 47820_11 : <gurobi.Var t (value 331.0)>\n",
      "Tâche 2 - Train 489118_11 : <gurobi.Var t (value 320.0)>\n",
      "Tâche 2 - Train 52672_11 : <gurobi.Var t (value 329.0)>\n",
      "Tâche 2 - Train 54003_11 : <gurobi.Var t (value 291.0)>\n",
      "Tâche 2 - Train 54051_11 : <gurobi.Var t (value 297.0)>\n",
      "Tâche 2 - Train 54086_11 : <gurobi.Var t (value 246.0)>\n",
      "Tâche 2 - Train 54231_11 : <gurobi.Var t (value 330.0)>\n",
      "Tâche 2 - Train 71256_11 : <gurobi.Var t (value 285.0)>\n",
      "Tâche 2 - Train 400010_12 : <gurobi.Var t (value 442.0)>\n",
      "Tâche 2 - Train 400016_12 : <gurobi.Var t (value 451.0)>\n",
      "Tâche 2 - Train 412024_12 : <gurobi.Var t (value 321.0)>\n",
      "Tâche 2 - Train 41258_12 : <gurobi.Var t (value 379.0)>\n",
      "Tâche 2 - Train 431035_12 : <gurobi.Var t (value 397.0)>\n",
      "Tâche 2 - Train 44241_12 : <gurobi.Var t (value 425.0)>\n",
      "Tâche 2 - Train 44249_12 : <gurobi.Var t (value 360.0)>\n",
      "Tâche 2 - Train 44952_12 : <gurobi.Var t (value 435.0)>\n",
      "Tâche 2 - Train 47205_12 : <gurobi.Var t (value 310.0)>\n",
      "Tâche 2 - Train 48219_12 : <gurobi.Var t (value 344.0)>\n",
      "Tâche 2 - Train 489447_12 : <gurobi.Var t (value 396.0)>\n",
      "Tâche 2 - Train 52672_12 : <gurobi.Var t (value 421.0)>\n",
      "Tâche 2 - Train 54003_12 : <gurobi.Var t (value 386.0)>\n",
      "Tâche 2 - Train 54053_12 : <gurobi.Var t (value 410.0)>\n",
      "Tâche 2 - Train 54086_12 : <gurobi.Var t (value 387.0)>\n",
      "Tâche 2 - Train 54231_12 : <gurobi.Var t (value 411.0)>\n",
      "Tâche 2 - Train 71217_12 : <gurobi.Var t (value 462.0)>\n",
      "Tâche 2 - Train 41258_13 : <gurobi.Var t (value 443.0)>\n",
      "Tâche 2 - Train 431091_13 : <gurobi.Var t (value 405.0)>\n",
      "Tâche 2 - Train 44241_13 : <gurobi.Var t (value 518.0)>\n",
      "Tâche 2 - Train 44806_13 : <gurobi.Var t (value 481.0)>\n",
      "Tâche 2 - Train 450224_13 : <gurobi.Var t (value 506.0)>\n",
      "Tâche 2 - Train 47237_13 : <gurobi.Var t (value 511.0)>\n",
      "Tâche 2 - Train 47281_13 : <gurobi.Var t (value 512.0)>\n",
      "Tâche 2 - Train 489044_13 : <gurobi.Var t (value 467.0)>\n",
      "Tâche 2 - Train 489119_13 : <gurobi.Var t (value 480.0)>\n",
      "Tâche 2 - Train 489447_13 : <gurobi.Var t (value 484.0)>\n",
      "Tâche 2 - Train 54051_13 : <gurobi.Var t (value 464.0)>\n",
      "Tâche 2 - Train 54086_13 : <gurobi.Var t (value 450.0)>\n",
      "Tâche 2 - Train 431037_14 : <gurobi.Var t (value 615.0)>\n",
      "Tâche 2 - Train 44247_14 : <gurobi.Var t (value 616.0)>\n",
      "Tâche 2 - Train 44559_14 : <gurobi.Var t (value 593.0)>\n",
      "Tâche 2 - Train 47820_14 : <gurobi.Var t (value 617.0)>\n",
      "Tâche 2 - Train 489447_14 : <gurobi.Var t (value 496.0)>\n",
      "Tâche 2 - Train 54003_14 : <gurobi.Var t (value 579.0)>\n",
      "Tâche 2 - Train 54053_14 : <gurobi.Var t (value 600.0)>\n",
      "Tâche 2 - Train 54055_14 : <gurobi.Var t (value 569.0)>\n",
      "Tâche 2 - Train 54086_14 : <gurobi.Var t (value 497.0)>\n",
      "Tâche 2 - Train 400014_15 : <gurobi.Var t (value 681.0)>\n",
      "Tâche 2 - Train 431035_15 : <gurobi.Var t (value 483.0)>\n",
      "Tâche 2 - Train 431121_15 : <gurobi.Var t (value 504.0)>\n",
      "Tâche 2 - Train 450226_15 : <gurobi.Var t (value 618.0)>\n",
      "Tâche 2 - Train 489447_15 : <gurobi.Var t (value 618.0)>\n",
      "Tâche 2 - Train 54003_15 : <gurobi.Var t (value 673.0)>\n",
      "Tâche 2 - Train 54051_15 : <gurobi.Var t (value 585.0)>\n",
      "Tâche 2 - Train 54086_15 : <gurobi.Var t (value 617.0)>\n",
      "Tâche 2 - Train 54231_15 : <gurobi.Var t (value 575.0)>\n",
      "Tâche 2 - Train 41258_16 : <gurobi.Var t (value 766.0)>\n",
      "Tâche 2 - Train 431091_16 : <gurobi.Var t (value 457.0)>\n",
      "Tâche 2 - Train 489044_16 : <gurobi.Var t (value 614.0)>\n",
      "Tâche 2 - Train 54051_16 : <gurobi.Var t (value 380.0)>\n",
      "Tâche 2 - Train 412124_17 : <gurobi.Var t (value 578.0)>\n",
      "Tâche 2 - Train 431113_17 : <gurobi.Var t (value 248.0)>\n",
      "Tâche 3 - Train 400006_09 : <gurobi.Var t (value 152.0)>\n",
      "Tâche 3 - Train 400016_09 : <gurobi.Var t (value 128.0)>\n",
      "Tâche 3 - Train 400110_09 : <gurobi.Var t (value 131.0)>\n",
      "Tâche 3 - Train 431035_09 : <gurobi.Var t (value 153.0)>\n",
      "Tâche 3 - Train 431091_09 : <gurobi.Var t (value 114.0)>\n",
      "Tâche 3 - Train 44203_09 : <gurobi.Var t (value 165.0)>\n",
      "Tâche 3 - Train 44241_09 : <gurobi.Var t (value 147.0)>\n",
      "Tâche 3 - Train 44249_09 : <gurobi.Var t (value 106.0)>\n",
      "Tâche 3 - Train 44806_09 : <gurobi.Var t (value 105.0)>\n",
      "Tâche 3 - Train 47245_09 : <gurobi.Var t (value 107.0)>\n",
      "Tâche 3 - Train 47289_09 : <gurobi.Var t (value 137.0)>\n",
      "Tâche 3 - Train 47821_09 : <gurobi.Var t (value 183.0)>\n",
      "Tâche 3 - Train 489447_09 : <gurobi.Var t (value 109.0)>\n",
      "Tâche 3 - Train 52672_09 : <gurobi.Var t (value 154.0)>\n",
      "Tâche 3 - Train 54003_09 : <gurobi.Var t (value 108.0)>\n",
      "Tâche 3 - Train 54051_09 : <gurobi.Var t (value 103.0)>\n",
      "Tâche 3 - Train 54086_09 : <gurobi.Var t (value 91.0)>\n",
      "Tâche 3 - Train 54231_09 : <gurobi.Var t (value 150.0)>\n",
      "Tâche 3 - Train 450226_10 : <gurobi.Var t (value 219.0)>\n",
      "Tâche 3 - Train 400014_10 : <gurobi.Var t (value 221.0)>\n",
      "Tâche 3 - Train 412124_10 : <gurobi.Var t (value 200.0)>\n",
      "Tâche 3 - Train 41258_10 : <gurobi.Var t (value 121.0)>\n",
      "Tâche 3 - Train 431035_10 : <gurobi.Var t (value 238.0)>\n",
      "Tâche 3 - Train 431091_10 : <gurobi.Var t (value 214.0)>\n",
      "Tâche 3 - Train 44203_10 : <gurobi.Var t (value 261.0)>\n",
      "Tâche 3 - Train 44241_10 : <gurobi.Var t (value 243.0)>\n",
      "Tâche 3 - Train 44249_10 : <gurobi.Var t (value 202.0)>\n",
      "Tâche 3 - Train 47205_10 : <gurobi.Var t (value 246.0)>\n",
      "Tâche 3 - Train 48215_10 : <gurobi.Var t (value 226.0)>\n",
      "Tâche 3 - Train 489044_10 : <gurobi.Var t (value 198.0)>\n",
      "Tâche 3 - Train 52672_10 : <gurobi.Var t (value 220.0)>\n",
      "Tâche 3 - Train 54003_10 : <gurobi.Var t (value 201.0)>\n",
      "Tâche 3 - Train 54053_10 : <gurobi.Var t (value 252.0)>\n",
      "Tâche 3 - Train 54231_10 : <gurobi.Var t (value 228.0)>\n",
      "Tâche 3 - Train 71210_10 : <gurobi.Var t (value 209.0)>\n",
      "Tâche 3 - Train 400006_11 : <gurobi.Var t (value 348.0)>\n",
      "Tâche 3 - Train 400010_11 : <gurobi.Var t (value 346.0)>\n",
      "Tâche 3 - Train 400016_11 : <gurobi.Var t (value 326.0)>\n",
      "Tâche 3 - Train 431035_11 : <gurobi.Var t (value 345.0)>\n",
      "Tâche 3 - Train 44203_11 : <gurobi.Var t (value 318.0)>\n",
      "Tâche 3 - Train 44241_11 : <gurobi.Var t (value 324.0)>\n",
      "Tâche 3 - Train 44806_11 : <gurobi.Var t (value 294.0)>\n",
      "Tâche 3 - Train 450226_11 : <gurobi.Var t (value 255.0)>\n",
      "Tâche 3 - Train 47245_11 : <gurobi.Var t (value 325.0)>\n",
      "Tâche 3 - Train 47247_11 : <gurobi.Var t (value 311.0)>\n",
      "Tâche 3 - Train 47820_11 : <gurobi.Var t (value 341.0)>\n",
      "Tâche 3 - Train 489118_11 : <gurobi.Var t (value 330.0)>\n",
      "Tâche 3 - Train 52672_11 : <gurobi.Var t (value 339.0)>\n",
      "Tâche 3 - Train 54003_11 : <gurobi.Var t (value 301.0)>\n",
      "Tâche 3 - Train 54051_11 : <gurobi.Var t (value 307.0)>\n",
      "Tâche 3 - Train 54086_11 : <gurobi.Var t (value 256.0)>\n",
      "Tâche 3 - Train 54231_11 : <gurobi.Var t (value 340.0)>\n",
      "Tâche 3 - Train 71256_11 : <gurobi.Var t (value 295.0)>\n",
      "Tâche 3 - Train 400010_12 : <gurobi.Var t (value 452.0)>\n",
      "Tâche 3 - Train 400016_12 : <gurobi.Var t (value 461.0)>\n",
      "Tâche 3 - Train 412024_12 : <gurobi.Var t (value 331.0)>\n",
      "Tâche 3 - Train 41258_12 : <gurobi.Var t (value 389.0)>\n",
      "Tâche 3 - Train 431035_12 : <gurobi.Var t (value 407.0)>\n",
      "Tâche 3 - Train 44241_12 : <gurobi.Var t (value 435.0)>\n",
      "Tâche 3 - Train 44249_12 : <gurobi.Var t (value 370.0)>\n",
      "Tâche 3 - Train 44952_12 : <gurobi.Var t (value 445.0)>\n",
      "Tâche 3 - Train 47205_12 : <gurobi.Var t (value 320.0)>\n",
      "Tâche 3 - Train 48219_12 : <gurobi.Var t (value 354.0)>\n",
      "Tâche 3 - Train 489447_12 : <gurobi.Var t (value 406.0)>\n",
      "Tâche 3 - Train 52672_12 : <gurobi.Var t (value 431.0)>\n",
      "Tâche 3 - Train 54003_12 : <gurobi.Var t (value 396.0)>\n",
      "Tâche 3 - Train 54053_12 : <gurobi.Var t (value 420.0)>\n",
      "Tâche 3 - Train 54086_12 : <gurobi.Var t (value 397.0)>\n",
      "Tâche 3 - Train 54231_12 : <gurobi.Var t (value 421.0)>\n",
      "Tâche 3 - Train 71217_12 : <gurobi.Var t (value 472.0)>\n",
      "Tâche 3 - Train 41258_13 : <gurobi.Var t (value 453.0)>\n",
      "Tâche 3 - Train 431091_13 : <gurobi.Var t (value 415.0)>\n",
      "Tâche 3 - Train 44241_13 : <gurobi.Var t (value 528.0)>\n",
      "Tâche 3 - Train 44806_13 : <gurobi.Var t (value 491.0)>\n",
      "Tâche 3 - Train 450224_13 : <gurobi.Var t (value 516.0)>\n",
      "Tâche 3 - Train 47237_13 : <gurobi.Var t (value 521.0)>\n",
      "Tâche 3 - Train 47281_13 : <gurobi.Var t (value 522.0)>\n",
      "Tâche 3 - Train 489044_13 : <gurobi.Var t (value 477.0)>\n",
      "Tâche 3 - Train 489119_13 : <gurobi.Var t (value 490.0)>\n",
      "Tâche 3 - Train 489447_13 : <gurobi.Var t (value 494.0)>\n",
      "Tâche 3 - Train 54051_13 : <gurobi.Var t (value 474.0)>\n",
      "Tâche 3 - Train 54086_13 : <gurobi.Var t (value 460.0)>\n",
      "Tâche 3 - Train 431037_14 : <gurobi.Var t (value 625.0)>\n",
      "Tâche 3 - Train 44247_14 : <gurobi.Var t (value 626.0)>\n",
      "Tâche 3 - Train 44559_14 : <gurobi.Var t (value 603.0)>\n",
      "Tâche 3 - Train 47820_14 : <gurobi.Var t (value 627.0)>\n",
      "Tâche 3 - Train 489447_14 : <gurobi.Var t (value 506.0)>\n",
      "Tâche 3 - Train 54003_14 : <gurobi.Var t (value 589.0)>\n",
      "Tâche 3 - Train 54053_14 : <gurobi.Var t (value 610.0)>\n",
      "Tâche 3 - Train 54055_14 : <gurobi.Var t (value 579.0)>\n",
      "Tâche 3 - Train 54086_14 : <gurobi.Var t (value 507.0)>\n",
      "Tâche 3 - Train 400014_15 : <gurobi.Var t (value 691.0)>\n",
      "Tâche 3 - Train 431035_15 : <gurobi.Var t (value 493.0)>\n",
      "Tâche 3 - Train 431121_15 : <gurobi.Var t (value 514.0)>\n",
      "Tâche 3 - Train 450226_15 : <gurobi.Var t (value 666.0)>\n",
      "Tâche 3 - Train 489447_15 : <gurobi.Var t (value 660.0)>\n",
      "Tâche 3 - Train 54003_15 : <gurobi.Var t (value 683.0)>\n",
      "Tâche 3 - Train 54051_15 : <gurobi.Var t (value 595.0)>\n",
      "Tâche 3 - Train 54086_15 : <gurobi.Var t (value 685.0)>\n",
      "Tâche 3 - Train 54231_15 : <gurobi.Var t (value 586.0)>\n",
      "Tâche 3 - Train 41258_16 : <gurobi.Var t (value 776.0)>\n",
      "Tâche 3 - Train 431091_16 : <gurobi.Var t (value 467.0)>\n",
      "Tâche 3 - Train 489044_16 : <gurobi.Var t (value 624.0)>\n",
      "Tâche 3 - Train 54051_16 : <gurobi.Var t (value 390.0)>\n",
      "Tâche 3 - Train 412124_17 : <gurobi.Var t (value 611.0)>\n",
      "Tâche 3 - Train 431113_17 : <gurobi.Var t (value 258.0)>\n",
      "Tâche 4 - Train 400006_09 : <gurobi.Var t (value 157.0)>\n",
      "Tâche 4 - Train 400016_09 : <gurobi.Var t (value 185.0)>\n",
      "Tâche 4 - Train 400110_09 : <gurobi.Var t (value 178.0)>\n",
      "Tâche 4 - Train 431035_09 : <gurobi.Var t (value 154.0)>\n",
      "Tâche 4 - Train 431091_09 : <gurobi.Var t (value 119.0)>\n",
      "Tâche 4 - Train 44203_09 : <gurobi.Var t (value 166.0)>\n",
      "Tâche 4 - Train 44241_09 : <gurobi.Var t (value 148.0)>\n",
      "Tâche 4 - Train 44249_09 : <gurobi.Var t (value 107.0)>\n",
      "Tâche 4 - Train 44806_09 : <gurobi.Var t (value 127.0)>\n",
      "Tâche 4 - Train 47245_09 : <gurobi.Var t (value 152.0)>\n",
      "Tâche 4 - Train 47289_09 : <gurobi.Var t (value 138.0)>\n",
      "Tâche 4 - Train 47821_09 : <gurobi.Var t (value 184.0)>\n",
      "Tâche 4 - Train 489447_09 : <gurobi.Var t (value 119.0)>\n",
      "Tâche 4 - Train 52672_09 : <gurobi.Var t (value 159.0)>\n",
      "Tâche 4 - Train 54003_09 : <gurobi.Var t (value 110.0)>\n",
      "Tâche 4 - Train 54051_09 : <gurobi.Var t (value 116.0)>\n",
      "Tâche 4 - Train 54086_09 : <gurobi.Var t (value 110.0)>\n",
      "Tâche 4 - Train 54231_09 : <gurobi.Var t (value 151.0)>\n",
      "Tâche 4 - Train 450226_10 : <gurobi.Var t (value 220.0)>\n",
      "Tâche 4 - Train 400014_10 : <gurobi.Var t (value 269.0)>\n",
      "Tâche 4 - Train 412124_10 : <gurobi.Var t (value 203.0)>\n",
      "Tâche 4 - Train 41258_10 : <gurobi.Var t (value 201.0)>\n",
      "Tâche 4 - Train 431035_10 : <gurobi.Var t (value 250.0)>\n",
      "Tâche 4 - Train 431091_10 : <gurobi.Var t (value 215.0)>\n",
      "Tâche 4 - Train 44203_10 : <gurobi.Var t (value 262.0)>\n",
      "Tâche 4 - Train 44241_10 : <gurobi.Var t (value 244.0)>\n",
      "Tâche 4 - Train 44249_10 : <gurobi.Var t (value 203.0)>\n",
      "Tâche 4 - Train 47205_10 : <gurobi.Var t (value 247.0)>\n",
      "Tâche 4 - Train 48215_10 : <gurobi.Var t (value 255.0)>\n",
      "Tâche 4 - Train 489044_10 : <gurobi.Var t (value 199.0)>\n",
      "Tâche 4 - Train 52672_10 : <gurobi.Var t (value 255.0)>\n",
      "Tâche 4 - Train 54003_10 : <gurobi.Var t (value 206.0)>\n",
      "Tâche 4 - Train 54053_10 : <gurobi.Var t (value 253.0)>\n",
      "Tâche 4 - Train 54231_10 : <gurobi.Var t (value 247.0)>\n",
      "Tâche 4 - Train 71210_10 : <gurobi.Var t (value 210.0)>\n",
      "Tâche 4 - Train 400006_11 : <gurobi.Var t (value 349.0)>\n",
      "Tâche 4 - Train 400010_11 : <gurobi.Var t (value 381.0)>\n",
      "Tâche 4 - Train 400016_11 : <gurobi.Var t (value 377.0)>\n",
      "Tâche 4 - Train 431035_11 : <gurobi.Var t (value 346.0)>\n",
      "Tâche 4 - Train 44203_11 : <gurobi.Var t (value 358.0)>\n",
      "Tâche 4 - Train 44241_11 : <gurobi.Var t (value 340.0)>\n",
      "Tâche 4 - Train 44806_11 : <gurobi.Var t (value 307.0)>\n",
      "Tâche 4 - Train 450226_11 : <gurobi.Var t (value 316.0)>\n",
      "Tâche 4 - Train 47245_11 : <gurobi.Var t (value 345.0)>\n",
      "Tâche 4 - Train 47247_11 : <gurobi.Var t (value 330.0)>\n",
      "Tâche 4 - Train 47820_11 : <gurobi.Var t (value 376.0)>\n",
      "Tâche 4 - Train 489118_11 : <gurobi.Var t (value 347.0)>\n",
      "Tâche 4 - Train 52672_11 : <gurobi.Var t (value 351.0)>\n",
      "Tâche 4 - Train 54003_11 : <gurobi.Var t (value 302.0)>\n",
      "Tâche 4 - Train 54051_11 : <gurobi.Var t (value 308.0)>\n",
      "Tâche 4 - Train 54086_11 : <gurobi.Var t (value 302.0)>\n",
      "Tâche 4 - Train 54231_11 : <gurobi.Var t (value 343.0)>\n",
      "Tâche 4 - Train 71256_11 : <gurobi.Var t (value 296.0)>\n",
      "Tâche 4 - Train 400010_12 : <gurobi.Var t (value 477.0)>\n",
      "Tâche 4 - Train 400016_12 : <gurobi.Var t (value 473.0)>\n",
      "Tâche 4 - Train 412024_12 : <gurobi.Var t (value 400.0)>\n",
      "Tâche 4 - Train 41258_12 : <gurobi.Var t (value 393.0)>\n",
      "Tâche 4 - Train 431035_12 : <gurobi.Var t (value 442.0)>\n",
      "Tâche 4 - Train 44241_12 : <gurobi.Var t (value 436.0)>\n",
      "Tâche 4 - Train 44249_12 : <gurobi.Var t (value 395.0)>\n",
      "Tâche 4 - Train 44952_12 : <gurobi.Var t (value 466.0)>\n",
      "Tâche 4 - Train 47205_12 : <gurobi.Var t (value 459.0)>\n",
      "Tâche 4 - Train 48219_12 : <gurobi.Var t (value 392.0)>\n",
      "Tâche 4 - Train 489447_12 : <gurobi.Var t (value 407.0)>\n",
      "Tâche 4 - Train 52672_12 : <gurobi.Var t (value 447.0)>\n",
      "Tâche 4 - Train 54003_12 : <gurobi.Var t (value 398.0)>\n",
      "Tâche 4 - Train 54053_12 : <gurobi.Var t (value 445.0)>\n",
      "Tâche 4 - Train 54086_12 : <gurobi.Var t (value 398.0)>\n",
      "Tâche 4 - Train 54231_12 : <gurobi.Var t (value 439.0)>\n",
      "Tâche 4 - Train 71217_12 : <gurobi.Var t (value 476.0)>\n",
      "Tâche 4 - Train 41258_13 : <gurobi.Var t (value 489.0)>\n",
      "Tâche 4 - Train 431091_13 : <gurobi.Var t (value 503.0)>\n",
      "Tâche 4 - Train 44241_13 : <gurobi.Var t (value 532.0)>\n",
      "Tâche 4 - Train 44806_13 : <gurobi.Var t (value 496.0)>\n",
      "Tâche 4 - Train 450224_13 : <gurobi.Var t (value 517.0)>\n",
      "Tâche 4 - Train 47237_13 : <gurobi.Var t (value 522.0)>\n",
      "Tâche 4 - Train 47281_13 : <gurobi.Var t (value 552.0)>\n",
      "Tâche 4 - Train 489044_13 : <gurobi.Var t (value 487.0)>\n",
      "Tâche 4 - Train 489119_13 : <gurobi.Var t (value 538.0)>\n",
      "Tâche 4 - Train 489447_13 : <gurobi.Var t (value 503.0)>\n",
      "Tâche 4 - Train 54051_13 : <gurobi.Var t (value 501.0)>\n",
      "Tâche 4 - Train 54086_13 : <gurobi.Var t (value 494.0)>\n",
      "Tâche 4 - Train 431037_14 : <gurobi.Var t (value 645.0)>\n",
      "Tâche 4 - Train 44247_14 : <gurobi.Var t (value 633.0)>\n",
      "Tâche 4 - Train 44559_14 : <gurobi.Var t (value 623.0)>\n",
      "Tâche 4 - Train 47820_14 : <gurobi.Var t (value 634.0)>\n",
      "Tâche 4 - Train 489447_14 : <gurobi.Var t (value 599.0)>\n",
      "Tâche 4 - Train 54003_14 : <gurobi.Var t (value 590.0)>\n",
      "Tâche 4 - Train 54053_14 : <gurobi.Var t (value 637.0)>\n",
      "Tâche 4 - Train 54055_14 : <gurobi.Var t (value 580.0)>\n",
      "Tâche 4 - Train 54086_14 : <gurobi.Var t (value 590.0)>\n",
      "Tâche 4 - Train 400014_15 : <gurobi.Var t (value 749.0)>\n",
      "Tâche 4 - Train 431035_15 : <gurobi.Var t (value 730.0)>\n",
      "Tâche 4 - Train 431121_15 : <gurobi.Var t (value 693.0)>\n",
      "Tâche 4 - Train 450226_15 : <gurobi.Var t (value 700.0)>\n",
      "Tâche 4 - Train 489447_15 : <gurobi.Var t (value 695.0)>\n",
      "Tâche 4 - Train 54003_15 : <gurobi.Var t (value 686.0)>\n",
      "Tâche 4 - Train 54051_15 : <gurobi.Var t (value 692.0)>\n",
      "Tâche 4 - Train 54086_15 : <gurobi.Var t (value 686.0)>\n",
      "Tâche 4 - Train 54231_15 : <gurobi.Var t (value 727.0)>\n",
      "Tâche 4 - Train 41258_16 : <gurobi.Var t (value 777.0)>\n",
      "Tâche 4 - Train 431091_16 : <gurobi.Var t (value 791.0)>\n",
      "Tâche 4 - Train 489044_16 : <gurobi.Var t (value 775.0)>\n",
      "Tâche 4 - Train 54051_16 : <gurobi.Var t (value 788.0)>\n",
      "Tâche 4 - Train 412124_17 : <gurobi.Var t (value 875.0)>\n",
      "Tâche 4 - Train 431113_17 : <gurobi.Var t (value 906.0)>\n",
      "La valeur objectif est : 12.999999787334817\n"
     ]
    }
   ],
   "source": [
    "model.optimize()\n",
    "\n",
    "if model.status == GRB.INFEASIBLE:\n",
    "    print(\"Le modèle n'a pas de solution\")\n",
    "elif model.status == GRB.UNBOUNDED:\n",
    "    print(\"Le modèle est non borné\")\n",
    "else:\n",
    "    print(\"Ca marche !\")\n",
    "    for (m, n), var in t_arr.items():\n",
    "        print(f\"Tâche {m} - Train {n} : {var}\")\n",
    "    for (m, n), var in t_dep.items():\n",
    "        print(f\"Tâche {m} - Train {n} : {var}\")\n",
    "    print('La valeur objectif est :', model.objVal)"
   ]
  },
  {
   "cell_type": "code",
   "execution_count": 5,
   "metadata": {},
   "outputs": [
    {
     "data": {
      "application/vnd.plotly.v1+json": {
       "config": {
        "plotlyServerURL": "https://plot.ly"
       },
       "data": [
        {
         "base": [
          "2022-08-08T21:00:00.000000000",
          "2022-08-08T21:15:00.000000000",
          "2022-08-08T22:00:00.000000000"
         ],
         "hovertemplate": "Train=412202_08<br>Start=%{base}<br>Finish=%{x}<br>Tâches=%{y}<extra></extra>",
         "legendgroup": "412202_08",
         "marker": {
          "color": "#636efa",
          "pattern": {
           "shape": ""
          }
         },
         "name": "412202_08",
         "orientation": "h",
         "showlegend": true,
         "textposition": "auto",
         "type": "bar",
         "x": {
          "bdata": "oLsNAOAyKQCguw0A",
          "dtype": "i4"
         },
         "xaxis": "x",
         "y": [
          "arr_1",
          "arr_2",
          "arr_3"
         ],
         "yaxis": "y"
        },
        {
         "base": [
          "2022-08-08T13:30:00.000000000",
          "2022-08-08T13:45:00.000000000",
          "2022-08-08T14:30:00.000000000"
         ],
         "hovertemplate": "Train=431018_08<br>Start=%{base}<br>Finish=%{x}<br>Tâches=%{y}<extra></extra>",
         "legendgroup": "431018_08",
         "marker": {
          "color": "#EF553B",
          "pattern": {
           "shape": ""
          }
         },
         "name": "431018_08",
         "orientation": "h",
         "showlegend": true,
         "textposition": "auto",
         "type": "bar",
         "x": {
          "bdata": "oLsNAOAyKQCguw0A",
          "dtype": "i4"
         },
         "xaxis": "x",
         "y": [
          "arr_1",
          "arr_2",
          "arr_3"
         ],
         "yaxis": "y"
        },
        {
         "base": [
          "2022-08-08T11:15:00.000000000",
          "2022-08-08T11:30:00.000000000",
          "2022-08-08T13:15:00.000000000"
         ],
         "hovertemplate": "Train=431246_08<br>Start=%{base}<br>Finish=%{x}<br>Tâches=%{y}<extra></extra>",
         "legendgroup": "431246_08",
         "marker": {
          "color": "#00cc96",
          "pattern": {
           "shape": ""
          }
         },
         "name": "431246_08",
         "orientation": "h",
         "showlegend": true,
         "textposition": "auto",
         "type": "bar",
         "x": {
          "bdata": "oLsNAOAyKQCguw0A",
          "dtype": "i4"
         },
         "xaxis": "x",
         "y": [
          "arr_1",
          "arr_2",
          "arr_3"
         ],
         "yaxis": "y"
        },
        {
         "base": [
          "2022-08-08T19:00:00.000000000",
          "2022-08-08T19:15:00.000000000",
          "2022-08-08T22:15:00.000000000"
         ],
         "hovertemplate": "Train=44951_08<br>Start=%{base}<br>Finish=%{x}<br>Tâches=%{y}<extra></extra>",
         "legendgroup": "44951_08",
         "marker": {
          "color": "#ab63fa",
          "pattern": {
           "shape": ""
          }
         },
         "name": "44951_08",
         "orientation": "h",
         "showlegend": true,
         "textposition": "auto",
         "type": "bar",
         "x": {
          "bdata": "oLsNAOAyKQCguw0A",
          "dtype": "i4"
         },
         "xaxis": "x",
         "y": [
          "arr_1",
          "arr_2",
          "arr_3"
         ],
         "yaxis": "y"
        },
        {
         "base": [
          "2022-08-08T12:00:00.000000000",
          "2022-08-08T12:15:00.000000000",
          "2022-08-08T13:00:00.000000000"
         ],
         "hovertemplate": "Train=450237_08<br>Start=%{base}<br>Finish=%{x}<br>Tâches=%{y}<extra></extra>",
         "legendgroup": "450237_08",
         "marker": {
          "color": "#FFA15A",
          "pattern": {
           "shape": ""
          }
         },
         "name": "450237_08",
         "orientation": "h",
         "showlegend": true,
         "textposition": "auto",
         "type": "bar",
         "x": {
          "bdata": "oLsNAOAyKQCguw0A",
          "dtype": "i4"
         },
         "xaxis": "x",
         "y": [
          "arr_1",
          "arr_2",
          "arr_3"
         ],
         "yaxis": "y"
        },
        {
         "base": [
          "2022-08-08T23:45:00.000000000",
          "2022-08-09T00:00:00.000000000",
          "2022-08-09T05:15:00.000000000"
         ],
         "hovertemplate": "Train=489016_08<br>Start=%{base}<br>Finish=%{x}<br>Tâches=%{y}<extra></extra>",
         "legendgroup": "489016_08",
         "marker": {
          "color": "#19d3f3",
          "pattern": {
           "shape": ""
          }
         },
         "name": "489016_08",
         "orientation": "h",
         "showlegend": true,
         "textposition": "auto",
         "type": "bar",
         "x": {
          "bdata": "oLsNAOAyKQCguw0A",
          "dtype": "i4"
         },
         "xaxis": "x",
         "y": [
          "arr_1",
          "arr_2",
          "arr_3"
         ],
         "yaxis": "y"
        },
        {
         "base": [
          "2022-08-08T22:15:00.000000000",
          "2022-08-08T22:30:00.000000000",
          "2022-08-09T00:00:00.000000000"
         ],
         "hovertemplate": "Train=54234_08<br>Start=%{base}<br>Finish=%{x}<br>Tâches=%{y}<extra></extra>",
         "legendgroup": "54234_08",
         "marker": {
          "color": "#FF6692",
          "pattern": {
           "shape": ""
          }
         },
         "name": "54234_08",
         "orientation": "h",
         "showlegend": true,
         "textposition": "auto",
         "type": "bar",
         "x": {
          "bdata": "oLsNAOAyKQCguw0A",
          "dtype": "i4"
         },
         "xaxis": "x",
         "y": [
          "arr_1",
          "arr_2",
          "arr_3"
         ],
         "yaxis": "y"
        },
        {
         "base": [
          "2022-08-09T00:00:00.000000000",
          "2022-08-09T00:15:00.000000000",
          "2022-08-09T01:00:00.000000000"
         ],
         "hovertemplate": "Train=55390_08<br>Start=%{base}<br>Finish=%{x}<br>Tâches=%{y}<extra></extra>",
         "legendgroup": "55390_08",
         "marker": {
          "color": "#B6E880",
          "pattern": {
           "shape": ""
          }
         },
         "name": "55390_08",
         "orientation": "h",
         "showlegend": true,
         "textposition": "auto",
         "type": "bar",
         "x": {
          "bdata": "oLsNAOAyKQCguw0A",
          "dtype": "i4"
         },
         "xaxis": "x",
         "y": [
          "arr_1",
          "arr_2",
          "arr_3"
         ],
         "yaxis": "y"
        },
        {
         "base": [
          "2022-08-08T21:30:00.000000000",
          "2022-08-08T21:45:00.000000000",
          "2022-08-08T23:45:00.000000000"
         ],
         "hovertemplate": "Train=56135_08<br>Start=%{base}<br>Finish=%{x}<br>Tâches=%{y}<extra></extra>",
         "legendgroup": "56135_08",
         "marker": {
          "color": "#FF97FF",
          "pattern": {
           "shape": ""
          }
         },
         "name": "56135_08",
         "orientation": "h",
         "showlegend": true,
         "textposition": "auto",
         "type": "bar",
         "x": {
          "bdata": "oLsNAOAyKQCguw0A",
          "dtype": "i4"
         },
         "xaxis": "x",
         "y": [
          "arr_1",
          "arr_2",
          "arr_3"
         ],
         "yaxis": "y"
        },
        {
         "base": [
          "2022-08-09T02:15:00.000000000",
          "2022-08-09T02:30:00.000000000",
          "2022-08-09T03:15:00.000000000"
         ],
         "hovertemplate": "Train=412023_09<br>Start=%{base}<br>Finish=%{x}<br>Tâches=%{y}<extra></extra>",
         "legendgroup": "412023_09",
         "marker": {
          "color": "#FECB52",
          "pattern": {
           "shape": ""
          }
         },
         "name": "412023_09",
         "orientation": "h",
         "showlegend": true,
         "textposition": "auto",
         "type": "bar",
         "x": {
          "bdata": "oLsNAOAyKQCguw0A",
          "dtype": "i4"
         },
         "xaxis": "x",
         "y": [
          "arr_1",
          "arr_2",
          "arr_3"
         ],
         "yaxis": "y"
        },
        {
         "base": [
          "2022-08-09T22:45:00.000000000",
          "2022-08-09T23:00:00.000000000",
          "2022-08-09T23:45:00.000000000"
         ],
         "hovertemplate": "Train=41264_09<br>Start=%{base}<br>Finish=%{x}<br>Tâches=%{y}<extra></extra>",
         "legendgroup": "41264_09",
         "marker": {
          "color": "#636efa",
          "pattern": {
           "shape": ""
          }
         },
         "name": "41264_09",
         "orientation": "h",
         "showlegend": true,
         "textposition": "auto",
         "type": "bar",
         "x": {
          "bdata": "oLsNAOAyKQCguw0A",
          "dtype": "i4"
         },
         "xaxis": "x",
         "y": [
          "arr_1",
          "arr_2",
          "arr_3"
         ],
         "yaxis": "y"
        },
        {
         "base": [
          "2022-08-09T03:00:00.000000000",
          "2022-08-09T03:15:00.000000000",
          "2022-08-09T05:30:00.000000000"
         ],
         "hovertemplate": "Train=431802_09<br>Start=%{base}<br>Finish=%{x}<br>Tâches=%{y}<extra></extra>",
         "legendgroup": "431802_09",
         "marker": {
          "color": "#EF553B",
          "pattern": {
           "shape": ""
          }
         },
         "name": "431802_09",
         "orientation": "h",
         "showlegend": true,
         "textposition": "auto",
         "type": "bar",
         "x": {
          "bdata": "oLsNAOAyKQCguw0A",
          "dtype": "i4"
         },
         "xaxis": "x",
         "y": [
          "arr_1",
          "arr_2",
          "arr_3"
         ],
         "yaxis": "y"
        },
        {
         "base": [
          "2022-08-09T18:15:00.000000000",
          "2022-08-09T18:30:00.000000000",
          "2022-08-09T19:15:00.000000000"
         ],
         "hovertemplate": "Train=44222_09<br>Start=%{base}<br>Finish=%{x}<br>Tâches=%{y}<extra></extra>",
         "legendgroup": "44222_09",
         "marker": {
          "color": "#00cc96",
          "pattern": {
           "shape": ""
          }
         },
         "name": "44222_09",
         "orientation": "h",
         "showlegend": true,
         "textposition": "auto",
         "type": "bar",
         "x": {
          "bdata": "oLsNAOAyKQCguw0A",
          "dtype": "i4"
         },
         "xaxis": "x",
         "y": [
          "arr_1",
          "arr_2",
          "arr_3"
         ],
         "yaxis": "y"
        },
        {
         "base": [
          "2022-08-09T10:30:00.000000000",
          "2022-08-09T10:45:00.000000000",
          "2022-08-09T11:30:00.000000000"
         ],
         "hovertemplate": "Train=44250_09<br>Start=%{base}<br>Finish=%{x}<br>Tâches=%{y}<extra></extra>",
         "legendgroup": "44250_09",
         "marker": {
          "color": "#ab63fa",
          "pattern": {
           "shape": ""
          }
         },
         "name": "44250_09",
         "orientation": "h",
         "showlegend": true,
         "textposition": "auto",
         "type": "bar",
         "x": {
          "bdata": "oLsNAOAyKQCguw0A",
          "dtype": "i4"
         },
         "xaxis": "x",
         "y": [
          "arr_1",
          "arr_2",
          "arr_3"
         ],
         "yaxis": "y"
        },
        {
         "base": [
          "2022-08-09T16:30:00.000000000",
          "2022-08-09T16:45:00.000000000",
          "2022-08-09T17:30:00.000000000"
         ],
         "hovertemplate": "Train=44865_09<br>Start=%{base}<br>Finish=%{x}<br>Tâches=%{y}<extra></extra>",
         "legendgroup": "44865_09",
         "marker": {
          "color": "#FFA15A",
          "pattern": {
           "shape": ""
          }
         },
         "name": "44865_09",
         "orientation": "h",
         "showlegend": true,
         "textposition": "auto",
         "type": "bar",
         "x": {
          "bdata": "oLsNAOAyKQCguw0A",
          "dtype": "i4"
         },
         "xaxis": "x",
         "y": [
          "arr_1",
          "arr_2",
          "arr_3"
         ],
         "yaxis": "y"
        },
        {
         "base": [
          "2022-08-09T12:00:00.000000000",
          "2022-08-09T12:15:00.000000000",
          "2022-08-09T14:00:00.000000000"
         ],
         "hovertemplate": "Train=450237_09<br>Start=%{base}<br>Finish=%{x}<br>Tâches=%{y}<extra></extra>",
         "legendgroup": "450237_09",
         "marker": {
          "color": "#19d3f3",
          "pattern": {
           "shape": ""
          }
         },
         "name": "450237_09",
         "orientation": "h",
         "showlegend": true,
         "textposition": "auto",
         "type": "bar",
         "x": {
          "bdata": "oLsNAOAyKQCguw0A",
          "dtype": "i4"
         },
         "xaxis": "x",
         "y": [
          "arr_1",
          "arr_2",
          "arr_3"
         ],
         "yaxis": "y"
        },
        {
         "base": [
          "2022-08-09T12:45:00.000000000",
          "2022-08-09T13:00:00.000000000",
          "2022-08-09T14:15:00.000000000"
         ],
         "hovertemplate": "Train=471003_09<br>Start=%{base}<br>Finish=%{x}<br>Tâches=%{y}<extra></extra>",
         "legendgroup": "471003_09",
         "marker": {
          "color": "#FF6692",
          "pattern": {
           "shape": ""
          }
         },
         "name": "471003_09",
         "orientation": "h",
         "showlegend": true,
         "textposition": "auto",
         "type": "bar",
         "x": {
          "bdata": "oLsNAOAyKQCguw0A",
          "dtype": "i4"
         },
         "xaxis": "x",
         "y": [
          "arr_1",
          "arr_2",
          "arr_3"
         ],
         "yaxis": "y"
        },
        {
         "base": [
          "2022-08-09T09:15:00.000000000",
          "2022-08-09T09:30:00.000000000",
          "2022-08-09T10:15:00.000000000"
         ],
         "hovertemplate": "Train=47262_09<br>Start=%{base}<br>Finish=%{x}<br>Tâches=%{y}<extra></extra>",
         "legendgroup": "47262_09",
         "marker": {
          "color": "#B6E880",
          "pattern": {
           "shape": ""
          }
         },
         "name": "47262_09",
         "orientation": "h",
         "showlegend": true,
         "textposition": "auto",
         "type": "bar",
         "x": {
          "bdata": "oLsNAOAyKQCguw0A",
          "dtype": "i4"
         },
         "xaxis": "x",
         "y": [
          "arr_1",
          "arr_2",
          "arr_3"
         ],
         "yaxis": "y"
        },
        {
         "base": [
          "2022-08-09T09:45:00.000000000",
          "2022-08-09T10:00:00.000000000",
          "2022-08-09T10:45:00.000000000"
         ],
         "hovertemplate": "Train=489026_09<br>Start=%{base}<br>Finish=%{x}<br>Tâches=%{y}<extra></extra>",
         "legendgroup": "489026_09",
         "marker": {
          "color": "#FF97FF",
          "pattern": {
           "shape": ""
          }
         },
         "name": "489026_09",
         "orientation": "h",
         "showlegend": true,
         "textposition": "auto",
         "type": "bar",
         "x": {
          "bdata": "oLsNAOAyKQCguw0A",
          "dtype": "i4"
         },
         "xaxis": "x",
         "y": [
          "arr_1",
          "arr_2",
          "arr_3"
         ],
         "yaxis": "y"
        },
        {
         "base": [
          "2022-08-09T22:15:00.000000000",
          "2022-08-09T22:30:00.000000000",
          "2022-08-09T23:15:00.000000000"
         ],
         "hovertemplate": "Train=54234_09<br>Start=%{base}<br>Finish=%{x}<br>Tâches=%{y}<extra></extra>",
         "legendgroup": "54234_09",
         "marker": {
          "color": "#FECB52",
          "pattern": {
           "shape": ""
          }
         },
         "name": "54234_09",
         "orientation": "h",
         "showlegend": true,
         "textposition": "auto",
         "type": "bar",
         "x": {
          "bdata": "oLsNAOAyKQCguw0A",
          "dtype": "i4"
         },
         "xaxis": "x",
         "y": [
          "arr_1",
          "arr_2",
          "arr_3"
         ],
         "yaxis": "y"
        },
        {
         "base": [
          "2022-08-10T00:00:00.000000000",
          "2022-08-10T00:15:00.000000000",
          "2022-08-10T01:00:00.000000000"
         ],
         "hovertemplate": "Train=55390_09<br>Start=%{base}<br>Finish=%{x}<br>Tâches=%{y}<extra></extra>",
         "legendgroup": "55390_09",
         "marker": {
          "color": "#636efa",
          "pattern": {
           "shape": ""
          }
         },
         "name": "55390_09",
         "orientation": "h",
         "showlegend": true,
         "textposition": "auto",
         "type": "bar",
         "x": {
          "bdata": "oLsNAOAyKQCguw0A",
          "dtype": "i4"
         },
         "xaxis": "x",
         "y": [
          "arr_1",
          "arr_2",
          "arr_3"
         ],
         "yaxis": "y"
        },
        {
         "base": [
          "2022-08-09T04:00:00.000000000",
          "2022-08-09T04:15:00.000000000",
          "2022-08-09T05:00:00.000000000"
         ],
         "hovertemplate": "Train=55398_09<br>Start=%{base}<br>Finish=%{x}<br>Tâches=%{y}<extra></extra>",
         "legendgroup": "55398_09",
         "marker": {
          "color": "#EF553B",
          "pattern": {
           "shape": ""
          }
         },
         "name": "55398_09",
         "orientation": "h",
         "showlegend": true,
         "textposition": "auto",
         "type": "bar",
         "x": {
          "bdata": "oLsNAOAyKQCguw0A",
          "dtype": "i4"
         },
         "xaxis": "x",
         "y": [
          "arr_1",
          "arr_2",
          "arr_3"
         ],
         "yaxis": "y"
        },
        {
         "base": [
          "2022-08-09T21:30:00.000000000",
          "2022-08-09T21:45:00.000000000",
          "2022-08-10T04:45:00.000000000"
         ],
         "hovertemplate": "Train=56135_09<br>Start=%{base}<br>Finish=%{x}<br>Tâches=%{y}<extra></extra>",
         "legendgroup": "56135_09",
         "marker": {
          "color": "#00cc96",
          "pattern": {
           "shape": ""
          }
         },
         "name": "56135_09",
         "orientation": "h",
         "showlegend": true,
         "textposition": "auto",
         "type": "bar",
         "x": {
          "bdata": "oLsNAOAyKQCguw0A",
          "dtype": "i4"
         },
         "xaxis": "x",
         "y": [
          "arr_1",
          "arr_2",
          "arr_3"
         ],
         "yaxis": "y"
        },
        {
         "base": [
          "2022-08-09T02:45:00.000000000",
          "2022-08-09T03:00:00.000000000",
          "2022-08-09T03:45:00.000000000"
         ],
         "hovertemplate": "Train=56730_09<br>Start=%{base}<br>Finish=%{x}<br>Tâches=%{y}<extra></extra>",
         "legendgroup": "56730_09",
         "marker": {
          "color": "#ab63fa",
          "pattern": {
           "shape": ""
          }
         },
         "name": "56730_09",
         "orientation": "h",
         "showlegend": true,
         "textposition": "auto",
         "type": "bar",
         "x": {
          "bdata": "oLsNAOAyKQCguw0A",
          "dtype": "i4"
         },
         "xaxis": "x",
         "y": [
          "arr_1",
          "arr_2",
          "arr_3"
         ],
         "yaxis": "y"
        },
        {
         "base": [
          "2022-08-09T21:15:00.000000000",
          "2022-08-09T21:30:00.000000000",
          "2022-08-10T03:45:00.000000000"
         ],
         "hovertemplate": "Train=58706_09<br>Start=%{base}<br>Finish=%{x}<br>Tâches=%{y}<extra></extra>",
         "legendgroup": "58706_09",
         "marker": {
          "color": "#FFA15A",
          "pattern": {
           "shape": ""
          }
         },
         "name": "58706_09",
         "orientation": "h",
         "showlegend": true,
         "textposition": "auto",
         "type": "bar",
         "x": {
          "bdata": "oLsNAOAyKQCguw0A",
          "dtype": "i4"
         },
         "xaxis": "x",
         "y": [
          "arr_1",
          "arr_2",
          "arr_3"
         ],
         "yaxis": "y"
        },
        {
         "base": [
          "2022-08-10T02:15:00.000000000",
          "2022-08-10T02:30:00.000000000",
          "2022-08-10T03:15:00.000000000"
         ],
         "hovertemplate": "Train=412023_10<br>Start=%{base}<br>Finish=%{x}<br>Tâches=%{y}<extra></extra>",
         "legendgroup": "412023_10",
         "marker": {
          "color": "#19d3f3",
          "pattern": {
           "shape": ""
          }
         },
         "name": "412023_10",
         "orientation": "h",
         "showlegend": true,
         "textposition": "auto",
         "type": "bar",
         "x": {
          "bdata": "oLsNAOAyKQCguw0A",
          "dtype": "i4"
         },
         "xaxis": "x",
         "y": [
          "arr_1",
          "arr_2",
          "arr_3"
         ],
         "yaxis": "y"
        },
        {
         "base": [
          "2022-08-10T21:00:00.000000000",
          "2022-08-10T21:15:00.000000000",
          "2022-08-10T22:00:00.000000000"
         ],
         "hovertemplate": "Train=412202_10<br>Start=%{base}<br>Finish=%{x}<br>Tâches=%{y}<extra></extra>",
         "legendgroup": "412202_10",
         "marker": {
          "color": "#FF6692",
          "pattern": {
           "shape": ""
          }
         },
         "name": "412202_10",
         "orientation": "h",
         "showlegend": true,
         "textposition": "auto",
         "type": "bar",
         "x": {
          "bdata": "oLsNAOAyKQCguw0A",
          "dtype": "i4"
         },
         "xaxis": "x",
         "y": [
          "arr_1",
          "arr_2",
          "arr_3"
         ],
         "yaxis": "y"
        },
        {
         "base": [
          "2022-08-10T22:45:00.000000000",
          "2022-08-10T23:00:00.000000000",
          "2022-08-10T23:45:00.000000000"
         ],
         "hovertemplate": "Train=41264_10<br>Start=%{base}<br>Finish=%{x}<br>Tâches=%{y}<extra></extra>",
         "legendgroup": "41264_10",
         "marker": {
          "color": "#B6E880",
          "pattern": {
           "shape": ""
          }
         },
         "name": "41264_10",
         "orientation": "h",
         "showlegend": true,
         "textposition": "auto",
         "type": "bar",
         "x": {
          "bdata": "oLsNAOAyKQCguw0A",
          "dtype": "i4"
         },
         "xaxis": "x",
         "y": [
          "arr_1",
          "arr_2",
          "arr_3"
         ],
         "yaxis": "y"
        },
        {
         "base": [
          "2022-08-10T20:30:00.000000000",
          "2022-08-10T20:45:00.000000000",
          "2022-08-10T21:30:00.000000000"
         ],
         "hovertemplate": "Train=431020_10<br>Start=%{base}<br>Finish=%{x}<br>Tâches=%{y}<extra></extra>",
         "legendgroup": "431020_10",
         "marker": {
          "color": "#FF97FF",
          "pattern": {
           "shape": ""
          }
         },
         "name": "431020_10",
         "orientation": "h",
         "showlegend": true,
         "textposition": "auto",
         "type": "bar",
         "x": {
          "bdata": "oLsNAOAyKQCguw0A",
          "dtype": "i4"
         },
         "xaxis": "x",
         "y": [
          "arr_1",
          "arr_2",
          "arr_3"
         ],
         "yaxis": "y"
        },
        {
         "base": [
          "2022-08-10T12:30:00.000000000",
          "2022-08-10T12:45:00.000000000",
          "2022-08-10T13:30:00.000000000"
         ],
         "hovertemplate": "Train=431110_10<br>Start=%{base}<br>Finish=%{x}<br>Tâches=%{y}<extra></extra>",
         "legendgroup": "431110_10",
         "marker": {
          "color": "#FECB52",
          "pattern": {
           "shape": ""
          }
         },
         "name": "431110_10",
         "orientation": "h",
         "showlegend": true,
         "textposition": "auto",
         "type": "bar",
         "x": {
          "bdata": "oLsNAOAyKQCguw0A",
          "dtype": "i4"
         },
         "xaxis": "x",
         "y": [
          "arr_1",
          "arr_2",
          "arr_3"
         ],
         "yaxis": "y"
        },
        {
         "base": [
          "2022-08-10T11:15:00.000000000",
          "2022-08-10T11:30:00.000000000",
          "2022-08-10T22:45:00.000000000"
         ],
         "hovertemplate": "Train=431246_10<br>Start=%{base}<br>Finish=%{x}<br>Tâches=%{y}<extra></extra>",
         "legendgroup": "431246_10",
         "marker": {
          "color": "#636efa",
          "pattern": {
           "shape": ""
          }
         },
         "name": "431246_10",
         "orientation": "h",
         "showlegend": true,
         "textposition": "auto",
         "type": "bar",
         "x": {
          "bdata": "oLsNAOAyKQCguw0A",
          "dtype": "i4"
         },
         "xaxis": "x",
         "y": [
          "arr_1",
          "arr_2",
          "arr_3"
         ],
         "yaxis": "y"
        },
        {
         "base": [
          "2022-08-10T04:00:00.000000000",
          "2022-08-10T04:15:00.000000000",
          "2022-08-10T06:30:00.000000000"
         ],
         "hovertemplate": "Train=431802_10<br>Start=%{base}<br>Finish=%{x}<br>Tâches=%{y}<extra></extra>",
         "legendgroup": "431802_10",
         "marker": {
          "color": "#EF553B",
          "pattern": {
           "shape": ""
          }
         },
         "name": "431802_10",
         "orientation": "h",
         "showlegend": true,
         "textposition": "auto",
         "type": "bar",
         "x": {
          "bdata": "oLsNAOAyKQCguw0A",
          "dtype": "i4"
         },
         "xaxis": "x",
         "y": [
          "arr_1",
          "arr_2",
          "arr_3"
         ],
         "yaxis": "y"
        },
        {
         "base": [
          "2022-08-10T16:00:00.000000000",
          "2022-08-10T16:15:00.000000000",
          "2022-08-10T17:00:00.000000000"
         ],
         "hovertemplate": "Train=44222_10<br>Start=%{base}<br>Finish=%{x}<br>Tâches=%{y}<extra></extra>",
         "legendgroup": "44222_10",
         "marker": {
          "color": "#00cc96",
          "pattern": {
           "shape": ""
          }
         },
         "name": "44222_10",
         "orientation": "h",
         "showlegend": true,
         "textposition": "auto",
         "type": "bar",
         "x": {
          "bdata": "oLsNAOAyKQCguw0A",
          "dtype": "i4"
         },
         "xaxis": "x",
         "y": [
          "arr_1",
          "arr_2",
          "arr_3"
         ],
         "yaxis": "y"
        },
        {
         "base": [
          "2022-08-10T01:15:00.000000000",
          "2022-08-10T01:30:00.000000000",
          "2022-08-10T08:45:00.000000000"
         ],
         "hovertemplate": "Train=44228_10<br>Start=%{base}<br>Finish=%{x}<br>Tâches=%{y}<extra></extra>",
         "legendgroup": "44228_10",
         "marker": {
          "color": "#ab63fa",
          "pattern": {
           "shape": ""
          }
         },
         "name": "44228_10",
         "orientation": "h",
         "showlegend": true,
         "textposition": "auto",
         "type": "bar",
         "x": {
          "bdata": "oLsNAOAyKQCguw0A",
          "dtype": "i4"
         },
         "xaxis": "x",
         "y": [
          "arr_1",
          "arr_2",
          "arr_3"
         ],
         "yaxis": "y"
        },
        {
         "base": [
          "2022-08-10T10:30:00.000000000",
          "2022-08-10T10:45:00.000000000",
          "2022-08-10T11:30:00.000000000"
         ],
         "hovertemplate": "Train=44250_10<br>Start=%{base}<br>Finish=%{x}<br>Tâches=%{y}<extra></extra>",
         "legendgroup": "44250_10",
         "marker": {
          "color": "#FFA15A",
          "pattern": {
           "shape": ""
          }
         },
         "name": "44250_10",
         "orientation": "h",
         "showlegend": true,
         "textposition": "auto",
         "type": "bar",
         "x": {
          "bdata": "oLsNAOAyKQCguw0A",
          "dtype": "i4"
         },
         "xaxis": "x",
         "y": [
          "arr_1",
          "arr_2",
          "arr_3"
         ],
         "yaxis": "y"
        },
        {
         "base": [
          "2022-08-10T12:00:00.000000000",
          "2022-08-10T12:15:00.000000000",
          "2022-08-10T13:00:00.000000000"
         ],
         "hovertemplate": "Train=450237_10<br>Start=%{base}<br>Finish=%{x}<br>Tâches=%{y}<extra></extra>",
         "legendgroup": "450237_10",
         "marker": {
          "color": "#19d3f3",
          "pattern": {
           "shape": ""
          }
         },
         "name": "450237_10",
         "orientation": "h",
         "showlegend": true,
         "textposition": "auto",
         "type": "bar",
         "x": {
          "bdata": "oLsNAOAyKQCguw0A",
          "dtype": "i4"
         },
         "xaxis": "x",
         "y": [
          "arr_1",
          "arr_2",
          "arr_3"
         ],
         "yaxis": "y"
        },
        {
         "base": [
          "2022-08-10T12:45:00.000000000",
          "2022-08-10T13:00:00.000000000",
          "2022-08-11T09:00:00.000000000"
         ],
         "hovertemplate": "Train=471003_10<br>Start=%{base}<br>Finish=%{x}<br>Tâches=%{y}<extra></extra>",
         "legendgroup": "471003_10",
         "marker": {
          "color": "#FF6692",
          "pattern": {
           "shape": ""
          }
         },
         "name": "471003_10",
         "orientation": "h",
         "showlegend": true,
         "textposition": "auto",
         "type": "bar",
         "x": {
          "bdata": "oLsNAOAyKQCguw0A",
          "dtype": "i4"
         },
         "xaxis": "x",
         "y": [
          "arr_1",
          "arr_2",
          "arr_3"
         ],
         "yaxis": "y"
        },
        {
         "base": [
          "2022-08-10T12:45:00.000000000",
          "2022-08-10T13:00:00.000000000",
          "2022-08-10T13:45:00.000000000"
         ],
         "hovertemplate": "Train=47214_10<br>Start=%{base}<br>Finish=%{x}<br>Tâches=%{y}<extra></extra>",
         "legendgroup": "47214_10",
         "marker": {
          "color": "#B6E880",
          "pattern": {
           "shape": ""
          }
         },
         "name": "47214_10",
         "orientation": "h",
         "showlegend": true,
         "textposition": "auto",
         "type": "bar",
         "x": {
          "bdata": "oLsNAOAyKQCguw0A",
          "dtype": "i4"
         },
         "xaxis": "x",
         "y": [
          "arr_1",
          "arr_2",
          "arr_3"
         ],
         "yaxis": "y"
        },
        {
         "base": [
          "2022-08-10T09:15:00.000000000",
          "2022-08-10T09:30:00.000000000",
          "2022-08-11T00:00:00.000000000"
         ],
         "hovertemplate": "Train=47262_10<br>Start=%{base}<br>Finish=%{x}<br>Tâches=%{y}<extra></extra>",
         "legendgroup": "47262_10",
         "marker": {
          "color": "#FF97FF",
          "pattern": {
           "shape": ""
          }
         },
         "name": "47262_10",
         "orientation": "h",
         "showlegend": true,
         "textposition": "auto",
         "type": "bar",
         "x": {
          "bdata": "oLsNAOAyKQCguw0A",
          "dtype": "i4"
         },
         "xaxis": "x",
         "y": [
          "arr_1",
          "arr_2",
          "arr_3"
         ],
         "yaxis": "y"
        },
        {
         "base": [
          "2022-08-10T22:15:00.000000000",
          "2022-08-10T22:30:00.000000000",
          "2022-08-11T11:15:00.000000000"
         ],
         "hovertemplate": "Train=54234_10<br>Start=%{base}<br>Finish=%{x}<br>Tâches=%{y}<extra></extra>",
         "legendgroup": "54234_10",
         "marker": {
          "color": "#FECB52",
          "pattern": {
           "shape": ""
          }
         },
         "name": "54234_10",
         "orientation": "h",
         "showlegend": true,
         "textposition": "auto",
         "type": "bar",
         "x": {
          "bdata": "oLsNAOAyKQCguw0A",
          "dtype": "i4"
         },
         "xaxis": "x",
         "y": [
          "arr_1",
          "arr_2",
          "arr_3"
         ],
         "yaxis": "y"
        },
        {
         "base": [
          "2022-08-11T00:00:00.000000000",
          "2022-08-11T00:15:00.000000000",
          "2022-08-11T09:45:00.000000000"
         ],
         "hovertemplate": "Train=55390_10<br>Start=%{base}<br>Finish=%{x}<br>Tâches=%{y}<extra></extra>",
         "legendgroup": "55390_10",
         "marker": {
          "color": "#636efa",
          "pattern": {
           "shape": ""
          }
         },
         "name": "55390_10",
         "orientation": "h",
         "showlegend": true,
         "textposition": "auto",
         "type": "bar",
         "x": {
          "bdata": "oLsNAOAyKQCguw0A",
          "dtype": "i4"
         },
         "xaxis": "x",
         "y": [
          "arr_1",
          "arr_2",
          "arr_3"
         ],
         "yaxis": "y"
        },
        {
         "base": [
          "2022-08-10T07:45:00.000000000",
          "2022-08-10T08:00:00.000000000",
          "2022-08-10T09:00:00.000000000"
         ],
         "hovertemplate": "Train=55396_10<br>Start=%{base}<br>Finish=%{x}<br>Tâches=%{y}<extra></extra>",
         "legendgroup": "55396_10",
         "marker": {
          "color": "#EF553B",
          "pattern": {
           "shape": ""
          }
         },
         "name": "55396_10",
         "orientation": "h",
         "showlegend": true,
         "textposition": "auto",
         "type": "bar",
         "x": {
          "bdata": "oLsNAOAyKQCguw0A",
          "dtype": "i4"
         },
         "xaxis": "x",
         "y": [
          "arr_1",
          "arr_2",
          "arr_3"
         ],
         "yaxis": "y"
        },
        {
         "base": [
          "2022-08-10T21:30:00.000000000",
          "2022-08-10T21:45:00.000000000",
          "2022-08-11T05:45:00.000000000"
         ],
         "hovertemplate": "Train=56135_10<br>Start=%{base}<br>Finish=%{x}<br>Tâches=%{y}<extra></extra>",
         "legendgroup": "56135_10",
         "marker": {
          "color": "#00cc96",
          "pattern": {
           "shape": ""
          }
         },
         "name": "56135_10",
         "orientation": "h",
         "showlegend": true,
         "textposition": "auto",
         "type": "bar",
         "x": {
          "bdata": "oLsNAOAyKQCguw0A",
          "dtype": "i4"
         },
         "xaxis": "x",
         "y": [
          "arr_1",
          "arr_2",
          "arr_3"
         ],
         "yaxis": "y"
        },
        {
         "base": [
          "2022-08-10T02:45:00.000000000",
          "2022-08-10T03:00:00.000000000",
          "2022-08-10T08:30:00.000000000"
         ],
         "hovertemplate": "Train=56730_10<br>Start=%{base}<br>Finish=%{x}<br>Tâches=%{y}<extra></extra>",
         "legendgroup": "56730_10",
         "marker": {
          "color": "#ab63fa",
          "pattern": {
           "shape": ""
          }
         },
         "name": "56730_10",
         "orientation": "h",
         "showlegend": true,
         "textposition": "auto",
         "type": "bar",
         "x": {
          "bdata": "oLsNAOAyKQCguw0A",
          "dtype": "i4"
         },
         "xaxis": "x",
         "y": [
          "arr_1",
          "arr_2",
          "arr_3"
         ],
         "yaxis": "y"
        },
        {
         "base": [
          "2022-08-10T21:15:00.000000000",
          "2022-08-10T21:30:00.000000000",
          "2022-08-10T22:15:00.000000000"
         ],
         "hovertemplate": "Train=58706_10<br>Start=%{base}<br>Finish=%{x}<br>Tâches=%{y}<extra></extra>",
         "legendgroup": "58706_10",
         "marker": {
          "color": "#FFA15A",
          "pattern": {
           "shape": ""
          }
         },
         "name": "58706_10",
         "orientation": "h",
         "showlegend": true,
         "textposition": "auto",
         "type": "bar",
         "x": {
          "bdata": "oLsNAOAyKQCguw0A",
          "dtype": "i4"
         },
         "xaxis": "x",
         "y": [
          "arr_1",
          "arr_2",
          "arr_3"
         ],
         "yaxis": "y"
        },
        {
         "base": [
          "2022-08-10T09:30:00.000000000",
          "2022-08-10T09:45:00.000000000",
          "2022-08-10T18:45:00.000000000"
         ],
         "hovertemplate": "Train=71270_10<br>Start=%{base}<br>Finish=%{x}<br>Tâches=%{y}<extra></extra>",
         "legendgroup": "71270_10",
         "marker": {
          "color": "#19d3f3",
          "pattern": {
           "shape": ""
          }
         },
         "name": "71270_10",
         "orientation": "h",
         "showlegend": true,
         "textposition": "auto",
         "type": "bar",
         "x": {
          "bdata": "oLsNAOAyKQCguw0A",
          "dtype": "i4"
         },
         "xaxis": "x",
         "y": [
          "arr_1",
          "arr_2",
          "arr_3"
         ],
         "yaxis": "y"
        },
        {
         "base": [
          "2022-08-11T02:15:00.000000000",
          "2022-08-11T02:30:00.000000000",
          "2022-08-11T09:15:00.000000000"
         ],
         "hovertemplate": "Train=412023_11<br>Start=%{base}<br>Finish=%{x}<br>Tâches=%{y}<extra></extra>",
         "legendgroup": "412023_11",
         "marker": {
          "color": "#FF6692",
          "pattern": {
           "shape": ""
          }
         },
         "name": "412023_11",
         "orientation": "h",
         "showlegend": true,
         "textposition": "auto",
         "type": "bar",
         "x": {
          "bdata": "oLsNAOAyKQCguw0A",
          "dtype": "i4"
         },
         "xaxis": "x",
         "y": [
          "arr_1",
          "arr_2",
          "arr_3"
         ],
         "yaxis": "y"
        },
        {
         "base": [
          "2022-08-11T21:00:00.000000000",
          "2022-08-11T21:15:00.000000000",
          "2022-08-11T22:00:00.000000000"
         ],
         "hovertemplate": "Train=412202_11<br>Start=%{base}<br>Finish=%{x}<br>Tâches=%{y}<extra></extra>",
         "legendgroup": "412202_11",
         "marker": {
          "color": "#B6E880",
          "pattern": {
           "shape": ""
          }
         },
         "name": "412202_11",
         "orientation": "h",
         "showlegend": true,
         "textposition": "auto",
         "type": "bar",
         "x": {
          "bdata": "oLsNAOAyKQCguw0A",
          "dtype": "i4"
         },
         "xaxis": "x",
         "y": [
          "arr_1",
          "arr_2",
          "arr_3"
         ],
         "yaxis": "y"
        },
        {
         "base": [
          "2022-08-11T23:30:00.000000000",
          "2022-08-11T23:45:00.000000000",
          "2022-08-12T16:00:00.000000000"
         ],
         "hovertemplate": "Train=41254_11<br>Start=%{base}<br>Finish=%{x}<br>Tâches=%{y}<extra></extra>",
         "legendgroup": "41254_11",
         "marker": {
          "color": "#FF97FF",
          "pattern": {
           "shape": ""
          }
         },
         "name": "41254_11",
         "orientation": "h",
         "showlegend": true,
         "textposition": "auto",
         "type": "bar",
         "x": {
          "bdata": "oLsNAOAyKQCguw0A",
          "dtype": "i4"
         },
         "xaxis": "x",
         "y": [
          "arr_1",
          "arr_2",
          "arr_3"
         ],
         "yaxis": "y"
        },
        {
         "base": [
          "2022-08-11T11:15:00.000000000",
          "2022-08-11T11:30:00.000000000",
          "2022-08-11T12:15:00.000000000"
         ],
         "hovertemplate": "Train=431246_11<br>Start=%{base}<br>Finish=%{x}<br>Tâches=%{y}<extra></extra>",
         "legendgroup": "431246_11",
         "marker": {
          "color": "#FECB52",
          "pattern": {
           "shape": ""
          }
         },
         "name": "431246_11",
         "orientation": "h",
         "showlegend": true,
         "textposition": "auto",
         "type": "bar",
         "x": {
          "bdata": "oLsNAOAyKQCguw0A",
          "dtype": "i4"
         },
         "xaxis": "x",
         "y": [
          "arr_1",
          "arr_2",
          "arr_3"
         ],
         "yaxis": "y"
        },
        {
         "base": [
          "2022-08-11T11:15:00.000000000",
          "2022-08-11T11:30:00.000000000",
          "2022-08-11T12:30:00.000000000"
         ],
         "hovertemplate": "Train=431640_11<br>Start=%{base}<br>Finish=%{x}<br>Tâches=%{y}<extra></extra>",
         "legendgroup": "431640_11",
         "marker": {
          "color": "#636efa",
          "pattern": {
           "shape": ""
          }
         },
         "name": "431640_11",
         "orientation": "h",
         "showlegend": true,
         "textposition": "auto",
         "type": "bar",
         "x": {
          "bdata": "oLsNAOAyKQCguw0A",
          "dtype": "i4"
         },
         "xaxis": "x",
         "y": [
          "arr_1",
          "arr_2",
          "arr_3"
         ],
         "yaxis": "y"
        },
        {
         "base": [
          "2022-08-11T03:00:00.000000000",
          "2022-08-11T03:15:00.000000000",
          "2022-08-11T04:00:00.000000000"
         ],
         "hovertemplate": "Train=431802_11<br>Start=%{base}<br>Finish=%{x}<br>Tâches=%{y}<extra></extra>",
         "legendgroup": "431802_11",
         "marker": {
          "color": "#EF553B",
          "pattern": {
           "shape": ""
          }
         },
         "name": "431802_11",
         "orientation": "h",
         "showlegend": true,
         "textposition": "auto",
         "type": "bar",
         "x": {
          "bdata": "oLsNAOAyKQCguw0A",
          "dtype": "i4"
         },
         "xaxis": "x",
         "y": [
          "arr_1",
          "arr_2",
          "arr_3"
         ],
         "yaxis": "y"
        },
        {
         "base": [
          "2022-08-11T16:00:00.000000000",
          "2022-08-11T16:15:00.000000000",
          "2022-08-11T18:00:00.000000000"
         ],
         "hovertemplate": "Train=44222_11<br>Start=%{base}<br>Finish=%{x}<br>Tâches=%{y}<extra></extra>",
         "legendgroup": "44222_11",
         "marker": {
          "color": "#00cc96",
          "pattern": {
           "shape": ""
          }
         },
         "name": "44222_11",
         "orientation": "h",
         "showlegend": true,
         "textposition": "auto",
         "type": "bar",
         "x": {
          "bdata": "oLsNAOAyKQCguw0A",
          "dtype": "i4"
         },
         "xaxis": "x",
         "y": [
          "arr_1",
          "arr_2",
          "arr_3"
         ],
         "yaxis": "y"
        },
        {
         "base": [
          "2022-08-11T10:30:00.000000000",
          "2022-08-11T10:45:00.000000000",
          "2022-08-11T11:30:00.000000000"
         ],
         "hovertemplate": "Train=44250_11<br>Start=%{base}<br>Finish=%{x}<br>Tâches=%{y}<extra></extra>",
         "legendgroup": "44250_11",
         "marker": {
          "color": "#ab63fa",
          "pattern": {
           "shape": ""
          }
         },
         "name": "44250_11",
         "orientation": "h",
         "showlegend": true,
         "textposition": "auto",
         "type": "bar",
         "x": {
          "bdata": "oLsNAOAyKQCguw0A",
          "dtype": "i4"
         },
         "xaxis": "x",
         "y": [
          "arr_1",
          "arr_2",
          "arr_3"
         ],
         "yaxis": "y"
        },
        {
         "base": [
          "2022-08-11T16:30:00.000000000",
          "2022-08-11T16:45:00.000000000",
          "2022-08-11T17:45:00.000000000"
         ],
         "hovertemplate": "Train=44865_11<br>Start=%{base}<br>Finish=%{x}<br>Tâches=%{y}<extra></extra>",
         "legendgroup": "44865_11",
         "marker": {
          "color": "#FFA15A",
          "pattern": {
           "shape": ""
          }
         },
         "name": "44865_11",
         "orientation": "h",
         "showlegend": true,
         "textposition": "auto",
         "type": "bar",
         "x": {
          "bdata": "oLsNAOAyKQCguw0A",
          "dtype": "i4"
         },
         "xaxis": "x",
         "y": [
          "arr_1",
          "arr_2",
          "arr_3"
         ],
         "yaxis": "y"
        },
        {
         "base": [
          "2022-08-11T12:00:00.000000000",
          "2022-08-11T12:15:00.000000000",
          "2022-08-11T13:15:00.000000000"
         ],
         "hovertemplate": "Train=450237_11<br>Start=%{base}<br>Finish=%{x}<br>Tâches=%{y}<extra></extra>",
         "legendgroup": "450237_11",
         "marker": {
          "color": "#19d3f3",
          "pattern": {
           "shape": ""
          }
         },
         "name": "450237_11",
         "orientation": "h",
         "showlegend": true,
         "textposition": "auto",
         "type": "bar",
         "x": {
          "bdata": "oLsNAOAyKQCguw0A",
          "dtype": "i4"
         },
         "xaxis": "x",
         "y": [
          "arr_1",
          "arr_2",
          "arr_3"
         ],
         "yaxis": "y"
        },
        {
         "base": [
          "2022-08-11T12:45:00.000000000",
          "2022-08-11T13:00:00.000000000",
          "2022-08-11T13:45:00.000000000"
         ],
         "hovertemplate": "Train=471003_11<br>Start=%{base}<br>Finish=%{x}<br>Tâches=%{y}<extra></extra>",
         "legendgroup": "471003_11",
         "marker": {
          "color": "#FF6692",
          "pattern": {
           "shape": ""
          }
         },
         "name": "471003_11",
         "orientation": "h",
         "showlegend": true,
         "textposition": "auto",
         "type": "bar",
         "x": {
          "bdata": "oLsNAOAyKQCguw0A",
          "dtype": "i4"
         },
         "xaxis": "x",
         "y": [
          "arr_1",
          "arr_2",
          "arr_3"
         ],
         "yaxis": "y"
        },
        {
         "base": [
          "2022-08-11T17:45:00.000000000",
          "2022-08-11T18:00:00.000000000",
          "2022-08-12T09:30:00.000000000"
         ],
         "hovertemplate": "Train=47212_11<br>Start=%{base}<br>Finish=%{x}<br>Tâches=%{y}<extra></extra>",
         "legendgroup": "47212_11",
         "marker": {
          "color": "#B6E880",
          "pattern": {
           "shape": ""
          }
         },
         "name": "47212_11",
         "orientation": "h",
         "showlegend": true,
         "textposition": "auto",
         "type": "bar",
         "x": {
          "bdata": "oLsNAOAyKQCguw0A",
          "dtype": "i4"
         },
         "xaxis": "x",
         "y": [
          "arr_1",
          "arr_2",
          "arr_3"
         ],
         "yaxis": "y"
        },
        {
         "base": [
          "2022-08-11T03:00:00.000000000",
          "2022-08-11T03:15:00.000000000",
          "2022-08-11T04:15:00.000000000"
         ],
         "hovertemplate": "Train=47240_11<br>Start=%{base}<br>Finish=%{x}<br>Tâches=%{y}<extra></extra>",
         "legendgroup": "47240_11",
         "marker": {
          "color": "#FF97FF",
          "pattern": {
           "shape": ""
          }
         },
         "name": "47240_11",
         "orientation": "h",
         "showlegend": true,
         "textposition": "auto",
         "type": "bar",
         "x": {
          "bdata": "oLsNAOAyKQCguw0A",
          "dtype": "i4"
         },
         "xaxis": "x",
         "y": [
          "arr_1",
          "arr_2",
          "arr_3"
         ],
         "yaxis": "y"
        },
        {
         "base": [
          "2022-08-11T09:15:00.000000000",
          "2022-08-11T09:30:00.000000000",
          "2022-08-11T10:15:00.000000000"
         ],
         "hovertemplate": "Train=47262_11<br>Start=%{base}<br>Finish=%{x}<br>Tâches=%{y}<extra></extra>",
         "legendgroup": "47262_11",
         "marker": {
          "color": "#FECB52",
          "pattern": {
           "shape": ""
          }
         },
         "name": "47262_11",
         "orientation": "h",
         "showlegend": true,
         "textposition": "auto",
         "type": "bar",
         "x": {
          "bdata": "oLsNAOAyKQCguw0A",
          "dtype": "i4"
         },
         "xaxis": "x",
         "y": [
          "arr_1",
          "arr_2",
          "arr_3"
         ],
         "yaxis": "y"
        },
        {
         "base": [
          "2022-08-11T19:45:00.000000000",
          "2022-08-11T20:00:00.000000000",
          "2022-08-11T20:45:00.000000000"
         ],
         "hovertemplate": "Train=47822_11<br>Start=%{base}<br>Finish=%{x}<br>Tâches=%{y}<extra></extra>",
         "legendgroup": "47822_11",
         "marker": {
          "color": "#636efa",
          "pattern": {
           "shape": ""
          }
         },
         "name": "47822_11",
         "orientation": "h",
         "showlegend": true,
         "textposition": "auto",
         "type": "bar",
         "x": {
          "bdata": "oLsNAOAyKQCguw0A",
          "dtype": "i4"
         },
         "xaxis": "x",
         "y": [
          "arr_1",
          "arr_2",
          "arr_3"
         ],
         "yaxis": "y"
        },
        {
         "base": [
          "2022-08-11T22:15:00.000000000",
          "2022-08-11T22:30:00.000000000",
          "2022-08-12T09:45:00.000000000"
         ],
         "hovertemplate": "Train=54234_11<br>Start=%{base}<br>Finish=%{x}<br>Tâches=%{y}<extra></extra>",
         "legendgroup": "54234_11",
         "marker": {
          "color": "#EF553B",
          "pattern": {
           "shape": ""
          }
         },
         "name": "54234_11",
         "orientation": "h",
         "showlegend": true,
         "textposition": "auto",
         "type": "bar",
         "x": {
          "bdata": "oLsNAOAyKQCguw0A",
          "dtype": "i4"
         },
         "xaxis": "x",
         "y": [
          "arr_1",
          "arr_2",
          "arr_3"
         ],
         "yaxis": "y"
        },
        {
         "base": [
          "2022-08-12T00:00:00.000000000",
          "2022-08-12T00:15:00.000000000",
          "2022-08-12T01:00:00.000000000"
         ],
         "hovertemplate": "Train=55390_11<br>Start=%{base}<br>Finish=%{x}<br>Tâches=%{y}<extra></extra>",
         "legendgroup": "55390_11",
         "marker": {
          "color": "#00cc96",
          "pattern": {
           "shape": ""
          }
         },
         "name": "55390_11",
         "orientation": "h",
         "showlegend": true,
         "textposition": "auto",
         "type": "bar",
         "x": {
          "bdata": "oLsNAOAyKQCguw0A",
          "dtype": "i4"
         },
         "xaxis": "x",
         "y": [
          "arr_1",
          "arr_2",
          "arr_3"
         ],
         "yaxis": "y"
        },
        {
         "base": [
          "2022-08-11T11:45:00.000000000",
          "2022-08-11T12:00:00.000000000",
          "2022-08-11T17:30:00.000000000"
         ],
         "hovertemplate": "Train=55394_11<br>Start=%{base}<br>Finish=%{x}<br>Tâches=%{y}<extra></extra>",
         "legendgroup": "55394_11",
         "marker": {
          "color": "#ab63fa",
          "pattern": {
           "shape": ""
          }
         },
         "name": "55394_11",
         "orientation": "h",
         "showlegend": true,
         "textposition": "auto",
         "type": "bar",
         "x": {
          "bdata": "oLsNAOAyKQCguw0A",
          "dtype": "i4"
         },
         "xaxis": "x",
         "y": [
          "arr_1",
          "arr_2",
          "arr_3"
         ],
         "yaxis": "y"
        },
        {
         "base": [
          "2022-08-11T03:45:00.000000000",
          "2022-08-11T04:00:00.000000000",
          "2022-08-11T04:45:00.000000000"
         ],
         "hovertemplate": "Train=55396_11<br>Start=%{base}<br>Finish=%{x}<br>Tâches=%{y}<extra></extra>",
         "legendgroup": "55396_11",
         "marker": {
          "color": "#FFA15A",
          "pattern": {
           "shape": ""
          }
         },
         "name": "55396_11",
         "orientation": "h",
         "showlegend": true,
         "textposition": "auto",
         "type": "bar",
         "x": {
          "bdata": "oLsNAOAyKQCguw0A",
          "dtype": "i4"
         },
         "xaxis": "x",
         "y": [
          "arr_1",
          "arr_2",
          "arr_3"
         ],
         "yaxis": "y"
        },
        {
         "base": [
          "2022-08-11T21:30:00.000000000",
          "2022-08-11T21:45:00.000000000",
          "2022-08-11T22:30:00.000000000"
         ],
         "hovertemplate": "Train=56135_11<br>Start=%{base}<br>Finish=%{x}<br>Tâches=%{y}<extra></extra>",
         "legendgroup": "56135_11",
         "marker": {
          "color": "#19d3f3",
          "pattern": {
           "shape": ""
          }
         },
         "name": "56135_11",
         "orientation": "h",
         "showlegend": true,
         "textposition": "auto",
         "type": "bar",
         "x": {
          "bdata": "oLsNAOAyKQCguw0A",
          "dtype": "i4"
         },
         "xaxis": "x",
         "y": [
          "arr_1",
          "arr_2",
          "arr_3"
         ],
         "yaxis": "y"
        },
        {
         "base": [
          "2022-08-11T02:45:00.000000000",
          "2022-08-11T03:00:00.000000000",
          "2022-08-11T06:15:00.000000000"
         ],
         "hovertemplate": "Train=56730_11<br>Start=%{base}<br>Finish=%{x}<br>Tâches=%{y}<extra></extra>",
         "legendgroup": "56730_11",
         "marker": {
          "color": "#FF6692",
          "pattern": {
           "shape": ""
          }
         },
         "name": "56730_11",
         "orientation": "h",
         "showlegend": true,
         "textposition": "auto",
         "type": "bar",
         "x": {
          "bdata": "oLsNAOAyKQCguw0A",
          "dtype": "i4"
         },
         "xaxis": "x",
         "y": [
          "arr_1",
          "arr_2",
          "arr_3"
         ],
         "yaxis": "y"
        },
        {
         "base": [
          "2022-08-11T21:15:00.000000000",
          "2022-08-11T21:30:00.000000000",
          "2022-08-12T02:45:00.000000000"
         ],
         "hovertemplate": "Train=58706_11<br>Start=%{base}<br>Finish=%{x}<br>Tâches=%{y}<extra></extra>",
         "legendgroup": "58706_11",
         "marker": {
          "color": "#B6E880",
          "pattern": {
           "shape": ""
          }
         },
         "name": "58706_11",
         "orientation": "h",
         "showlegend": true,
         "textposition": "auto",
         "type": "bar",
         "x": {
          "bdata": "oLsNAOAyKQCguw0A",
          "dtype": "i4"
         },
         "xaxis": "x",
         "y": [
          "arr_1",
          "arr_2",
          "arr_3"
         ],
         "yaxis": "y"
        },
        {
         "base": [
          "2022-08-12T02:15:00.000000000",
          "2022-08-12T02:30:00.000000000",
          "2022-08-12T04:45:00.000000000"
         ],
         "hovertemplate": "Train=412023_12<br>Start=%{base}<br>Finish=%{x}<br>Tâches=%{y}<extra></extra>",
         "legendgroup": "412023_12",
         "marker": {
          "color": "#FF97FF",
          "pattern": {
           "shape": ""
          }
         },
         "name": "412023_12",
         "orientation": "h",
         "showlegend": true,
         "textposition": "auto",
         "type": "bar",
         "x": {
          "bdata": "oLsNAOAyKQCguw0A",
          "dtype": "i4"
         },
         "xaxis": "x",
         "y": [
          "arr_1",
          "arr_2",
          "arr_3"
         ],
         "yaxis": "y"
        },
        {
         "base": [
          "2022-08-12T21:00:00.000000000",
          "2022-08-12T21:15:00.000000000",
          "2022-08-12T23:00:00.000000000"
         ],
         "hovertemplate": "Train=412202_12<br>Start=%{base}<br>Finish=%{x}<br>Tâches=%{y}<extra></extra>",
         "legendgroup": "412202_12",
         "marker": {
          "color": "#FECB52",
          "pattern": {
           "shape": ""
          }
         },
         "name": "412202_12",
         "orientation": "h",
         "showlegend": true,
         "textposition": "auto",
         "type": "bar",
         "x": {
          "bdata": "oLsNAOAyKQCguw0A",
          "dtype": "i4"
         },
         "xaxis": "x",
         "y": [
          "arr_1",
          "arr_2",
          "arr_3"
         ],
         "yaxis": "y"
        },
        {
         "base": [
          "2022-08-12T22:45:00.000000000",
          "2022-08-12T23:00:00.000000000",
          "2022-08-13T07:15:00.000000000"
         ],
         "hovertemplate": "Train=41264_12<br>Start=%{base}<br>Finish=%{x}<br>Tâches=%{y}<extra></extra>",
         "legendgroup": "41264_12",
         "marker": {
          "color": "#636efa",
          "pattern": {
           "shape": ""
          }
         },
         "name": "41264_12",
         "orientation": "h",
         "showlegend": true,
         "textposition": "auto",
         "type": "bar",
         "x": {
          "bdata": "oLsNAOAyKQCguw0A",
          "dtype": "i4"
         },
         "xaxis": "x",
         "y": [
          "arr_1",
          "arr_2",
          "arr_3"
         ],
         "yaxis": "y"
        },
        {
         "base": [
          "2022-08-12T11:15:00.000000000",
          "2022-08-12T11:30:00.000000000",
          "2022-08-12T17:45:00.000000000"
         ],
         "hovertemplate": "Train=431246_12<br>Start=%{base}<br>Finish=%{x}<br>Tâches=%{y}<extra></extra>",
         "legendgroup": "431246_12",
         "marker": {
          "color": "#EF553B",
          "pattern": {
           "shape": ""
          }
         },
         "name": "431246_12",
         "orientation": "h",
         "showlegend": true,
         "textposition": "auto",
         "type": "bar",
         "x": {
          "bdata": "oLsNAOAyKQCguw0A",
          "dtype": "i4"
         },
         "xaxis": "x",
         "y": [
          "arr_1",
          "arr_2",
          "arr_3"
         ],
         "yaxis": "y"
        },
        {
         "base": [
          "2022-08-12T05:15:00.000000000",
          "2022-08-12T05:30:00.000000000",
          "2022-08-12T06:15:00.000000000"
         ],
         "hovertemplate": "Train=431802_12<br>Start=%{base}<br>Finish=%{x}<br>Tâches=%{y}<extra></extra>",
         "legendgroup": "431802_12",
         "marker": {
          "color": "#00cc96",
          "pattern": {
           "shape": ""
          }
         },
         "name": "431802_12",
         "orientation": "h",
         "showlegend": true,
         "textposition": "auto",
         "type": "bar",
         "x": {
          "bdata": "oLsNAOAyKQCguw0A",
          "dtype": "i4"
         },
         "xaxis": "x",
         "y": [
          "arr_1",
          "arr_2",
          "arr_3"
         ],
         "yaxis": "y"
        },
        {
         "base": [
          "2022-08-12T16:00:00.000000000",
          "2022-08-12T16:15:00.000000000",
          "2022-08-12T17:30:00.000000000"
         ],
         "hovertemplate": "Train=44222_12<br>Start=%{base}<br>Finish=%{x}<br>Tâches=%{y}<extra></extra>",
         "legendgroup": "44222_12",
         "marker": {
          "color": "#ab63fa",
          "pattern": {
           "shape": ""
          }
         },
         "name": "44222_12",
         "orientation": "h",
         "showlegend": true,
         "textposition": "auto",
         "type": "bar",
         "x": {
          "bdata": "oLsNAOAyKQCguw0A",
          "dtype": "i4"
         },
         "xaxis": "x",
         "y": [
          "arr_1",
          "arr_2",
          "arr_3"
         ],
         "yaxis": "y"
        },
        {
         "base": [
          "2022-08-12T01:15:00.000000000",
          "2022-08-12T01:30:00.000000000",
          "2022-08-12T06:00:00.000000000"
         ],
         "hovertemplate": "Train=44228_12<br>Start=%{base}<br>Finish=%{x}<br>Tâches=%{y}<extra></extra>",
         "legendgroup": "44228_12",
         "marker": {
          "color": "#FFA15A",
          "pattern": {
           "shape": ""
          }
         },
         "name": "44228_12",
         "orientation": "h",
         "showlegend": true,
         "textposition": "auto",
         "type": "bar",
         "x": {
          "bdata": "oLsNAOAyKQCguw0A",
          "dtype": "i4"
         },
         "xaxis": "x",
         "y": [
          "arr_1",
          "arr_2",
          "arr_3"
         ],
         "yaxis": "y"
        },
        {
         "base": [
          "2022-08-12T10:30:00.000000000",
          "2022-08-12T10:45:00.000000000",
          "2022-08-12T19:45:00.000000000"
         ],
         "hovertemplate": "Train=44250_12<br>Start=%{base}<br>Finish=%{x}<br>Tâches=%{y}<extra></extra>",
         "legendgroup": "44250_12",
         "marker": {
          "color": "#19d3f3",
          "pattern": {
           "shape": ""
          }
         },
         "name": "44250_12",
         "orientation": "h",
         "showlegend": true,
         "textposition": "auto",
         "type": "bar",
         "x": {
          "bdata": "oLsNAOAyKQCguw0A",
          "dtype": "i4"
         },
         "xaxis": "x",
         "y": [
          "arr_1",
          "arr_2",
          "arr_3"
         ],
         "yaxis": "y"
        },
        {
         "base": [
          "2022-08-12T16:30:00.000000000",
          "2022-08-12T16:45:00.000000000",
          "2022-08-12T20:30:00.000000000"
         ],
         "hovertemplate": "Train=44865_12<br>Start=%{base}<br>Finish=%{x}<br>Tâches=%{y}<extra></extra>",
         "legendgroup": "44865_12",
         "marker": {
          "color": "#FF6692",
          "pattern": {
           "shape": ""
          }
         },
         "name": "44865_12",
         "orientation": "h",
         "showlegend": true,
         "textposition": "auto",
         "type": "bar",
         "x": {
          "bdata": "oLsNAOAyKQCguw0A",
          "dtype": "i4"
         },
         "xaxis": "x",
         "y": [
          "arr_1",
          "arr_2",
          "arr_3"
         ],
         "yaxis": "y"
        },
        {
         "base": [
          "2022-08-12T19:00:00.000000000",
          "2022-08-12T19:15:00.000000000",
          "2022-08-12T20:00:00.000000000"
         ],
         "hovertemplate": "Train=44951_12<br>Start=%{base}<br>Finish=%{x}<br>Tâches=%{y}<extra></extra>",
         "legendgroup": "44951_12",
         "marker": {
          "color": "#B6E880",
          "pattern": {
           "shape": ""
          }
         },
         "name": "44951_12",
         "orientation": "h",
         "showlegend": true,
         "textposition": "auto",
         "type": "bar",
         "x": {
          "bdata": "oLsNAOAyKQCguw0A",
          "dtype": "i4"
         },
         "xaxis": "x",
         "y": [
          "arr_1",
          "arr_2",
          "arr_3"
         ],
         "yaxis": "y"
        },
        {
         "base": [
          "2022-08-12T12:00:00.000000000",
          "2022-08-12T12:15:00.000000000",
          "2022-08-12T13:30:00.000000000"
         ],
         "hovertemplate": "Train=450237_12<br>Start=%{base}<br>Finish=%{x}<br>Tâches=%{y}<extra></extra>",
         "legendgroup": "450237_12",
         "marker": {
          "color": "#FF97FF",
          "pattern": {
           "shape": ""
          }
         },
         "name": "450237_12",
         "orientation": "h",
         "showlegend": true,
         "textposition": "auto",
         "type": "bar",
         "x": {
          "bdata": "oLsNAOAyKQCguw0A",
          "dtype": "i4"
         },
         "xaxis": "x",
         "y": [
          "arr_1",
          "arr_2",
          "arr_3"
         ],
         "yaxis": "y"
        },
        {
         "base": [
          "2022-08-12T12:45:00.000000000",
          "2022-08-12T13:00:00.000000000",
          "2022-08-13T21:45:00.000000000"
         ],
         "hovertemplate": "Train=471003_12<br>Start=%{base}<br>Finish=%{x}<br>Tâches=%{y}<extra></extra>",
         "legendgroup": "471003_12",
         "marker": {
          "color": "#FECB52",
          "pattern": {
           "shape": ""
          }
         },
         "name": "471003_12",
         "orientation": "h",
         "showlegend": true,
         "textposition": "auto",
         "type": "bar",
         "x": {
          "bdata": "oLsNAOAyKQCguw0A",
          "dtype": "i4"
         },
         "xaxis": "x",
         "y": [
          "arr_1",
          "arr_2",
          "arr_3"
         ],
         "yaxis": "y"
        },
        {
         "base": [
          "2022-08-12T17:45:00.000000000",
          "2022-08-12T18:00:00.000000000",
          "2022-08-12T20:45:00.000000000"
         ],
         "hovertemplate": "Train=47214_12<br>Start=%{base}<br>Finish=%{x}<br>Tâches=%{y}<extra></extra>",
         "legendgroup": "47214_12",
         "marker": {
          "color": "#636efa",
          "pattern": {
           "shape": ""
          }
         },
         "name": "47214_12",
         "orientation": "h",
         "showlegend": true,
         "textposition": "auto",
         "type": "bar",
         "x": {
          "bdata": "oLsNAOAyKQCguw0A",
          "dtype": "i4"
         },
         "xaxis": "x",
         "y": [
          "arr_1",
          "arr_2",
          "arr_3"
         ],
         "yaxis": "y"
        },
        {
         "base": [
          "2022-08-12T09:15:00.000000000",
          "2022-08-12T09:30:00.000000000",
          "2022-08-12T20:15:00.000000000"
         ],
         "hovertemplate": "Train=47262_12<br>Start=%{base}<br>Finish=%{x}<br>Tâches=%{y}<extra></extra>",
         "legendgroup": "47262_12",
         "marker": {
          "color": "#EF553B",
          "pattern": {
           "shape": ""
          }
         },
         "name": "47262_12",
         "orientation": "h",
         "showlegend": true,
         "textposition": "auto",
         "type": "bar",
         "x": {
          "bdata": "oLsNAOAyKQCguw0A",
          "dtype": "i4"
         },
         "xaxis": "x",
         "y": [
          "arr_1",
          "arr_2",
          "arr_3"
         ],
         "yaxis": "y"
        },
        {
         "base": [
          "2022-08-12T19:45:00.000000000",
          "2022-08-12T20:00:00.000000000",
          "2022-08-12T21:00:00.000000000"
         ],
         "hovertemplate": "Train=47822_12<br>Start=%{base}<br>Finish=%{x}<br>Tâches=%{y}<extra></extra>",
         "legendgroup": "47822_12",
         "marker": {
          "color": "#00cc96",
          "pattern": {
           "shape": ""
          }
         },
         "name": "47822_12",
         "orientation": "h",
         "showlegend": true,
         "textposition": "auto",
         "type": "bar",
         "x": {
          "bdata": "oLsNAOAyKQCguw0A",
          "dtype": "i4"
         },
         "xaxis": "x",
         "y": [
          "arr_1",
          "arr_2",
          "arr_3"
         ],
         "yaxis": "y"
        },
        {
         "base": [
          "2022-08-12T07:45:00.000000000",
          "2022-08-12T08:00:00.000000000",
          "2022-08-12T19:30:00.000000000"
         ],
         "hovertemplate": "Train=48216_12<br>Start=%{base}<br>Finish=%{x}<br>Tâches=%{y}<extra></extra>",
         "legendgroup": "48216_12",
         "marker": {
          "color": "#ab63fa",
          "pattern": {
           "shape": ""
          }
         },
         "name": "48216_12",
         "orientation": "h",
         "showlegend": true,
         "textposition": "auto",
         "type": "bar",
         "x": {
          "bdata": "oLsNAOAyKQCguw0A",
          "dtype": "i4"
         },
         "xaxis": "x",
         "y": [
          "arr_1",
          "arr_2",
          "arr_3"
         ],
         "yaxis": "y"
        },
        {
         "base": [
          "2022-08-12T11:45:00.000000000",
          "2022-08-12T12:00:00.000000000",
          "2022-08-12T13:15:00.000000000"
         ],
         "hovertemplate": "Train=489026_12<br>Start=%{base}<br>Finish=%{x}<br>Tâches=%{y}<extra></extra>",
         "legendgroup": "489026_12",
         "marker": {
          "color": "#FFA15A",
          "pattern": {
           "shape": ""
          }
         },
         "name": "489026_12",
         "orientation": "h",
         "showlegend": true,
         "textposition": "auto",
         "type": "bar",
         "x": {
          "bdata": "oLsNAOAyKQCguw0A",
          "dtype": "i4"
         },
         "xaxis": "x",
         "y": [
          "arr_1",
          "arr_2",
          "arr_3"
         ],
         "yaxis": "y"
        },
        {
         "base": [
          "2022-08-12T21:45:00.000000000",
          "2022-08-12T22:00:00.000000000",
          "2022-08-12T23:45:00.000000000"
         ],
         "hovertemplate": "Train=489042_12<br>Start=%{base}<br>Finish=%{x}<br>Tâches=%{y}<extra></extra>",
         "legendgroup": "489042_12",
         "marker": {
          "color": "#19d3f3",
          "pattern": {
           "shape": ""
          }
         },
         "name": "489042_12",
         "orientation": "h",
         "showlegend": true,
         "textposition": "auto",
         "type": "bar",
         "x": {
          "bdata": "oLsNAOAyKQCguw0A",
          "dtype": "i4"
         },
         "xaxis": "x",
         "y": [
          "arr_1",
          "arr_2",
          "arr_3"
         ],
         "yaxis": "y"
        },
        {
         "base": [
          "2022-08-12T22:15:00.000000000",
          "2022-08-12T22:30:00.000000000",
          "2022-08-13T03:30:00.000000000"
         ],
         "hovertemplate": "Train=54234_12<br>Start=%{base}<br>Finish=%{x}<br>Tâches=%{y}<extra></extra>",
         "legendgroup": "54234_12",
         "marker": {
          "color": "#FF6692",
          "pattern": {
           "shape": ""
          }
         },
         "name": "54234_12",
         "orientation": "h",
         "showlegend": true,
         "textposition": "auto",
         "type": "bar",
         "x": {
          "bdata": "oLsNAOAyKQCguw0A",
          "dtype": "i4"
         },
         "xaxis": "x",
         "y": [
          "arr_1",
          "arr_2",
          "arr_3"
         ],
         "yaxis": "y"
        },
        {
         "base": [
          "2022-08-12T07:45:00.000000000",
          "2022-08-12T08:00:00.000000000",
          "2022-08-12T08:45:00.000000000"
         ],
         "hovertemplate": "Train=55396_12<br>Start=%{base}<br>Finish=%{x}<br>Tâches=%{y}<extra></extra>",
         "legendgroup": "55396_12",
         "marker": {
          "color": "#B6E880",
          "pattern": {
           "shape": ""
          }
         },
         "name": "55396_12",
         "orientation": "h",
         "showlegend": true,
         "textposition": "auto",
         "type": "bar",
         "x": {
          "bdata": "oLsNAOAyKQCguw0A",
          "dtype": "i4"
         },
         "xaxis": "x",
         "y": [
          "arr_1",
          "arr_2",
          "arr_3"
         ],
         "yaxis": "y"
        },
        {
         "base": [
          "2022-08-12T21:30:00.000000000",
          "2022-08-12T21:45:00.000000000",
          "2022-08-12T22:30:00.000000000"
         ],
         "hovertemplate": "Train=56135_12<br>Start=%{base}<br>Finish=%{x}<br>Tâches=%{y}<extra></extra>",
         "legendgroup": "56135_12",
         "marker": {
          "color": "#FF97FF",
          "pattern": {
           "shape": ""
          }
         },
         "name": "56135_12",
         "orientation": "h",
         "showlegend": true,
         "textposition": "auto",
         "type": "bar",
         "x": {
          "bdata": "oLsNAOAyKQCguw0A",
          "dtype": "i4"
         },
         "xaxis": "x",
         "y": [
          "arr_1",
          "arr_2",
          "arr_3"
         ],
         "yaxis": "y"
        },
        {
         "base": [
          "2022-08-12T02:45:00.000000000",
          "2022-08-12T03:00:00.000000000",
          "2022-08-12T12:15:00.000000000"
         ],
         "hovertemplate": "Train=56730_12<br>Start=%{base}<br>Finish=%{x}<br>Tâches=%{y}<extra></extra>",
         "legendgroup": "56730_12",
         "marker": {
          "color": "#FECB52",
          "pattern": {
           "shape": ""
          }
         },
         "name": "56730_12",
         "orientation": "h",
         "showlegend": true,
         "textposition": "auto",
         "type": "bar",
         "x": {
          "bdata": "oLsNAOAyKQCguw0A",
          "dtype": "i4"
         },
         "xaxis": "x",
         "y": [
          "arr_1",
          "arr_2",
          "arr_3"
         ],
         "yaxis": "y"
        },
        {
         "base": [
          "2022-08-12T21:15:00.000000000",
          "2022-08-12T21:30:00.000000000",
          "2022-08-13T09:00:00.000000000"
         ],
         "hovertemplate": "Train=58706_12<br>Start=%{base}<br>Finish=%{x}<br>Tâches=%{y}<extra></extra>",
         "legendgroup": "58706_12",
         "marker": {
          "color": "#636efa",
          "pattern": {
           "shape": ""
          }
         },
         "name": "58706_12",
         "orientation": "h",
         "showlegend": true,
         "textposition": "auto",
         "type": "bar",
         "x": {
          "bdata": "oLsNAOAyKQCguw0A",
          "dtype": "i4"
         },
         "xaxis": "x",
         "y": [
          "arr_1",
          "arr_2",
          "arr_3"
         ],
         "yaxis": "y"
        },
        {
         "base": [
          "2022-08-12T09:30:00.000000000",
          "2022-08-12T09:45:00.000000000",
          "2022-08-12T21:45:00.000000000"
         ],
         "hovertemplate": "Train=71270_12<br>Start=%{base}<br>Finish=%{x}<br>Tâches=%{y}<extra></extra>",
         "legendgroup": "71270_12",
         "marker": {
          "color": "#EF553B",
          "pattern": {
           "shape": ""
          }
         },
         "name": "71270_12",
         "orientation": "h",
         "showlegend": true,
         "textposition": "auto",
         "type": "bar",
         "x": {
          "bdata": "oLsNAOAyKQCguw0A",
          "dtype": "i4"
         },
         "xaxis": "x",
         "y": [
          "arr_1",
          "arr_2",
          "arr_3"
         ],
         "yaxis": "y"
        },
        {
         "base": [
          "2022-08-13T02:15:00.000000000",
          "2022-08-13T02:30:00.000000000",
          "2022-08-13T03:45:00.000000000"
         ],
         "hovertemplate": "Train=412023_13<br>Start=%{base}<br>Finish=%{x}<br>Tâches=%{y}<extra></extra>",
         "legendgroup": "412023_13",
         "marker": {
          "color": "#00cc96",
          "pattern": {
           "shape": ""
          }
         },
         "name": "412023_13",
         "orientation": "h",
         "showlegend": true,
         "textposition": "auto",
         "type": "bar",
         "x": {
          "bdata": "oLsNAOAyKQCguw0A",
          "dtype": "i4"
         },
         "xaxis": "x",
         "y": [
          "arr_1",
          "arr_2",
          "arr_3"
         ],
         "yaxis": "y"
        },
        {
         "base": [
          "2022-08-13T22:15:00.000000000",
          "2022-08-13T22:30:00.000000000",
          "2022-08-14T05:30:00.000000000"
         ],
         "hovertemplate": "Train=41230_13<br>Start=%{base}<br>Finish=%{x}<br>Tâches=%{y}<extra></extra>",
         "legendgroup": "41230_13",
         "marker": {
          "color": "#ab63fa",
          "pattern": {
           "shape": ""
          }
         },
         "name": "41230_13",
         "orientation": "h",
         "showlegend": true,
         "textposition": "auto",
         "type": "bar",
         "x": {
          "bdata": "oLsNAOAyKQCguw0A",
          "dtype": "i4"
         },
         "xaxis": "x",
         "y": [
          "arr_1",
          "arr_2",
          "arr_3"
         ],
         "yaxis": "y"
        },
        {
         "base": [
          "2022-08-13T05:15:00.000000000",
          "2022-08-13T05:30:00.000000000",
          "2022-08-14T01:45:00.000000000"
         ],
         "hovertemplate": "Train=431802_13<br>Start=%{base}<br>Finish=%{x}<br>Tâches=%{y}<extra></extra>",
         "legendgroup": "431802_13",
         "marker": {
          "color": "#FFA15A",
          "pattern": {
           "shape": ""
          }
         },
         "name": "431802_13",
         "orientation": "h",
         "showlegend": true,
         "textposition": "auto",
         "type": "bar",
         "x": {
          "bdata": "oLsNAOAyKQCguw0A",
          "dtype": "i4"
         },
         "xaxis": "x",
         "y": [
          "arr_1",
          "arr_2",
          "arr_3"
         ],
         "yaxis": "y"
        },
        {
         "base": [
          "2022-08-13T16:15:00.000000000",
          "2022-08-13T16:30:00.000000000",
          "2022-08-13T21:00:00.000000000"
         ],
         "hovertemplate": "Train=44222_13<br>Start=%{base}<br>Finish=%{x}<br>Tâches=%{y}<extra></extra>",
         "legendgroup": "44222_13",
         "marker": {
          "color": "#19d3f3",
          "pattern": {
           "shape": ""
          }
         },
         "name": "44222_13",
         "orientation": "h",
         "showlegend": true,
         "textposition": "auto",
         "type": "bar",
         "x": {
          "bdata": "oLsNAOAyKQCguw0A",
          "dtype": "i4"
         },
         "xaxis": "x",
         "y": [
          "arr_1",
          "arr_2",
          "arr_3"
         ],
         "yaxis": "y"
        },
        {
         "base": [
          "2022-08-13T01:15:00.000000000",
          "2022-08-13T01:30:00.000000000",
          "2022-08-13T04:15:00.000000000"
         ],
         "hovertemplate": "Train=44228_13<br>Start=%{base}<br>Finish=%{x}<br>Tâches=%{y}<extra></extra>",
         "legendgroup": "44228_13",
         "marker": {
          "color": "#FF6692",
          "pattern": {
           "shape": ""
          }
         },
         "name": "44228_13",
         "orientation": "h",
         "showlegend": true,
         "textposition": "auto",
         "type": "bar",
         "x": {
          "bdata": "oLsNAOAyKQCguw0A",
          "dtype": "i4"
         },
         "xaxis": "x",
         "y": [
          "arr_1",
          "arr_2",
          "arr_3"
         ],
         "yaxis": "y"
        },
        {
         "base": [
          "2022-08-13T10:45:00.000000000",
          "2022-08-13T11:00:00.000000000",
          "2022-08-13T11:45:00.000000000"
         ],
         "hovertemplate": "Train=44250_13<br>Start=%{base}<br>Finish=%{x}<br>Tâches=%{y}<extra></extra>",
         "legendgroup": "44250_13",
         "marker": {
          "color": "#B6E880",
          "pattern": {
           "shape": ""
          }
         },
         "name": "44250_13",
         "orientation": "h",
         "showlegend": true,
         "textposition": "auto",
         "type": "bar",
         "x": {
          "bdata": "oLsNAOAyKQCguw0A",
          "dtype": "i4"
         },
         "xaxis": "x",
         "y": [
          "arr_1",
          "arr_2",
          "arr_3"
         ],
         "yaxis": "y"
        },
        {
         "base": [
          "2022-08-13T16:15:00.000000000",
          "2022-08-13T16:30:00.000000000",
          "2022-08-14T00:15:00.000000000"
         ],
         "hovertemplate": "Train=44864_13<br>Start=%{base}<br>Finish=%{x}<br>Tâches=%{y}<extra></extra>",
         "legendgroup": "44864_13",
         "marker": {
          "color": "#FF97FF",
          "pattern": {
           "shape": ""
          }
         },
         "name": "44864_13",
         "orientation": "h",
         "showlegend": true,
         "textposition": "auto",
         "type": "bar",
         "x": {
          "bdata": "oLsNAOAyKQCguw0A",
          "dtype": "i4"
         },
         "xaxis": "x",
         "y": [
          "arr_1",
          "arr_2",
          "arr_3"
         ],
         "yaxis": "y"
        },
        {
         "base": [
          "2022-08-13T12:00:00.000000000",
          "2022-08-13T12:15:00.000000000",
          "2022-08-14T06:00:00.000000000"
         ],
         "hovertemplate": "Train=450235_13<br>Start=%{base}<br>Finish=%{x}<br>Tâches=%{y}<extra></extra>",
         "legendgroup": "450235_13",
         "marker": {
          "color": "#FECB52",
          "pattern": {
           "shape": ""
          }
         },
         "name": "450235_13",
         "orientation": "h",
         "showlegend": true,
         "textposition": "auto",
         "type": "bar",
         "x": {
          "bdata": "oLsNAOAyKQCguw0A",
          "dtype": "i4"
         },
         "xaxis": "x",
         "y": [
          "arr_1",
          "arr_2",
          "arr_3"
         ],
         "yaxis": "y"
        },
        {
         "base": [
          "2022-08-13T02:00:00.000000000",
          "2022-08-13T02:15:00.000000000",
          "2022-08-13T21:30:00.000000000"
         ],
         "hovertemplate": "Train=47240_13<br>Start=%{base}<br>Finish=%{x}<br>Tâches=%{y}<extra></extra>",
         "legendgroup": "47240_13",
         "marker": {
          "color": "#636efa",
          "pattern": {
           "shape": ""
          }
         },
         "name": "47240_13",
         "orientation": "h",
         "showlegend": true,
         "textposition": "auto",
         "type": "bar",
         "x": {
          "bdata": "oLsNAOAyKQCguw0A",
          "dtype": "i4"
         },
         "xaxis": "x",
         "y": [
          "arr_1",
          "arr_2",
          "arr_3"
         ],
         "yaxis": "y"
        },
        {
         "base": [
          "2022-08-13T09:30:00.000000000",
          "2022-08-13T09:45:00.000000000",
          "2022-08-13T10:30:00.000000000"
         ],
         "hovertemplate": "Train=47262_13<br>Start=%{base}<br>Finish=%{x}<br>Tâches=%{y}<extra></extra>",
         "legendgroup": "47262_13",
         "marker": {
          "color": "#EF553B",
          "pattern": {
           "shape": ""
          }
         },
         "name": "47262_13",
         "orientation": "h",
         "showlegend": true,
         "textposition": "auto",
         "type": "bar",
         "x": {
          "bdata": "oLsNAOAyKQCguw0A",
          "dtype": "i4"
         },
         "xaxis": "x",
         "y": [
          "arr_1",
          "arr_2",
          "arr_3"
         ],
         "yaxis": "y"
        },
        {
         "base": [
          "2022-08-13T19:45:00.000000000",
          "2022-08-13T20:00:00.000000000",
          "2022-08-13T21:15:00.000000000"
         ],
         "hovertemplate": "Train=47822_13<br>Start=%{base}<br>Finish=%{x}<br>Tâches=%{y}<extra></extra>",
         "legendgroup": "47822_13",
         "marker": {
          "color": "#00cc96",
          "pattern": {
           "shape": ""
          }
         },
         "name": "47822_13",
         "orientation": "h",
         "showlegend": true,
         "textposition": "auto",
         "type": "bar",
         "x": {
          "bdata": "oLsNAOAyKQCguw0A",
          "dtype": "i4"
         },
         "xaxis": "x",
         "y": [
          "arr_1",
          "arr_2",
          "arr_3"
         ],
         "yaxis": "y"
        },
        {
         "base": [
          "2022-08-13T11:45:00.000000000",
          "2022-08-13T12:00:00.000000000",
          "2022-08-14T09:00:00.000000000"
         ],
         "hovertemplate": "Train=489026_13<br>Start=%{base}<br>Finish=%{x}<br>Tâches=%{y}<extra></extra>",
         "legendgroup": "489026_13",
         "marker": {
          "color": "#ab63fa",
          "pattern": {
           "shape": ""
          }
         },
         "name": "489026_13",
         "orientation": "h",
         "showlegend": true,
         "textposition": "auto",
         "type": "bar",
         "x": {
          "bdata": "oLsNAOAyKQCguw0A",
          "dtype": "i4"
         },
         "xaxis": "x",
         "y": [
          "arr_1",
          "arr_2",
          "arr_3"
         ],
         "yaxis": "y"
        },
        {
         "base": [
          "2022-08-13T22:15:00.000000000",
          "2022-08-13T22:30:00.000000000",
          "2022-08-13T23:15:00.000000000"
         ],
         "hovertemplate": "Train=54234_13<br>Start=%{base}<br>Finish=%{x}<br>Tâches=%{y}<extra></extra>",
         "legendgroup": "54234_13",
         "marker": {
          "color": "#FFA15A",
          "pattern": {
           "shape": ""
          }
         },
         "name": "54234_13",
         "orientation": "h",
         "showlegend": true,
         "textposition": "auto",
         "type": "bar",
         "x": {
          "bdata": "oLsNAOAyKQCguw0A",
          "dtype": "i4"
         },
         "xaxis": "x",
         "y": [
          "arr_1",
          "arr_2",
          "arr_3"
         ],
         "yaxis": "y"
        },
        {
         "base": [
          "2022-08-14T00:00:00.000000000",
          "2022-08-14T00:15:00.000000000",
          "2022-08-14T08:45:00.000000000"
         ],
         "hovertemplate": "Train=55390_13<br>Start=%{base}<br>Finish=%{x}<br>Tâches=%{y}<extra></extra>",
         "legendgroup": "55390_13",
         "marker": {
          "color": "#19d3f3",
          "pattern": {
           "shape": ""
          }
         },
         "name": "55390_13",
         "orientation": "h",
         "showlegend": true,
         "textposition": "auto",
         "type": "bar",
         "x": {
          "bdata": "oLsNAOAyKQCguw0A",
          "dtype": "i4"
         },
         "xaxis": "x",
         "y": [
          "arr_1",
          "arr_2",
          "arr_3"
         ],
         "yaxis": "y"
        },
        {
         "base": [
          "2022-08-13T07:45:00.000000000",
          "2022-08-13T08:00:00.000000000",
          "2022-08-14T03:45:00.000000000"
         ],
         "hovertemplate": "Train=55396_13<br>Start=%{base}<br>Finish=%{x}<br>Tâches=%{y}<extra></extra>",
         "legendgroup": "55396_13",
         "marker": {
          "color": "#FF6692",
          "pattern": {
           "shape": ""
          }
         },
         "name": "55396_13",
         "orientation": "h",
         "showlegend": true,
         "textposition": "auto",
         "type": "bar",
         "x": {
          "bdata": "oLsNAOAyKQCguw0A",
          "dtype": "i4"
         },
         "xaxis": "x",
         "y": [
          "arr_1",
          "arr_2",
          "arr_3"
         ],
         "yaxis": "y"
        },
        {
         "base": [
          "2022-08-13T21:30:00.000000000",
          "2022-08-13T21:45:00.000000000",
          "2022-08-13T22:45:00.000000000"
         ],
         "hovertemplate": "Train=56135_13<br>Start=%{base}<br>Finish=%{x}<br>Tâches=%{y}<extra></extra>",
         "legendgroup": "56135_13",
         "marker": {
          "color": "#B6E880",
          "pattern": {
           "shape": ""
          }
         },
         "name": "56135_13",
         "orientation": "h",
         "showlegend": true,
         "textposition": "auto",
         "type": "bar",
         "x": {
          "bdata": "oLsNAOAyKQCguw0A",
          "dtype": "i4"
         },
         "xaxis": "x",
         "y": [
          "arr_1",
          "arr_2",
          "arr_3"
         ],
         "yaxis": "y"
        },
        {
         "base": [
          "2022-08-13T02:45:00.000000000",
          "2022-08-13T03:00:00.000000000",
          "2022-08-13T04:00:00.000000000"
         ],
         "hovertemplate": "Train=56730_13<br>Start=%{base}<br>Finish=%{x}<br>Tâches=%{y}<extra></extra>",
         "legendgroup": "56730_13",
         "marker": {
          "color": "#FF97FF",
          "pattern": {
           "shape": ""
          }
         },
         "name": "56730_13",
         "orientation": "h",
         "showlegend": true,
         "textposition": "auto",
         "type": "bar",
         "x": {
          "bdata": "oLsNAOAyKQCguw0A",
          "dtype": "i4"
         },
         "xaxis": "x",
         "y": [
          "arr_1",
          "arr_2",
          "arr_3"
         ],
         "yaxis": "y"
        },
        {
         "base": [
          "2022-08-13T21:15:00.000000000",
          "2022-08-13T21:30:00.000000000",
          "2022-08-13T22:15:00.000000000"
         ],
         "hovertemplate": "Train=58706_13<br>Start=%{base}<br>Finish=%{x}<br>Tâches=%{y}<extra></extra>",
         "legendgroup": "58706_13",
         "marker": {
          "color": "#FECB52",
          "pattern": {
           "shape": ""
          }
         },
         "name": "58706_13",
         "orientation": "h",
         "showlegend": true,
         "textposition": "auto",
         "type": "bar",
         "x": {
          "bdata": "oLsNAOAyKQCguw0A",
          "dtype": "i4"
         },
         "xaxis": "x",
         "y": [
          "arr_1",
          "arr_2",
          "arr_3"
         ],
         "yaxis": "y"
        },
        {
         "base": [
          "2022-08-14T02:45:00.000000000",
          "2022-08-14T03:00:00.000000000",
          "2022-08-14T04:00:00.000000000"
         ],
         "hovertemplate": "Train=56730_14<br>Start=%{base}<br>Finish=%{x}<br>Tâches=%{y}<extra></extra>",
         "legendgroup": "56730_14",
         "marker": {
          "color": "#636efa",
          "pattern": {
           "shape": ""
          }
         },
         "name": "56730_14",
         "orientation": "h",
         "showlegend": true,
         "textposition": "auto",
         "type": "bar",
         "x": {
          "bdata": "oLsNAOAyKQCguw0A",
          "dtype": "i4"
         },
         "xaxis": "x",
         "y": [
          "arr_1",
          "arr_2",
          "arr_3"
         ],
         "yaxis": "y"
        },
        {
         "base": [
          "2022-08-09T11:00:00.000000000",
          "2022-08-09T11:30:00.000000000",
          "2022-08-09T14:00:00.000000000",
          "2022-08-09T15:15:00.000000000"
         ],
         "hovertemplate": "Train=400006_09<br>Start=%{base}<br>Finish=%{x}<br>Tâches=%{y}<extra></extra>",
         "legendgroup": "400006_09",
         "marker": {
          "color": "#EF553B",
          "pattern": {
           "shape": ""
          }
         },
         "name": "400006_09",
         "orientation": "h",
         "showlegend": true,
         "textposition": "auto",
         "type": "bar",
         "x": {
          "bdata": "oLsNAEBUiQCguw0AgE8SAA==",
          "dtype": "i4"
         },
         "xaxis": "x",
         "y": [
          "dep_1",
          "dep_2",
          "dep_3",
          "dep_4"
         ],
         "yaxis": "y"
        },
        {
         "base": [
          "2022-08-09T05:15:00.000000000",
          "2022-08-09T05:30:00.000000000",
          "2022-08-09T08:00:00.000000000",
          "2022-08-09T22:15:00.000000000"
         ],
         "hovertemplate": "Train=400016_09<br>Start=%{base}<br>Finish=%{x}<br>Tâches=%{y}<extra></extra>",
         "legendgroup": "400016_09",
         "marker": {
          "color": "#00cc96",
          "pattern": {
           "shape": ""
          }
         },
         "name": "400016_09",
         "orientation": "h",
         "showlegend": true,
         "textposition": "auto",
         "type": "bar",
         "x": {
          "bdata": "oLsNAEBUiQCguw0AgE8SAA==",
          "dtype": "i4"
         },
         "xaxis": "x",
         "y": [
          "dep_1",
          "dep_2",
          "dep_3",
          "dep_4"
         ],
         "yaxis": "y"
        },
        {
         "base": [
          "2022-08-09T06:00:00.000000000",
          "2022-08-09T06:15:00.000000000",
          "2022-08-09T08:45:00.000000000",
          "2022-08-09T20:30:00.000000000"
         ],
         "hovertemplate": "Train=400110_09<br>Start=%{base}<br>Finish=%{x}<br>Tâches=%{y}<extra></extra>",
         "legendgroup": "400110_09",
         "marker": {
          "color": "#ab63fa",
          "pattern": {
           "shape": ""
          }
         },
         "name": "400110_09",
         "orientation": "h",
         "showlegend": true,
         "textposition": "auto",
         "type": "bar",
         "x": {
          "bdata": "oLsNAEBUiQCguw0AgE8SAA==",
          "dtype": "i4"
         },
         "xaxis": "x",
         "y": [
          "dep_1",
          "dep_2",
          "dep_3",
          "dep_4"
         ],
         "yaxis": "y"
        },
        {
         "base": [
          "2022-08-09T11:30:00.000000000",
          "2022-08-09T11:45:00.000000000",
          "2022-08-09T14:15:00.000000000",
          "2022-08-09T14:30:00.000000000"
         ],
         "hovertemplate": "Train=431035_09<br>Start=%{base}<br>Finish=%{x}<br>Tâches=%{y}<extra></extra>",
         "legendgroup": "431035_09",
         "marker": {
          "color": "#FFA15A",
          "pattern": {
           "shape": ""
          }
         },
         "name": "431035_09",
         "orientation": "h",
         "showlegend": true,
         "textposition": "auto",
         "type": "bar",
         "x": {
          "bdata": "oLsNAEBUiQCguw0AgE8SAA==",
          "dtype": "i4"
         },
         "xaxis": "x",
         "y": [
          "dep_1",
          "dep_2",
          "dep_3",
          "dep_4"
         ],
         "yaxis": "y"
        },
        {
         "base": [
          "2022-08-09T01:30:00.000000000",
          "2022-08-09T02:00:00.000000000",
          "2022-08-09T04:30:00.000000000",
          "2022-08-09T05:45:00.000000000"
         ],
         "hovertemplate": "Train=431091_09<br>Start=%{base}<br>Finish=%{x}<br>Tâches=%{y}<extra></extra>",
         "legendgroup": "431091_09",
         "marker": {
          "color": "#19d3f3",
          "pattern": {
           "shape": ""
          }
         },
         "name": "431091_09",
         "orientation": "h",
         "showlegend": true,
         "textposition": "auto",
         "type": "bar",
         "x": {
          "bdata": "oLsNAEBUiQCguw0AgE8SAA==",
          "dtype": "i4"
         },
         "xaxis": "x",
         "y": [
          "dep_1",
          "dep_2",
          "dep_3",
          "dep_4"
         ],
         "yaxis": "y"
        },
        {
         "base": [
          "2022-08-09T14:30:00.000000000",
          "2022-08-09T14:45:00.000000000",
          "2022-08-09T17:15:00.000000000",
          "2022-08-09T17:30:00.000000000"
         ],
         "hovertemplate": "Train=44203_09<br>Start=%{base}<br>Finish=%{x}<br>Tâches=%{y}<extra></extra>",
         "legendgroup": "44203_09",
         "marker": {
          "color": "#FF6692",
          "pattern": {
           "shape": ""
          }
         },
         "name": "44203_09",
         "orientation": "h",
         "showlegend": true,
         "textposition": "auto",
         "type": "bar",
         "x": {
          "bdata": "oLsNAEBUiQCguw0AgE8SAA==",
          "dtype": "i4"
         },
         "xaxis": "x",
         "y": [
          "dep_1",
          "dep_2",
          "dep_3",
          "dep_4"
         ],
         "yaxis": "y"
        },
        {
         "base": [
          "2022-08-09T10:00:00.000000000",
          "2022-08-09T10:15:00.000000000",
          "2022-08-09T12:45:00.000000000",
          "2022-08-09T13:00:00.000000000"
         ],
         "hovertemplate": "Train=44241_09<br>Start=%{base}<br>Finish=%{x}<br>Tâches=%{y}<extra></extra>",
         "legendgroup": "44241_09",
         "marker": {
          "color": "#B6E880",
          "pattern": {
           "shape": ""
          }
         },
         "name": "44241_09",
         "orientation": "h",
         "showlegend": true,
         "textposition": "auto",
         "type": "bar",
         "x": {
          "bdata": "oLsNAEBUiQCguw0AgE8SAA==",
          "dtype": "i4"
         },
         "xaxis": "x",
         "y": [
          "dep_1",
          "dep_2",
          "dep_3",
          "dep_4"
         ],
         "yaxis": "y"
        },
        {
         "base": [
          "2022-08-08T23:45:00.000000000",
          "2022-08-09T00:00:00.000000000",
          "2022-08-09T02:30:00.000000000",
          "2022-08-09T02:45:00.000000000"
         ],
         "hovertemplate": "Train=44249_09<br>Start=%{base}<br>Finish=%{x}<br>Tâches=%{y}<extra></extra>",
         "legendgroup": "44249_09",
         "marker": {
          "color": "#FF97FF",
          "pattern": {
           "shape": ""
          }
         },
         "name": "44249_09",
         "orientation": "h",
         "showlegend": true,
         "textposition": "auto",
         "type": "bar",
         "x": {
          "bdata": "oLsNAEBUiQCguw0AgE8SAA==",
          "dtype": "i4"
         },
         "xaxis": "x",
         "y": [
          "dep_1",
          "dep_2",
          "dep_3",
          "dep_4"
         ],
         "yaxis": "y"
        },
        {
         "base": [
          "2022-08-08T23:30:00.000000000",
          "2022-08-08T23:45:00.000000000",
          "2022-08-09T02:15:00.000000000",
          "2022-08-09T07:45:00.000000000"
         ],
         "hovertemplate": "Train=44806_09<br>Start=%{base}<br>Finish=%{x}<br>Tâches=%{y}<extra></extra>",
         "legendgroup": "44806_09",
         "marker": {
          "color": "#FECB52",
          "pattern": {
           "shape": ""
          }
         },
         "name": "44806_09",
         "orientation": "h",
         "showlegend": true,
         "textposition": "auto",
         "type": "bar",
         "x": {
          "bdata": "oLsNAEBUiQCguw0AgE8SAA==",
          "dtype": "i4"
         },
         "xaxis": "x",
         "y": [
          "dep_1",
          "dep_2",
          "dep_3",
          "dep_4"
         ],
         "yaxis": "y"
        },
        {
         "base": [
          "2022-08-09T00:00:00.000000000",
          "2022-08-09T00:15:00.000000000",
          "2022-08-09T02:45:00.000000000",
          "2022-08-09T14:00:00.000000000"
         ],
         "hovertemplate": "Train=47245_09<br>Start=%{base}<br>Finish=%{x}<br>Tâches=%{y}<extra></extra>",
         "legendgroup": "47245_09",
         "marker": {
          "color": "#636efa",
          "pattern": {
           "shape": ""
          }
         },
         "name": "47245_09",
         "orientation": "h",
         "showlegend": true,
         "textposition": "auto",
         "type": "bar",
         "x": {
          "bdata": "oLsNAEBUiQCguw0AgE8SAA==",
          "dtype": "i4"
         },
         "xaxis": "x",
         "y": [
          "dep_1",
          "dep_2",
          "dep_3",
          "dep_4"
         ],
         "yaxis": "y"
        },
        {
         "base": [
          "2022-08-09T07:30:00.000000000",
          "2022-08-09T07:45:00.000000000",
          "2022-08-09T10:15:00.000000000",
          "2022-08-09T10:30:00.000000000"
         ],
         "hovertemplate": "Train=47289_09<br>Start=%{base}<br>Finish=%{x}<br>Tâches=%{y}<extra></extra>",
         "legendgroup": "47289_09",
         "marker": {
          "color": "#EF553B",
          "pattern": {
           "shape": ""
          }
         },
         "name": "47289_09",
         "orientation": "h",
         "showlegend": true,
         "textposition": "auto",
         "type": "bar",
         "x": {
          "bdata": "oLsNAEBUiQCguw0AgE8SAA==",
          "dtype": "i4"
         },
         "xaxis": "x",
         "y": [
          "dep_1",
          "dep_2",
          "dep_3",
          "dep_4"
         ],
         "yaxis": "y"
        },
        {
         "base": [
          "2022-08-09T19:00:00.000000000",
          "2022-08-09T19:15:00.000000000",
          "2022-08-09T21:45:00.000000000",
          "2022-08-09T22:00:00.000000000"
         ],
         "hovertemplate": "Train=47821_09<br>Start=%{base}<br>Finish=%{x}<br>Tâches=%{y}<extra></extra>",
         "legendgroup": "47821_09",
         "marker": {
          "color": "#00cc96",
          "pattern": {
           "shape": ""
          }
         },
         "name": "47821_09",
         "orientation": "h",
         "showlegend": true,
         "textposition": "auto",
         "type": "bar",
         "x": {
          "bdata": "oLsNAEBUiQCguw0AgE8SAA==",
          "dtype": "i4"
         },
         "xaxis": "x",
         "y": [
          "dep_1",
          "dep_2",
          "dep_3",
          "dep_4"
         ],
         "yaxis": "y"
        },
        {
         "base": [
          "2022-08-09T00:30:00.000000000",
          "2022-08-09T00:45:00.000000000",
          "2022-08-09T03:15:00.000000000",
          "2022-08-09T05:45:00.000000000"
         ],
         "hovertemplate": "Train=489447_09<br>Start=%{base}<br>Finish=%{x}<br>Tâches=%{y}<extra></extra>",
         "legendgroup": "489447_09",
         "marker": {
          "color": "#ab63fa",
          "pattern": {
           "shape": ""
          }
         },
         "name": "489447_09",
         "orientation": "h",
         "showlegend": true,
         "textposition": "auto",
         "type": "bar",
         "x": {
          "bdata": "oLsNAEBUiQCguw0AgE8SAA==",
          "dtype": "i4"
         },
         "xaxis": "x",
         "y": [
          "dep_1",
          "dep_2",
          "dep_3",
          "dep_4"
         ],
         "yaxis": "y"
        },
        {
         "base": [
          "2022-08-09T11:15:00.000000000",
          "2022-08-09T12:00:00.000000000",
          "2022-08-09T14:30:00.000000000",
          "2022-08-09T15:45:00.000000000"
         ],
         "hovertemplate": "Train=52672_09<br>Start=%{base}<br>Finish=%{x}<br>Tâches=%{y}<extra></extra>",
         "legendgroup": "52672_09",
         "marker": {
          "color": "#FFA15A",
          "pattern": {
           "shape": ""
          }
         },
         "name": "52672_09",
         "orientation": "h",
         "showlegend": true,
         "textposition": "auto",
         "type": "bar",
         "x": {
          "bdata": "oLsNAEBUiQCguw0AgE8SAA==",
          "dtype": "i4"
         },
         "xaxis": "x",
         "y": [
          "dep_1",
          "dep_2",
          "dep_3",
          "dep_4"
         ],
         "yaxis": "y"
        },
        {
         "base": [
          "2022-08-09T00:15:00.000000000",
          "2022-08-09T00:30:00.000000000",
          "2022-08-09T03:00:00.000000000",
          "2022-08-09T03:30:00.000000000"
         ],
         "hovertemplate": "Train=54003_09<br>Start=%{base}<br>Finish=%{x}<br>Tâches=%{y}<extra></extra>",
         "legendgroup": "54003_09",
         "marker": {
          "color": "#19d3f3",
          "pattern": {
           "shape": ""
          }
         },
         "name": "54003_09",
         "orientation": "h",
         "showlegend": true,
         "textposition": "auto",
         "type": "bar",
         "x": {
          "bdata": "oLsNAEBUiQCguw0AgE8SAA==",
          "dtype": "i4"
         },
         "xaxis": "x",
         "y": [
          "dep_1",
          "dep_2",
          "dep_3",
          "dep_4"
         ],
         "yaxis": "y"
        },
        {
         "base": [
          "2022-08-08T23:00:00.000000000",
          "2022-08-08T23:15:00.000000000",
          "2022-08-09T01:45:00.000000000",
          "2022-08-09T05:00:00.000000000"
         ],
         "hovertemplate": "Train=54051_09<br>Start=%{base}<br>Finish=%{x}<br>Tâches=%{y}<extra></extra>",
         "legendgroup": "54051_09",
         "marker": {
          "color": "#FF6692",
          "pattern": {
           "shape": ""
          }
         },
         "name": "54051_09",
         "orientation": "h",
         "showlegend": true,
         "textposition": "auto",
         "type": "bar",
         "x": {
          "bdata": "oLsNAEBUiQCguw0AgE8SAA==",
          "dtype": "i4"
         },
         "xaxis": "x",
         "y": [
          "dep_1",
          "dep_2",
          "dep_3",
          "dep_4"
         ],
         "yaxis": "y"
        },
        {
         "base": [
          "2022-08-08T20:00:00.000000000",
          "2022-08-08T20:15:00.000000000",
          "2022-08-08T22:45:00.000000000",
          "2022-08-09T03:30:00.000000000"
         ],
         "hovertemplate": "Train=54086_09<br>Start=%{base}<br>Finish=%{x}<br>Tâches=%{y}<extra></extra>",
         "legendgroup": "54086_09",
         "marker": {
          "color": "#B6E880",
          "pattern": {
           "shape": ""
          }
         },
         "name": "54086_09",
         "orientation": "h",
         "showlegend": true,
         "textposition": "auto",
         "type": "bar",
         "x": {
          "bdata": "oLsNAEBUiQCguw0AgE8SAA==",
          "dtype": "i4"
         },
         "xaxis": "x",
         "y": [
          "dep_1",
          "dep_2",
          "dep_3",
          "dep_4"
         ],
         "yaxis": "y"
        },
        {
         "base": [
          "2022-08-09T10:45:00.000000000",
          "2022-08-09T11:00:00.000000000",
          "2022-08-09T13:30:00.000000000",
          "2022-08-09T13:45:00.000000000"
         ],
         "hovertemplate": "Train=54231_09<br>Start=%{base}<br>Finish=%{x}<br>Tâches=%{y}<extra></extra>",
         "legendgroup": "54231_09",
         "marker": {
          "color": "#FF97FF",
          "pattern": {
           "shape": ""
          }
         },
         "name": "54231_09",
         "orientation": "h",
         "showlegend": true,
         "textposition": "auto",
         "type": "bar",
         "x": {
          "bdata": "oLsNAEBUiQCguw0AgE8SAA==",
          "dtype": "i4"
         },
         "xaxis": "x",
         "y": [
          "dep_1",
          "dep_2",
          "dep_3",
          "dep_4"
         ],
         "yaxis": "y"
        },
        {
         "base": [
          "2022-08-10T04:00:00.000000000",
          "2022-08-10T04:15:00.000000000",
          "2022-08-10T06:45:00.000000000",
          "2022-08-10T07:00:00.000000000"
         ],
         "hovertemplate": "Train=450226_10<br>Start=%{base}<br>Finish=%{x}<br>Tâches=%{y}<extra></extra>",
         "legendgroup": "450226_10",
         "marker": {
          "color": "#FECB52",
          "pattern": {
           "shape": ""
          }
         },
         "name": "450226_10",
         "orientation": "h",
         "showlegend": true,
         "textposition": "auto",
         "type": "bar",
         "x": {
          "bdata": "oLsNAEBUiQCguw0AgE8SAA==",
          "dtype": "i4"
         },
         "xaxis": "x",
         "y": [
          "dep_1",
          "dep_2",
          "dep_3",
          "dep_4"
         ],
         "yaxis": "y"
        },
        {
         "base": [
          "2022-08-10T04:30:00.000000000",
          "2022-08-10T04:45:00.000000000",
          "2022-08-10T07:15:00.000000000",
          "2022-08-10T19:15:00.000000000"
         ],
         "hovertemplate": "Train=400014_10<br>Start=%{base}<br>Finish=%{x}<br>Tâches=%{y}<extra></extra>",
         "legendgroup": "400014_10",
         "marker": {
          "color": "#636efa",
          "pattern": {
           "shape": ""
          }
         },
         "name": "400014_10",
         "orientation": "h",
         "showlegend": true,
         "textposition": "auto",
         "type": "bar",
         "x": {
          "bdata": "oLsNAEBUiQCguw0AgE8SAA==",
          "dtype": "i4"
         },
         "xaxis": "x",
         "y": [
          "dep_1",
          "dep_2",
          "dep_3",
          "dep_4"
         ],
         "yaxis": "y"
        },
        {
         "base": [
          "2022-08-09T22:15:00.000000000",
          "2022-08-09T23:30:00.000000000",
          "2022-08-10T02:00:00.000000000",
          "2022-08-10T02:45:00.000000000"
         ],
         "hovertemplate": "Train=412124_10<br>Start=%{base}<br>Finish=%{x}<br>Tâches=%{y}<extra></extra>",
         "legendgroup": "412124_10",
         "marker": {
          "color": "#EF553B",
          "pattern": {
           "shape": ""
          }
         },
         "name": "412124_10",
         "orientation": "h",
         "showlegend": true,
         "textposition": "auto",
         "type": "bar",
         "x": {
          "bdata": "oLsNAEBUiQCguw0AgE8SAA==",
          "dtype": "i4"
         },
         "xaxis": "x",
         "y": [
          "dep_1",
          "dep_2",
          "dep_3",
          "dep_4"
         ],
         "yaxis": "y"
        },
        {
         "base": [
          "2022-08-09T03:30:00.000000000",
          "2022-08-09T03:45:00.000000000",
          "2022-08-09T06:15:00.000000000",
          "2022-08-10T02:15:00.000000000"
         ],
         "hovertemplate": "Train=41258_10<br>Start=%{base}<br>Finish=%{x}<br>Tâches=%{y}<extra></extra>",
         "legendgroup": "41258_10",
         "marker": {
          "color": "#00cc96",
          "pattern": {
           "shape": ""
          }
         },
         "name": "41258_10",
         "orientation": "h",
         "showlegend": true,
         "textposition": "auto",
         "type": "bar",
         "x": {
          "bdata": "oLsNAEBUiQCguw0AgE8SAA==",
          "dtype": "i4"
         },
         "xaxis": "x",
         "y": [
          "dep_1",
          "dep_2",
          "dep_3",
          "dep_4"
         ],
         "yaxis": "y"
        },
        {
         "base": [
          "2022-08-10T08:45:00.000000000",
          "2022-08-10T09:00:00.000000000",
          "2022-08-10T11:30:00.000000000",
          "2022-08-10T14:30:00.000000000"
         ],
         "hovertemplate": "Train=431035_10<br>Start=%{base}<br>Finish=%{x}<br>Tâches=%{y}<extra></extra>",
         "legendgroup": "431035_10",
         "marker": {
          "color": "#ab63fa",
          "pattern": {
           "shape": ""
          }
         },
         "name": "431035_10",
         "orientation": "h",
         "showlegend": true,
         "textposition": "auto",
         "type": "bar",
         "x": {
          "bdata": "oLsNAEBUiQCguw0AgE8SAA==",
          "dtype": "i4"
         },
         "xaxis": "x",
         "y": [
          "dep_1",
          "dep_2",
          "dep_3",
          "dep_4"
         ],
         "yaxis": "y"
        },
        {
         "base": [
          "2022-08-10T02:45:00.000000000",
          "2022-08-10T03:00:00.000000000",
          "2022-08-10T05:30:00.000000000",
          "2022-08-10T05:45:00.000000000"
         ],
         "hovertemplate": "Train=431091_10<br>Start=%{base}<br>Finish=%{x}<br>Tâches=%{y}<extra></extra>",
         "legendgroup": "431091_10",
         "marker": {
          "color": "#FFA15A",
          "pattern": {
           "shape": ""
          }
         },
         "name": "431091_10",
         "orientation": "h",
         "showlegend": true,
         "textposition": "auto",
         "type": "bar",
         "x": {
          "bdata": "oLsNAEBUiQCguw0AgE8SAA==",
          "dtype": "i4"
         },
         "xaxis": "x",
         "y": [
          "dep_1",
          "dep_2",
          "dep_3",
          "dep_4"
         ],
         "yaxis": "y"
        },
        {
         "base": [
          "2022-08-10T13:00:00.000000000",
          "2022-08-10T14:45:00.000000000",
          "2022-08-10T17:15:00.000000000",
          "2022-08-10T17:30:00.000000000"
         ],
         "hovertemplate": "Train=44203_10<br>Start=%{base}<br>Finish=%{x}<br>Tâches=%{y}<extra></extra>",
         "legendgroup": "44203_10",
         "marker": {
          "color": "#19d3f3",
          "pattern": {
           "shape": ""
          }
         },
         "name": "44203_10",
         "orientation": "h",
         "showlegend": true,
         "textposition": "auto",
         "type": "bar",
         "x": {
          "bdata": "oLsNAEBUiQCguw0AgE8SAA==",
          "dtype": "i4"
         },
         "xaxis": "x",
         "y": [
          "dep_1",
          "dep_2",
          "dep_3",
          "dep_4"
         ],
         "yaxis": "y"
        },
        {
         "base": [
          "2022-08-10T00:45:00.000000000",
          "2022-08-10T10:15:00.000000000",
          "2022-08-10T12:45:00.000000000",
          "2022-08-10T13:00:00.000000000"
         ],
         "hovertemplate": "Train=44241_10<br>Start=%{base}<br>Finish=%{x}<br>Tâches=%{y}<extra></extra>",
         "legendgroup": "44241_10",
         "marker": {
          "color": "#FF6692",
          "pattern": {
           "shape": ""
          }
         },
         "name": "44241_10",
         "orientation": "h",
         "showlegend": true,
         "textposition": "auto",
         "type": "bar",
         "x": {
          "bdata": "oLsNAEBUiQCguw0AgE8SAA==",
          "dtype": "i4"
         },
         "xaxis": "x",
         "y": [
          "dep_1",
          "dep_2",
          "dep_3",
          "dep_4"
         ],
         "yaxis": "y"
        },
        {
         "base": [
          "2022-08-09T22:30:00.000000000",
          "2022-08-10T00:00:00.000000000",
          "2022-08-10T02:30:00.000000000",
          "2022-08-10T02:45:00.000000000"
         ],
         "hovertemplate": "Train=44249_10<br>Start=%{base}<br>Finish=%{x}<br>Tâches=%{y}<extra></extra>",
         "legendgroup": "44249_10",
         "marker": {
          "color": "#B6E880",
          "pattern": {
           "shape": ""
          }
         },
         "name": "44249_10",
         "orientation": "h",
         "showlegend": true,
         "textposition": "auto",
         "type": "bar",
         "x": {
          "bdata": "oLsNAEBUiQCguw0AgE8SAA==",
          "dtype": "i4"
         },
         "xaxis": "x",
         "y": [
          "dep_1",
          "dep_2",
          "dep_3",
          "dep_4"
         ],
         "yaxis": "y"
        },
        {
         "base": [
          "2022-08-10T10:45:00.000000000",
          "2022-08-10T11:00:00.000000000",
          "2022-08-10T13:30:00.000000000",
          "2022-08-10T13:45:00.000000000"
         ],
         "hovertemplate": "Train=47205_10<br>Start=%{base}<br>Finish=%{x}<br>Tâches=%{y}<extra></extra>",
         "legendgroup": "47205_10",
         "marker": {
          "color": "#FF97FF",
          "pattern": {
           "shape": ""
          }
         },
         "name": "47205_10",
         "orientation": "h",
         "showlegend": true,
         "textposition": "auto",
         "type": "bar",
         "x": {
          "bdata": "oLsNAEBUiQCguw0AgE8SAA==",
          "dtype": "i4"
         },
         "xaxis": "x",
         "y": [
          "dep_1",
          "dep_2",
          "dep_3",
          "dep_4"
         ],
         "yaxis": "y"
        },
        {
         "base": [
          "2022-08-10T05:00:00.000000000",
          "2022-08-10T06:00:00.000000000",
          "2022-08-10T08:30:00.000000000",
          "2022-08-10T15:45:00.000000000"
         ],
         "hovertemplate": "Train=48215_10<br>Start=%{base}<br>Finish=%{x}<br>Tâches=%{y}<extra></extra>",
         "legendgroup": "48215_10",
         "marker": {
          "color": "#FECB52",
          "pattern": {
           "shape": ""
          }
         },
         "name": "48215_10",
         "orientation": "h",
         "showlegend": true,
         "textposition": "auto",
         "type": "bar",
         "x": {
          "bdata": "oLsNAEBUiQCguw0AgE8SAA==",
          "dtype": "i4"
         },
         "xaxis": "x",
         "y": [
          "dep_1",
          "dep_2",
          "dep_3",
          "dep_4"
         ],
         "yaxis": "y"
        },
        {
         "base": [
          "2022-08-09T22:45:00.000000000",
          "2022-08-09T23:00:00.000000000",
          "2022-08-10T01:30:00.000000000",
          "2022-08-10T01:45:00.000000000"
         ],
         "hovertemplate": "Train=489044_10<br>Start=%{base}<br>Finish=%{x}<br>Tâches=%{y}<extra></extra>",
         "legendgroup": "489044_10",
         "marker": {
          "color": "#636efa",
          "pattern": {
           "shape": ""
          }
         },
         "name": "489044_10",
         "orientation": "h",
         "showlegend": true,
         "textposition": "auto",
         "type": "bar",
         "x": {
          "bdata": "oLsNAEBUiQCguw0AgE8SAA==",
          "dtype": "i4"
         },
         "xaxis": "x",
         "y": [
          "dep_1",
          "dep_2",
          "dep_3",
          "dep_4"
         ],
         "yaxis": "y"
        },
        {
         "base": [
          "2022-08-10T04:15:00.000000000",
          "2022-08-10T04:30:00.000000000",
          "2022-08-10T07:00:00.000000000",
          "2022-08-10T15:45:00.000000000"
         ],
         "hovertemplate": "Train=52672_10<br>Start=%{base}<br>Finish=%{x}<br>Tâches=%{y}<extra></extra>",
         "legendgroup": "52672_10",
         "marker": {
          "color": "#EF553B",
          "pattern": {
           "shape": ""
          }
         },
         "name": "52672_10",
         "orientation": "h",
         "showlegend": true,
         "textposition": "auto",
         "type": "bar",
         "x": {
          "bdata": "oLsNAEBUiQCguw0AgE8SAA==",
          "dtype": "i4"
         },
         "xaxis": "x",
         "y": [
          "dep_1",
          "dep_2",
          "dep_3",
          "dep_4"
         ],
         "yaxis": "y"
        },
        {
         "base": [
          "2022-08-09T23:30:00.000000000",
          "2022-08-09T23:45:00.000000000",
          "2022-08-10T02:15:00.000000000",
          "2022-08-10T03:30:00.000000000"
         ],
         "hovertemplate": "Train=54003_10<br>Start=%{base}<br>Finish=%{x}<br>Tâches=%{y}<extra></extra>",
         "legendgroup": "54003_10",
         "marker": {
          "color": "#00cc96",
          "pattern": {
           "shape": ""
          }
         },
         "name": "54003_10",
         "orientation": "h",
         "showlegend": true,
         "textposition": "auto",
         "type": "bar",
         "x": {
          "bdata": "oLsNAEBUiQCguw0AgE8SAA==",
          "dtype": "i4"
         },
         "xaxis": "x",
         "y": [
          "dep_1",
          "dep_2",
          "dep_3",
          "dep_4"
         ],
         "yaxis": "y"
        },
        {
         "base": [
          "2022-08-10T12:15:00.000000000",
          "2022-08-10T12:30:00.000000000",
          "2022-08-10T15:00:00.000000000",
          "2022-08-10T15:15:00.000000000"
         ],
         "hovertemplate": "Train=54053_10<br>Start=%{base}<br>Finish=%{x}<br>Tâches=%{y}<extra></extra>",
         "legendgroup": "54053_10",
         "marker": {
          "color": "#ab63fa",
          "pattern": {
           "shape": ""
          }
         },
         "name": "54053_10",
         "orientation": "h",
         "showlegend": true,
         "textposition": "auto",
         "type": "bar",
         "x": {
          "bdata": "oLsNAEBUiQCguw0AgE8SAA==",
          "dtype": "i4"
         },
         "xaxis": "x",
         "y": [
          "dep_1",
          "dep_2",
          "dep_3",
          "dep_4"
         ],
         "yaxis": "y"
        },
        {
         "base": [
          "2022-08-10T05:15:00.000000000",
          "2022-08-10T06:30:00.000000000",
          "2022-08-10T09:00:00.000000000",
          "2022-08-10T13:45:00.000000000"
         ],
         "hovertemplate": "Train=54231_10<br>Start=%{base}<br>Finish=%{x}<br>Tâches=%{y}<extra></extra>",
         "legendgroup": "54231_10",
         "marker": {
          "color": "#FFA15A",
          "pattern": {
           "shape": ""
          }
         },
         "name": "54231_10",
         "orientation": "h",
         "showlegend": true,
         "textposition": "auto",
         "type": "bar",
         "x": {
          "bdata": "oLsNAEBUiQCguw0AgE8SAA==",
          "dtype": "i4"
         },
         "xaxis": "x",
         "y": [
          "dep_1",
          "dep_2",
          "dep_3",
          "dep_4"
         ],
         "yaxis": "y"
        },
        {
         "base": [
          "2022-08-10T01:30:00.000000000",
          "2022-08-10T01:45:00.000000000",
          "2022-08-10T04:15:00.000000000",
          "2022-08-10T04:30:00.000000000"
         ],
         "hovertemplate": "Train=71210_10<br>Start=%{base}<br>Finish=%{x}<br>Tâches=%{y}<extra></extra>",
         "legendgroup": "71210_10",
         "marker": {
          "color": "#19d3f3",
          "pattern": {
           "shape": ""
          }
         },
         "name": "71210_10",
         "orientation": "h",
         "showlegend": true,
         "textposition": "auto",
         "type": "bar",
         "x": {
          "bdata": "oLsNAEBUiQCguw0AgE8SAA==",
          "dtype": "i4"
         },
         "xaxis": "x",
         "y": [
          "dep_1",
          "dep_2",
          "dep_3",
          "dep_4"
         ],
         "yaxis": "y"
        },
        {
         "base": [
          "2022-08-11T12:15:00.000000000",
          "2022-08-11T12:30:00.000000000",
          "2022-08-11T15:00:00.000000000",
          "2022-08-11T15:15:00.000000000"
         ],
         "hovertemplate": "Train=400006_11<br>Start=%{base}<br>Finish=%{x}<br>Tâches=%{y}<extra></extra>",
         "legendgroup": "400006_11",
         "marker": {
          "color": "#FF6692",
          "pattern": {
           "shape": ""
          }
         },
         "name": "400006_11",
         "orientation": "h",
         "showlegend": true,
         "textposition": "auto",
         "type": "bar",
         "x": {
          "bdata": "oLsNAEBUiQCguw0AgE8SAA==",
          "dtype": "i4"
         },
         "xaxis": "x",
         "y": [
          "dep_1",
          "dep_2",
          "dep_3",
          "dep_4"
         ],
         "yaxis": "y"
        },
        {
         "base": [
          "2022-08-11T11:45:00.000000000",
          "2022-08-11T12:00:00.000000000",
          "2022-08-11T14:30:00.000000000",
          "2022-08-11T23:15:00.000000000"
         ],
         "hovertemplate": "Train=400010_11<br>Start=%{base}<br>Finish=%{x}<br>Tâches=%{y}<extra></extra>",
         "legendgroup": "400010_11",
         "marker": {
          "color": "#B6E880",
          "pattern": {
           "shape": ""
          }
         },
         "name": "400010_11",
         "orientation": "h",
         "showlegend": true,
         "textposition": "auto",
         "type": "bar",
         "x": {
          "bdata": "oLsNAEBUiQCguw0AgE8SAA==",
          "dtype": "i4"
         },
         "xaxis": "x",
         "y": [
          "dep_1",
          "dep_2",
          "dep_3",
          "dep_4"
         ],
         "yaxis": "y"
        },
        {
         "base": [
          "2022-08-11T06:45:00.000000000",
          "2022-08-11T07:00:00.000000000",
          "2022-08-11T09:30:00.000000000",
          "2022-08-11T22:15:00.000000000"
         ],
         "hovertemplate": "Train=400016_11<br>Start=%{base}<br>Finish=%{x}<br>Tâches=%{y}<extra></extra>",
         "legendgroup": "400016_11",
         "marker": {
          "color": "#FF97FF",
          "pattern": {
           "shape": ""
          }
         },
         "name": "400016_11",
         "orientation": "h",
         "showlegend": true,
         "textposition": "auto",
         "type": "bar",
         "x": {
          "bdata": "oLsNAEBUiQCguw0AgE8SAA==",
          "dtype": "i4"
         },
         "xaxis": "x",
         "y": [
          "dep_1",
          "dep_2",
          "dep_3",
          "dep_4"
         ],
         "yaxis": "y"
        },
        {
         "base": [
          "2022-08-11T11:30:00.000000000",
          "2022-08-11T11:45:00.000000000",
          "2022-08-11T14:15:00.000000000",
          "2022-08-11T14:30:00.000000000"
         ],
         "hovertemplate": "Train=431035_11<br>Start=%{base}<br>Finish=%{x}<br>Tâches=%{y}<extra></extra>",
         "legendgroup": "431035_11",
         "marker": {
          "color": "#FECB52",
          "pattern": {
           "shape": ""
          }
         },
         "name": "431035_11",
         "orientation": "h",
         "showlegend": true,
         "textposition": "auto",
         "type": "bar",
         "x": {
          "bdata": "oLsNAEBUiQCguw0AgE8SAA==",
          "dtype": "i4"
         },
         "xaxis": "x",
         "y": [
          "dep_1",
          "dep_2",
          "dep_3",
          "dep_4"
         ],
         "yaxis": "y"
        },
        {
         "base": [
          "2022-08-11T04:45:00.000000000",
          "2022-08-11T05:00:00.000000000",
          "2022-08-11T07:30:00.000000000",
          "2022-08-11T17:30:00.000000000"
         ],
         "hovertemplate": "Train=44203_11<br>Start=%{base}<br>Finish=%{x}<br>Tâches=%{y}<extra></extra>",
         "legendgroup": "44203_11",
         "marker": {
          "color": "#636efa",
          "pattern": {
           "shape": ""
          }
         },
         "name": "44203_11",
         "orientation": "h",
         "showlegend": true,
         "textposition": "auto",
         "type": "bar",
         "x": {
          "bdata": "oLsNAEBUiQCguw0AgE8SAA==",
          "dtype": "i4"
         },
         "xaxis": "x",
         "y": [
          "dep_1",
          "dep_2",
          "dep_3",
          "dep_4"
         ],
         "yaxis": "y"
        },
        {
         "base": [
          "2022-08-11T06:15:00.000000000",
          "2022-08-11T06:30:00.000000000",
          "2022-08-11T09:00:00.000000000",
          "2022-08-11T13:00:00.000000000"
         ],
         "hovertemplate": "Train=44241_11<br>Start=%{base}<br>Finish=%{x}<br>Tâches=%{y}<extra></extra>",
         "legendgroup": "44241_11",
         "marker": {
          "color": "#EF553B",
          "pattern": {
           "shape": ""
          }
         },
         "name": "44241_11",
         "orientation": "h",
         "showlegend": true,
         "textposition": "auto",
         "type": "bar",
         "x": {
          "bdata": "oLsNAEBUiQCguw0AgE8SAA==",
          "dtype": "i4"
         },
         "xaxis": "x",
         "y": [
          "dep_1",
          "dep_2",
          "dep_3",
          "dep_4"
         ],
         "yaxis": "y"
        },
        {
         "base": [
          "2022-08-10T22:45:00.000000000",
          "2022-08-10T23:00:00.000000000",
          "2022-08-11T01:30:00.000000000",
          "2022-08-11T04:45:00.000000000"
         ],
         "hovertemplate": "Train=44806_11<br>Start=%{base}<br>Finish=%{x}<br>Tâches=%{y}<extra></extra>",
         "legendgroup": "44806_11",
         "marker": {
          "color": "#00cc96",
          "pattern": {
           "shape": ""
          }
         },
         "name": "44806_11",
         "orientation": "h",
         "showlegend": true,
         "textposition": "auto",
         "type": "bar",
         "x": {
          "bdata": "oLsNAEBUiQCguw0AgE8SAA==",
          "dtype": "i4"
         },
         "xaxis": "x",
         "y": [
          "dep_1",
          "dep_2",
          "dep_3",
          "dep_4"
         ],
         "yaxis": "y"
        },
        {
         "base": [
          "2022-08-10T09:00:00.000000000",
          "2022-08-10T13:15:00.000000000",
          "2022-08-10T15:45:00.000000000",
          "2022-08-11T07:00:00.000000000"
         ],
         "hovertemplate": "Train=450226_11<br>Start=%{base}<br>Finish=%{x}<br>Tâches=%{y}<extra></extra>",
         "legendgroup": "450226_11",
         "marker": {
          "color": "#ab63fa",
          "pattern": {
           "shape": ""
          }
         },
         "name": "450226_11",
         "orientation": "h",
         "showlegend": true,
         "textposition": "auto",
         "type": "bar",
         "x": {
          "bdata": "oLsNAEBUiQCguw0AgE8SAA==",
          "dtype": "i4"
         },
         "xaxis": "x",
         "y": [
          "dep_1",
          "dep_2",
          "dep_3",
          "dep_4"
         ],
         "yaxis": "y"
        },
        {
         "base": [
          "2022-08-11T06:30:00.000000000",
          "2022-08-11T06:45:00.000000000",
          "2022-08-11T09:15:00.000000000",
          "2022-08-11T14:15:00.000000000"
         ],
         "hovertemplate": "Train=47245_11<br>Start=%{base}<br>Finish=%{x}<br>Tâches=%{y}<extra></extra>",
         "legendgroup": "47245_11",
         "marker": {
          "color": "#FFA15A",
          "pattern": {
           "shape": ""
          }
         },
         "name": "47245_11",
         "orientation": "h",
         "showlegend": true,
         "textposition": "auto",
         "type": "bar",
         "x": {
          "bdata": "oLsNAEBUiQCguw0AgE8SAA==",
          "dtype": "i4"
         },
         "xaxis": "x",
         "y": [
          "dep_1",
          "dep_2",
          "dep_3",
          "dep_4"
         ],
         "yaxis": "y"
        },
        {
         "base": [
          "2022-08-11T01:30:00.000000000",
          "2022-08-11T03:15:00.000000000",
          "2022-08-11T05:45:00.000000000",
          "2022-08-11T10:30:00.000000000"
         ],
         "hovertemplate": "Train=47247_11<br>Start=%{base}<br>Finish=%{x}<br>Tâches=%{y}<extra></extra>",
         "legendgroup": "47247_11",
         "marker": {
          "color": "#19d3f3",
          "pattern": {
           "shape": ""
          }
         },
         "name": "47247_11",
         "orientation": "h",
         "showlegend": true,
         "textposition": "auto",
         "type": "bar",
         "x": {
          "bdata": "oLsNAEBUiQCguw0AgE8SAA==",
          "dtype": "i4"
         },
         "xaxis": "x",
         "y": [
          "dep_1",
          "dep_2",
          "dep_3",
          "dep_4"
         ],
         "yaxis": "y"
        },
        {
         "base": [
          "2022-08-11T10:30:00.000000000",
          "2022-08-11T10:45:00.000000000",
          "2022-08-11T13:15:00.000000000",
          "2022-08-11T22:00:00.000000000"
         ],
         "hovertemplate": "Train=47820_11<br>Start=%{base}<br>Finish=%{x}<br>Tâches=%{y}<extra></extra>",
         "legendgroup": "47820_11",
         "marker": {
          "color": "#FF6692",
          "pattern": {
           "shape": ""
          }
         },
         "name": "47820_11",
         "orientation": "h",
         "showlegend": true,
         "textposition": "auto",
         "type": "bar",
         "x": {
          "bdata": "oLsNAEBUiQCguw0AgE8SAA==",
          "dtype": "i4"
         },
         "xaxis": "x",
         "y": [
          "dep_1",
          "dep_2",
          "dep_3",
          "dep_4"
         ],
         "yaxis": "y"
        },
        {
         "base": [
          "2022-08-11T07:00:00.000000000",
          "2022-08-11T08:00:00.000000000",
          "2022-08-11T10:30:00.000000000",
          "2022-08-11T14:45:00.000000000"
         ],
         "hovertemplate": "Train=489118_11<br>Start=%{base}<br>Finish=%{x}<br>Tâches=%{y}<extra></extra>",
         "legendgroup": "489118_11",
         "marker": {
          "color": "#B6E880",
          "pattern": {
           "shape": ""
          }
         },
         "name": "489118_11",
         "orientation": "h",
         "showlegend": true,
         "textposition": "auto",
         "type": "bar",
         "x": {
          "bdata": "oLsNAEBUiQCguw0AgE8SAA==",
          "dtype": "i4"
         },
         "xaxis": "x",
         "y": [
          "dep_1",
          "dep_2",
          "dep_3",
          "dep_4"
         ],
         "yaxis": "y"
        },
        {
         "base": [
          "2022-08-11T10:00:00.000000000",
          "2022-08-11T10:15:00.000000000",
          "2022-08-11T12:45:00.000000000",
          "2022-08-11T15:45:00.000000000"
         ],
         "hovertemplate": "Train=52672_11<br>Start=%{base}<br>Finish=%{x}<br>Tâches=%{y}<extra></extra>",
         "legendgroup": "52672_11",
         "marker": {
          "color": "#FF97FF",
          "pattern": {
           "shape": ""
          }
         },
         "name": "52672_11",
         "orientation": "h",
         "showlegend": true,
         "textposition": "auto",
         "type": "bar",
         "x": {
          "bdata": "oLsNAEBUiQCguw0AgE8SAA==",
          "dtype": "i4"
         },
         "xaxis": "x",
         "y": [
          "dep_1",
          "dep_2",
          "dep_3",
          "dep_4"
         ],
         "yaxis": "y"
        },
        {
         "base": [
          "2022-08-11T00:30:00.000000000",
          "2022-08-11T00:45:00.000000000",
          "2022-08-11T03:15:00.000000000",
          "2022-08-11T03:30:00.000000000"
         ],
         "hovertemplate": "Train=54003_11<br>Start=%{base}<br>Finish=%{x}<br>Tâches=%{y}<extra></extra>",
         "legendgroup": "54003_11",
         "marker": {
          "color": "#FECB52",
          "pattern": {
           "shape": ""
          }
         },
         "name": "54003_11",
         "orientation": "h",
         "showlegend": true,
         "textposition": "auto",
         "type": "bar",
         "x": {
          "bdata": "oLsNAEBUiQCguw0AgE8SAA==",
          "dtype": "i4"
         },
         "xaxis": "x",
         "y": [
          "dep_1",
          "dep_2",
          "dep_3",
          "dep_4"
         ],
         "yaxis": "y"
        },
        {
         "base": [
          "2022-08-11T02:00:00.000000000",
          "2022-08-11T02:15:00.000000000",
          "2022-08-11T04:45:00.000000000",
          "2022-08-11T05:00:00.000000000"
         ],
         "hovertemplate": "Train=54051_11<br>Start=%{base}<br>Finish=%{x}<br>Tâches=%{y}<extra></extra>",
         "legendgroup": "54051_11",
         "marker": {
          "color": "#636efa",
          "pattern": {
           "shape": ""
          }
         },
         "name": "54051_11",
         "orientation": "h",
         "showlegend": true,
         "textposition": "auto",
         "type": "bar",
         "x": {
          "bdata": "oLsNAEBUiQCguw0AgE8SAA==",
          "dtype": "i4"
         },
         "xaxis": "x",
         "y": [
          "dep_1",
          "dep_2",
          "dep_3",
          "dep_4"
         ],
         "yaxis": "y"
        },
        {
         "base": [
          "2022-08-10T13:15:00.000000000",
          "2022-08-10T13:30:00.000000000",
          "2022-08-10T16:00:00.000000000",
          "2022-08-11T03:30:00.000000000"
         ],
         "hovertemplate": "Train=54086_11<br>Start=%{base}<br>Finish=%{x}<br>Tâches=%{y}<extra></extra>",
         "legendgroup": "54086_11",
         "marker": {
          "color": "#EF553B",
          "pattern": {
           "shape": ""
          }
         },
         "name": "54086_11",
         "orientation": "h",
         "showlegend": true,
         "textposition": "auto",
         "type": "bar",
         "x": {
          "bdata": "oLsNAEBUiQCguw0AgE8SAA==",
          "dtype": "i4"
         },
         "xaxis": "x",
         "y": [
          "dep_1",
          "dep_2",
          "dep_3",
          "dep_4"
         ],
         "yaxis": "y"
        },
        {
         "base": [
          "2022-08-11T10:15:00.000000000",
          "2022-08-11T10:30:00.000000000",
          "2022-08-11T13:00:00.000000000",
          "2022-08-11T13:45:00.000000000"
         ],
         "hovertemplate": "Train=54231_11<br>Start=%{base}<br>Finish=%{x}<br>Tâches=%{y}<extra></extra>",
         "legendgroup": "54231_11",
         "marker": {
          "color": "#00cc96",
          "pattern": {
           "shape": ""
          }
         },
         "name": "54231_11",
         "orientation": "h",
         "showlegend": true,
         "textposition": "auto",
         "type": "bar",
         "x": {
          "bdata": "oLsNAEBUiQCguw0AgE8SAA==",
          "dtype": "i4"
         },
         "xaxis": "x",
         "y": [
          "dep_1",
          "dep_2",
          "dep_3",
          "dep_4"
         ],
         "yaxis": "y"
        },
        {
         "base": [
          "2022-08-10T23:00:00.000000000",
          "2022-08-10T23:15:00.000000000",
          "2022-08-11T01:45:00.000000000",
          "2022-08-11T02:00:00.000000000"
         ],
         "hovertemplate": "Train=71256_11<br>Start=%{base}<br>Finish=%{x}<br>Tâches=%{y}<extra></extra>",
         "legendgroup": "71256_11",
         "marker": {
          "color": "#ab63fa",
          "pattern": {
           "shape": ""
          }
         },
         "name": "71256_11",
         "orientation": "h",
         "showlegend": true,
         "textposition": "auto",
         "type": "bar",
         "x": {
          "bdata": "oLsNAEBUiQCguw0AgE8SAA==",
          "dtype": "i4"
         },
         "xaxis": "x",
         "y": [
          "dep_1",
          "dep_2",
          "dep_3",
          "dep_4"
         ],
         "yaxis": "y"
        },
        {
         "base": [
          "2022-08-12T14:15:00.000000000",
          "2022-08-12T14:30:00.000000000",
          "2022-08-12T17:00:00.000000000",
          "2022-08-12T23:15:00.000000000"
         ],
         "hovertemplate": "Train=400010_12<br>Start=%{base}<br>Finish=%{x}<br>Tâches=%{y}<extra></extra>",
         "legendgroup": "400010_12",
         "marker": {
          "color": "#FFA15A",
          "pattern": {
           "shape": ""
          }
         },
         "name": "400010_12",
         "orientation": "h",
         "showlegend": true,
         "textposition": "auto",
         "type": "bar",
         "x": {
          "bdata": "oLsNAEBUiQCguw0AgE8SAA==",
          "dtype": "i4"
         },
         "xaxis": "x",
         "y": [
          "dep_1",
          "dep_2",
          "dep_3",
          "dep_4"
         ],
         "yaxis": "y"
        },
        {
         "base": [
          "2022-08-12T16:30:00.000000000",
          "2022-08-12T16:45:00.000000000",
          "2022-08-12T19:15:00.000000000",
          "2022-08-12T22:15:00.000000000"
         ],
         "hovertemplate": "Train=400016_12<br>Start=%{base}<br>Finish=%{x}<br>Tâches=%{y}<extra></extra>",
         "legendgroup": "400016_12",
         "marker": {
          "color": "#19d3f3",
          "pattern": {
           "shape": ""
          }
         },
         "name": "400016_12",
         "orientation": "h",
         "showlegend": true,
         "textposition": "auto",
         "type": "bar",
         "x": {
          "bdata": "oLsNAEBUiQCguw0AgE8SAA==",
          "dtype": "i4"
         },
         "xaxis": "x",
         "y": [
          "dep_1",
          "dep_2",
          "dep_3",
          "dep_4"
         ],
         "yaxis": "y"
        },
        {
         "base": [
          "2022-08-11T07:15:00.000000000",
          "2022-08-11T08:15:00.000000000",
          "2022-08-11T10:45:00.000000000",
          "2022-08-12T04:00:00.000000000"
         ],
         "hovertemplate": "Train=412024_12<br>Start=%{base}<br>Finish=%{x}<br>Tâches=%{y}<extra></extra>",
         "legendgroup": "412024_12",
         "marker": {
          "color": "#FF6692",
          "pattern": {
           "shape": ""
          }
         },
         "name": "412024_12",
         "orientation": "h",
         "showlegend": true,
         "textposition": "auto",
         "type": "bar",
         "x": {
          "bdata": "oLsNAEBUiQCguw0AgE8SAA==",
          "dtype": "i4"
         },
         "xaxis": "x",
         "y": [
          "dep_1",
          "dep_2",
          "dep_3",
          "dep_4"
         ],
         "yaxis": "y"
        },
        {
         "base": [
          "2022-08-11T22:30:00.000000000",
          "2022-08-11T22:45:00.000000000",
          "2022-08-12T01:15:00.000000000",
          "2022-08-12T02:15:00.000000000"
         ],
         "hovertemplate": "Train=41258_12<br>Start=%{base}<br>Finish=%{x}<br>Tâches=%{y}<extra></extra>",
         "legendgroup": "41258_12",
         "marker": {
          "color": "#B6E880",
          "pattern": {
           "shape": ""
          }
         },
         "name": "41258_12",
         "orientation": "h",
         "showlegend": true,
         "textposition": "auto",
         "type": "bar",
         "x": {
          "bdata": "oLsNAEBUiQCguw0AgE8SAA==",
          "dtype": "i4"
         },
         "xaxis": "x",
         "y": [
          "dep_1",
          "dep_2",
          "dep_3",
          "dep_4"
         ],
         "yaxis": "y"
        },
        {
         "base": [
          "2022-08-12T03:00:00.000000000",
          "2022-08-12T03:15:00.000000000",
          "2022-08-12T05:45:00.000000000",
          "2022-08-12T14:30:00.000000000"
         ],
         "hovertemplate": "Train=431035_12<br>Start=%{base}<br>Finish=%{x}<br>Tâches=%{y}<extra></extra>",
         "legendgroup": "431035_12",
         "marker": {
          "color": "#FF97FF",
          "pattern": {
           "shape": ""
          }
         },
         "name": "431035_12",
         "orientation": "h",
         "showlegend": true,
         "textposition": "auto",
         "type": "bar",
         "x": {
          "bdata": "oLsNAEBUiQCguw0AgE8SAA==",
          "dtype": "i4"
         },
         "xaxis": "x",
         "y": [
          "dep_1",
          "dep_2",
          "dep_3",
          "dep_4"
         ],
         "yaxis": "y"
        },
        {
         "base": [
          "2022-08-12T10:00:00.000000000",
          "2022-08-12T10:15:00.000000000",
          "2022-08-12T12:45:00.000000000",
          "2022-08-12T13:00:00.000000000"
         ],
         "hovertemplate": "Train=44241_12<br>Start=%{base}<br>Finish=%{x}<br>Tâches=%{y}<extra></extra>",
         "legendgroup": "44241_12",
         "marker": {
          "color": "#FECB52",
          "pattern": {
           "shape": ""
          }
         },
         "name": "44241_12",
         "orientation": "h",
         "showlegend": true,
         "textposition": "auto",
         "type": "bar",
         "x": {
          "bdata": "oLsNAEBUiQCguw0AgE8SAA==",
          "dtype": "i4"
         },
         "xaxis": "x",
         "y": [
          "dep_1",
          "dep_2",
          "dep_3",
          "dep_4"
         ],
         "yaxis": "y"
        },
        {
         "base": [
          "2022-08-11T17:45:00.000000000",
          "2022-08-11T18:00:00.000000000",
          "2022-08-11T20:30:00.000000000",
          "2022-08-12T02:45:00.000000000"
         ],
         "hovertemplate": "Train=44249_12<br>Start=%{base}<br>Finish=%{x}<br>Tâches=%{y}<extra></extra>",
         "legendgroup": "44249_12",
         "marker": {
          "color": "#636efa",
          "pattern": {
           "shape": ""
          }
         },
         "name": "44249_12",
         "orientation": "h",
         "showlegend": true,
         "textposition": "auto",
         "type": "bar",
         "x": {
          "bdata": "oLsNAEBUiQCguw0AgE8SAA==",
          "dtype": "i4"
         },
         "xaxis": "x",
         "y": [
          "dep_1",
          "dep_2",
          "dep_3",
          "dep_4"
         ],
         "yaxis": "y"
        },
        {
         "base": [
          "2022-08-12T12:30:00.000000000",
          "2022-08-12T12:45:00.000000000",
          "2022-08-12T15:15:00.000000000",
          "2022-08-12T20:30:00.000000000"
         ],
         "hovertemplate": "Train=44952_12<br>Start=%{base}<br>Finish=%{x}<br>Tâches=%{y}<extra></extra>",
         "legendgroup": "44952_12",
         "marker": {
          "color": "#EF553B",
          "pattern": {
           "shape": ""
          }
         },
         "name": "44952_12",
         "orientation": "h",
         "showlegend": true,
         "textposition": "auto",
         "type": "bar",
         "x": {
          "bdata": "oLsNAEBUiQCguw0AgE8SAA==",
          "dtype": "i4"
         },
         "xaxis": "x",
         "y": [
          "dep_1",
          "dep_2",
          "dep_3",
          "dep_4"
         ],
         "yaxis": "y"
        },
        {
         "base": [
          "2022-08-11T05:15:00.000000000",
          "2022-08-11T05:30:00.000000000",
          "2022-08-11T08:00:00.000000000",
          "2022-08-12T18:45:00.000000000"
         ],
         "hovertemplate": "Train=47205_12<br>Start=%{base}<br>Finish=%{x}<br>Tâches=%{y}<extra></extra>",
         "legendgroup": "47205_12",
         "marker": {
          "color": "#00cc96",
          "pattern": {
           "shape": ""
          }
         },
         "name": "47205_12",
         "orientation": "h",
         "showlegend": true,
         "textposition": "auto",
         "type": "bar",
         "x": {
          "bdata": "oLsNAEBUiQCguw0AgE8SAA==",
          "dtype": "i4"
         },
         "xaxis": "x",
         "y": [
          "dep_1",
          "dep_2",
          "dep_3",
          "dep_4"
         ],
         "yaxis": "y"
        },
        {
         "base": [
          "2022-08-11T13:45:00.000000000",
          "2022-08-11T14:00:00.000000000",
          "2022-08-11T16:30:00.000000000",
          "2022-08-12T02:00:00.000000000"
         ],
         "hovertemplate": "Train=48219_12<br>Start=%{base}<br>Finish=%{x}<br>Tâches=%{y}<extra></extra>",
         "legendgroup": "48219_12",
         "marker": {
          "color": "#ab63fa",
          "pattern": {
           "shape": ""
          }
         },
         "name": "48219_12",
         "orientation": "h",
         "showlegend": true,
         "textposition": "auto",
         "type": "bar",
         "x": {
          "bdata": "oLsNAEBUiQCguw0AgE8SAA==",
          "dtype": "i4"
         },
         "xaxis": "x",
         "y": [
          "dep_1",
          "dep_2",
          "dep_3",
          "dep_4"
         ],
         "yaxis": "y"
        },
        {
         "base": [
          "2022-08-12T02:45:00.000000000",
          "2022-08-12T03:00:00.000000000",
          "2022-08-12T05:30:00.000000000",
          "2022-08-12T05:45:00.000000000"
         ],
         "hovertemplate": "Train=489447_12<br>Start=%{base}<br>Finish=%{x}<br>Tâches=%{y}<extra></extra>",
         "legendgroup": "489447_12",
         "marker": {
          "color": "#FFA15A",
          "pattern": {
           "shape": ""
          }
         },
         "name": "489447_12",
         "orientation": "h",
         "showlegend": true,
         "textposition": "auto",
         "type": "bar",
         "x": {
          "bdata": "oLsNAEBUiQCguw0AgE8SAA==",
          "dtype": "i4"
         },
         "xaxis": "x",
         "y": [
          "dep_1",
          "dep_2",
          "dep_3",
          "dep_4"
         ],
         "yaxis": "y"
        },
        {
         "base": [
          "2022-08-12T09:00:00.000000000",
          "2022-08-12T09:15:00.000000000",
          "2022-08-12T11:45:00.000000000",
          "2022-08-12T15:45:00.000000000"
         ],
         "hovertemplate": "Train=52672_12<br>Start=%{base}<br>Finish=%{x}<br>Tâches=%{y}<extra></extra>",
         "legendgroup": "52672_12",
         "marker": {
          "color": "#19d3f3",
          "pattern": {
           "shape": ""
          }
         },
         "name": "52672_12",
         "orientation": "h",
         "showlegend": true,
         "textposition": "auto",
         "type": "bar",
         "x": {
          "bdata": "oLsNAEBUiQCguw0AgE8SAA==",
          "dtype": "i4"
         },
         "xaxis": "x",
         "y": [
          "dep_1",
          "dep_2",
          "dep_3",
          "dep_4"
         ],
         "yaxis": "y"
        },
        {
         "base": [
          "2022-08-12T00:15:00.000000000",
          "2022-08-12T00:30:00.000000000",
          "2022-08-12T03:00:00.000000000",
          "2022-08-12T03:30:00.000000000"
         ],
         "hovertemplate": "Train=54003_12<br>Start=%{base}<br>Finish=%{x}<br>Tâches=%{y}<extra></extra>",
         "legendgroup": "54003_12",
         "marker": {
          "color": "#FF6692",
          "pattern": {
           "shape": ""
          }
         },
         "name": "54003_12",
         "orientation": "h",
         "showlegend": true,
         "textposition": "auto",
         "type": "bar",
         "x": {
          "bdata": "oLsNAEBUiQCguw0AgE8SAA==",
          "dtype": "i4"
         },
         "xaxis": "x",
         "y": [
          "dep_1",
          "dep_2",
          "dep_3",
          "dep_4"
         ],
         "yaxis": "y"
        },
        {
         "base": [
          "2022-08-12T06:15:00.000000000",
          "2022-08-12T06:30:00.000000000",
          "2022-08-12T09:00:00.000000000",
          "2022-08-12T15:15:00.000000000"
         ],
         "hovertemplate": "Train=54053_12<br>Start=%{base}<br>Finish=%{x}<br>Tâches=%{y}<extra></extra>",
         "legendgroup": "54053_12",
         "marker": {
          "color": "#B6E880",
          "pattern": {
           "shape": ""
          }
         },
         "name": "54053_12",
         "orientation": "h",
         "showlegend": true,
         "textposition": "auto",
         "type": "bar",
         "x": {
          "bdata": "oLsNAEBUiQCguw0AgE8SAA==",
          "dtype": "i4"
         },
         "xaxis": "x",
         "y": [
          "dep_1",
          "dep_2",
          "dep_3",
          "dep_4"
         ],
         "yaxis": "y"
        },
        {
         "base": [
          "2022-08-11T13:30:00.000000000",
          "2022-08-12T00:45:00.000000000",
          "2022-08-12T03:15:00.000000000",
          "2022-08-12T03:30:00.000000000"
         ],
         "hovertemplate": "Train=54086_12<br>Start=%{base}<br>Finish=%{x}<br>Tâches=%{y}<extra></extra>",
         "legendgroup": "54086_12",
         "marker": {
          "color": "#FF97FF",
          "pattern": {
           "shape": ""
          }
         },
         "name": "54086_12",
         "orientation": "h",
         "showlegend": true,
         "textposition": "auto",
         "type": "bar",
         "x": {
          "bdata": "oLsNAEBUiQCguw0AgE8SAA==",
          "dtype": "i4"
         },
         "xaxis": "x",
         "y": [
          "dep_1",
          "dep_2",
          "dep_3",
          "dep_4"
         ],
         "yaxis": "y"
        },
        {
         "base": [
          "2022-08-12T06:30:00.000000000",
          "2022-08-12T06:45:00.000000000",
          "2022-08-12T09:15:00.000000000",
          "2022-08-12T13:45:00.000000000"
         ],
         "hovertemplate": "Train=54231_12<br>Start=%{base}<br>Finish=%{x}<br>Tâches=%{y}<extra></extra>",
         "legendgroup": "54231_12",
         "marker": {
          "color": "#FECB52",
          "pattern": {
           "shape": ""
          }
         },
         "name": "54231_12",
         "orientation": "h",
         "showlegend": true,
         "textposition": "auto",
         "type": "bar",
         "x": {
          "bdata": "oLsNAEBUiQCguw0AgE8SAA==",
          "dtype": "i4"
         },
         "xaxis": "x",
         "y": [
          "dep_1",
          "dep_2",
          "dep_3",
          "dep_4"
         ],
         "yaxis": "y"
        },
        {
         "base": [
          "2022-08-12T18:15:00.000000000",
          "2022-08-12T19:30:00.000000000",
          "2022-08-12T22:00:00.000000000",
          "2022-08-12T23:00:00.000000000"
         ],
         "hovertemplate": "Train=71217_12<br>Start=%{base}<br>Finish=%{x}<br>Tâches=%{y}<extra></extra>",
         "legendgroup": "71217_12",
         "marker": {
          "color": "#636efa",
          "pattern": {
           "shape": ""
          }
         },
         "name": "71217_12",
         "orientation": "h",
         "showlegend": true,
         "textposition": "auto",
         "type": "bar",
         "x": {
          "bdata": "oLsNAEBUiQCguw0AgE8SAA==",
          "dtype": "i4"
         },
         "xaxis": "x",
         "y": [
          "dep_1",
          "dep_2",
          "dep_3",
          "dep_4"
         ],
         "yaxis": "y"
        },
        {
         "base": [
          "2022-08-12T14:00:00.000000000",
          "2022-08-12T14:45:00.000000000",
          "2022-08-12T17:15:00.000000000",
          "2022-08-13T02:15:00.000000000"
         ],
         "hovertemplate": "Train=41258_13<br>Start=%{base}<br>Finish=%{x}<br>Tâches=%{y}<extra></extra>",
         "legendgroup": "41258_13",
         "marker": {
          "color": "#EF553B",
          "pattern": {
           "shape": ""
          }
         },
         "name": "41258_13",
         "orientation": "h",
         "showlegend": true,
         "textposition": "auto",
         "type": "bar",
         "x": {
          "bdata": "oLsNAEBUiQCguw0AgE8SAA==",
          "dtype": "i4"
         },
         "xaxis": "x",
         "y": [
          "dep_1",
          "dep_2",
          "dep_3",
          "dep_4"
         ],
         "yaxis": "y"
        },
        {
         "base": [
          "2022-08-12T05:00:00.000000000",
          "2022-08-12T05:15:00.000000000",
          "2022-08-12T07:45:00.000000000",
          "2022-08-13T05:45:00.000000000"
         ],
         "hovertemplate": "Train=431091_13<br>Start=%{base}<br>Finish=%{x}<br>Tâches=%{y}<extra></extra>",
         "legendgroup": "431091_13",
         "marker": {
          "color": "#00cc96",
          "pattern": {
           "shape": ""
          }
         },
         "name": "431091_13",
         "orientation": "h",
         "showlegend": true,
         "textposition": "auto",
         "type": "bar",
         "x": {
          "bdata": "oLsNAEBUiQCguw0AgE8SAA==",
          "dtype": "i4"
         },
         "xaxis": "x",
         "y": [
          "dep_1",
          "dep_2",
          "dep_3",
          "dep_4"
         ],
         "yaxis": "y"
        },
        {
         "base": [
          "2022-08-13T09:15:00.000000000",
          "2022-08-13T09:30:00.000000000",
          "2022-08-13T12:00:00.000000000",
          "2022-08-13T13:00:00.000000000"
         ],
         "hovertemplate": "Train=44241_13<br>Start=%{base}<br>Finish=%{x}<br>Tâches=%{y}<extra></extra>",
         "legendgroup": "44241_13",
         "marker": {
          "color": "#ab63fa",
          "pattern": {
           "shape": ""
          }
         },
         "name": "44241_13",
         "orientation": "h",
         "showlegend": true,
         "textposition": "auto",
         "type": "bar",
         "x": {
          "bdata": "oLsNAEBUiQCguw0AgE8SAA==",
          "dtype": "i4"
         },
         "xaxis": "x",
         "y": [
          "dep_1",
          "dep_2",
          "dep_3",
          "dep_4"
         ],
         "yaxis": "y"
        },
        {
         "base": [
          "2022-08-13T00:00:00.000000000",
          "2022-08-13T00:15:00.000000000",
          "2022-08-13T02:45:00.000000000",
          "2022-08-13T04:00:00.000000000"
         ],
         "hovertemplate": "Train=44806_13<br>Start=%{base}<br>Finish=%{x}<br>Tâches=%{y}<extra></extra>",
         "legendgroup": "44806_13",
         "marker": {
          "color": "#FFA15A",
          "pattern": {
           "shape": ""
          }
         },
         "name": "44806_13",
         "orientation": "h",
         "showlegend": true,
         "textposition": "auto",
         "type": "bar",
         "x": {
          "bdata": "oLsNAEBUiQCguw0AgE8SAA==",
          "dtype": "i4"
         },
         "xaxis": "x",
         "y": [
          "dep_1",
          "dep_2",
          "dep_3",
          "dep_4"
         ],
         "yaxis": "y"
        },
        {
         "base": [
          "2022-08-13T05:30:00.000000000",
          "2022-08-13T06:30:00.000000000",
          "2022-08-13T09:00:00.000000000",
          "2022-08-13T09:15:00.000000000"
         ],
         "hovertemplate": "Train=450224_13<br>Start=%{base}<br>Finish=%{x}<br>Tâches=%{y}<extra></extra>",
         "legendgroup": "450224_13",
         "marker": {
          "color": "#19d3f3",
          "pattern": {
           "shape": ""
          }
         },
         "name": "450224_13",
         "orientation": "h",
         "showlegend": true,
         "textposition": "auto",
         "type": "bar",
         "x": {
          "bdata": "oLsNAEBUiQCguw0AgE8SAA==",
          "dtype": "i4"
         },
         "xaxis": "x",
         "y": [
          "dep_1",
          "dep_2",
          "dep_3",
          "dep_4"
         ],
         "yaxis": "y"
        },
        {
         "base": [
          "2022-08-13T07:30:00.000000000",
          "2022-08-13T07:45:00.000000000",
          "2022-08-13T10:15:00.000000000",
          "2022-08-13T10:30:00.000000000"
         ],
         "hovertemplate": "Train=47237_13<br>Start=%{base}<br>Finish=%{x}<br>Tâches=%{y}<extra></extra>",
         "legendgroup": "47237_13",
         "marker": {
          "color": "#FF6692",
          "pattern": {
           "shape": ""
          }
         },
         "name": "47237_13",
         "orientation": "h",
         "showlegend": true,
         "textposition": "auto",
         "type": "bar",
         "x": {
          "bdata": "oLsNAEBUiQCguw0AgE8SAA==",
          "dtype": "i4"
         },
         "xaxis": "x",
         "y": [
          "dep_1",
          "dep_2",
          "dep_3",
          "dep_4"
         ],
         "yaxis": "y"
        },
        {
         "base": [
          "2022-08-13T07:45:00.000000000",
          "2022-08-13T08:00:00.000000000",
          "2022-08-13T10:30:00.000000000",
          "2022-08-13T18:00:00.000000000"
         ],
         "hovertemplate": "Train=47281_13<br>Start=%{base}<br>Finish=%{x}<br>Tâches=%{y}<extra></extra>",
         "legendgroup": "47281_13",
         "marker": {
          "color": "#B6E880",
          "pattern": {
           "shape": ""
          }
         },
         "name": "47281_13",
         "orientation": "h",
         "showlegend": true,
         "textposition": "auto",
         "type": "bar",
         "x": {
          "bdata": "oLsNAEBUiQCguw0AgE8SAA==",
          "dtype": "i4"
         },
         "xaxis": "x",
         "y": [
          "dep_1",
          "dep_2",
          "dep_3",
          "dep_4"
         ],
         "yaxis": "y"
        },
        {
         "base": [
          "2022-08-12T20:15:00.000000000",
          "2022-08-12T20:45:00.000000000",
          "2022-08-12T23:15:00.000000000",
          "2022-08-13T01:45:00.000000000"
         ],
         "hovertemplate": "Train=489044_13<br>Start=%{base}<br>Finish=%{x}<br>Tâches=%{y}<extra></extra>",
         "legendgroup": "489044_13",
         "marker": {
          "color": "#FF97FF",
          "pattern": {
           "shape": ""
          }
         },
         "name": "489044_13",
         "orientation": "h",
         "showlegend": true,
         "textposition": "auto",
         "type": "bar",
         "x": {
          "bdata": "oLsNAEBUiQCguw0AgE8SAA==",
          "dtype": "i4"
         },
         "xaxis": "x",
         "y": [
          "dep_1",
          "dep_2",
          "dep_3",
          "dep_4"
         ],
         "yaxis": "y"
        },
        {
         "base": [
          "2022-08-12T23:45:00.000000000",
          "2022-08-13T00:00:00.000000000",
          "2022-08-13T02:30:00.000000000",
          "2022-08-13T14:30:00.000000000"
         ],
         "hovertemplate": "Train=489119_13<br>Start=%{base}<br>Finish=%{x}<br>Tâches=%{y}<extra></extra>",
         "legendgroup": "489119_13",
         "marker": {
          "color": "#FECB52",
          "pattern": {
           "shape": ""
          }
         },
         "name": "489119_13",
         "orientation": "h",
         "showlegend": true,
         "textposition": "auto",
         "type": "bar",
         "x": {
          "bdata": "oLsNAEBUiQCguw0AgE8SAA==",
          "dtype": "i4"
         },
         "xaxis": "x",
         "y": [
          "dep_1",
          "dep_2",
          "dep_3",
          "dep_4"
         ],
         "yaxis": "y"
        },
        {
         "base": [
          "2022-08-13T00:45:00.000000000",
          "2022-08-13T01:00:00.000000000",
          "2022-08-13T03:30:00.000000000",
          "2022-08-13T05:45:00.000000000"
         ],
         "hovertemplate": "Train=489447_13<br>Start=%{base}<br>Finish=%{x}<br>Tâches=%{y}<extra></extra>",
         "legendgroup": "489447_13",
         "marker": {
          "color": "#636efa",
          "pattern": {
           "shape": ""
          }
         },
         "name": "489447_13",
         "orientation": "h",
         "showlegend": true,
         "textposition": "auto",
         "type": "bar",
         "x": {
          "bdata": "oLsNAEBUiQCguw0AgE8SAA==",
          "dtype": "i4"
         },
         "xaxis": "x",
         "y": [
          "dep_1",
          "dep_2",
          "dep_3",
          "dep_4"
         ],
         "yaxis": "y"
        },
        {
         "base": [
          "2022-08-12T19:45:00.000000000",
          "2022-08-12T20:00:00.000000000",
          "2022-08-12T22:30:00.000000000",
          "2022-08-13T05:15:00.000000000"
         ],
         "hovertemplate": "Train=54051_13<br>Start=%{base}<br>Finish=%{x}<br>Tâches=%{y}<extra></extra>",
         "legendgroup": "54051_13",
         "marker": {
          "color": "#EF553B",
          "pattern": {
           "shape": ""
          }
         },
         "name": "54051_13",
         "orientation": "h",
         "showlegend": true,
         "textposition": "auto",
         "type": "bar",
         "x": {
          "bdata": "oLsNAEBUiQCguw0AgE8SAA==",
          "dtype": "i4"
         },
         "xaxis": "x",
         "y": [
          "dep_1",
          "dep_2",
          "dep_3",
          "dep_4"
         ],
         "yaxis": "y"
        },
        {
         "base": [
          "2022-08-12T16:15:00.000000000",
          "2022-08-12T16:30:00.000000000",
          "2022-08-12T19:00:00.000000000",
          "2022-08-13T03:30:00.000000000"
         ],
         "hovertemplate": "Train=54086_13<br>Start=%{base}<br>Finish=%{x}<br>Tâches=%{y}<extra></extra>",
         "legendgroup": "54086_13",
         "marker": {
          "color": "#00cc96",
          "pattern": {
           "shape": ""
          }
         },
         "name": "54086_13",
         "orientation": "h",
         "showlegend": true,
         "textposition": "auto",
         "type": "bar",
         "x": {
          "bdata": "oLsNAEBUiQCguw0AgE8SAA==",
          "dtype": "i4"
         },
         "xaxis": "x",
         "y": [
          "dep_1",
          "dep_2",
          "dep_3",
          "dep_4"
         ],
         "yaxis": "y"
        },
        {
         "base": [
          "2022-08-14T09:30:00.000000000",
          "2022-08-14T09:45:00.000000000",
          "2022-08-14T12:15:00.000000000",
          "2022-08-14T17:15:00.000000000"
         ],
         "hovertemplate": "Train=431037_14<br>Start=%{base}<br>Finish=%{x}<br>Tâches=%{y}<extra></extra>",
         "legendgroup": "431037_14",
         "marker": {
          "color": "#ab63fa",
          "pattern": {
           "shape": ""
          }
         },
         "name": "431037_14",
         "orientation": "h",
         "showlegend": true,
         "textposition": "auto",
         "type": "bar",
         "x": {
          "bdata": "oLsNAEBUiQCguw0AgE8SAA==",
          "dtype": "i4"
         },
         "xaxis": "x",
         "y": [
          "dep_1",
          "dep_2",
          "dep_3",
          "dep_4"
         ],
         "yaxis": "y"
        },
        {
         "base": [
          "2022-08-14T09:45:00.000000000",
          "2022-08-14T10:00:00.000000000",
          "2022-08-14T12:30:00.000000000",
          "2022-08-14T14:15:00.000000000"
         ],
         "hovertemplate": "Train=44247_14<br>Start=%{base}<br>Finish=%{x}<br>Tâches=%{y}<extra></extra>",
         "legendgroup": "44247_14",
         "marker": {
          "color": "#FFA15A",
          "pattern": {
           "shape": ""
          }
         },
         "name": "44247_14",
         "orientation": "h",
         "showlegend": true,
         "textposition": "auto",
         "type": "bar",
         "x": {
          "bdata": "oLsNAEBUiQCguw0AgE8SAA==",
          "dtype": "i4"
         },
         "xaxis": "x",
         "y": [
          "dep_1",
          "dep_2",
          "dep_3",
          "dep_4"
         ],
         "yaxis": "y"
        },
        {
         "base": [
          "2022-08-14T04:00:00.000000000",
          "2022-08-14T04:15:00.000000000",
          "2022-08-14T06:45:00.000000000",
          "2022-08-14T11:45:00.000000000"
         ],
         "hovertemplate": "Train=44559_14<br>Start=%{base}<br>Finish=%{x}<br>Tâches=%{y}<extra></extra>",
         "legendgroup": "44559_14",
         "marker": {
          "color": "#19d3f3",
          "pattern": {
           "shape": ""
          }
         },
         "name": "44559_14",
         "orientation": "h",
         "showlegend": true,
         "textposition": "auto",
         "type": "bar",
         "x": {
          "bdata": "oLsNAEBUiQCguw0AgE8SAA==",
          "dtype": "i4"
         },
         "xaxis": "x",
         "y": [
          "dep_1",
          "dep_2",
          "dep_3",
          "dep_4"
         ],
         "yaxis": "y"
        },
        {
         "base": [
          "2022-08-14T09:00:00.000000000",
          "2022-08-14T10:15:00.000000000",
          "2022-08-14T12:45:00.000000000",
          "2022-08-14T14:30:00.000000000"
         ],
         "hovertemplate": "Train=47820_14<br>Start=%{base}<br>Finish=%{x}<br>Tâches=%{y}<extra></extra>",
         "legendgroup": "47820_14",
         "marker": {
          "color": "#FF6692",
          "pattern": {
           "shape": ""
          }
         },
         "name": "47820_14",
         "orientation": "h",
         "showlegend": true,
         "textposition": "auto",
         "type": "bar",
         "x": {
          "bdata": "oLsNAEBUiQCguw0AgE8SAA==",
          "dtype": "i4"
         },
         "xaxis": "x",
         "y": [
          "dep_1",
          "dep_2",
          "dep_3",
          "dep_4"
         ],
         "yaxis": "y"
        },
        {
         "base": [
          "2022-08-13T03:45:00.000000000",
          "2022-08-13T04:00:00.000000000",
          "2022-08-13T06:30:00.000000000",
          "2022-08-14T05:45:00.000000000"
         ],
         "hovertemplate": "Train=489447_14<br>Start=%{base}<br>Finish=%{x}<br>Tâches=%{y}<extra></extra>",
         "legendgroup": "489447_14",
         "marker": {
          "color": "#B6E880",
          "pattern": {
           "shape": ""
          }
         },
         "name": "489447_14",
         "orientation": "h",
         "showlegend": true,
         "textposition": "auto",
         "type": "bar",
         "x": {
          "bdata": "oLsNAEBUiQCguw0AgE8SAA==",
          "dtype": "i4"
         },
         "xaxis": "x",
         "y": [
          "dep_1",
          "dep_2",
          "dep_3",
          "dep_4"
         ],
         "yaxis": "y"
        },
        {
         "base": [
          "2022-08-14T00:30:00.000000000",
          "2022-08-14T00:45:00.000000000",
          "2022-08-14T03:15:00.000000000",
          "2022-08-14T03:30:00.000000000"
         ],
         "hovertemplate": "Train=54003_14<br>Start=%{base}<br>Finish=%{x}<br>Tâches=%{y}<extra></extra>",
         "legendgroup": "54003_14",
         "marker": {
          "color": "#FF97FF",
          "pattern": {
           "shape": ""
          }
         },
         "name": "54003_14",
         "orientation": "h",
         "showlegend": true,
         "textposition": "auto",
         "type": "bar",
         "x": {
          "bdata": "oLsNAEBUiQCguw0AgE8SAA==",
          "dtype": "i4"
         },
         "xaxis": "x",
         "y": [
          "dep_1",
          "dep_2",
          "dep_3",
          "dep_4"
         ],
         "yaxis": "y"
        },
        {
         "base": [
          "2022-08-14T05:45:00.000000000",
          "2022-08-14T06:00:00.000000000",
          "2022-08-14T08:30:00.000000000",
          "2022-08-14T15:15:00.000000000"
         ],
         "hovertemplate": "Train=54053_14<br>Start=%{base}<br>Finish=%{x}<br>Tâches=%{y}<extra></extra>",
         "legendgroup": "54053_14",
         "marker": {
          "color": "#FECB52",
          "pattern": {
           "shape": ""
          }
         },
         "name": "54053_14",
         "orientation": "h",
         "showlegend": true,
         "textposition": "auto",
         "type": "bar",
         "x": {
          "bdata": "oLsNAEBUiQCguw0AgE8SAA==",
          "dtype": "i4"
         },
         "xaxis": "x",
         "y": [
          "dep_1",
          "dep_2",
          "dep_3",
          "dep_4"
         ],
         "yaxis": "y"
        },
        {
         "base": [
          "2022-08-13T22:00:00.000000000",
          "2022-08-13T22:15:00.000000000",
          "2022-08-14T00:45:00.000000000",
          "2022-08-14T01:00:00.000000000"
         ],
         "hovertemplate": "Train=54055_14<br>Start=%{base}<br>Finish=%{x}<br>Tâches=%{y}<extra></extra>",
         "legendgroup": "54055_14",
         "marker": {
          "color": "#636efa",
          "pattern": {
           "shape": ""
          }
         },
         "name": "54055_14",
         "orientation": "h",
         "showlegend": true,
         "textposition": "auto",
         "type": "bar",
         "x": {
          "bdata": "oLsNAEBUiQCguw0AgE8SAA==",
          "dtype": "i4"
         },
         "xaxis": "x",
         "y": [
          "dep_1",
          "dep_2",
          "dep_3",
          "dep_4"
         ],
         "yaxis": "y"
        },
        {
         "base": [
          "2022-08-13T04:00:00.000000000",
          "2022-08-13T04:15:00.000000000",
          "2022-08-13T06:45:00.000000000",
          "2022-08-14T03:30:00.000000000"
         ],
         "hovertemplate": "Train=54086_14<br>Start=%{base}<br>Finish=%{x}<br>Tâches=%{y}<extra></extra>",
         "legendgroup": "54086_14",
         "marker": {
          "color": "#EF553B",
          "pattern": {
           "shape": ""
          }
         },
         "name": "54086_14",
         "orientation": "h",
         "showlegend": true,
         "textposition": "auto",
         "type": "bar",
         "x": {
          "bdata": "oLsNAEBUiQCguw0AgE8SAA==",
          "dtype": "i4"
         },
         "xaxis": "x",
         "y": [
          "dep_1",
          "dep_2",
          "dep_3",
          "dep_4"
         ],
         "yaxis": "y"
        },
        {
         "base": [
          "2022-08-15T02:00:00.000000000",
          "2022-08-15T02:15:00.000000000",
          "2022-08-15T04:45:00.000000000",
          "2022-08-15T19:15:00.000000000"
         ],
         "hovertemplate": "Train=400014_15<br>Start=%{base}<br>Finish=%{x}<br>Tâches=%{y}<extra></extra>",
         "legendgroup": "400014_15",
         "marker": {
          "color": "#00cc96",
          "pattern": {
           "shape": ""
          }
         },
         "name": "400014_15",
         "orientation": "h",
         "showlegend": true,
         "textposition": "auto",
         "type": "bar",
         "x": {
          "bdata": "oLsNAEBUiQCguw0AgE8SAA==",
          "dtype": "i4"
         },
         "xaxis": "x",
         "y": [
          "dep_1",
          "dep_2",
          "dep_3",
          "dep_4"
         ],
         "yaxis": "y"
        },
        {
         "base": [
          "2022-08-13T00:30:00.000000000",
          "2022-08-13T00:45:00.000000000",
          "2022-08-13T03:15:00.000000000",
          "2022-08-15T14:30:00.000000000"
         ],
         "hovertemplate": "Train=431035_15<br>Start=%{base}<br>Finish=%{x}<br>Tâches=%{y}<extra></extra>",
         "legendgroup": "431035_15",
         "marker": {
          "color": "#ab63fa",
          "pattern": {
           "shape": ""
          }
         },
         "name": "431035_15",
         "orientation": "h",
         "showlegend": true,
         "textposition": "auto",
         "type": "bar",
         "x": {
          "bdata": "oLsNAEBUiQCguw0AgE8SAA==",
          "dtype": "i4"
         },
         "xaxis": "x",
         "y": [
          "dep_1",
          "dep_2",
          "dep_3",
          "dep_4"
         ],
         "yaxis": "y"
        },
        {
         "base": [
          "2022-08-13T05:45:00.000000000",
          "2022-08-13T06:00:00.000000000",
          "2022-08-13T08:30:00.000000000",
          "2022-08-15T05:15:00.000000000"
         ],
         "hovertemplate": "Train=431121_15<br>Start=%{base}<br>Finish=%{x}<br>Tâches=%{y}<extra></extra>",
         "legendgroup": "431121_15",
         "marker": {
          "color": "#FFA15A",
          "pattern": {
           "shape": ""
          }
         },
         "name": "431121_15",
         "orientation": "h",
         "showlegend": true,
         "textposition": "auto",
         "type": "bar",
         "x": {
          "bdata": "oLsNAEBUiQCguw0AgE8SAA==",
          "dtype": "i4"
         },
         "xaxis": "x",
         "y": [
          "dep_1",
          "dep_2",
          "dep_3",
          "dep_4"
         ],
         "yaxis": "y"
        },
        {
         "base": [
          "2022-08-14T10:15:00.000000000",
          "2022-08-14T10:30:00.000000000",
          "2022-08-14T22:30:00.000000000",
          "2022-08-15T07:00:00.000000000"
         ],
         "hovertemplate": "Train=450226_15<br>Start=%{base}<br>Finish=%{x}<br>Tâches=%{y}<extra></extra>",
         "legendgroup": "450226_15",
         "marker": {
          "color": "#19d3f3",
          "pattern": {
           "shape": ""
          }
         },
         "name": "450226_15",
         "orientation": "h",
         "showlegend": true,
         "textposition": "auto",
         "type": "bar",
         "x": {
          "bdata": "oLsNAEBUiQCguw0AgE8SAA==",
          "dtype": "i4"
         },
         "xaxis": "x",
         "y": [
          "dep_1",
          "dep_2",
          "dep_3",
          "dep_4"
         ],
         "yaxis": "y"
        },
        {
         "base": [
          "2022-08-13T04:15:00.000000000",
          "2022-08-14T10:30:00.000000000",
          "2022-08-14T21:00:00.000000000",
          "2022-08-15T05:45:00.000000000"
         ],
         "hovertemplate": "Train=489447_15<br>Start=%{base}<br>Finish=%{x}<br>Tâches=%{y}<extra></extra>",
         "legendgroup": "489447_15",
         "marker": {
          "color": "#FF6692",
          "pattern": {
           "shape": ""
          }
         },
         "name": "489447_15",
         "orientation": "h",
         "showlegend": true,
         "textposition": "auto",
         "type": "bar",
         "x": {
          "bdata": "oLsNAEBUiQCguw0AgE8SAA==",
          "dtype": "i4"
         },
         "xaxis": "x",
         "y": [
          "dep_1",
          "dep_2",
          "dep_3",
          "dep_4"
         ],
         "yaxis": "y"
        },
        {
         "base": [
          "2022-08-14T06:00:00.000000000",
          "2022-08-15T00:15:00.000000000",
          "2022-08-15T02:45:00.000000000",
          "2022-08-15T03:30:00.000000000"
         ],
         "hovertemplate": "Train=54003_15<br>Start=%{base}<br>Finish=%{x}<br>Tâches=%{y}<extra></extra>",
         "legendgroup": "54003_15",
         "marker": {
          "color": "#B6E880",
          "pattern": {
           "shape": ""
          }
         },
         "name": "54003_15",
         "orientation": "h",
         "showlegend": true,
         "textposition": "auto",
         "type": "bar",
         "x": {
          "bdata": "oLsNAEBUiQCguw0AgE8SAA==",
          "dtype": "i4"
         },
         "xaxis": "x",
         "y": [
          "dep_1",
          "dep_2",
          "dep_3",
          "dep_4"
         ],
         "yaxis": "y"
        },
        {
         "base": [
          "2022-08-14T02:00:00.000000000",
          "2022-08-14T02:15:00.000000000",
          "2022-08-14T04:45:00.000000000",
          "2022-08-15T05:00:00.000000000"
         ],
         "hovertemplate": "Train=54051_15<br>Start=%{base}<br>Finish=%{x}<br>Tâches=%{y}<extra></extra>",
         "legendgroup": "54051_15",
         "marker": {
          "color": "#FF97FF",
          "pattern": {
           "shape": ""
          }
         },
         "name": "54051_15",
         "orientation": "h",
         "showlegend": true,
         "textposition": "auto",
         "type": "bar",
         "x": {
          "bdata": "oLsNAEBUiQCguw0AgE8SAA==",
          "dtype": "i4"
         },
         "xaxis": "x",
         "y": [
          "dep_1",
          "dep_2",
          "dep_3",
          "dep_4"
         ],
         "yaxis": "y"
        },
        {
         "base": [
          "2022-08-14T10:00:00.000000000",
          "2022-08-14T10:15:00.000000000",
          "2022-08-15T03:15:00.000000000",
          "2022-08-15T03:30:00.000000000"
         ],
         "hovertemplate": "Train=54086_15<br>Start=%{base}<br>Finish=%{x}<br>Tâches=%{y}<extra></extra>",
         "legendgroup": "54086_15",
         "marker": {
          "color": "#FECB52",
          "pattern": {
           "shape": ""
          }
         },
         "name": "54086_15",
         "orientation": "h",
         "showlegend": true,
         "textposition": "auto",
         "type": "bar",
         "x": {
          "bdata": "oLsNAEBUiQCguw0AgE8SAA==",
          "dtype": "i4"
         },
         "xaxis": "x",
         "y": [
          "dep_1",
          "dep_2",
          "dep_3",
          "dep_4"
         ],
         "yaxis": "y"
        },
        {
         "base": [
          "2022-08-13T23:30:00.000000000",
          "2022-08-13T23:45:00.000000000",
          "2022-08-14T02:30:00.000000000",
          "2022-08-15T13:45:00.000000000"
         ],
         "hovertemplate": "Train=54231_15<br>Start=%{base}<br>Finish=%{x}<br>Tâches=%{y}<extra></extra>",
         "legendgroup": "54231_15",
         "marker": {
          "color": "#636efa",
          "pattern": {
           "shape": ""
          }
         },
         "name": "54231_15",
         "orientation": "h",
         "showlegend": true,
         "textposition": "auto",
         "type": "bar",
         "x": {
          "bdata": "oLsNAEBUiQCguw0AgE8SAA==",
          "dtype": "i4"
         },
         "xaxis": "x",
         "y": [
          "dep_1",
          "dep_2",
          "dep_3",
          "dep_4"
         ],
         "yaxis": "y"
        },
        {
         "base": [
          "2022-08-15T23:15:00.000000000",
          "2022-08-15T23:30:00.000000000",
          "2022-08-16T02:00:00.000000000",
          "2022-08-16T02:15:00.000000000"
         ],
         "hovertemplate": "Train=41258_16<br>Start=%{base}<br>Finish=%{x}<br>Tâches=%{y}<extra></extra>",
         "legendgroup": "41258_16",
         "marker": {
          "color": "#EF553B",
          "pattern": {
           "shape": ""
          }
         },
         "name": "41258_16",
         "orientation": "h",
         "showlegend": true,
         "textposition": "auto",
         "type": "bar",
         "x": {
          "bdata": "oLsNAEBUiQCguw0AgE8SAA==",
          "dtype": "i4"
         },
         "xaxis": "x",
         "y": [
          "dep_1",
          "dep_2",
          "dep_3",
          "dep_4"
         ],
         "yaxis": "y"
        },
        {
         "base": [
          "2022-08-12T18:00:00.000000000",
          "2022-08-12T18:15:00.000000000",
          "2022-08-12T20:45:00.000000000",
          "2022-08-16T05:45:00.000000000"
         ],
         "hovertemplate": "Train=431091_16<br>Start=%{base}<br>Finish=%{x}<br>Tâches=%{y}<extra></extra>",
         "legendgroup": "431091_16",
         "marker": {
          "color": "#00cc96",
          "pattern": {
           "shape": ""
          }
         },
         "name": "431091_16",
         "orientation": "h",
         "showlegend": true,
         "textposition": "auto",
         "type": "bar",
         "x": {
          "bdata": "oLsNAEBUiQCguw0AgE8SAA==",
          "dtype": "i4"
         },
         "xaxis": "x",
         "y": [
          "dep_1",
          "dep_2",
          "dep_3",
          "dep_4"
         ],
         "yaxis": "y"
        },
        {
         "base": [
          "2022-08-14T09:15:00.000000000",
          "2022-08-14T09:30:00.000000000",
          "2022-08-14T12:00:00.000000000",
          "2022-08-16T01:45:00.000000000"
         ],
         "hovertemplate": "Train=489044_16<br>Start=%{base}<br>Finish=%{x}<br>Tâches=%{y}<extra></extra>",
         "legendgroup": "489044_16",
         "marker": {
          "color": "#ab63fa",
          "pattern": {
           "shape": ""
          }
         },
         "name": "489044_16",
         "orientation": "h",
         "showlegend": true,
         "textposition": "auto",
         "type": "bar",
         "x": {
          "bdata": "oLsNAEBUiQCguw0AgE8SAA==",
          "dtype": "i4"
         },
         "xaxis": "x",
         "y": [
          "dep_1",
          "dep_2",
          "dep_3",
          "dep_4"
         ],
         "yaxis": "y"
        },
        {
         "base": [
          "2022-08-11T22:45:00.000000000",
          "2022-08-11T23:00:00.000000000",
          "2022-08-12T01:30:00.000000000",
          "2022-08-16T05:00:00.000000000"
         ],
         "hovertemplate": "Train=54051_16<br>Start=%{base}<br>Finish=%{x}<br>Tâches=%{y}<extra></extra>",
         "legendgroup": "54051_16",
         "marker": {
          "color": "#FFA15A",
          "pattern": {
           "shape": ""
          }
         },
         "name": "54051_16",
         "orientation": "h",
         "showlegend": true,
         "textposition": "auto",
         "type": "bar",
         "x": {
          "bdata": "oLsNAEBUiQCguw0AgE8SAA==",
          "dtype": "i4"
         },
         "xaxis": "x",
         "y": [
          "dep_1",
          "dep_2",
          "dep_3",
          "dep_4"
         ],
         "yaxis": "y"
        },
        {
         "base": [
          "2022-08-14T00:15:00.000000000",
          "2022-08-14T00:30:00.000000000",
          "2022-08-14T08:45:00.000000000",
          "2022-08-17T02:45:00.000000000"
         ],
         "hovertemplate": "Train=412124_17<br>Start=%{base}<br>Finish=%{x}<br>Tâches=%{y}<extra></extra>",
         "legendgroup": "412124_17",
         "marker": {
          "color": "#19d3f3",
          "pattern": {
           "shape": ""
          }
         },
         "name": "412124_17",
         "orientation": "h",
         "showlegend": true,
         "textposition": "auto",
         "type": "bar",
         "x": {
          "bdata": "oLsNAEBUiQCguw0AgE8SAA==",
          "dtype": "i4"
         },
         "xaxis": "x",
         "y": [
          "dep_1",
          "dep_2",
          "dep_3",
          "dep_4"
         ],
         "yaxis": "y"
        },
        {
         "base": [
          "2022-08-10T13:45:00.000000000",
          "2022-08-10T14:00:00.000000000",
          "2022-08-10T16:30:00.000000000",
          "2022-08-17T10:30:00.000000000"
         ],
         "hovertemplate": "Train=431113_17<br>Start=%{base}<br>Finish=%{x}<br>Tâches=%{y}<extra></extra>",
         "legendgroup": "431113_17",
         "marker": {
          "color": "#FF6692",
          "pattern": {
           "shape": ""
          }
         },
         "name": "431113_17",
         "orientation": "h",
         "showlegend": true,
         "textposition": "auto",
         "type": "bar",
         "x": {
          "bdata": "oLsNAEBUiQCguw0AgE8SAA==",
          "dtype": "i4"
         },
         "xaxis": "x",
         "y": [
          "dep_1",
          "dep_2",
          "dep_3",
          "dep_4"
         ],
         "yaxis": "y"
        }
       ],
       "layout": {
        "barmode": "overlay",
        "legend": {
         "title": {
          "text": "Train"
         },
         "tracegroupgap": 0
        },
        "margin": {
         "t": 60
        },
        "template": {
         "data": {
          "bar": [
           {
            "error_x": {
             "color": "#2a3f5f"
            },
            "error_y": {
             "color": "#2a3f5f"
            },
            "marker": {
             "line": {
              "color": "#E5ECF6",
              "width": 0.5
             },
             "pattern": {
              "fillmode": "overlay",
              "size": 10,
              "solidity": 0.2
             }
            },
            "type": "bar"
           }
          ],
          "barpolar": [
           {
            "marker": {
             "line": {
              "color": "#E5ECF6",
              "width": 0.5
             },
             "pattern": {
              "fillmode": "overlay",
              "size": 10,
              "solidity": 0.2
             }
            },
            "type": "barpolar"
           }
          ],
          "carpet": [
           {
            "aaxis": {
             "endlinecolor": "#2a3f5f",
             "gridcolor": "white",
             "linecolor": "white",
             "minorgridcolor": "white",
             "startlinecolor": "#2a3f5f"
            },
            "baxis": {
             "endlinecolor": "#2a3f5f",
             "gridcolor": "white",
             "linecolor": "white",
             "minorgridcolor": "white",
             "startlinecolor": "#2a3f5f"
            },
            "type": "carpet"
           }
          ],
          "choropleth": [
           {
            "colorbar": {
             "outlinewidth": 0,
             "ticks": ""
            },
            "type": "choropleth"
           }
          ],
          "contour": [
           {
            "colorbar": {
             "outlinewidth": 0,
             "ticks": ""
            },
            "colorscale": [
             [
              0,
              "#0d0887"
             ],
             [
              0.1111111111111111,
              "#46039f"
             ],
             [
              0.2222222222222222,
              "#7201a8"
             ],
             [
              0.3333333333333333,
              "#9c179e"
             ],
             [
              0.4444444444444444,
              "#bd3786"
             ],
             [
              0.5555555555555556,
              "#d8576b"
             ],
             [
              0.6666666666666666,
              "#ed7953"
             ],
             [
              0.7777777777777778,
              "#fb9f3a"
             ],
             [
              0.8888888888888888,
              "#fdca26"
             ],
             [
              1,
              "#f0f921"
             ]
            ],
            "type": "contour"
           }
          ],
          "contourcarpet": [
           {
            "colorbar": {
             "outlinewidth": 0,
             "ticks": ""
            },
            "type": "contourcarpet"
           }
          ],
          "heatmap": [
           {
            "colorbar": {
             "outlinewidth": 0,
             "ticks": ""
            },
            "colorscale": [
             [
              0,
              "#0d0887"
             ],
             [
              0.1111111111111111,
              "#46039f"
             ],
             [
              0.2222222222222222,
              "#7201a8"
             ],
             [
              0.3333333333333333,
              "#9c179e"
             ],
             [
              0.4444444444444444,
              "#bd3786"
             ],
             [
              0.5555555555555556,
              "#d8576b"
             ],
             [
              0.6666666666666666,
              "#ed7953"
             ],
             [
              0.7777777777777778,
              "#fb9f3a"
             ],
             [
              0.8888888888888888,
              "#fdca26"
             ],
             [
              1,
              "#f0f921"
             ]
            ],
            "type": "heatmap"
           }
          ],
          "histogram": [
           {
            "marker": {
             "pattern": {
              "fillmode": "overlay",
              "size": 10,
              "solidity": 0.2
             }
            },
            "type": "histogram"
           }
          ],
          "histogram2d": [
           {
            "colorbar": {
             "outlinewidth": 0,
             "ticks": ""
            },
            "colorscale": [
             [
              0,
              "#0d0887"
             ],
             [
              0.1111111111111111,
              "#46039f"
             ],
             [
              0.2222222222222222,
              "#7201a8"
             ],
             [
              0.3333333333333333,
              "#9c179e"
             ],
             [
              0.4444444444444444,
              "#bd3786"
             ],
             [
              0.5555555555555556,
              "#d8576b"
             ],
             [
              0.6666666666666666,
              "#ed7953"
             ],
             [
              0.7777777777777778,
              "#fb9f3a"
             ],
             [
              0.8888888888888888,
              "#fdca26"
             ],
             [
              1,
              "#f0f921"
             ]
            ],
            "type": "histogram2d"
           }
          ],
          "histogram2dcontour": [
           {
            "colorbar": {
             "outlinewidth": 0,
             "ticks": ""
            },
            "colorscale": [
             [
              0,
              "#0d0887"
             ],
             [
              0.1111111111111111,
              "#46039f"
             ],
             [
              0.2222222222222222,
              "#7201a8"
             ],
             [
              0.3333333333333333,
              "#9c179e"
             ],
             [
              0.4444444444444444,
              "#bd3786"
             ],
             [
              0.5555555555555556,
              "#d8576b"
             ],
             [
              0.6666666666666666,
              "#ed7953"
             ],
             [
              0.7777777777777778,
              "#fb9f3a"
             ],
             [
              0.8888888888888888,
              "#fdca26"
             ],
             [
              1,
              "#f0f921"
             ]
            ],
            "type": "histogram2dcontour"
           }
          ],
          "mesh3d": [
           {
            "colorbar": {
             "outlinewidth": 0,
             "ticks": ""
            },
            "type": "mesh3d"
           }
          ],
          "parcoords": [
           {
            "line": {
             "colorbar": {
              "outlinewidth": 0,
              "ticks": ""
             }
            },
            "type": "parcoords"
           }
          ],
          "pie": [
           {
            "automargin": true,
            "type": "pie"
           }
          ],
          "scatter": [
           {
            "fillpattern": {
             "fillmode": "overlay",
             "size": 10,
             "solidity": 0.2
            },
            "type": "scatter"
           }
          ],
          "scatter3d": [
           {
            "line": {
             "colorbar": {
              "outlinewidth": 0,
              "ticks": ""
             }
            },
            "marker": {
             "colorbar": {
              "outlinewidth": 0,
              "ticks": ""
             }
            },
            "type": "scatter3d"
           }
          ],
          "scattercarpet": [
           {
            "marker": {
             "colorbar": {
              "outlinewidth": 0,
              "ticks": ""
             }
            },
            "type": "scattercarpet"
           }
          ],
          "scattergeo": [
           {
            "marker": {
             "colorbar": {
              "outlinewidth": 0,
              "ticks": ""
             }
            },
            "type": "scattergeo"
           }
          ],
          "scattergl": [
           {
            "marker": {
             "colorbar": {
              "outlinewidth": 0,
              "ticks": ""
             }
            },
            "type": "scattergl"
           }
          ],
          "scattermap": [
           {
            "marker": {
             "colorbar": {
              "outlinewidth": 0,
              "ticks": ""
             }
            },
            "type": "scattermap"
           }
          ],
          "scattermapbox": [
           {
            "marker": {
             "colorbar": {
              "outlinewidth": 0,
              "ticks": ""
             }
            },
            "type": "scattermapbox"
           }
          ],
          "scatterpolar": [
           {
            "marker": {
             "colorbar": {
              "outlinewidth": 0,
              "ticks": ""
             }
            },
            "type": "scatterpolar"
           }
          ],
          "scatterpolargl": [
           {
            "marker": {
             "colorbar": {
              "outlinewidth": 0,
              "ticks": ""
             }
            },
            "type": "scatterpolargl"
           }
          ],
          "scatterternary": [
           {
            "marker": {
             "colorbar": {
              "outlinewidth": 0,
              "ticks": ""
             }
            },
            "type": "scatterternary"
           }
          ],
          "surface": [
           {
            "colorbar": {
             "outlinewidth": 0,
             "ticks": ""
            },
            "colorscale": [
             [
              0,
              "#0d0887"
             ],
             [
              0.1111111111111111,
              "#46039f"
             ],
             [
              0.2222222222222222,
              "#7201a8"
             ],
             [
              0.3333333333333333,
              "#9c179e"
             ],
             [
              0.4444444444444444,
              "#bd3786"
             ],
             [
              0.5555555555555556,
              "#d8576b"
             ],
             [
              0.6666666666666666,
              "#ed7953"
             ],
             [
              0.7777777777777778,
              "#fb9f3a"
             ],
             [
              0.8888888888888888,
              "#fdca26"
             ],
             [
              1,
              "#f0f921"
             ]
            ],
            "type": "surface"
           }
          ],
          "table": [
           {
            "cells": {
             "fill": {
              "color": "#EBF0F8"
             },
             "line": {
              "color": "white"
             }
            },
            "header": {
             "fill": {
              "color": "#C8D4E3"
             },
             "line": {
              "color": "white"
             }
            },
            "type": "table"
           }
          ]
         },
         "layout": {
          "annotationdefaults": {
           "arrowcolor": "#2a3f5f",
           "arrowhead": 0,
           "arrowwidth": 1
          },
          "autotypenumbers": "strict",
          "coloraxis": {
           "colorbar": {
            "outlinewidth": 0,
            "ticks": ""
           }
          },
          "colorscale": {
           "diverging": [
            [
             0,
             "#8e0152"
            ],
            [
             0.1,
             "#c51b7d"
            ],
            [
             0.2,
             "#de77ae"
            ],
            [
             0.3,
             "#f1b6da"
            ],
            [
             0.4,
             "#fde0ef"
            ],
            [
             0.5,
             "#f7f7f7"
            ],
            [
             0.6,
             "#e6f5d0"
            ],
            [
             0.7,
             "#b8e186"
            ],
            [
             0.8,
             "#7fbc41"
            ],
            [
             0.9,
             "#4d9221"
            ],
            [
             1,
             "#276419"
            ]
           ],
           "sequential": [
            [
             0,
             "#0d0887"
            ],
            [
             0.1111111111111111,
             "#46039f"
            ],
            [
             0.2222222222222222,
             "#7201a8"
            ],
            [
             0.3333333333333333,
             "#9c179e"
            ],
            [
             0.4444444444444444,
             "#bd3786"
            ],
            [
             0.5555555555555556,
             "#d8576b"
            ],
            [
             0.6666666666666666,
             "#ed7953"
            ],
            [
             0.7777777777777778,
             "#fb9f3a"
            ],
            [
             0.8888888888888888,
             "#fdca26"
            ],
            [
             1,
             "#f0f921"
            ]
           ],
           "sequentialminus": [
            [
             0,
             "#0d0887"
            ],
            [
             0.1111111111111111,
             "#46039f"
            ],
            [
             0.2222222222222222,
             "#7201a8"
            ],
            [
             0.3333333333333333,
             "#9c179e"
            ],
            [
             0.4444444444444444,
             "#bd3786"
            ],
            [
             0.5555555555555556,
             "#d8576b"
            ],
            [
             0.6666666666666666,
             "#ed7953"
            ],
            [
             0.7777777777777778,
             "#fb9f3a"
            ],
            [
             0.8888888888888888,
             "#fdca26"
            ],
            [
             1,
             "#f0f921"
            ]
           ]
          },
          "colorway": [
           "#636efa",
           "#EF553B",
           "#00cc96",
           "#ab63fa",
           "#FFA15A",
           "#19d3f3",
           "#FF6692",
           "#B6E880",
           "#FF97FF",
           "#FECB52"
          ],
          "font": {
           "color": "#2a3f5f"
          },
          "geo": {
           "bgcolor": "white",
           "lakecolor": "white",
           "landcolor": "#E5ECF6",
           "showlakes": true,
           "showland": true,
           "subunitcolor": "white"
          },
          "hoverlabel": {
           "align": "left"
          },
          "hovermode": "closest",
          "mapbox": {
           "style": "light"
          },
          "paper_bgcolor": "white",
          "plot_bgcolor": "#E5ECF6",
          "polar": {
           "angularaxis": {
            "gridcolor": "white",
            "linecolor": "white",
            "ticks": ""
           },
           "bgcolor": "#E5ECF6",
           "radialaxis": {
            "gridcolor": "white",
            "linecolor": "white",
            "ticks": ""
           }
          },
          "scene": {
           "xaxis": {
            "backgroundcolor": "#E5ECF6",
            "gridcolor": "white",
            "gridwidth": 2,
            "linecolor": "white",
            "showbackground": true,
            "ticks": "",
            "zerolinecolor": "white"
           },
           "yaxis": {
            "backgroundcolor": "#E5ECF6",
            "gridcolor": "white",
            "gridwidth": 2,
            "linecolor": "white",
            "showbackground": true,
            "ticks": "",
            "zerolinecolor": "white"
           },
           "zaxis": {
            "backgroundcolor": "#E5ECF6",
            "gridcolor": "white",
            "gridwidth": 2,
            "linecolor": "white",
            "showbackground": true,
            "ticks": "",
            "zerolinecolor": "white"
           }
          },
          "shapedefaults": {
           "line": {
            "color": "#2a3f5f"
           }
          },
          "ternary": {
           "aaxis": {
            "gridcolor": "white",
            "linecolor": "white",
            "ticks": ""
           },
           "baxis": {
            "gridcolor": "white",
            "linecolor": "white",
            "ticks": ""
           },
           "bgcolor": "#E5ECF6",
           "caxis": {
            "gridcolor": "white",
            "linecolor": "white",
            "ticks": ""
           }
          },
          "title": {
           "x": 0.05
          },
          "xaxis": {
           "automargin": true,
           "gridcolor": "white",
           "linecolor": "white",
           "ticks": "",
           "title": {
            "standoff": 15
           },
           "zerolinecolor": "white",
           "zerolinewidth": 2
          },
          "yaxis": {
           "automargin": true,
           "gridcolor": "white",
           "linecolor": "white",
           "ticks": "",
           "title": {
            "standoff": 15
           },
           "zerolinecolor": "white",
           "zerolinewidth": 2
          }
         }
        },
        "xaxis": {
         "anchor": "y",
         "domain": [
          0,
          1
         ],
         "tickformat": "%d/%m/%y %H:%M",
         "title": {
          "text": "Temps"
         },
         "type": "date"
        },
        "yaxis": {
         "anchor": "x",
         "categoryarray": [
          "dep_4",
          "dep_3",
          "dep_2",
          "dep_1",
          "arr_3",
          "arr_2",
          "arr_1"
         ],
         "categoryorder": "array",
         "domain": [
          0,
          1
         ],
         "title": {
          "text": "Tâches"
         }
        }
       }
      }
     },
     "metadata": {},
     "output_type": "display_data"
    }
   ],
   "source": [
    "visualisation_gantt(t_arr,t_dep).show()"
   ]
  },
  {
   "cell_type": "code",
   "execution_count": 6,
   "metadata": {},
   "outputs": [
    {
     "data": {
      "image/png": "[encoded data removed]",
      "text/plain": [
       "<Figure size 1000x500 with 1 Axes>"
      ]
     },
     "metadata": {},
     "output_type": "display_data"
    }
   ],
   "source": [
    "# Correction du format de la date de référence\n",
    "ref_date = datetime.datetime.strptime(\"08/08/2022\", \"%d/%m/%Y\")\n",
    "\n",
    "# Conversion des temps en dates au format \"dd/mm/yyyy/HH/MM\"\n",
    "x_date = [ref_date + datetime.timedelta(minutes=15*t) for t in range((t_max-t_min)//15+2)]\n",
    "\n",
    "# Calcul des voies occupées pour chaque chantier\n",
    "occupation_REC = np.array([quicksum(is_present['REC'][(id_train, t)].X for id_train in liste_id_train_arrivee).getValue() for t in range((t_max-t_min)//15+2)])\n",
    "occupation_FOR = np.array([quicksum(is_present['FOR'][(id_train, t)].X for id_train in liste_id_train_depart).getValue() for t in range((t_max-t_min)//15+2)])\n",
    "occupation_DEP = np.array([quicksum(is_present['DEP'][(id_train, t)].X for id_train in liste_id_train_depart).getValue() for t in range((t_max-t_min)//15+2)])\n",
    "\n",
    "if visualisation_occupation(occupation_REC, occupation_FOR, occupation_DEP, x_date):\n",
    "    plt.show()\n"
   ]
  },
  {
   "cell_type": "code",
   "execution_count": 7,
   "metadata": {},
   "outputs": [],
   "source": [
    "#Les anciennes variables de décision deviennent les nouvelles données\n",
    "t_arr = {\n",
    "        (m, id_train_arr): t_arr[(m, id_train_arr)].X\n",
    "        for m in Taches.TACHES_ARRIVEE\n",
    "        for id_train_arr in liste_id_train_arrivee\n",
    "    }\n",
    "\n",
    "t_dep = {\n",
    "        (m, id_train_dep): t_dep[(m, id_train_dep)].X\n",
    "        for m in Taches.TACHES_DEPART\n",
    "        for id_train_dep in liste_id_train_depart\n",
    "    }"
   ]
  },
  {
   "cell_type": "code",
   "execution_count": 8,
   "metadata": {},
   "outputs": [],
   "source": [
    "model2, who_arr, who_dep, nombre_agents = init_model2(\n",
    "    liste_id_train_arrivee,\n",
    "    liste_id_train_depart,\n",
    "    nb_cycles_agents,\n",
    "    h_deb,\n",
    "    nombre_roulements=nb_roulements,\n",
    "    equip=roulements_operants_sur_tache(file),\n",
    "    max_agents_sur_roulement=max_agents_sur_roulement,\n",
    "    comp_arr=comp_arr,\n",
    "    comp_dep=comp_dep,\n",
    "    nb_cycle_jour=nb_cycle_jour,\n",
    "    t_arr=t_arr,\n",
    "    t_dep=t_dep\n",
    ")"
   ]
  },
  {
   "cell_type": "code",
   "execution_count": 9,
   "metadata": {},
   "outputs": [
    {
     "name": "stdout",
     "output_type": "stream",
     "text": [
      "Ca marche !\n",
      "La valeur objectif est : 118.0\n"
     ]
    }
   ],
   "source": [
    "model2.optimize()\n",
    "\n",
    "if model2.status == GRB.INFEASIBLE:\n",
    "    print(\"Le modèle n'a pas de solution\")\n",
    "elif model2.status == GRB.UNBOUNDED:\n",
    "    print(\"Le modèle est non borné\")\n",
    "else:\n",
    "    print(\"Ca marche !\")\n",
    "    print('La valeur objectif est :', model2.objVal)"
   ]
  },
  {
   "cell_type": "code",
   "execution_count": 10,
   "metadata": {},
   "outputs": [
    {
     "name": "stdout",
     "output_type": "stream",
     "text": [
      "jour 0 roulement 1 4.0 6\n",
      "jour 1 roulement 1 4.0 6\n",
      "jour 2 roulement 1 7.0 6\n",
      "jour 3 roulement 1 6.0 6\n",
      "jour 4 roulement 1 9.0 6\n",
      "jour 5 roulement 1 7.0 6\n",
      "jour 6 roulement 1 1.0 6\n",
      "jour 7 roulement 1 0.0 6\n",
      "jour 8 roulement 1 0.0 6\n",
      "jour 9 roulement 1 0.0 6\n",
      "jour 10 roulement 1 0.0 6\n",
      "jour 0 roulement 2 3.0 8\n",
      "jour 1 roulement 2 5.0 8\n",
      "jour 2 roulement 2 5.0 8\n",
      "jour 3 roulement 2 6.0 8\n",
      "jour 4 roulement 2 4.0 8\n",
      "jour 5 roulement 2 2.0 8\n",
      "jour 6 roulement 2 4.0 8\n",
      "jour 7 roulement 2 1.0 8\n",
      "jour 8 roulement 2 0.0 8\n",
      "jour 9 roulement 2 0.0 8\n",
      "jour 10 roulement 2 0.0 8\n",
      "jour 0 roulement 3 0.0 2\n",
      "jour 1 roulement 3 0.0 2\n",
      "jour 2 roulement 3 0.0 2\n",
      "jour 3 roulement 3 0.0 2\n",
      "jour 4 roulement 3 0.0 2\n",
      "jour 5 roulement 3 1.0 2\n",
      "jour 6 roulement 3 0.0 2\n",
      "jour 7 roulement 3 0.0 2\n",
      "jour 8 roulement 3 0.0 2\n",
      "jour 9 roulement 3 0.0 2\n",
      "jour 10 roulement 3 0.0 2\n",
      "jour 0 roulement 4 2.0 1\n",
      "jour 1 roulement 4 1.0 1\n",
      "jour 2 roulement 4 1.0 1\n",
      "jour 3 roulement 4 2.0 1\n",
      "jour 4 roulement 4 1.0 1\n",
      "jour 5 roulement 4 0.0 1\n",
      "jour 6 roulement 4 0.0 1\n",
      "jour 7 roulement 4 0.0 1\n",
      "jour 8 roulement 4 0.0 1\n",
      "jour 0 roulement 5 3.0 7\n",
      "jour 1 roulement 5 6.0 7\n",
      "jour 2 roulement 5 6.0 7\n",
      "jour 3 roulement 5 5.0 7\n",
      "jour 4 roulement 5 6.0 7\n",
      "jour 5 roulement 5 4.0 7\n",
      "jour 6 roulement 5 6.0 7\n",
      "jour 7 roulement 5 3.0 7\n",
      "jour 8 roulement 5 2.0 7\n",
      "jour 9 roulement 5 1.0 7\n",
      "jour 10 roulement 5 0.0 7\n"
     ]
    }
   ],
   "source": [
    "for r in range(1, nb_roulements + 1):\n",
    "        for q in range(nb_cycles_agents[r] // nb_cycle_jour[r]):\n",
    "            print(\"jour\", q, \"roulement\", r, quicksum(\n",
    "                    [\n",
    "                        nombre_agents[(r, nb_cycle_jour[r] * q + i)].X\n",
    "                        for i in range(1, nb_cycle_jour[r] + 1)\n",
    "                    ]\n",
    "                )\n",
    "                , max_agents_sur_roulement[r])"
   ]
  },
  {
   "cell_type": "code",
   "execution_count": 11,
   "metadata": {},
   "outputs": [
    {
     "ename": "AttributeError",
     "evalue": "'float' object has no attribute 'X'",
     "output_type": "error",
     "traceback": [
      "\u001b[1;31m---------------------------------------------------------------------------\u001b[0m",
      "\u001b[1;31mAttributeError\u001b[0m                            Traceback (most recent call last)",
      "Cell \u001b[1;32mIn[11], line 1\u001b[0m\n\u001b[1;32m----> 1\u001b[0m \u001b[43mecriture_donnees_sortie\u001b[49m\u001b[43m(\u001b[49m\n\u001b[0;32m      2\u001b[0m \u001b[43m    \u001b[49m\u001b[43mt_arr\u001b[49m\u001b[43m,\u001b[49m\u001b[43m \u001b[49m\n\u001b[0;32m      3\u001b[0m \u001b[43m    \u001b[49m\u001b[43mt_dep\u001b[49m\u001b[43m,\u001b[49m\u001b[43m \u001b[49m\n\u001b[0;32m      4\u001b[0m \u001b[43m    \u001b[49m\u001b[43moccupation_REC\u001b[49m\u001b[43m,\u001b[49m\u001b[43m \u001b[49m\n\u001b[0;32m      5\u001b[0m \u001b[43m    \u001b[49m\u001b[43moccupation_FOR\u001b[49m\u001b[43m,\u001b[49m\u001b[43m \u001b[49m\n\u001b[0;32m      6\u001b[0m \u001b[43m    \u001b[49m\u001b[43moccupation_REC\u001b[49m\u001b[43m,\u001b[49m\u001b[43m \u001b[49m\n\u001b[0;32m      7\u001b[0m \u001b[43m    \u001b[49m\u001b[43mx_date\u001b[49m\n\u001b[0;32m      8\u001b[0m \u001b[43m)\u001b[49m\n",
      "File \u001b[1;32mc:\\Users\\ggeno\\OneDrive\\Documents\\optiFretSNCF\\code\\module\\utils2.py:731\u001b[0m, in \u001b[0;36mecriture_donnees_sortie\u001b[1;34m(t_arr, t_dep, occupation_REC, occupation_FOR, occupation_DEP, x_date)\u001b[0m\n\u001b[0;32m    706\u001b[0m \u001b[38;5;250m\u001b[39m\u001b[38;5;124;03m\"\"\"\u001b[39;00m\n\u001b[0;32m    707\u001b[0m \u001b[38;5;124;03mTraite les données pour les mettre dans une feuille de calcul de sortie au format standard.\u001b[39;00m\n\u001b[0;32m    708\u001b[0m \n\u001b[1;32m   (...)\u001b[0m\n\u001b[0;32m    727\u001b[0m \u001b[38;5;124;03m    True si les données sont écrites.\u001b[39;00m\n\u001b[0;32m    728\u001b[0m \u001b[38;5;124;03m\"\"\"\u001b[39;00m\n\u001b[0;32m    729\u001b[0m \u001b[38;5;66;03m# Création des données de sortie\u001b[39;00m\n\u001b[0;32m    730\u001b[0m xl \u001b[38;5;241m=\u001b[39m (\n\u001b[1;32m--> 731\u001b[0m     \u001b[43m[\u001b[49m\n\u001b[0;32m    732\u001b[0m \u001b[43m        \u001b[49m\u001b[43m{\u001b[49m\n\u001b[0;32m    733\u001b[0m \u001b[43m            \u001b[49m\u001b[38;5;124;43m\"\u001b[39;49m\u001b[38;5;124;43mId tâche\u001b[39;49m\u001b[38;5;124;43m\"\u001b[39;49m\u001b[43m:\u001b[49m\u001b[43m \u001b[49m\u001b[38;5;124;43m\"\u001b[39;49m\u001b[38;5;124;43mDEB_\u001b[39;49m\u001b[38;5;124;43m\"\u001b[39;49m\n\u001b[0;32m    734\u001b[0m \u001b[43m            \u001b[49m\u001b[38;5;241;43m+\u001b[39;49m\u001b[43m \u001b[49m\u001b[43mn_arr\u001b[49m\n\u001b[0;32m    735\u001b[0m \u001b[43m            \u001b[49m\u001b[38;5;241;43m+\u001b[39;49m\u001b[43m \u001b[49m\u001b[38;5;124;43m\"\u001b[39;49m\u001b[38;5;124;43m#\u001b[39;49m\u001b[38;5;124;43m\"\u001b[39;49m\n\u001b[0;32m    736\u001b[0m \u001b[43m            \u001b[49m\u001b[38;5;241;43m+\u001b[39;49m\u001b[43m \u001b[49m\u001b[43m(\u001b[49m\n\u001b[0;32m    737\u001b[0m \u001b[43m                \u001b[49m\u001b[43mConstantes\u001b[49m\u001b[38;5;241;43m.\u001b[39;49m\u001b[43mBASE_TIME\u001b[49m\u001b[43m \u001b[49m\u001b[38;5;241;43m+\u001b[39;49m\u001b[43m \u001b[49m\u001b[43mdatetime\u001b[49m\u001b[38;5;241;43m.\u001b[39;49m\u001b[43mtimedelta\u001b[49m\u001b[43m(\u001b[49m\u001b[43mminutes\u001b[49m\u001b[38;5;241;43m=\u001b[39;49m\u001b[43mvar_arr\u001b[49m\u001b[38;5;241;43m.\u001b[39;49m\u001b[43mX\u001b[49m\u001b[43m)\u001b[49m\n\u001b[0;32m    738\u001b[0m \u001b[43m            \u001b[49m\u001b[43m)\u001b[49m\u001b[38;5;241;43m.\u001b[39;49m\u001b[43mstrftime\u001b[49m\u001b[43m(\u001b[49m\u001b[38;5;124;43m\"\u001b[39;49m\u001b[38;5;132;43;01m%d\u001b[39;49;00m\u001b[38;5;124;43m/\u001b[39;49m\u001b[38;5;124;43m%\u001b[39;49m\u001b[38;5;124;43mm/\u001b[39;49m\u001b[38;5;124;43m%\u001b[39;49m\u001b[38;5;124;43mY\u001b[39;49m\u001b[38;5;124;43m\"\u001b[39;49m\u001b[43m)\u001b[49m\n\u001b[0;32m    739\u001b[0m \u001b[43m            \u001b[49m\u001b[38;5;241;43m+\u001b[39;49m\u001b[43m \u001b[49m\u001b[38;5;124;43m\"\u001b[39;49m\u001b[38;5;124;43m#A\u001b[39;49m\u001b[38;5;124;43m\"\u001b[39;49m\u001b[43m,\u001b[49m\n\u001b[0;32m    740\u001b[0m \u001b[43m            \u001b[49m\u001b[38;5;124;43m\"\u001b[39;49m\u001b[38;5;124;43mType de tâche\u001b[39;49m\u001b[38;5;124;43m\"\u001b[39;49m\u001b[43m:\u001b[49m\u001b[43m \u001b[49m\u001b[38;5;124;43m\"\u001b[39;49m\u001b[38;5;124;43mDEB\u001b[39;49m\u001b[38;5;124;43m\"\u001b[39;49m\u001b[43m,\u001b[49m\n\u001b[0;32m    741\u001b[0m \u001b[43m            \u001b[49m\u001b[38;5;124;43m\"\u001b[39;49m\u001b[38;5;124;43mJour\u001b[39;49m\u001b[38;5;124;43m\"\u001b[39;49m\u001b[43m:\u001b[49m\u001b[43m \u001b[49m\u001b[43m(\u001b[49m\n\u001b[0;32m    742\u001b[0m \u001b[43m                \u001b[49m\u001b[43mConstantes\u001b[49m\u001b[38;5;241;43m.\u001b[39;49m\u001b[43mBASE_TIME\u001b[49m\u001b[43m \u001b[49m\u001b[38;5;241;43m+\u001b[39;49m\u001b[43m \u001b[49m\u001b[43mdatetime\u001b[49m\u001b[38;5;241;43m.\u001b[39;49m\u001b[43mtimedelta\u001b[49m\u001b[43m(\u001b[49m\u001b[43mminutes\u001b[49m\u001b[38;5;241;43m=\u001b[39;49m\u001b[43mvar_arr\u001b[49m\u001b[38;5;241;43m.\u001b[39;49m\u001b[43mX\u001b[49m\u001b[43m)\u001b[49m\n\u001b[0;32m    743\u001b[0m \u001b[43m            \u001b[49m\u001b[43m)\u001b[49m\u001b[38;5;241;43m.\u001b[39;49m\u001b[43mstrftime\u001b[49m\u001b[43m(\u001b[49m\u001b[38;5;124;43m\"\u001b[39;49m\u001b[38;5;132;43;01m%d\u001b[39;49;00m\u001b[38;5;124;43m/\u001b[39;49m\u001b[38;5;124;43m%\u001b[39;49m\u001b[38;5;124;43mm/\u001b[39;49m\u001b[38;5;124;43m%\u001b[39;49m\u001b[38;5;124;43mY\u001b[39;49m\u001b[38;5;124;43m\"\u001b[39;49m\u001b[43m)\u001b[49m\u001b[43m,\u001b[49m\n\u001b[0;32m    744\u001b[0m \u001b[43m            \u001b[49m\u001b[38;5;124;43m\"\u001b[39;49m\u001b[38;5;124;43mHeure de début\u001b[39;49m\u001b[38;5;124;43m\"\u001b[39;49m\u001b[43m:\u001b[49m\u001b[43m \u001b[49m\u001b[43m(\u001b[49m\n\u001b[0;32m    745\u001b[0m \u001b[43m                \u001b[49m\u001b[43mConstantes\u001b[49m\u001b[38;5;241;43m.\u001b[39;49m\u001b[43mBASE_TIME\u001b[49m\u001b[43m \u001b[49m\u001b[38;5;241;43m+\u001b[39;49m\u001b[43m \u001b[49m\u001b[43mdatetime\u001b[49m\u001b[38;5;241;43m.\u001b[39;49m\u001b[43mtimedelta\u001b[49m\u001b[43m(\u001b[49m\u001b[43mminutes\u001b[49m\u001b[38;5;241;43m=\u001b[39;49m\u001b[43mvar_arr\u001b[49m\u001b[38;5;241;43m.\u001b[39;49m\u001b[43mX\u001b[49m\u001b[43m)\u001b[49m\n\u001b[0;32m    746\u001b[0m \u001b[43m            \u001b[49m\u001b[43m)\u001b[49m\u001b[38;5;241;43m.\u001b[39;49m\u001b[43mstrftime\u001b[49m\u001b[43m(\u001b[49m\u001b[38;5;124;43m\"\u001b[39;49m\u001b[38;5;124;43m%\u001b[39;49m\u001b[38;5;124;43mH:\u001b[39;49m\u001b[38;5;124;43m%\u001b[39;49m\u001b[38;5;124;43mM\u001b[39;49m\u001b[38;5;124;43m\"\u001b[39;49m\u001b[43m)\u001b[49m\u001b[43m,\u001b[49m\n\u001b[0;32m    747\u001b[0m \u001b[43m            \u001b[49m\u001b[38;5;124;43m\"\u001b[39;49m\u001b[38;5;124;43mDurée\u001b[39;49m\u001b[38;5;124;43m\"\u001b[39;49m\u001b[43m:\u001b[49m\u001b[43m \u001b[49m\u001b[38;5;241;43m15\u001b[39;49m\u001b[43m,\u001b[49m\n\u001b[0;32m    748\u001b[0m \u001b[43m            \u001b[49m\u001b[38;5;124;43m\"\u001b[39;49m\u001b[38;5;124;43mSillon\u001b[39;49m\u001b[38;5;124;43m\"\u001b[39;49m\u001b[43m:\u001b[49m\u001b[43m \u001b[49m\u001b[43mn_arr\u001b[49m\n\u001b[0;32m    749\u001b[0m \u001b[43m            \u001b[49m\u001b[38;5;241;43m+\u001b[39;49m\u001b[43m \u001b[49m\u001b[38;5;124;43m\"\u001b[39;49m\u001b[38;5;124;43m#\u001b[39;49m\u001b[38;5;124;43m\"\u001b[39;49m\n\u001b[0;32m    750\u001b[0m \u001b[43m            \u001b[49m\u001b[38;5;241;43m+\u001b[39;49m\u001b[43m \u001b[49m\u001b[43m(\u001b[49m\n\u001b[0;32m    751\u001b[0m \u001b[43m                \u001b[49m\u001b[43mConstantes\u001b[49m\u001b[38;5;241;43m.\u001b[39;49m\u001b[43mBASE_TIME\u001b[49m\u001b[43m \u001b[49m\u001b[38;5;241;43m+\u001b[39;49m\u001b[43m \u001b[49m\u001b[43mdatetime\u001b[49m\u001b[38;5;241;43m.\u001b[39;49m\u001b[43mtimedelta\u001b[49m\u001b[43m(\u001b[49m\u001b[43mminutes\u001b[49m\u001b[38;5;241;43m=\u001b[39;49m\u001b[43mvar_arr\u001b[49m\u001b[38;5;241;43m.\u001b[39;49m\u001b[43mX\u001b[49m\u001b[43m)\u001b[49m\n\u001b[0;32m    752\u001b[0m \u001b[43m            \u001b[49m\u001b[43m)\u001b[49m\u001b[38;5;241;43m.\u001b[39;49m\u001b[43mstrftime\u001b[49m\u001b[43m(\u001b[49m\u001b[38;5;124;43m\"\u001b[39;49m\u001b[38;5;132;43;01m%d\u001b[39;49;00m\u001b[38;5;124;43m/\u001b[39;49m\u001b[38;5;124;43m%\u001b[39;49m\u001b[38;5;124;43mm/\u001b[39;49m\u001b[38;5;124;43m%\u001b[39;49m\u001b[38;5;124;43mY\u001b[39;49m\u001b[38;5;124;43m\"\u001b[39;49m\u001b[43m)\u001b[49m\n\u001b[0;32m    753\u001b[0m \u001b[43m            \u001b[49m\u001b[38;5;241;43m+\u001b[39;49m\u001b[43m \u001b[49m\u001b[38;5;124;43m\"\u001b[39;49m\u001b[38;5;124;43m#A\u001b[39;49m\u001b[38;5;124;43m\"\u001b[39;49m\u001b[43m,\u001b[49m\n\u001b[0;32m    754\u001b[0m \u001b[43m        \u001b[49m\u001b[43m}\u001b[49m\n\u001b[0;32m    755\u001b[0m \u001b[43m        \u001b[49m\u001b[38;5;28;43;01mfor\u001b[39;49;00m\u001b[43m \u001b[49m\u001b[43m(\u001b[49m\u001b[43mm_arr\u001b[49m\u001b[43m,\u001b[49m\u001b[43m \u001b[49m\u001b[43mn_arr\u001b[49m\u001b[43m)\u001b[49m\u001b[43m,\u001b[49m\u001b[43m \u001b[49m\u001b[43mvar_arr\u001b[49m\u001b[43m \u001b[49m\u001b[38;5;129;43;01min\u001b[39;49;00m\u001b[43m \u001b[49m\u001b[43mt_arr\u001b[49m\u001b[38;5;241;43m.\u001b[39;49m\u001b[43mitems\u001b[49m\u001b[43m(\u001b[49m\u001b[43m)\u001b[49m\n\u001b[0;32m    756\u001b[0m \u001b[43m        \u001b[49m\u001b[38;5;28;43;01mif\u001b[39;49;00m\u001b[43m \u001b[49m\u001b[43mm_arr\u001b[49m\u001b[43m \u001b[49m\u001b[38;5;241;43m==\u001b[39;49m\u001b[43m \u001b[49m\u001b[38;5;241;43m3\u001b[39;49m\n\u001b[0;32m    757\u001b[0m \u001b[43m    \u001b[49m\u001b[43m]\u001b[49m\n\u001b[0;32m    758\u001b[0m     \u001b[38;5;241m+\u001b[39m [\n\u001b[0;32m    759\u001b[0m         {\n\u001b[0;32m    760\u001b[0m             \u001b[38;5;124m\"\u001b[39m\u001b[38;5;124mId tâche\u001b[39m\u001b[38;5;124m\"\u001b[39m: \u001b[38;5;124m\"\u001b[39m\u001b[38;5;124mFOR_\u001b[39m\u001b[38;5;124m\"\u001b[39m\n\u001b[0;32m    761\u001b[0m             \u001b[38;5;241m+\u001b[39m n_dep\n\u001b[0;32m    762\u001b[0m             \u001b[38;5;241m+\u001b[39m \u001b[38;5;124m\"\u001b[39m\u001b[38;5;124m#\u001b[39m\u001b[38;5;124m\"\u001b[39m\n\u001b[0;32m    763\u001b[0m             \u001b[38;5;241m+\u001b[39m (\n\u001b[0;32m    764\u001b[0m                 Constantes\u001b[38;5;241m.\u001b[39mBASE_TIME \u001b[38;5;241m+\u001b[39m datetime\u001b[38;5;241m.\u001b[39mtimedelta(minutes\u001b[38;5;241m=\u001b[39mvar_dep\u001b[38;5;241m.\u001b[39mX)\n\u001b[0;32m    765\u001b[0m             )\u001b[38;5;241m.\u001b[39mstrftime(\u001b[38;5;124m\"\u001b[39m\u001b[38;5;132;01m%d\u001b[39;00m\u001b[38;5;124m/\u001b[39m\u001b[38;5;124m%\u001b[39m\u001b[38;5;124mm/\u001b[39m\u001b[38;5;124m%\u001b[39m\u001b[38;5;124mY\u001b[39m\u001b[38;5;124m\"\u001b[39m)\n\u001b[0;32m    766\u001b[0m             \u001b[38;5;241m+\u001b[39m \u001b[38;5;124m\"\u001b[39m\u001b[38;5;124m#D\u001b[39m\u001b[38;5;124m\"\u001b[39m,\n\u001b[0;32m    767\u001b[0m             \u001b[38;5;124m\"\u001b[39m\u001b[38;5;124mType de tâche\u001b[39m\u001b[38;5;124m\"\u001b[39m: \u001b[38;5;124m\"\u001b[39m\u001b[38;5;124mFOR\u001b[39m\u001b[38;5;124m\"\u001b[39m,\n\u001b[0;32m    768\u001b[0m             \u001b[38;5;124m\"\u001b[39m\u001b[38;5;124mJour\u001b[39m\u001b[38;5;124m\"\u001b[39m: (\n\u001b[0;32m    769\u001b[0m                 Constantes\u001b[38;5;241m.\u001b[39mBASE_TIME \u001b[38;5;241m+\u001b[39m datetime\u001b[38;5;241m.\u001b[39mtimedelta(minutes\u001b[38;5;241m=\u001b[39mvar_dep\u001b[38;5;241m.\u001b[39mX)\n\u001b[0;32m    770\u001b[0m             )\u001b[38;5;241m.\u001b[39mstrftime(\u001b[38;5;124m\"\u001b[39m\u001b[38;5;132;01m%d\u001b[39;00m\u001b[38;5;124m/\u001b[39m\u001b[38;5;124m%\u001b[39m\u001b[38;5;124mm/\u001b[39m\u001b[38;5;124m%\u001b[39m\u001b[38;5;124mY\u001b[39m\u001b[38;5;124m\"\u001b[39m),\n\u001b[0;32m    771\u001b[0m             \u001b[38;5;124m\"\u001b[39m\u001b[38;5;124mHeure de début\u001b[39m\u001b[38;5;124m\"\u001b[39m: (\n\u001b[0;32m    772\u001b[0m                 Constantes\u001b[38;5;241m.\u001b[39mBASE_TIME \u001b[38;5;241m+\u001b[39m datetime\u001b[38;5;241m.\u001b[39mtimedelta(minutes\u001b[38;5;241m=\u001b[39mvar_dep\u001b[38;5;241m.\u001b[39mX)\n\u001b[0;32m    773\u001b[0m             )\u001b[38;5;241m.\u001b[39mstrftime(\u001b[38;5;124m\"\u001b[39m\u001b[38;5;124m%\u001b[39m\u001b[38;5;124mH:\u001b[39m\u001b[38;5;124m%\u001b[39m\u001b[38;5;124mM\u001b[39m\u001b[38;5;124m\"\u001b[39m),\n\u001b[0;32m    774\u001b[0m             \u001b[38;5;124m\"\u001b[39m\u001b[38;5;124mDurée\u001b[39m\u001b[38;5;124m\"\u001b[39m: \u001b[38;5;241m15\u001b[39m,\n\u001b[0;32m    775\u001b[0m             \u001b[38;5;124m\"\u001b[39m\u001b[38;5;124mSillon\u001b[39m\u001b[38;5;124m\"\u001b[39m: n_dep\n\u001b[0;32m    776\u001b[0m             \u001b[38;5;241m+\u001b[39m \u001b[38;5;124m\"\u001b[39m\u001b[38;5;124m#\u001b[39m\u001b[38;5;124m\"\u001b[39m\n\u001b[0;32m    777\u001b[0m             \u001b[38;5;241m+\u001b[39m (\n\u001b[0;32m    778\u001b[0m                 Constantes\u001b[38;5;241m.\u001b[39mBASE_TIME \u001b[38;5;241m+\u001b[39m datetime\u001b[38;5;241m.\u001b[39mtimedelta(minutes\u001b[38;5;241m=\u001b[39mvar_dep\u001b[38;5;241m.\u001b[39mX)\n\u001b[0;32m    779\u001b[0m             )\u001b[38;5;241m.\u001b[39mstrftime(\u001b[38;5;124m\"\u001b[39m\u001b[38;5;132;01m%d\u001b[39;00m\u001b[38;5;124m/\u001b[39m\u001b[38;5;124m%\u001b[39m\u001b[38;5;124mm/\u001b[39m\u001b[38;5;124m%\u001b[39m\u001b[38;5;124mY\u001b[39m\u001b[38;5;124m\"\u001b[39m)\n\u001b[0;32m    780\u001b[0m             \u001b[38;5;241m+\u001b[39m \u001b[38;5;124m\"\u001b[39m\u001b[38;5;124m#D\u001b[39m\u001b[38;5;124m\"\u001b[39m,\n\u001b[0;32m    781\u001b[0m         }\n\u001b[0;32m    782\u001b[0m         \u001b[38;5;28;01mfor\u001b[39;00m (m_dep, n_dep), var_dep \u001b[38;5;129;01min\u001b[39;00m t_dep\u001b[38;5;241m.\u001b[39mitems()\n\u001b[0;32m    783\u001b[0m         \u001b[38;5;28;01mif\u001b[39;00m m_dep \u001b[38;5;241m==\u001b[39m \u001b[38;5;241m1\u001b[39m\n\u001b[0;32m    784\u001b[0m     ]\n\u001b[0;32m    785\u001b[0m     \u001b[38;5;241m+\u001b[39m [\n\u001b[0;32m    786\u001b[0m         {\n\u001b[0;32m    787\u001b[0m             \u001b[38;5;124m\"\u001b[39m\u001b[38;5;124mId tâche\u001b[39m\u001b[38;5;124m\"\u001b[39m: \u001b[38;5;124m\"\u001b[39m\u001b[38;5;124mDEG_\u001b[39m\u001b[38;5;124m\"\u001b[39m\n\u001b[0;32m    788\u001b[0m             \u001b[38;5;241m+\u001b[39m n_dep\n\u001b[0;32m    789\u001b[0m             \u001b[38;5;241m+\u001b[39m \u001b[38;5;124m\"\u001b[39m\u001b[38;5;124m#\u001b[39m\u001b[38;5;124m\"\u001b[39m\n\u001b[0;32m    790\u001b[0m             \u001b[38;5;241m+\u001b[39m (\n\u001b[0;32m    791\u001b[0m                 Constantes\u001b[38;5;241m.\u001b[39mBASE_TIME \u001b[38;5;241m+\u001b[39m datetime\u001b[38;5;241m.\u001b[39mtimedelta(minutes\u001b[38;5;241m=\u001b[39mvar_dep\u001b[38;5;241m.\u001b[39mX)\n\u001b[0;32m    792\u001b[0m             )\u001b[38;5;241m.\u001b[39mstrftime(\u001b[38;5;124m\"\u001b[39m\u001b[38;5;132;01m%d\u001b[39;00m\u001b[38;5;124m/\u001b[39m\u001b[38;5;124m%\u001b[39m\u001b[38;5;124mm/\u001b[39m\u001b[38;5;124m%\u001b[39m\u001b[38;5;124mY\u001b[39m\u001b[38;5;124m\"\u001b[39m)\n\u001b[0;32m    793\u001b[0m             \u001b[38;5;241m+\u001b[39m \u001b[38;5;124m\"\u001b[39m\u001b[38;5;124m#D\u001b[39m\u001b[38;5;124m\"\u001b[39m,\n\u001b[0;32m    794\u001b[0m             \u001b[38;5;124m\"\u001b[39m\u001b[38;5;124mType de tâche\u001b[39m\u001b[38;5;124m\"\u001b[39m: \u001b[38;5;124m\"\u001b[39m\u001b[38;5;124mDEG\u001b[39m\u001b[38;5;124m\"\u001b[39m,\n\u001b[0;32m    795\u001b[0m             \u001b[38;5;124m\"\u001b[39m\u001b[38;5;124mJour\u001b[39m\u001b[38;5;124m\"\u001b[39m: (\n\u001b[0;32m    796\u001b[0m                 Constantes\u001b[38;5;241m.\u001b[39mBASE_TIME \u001b[38;5;241m+\u001b[39m datetime\u001b[38;5;241m.\u001b[39mtimedelta(minutes\u001b[38;5;241m=\u001b[39mvar_dep\u001b[38;5;241m.\u001b[39mX)\n\u001b[0;32m    797\u001b[0m             )\u001b[38;5;241m.\u001b[39mstrftime(\u001b[38;5;124m\"\u001b[39m\u001b[38;5;132;01m%d\u001b[39;00m\u001b[38;5;124m/\u001b[39m\u001b[38;5;124m%\u001b[39m\u001b[38;5;124mm/\u001b[39m\u001b[38;5;124m%\u001b[39m\u001b[38;5;124mY\u001b[39m\u001b[38;5;124m\"\u001b[39m),\n\u001b[0;32m    798\u001b[0m             \u001b[38;5;124m\"\u001b[39m\u001b[38;5;124mHeure de début\u001b[39m\u001b[38;5;124m\"\u001b[39m: (\n\u001b[0;32m    799\u001b[0m                 Constantes\u001b[38;5;241m.\u001b[39mBASE_TIME \u001b[38;5;241m+\u001b[39m datetime\u001b[38;5;241m.\u001b[39mtimedelta(minutes\u001b[38;5;241m=\u001b[39mvar_dep\u001b[38;5;241m.\u001b[39mX)\n\u001b[0;32m    800\u001b[0m             )\u001b[38;5;241m.\u001b[39mstrftime(\u001b[38;5;124m\"\u001b[39m\u001b[38;5;124m%\u001b[39m\u001b[38;5;124mH:\u001b[39m\u001b[38;5;124m%\u001b[39m\u001b[38;5;124mM\u001b[39m\u001b[38;5;124m\"\u001b[39m),\n\u001b[0;32m    801\u001b[0m             \u001b[38;5;124m\"\u001b[39m\u001b[38;5;124mDurée\u001b[39m\u001b[38;5;124m\"\u001b[39m: \u001b[38;5;241m20\u001b[39m,\n\u001b[0;32m    802\u001b[0m             \u001b[38;5;124m\"\u001b[39m\u001b[38;5;124mSillon\u001b[39m\u001b[38;5;124m\"\u001b[39m: n_dep\n\u001b[0;32m    803\u001b[0m             \u001b[38;5;241m+\u001b[39m \u001b[38;5;124m\"\u001b[39m\u001b[38;5;124m#\u001b[39m\u001b[38;5;124m\"\u001b[39m\n\u001b[0;32m    804\u001b[0m             \u001b[38;5;241m+\u001b[39m (\n\u001b[0;32m    805\u001b[0m                 Constantes\u001b[38;5;241m.\u001b[39mBASE_TIME \u001b[38;5;241m+\u001b[39m datetime\u001b[38;5;241m.\u001b[39mtimedelta(minutes\u001b[38;5;241m=\u001b[39mvar_dep\u001b[38;5;241m.\u001b[39mX)\n\u001b[0;32m    806\u001b[0m             )\u001b[38;5;241m.\u001b[39mstrftime(\u001b[38;5;124m\"\u001b[39m\u001b[38;5;132;01m%d\u001b[39;00m\u001b[38;5;124m/\u001b[39m\u001b[38;5;124m%\u001b[39m\u001b[38;5;124mm/\u001b[39m\u001b[38;5;124m%\u001b[39m\u001b[38;5;124mY\u001b[39m\u001b[38;5;124m\"\u001b[39m)\n\u001b[0;32m    807\u001b[0m             \u001b[38;5;241m+\u001b[39m \u001b[38;5;124m\"\u001b[39m\u001b[38;5;124m#D\u001b[39m\u001b[38;5;124m\"\u001b[39m,\n\u001b[0;32m    808\u001b[0m         }\n\u001b[0;32m    809\u001b[0m         \u001b[38;5;28;01mfor\u001b[39;00m (m_dep, n_dep), var_dep \u001b[38;5;129;01min\u001b[39;00m t_dep\u001b[38;5;241m.\u001b[39mitems()\n\u001b[0;32m    810\u001b[0m         \u001b[38;5;28;01mif\u001b[39;00m m_dep \u001b[38;5;241m==\u001b[39m \u001b[38;5;241m3\u001b[39m\n\u001b[0;32m    811\u001b[0m     ]\n\u001b[0;32m    812\u001b[0m )\n\u001b[0;32m    814\u001b[0m \u001b[38;5;66;03m# Versement des données de sortie vers une trame de données\u001b[39;00m\n\u001b[0;32m    815\u001b[0m df_xl \u001b[38;5;241m=\u001b[39m pd\u001b[38;5;241m.\u001b[39mDataFrame(xl)\n",
      "File \u001b[1;32mc:\\Users\\ggeno\\OneDrive\\Documents\\optiFretSNCF\\code\\module\\utils2.py:737\u001b[0m, in \u001b[0;36m<listcomp>\u001b[1;34m(.0)\u001b[0m\n\u001b[0;32m    706\u001b[0m \u001b[38;5;250m\u001b[39m\u001b[38;5;124;03m\"\"\"\u001b[39;00m\n\u001b[0;32m    707\u001b[0m \u001b[38;5;124;03mTraite les données pour les mettre dans une feuille de calcul de sortie au format standard.\u001b[39;00m\n\u001b[0;32m    708\u001b[0m \n\u001b[1;32m   (...)\u001b[0m\n\u001b[0;32m    727\u001b[0m \u001b[38;5;124;03m    True si les données sont écrites.\u001b[39;00m\n\u001b[0;32m    728\u001b[0m \u001b[38;5;124;03m\"\"\"\u001b[39;00m\n\u001b[0;32m    729\u001b[0m \u001b[38;5;66;03m# Création des données de sortie\u001b[39;00m\n\u001b[0;32m    730\u001b[0m xl \u001b[38;5;241m=\u001b[39m (\n\u001b[0;32m    731\u001b[0m     [\n\u001b[0;32m    732\u001b[0m         {\n\u001b[0;32m    733\u001b[0m             \u001b[38;5;124m\"\u001b[39m\u001b[38;5;124mId tâche\u001b[39m\u001b[38;5;124m\"\u001b[39m: \u001b[38;5;124m\"\u001b[39m\u001b[38;5;124mDEB_\u001b[39m\u001b[38;5;124m\"\u001b[39m\n\u001b[0;32m    734\u001b[0m             \u001b[38;5;241m+\u001b[39m n_arr\n\u001b[0;32m    735\u001b[0m             \u001b[38;5;241m+\u001b[39m \u001b[38;5;124m\"\u001b[39m\u001b[38;5;124m#\u001b[39m\u001b[38;5;124m\"\u001b[39m\n\u001b[0;32m    736\u001b[0m             \u001b[38;5;241m+\u001b[39m (\n\u001b[1;32m--> 737\u001b[0m                 Constantes\u001b[38;5;241m.\u001b[39mBASE_TIME \u001b[38;5;241m+\u001b[39m datetime\u001b[38;5;241m.\u001b[39mtimedelta(minutes\u001b[38;5;241m=\u001b[39m\u001b[43mvar_arr\u001b[49m\u001b[38;5;241;43m.\u001b[39;49m\u001b[43mX\u001b[49m)\n\u001b[0;32m    738\u001b[0m             )\u001b[38;5;241m.\u001b[39mstrftime(\u001b[38;5;124m\"\u001b[39m\u001b[38;5;132;01m%d\u001b[39;00m\u001b[38;5;124m/\u001b[39m\u001b[38;5;124m%\u001b[39m\u001b[38;5;124mm/\u001b[39m\u001b[38;5;124m%\u001b[39m\u001b[38;5;124mY\u001b[39m\u001b[38;5;124m\"\u001b[39m)\n\u001b[0;32m    739\u001b[0m             \u001b[38;5;241m+\u001b[39m \u001b[38;5;124m\"\u001b[39m\u001b[38;5;124m#A\u001b[39m\u001b[38;5;124m\"\u001b[39m,\n\u001b[0;32m    740\u001b[0m             \u001b[38;5;124m\"\u001b[39m\u001b[38;5;124mType de tâche\u001b[39m\u001b[38;5;124m\"\u001b[39m: \u001b[38;5;124m\"\u001b[39m\u001b[38;5;124mDEB\u001b[39m\u001b[38;5;124m\"\u001b[39m,\n\u001b[0;32m    741\u001b[0m             \u001b[38;5;124m\"\u001b[39m\u001b[38;5;124mJour\u001b[39m\u001b[38;5;124m\"\u001b[39m: (\n\u001b[0;32m    742\u001b[0m                 Constantes\u001b[38;5;241m.\u001b[39mBASE_TIME \u001b[38;5;241m+\u001b[39m datetime\u001b[38;5;241m.\u001b[39mtimedelta(minutes\u001b[38;5;241m=\u001b[39mvar_arr\u001b[38;5;241m.\u001b[39mX)\n\u001b[0;32m    743\u001b[0m             )\u001b[38;5;241m.\u001b[39mstrftime(\u001b[38;5;124m\"\u001b[39m\u001b[38;5;132;01m%d\u001b[39;00m\u001b[38;5;124m/\u001b[39m\u001b[38;5;124m%\u001b[39m\u001b[38;5;124mm/\u001b[39m\u001b[38;5;124m%\u001b[39m\u001b[38;5;124mY\u001b[39m\u001b[38;5;124m\"\u001b[39m),\n\u001b[0;32m    744\u001b[0m             \u001b[38;5;124m\"\u001b[39m\u001b[38;5;124mHeure de début\u001b[39m\u001b[38;5;124m\"\u001b[39m: (\n\u001b[0;32m    745\u001b[0m                 Constantes\u001b[38;5;241m.\u001b[39mBASE_TIME \u001b[38;5;241m+\u001b[39m datetime\u001b[38;5;241m.\u001b[39mtimedelta(minutes\u001b[38;5;241m=\u001b[39mvar_arr\u001b[38;5;241m.\u001b[39mX)\n\u001b[0;32m    746\u001b[0m             )\u001b[38;5;241m.\u001b[39mstrftime(\u001b[38;5;124m\"\u001b[39m\u001b[38;5;124m%\u001b[39m\u001b[38;5;124mH:\u001b[39m\u001b[38;5;124m%\u001b[39m\u001b[38;5;124mM\u001b[39m\u001b[38;5;124m\"\u001b[39m),\n\u001b[0;32m    747\u001b[0m             \u001b[38;5;124m\"\u001b[39m\u001b[38;5;124mDurée\u001b[39m\u001b[38;5;124m\"\u001b[39m: \u001b[38;5;241m15\u001b[39m,\n\u001b[0;32m    748\u001b[0m             \u001b[38;5;124m\"\u001b[39m\u001b[38;5;124mSillon\u001b[39m\u001b[38;5;124m\"\u001b[39m: n_arr\n\u001b[0;32m    749\u001b[0m             \u001b[38;5;241m+\u001b[39m \u001b[38;5;124m\"\u001b[39m\u001b[38;5;124m#\u001b[39m\u001b[38;5;124m\"\u001b[39m\n\u001b[0;32m    750\u001b[0m             \u001b[38;5;241m+\u001b[39m (\n\u001b[0;32m    751\u001b[0m                 Constantes\u001b[38;5;241m.\u001b[39mBASE_TIME \u001b[38;5;241m+\u001b[39m datetime\u001b[38;5;241m.\u001b[39mtimedelta(minutes\u001b[38;5;241m=\u001b[39mvar_arr\u001b[38;5;241m.\u001b[39mX)\n\u001b[0;32m    752\u001b[0m             )\u001b[38;5;241m.\u001b[39mstrftime(\u001b[38;5;124m\"\u001b[39m\u001b[38;5;132;01m%d\u001b[39;00m\u001b[38;5;124m/\u001b[39m\u001b[38;5;124m%\u001b[39m\u001b[38;5;124mm/\u001b[39m\u001b[38;5;124m%\u001b[39m\u001b[38;5;124mY\u001b[39m\u001b[38;5;124m\"\u001b[39m)\n\u001b[0;32m    753\u001b[0m             \u001b[38;5;241m+\u001b[39m \u001b[38;5;124m\"\u001b[39m\u001b[38;5;124m#A\u001b[39m\u001b[38;5;124m\"\u001b[39m,\n\u001b[0;32m    754\u001b[0m         }\n\u001b[0;32m    755\u001b[0m         \u001b[38;5;28;01mfor\u001b[39;00m (m_arr, n_arr), var_arr \u001b[38;5;129;01min\u001b[39;00m t_arr\u001b[38;5;241m.\u001b[39mitems()\n\u001b[0;32m    756\u001b[0m         \u001b[38;5;28;01mif\u001b[39;00m m_arr \u001b[38;5;241m==\u001b[39m \u001b[38;5;241m3\u001b[39m\n\u001b[0;32m    757\u001b[0m     ]\n\u001b[0;32m    758\u001b[0m     \u001b[38;5;241m+\u001b[39m [\n\u001b[0;32m    759\u001b[0m         {\n\u001b[0;32m    760\u001b[0m             \u001b[38;5;124m\"\u001b[39m\u001b[38;5;124mId tâche\u001b[39m\u001b[38;5;124m\"\u001b[39m: \u001b[38;5;124m\"\u001b[39m\u001b[38;5;124mFOR_\u001b[39m\u001b[38;5;124m\"\u001b[39m\n\u001b[0;32m    761\u001b[0m             \u001b[38;5;241m+\u001b[39m n_dep\n\u001b[0;32m    762\u001b[0m             \u001b[38;5;241m+\u001b[39m \u001b[38;5;124m\"\u001b[39m\u001b[38;5;124m#\u001b[39m\u001b[38;5;124m\"\u001b[39m\n\u001b[0;32m    763\u001b[0m             \u001b[38;5;241m+\u001b[39m (\n\u001b[0;32m    764\u001b[0m                 Constantes\u001b[38;5;241m.\u001b[39mBASE_TIME \u001b[38;5;241m+\u001b[39m datetime\u001b[38;5;241m.\u001b[39mtimedelta(minutes\u001b[38;5;241m=\u001b[39mvar_dep\u001b[38;5;241m.\u001b[39mX)\n\u001b[0;32m    765\u001b[0m             )\u001b[38;5;241m.\u001b[39mstrftime(\u001b[38;5;124m\"\u001b[39m\u001b[38;5;132;01m%d\u001b[39;00m\u001b[38;5;124m/\u001b[39m\u001b[38;5;124m%\u001b[39m\u001b[38;5;124mm/\u001b[39m\u001b[38;5;124m%\u001b[39m\u001b[38;5;124mY\u001b[39m\u001b[38;5;124m\"\u001b[39m)\n\u001b[0;32m    766\u001b[0m             \u001b[38;5;241m+\u001b[39m \u001b[38;5;124m\"\u001b[39m\u001b[38;5;124m#D\u001b[39m\u001b[38;5;124m\"\u001b[39m,\n\u001b[0;32m    767\u001b[0m             \u001b[38;5;124m\"\u001b[39m\u001b[38;5;124mType de tâche\u001b[39m\u001b[38;5;124m\"\u001b[39m: \u001b[38;5;124m\"\u001b[39m\u001b[38;5;124mFOR\u001b[39m\u001b[38;5;124m\"\u001b[39m,\n\u001b[0;32m    768\u001b[0m             \u001b[38;5;124m\"\u001b[39m\u001b[38;5;124mJour\u001b[39m\u001b[38;5;124m\"\u001b[39m: (\n\u001b[0;32m    769\u001b[0m                 Constantes\u001b[38;5;241m.\u001b[39mBASE_TIME \u001b[38;5;241m+\u001b[39m datetime\u001b[38;5;241m.\u001b[39mtimedelta(minutes\u001b[38;5;241m=\u001b[39mvar_dep\u001b[38;5;241m.\u001b[39mX)\n\u001b[0;32m    770\u001b[0m             )\u001b[38;5;241m.\u001b[39mstrftime(\u001b[38;5;124m\"\u001b[39m\u001b[38;5;132;01m%d\u001b[39;00m\u001b[38;5;124m/\u001b[39m\u001b[38;5;124m%\u001b[39m\u001b[38;5;124mm/\u001b[39m\u001b[38;5;124m%\u001b[39m\u001b[38;5;124mY\u001b[39m\u001b[38;5;124m\"\u001b[39m),\n\u001b[0;32m    771\u001b[0m             \u001b[38;5;124m\"\u001b[39m\u001b[38;5;124mHeure de début\u001b[39m\u001b[38;5;124m\"\u001b[39m: (\n\u001b[0;32m    772\u001b[0m                 Constantes\u001b[38;5;241m.\u001b[39mBASE_TIME \u001b[38;5;241m+\u001b[39m datetime\u001b[38;5;241m.\u001b[39mtimedelta(minutes\u001b[38;5;241m=\u001b[39mvar_dep\u001b[38;5;241m.\u001b[39mX)\n\u001b[0;32m    773\u001b[0m             )\u001b[38;5;241m.\u001b[39mstrftime(\u001b[38;5;124m\"\u001b[39m\u001b[38;5;124m%\u001b[39m\u001b[38;5;124mH:\u001b[39m\u001b[38;5;124m%\u001b[39m\u001b[38;5;124mM\u001b[39m\u001b[38;5;124m\"\u001b[39m),\n\u001b[0;32m    774\u001b[0m             \u001b[38;5;124m\"\u001b[39m\u001b[38;5;124mDurée\u001b[39m\u001b[38;5;124m\"\u001b[39m: \u001b[38;5;241m15\u001b[39m,\n\u001b[0;32m    775\u001b[0m             \u001b[38;5;124m\"\u001b[39m\u001b[38;5;124mSillon\u001b[39m\u001b[38;5;124m\"\u001b[39m: n_dep\n\u001b[0;32m    776\u001b[0m             \u001b[38;5;241m+\u001b[39m \u001b[38;5;124m\"\u001b[39m\u001b[38;5;124m#\u001b[39m\u001b[38;5;124m\"\u001b[39m\n\u001b[0;32m    777\u001b[0m             \u001b[38;5;241m+\u001b[39m (\n\u001b[0;32m    778\u001b[0m                 Constantes\u001b[38;5;241m.\u001b[39mBASE_TIME \u001b[38;5;241m+\u001b[39m datetime\u001b[38;5;241m.\u001b[39mtimedelta(minutes\u001b[38;5;241m=\u001b[39mvar_dep\u001b[38;5;241m.\u001b[39mX)\n\u001b[0;32m    779\u001b[0m             )\u001b[38;5;241m.\u001b[39mstrftime(\u001b[38;5;124m\"\u001b[39m\u001b[38;5;132;01m%d\u001b[39;00m\u001b[38;5;124m/\u001b[39m\u001b[38;5;124m%\u001b[39m\u001b[38;5;124mm/\u001b[39m\u001b[38;5;124m%\u001b[39m\u001b[38;5;124mY\u001b[39m\u001b[38;5;124m\"\u001b[39m)\n\u001b[0;32m    780\u001b[0m             \u001b[38;5;241m+\u001b[39m \u001b[38;5;124m\"\u001b[39m\u001b[38;5;124m#D\u001b[39m\u001b[38;5;124m\"\u001b[39m,\n\u001b[0;32m    781\u001b[0m         }\n\u001b[0;32m    782\u001b[0m         \u001b[38;5;28;01mfor\u001b[39;00m (m_dep, n_dep), var_dep \u001b[38;5;129;01min\u001b[39;00m t_dep\u001b[38;5;241m.\u001b[39mitems()\n\u001b[0;32m    783\u001b[0m         \u001b[38;5;28;01mif\u001b[39;00m m_dep \u001b[38;5;241m==\u001b[39m \u001b[38;5;241m1\u001b[39m\n\u001b[0;32m    784\u001b[0m     ]\n\u001b[0;32m    785\u001b[0m     \u001b[38;5;241m+\u001b[39m [\n\u001b[0;32m    786\u001b[0m         {\n\u001b[0;32m    787\u001b[0m             \u001b[38;5;124m\"\u001b[39m\u001b[38;5;124mId tâche\u001b[39m\u001b[38;5;124m\"\u001b[39m: \u001b[38;5;124m\"\u001b[39m\u001b[38;5;124mDEG_\u001b[39m\u001b[38;5;124m\"\u001b[39m\n\u001b[0;32m    788\u001b[0m             \u001b[38;5;241m+\u001b[39m n_dep\n\u001b[0;32m    789\u001b[0m             \u001b[38;5;241m+\u001b[39m \u001b[38;5;124m\"\u001b[39m\u001b[38;5;124m#\u001b[39m\u001b[38;5;124m\"\u001b[39m\n\u001b[0;32m    790\u001b[0m             \u001b[38;5;241m+\u001b[39m (\n\u001b[0;32m    791\u001b[0m                 Constantes\u001b[38;5;241m.\u001b[39mBASE_TIME \u001b[38;5;241m+\u001b[39m datetime\u001b[38;5;241m.\u001b[39mtimedelta(minutes\u001b[38;5;241m=\u001b[39mvar_dep\u001b[38;5;241m.\u001b[39mX)\n\u001b[0;32m    792\u001b[0m             )\u001b[38;5;241m.\u001b[39mstrftime(\u001b[38;5;124m\"\u001b[39m\u001b[38;5;132;01m%d\u001b[39;00m\u001b[38;5;124m/\u001b[39m\u001b[38;5;124m%\u001b[39m\u001b[38;5;124mm/\u001b[39m\u001b[38;5;124m%\u001b[39m\u001b[38;5;124mY\u001b[39m\u001b[38;5;124m\"\u001b[39m)\n\u001b[0;32m    793\u001b[0m             \u001b[38;5;241m+\u001b[39m \u001b[38;5;124m\"\u001b[39m\u001b[38;5;124m#D\u001b[39m\u001b[38;5;124m\"\u001b[39m,\n\u001b[0;32m    794\u001b[0m             \u001b[38;5;124m\"\u001b[39m\u001b[38;5;124mType de tâche\u001b[39m\u001b[38;5;124m\"\u001b[39m: \u001b[38;5;124m\"\u001b[39m\u001b[38;5;124mDEG\u001b[39m\u001b[38;5;124m\"\u001b[39m,\n\u001b[0;32m    795\u001b[0m             \u001b[38;5;124m\"\u001b[39m\u001b[38;5;124mJour\u001b[39m\u001b[38;5;124m\"\u001b[39m: (\n\u001b[0;32m    796\u001b[0m                 Constantes\u001b[38;5;241m.\u001b[39mBASE_TIME \u001b[38;5;241m+\u001b[39m datetime\u001b[38;5;241m.\u001b[39mtimedelta(minutes\u001b[38;5;241m=\u001b[39mvar_dep\u001b[38;5;241m.\u001b[39mX)\n\u001b[0;32m    797\u001b[0m             )\u001b[38;5;241m.\u001b[39mstrftime(\u001b[38;5;124m\"\u001b[39m\u001b[38;5;132;01m%d\u001b[39;00m\u001b[38;5;124m/\u001b[39m\u001b[38;5;124m%\u001b[39m\u001b[38;5;124mm/\u001b[39m\u001b[38;5;124m%\u001b[39m\u001b[38;5;124mY\u001b[39m\u001b[38;5;124m\"\u001b[39m),\n\u001b[0;32m    798\u001b[0m             \u001b[38;5;124m\"\u001b[39m\u001b[38;5;124mHeure de début\u001b[39m\u001b[38;5;124m\"\u001b[39m: (\n\u001b[0;32m    799\u001b[0m                 Constantes\u001b[38;5;241m.\u001b[39mBASE_TIME \u001b[38;5;241m+\u001b[39m datetime\u001b[38;5;241m.\u001b[39mtimedelta(minutes\u001b[38;5;241m=\u001b[39mvar_dep\u001b[38;5;241m.\u001b[39mX)\n\u001b[0;32m    800\u001b[0m             )\u001b[38;5;241m.\u001b[39mstrftime(\u001b[38;5;124m\"\u001b[39m\u001b[38;5;124m%\u001b[39m\u001b[38;5;124mH:\u001b[39m\u001b[38;5;124m%\u001b[39m\u001b[38;5;124mM\u001b[39m\u001b[38;5;124m\"\u001b[39m),\n\u001b[0;32m    801\u001b[0m             \u001b[38;5;124m\"\u001b[39m\u001b[38;5;124mDurée\u001b[39m\u001b[38;5;124m\"\u001b[39m: \u001b[38;5;241m20\u001b[39m,\n\u001b[0;32m    802\u001b[0m             \u001b[38;5;124m\"\u001b[39m\u001b[38;5;124mSillon\u001b[39m\u001b[38;5;124m\"\u001b[39m: n_dep\n\u001b[0;32m    803\u001b[0m             \u001b[38;5;241m+\u001b[39m \u001b[38;5;124m\"\u001b[39m\u001b[38;5;124m#\u001b[39m\u001b[38;5;124m\"\u001b[39m\n\u001b[0;32m    804\u001b[0m             \u001b[38;5;241m+\u001b[39m (\n\u001b[0;32m    805\u001b[0m                 Constantes\u001b[38;5;241m.\u001b[39mBASE_TIME \u001b[38;5;241m+\u001b[39m datetime\u001b[38;5;241m.\u001b[39mtimedelta(minutes\u001b[38;5;241m=\u001b[39mvar_dep\u001b[38;5;241m.\u001b[39mX)\n\u001b[0;32m    806\u001b[0m             )\u001b[38;5;241m.\u001b[39mstrftime(\u001b[38;5;124m\"\u001b[39m\u001b[38;5;132;01m%d\u001b[39;00m\u001b[38;5;124m/\u001b[39m\u001b[38;5;124m%\u001b[39m\u001b[38;5;124mm/\u001b[39m\u001b[38;5;124m%\u001b[39m\u001b[38;5;124mY\u001b[39m\u001b[38;5;124m\"\u001b[39m)\n\u001b[0;32m    807\u001b[0m             \u001b[38;5;241m+\u001b[39m \u001b[38;5;124m\"\u001b[39m\u001b[38;5;124m#D\u001b[39m\u001b[38;5;124m\"\u001b[39m,\n\u001b[0;32m    808\u001b[0m         }\n\u001b[0;32m    809\u001b[0m         \u001b[38;5;28;01mfor\u001b[39;00m (m_dep, n_dep), var_dep \u001b[38;5;129;01min\u001b[39;00m t_dep\u001b[38;5;241m.\u001b[39mitems()\n\u001b[0;32m    810\u001b[0m         \u001b[38;5;28;01mif\u001b[39;00m m_dep \u001b[38;5;241m==\u001b[39m \u001b[38;5;241m3\u001b[39m\n\u001b[0;32m    811\u001b[0m     ]\n\u001b[0;32m    812\u001b[0m )\n\u001b[0;32m    814\u001b[0m \u001b[38;5;66;03m# Versement des données de sortie vers une trame de données\u001b[39;00m\n\u001b[0;32m    815\u001b[0m df_xl \u001b[38;5;241m=\u001b[39m pd\u001b[38;5;241m.\u001b[39mDataFrame(xl)\n",
      "\u001b[1;31mAttributeError\u001b[0m: 'float' object has no attribute 'X'"
     ]
    }
   ],
   "source": [
    "ecriture_donnees_sortie(\n",
    "    t_arr, \n",
    "    t_dep, \n",
    "    occupation_REC, \n",
    "    occupation_FOR, \n",
    "    occupation_REC, \n",
    "    x_date\n",
    ")"
   ]
  },
  {
   "cell_type": "code",
   "execution_count": null,
   "metadata": {},
   "outputs": [
    {
     "ename": "NameError",
     "evalue": "name 'file' is not defined",
     "output_type": "error",
     "traceback": [
      "\u001b[1;31m---------------------------------------------------------------------------\u001b[0m",
      "\u001b[1;31mNameError\u001b[0m                                 Traceback (most recent call last)",
      "Cell \u001b[1;32mIn[3], line 1\u001b[0m\n\u001b[1;32m----> 1\u001b[0m \u001b[38;5;28mprint\u001b[39m(nombre_roulements(\u001b[43mfile\u001b[49m))\n",
      "\u001b[1;31mNameError\u001b[0m: name 'file' is not defined"
     ]
    }
   ],
   "source": [
    "print(nombre_roulements(file))"
   ]
  },
  {
   "cell_type": "code",
   "execution_count": null,
   "metadata": {},
   "outputs": [
    {
     "name": "stdout",
     "output_type": "stream",
     "text": [
      "{1: np.int64(6), 2: np.int64(8), 3: np.int64(2), 4: np.int64(1), 5: np.int64(7)}\n"
     ]
    }
   ],
   "source": [
    "print(nombre_max_agents_sur_roulement(file))"
   ]
  },
  {
   "cell_type": "code",
   "execution_count": null,
   "metadata": {},
   "outputs": [
    {
     "data": {
      "text/plain": [
       "{('arr', 1): [1, 4],\n",
       " ('dep', 1): [2, 5],\n",
       " ('arr', 2): [1, 4],\n",
       " ('dep', 2): [2, 5],\n",
       " ('arr', 3): [1, 4],\n",
       " ('dep', 3): [2, 5],\n",
       " ('dep', 4): [3, 4, 5]}"
      ]
     },
     "execution_count": 8,
     "metadata": {},
     "output_type": "execute_result"
    }
   ],
   "source": [
    "roulements_opérants_sur_tache(file)"
   ]
  },
  {
   "cell_type": "code",
   "execution_count": null,
   "metadata": {},
   "outputs": [
    {
     "ename": "TypeError",
     "evalue": "'dict' object is not callable",
     "output_type": "error",
     "traceback": [
      "\u001b[1;31m---------------------------------------------------------------------------\u001b[0m",
      "\u001b[1;31mTypeError\u001b[0m                                 Traceback (most recent call last)",
      "Cell \u001b[1;32mIn[9], line 1\u001b[0m\n\u001b[1;32m----> 1\u001b[0m \u001b[43mnombre_cycles_agents\u001b[49m\u001b[43m(\u001b[49m\u001b[43mfile\u001b[49m\u001b[43m,\u001b[49m\u001b[38;5;241;43m0\u001b[39;49m\u001b[43m,\u001b[49m\u001b[38;5;241;43m20000\u001b[39;49m\u001b[43m)\u001b[49m\n",
      "\u001b[1;31mTypeError\u001b[0m: 'dict' object is not callable"
     ]
    }
   ],
   "source": [
    "nombre_cycles_agents(file,0,20000)"
   ]
  },
  {
   "cell_type": "code",
   "execution_count": null,
   "metadata": {},
   "outputs": [
    {
     "name": "stdout",
     "output_type": "stream",
     "text": [
      "{(1, 1): 5, (1, 2): 13, (1, 3): 21, (1, 4): 29, (1, 5): 37, (1, 6): 45, (1, 7): 53, (1, 8): 61, (1, 9): 69, (1, 10): 77, (1, 11): 85, (1, 12): 93, (1, 13): 101, (1, 14): 109, (1, 15): 117, (1, 16): 125, (1, 17): 133, (1, 18): 141, (1, 19): 149, (1, 20): 157, (1, 21): 165, (1, 22): 173, (1, 23): 181, (1, 24): 189, (1, 25): 197, (1, 26): 205, (1, 27): 213, (1, 28): 221, (1, 29): 229, (1, 30): 237, (1, 31): 245, (1, 32): 253, (1, 33): 261, (1, 34): 269, (1, 35): 277, (1, 36): 285, (1, 37): 293, (1, 38): 301, (1, 39): 309, (1, 40): 317, (1, 41): 325, (1, 42): 333, (2, 1): 5, (2, 2): 13, (2, 3): 21, (2, 4): 29, (2, 5): 37, (2, 6): 45, (2, 7): 53, (2, 8): 61, (2, 9): 69, (2, 10): 77, (2, 11): 85, (2, 12): 93, (2, 13): 101, (2, 14): 109, (2, 15): 117, (2, 16): 125, (2, 17): 133, (2, 18): 141, (2, 19): 149, (2, 20): 157, (2, 21): 165, (2, 22): 173, (2, 23): 181, (2, 24): 189, (2, 25): 197, (2, 26): 205, (2, 27): 213, (2, 28): 221, (2, 29): 229, (2, 30): 237, (2, 31): 245, (2, 32): 253, (2, 33): 261, (2, 34): 269, (2, 35): 277, (2, 36): 285, (2, 37): 293, (2, 38): 301, (2, 39): 309, (2, 40): 317, (2, 41): 325, (2, 42): 333, (3, 1): 5, (3, 2): 13, (3, 3): 21, (3, 4): 29, (3, 5): 37, (3, 6): 45, (3, 7): 53, (3, 8): 61, (3, 9): 69, (3, 10): 77, (3, 11): 85, (3, 12): 93, (3, 13): 101, (3, 14): 109, (3, 15): 117, (3, 16): 125, (3, 17): 133, (3, 18): 141, (3, 19): 149, (3, 20): 157, (3, 21): 165, (3, 22): 173, (3, 23): 181, (3, 24): 189, (3, 25): 197, (3, 26): 205, (3, 27): 213, (3, 28): 221, (3, 29): 229, (3, 30): 237, (3, 31): 245, (3, 32): 253, (3, 33): 261, (3, 34): 269, (3, 35): 277, (3, 36): 285, (3, 37): 293, (3, 38): 301, (3, 39): 309, (3, 40): 317, (3, 41): 325, (3, 42): 333, (4, 1): 22, (4, 2): 9, (4, 3): 22, (4, 4): 33, (4, 5): 46, (4, 6): 33, (4, 7): 70, (4, 8): 57, (4, 9): 70, (4, 10): 81, (4, 11): 94, (4, 12): 81, (4, 13): 118, (4, 14): 105, (4, 15): 118, (4, 16): 129, (4, 17): 142, (4, 18): 129, (4, 19): 166, (4, 20): 153, (4, 21): 166, (4, 22): 177, (4, 23): 190, (4, 24): 177, (4, 25): 214, (4, 26): 201, (4, 27): 214, (4, 28): 225, (5, 1): 5, (5, 2): 13, (5, 3): 21, (5, 4): 29, (5, 5): 37, (5, 6): 45, (5, 7): 53, (5, 8): 61, (5, 9): 69, (5, 10): 77, (5, 11): 85, (5, 12): 93, (5, 13): 101, (5, 14): 109, (5, 15): 117, (5, 16): 125, (5, 17): 133, (5, 18): 141, (5, 19): 149, (5, 20): 157, (5, 21): 165, (5, 22): 173, (5, 23): 181, (5, 24): 189, (5, 25): 197, (5, 26): 205, (5, 27): 213, (5, 28): 221, (5, 29): 229, (5, 30): 237, (5, 31): 245, (5, 32): 253, (5, 33): 261, (5, 34): 269, (5, 35): 277, (5, 36): 285, (5, 37): 293, (5, 38): 301, (5, 39): 309, (5, 40): 317, (5, 41): 325, (5, 42): 333}\n"
     ]
    }
   ],
   "source": [
    "print(heure_debut_roulement(file,{1: 42, 2: 42, 3: 42, 4: 28, 5: 42},5))"
   ]
  },
  {
   "cell_type": "code",
   "execution_count": null,
   "metadata": {},
   "outputs": [
    {
     "name": "stdout",
     "output_type": "stream",
     "text": [
      "{1: ['REC'], 2: ['FOR'], 3: ['DEP'], 4: ['REC', 'DEP'], 5: ['FOR', 'DEP']}\n"
     ]
    }
   ],
   "source": [
    "print(comp(file))"
   ]
  }
 ],
 "metadata": {
  "kernelspec": {
   "display_name": "Python 3",
   "language": "python",
   "name": "python3"
  },
  "language_info": {
   "codemirror_mode": {
    "name": "ipython",
    "version": 3
   },
   "file_extension": ".py",
   "mimetype": "text/x-python",
   "name": "python",
   "nbconvert_exporter": "python",
   "pygments_lexer": "ipython3",
   "version": "3.11.5"
  }
 },
 "nbformat": 4,
 "nbformat_minor": 2
}
