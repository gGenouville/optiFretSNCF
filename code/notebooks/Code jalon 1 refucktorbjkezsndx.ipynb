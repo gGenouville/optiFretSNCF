{
 "cells": [
  {
   "cell_type": "code",
   "execution_count": 1,
   "metadata": {},
   "outputs": [],
   "source": [
    "import os\n",
    "import sys\n",
    "from gurobipy import *\n",
    "import pandas as pd\n",
    "module_path = os.path.abspath(\"..\")\n",
    "sys.path.append(module_path)\n",
    "import itertools\n",
    "import datetime\n",
    "import plotly.express as px\n",
    "\n",
    "from module.modele1 import init_model,Taches\n",
    "from module.utils1 import (\n",
    "    read_sillon,\n",
    "    init_t_a,\n",
    "    init_t_d,\n",
    "    init_dict_correspondance,\n",
    "    base_time,\n",
    "    init_limites_voies\n",
    ")"
   ]
  },
  {
   "cell_type": "code",
   "execution_count": 2,
   "metadata": {},
   "outputs": [
    {
     "name": "stdout",
     "output_type": "stream",
     "text": [
      "Vérification du contenu final de t_a :\n",
      "Vérification du contenu final de t_d :\n"
     ]
    }
   ],
   "source": [
    "# Charger le fichier Excel\n",
    "\n",
    "id_file = 0\n",
    "\n",
    "if id_file == 0:\n",
    "    file = \"mini_instance.xlsx\"\n",
    "elif id_file == 1:    \n",
    "    file = \"instance_WPY_realiste_jalon1.xlsx\"\n",
    "elif id_file == 2:\n",
    "    file = \"instance_WPY_realiste_jalon2.xlsx\"\n",
    "elif id_file == 3:\n",
    "    file = \"instance_WPY_simple.xlsx\"\n",
    "else:\n",
    "    raise ValueError(f\"Erreur : '{id_file}' n'est pas une valeur acceptable. Choisissez parmi 0, 1, 2 et 3.\")\n",
    "\n",
    "# Lire les feuilles \"Sillons arrivée\" et \"Sillons départ\"\n",
    "df_sillons_arr, df_sillons_dep = read_sillon(file)\n",
    "\n",
    "# Dictionnaires pour stocker les temps d'arrivée et de départ en minutes :\n",
    "# Traitement des arrivées\n",
    "t_a = init_t_a(df_sillons_arr, print_bool=True)\n",
    "\n",
    "t_d = init_t_d(df_sillons_dep, print_bool=True)\n",
    "\n",
    "# Vérification finale\n",
    "print(\"Vérification du contenu final de t_a :\")\n",
    "for key, value in t_a.items():\n",
    "    print(f\"Le train {key} arrive en gare de Woippy au bout de {value} minutes\")\n",
    "\n",
    "print(\"Vérification du contenu final de t_d :\")\n",
    "for key, value in t_d.items():\n",
    "    print(f\"Le train {key} part de la gare de Woippy au bout de {value} minutes\")"
   ]
  },
  {
   "cell_type": "code",
   "execution_count": 3,
   "metadata": {},
   "outputs": [],
   "source": [
    "df_correspondance = pd.read_excel(file, sheet_name=\"Correspondances\")\n",
    "\n",
    "D = init_dict_correspondance(df_correspondance)"
   ]
  },
  {
   "cell_type": "code",
   "execution_count": 4,
   "metadata": {},
   "outputs": [
    {
     "name": "stdout",
     "output_type": "stream",
     "text": [
      "Set parameter Username\n",
      "Set parameter LicenseID to value 2617576\n",
      "Academic license - for non-commercial use only - expires 2026-02-03\n"
     ]
    },
    {
     "ename": "KeyboardInterrupt",
     "evalue": "",
     "output_type": "error",
     "traceback": [
      "\u001b[1;31m---------------------------------------------------------------------------\u001b[0m",
      "\u001b[1;31mKeyboardInterrupt\u001b[0m                         Traceback (most recent call last)",
      "Cell \u001b[1;32mIn[4], line 1\u001b[0m\n\u001b[1;32m----> 1\u001b[0m model,t_arr,t_dep \u001b[38;5;241m=\u001b[39m \u001b[43minit_model\u001b[49m\u001b[43m(\u001b[49m\n\u001b[0;32m      2\u001b[0m \u001b[43m    \u001b[49m\u001b[43mliste_id_train_arrivee\u001b[49m\u001b[43m \u001b[49m\u001b[38;5;241;43m=\u001b[39;49m\u001b[43m \u001b[49m\u001b[43mt_a\u001b[49m\u001b[38;5;241;43m.\u001b[39;49m\u001b[43mkeys\u001b[49m\u001b[43m(\u001b[49m\u001b[43m)\u001b[49m\u001b[43m,\u001b[49m\n\u001b[0;32m      3\u001b[0m \u001b[43m    \u001b[49m\u001b[43mt_a\u001b[49m\u001b[43m \u001b[49m\u001b[38;5;241;43m=\u001b[39;49m\u001b[43m \u001b[49m\u001b[43mt_a\u001b[49m\u001b[43m,\u001b[49m\n\u001b[0;32m      4\u001b[0m \u001b[43m    \u001b[49m\u001b[43mliste_id_train_depart\u001b[49m\u001b[43m \u001b[49m\u001b[38;5;241;43m=\u001b[39;49m\u001b[43m \u001b[49m\u001b[43mt_d\u001b[49m\u001b[38;5;241;43m.\u001b[39;49m\u001b[43mkeys\u001b[49m\u001b[43m(\u001b[49m\u001b[43m)\u001b[49m\u001b[43m,\u001b[49m\n\u001b[0;32m      5\u001b[0m \u001b[43m    \u001b[49m\u001b[43mt_d\u001b[49m\u001b[43m \u001b[49m\u001b[38;5;241;43m=\u001b[39;49m\u001b[43m \u001b[49m\u001b[43mt_d\u001b[49m\u001b[43m,\u001b[49m\n\u001b[0;32m      6\u001b[0m \u001b[43m    \u001b[49m\u001b[43mdict_correspondances\u001b[49m\u001b[43m \u001b[49m\u001b[38;5;241;43m=\u001b[39;49m\u001b[43m \u001b[49m\u001b[43mD\u001b[49m\u001b[43m,\u001b[49m\n\u001b[0;32m      7\u001b[0m \u001b[43m    \u001b[49m\u001b[43mfile\u001b[49m\u001b[38;5;241;43m=\u001b[39;49m\u001b[43mfile\u001b[49m\u001b[43m,\u001b[49m\n\u001b[0;32m      8\u001b[0m \u001b[43m    \u001b[49m\u001b[43mid_file\u001b[49m\u001b[43m \u001b[49m\u001b[38;5;241;43m=\u001b[39;49m\u001b[43m \u001b[49m\u001b[38;5;241;43m1\u001b[39;49m\u001b[43m,\u001b[49m\n\u001b[0;32m      9\u001b[0m \u001b[43m    \u001b[49m\u001b[43mlimites_voies\u001b[49m\u001b[38;5;241;43m=\u001b[39;49m\u001b[43minit_limites_voies\u001b[49m\u001b[43m(\u001b[49m\u001b[43mfile\u001b[49m\u001b[43m)\u001b[49m\u001b[43m,\u001b[49m\n\u001b[0;32m     10\u001b[0m \u001b[43m    \u001b[49m\u001b[43mtempsMax\u001b[49m\u001b[38;5;241;43m=\u001b[39;49m\u001b[38;5;241;43m2000\u001b[39;49m\u001b[43m,\u001b[49m\n\u001b[0;32m     11\u001b[0m \u001b[43m    \u001b[49m\u001b[43mtempsMin\u001b[49m\u001b[38;5;241;43m=\u001b[39;49m\u001b[38;5;241;43m0\u001b[39;49m\n\u001b[0;32m     12\u001b[0m \u001b[43m)\u001b[49m\n",
      "File \u001b[1;32md:\\Bureau2\\CS\\Cours\\2A\\ST7\\Projet\\optiFretSNCF\\code\\module\\modele1.py:127\u001b[0m, in \u001b[0;36minit_model\u001b[1;34m(liste_id_train_arrivee, t_a, liste_id_train_depart, t_d, dict_correspondances, file, id_file, limites_voies, tempsMax, tempsMin)\u001b[0m\n\u001b[0;32m    119\u001b[0m model \u001b[38;5;241m=\u001b[39m grb\u001b[38;5;241m.\u001b[39mModel(\u001b[38;5;124m\"\u001b[39m\u001b[38;5;124mSNCF JALON 1\u001b[39m\u001b[38;5;124m\"\u001b[39m)\n\u001b[0;32m    121\u001b[0m t_arr, t_dep \u001b[38;5;241m=\u001b[39m init_variables(\n\u001b[0;32m    122\u001b[0m     model,\n\u001b[0;32m    123\u001b[0m     liste_id_train_arrivee,\n\u001b[0;32m    124\u001b[0m     liste_id_train_depart,\n\u001b[0;32m    125\u001b[0m )\n\u001b[1;32m--> 127\u001b[0m \u001b[43minit_contraintes\u001b[49m\u001b[43m(\u001b[49m\n\u001b[0;32m    128\u001b[0m \u001b[43m    \u001b[49m\u001b[43mmodel\u001b[49m\u001b[43m,\u001b[49m\n\u001b[0;32m    129\u001b[0m \u001b[43m    \u001b[49m\u001b[43mt_arr\u001b[49m\u001b[43m,\u001b[49m\n\u001b[0;32m    130\u001b[0m \u001b[43m    \u001b[49m\u001b[43mt_a\u001b[49m\u001b[43m,\u001b[49m\n\u001b[0;32m    131\u001b[0m \u001b[43m    \u001b[49m\u001b[43mliste_id_train_arrivee\u001b[49m\u001b[43m,\u001b[49m\n\u001b[0;32m    132\u001b[0m \u001b[43m    \u001b[49m\u001b[43mt_dep\u001b[49m\u001b[43m,\u001b[49m\n\u001b[0;32m    133\u001b[0m \u001b[43m    \u001b[49m\u001b[43mt_d\u001b[49m\u001b[43m,\u001b[49m\n\u001b[0;32m    134\u001b[0m \u001b[43m    \u001b[49m\u001b[43mliste_id_train_depart\u001b[49m\u001b[43m,\u001b[49m\n\u001b[0;32m    135\u001b[0m \u001b[43m    \u001b[49m\u001b[43mdict_correspondances\u001b[49m\u001b[43m,\u001b[49m\n\u001b[0;32m    136\u001b[0m \u001b[43m    \u001b[49m\u001b[43mfile\u001b[49m\u001b[43m,\u001b[49m\n\u001b[0;32m    137\u001b[0m \u001b[43m    \u001b[49m\u001b[43mid_file\u001b[49m\u001b[43m,\u001b[49m\n\u001b[0;32m    138\u001b[0m \u001b[43m    \u001b[49m\u001b[43mlimites_voies\u001b[49m\u001b[43m,\u001b[49m\n\u001b[0;32m    139\u001b[0m \u001b[43m    \u001b[49m\u001b[43mtempsMax\u001b[49m\u001b[43m,\u001b[49m\n\u001b[0;32m    140\u001b[0m \u001b[43m    \u001b[49m\u001b[43mtempsMin\u001b[49m\u001b[43m,\u001b[49m\n\u001b[0;32m    141\u001b[0m \u001b[43m\u001b[49m\u001b[43m)\u001b[49m\n\u001b[0;32m    143\u001b[0m \u001b[38;5;66;03m# Choix d'un paramétrage d'affichage\u001b[39;00m\n\u001b[0;32m    144\u001b[0m model\u001b[38;5;241m.\u001b[39mparams\u001b[38;5;241m.\u001b[39moutputflag \u001b[38;5;241m=\u001b[39m \u001b[38;5;241m0\u001b[39m  \u001b[38;5;66;03m# mode muet\u001b[39;00m\n",
      "File \u001b[1;32md:\\Bureau2\\CS\\Cours\\2A\\ST7\\Projet\\optiFretSNCF\\code\\module\\modele1.py:299\u001b[0m, in \u001b[0;36minit_contraintes\u001b[1;34m(model, t_arr, t_a, liste_id_train_arrivee, t_dep, t_d, liste_id_train_depart, dict_correspondances, file, id_file, limites_voies, tempsMax, tempsMin)\u001b[0m\n\u001b[0;32m    281\u001b[0m contraintes_temporalite(\n\u001b[0;32m    282\u001b[0m     model,\n\u001b[0;32m    283\u001b[0m     t_arr,\n\u001b[1;32m   (...)\u001b[0m\n\u001b[0;32m    288\u001b[0m     liste_id_train_depart,\n\u001b[0;32m    289\u001b[0m )\n\u001b[0;32m    291\u001b[0m contraintes_machines(\n\u001b[0;32m    292\u001b[0m     model,\n\u001b[0;32m    293\u001b[0m     t_arr,\n\u001b[1;32m   (...)\u001b[0m\n\u001b[0;32m    296\u001b[0m     liste_id_train_depart,\n\u001b[0;32m    297\u001b[0m )\n\u001b[1;32m--> 299\u001b[0m \u001b[43mcontraintes_ouvertures_machines\u001b[49m\u001b[43m(\u001b[49m\n\u001b[0;32m    300\u001b[0m \u001b[43m    \u001b[49m\u001b[43mmodel\u001b[49m\u001b[43m,\u001b[49m\n\u001b[0;32m    301\u001b[0m \u001b[43m    \u001b[49m\u001b[43mt_arr\u001b[49m\u001b[43m,\u001b[49m\n\u001b[0;32m    302\u001b[0m \u001b[43m    \u001b[49m\u001b[43mliste_id_train_arrivee\u001b[49m\u001b[43m,\u001b[49m\n\u001b[0;32m    303\u001b[0m \u001b[43m    \u001b[49m\u001b[43mt_dep\u001b[49m\u001b[43m,\u001b[49m\n\u001b[0;32m    304\u001b[0m \u001b[43m    \u001b[49m\u001b[43mliste_id_train_depart\u001b[49m\u001b[43m,\u001b[49m\n\u001b[0;32m    305\u001b[0m \u001b[43m    \u001b[49m\u001b[43mfile\u001b[49m\u001b[43m,\u001b[49m\n\u001b[0;32m    306\u001b[0m \u001b[43m    \u001b[49m\u001b[43mid_file\u001b[49m\u001b[43m,\u001b[49m\n\u001b[0;32m    307\u001b[0m \u001b[43m\u001b[49m\u001b[43m)\u001b[49m\n\u001b[0;32m    309\u001b[0m contraintes_ouvertures_chantiers(\n\u001b[0;32m    310\u001b[0m     model,\n\u001b[0;32m    311\u001b[0m     t_arr,\n\u001b[1;32m   (...)\u001b[0m\n\u001b[0;32m    316\u001b[0m     id_file,\n\u001b[0;32m    317\u001b[0m )\n\u001b[0;32m    319\u001b[0m contraintes_succession(\n\u001b[0;32m    320\u001b[0m     model,\n\u001b[0;32m    321\u001b[0m     t_arr,\n\u001b[1;32m   (...)\u001b[0m\n\u001b[0;32m    324\u001b[0m     dict_correspondances,\n\u001b[0;32m    325\u001b[0m )\n",
      "File \u001b[1;32md:\\Bureau2\\CS\\Cours\\2A\\ST7\\Projet\\optiFretSNCF\\code\\module\\modele1.py:524\u001b[0m, in \u001b[0;36mcontraintes_ouvertures_machines\u001b[1;34m(model, t_arr, liste_id_train_arrivee, t_dep, liste_id_train_depart, file, id_file)\u001b[0m\n\u001b[0;32m    494\u001b[0m \u001b[38;5;250m\u001b[39m\u001b[38;5;124;03m\"\"\"\u001b[39;00m\n\u001b[0;32m    495\u001b[0m \u001b[38;5;124;03mAjoute des contraintes pour respecter les horaires d'utilisation des machines\u001b[39;00m\n\u001b[0;32m    496\u001b[0m \u001b[38;5;124;03met garantir qu'un seul train utilise une machine à la fois.\u001b[39;00m\n\u001b[1;32m   (...)\u001b[0m\n\u001b[0;32m    520\u001b[0m \u001b[38;5;124;03m    - `delta_lim_machine_DEG` : Contraintes de limites pour les machines de type DEG.\u001b[39;00m\n\u001b[0;32m    521\u001b[0m \u001b[38;5;124;03m\"\"\"\u001b[39;00m\n\u001b[0;32m    522\u001b[0m M_big \u001b[38;5;241m=\u001b[39m \u001b[38;5;241m10000000\u001b[39m  \u001b[38;5;66;03m# Une grande constante pour relacher certaines contraintes\u001b[39;00m\n\u001b[1;32m--> 524\u001b[0m Limites_machines \u001b[38;5;241m=\u001b[39m \u001b[43mcreation_limites_machines\u001b[49m\u001b[43m(\u001b[49m\u001b[43mfile\u001b[49m\u001b[43m,\u001b[49m\u001b[43m \u001b[49m\u001b[43mid_file\u001b[49m\u001b[43m)\u001b[49m\n\u001b[0;32m    526\u001b[0m N_machines \u001b[38;5;241m=\u001b[39m {\n\u001b[0;32m    527\u001b[0m     key: \u001b[38;5;28mlen\u001b[39m(Limites_machines[key]) \u001b[38;5;28;01mfor\u001b[39;00m key \u001b[38;5;129;01min\u001b[39;00m Limites_machines\u001b[38;5;241m.\u001b[39mkeys()\n\u001b[0;32m    528\u001b[0m }\n\u001b[0;32m    530\u001b[0m delta_lim_machine_DEB \u001b[38;5;241m=\u001b[39m {}\n",
      "File \u001b[1;32md:\\Bureau2\\CS\\Cours\\2A\\ST7\\Projet\\optiFretSNCF\\code\\module\\utils1.py:562\u001b[0m, in \u001b[0;36mcreation_limites_machines\u001b[1;34m(file, id_file)\u001b[0m\n\u001b[0;32m    537\u001b[0m \u001b[38;5;250m\u001b[39m\u001b[38;5;124;03m\"\"\"\u001b[39;00m\n\u001b[0;32m    538\u001b[0m \u001b[38;5;124;03mConvertit les plages d'indisponibilité des machines en minutes et les\u001b[39;00m\n\u001b[0;32m    539\u001b[0m \u001b[38;5;124;03morganise dans un dictionnaire.\u001b[39;00m\n\u001b[1;32m   (...)\u001b[0m\n\u001b[0;32m    552\u001b[0m \u001b[38;5;124;03m    chaque machine (DEB, FOR, DEG).\u001b[39;00m\n\u001b[0;32m    553\u001b[0m \u001b[38;5;124;03m\"\"\"\u001b[39;00m\n\u001b[0;32m    555\u001b[0m df_machines \u001b[38;5;241m=\u001b[39m pd\u001b[38;5;241m.\u001b[39mread_excel(file, sheet_name\u001b[38;5;241m=\u001b[39mFeuilles\u001b[38;5;241m.\u001b[39mMACHINES)\n\u001b[0;32m    557\u001b[0m Indisponibilités_machines \u001b[38;5;241m=\u001b[39m df_machines[\n\u001b[0;32m    558\u001b[0m     Colonnes\u001b[38;5;241m.\u001b[39mINDISPONIBILITE_MINUTES\n\u001b[0;32m    559\u001b[0m ] \u001b[38;5;241m=\u001b[39m (\n\u001b[0;32m    560\u001b[0m     \u001b[43mdf_machines\u001b[49m\u001b[43m[\u001b[49m\u001b[43mColonnes\u001b[49m\u001b[38;5;241;43m.\u001b[39;49m\u001b[43mINDISPONIBILITE\u001b[49m\u001b[43m]\u001b[49m\n\u001b[0;32m    561\u001b[0m \u001b[43m    \u001b[49m\u001b[38;5;241;43m.\u001b[39;49m\u001b[43mastype\u001b[49m\u001b[43m(\u001b[49m\u001b[38;5;28;43mstr\u001b[39;49m\u001b[43m)\u001b[49m\n\u001b[1;32m--> 562\u001b[0m \u001b[43m    \u001b[49m\u001b[38;5;241;43m.\u001b[39;49m\u001b[43mapply\u001b[49m\u001b[43m(\u001b[49m\u001b[38;5;28;43;01mlambda\u001b[39;49;00m\u001b[43m \u001b[49m\u001b[43mx\u001b[49m\u001b[43m:\u001b[49m\u001b[43m \u001b[49m\u001b[43mconvertir_en_minutes\u001b[49m\u001b[43m(\u001b[49m\u001b[43mx\u001b[49m\u001b[43m,\u001b[49m\u001b[43m \u001b[49m\u001b[43mfile\u001b[49m\u001b[43m,\u001b[49m\u001b[43m \u001b[49m\u001b[43mid_file\u001b[49m\u001b[43m)\u001b[49m\u001b[43m)\u001b[49m\n\u001b[0;32m    563\u001b[0m )\n\u001b[0;32m    565\u001b[0m listes_plates_machines \u001b[38;5;241m=\u001b[39m Indisponibilités_machines\u001b[38;5;241m.\u001b[39mapply(\n\u001b[0;32m    566\u001b[0m     \u001b[38;5;28;01mlambda\u001b[39;00m x: \u001b[38;5;28mlist\u001b[39m(chain(\u001b[38;5;241m*\u001b[39mx))\n\u001b[0;32m    567\u001b[0m )\n\u001b[0;32m    569\u001b[0m Limites_machines \u001b[38;5;241m=\u001b[39m []\n",
      "File \u001b[1;32md:\\Bureau2\\Opti\\Lib\\site-packages\\pandas\\core\\series.py:4924\u001b[0m, in \u001b[0;36mSeries.apply\u001b[1;34m(self, func, convert_dtype, args, by_row, **kwargs)\u001b[0m\n\u001b[0;32m   4789\u001b[0m \u001b[38;5;28;01mdef\u001b[39;00m\u001b[38;5;250m \u001b[39m\u001b[38;5;21mapply\u001b[39m(\n\u001b[0;32m   4790\u001b[0m     \u001b[38;5;28mself\u001b[39m,\n\u001b[0;32m   4791\u001b[0m     func: AggFuncType,\n\u001b[1;32m   (...)\u001b[0m\n\u001b[0;32m   4796\u001b[0m     \u001b[38;5;241m*\u001b[39m\u001b[38;5;241m*\u001b[39mkwargs,\n\u001b[0;32m   4797\u001b[0m ) \u001b[38;5;241m-\u001b[39m\u001b[38;5;241m>\u001b[39m DataFrame \u001b[38;5;241m|\u001b[39m Series:\n\u001b[0;32m   4798\u001b[0m \u001b[38;5;250m    \u001b[39m\u001b[38;5;124;03m\"\"\"\u001b[39;00m\n\u001b[0;32m   4799\u001b[0m \u001b[38;5;124;03m    Invoke function on values of Series.\u001b[39;00m\n\u001b[0;32m   4800\u001b[0m \n\u001b[1;32m   (...)\u001b[0m\n\u001b[0;32m   4915\u001b[0m \u001b[38;5;124;03m    dtype: float64\u001b[39;00m\n\u001b[0;32m   4916\u001b[0m \u001b[38;5;124;03m    \"\"\"\u001b[39;00m\n\u001b[0;32m   4917\u001b[0m     \u001b[38;5;28;01mreturn\u001b[39;00m \u001b[43mSeriesApply\u001b[49m\u001b[43m(\u001b[49m\n\u001b[0;32m   4918\u001b[0m \u001b[43m        \u001b[49m\u001b[38;5;28;43mself\u001b[39;49m\u001b[43m,\u001b[49m\n\u001b[0;32m   4919\u001b[0m \u001b[43m        \u001b[49m\u001b[43mfunc\u001b[49m\u001b[43m,\u001b[49m\n\u001b[0;32m   4920\u001b[0m \u001b[43m        \u001b[49m\u001b[43mconvert_dtype\u001b[49m\u001b[38;5;241;43m=\u001b[39;49m\u001b[43mconvert_dtype\u001b[49m\u001b[43m,\u001b[49m\n\u001b[0;32m   4921\u001b[0m \u001b[43m        \u001b[49m\u001b[43mby_row\u001b[49m\u001b[38;5;241;43m=\u001b[39;49m\u001b[43mby_row\u001b[49m\u001b[43m,\u001b[49m\n\u001b[0;32m   4922\u001b[0m \u001b[43m        \u001b[49m\u001b[43margs\u001b[49m\u001b[38;5;241;43m=\u001b[39;49m\u001b[43margs\u001b[49m\u001b[43m,\u001b[49m\n\u001b[0;32m   4923\u001b[0m \u001b[43m        \u001b[49m\u001b[43mkwargs\u001b[49m\u001b[38;5;241;43m=\u001b[39;49m\u001b[43mkwargs\u001b[49m\u001b[43m,\u001b[49m\n\u001b[1;32m-> 4924\u001b[0m \u001b[43m    \u001b[49m\u001b[43m)\u001b[49m\u001b[38;5;241;43m.\u001b[39;49m\u001b[43mapply\u001b[49m\u001b[43m(\u001b[49m\u001b[43m)\u001b[49m\n",
      "File \u001b[1;32md:\\Bureau2\\Opti\\Lib\\site-packages\\pandas\\core\\apply.py:1427\u001b[0m, in \u001b[0;36mSeriesApply.apply\u001b[1;34m(self)\u001b[0m\n\u001b[0;32m   1424\u001b[0m     \u001b[38;5;28;01mreturn\u001b[39;00m \u001b[38;5;28mself\u001b[39m\u001b[38;5;241m.\u001b[39mapply_compat()\n\u001b[0;32m   1426\u001b[0m \u001b[38;5;66;03m# self.func is Callable\u001b[39;00m\n\u001b[1;32m-> 1427\u001b[0m \u001b[38;5;28;01mreturn\u001b[39;00m \u001b[38;5;28;43mself\u001b[39;49m\u001b[38;5;241;43m.\u001b[39;49m\u001b[43mapply_standard\u001b[49m\u001b[43m(\u001b[49m\u001b[43m)\u001b[49m\n",
      "File \u001b[1;32md:\\Bureau2\\Opti\\Lib\\site-packages\\pandas\\core\\apply.py:1507\u001b[0m, in \u001b[0;36mSeriesApply.apply_standard\u001b[1;34m(self)\u001b[0m\n\u001b[0;32m   1501\u001b[0m \u001b[38;5;66;03m# row-wise access\u001b[39;00m\n\u001b[0;32m   1502\u001b[0m \u001b[38;5;66;03m# apply doesn't have a `na_action` keyword and for backward compat reasons\u001b[39;00m\n\u001b[0;32m   1503\u001b[0m \u001b[38;5;66;03m# we need to give `na_action=\"ignore\"` for categorical data.\u001b[39;00m\n\u001b[0;32m   1504\u001b[0m \u001b[38;5;66;03m# TODO: remove the `na_action=\"ignore\"` when that default has been changed in\u001b[39;00m\n\u001b[0;32m   1505\u001b[0m \u001b[38;5;66;03m#  Categorical (GH51645).\u001b[39;00m\n\u001b[0;32m   1506\u001b[0m action \u001b[38;5;241m=\u001b[39m \u001b[38;5;124m\"\u001b[39m\u001b[38;5;124mignore\u001b[39m\u001b[38;5;124m\"\u001b[39m \u001b[38;5;28;01mif\u001b[39;00m \u001b[38;5;28misinstance\u001b[39m(obj\u001b[38;5;241m.\u001b[39mdtype, CategoricalDtype) \u001b[38;5;28;01melse\u001b[39;00m \u001b[38;5;28;01mNone\u001b[39;00m\n\u001b[1;32m-> 1507\u001b[0m mapped \u001b[38;5;241m=\u001b[39m \u001b[43mobj\u001b[49m\u001b[38;5;241;43m.\u001b[39;49m\u001b[43m_map_values\u001b[49m\u001b[43m(\u001b[49m\n\u001b[0;32m   1508\u001b[0m \u001b[43m    \u001b[49m\u001b[43mmapper\u001b[49m\u001b[38;5;241;43m=\u001b[39;49m\u001b[43mcurried\u001b[49m\u001b[43m,\u001b[49m\u001b[43m \u001b[49m\u001b[43mna_action\u001b[49m\u001b[38;5;241;43m=\u001b[39;49m\u001b[43maction\u001b[49m\u001b[43m,\u001b[49m\u001b[43m \u001b[49m\u001b[43mconvert\u001b[49m\u001b[38;5;241;43m=\u001b[39;49m\u001b[38;5;28;43mself\u001b[39;49m\u001b[38;5;241;43m.\u001b[39;49m\u001b[43mconvert_dtype\u001b[49m\n\u001b[0;32m   1509\u001b[0m \u001b[43m\u001b[49m\u001b[43m)\u001b[49m\n\u001b[0;32m   1511\u001b[0m \u001b[38;5;28;01mif\u001b[39;00m \u001b[38;5;28mlen\u001b[39m(mapped) \u001b[38;5;129;01mand\u001b[39;00m \u001b[38;5;28misinstance\u001b[39m(mapped[\u001b[38;5;241m0\u001b[39m], ABCSeries):\n\u001b[0;32m   1512\u001b[0m     \u001b[38;5;66;03m# GH#43986 Need to do list(mapped) in order to get treated as nested\u001b[39;00m\n\u001b[0;32m   1513\u001b[0m     \u001b[38;5;66;03m#  See also GH#25959 regarding EA support\u001b[39;00m\n\u001b[0;32m   1514\u001b[0m     \u001b[38;5;28;01mreturn\u001b[39;00m obj\u001b[38;5;241m.\u001b[39m_constructor_expanddim(\u001b[38;5;28mlist\u001b[39m(mapped), index\u001b[38;5;241m=\u001b[39mobj\u001b[38;5;241m.\u001b[39mindex)\n",
      "File \u001b[1;32md:\\Bureau2\\Opti\\Lib\\site-packages\\pandas\\core\\base.py:921\u001b[0m, in \u001b[0;36mIndexOpsMixin._map_values\u001b[1;34m(self, mapper, na_action, convert)\u001b[0m\n\u001b[0;32m    918\u001b[0m \u001b[38;5;28;01mif\u001b[39;00m \u001b[38;5;28misinstance\u001b[39m(arr, ExtensionArray):\n\u001b[0;32m    919\u001b[0m     \u001b[38;5;28;01mreturn\u001b[39;00m arr\u001b[38;5;241m.\u001b[39mmap(mapper, na_action\u001b[38;5;241m=\u001b[39mna_action)\n\u001b[1;32m--> 921\u001b[0m \u001b[38;5;28;01mreturn\u001b[39;00m \u001b[43malgorithms\u001b[49m\u001b[38;5;241;43m.\u001b[39;49m\u001b[43mmap_array\u001b[49m\u001b[43m(\u001b[49m\u001b[43marr\u001b[49m\u001b[43m,\u001b[49m\u001b[43m \u001b[49m\u001b[43mmapper\u001b[49m\u001b[43m,\u001b[49m\u001b[43m \u001b[49m\u001b[43mna_action\u001b[49m\u001b[38;5;241;43m=\u001b[39;49m\u001b[43mna_action\u001b[49m\u001b[43m,\u001b[49m\u001b[43m \u001b[49m\u001b[43mconvert\u001b[49m\u001b[38;5;241;43m=\u001b[39;49m\u001b[43mconvert\u001b[49m\u001b[43m)\u001b[49m\n",
      "File \u001b[1;32md:\\Bureau2\\Opti\\Lib\\site-packages\\pandas\\core\\algorithms.py:1743\u001b[0m, in \u001b[0;36mmap_array\u001b[1;34m(arr, mapper, na_action, convert)\u001b[0m\n\u001b[0;32m   1741\u001b[0m values \u001b[38;5;241m=\u001b[39m arr\u001b[38;5;241m.\u001b[39mastype(\u001b[38;5;28mobject\u001b[39m, copy\u001b[38;5;241m=\u001b[39m\u001b[38;5;28;01mFalse\u001b[39;00m)\n\u001b[0;32m   1742\u001b[0m \u001b[38;5;28;01mif\u001b[39;00m na_action \u001b[38;5;129;01mis\u001b[39;00m \u001b[38;5;28;01mNone\u001b[39;00m:\n\u001b[1;32m-> 1743\u001b[0m     \u001b[38;5;28;01mreturn\u001b[39;00m \u001b[43mlib\u001b[49m\u001b[38;5;241;43m.\u001b[39;49m\u001b[43mmap_infer\u001b[49m\u001b[43m(\u001b[49m\u001b[43mvalues\u001b[49m\u001b[43m,\u001b[49m\u001b[43m \u001b[49m\u001b[43mmapper\u001b[49m\u001b[43m,\u001b[49m\u001b[43m \u001b[49m\u001b[43mconvert\u001b[49m\u001b[38;5;241;43m=\u001b[39;49m\u001b[43mconvert\u001b[49m\u001b[43m)\u001b[49m\n\u001b[0;32m   1744\u001b[0m \u001b[38;5;28;01melse\u001b[39;00m:\n\u001b[0;32m   1745\u001b[0m     \u001b[38;5;28;01mreturn\u001b[39;00m lib\u001b[38;5;241m.\u001b[39mmap_infer_mask(\n\u001b[0;32m   1746\u001b[0m         values, mapper, mask\u001b[38;5;241m=\u001b[39misna(values)\u001b[38;5;241m.\u001b[39mview(np\u001b[38;5;241m.\u001b[39muint8), convert\u001b[38;5;241m=\u001b[39mconvert\n\u001b[0;32m   1747\u001b[0m     )\n",
      "File \u001b[1;32mlib.pyx:2972\u001b[0m, in \u001b[0;36mpandas._libs.lib.map_infer\u001b[1;34m()\u001b[0m\n",
      "File \u001b[1;32md:\\Bureau2\\CS\\Cours\\2A\\ST7\\Projet\\optiFretSNCF\\code\\module\\utils1.py:562\u001b[0m, in \u001b[0;36mcreation_limites_machines.<locals>.<lambda>\u001b[1;34m(x)\u001b[0m\n\u001b[0;32m    537\u001b[0m \u001b[38;5;250m\u001b[39m\u001b[38;5;124;03m\"\"\"\u001b[39;00m\n\u001b[0;32m    538\u001b[0m \u001b[38;5;124;03mConvertit les plages d'indisponibilité des machines en minutes et les\u001b[39;00m\n\u001b[0;32m    539\u001b[0m \u001b[38;5;124;03morganise dans un dictionnaire.\u001b[39;00m\n\u001b[1;32m   (...)\u001b[0m\n\u001b[0;32m    552\u001b[0m \u001b[38;5;124;03m    chaque machine (DEB, FOR, DEG).\u001b[39;00m\n\u001b[0;32m    553\u001b[0m \u001b[38;5;124;03m\"\"\"\u001b[39;00m\n\u001b[0;32m    555\u001b[0m df_machines \u001b[38;5;241m=\u001b[39m pd\u001b[38;5;241m.\u001b[39mread_excel(file, sheet_name\u001b[38;5;241m=\u001b[39mFeuilles\u001b[38;5;241m.\u001b[39mMACHINES)\n\u001b[0;32m    557\u001b[0m Indisponibilités_machines \u001b[38;5;241m=\u001b[39m df_machines[\n\u001b[0;32m    558\u001b[0m     Colonnes\u001b[38;5;241m.\u001b[39mINDISPONIBILITE_MINUTES\n\u001b[0;32m    559\u001b[0m ] \u001b[38;5;241m=\u001b[39m (\n\u001b[0;32m    560\u001b[0m     df_machines[Colonnes\u001b[38;5;241m.\u001b[39mINDISPONIBILITE]\n\u001b[0;32m    561\u001b[0m     \u001b[38;5;241m.\u001b[39mastype(\u001b[38;5;28mstr\u001b[39m)\n\u001b[1;32m--> 562\u001b[0m     \u001b[38;5;241m.\u001b[39mapply(\u001b[38;5;28;01mlambda\u001b[39;00m x: \u001b[43mconvertir_en_minutes\u001b[49m\u001b[43m(\u001b[49m\u001b[43mx\u001b[49m\u001b[43m,\u001b[49m\u001b[43m \u001b[49m\u001b[43mfile\u001b[49m\u001b[43m,\u001b[49m\u001b[43m \u001b[49m\u001b[43mid_file\u001b[49m\u001b[43m)\u001b[49m)\n\u001b[0;32m    563\u001b[0m )\n\u001b[0;32m    565\u001b[0m listes_plates_machines \u001b[38;5;241m=\u001b[39m Indisponibilités_machines\u001b[38;5;241m.\u001b[39mapply(\n\u001b[0;32m    566\u001b[0m     \u001b[38;5;28;01mlambda\u001b[39;00m x: \u001b[38;5;28mlist\u001b[39m(chain(\u001b[38;5;241m*\u001b[39mx))\n\u001b[0;32m    567\u001b[0m )\n\u001b[0;32m    569\u001b[0m Limites_machines \u001b[38;5;241m=\u001b[39m []\n",
      "File \u001b[1;32md:\\Bureau2\\CS\\Cours\\2A\\ST7\\Projet\\optiFretSNCF\\code\\module\\utils1.py:462\u001b[0m, in \u001b[0;36mconvertir_en_minutes\u001b[1;34m(indisponibilites, file, id_file)\u001b[0m\n\u001b[0;32m    435\u001b[0m \u001b[38;5;28;01mdef\u001b[39;00m\u001b[38;5;250m \u001b[39m\u001b[38;5;21mconvertir_en_minutes\u001b[39m(\n\u001b[0;32m    436\u001b[0m     indisponibilites,\n\u001b[0;32m    437\u001b[0m     file,\n\u001b[0;32m    438\u001b[0m     id_file,\n\u001b[0;32m    439\u001b[0m ):\n\u001b[0;32m    440\u001b[0m \u001b[38;5;250m    \u001b[39m\u001b[38;5;124;03m\"\"\"\u001b[39;00m\n\u001b[0;32m    441\u001b[0m \u001b[38;5;124;03m    Convertit une plage d'indisponibilité en minutes depuis une date de\u001b[39;00m\n\u001b[0;32m    442\u001b[0m \u001b[38;5;124;03m    référence, et étend ces plages hebdomadairement jusqu'à dépasser l'heure\u001b[39;00m\n\u001b[1;32m   (...)\u001b[0m\n\u001b[0;32m    459\u001b[0m \u001b[38;5;124;03m        depuis la date de référence.\u001b[39;00m\n\u001b[0;32m    460\u001b[0m \u001b[38;5;124;03m    \"\"\"\u001b[39;00m\n\u001b[1;32m--> 462\u001b[0m     _, df_sillons_dep \u001b[38;5;241m=\u001b[39m \u001b[43mread_sillon\u001b[49m\u001b[43m(\u001b[49m\u001b[43mfile\u001b[49m\u001b[43m)\u001b[49m\n\u001b[0;32m    463\u001b[0m     pattern \u001b[38;5;241m=\u001b[39m \u001b[38;5;124mr\u001b[39m\u001b[38;5;124m\"\u001b[39m\u001b[38;5;124m\\\u001b[39m\u001b[38;5;124m((\u001b[39m\u001b[38;5;124m\\\u001b[39m\u001b[38;5;124md+),\u001b[39m\u001b[38;5;124m\\\u001b[39m\u001b[38;5;124ms*(\u001b[39m\u001b[38;5;124m\\\u001b[39m\u001b[38;5;124md\u001b[39m\u001b[38;5;124m{\u001b[39m\u001b[38;5;124m1,2}):(\u001b[39m\u001b[38;5;124m\\\u001b[39m\u001b[38;5;124md\u001b[39m\u001b[38;5;132;01m{2}\u001b[39;00m\u001b[38;5;124m)-(\u001b[39m\u001b[38;5;124m\\\u001b[39m\u001b[38;5;124md\u001b[39m\u001b[38;5;124m{\u001b[39m\u001b[38;5;124m1,2}):(\u001b[39m\u001b[38;5;124m\\\u001b[39m\u001b[38;5;124md\u001b[39m\u001b[38;5;132;01m{2}\u001b[39;00m\u001b[38;5;124m)\u001b[39m\u001b[38;5;124m\\\u001b[39m\u001b[38;5;124m)\u001b[39m\u001b[38;5;124m\"\u001b[39m\n\u001b[0;32m    464\u001b[0m     plages_originales \u001b[38;5;241m=\u001b[39m []\n",
      "File \u001b[1;32md:\\Bureau2\\CS\\Cours\\2A\\ST7\\Projet\\optiFretSNCF\\code\\module\\utils1.py:190\u001b[0m, in \u001b[0;36mread_sillon\u001b[1;34m(file)\u001b[0m\n\u001b[0;32m    172\u001b[0m \u001b[38;5;250m\u001b[39m\u001b[38;5;124;03m\"\"\"\u001b[39;00m\n\u001b[0;32m    173\u001b[0m \u001b[38;5;124;03mLit les feuilles 'Sillons arrivée' et 'Sillons départ' d'un fichier Excel.\u001b[39;00m\n\u001b[0;32m    174\u001b[0m \n\u001b[1;32m   (...)\u001b[0m\n\u001b[0;32m    185\u001b[0m \u001b[38;5;124;03m    DataFrames des sillons d'arrivée et de départ.\u001b[39;00m\n\u001b[0;32m    186\u001b[0m \u001b[38;5;124;03m\"\"\"\u001b[39;00m\n\u001b[0;32m    187\u001b[0m df_sillons_arr \u001b[38;5;241m=\u001b[39m pd\u001b[38;5;241m.\u001b[39mread_excel(\n\u001b[0;32m    188\u001b[0m     file, sheet_name\u001b[38;5;241m=\u001b[39mFeuilles\u001b[38;5;241m.\u001b[39mSILLONS_ARRIVEE\n\u001b[0;32m    189\u001b[0m )  \u001b[38;5;66;03m# Arrivées\u001b[39;00m\n\u001b[1;32m--> 190\u001b[0m df_sillons_dep \u001b[38;5;241m=\u001b[39m \u001b[43mpd\u001b[49m\u001b[38;5;241;43m.\u001b[39;49m\u001b[43mread_excel\u001b[49m\u001b[43m(\u001b[49m\n\u001b[0;32m    191\u001b[0m \u001b[43m    \u001b[49m\u001b[43mfile\u001b[49m\u001b[43m,\u001b[49m\u001b[43m \u001b[49m\u001b[43msheet_name\u001b[49m\u001b[38;5;241;43m=\u001b[39;49m\u001b[43mFeuilles\u001b[49m\u001b[38;5;241;43m.\u001b[39;49m\u001b[43mSILLONS_DEPART\u001b[49m\n\u001b[0;32m    192\u001b[0m \u001b[43m\u001b[49m\u001b[43m)\u001b[49m  \u001b[38;5;66;03m# Départs\u001b[39;00m\n\u001b[0;32m    194\u001b[0m \u001b[38;5;66;03m# Conversion des dates en datetime64\u001b[39;00m\n\u001b[0;32m    195\u001b[0m df_sillons_arr[Colonnes\u001b[38;5;241m.\u001b[39mSILLON_JARR] \u001b[38;5;241m=\u001b[39m pd\u001b[38;5;241m.\u001b[39mto_datetime(\n\u001b[0;32m    196\u001b[0m     df_sillons_arr[Colonnes\u001b[38;5;241m.\u001b[39mSILLON_JARR], \u001b[38;5;28mformat\u001b[39m\u001b[38;5;241m=\u001b[39m\u001b[38;5;124m\"\u001b[39m\u001b[38;5;132;01m%d\u001b[39;00m\u001b[38;5;124m/\u001b[39m\u001b[38;5;124m%\u001b[39m\u001b[38;5;124mm/\u001b[39m\u001b[38;5;124m%\u001b[39m\u001b[38;5;124mY\u001b[39m\u001b[38;5;124m\"\u001b[39m, errors\u001b[38;5;241m=\u001b[39m\u001b[38;5;124m\"\u001b[39m\u001b[38;5;124mcoerce\u001b[39m\u001b[38;5;124m\"\u001b[39m\n\u001b[0;32m    197\u001b[0m )\n",
      "File \u001b[1;32md:\\Bureau2\\Opti\\Lib\\site-packages\\pandas\\io\\excel\\_base.py:495\u001b[0m, in \u001b[0;36mread_excel\u001b[1;34m(io, sheet_name, header, names, index_col, usecols, dtype, engine, converters, true_values, false_values, skiprows, nrows, na_values, keep_default_na, na_filter, verbose, parse_dates, date_parser, date_format, thousands, decimal, comment, skipfooter, storage_options, dtype_backend, engine_kwargs)\u001b[0m\n\u001b[0;32m    493\u001b[0m \u001b[38;5;28;01mif\u001b[39;00m \u001b[38;5;129;01mnot\u001b[39;00m \u001b[38;5;28misinstance\u001b[39m(io, ExcelFile):\n\u001b[0;32m    494\u001b[0m     should_close \u001b[38;5;241m=\u001b[39m \u001b[38;5;28;01mTrue\u001b[39;00m\n\u001b[1;32m--> 495\u001b[0m     io \u001b[38;5;241m=\u001b[39m \u001b[43mExcelFile\u001b[49m\u001b[43m(\u001b[49m\n\u001b[0;32m    496\u001b[0m \u001b[43m        \u001b[49m\u001b[43mio\u001b[49m\u001b[43m,\u001b[49m\n\u001b[0;32m    497\u001b[0m \u001b[43m        \u001b[49m\u001b[43mstorage_options\u001b[49m\u001b[38;5;241;43m=\u001b[39;49m\u001b[43mstorage_options\u001b[49m\u001b[43m,\u001b[49m\n\u001b[0;32m    498\u001b[0m \u001b[43m        \u001b[49m\u001b[43mengine\u001b[49m\u001b[38;5;241;43m=\u001b[39;49m\u001b[43mengine\u001b[49m\u001b[43m,\u001b[49m\n\u001b[0;32m    499\u001b[0m \u001b[43m        \u001b[49m\u001b[43mengine_kwargs\u001b[49m\u001b[38;5;241;43m=\u001b[39;49m\u001b[43mengine_kwargs\u001b[49m\u001b[43m,\u001b[49m\n\u001b[0;32m    500\u001b[0m \u001b[43m    \u001b[49m\u001b[43m)\u001b[49m\n\u001b[0;32m    501\u001b[0m \u001b[38;5;28;01melif\u001b[39;00m engine \u001b[38;5;129;01mand\u001b[39;00m engine \u001b[38;5;241m!=\u001b[39m io\u001b[38;5;241m.\u001b[39mengine:\n\u001b[0;32m    502\u001b[0m     \u001b[38;5;28;01mraise\u001b[39;00m \u001b[38;5;167;01mValueError\u001b[39;00m(\n\u001b[0;32m    503\u001b[0m         \u001b[38;5;124m\"\u001b[39m\u001b[38;5;124mEngine should not be specified when passing \u001b[39m\u001b[38;5;124m\"\u001b[39m\n\u001b[0;32m    504\u001b[0m         \u001b[38;5;124m\"\u001b[39m\u001b[38;5;124man ExcelFile - ExcelFile already has the engine set\u001b[39m\u001b[38;5;124m\"\u001b[39m\n\u001b[0;32m    505\u001b[0m     )\n",
      "File \u001b[1;32md:\\Bureau2\\Opti\\Lib\\site-packages\\pandas\\io\\excel\\_base.py:1567\u001b[0m, in \u001b[0;36mExcelFile.__init__\u001b[1;34m(self, path_or_buffer, engine, storage_options, engine_kwargs)\u001b[0m\n\u001b[0;32m   1564\u001b[0m \u001b[38;5;28mself\u001b[39m\u001b[38;5;241m.\u001b[39mengine \u001b[38;5;241m=\u001b[39m engine\n\u001b[0;32m   1565\u001b[0m \u001b[38;5;28mself\u001b[39m\u001b[38;5;241m.\u001b[39mstorage_options \u001b[38;5;241m=\u001b[39m storage_options\n\u001b[1;32m-> 1567\u001b[0m \u001b[38;5;28mself\u001b[39m\u001b[38;5;241m.\u001b[39m_reader \u001b[38;5;241m=\u001b[39m \u001b[38;5;28;43mself\u001b[39;49m\u001b[38;5;241;43m.\u001b[39;49m\u001b[43m_engines\u001b[49m\u001b[43m[\u001b[49m\u001b[43mengine\u001b[49m\u001b[43m]\u001b[49m\u001b[43m(\u001b[49m\n\u001b[0;32m   1568\u001b[0m \u001b[43m    \u001b[49m\u001b[38;5;28;43mself\u001b[39;49m\u001b[38;5;241;43m.\u001b[39;49m\u001b[43m_io\u001b[49m\u001b[43m,\u001b[49m\n\u001b[0;32m   1569\u001b[0m \u001b[43m    \u001b[49m\u001b[43mstorage_options\u001b[49m\u001b[38;5;241;43m=\u001b[39;49m\u001b[43mstorage_options\u001b[49m\u001b[43m,\u001b[49m\n\u001b[0;32m   1570\u001b[0m \u001b[43m    \u001b[49m\u001b[43mengine_kwargs\u001b[49m\u001b[38;5;241;43m=\u001b[39;49m\u001b[43mengine_kwargs\u001b[49m\u001b[43m,\u001b[49m\n\u001b[0;32m   1571\u001b[0m \u001b[43m\u001b[49m\u001b[43m)\u001b[49m\n",
      "File \u001b[1;32md:\\Bureau2\\Opti\\Lib\\site-packages\\pandas\\io\\excel\\_openpyxl.py:553\u001b[0m, in \u001b[0;36mOpenpyxlReader.__init__\u001b[1;34m(self, filepath_or_buffer, storage_options, engine_kwargs)\u001b[0m\n\u001b[0;32m    541\u001b[0m \u001b[38;5;250m\u001b[39m\u001b[38;5;124;03m\"\"\"\u001b[39;00m\n\u001b[0;32m    542\u001b[0m \u001b[38;5;124;03mReader using openpyxl engine.\u001b[39;00m\n\u001b[0;32m    543\u001b[0m \n\u001b[1;32m   (...)\u001b[0m\n\u001b[0;32m    550\u001b[0m \u001b[38;5;124;03m    Arbitrary keyword arguments passed to excel engine.\u001b[39;00m\n\u001b[0;32m    551\u001b[0m \u001b[38;5;124;03m\"\"\"\u001b[39;00m\n\u001b[0;32m    552\u001b[0m import_optional_dependency(\u001b[38;5;124m\"\u001b[39m\u001b[38;5;124mopenpyxl\u001b[39m\u001b[38;5;124m\"\u001b[39m)\n\u001b[1;32m--> 553\u001b[0m \u001b[38;5;28;43msuper\u001b[39;49m\u001b[43m(\u001b[49m\u001b[43m)\u001b[49m\u001b[38;5;241;43m.\u001b[39;49m\u001b[38;5;21;43m__init__\u001b[39;49m\u001b[43m(\u001b[49m\n\u001b[0;32m    554\u001b[0m \u001b[43m    \u001b[49m\u001b[43mfilepath_or_buffer\u001b[49m\u001b[43m,\u001b[49m\n\u001b[0;32m    555\u001b[0m \u001b[43m    \u001b[49m\u001b[43mstorage_options\u001b[49m\u001b[38;5;241;43m=\u001b[39;49m\u001b[43mstorage_options\u001b[49m\u001b[43m,\u001b[49m\n\u001b[0;32m    556\u001b[0m \u001b[43m    \u001b[49m\u001b[43mengine_kwargs\u001b[49m\u001b[38;5;241;43m=\u001b[39;49m\u001b[43mengine_kwargs\u001b[49m\u001b[43m,\u001b[49m\n\u001b[0;32m    557\u001b[0m \u001b[43m\u001b[49m\u001b[43m)\u001b[49m\n",
      "File \u001b[1;32md:\\Bureau2\\Opti\\Lib\\site-packages\\pandas\\io\\excel\\_base.py:573\u001b[0m, in \u001b[0;36mBaseExcelReader.__init__\u001b[1;34m(self, filepath_or_buffer, storage_options, engine_kwargs)\u001b[0m\n\u001b[0;32m    571\u001b[0m \u001b[38;5;28mself\u001b[39m\u001b[38;5;241m.\u001b[39mhandles\u001b[38;5;241m.\u001b[39mhandle\u001b[38;5;241m.\u001b[39mseek(\u001b[38;5;241m0\u001b[39m)\n\u001b[0;32m    572\u001b[0m \u001b[38;5;28;01mtry\u001b[39;00m:\n\u001b[1;32m--> 573\u001b[0m     \u001b[38;5;28mself\u001b[39m\u001b[38;5;241m.\u001b[39mbook \u001b[38;5;241m=\u001b[39m \u001b[38;5;28;43mself\u001b[39;49m\u001b[38;5;241;43m.\u001b[39;49m\u001b[43mload_workbook\u001b[49m\u001b[43m(\u001b[49m\u001b[38;5;28;43mself\u001b[39;49m\u001b[38;5;241;43m.\u001b[39;49m\u001b[43mhandles\u001b[49m\u001b[38;5;241;43m.\u001b[39;49m\u001b[43mhandle\u001b[49m\u001b[43m,\u001b[49m\u001b[43m \u001b[49m\u001b[43mengine_kwargs\u001b[49m\u001b[43m)\u001b[49m\n\u001b[0;32m    574\u001b[0m \u001b[38;5;28;01mexcept\u001b[39;00m \u001b[38;5;167;01mException\u001b[39;00m:\n\u001b[0;32m    575\u001b[0m     \u001b[38;5;28mself\u001b[39m\u001b[38;5;241m.\u001b[39mclose()\n",
      "File \u001b[1;32md:\\Bureau2\\Opti\\Lib\\site-packages\\pandas\\io\\excel\\_openpyxl.py:572\u001b[0m, in \u001b[0;36mOpenpyxlReader.load_workbook\u001b[1;34m(self, filepath_or_buffer, engine_kwargs)\u001b[0m\n\u001b[0;32m    568\u001b[0m \u001b[38;5;28;01mfrom\u001b[39;00m\u001b[38;5;250m \u001b[39m\u001b[38;5;21;01mopenpyxl\u001b[39;00m\u001b[38;5;250m \u001b[39m\u001b[38;5;28;01mimport\u001b[39;00m load_workbook\n\u001b[0;32m    570\u001b[0m default_kwargs \u001b[38;5;241m=\u001b[39m {\u001b[38;5;124m\"\u001b[39m\u001b[38;5;124mread_only\u001b[39m\u001b[38;5;124m\"\u001b[39m: \u001b[38;5;28;01mTrue\u001b[39;00m, \u001b[38;5;124m\"\u001b[39m\u001b[38;5;124mdata_only\u001b[39m\u001b[38;5;124m\"\u001b[39m: \u001b[38;5;28;01mTrue\u001b[39;00m, \u001b[38;5;124m\"\u001b[39m\u001b[38;5;124mkeep_links\u001b[39m\u001b[38;5;124m\"\u001b[39m: \u001b[38;5;28;01mFalse\u001b[39;00m}\n\u001b[1;32m--> 572\u001b[0m \u001b[38;5;28;01mreturn\u001b[39;00m \u001b[43mload_workbook\u001b[49m\u001b[43m(\u001b[49m\n\u001b[0;32m    573\u001b[0m \u001b[43m    \u001b[49m\u001b[43mfilepath_or_buffer\u001b[49m\u001b[43m,\u001b[49m\n\u001b[0;32m    574\u001b[0m \u001b[43m    \u001b[49m\u001b[38;5;241;43m*\u001b[39;49m\u001b[38;5;241;43m*\u001b[39;49m\u001b[43m(\u001b[49m\u001b[43mdefault_kwargs\u001b[49m\u001b[43m \u001b[49m\u001b[38;5;241;43m|\u001b[39;49m\u001b[43m \u001b[49m\u001b[43mengine_kwargs\u001b[49m\u001b[43m)\u001b[49m\u001b[43m,\u001b[49m\n\u001b[0;32m    575\u001b[0m \u001b[43m\u001b[49m\u001b[43m)\u001b[49m\n",
      "File \u001b[1;32md:\\Bureau2\\Opti\\Lib\\site-packages\\openpyxl\\reader\\excel.py:348\u001b[0m, in \u001b[0;36mload_workbook\u001b[1;34m(filename, read_only, keep_vba, data_only, keep_links, rich_text)\u001b[0m\n\u001b[0;32m    318\u001b[0m \u001b[38;5;250m\u001b[39m\u001b[38;5;124;03m\"\"\"Open the given filename and return the workbook\u001b[39;00m\n\u001b[0;32m    319\u001b[0m \n\u001b[0;32m    320\u001b[0m \u001b[38;5;124;03m:param filename: the path to open or a file-like object\u001b[39;00m\n\u001b[1;32m   (...)\u001b[0m\n\u001b[0;32m    344\u001b[0m \n\u001b[0;32m    345\u001b[0m \u001b[38;5;124;03m\"\"\"\u001b[39;00m\n\u001b[0;32m    346\u001b[0m reader \u001b[38;5;241m=\u001b[39m ExcelReader(filename, read_only, keep_vba,\n\u001b[0;32m    347\u001b[0m                      data_only, keep_links, rich_text)\n\u001b[1;32m--> 348\u001b[0m \u001b[43mreader\u001b[49m\u001b[38;5;241;43m.\u001b[39;49m\u001b[43mread\u001b[49m\u001b[43m(\u001b[49m\u001b[43m)\u001b[49m\n\u001b[0;32m    349\u001b[0m \u001b[38;5;28;01mreturn\u001b[39;00m reader\u001b[38;5;241m.\u001b[39mwb\n",
      "File \u001b[1;32md:\\Bureau2\\Opti\\Lib\\site-packages\\openpyxl\\reader\\excel.py:301\u001b[0m, in \u001b[0;36mExcelReader.read\u001b[1;34m(self)\u001b[0m\n\u001b[0;32m    299\u001b[0m \u001b[38;5;28mself\u001b[39m\u001b[38;5;241m.\u001b[39mread_theme()\n\u001b[0;32m    300\u001b[0m action \u001b[38;5;241m=\u001b[39m \u001b[38;5;124m\"\u001b[39m\u001b[38;5;124mread stylesheet\u001b[39m\u001b[38;5;124m\"\u001b[39m\n\u001b[1;32m--> 301\u001b[0m \u001b[43mapply_stylesheet\u001b[49m\u001b[43m(\u001b[49m\u001b[38;5;28;43mself\u001b[39;49m\u001b[38;5;241;43m.\u001b[39;49m\u001b[43marchive\u001b[49m\u001b[43m,\u001b[49m\u001b[43m \u001b[49m\u001b[38;5;28;43mself\u001b[39;49m\u001b[38;5;241;43m.\u001b[39;49m\u001b[43mwb\u001b[49m\u001b[43m)\u001b[49m\n\u001b[0;32m    302\u001b[0m action \u001b[38;5;241m=\u001b[39m \u001b[38;5;124m\"\u001b[39m\u001b[38;5;124mread worksheets\u001b[39m\u001b[38;5;124m\"\u001b[39m\n\u001b[0;32m    303\u001b[0m \u001b[38;5;28mself\u001b[39m\u001b[38;5;241m.\u001b[39mread_worksheets()\n",
      "File \u001b[1;32md:\\Bureau2\\Opti\\Lib\\site-packages\\openpyxl\\styles\\stylesheet.py:229\u001b[0m, in \u001b[0;36mapply_stylesheet\u001b[1;34m(archive, wb)\u001b[0m\n\u001b[0;32m    226\u001b[0m     wb\u001b[38;5;241m.\u001b[39m_timedelta_formats \u001b[38;5;241m=\u001b[39m stylesheet\u001b[38;5;241m.\u001b[39mtimedelta_formats\n\u001b[0;32m    228\u001b[0m     \u001b[38;5;28;01mfor\u001b[39;00m ns \u001b[38;5;129;01min\u001b[39;00m wb\u001b[38;5;241m.\u001b[39m_named_styles:\n\u001b[1;32m--> 229\u001b[0m         \u001b[43mns\u001b[49m\u001b[38;5;241;43m.\u001b[39;49m\u001b[43mbind\u001b[49m\u001b[43m(\u001b[49m\u001b[43mwb\u001b[49m\u001b[43m)\u001b[49m\n\u001b[0;32m    231\u001b[0m \u001b[38;5;28;01melse\u001b[39;00m:\n\u001b[0;32m    232\u001b[0m     warn(\u001b[38;5;124m\"\u001b[39m\u001b[38;5;124mWorkbook contains no stylesheet, using openpyxl\u001b[39m\u001b[38;5;124m'\u001b[39m\u001b[38;5;124ms defaults\u001b[39m\u001b[38;5;124m\"\u001b[39m)\n",
      "File \u001b[1;32md:\\Bureau2\\Opti\\Lib\\site-packages\\openpyxl\\styles\\named_styles.py:94\u001b[0m, in \u001b[0;36mNamedStyle.bind\u001b[1;34m(self, wb)\u001b[0m\n\u001b[0;32m     90\u001b[0m \u001b[38;5;250m\u001b[39m\u001b[38;5;124;03m\"\"\"\u001b[39;00m\n\u001b[0;32m     91\u001b[0m \u001b[38;5;124;03mBind a named style to a workbook\u001b[39;00m\n\u001b[0;32m     92\u001b[0m \u001b[38;5;124;03m\"\"\"\u001b[39;00m\n\u001b[0;32m     93\u001b[0m \u001b[38;5;28mself\u001b[39m\u001b[38;5;241m.\u001b[39m_wb \u001b[38;5;241m=\u001b[39m wb\n\u001b[1;32m---> 94\u001b[0m \u001b[38;5;28;43mself\u001b[39;49m\u001b[38;5;241;43m.\u001b[39;49m\u001b[43m_recalculate\u001b[49m\u001b[43m(\u001b[49m\u001b[43m)\u001b[49m\n",
      "File \u001b[1;32md:\\Bureau2\\Opti\\Lib\\site-packages\\openpyxl\\styles\\named_styles.py:98\u001b[0m, in \u001b[0;36mNamedStyle._recalculate\u001b[1;34m(self)\u001b[0m\n\u001b[0;32m     97\u001b[0m \u001b[38;5;28;01mdef\u001b[39;00m\u001b[38;5;250m \u001b[39m\u001b[38;5;21m_recalculate\u001b[39m(\u001b[38;5;28mself\u001b[39m):\n\u001b[1;32m---> 98\u001b[0m     \u001b[38;5;28mself\u001b[39m\u001b[38;5;241m.\u001b[39m_style\u001b[38;5;241m.\u001b[39mfontId \u001b[38;5;241m=\u001b[39m  \u001b[38;5;28;43mself\u001b[39;49m\u001b[38;5;241;43m.\u001b[39;49m\u001b[43m_wb\u001b[49m\u001b[38;5;241;43m.\u001b[39;49m\u001b[43m_fonts\u001b[49m\u001b[38;5;241;43m.\u001b[39;49m\u001b[43madd\u001b[49m\u001b[43m(\u001b[49m\u001b[38;5;28;43mself\u001b[39;49m\u001b[38;5;241;43m.\u001b[39;49m\u001b[43mfont\u001b[49m\u001b[43m)\u001b[49m\n\u001b[0;32m     99\u001b[0m     \u001b[38;5;28mself\u001b[39m\u001b[38;5;241m.\u001b[39m_style\u001b[38;5;241m.\u001b[39mborderId \u001b[38;5;241m=\u001b[39m \u001b[38;5;28mself\u001b[39m\u001b[38;5;241m.\u001b[39m_wb\u001b[38;5;241m.\u001b[39m_borders\u001b[38;5;241m.\u001b[39madd(\u001b[38;5;28mself\u001b[39m\u001b[38;5;241m.\u001b[39mborder)\n\u001b[0;32m    100\u001b[0m     \u001b[38;5;28mself\u001b[39m\u001b[38;5;241m.\u001b[39m_style\u001b[38;5;241m.\u001b[39mfillId \u001b[38;5;241m=\u001b[39m  \u001b[38;5;28mself\u001b[39m\u001b[38;5;241m.\u001b[39m_wb\u001b[38;5;241m.\u001b[39m_fills\u001b[38;5;241m.\u001b[39madd(\u001b[38;5;28mself\u001b[39m\u001b[38;5;241m.\u001b[39mfill)\n",
      "File \u001b[1;32md:\\Bureau2\\Opti\\Lib\\site-packages\\openpyxl\\utils\\indexed_list.py:48\u001b[0m, in \u001b[0;36mIndexedList.add\u001b[1;34m(self, value)\u001b[0m\n\u001b[0;32m     47\u001b[0m \u001b[38;5;28;01mdef\u001b[39;00m\u001b[38;5;250m \u001b[39m\u001b[38;5;21madd\u001b[39m(\u001b[38;5;28mself\u001b[39m, value):\n\u001b[1;32m---> 48\u001b[0m     \u001b[38;5;28;43mself\u001b[39;49m\u001b[38;5;241;43m.\u001b[39;49m\u001b[43mappend\u001b[49m\u001b[43m(\u001b[49m\u001b[43mvalue\u001b[49m\u001b[43m)\u001b[49m\n\u001b[0;32m     49\u001b[0m     \u001b[38;5;28;01mreturn\u001b[39;00m \u001b[38;5;28mself\u001b[39m\u001b[38;5;241m.\u001b[39m_dict[value]\n",
      "File \u001b[1;32md:\\Bureau2\\Opti\\Lib\\site-packages\\openpyxl\\utils\\indexed_list.py:43\u001b[0m, in \u001b[0;36mIndexedList.append\u001b[1;34m(self, value)\u001b[0m\n\u001b[0;32m     42\u001b[0m \u001b[38;5;28;01mdef\u001b[39;00m\u001b[38;5;250m \u001b[39m\u001b[38;5;21mappend\u001b[39m(\u001b[38;5;28mself\u001b[39m, value):\n\u001b[1;32m---> 43\u001b[0m     \u001b[38;5;28;01mif\u001b[39;00m \u001b[43mvalue\u001b[49m\u001b[43m \u001b[49m\u001b[38;5;129;43;01mnot\u001b[39;49;00m\u001b[43m \u001b[49m\u001b[38;5;129;43;01min\u001b[39;49;00m\u001b[43m \u001b[49m\u001b[38;5;28;43mself\u001b[39;49m\u001b[38;5;241;43m.\u001b[39;49m\u001b[43m_dict\u001b[49m:\n\u001b[0;32m     44\u001b[0m         \u001b[38;5;28mself\u001b[39m\u001b[38;5;241m.\u001b[39m_dict[value] \u001b[38;5;241m=\u001b[39m \u001b[38;5;28mlen\u001b[39m(\u001b[38;5;28mself\u001b[39m)\n\u001b[0;32m     45\u001b[0m         \u001b[38;5;28mlist\u001b[39m\u001b[38;5;241m.\u001b[39mappend(\u001b[38;5;28mself\u001b[39m, value)\n",
      "File \u001b[1;32md:\\Bureau2\\Opti\\Lib\\site-packages\\openpyxl\\descriptors\\serialisable.py:210\u001b[0m, in \u001b[0;36mSerialisable.__hash__\u001b[1;34m(self)\u001b[0m\n\u001b[0;32m    208\u001b[0m     \u001b[38;5;28;01mif\u001b[39;00m \u001b[38;5;28misinstance\u001b[39m(val, \u001b[38;5;28mlist\u001b[39m):\n\u001b[0;32m    209\u001b[0m         val \u001b[38;5;241m=\u001b[39m \u001b[38;5;28mtuple\u001b[39m(val)\n\u001b[1;32m--> 210\u001b[0m     fields\u001b[38;5;241m.\u001b[39mappend(val)\n\u001b[0;32m    212\u001b[0m \u001b[38;5;28;01mreturn\u001b[39;00m \u001b[38;5;28mhash\u001b[39m(\u001b[38;5;28mtuple\u001b[39m(fields))\n",
      "\u001b[1;31mKeyboardInterrupt\u001b[0m: "
     ]
    }
   ],
   "source": [
    "model,t_arr,t_dep = init_model(\n",
    "    liste_id_train_arrivee = t_a.keys(),\n",
    "    t_a = t_a,\n",
    "    liste_id_train_depart = t_d.keys(),\n",
    "    t_d = t_d,\n",
    "    dict_correspondances = D,\n",
    "    file=file,\n",
    "    id_file = 1,\n",
    "    limites_voies=init_limites_voies(file),\n",
    "    tempsMax=2000,\n",
    "    tempsMin=0\n",
    ")\n"
   ]
  },
  {
   "cell_type": "code",
   "execution_count": null,
   "metadata": {},
   "outputs": [
    {
     "name": "stdout",
     "output_type": "stream",
     "text": [
      "Ca marche !\n",
      "Tâche 1 - Train 412202_08 : 1260.0\n",
      "Tâche 1 - Train 431018_08 : 810.0\n",
      "Tâche 1 - Train 431246_08 : 675.0\n",
      "Tâche 1 - Train 44951_08 : 1140.0\n",
      "Tâche 1 - Train 450237_08 : 720.0\n",
      "Tâche 1 - Train 489016_08 : 1425.0\n",
      "Tâche 1 - Train 54234_08 : 1335.0\n",
      "Tâche 1 - Train 55390_08 : 1440.0\n",
      "Tâche 1 - Train 56135_08 : 1290.0\n",
      "Tâche 1 - Train 412023_09 : 1575.0\n",
      "Tâche 1 - Train 41264_09 : 2805.0\n",
      "Tâche 1 - Train 431802_09 : 1620.0\n",
      "Tâche 1 - Train 44222_09 : 2535.0\n",
      "Tâche 1 - Train 44250_09 : 2070.0\n",
      "Tâche 1 - Train 44865_09 : 2430.0\n",
      "Tâche 1 - Train 450237_09 : 2160.0\n",
      "Tâche 1 - Train 471003_09 : 2205.0\n",
      "Tâche 1 - Train 47262_09 : 1995.0\n",
      "Tâche 1 - Train 489026_09 : 2025.0\n",
      "Tâche 1 - Train 54234_09 : 2775.0\n",
      "Tâche 1 - Train 55390_09 : 2880.0\n",
      "Tâche 1 - Train 55398_09 : 1680.0\n",
      "Tâche 1 - Train 56135_09 : 2730.0\n",
      "Tâche 1 - Train 56730_09 : 1605.0\n",
      "Tâche 1 - Train 58706_09 : 2715.0\n",
      "Tâche 1 - Train 412023_10 : 3015.0\n",
      "Tâche 1 - Train 412202_10 : 4140.0\n",
      "Tâche 1 - Train 41264_10 : 4245.0\n",
      "Tâche 1 - Train 431020_10 : 4110.0\n",
      "Tâche 1 - Train 431110_10 : 3630.0\n",
      "Tâche 1 - Train 431246_10 : 3555.0\n",
      "Tâche 1 - Train 431802_10 : 3120.0\n",
      "Tâche 1 - Train 44222_10 : 3840.0\n",
      "Tâche 1 - Train 44228_10 : 2955.0\n",
      "Tâche 1 - Train 44250_10 : 3510.0\n",
      "Tâche 1 - Train 450237_10 : 3600.0\n",
      "Tâche 1 - Train 471003_10 : 3645.0\n",
      "Tâche 1 - Train 47214_10 : 3645.0\n",
      "Tâche 1 - Train 47262_10 : 3435.0\n",
      "Tâche 1 - Train 54234_10 : 4215.0\n",
      "Tâche 1 - Train 55390_10 : 4320.0\n",
      "Tâche 1 - Train 55396_10 : 3345.0\n",
      "Tâche 1 - Train 56135_10 : 4170.0\n",
      "Tâche 1 - Train 56730_10 : 3045.0\n",
      "Tâche 1 - Train 58706_10 : 4155.0\n",
      "Tâche 1 - Train 71270_10 : 3450.0\n",
      "Tâche 1 - Train 412023_11 : 4455.0\n",
      "Tâche 1 - Train 412202_11 : 5580.0\n",
      "Tâche 1 - Train 41254_11 : 5730.0\n",
      "Tâche 1 - Train 431246_11 : 4995.0\n",
      "Tâche 1 - Train 431640_11 : 4995.0\n",
      "Tâche 1 - Train 431802_11 : 4500.0\n",
      "Tâche 1 - Train 44222_11 : 5280.0\n",
      "Tâche 1 - Train 44250_11 : 4950.0\n",
      "Tâche 1 - Train 44865_11 : 5310.0\n",
      "Tâche 1 - Train 450237_11 : 5040.0\n",
      "Tâche 1 - Train 471003_11 : 5085.0\n",
      "Tâche 1 - Train 47212_11 : 5385.0\n",
      "Tâche 1 - Train 47240_11 : 4500.0\n",
      "Tâche 1 - Train 47262_11 : 4875.0\n",
      "Tâche 1 - Train 47822_11 : 5505.0\n",
      "Tâche 1 - Train 54234_11 : 5655.0\n",
      "Tâche 1 - Train 55390_11 : 5760.0\n",
      "Tâche 1 - Train 55394_11 : 5025.0\n",
      "Tâche 1 - Train 55396_11 : 4545.0\n",
      "Tâche 1 - Train 56135_11 : 5610.0\n",
      "Tâche 1 - Train 56730_11 : 4485.0\n",
      "Tâche 1 - Train 58706_11 : 5595.0\n",
      "Tâche 1 - Train 412023_12 : 5895.0\n",
      "Tâche 1 - Train 412202_12 : 7020.0\n",
      "Tâche 1 - Train 41264_12 : 7125.0\n",
      "Tâche 1 - Train 431246_12 : 6435.0\n",
      "Tâche 1 - Train 431802_12 : 6075.0\n",
      "Tâche 1 - Train 44222_12 : 6720.0\n",
      "Tâche 1 - Train 44228_12 : 5835.0\n",
      "Tâche 1 - Train 44250_12 : 6390.0\n",
      "Tâche 1 - Train 44865_12 : 6750.0\n",
      "Tâche 1 - Train 44951_12 : 6900.0\n",
      "Tâche 1 - Train 450237_12 : 6480.0\n",
      "Tâche 1 - Train 471003_12 : 6525.0\n",
      "Tâche 1 - Train 47214_12 : 6825.0\n",
      "Tâche 1 - Train 47262_12 : 6315.0\n",
      "Tâche 1 - Train 47822_12 : 6945.0\n",
      "Tâche 1 - Train 48216_12 : 6225.0\n",
      "Tâche 1 - Train 489026_12 : 6465.0\n",
      "Tâche 1 - Train 489042_12 : 7065.0\n",
      "Tâche 1 - Train 54234_12 : 7095.0\n",
      "Tâche 1 - Train 55396_12 : 6225.0\n",
      "Tâche 1 - Train 56135_12 : 7050.0\n",
      "Tâche 1 - Train 56730_12 : 5925.0\n",
      "Tâche 1 - Train 58706_12 : 7035.0\n",
      "Tâche 1 - Train 71270_12 : 6330.0\n",
      "Tâche 1 - Train 412023_13 : 7335.0\n",
      "Tâche 1 - Train 41230_13 : 8535.0\n",
      "Tâche 1 - Train 431802_13 : 7515.0\n",
      "Tâche 1 - Train 44222_13 : 8385.0\n",
      "Tâche 1 - Train 44228_13 : 7275.0\n",
      "Tâche 1 - Train 44250_13 : 7845.0\n",
      "Tâche 1 - Train 44864_13 : 8385.0\n",
      "Tâche 1 - Train 450235_13 : 7920.0\n",
      "Tâche 1 - Train 47240_13 : 7320.0\n",
      "Tâche 1 - Train 47262_13 : 7770.0\n",
      "Tâche 1 - Train 47822_13 : 8385.0\n",
      "Tâche 1 - Train 489026_13 : 7905.0\n",
      "Tâche 1 - Train 54234_13 : 8535.0\n",
      "Tâche 1 - Train 55390_13 : 8640.0\n",
      "Tâche 1 - Train 55396_13 : 7665.0\n",
      "Tâche 1 - Train 56135_13 : 8490.0\n",
      "Tâche 1 - Train 56730_13 : 7365.0\n",
      "Tâche 1 - Train 58706_13 : 8475.0\n",
      "Tâche 1 - Train 56730_14 : 8805.0\n",
      "Tâche 2 - Train 412202_08 : 1275.0\n",
      "Tâche 2 - Train 431018_08 : 825.0\n",
      "Tâche 2 - Train 431246_08 : 750.0\n",
      "Tâche 2 - Train 44951_08 : 1155.0\n",
      "Tâche 2 - Train 450237_08 : 735.0\n",
      "Tâche 2 - Train 489016_08 : 1440.0\n",
      "Tâche 2 - Train 54234_08 : 1350.0\n",
      "Tâche 2 - Train 55390_08 : 1455.0\n",
      "Tâche 2 - Train 56135_08 : 1305.0\n",
      "Tâche 2 - Train 412023_09 : 1590.0\n",
      "Tâche 2 - Train 41264_09 : 2820.0\n",
      "Tâche 2 - Train 431802_09 : 1635.0\n",
      "Tâche 2 - Train 44222_09 : 2550.0\n",
      "Tâche 2 - Train 44250_09 : 2085.0\n",
      "Tâche 2 - Train 44865_09 : 2445.0\n",
      "Tâche 2 - Train 450237_09 : 2175.0\n",
      "Tâche 2 - Train 471003_09 : 2220.0\n",
      "Tâche 2 - Train 47262_09 : 2010.0\n",
      "Tâche 2 - Train 489026_09 : 2040.0\n",
      "Tâche 2 - Train 54234_09 : 2790.0\n",
      "Tâche 2 - Train 55390_09 : 2895.0\n",
      "Tâche 2 - Train 55398_09 : 1695.0\n",
      "Tâche 2 - Train 56135_09 : 3585.0\n",
      "Tâche 2 - Train 56730_09 : 1620.0\n",
      "Tâche 2 - Train 58706_09 : 2730.0\n",
      "Tâche 2 - Train 412023_10 : 3030.0\n",
      "Tâche 2 - Train 412202_10 : 4275.0\n",
      "Tâche 2 - Train 41264_10 : 4260.0\n",
      "Tâche 2 - Train 431020_10 : 4290.0\n",
      "Tâche 2 - Train 431110_10 : 3645.0\n",
      "Tâche 2 - Train 431246_10 : 3570.0\n",
      "Tâche 2 - Train 431802_10 : 3135.0\n",
      "Tâche 2 - Train 44222_10 : 3855.0\n",
      "Tâche 2 - Train 44228_10 : 2970.0\n",
      "Tâche 2 - Train 44250_10 : 3525.0\n",
      "Tâche 2 - Train 450237_10 : 3615.0\n",
      "Tâche 2 - Train 471003_10 : 3660.0\n",
      "Tâche 2 - Train 47214_10 : 3675.0\n",
      "Tâche 2 - Train 47262_10 : 3450.0\n",
      "Tâche 2 - Train 54234_10 : 4230.0\n",
      "Tâche 2 - Train 55390_10 : 4335.0\n",
      "Tâche 2 - Train 55396_10 : 3360.0\n",
      "Tâche 2 - Train 56135_10 : 4185.0\n",
      "Tâche 2 - Train 56730_10 : 3060.0\n",
      "Tâche 2 - Train 58706_10 : 4170.0\n",
      "Tâche 2 - Train 71270_10 : 4950.0\n",
      "Tâche 2 - Train 412023_11 : 4470.0\n",
      "Tâche 2 - Train 412202_11 : 5595.0\n",
      "Tâche 2 - Train 41254_11 : 5745.0\n",
      "Tâche 2 - Train 431246_11 : 5025.0\n",
      "Tâche 2 - Train 431640_11 : 5010.0\n",
      "Tâche 2 - Train 431802_11 : 4515.0\n",
      "Tâche 2 - Train 44222_11 : 5295.0\n",
      "Tâche 2 - Train 44250_11 : 4965.0\n",
      "Tâche 2 - Train 44865_11 : 5325.0\n",
      "Tâche 2 - Train 450237_11 : 5055.0\n",
      "Tâche 2 - Train 471003_11 : 5100.0\n",
      "Tâche 2 - Train 47212_11 : 5400.0\n",
      "Tâche 2 - Train 47240_11 : 4935.0\n",
      "Tâche 2 - Train 47262_11 : 4890.0\n",
      "Tâche 2 - Train 47822_11 : 5520.0\n",
      "Tâche 2 - Train 54234_11 : 5670.0\n",
      "Tâche 2 - Train 55390_11 : 5775.0\n",
      "Tâche 2 - Train 55394_11 : 5040.0\n",
      "Tâche 2 - Train 55396_11 : 4560.0\n",
      "Tâche 2 - Train 56135_11 : 5625.0\n",
      "Tâche 2 - Train 56730_11 : 4500.0\n",
      "Tâche 2 - Train 58706_11 : 5610.0\n",
      "Tâche 2 - Train 412023_12 : 5910.0\n",
      "Tâche 2 - Train 412202_12 : 7095.0\n",
      "Tâche 2 - Train 41264_12 : 7140.0\n",
      "Tâche 2 - Train 431246_12 : 6450.0\n",
      "Tâche 2 - Train 431802_12 : 6090.0\n",
      "Tâche 2 - Train 44222_12 : 6735.0\n",
      "Tâche 2 - Train 44228_12 : 5850.0\n",
      "Tâche 2 - Train 44250_12 : 6405.0\n",
      "Tâche 2 - Train 44865_12 : 6765.0\n",
      "Tâche 2 - Train 44951_12 : 6915.0\n",
      "Tâche 2 - Train 450237_12 : 6495.0\n",
      "Tâche 2 - Train 471003_12 : 6540.0\n",
      "Tâche 2 - Train 47214_12 : 6840.0\n",
      "Tâche 2 - Train 47262_12 : 6330.0\n",
      "Tâche 2 - Train 47822_12 : 6960.0\n",
      "Tâche 2 - Train 48216_12 : 6240.0\n",
      "Tâche 2 - Train 489026_12 : 6480.0\n",
      "Tâche 2 - Train 489042_12 : 7080.0\n",
      "Tâche 2 - Train 54234_12 : 7110.0\n",
      "Tâche 2 - Train 55396_12 : 6255.0\n",
      "Tâche 2 - Train 56135_12 : 8610.0\n",
      "Tâche 2 - Train 56730_12 : 5940.0\n",
      "Tâche 2 - Train 58706_12 : 7050.0\n",
      "Tâche 2 - Train 71270_12 : 7305.0\n",
      "Tâche 2 - Train 412023_13 : 7350.0\n",
      "Tâche 2 - Train 41230_13 : 8550.0\n",
      "Tâche 2 - Train 431802_13 : 7530.0\n",
      "Tâche 2 - Train 44222_13 : 8445.0\n",
      "Tâche 2 - Train 44228_13 : 8595.0\n",
      "Tâche 2 - Train 44250_13 : 8565.0\n",
      "Tâche 2 - Train 44864_13 : 8430.0\n",
      "Tâche 2 - Train 450235_13 : 8415.0\n",
      "Tâche 2 - Train 47240_13 : 7335.0\n",
      "Tâche 2 - Train 47262_13 : 8580.0\n",
      "Tâche 2 - Train 47822_13 : 8460.0\n",
      "Tâche 2 - Train 489026_13 : 7920.0\n",
      "Tâche 2 - Train 54234_13 : 8625.0\n",
      "Tâche 2 - Train 55390_13 : 9165.0\n",
      "Tâche 2 - Train 55396_13 : 7680.0\n",
      "Tâche 2 - Train 56135_13 : 8535.0\n",
      "Tâche 2 - Train 56730_13 : 7380.0\n",
      "Tâche 2 - Train 58706_13 : 8490.0\n",
      "Tâche 2 - Train 56730_14 : 8820.0\n",
      "Tâche 3 - Train 412202_08 : 1320.0\n",
      "Tâche 3 - Train 431018_08 : 870.0\n",
      "Tâche 3 - Train 431246_08 : 795.0\n",
      "Tâche 3 - Train 44951_08 : 1200.0\n",
      "Tâche 3 - Train 450237_08 : 780.0\n",
      "Tâche 3 - Train 489016_08 : 1485.0\n",
      "Tâche 3 - Train 54234_08 : 1395.0\n",
      "Tâche 3 - Train 55390_08 : 1500.0\n",
      "Tâche 3 - Train 56135_08 : 1350.0\n",
      "Tâche 3 - Train 412023_09 : 1635.0\n",
      "Tâche 3 - Train 41264_09 : 2865.0\n",
      "Tâche 3 - Train 431802_09 : 1680.0\n",
      "Tâche 3 - Train 44222_09 : 2595.0\n",
      "Tâche 3 - Train 44250_09 : 2130.0\n",
      "Tâche 3 - Train 44865_09 : 2490.0\n",
      "Tâche 3 - Train 450237_09 : 2220.0\n",
      "Tâche 3 - Train 471003_09 : 2265.0\n",
      "Tâche 3 - Train 47262_09 : 2055.0\n",
      "Tâche 3 - Train 489026_09 : 2085.0\n",
      "Tâche 3 - Train 54234_09 : 2835.0\n",
      "Tâche 3 - Train 55390_09 : 2940.0\n",
      "Tâche 3 - Train 55398_09 : 1740.0\n",
      "Tâche 3 - Train 56135_09 : 3630.0\n",
      "Tâche 3 - Train 56730_09 : 1665.0\n",
      "Tâche 3 - Train 58706_09 : 2775.0\n",
      "Tâche 3 - Train 412023_10 : 3075.0\n",
      "Tâche 3 - Train 412202_10 : 4320.0\n",
      "Tâche 3 - Train 41264_10 : 4305.0\n",
      "Tâche 3 - Train 431020_10 : 4335.0\n",
      "Tâche 3 - Train 431110_10 : 3690.0\n",
      "Tâche 3 - Train 431246_10 : 3615.0\n",
      "Tâche 3 - Train 431802_10 : 3180.0\n",
      "Tâche 3 - Train 44222_10 : 3900.0\n",
      "Tâche 3 - Train 44228_10 : 3015.0\n",
      "Tâche 3 - Train 44250_10 : 3570.0\n",
      "Tâche 3 - Train 450237_10 : 3660.0\n",
      "Tâche 3 - Train 471003_10 : 3705.0\n",
      "Tâche 3 - Train 47214_10 : 3720.0\n",
      "Tâche 3 - Train 47262_10 : 3495.0\n",
      "Tâche 3 - Train 54234_10 : 4275.0\n",
      "Tâche 3 - Train 55390_10 : 4380.0\n",
      "Tâche 3 - Train 55396_10 : 3405.0\n",
      "Tâche 3 - Train 56135_10 : 4230.0\n",
      "Tâche 3 - Train 56730_10 : 3105.0\n",
      "Tâche 3 - Train 58706_10 : 4215.0\n",
      "Tâche 3 - Train 71270_10 : 4995.0\n",
      "Tâche 3 - Train 412023_11 : 4515.0\n",
      "Tâche 3 - Train 412202_11 : 5640.0\n",
      "Tâche 3 - Train 41254_11 : 5790.0\n",
      "Tâche 3 - Train 431246_11 : 5070.0\n",
      "Tâche 3 - Train 431640_11 : 5055.0\n",
      "Tâche 3 - Train 431802_11 : 4560.0\n",
      "Tâche 3 - Train 44222_11 : 5340.0\n",
      "Tâche 3 - Train 44250_11 : 5010.0\n",
      "Tâche 3 - Train 44865_11 : 5370.0\n",
      "Tâche 3 - Train 450237_11 : 5100.0\n",
      "Tâche 3 - Train 471003_11 : 5145.0\n",
      "Tâche 3 - Train 47212_11 : 5445.0\n",
      "Tâche 3 - Train 47240_11 : 4980.0\n",
      "Tâche 3 - Train 47262_11 : 4935.0\n",
      "Tâche 3 - Train 47822_11 : 5565.0\n",
      "Tâche 3 - Train 54234_11 : 5715.0\n",
      "Tâche 3 - Train 55390_11 : 5820.0\n",
      "Tâche 3 - Train 55394_11 : 5085.0\n",
      "Tâche 3 - Train 55396_11 : 4605.0\n",
      "Tâche 3 - Train 56135_11 : 5670.0\n",
      "Tâche 3 - Train 56730_11 : 4545.0\n",
      "Tâche 3 - Train 58706_11 : 5655.0\n",
      "Tâche 3 - Train 412023_12 : 5955.0\n",
      "Tâche 3 - Train 412202_12 : 7140.0\n",
      "Tâche 3 - Train 41264_12 : 7185.0\n",
      "Tâche 3 - Train 431246_12 : 6495.0\n",
      "Tâche 3 - Train 431802_12 : 6135.0\n",
      "Tâche 3 - Train 44222_12 : 6780.0\n",
      "Tâche 3 - Train 44228_12 : 5895.0\n",
      "Tâche 3 - Train 44250_12 : 6450.0\n",
      "Tâche 3 - Train 44865_12 : 6810.0\n",
      "Tâche 3 - Train 44951_12 : 6960.0\n",
      "Tâche 3 - Train 450237_12 : 6540.0\n",
      "Tâche 3 - Train 471003_12 : 6585.0\n",
      "Tâche 3 - Train 47214_12 : 6885.0\n",
      "Tâche 3 - Train 47262_12 : 6375.0\n",
      "Tâche 3 - Train 47822_12 : 7005.0\n",
      "Tâche 3 - Train 48216_12 : 6285.0\n",
      "Tâche 3 - Train 489026_12 : 6525.0\n",
      "Tâche 3 - Train 489042_12 : 7125.0\n",
      "Tâche 3 - Train 54234_12 : 7155.0\n",
      "Tâche 3 - Train 55396_12 : 6300.0\n",
      "Tâche 3 - Train 56135_12 : 8655.0\n",
      "Tâche 3 - Train 56730_12 : 5985.0\n",
      "Tâche 3 - Train 58706_12 : 7095.0\n",
      "Tâche 3 - Train 71270_12 : 7350.0\n",
      "Tâche 3 - Train 412023_13 : 7395.0\n",
      "Tâche 3 - Train 41230_13 : 8595.0\n",
      "Tâche 3 - Train 431802_13 : 7575.0\n",
      "Tâche 3 - Train 44222_13 : 8490.0\n",
      "Tâche 3 - Train 44228_13 : 8640.0\n",
      "Tâche 3 - Train 44250_13 : 8610.0\n",
      "Tâche 3 - Train 44864_13 : 8475.0\n",
      "Tâche 3 - Train 450235_13 : 8460.0\n",
      "Tâche 3 - Train 47240_13 : 7380.0\n",
      "Tâche 3 - Train 47262_13 : 8625.0\n",
      "Tâche 3 - Train 47822_13 : 8505.0\n",
      "Tâche 3 - Train 489026_13 : 7965.0\n",
      "Tâche 3 - Train 54234_13 : 8670.0\n",
      "Tâche 3 - Train 55390_13 : 9210.0\n",
      "Tâche 3 - Train 55396_13 : 7725.0\n",
      "Tâche 3 - Train 56135_13 : 8580.0\n",
      "Tâche 3 - Train 56730_13 : 7425.0\n",
      "Tâche 3 - Train 58706_13 : 8535.0\n",
      "Tâche 3 - Train 56730_14 : 8865.0\n",
      "Tâche 1 - Train 400006_09 : 1710.0\n",
      "Tâche 1 - Train 400016_09 : 1755.0\n",
      "Tâche 1 - Train 400110_09 : 2490.0\n",
      "Tâche 1 - Train 431035_09 : 2130.0\n",
      "Tâche 1 - Train 431091_09 : 1590.0\n",
      "Tâche 1 - Train 44203_09 : 1695.0\n",
      "Tâche 1 - Train 44241_09 : 795.0\n",
      "Tâche 1 - Train 44249_09 : 825.0\n",
      "Tâche 1 - Train 44806_09 : 885.0\n",
      "Tâche 1 - Train 47245_09 : 1365.0\n",
      "Tâche 1 - Train 47289_09 : 1500.0\n",
      "Tâche 1 - Train 47821_09 : 2100.0\n",
      "Tâche 1 - Train 489447_09 : 1605.0\n",
      "Tâche 1 - Train 52672_09 : 1665.0\n",
      "Tâche 1 - Train 54003_09 : 1380.0\n",
      "Tâche 1 - Train 54051_09 : 810.0\n",
      "Tâche 1 - Train 54086_09 : 840.0\n",
      "Tâche 1 - Train 54231_09 : 1770.0\n",
      "Tâche 1 - Train 450226_10 : 2865.0\n",
      "Tâche 1 - Train 400014_10 : 3855.0\n",
      "Tâche 1 - Train 412124_10 : 1680.0\n",
      "Tâche 1 - Train 41258_10 : 1650.0\n",
      "Tâche 1 - Train 431035_10 : 3135.0\n",
      "Tâche 1 - Train 431091_10 : 2955.0\n",
      "Tâche 1 - Train 44203_10 : 2880.0\n",
      "Tâche 1 - Train 44241_10 : 2850.0\n",
      "Tâche 1 - Train 44249_10 : 2280.0\n",
      "Tâche 1 - Train 47205_10 : 3420.0\n",
      "Tâche 1 - Train 48215_10 : 3645.0\n",
      "Tâche 1 - Train 489044_10 : 2235.0\n",
      "Tâche 1 - Train 52672_10 : 3090.0\n",
      "Tâche 1 - Train 54003_10 : 2910.0\n",
      "Tâche 1 - Train 54053_10 : 3615.0\n",
      "Tâche 1 - Train 54231_10 : 3105.0\n",
      "Tâche 1 - Train 71210_10 : 2895.0\n",
      "Tâche 1 - Train 400006_11 : 4305.0\n",
      "Tâche 1 - Train 400010_11 : 4290.0\n",
      "Tâche 1 - Train 400016_11 : 4575.0\n",
      "Tâche 1 - Train 431035_11 : 5010.0\n",
      "Tâche 1 - Train 44203_11 : 5190.0\n",
      "Tâche 1 - Train 44241_11 : 4920.0\n",
      "Tâche 1 - Train 44806_11 : 4230.0\n",
      "Tâche 1 - Train 450226_11 : 3120.0\n",
      "Tâche 1 - Train 47245_11 : 4245.0\n",
      "Tâche 1 - Train 47247_11 : 4770.0\n",
      "Tâche 1 - Train 47820_11 : 5460.0\n",
      "Tâche 1 - Train 489118_11 : 4635.0\n",
      "Tâche 1 - Train 52672_11 : 4530.0\n",
      "Tâche 1 - Train 54003_11 : 4350.0\n",
      "Tâche 1 - Train 54051_11 : 4320.0\n",
      "Tâche 1 - Train 54086_11 : 3675.0\n",
      "Tâche 1 - Train 54231_11 : 4620.0\n",
      "Tâche 1 - Train 71256_11 : 4260.0\n",
      "Tâche 1 - Train 400010_12 : 6540.0\n",
      "Tâche 1 - Train 400016_12 : 6585.0\n",
      "Tâche 1 - Train 412024_12 : 4560.0\n",
      "Tâche 1 - Train 41258_12 : 5715.0\n",
      "Tâche 1 - Train 431035_12 : 5670.0\n",
      "Tâche 1 - Train 44241_12 : 5730.0\n",
      "Tâche 1 - Train 44249_12 : 5100.0\n",
      "Tâche 1 - Train 44952_12 : 6000.0\n",
      "Tâche 1 - Train 47205_12 : 6705.0\n",
      "Tâche 1 - Train 48219_12 : 5130.0\n",
      "Tâche 1 - Train 489447_12 : 5835.0\n",
      "Tâche 1 - Train 52672_12 : 6315.0\n",
      "Tâche 1 - Train 54003_12 : 5700.0\n",
      "Tâche 1 - Train 54053_12 : 5910.0\n",
      "Tâche 1 - Train 54086_12 : 5115.0\n",
      "Tâche 1 - Train 54231_12 : 6150.0\n",
      "Tâche 1 - Train 71217_12 : 6570.0\n",
      "Tâche 1 - Train 41258_13 : 6555.0\n",
      "Tâche 1 - Train 431091_13 : 5970.0\n",
      "Tâche 1 - Train 44241_13 : 7110.0\n",
      "Tâche 1 - Train 44806_13 : 7140.0\n",
      "Tâche 1 - Train 450224_13 : 7470.0\n",
      "Tâche 1 - Train 47237_13 : 7215.0\n",
      "Tâche 1 - Train 47281_13 : 7200.0\n",
      "Tâche 1 - Train 489044_13 : 6975.0\n",
      "Tâche 1 - Train 489119_13 : 7020.0\n",
      "Tâche 1 - Train 489447_13 : 7365.0\n",
      "Tâche 1 - Train 54051_13 : 6300.0\n",
      "Tâche 1 - Train 54086_13 : 5805.0\n",
      "Tâche 1 - Train 431037_14 : 8700.0\n",
      "Tâche 1 - Train 44247_14 : 9240.0\n",
      "Tâche 1 - Train 44559_14 : 7740.0\n",
      "Tâche 1 - Train 47820_14 : 9225.0\n",
      "Tâche 1 - Train 489447_14 : 7170.0\n",
      "Tâche 1 - Train 54003_14 : 8670.0\n",
      "Tâche 1 - Train 54053_14 : 8640.0\n",
      "Tâche 1 - Train 54055_14 : 7395.0\n",
      "Tâche 1 - Train 54086_14 : 7410.0\n",
      "Tâche 1 - Train 400014_15 : 8880.0\n",
      "Tâche 1 - Train 431035_15 : 7380.0\n",
      "Tâche 1 - Train 431121_15 : 7440.0\n",
      "Tâche 1 - Train 450226_15 : 8610.0\n",
      "Tâche 1 - Train 489447_15 : 7455.0\n",
      "Tâche 1 - Train 54003_15 : 8895.0\n",
      "Tâche 1 - Train 54051_15 : 7590.0\n",
      "Tâche 1 - Train 54086_15 : 10110.0\n",
      "Tâche 1 - Train 54231_15 : 8685.0\n",
      "Tâche 1 - Train 41258_16 : 8625.0\n",
      "Tâche 1 - Train 431091_16 : 6510.0\n",
      "Tâche 1 - Train 489044_16 : 8460.0\n",
      "Tâche 1 - Train 54051_16 : 5685.0\n",
      "Tâche 1 - Train 412124_17 : 8550.0\n",
      "Tâche 1 - Train 431113_17 : 3705.0\n",
      "Tâche 2 - Train 400006_09 : 1725.0\n",
      "Tâche 2 - Train 400016_09 : 1770.0\n",
      "Tâche 2 - Train 400110_09 : 2505.0\n",
      "Tâche 2 - Train 431035_09 : 2145.0\n",
      "Tâche 2 - Train 431091_09 : 1605.0\n",
      "Tâche 2 - Train 44203_09 : 1710.0\n",
      "Tâche 2 - Train 44241_09 : 810.0\n",
      "Tâche 2 - Train 44249_09 : 840.0\n",
      "Tâche 2 - Train 44806_09 : 900.0\n",
      "Tâche 2 - Train 47245_09 : 1380.0\n",
      "Tâche 2 - Train 47289_09 : 1515.0\n",
      "Tâche 2 - Train 47821_09 : 2115.0\n",
      "Tâche 2 - Train 489447_09 : 1620.0\n",
      "Tâche 2 - Train 52672_09 : 1680.0\n",
      "Tâche 2 - Train 54003_09 : 1395.0\n",
      "Tâche 2 - Train 54051_09 : 825.0\n",
      "Tâche 2 - Train 54086_09 : 855.0\n",
      "Tâche 2 - Train 54231_09 : 1785.0\n",
      "Tâche 2 - Train 450226_10 : 2880.0\n",
      "Tâche 2 - Train 400014_10 : 3870.0\n",
      "Tâche 2 - Train 412124_10 : 1695.0\n",
      "Tâche 2 - Train 41258_10 : 1665.0\n",
      "Tâche 2 - Train 431035_10 : 3150.0\n",
      "Tâche 2 - Train 431091_10 : 2970.0\n",
      "Tâche 2 - Train 44203_10 : 2895.0\n",
      "Tâche 2 - Train 44241_10 : 2865.0\n",
      "Tâche 2 - Train 44249_10 : 2295.0\n",
      "Tâche 2 - Train 47205_10 : 3435.0\n",
      "Tâche 2 - Train 48215_10 : 3660.0\n",
      "Tâche 2 - Train 489044_10 : 2250.0\n",
      "Tâche 2 - Train 52672_10 : 3105.0\n",
      "Tâche 2 - Train 54003_10 : 2925.0\n",
      "Tâche 2 - Train 54053_10 : 3630.0\n",
      "Tâche 2 - Train 54231_10 : 3120.0\n",
      "Tâche 2 - Train 71210_10 : 2910.0\n",
      "Tâche 2 - Train 400006_11 : 4320.0\n",
      "Tâche 2 - Train 400010_11 : 5550.0\n",
      "Tâche 2 - Train 400016_11 : 4590.0\n",
      "Tâche 2 - Train 431035_11 : 5025.0\n",
      "Tâche 2 - Train 44203_11 : 5205.0\n",
      "Tâche 2 - Train 44241_11 : 4935.0\n",
      "Tâche 2 - Train 44806_11 : 4245.0\n",
      "Tâche 2 - Train 450226_11 : 3135.0\n",
      "Tâche 2 - Train 47245_11 : 4260.0\n",
      "Tâche 2 - Train 47247_11 : 4785.0\n",
      "Tâche 2 - Train 47820_11 : 5475.0\n",
      "Tâche 2 - Train 489118_11 : 4650.0\n",
      "Tâche 2 - Train 52672_11 : 4545.0\n",
      "Tâche 2 - Train 54003_11 : 4365.0\n",
      "Tâche 2 - Train 54051_11 : 4335.0\n",
      "Tâche 2 - Train 54086_11 : 3690.0\n",
      "Tâche 2 - Train 54231_11 : 4635.0\n",
      "Tâche 2 - Train 71256_11 : 4275.0\n",
      "Tâche 2 - Train 400010_12 : 6555.0\n",
      "Tâche 2 - Train 400016_12 : 6600.0\n",
      "Tâche 2 - Train 412024_12 : 4575.0\n",
      "Tâche 2 - Train 41258_12 : 5730.0\n",
      "Tâche 2 - Train 431035_12 : 5685.0\n",
      "Tâche 2 - Train 44241_12 : 5745.0\n",
      "Tâche 2 - Train 44249_12 : 5115.0\n",
      "Tâche 2 - Train 44952_12 : 6825.0\n",
      "Tâche 2 - Train 47205_12 : 6720.0\n",
      "Tâche 2 - Train 48219_12 : 5145.0\n",
      "Tâche 2 - Train 489447_12 : 5850.0\n",
      "Tâche 2 - Train 52672_12 : 6330.0\n",
      "Tâche 2 - Train 54003_12 : 5715.0\n",
      "Tâche 2 - Train 54053_12 : 5925.0\n",
      "Tâche 2 - Train 54086_12 : 5130.0\n",
      "Tâche 2 - Train 54231_12 : 6165.0\n",
      "Tâche 2 - Train 71217_12 : 6585.0\n",
      "Tâche 2 - Train 41258_13 : 7170.0\n",
      "Tâche 2 - Train 431091_13 : 5985.0\n",
      "Tâche 2 - Train 44241_13 : 7125.0\n",
      "Tâche 2 - Train 44806_13 : 7155.0\n",
      "Tâche 2 - Train 450224_13 : 7485.0\n",
      "Tâche 2 - Train 47237_13 : 7230.0\n",
      "Tâche 2 - Train 47281_13 : 7815.0\n",
      "Tâche 2 - Train 489044_13 : 6990.0\n",
      "Tâche 2 - Train 489119_13 : 7035.0\n",
      "Tâche 2 - Train 489447_13 : 7380.0\n",
      "Tâche 2 - Train 54051_13 : 7350.0\n",
      "Tâche 2 - Train 54086_13 : 5820.0\n",
      "Tâche 2 - Train 431037_14 : 8715.0\n",
      "Tâche 2 - Train 44247_14 : 9255.0\n",
      "Tâche 2 - Train 44559_14 : 7755.0\n",
      "Tâche 2 - Train 47820_14 : 9240.0\n",
      "Tâche 2 - Train 489447_14 : 7185.0\n",
      "Tâche 2 - Train 54003_14 : 8685.0\n",
      "Tâche 2 - Train 54053_14 : 8655.0\n",
      "Tâche 2 - Train 54055_14 : 7410.0\n",
      "Tâche 2 - Train 54086_14 : 7425.0\n",
      "Tâche 2 - Train 400014_15 : 8895.0\n",
      "Tâche 2 - Train 431035_15 : 10230.0\n",
      "Tâche 2 - Train 431121_15 : 7455.0\n",
      "Tâche 2 - Train 450226_15 : 8625.0\n",
      "Tâche 2 - Train 489447_15 : 10215.0\n",
      "Tâche 2 - Train 54003_15 : 8910.0\n",
      "Tâche 2 - Train 54051_15 : 7605.0\n",
      "Tâche 2 - Train 54086_15 : 10125.0\n",
      "Tâche 2 - Train 54231_15 : 8700.0\n",
      "Tâche 2 - Train 41258_16 : 11490.0\n",
      "Tâche 2 - Train 431091_16 : 6525.0\n",
      "Tâche 2 - Train 489044_16 : 8475.0\n",
      "Tâche 2 - Train 54051_16 : 5700.0\n",
      "Tâche 2 - Train 412124_17 : 8565.0\n",
      "Tâche 2 - Train 431113_17 : 3720.0\n",
      "Tâche 3 - Train 400006_09 : 1875.0\n",
      "Tâche 3 - Train 400016_09 : 1920.0\n",
      "Tâche 3 - Train 400110_09 : 2655.0\n",
      "Tâche 3 - Train 431035_09 : 2295.0\n",
      "Tâche 3 - Train 431091_09 : 1755.0\n",
      "Tâche 3 - Train 44203_09 : 1860.0\n",
      "Tâche 3 - Train 44241_09 : 960.0\n",
      "Tâche 3 - Train 44249_09 : 990.0\n",
      "Tâche 3 - Train 44806_09 : 1050.0\n",
      "Tâche 3 - Train 47245_09 : 1530.0\n",
      "Tâche 3 - Train 47289_09 : 1665.0\n",
      "Tâche 3 - Train 47821_09 : 2265.0\n",
      "Tâche 3 - Train 489447_09 : 1770.0\n",
      "Tâche 3 - Train 52672_09 : 1830.0\n",
      "Tâche 3 - Train 54003_09 : 1545.0\n",
      "Tâche 3 - Train 54051_09 : 975.0\n",
      "Tâche 3 - Train 54086_09 : 1005.0\n",
      "Tâche 3 - Train 54231_09 : 1935.0\n",
      "Tâche 3 - Train 450226_10 : 3030.0\n",
      "Tâche 3 - Train 400014_10 : 4020.0\n",
      "Tâche 3 - Train 412124_10 : 1845.0\n",
      "Tâche 3 - Train 41258_10 : 1815.0\n",
      "Tâche 3 - Train 431035_10 : 3300.0\n",
      "Tâche 3 - Train 431091_10 : 3120.0\n",
      "Tâche 3 - Train 44203_10 : 3045.0\n",
      "Tâche 3 - Train 44241_10 : 3015.0\n",
      "Tâche 3 - Train 44249_10 : 2445.0\n",
      "Tâche 3 - Train 47205_10 : 3585.0\n",
      "Tâche 3 - Train 48215_10 : 3810.0\n",
      "Tâche 3 - Train 489044_10 : 2400.0\n",
      "Tâche 3 - Train 52672_10 : 3255.0\n",
      "Tâche 3 - Train 54003_10 : 3075.0\n",
      "Tâche 3 - Train 54053_10 : 3780.0\n",
      "Tâche 3 - Train 54231_10 : 3270.0\n",
      "Tâche 3 - Train 71210_10 : 3060.0\n",
      "Tâche 3 - Train 400006_11 : 4470.0\n",
      "Tâche 3 - Train 400010_11 : 5700.0\n",
      "Tâche 3 - Train 400016_11 : 4740.0\n",
      "Tâche 3 - Train 431035_11 : 5175.0\n",
      "Tâche 3 - Train 44203_11 : 5355.0\n",
      "Tâche 3 - Train 44241_11 : 5085.0\n",
      "Tâche 3 - Train 44806_11 : 4395.0\n",
      "Tâche 3 - Train 450226_11 : 3285.0\n",
      "Tâche 3 - Train 47245_11 : 4410.0\n",
      "Tâche 3 - Train 47247_11 : 4935.0\n",
      "Tâche 3 - Train 47820_11 : 5625.0\n",
      "Tâche 3 - Train 489118_11 : 4800.0\n",
      "Tâche 3 - Train 52672_11 : 4695.0\n",
      "Tâche 3 - Train 54003_11 : 4515.0\n",
      "Tâche 3 - Train 54051_11 : 4485.0\n",
      "Tâche 3 - Train 54086_11 : 3840.0\n",
      "Tâche 3 - Train 54231_11 : 4785.0\n",
      "Tâche 3 - Train 71256_11 : 4425.0\n",
      "Tâche 3 - Train 400010_12 : 6705.0\n",
      "Tâche 3 - Train 400016_12 : 6750.0\n",
      "Tâche 3 - Train 412024_12 : 4725.0\n",
      "Tâche 3 - Train 41258_12 : 5880.0\n",
      "Tâche 3 - Train 431035_12 : 5835.0\n",
      "Tâche 3 - Train 44241_12 : 5895.0\n",
      "Tâche 3 - Train 44249_12 : 5265.0\n",
      "Tâche 3 - Train 44952_12 : 6975.0\n",
      "Tâche 3 - Train 47205_12 : 6870.0\n",
      "Tâche 3 - Train 48219_12 : 5295.0\n",
      "Tâche 3 - Train 489447_12 : 6000.0\n",
      "Tâche 3 - Train 52672_12 : 6480.0\n",
      "Tâche 3 - Train 54003_12 : 5865.0\n",
      "Tâche 3 - Train 54053_12 : 6075.0\n",
      "Tâche 3 - Train 54086_12 : 5280.0\n",
      "Tâche 3 - Train 54231_12 : 6315.0\n",
      "Tâche 3 - Train 71217_12 : 6735.0\n",
      "Tâche 3 - Train 41258_13 : 7320.0\n",
      "Tâche 3 - Train 431091_13 : 6135.0\n",
      "Tâche 3 - Train 44241_13 : 7275.0\n",
      "Tâche 3 - Train 44806_13 : 7305.0\n",
      "Tâche 3 - Train 450224_13 : 7635.0\n",
      "Tâche 3 - Train 47237_13 : 7380.0\n",
      "Tâche 3 - Train 47281_13 : 7965.0\n",
      "Tâche 3 - Train 489044_13 : 7140.0\n",
      "Tâche 3 - Train 489119_13 : 7185.0\n",
      "Tâche 3 - Train 489447_13 : 7530.0\n",
      "Tâche 3 - Train 54051_13 : 7500.0\n",
      "Tâche 3 - Train 54086_13 : 5970.0\n",
      "Tâche 3 - Train 431037_14 : 8865.0\n",
      "Tâche 3 - Train 44247_14 : 9405.0\n",
      "Tâche 3 - Train 44559_14 : 9330.0\n",
      "Tâche 3 - Train 47820_14 : 9390.0\n",
      "Tâche 3 - Train 489447_14 : 8970.0\n",
      "Tâche 3 - Train 54003_14 : 8835.0\n",
      "Tâche 3 - Train 54053_14 : 8805.0\n",
      "Tâche 3 - Train 54055_14 : 8685.0\n",
      "Tâche 3 - Train 54086_14 : 8820.0\n",
      "Tâche 3 - Train 400014_15 : 11220.0\n",
      "Tâche 3 - Train 431035_15 : 10935.0\n",
      "Tâche 3 - Train 431121_15 : 10350.0\n",
      "Tâche 3 - Train 450226_15 : 10320.0\n",
      "Tâche 3 - Train 489447_15 : 10365.0\n",
      "Tâche 3 - Train 54003_15 : 10260.0\n",
      "Tâche 3 - Train 54051_15 : 10335.0\n",
      "Tâche 3 - Train 54086_15 : 10275.0\n",
      "Tâche 3 - Train 54231_15 : 10890.0\n",
      "Tâche 3 - Train 41258_16 : 11640.0\n",
      "Tâche 3 - Train 431091_16 : 11850.0\n",
      "Tâche 3 - Train 489044_16 : 11610.0\n",
      "Tâche 3 - Train 54051_16 : 11805.0\n",
      "Tâche 3 - Train 412124_17 : 13110.0\n",
      "Tâche 3 - Train 431113_17 : 13575.0\n",
      "Tâche 4 - Train 400006_09 : 1890.0\n",
      "Tâche 4 - Train 400016_09 : 1935.0\n",
      "Tâche 4 - Train 400110_09 : 2670.0\n",
      "Tâche 4 - Train 431035_09 : 2310.0\n",
      "Tâche 4 - Train 431091_09 : 1770.0\n",
      "Tâche 4 - Train 44203_09 : 1875.0\n",
      "Tâche 4 - Train 44241_09 : 1545.0\n",
      "Tâche 4 - Train 44249_09 : 1545.0\n",
      "Tâche 4 - Train 44806_09 : 1545.0\n",
      "Tâche 4 - Train 47245_09 : 1545.0\n",
      "Tâche 4 - Train 47289_09 : 1680.0\n",
      "Tâche 4 - Train 47821_09 : 2760.0\n",
      "Tâche 4 - Train 489447_09 : 1785.0\n",
      "Tâche 4 - Train 52672_09 : 1860.0\n",
      "Tâche 4 - Train 54003_09 : 1560.0\n",
      "Tâche 4 - Train 54051_09 : 1545.0\n",
      "Tâche 4 - Train 54086_09 : 1545.0\n",
      "Tâche 4 - Train 54231_09 : 1950.0\n",
      "Tâche 4 - Train 450226_10 : 3045.0\n",
      "Tâche 4 - Train 400014_10 : 4035.0\n",
      "Tâche 4 - Train 412124_10 : 1860.0\n",
      "Tâche 4 - Train 41258_10 : 1860.0\n",
      "Tâche 4 - Train 431035_10 : 3315.0\n",
      "Tâche 4 - Train 431091_10 : 3225.0\n",
      "Tâche 4 - Train 44203_10 : 3270.0\n",
      "Tâche 4 - Train 44241_10 : 3030.0\n",
      "Tâche 4 - Train 44249_10 : 2955.0\n",
      "Tâche 4 - Train 47205_10 : 3705.0\n",
      "Tâche 4 - Train 48215_10 : 3825.0\n",
      "Tâche 4 - Train 489044_10 : 2955.0\n",
      "Tâche 4 - Train 52672_10 : 3270.0\n",
      "Tâche 4 - Train 54003_10 : 3090.0\n",
      "Tâche 4 - Train 54053_10 : 3795.0\n",
      "Tâche 4 - Train 54231_10 : 3285.0\n",
      "Tâche 4 - Train 71210_10 : 3150.0\n",
      "Tâche 4 - Train 400006_11 : 5235.0\n",
      "Tâche 4 - Train 400010_11 : 5715.0\n",
      "Tâche 4 - Train 400016_11 : 5655.0\n",
      "Tâche 4 - Train 431035_11 : 5190.0\n",
      "Tâche 4 - Train 44203_11 : 5370.0\n",
      "Tâche 4 - Train 44241_11 : 5100.0\n",
      "Tâche 4 - Train 44806_11 : 4410.0\n",
      "Tâche 4 - Train 450226_11 : 3300.0\n",
      "Tâche 4 - Train 47245_11 : 5175.0\n",
      "Tâche 4 - Train 47247_11 : 4950.0\n",
      "Tâche 4 - Train 47820_11 : 5640.0\n",
      "Tâche 4 - Train 489118_11 : 5205.0\n",
      "Tâche 4 - Train 52672_11 : 5265.0\n",
      "Tâche 4 - Train 54003_11 : 4530.0\n",
      "Tâche 4 - Train 54051_11 : 4500.0\n",
      "Tâche 4 - Train 54086_11 : 4260.0\n",
      "Tâche 4 - Train 54231_11 : 5145.0\n",
      "Tâche 4 - Train 71256_11 : 4440.0\n",
      "Tâche 4 - Train 400010_12 : 7155.0\n",
      "Tâche 4 - Train 400016_12 : 7095.0\n",
      "Tâche 4 - Train 412024_12 : 6000.0\n",
      "Tâche 4 - Train 41258_12 : 5895.0\n",
      "Tâche 4 - Train 431035_12 : 5850.0\n",
      "Tâche 4 - Train 44241_12 : 6150.0\n",
      "Tâche 4 - Train 44249_12 : 5280.0\n",
      "Tâche 4 - Train 44952_12 : 6990.0\n",
      "Tâche 4 - Train 47205_12 : 6885.0\n",
      "Tâche 4 - Train 48219_12 : 5310.0\n",
      "Tâche 4 - Train 489447_12 : 6105.0\n",
      "Tâche 4 - Train 52672_12 : 6495.0\n",
      "Tâche 4 - Train 54003_12 : 5880.0\n",
      "Tâche 4 - Train 54053_12 : 6150.0\n",
      "Tâche 4 - Train 54086_12 : 5295.0\n",
      "Tâche 4 - Train 54231_12 : 6405.0\n",
      "Tâche 4 - Train 71217_12 : 7140.0\n",
      "Tâche 4 - Train 41258_13 : 7335.0\n",
      "Tâche 4 - Train 431091_13 : 7545.0\n",
      "Tâche 4 - Train 44241_13 : 7980.0\n",
      "Tâche 4 - Train 44806_13 : 7320.0\n",
      "Tâche 4 - Train 450224_13 : 7650.0\n",
      "Tâche 4 - Train 47237_13 : 7830.0\n",
      "Tâche 4 - Train 47281_13 : 8145.0\n",
      "Tâche 4 - Train 489044_13 : 7155.0\n",
      "Tâche 4 - Train 489119_13 : 8070.0\n",
      "Tâche 4 - Train 489447_13 : 7545.0\n",
      "Tâche 4 - Train 54051_13 : 7515.0\n",
      "Tâche 4 - Train 54086_13 : 7410.0\n",
      "Tâche 4 - Train 431037_14 : 9675.0\n",
      "Tâche 4 - Train 44247_14 : 9495.0\n",
      "Tâche 4 - Train 44559_14 : 9345.0\n",
      "Tâche 4 - Train 47820_14 : 9510.0\n",
      "Tâche 4 - Train 489447_14 : 8985.0\n",
      "Tâche 4 - Train 54003_14 : 8850.0\n",
      "Tâche 4 - Train 54053_14 : 9555.0\n",
      "Tâche 4 - Train 54055_14 : 8700.0\n",
      "Tâche 4 - Train 54086_14 : 8850.0\n",
      "Tâche 4 - Train 400014_15 : 11235.0\n",
      "Tâche 4 - Train 431035_15 : 10950.0\n",
      "Tâche 4 - Train 431121_15 : 10395.0\n",
      "Tâche 4 - Train 450226_15 : 10500.0\n",
      "Tâche 4 - Train 489447_15 : 10425.0\n",
      "Tâche 4 - Train 54003_15 : 10290.0\n",
      "Tâche 4 - Train 54051_15 : 10380.0\n",
      "Tâche 4 - Train 54086_15 : 10290.0\n",
      "Tâche 4 - Train 54231_15 : 10905.0\n",
      "Tâche 4 - Train 41258_16 : 11655.0\n",
      "Tâche 4 - Train 431091_16 : 11865.0\n",
      "Tâche 4 - Train 489044_16 : 11625.0\n",
      "Tâche 4 - Train 54051_16 : 11820.0\n",
      "Tâche 4 - Train 412124_17 : 13125.0\n",
      "Tâche 4 - Train 431113_17 : 13590.0\n"
     ]
    }
   ],
   "source": [
    "model.optimize()\n",
    "\n",
    "if model.status == GRB.INFEASIBLE:\n",
    "    print(\"Le modèle n'a pas de solution\")\n",
    "elif model.status == GRB.UNBOUNDED:\n",
    "    print(\"Le modèle est non borné\")\n",
    "else:\n",
    "    print(\"Ca marche !\")\n",
    "    for (m, n), var in t_arr.items():\n",
    "        print(f\"Tâche {m} - Train {n} : {15*var.x}\")\n",
    "    for (m, n), var in t_dep.items():\n",
    "        print(f\"Tâche {m} - Train {n} : {15*var.x}\")"
   ]
  },
  {
   "cell_type": "code",
   "execution_count": null,
   "metadata": {},
   "outputs": [
    {
     "data": {
      "application/vnd.plotly.v1+json": {
       "config": {
        "plotlyServerURL": "https://plot.ly"
       },
       "data": [
        {
         "base": [
          "2022-08-08T21:00:00.000000000",
          "2022-08-08T21:15:00.000000000",
          "2022-08-08T22:00:00.000000000"
         ],
         "hovertemplate": "Train=412202_08<br>Start=%{base}<br>Finish=%{x}<br>Tâches=%{y}<extra></extra>",
         "legendgroup": "412202_08",
         "marker": {
          "color": "#636efa",
          "pattern": {
           "shape": ""
          }
         },
         "name": "412202_08",
         "orientation": "h",
         "showlegend": true,
         "textposition": "auto",
         "type": "bar",
         "x": {
          "bdata": "oLsNAOAyKQCguw0A",
          "dtype": "i4"
         },
         "xaxis": "x",
         "y": [
          "arr_1",
          "arr_2",
          "arr_3"
         ],
         "yaxis": "y"
        },
        {
         "base": [
          "2022-08-08T13:30:00.000000000",
          "2022-08-08T13:45:00.000000000",
          "2022-08-08T14:30:00.000000000"
         ],
         "hovertemplate": "Train=431018_08<br>Start=%{base}<br>Finish=%{x}<br>Tâches=%{y}<extra></extra>",
         "legendgroup": "431018_08",
         "marker": {
          "color": "#EF553B",
          "pattern": {
           "shape": ""
          }
         },
         "name": "431018_08",
         "orientation": "h",
         "showlegend": true,
         "textposition": "auto",
         "type": "bar",
         "x": {
          "bdata": "oLsNAOAyKQCguw0A",
          "dtype": "i4"
         },
         "xaxis": "x",
         "y": [
          "arr_1",
          "arr_2",
          "arr_3"
         ],
         "yaxis": "y"
        },
        {
         "base": [
          "2022-08-08T11:15:00.000000000",
          "2022-08-08T12:30:00.000000000",
          "2022-08-08T13:15:00.000000000"
         ],
         "hovertemplate": "Train=431246_08<br>Start=%{base}<br>Finish=%{x}<br>Tâches=%{y}<extra></extra>",
         "legendgroup": "431246_08",
         "marker": {
          "color": "#00cc96",
          "pattern": {
           "shape": ""
          }
         },
         "name": "431246_08",
         "orientation": "h",
         "showlegend": true,
         "textposition": "auto",
         "type": "bar",
         "x": {
          "bdata": "oLsNAOAyKQCguw0A",
          "dtype": "i4"
         },
         "xaxis": "x",
         "y": [
          "arr_1",
          "arr_2",
          "arr_3"
         ],
         "yaxis": "y"
        },
        {
         "base": [
          "2022-08-08T19:00:00.000000000",
          "2022-08-08T19:15:00.000000000",
          "2022-08-08T20:00:00.000000000"
         ],
         "hovertemplate": "Train=44951_08<br>Start=%{base}<br>Finish=%{x}<br>Tâches=%{y}<extra></extra>",
         "legendgroup": "44951_08",
         "marker": {
          "color": "#ab63fa",
          "pattern": {
           "shape": ""
          }
         },
         "name": "44951_08",
         "orientation": "h",
         "showlegend": true,
         "textposition": "auto",
         "type": "bar",
         "x": {
          "bdata": "oLsNAOAyKQCguw0A",
          "dtype": "i4"
         },
         "xaxis": "x",
         "y": [
          "arr_1",
          "arr_2",
          "arr_3"
         ],
         "yaxis": "y"
        },
        {
         "base": [
          "2022-08-08T12:00:00.000000000",
          "2022-08-08T12:15:00.000000000",
          "2022-08-08T13:00:00.000000000"
         ],
         "hovertemplate": "Train=450237_08<br>Start=%{base}<br>Finish=%{x}<br>Tâches=%{y}<extra></extra>",
         "legendgroup": "450237_08",
         "marker": {
          "color": "#FFA15A",
          "pattern": {
           "shape": ""
          }
         },
         "name": "450237_08",
         "orientation": "h",
         "showlegend": true,
         "textposition": "auto",
         "type": "bar",
         "x": {
          "bdata": "oLsNAOAyKQCguw0A",
          "dtype": "i4"
         },
         "xaxis": "x",
         "y": [
          "arr_1",
          "arr_2",
          "arr_3"
         ],
         "yaxis": "y"
        },
        {
         "base": [
          "2022-08-08T23:45:00.000000000",
          "2022-08-09T00:00:00.000000000",
          "2022-08-09T00:45:00.000000000"
         ],
         "hovertemplate": "Train=489016_08<br>Start=%{base}<br>Finish=%{x}<br>Tâches=%{y}<extra></extra>",
         "legendgroup": "489016_08",
         "marker": {
          "color": "#19d3f3",
          "pattern": {
           "shape": ""
          }
         },
         "name": "489016_08",
         "orientation": "h",
         "showlegend": true,
         "textposition": "auto",
         "type": "bar",
         "x": {
          "bdata": "oLsNAOAyKQCguw0A",
          "dtype": "i4"
         },
         "xaxis": "x",
         "y": [
          "arr_1",
          "arr_2",
          "arr_3"
         ],
         "yaxis": "y"
        },
        {
         "base": [
          "2022-08-08T22:15:00.000000000",
          "2022-08-08T22:30:00.000000000",
          "2022-08-08T23:15:00.000000000"
         ],
         "hovertemplate": "Train=54234_08<br>Start=%{base}<br>Finish=%{x}<br>Tâches=%{y}<extra></extra>",
         "legendgroup": "54234_08",
         "marker": {
          "color": "#FF6692",
          "pattern": {
           "shape": ""
          }
         },
         "name": "54234_08",
         "orientation": "h",
         "showlegend": true,
         "textposition": "auto",
         "type": "bar",
         "x": {
          "bdata": "oLsNAOAyKQCguw0A",
          "dtype": "i4"
         },
         "xaxis": "x",
         "y": [
          "arr_1",
          "arr_2",
          "arr_3"
         ],
         "yaxis": "y"
        },
        {
         "base": [
          "2022-08-09T00:00:00.000000000",
          "2022-08-09T00:15:00.000000000",
          "2022-08-09T01:00:00.000000000"
         ],
         "hovertemplate": "Train=55390_08<br>Start=%{base}<br>Finish=%{x}<br>Tâches=%{y}<extra></extra>",
         "legendgroup": "55390_08",
         "marker": {
          "color": "#B6E880",
          "pattern": {
           "shape": ""
          }
         },
         "name": "55390_08",
         "orientation": "h",
         "showlegend": true,
         "textposition": "auto",
         "type": "bar",
         "x": {
          "bdata": "oLsNAOAyKQCguw0A",
          "dtype": "i4"
         },
         "xaxis": "x",
         "y": [
          "arr_1",
          "arr_2",
          "arr_3"
         ],
         "yaxis": "y"
        },
        {
         "base": [
          "2022-08-08T21:30:00.000000000",
          "2022-08-08T21:45:00.000000000",
          "2022-08-08T22:30:00.000000000"
         ],
         "hovertemplate": "Train=56135_08<br>Start=%{base}<br>Finish=%{x}<br>Tâches=%{y}<extra></extra>",
         "legendgroup": "56135_08",
         "marker": {
          "color": "#FF97FF",
          "pattern": {
           "shape": ""
          }
         },
         "name": "56135_08",
         "orientation": "h",
         "showlegend": true,
         "textposition": "auto",
         "type": "bar",
         "x": {
          "bdata": "oLsNAOAyKQCguw0A",
          "dtype": "i4"
         },
         "xaxis": "x",
         "y": [
          "arr_1",
          "arr_2",
          "arr_3"
         ],
         "yaxis": "y"
        },
        {
         "base": [
          "2022-08-09T02:15:00.000000000",
          "2022-08-09T02:30:00.000000000",
          "2022-08-09T03:15:00.000000000"
         ],
         "hovertemplate": "Train=412023_09<br>Start=%{base}<br>Finish=%{x}<br>Tâches=%{y}<extra></extra>",
         "legendgroup": "412023_09",
         "marker": {
          "color": "#FECB52",
          "pattern": {
           "shape": ""
          }
         },
         "name": "412023_09",
         "orientation": "h",
         "showlegend": true,
         "textposition": "auto",
         "type": "bar",
         "x": {
          "bdata": "oLsNAOAyKQCguw0A",
          "dtype": "i4"
         },
         "xaxis": "x",
         "y": [
          "arr_1",
          "arr_2",
          "arr_3"
         ],
         "yaxis": "y"
        },
        {
         "base": [
          "2022-08-09T22:45:00.000000000",
          "2022-08-09T23:00:00.000000000",
          "2022-08-09T23:45:00.000000000"
         ],
         "hovertemplate": "Train=41264_09<br>Start=%{base}<br>Finish=%{x}<br>Tâches=%{y}<extra></extra>",
         "legendgroup": "41264_09",
         "marker": {
          "color": "#636efa",
          "pattern": {
           "shape": ""
          }
         },
         "name": "41264_09",
         "orientation": "h",
         "showlegend": true,
         "textposition": "auto",
         "type": "bar",
         "x": {
          "bdata": "oLsNAOAyKQCguw0A",
          "dtype": "i4"
         },
         "xaxis": "x",
         "y": [
          "arr_1",
          "arr_2",
          "arr_3"
         ],
         "yaxis": "y"
        },
        {
         "base": [
          "2022-08-09T03:00:00.000000000",
          "2022-08-09T03:15:00.000000000",
          "2022-08-09T04:00:00.000000000"
         ],
         "hovertemplate": "Train=431802_09<br>Start=%{base}<br>Finish=%{x}<br>Tâches=%{y}<extra></extra>",
         "legendgroup": "431802_09",
         "marker": {
          "color": "#EF553B",
          "pattern": {
           "shape": ""
          }
         },
         "name": "431802_09",
         "orientation": "h",
         "showlegend": true,
         "textposition": "auto",
         "type": "bar",
         "x": {
          "bdata": "oLsNAOAyKQCguw0A",
          "dtype": "i4"
         },
         "xaxis": "x",
         "y": [
          "arr_1",
          "arr_2",
          "arr_3"
         ],
         "yaxis": "y"
        },
        {
         "base": [
          "2022-08-09T18:15:00.000000000",
          "2022-08-09T18:30:00.000000000",
          "2022-08-09T19:15:00.000000000"
         ],
         "hovertemplate": "Train=44222_09<br>Start=%{base}<br>Finish=%{x}<br>Tâches=%{y}<extra></extra>",
         "legendgroup": "44222_09",
         "marker": {
          "color": "#00cc96",
          "pattern": {
           "shape": ""
          }
         },
         "name": "44222_09",
         "orientation": "h",
         "showlegend": true,
         "textposition": "auto",
         "type": "bar",
         "x": {
          "bdata": "oLsNAOAyKQCguw0A",
          "dtype": "i4"
         },
         "xaxis": "x",
         "y": [
          "arr_1",
          "arr_2",
          "arr_3"
         ],
         "yaxis": "y"
        },
        {
         "base": [
          "2022-08-09T10:30:00.000000000",
          "2022-08-09T10:45:00.000000000",
          "2022-08-09T11:30:00.000000000"
         ],
         "hovertemplate": "Train=44250_09<br>Start=%{base}<br>Finish=%{x}<br>Tâches=%{y}<extra></extra>",
         "legendgroup": "44250_09",
         "marker": {
          "color": "#ab63fa",
          "pattern": {
           "shape": ""
          }
         },
         "name": "44250_09",
         "orientation": "h",
         "showlegend": true,
         "textposition": "auto",
         "type": "bar",
         "x": {
          "bdata": "oLsNAOAyKQCguw0A",
          "dtype": "i4"
         },
         "xaxis": "x",
         "y": [
          "arr_1",
          "arr_2",
          "arr_3"
         ],
         "yaxis": "y"
        },
        {
         "base": [
          "2022-08-09T16:30:00.000000000",
          "2022-08-09T16:45:00.000000000",
          "2022-08-09T17:30:00.000000000"
         ],
         "hovertemplate": "Train=44865_09<br>Start=%{base}<br>Finish=%{x}<br>Tâches=%{y}<extra></extra>",
         "legendgroup": "44865_09",
         "marker": {
          "color": "#FFA15A",
          "pattern": {
           "shape": ""
          }
         },
         "name": "44865_09",
         "orientation": "h",
         "showlegend": true,
         "textposition": "auto",
         "type": "bar",
         "x": {
          "bdata": "oLsNAOAyKQCguw0A",
          "dtype": "i4"
         },
         "xaxis": "x",
         "y": [
          "arr_1",
          "arr_2",
          "arr_3"
         ],
         "yaxis": "y"
        },
        {
         "base": [
          "2022-08-09T12:00:00.000000000",
          "2022-08-09T12:15:00.000000000",
          "2022-08-09T13:00:00.000000000"
         ],
         "hovertemplate": "Train=450237_09<br>Start=%{base}<br>Finish=%{x}<br>Tâches=%{y}<extra></extra>",
         "legendgroup": "450237_09",
         "marker": {
          "color": "#19d3f3",
          "pattern": {
           "shape": ""
          }
         },
         "name": "450237_09",
         "orientation": "h",
         "showlegend": true,
         "textposition": "auto",
         "type": "bar",
         "x": {
          "bdata": "oLsNAOAyKQCguw0A",
          "dtype": "i4"
         },
         "xaxis": "x",
         "y": [
          "arr_1",
          "arr_2",
          "arr_3"
         ],
         "yaxis": "y"
        },
        {
         "base": [
          "2022-08-09T12:45:00.000000000",
          "2022-08-09T13:00:00.000000000",
          "2022-08-09T13:45:00.000000000"
         ],
         "hovertemplate": "Train=471003_09<br>Start=%{base}<br>Finish=%{x}<br>Tâches=%{y}<extra></extra>",
         "legendgroup": "471003_09",
         "marker": {
          "color": "#FF6692",
          "pattern": {
           "shape": ""
          }
         },
         "name": "471003_09",
         "orientation": "h",
         "showlegend": true,
         "textposition": "auto",
         "type": "bar",
         "x": {
          "bdata": "oLsNAOAyKQCguw0A",
          "dtype": "i4"
         },
         "xaxis": "x",
         "y": [
          "arr_1",
          "arr_2",
          "arr_3"
         ],
         "yaxis": "y"
        },
        {
         "base": [
          "2022-08-09T09:15:00.000000000",
          "2022-08-09T09:30:00.000000000",
          "2022-08-09T10:15:00.000000000"
         ],
         "hovertemplate": "Train=47262_09<br>Start=%{base}<br>Finish=%{x}<br>Tâches=%{y}<extra></extra>",
         "legendgroup": "47262_09",
         "marker": {
          "color": "#B6E880",
          "pattern": {
           "shape": ""
          }
         },
         "name": "47262_09",
         "orientation": "h",
         "showlegend": true,
         "textposition": "auto",
         "type": "bar",
         "x": {
          "bdata": "oLsNAOAyKQCguw0A",
          "dtype": "i4"
         },
         "xaxis": "x",
         "y": [
          "arr_1",
          "arr_2",
          "arr_3"
         ],
         "yaxis": "y"
        },
        {
         "base": [
          "2022-08-09T09:45:00.000000000",
          "2022-08-09T10:00:00.000000000",
          "2022-08-09T10:45:00.000000000"
         ],
         "hovertemplate": "Train=489026_09<br>Start=%{base}<br>Finish=%{x}<br>Tâches=%{y}<extra></extra>",
         "legendgroup": "489026_09",
         "marker": {
          "color": "#FF97FF",
          "pattern": {
           "shape": ""
          }
         },
         "name": "489026_09",
         "orientation": "h",
         "showlegend": true,
         "textposition": "auto",
         "type": "bar",
         "x": {
          "bdata": "oLsNAOAyKQCguw0A",
          "dtype": "i4"
         },
         "xaxis": "x",
         "y": [
          "arr_1",
          "arr_2",
          "arr_3"
         ],
         "yaxis": "y"
        },
        {
         "base": [
          "2022-08-09T22:15:00.000000000",
          "2022-08-09T22:30:00.000000000",
          "2022-08-09T23:15:00.000000000"
         ],
         "hovertemplate": "Train=54234_09<br>Start=%{base}<br>Finish=%{x}<br>Tâches=%{y}<extra></extra>",
         "legendgroup": "54234_09",
         "marker": {
          "color": "#FECB52",
          "pattern": {
           "shape": ""
          }
         },
         "name": "54234_09",
         "orientation": "h",
         "showlegend": true,
         "textposition": "auto",
         "type": "bar",
         "x": {
          "bdata": "oLsNAOAyKQCguw0A",
          "dtype": "i4"
         },
         "xaxis": "x",
         "y": [
          "arr_1",
          "arr_2",
          "arr_3"
         ],
         "yaxis": "y"
        },
        {
         "base": [
          "2022-08-10T00:00:00.000000000",
          "2022-08-10T00:15:00.000000000",
          "2022-08-10T01:00:00.000000000"
         ],
         "hovertemplate": "Train=55390_09<br>Start=%{base}<br>Finish=%{x}<br>Tâches=%{y}<extra></extra>",
         "legendgroup": "55390_09",
         "marker": {
          "color": "#636efa",
          "pattern": {
           "shape": ""
          }
         },
         "name": "55390_09",
         "orientation": "h",
         "showlegend": true,
         "textposition": "auto",
         "type": "bar",
         "x": {
          "bdata": "oLsNAOAyKQCguw0A",
          "dtype": "i4"
         },
         "xaxis": "x",
         "y": [
          "arr_1",
          "arr_2",
          "arr_3"
         ],
         "yaxis": "y"
        },
        {
         "base": [
          "2022-08-09T04:00:00.000000000",
          "2022-08-09T04:15:00.000000000",
          "2022-08-09T05:00:00.000000000"
         ],
         "hovertemplate": "Train=55398_09<br>Start=%{base}<br>Finish=%{x}<br>Tâches=%{y}<extra></extra>",
         "legendgroup": "55398_09",
         "marker": {
          "color": "#EF553B",
          "pattern": {
           "shape": ""
          }
         },
         "name": "55398_09",
         "orientation": "h",
         "showlegend": true,
         "textposition": "auto",
         "type": "bar",
         "x": {
          "bdata": "oLsNAOAyKQCguw0A",
          "dtype": "i4"
         },
         "xaxis": "x",
         "y": [
          "arr_1",
          "arr_2",
          "arr_3"
         ],
         "yaxis": "y"
        },
        {
         "base": [
          "2022-08-09T21:30:00.000000000",
          "2022-08-10T11:45:00.000000000",
          "2022-08-10T12:30:00.000000000"
         ],
         "hovertemplate": "Train=56135_09<br>Start=%{base}<br>Finish=%{x}<br>Tâches=%{y}<extra></extra>",
         "legendgroup": "56135_09",
         "marker": {
          "color": "#00cc96",
          "pattern": {
           "shape": ""
          }
         },
         "name": "56135_09",
         "orientation": "h",
         "showlegend": true,
         "textposition": "auto",
         "type": "bar",
         "x": {
          "bdata": "oLsNAOAyKQCguw0A",
          "dtype": "i4"
         },
         "xaxis": "x",
         "y": [
          "arr_1",
          "arr_2",
          "arr_3"
         ],
         "yaxis": "y"
        },
        {
         "base": [
          "2022-08-09T02:45:00.000000000",
          "2022-08-09T03:00:00.000000000",
          "2022-08-09T03:45:00.000000000"
         ],
         "hovertemplate": "Train=56730_09<br>Start=%{base}<br>Finish=%{x}<br>Tâches=%{y}<extra></extra>",
         "legendgroup": "56730_09",
         "marker": {
          "color": "#ab63fa",
          "pattern": {
           "shape": ""
          }
         },
         "name": "56730_09",
         "orientation": "h",
         "showlegend": true,
         "textposition": "auto",
         "type": "bar",
         "x": {
          "bdata": "oLsNAOAyKQCguw0A",
          "dtype": "i4"
         },
         "xaxis": "x",
         "y": [
          "arr_1",
          "arr_2",
          "arr_3"
         ],
         "yaxis": "y"
        },
        {
         "base": [
          "2022-08-09T21:15:00.000000000",
          "2022-08-09T21:30:00.000000000",
          "2022-08-09T22:15:00.000000000"
         ],
         "hovertemplate": "Train=58706_09<br>Start=%{base}<br>Finish=%{x}<br>Tâches=%{y}<extra></extra>",
         "legendgroup": "58706_09",
         "marker": {
          "color": "#FFA15A",
          "pattern": {
           "shape": ""
          }
         },
         "name": "58706_09",
         "orientation": "h",
         "showlegend": true,
         "textposition": "auto",
         "type": "bar",
         "x": {
          "bdata": "oLsNAOAyKQCguw0A",
          "dtype": "i4"
         },
         "xaxis": "x",
         "y": [
          "arr_1",
          "arr_2",
          "arr_3"
         ],
         "yaxis": "y"
        },
        {
         "base": [
          "2022-08-10T02:15:00.000000000",
          "2022-08-10T02:30:00.000000000",
          "2022-08-10T03:15:00.000000000"
         ],
         "hovertemplate": "Train=412023_10<br>Start=%{base}<br>Finish=%{x}<br>Tâches=%{y}<extra></extra>",
         "legendgroup": "412023_10",
         "marker": {
          "color": "#19d3f3",
          "pattern": {
           "shape": ""
          }
         },
         "name": "412023_10",
         "orientation": "h",
         "showlegend": true,
         "textposition": "auto",
         "type": "bar",
         "x": {
          "bdata": "oLsNAOAyKQCguw0A",
          "dtype": "i4"
         },
         "xaxis": "x",
         "y": [
          "arr_1",
          "arr_2",
          "arr_3"
         ],
         "yaxis": "y"
        },
        {
         "base": [
          "2022-08-10T21:00:00.000000000",
          "2022-08-10T23:15:00.000000000",
          "2022-08-11T00:00:00.000000000"
         ],
         "hovertemplate": "Train=412202_10<br>Start=%{base}<br>Finish=%{x}<br>Tâches=%{y}<extra></extra>",
         "legendgroup": "412202_10",
         "marker": {
          "color": "#FF6692",
          "pattern": {
           "shape": ""
          }
         },
         "name": "412202_10",
         "orientation": "h",
         "showlegend": true,
         "textposition": "auto",
         "type": "bar",
         "x": {
          "bdata": "oLsNAOAyKQCguw0A",
          "dtype": "i4"
         },
         "xaxis": "x",
         "y": [
          "arr_1",
          "arr_2",
          "arr_3"
         ],
         "yaxis": "y"
        },
        {
         "base": [
          "2022-08-10T22:45:00.000000000",
          "2022-08-10T23:00:00.000000000",
          "2022-08-10T23:45:00.000000000"
         ],
         "hovertemplate": "Train=41264_10<br>Start=%{base}<br>Finish=%{x}<br>Tâches=%{y}<extra></extra>",
         "legendgroup": "41264_10",
         "marker": {
          "color": "#B6E880",
          "pattern": {
           "shape": ""
          }
         },
         "name": "41264_10",
         "orientation": "h",
         "showlegend": true,
         "textposition": "auto",
         "type": "bar",
         "x": {
          "bdata": "oLsNAOAyKQCguw0A",
          "dtype": "i4"
         },
         "xaxis": "x",
         "y": [
          "arr_1",
          "arr_2",
          "arr_3"
         ],
         "yaxis": "y"
        },
        {
         "base": [
          "2022-08-10T20:30:00.000000000",
          "2022-08-10T23:30:00.000000000",
          "2022-08-11T00:15:00.000000000"
         ],
         "hovertemplate": "Train=431020_10<br>Start=%{base}<br>Finish=%{x}<br>Tâches=%{y}<extra></extra>",
         "legendgroup": "431020_10",
         "marker": {
          "color": "#FF97FF",
          "pattern": {
           "shape": ""
          }
         },
         "name": "431020_10",
         "orientation": "h",
         "showlegend": true,
         "textposition": "auto",
         "type": "bar",
         "x": {
          "bdata": "oLsNAOAyKQCguw0A",
          "dtype": "i4"
         },
         "xaxis": "x",
         "y": [
          "arr_1",
          "arr_2",
          "arr_3"
         ],
         "yaxis": "y"
        },
        {
         "base": [
          "2022-08-10T12:30:00.000000000",
          "2022-08-10T12:45:00.000000000",
          "2022-08-10T13:30:00.000000000"
         ],
         "hovertemplate": "Train=431110_10<br>Start=%{base}<br>Finish=%{x}<br>Tâches=%{y}<extra></extra>",
         "legendgroup": "431110_10",
         "marker": {
          "color": "#FECB52",
          "pattern": {
           "shape": ""
          }
         },
         "name": "431110_10",
         "orientation": "h",
         "showlegend": true,
         "textposition": "auto",
         "type": "bar",
         "x": {
          "bdata": "oLsNAOAyKQCguw0A",
          "dtype": "i4"
         },
         "xaxis": "x",
         "y": [
          "arr_1",
          "arr_2",
          "arr_3"
         ],
         "yaxis": "y"
        },
        {
         "base": [
          "2022-08-10T11:15:00.000000000",
          "2022-08-10T11:30:00.000000000",
          "2022-08-10T12:15:00.000000000"
         ],
         "hovertemplate": "Train=431246_10<br>Start=%{base}<br>Finish=%{x}<br>Tâches=%{y}<extra></extra>",
         "legendgroup": "431246_10",
         "marker": {
          "color": "#636efa",
          "pattern": {
           "shape": ""
          }
         },
         "name": "431246_10",
         "orientation": "h",
         "showlegend": true,
         "textposition": "auto",
         "type": "bar",
         "x": {
          "bdata": "oLsNAOAyKQCguw0A",
          "dtype": "i4"
         },
         "xaxis": "x",
         "y": [
          "arr_1",
          "arr_2",
          "arr_3"
         ],
         "yaxis": "y"
        },
        {
         "base": [
          "2022-08-10T04:00:00.000000000",
          "2022-08-10T04:15:00.000000000",
          "2022-08-10T05:00:00.000000000"
         ],
         "hovertemplate": "Train=431802_10<br>Start=%{base}<br>Finish=%{x}<br>Tâches=%{y}<extra></extra>",
         "legendgroup": "431802_10",
         "marker": {
          "color": "#EF553B",
          "pattern": {
           "shape": ""
          }
         },
         "name": "431802_10",
         "orientation": "h",
         "showlegend": true,
         "textposition": "auto",
         "type": "bar",
         "x": {
          "bdata": "oLsNAOAyKQCguw0A",
          "dtype": "i4"
         },
         "xaxis": "x",
         "y": [
          "arr_1",
          "arr_2",
          "arr_3"
         ],
         "yaxis": "y"
        },
        {
         "base": [
          "2022-08-10T16:00:00.000000000",
          "2022-08-10T16:15:00.000000000",
          "2022-08-10T17:00:00.000000000"
         ],
         "hovertemplate": "Train=44222_10<br>Start=%{base}<br>Finish=%{x}<br>Tâches=%{y}<extra></extra>",
         "legendgroup": "44222_10",
         "marker": {
          "color": "#00cc96",
          "pattern": {
           "shape": ""
          }
         },
         "name": "44222_10",
         "orientation": "h",
         "showlegend": true,
         "textposition": "auto",
         "type": "bar",
         "x": {
          "bdata": "oLsNAOAyKQCguw0A",
          "dtype": "i4"
         },
         "xaxis": "x",
         "y": [
          "arr_1",
          "arr_2",
          "arr_3"
         ],
         "yaxis": "y"
        },
        {
         "base": [
          "2022-08-10T01:15:00.000000000",
          "2022-08-10T01:30:00.000000000",
          "2022-08-10T02:15:00.000000000"
         ],
         "hovertemplate": "Train=44228_10<br>Start=%{base}<br>Finish=%{x}<br>Tâches=%{y}<extra></extra>",
         "legendgroup": "44228_10",
         "marker": {
          "color": "#ab63fa",
          "pattern": {
           "shape": ""
          }
         },
         "name": "44228_10",
         "orientation": "h",
         "showlegend": true,
         "textposition": "auto",
         "type": "bar",
         "x": {
          "bdata": "oLsNAOAyKQCguw0A",
          "dtype": "i4"
         },
         "xaxis": "x",
         "y": [
          "arr_1",
          "arr_2",
          "arr_3"
         ],
         "yaxis": "y"
        },
        {
         "base": [
          "2022-08-10T10:30:00.000000000",
          "2022-08-10T10:45:00.000000000",
          "2022-08-10T11:30:00.000000000"
         ],
         "hovertemplate": "Train=44250_10<br>Start=%{base}<br>Finish=%{x}<br>Tâches=%{y}<extra></extra>",
         "legendgroup": "44250_10",
         "marker": {
          "color": "#FFA15A",
          "pattern": {
           "shape": ""
          }
         },
         "name": "44250_10",
         "orientation": "h",
         "showlegend": true,
         "textposition": "auto",
         "type": "bar",
         "x": {
          "bdata": "oLsNAOAyKQCguw0A",
          "dtype": "i4"
         },
         "xaxis": "x",
         "y": [
          "arr_1",
          "arr_2",
          "arr_3"
         ],
         "yaxis": "y"
        },
        {
         "base": [
          "2022-08-10T12:00:00.000000000",
          "2022-08-10T12:15:00.000000000",
          "2022-08-10T13:00:00.000000000"
         ],
         "hovertemplate": "Train=450237_10<br>Start=%{base}<br>Finish=%{x}<br>Tâches=%{y}<extra></extra>",
         "legendgroup": "450237_10",
         "marker": {
          "color": "#19d3f3",
          "pattern": {
           "shape": ""
          }
         },
         "name": "450237_10",
         "orientation": "h",
         "showlegend": true,
         "textposition": "auto",
         "type": "bar",
         "x": {
          "bdata": "oLsNAOAyKQCguw0A",
          "dtype": "i4"
         },
         "xaxis": "x",
         "y": [
          "arr_1",
          "arr_2",
          "arr_3"
         ],
         "yaxis": "y"
        },
        {
         "base": [
          "2022-08-10T12:45:00.000000000",
          "2022-08-10T13:00:00.000000000",
          "2022-08-10T13:45:00.000000000"
         ],
         "hovertemplate": "Train=471003_10<br>Start=%{base}<br>Finish=%{x}<br>Tâches=%{y}<extra></extra>",
         "legendgroup": "471003_10",
         "marker": {
          "color": "#FF6692",
          "pattern": {
           "shape": ""
          }
         },
         "name": "471003_10",
         "orientation": "h",
         "showlegend": true,
         "textposition": "auto",
         "type": "bar",
         "x": {
          "bdata": "oLsNAOAyKQCguw0A",
          "dtype": "i4"
         },
         "xaxis": "x",
         "y": [
          "arr_1",
          "arr_2",
          "arr_3"
         ],
         "yaxis": "y"
        },
        {
         "base": [
          "2022-08-10T12:45:00.000000000",
          "2022-08-10T13:15:00.000000000",
          "2022-08-10T14:00:00.000000000"
         ],
         "hovertemplate": "Train=47214_10<br>Start=%{base}<br>Finish=%{x}<br>Tâches=%{y}<extra></extra>",
         "legendgroup": "47214_10",
         "marker": {
          "color": "#B6E880",
          "pattern": {
           "shape": ""
          }
         },
         "name": "47214_10",
         "orientation": "h",
         "showlegend": true,
         "textposition": "auto",
         "type": "bar",
         "x": {
          "bdata": "oLsNAOAyKQCguw0A",
          "dtype": "i4"
         },
         "xaxis": "x",
         "y": [
          "arr_1",
          "arr_2",
          "arr_3"
         ],
         "yaxis": "y"
        },
        {
         "base": [
          "2022-08-10T09:15:00.000000000",
          "2022-08-10T09:30:00.000000000",
          "2022-08-10T10:15:00.000000000"
         ],
         "hovertemplate": "Train=47262_10<br>Start=%{base}<br>Finish=%{x}<br>Tâches=%{y}<extra></extra>",
         "legendgroup": "47262_10",
         "marker": {
          "color": "#FF97FF",
          "pattern": {
           "shape": ""
          }
         },
         "name": "47262_10",
         "orientation": "h",
         "showlegend": true,
         "textposition": "auto",
         "type": "bar",
         "x": {
          "bdata": "oLsNAOAyKQCguw0A",
          "dtype": "i4"
         },
         "xaxis": "x",
         "y": [
          "arr_1",
          "arr_2",
          "arr_3"
         ],
         "yaxis": "y"
        },
        {
         "base": [
          "2022-08-10T22:15:00.000000000",
          "2022-08-10T22:30:00.000000000",
          "2022-08-10T23:15:00.000000000"
         ],
         "hovertemplate": "Train=54234_10<br>Start=%{base}<br>Finish=%{x}<br>Tâches=%{y}<extra></extra>",
         "legendgroup": "54234_10",
         "marker": {
          "color": "#FECB52",
          "pattern": {
           "shape": ""
          }
         },
         "name": "54234_10",
         "orientation": "h",
         "showlegend": true,
         "textposition": "auto",
         "type": "bar",
         "x": {
          "bdata": "oLsNAOAyKQCguw0A",
          "dtype": "i4"
         },
         "xaxis": "x",
         "y": [
          "arr_1",
          "arr_2",
          "arr_3"
         ],
         "yaxis": "y"
        },
        {
         "base": [
          "2022-08-11T00:00:00.000000000",
          "2022-08-11T00:15:00.000000000",
          "2022-08-11T01:00:00.000000000"
         ],
         "hovertemplate": "Train=55390_10<br>Start=%{base}<br>Finish=%{x}<br>Tâches=%{y}<extra></extra>",
         "legendgroup": "55390_10",
         "marker": {
          "color": "#636efa",
          "pattern": {
           "shape": ""
          }
         },
         "name": "55390_10",
         "orientation": "h",
         "showlegend": true,
         "textposition": "auto",
         "type": "bar",
         "x": {
          "bdata": "oLsNAOAyKQCguw0A",
          "dtype": "i4"
         },
         "xaxis": "x",
         "y": [
          "arr_1",
          "arr_2",
          "arr_3"
         ],
         "yaxis": "y"
        },
        {
         "base": [
          "2022-08-10T07:45:00.000000000",
          "2022-08-10T08:00:00.000000000",
          "2022-08-10T08:45:00.000000000"
         ],
         "hovertemplate": "Train=55396_10<br>Start=%{base}<br>Finish=%{x}<br>Tâches=%{y}<extra></extra>",
         "legendgroup": "55396_10",
         "marker": {
          "color": "#EF553B",
          "pattern": {
           "shape": ""
          }
         },
         "name": "55396_10",
         "orientation": "h",
         "showlegend": true,
         "textposition": "auto",
         "type": "bar",
         "x": {
          "bdata": "oLsNAOAyKQCguw0A",
          "dtype": "i4"
         },
         "xaxis": "x",
         "y": [
          "arr_1",
          "arr_2",
          "arr_3"
         ],
         "yaxis": "y"
        },
        {
         "base": [
          "2022-08-10T21:30:00.000000000",
          "2022-08-10T21:45:00.000000000",
          "2022-08-10T22:30:00.000000000"
         ],
         "hovertemplate": "Train=56135_10<br>Start=%{base}<br>Finish=%{x}<br>Tâches=%{y}<extra></extra>",
         "legendgroup": "56135_10",
         "marker": {
          "color": "#00cc96",
          "pattern": {
           "shape": ""
          }
         },
         "name": "56135_10",
         "orientation": "h",
         "showlegend": true,
         "textposition": "auto",
         "type": "bar",
         "x": {
          "bdata": "oLsNAOAyKQCguw0A",
          "dtype": "i4"
         },
         "xaxis": "x",
         "y": [
          "arr_1",
          "arr_2",
          "arr_3"
         ],
         "yaxis": "y"
        },
        {
         "base": [
          "2022-08-10T02:45:00.000000000",
          "2022-08-10T03:00:00.000000000",
          "2022-08-10T03:45:00.000000000"
         ],
         "hovertemplate": "Train=56730_10<br>Start=%{base}<br>Finish=%{x}<br>Tâches=%{y}<extra></extra>",
         "legendgroup": "56730_10",
         "marker": {
          "color": "#ab63fa",
          "pattern": {
           "shape": ""
          }
         },
         "name": "56730_10",
         "orientation": "h",
         "showlegend": true,
         "textposition": "auto",
         "type": "bar",
         "x": {
          "bdata": "oLsNAOAyKQCguw0A",
          "dtype": "i4"
         },
         "xaxis": "x",
         "y": [
          "arr_1",
          "arr_2",
          "arr_3"
         ],
         "yaxis": "y"
        },
        {
         "base": [
          "2022-08-10T21:15:00.000000000",
          "2022-08-10T21:30:00.000000000",
          "2022-08-10T22:15:00.000000000"
         ],
         "hovertemplate": "Train=58706_10<br>Start=%{base}<br>Finish=%{x}<br>Tâches=%{y}<extra></extra>",
         "legendgroup": "58706_10",
         "marker": {
          "color": "#FFA15A",
          "pattern": {
           "shape": ""
          }
         },
         "name": "58706_10",
         "orientation": "h",
         "showlegend": true,
         "textposition": "auto",
         "type": "bar",
         "x": {
          "bdata": "oLsNAOAyKQCguw0A",
          "dtype": "i4"
         },
         "xaxis": "x",
         "y": [
          "arr_1",
          "arr_2",
          "arr_3"
         ],
         "yaxis": "y"
        },
        {
         "base": [
          "2022-08-10T09:30:00.000000000",
          "2022-08-11T10:30:00.000000000",
          "2022-08-11T11:15:00.000000000"
         ],
         "hovertemplate": "Train=71270_10<br>Start=%{base}<br>Finish=%{x}<br>Tâches=%{y}<extra></extra>",
         "legendgroup": "71270_10",
         "marker": {
          "color": "#19d3f3",
          "pattern": {
           "shape": ""
          }
         },
         "name": "71270_10",
         "orientation": "h",
         "showlegend": true,
         "textposition": "auto",
         "type": "bar",
         "x": {
          "bdata": "oLsNAOAyKQCguw0A",
          "dtype": "i4"
         },
         "xaxis": "x",
         "y": [
          "arr_1",
          "arr_2",
          "arr_3"
         ],
         "yaxis": "y"
        },
        {
         "base": [
          "2022-08-11T02:15:00.000000000",
          "2022-08-11T02:30:00.000000000",
          "2022-08-11T03:15:00.000000000"
         ],
         "hovertemplate": "Train=412023_11<br>Start=%{base}<br>Finish=%{x}<br>Tâches=%{y}<extra></extra>",
         "legendgroup": "412023_11",
         "marker": {
          "color": "#FF6692",
          "pattern": {
           "shape": ""
          }
         },
         "name": "412023_11",
         "orientation": "h",
         "showlegend": true,
         "textposition": "auto",
         "type": "bar",
         "x": {
          "bdata": "oLsNAOAyKQCguw0A",
          "dtype": "i4"
         },
         "xaxis": "x",
         "y": [
          "arr_1",
          "arr_2",
          "arr_3"
         ],
         "yaxis": "y"
        },
        {
         "base": [
          "2022-08-11T21:00:00.000000000",
          "2022-08-11T21:15:00.000000000",
          "2022-08-11T22:00:00.000000000"
         ],
         "hovertemplate": "Train=412202_11<br>Start=%{base}<br>Finish=%{x}<br>Tâches=%{y}<extra></extra>",
         "legendgroup": "412202_11",
         "marker": {
          "color": "#B6E880",
          "pattern": {
           "shape": ""
          }
         },
         "name": "412202_11",
         "orientation": "h",
         "showlegend": true,
         "textposition": "auto",
         "type": "bar",
         "x": {
          "bdata": "oLsNAOAyKQCguw0A",
          "dtype": "i4"
         },
         "xaxis": "x",
         "y": [
          "arr_1",
          "arr_2",
          "arr_3"
         ],
         "yaxis": "y"
        },
        {
         "base": [
          "2022-08-11T23:30:00.000000000",
          "2022-08-11T23:45:00.000000000",
          "2022-08-12T00:30:00.000000000"
         ],
         "hovertemplate": "Train=41254_11<br>Start=%{base}<br>Finish=%{x}<br>Tâches=%{y}<extra></extra>",
         "legendgroup": "41254_11",
         "marker": {
          "color": "#FF97FF",
          "pattern": {
           "shape": ""
          }
         },
         "name": "41254_11",
         "orientation": "h",
         "showlegend": true,
         "textposition": "auto",
         "type": "bar",
         "x": {
          "bdata": "oLsNAOAyKQCguw0A",
          "dtype": "i4"
         },
         "xaxis": "x",
         "y": [
          "arr_1",
          "arr_2",
          "arr_3"
         ],
         "yaxis": "y"
        },
        {
         "base": [
          "2022-08-11T11:15:00.000000000",
          "2022-08-11T11:45:00.000000000",
          "2022-08-11T12:30:00.000000000"
         ],
         "hovertemplate": "Train=431246_11<br>Start=%{base}<br>Finish=%{x}<br>Tâches=%{y}<extra></extra>",
         "legendgroup": "431246_11",
         "marker": {
          "color": "#FECB52",
          "pattern": {
           "shape": ""
          }
         },
         "name": "431246_11",
         "orientation": "h",
         "showlegend": true,
         "textposition": "auto",
         "type": "bar",
         "x": {
          "bdata": "oLsNAOAyKQCguw0A",
          "dtype": "i4"
         },
         "xaxis": "x",
         "y": [
          "arr_1",
          "arr_2",
          "arr_3"
         ],
         "yaxis": "y"
        },
        {
         "base": [
          "2022-08-11T11:15:00.000000000",
          "2022-08-11T11:30:00.000000000",
          "2022-08-11T12:15:00.000000000"
         ],
         "hovertemplate": "Train=431640_11<br>Start=%{base}<br>Finish=%{x}<br>Tâches=%{y}<extra></extra>",
         "legendgroup": "431640_11",
         "marker": {
          "color": "#636efa",
          "pattern": {
           "shape": ""
          }
         },
         "name": "431640_11",
         "orientation": "h",
         "showlegend": true,
         "textposition": "auto",
         "type": "bar",
         "x": {
          "bdata": "oLsNAOAyKQCguw0A",
          "dtype": "i4"
         },
         "xaxis": "x",
         "y": [
          "arr_1",
          "arr_2",
          "arr_3"
         ],
         "yaxis": "y"
        },
        {
         "base": [
          "2022-08-11T03:00:00.000000000",
          "2022-08-11T03:15:00.000000000",
          "2022-08-11T04:00:00.000000000"
         ],
         "hovertemplate": "Train=431802_11<br>Start=%{base}<br>Finish=%{x}<br>Tâches=%{y}<extra></extra>",
         "legendgroup": "431802_11",
         "marker": {
          "color": "#EF553B",
          "pattern": {
           "shape": ""
          }
         },
         "name": "431802_11",
         "orientation": "h",
         "showlegend": true,
         "textposition": "auto",
         "type": "bar",
         "x": {
          "bdata": "oLsNAOAyKQCguw0A",
          "dtype": "i4"
         },
         "xaxis": "x",
         "y": [
          "arr_1",
          "arr_2",
          "arr_3"
         ],
         "yaxis": "y"
        },
        {
         "base": [
          "2022-08-11T16:00:00.000000000",
          "2022-08-11T16:15:00.000000000",
          "2022-08-11T17:00:00.000000000"
         ],
         "hovertemplate": "Train=44222_11<br>Start=%{base}<br>Finish=%{x}<br>Tâches=%{y}<extra></extra>",
         "legendgroup": "44222_11",
         "marker": {
          "color": "#00cc96",
          "pattern": {
           "shape": ""
          }
         },
         "name": "44222_11",
         "orientation": "h",
         "showlegend": true,
         "textposition": "auto",
         "type": "bar",
         "x": {
          "bdata": "oLsNAOAyKQCguw0A",
          "dtype": "i4"
         },
         "xaxis": "x",
         "y": [
          "arr_1",
          "arr_2",
          "arr_3"
         ],
         "yaxis": "y"
        },
        {
         "base": [
          "2022-08-11T10:30:00.000000000",
          "2022-08-11T10:45:00.000000000",
          "2022-08-11T11:30:00.000000000"
         ],
         "hovertemplate": "Train=44250_11<br>Start=%{base}<br>Finish=%{x}<br>Tâches=%{y}<extra></extra>",
         "legendgroup": "44250_11",
         "marker": {
          "color": "#ab63fa",
          "pattern": {
           "shape": ""
          }
         },
         "name": "44250_11",
         "orientation": "h",
         "showlegend": true,
         "textposition": "auto",
         "type": "bar",
         "x": {
          "bdata": "oLsNAOAyKQCguw0A",
          "dtype": "i4"
         },
         "xaxis": "x",
         "y": [
          "arr_1",
          "arr_2",
          "arr_3"
         ],
         "yaxis": "y"
        },
        {
         "base": [
          "2022-08-11T16:30:00.000000000",
          "2022-08-11T16:45:00.000000000",
          "2022-08-11T17:30:00.000000000"
         ],
         "hovertemplate": "Train=44865_11<br>Start=%{base}<br>Finish=%{x}<br>Tâches=%{y}<extra></extra>",
         "legendgroup": "44865_11",
         "marker": {
          "color": "#FFA15A",
          "pattern": {
           "shape": ""
          }
         },
         "name": "44865_11",
         "orientation": "h",
         "showlegend": true,
         "textposition": "auto",
         "type": "bar",
         "x": {
          "bdata": "oLsNAOAyKQCguw0A",
          "dtype": "i4"
         },
         "xaxis": "x",
         "y": [
          "arr_1",
          "arr_2",
          "arr_3"
         ],
         "yaxis": "y"
        },
        {
         "base": [
          "2022-08-11T12:00:00.000000000",
          "2022-08-11T12:15:00.000000000",
          "2022-08-11T13:00:00.000000000"
         ],
         "hovertemplate": "Train=450237_11<br>Start=%{base}<br>Finish=%{x}<br>Tâches=%{y}<extra></extra>",
         "legendgroup": "450237_11",
         "marker": {
          "color": "#19d3f3",
          "pattern": {
           "shape": ""
          }
         },
         "name": "450237_11",
         "orientation": "h",
         "showlegend": true,
         "textposition": "auto",
         "type": "bar",
         "x": {
          "bdata": "oLsNAOAyKQCguw0A",
          "dtype": "i4"
         },
         "xaxis": "x",
         "y": [
          "arr_1",
          "arr_2",
          "arr_3"
         ],
         "yaxis": "y"
        },
        {
         "base": [
          "2022-08-11T12:45:00.000000000",
          "2022-08-11T13:00:00.000000000",
          "2022-08-11T13:45:00.000000000"
         ],
         "hovertemplate": "Train=471003_11<br>Start=%{base}<br>Finish=%{x}<br>Tâches=%{y}<extra></extra>",
         "legendgroup": "471003_11",
         "marker": {
          "color": "#FF6692",
          "pattern": {
           "shape": ""
          }
         },
         "name": "471003_11",
         "orientation": "h",
         "showlegend": true,
         "textposition": "auto",
         "type": "bar",
         "x": {
          "bdata": "oLsNAOAyKQCguw0A",
          "dtype": "i4"
         },
         "xaxis": "x",
         "y": [
          "arr_1",
          "arr_2",
          "arr_3"
         ],
         "yaxis": "y"
        },
        {
         "base": [
          "2022-08-11T17:45:00.000000000",
          "2022-08-11T18:00:00.000000000",
          "2022-08-11T18:45:00.000000000"
         ],
         "hovertemplate": "Train=47212_11<br>Start=%{base}<br>Finish=%{x}<br>Tâches=%{y}<extra></extra>",
         "legendgroup": "47212_11",
         "marker": {
          "color": "#B6E880",
          "pattern": {
           "shape": ""
          }
         },
         "name": "47212_11",
         "orientation": "h",
         "showlegend": true,
         "textposition": "auto",
         "type": "bar",
         "x": {
          "bdata": "oLsNAOAyKQCguw0A",
          "dtype": "i4"
         },
         "xaxis": "x",
         "y": [
          "arr_1",
          "arr_2",
          "arr_3"
         ],
         "yaxis": "y"
        },
        {
         "base": [
          "2022-08-11T03:00:00.000000000",
          "2022-08-11T10:15:00.000000000",
          "2022-08-11T11:00:00.000000000"
         ],
         "hovertemplate": "Train=47240_11<br>Start=%{base}<br>Finish=%{x}<br>Tâches=%{y}<extra></extra>",
         "legendgroup": "47240_11",
         "marker": {
          "color": "#FF97FF",
          "pattern": {
           "shape": ""
          }
         },
         "name": "47240_11",
         "orientation": "h",
         "showlegend": true,
         "textposition": "auto",
         "type": "bar",
         "x": {
          "bdata": "oLsNAOAyKQCguw0A",
          "dtype": "i4"
         },
         "xaxis": "x",
         "y": [
          "arr_1",
          "arr_2",
          "arr_3"
         ],
         "yaxis": "y"
        },
        {
         "base": [
          "2022-08-11T09:15:00.000000000",
          "2022-08-11T09:30:00.000000000",
          "2022-08-11T10:15:00.000000000"
         ],
         "hovertemplate": "Train=47262_11<br>Start=%{base}<br>Finish=%{x}<br>Tâches=%{y}<extra></extra>",
         "legendgroup": "47262_11",
         "marker": {
          "color": "#FECB52",
          "pattern": {
           "shape": ""
          }
         },
         "name": "47262_11",
         "orientation": "h",
         "showlegend": true,
         "textposition": "auto",
         "type": "bar",
         "x": {
          "bdata": "oLsNAOAyKQCguw0A",
          "dtype": "i4"
         },
         "xaxis": "x",
         "y": [
          "arr_1",
          "arr_2",
          "arr_3"
         ],
         "yaxis": "y"
        },
        {
         "base": [
          "2022-08-11T19:45:00.000000000",
          "2022-08-11T20:00:00.000000000",
          "2022-08-11T20:45:00.000000000"
         ],
         "hovertemplate": "Train=47822_11<br>Start=%{base}<br>Finish=%{x}<br>Tâches=%{y}<extra></extra>",
         "legendgroup": "47822_11",
         "marker": {
          "color": "#636efa",
          "pattern": {
           "shape": ""
          }
         },
         "name": "47822_11",
         "orientation": "h",
         "showlegend": true,
         "textposition": "auto",
         "type": "bar",
         "x": {
          "bdata": "oLsNAOAyKQCguw0A",
          "dtype": "i4"
         },
         "xaxis": "x",
         "y": [
          "arr_1",
          "arr_2",
          "arr_3"
         ],
         "yaxis": "y"
        },
        {
         "base": [
          "2022-08-11T22:15:00.000000000",
          "2022-08-11T22:30:00.000000000",
          "2022-08-11T23:15:00.000000000"
         ],
         "hovertemplate": "Train=54234_11<br>Start=%{base}<br>Finish=%{x}<br>Tâches=%{y}<extra></extra>",
         "legendgroup": "54234_11",
         "marker": {
          "color": "#EF553B",
          "pattern": {
           "shape": ""
          }
         },
         "name": "54234_11",
         "orientation": "h",
         "showlegend": true,
         "textposition": "auto",
         "type": "bar",
         "x": {
          "bdata": "oLsNAOAyKQCguw0A",
          "dtype": "i4"
         },
         "xaxis": "x",
         "y": [
          "arr_1",
          "arr_2",
          "arr_3"
         ],
         "yaxis": "y"
        },
        {
         "base": [
          "2022-08-12T00:00:00.000000000",
          "2022-08-12T00:15:00.000000000",
          "2022-08-12T01:00:00.000000000"
         ],
         "hovertemplate": "Train=55390_11<br>Start=%{base}<br>Finish=%{x}<br>Tâches=%{y}<extra></extra>",
         "legendgroup": "55390_11",
         "marker": {
          "color": "#00cc96",
          "pattern": {
           "shape": ""
          }
         },
         "name": "55390_11",
         "orientation": "h",
         "showlegend": true,
         "textposition": "auto",
         "type": "bar",
         "x": {
          "bdata": "oLsNAOAyKQCguw0A",
          "dtype": "i4"
         },
         "xaxis": "x",
         "y": [
          "arr_1",
          "arr_2",
          "arr_3"
         ],
         "yaxis": "y"
        },
        {
         "base": [
          "2022-08-11T11:45:00.000000000",
          "2022-08-11T12:00:00.000000000",
          "2022-08-11T12:45:00.000000000"
         ],
         "hovertemplate": "Train=55394_11<br>Start=%{base}<br>Finish=%{x}<br>Tâches=%{y}<extra></extra>",
         "legendgroup": "55394_11",
         "marker": {
          "color": "#ab63fa",
          "pattern": {
           "shape": ""
          }
         },
         "name": "55394_11",
         "orientation": "h",
         "showlegend": true,
         "textposition": "auto",
         "type": "bar",
         "x": {
          "bdata": "oLsNAOAyKQCguw0A",
          "dtype": "i4"
         },
         "xaxis": "x",
         "y": [
          "arr_1",
          "arr_2",
          "arr_3"
         ],
         "yaxis": "y"
        },
        {
         "base": [
          "2022-08-11T03:45:00.000000000",
          "2022-08-11T04:00:00.000000000",
          "2022-08-11T04:45:00.000000000"
         ],
         "hovertemplate": "Train=55396_11<br>Start=%{base}<br>Finish=%{x}<br>Tâches=%{y}<extra></extra>",
         "legendgroup": "55396_11",
         "marker": {
          "color": "#FFA15A",
          "pattern": {
           "shape": ""
          }
         },
         "name": "55396_11",
         "orientation": "h",
         "showlegend": true,
         "textposition": "auto",
         "type": "bar",
         "x": {
          "bdata": "oLsNAOAyKQCguw0A",
          "dtype": "i4"
         },
         "xaxis": "x",
         "y": [
          "arr_1",
          "arr_2",
          "arr_3"
         ],
         "yaxis": "y"
        },
        {
         "base": [
          "2022-08-11T21:30:00.000000000",
          "2022-08-11T21:45:00.000000000",
          "2022-08-11T22:30:00.000000000"
         ],
         "hovertemplate": "Train=56135_11<br>Start=%{base}<br>Finish=%{x}<br>Tâches=%{y}<extra></extra>",
         "legendgroup": "56135_11",
         "marker": {
          "color": "#19d3f3",
          "pattern": {
           "shape": ""
          }
         },
         "name": "56135_11",
         "orientation": "h",
         "showlegend": true,
         "textposition": "auto",
         "type": "bar",
         "x": {
          "bdata": "oLsNAOAyKQCguw0A",
          "dtype": "i4"
         },
         "xaxis": "x",
         "y": [
          "arr_1",
          "arr_2",
          "arr_3"
         ],
         "yaxis": "y"
        },
        {
         "base": [
          "2022-08-11T02:45:00.000000000",
          "2022-08-11T03:00:00.000000000",
          "2022-08-11T03:45:00.000000000"
         ],
         "hovertemplate": "Train=56730_11<br>Start=%{base}<br>Finish=%{x}<br>Tâches=%{y}<extra></extra>",
         "legendgroup": "56730_11",
         "marker": {
          "color": "#FF6692",
          "pattern": {
           "shape": ""
          }
         },
         "name": "56730_11",
         "orientation": "h",
         "showlegend": true,
         "textposition": "auto",
         "type": "bar",
         "x": {
          "bdata": "oLsNAOAyKQCguw0A",
          "dtype": "i4"
         },
         "xaxis": "x",
         "y": [
          "arr_1",
          "arr_2",
          "arr_3"
         ],
         "yaxis": "y"
        },
        {
         "base": [
          "2022-08-11T21:15:00.000000000",
          "2022-08-11T21:30:00.000000000",
          "2022-08-11T22:15:00.000000000"
         ],
         "hovertemplate": "Train=58706_11<br>Start=%{base}<br>Finish=%{x}<br>Tâches=%{y}<extra></extra>",
         "legendgroup": "58706_11",
         "marker": {
          "color": "#B6E880",
          "pattern": {
           "shape": ""
          }
         },
         "name": "58706_11",
         "orientation": "h",
         "showlegend": true,
         "textposition": "auto",
         "type": "bar",
         "x": {
          "bdata": "oLsNAOAyKQCguw0A",
          "dtype": "i4"
         },
         "xaxis": "x",
         "y": [
          "arr_1",
          "arr_2",
          "arr_3"
         ],
         "yaxis": "y"
        },
        {
         "base": [
          "2022-08-12T02:15:00.000000000",
          "2022-08-12T02:30:00.000000000",
          "2022-08-12T03:15:00.000000000"
         ],
         "hovertemplate": "Train=412023_12<br>Start=%{base}<br>Finish=%{x}<br>Tâches=%{y}<extra></extra>",
         "legendgroup": "412023_12",
         "marker": {
          "color": "#FF97FF",
          "pattern": {
           "shape": ""
          }
         },
         "name": "412023_12",
         "orientation": "h",
         "showlegend": true,
         "textposition": "auto",
         "type": "bar",
         "x": {
          "bdata": "oLsNAOAyKQCguw0A",
          "dtype": "i4"
         },
         "xaxis": "x",
         "y": [
          "arr_1",
          "arr_2",
          "arr_3"
         ],
         "yaxis": "y"
        },
        {
         "base": [
          "2022-08-12T21:00:00.000000000",
          "2022-08-12T22:15:00.000000000",
          "2022-08-12T23:00:00.000000000"
         ],
         "hovertemplate": "Train=412202_12<br>Start=%{base}<br>Finish=%{x}<br>Tâches=%{y}<extra></extra>",
         "legendgroup": "412202_12",
         "marker": {
          "color": "#FECB52",
          "pattern": {
           "shape": ""
          }
         },
         "name": "412202_12",
         "orientation": "h",
         "showlegend": true,
         "textposition": "auto",
         "type": "bar",
         "x": {
          "bdata": "oLsNAOAyKQCguw0A",
          "dtype": "i4"
         },
         "xaxis": "x",
         "y": [
          "arr_1",
          "arr_2",
          "arr_3"
         ],
         "yaxis": "y"
        },
        {
         "base": [
          "2022-08-12T22:45:00.000000000",
          "2022-08-12T23:00:00.000000000",
          "2022-08-12T23:45:00.000000000"
         ],
         "hovertemplate": "Train=41264_12<br>Start=%{base}<br>Finish=%{x}<br>Tâches=%{y}<extra></extra>",
         "legendgroup": "41264_12",
         "marker": {
          "color": "#636efa",
          "pattern": {
           "shape": ""
          }
         },
         "name": "41264_12",
         "orientation": "h",
         "showlegend": true,
         "textposition": "auto",
         "type": "bar",
         "x": {
          "bdata": "oLsNAOAyKQCguw0A",
          "dtype": "i4"
         },
         "xaxis": "x",
         "y": [
          "arr_1",
          "arr_2",
          "arr_3"
         ],
         "yaxis": "y"
        },
        {
         "base": [
          "2022-08-12T11:15:00.000000000",
          "2022-08-12T11:30:00.000000000",
          "2022-08-12T12:15:00.000000000"
         ],
         "hovertemplate": "Train=431246_12<br>Start=%{base}<br>Finish=%{x}<br>Tâches=%{y}<extra></extra>",
         "legendgroup": "431246_12",
         "marker": {
          "color": "#EF553B",
          "pattern": {
           "shape": ""
          }
         },
         "name": "431246_12",
         "orientation": "h",
         "showlegend": true,
         "textposition": "auto",
         "type": "bar",
         "x": {
          "bdata": "oLsNAOAyKQCguw0A",
          "dtype": "i4"
         },
         "xaxis": "x",
         "y": [
          "arr_1",
          "arr_2",
          "arr_3"
         ],
         "yaxis": "y"
        },
        {
         "base": [
          "2022-08-12T05:15:00.000000000",
          "2022-08-12T05:30:00.000000000",
          "2022-08-12T06:15:00.000000000"
         ],
         "hovertemplate": "Train=431802_12<br>Start=%{base}<br>Finish=%{x}<br>Tâches=%{y}<extra></extra>",
         "legendgroup": "431802_12",
         "marker": {
          "color": "#00cc96",
          "pattern": {
           "shape": ""
          }
         },
         "name": "431802_12",
         "orientation": "h",
         "showlegend": true,
         "textposition": "auto",
         "type": "bar",
         "x": {
          "bdata": "oLsNAOAyKQCguw0A",
          "dtype": "i4"
         },
         "xaxis": "x",
         "y": [
          "arr_1",
          "arr_2",
          "arr_3"
         ],
         "yaxis": "y"
        },
        {
         "base": [
          "2022-08-12T16:00:00.000000000",
          "2022-08-12T16:15:00.000000000",
          "2022-08-12T17:00:00.000000000"
         ],
         "hovertemplate": "Train=44222_12<br>Start=%{base}<br>Finish=%{x}<br>Tâches=%{y}<extra></extra>",
         "legendgroup": "44222_12",
         "marker": {
          "color": "#ab63fa",
          "pattern": {
           "shape": ""
          }
         },
         "name": "44222_12",
         "orientation": "h",
         "showlegend": true,
         "textposition": "auto",
         "type": "bar",
         "x": {
          "bdata": "oLsNAOAyKQCguw0A",
          "dtype": "i4"
         },
         "xaxis": "x",
         "y": [
          "arr_1",
          "arr_2",
          "arr_3"
         ],
         "yaxis": "y"
        },
        {
         "base": [
          "2022-08-12T01:15:00.000000000",
          "2022-08-12T01:30:00.000000000",
          "2022-08-12T02:15:00.000000000"
         ],
         "hovertemplate": "Train=44228_12<br>Start=%{base}<br>Finish=%{x}<br>Tâches=%{y}<extra></extra>",
         "legendgroup": "44228_12",
         "marker": {
          "color": "#FFA15A",
          "pattern": {
           "shape": ""
          }
         },
         "name": "44228_12",
         "orientation": "h",
         "showlegend": true,
         "textposition": "auto",
         "type": "bar",
         "x": {
          "bdata": "oLsNAOAyKQCguw0A",
          "dtype": "i4"
         },
         "xaxis": "x",
         "y": [
          "arr_1",
          "arr_2",
          "arr_3"
         ],
         "yaxis": "y"
        },
        {
         "base": [
          "2022-08-12T10:30:00.000000000",
          "2022-08-12T10:45:00.000000000",
          "2022-08-12T11:30:00.000000000"
         ],
         "hovertemplate": "Train=44250_12<br>Start=%{base}<br>Finish=%{x}<br>Tâches=%{y}<extra></extra>",
         "legendgroup": "44250_12",
         "marker": {
          "color": "#19d3f3",
          "pattern": {
           "shape": ""
          }
         },
         "name": "44250_12",
         "orientation": "h",
         "showlegend": true,
         "textposition": "auto",
         "type": "bar",
         "x": {
          "bdata": "oLsNAOAyKQCguw0A",
          "dtype": "i4"
         },
         "xaxis": "x",
         "y": [
          "arr_1",
          "arr_2",
          "arr_3"
         ],
         "yaxis": "y"
        },
        {
         "base": [
          "2022-08-12T16:30:00.000000000",
          "2022-08-12T16:45:00.000000000",
          "2022-08-12T17:30:00.000000000"
         ],
         "hovertemplate": "Train=44865_12<br>Start=%{base}<br>Finish=%{x}<br>Tâches=%{y}<extra></extra>",
         "legendgroup": "44865_12",
         "marker": {
          "color": "#FF6692",
          "pattern": {
           "shape": ""
          }
         },
         "name": "44865_12",
         "orientation": "h",
         "showlegend": true,
         "textposition": "auto",
         "type": "bar",
         "x": {
          "bdata": "oLsNAOAyKQCguw0A",
          "dtype": "i4"
         },
         "xaxis": "x",
         "y": [
          "arr_1",
          "arr_2",
          "arr_3"
         ],
         "yaxis": "y"
        },
        {
         "base": [
          "2022-08-12T19:00:00.000000000",
          "2022-08-12T19:15:00.000000000",
          "2022-08-12T20:00:00.000000000"
         ],
         "hovertemplate": "Train=44951_12<br>Start=%{base}<br>Finish=%{x}<br>Tâches=%{y}<extra></extra>",
         "legendgroup": "44951_12",
         "marker": {
          "color": "#B6E880",
          "pattern": {
           "shape": ""
          }
         },
         "name": "44951_12",
         "orientation": "h",
         "showlegend": true,
         "textposition": "auto",
         "type": "bar",
         "x": {
          "bdata": "oLsNAOAyKQCguw0A",
          "dtype": "i4"
         },
         "xaxis": "x",
         "y": [
          "arr_1",
          "arr_2",
          "arr_3"
         ],
         "yaxis": "y"
        },
        {
         "base": [
          "2022-08-12T12:00:00.000000000",
          "2022-08-12T12:15:00.000000000",
          "2022-08-12T13:00:00.000000000"
         ],
         "hovertemplate": "Train=450237_12<br>Start=%{base}<br>Finish=%{x}<br>Tâches=%{y}<extra></extra>",
         "legendgroup": "450237_12",
         "marker": {
          "color": "#FF97FF",
          "pattern": {
           "shape": ""
          }
         },
         "name": "450237_12",
         "orientation": "h",
         "showlegend": true,
         "textposition": "auto",
         "type": "bar",
         "x": {
          "bdata": "oLsNAOAyKQCguw0A",
          "dtype": "i4"
         },
         "xaxis": "x",
         "y": [
          "arr_1",
          "arr_2",
          "arr_3"
         ],
         "yaxis": "y"
        },
        {
         "base": [
          "2022-08-12T12:45:00.000000000",
          "2022-08-12T13:00:00.000000000",
          "2022-08-12T13:45:00.000000000"
         ],
         "hovertemplate": "Train=471003_12<br>Start=%{base}<br>Finish=%{x}<br>Tâches=%{y}<extra></extra>",
         "legendgroup": "471003_12",
         "marker": {
          "color": "#FECB52",
          "pattern": {
           "shape": ""
          }
         },
         "name": "471003_12",
         "orientation": "h",
         "showlegend": true,
         "textposition": "auto",
         "type": "bar",
         "x": {
          "bdata": "oLsNAOAyKQCguw0A",
          "dtype": "i4"
         },
         "xaxis": "x",
         "y": [
          "arr_1",
          "arr_2",
          "arr_3"
         ],
         "yaxis": "y"
        },
        {
         "base": [
          "2022-08-12T17:45:00.000000000",
          "2022-08-12T18:00:00.000000000",
          "2022-08-12T18:45:00.000000000"
         ],
         "hovertemplate": "Train=47214_12<br>Start=%{base}<br>Finish=%{x}<br>Tâches=%{y}<extra></extra>",
         "legendgroup": "47214_12",
         "marker": {
          "color": "#636efa",
          "pattern": {
           "shape": ""
          }
         },
         "name": "47214_12",
         "orientation": "h",
         "showlegend": true,
         "textposition": "auto",
         "type": "bar",
         "x": {
          "bdata": "oLsNAOAyKQCguw0A",
          "dtype": "i4"
         },
         "xaxis": "x",
         "y": [
          "arr_1",
          "arr_2",
          "arr_3"
         ],
         "yaxis": "y"
        },
        {
         "base": [
          "2022-08-12T09:15:00.000000000",
          "2022-08-12T09:30:00.000000000",
          "2022-08-12T10:15:00.000000000"
         ],
         "hovertemplate": "Train=47262_12<br>Start=%{base}<br>Finish=%{x}<br>Tâches=%{y}<extra></extra>",
         "legendgroup": "47262_12",
         "marker": {
          "color": "#EF553B",
          "pattern": {
           "shape": ""
          }
         },
         "name": "47262_12",
         "orientation": "h",
         "showlegend": true,
         "textposition": "auto",
         "type": "bar",
         "x": {
          "bdata": "oLsNAOAyKQCguw0A",
          "dtype": "i4"
         },
         "xaxis": "x",
         "y": [
          "arr_1",
          "arr_2",
          "arr_3"
         ],
         "yaxis": "y"
        },
        {
         "base": [
          "2022-08-12T19:45:00.000000000",
          "2022-08-12T20:00:00.000000000",
          "2022-08-12T20:45:00.000000000"
         ],
         "hovertemplate": "Train=47822_12<br>Start=%{base}<br>Finish=%{x}<br>Tâches=%{y}<extra></extra>",
         "legendgroup": "47822_12",
         "marker": {
          "color": "#00cc96",
          "pattern": {
           "shape": ""
          }
         },
         "name": "47822_12",
         "orientation": "h",
         "showlegend": true,
         "textposition": "auto",
         "type": "bar",
         "x": {
          "bdata": "oLsNAOAyKQCguw0A",
          "dtype": "i4"
         },
         "xaxis": "x",
         "y": [
          "arr_1",
          "arr_2",
          "arr_3"
         ],
         "yaxis": "y"
        },
        {
         "base": [
          "2022-08-12T07:45:00.000000000",
          "2022-08-12T08:00:00.000000000",
          "2022-08-12T08:45:00.000000000"
         ],
         "hovertemplate": "Train=48216_12<br>Start=%{base}<br>Finish=%{x}<br>Tâches=%{y}<extra></extra>",
         "legendgroup": "48216_12",
         "marker": {
          "color": "#ab63fa",
          "pattern": {
           "shape": ""
          }
         },
         "name": "48216_12",
         "orientation": "h",
         "showlegend": true,
         "textposition": "auto",
         "type": "bar",
         "x": {
          "bdata": "oLsNAOAyKQCguw0A",
          "dtype": "i4"
         },
         "xaxis": "x",
         "y": [
          "arr_1",
          "arr_2",
          "arr_3"
         ],
         "yaxis": "y"
        },
        {
         "base": [
          "2022-08-12T11:45:00.000000000",
          "2022-08-12T12:00:00.000000000",
          "2022-08-12T12:45:00.000000000"
         ],
         "hovertemplate": "Train=489026_12<br>Start=%{base}<br>Finish=%{x}<br>Tâches=%{y}<extra></extra>",
         "legendgroup": "489026_12",
         "marker": {
          "color": "#FFA15A",
          "pattern": {
           "shape": ""
          }
         },
         "name": "489026_12",
         "orientation": "h",
         "showlegend": true,
         "textposition": "auto",
         "type": "bar",
         "x": {
          "bdata": "oLsNAOAyKQCguw0A",
          "dtype": "i4"
         },
         "xaxis": "x",
         "y": [
          "arr_1",
          "arr_2",
          "arr_3"
         ],
         "yaxis": "y"
        },
        {
         "base": [
          "2022-08-12T21:45:00.000000000",
          "2022-08-12T22:00:00.000000000",
          "2022-08-12T22:45:00.000000000"
         ],
         "hovertemplate": "Train=489042_12<br>Start=%{base}<br>Finish=%{x}<br>Tâches=%{y}<extra></extra>",
         "legendgroup": "489042_12",
         "marker": {
          "color": "#19d3f3",
          "pattern": {
           "shape": ""
          }
         },
         "name": "489042_12",
         "orientation": "h",
         "showlegend": true,
         "textposition": "auto",
         "type": "bar",
         "x": {
          "bdata": "oLsNAOAyKQCguw0A",
          "dtype": "i4"
         },
         "xaxis": "x",
         "y": [
          "arr_1",
          "arr_2",
          "arr_3"
         ],
         "yaxis": "y"
        },
        {
         "base": [
          "2022-08-12T22:15:00.000000000",
          "2022-08-12T22:30:00.000000000",
          "2022-08-12T23:15:00.000000000"
         ],
         "hovertemplate": "Train=54234_12<br>Start=%{base}<br>Finish=%{x}<br>Tâches=%{y}<extra></extra>",
         "legendgroup": "54234_12",
         "marker": {
          "color": "#FF6692",
          "pattern": {
           "shape": ""
          }
         },
         "name": "54234_12",
         "orientation": "h",
         "showlegend": true,
         "textposition": "auto",
         "type": "bar",
         "x": {
          "bdata": "oLsNAOAyKQCguw0A",
          "dtype": "i4"
         },
         "xaxis": "x",
         "y": [
          "arr_1",
          "arr_2",
          "arr_3"
         ],
         "yaxis": "y"
        },
        {
         "base": [
          "2022-08-12T07:45:00.000000000",
          "2022-08-12T08:15:00.000000000",
          "2022-08-12T09:00:00.000000000"
         ],
         "hovertemplate": "Train=55396_12<br>Start=%{base}<br>Finish=%{x}<br>Tâches=%{y}<extra></extra>",
         "legendgroup": "55396_12",
         "marker": {
          "color": "#B6E880",
          "pattern": {
           "shape": ""
          }
         },
         "name": "55396_12",
         "orientation": "h",
         "showlegend": true,
         "textposition": "auto",
         "type": "bar",
         "x": {
          "bdata": "oLsNAOAyKQCguw0A",
          "dtype": "i4"
         },
         "xaxis": "x",
         "y": [
          "arr_1",
          "arr_2",
          "arr_3"
         ],
         "yaxis": "y"
        },
        {
         "base": [
          "2022-08-12T21:30:00.000000000",
          "2022-08-13T23:30:00.000000000",
          "2022-08-14T00:15:00.000000000"
         ],
         "hovertemplate": "Train=56135_12<br>Start=%{base}<br>Finish=%{x}<br>Tâches=%{y}<extra></extra>",
         "legendgroup": "56135_12",
         "marker": {
          "color": "#FF97FF",
          "pattern": {
           "shape": ""
          }
         },
         "name": "56135_12",
         "orientation": "h",
         "showlegend": true,
         "textposition": "auto",
         "type": "bar",
         "x": {
          "bdata": "oLsNAOAyKQCguw0A",
          "dtype": "i4"
         },
         "xaxis": "x",
         "y": [
          "arr_1",
          "arr_2",
          "arr_3"
         ],
         "yaxis": "y"
        },
        {
         "base": [
          "2022-08-12T02:45:00.000000000",
          "2022-08-12T03:00:00.000000000",
          "2022-08-12T03:45:00.000000000"
         ],
         "hovertemplate": "Train=56730_12<br>Start=%{base}<br>Finish=%{x}<br>Tâches=%{y}<extra></extra>",
         "legendgroup": "56730_12",
         "marker": {
          "color": "#FECB52",
          "pattern": {
           "shape": ""
          }
         },
         "name": "56730_12",
         "orientation": "h",
         "showlegend": true,
         "textposition": "auto",
         "type": "bar",
         "x": {
          "bdata": "oLsNAOAyKQCguw0A",
          "dtype": "i4"
         },
         "xaxis": "x",
         "y": [
          "arr_1",
          "arr_2",
          "arr_3"
         ],
         "yaxis": "y"
        },
        {
         "base": [
          "2022-08-12T21:15:00.000000000",
          "2022-08-12T21:30:00.000000000",
          "2022-08-12T22:15:00.000000000"
         ],
         "hovertemplate": "Train=58706_12<br>Start=%{base}<br>Finish=%{x}<br>Tâches=%{y}<extra></extra>",
         "legendgroup": "58706_12",
         "marker": {
          "color": "#636efa",
          "pattern": {
           "shape": ""
          }
         },
         "name": "58706_12",
         "orientation": "h",
         "showlegend": true,
         "textposition": "auto",
         "type": "bar",
         "x": {
          "bdata": "oLsNAOAyKQCguw0A",
          "dtype": "i4"
         },
         "xaxis": "x",
         "y": [
          "arr_1",
          "arr_2",
          "arr_3"
         ],
         "yaxis": "y"
        },
        {
         "base": [
          "2022-08-12T09:30:00.000000000",
          "2022-08-13T01:45:00.000000000",
          "2022-08-13T02:30:00.000000000"
         ],
         "hovertemplate": "Train=71270_12<br>Start=%{base}<br>Finish=%{x}<br>Tâches=%{y}<extra></extra>",
         "legendgroup": "71270_12",
         "marker": {
          "color": "#EF553B",
          "pattern": {
           "shape": ""
          }
         },
         "name": "71270_12",
         "orientation": "h",
         "showlegend": true,
         "textposition": "auto",
         "type": "bar",
         "x": {
          "bdata": "oLsNAOAyKQCguw0A",
          "dtype": "i4"
         },
         "xaxis": "x",
         "y": [
          "arr_1",
          "arr_2",
          "arr_3"
         ],
         "yaxis": "y"
        },
        {
         "base": [
          "2022-08-13T02:15:00.000000000",
          "2022-08-13T02:30:00.000000000",
          "2022-08-13T03:15:00.000000000"
         ],
         "hovertemplate": "Train=412023_13<br>Start=%{base}<br>Finish=%{x}<br>Tâches=%{y}<extra></extra>",
         "legendgroup": "412023_13",
         "marker": {
          "color": "#00cc96",
          "pattern": {
           "shape": ""
          }
         },
         "name": "412023_13",
         "orientation": "h",
         "showlegend": true,
         "textposition": "auto",
         "type": "bar",
         "x": {
          "bdata": "oLsNAOAyKQCguw0A",
          "dtype": "i4"
         },
         "xaxis": "x",
         "y": [
          "arr_1",
          "arr_2",
          "arr_3"
         ],
         "yaxis": "y"
        },
        {
         "base": [
          "2022-08-13T22:15:00.000000000",
          "2022-08-13T22:30:00.000000000",
          "2022-08-13T23:15:00.000000000"
         ],
         "hovertemplate": "Train=41230_13<br>Start=%{base}<br>Finish=%{x}<br>Tâches=%{y}<extra></extra>",
         "legendgroup": "41230_13",
         "marker": {
          "color": "#ab63fa",
          "pattern": {
           "shape": ""
          }
         },
         "name": "41230_13",
         "orientation": "h",
         "showlegend": true,
         "textposition": "auto",
         "type": "bar",
         "x": {
          "bdata": "oLsNAOAyKQCguw0A",
          "dtype": "i4"
         },
         "xaxis": "x",
         "y": [
          "arr_1",
          "arr_2",
          "arr_3"
         ],
         "yaxis": "y"
        },
        {
         "base": [
          "2022-08-13T05:15:00.000000000",
          "2022-08-13T05:30:00.000000000",
          "2022-08-13T06:15:00.000000000"
         ],
         "hovertemplate": "Train=431802_13<br>Start=%{base}<br>Finish=%{x}<br>Tâches=%{y}<extra></extra>",
         "legendgroup": "431802_13",
         "marker": {
          "color": "#FFA15A",
          "pattern": {
           "shape": ""
          }
         },
         "name": "431802_13",
         "orientation": "h",
         "showlegend": true,
         "textposition": "auto",
         "type": "bar",
         "x": {
          "bdata": "oLsNAOAyKQCguw0A",
          "dtype": "i4"
         },
         "xaxis": "x",
         "y": [
          "arr_1",
          "arr_2",
          "arr_3"
         ],
         "yaxis": "y"
        },
        {
         "base": [
          "2022-08-13T19:45:00.000000000",
          "2022-08-13T20:45:00.000000000",
          "2022-08-13T21:30:00.000000000"
         ],
         "hovertemplate": "Train=44222_13<br>Start=%{base}<br>Finish=%{x}<br>Tâches=%{y}<extra></extra>",
         "legendgroup": "44222_13",
         "marker": {
          "color": "#19d3f3",
          "pattern": {
           "shape": ""
          }
         },
         "name": "44222_13",
         "orientation": "h",
         "showlegend": true,
         "textposition": "auto",
         "type": "bar",
         "x": {
          "bdata": "oLsNAOAyKQCguw0A",
          "dtype": "i4"
         },
         "xaxis": "x",
         "y": [
          "arr_1",
          "arr_2",
          "arr_3"
         ],
         "yaxis": "y"
        },
        {
         "base": [
          "2022-08-13T01:15:00.000000000",
          "2022-08-13T23:15:00.000000000",
          "2022-08-14T00:00:00.000000000"
         ],
         "hovertemplate": "Train=44228_13<br>Start=%{base}<br>Finish=%{x}<br>Tâches=%{y}<extra></extra>",
         "legendgroup": "44228_13",
         "marker": {
          "color": "#FF6692",
          "pattern": {
           "shape": ""
          }
         },
         "name": "44228_13",
         "orientation": "h",
         "showlegend": true,
         "textposition": "auto",
         "type": "bar",
         "x": {
          "bdata": "oLsNAOAyKQCguw0A",
          "dtype": "i4"
         },
         "xaxis": "x",
         "y": [
          "arr_1",
          "arr_2",
          "arr_3"
         ],
         "yaxis": "y"
        },
        {
         "base": [
          "2022-08-13T10:45:00.000000000",
          "2022-08-13T22:45:00.000000000",
          "2022-08-13T23:30:00.000000000"
         ],
         "hovertemplate": "Train=44250_13<br>Start=%{base}<br>Finish=%{x}<br>Tâches=%{y}<extra></extra>",
         "legendgroup": "44250_13",
         "marker": {
          "color": "#B6E880",
          "pattern": {
           "shape": ""
          }
         },
         "name": "44250_13",
         "orientation": "h",
         "showlegend": true,
         "textposition": "auto",
         "type": "bar",
         "x": {
          "bdata": "oLsNAOAyKQCguw0A",
          "dtype": "i4"
         },
         "xaxis": "x",
         "y": [
          "arr_1",
          "arr_2",
          "arr_3"
         ],
         "yaxis": "y"
        },
        {
         "base": [
          "2022-08-13T19:45:00.000000000",
          "2022-08-13T20:30:00.000000000",
          "2022-08-13T21:15:00.000000000"
         ],
         "hovertemplate": "Train=44864_13<br>Start=%{base}<br>Finish=%{x}<br>Tâches=%{y}<extra></extra>",
         "legendgroup": "44864_13",
         "marker": {
          "color": "#FF97FF",
          "pattern": {
           "shape": ""
          }
         },
         "name": "44864_13",
         "orientation": "h",
         "showlegend": true,
         "textposition": "auto",
         "type": "bar",
         "x": {
          "bdata": "oLsNAOAyKQCguw0A",
          "dtype": "i4"
         },
         "xaxis": "x",
         "y": [
          "arr_1",
          "arr_2",
          "arr_3"
         ],
         "yaxis": "y"
        },
        {
         "base": [
          "2022-08-13T12:00:00.000000000",
          "2022-08-13T20:15:00.000000000",
          "2022-08-13T21:00:00.000000000"
         ],
         "hovertemplate": "Train=450235_13<br>Start=%{base}<br>Finish=%{x}<br>Tâches=%{y}<extra></extra>",
         "legendgroup": "450235_13",
         "marker": {
          "color": "#FECB52",
          "pattern": {
           "shape": ""
          }
         },
         "name": "450235_13",
         "orientation": "h",
         "showlegend": true,
         "textposition": "auto",
         "type": "bar",
         "x": {
          "bdata": "oLsNAOAyKQCguw0A",
          "dtype": "i4"
         },
         "xaxis": "x",
         "y": [
          "arr_1",
          "arr_2",
          "arr_3"
         ],
         "yaxis": "y"
        },
        {
         "base": [
          "2022-08-13T02:00:00.000000000",
          "2022-08-13T02:15:00.000000000",
          "2022-08-13T03:00:00.000000000"
         ],
         "hovertemplate": "Train=47240_13<br>Start=%{base}<br>Finish=%{x}<br>Tâches=%{y}<extra></extra>",
         "legendgroup": "47240_13",
         "marker": {
          "color": "#636efa",
          "pattern": {
           "shape": ""
          }
         },
         "name": "47240_13",
         "orientation": "h",
         "showlegend": true,
         "textposition": "auto",
         "type": "bar",
         "x": {
          "bdata": "oLsNAOAyKQCguw0A",
          "dtype": "i4"
         },
         "xaxis": "x",
         "y": [
          "arr_1",
          "arr_2",
          "arr_3"
         ],
         "yaxis": "y"
        },
        {
         "base": [
          "2022-08-13T09:30:00.000000000",
          "2022-08-13T23:00:00.000000000",
          "2022-08-13T23:45:00.000000000"
         ],
         "hovertemplate": "Train=47262_13<br>Start=%{base}<br>Finish=%{x}<br>Tâches=%{y}<extra></extra>",
         "legendgroup": "47262_13",
         "marker": {
          "color": "#EF553B",
          "pattern": {
           "shape": ""
          }
         },
         "name": "47262_13",
         "orientation": "h",
         "showlegend": true,
         "textposition": "auto",
         "type": "bar",
         "x": {
          "bdata": "oLsNAOAyKQCguw0A",
          "dtype": "i4"
         },
         "xaxis": "x",
         "y": [
          "arr_1",
          "arr_2",
          "arr_3"
         ],
         "yaxis": "y"
        },
        {
         "base": [
          "2022-08-13T19:45:00.000000000",
          "2022-08-13T21:00:00.000000000",
          "2022-08-13T21:45:00.000000000"
         ],
         "hovertemplate": "Train=47822_13<br>Start=%{base}<br>Finish=%{x}<br>Tâches=%{y}<extra></extra>",
         "legendgroup": "47822_13",
         "marker": {
          "color": "#00cc96",
          "pattern": {
           "shape": ""
          }
         },
         "name": "47822_13",
         "orientation": "h",
         "showlegend": true,
         "textposition": "auto",
         "type": "bar",
         "x": {
          "bdata": "oLsNAOAyKQCguw0A",
          "dtype": "i4"
         },
         "xaxis": "x",
         "y": [
          "arr_1",
          "arr_2",
          "arr_3"
         ],
         "yaxis": "y"
        },
        {
         "base": [
          "2022-08-13T11:45:00.000000000",
          "2022-08-13T12:00:00.000000000",
          "2022-08-13T12:45:00.000000000"
         ],
         "hovertemplate": "Train=489026_13<br>Start=%{base}<br>Finish=%{x}<br>Tâches=%{y}<extra></extra>",
         "legendgroup": "489026_13",
         "marker": {
          "color": "#ab63fa",
          "pattern": {
           "shape": ""
          }
         },
         "name": "489026_13",
         "orientation": "h",
         "showlegend": true,
         "textposition": "auto",
         "type": "bar",
         "x": {
          "bdata": "oLsNAOAyKQCguw0A",
          "dtype": "i4"
         },
         "xaxis": "x",
         "y": [
          "arr_1",
          "arr_2",
          "arr_3"
         ],
         "yaxis": "y"
        },
        {
         "base": [
          "2022-08-13T22:15:00.000000000",
          "2022-08-13T23:45:00.000000000",
          "2022-08-14T00:30:00.000000000"
         ],
         "hovertemplate": "Train=54234_13<br>Start=%{base}<br>Finish=%{x}<br>Tâches=%{y}<extra></extra>",
         "legendgroup": "54234_13",
         "marker": {
          "color": "#FFA15A",
          "pattern": {
           "shape": ""
          }
         },
         "name": "54234_13",
         "orientation": "h",
         "showlegend": true,
         "textposition": "auto",
         "type": "bar",
         "x": {
          "bdata": "oLsNAOAyKQCguw0A",
          "dtype": "i4"
         },
         "xaxis": "x",
         "y": [
          "arr_1",
          "arr_2",
          "arr_3"
         ],
         "yaxis": "y"
        },
        {
         "base": [
          "2022-08-14T00:00:00.000000000",
          "2022-08-14T08:45:00.000000000",
          "2022-08-14T09:30:00.000000000"
         ],
         "hovertemplate": "Train=55390_13<br>Start=%{base}<br>Finish=%{x}<br>Tâches=%{y}<extra></extra>",
         "legendgroup": "55390_13",
         "marker": {
          "color": "#19d3f3",
          "pattern": {
           "shape": ""
          }
         },
         "name": "55390_13",
         "orientation": "h",
         "showlegend": true,
         "textposition": "auto",
         "type": "bar",
         "x": {
          "bdata": "oLsNAOAyKQCguw0A",
          "dtype": "i4"
         },
         "xaxis": "x",
         "y": [
          "arr_1",
          "arr_2",
          "arr_3"
         ],
         "yaxis": "y"
        },
        {
         "base": [
          "2022-08-13T07:45:00.000000000",
          "2022-08-13T08:00:00.000000000",
          "2022-08-13T08:45:00.000000000"
         ],
         "hovertemplate": "Train=55396_13<br>Start=%{base}<br>Finish=%{x}<br>Tâches=%{y}<extra></extra>",
         "legendgroup": "55396_13",
         "marker": {
          "color": "#FF6692",
          "pattern": {
           "shape": ""
          }
         },
         "name": "55396_13",
         "orientation": "h",
         "showlegend": true,
         "textposition": "auto",
         "type": "bar",
         "x": {
          "bdata": "oLsNAOAyKQCguw0A",
          "dtype": "i4"
         },
         "xaxis": "x",
         "y": [
          "arr_1",
          "arr_2",
          "arr_3"
         ],
         "yaxis": "y"
        },
        {
         "base": [
          "2022-08-13T21:30:00.000000000",
          "2022-08-13T22:15:00.000000000",
          "2022-08-13T23:00:00.000000000"
         ],
         "hovertemplate": "Train=56135_13<br>Start=%{base}<br>Finish=%{x}<br>Tâches=%{y}<extra></extra>",
         "legendgroup": "56135_13",
         "marker": {
          "color": "#B6E880",
          "pattern": {
           "shape": ""
          }
         },
         "name": "56135_13",
         "orientation": "h",
         "showlegend": true,
         "textposition": "auto",
         "type": "bar",
         "x": {
          "bdata": "oLsNAOAyKQCguw0A",
          "dtype": "i4"
         },
         "xaxis": "x",
         "y": [
          "arr_1",
          "arr_2",
          "arr_3"
         ],
         "yaxis": "y"
        },
        {
         "base": [
          "2022-08-13T02:45:00.000000000",
          "2022-08-13T03:00:00.000000000",
          "2022-08-13T03:45:00.000000000"
         ],
         "hovertemplate": "Train=56730_13<br>Start=%{base}<br>Finish=%{x}<br>Tâches=%{y}<extra></extra>",
         "legendgroup": "56730_13",
         "marker": {
          "color": "#FF97FF",
          "pattern": {
           "shape": ""
          }
         },
         "name": "56730_13",
         "orientation": "h",
         "showlegend": true,
         "textposition": "auto",
         "type": "bar",
         "x": {
          "bdata": "oLsNAOAyKQCguw0A",
          "dtype": "i4"
         },
         "xaxis": "x",
         "y": [
          "arr_1",
          "arr_2",
          "arr_3"
         ],
         "yaxis": "y"
        },
        {
         "base": [
          "2022-08-13T21:15:00.000000000",
          "2022-08-13T21:30:00.000000000",
          "2022-08-13T22:15:00.000000000"
         ],
         "hovertemplate": "Train=58706_13<br>Start=%{base}<br>Finish=%{x}<br>Tâches=%{y}<extra></extra>",
         "legendgroup": "58706_13",
         "marker": {
          "color": "#FECB52",
          "pattern": {
           "shape": ""
          }
         },
         "name": "58706_13",
         "orientation": "h",
         "showlegend": true,
         "textposition": "auto",
         "type": "bar",
         "x": {
          "bdata": "oLsNAOAyKQCguw0A",
          "dtype": "i4"
         },
         "xaxis": "x",
         "y": [
          "arr_1",
          "arr_2",
          "arr_3"
         ],
         "yaxis": "y"
        },
        {
         "base": [
          "2022-08-14T02:45:00.000000000",
          "2022-08-14T03:00:00.000000000",
          "2022-08-14T03:45:00.000000000"
         ],
         "hovertemplate": "Train=56730_14<br>Start=%{base}<br>Finish=%{x}<br>Tâches=%{y}<extra></extra>",
         "legendgroup": "56730_14",
         "marker": {
          "color": "#636efa",
          "pattern": {
           "shape": ""
          }
         },
         "name": "56730_14",
         "orientation": "h",
         "showlegend": true,
         "textposition": "auto",
         "type": "bar",
         "x": {
          "bdata": "oLsNAOAyKQCguw0A",
          "dtype": "i4"
         },
         "xaxis": "x",
         "y": [
          "arr_1",
          "arr_2",
          "arr_3"
         ],
         "yaxis": "y"
        },
        {
         "base": [
          "2022-08-09T04:30:00.000000000",
          "2022-08-09T04:45:00.000000000",
          "2022-08-09T07:15:00.000000000",
          "2022-08-09T07:30:00.000000000"
         ],
         "hovertemplate": "Train=400006_09<br>Start=%{base}<br>Finish=%{x}<br>Tâches=%{y}<extra></extra>",
         "legendgroup": "400006_09",
         "marker": {
          "color": "#EF553B",
          "pattern": {
           "shape": ""
          }
         },
         "name": "400006_09",
         "orientation": "h",
         "showlegend": true,
         "textposition": "auto",
         "type": "bar",
         "x": {
          "bdata": "oLsNAEBUiQCguw0AgE8SAA==",
          "dtype": "i4"
         },
         "xaxis": "x",
         "y": [
          "dep_1",
          "dep_2",
          "dep_3",
          "dep_4"
         ],
         "yaxis": "y"
        },
        {
         "base": [
          "2022-08-09T05:15:00.000000000",
          "2022-08-09T05:30:00.000000000",
          "2022-08-09T08:00:00.000000000",
          "2022-08-09T08:15:00.000000000"
         ],
         "hovertemplate": "Train=400016_09<br>Start=%{base}<br>Finish=%{x}<br>Tâches=%{y}<extra></extra>",
         "legendgroup": "400016_09",
         "marker": {
          "color": "#00cc96",
          "pattern": {
           "shape": ""
          }
         },
         "name": "400016_09",
         "orientation": "h",
         "showlegend": true,
         "textposition": "auto",
         "type": "bar",
         "x": {
          "bdata": "oLsNAEBUiQCguw0AgE8SAA==",
          "dtype": "i4"
         },
         "xaxis": "x",
         "y": [
          "dep_1",
          "dep_2",
          "dep_3",
          "dep_4"
         ],
         "yaxis": "y"
        },
        {
         "base": [
          "2022-08-09T17:30:00.000000000",
          "2022-08-09T17:45:00.000000000",
          "2022-08-09T20:15:00.000000000",
          "2022-08-09T20:30:00.000000000"
         ],
         "hovertemplate": "Train=400110_09<br>Start=%{base}<br>Finish=%{x}<br>Tâches=%{y}<extra></extra>",
         "legendgroup": "400110_09",
         "marker": {
          "color": "#ab63fa",
          "pattern": {
           "shape": ""
          }
         },
         "name": "400110_09",
         "orientation": "h",
         "showlegend": true,
         "textposition": "auto",
         "type": "bar",
         "x": {
          "bdata": "oLsNAEBUiQCguw0AgE8SAA==",
          "dtype": "i4"
         },
         "xaxis": "x",
         "y": [
          "dep_1",
          "dep_2",
          "dep_3",
          "dep_4"
         ],
         "yaxis": "y"
        },
        {
         "base": [
          "2022-08-09T11:30:00.000000000",
          "2022-08-09T11:45:00.000000000",
          "2022-08-09T14:15:00.000000000",
          "2022-08-09T14:30:00.000000000"
         ],
         "hovertemplate": "Train=431035_09<br>Start=%{base}<br>Finish=%{x}<br>Tâches=%{y}<extra></extra>",
         "legendgroup": "431035_09",
         "marker": {
          "color": "#FFA15A",
          "pattern": {
           "shape": ""
          }
         },
         "name": "431035_09",
         "orientation": "h",
         "showlegend": true,
         "textposition": "auto",
         "type": "bar",
         "x": {
          "bdata": "oLsNAEBUiQCguw0AgE8SAA==",
          "dtype": "i4"
         },
         "xaxis": "x",
         "y": [
          "dep_1",
          "dep_2",
          "dep_3",
          "dep_4"
         ],
         "yaxis": "y"
        },
        {
         "base": [
          "2022-08-09T02:30:00.000000000",
          "2022-08-09T02:45:00.000000000",
          "2022-08-09T05:15:00.000000000",
          "2022-08-09T05:30:00.000000000"
         ],
         "hovertemplate": "Train=431091_09<br>Start=%{base}<br>Finish=%{x}<br>Tâches=%{y}<extra></extra>",
         "legendgroup": "431091_09",
         "marker": {
          "color": "#19d3f3",
          "pattern": {
           "shape": ""
          }
         },
         "name": "431091_09",
         "orientation": "h",
         "showlegend": true,
         "textposition": "auto",
         "type": "bar",
         "x": {
          "bdata": "oLsNAEBUiQCguw0AgE8SAA==",
          "dtype": "i4"
         },
         "xaxis": "x",
         "y": [
          "dep_1",
          "dep_2",
          "dep_3",
          "dep_4"
         ],
         "yaxis": "y"
        },
        {
         "base": [
          "2022-08-09T04:15:00.000000000",
          "2022-08-09T04:30:00.000000000",
          "2022-08-09T07:00:00.000000000",
          "2022-08-09T07:15:00.000000000"
         ],
         "hovertemplate": "Train=44203_09<br>Start=%{base}<br>Finish=%{x}<br>Tâches=%{y}<extra></extra>",
         "legendgroup": "44203_09",
         "marker": {
          "color": "#FF6692",
          "pattern": {
           "shape": ""
          }
         },
         "name": "44203_09",
         "orientation": "h",
         "showlegend": true,
         "textposition": "auto",
         "type": "bar",
         "x": {
          "bdata": "oLsNAEBUiQCguw0AgE8SAA==",
          "dtype": "i4"
         },
         "xaxis": "x",
         "y": [
          "dep_1",
          "dep_2",
          "dep_3",
          "dep_4"
         ],
         "yaxis": "y"
        },
        {
         "base": [
          "2022-08-08T13:15:00.000000000",
          "2022-08-08T13:30:00.000000000",
          "2022-08-08T16:00:00.000000000",
          "2022-08-09T01:45:00.000000000"
         ],
         "hovertemplate": "Train=44241_09<br>Start=%{base}<br>Finish=%{x}<br>Tâches=%{y}<extra></extra>",
         "legendgroup": "44241_09",
         "marker": {
          "color": "#B6E880",
          "pattern": {
           "shape": ""
          }
         },
         "name": "44241_09",
         "orientation": "h",
         "showlegend": true,
         "textposition": "auto",
         "type": "bar",
         "x": {
          "bdata": "oLsNAEBUiQCguw0AgE8SAA==",
          "dtype": "i4"
         },
         "xaxis": "x",
         "y": [
          "dep_1",
          "dep_2",
          "dep_3",
          "dep_4"
         ],
         "yaxis": "y"
        },
        {
         "base": [
          "2022-08-08T13:45:00.000000000",
          "2022-08-08T14:00:00.000000000",
          "2022-08-08T16:30:00.000000000",
          "2022-08-09T01:45:00.000000000"
         ],
         "hovertemplate": "Train=44249_09<br>Start=%{base}<br>Finish=%{x}<br>Tâches=%{y}<extra></extra>",
         "legendgroup": "44249_09",
         "marker": {
          "color": "#FF97FF",
          "pattern": {
           "shape": ""
          }
         },
         "name": "44249_09",
         "orientation": "h",
         "showlegend": true,
         "textposition": "auto",
         "type": "bar",
         "x": {
          "bdata": "oLsNAEBUiQCguw0AgE8SAA==",
          "dtype": "i4"
         },
         "xaxis": "x",
         "y": [
          "dep_1",
          "dep_2",
          "dep_3",
          "dep_4"
         ],
         "yaxis": "y"
        },
        {
         "base": [
          "2022-08-08T14:45:00.000000000",
          "2022-08-08T15:00:00.000000000",
          "2022-08-08T17:30:00.000000000",
          "2022-08-09T01:45:00.000000000"
         ],
         "hovertemplate": "Train=44806_09<br>Start=%{base}<br>Finish=%{x}<br>Tâches=%{y}<extra></extra>",
         "legendgroup": "44806_09",
         "marker": {
          "color": "#FECB52",
          "pattern": {
           "shape": ""
          }
         },
         "name": "44806_09",
         "orientation": "h",
         "showlegend": true,
         "textposition": "auto",
         "type": "bar",
         "x": {
          "bdata": "oLsNAEBUiQCguw0AgE8SAA==",
          "dtype": "i4"
         },
         "xaxis": "x",
         "y": [
          "dep_1",
          "dep_2",
          "dep_3",
          "dep_4"
         ],
         "yaxis": "y"
        },
        {
         "base": [
          "2022-08-08T22:45:00.000000000",
          "2022-08-08T23:00:00.000000000",
          "2022-08-09T01:30:00.000000000",
          "2022-08-09T01:45:00.000000000"
         ],
         "hovertemplate": "Train=47245_09<br>Start=%{base}<br>Finish=%{x}<br>Tâches=%{y}<extra></extra>",
         "legendgroup": "47245_09",
         "marker": {
          "color": "#636efa",
          "pattern": {
           "shape": ""
          }
         },
         "name": "47245_09",
         "orientation": "h",
         "showlegend": true,
         "textposition": "auto",
         "type": "bar",
         "x": {
          "bdata": "oLsNAEBUiQCguw0AgE8SAA==",
          "dtype": "i4"
         },
         "xaxis": "x",
         "y": [
          "dep_1",
          "dep_2",
          "dep_3",
          "dep_4"
         ],
         "yaxis": "y"
        },
        {
         "base": [
          "2022-08-09T01:00:00.000000000",
          "2022-08-09T01:15:00.000000000",
          "2022-08-09T03:45:00.000000000",
          "2022-08-09T04:00:00.000000000"
         ],
         "hovertemplate": "Train=47289_09<br>Start=%{base}<br>Finish=%{x}<br>Tâches=%{y}<extra></extra>",
         "legendgroup": "47289_09",
         "marker": {
          "color": "#EF553B",
          "pattern": {
           "shape": ""
          }
         },
         "name": "47289_09",
         "orientation": "h",
         "showlegend": true,
         "textposition": "auto",
         "type": "bar",
         "x": {
          "bdata": "oLsNAEBUiQCguw0AgE8SAA==",
          "dtype": "i4"
         },
         "xaxis": "x",
         "y": [
          "dep_1",
          "dep_2",
          "dep_3",
          "dep_4"
         ],
         "yaxis": "y"
        },
        {
         "base": [
          "2022-08-09T11:00:00.000000000",
          "2022-08-09T11:15:00.000000000",
          "2022-08-09T13:45:00.000000000",
          "2022-08-09T22:00:00.000000000"
         ],
         "hovertemplate": "Train=47821_09<br>Start=%{base}<br>Finish=%{x}<br>Tâches=%{y}<extra></extra>",
         "legendgroup": "47821_09",
         "marker": {
          "color": "#00cc96",
          "pattern": {
           "shape": ""
          }
         },
         "name": "47821_09",
         "orientation": "h",
         "showlegend": true,
         "textposition": "auto",
         "type": "bar",
         "x": {
          "bdata": "oLsNAEBUiQCguw0AgE8SAA==",
          "dtype": "i4"
         },
         "xaxis": "x",
         "y": [
          "dep_1",
          "dep_2",
          "dep_3",
          "dep_4"
         ],
         "yaxis": "y"
        },
        {
         "base": [
          "2022-08-09T02:45:00.000000000",
          "2022-08-09T03:00:00.000000000",
          "2022-08-09T05:30:00.000000000",
          "2022-08-09T05:45:00.000000000"
         ],
         "hovertemplate": "Train=489447_09<br>Start=%{base}<br>Finish=%{x}<br>Tâches=%{y}<extra></extra>",
         "legendgroup": "489447_09",
         "marker": {
          "color": "#ab63fa",
          "pattern": {
           "shape": ""
          }
         },
         "name": "489447_09",
         "orientation": "h",
         "showlegend": true,
         "textposition": "auto",
         "type": "bar",
         "x": {
          "bdata": "oLsNAEBUiQCguw0AgE8SAA==",
          "dtype": "i4"
         },
         "xaxis": "x",
         "y": [
          "dep_1",
          "dep_2",
          "dep_3",
          "dep_4"
         ],
         "yaxis": "y"
        },
        {
         "base": [
          "2022-08-09T03:45:00.000000000",
          "2022-08-09T04:00:00.000000000",
          "2022-08-09T06:30:00.000000000",
          "2022-08-09T07:00:00.000000000"
         ],
         "hovertemplate": "Train=52672_09<br>Start=%{base}<br>Finish=%{x}<br>Tâches=%{y}<extra></extra>",
         "legendgroup": "52672_09",
         "marker": {
          "color": "#FFA15A",
          "pattern": {
           "shape": ""
          }
         },
         "name": "52672_09",
         "orientation": "h",
         "showlegend": true,
         "textposition": "auto",
         "type": "bar",
         "x": {
          "bdata": "oLsNAEBUiQCguw0AgE8SAA==",
          "dtype": "i4"
         },
         "xaxis": "x",
         "y": [
          "dep_1",
          "dep_2",
          "dep_3",
          "dep_4"
         ],
         "yaxis": "y"
        },
        {
         "base": [
          "2022-08-08T23:00:00.000000000",
          "2022-08-08T23:15:00.000000000",
          "2022-08-09T01:45:00.000000000",
          "2022-08-09T02:00:00.000000000"
         ],
         "hovertemplate": "Train=54003_09<br>Start=%{base}<br>Finish=%{x}<br>Tâches=%{y}<extra></extra>",
         "legendgroup": "54003_09",
         "marker": {
          "color": "#19d3f3",
          "pattern": {
           "shape": ""
          }
         },
         "name": "54003_09",
         "orientation": "h",
         "showlegend": true,
         "textposition": "auto",
         "type": "bar",
         "x": {
          "bdata": "oLsNAEBUiQCguw0AgE8SAA==",
          "dtype": "i4"
         },
         "xaxis": "x",
         "y": [
          "dep_1",
          "dep_2",
          "dep_3",
          "dep_4"
         ],
         "yaxis": "y"
        },
        {
         "base": [
          "2022-08-08T13:30:00.000000000",
          "2022-08-08T13:45:00.000000000",
          "2022-08-08T16:15:00.000000000",
          "2022-08-09T01:45:00.000000000"
         ],
         "hovertemplate": "Train=54051_09<br>Start=%{base}<br>Finish=%{x}<br>Tâches=%{y}<extra></extra>",
         "legendgroup": "54051_09",
         "marker": {
          "color": "#FF6692",
          "pattern": {
           "shape": ""
          }
         },
         "name": "54051_09",
         "orientation": "h",
         "showlegend": true,
         "textposition": "auto",
         "type": "bar",
         "x": {
          "bdata": "oLsNAEBUiQCguw0AgE8SAA==",
          "dtype": "i4"
         },
         "xaxis": "x",
         "y": [
          "dep_1",
          "dep_2",
          "dep_3",
          "dep_4"
         ],
         "yaxis": "y"
        },
        {
         "base": [
          "2022-08-08T14:00:00.000000000",
          "2022-08-08T14:15:00.000000000",
          "2022-08-08T16:45:00.000000000",
          "2022-08-09T01:45:00.000000000"
         ],
         "hovertemplate": "Train=54086_09<br>Start=%{base}<br>Finish=%{x}<br>Tâches=%{y}<extra></extra>",
         "legendgroup": "54086_09",
         "marker": {
          "color": "#B6E880",
          "pattern": {
           "shape": ""
          }
         },
         "name": "54086_09",
         "orientation": "h",
         "showlegend": true,
         "textposition": "auto",
         "type": "bar",
         "x": {
          "bdata": "oLsNAEBUiQCguw0AgE8SAA==",
          "dtype": "i4"
         },
         "xaxis": "x",
         "y": [
          "dep_1",
          "dep_2",
          "dep_3",
          "dep_4"
         ],
         "yaxis": "y"
        },
        {
         "base": [
          "2022-08-09T05:30:00.000000000",
          "2022-08-09T05:45:00.000000000",
          "2022-08-09T08:15:00.000000000",
          "2022-08-09T08:30:00.000000000"
         ],
         "hovertemplate": "Train=54231_09<br>Start=%{base}<br>Finish=%{x}<br>Tâches=%{y}<extra></extra>",
         "legendgroup": "54231_09",
         "marker": {
          "color": "#FF97FF",
          "pattern": {
           "shape": ""
          }
         },
         "name": "54231_09",
         "orientation": "h",
         "showlegend": true,
         "textposition": "auto",
         "type": "bar",
         "x": {
          "bdata": "oLsNAEBUiQCguw0AgE8SAA==",
          "dtype": "i4"
         },
         "xaxis": "x",
         "y": [
          "dep_1",
          "dep_2",
          "dep_3",
          "dep_4"
         ],
         "yaxis": "y"
        },
        {
         "base": [
          "2022-08-09T23:45:00.000000000",
          "2022-08-10T00:00:00.000000000",
          "2022-08-10T02:30:00.000000000",
          "2022-08-10T02:45:00.000000000"
         ],
         "hovertemplate": "Train=450226_10<br>Start=%{base}<br>Finish=%{x}<br>Tâches=%{y}<extra></extra>",
         "legendgroup": "450226_10",
         "marker": {
          "color": "#FECB52",
          "pattern": {
           "shape": ""
          }
         },
         "name": "450226_10",
         "orientation": "h",
         "showlegend": true,
         "textposition": "auto",
         "type": "bar",
         "x": {
          "bdata": "oLsNAEBUiQCguw0AgE8SAA==",
          "dtype": "i4"
         },
         "xaxis": "x",
         "y": [
          "dep_1",
          "dep_2",
          "dep_3",
          "dep_4"
         ],
         "yaxis": "y"
        },
        {
         "base": [
          "2022-08-10T16:15:00.000000000",
          "2022-08-10T16:30:00.000000000",
          "2022-08-10T19:00:00.000000000",
          "2022-08-10T19:15:00.000000000"
         ],
         "hovertemplate": "Train=400014_10<br>Start=%{base}<br>Finish=%{x}<br>Tâches=%{y}<extra></extra>",
         "legendgroup": "400014_10",
         "marker": {
          "color": "#636efa",
          "pattern": {
           "shape": ""
          }
         },
         "name": "400014_10",
         "orientation": "h",
         "showlegend": true,
         "textposition": "auto",
         "type": "bar",
         "x": {
          "bdata": "oLsNAEBUiQCguw0AgE8SAA==",
          "dtype": "i4"
         },
         "xaxis": "x",
         "y": [
          "dep_1",
          "dep_2",
          "dep_3",
          "dep_4"
         ],
         "yaxis": "y"
        },
        {
         "base": [
          "2022-08-09T04:00:00.000000000",
          "2022-08-09T04:15:00.000000000",
          "2022-08-09T06:45:00.000000000",
          "2022-08-09T07:00:00.000000000"
         ],
         "hovertemplate": "Train=412124_10<br>Start=%{base}<br>Finish=%{x}<br>Tâches=%{y}<extra></extra>",
         "legendgroup": "412124_10",
         "marker": {
          "color": "#EF553B",
          "pattern": {
           "shape": ""
          }
         },
         "name": "412124_10",
         "orientation": "h",
         "showlegend": true,
         "textposition": "auto",
         "type": "bar",
         "x": {
          "bdata": "oLsNAEBUiQCguw0AgE8SAA==",
          "dtype": "i4"
         },
         "xaxis": "x",
         "y": [
          "dep_1",
          "dep_2",
          "dep_3",
          "dep_4"
         ],
         "yaxis": "y"
        },
        {
         "base": [
          "2022-08-09T03:30:00.000000000",
          "2022-08-09T03:45:00.000000000",
          "2022-08-09T06:15:00.000000000",
          "2022-08-09T07:00:00.000000000"
         ],
         "hovertemplate": "Train=41258_10<br>Start=%{base}<br>Finish=%{x}<br>Tâches=%{y}<extra></extra>",
         "legendgroup": "41258_10",
         "marker": {
          "color": "#00cc96",
          "pattern": {
           "shape": ""
          }
         },
         "name": "41258_10",
         "orientation": "h",
         "showlegend": true,
         "textposition": "auto",
         "type": "bar",
         "x": {
          "bdata": "oLsNAEBUiQCguw0AgE8SAA==",
          "dtype": "i4"
         },
         "xaxis": "x",
         "y": [
          "dep_1",
          "dep_2",
          "dep_3",
          "dep_4"
         ],
         "yaxis": "y"
        },
        {
         "base": [
          "2022-08-10T04:15:00.000000000",
          "2022-08-10T04:30:00.000000000",
          "2022-08-10T07:00:00.000000000",
          "2022-08-10T07:15:00.000000000"
         ],
         "hovertemplate": "Train=431035_10<br>Start=%{base}<br>Finish=%{x}<br>Tâches=%{y}<extra></extra>",
         "legendgroup": "431035_10",
         "marker": {
          "color": "#ab63fa",
          "pattern": {
           "shape": ""
          }
         },
         "name": "431035_10",
         "orientation": "h",
         "showlegend": true,
         "textposition": "auto",
         "type": "bar",
         "x": {
          "bdata": "oLsNAEBUiQCguw0AgE8SAA==",
          "dtype": "i4"
         },
         "xaxis": "x",
         "y": [
          "dep_1",
          "dep_2",
          "dep_3",
          "dep_4"
         ],
         "yaxis": "y"
        },
        {
         "base": [
          "2022-08-10T01:15:00.000000000",
          "2022-08-10T01:30:00.000000000",
          "2022-08-10T04:00:00.000000000",
          "2022-08-10T05:45:00.000000000"
         ],
         "hovertemplate": "Train=431091_10<br>Start=%{base}<br>Finish=%{x}<br>Tâches=%{y}<extra></extra>",
         "legendgroup": "431091_10",
         "marker": {
          "color": "#FFA15A",
          "pattern": {
           "shape": ""
          }
         },
         "name": "431091_10",
         "orientation": "h",
         "showlegend": true,
         "textposition": "auto",
         "type": "bar",
         "x": {
          "bdata": "oLsNAEBUiQCguw0AgE8SAA==",
          "dtype": "i4"
         },
         "xaxis": "x",
         "y": [
          "dep_1",
          "dep_2",
          "dep_3",
          "dep_4"
         ],
         "yaxis": "y"
        },
        {
         "base": [
          "2022-08-10T00:00:00.000000000",
          "2022-08-10T00:15:00.000000000",
          "2022-08-10T02:45:00.000000000",
          "2022-08-10T06:30:00.000000000"
         ],
         "hovertemplate": "Train=44203_10<br>Start=%{base}<br>Finish=%{x}<br>Tâches=%{y}<extra></extra>",
         "legendgroup": "44203_10",
         "marker": {
          "color": "#19d3f3",
          "pattern": {
           "shape": ""
          }
         },
         "name": "44203_10",
         "orientation": "h",
         "showlegend": true,
         "textposition": "auto",
         "type": "bar",
         "x": {
          "bdata": "oLsNAEBUiQCguw0AgE8SAA==",
          "dtype": "i4"
         },
         "xaxis": "x",
         "y": [
          "dep_1",
          "dep_2",
          "dep_3",
          "dep_4"
         ],
         "yaxis": "y"
        },
        {
         "base": [
          "2022-08-09T23:30:00.000000000",
          "2022-08-09T23:45:00.000000000",
          "2022-08-10T02:15:00.000000000",
          "2022-08-10T02:30:00.000000000"
         ],
         "hovertemplate": "Train=44241_10<br>Start=%{base}<br>Finish=%{x}<br>Tâches=%{y}<extra></extra>",
         "legendgroup": "44241_10",
         "marker": {
          "color": "#FF6692",
          "pattern": {
           "shape": ""
          }
         },
         "name": "44241_10",
         "orientation": "h",
         "showlegend": true,
         "textposition": "auto",
         "type": "bar",
         "x": {
          "bdata": "oLsNAEBUiQCguw0AgE8SAA==",
          "dtype": "i4"
         },
         "xaxis": "x",
         "y": [
          "dep_1",
          "dep_2",
          "dep_3",
          "dep_4"
         ],
         "yaxis": "y"
        },
        {
         "base": [
          "2022-08-09T14:00:00.000000000",
          "2022-08-09T14:15:00.000000000",
          "2022-08-09T16:45:00.000000000",
          "2022-08-10T01:15:00.000000000"
         ],
         "hovertemplate": "Train=44249_10<br>Start=%{base}<br>Finish=%{x}<br>Tâches=%{y}<extra></extra>",
         "legendgroup": "44249_10",
         "marker": {
          "color": "#B6E880",
          "pattern": {
           "shape": ""
          }
         },
         "name": "44249_10",
         "orientation": "h",
         "showlegend": true,
         "textposition": "auto",
         "type": "bar",
         "x": {
          "bdata": "oLsNAEBUiQCguw0AgE8SAA==",
          "dtype": "i4"
         },
         "xaxis": "x",
         "y": [
          "dep_1",
          "dep_2",
          "dep_3",
          "dep_4"
         ],
         "yaxis": "y"
        },
        {
         "base": [
          "2022-08-10T09:00:00.000000000",
          "2022-08-10T09:15:00.000000000",
          "2022-08-10T11:45:00.000000000",
          "2022-08-10T13:45:00.000000000"
         ],
         "hovertemplate": "Train=47205_10<br>Start=%{base}<br>Finish=%{x}<br>Tâches=%{y}<extra></extra>",
         "legendgroup": "47205_10",
         "marker": {
          "color": "#FF97FF",
          "pattern": {
           "shape": ""
          }
         },
         "name": "47205_10",
         "orientation": "h",
         "showlegend": true,
         "textposition": "auto",
         "type": "bar",
         "x": {
          "bdata": "oLsNAEBUiQCguw0AgE8SAA==",
          "dtype": "i4"
         },
         "xaxis": "x",
         "y": [
          "dep_1",
          "dep_2",
          "dep_3",
          "dep_4"
         ],
         "yaxis": "y"
        },
        {
         "base": [
          "2022-08-10T12:45:00.000000000",
          "2022-08-10T13:00:00.000000000",
          "2022-08-10T15:30:00.000000000",
          "2022-08-10T15:45:00.000000000"
         ],
         "hovertemplate": "Train=48215_10<br>Start=%{base}<br>Finish=%{x}<br>Tâches=%{y}<extra></extra>",
         "legendgroup": "48215_10",
         "marker": {
          "color": "#FECB52",
          "pattern": {
           "shape": ""
          }
         },
         "name": "48215_10",
         "orientation": "h",
         "showlegend": true,
         "textposition": "auto",
         "type": "bar",
         "x": {
          "bdata": "oLsNAEBUiQCguw0AgE8SAA==",
          "dtype": "i4"
         },
         "xaxis": "x",
         "y": [
          "dep_1",
          "dep_2",
          "dep_3",
          "dep_4"
         ],
         "yaxis": "y"
        },
        {
         "base": [
          "2022-08-09T13:15:00.000000000",
          "2022-08-09T13:30:00.000000000",
          "2022-08-09T16:00:00.000000000",
          "2022-08-10T01:15:00.000000000"
         ],
         "hovertemplate": "Train=489044_10<br>Start=%{base}<br>Finish=%{x}<br>Tâches=%{y}<extra></extra>",
         "legendgroup": "489044_10",
         "marker": {
          "color": "#636efa",
          "pattern": {
           "shape": ""
          }
         },
         "name": "489044_10",
         "orientation": "h",
         "showlegend": true,
         "textposition": "auto",
         "type": "bar",
         "x": {
          "bdata": "oLsNAEBUiQCguw0AgE8SAA==",
          "dtype": "i4"
         },
         "xaxis": "x",
         "y": [
          "dep_1",
          "dep_2",
          "dep_3",
          "dep_4"
         ],
         "yaxis": "y"
        },
        {
         "base": [
          "2022-08-10T03:30:00.000000000",
          "2022-08-10T03:45:00.000000000",
          "2022-08-10T06:15:00.000000000",
          "2022-08-10T06:30:00.000000000"
         ],
         "hovertemplate": "Train=52672_10<br>Start=%{base}<br>Finish=%{x}<br>Tâches=%{y}<extra></extra>",
         "legendgroup": "52672_10",
         "marker": {
          "color": "#EF553B",
          "pattern": {
           "shape": ""
          }
         },
         "name": "52672_10",
         "orientation": "h",
         "showlegend": true,
         "textposition": "auto",
         "type": "bar",
         "x": {
          "bdata": "oLsNAEBUiQCguw0AgE8SAA==",
          "dtype": "i4"
         },
         "xaxis": "x",
         "y": [
          "dep_1",
          "dep_2",
          "dep_3",
          "dep_4"
         ],
         "yaxis": "y"
        },
        {
         "base": [
          "2022-08-10T00:30:00.000000000",
          "2022-08-10T00:45:00.000000000",
          "2022-08-10T03:15:00.000000000",
          "2022-08-10T03:30:00.000000000"
         ],
         "hovertemplate": "Train=54003_10<br>Start=%{base}<br>Finish=%{x}<br>Tâches=%{y}<extra></extra>",
         "legendgroup": "54003_10",
         "marker": {
          "color": "#00cc96",
          "pattern": {
           "shape": ""
          }
         },
         "name": "54003_10",
         "orientation": "h",
         "showlegend": true,
         "textposition": "auto",
         "type": "bar",
         "x": {
          "bdata": "oLsNAEBUiQCguw0AgE8SAA==",
          "dtype": "i4"
         },
         "xaxis": "x",
         "y": [
          "dep_1",
          "dep_2",
          "dep_3",
          "dep_4"
         ],
         "yaxis": "y"
        },
        {
         "base": [
          "2022-08-10T12:15:00.000000000",
          "2022-08-10T12:30:00.000000000",
          "2022-08-10T15:00:00.000000000",
          "2022-08-10T15:15:00.000000000"
         ],
         "hovertemplate": "Train=54053_10<br>Start=%{base}<br>Finish=%{x}<br>Tâches=%{y}<extra></extra>",
         "legendgroup": "54053_10",
         "marker": {
          "color": "#ab63fa",
          "pattern": {
           "shape": ""
          }
         },
         "name": "54053_10",
         "orientation": "h",
         "showlegend": true,
         "textposition": "auto",
         "type": "bar",
         "x": {
          "bdata": "oLsNAEBUiQCguw0AgE8SAA==",
          "dtype": "i4"
         },
         "xaxis": "x",
         "y": [
          "dep_1",
          "dep_2",
          "dep_3",
          "dep_4"
         ],
         "yaxis": "y"
        },
        {
         "base": [
          "2022-08-10T03:45:00.000000000",
          "2022-08-10T04:00:00.000000000",
          "2022-08-10T06:30:00.000000000",
          "2022-08-10T06:45:00.000000000"
         ],
         "hovertemplate": "Train=54231_10<br>Start=%{base}<br>Finish=%{x}<br>Tâches=%{y}<extra></extra>",
         "legendgroup": "54231_10",
         "marker": {
          "color": "#FFA15A",
          "pattern": {
           "shape": ""
          }
         },
         "name": "54231_10",
         "orientation": "h",
         "showlegend": true,
         "textposition": "auto",
         "type": "bar",
         "x": {
          "bdata": "oLsNAEBUiQCguw0AgE8SAA==",
          "dtype": "i4"
         },
         "xaxis": "x",
         "y": [
          "dep_1",
          "dep_2",
          "dep_3",
          "dep_4"
         ],
         "yaxis": "y"
        },
        {
         "base": [
          "2022-08-10T00:15:00.000000000",
          "2022-08-10T00:30:00.000000000",
          "2022-08-10T03:00:00.000000000",
          "2022-08-10T04:30:00.000000000"
         ],
         "hovertemplate": "Train=71210_10<br>Start=%{base}<br>Finish=%{x}<br>Tâches=%{y}<extra></extra>",
         "legendgroup": "71210_10",
         "marker": {
          "color": "#19d3f3",
          "pattern": {
           "shape": ""
          }
         },
         "name": "71210_10",
         "orientation": "h",
         "showlegend": true,
         "textposition": "auto",
         "type": "bar",
         "x": {
          "bdata": "oLsNAEBUiQCguw0AgE8SAA==",
          "dtype": "i4"
         },
         "xaxis": "x",
         "y": [
          "dep_1",
          "dep_2",
          "dep_3",
          "dep_4"
         ],
         "yaxis": "y"
        },
        {
         "base": [
          "2022-08-10T23:45:00.000000000",
          "2022-08-11T00:00:00.000000000",
          "2022-08-11T02:30:00.000000000",
          "2022-08-11T15:15:00.000000000"
         ],
         "hovertemplate": "Train=400006_11<br>Start=%{base}<br>Finish=%{x}<br>Tâches=%{y}<extra></extra>",
         "legendgroup": "400006_11",
         "marker": {
          "color": "#FF6692",
          "pattern": {
           "shape": ""
          }
         },
         "name": "400006_11",
         "orientation": "h",
         "showlegend": true,
         "textposition": "auto",
         "type": "bar",
         "x": {
          "bdata": "oLsNAEBUiQCguw0AgE8SAA==",
          "dtype": "i4"
         },
         "xaxis": "x",
         "y": [
          "dep_1",
          "dep_2",
          "dep_3",
          "dep_4"
         ],
         "yaxis": "y"
        },
        {
         "base": [
          "2022-08-10T23:30:00.000000000",
          "2022-08-11T20:30:00.000000000",
          "2022-08-11T23:00:00.000000000",
          "2022-08-11T23:15:00.000000000"
         ],
         "hovertemplate": "Train=400010_11<br>Start=%{base}<br>Finish=%{x}<br>Tâches=%{y}<extra></extra>",
         "legendgroup": "400010_11",
         "marker": {
          "color": "#B6E880",
          "pattern": {
           "shape": ""
          }
         },
         "name": "400010_11",
         "orientation": "h",
         "showlegend": true,
         "textposition": "auto",
         "type": "bar",
         "x": {
          "bdata": "oLsNAEBUiQCguw0AgE8SAA==",
          "dtype": "i4"
         },
         "xaxis": "x",
         "y": [
          "dep_1",
          "dep_2",
          "dep_3",
          "dep_4"
         ],
         "yaxis": "y"
        },
        {
         "base": [
          "2022-08-11T04:15:00.000000000",
          "2022-08-11T04:30:00.000000000",
          "2022-08-11T07:00:00.000000000",
          "2022-08-11T22:15:00.000000000"
         ],
         "hovertemplate": "Train=400016_11<br>Start=%{base}<br>Finish=%{x}<br>Tâches=%{y}<extra></extra>",
         "legendgroup": "400016_11",
         "marker": {
          "color": "#FF97FF",
          "pattern": {
           "shape": ""
          }
         },
         "name": "400016_11",
         "orientation": "h",
         "showlegend": true,
         "textposition": "auto",
         "type": "bar",
         "x": {
          "bdata": "oLsNAEBUiQCguw0AgE8SAA==",
          "dtype": "i4"
         },
         "xaxis": "x",
         "y": [
          "dep_1",
          "dep_2",
          "dep_3",
          "dep_4"
         ],
         "yaxis": "y"
        },
        {
         "base": [
          "2022-08-11T11:30:00.000000000",
          "2022-08-11T11:45:00.000000000",
          "2022-08-11T14:15:00.000000000",
          "2022-08-11T14:30:00.000000000"
         ],
         "hovertemplate": "Train=431035_11<br>Start=%{base}<br>Finish=%{x}<br>Tâches=%{y}<extra></extra>",
         "legendgroup": "431035_11",
         "marker": {
          "color": "#FECB52",
          "pattern": {
           "shape": ""
          }
         },
         "name": "431035_11",
         "orientation": "h",
         "showlegend": true,
         "textposition": "auto",
         "type": "bar",
         "x": {
          "bdata": "oLsNAEBUiQCguw0AgE8SAA==",
          "dtype": "i4"
         },
         "xaxis": "x",
         "y": [
          "dep_1",
          "dep_2",
          "dep_3",
          "dep_4"
         ],
         "yaxis": "y"
        },
        {
         "base": [
          "2022-08-11T14:30:00.000000000",
          "2022-08-11T14:45:00.000000000",
          "2022-08-11T17:15:00.000000000",
          "2022-08-11T17:30:00.000000000"
         ],
         "hovertemplate": "Train=44203_11<br>Start=%{base}<br>Finish=%{x}<br>Tâches=%{y}<extra></extra>",
         "legendgroup": "44203_11",
         "marker": {
          "color": "#636efa",
          "pattern": {
           "shape": ""
          }
         },
         "name": "44203_11",
         "orientation": "h",
         "showlegend": true,
         "textposition": "auto",
         "type": "bar",
         "x": {
          "bdata": "oLsNAEBUiQCguw0AgE8SAA==",
          "dtype": "i4"
         },
         "xaxis": "x",
         "y": [
          "dep_1",
          "dep_2",
          "dep_3",
          "dep_4"
         ],
         "yaxis": "y"
        },
        {
         "base": [
          "2022-08-11T10:00:00.000000000",
          "2022-08-11T10:15:00.000000000",
          "2022-08-11T12:45:00.000000000",
          "2022-08-11T13:00:00.000000000"
         ],
         "hovertemplate": "Train=44241_11<br>Start=%{base}<br>Finish=%{x}<br>Tâches=%{y}<extra></extra>",
         "legendgroup": "44241_11",
         "marker": {
          "color": "#EF553B",
          "pattern": {
           "shape": ""
          }
         },
         "name": "44241_11",
         "orientation": "h",
         "showlegend": true,
         "textposition": "auto",
         "type": "bar",
         "x": {
          "bdata": "oLsNAEBUiQCguw0AgE8SAA==",
          "dtype": "i4"
         },
         "xaxis": "x",
         "y": [
          "dep_1",
          "dep_2",
          "dep_3",
          "dep_4"
         ],
         "yaxis": "y"
        },
        {
         "base": [
          "2022-08-10T22:30:00.000000000",
          "2022-08-10T22:45:00.000000000",
          "2022-08-11T01:15:00.000000000",
          "2022-08-11T01:30:00.000000000"
         ],
         "hovertemplate": "Train=44806_11<br>Start=%{base}<br>Finish=%{x}<br>Tâches=%{y}<extra></extra>",
         "legendgroup": "44806_11",
         "marker": {
          "color": "#00cc96",
          "pattern": {
           "shape": ""
          }
         },
         "name": "44806_11",
         "orientation": "h",
         "showlegend": true,
         "textposition": "auto",
         "type": "bar",
         "x": {
          "bdata": "oLsNAEBUiQCguw0AgE8SAA==",
          "dtype": "i4"
         },
         "xaxis": "x",
         "y": [
          "dep_1",
          "dep_2",
          "dep_3",
          "dep_4"
         ],
         "yaxis": "y"
        },
        {
         "base": [
          "2022-08-10T04:00:00.000000000",
          "2022-08-10T04:15:00.000000000",
          "2022-08-10T06:45:00.000000000",
          "2022-08-10T07:00:00.000000000"
         ],
         "hovertemplate": "Train=450226_11<br>Start=%{base}<br>Finish=%{x}<br>Tâches=%{y}<extra></extra>",
         "legendgroup": "450226_11",
         "marker": {
          "color": "#ab63fa",
          "pattern": {
           "shape": ""
          }
         },
         "name": "450226_11",
         "orientation": "h",
         "showlegend": true,
         "textposition": "auto",
         "type": "bar",
         "x": {
          "bdata": "oLsNAEBUiQCguw0AgE8SAA==",
          "dtype": "i4"
         },
         "xaxis": "x",
         "y": [
          "dep_1",
          "dep_2",
          "dep_3",
          "dep_4"
         ],
         "yaxis": "y"
        },
        {
         "base": [
          "2022-08-10T22:45:00.000000000",
          "2022-08-10T23:00:00.000000000",
          "2022-08-11T01:30:00.000000000",
          "2022-08-11T14:15:00.000000000"
         ],
         "hovertemplate": "Train=47245_11<br>Start=%{base}<br>Finish=%{x}<br>Tâches=%{y}<extra></extra>",
         "legendgroup": "47245_11",
         "marker": {
          "color": "#FFA15A",
          "pattern": {
           "shape": ""
          }
         },
         "name": "47245_11",
         "orientation": "h",
         "showlegend": true,
         "textposition": "auto",
         "type": "bar",
         "x": {
          "bdata": "oLsNAEBUiQCguw0AgE8SAA==",
          "dtype": "i4"
         },
         "xaxis": "x",
         "y": [
          "dep_1",
          "dep_2",
          "dep_3",
          "dep_4"
         ],
         "yaxis": "y"
        },
        {
         "base": [
          "2022-08-11T07:30:00.000000000",
          "2022-08-11T07:45:00.000000000",
          "2022-08-11T10:15:00.000000000",
          "2022-08-11T10:30:00.000000000"
         ],
         "hovertemplate": "Train=47247_11<br>Start=%{base}<br>Finish=%{x}<br>Tâches=%{y}<extra></extra>",
         "legendgroup": "47247_11",
         "marker": {
          "color": "#19d3f3",
          "pattern": {
           "shape": ""
          }
         },
         "name": "47247_11",
         "orientation": "h",
         "showlegend": true,
         "textposition": "auto",
         "type": "bar",
         "x": {
          "bdata": "oLsNAEBUiQCguw0AgE8SAA==",
          "dtype": "i4"
         },
         "xaxis": "x",
         "y": [
          "dep_1",
          "dep_2",
          "dep_3",
          "dep_4"
         ],
         "yaxis": "y"
        },
        {
         "base": [
          "2022-08-11T19:00:00.000000000",
          "2022-08-11T19:15:00.000000000",
          "2022-08-11T21:45:00.000000000",
          "2022-08-11T22:00:00.000000000"
         ],
         "hovertemplate": "Train=47820_11<br>Start=%{base}<br>Finish=%{x}<br>Tâches=%{y}<extra></extra>",
         "legendgroup": "47820_11",
         "marker": {
          "color": "#FF6692",
          "pattern": {
           "shape": ""
          }
         },
         "name": "47820_11",
         "orientation": "h",
         "showlegend": true,
         "textposition": "auto",
         "type": "bar",
         "x": {
          "bdata": "oLsNAEBUiQCguw0AgE8SAA==",
          "dtype": "i4"
         },
         "xaxis": "x",
         "y": [
          "dep_1",
          "dep_2",
          "dep_3",
          "dep_4"
         ],
         "yaxis": "y"
        },
        {
         "base": [
          "2022-08-11T05:15:00.000000000",
          "2022-08-11T05:30:00.000000000",
          "2022-08-11T08:00:00.000000000",
          "2022-08-11T14:45:00.000000000"
         ],
         "hovertemplate": "Train=489118_11<br>Start=%{base}<br>Finish=%{x}<br>Tâches=%{y}<extra></extra>",
         "legendgroup": "489118_11",
         "marker": {
          "color": "#B6E880",
          "pattern": {
           "shape": ""
          }
         },
         "name": "489118_11",
         "orientation": "h",
         "showlegend": true,
         "textposition": "auto",
         "type": "bar",
         "x": {
          "bdata": "oLsNAEBUiQCguw0AgE8SAA==",
          "dtype": "i4"
         },
         "xaxis": "x",
         "y": [
          "dep_1",
          "dep_2",
          "dep_3",
          "dep_4"
         ],
         "yaxis": "y"
        },
        {
         "base": [
          "2022-08-11T03:30:00.000000000",
          "2022-08-11T03:45:00.000000000",
          "2022-08-11T06:15:00.000000000",
          "2022-08-11T15:45:00.000000000"
         ],
         "hovertemplate": "Train=52672_11<br>Start=%{base}<br>Finish=%{x}<br>Tâches=%{y}<extra></extra>",
         "legendgroup": "52672_11",
         "marker": {
          "color": "#FF97FF",
          "pattern": {
           "shape": ""
          }
         },
         "name": "52672_11",
         "orientation": "h",
         "showlegend": true,
         "textposition": "auto",
         "type": "bar",
         "x": {
          "bdata": "oLsNAEBUiQCguw0AgE8SAA==",
          "dtype": "i4"
         },
         "xaxis": "x",
         "y": [
          "dep_1",
          "dep_2",
          "dep_3",
          "dep_4"
         ],
         "yaxis": "y"
        },
        {
         "base": [
          "2022-08-11T00:30:00.000000000",
          "2022-08-11T00:45:00.000000000",
          "2022-08-11T03:15:00.000000000",
          "2022-08-11T03:30:00.000000000"
         ],
         "hovertemplate": "Train=54003_11<br>Start=%{base}<br>Finish=%{x}<br>Tâches=%{y}<extra></extra>",
         "legendgroup": "54003_11",
         "marker": {
          "color": "#FECB52",
          "pattern": {
           "shape": ""
          }
         },
         "name": "54003_11",
         "orientation": "h",
         "showlegend": true,
         "textposition": "auto",
         "type": "bar",
         "x": {
          "bdata": "oLsNAEBUiQCguw0AgE8SAA==",
          "dtype": "i4"
         },
         "xaxis": "x",
         "y": [
          "dep_1",
          "dep_2",
          "dep_3",
          "dep_4"
         ],
         "yaxis": "y"
        },
        {
         "base": [
          "2022-08-11T00:00:00.000000000",
          "2022-08-11T00:15:00.000000000",
          "2022-08-11T02:45:00.000000000",
          "2022-08-11T03:00:00.000000000"
         ],
         "hovertemplate": "Train=54051_11<br>Start=%{base}<br>Finish=%{x}<br>Tâches=%{y}<extra></extra>",
         "legendgroup": "54051_11",
         "marker": {
          "color": "#636efa",
          "pattern": {
           "shape": ""
          }
         },
         "name": "54051_11",
         "orientation": "h",
         "showlegend": true,
         "textposition": "auto",
         "type": "bar",
         "x": {
          "bdata": "oLsNAEBUiQCguw0AgE8SAA==",
          "dtype": "i4"
         },
         "xaxis": "x",
         "y": [
          "dep_1",
          "dep_2",
          "dep_3",
          "dep_4"
         ],
         "yaxis": "y"
        },
        {
         "base": [
          "2022-08-10T13:15:00.000000000",
          "2022-08-10T13:30:00.000000000",
          "2022-08-10T16:00:00.000000000",
          "2022-08-10T23:00:00.000000000"
         ],
         "hovertemplate": "Train=54086_11<br>Start=%{base}<br>Finish=%{x}<br>Tâches=%{y}<extra></extra>",
         "legendgroup": "54086_11",
         "marker": {
          "color": "#EF553B",
          "pattern": {
           "shape": ""
          }
         },
         "name": "54086_11",
         "orientation": "h",
         "showlegend": true,
         "textposition": "auto",
         "type": "bar",
         "x": {
          "bdata": "oLsNAEBUiQCguw0AgE8SAA==",
          "dtype": "i4"
         },
         "xaxis": "x",
         "y": [
          "dep_1",
          "dep_2",
          "dep_3",
          "dep_4"
         ],
         "yaxis": "y"
        },
        {
         "base": [
          "2022-08-11T05:00:00.000000000",
          "2022-08-11T05:15:00.000000000",
          "2022-08-11T07:45:00.000000000",
          "2022-08-11T13:45:00.000000000"
         ],
         "hovertemplate": "Train=54231_11<br>Start=%{base}<br>Finish=%{x}<br>Tâches=%{y}<extra></extra>",
         "legendgroup": "54231_11",
         "marker": {
          "color": "#00cc96",
          "pattern": {
           "shape": ""
          }
         },
         "name": "54231_11",
         "orientation": "h",
         "showlegend": true,
         "textposition": "auto",
         "type": "bar",
         "x": {
          "bdata": "oLsNAEBUiQCguw0AgE8SAA==",
          "dtype": "i4"
         },
         "xaxis": "x",
         "y": [
          "dep_1",
          "dep_2",
          "dep_3",
          "dep_4"
         ],
         "yaxis": "y"
        },
        {
         "base": [
          "2022-08-10T23:00:00.000000000",
          "2022-08-10T23:15:00.000000000",
          "2022-08-11T01:45:00.000000000",
          "2022-08-11T02:00:00.000000000"
         ],
         "hovertemplate": "Train=71256_11<br>Start=%{base}<br>Finish=%{x}<br>Tâches=%{y}<extra></extra>",
         "legendgroup": "71256_11",
         "marker": {
          "color": "#ab63fa",
          "pattern": {
           "shape": ""
          }
         },
         "name": "71256_11",
         "orientation": "h",
         "showlegend": true,
         "textposition": "auto",
         "type": "bar",
         "x": {
          "bdata": "oLsNAEBUiQCguw0AgE8SAA==",
          "dtype": "i4"
         },
         "xaxis": "x",
         "y": [
          "dep_1",
          "dep_2",
          "dep_3",
          "dep_4"
         ],
         "yaxis": "y"
        },
        {
         "base": [
          "2022-08-12T13:00:00.000000000",
          "2022-08-12T13:15:00.000000000",
          "2022-08-12T15:45:00.000000000",
          "2022-08-12T23:15:00.000000000"
         ],
         "hovertemplate": "Train=400010_12<br>Start=%{base}<br>Finish=%{x}<br>Tâches=%{y}<extra></extra>",
         "legendgroup": "400010_12",
         "marker": {
          "color": "#FFA15A",
          "pattern": {
           "shape": ""
          }
         },
         "name": "400010_12",
         "orientation": "h",
         "showlegend": true,
         "textposition": "auto",
         "type": "bar",
         "x": {
          "bdata": "oLsNAEBUiQCguw0AgE8SAA==",
          "dtype": "i4"
         },
         "xaxis": "x",
         "y": [
          "dep_1",
          "dep_2",
          "dep_3",
          "dep_4"
         ],
         "yaxis": "y"
        },
        {
         "base": [
          "2022-08-12T13:45:00.000000000",
          "2022-08-12T14:00:00.000000000",
          "2022-08-12T16:30:00.000000000",
          "2022-08-12T22:15:00.000000000"
         ],
         "hovertemplate": "Train=400016_12<br>Start=%{base}<br>Finish=%{x}<br>Tâches=%{y}<extra></extra>",
         "legendgroup": "400016_12",
         "marker": {
          "color": "#19d3f3",
          "pattern": {
           "shape": ""
          }
         },
         "name": "400016_12",
         "orientation": "h",
         "showlegend": true,
         "textposition": "auto",
         "type": "bar",
         "x": {
          "bdata": "oLsNAEBUiQCguw0AgE8SAA==",
          "dtype": "i4"
         },
         "xaxis": "x",
         "y": [
          "dep_1",
          "dep_2",
          "dep_3",
          "dep_4"
         ],
         "yaxis": "y"
        },
        {
         "base": [
          "2022-08-11T04:00:00.000000000",
          "2022-08-11T04:15:00.000000000",
          "2022-08-11T06:45:00.000000000",
          "2022-08-12T04:00:00.000000000"
         ],
         "hovertemplate": "Train=412024_12<br>Start=%{base}<br>Finish=%{x}<br>Tâches=%{y}<extra></extra>",
         "legendgroup": "412024_12",
         "marker": {
          "color": "#FF6692",
          "pattern": {
           "shape": ""
          }
         },
         "name": "412024_12",
         "orientation": "h",
         "showlegend": true,
         "textposition": "auto",
         "type": "bar",
         "x": {
          "bdata": "oLsNAEBUiQCguw0AgE8SAA==",
          "dtype": "i4"
         },
         "xaxis": "x",
         "y": [
          "dep_1",
          "dep_2",
          "dep_3",
          "dep_4"
         ],
         "yaxis": "y"
        },
        {
         "base": [
          "2022-08-11T23:15:00.000000000",
          "2022-08-11T23:30:00.000000000",
          "2022-08-12T02:00:00.000000000",
          "2022-08-12T02:15:00.000000000"
         ],
         "hovertemplate": "Train=41258_12<br>Start=%{base}<br>Finish=%{x}<br>Tâches=%{y}<extra></extra>",
         "legendgroup": "41258_12",
         "marker": {
          "color": "#B6E880",
          "pattern": {
           "shape": ""
          }
         },
         "name": "41258_12",
         "orientation": "h",
         "showlegend": true,
         "textposition": "auto",
         "type": "bar",
         "x": {
          "bdata": "oLsNAEBUiQCguw0AgE8SAA==",
          "dtype": "i4"
         },
         "xaxis": "x",
         "y": [
          "dep_1",
          "dep_2",
          "dep_3",
          "dep_4"
         ],
         "yaxis": "y"
        },
        {
         "base": [
          "2022-08-11T22:30:00.000000000",
          "2022-08-11T22:45:00.000000000",
          "2022-08-12T01:15:00.000000000",
          "2022-08-12T01:30:00.000000000"
         ],
         "hovertemplate": "Train=431035_12<br>Start=%{base}<br>Finish=%{x}<br>Tâches=%{y}<extra></extra>",
         "legendgroup": "431035_12",
         "marker": {
          "color": "#FF97FF",
          "pattern": {
           "shape": ""
          }
         },
         "name": "431035_12",
         "orientation": "h",
         "showlegend": true,
         "textposition": "auto",
         "type": "bar",
         "x": {
          "bdata": "oLsNAEBUiQCguw0AgE8SAA==",
          "dtype": "i4"
         },
         "xaxis": "x",
         "y": [
          "dep_1",
          "dep_2",
          "dep_3",
          "dep_4"
         ],
         "yaxis": "y"
        },
        {
         "base": [
          "2022-08-11T23:30:00.000000000",
          "2022-08-11T23:45:00.000000000",
          "2022-08-12T02:15:00.000000000",
          "2022-08-12T06:30:00.000000000"
         ],
         "hovertemplate": "Train=44241_12<br>Start=%{base}<br>Finish=%{x}<br>Tâches=%{y}<extra></extra>",
         "legendgroup": "44241_12",
         "marker": {
          "color": "#FECB52",
          "pattern": {
           "shape": ""
          }
         },
         "name": "44241_12",
         "orientation": "h",
         "showlegend": true,
         "textposition": "auto",
         "type": "bar",
         "x": {
          "bdata": "oLsNAEBUiQCguw0AgE8SAA==",
          "dtype": "i4"
         },
         "xaxis": "x",
         "y": [
          "dep_1",
          "dep_2",
          "dep_3",
          "dep_4"
         ],
         "yaxis": "y"
        },
        {
         "base": [
          "2022-08-11T13:00:00.000000000",
          "2022-08-11T13:15:00.000000000",
          "2022-08-11T15:45:00.000000000",
          "2022-08-11T16:00:00.000000000"
         ],
         "hovertemplate": "Train=44249_12<br>Start=%{base}<br>Finish=%{x}<br>Tâches=%{y}<extra></extra>",
         "legendgroup": "44249_12",
         "marker": {
          "color": "#636efa",
          "pattern": {
           "shape": ""
          }
         },
         "name": "44249_12",
         "orientation": "h",
         "showlegend": true,
         "textposition": "auto",
         "type": "bar",
         "x": {
          "bdata": "oLsNAEBUiQCguw0AgE8SAA==",
          "dtype": "i4"
         },
         "xaxis": "x",
         "y": [
          "dep_1",
          "dep_2",
          "dep_3",
          "dep_4"
         ],
         "yaxis": "y"
        },
        {
         "base": [
          "2022-08-12T04:00:00.000000000",
          "2022-08-12T17:45:00.000000000",
          "2022-08-12T20:15:00.000000000",
          "2022-08-12T20:30:00.000000000"
         ],
         "hovertemplate": "Train=44952_12<br>Start=%{base}<br>Finish=%{x}<br>Tâches=%{y}<extra></extra>",
         "legendgroup": "44952_12",
         "marker": {
          "color": "#EF553B",
          "pattern": {
           "shape": ""
          }
         },
         "name": "44952_12",
         "orientation": "h",
         "showlegend": true,
         "textposition": "auto",
         "type": "bar",
         "x": {
          "bdata": "oLsNAEBUiQCguw0AgE8SAA==",
          "dtype": "i4"
         },
         "xaxis": "x",
         "y": [
          "dep_1",
          "dep_2",
          "dep_3",
          "dep_4"
         ],
         "yaxis": "y"
        },
        {
         "base": [
          "2022-08-12T15:45:00.000000000",
          "2022-08-12T16:00:00.000000000",
          "2022-08-12T18:30:00.000000000",
          "2022-08-12T18:45:00.000000000"
         ],
         "hovertemplate": "Train=47205_12<br>Start=%{base}<br>Finish=%{x}<br>Tâches=%{y}<extra></extra>",
         "legendgroup": "47205_12",
         "marker": {
          "color": "#00cc96",
          "pattern": {
           "shape": ""
          }
         },
         "name": "47205_12",
         "orientation": "h",
         "showlegend": true,
         "textposition": "auto",
         "type": "bar",
         "x": {
          "bdata": "oLsNAEBUiQCguw0AgE8SAA==",
          "dtype": "i4"
         },
         "xaxis": "x",
         "y": [
          "dep_1",
          "dep_2",
          "dep_3",
          "dep_4"
         ],
         "yaxis": "y"
        },
        {
         "base": [
          "2022-08-11T13:30:00.000000000",
          "2022-08-11T13:45:00.000000000",
          "2022-08-11T16:15:00.000000000",
          "2022-08-11T16:30:00.000000000"
         ],
         "hovertemplate": "Train=48219_12<br>Start=%{base}<br>Finish=%{x}<br>Tâches=%{y}<extra></extra>",
         "legendgroup": "48219_12",
         "marker": {
          "color": "#ab63fa",
          "pattern": {
           "shape": ""
          }
         },
         "name": "48219_12",
         "orientation": "h",
         "showlegend": true,
         "textposition": "auto",
         "type": "bar",
         "x": {
          "bdata": "oLsNAEBUiQCguw0AgE8SAA==",
          "dtype": "i4"
         },
         "xaxis": "x",
         "y": [
          "dep_1",
          "dep_2",
          "dep_3",
          "dep_4"
         ],
         "yaxis": "y"
        },
        {
         "base": [
          "2022-08-12T01:15:00.000000000",
          "2022-08-12T01:30:00.000000000",
          "2022-08-12T04:00:00.000000000",
          "2022-08-12T05:45:00.000000000"
         ],
         "hovertemplate": "Train=489447_12<br>Start=%{base}<br>Finish=%{x}<br>Tâches=%{y}<extra></extra>",
         "legendgroup": "489447_12",
         "marker": {
          "color": "#FFA15A",
          "pattern": {
           "shape": ""
          }
         },
         "name": "489447_12",
         "orientation": "h",
         "showlegend": true,
         "textposition": "auto",
         "type": "bar",
         "x": {
          "bdata": "oLsNAEBUiQCguw0AgE8SAA==",
          "dtype": "i4"
         },
         "xaxis": "x",
         "y": [
          "dep_1",
          "dep_2",
          "dep_3",
          "dep_4"
         ],
         "yaxis": "y"
        },
        {
         "base": [
          "2022-08-12T09:15:00.000000000",
          "2022-08-12T09:30:00.000000000",
          "2022-08-12T12:00:00.000000000",
          "2022-08-12T12:15:00.000000000"
         ],
         "hovertemplate": "Train=52672_12<br>Start=%{base}<br>Finish=%{x}<br>Tâches=%{y}<extra></extra>",
         "legendgroup": "52672_12",
         "marker": {
          "color": "#19d3f3",
          "pattern": {
           "shape": ""
          }
         },
         "name": "52672_12",
         "orientation": "h",
         "showlegend": true,
         "textposition": "auto",
         "type": "bar",
         "x": {
          "bdata": "oLsNAEBUiQCguw0AgE8SAA==",
          "dtype": "i4"
         },
         "xaxis": "x",
         "y": [
          "dep_1",
          "dep_2",
          "dep_3",
          "dep_4"
         ],
         "yaxis": "y"
        },
        {
         "base": [
          "2022-08-11T23:00:00.000000000",
          "2022-08-11T23:15:00.000000000",
          "2022-08-12T01:45:00.000000000",
          "2022-08-12T02:00:00.000000000"
         ],
         "hovertemplate": "Train=54003_12<br>Start=%{base}<br>Finish=%{x}<br>Tâches=%{y}<extra></extra>",
         "legendgroup": "54003_12",
         "marker": {
          "color": "#FF6692",
          "pattern": {
           "shape": ""
          }
         },
         "name": "54003_12",
         "orientation": "h",
         "showlegend": true,
         "textposition": "auto",
         "type": "bar",
         "x": {
          "bdata": "oLsNAEBUiQCguw0AgE8SAA==",
          "dtype": "i4"
         },
         "xaxis": "x",
         "y": [
          "dep_1",
          "dep_2",
          "dep_3",
          "dep_4"
         ],
         "yaxis": "y"
        },
        {
         "base": [
          "2022-08-12T02:30:00.000000000",
          "2022-08-12T02:45:00.000000000",
          "2022-08-12T05:15:00.000000000",
          "2022-08-12T06:30:00.000000000"
         ],
         "hovertemplate": "Train=54053_12<br>Start=%{base}<br>Finish=%{x}<br>Tâches=%{y}<extra></extra>",
         "legendgroup": "54053_12",
         "marker": {
          "color": "#B6E880",
          "pattern": {
           "shape": ""
          }
         },
         "name": "54053_12",
         "orientation": "h",
         "showlegend": true,
         "textposition": "auto",
         "type": "bar",
         "x": {
          "bdata": "oLsNAEBUiQCguw0AgE8SAA==",
          "dtype": "i4"
         },
         "xaxis": "x",
         "y": [
          "dep_1",
          "dep_2",
          "dep_3",
          "dep_4"
         ],
         "yaxis": "y"
        },
        {
         "base": [
          "2022-08-11T13:15:00.000000000",
          "2022-08-11T13:30:00.000000000",
          "2022-08-11T16:00:00.000000000",
          "2022-08-11T16:15:00.000000000"
         ],
         "hovertemplate": "Train=54086_12<br>Start=%{base}<br>Finish=%{x}<br>Tâches=%{y}<extra></extra>",
         "legendgroup": "54086_12",
         "marker": {
          "color": "#FF97FF",
          "pattern": {
           "shape": ""
          }
         },
         "name": "54086_12",
         "orientation": "h",
         "showlegend": true,
         "textposition": "auto",
         "type": "bar",
         "x": {
          "bdata": "oLsNAEBUiQCguw0AgE8SAA==",
          "dtype": "i4"
         },
         "xaxis": "x",
         "y": [
          "dep_1",
          "dep_2",
          "dep_3",
          "dep_4"
         ],
         "yaxis": "y"
        },
        {
         "base": [
          "2022-08-12T06:30:00.000000000",
          "2022-08-12T06:45:00.000000000",
          "2022-08-12T09:15:00.000000000",
          "2022-08-12T10:45:00.000000000"
         ],
         "hovertemplate": "Train=54231_12<br>Start=%{base}<br>Finish=%{x}<br>Tâches=%{y}<extra></extra>",
         "legendgroup": "54231_12",
         "marker": {
          "color": "#FECB52",
          "pattern": {
           "shape": ""
          }
         },
         "name": "54231_12",
         "orientation": "h",
         "showlegend": true,
         "textposition": "auto",
         "type": "bar",
         "x": {
          "bdata": "oLsNAEBUiQCguw0AgE8SAA==",
          "dtype": "i4"
         },
         "xaxis": "x",
         "y": [
          "dep_1",
          "dep_2",
          "dep_3",
          "dep_4"
         ],
         "yaxis": "y"
        },
        {
         "base": [
          "2022-08-12T13:30:00.000000000",
          "2022-08-12T13:45:00.000000000",
          "2022-08-12T16:15:00.000000000",
          "2022-08-12T23:00:00.000000000"
         ],
         "hovertemplate": "Train=71217_12<br>Start=%{base}<br>Finish=%{x}<br>Tâches=%{y}<extra></extra>",
         "legendgroup": "71217_12",
         "marker": {
          "color": "#636efa",
          "pattern": {
           "shape": ""
          }
         },
         "name": "71217_12",
         "orientation": "h",
         "showlegend": true,
         "textposition": "auto",
         "type": "bar",
         "x": {
          "bdata": "oLsNAEBUiQCguw0AgE8SAA==",
          "dtype": "i4"
         },
         "xaxis": "x",
         "y": [
          "dep_1",
          "dep_2",
          "dep_3",
          "dep_4"
         ],
         "yaxis": "y"
        },
        {
         "base": [
          "2022-08-12T13:15:00.000000000",
          "2022-08-12T23:30:00.000000000",
          "2022-08-13T02:00:00.000000000",
          "2022-08-13T02:15:00.000000000"
         ],
         "hovertemplate": "Train=41258_13<br>Start=%{base}<br>Finish=%{x}<br>Tâches=%{y}<extra></extra>",
         "legendgroup": "41258_13",
         "marker": {
          "color": "#EF553B",
          "pattern": {
           "shape": ""
          }
         },
         "name": "41258_13",
         "orientation": "h",
         "showlegend": true,
         "textposition": "auto",
         "type": "bar",
         "x": {
          "bdata": "oLsNAEBUiQCguw0AgE8SAA==",
          "dtype": "i4"
         },
         "xaxis": "x",
         "y": [
          "dep_1",
          "dep_2",
          "dep_3",
          "dep_4"
         ],
         "yaxis": "y"
        },
        {
         "base": [
          "2022-08-12T03:30:00.000000000",
          "2022-08-12T03:45:00.000000000",
          "2022-08-12T06:15:00.000000000",
          "2022-08-13T05:45:00.000000000"
         ],
         "hovertemplate": "Train=431091_13<br>Start=%{base}<br>Finish=%{x}<br>Tâches=%{y}<extra></extra>",
         "legendgroup": "431091_13",
         "marker": {
          "color": "#00cc96",
          "pattern": {
           "shape": ""
          }
         },
         "name": "431091_13",
         "orientation": "h",
         "showlegend": true,
         "textposition": "auto",
         "type": "bar",
         "x": {
          "bdata": "oLsNAEBUiQCguw0AgE8SAA==",
          "dtype": "i4"
         },
         "xaxis": "x",
         "y": [
          "dep_1",
          "dep_2",
          "dep_3",
          "dep_4"
         ],
         "yaxis": "y"
        },
        {
         "base": [
          "2022-08-12T22:30:00.000000000",
          "2022-08-12T22:45:00.000000000",
          "2022-08-13T01:15:00.000000000",
          "2022-08-13T13:00:00.000000000"
         ],
         "hovertemplate": "Train=44241_13<br>Start=%{base}<br>Finish=%{x}<br>Tâches=%{y}<extra></extra>",
         "legendgroup": "44241_13",
         "marker": {
          "color": "#ab63fa",
          "pattern": {
           "shape": ""
          }
         },
         "name": "44241_13",
         "orientation": "h",
         "showlegend": true,
         "textposition": "auto",
         "type": "bar",
         "x": {
          "bdata": "oLsNAEBUiQCguw0AgE8SAA==",
          "dtype": "i4"
         },
         "xaxis": "x",
         "y": [
          "dep_1",
          "dep_2",
          "dep_3",
          "dep_4"
         ],
         "yaxis": "y"
        },
        {
         "base": [
          "2022-08-12T23:00:00.000000000",
          "2022-08-12T23:15:00.000000000",
          "2022-08-13T01:45:00.000000000",
          "2022-08-13T02:00:00.000000000"
         ],
         "hovertemplate": "Train=44806_13<br>Start=%{base}<br>Finish=%{x}<br>Tâches=%{y}<extra></extra>",
         "legendgroup": "44806_13",
         "marker": {
          "color": "#FFA15A",
          "pattern": {
           "shape": ""
          }
         },
         "name": "44806_13",
         "orientation": "h",
         "showlegend": true,
         "textposition": "auto",
         "type": "bar",
         "x": {
          "bdata": "oLsNAEBUiQCguw0AgE8SAA==",
          "dtype": "i4"
         },
         "xaxis": "x",
         "y": [
          "dep_1",
          "dep_2",
          "dep_3",
          "dep_4"
         ],
         "yaxis": "y"
        },
        {
         "base": [
          "2022-08-13T04:30:00.000000000",
          "2022-08-13T04:45:00.000000000",
          "2022-08-13T07:15:00.000000000",
          "2022-08-13T07:30:00.000000000"
         ],
         "hovertemplate": "Train=450224_13<br>Start=%{base}<br>Finish=%{x}<br>Tâches=%{y}<extra></extra>",
         "legendgroup": "450224_13",
         "marker": {
          "color": "#19d3f3",
          "pattern": {
           "shape": ""
          }
         },
         "name": "450224_13",
         "orientation": "h",
         "showlegend": true,
         "textposition": "auto",
         "type": "bar",
         "x": {
          "bdata": "oLsNAEBUiQCguw0AgE8SAA==",
          "dtype": "i4"
         },
         "xaxis": "x",
         "y": [
          "dep_1",
          "dep_2",
          "dep_3",
          "dep_4"
         ],
         "yaxis": "y"
        },
        {
         "base": [
          "2022-08-13T00:15:00.000000000",
          "2022-08-13T00:30:00.000000000",
          "2022-08-13T03:00:00.000000000",
          "2022-08-13T10:30:00.000000000"
         ],
         "hovertemplate": "Train=47237_13<br>Start=%{base}<br>Finish=%{x}<br>Tâches=%{y}<extra></extra>",
         "legendgroup": "47237_13",
         "marker": {
          "color": "#FF6692",
          "pattern": {
           "shape": ""
          }
         },
         "name": "47237_13",
         "orientation": "h",
         "showlegend": true,
         "textposition": "auto",
         "type": "bar",
         "x": {
          "bdata": "oLsNAEBUiQCguw0AgE8SAA==",
          "dtype": "i4"
         },
         "xaxis": "x",
         "y": [
          "dep_1",
          "dep_2",
          "dep_3",
          "dep_4"
         ],
         "yaxis": "y"
        },
        {
         "base": [
          "2022-08-13T00:00:00.000000000",
          "2022-08-13T10:15:00.000000000",
          "2022-08-13T12:45:00.000000000",
          "2022-08-13T15:45:00.000000000"
         ],
         "hovertemplate": "Train=47281_13<br>Start=%{base}<br>Finish=%{x}<br>Tâches=%{y}<extra></extra>",
         "legendgroup": "47281_13",
         "marker": {
          "color": "#B6E880",
          "pattern": {
           "shape": ""
          }
         },
         "name": "47281_13",
         "orientation": "h",
         "showlegend": true,
         "textposition": "auto",
         "type": "bar",
         "x": {
          "bdata": "oLsNAEBUiQCguw0AgE8SAA==",
          "dtype": "i4"
         },
         "xaxis": "x",
         "y": [
          "dep_1",
          "dep_2",
          "dep_3",
          "dep_4"
         ],
         "yaxis": "y"
        },
        {
         "base": [
          "2022-08-12T20:15:00.000000000",
          "2022-08-12T20:30:00.000000000",
          "2022-08-12T23:00:00.000000000",
          "2022-08-12T23:15:00.000000000"
         ],
         "hovertemplate": "Train=489044_13<br>Start=%{base}<br>Finish=%{x}<br>Tâches=%{y}<extra></extra>",
         "legendgroup": "489044_13",
         "marker": {
          "color": "#FF97FF",
          "pattern": {
           "shape": ""
          }
         },
         "name": "489044_13",
         "orientation": "h",
         "showlegend": true,
         "textposition": "auto",
         "type": "bar",
         "x": {
          "bdata": "oLsNAEBUiQCguw0AgE8SAA==",
          "dtype": "i4"
         },
         "xaxis": "x",
         "y": [
          "dep_1",
          "dep_2",
          "dep_3",
          "dep_4"
         ],
         "yaxis": "y"
        },
        {
         "base": [
          "2022-08-12T21:00:00.000000000",
          "2022-08-12T21:15:00.000000000",
          "2022-08-12T23:45:00.000000000",
          "2022-08-13T14:30:00.000000000"
         ],
         "hovertemplate": "Train=489119_13<br>Start=%{base}<br>Finish=%{x}<br>Tâches=%{y}<extra></extra>",
         "legendgroup": "489119_13",
         "marker": {
          "color": "#FECB52",
          "pattern": {
           "shape": ""
          }
         },
         "name": "489119_13",
         "orientation": "h",
         "showlegend": true,
         "textposition": "auto",
         "type": "bar",
         "x": {
          "bdata": "oLsNAEBUiQCguw0AgE8SAA==",
          "dtype": "i4"
         },
         "xaxis": "x",
         "y": [
          "dep_1",
          "dep_2",
          "dep_3",
          "dep_4"
         ],
         "yaxis": "y"
        },
        {
         "base": [
          "2022-08-13T02:45:00.000000000",
          "2022-08-13T03:00:00.000000000",
          "2022-08-13T05:30:00.000000000",
          "2022-08-13T05:45:00.000000000"
         ],
         "hovertemplate": "Train=489447_13<br>Start=%{base}<br>Finish=%{x}<br>Tâches=%{y}<extra></extra>",
         "legendgroup": "489447_13",
         "marker": {
          "color": "#636efa",
          "pattern": {
           "shape": ""
          }
         },
         "name": "489447_13",
         "orientation": "h",
         "showlegend": true,
         "textposition": "auto",
         "type": "bar",
         "x": {
          "bdata": "oLsNAEBUiQCguw0AgE8SAA==",
          "dtype": "i4"
         },
         "xaxis": "x",
         "y": [
          "dep_1",
          "dep_2",
          "dep_3",
          "dep_4"
         ],
         "yaxis": "y"
        },
        {
         "base": [
          "2022-08-12T09:00:00.000000000",
          "2022-08-13T02:30:00.000000000",
          "2022-08-13T05:00:00.000000000",
          "2022-08-13T05:15:00.000000000"
         ],
         "hovertemplate": "Train=54051_13<br>Start=%{base}<br>Finish=%{x}<br>Tâches=%{y}<extra></extra>",
         "legendgroup": "54051_13",
         "marker": {
          "color": "#EF553B",
          "pattern": {
           "shape": ""
          }
         },
         "name": "54051_13",
         "orientation": "h",
         "showlegend": true,
         "textposition": "auto",
         "type": "bar",
         "x": {
          "bdata": "oLsNAEBUiQCguw0AgE8SAA==",
          "dtype": "i4"
         },
         "xaxis": "x",
         "y": [
          "dep_1",
          "dep_2",
          "dep_3",
          "dep_4"
         ],
         "yaxis": "y"
        },
        {
         "base": [
          "2022-08-12T00:45:00.000000000",
          "2022-08-12T01:00:00.000000000",
          "2022-08-12T03:30:00.000000000",
          "2022-08-13T03:30:00.000000000"
         ],
         "hovertemplate": "Train=54086_13<br>Start=%{base}<br>Finish=%{x}<br>Tâches=%{y}<extra></extra>",
         "legendgroup": "54086_13",
         "marker": {
          "color": "#00cc96",
          "pattern": {
           "shape": ""
          }
         },
         "name": "54086_13",
         "orientation": "h",
         "showlegend": true,
         "textposition": "auto",
         "type": "bar",
         "x": {
          "bdata": "oLsNAEBUiQCguw0AgE8SAA==",
          "dtype": "i4"
         },
         "xaxis": "x",
         "y": [
          "dep_1",
          "dep_2",
          "dep_3",
          "dep_4"
         ],
         "yaxis": "y"
        },
        {
         "base": [
          "2022-08-14T01:00:00.000000000",
          "2022-08-14T01:15:00.000000000",
          "2022-08-14T03:45:00.000000000",
          "2022-08-14T17:15:00.000000000"
         ],
         "hovertemplate": "Train=431037_14<br>Start=%{base}<br>Finish=%{x}<br>Tâches=%{y}<extra></extra>",
         "legendgroup": "431037_14",
         "marker": {
          "color": "#ab63fa",
          "pattern": {
           "shape": ""
          }
         },
         "name": "431037_14",
         "orientation": "h",
         "showlegend": true,
         "textposition": "auto",
         "type": "bar",
         "x": {
          "bdata": "oLsNAEBUiQCguw0AgE8SAA==",
          "dtype": "i4"
         },
         "xaxis": "x",
         "y": [
          "dep_1",
          "dep_2",
          "dep_3",
          "dep_4"
         ],
         "yaxis": "y"
        },
        {
         "base": [
          "2022-08-14T10:00:00.000000000",
          "2022-08-14T10:15:00.000000000",
          "2022-08-14T12:45:00.000000000",
          "2022-08-14T14:15:00.000000000"
         ],
         "hovertemplate": "Train=44247_14<br>Start=%{base}<br>Finish=%{x}<br>Tâches=%{y}<extra></extra>",
         "legendgroup": "44247_14",
         "marker": {
          "color": "#FFA15A",
          "pattern": {
           "shape": ""
          }
         },
         "name": "44247_14",
         "orientation": "h",
         "showlegend": true,
         "textposition": "auto",
         "type": "bar",
         "x": {
          "bdata": "oLsNAEBUiQCguw0AgE8SAA==",
          "dtype": "i4"
         },
         "xaxis": "x",
         "y": [
          "dep_1",
          "dep_2",
          "dep_3",
          "dep_4"
         ],
         "yaxis": "y"
        },
        {
         "base": [
          "2022-08-13T09:00:00.000000000",
          "2022-08-13T09:15:00.000000000",
          "2022-08-14T11:30:00.000000000",
          "2022-08-14T11:45:00.000000000"
         ],
         "hovertemplate": "Train=44559_14<br>Start=%{base}<br>Finish=%{x}<br>Tâches=%{y}<extra></extra>",
         "legendgroup": "44559_14",
         "marker": {
          "color": "#19d3f3",
          "pattern": {
           "shape": ""
          }
         },
         "name": "44559_14",
         "orientation": "h",
         "showlegend": true,
         "textposition": "auto",
         "type": "bar",
         "x": {
          "bdata": "oLsNAEBUiQCguw0AgE8SAA==",
          "dtype": "i4"
         },
         "xaxis": "x",
         "y": [
          "dep_1",
          "dep_2",
          "dep_3",
          "dep_4"
         ],
         "yaxis": "y"
        },
        {
         "base": [
          "2022-08-14T09:45:00.000000000",
          "2022-08-14T10:00:00.000000000",
          "2022-08-14T12:30:00.000000000",
          "2022-08-14T14:30:00.000000000"
         ],
         "hovertemplate": "Train=47820_14<br>Start=%{base}<br>Finish=%{x}<br>Tâches=%{y}<extra></extra>",
         "legendgroup": "47820_14",
         "marker": {
          "color": "#FF6692",
          "pattern": {
           "shape": ""
          }
         },
         "name": "47820_14",
         "orientation": "h",
         "showlegend": true,
         "textposition": "auto",
         "type": "bar",
         "x": {
          "bdata": "oLsNAEBUiQCguw0AgE8SAA==",
          "dtype": "i4"
         },
         "xaxis": "x",
         "y": [
          "dep_1",
          "dep_2",
          "dep_3",
          "dep_4"
         ],
         "yaxis": "y"
        },
        {
         "base": [
          "2022-08-12T23:30:00.000000000",
          "2022-08-12T23:45:00.000000000",
          "2022-08-14T05:30:00.000000000",
          "2022-08-14T05:45:00.000000000"
         ],
         "hovertemplate": "Train=489447_14<br>Start=%{base}<br>Finish=%{x}<br>Tâches=%{y}<extra></extra>",
         "legendgroup": "489447_14",
         "marker": {
          "color": "#B6E880",
          "pattern": {
           "shape": ""
          }
         },
         "name": "489447_14",
         "orientation": "h",
         "showlegend": true,
         "textposition": "auto",
         "type": "bar",
         "x": {
          "bdata": "oLsNAEBUiQCguw0AgE8SAA==",
          "dtype": "i4"
         },
         "xaxis": "x",
         "y": [
          "dep_1",
          "dep_2",
          "dep_3",
          "dep_4"
         ],
         "yaxis": "y"
        },
        {
         "base": [
          "2022-08-14T00:30:00.000000000",
          "2022-08-14T00:45:00.000000000",
          "2022-08-14T03:15:00.000000000",
          "2022-08-14T03:30:00.000000000"
         ],
         "hovertemplate": "Train=54003_14<br>Start=%{base}<br>Finish=%{x}<br>Tâches=%{y}<extra></extra>",
         "legendgroup": "54003_14",
         "marker": {
          "color": "#FF97FF",
          "pattern": {
           "shape": ""
          }
         },
         "name": "54003_14",
         "orientation": "h",
         "showlegend": true,
         "textposition": "auto",
         "type": "bar",
         "x": {
          "bdata": "oLsNAEBUiQCguw0AgE8SAA==",
          "dtype": "i4"
         },
         "xaxis": "x",
         "y": [
          "dep_1",
          "dep_2",
          "dep_3",
          "dep_4"
         ],
         "yaxis": "y"
        },
        {
         "base": [
          "2022-08-14T00:00:00.000000000",
          "2022-08-14T00:15:00.000000000",
          "2022-08-14T02:45:00.000000000",
          "2022-08-14T15:15:00.000000000"
         ],
         "hovertemplate": "Train=54053_14<br>Start=%{base}<br>Finish=%{x}<br>Tâches=%{y}<extra></extra>",
         "legendgroup": "54053_14",
         "marker": {
          "color": "#FECB52",
          "pattern": {
           "shape": ""
          }
         },
         "name": "54053_14",
         "orientation": "h",
         "showlegend": true,
         "textposition": "auto",
         "type": "bar",
         "x": {
          "bdata": "oLsNAEBUiQCguw0AgE8SAA==",
          "dtype": "i4"
         },
         "xaxis": "x",
         "y": [
          "dep_1",
          "dep_2",
          "dep_3",
          "dep_4"
         ],
         "yaxis": "y"
        },
        {
         "base": [
          "2022-08-13T03:15:00.000000000",
          "2022-08-13T03:30:00.000000000",
          "2022-08-14T00:45:00.000000000",
          "2022-08-14T01:00:00.000000000"
         ],
         "hovertemplate": "Train=54055_14<br>Start=%{base}<br>Finish=%{x}<br>Tâches=%{y}<extra></extra>",
         "legendgroup": "54055_14",
         "marker": {
          "color": "#636efa",
          "pattern": {
           "shape": ""
          }
         },
         "name": "54055_14",
         "orientation": "h",
         "showlegend": true,
         "textposition": "auto",
         "type": "bar",
         "x": {
          "bdata": "oLsNAEBUiQCguw0AgE8SAA==",
          "dtype": "i4"
         },
         "xaxis": "x",
         "y": [
          "dep_1",
          "dep_2",
          "dep_3",
          "dep_4"
         ],
         "yaxis": "y"
        },
        {
         "base": [
          "2022-08-13T03:30:00.000000000",
          "2022-08-13T03:45:00.000000000",
          "2022-08-14T03:00:00.000000000",
          "2022-08-14T03:30:00.000000000"
         ],
         "hovertemplate": "Train=54086_14<br>Start=%{base}<br>Finish=%{x}<br>Tâches=%{y}<extra></extra>",
         "legendgroup": "54086_14",
         "marker": {
          "color": "#EF553B",
          "pattern": {
           "shape": ""
          }
         },
         "name": "54086_14",
         "orientation": "h",
         "showlegend": true,
         "textposition": "auto",
         "type": "bar",
         "x": {
          "bdata": "oLsNAEBUiQCguw0AgE8SAA==",
          "dtype": "i4"
         },
         "xaxis": "x",
         "y": [
          "dep_1",
          "dep_2",
          "dep_3",
          "dep_4"
         ],
         "yaxis": "y"
        },
        {
         "base": [
          "2022-08-14T04:00:00.000000000",
          "2022-08-14T04:15:00.000000000",
          "2022-08-15T19:00:00.000000000",
          "2022-08-15T19:15:00.000000000"
         ],
         "hovertemplate": "Train=400014_15<br>Start=%{base}<br>Finish=%{x}<br>Tâches=%{y}<extra></extra>",
         "legendgroup": "400014_15",
         "marker": {
          "color": "#00cc96",
          "pattern": {
           "shape": ""
          }
         },
         "name": "400014_15",
         "orientation": "h",
         "showlegend": true,
         "textposition": "auto",
         "type": "bar",
         "x": {
          "bdata": "oLsNAEBUiQCguw0AgE8SAA==",
          "dtype": "i4"
         },
         "xaxis": "x",
         "y": [
          "dep_1",
          "dep_2",
          "dep_3",
          "dep_4"
         ],
         "yaxis": "y"
        },
        {
         "base": [
          "2022-08-13T03:00:00.000000000",
          "2022-08-15T02:30:00.000000000",
          "2022-08-15T14:15:00.000000000",
          "2022-08-15T14:30:00.000000000"
         ],
         "hovertemplate": "Train=431035_15<br>Start=%{base}<br>Finish=%{x}<br>Tâches=%{y}<extra></extra>",
         "legendgroup": "431035_15",
         "marker": {
          "color": "#ab63fa",
          "pattern": {
           "shape": ""
          }
         },
         "name": "431035_15",
         "orientation": "h",
         "showlegend": true,
         "textposition": "auto",
         "type": "bar",
         "x": {
          "bdata": "oLsNAEBUiQCguw0AgE8SAA==",
          "dtype": "i4"
         },
         "xaxis": "x",
         "y": [
          "dep_1",
          "dep_2",
          "dep_3",
          "dep_4"
         ],
         "yaxis": "y"
        },
        {
         "base": [
          "2022-08-13T04:00:00.000000000",
          "2022-08-13T04:15:00.000000000",
          "2022-08-15T04:30:00.000000000",
          "2022-08-15T05:15:00.000000000"
         ],
         "hovertemplate": "Train=431121_15<br>Start=%{base}<br>Finish=%{x}<br>Tâches=%{y}<extra></extra>",
         "legendgroup": "431121_15",
         "marker": {
          "color": "#FFA15A",
          "pattern": {
           "shape": ""
          }
         },
         "name": "431121_15",
         "orientation": "h",
         "showlegend": true,
         "textposition": "auto",
         "type": "bar",
         "x": {
          "bdata": "oLsNAEBUiQCguw0AgE8SAA==",
          "dtype": "i4"
         },
         "xaxis": "x",
         "y": [
          "dep_1",
          "dep_2",
          "dep_3",
          "dep_4"
         ],
         "yaxis": "y"
        },
        {
         "base": [
          "2022-08-13T23:30:00.000000000",
          "2022-08-13T23:45:00.000000000",
          "2022-08-15T04:00:00.000000000",
          "2022-08-15T07:00:00.000000000"
         ],
         "hovertemplate": "Train=450226_15<br>Start=%{base}<br>Finish=%{x}<br>Tâches=%{y}<extra></extra>",
         "legendgroup": "450226_15",
         "marker": {
          "color": "#19d3f3",
          "pattern": {
           "shape": ""
          }
         },
         "name": "450226_15",
         "orientation": "h",
         "showlegend": true,
         "textposition": "auto",
         "type": "bar",
         "x": {
          "bdata": "oLsNAEBUiQCguw0AgE8SAA==",
          "dtype": "i4"
         },
         "xaxis": "x",
         "y": [
          "dep_1",
          "dep_2",
          "dep_3",
          "dep_4"
         ],
         "yaxis": "y"
        },
        {
         "base": [
          "2022-08-13T04:15:00.000000000",
          "2022-08-15T02:15:00.000000000",
          "2022-08-15T04:45:00.000000000",
          "2022-08-15T05:45:00.000000000"
         ],
         "hovertemplate": "Train=489447_15<br>Start=%{base}<br>Finish=%{x}<br>Tâches=%{y}<extra></extra>",
         "legendgroup": "489447_15",
         "marker": {
          "color": "#FF6692",
          "pattern": {
           "shape": ""
          }
         },
         "name": "489447_15",
         "orientation": "h",
         "showlegend": true,
         "textposition": "auto",
         "type": "bar",
         "x": {
          "bdata": "oLsNAEBUiQCguw0AgE8SAA==",
          "dtype": "i4"
         },
         "xaxis": "x",
         "y": [
          "dep_1",
          "dep_2",
          "dep_3",
          "dep_4"
         ],
         "yaxis": "y"
        },
        {
         "base": [
          "2022-08-14T04:15:00.000000000",
          "2022-08-14T04:30:00.000000000",
          "2022-08-15T03:00:00.000000000",
          "2022-08-15T03:30:00.000000000"
         ],
         "hovertemplate": "Train=54003_15<br>Start=%{base}<br>Finish=%{x}<br>Tâches=%{y}<extra></extra>",
         "legendgroup": "54003_15",
         "marker": {
          "color": "#B6E880",
          "pattern": {
           "shape": ""
          }
         },
         "name": "54003_15",
         "orientation": "h",
         "showlegend": true,
         "textposition": "auto",
         "type": "bar",
         "x": {
          "bdata": "oLsNAEBUiQCguw0AgE8SAA==",
          "dtype": "i4"
         },
         "xaxis": "x",
         "y": [
          "dep_1",
          "dep_2",
          "dep_3",
          "dep_4"
         ],
         "yaxis": "y"
        },
        {
         "base": [
          "2022-08-13T06:30:00.000000000",
          "2022-08-13T06:45:00.000000000",
          "2022-08-15T04:15:00.000000000",
          "2022-08-15T05:00:00.000000000"
         ],
         "hovertemplate": "Train=54051_15<br>Start=%{base}<br>Finish=%{x}<br>Tâches=%{y}<extra></extra>",
         "legendgroup": "54051_15",
         "marker": {
          "color": "#FF97FF",
          "pattern": {
           "shape": ""
          }
         },
         "name": "54051_15",
         "orientation": "h",
         "showlegend": true,
         "textposition": "auto",
         "type": "bar",
         "x": {
          "bdata": "oLsNAEBUiQCguw0AgE8SAA==",
          "dtype": "i4"
         },
         "xaxis": "x",
         "y": [
          "dep_1",
          "dep_2",
          "dep_3",
          "dep_4"
         ],
         "yaxis": "y"
        },
        {
         "base": [
          "2022-08-15T00:30:00.000000000",
          "2022-08-15T00:45:00.000000000",
          "2022-08-15T03:15:00.000000000",
          "2022-08-15T03:30:00.000000000"
         ],
         "hovertemplate": "Train=54086_15<br>Start=%{base}<br>Finish=%{x}<br>Tâches=%{y}<extra></extra>",
         "legendgroup": "54086_15",
         "marker": {
          "color": "#FECB52",
          "pattern": {
           "shape": ""
          }
         },
         "name": "54086_15",
         "orientation": "h",
         "showlegend": true,
         "textposition": "auto",
         "type": "bar",
         "x": {
          "bdata": "oLsNAEBUiQCguw0AgE8SAA==",
          "dtype": "i4"
         },
         "xaxis": "x",
         "y": [
          "dep_1",
          "dep_2",
          "dep_3",
          "dep_4"
         ],
         "yaxis": "y"
        },
        {
         "base": [
          "2022-08-14T00:45:00.000000000",
          "2022-08-14T01:00:00.000000000",
          "2022-08-15T13:30:00.000000000",
          "2022-08-15T13:45:00.000000000"
         ],
         "hovertemplate": "Train=54231_15<br>Start=%{base}<br>Finish=%{x}<br>Tâches=%{y}<extra></extra>",
         "legendgroup": "54231_15",
         "marker": {
          "color": "#636efa",
          "pattern": {
           "shape": ""
          }
         },
         "name": "54231_15",
         "orientation": "h",
         "showlegend": true,
         "textposition": "auto",
         "type": "bar",
         "x": {
          "bdata": "oLsNAEBUiQCguw0AgE8SAA==",
          "dtype": "i4"
         },
         "xaxis": "x",
         "y": [
          "dep_1",
          "dep_2",
          "dep_3",
          "dep_4"
         ],
         "yaxis": "y"
        },
        {
         "base": [
          "2022-08-13T23:45:00.000000000",
          "2022-08-15T23:30:00.000000000",
          "2022-08-16T02:00:00.000000000",
          "2022-08-16T02:15:00.000000000"
         ],
         "hovertemplate": "Train=41258_16<br>Start=%{base}<br>Finish=%{x}<br>Tâches=%{y}<extra></extra>",
         "legendgroup": "41258_16",
         "marker": {
          "color": "#EF553B",
          "pattern": {
           "shape": ""
          }
         },
         "name": "41258_16",
         "orientation": "h",
         "showlegend": true,
         "textposition": "auto",
         "type": "bar",
         "x": {
          "bdata": "oLsNAEBUiQCguw0AgE8SAA==",
          "dtype": "i4"
         },
         "xaxis": "x",
         "y": [
          "dep_1",
          "dep_2",
          "dep_3",
          "dep_4"
         ],
         "yaxis": "y"
        },
        {
         "base": [
          "2022-08-12T12:30:00.000000000",
          "2022-08-12T12:45:00.000000000",
          "2022-08-16T05:30:00.000000000",
          "2022-08-16T05:45:00.000000000"
         ],
         "hovertemplate": "Train=431091_16<br>Start=%{base}<br>Finish=%{x}<br>Tâches=%{y}<extra></extra>",
         "legendgroup": "431091_16",
         "marker": {
          "color": "#00cc96",
          "pattern": {
           "shape": ""
          }
         },
         "name": "431091_16",
         "orientation": "h",
         "showlegend": true,
         "textposition": "auto",
         "type": "bar",
         "x": {
          "bdata": "oLsNAEBUiQCguw0AgE8SAA==",
          "dtype": "i4"
         },
         "xaxis": "x",
         "y": [
          "dep_1",
          "dep_2",
          "dep_3",
          "dep_4"
         ],
         "yaxis": "y"
        },
        {
         "base": [
          "2022-08-13T21:00:00.000000000",
          "2022-08-13T21:15:00.000000000",
          "2022-08-16T01:30:00.000000000",
          "2022-08-16T01:45:00.000000000"
         ],
         "hovertemplate": "Train=489044_16<br>Start=%{base}<br>Finish=%{x}<br>Tâches=%{y}<extra></extra>",
         "legendgroup": "489044_16",
         "marker": {
          "color": "#ab63fa",
          "pattern": {
           "shape": ""
          }
         },
         "name": "489044_16",
         "orientation": "h",
         "showlegend": true,
         "textposition": "auto",
         "type": "bar",
         "x": {
          "bdata": "oLsNAEBUiQCguw0AgE8SAA==",
          "dtype": "i4"
         },
         "xaxis": "x",
         "y": [
          "dep_1",
          "dep_2",
          "dep_3",
          "dep_4"
         ],
         "yaxis": "y"
        },
        {
         "base": [
          "2022-08-11T22:45:00.000000000",
          "2022-08-11T23:00:00.000000000",
          "2022-08-16T04:45:00.000000000",
          "2022-08-16T05:00:00.000000000"
         ],
         "hovertemplate": "Train=54051_16<br>Start=%{base}<br>Finish=%{x}<br>Tâches=%{y}<extra></extra>",
         "legendgroup": "54051_16",
         "marker": {
          "color": "#FFA15A",
          "pattern": {
           "shape": ""
          }
         },
         "name": "54051_16",
         "orientation": "h",
         "showlegend": true,
         "textposition": "auto",
         "type": "bar",
         "x": {
          "bdata": "oLsNAEBUiQCguw0AgE8SAA==",
          "dtype": "i4"
         },
         "xaxis": "x",
         "y": [
          "dep_1",
          "dep_2",
          "dep_3",
          "dep_4"
         ],
         "yaxis": "y"
        },
        {
         "base": [
          "2022-08-13T22:30:00.000000000",
          "2022-08-13T22:45:00.000000000",
          "2022-08-17T02:30:00.000000000",
          "2022-08-17T02:45:00.000000000"
         ],
         "hovertemplate": "Train=412124_17<br>Start=%{base}<br>Finish=%{x}<br>Tâches=%{y}<extra></extra>",
         "legendgroup": "412124_17",
         "marker": {
          "color": "#19d3f3",
          "pattern": {
           "shape": ""
          }
         },
         "name": "412124_17",
         "orientation": "h",
         "showlegend": true,
         "textposition": "auto",
         "type": "bar",
         "x": {
          "bdata": "oLsNAEBUiQCguw0AgE8SAA==",
          "dtype": "i4"
         },
         "xaxis": "x",
         "y": [
          "dep_1",
          "dep_2",
          "dep_3",
          "dep_4"
         ],
         "yaxis": "y"
        },
        {
         "base": [
          "2022-08-10T13:45:00.000000000",
          "2022-08-10T14:00:00.000000000",
          "2022-08-17T10:15:00.000000000",
          "2022-08-17T10:30:00.000000000"
         ],
         "hovertemplate": "Train=431113_17<br>Start=%{base}<br>Finish=%{x}<br>Tâches=%{y}<extra></extra>",
         "legendgroup": "431113_17",
         "marker": {
          "color": "#FF6692",
          "pattern": {
           "shape": ""
          }
         },
         "name": "431113_17",
         "orientation": "h",
         "showlegend": true,
         "textposition": "auto",
         "type": "bar",
         "x": {
          "bdata": "oLsNAEBUiQCguw0AgE8SAA==",
          "dtype": "i4"
         },
         "xaxis": "x",
         "y": [
          "dep_1",
          "dep_2",
          "dep_3",
          "dep_4"
         ],
         "yaxis": "y"
        }
       ],
       "layout": {
        "barmode": "overlay",
        "legend": {
         "title": {
          "text": "Train"
         },
         "tracegroupgap": 0
        },
        "margin": {
         "t": 60
        },
        "template": {
         "data": {
          "bar": [
           {
            "error_x": {
             "color": "#2a3f5f"
            },
            "error_y": {
             "color": "#2a3f5f"
            },
            "marker": {
             "line": {
              "color": "#E5ECF6",
              "width": 0.5
             },
             "pattern": {
              "fillmode": "overlay",
              "size": 10,
              "solidity": 0.2
             }
            },
            "type": "bar"
           }
          ],
          "barpolar": [
           {
            "marker": {
             "line": {
              "color": "#E5ECF6",
              "width": 0.5
             },
             "pattern": {
              "fillmode": "overlay",
              "size": 10,
              "solidity": 0.2
             }
            },
            "type": "barpolar"
           }
          ],
          "carpet": [
           {
            "aaxis": {
             "endlinecolor": "#2a3f5f",
             "gridcolor": "white",
             "linecolor": "white",
             "minorgridcolor": "white",
             "startlinecolor": "#2a3f5f"
            },
            "baxis": {
             "endlinecolor": "#2a3f5f",
             "gridcolor": "white",
             "linecolor": "white",
             "minorgridcolor": "white",
             "startlinecolor": "#2a3f5f"
            },
            "type": "carpet"
           }
          ],
          "choropleth": [
           {
            "colorbar": {
             "outlinewidth": 0,
             "ticks": ""
            },
            "type": "choropleth"
           }
          ],
          "contour": [
           {
            "colorbar": {
             "outlinewidth": 0,
             "ticks": ""
            },
            "colorscale": [
             [
              0,
              "#0d0887"
             ],
             [
              0.1111111111111111,
              "#46039f"
             ],
             [
              0.2222222222222222,
              "#7201a8"
             ],
             [
              0.3333333333333333,
              "#9c179e"
             ],
             [
              0.4444444444444444,
              "#bd3786"
             ],
             [
              0.5555555555555556,
              "#d8576b"
             ],
             [
              0.6666666666666666,
              "#ed7953"
             ],
             [
              0.7777777777777778,
              "#fb9f3a"
             ],
             [
              0.8888888888888888,
              "#fdca26"
             ],
             [
              1,
              "#f0f921"
             ]
            ],
            "type": "contour"
           }
          ],
          "contourcarpet": [
           {
            "colorbar": {
             "outlinewidth": 0,
             "ticks": ""
            },
            "type": "contourcarpet"
           }
          ],
          "heatmap": [
           {
            "colorbar": {
             "outlinewidth": 0,
             "ticks": ""
            },
            "colorscale": [
             [
              0,
              "#0d0887"
             ],
             [
              0.1111111111111111,
              "#46039f"
             ],
             [
              0.2222222222222222,
              "#7201a8"
             ],
             [
              0.3333333333333333,
              "#9c179e"
             ],
             [
              0.4444444444444444,
              "#bd3786"
             ],
             [
              0.5555555555555556,
              "#d8576b"
             ],
             [
              0.6666666666666666,
              "#ed7953"
             ],
             [
              0.7777777777777778,
              "#fb9f3a"
             ],
             [
              0.8888888888888888,
              "#fdca26"
             ],
             [
              1,
              "#f0f921"
             ]
            ],
            "type": "heatmap"
           }
          ],
          "histogram": [
           {
            "marker": {
             "pattern": {
              "fillmode": "overlay",
              "size": 10,
              "solidity": 0.2
             }
            },
            "type": "histogram"
           }
          ],
          "histogram2d": [
           {
            "colorbar": {
             "outlinewidth": 0,
             "ticks": ""
            },
            "colorscale": [
             [
              0,
              "#0d0887"
             ],
             [
              0.1111111111111111,
              "#46039f"
             ],
             [
              0.2222222222222222,
              "#7201a8"
             ],
             [
              0.3333333333333333,
              "#9c179e"
             ],
             [
              0.4444444444444444,
              "#bd3786"
             ],
             [
              0.5555555555555556,
              "#d8576b"
             ],
             [
              0.6666666666666666,
              "#ed7953"
             ],
             [
              0.7777777777777778,
              "#fb9f3a"
             ],
             [
              0.8888888888888888,
              "#fdca26"
             ],
             [
              1,
              "#f0f921"
             ]
            ],
            "type": "histogram2d"
           }
          ],
          "histogram2dcontour": [
           {
            "colorbar": {
             "outlinewidth": 0,
             "ticks": ""
            },
            "colorscale": [
             [
              0,
              "#0d0887"
             ],
             [
              0.1111111111111111,
              "#46039f"
             ],
             [
              0.2222222222222222,
              "#7201a8"
             ],
             [
              0.3333333333333333,
              "#9c179e"
             ],
             [
              0.4444444444444444,
              "#bd3786"
             ],
             [
              0.5555555555555556,
              "#d8576b"
             ],
             [
              0.6666666666666666,
              "#ed7953"
             ],
             [
              0.7777777777777778,
              "#fb9f3a"
             ],
             [
              0.8888888888888888,
              "#fdca26"
             ],
             [
              1,
              "#f0f921"
             ]
            ],
            "type": "histogram2dcontour"
           }
          ],
          "mesh3d": [
           {
            "colorbar": {
             "outlinewidth": 0,
             "ticks": ""
            },
            "type": "mesh3d"
           }
          ],
          "parcoords": [
           {
            "line": {
             "colorbar": {
              "outlinewidth": 0,
              "ticks": ""
             }
            },
            "type": "parcoords"
           }
          ],
          "pie": [
           {
            "automargin": true,
            "type": "pie"
           }
          ],
          "scatter": [
           {
            "fillpattern": {
             "fillmode": "overlay",
             "size": 10,
             "solidity": 0.2
            },
            "type": "scatter"
           }
          ],
          "scatter3d": [
           {
            "line": {
             "colorbar": {
              "outlinewidth": 0,
              "ticks": ""
             }
            },
            "marker": {
             "colorbar": {
              "outlinewidth": 0,
              "ticks": ""
             }
            },
            "type": "scatter3d"
           }
          ],
          "scattercarpet": [
           {
            "marker": {
             "colorbar": {
              "outlinewidth": 0,
              "ticks": ""
             }
            },
            "type": "scattercarpet"
           }
          ],
          "scattergeo": [
           {
            "marker": {
             "colorbar": {
              "outlinewidth": 0,
              "ticks": ""
             }
            },
            "type": "scattergeo"
           }
          ],
          "scattergl": [
           {
            "marker": {
             "colorbar": {
              "outlinewidth": 0,
              "ticks": ""
             }
            },
            "type": "scattergl"
           }
          ],
          "scattermap": [
           {
            "marker": {
             "colorbar": {
              "outlinewidth": 0,
              "ticks": ""
             }
            },
            "type": "scattermap"
           }
          ],
          "scattermapbox": [
           {
            "marker": {
             "colorbar": {
              "outlinewidth": 0,
              "ticks": ""
             }
            },
            "type": "scattermapbox"
           }
          ],
          "scatterpolar": [
           {
            "marker": {
             "colorbar": {
              "outlinewidth": 0,
              "ticks": ""
             }
            },
            "type": "scatterpolar"
           }
          ],
          "scatterpolargl": [
           {
            "marker": {
             "colorbar": {
              "outlinewidth": 0,
              "ticks": ""
             }
            },
            "type": "scatterpolargl"
           }
          ],
          "scatterternary": [
           {
            "marker": {
             "colorbar": {
              "outlinewidth": 0,
              "ticks": ""
             }
            },
            "type": "scatterternary"
           }
          ],
          "surface": [
           {
            "colorbar": {
             "outlinewidth": 0,
             "ticks": ""
            },
            "colorscale": [
             [
              0,
              "#0d0887"
             ],
             [
              0.1111111111111111,
              "#46039f"
             ],
             [
              0.2222222222222222,
              "#7201a8"
             ],
             [
              0.3333333333333333,
              "#9c179e"
             ],
             [
              0.4444444444444444,
              "#bd3786"
             ],
             [
              0.5555555555555556,
              "#d8576b"
             ],
             [
              0.6666666666666666,
              "#ed7953"
             ],
             [
              0.7777777777777778,
              "#fb9f3a"
             ],
             [
              0.8888888888888888,
              "#fdca26"
             ],
             [
              1,
              "#f0f921"
             ]
            ],
            "type": "surface"
           }
          ],
          "table": [
           {
            "cells": {
             "fill": {
              "color": "#EBF0F8"
             },
             "line": {
              "color": "white"
             }
            },
            "header": {
             "fill": {
              "color": "#C8D4E3"
             },
             "line": {
              "color": "white"
             }
            },
            "type": "table"
           }
          ]
         },
         "layout": {
          "annotationdefaults": {
           "arrowcolor": "#2a3f5f",
           "arrowhead": 0,
           "arrowwidth": 1
          },
          "autotypenumbers": "strict",
          "coloraxis": {
           "colorbar": {
            "outlinewidth": 0,
            "ticks": ""
           }
          },
          "colorscale": {
           "diverging": [
            [
             0,
             "#8e0152"
            ],
            [
             0.1,
             "#c51b7d"
            ],
            [
             0.2,
             "#de77ae"
            ],
            [
             0.3,
             "#f1b6da"
            ],
            [
             0.4,
             "#fde0ef"
            ],
            [
             0.5,
             "#f7f7f7"
            ],
            [
             0.6,
             "#e6f5d0"
            ],
            [
             0.7,
             "#b8e186"
            ],
            [
             0.8,
             "#7fbc41"
            ],
            [
             0.9,
             "#4d9221"
            ],
            [
             1,
             "#276419"
            ]
           ],
           "sequential": [
            [
             0,
             "#0d0887"
            ],
            [
             0.1111111111111111,
             "#46039f"
            ],
            [
             0.2222222222222222,
             "#7201a8"
            ],
            [
             0.3333333333333333,
             "#9c179e"
            ],
            [
             0.4444444444444444,
             "#bd3786"
            ],
            [
             0.5555555555555556,
             "#d8576b"
            ],
            [
             0.6666666666666666,
             "#ed7953"
            ],
            [
             0.7777777777777778,
             "#fb9f3a"
            ],
            [
             0.8888888888888888,
             "#fdca26"
            ],
            [
             1,
             "#f0f921"
            ]
           ],
           "sequentialminus": [
            [
             0,
             "#0d0887"
            ],
            [
             0.1111111111111111,
             "#46039f"
            ],
            [
             0.2222222222222222,
             "#7201a8"
            ],
            [
             0.3333333333333333,
             "#9c179e"
            ],
            [
             0.4444444444444444,
             "#bd3786"
            ],
            [
             0.5555555555555556,
             "#d8576b"
            ],
            [
             0.6666666666666666,
             "#ed7953"
            ],
            [
             0.7777777777777778,
             "#fb9f3a"
            ],
            [
             0.8888888888888888,
             "#fdca26"
            ],
            [
             1,
             "#f0f921"
            ]
           ]
          },
          "colorway": [
           "#636efa",
           "#EF553B",
           "#00cc96",
           "#ab63fa",
           "#FFA15A",
           "#19d3f3",
           "#FF6692",
           "#B6E880",
           "#FF97FF",
           "#FECB52"
          ],
          "font": {
           "color": "#2a3f5f"
          },
          "geo": {
           "bgcolor": "white",
           "lakecolor": "white",
           "landcolor": "#E5ECF6",
           "showlakes": true,
           "showland": true,
           "subunitcolor": "white"
          },
          "hoverlabel": {
           "align": "left"
          },
          "hovermode": "closest",
          "mapbox": {
           "style": "light"
          },
          "paper_bgcolor": "white",
          "plot_bgcolor": "#E5ECF6",
          "polar": {
           "angularaxis": {
            "gridcolor": "white",
            "linecolor": "white",
            "ticks": ""
           },
           "bgcolor": "#E5ECF6",
           "radialaxis": {
            "gridcolor": "white",
            "linecolor": "white",
            "ticks": ""
           }
          },
          "scene": {
           "xaxis": {
            "backgroundcolor": "#E5ECF6",
            "gridcolor": "white",
            "gridwidth": 2,
            "linecolor": "white",
            "showbackground": true,
            "ticks": "",
            "zerolinecolor": "white"
           },
           "yaxis": {
            "backgroundcolor": "#E5ECF6",
            "gridcolor": "white",
            "gridwidth": 2,
            "linecolor": "white",
            "showbackground": true,
            "ticks": "",
            "zerolinecolor": "white"
           },
           "zaxis": {
            "backgroundcolor": "#E5ECF6",
            "gridcolor": "white",
            "gridwidth": 2,
            "linecolor": "white",
            "showbackground": true,
            "ticks": "",
            "zerolinecolor": "white"
           }
          },
          "shapedefaults": {
           "line": {
            "color": "#2a3f5f"
           }
          },
          "ternary": {
           "aaxis": {
            "gridcolor": "white",
            "linecolor": "white",
            "ticks": ""
           },
           "baxis": {
            "gridcolor": "white",
            "linecolor": "white",
            "ticks": ""
           },
           "bgcolor": "#E5ECF6",
           "caxis": {
            "gridcolor": "white",
            "linecolor": "white",
            "ticks": ""
           }
          },
          "title": {
           "x": 0.05
          },
          "xaxis": {
           "automargin": true,
           "gridcolor": "white",
           "linecolor": "white",
           "ticks": "",
           "title": {
            "standoff": 15
           },
           "zerolinecolor": "white",
           "zerolinewidth": 2
          },
          "yaxis": {
           "automargin": true,
           "gridcolor": "white",
           "linecolor": "white",
           "ticks": "",
           "title": {
            "standoff": 15
           },
           "zerolinecolor": "white",
           "zerolinewidth": 2
          }
         }
        },
        "xaxis": {
         "anchor": "y",
         "domain": [
          0,
          1
         ],
         "tickformat": "%d/%m/%y %H:%M",
         "title": {
          "text": "Temps"
         },
         "type": "date"
        },
        "yaxis": {
         "anchor": "x",
         "categoryarray": [
          "dep_4",
          "dep_3",
          "dep_2",
          "dep_1",
          "arr_3",
          "arr_2",
          "arr_1"
         ],
         "categoryorder": "array",
         "domain": [
          0,
          1
         ],
         "title": {
          "text": "Tâches"
         }
        }
       }
      }
     },
     "metadata": {},
     "output_type": "display_data"
    }
   ],
   "source": [
    "# Liste ordonnée des machines\n",
    "ORDERED_MACHINES = [\"arr_1\", \"arr_2\", \"arr_3\",\n",
    "                        \"dep_1\", \"dep_2\", \"dep_3\", \"dep_4\"]\n",
    "\n",
    "# Données fournies sous forme de liste de dictionnaires\n",
    "tasks = [\n",
    "        {\"Train\": n_arr,\n",
    "         \"Start\": base_time(1) + datetime.timedelta(minutes=15*var_arr.X),\n",
    "         \"Finish\": base_time(1) + datetime.timedelta(minutes=15*var_arr.X + Taches.T_ARR[m_arr]),\n",
    "         \"Machine\": f\"arr_{m_arr}\",\n",
    "         \"Tâches\": f\"arr_{m_arr}\"}\n",
    "        for (m_arr, n_arr), var_arr in t_arr.items()\n",
    "    ] + [\n",
    "        {\"Train\": n_dep,\n",
    "         \"Start\": base_time(1) + datetime.timedelta(minutes=15*var_dep.X),\n",
    "         \"Finish\": base_time(1) + datetime.timedelta(minutes=15*var_dep.X + Taches.T_DEP[m_dep]),\n",
    "         \"Machine\": f\"dep_{m_dep}\",\n",
    "         \"Tâches\": f\"dep_{m_dep}\"}\n",
    "        for (m_dep, n_dep), var_dep in t_dep.items()\n",
    "    ]\n",
    "\n",
    "# Construction du DataFrame pour la visualisation\n",
    "gantt_df = pd.DataFrame(tasks)\n",
    "\n",
    "# Regroupement des ressources par machine\n",
    "resource_per_machine = {}\n",
    "for task in tasks:\n",
    "    resource_per_machine.setdefault(\n",
    "        task[\"Machine\"], set()).add(task[\"Tâches\"])\n",
    "\n",
    "sorted_resources = list(itertools.chain.from_iterable(\n",
    "    [sorted(resource_per_machine[machine]) for machine in ORDERED_MACHINES]\n",
    "))\n",
    "\n",
    "fig = px.timeline(gantt_df, x_start=\"Start\",\n",
    "                    x_end=\"Finish\", y=\"Tâches\", color=\"Train\")\n",
    "fig.update_layout(xaxis=dict(title='Temps',\n",
    "                    tickformat='%d/%m/%y %H:%M'))\n",
    "fig.update_yaxes(categoryorder=\"array\",\n",
    "                    categoryarray=sorted_resources[::-1])\n",
    "fig.show()"
   ]
  }
 ],
 "metadata": {
  "kernelspec": {
   "display_name": "Opti",
   "language": "python",
   "name": "python3"
  },
  "language_info": {
   "codemirror_mode": {
    "name": "ipython",
    "version": 3
   },
   "file_extension": ".py",
   "mimetype": "text/x-python",
   "name": "python",
   "nbconvert_exporter": "python",
   "pygments_lexer": "ipython3",
   "version": "3.12.3"
  }
 },
 "nbformat": 4,
 "nbformat_minor": 2
}
