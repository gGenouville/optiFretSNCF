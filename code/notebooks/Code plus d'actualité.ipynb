{
 "cells": [
  {
   "cell_type": "code",
   "execution_count": 1,
   "metadata": {},
   "outputs": [],
   "source": [
    "# Modules de base\n",
    "import numpy as np\n",
    "import matplotlib.pyplot as plt\n",
    "\n",
    "# Module relatif à Gurobi\n",
    "from gurobipy import *"
   ]
  },
  {
   "cell_type": "code",
   "execution_count": 2,
   "metadata": {},
   "outputs": [
    {
     "name": "stdout",
     "output_type": "stream",
     "text": [
      "Restricted license - for non-production use only - expires 2026-11-23\n"
     ]
    }
   ],
   "source": [
    "model = Model(\"SNCF JALON 1\")\n",
    "\n",
    "N = 5           # Nombre de wagons\n",
    "M = 7           # Nombre de tâches à effectuer sur chaque wagon\n",
    "S = 60*24*7     # Nombre de minutes dans une semaine    \n",
    "\n",
    "t = model.addMVar(shape = (M,N), name = \"t\",vtype = GRB.INTEGER) # Temps de début de la tâche m sur le wagon n, en minute, comptée à partir du lundi 8 Aout 2022 00:00\n",
    "delta_1 = model.addMVar(shape = (M,N,N,2), name = \"delta_1\", vtype=GRB.BINARY)\n",
    "delta_2 = model.addMVar(shape = (M,N,11), name = \"delta_2\", vtype=GRB.BINARY)\n"
   ]
  },
  {
   "cell_type": "code",
   "execution_count": 3,
   "metadata": {},
   "outputs": [],
   "source": [
    "T = np.array([15,45,15,15,150,15,20])       # Durée des tâches\n",
    "t_a = None                                  # temps d'arrivée des wagons\n",
    "t_d = None                                  # temps de départ des wagons"
   ]
  },
  {
   "cell_type": "markdown",
   "metadata": {},
   "source": [
    "**Contraintes de temporalité des tâches sur un même wagon et respect des heures de départ et d'arrivée**"
   ]
  },
  {
   "cell_type": "code",
   "execution_count": 4,
   "metadata": {},
   "outputs": [
    {
     "ename": "TypeError",
     "evalue": "'NoneType' object is not subscriptable",
     "output_type": "error",
     "traceback": [
      "\u001b[0;31m---------------------------------------------------------------------------\u001b[0m",
      "\u001b[0;31mTypeError\u001b[0m                                 Traceback (most recent call last)",
      "Cell \u001b[0;32mIn[4], line 2\u001b[0m\n\u001b[1;32m      1\u001b[0m \u001b[38;5;28;01mfor\u001b[39;00m n \u001b[38;5;129;01min\u001b[39;00m \u001b[38;5;28mrange\u001b[39m(N):\n\u001b[0;32m----> 2\u001b[0m     model\u001b[38;5;241m.\u001b[39maddConstr(t[\u001b[38;5;241m0\u001b[39m,n] \u001b[38;5;241m>\u001b[39m\u001b[38;5;241m=\u001b[39m \u001b[43mt_a\u001b[49m\u001b[43m[\u001b[49m\u001b[43mn\u001b[49m\u001b[43m]\u001b[49m)               \u001b[38;5;66;03m# Début de la première tâche intervient après l'arrivée du wagon\u001b[39;00m\n\u001b[1;32m      3\u001b[0m     model\u001b[38;5;241m.\u001b[39maddConstr(t[M\u001b[38;5;241m-\u001b[39m\u001b[38;5;241m1\u001b[39m,n] \u001b[38;5;241m+\u001b[39m T[M\u001b[38;5;241m-\u001b[39m\u001b[38;5;241m1\u001b[39m] \u001b[38;5;241m<\u001b[39m\u001b[38;5;241m=\u001b[39m t_d[n])    \u001b[38;5;66;03m# Fin de la dernière tâche avant le départ du wagon\u001b[39;00m\n\u001b[1;32m      4\u001b[0m     \u001b[38;5;28;01mfor\u001b[39;00m m \u001b[38;5;129;01min\u001b[39;00m \u001b[38;5;28mrange\u001b[39m(M\u001b[38;5;241m-\u001b[39m\u001b[38;5;241m1\u001b[39m):\n",
      "\u001b[0;31mTypeError\u001b[0m: 'NoneType' object is not subscriptable"
     ]
    }
   ],
   "source": [
    "for n in range(N):\n",
    "    model.addConstr(t[0,n] >= t_a[n])               # Début de la première tâche intervient après l'arrivée du wagon\n",
    "    model.addConstr(t[M-1,n] + T[M-1] <= t_d[n])    # Fin de la dernière tâche avant le départ du wagon\n",
    "    for m in range(M-1):\n",
    "        model.addConstr(t[m,n] + T[m] <= t[m+1,n])  # Début tâche m+1 après la fin de la tâche m"
   ]
  },
  {
   "cell_type": "markdown",
   "metadata": {},
   "source": [
    "**Contrainte permettant d'avoir au plus un wagon par machine à chaque instant**"
   ]
  },
  {
   "cell_type": "code",
   "execution_count": null,
   "metadata": {},
   "outputs": [],
   "source": [
    "for m in [2,4,5]:\n",
    "    for n1 in range(N-1):\n",
    "        for n2 in range(n1+1,N):\n",
    "            model.addGenConstrIndicator(delta_1[m,n1,n2,0], True, t[m,n2] <= t[m,n1] - T[m])    # Fin tâche wagon n2 avant début tâche wagon n1\n",
    "            model.addGenConstrIndicator(delta_1[m,n1,n2,1], True, t[m,n2] >= t[m,n1] + T[m])    # Début tâche wagon n2 après fin tâche wagon n1\n",
    "            model.addConstr(delta_1[m,n1,n2,0] + delta_1[m,n1,n2,1] >= 1)                       # Un condition ou l'autre pour éciter le recouvrement"
   ]
  },
  {
   "cell_type": "markdown",
   "metadata": {},
   "source": [
    "**Contrainte du respect de l'ouverture du chantier de formation et de la disponibilité des machines**"
   ]
  },
  {
   "cell_type": "code",
   "execution_count": 6,
   "metadata": {},
   "outputs": [],
   "source": [
    "Limites = np.array([5,13,5*24+13,5*24+21,6*24+13,6*24+21,7*24+5,7*24+13])*60       # Horaires limites de la disponibilité du chantier de formation et des machines (en minutes)\n",
    "\n",
    "for m in [2,3,4,5]:\n",
    "    for n in range(N):\n",
    "        model.addGenConstrIndicator(delta_2[m,n,0], True, t[m,n] <= Limites[0] - T[m])  # Fin de la tâche m avant lundi 08/08 5h\n",
    "        model.addGenConstrIndicator(delta_2[m,n,1], True, t[m,n] >= Limites[1])         # Début de la tâche m après lundi 08/08 13h\n",
    "        model.addGenConstrIndicator(delta_2[m,n,2], True, t[m,n] <= Limites[2] - T[m])  # Fin de la tâche m avant samedi 13/08 13h\n",
    "        model.addGenConstrIndicator(delta_2[m,n,3], True, t[m,n] >= Limites[3])         # Début de la tâche m après samedi 13/08 21h\n",
    "        model.addGenConstrIndicator(delta_2[m,n,4], True, t[m,n] <= Limites[4]- T[m])   # Fin de la tâche m avant dimanche 14/08 13h\n",
    "        model.addGenConstrIndicator(delta_2[m,n,5], True, t[m,n] >= Limites[5])         # Début de la tâche m après dimanche 14/08 21h\n",
    "        model.addGenConstrIndicator(delta_2[m,n,6], True, t[m,n] <= Limites[6] - T[m])  # Fin de la tâche m avant lundi 15/08 5h\n",
    "        model.addGenConstrIndicator(delta_2[m,n,7], True, t[m,n] >= Limites[7])         # Début de la tâche m après lundi 15/08 13h\n",
    "        \n",
    "        model.addConstr(delta_2[m,n,8] == delta_2[m,n,1] * delta_2[m,n,2])              # Condition 2 et Condition 3\n",
    "        model.addConstr(delta_2[m,n,9] == delta_2[m,n,3] * delta_2[m,n,4])              # Condition 4 et Condition 5\n",
    "        model.addConstr(delta_2[m,n,10] == delta_2[m,n,5] * delta_2[m,n,6])             # Condition 6 et Condition 6\n",
    "        \n",
    "        model.addConstr(delta_2[m,n,0] + delta_2[m,n,8] + delta_2[m,n,9] + delta_2[m,n,10] + delta_2[m,n,7] >= 1) # C1 ou (C2 et C3) ou (C4 et C5) ou (C6 et C7) ou C8\n",
    "        "
   ]
  }
 ],
 "metadata": {
  "kernelspec": {
   "display_name": "transport",
   "language": "python",
   "name": "python3"
  },
  "language_info": {
   "codemirror_mode": {
    "name": "ipython",
    "version": 3
   },
   "file_extension": ".py",
   "mimetype": "text/x-python",
   "name": "python",
   "nbconvert_exporter": "python",
   "pygments_lexer": "ipython3",
   "version": "3.11.11"
  }
 },
 "nbformat": 4,
 "nbformat_minor": 2
}
