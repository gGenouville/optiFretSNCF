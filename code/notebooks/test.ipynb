{
 "cells": [
  {
   "cell_type": "code",
   "execution_count": 11,
   "metadata": {},
   "outputs": [],
   "source": [
    "import sys\n",
    "import os\n",
    "\n",
    "module_path = os.path.abspath(os.path.join('..', 'module'))\n",
    "sys.path.append(module_path)\n",
    "\n",
    "import utils as u"
   ]
  },
  {
   "cell_type": "code",
   "execution_count": 12,
   "metadata": {},
   "outputs": [
    {
     "name": "stdout",
     "output_type": "stream",
     "text": [
      "Chantiers\n",
      "  Chantier  Nombre de voies  Indisponibilites\n",
      "0  WPY_REC                3                 0\n",
      "1  WPY_FOR                3                 0\n",
      "2  WPY_DEP                3                 0\n",
      "Machines\n",
      "  Machine  Type de tache  Duree                   Indisponibilites\n",
      "0     DEB  Débranchement      15                                 0\n",
      "1     FOR      Formation      15  (6,13:00-13:00);(7, 13:00-13:00)\n",
      "2     DEG       Dégarage      15                                 0\n",
      "Sillons arrivee\n",
      "   n°TRAIN      HARR        JARR\n",
      "0  sillon1  09:00:00  02/05/2023\n",
      "1  sillon2  13:00:00  02/05/2023\n",
      "2  sillon3  16:00:00  02/05/2023\n",
      "Sillons depart\n",
      "   n°TRAIN      HDEP       JDEP\n",
      "0  sillon4  21:00:00 2023-05-02\n",
      "1  sillon5  21:00:00 2023-05-02\n",
      "2  sillon6  21:30:00 2023-05-02\n",
      "Correspondances\n",
      "   Id wagon         Jour arrivee n°Train arrivee Jour depart n°Train depart\n",
      "0         1  2023-05-02 00:00:00         sillon1  02/05/2023        sillon5\n",
      "1         2  2023-05-02 00:00:00         sillon1  02/05/2023        sillon6\n",
      "2         3           02/05/2023         sillon2  02/05/2023        sillon4\n",
      "3         4           02/05/2023         sillon2  02/05/2023        sillon5\n",
      "4         5           02/05/2023         sillon2  02/05/2023        sillon6\n",
      "5         6           02/05/2023         sillon3  02/05/2023        sillon4\n",
      "6         7           02/05/2023         sillon3  02/05/2023        sillon6\n",
      "Taches humaines\n",
      "  Type de train            Type de tache humaine  ... Chantier  Ordre\n",
      "0           ARR                arrivée Reception  ...  WPY_REC      1\n",
      "1           ARR                  préparation tri  ...  WPY_REC      2\n",
      "2           ARR                    débranchement  ...  WPY_REC      3\n",
      "3           DEP  appui voie + mise en place câle  ...  WPY_FOR      1\n",
      "4           DEP               attelage véhicules  ...  WPY_FOR      2\n",
      "5           DEP        dégarage / bouger de rame  ...  WPY_FOR      3\n",
      "6           DEP            essai de frein départ  ...  WPY_DEP      4\n",
      "\n",
      "[7 rows x 6 columns]\n",
      "Roulements agents\n",
      "    Roulement  ...  Connaissances chantiers\n",
      "0  roulement1  ...          WPY_FOR;WPY_DEP\n",
      "1  roulement2  ...  WPY_REC;WPY_FOR;WPY_DEP\n",
      "\n",
      "[2 rows x 5 columns]\n"
     ]
    }
   ],
   "source": [
    "sheets, dfs = u.data_open(\"./mini_instance.xlsx\")\n",
    "\n",
    "for s, df in zip(sheets, dfs):\n",
    "    print(s)\n",
    "    print(df)"
   ]
  }
 ],
 "metadata": {
  "kernelspec": {
   "display_name": "transport",
   "language": "python",
   "name": "python3"
  },
  "language_info": {
   "codemirror_mode": {
    "name": "ipython",
    "version": 3
   },
   "file_extension": ".py",
   "mimetype": "text/x-python",
   "name": "python",
   "nbconvert_exporter": "python",
   "pygments_lexer": "ipython3",
   "version": "3.11.11"
  }
 },
 "nbformat": 4,
 "nbformat_minor": 2
}
