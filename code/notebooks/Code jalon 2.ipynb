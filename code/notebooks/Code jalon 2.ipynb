{
 "cells": [
  {
   "cell_type": "code",
   "execution_count": 1,
   "metadata": {},
   "outputs": [],
   "source": [
    "import os\n",
    "import sys\n",
    "from gurobipy import *\n",
    "import pandas as pd\n",
    "import numpy as np\n",
    "import itertools\n",
    "import datetime\n",
    "import plotly.express as px\n",
    "import matplotlib.pyplot as plt\n",
    "import matplotlib.dates as mdates\n",
    "\n",
    "module_path = os.path.abspath(\"..\")\n",
    "sys.path.append(module_path)\n",
    "from module.modele2 import init_model, init_model2,Taches\n",
    "from module.utils2 import (\n",
    "    read_sillon,\n",
    "    init_t_a,\n",
    "    init_t_d,\n",
    "    init_dict_correspondance,\n",
    "    base_time,\n",
    "    init_limites_voies,\n",
    "    dernier_depart,\n",
    "    ecriture_donnees_sortie,\n",
    "    nombre_max_agents_sur_roulement,\n",
    "    nombre_roulements,\n",
    "    roulements_operants_sur_tache,\n",
    "    heure_debut_roulement,\n",
    "    comp,\n",
    ")\n",
    "from module.visualisation2 import (\n",
    "    visualisation_gantt,\n",
    "    visualisation_occupation\n",
    ")"
   ]
  },
  {
   "cell_type": "code",
   "execution_count": 2,
   "metadata": {},
   "outputs": [
    {
     "name": "stdout",
     "output_type": "stream",
     "text": [
      "{1: [Timestamp('2022-08-08 05:00:00'), Timestamp('2022-08-08 13:00:00'), Timestamp('2022-08-08 21:00:00'), Timestamp('2022-08-09 05:00:00'), Timestamp('2022-08-09 13:00:00'), Timestamp('2022-08-09 21:00:00'), Timestamp('2022-08-10 05:00:00'), Timestamp('2022-08-10 13:00:00'), Timestamp('2022-08-10 21:00:00'), Timestamp('2022-08-11 05:00:00'), Timestamp('2022-08-11 13:00:00'), Timestamp('2022-08-11 21:00:00'), Timestamp('2022-08-12 05:00:00'), Timestamp('2022-08-12 13:00:00'), Timestamp('2022-08-12 21:00:00'), Timestamp('2022-08-13 05:00:00'), Timestamp('2022-08-13 13:00:00'), Timestamp('2022-08-13 21:00:00'), Timestamp('2022-08-14 05:00:00'), Timestamp('2022-08-14 13:00:00'), Timestamp('2022-08-14 21:00:00'), Timestamp('2022-08-15 05:00:00'), Timestamp('2022-08-15 13:00:00'), Timestamp('2022-08-15 21:00:00')], 2: [Timestamp('2022-08-08 05:00:00'), Timestamp('2022-08-08 13:00:00'), Timestamp('2022-08-08 21:00:00'), Timestamp('2022-08-09 05:00:00'), Timestamp('2022-08-09 13:00:00'), Timestamp('2022-08-09 21:00:00'), Timestamp('2022-08-10 05:00:00'), Timestamp('2022-08-10 13:00:00'), Timestamp('2022-08-10 21:00:00'), Timestamp('2022-08-11 05:00:00'), Timestamp('2022-08-11 13:00:00'), Timestamp('2022-08-11 21:00:00'), Timestamp('2022-08-12 05:00:00'), Timestamp('2022-08-12 13:00:00'), Timestamp('2022-08-12 21:00:00'), Timestamp('2022-08-13 05:00:00'), Timestamp('2022-08-13 13:00:00'), Timestamp('2022-08-13 21:00:00'), Timestamp('2022-08-14 05:00:00'), Timestamp('2022-08-14 13:00:00'), Timestamp('2022-08-14 21:00:00'), Timestamp('2022-08-15 05:00:00'), Timestamp('2022-08-15 13:00:00'), Timestamp('2022-08-15 21:00:00')], 3: [Timestamp('2022-08-08 05:00:00'), Timestamp('2022-08-08 13:00:00'), Timestamp('2022-08-08 21:00:00'), Timestamp('2022-08-09 05:00:00'), Timestamp('2022-08-09 13:00:00'), Timestamp('2022-08-09 21:00:00'), Timestamp('2022-08-10 05:00:00'), Timestamp('2022-08-10 13:00:00'), Timestamp('2022-08-10 21:00:00'), Timestamp('2022-08-11 05:00:00'), Timestamp('2022-08-11 13:00:00'), Timestamp('2022-08-11 21:00:00'), Timestamp('2022-08-12 05:00:00'), Timestamp('2022-08-12 13:00:00'), Timestamp('2022-08-12 21:00:00'), Timestamp('2022-08-13 05:00:00'), Timestamp('2022-08-13 13:00:00'), Timestamp('2022-08-13 21:00:00'), Timestamp('2022-08-14 05:00:00'), Timestamp('2022-08-14 13:00:00'), Timestamp('2022-08-14 21:00:00'), Timestamp('2022-08-15 05:00:00'), Timestamp('2022-08-15 13:00:00'), Timestamp('2022-08-15 21:00:00')], 4: [Timestamp('2022-08-08 09:00:00'), Timestamp('2022-08-08 22:00:00'), Timestamp('2022-08-09 09:00:00'), Timestamp('2022-08-09 22:00:00'), Timestamp('2022-08-10 09:00:00'), Timestamp('2022-08-10 22:00:00'), Timestamp('2022-08-11 09:00:00'), Timestamp('2022-08-11 22:00:00'), Timestamp('2022-08-12 09:00:00'), Timestamp('2022-08-12 22:00:00'), Timestamp('2022-08-13 09:00:00'), Timestamp('2022-08-13 22:00:00'), Timestamp('2022-08-15 09:00:00'), Timestamp('2022-08-15 22:00:00')], 5: [Timestamp('2022-08-08 05:00:00'), Timestamp('2022-08-08 13:00:00'), Timestamp('2022-08-08 21:00:00'), Timestamp('2022-08-09 05:00:00'), Timestamp('2022-08-09 13:00:00'), Timestamp('2022-08-09 21:00:00'), Timestamp('2022-08-10 05:00:00'), Timestamp('2022-08-10 13:00:00'), Timestamp('2022-08-10 21:00:00'), Timestamp('2022-08-11 05:00:00'), Timestamp('2022-08-11 13:00:00'), Timestamp('2022-08-11 21:00:00'), Timestamp('2022-08-12 05:00:00'), Timestamp('2022-08-12 13:00:00'), Timestamp('2022-08-12 21:00:00'), Timestamp('2022-08-13 05:00:00'), Timestamp('2022-08-13 13:00:00'), Timestamp('2022-08-13 21:00:00'), Timestamp('2022-08-14 05:00:00'), Timestamp('2022-08-14 13:00:00'), Timestamp('2022-08-14 21:00:00'), Timestamp('2022-08-15 05:00:00'), Timestamp('2022-08-15 13:00:00'), Timestamp('2022-08-15 21:00:00')]}\n",
      "{1: 24, 2: 24, 3: 24, 4: 14, 5: 24}\n",
      "{('arr', 1): [1, 4], ('dep', 1): [2, 5], ('arr', 2): [1, 4], ('dep', 2): [2, 5], ('arr', 3): [1, 4], ('dep', 3): [2, 5], ('dep', 4): [3, 4, 5]}\n",
      "{('arr', 1): [1, 4], ('dep', 1): [2, 5], ('arr', 2): [1, 4], ('dep', 2): [2, 5], ('arr', 3): [1, 4], ('dep', 3): [2, 5], ('dep', 4): [3, 4, 5]}\n",
      "{1: 6, 2: 8, 3: 2, 4: 1, 5: 7}\n"
     ]
    }
   ],
   "source": [
    "# Charger le fichier Excel\n",
    "\n",
    "id_file = 3\n",
    "\n",
    "if id_file == 0:\n",
    "    file = \"mini_instance.xlsx\"\n",
    "elif id_file == 1:    \n",
    "    file = \"instance_WPY_realiste_jalon1.xlsx\"\n",
    "elif id_file == 2:\n",
    "    file = \"instance_WPY_realiste_jalon2.xlsx\"\n",
    "elif id_file == 3:\n",
    "    file = \"instance_WPY_simple.xlsx\"\n",
    "else:\n",
    "    raise ValueError(f\"Erreur : '{id_file}' n'est pas une valeur acceptable. Choisissez parmi 0, 1, 2 et 3.\")\n",
    "\n",
    "# Lire les feuilles \"Sillons arrivée\" et \"Sillons départ\"\n",
    "df_sillons_arr, df_sillons_dep = read_sillon(file)\n",
    "\n",
    "# Dictionnaires pour stocker les temps d'arrivée et de départ en minutes :\n",
    "# Traitement des arrivées\n",
    "t_a = init_t_a(df_sillons_arr, id_file)\n",
    "\n",
    "t_d = init_t_d(df_sillons_dep, id_file)\n",
    "\n",
    "time_base=base_time(id_file)\n",
    "\n",
    "#Initialisation de l'intervalle de temps étudié\n",
    "t_min=0\n",
    "t_max=int(dernier_depart(df_sillons_dep,time_base)) #en quinzaine de minutes\n",
    "#print(t_max//15+1)\n",
    "\n",
    "# Vérification finale\n",
    "#print(\"Vérification du contenu final de t_a :\")\n",
    "#for key, value in t_a.items():\n",
    "#    print(f\"Le train {key} arrive en gare de Woippy au bout de {value} minutes\")\n",
    "\n",
    "#print(\"Vérification du contenu final de t_d :\")\n",
    "#for key, value in t_d.items():\n",
    "#    print(f\"Le train {key} part de la gare de Woippy au bout de {value} minutes\")\n",
    "\n",
    "df_correspondance = pd.read_excel(file, sheet_name=\"Correspondances\")\n",
    "\n",
    "D = init_dict_correspondance(df_correspondance, id_file)\n",
    "#print(D)\n",
    "\n",
    "temps_min = 0\n",
    "temps_max = int(t_max//15+1)\n",
    "\n",
    "nb_roulements=nombre_roulements(file)\n",
    "\n",
    "h_deb, nb_cycles_agents, nb_cycle_jour=heure_debut_roulement(file,temps_min,temps_max)\n",
    "print(nb_cycles_agents)\n",
    "#print(h_deb)\n",
    "\n",
    "#print(comp(file))\n",
    "comp_arr, comp_dep = comp(file)\n",
    "\n",
    "print(roulements_operants_sur_tache(file))\n",
    "max_agents_sur_roulement=nombre_max_agents_sur_roulement(file)\n",
    "\n",
    "liste_id_train_arrivee = t_a.keys()\n",
    "liste_id_train_depart = t_d.keys()\n",
    "equip=roulements_operants_sur_tache(file)\n",
    "\n",
    "print(equip)\n",
    "print(nombre_max_agents_sur_roulement(file))\n",
    "limites_voies=init_limites_voies(file)"
   ]
  },
  {
   "cell_type": "code",
   "execution_count": 3,
   "metadata": {},
   "outputs": [
    {
     "name": "stdout",
     "output_type": "stream",
     "text": [
      "Set parameter Username\n",
      "Set parameter LicenseID to value 2618972\n",
      "Academic license - for non-commercial use only - expires 2026-02-06\n"
     ]
    },
    {
     "name": "stderr",
     "output_type": "stream",
     "text": [
      "Contrainte assurant la succession des tâches sur les trains d'arrivée: 100%|██████████| 18/18 [00:00<?, ?it/s]\n",
      "Contrainte assurant la succession des tâches sur les trains de départ: 100%|██████████| 18/18 [00:00<00:00, 1011.66it/s]\n",
      "Contrainte assurant qu'il n'y a qu'un train niveau de la machine DEB: 100%|██████████| 18/18 [00:00<00:00, 746.97it/s]\n",
      "Contrainte assurant qu'il n'y a qu'un train niveau des machines FOR et DEG: 100%|██████████| 2/2 [00:00<00:00, 28.66it/s]\n",
      "Contrainte de fermeture de la machine DEB: 100%|██████████| 18/18 [00:00<00:00, 748.63it/s]\n",
      "Contrainte de fermeture de la machine FOR: 100%|██████████| 18/18 [00:00<00:00, 1717.30it/s]\n",
      "Contrainte de fermeture de la machine DEG: 100%|██████████| 18/18 [00:00<00:00, 530.81it/s]\n",
      "Contrainte de fermeture du Chantier FOR: 100%|██████████| 18/18 [00:00<00:00, 712.19it/s]\n",
      "Contrainte assurant la succession des tâches entre les chantiers de REC et FOR: 100%|██████████| 18/18 [00:00<00:00, 18001.30it/s]\n",
      "Contrainte relative au nombre de voies des chantiers: 100%|██████████| 670/670 [00:00<00:00, 10879.07it/s]\n",
      "Contrainte définissant le temps de débranchement du premier wagon d'un train de départ: 100%|██████████| 18/18 [00:00<?, ?it/s]\n"
     ]
    }
   ],
   "source": [
    "model,t_arr,t_dep, is_present = init_model(\n",
    "    liste_id_train_arrivee = liste_id_train_arrivee,\n",
    "    t_a = t_a,\n",
    "    liste_id_train_depart = liste_id_train_depart,\n",
    "    t_d = t_d,\n",
    "    dict_correspondances = D,\n",
    "    file=file,\n",
    "    id_file = id_file,\n",
    "    limites_voies=limites_voies,\n",
    "    temps_max=temps_max,\n",
    "    temps_min=temps_min\n",
    ")\n"
   ]
  },
  {
   "cell_type": "code",
   "execution_count": 4,
   "metadata": {},
   "outputs": [
    {
     "name": "stdout",
     "output_type": "stream",
     "text": [
      "Ca marche !\n",
      "Tâche 1 - Train A1_08 : <gurobi.Var t (value 40.0)>\n",
      "Tâche 1 - Train A3_08 : <gurobi.Var t (value 88.0)>\n",
      "Tâche 1 - Train A2_08 : <gurobi.Var t (value 46.0)>\n",
      "Tâche 1 - Train A2_09 : <gurobi.Var t (value 142.0)>\n",
      "Tâche 1 - Train A3_09 : <gurobi.Var t (value 184.0)>\n",
      "Tâche 1 - Train A1_09 : <gurobi.Var t (value 136.0)>\n",
      "Tâche 1 - Train A3_10 : <gurobi.Var t (value 280.0)>\n",
      "Tâche 1 - Train A1_10 : <gurobi.Var t (value 232.0)>\n",
      "Tâche 1 - Train A2_10 : <gurobi.Var t (value 238.0)>\n",
      "Tâche 1 - Train A2_11 : <gurobi.Var t (value 334.0)>\n",
      "Tâche 1 - Train A1_11 : <gurobi.Var t (value 328.0)>\n",
      "Tâche 1 - Train A3_11 : <gurobi.Var t (value 376.0)>\n",
      "Tâche 1 - Train A2_12 : <gurobi.Var t (value 430.0)>\n",
      "Tâche 1 - Train A3_12 : <gurobi.Var t (value 472.0)>\n",
      "Tâche 1 - Train A1_12 : <gurobi.Var t (value 424.0)>\n",
      "Tâche 1 - Train A3_13 : <gurobi.Var t (value 568.0)>\n",
      "Tâche 1 - Train A4_13 : <gurobi.Var t (value 515.0)>\n",
      "Tâche 1 - Train A4_14 : <gurobi.Var t (value 611.0)>\n",
      "Tâche 2 - Train A1_08 : <gurobi.Var t (value 41.0)>\n",
      "Tâche 2 - Train A3_08 : <gurobi.Var t (value 89.0)>\n",
      "Tâche 2 - Train A2_08 : <gurobi.Var t (value 47.0)>\n",
      "Tâche 2 - Train A2_09 : <gurobi.Var t (value 143.0)>\n",
      "Tâche 2 - Train A3_09 : <gurobi.Var t (value 185.0)>\n",
      "Tâche 2 - Train A1_09 : <gurobi.Var t (value 137.0)>\n",
      "Tâche 2 - Train A3_10 : <gurobi.Var t (value 281.0)>\n",
      "Tâche 2 - Train A1_10 : <gurobi.Var t (value 233.0)>\n",
      "Tâche 2 - Train A2_10 : <gurobi.Var t (value 239.0)>\n",
      "Tâche 2 - Train A2_11 : <gurobi.Var t (value 335.0)>\n",
      "Tâche 2 - Train A1_11 : <gurobi.Var t (value 329.0)>\n",
      "Tâche 2 - Train A3_11 : <gurobi.Var t (value 377.0)>\n",
      "Tâche 2 - Train A2_12 : <gurobi.Var t (value 431.0)>\n",
      "Tâche 2 - Train A3_12 : <gurobi.Var t (value 473.0)>\n",
      "Tâche 2 - Train A1_12 : <gurobi.Var t (value 425.0)>\n",
      "Tâche 2 - Train A3_13 : <gurobi.Var t (value 569.0)>\n",
      "Tâche 2 - Train A4_13 : <gurobi.Var t (value 516.0)>\n",
      "Tâche 2 - Train A4_14 : <gurobi.Var t (value 612.0)>\n",
      "Tâche 3 - Train A1_08 : <gurobi.Var t (value 53.0)>\n",
      "Tâche 3 - Train A3_08 : <gurobi.Var t (value 92.0)>\n",
      "Tâche 3 - Train A2_08 : <gurobi.Var t (value 52.0)>\n",
      "Tâche 3 - Train A2_09 : <gurobi.Var t (value 146.0)>\n",
      "Tâche 3 - Train A3_09 : <gurobi.Var t (value 188.0)>\n",
      "Tâche 3 - Train A1_09 : <gurobi.Var t (value 140.0)>\n",
      "Tâche 3 - Train A3_10 : <gurobi.Var t (value 284.0)>\n",
      "Tâche 3 - Train A1_10 : <gurobi.Var t (value 236.0)>\n",
      "Tâche 3 - Train A2_10 : <gurobi.Var t (value 242.0)>\n",
      "Tâche 3 - Train A2_11 : <gurobi.Var t (value 338.0)>\n",
      "Tâche 3 - Train A1_11 : <gurobi.Var t (value 332.0)>\n",
      "Tâche 3 - Train A3_11 : <gurobi.Var t (value 380.0)>\n",
      "Tâche 3 - Train A2_12 : <gurobi.Var t (value 434.0)>\n",
      "Tâche 3 - Train A3_12 : <gurobi.Var t (value 476.0)>\n",
      "Tâche 3 - Train A1_12 : <gurobi.Var t (value 428.0)>\n",
      "Tâche 3 - Train A3_13 : <gurobi.Var t (value 572.0)>\n",
      "Tâche 3 - Train A4_13 : <gurobi.Var t (value 519.0)>\n",
      "Tâche 3 - Train A4_14 : <gurobi.Var t (value 615.0)>\n",
      "Tâche 1 - Train D1_08 : <gurobi.Var t (value 58.0)>\n",
      "Tâche 1 - Train D2_08 : <gurobi.Var t (value 78.0)>\n",
      "Tâche 1 - Train D1_09 : <gurobi.Var t (value 154.0)>\n",
      "Tâche 1 - Train D3_09 : <gurobi.Var t (value 98.0)>\n",
      "Tâche 1 - Train D2_09 : <gurobi.Var t (value 174.0)>\n",
      "Tâche 1 - Train D1_10 : <gurobi.Var t (value 250.0)>\n",
      "Tâche 1 - Train D2_10 : <gurobi.Var t (value 270.0)>\n",
      "Tâche 1 - Train D3_10 : <gurobi.Var t (value 194.0)>\n",
      "Tâche 1 - Train D3_11 : <gurobi.Var t (value 290.0)>\n",
      "Tâche 1 - Train D1_11 : <gurobi.Var t (value 346.0)>\n",
      "Tâche 1 - Train D2_11 : <gurobi.Var t (value 366.0)>\n",
      "Tâche 1 - Train D2_12 : <gurobi.Var t (value 436.0)>\n",
      "Tâche 1 - Train D1_12 : <gurobi.Var t (value 435.0)>\n",
      "Tâche 1 - Train D3_12 : <gurobi.Var t (value 386.0)>\n",
      "Tâche 1 - Train D3_13 : <gurobi.Var t (value 482.0)>\n",
      "Tâche 1 - Train D4_13 : <gurobi.Var t (value 520.0)>\n",
      "Tâche 1 - Train D3_14 : <gurobi.Var t (value 578.0)>\n",
      "Tâche 1 - Train D4_14 : <gurobi.Var t (value 616.0)>\n",
      "Tâche 2 - Train D1_08 : <gurobi.Var t (value 59.0)>\n",
      "Tâche 2 - Train D2_08 : <gurobi.Var t (value 79.0)>\n",
      "Tâche 2 - Train D1_09 : <gurobi.Var t (value 155.0)>\n",
      "Tâche 2 - Train D3_09 : <gurobi.Var t (value 99.0)>\n",
      "Tâche 2 - Train D2_09 : <gurobi.Var t (value 175.0)>\n",
      "Tâche 2 - Train D1_10 : <gurobi.Var t (value 251.0)>\n",
      "Tâche 2 - Train D2_10 : <gurobi.Var t (value 271.0)>\n",
      "Tâche 2 - Train D3_10 : <gurobi.Var t (value 195.0)>\n",
      "Tâche 2 - Train D3_11 : <gurobi.Var t (value 291.0)>\n",
      "Tâche 2 - Train D1_11 : <gurobi.Var t (value 347.0)>\n",
      "Tâche 2 - Train D2_11 : <gurobi.Var t (value 367.0)>\n",
      "Tâche 2 - Train D2_12 : <gurobi.Var t (value 463.0)>\n",
      "Tâche 2 - Train D1_12 : <gurobi.Var t (value 443.0)>\n",
      "Tâche 2 - Train D3_12 : <gurobi.Var t (value 387.0)>\n",
      "Tâche 2 - Train D3_13 : <gurobi.Var t (value 483.0)>\n",
      "Tâche 2 - Train D4_13 : <gurobi.Var t (value 521.0)>\n",
      "Tâche 2 - Train D3_14 : <gurobi.Var t (value 579.0)>\n",
      "Tâche 2 - Train D4_14 : <gurobi.Var t (value 617.0)>\n",
      "Tâche 3 - Train D1_08 : <gurobi.Var t (value 69.0)>\n",
      "Tâche 3 - Train D2_08 : <gurobi.Var t (value 89.0)>\n",
      "Tâche 3 - Train D1_09 : <gurobi.Var t (value 165.0)>\n",
      "Tâche 3 - Train D3_09 : <gurobi.Var t (value 109.0)>\n",
      "Tâche 3 - Train D2_09 : <gurobi.Var t (value 185.0)>\n",
      "Tâche 3 - Train D1_10 : <gurobi.Var t (value 261.0)>\n",
      "Tâche 3 - Train D2_10 : <gurobi.Var t (value 281.0)>\n",
      "Tâche 3 - Train D3_10 : <gurobi.Var t (value 205.0)>\n",
      "Tâche 3 - Train D3_11 : <gurobi.Var t (value 301.0)>\n",
      "Tâche 3 - Train D1_11 : <gurobi.Var t (value 357.0)>\n",
      "Tâche 3 - Train D2_11 : <gurobi.Var t (value 377.0)>\n",
      "Tâche 3 - Train D2_12 : <gurobi.Var t (value 473.0)>\n",
      "Tâche 3 - Train D1_12 : <gurobi.Var t (value 453.0)>\n",
      "Tâche 3 - Train D3_12 : <gurobi.Var t (value 397.0)>\n",
      "Tâche 3 - Train D3_13 : <gurobi.Var t (value 493.0)>\n",
      "Tâche 3 - Train D4_13 : <gurobi.Var t (value 569.0)>\n",
      "Tâche 3 - Train D3_14 : <gurobi.Var t (value 589.0)>\n",
      "Tâche 3 - Train D4_14 : <gurobi.Var t (value 665.0)>\n",
      "Tâche 4 - Train D1_08 : <gurobi.Var t (value 70.0)>\n",
      "Tâche 4 - Train D2_08 : <gurobi.Var t (value 90.0)>\n",
      "Tâche 4 - Train D1_09 : <gurobi.Var t (value 166.0)>\n",
      "Tâche 4 - Train D3_09 : <gurobi.Var t (value 110.0)>\n",
      "Tâche 4 - Train D2_09 : <gurobi.Var t (value 186.0)>\n",
      "Tâche 4 - Train D1_10 : <gurobi.Var t (value 262.0)>\n",
      "Tâche 4 - Train D2_10 : <gurobi.Var t (value 282.0)>\n",
      "Tâche 4 - Train D3_10 : <gurobi.Var t (value 206.0)>\n",
      "Tâche 4 - Train D3_11 : <gurobi.Var t (value 302.0)>\n",
      "Tâche 4 - Train D1_11 : <gurobi.Var t (value 358.0)>\n",
      "Tâche 4 - Train D2_11 : <gurobi.Var t (value 378.0)>\n",
      "Tâche 4 - Train D2_12 : <gurobi.Var t (value 474.0)>\n",
      "Tâche 4 - Train D1_12 : <gurobi.Var t (value 454.0)>\n",
      "Tâche 4 - Train D3_12 : <gurobi.Var t (value 398.0)>\n",
      "Tâche 4 - Train D3_13 : <gurobi.Var t (value 494.0)>\n",
      "Tâche 4 - Train D4_13 : <gurobi.Var t (value 570.0)>\n",
      "Tâche 4 - Train D3_14 : <gurobi.Var t (value 590.0)>\n",
      "Tâche 4 - Train D4_14 : <gurobi.Var t (value 666.0)>\n",
      "La valeur objectif est : 1.9999996905275979\n"
     ]
    }
   ],
   "source": [
    "model.optimize()\n",
    "\n",
    "if model.status == GRB.INFEASIBLE:\n",
    "    print(\"Le modèle n'a pas de solution\")\n",
    "elif model.status == GRB.UNBOUNDED:\n",
    "    print(\"Le modèle est non borné\")\n",
    "else:\n",
    "    print(\"Ca marche !\")\n",
    "    for (m, n), var in t_arr.items():\n",
    "        print(f\"Tâche {m} - Train {n} : {var}\")\n",
    "    for (m, n), var in t_dep.items():\n",
    "        print(f\"Tâche {m} - Train {n} : {var}\")\n",
    "    print('La valeur objectif est :', model.objVal)"
   ]
  },
  {
   "cell_type": "code",
   "execution_count": 5,
   "metadata": {},
   "outputs": [
    {
     "data": {
      "application/vnd.plotly.v1+json": {
       "config": {
        "plotlyServerURL": "https://plot.ly"
       },
       "data": [
        {
         "base": [
          "2022-08-08T10:00:00.000000000",
          "2022-08-08T10:15:00.000000000",
          "2022-08-08T13:15:00.000000000"
         ],
         "hovertemplate": "Train=A1_08<br>Start=%{base}<br>Finish=%{x}<br>Tâches=%{y}<extra></extra>",
         "legendgroup": "A1_08",
         "marker": {
          "color": "#636efa",
          "pattern": {
           "shape": ""
          }
         },
         "name": "A1_08",
         "orientation": "h",
         "showlegend": true,
         "textposition": "auto",
         "type": "bar",
         "x": {
          "bdata": "oLsNAOAyKQCguw0A",
          "dtype": "i4"
         },
         "xaxis": "x",
         "y": [
          "arr_1",
          "arr_2",
          "arr_3"
         ],
         "yaxis": "y"
        },
        {
         "base": [
          "2022-08-08T22:00:00.000000000",
          "2022-08-08T22:15:00.000000000",
          "2022-08-08T23:00:00.000000000"
         ],
         "hovertemplate": "Train=A3_08<br>Start=%{base}<br>Finish=%{x}<br>Tâches=%{y}<extra></extra>",
         "legendgroup": "A3_08",
         "marker": {
          "color": "#EF553B",
          "pattern": {
           "shape": ""
          }
         },
         "name": "A3_08",
         "orientation": "h",
         "showlegend": true,
         "textposition": "auto",
         "type": "bar",
         "x": {
          "bdata": "oLsNAOAyKQCguw0A",
          "dtype": "i4"
         },
         "xaxis": "x",
         "y": [
          "arr_1",
          "arr_2",
          "arr_3"
         ],
         "yaxis": "y"
        },
        {
         "base": [
          "2022-08-08T11:30:00.000000000",
          "2022-08-08T11:45:00.000000000",
          "2022-08-08T13:00:00.000000000"
         ],
         "hovertemplate": "Train=A2_08<br>Start=%{base}<br>Finish=%{x}<br>Tâches=%{y}<extra></extra>",
         "legendgroup": "A2_08",
         "marker": {
          "color": "#00cc96",
          "pattern": {
           "shape": ""
          }
         },
         "name": "A2_08",
         "orientation": "h",
         "showlegend": true,
         "textposition": "auto",
         "type": "bar",
         "x": {
          "bdata": "oLsNAOAyKQCguw0A",
          "dtype": "i4"
         },
         "xaxis": "x",
         "y": [
          "arr_1",
          "arr_2",
          "arr_3"
         ],
         "yaxis": "y"
        },
        {
         "base": [
          "2022-08-09T11:30:00.000000000",
          "2022-08-09T11:45:00.000000000",
          "2022-08-09T12:30:00.000000000"
         ],
         "hovertemplate": "Train=A2_09<br>Start=%{base}<br>Finish=%{x}<br>Tâches=%{y}<extra></extra>",
         "legendgroup": "A2_09",
         "marker": {
          "color": "#ab63fa",
          "pattern": {
           "shape": ""
          }
         },
         "name": "A2_09",
         "orientation": "h",
         "showlegend": true,
         "textposition": "auto",
         "type": "bar",
         "x": {
          "bdata": "oLsNAOAyKQCguw0A",
          "dtype": "i4"
         },
         "xaxis": "x",
         "y": [
          "arr_1",
          "arr_2",
          "arr_3"
         ],
         "yaxis": "y"
        },
        {
         "base": [
          "2022-08-09T22:00:00.000000000",
          "2022-08-09T22:15:00.000000000",
          "2022-08-09T23:00:00.000000000"
         ],
         "hovertemplate": "Train=A3_09<br>Start=%{base}<br>Finish=%{x}<br>Tâches=%{y}<extra></extra>",
         "legendgroup": "A3_09",
         "marker": {
          "color": "#FFA15A",
          "pattern": {
           "shape": ""
          }
         },
         "name": "A3_09",
         "orientation": "h",
         "showlegend": true,
         "textposition": "auto",
         "type": "bar",
         "x": {
          "bdata": "oLsNAOAyKQCguw0A",
          "dtype": "i4"
         },
         "xaxis": "x",
         "y": [
          "arr_1",
          "arr_2",
          "arr_3"
         ],
         "yaxis": "y"
        },
        {
         "base": [
          "2022-08-09T10:00:00.000000000",
          "2022-08-09T10:15:00.000000000",
          "2022-08-09T11:00:00.000000000"
         ],
         "hovertemplate": "Train=A1_09<br>Start=%{base}<br>Finish=%{x}<br>Tâches=%{y}<extra></extra>",
         "legendgroup": "A1_09",
         "marker": {
          "color": "#19d3f3",
          "pattern": {
           "shape": ""
          }
         },
         "name": "A1_09",
         "orientation": "h",
         "showlegend": true,
         "textposition": "auto",
         "type": "bar",
         "x": {
          "bdata": "oLsNAOAyKQCguw0A",
          "dtype": "i4"
         },
         "xaxis": "x",
         "y": [
          "arr_1",
          "arr_2",
          "arr_3"
         ],
         "yaxis": "y"
        },
        {
         "base": [
          "2022-08-10T22:00:00.000000000",
          "2022-08-10T22:15:00.000000000",
          "2022-08-10T23:00:00.000000000"
         ],
         "hovertemplate": "Train=A3_10<br>Start=%{base}<br>Finish=%{x}<br>Tâches=%{y}<extra></extra>",
         "legendgroup": "A3_10",
         "marker": {
          "color": "#FF6692",
          "pattern": {
           "shape": ""
          }
         },
         "name": "A3_10",
         "orientation": "h",
         "showlegend": true,
         "textposition": "auto",
         "type": "bar",
         "x": {
          "bdata": "oLsNAOAyKQCguw0A",
          "dtype": "i4"
         },
         "xaxis": "x",
         "y": [
          "arr_1",
          "arr_2",
          "arr_3"
         ],
         "yaxis": "y"
        },
        {
         "base": [
          "2022-08-10T10:00:00.000000000",
          "2022-08-10T10:15:00.000000000",
          "2022-08-10T11:00:00.000000000"
         ],
         "hovertemplate": "Train=A1_10<br>Start=%{base}<br>Finish=%{x}<br>Tâches=%{y}<extra></extra>",
         "legendgroup": "A1_10",
         "marker": {
          "color": "#B6E880",
          "pattern": {
           "shape": ""
          }
         },
         "name": "A1_10",
         "orientation": "h",
         "showlegend": true,
         "textposition": "auto",
         "type": "bar",
         "x": {
          "bdata": "oLsNAOAyKQCguw0A",
          "dtype": "i4"
         },
         "xaxis": "x",
         "y": [
          "arr_1",
          "arr_2",
          "arr_3"
         ],
         "yaxis": "y"
        },
        {
         "base": [
          "2022-08-10T11:30:00.000000000",
          "2022-08-10T11:45:00.000000000",
          "2022-08-10T12:30:00.000000000"
         ],
         "hovertemplate": "Train=A2_10<br>Start=%{base}<br>Finish=%{x}<br>Tâches=%{y}<extra></extra>",
         "legendgroup": "A2_10",
         "marker": {
          "color": "#FF97FF",
          "pattern": {
           "shape": ""
          }
         },
         "name": "A2_10",
         "orientation": "h",
         "showlegend": true,
         "textposition": "auto",
         "type": "bar",
         "x": {
          "bdata": "oLsNAOAyKQCguw0A",
          "dtype": "i4"
         },
         "xaxis": "x",
         "y": [
          "arr_1",
          "arr_2",
          "arr_3"
         ],
         "yaxis": "y"
        },
        {
         "base": [
          "2022-08-11T11:30:00.000000000",
          "2022-08-11T11:45:00.000000000",
          "2022-08-11T12:30:00.000000000"
         ],
         "hovertemplate": "Train=A2_11<br>Start=%{base}<br>Finish=%{x}<br>Tâches=%{y}<extra></extra>",
         "legendgroup": "A2_11",
         "marker": {
          "color": "#FECB52",
          "pattern": {
           "shape": ""
          }
         },
         "name": "A2_11",
         "orientation": "h",
         "showlegend": true,
         "textposition": "auto",
         "type": "bar",
         "x": {
          "bdata": "oLsNAOAyKQCguw0A",
          "dtype": "i4"
         },
         "xaxis": "x",
         "y": [
          "arr_1",
          "arr_2",
          "arr_3"
         ],
         "yaxis": "y"
        },
        {
         "base": [
          "2022-08-11T10:00:00.000000000",
          "2022-08-11T10:15:00.000000000",
          "2022-08-11T11:00:00.000000000"
         ],
         "hovertemplate": "Train=A1_11<br>Start=%{base}<br>Finish=%{x}<br>Tâches=%{y}<extra></extra>",
         "legendgroup": "A1_11",
         "marker": {
          "color": "#636efa",
          "pattern": {
           "shape": ""
          }
         },
         "name": "A1_11",
         "orientation": "h",
         "showlegend": true,
         "textposition": "auto",
         "type": "bar",
         "x": {
          "bdata": "oLsNAOAyKQCguw0A",
          "dtype": "i4"
         },
         "xaxis": "x",
         "y": [
          "arr_1",
          "arr_2",
          "arr_3"
         ],
         "yaxis": "y"
        },
        {
         "base": [
          "2022-08-11T22:00:00.000000000",
          "2022-08-11T22:15:00.000000000",
          "2022-08-11T23:00:00.000000000"
         ],
         "hovertemplate": "Train=A3_11<br>Start=%{base}<br>Finish=%{x}<br>Tâches=%{y}<extra></extra>",
         "legendgroup": "A3_11",
         "marker": {
          "color": "#EF553B",
          "pattern": {
           "shape": ""
          }
         },
         "name": "A3_11",
         "orientation": "h",
         "showlegend": true,
         "textposition": "auto",
         "type": "bar",
         "x": {
          "bdata": "oLsNAOAyKQCguw0A",
          "dtype": "i4"
         },
         "xaxis": "x",
         "y": [
          "arr_1",
          "arr_2",
          "arr_3"
         ],
         "yaxis": "y"
        },
        {
         "base": [
          "2022-08-12T11:30:00.000000000",
          "2022-08-12T11:45:00.000000000",
          "2022-08-12T12:30:00.000000000"
         ],
         "hovertemplate": "Train=A2_12<br>Start=%{base}<br>Finish=%{x}<br>Tâches=%{y}<extra></extra>",
         "legendgroup": "A2_12",
         "marker": {
          "color": "#00cc96",
          "pattern": {
           "shape": ""
          }
         },
         "name": "A2_12",
         "orientation": "h",
         "showlegend": true,
         "textposition": "auto",
         "type": "bar",
         "x": {
          "bdata": "oLsNAOAyKQCguw0A",
          "dtype": "i4"
         },
         "xaxis": "x",
         "y": [
          "arr_1",
          "arr_2",
          "arr_3"
         ],
         "yaxis": "y"
        },
        {
         "base": [
          "2022-08-12T22:00:00.000000000",
          "2022-08-12T22:15:00.000000000",
          "2022-08-12T23:00:00.000000000"
         ],
         "hovertemplate": "Train=A3_12<br>Start=%{base}<br>Finish=%{x}<br>Tâches=%{y}<extra></extra>",
         "legendgroup": "A3_12",
         "marker": {
          "color": "#ab63fa",
          "pattern": {
           "shape": ""
          }
         },
         "name": "A3_12",
         "orientation": "h",
         "showlegend": true,
         "textposition": "auto",
         "type": "bar",
         "x": {
          "bdata": "oLsNAOAyKQCguw0A",
          "dtype": "i4"
         },
         "xaxis": "x",
         "y": [
          "arr_1",
          "arr_2",
          "arr_3"
         ],
         "yaxis": "y"
        },
        {
         "base": [
          "2022-08-12T10:00:00.000000000",
          "2022-08-12T10:15:00.000000000",
          "2022-08-12T11:00:00.000000000"
         ],
         "hovertemplate": "Train=A1_12<br>Start=%{base}<br>Finish=%{x}<br>Tâches=%{y}<extra></extra>",
         "legendgroup": "A1_12",
         "marker": {
          "color": "#FFA15A",
          "pattern": {
           "shape": ""
          }
         },
         "name": "A1_12",
         "orientation": "h",
         "showlegend": true,
         "textposition": "auto",
         "type": "bar",
         "x": {
          "bdata": "oLsNAOAyKQCguw0A",
          "dtype": "i4"
         },
         "xaxis": "x",
         "y": [
          "arr_1",
          "arr_2",
          "arr_3"
         ],
         "yaxis": "y"
        },
        {
         "base": [
          "2022-08-13T22:00:00.000000000",
          "2022-08-13T22:15:00.000000000",
          "2022-08-13T23:00:00.000000000"
         ],
         "hovertemplate": "Train=A3_13<br>Start=%{base}<br>Finish=%{x}<br>Tâches=%{y}<extra></extra>",
         "legendgroup": "A3_13",
         "marker": {
          "color": "#19d3f3",
          "pattern": {
           "shape": ""
          }
         },
         "name": "A3_13",
         "orientation": "h",
         "showlegend": true,
         "textposition": "auto",
         "type": "bar",
         "x": {
          "bdata": "oLsNAOAyKQCguw0A",
          "dtype": "i4"
         },
         "xaxis": "x",
         "y": [
          "arr_1",
          "arr_2",
          "arr_3"
         ],
         "yaxis": "y"
        },
        {
         "base": [
          "2022-08-13T08:45:00.000000000",
          "2022-08-13T09:00:00.000000000",
          "2022-08-13T09:45:00.000000000"
         ],
         "hovertemplate": "Train=A4_13<br>Start=%{base}<br>Finish=%{x}<br>Tâches=%{y}<extra></extra>",
         "legendgroup": "A4_13",
         "marker": {
          "color": "#FF6692",
          "pattern": {
           "shape": ""
          }
         },
         "name": "A4_13",
         "orientation": "h",
         "showlegend": true,
         "textposition": "auto",
         "type": "bar",
         "x": {
          "bdata": "oLsNAOAyKQCguw0A",
          "dtype": "i4"
         },
         "xaxis": "x",
         "y": [
          "arr_1",
          "arr_2",
          "arr_3"
         ],
         "yaxis": "y"
        },
        {
         "base": [
          "2022-08-14T08:45:00.000000000",
          "2022-08-14T09:00:00.000000000",
          "2022-08-14T09:45:00.000000000"
         ],
         "hovertemplate": "Train=A4_14<br>Start=%{base}<br>Finish=%{x}<br>Tâches=%{y}<extra></extra>",
         "legendgroup": "A4_14",
         "marker": {
          "color": "#B6E880",
          "pattern": {
           "shape": ""
          }
         },
         "name": "A4_14",
         "orientation": "h",
         "showlegend": true,
         "textposition": "auto",
         "type": "bar",
         "x": {
          "bdata": "oLsNAOAyKQCguw0A",
          "dtype": "i4"
         },
         "xaxis": "x",
         "y": [
          "arr_1",
          "arr_2",
          "arr_3"
         ],
         "yaxis": "y"
        },
        {
         "base": [
          "2022-08-08T14:30:00.000000000",
          "2022-08-08T14:45:00.000000000",
          "2022-08-08T17:15:00.000000000",
          "2022-08-08T17:30:00.000000000"
         ],
         "hovertemplate": "Train=D1_08<br>Start=%{base}<br>Finish=%{x}<br>Tâches=%{y}<extra></extra>",
         "legendgroup": "D1_08",
         "marker": {
          "color": "#FF97FF",
          "pattern": {
           "shape": ""
          }
         },
         "name": "D1_08",
         "orientation": "h",
         "showlegend": true,
         "textposition": "auto",
         "type": "bar",
         "x": {
          "bdata": "oLsNAEBUiQCguw0AgE8SAA==",
          "dtype": "i4"
         },
         "xaxis": "x",
         "y": [
          "dep_1",
          "dep_2",
          "dep_3",
          "dep_4"
         ],
         "yaxis": "y"
        },
        {
         "base": [
          "2022-08-08T19:30:00.000000000",
          "2022-08-08T19:45:00.000000000",
          "2022-08-08T22:15:00.000000000",
          "2022-08-08T22:30:00.000000000"
         ],
         "hovertemplate": "Train=D2_08<br>Start=%{base}<br>Finish=%{x}<br>Tâches=%{y}<extra></extra>",
         "legendgroup": "D2_08",
         "marker": {
          "color": "#FECB52",
          "pattern": {
           "shape": ""
          }
         },
         "name": "D2_08",
         "orientation": "h",
         "showlegend": true,
         "textposition": "auto",
         "type": "bar",
         "x": {
          "bdata": "oLsNAEBUiQCguw0AgE8SAA==",
          "dtype": "i4"
         },
         "xaxis": "x",
         "y": [
          "dep_1",
          "dep_2",
          "dep_3",
          "dep_4"
         ],
         "yaxis": "y"
        },
        {
         "base": [
          "2022-08-09T14:30:00.000000000",
          "2022-08-09T14:45:00.000000000",
          "2022-08-09T17:15:00.000000000",
          "2022-08-09T17:30:00.000000000"
         ],
         "hovertemplate": "Train=D1_09<br>Start=%{base}<br>Finish=%{x}<br>Tâches=%{y}<extra></extra>",
         "legendgroup": "D1_09",
         "marker": {
          "color": "#636efa",
          "pattern": {
           "shape": ""
          }
         },
         "name": "D1_09",
         "orientation": "h",
         "showlegend": true,
         "textposition": "auto",
         "type": "bar",
         "x": {
          "bdata": "oLsNAEBUiQCguw0AgE8SAA==",
          "dtype": "i4"
         },
         "xaxis": "x",
         "y": [
          "dep_1",
          "dep_2",
          "dep_3",
          "dep_4"
         ],
         "yaxis": "y"
        },
        {
         "base": [
          "2022-08-09T00:30:00.000000000",
          "2022-08-09T00:45:00.000000000",
          "2022-08-09T03:15:00.000000000",
          "2022-08-09T03:30:00.000000000"
         ],
         "hovertemplate": "Train=D3_09<br>Start=%{base}<br>Finish=%{x}<br>Tâches=%{y}<extra></extra>",
         "legendgroup": "D3_09",
         "marker": {
          "color": "#EF553B",
          "pattern": {
           "shape": ""
          }
         },
         "name": "D3_09",
         "orientation": "h",
         "showlegend": true,
         "textposition": "auto",
         "type": "bar",
         "x": {
          "bdata": "oLsNAEBUiQCguw0AgE8SAA==",
          "dtype": "i4"
         },
         "xaxis": "x",
         "y": [
          "dep_1",
          "dep_2",
          "dep_3",
          "dep_4"
         ],
         "yaxis": "y"
        },
        {
         "base": [
          "2022-08-09T19:30:00.000000000",
          "2022-08-09T19:45:00.000000000",
          "2022-08-09T22:15:00.000000000",
          "2022-08-09T22:30:00.000000000"
         ],
         "hovertemplate": "Train=D2_09<br>Start=%{base}<br>Finish=%{x}<br>Tâches=%{y}<extra></extra>",
         "legendgroup": "D2_09",
         "marker": {
          "color": "#00cc96",
          "pattern": {
           "shape": ""
          }
         },
         "name": "D2_09",
         "orientation": "h",
         "showlegend": true,
         "textposition": "auto",
         "type": "bar",
         "x": {
          "bdata": "oLsNAEBUiQCguw0AgE8SAA==",
          "dtype": "i4"
         },
         "xaxis": "x",
         "y": [
          "dep_1",
          "dep_2",
          "dep_3",
          "dep_4"
         ],
         "yaxis": "y"
        },
        {
         "base": [
          "2022-08-10T14:30:00.000000000",
          "2022-08-10T14:45:00.000000000",
          "2022-08-10T17:15:00.000000000",
          "2022-08-10T17:30:00.000000000"
         ],
         "hovertemplate": "Train=D1_10<br>Start=%{base}<br>Finish=%{x}<br>Tâches=%{y}<extra></extra>",
         "legendgroup": "D1_10",
         "marker": {
          "color": "#ab63fa",
          "pattern": {
           "shape": ""
          }
         },
         "name": "D1_10",
         "orientation": "h",
         "showlegend": true,
         "textposition": "auto",
         "type": "bar",
         "x": {
          "bdata": "oLsNAEBUiQCguw0AgE8SAA==",
          "dtype": "i4"
         },
         "xaxis": "x",
         "y": [
          "dep_1",
          "dep_2",
          "dep_3",
          "dep_4"
         ],
         "yaxis": "y"
        },
        {
         "base": [
          "2022-08-10T19:30:00.000000000",
          "2022-08-10T19:45:00.000000000",
          "2022-08-10T22:15:00.000000000",
          "2022-08-10T22:30:00.000000000"
         ],
         "hovertemplate": "Train=D2_10<br>Start=%{base}<br>Finish=%{x}<br>Tâches=%{y}<extra></extra>",
         "legendgroup": "D2_10",
         "marker": {
          "color": "#FFA15A",
          "pattern": {
           "shape": ""
          }
         },
         "name": "D2_10",
         "orientation": "h",
         "showlegend": true,
         "textposition": "auto",
         "type": "bar",
         "x": {
          "bdata": "oLsNAEBUiQCguw0AgE8SAA==",
          "dtype": "i4"
         },
         "xaxis": "x",
         "y": [
          "dep_1",
          "dep_2",
          "dep_3",
          "dep_4"
         ],
         "yaxis": "y"
        },
        {
         "base": [
          "2022-08-10T00:30:00.000000000",
          "2022-08-10T00:45:00.000000000",
          "2022-08-10T03:15:00.000000000",
          "2022-08-10T03:30:00.000000000"
         ],
         "hovertemplate": "Train=D3_10<br>Start=%{base}<br>Finish=%{x}<br>Tâches=%{y}<extra></extra>",
         "legendgroup": "D3_10",
         "marker": {
          "color": "#19d3f3",
          "pattern": {
           "shape": ""
          }
         },
         "name": "D3_10",
         "orientation": "h",
         "showlegend": true,
         "textposition": "auto",
         "type": "bar",
         "x": {
          "bdata": "oLsNAEBUiQCguw0AgE8SAA==",
          "dtype": "i4"
         },
         "xaxis": "x",
         "y": [
          "dep_1",
          "dep_2",
          "dep_3",
          "dep_4"
         ],
         "yaxis": "y"
        },
        {
         "base": [
          "2022-08-11T00:30:00.000000000",
          "2022-08-11T00:45:00.000000000",
          "2022-08-11T03:15:00.000000000",
          "2022-08-11T03:30:00.000000000"
         ],
         "hovertemplate": "Train=D3_11<br>Start=%{base}<br>Finish=%{x}<br>Tâches=%{y}<extra></extra>",
         "legendgroup": "D3_11",
         "marker": {
          "color": "#FF6692",
          "pattern": {
           "shape": ""
          }
         },
         "name": "D3_11",
         "orientation": "h",
         "showlegend": true,
         "textposition": "auto",
         "type": "bar",
         "x": {
          "bdata": "oLsNAEBUiQCguw0AgE8SAA==",
          "dtype": "i4"
         },
         "xaxis": "x",
         "y": [
          "dep_1",
          "dep_2",
          "dep_3",
          "dep_4"
         ],
         "yaxis": "y"
        },
        {
         "base": [
          "2022-08-11T14:30:00.000000000",
          "2022-08-11T14:45:00.000000000",
          "2022-08-11T17:15:00.000000000",
          "2022-08-11T17:30:00.000000000"
         ],
         "hovertemplate": "Train=D1_11<br>Start=%{base}<br>Finish=%{x}<br>Tâches=%{y}<extra></extra>",
         "legendgroup": "D1_11",
         "marker": {
          "color": "#B6E880",
          "pattern": {
           "shape": ""
          }
         },
         "name": "D1_11",
         "orientation": "h",
         "showlegend": true,
         "textposition": "auto",
         "type": "bar",
         "x": {
          "bdata": "oLsNAEBUiQCguw0AgE8SAA==",
          "dtype": "i4"
         },
         "xaxis": "x",
         "y": [
          "dep_1",
          "dep_2",
          "dep_3",
          "dep_4"
         ],
         "yaxis": "y"
        },
        {
         "base": [
          "2022-08-11T19:30:00.000000000",
          "2022-08-11T19:45:00.000000000",
          "2022-08-11T22:15:00.000000000",
          "2022-08-11T22:30:00.000000000"
         ],
         "hovertemplate": "Train=D2_11<br>Start=%{base}<br>Finish=%{x}<br>Tâches=%{y}<extra></extra>",
         "legendgroup": "D2_11",
         "marker": {
          "color": "#FF97FF",
          "pattern": {
           "shape": ""
          }
         },
         "name": "D2_11",
         "orientation": "h",
         "showlegend": true,
         "textposition": "auto",
         "type": "bar",
         "x": {
          "bdata": "oLsNAEBUiQCguw0AgE8SAA==",
          "dtype": "i4"
         },
         "xaxis": "x",
         "y": [
          "dep_1",
          "dep_2",
          "dep_3",
          "dep_4"
         ],
         "yaxis": "y"
        },
        {
         "base": [
          "2022-08-12T13:00:00.000000000",
          "2022-08-12T19:45:00.000000000",
          "2022-08-12T22:15:00.000000000",
          "2022-08-12T22:30:00.000000000"
         ],
         "hovertemplate": "Train=D2_12<br>Start=%{base}<br>Finish=%{x}<br>Tâches=%{y}<extra></extra>",
         "legendgroup": "D2_12",
         "marker": {
          "color": "#FECB52",
          "pattern": {
           "shape": ""
          }
         },
         "name": "D2_12",
         "orientation": "h",
         "showlegend": true,
         "textposition": "auto",
         "type": "bar",
         "x": {
          "bdata": "oLsNAEBUiQCguw0AgE8SAA==",
          "dtype": "i4"
         },
         "xaxis": "x",
         "y": [
          "dep_1",
          "dep_2",
          "dep_3",
          "dep_4"
         ],
         "yaxis": "y"
        },
        {
         "base": [
          "2022-08-12T12:45:00.000000000",
          "2022-08-12T14:45:00.000000000",
          "2022-08-12T17:15:00.000000000",
          "2022-08-12T17:30:00.000000000"
         ],
         "hovertemplate": "Train=D1_12<br>Start=%{base}<br>Finish=%{x}<br>Tâches=%{y}<extra></extra>",
         "legendgroup": "D1_12",
         "marker": {
          "color": "#636efa",
          "pattern": {
           "shape": ""
          }
         },
         "name": "D1_12",
         "orientation": "h",
         "showlegend": true,
         "textposition": "auto",
         "type": "bar",
         "x": {
          "bdata": "oLsNAEBUiQCguw0AgE8SAA==",
          "dtype": "i4"
         },
         "xaxis": "x",
         "y": [
          "dep_1",
          "dep_2",
          "dep_3",
          "dep_4"
         ],
         "yaxis": "y"
        },
        {
         "base": [
          "2022-08-12T00:30:00.000000000",
          "2022-08-12T00:45:00.000000000",
          "2022-08-12T03:15:00.000000000",
          "2022-08-12T03:30:00.000000000"
         ],
         "hovertemplate": "Train=D3_12<br>Start=%{base}<br>Finish=%{x}<br>Tâches=%{y}<extra></extra>",
         "legendgroup": "D3_12",
         "marker": {
          "color": "#EF553B",
          "pattern": {
           "shape": ""
          }
         },
         "name": "D3_12",
         "orientation": "h",
         "showlegend": true,
         "textposition": "auto",
         "type": "bar",
         "x": {
          "bdata": "oLsNAEBUiQCguw0AgE8SAA==",
          "dtype": "i4"
         },
         "xaxis": "x",
         "y": [
          "dep_1",
          "dep_2",
          "dep_3",
          "dep_4"
         ],
         "yaxis": "y"
        },
        {
         "base": [
          "2022-08-13T00:30:00.000000000",
          "2022-08-13T00:45:00.000000000",
          "2022-08-13T03:15:00.000000000",
          "2022-08-13T03:30:00.000000000"
         ],
         "hovertemplate": "Train=D3_13<br>Start=%{base}<br>Finish=%{x}<br>Tâches=%{y}<extra></extra>",
         "legendgroup": "D3_13",
         "marker": {
          "color": "#00cc96",
          "pattern": {
           "shape": ""
          }
         },
         "name": "D3_13",
         "orientation": "h",
         "showlegend": true,
         "textposition": "auto",
         "type": "bar",
         "x": {
          "bdata": "oLsNAEBUiQCguw0AgE8SAA==",
          "dtype": "i4"
         },
         "xaxis": "x",
         "y": [
          "dep_1",
          "dep_2",
          "dep_3",
          "dep_4"
         ],
         "yaxis": "y"
        },
        {
         "base": [
          "2022-08-13T10:00:00.000000000",
          "2022-08-13T10:15:00.000000000",
          "2022-08-13T22:15:00.000000000",
          "2022-08-13T22:30:00.000000000"
         ],
         "hovertemplate": "Train=D4_13<br>Start=%{base}<br>Finish=%{x}<br>Tâches=%{y}<extra></extra>",
         "legendgroup": "D4_13",
         "marker": {
          "color": "#ab63fa",
          "pattern": {
           "shape": ""
          }
         },
         "name": "D4_13",
         "orientation": "h",
         "showlegend": true,
         "textposition": "auto",
         "type": "bar",
         "x": {
          "bdata": "oLsNAEBUiQCguw0AgE8SAA==",
          "dtype": "i4"
         },
         "xaxis": "x",
         "y": [
          "dep_1",
          "dep_2",
          "dep_3",
          "dep_4"
         ],
         "yaxis": "y"
        },
        {
         "base": [
          "2022-08-14T00:30:00.000000000",
          "2022-08-14T00:45:00.000000000",
          "2022-08-14T03:15:00.000000000",
          "2022-08-14T03:30:00.000000000"
         ],
         "hovertemplate": "Train=D3_14<br>Start=%{base}<br>Finish=%{x}<br>Tâches=%{y}<extra></extra>",
         "legendgroup": "D3_14",
         "marker": {
          "color": "#FFA15A",
          "pattern": {
           "shape": ""
          }
         },
         "name": "D3_14",
         "orientation": "h",
         "showlegend": true,
         "textposition": "auto",
         "type": "bar",
         "x": {
          "bdata": "oLsNAEBUiQCguw0AgE8SAA==",
          "dtype": "i4"
         },
         "xaxis": "x",
         "y": [
          "dep_1",
          "dep_2",
          "dep_3",
          "dep_4"
         ],
         "yaxis": "y"
        },
        {
         "base": [
          "2022-08-14T10:00:00.000000000",
          "2022-08-14T10:15:00.000000000",
          "2022-08-14T22:15:00.000000000",
          "2022-08-14T22:30:00.000000000"
         ],
         "hovertemplate": "Train=D4_14<br>Start=%{base}<br>Finish=%{x}<br>Tâches=%{y}<extra></extra>",
         "legendgroup": "D4_14",
         "marker": {
          "color": "#19d3f3",
          "pattern": {
           "shape": ""
          }
         },
         "name": "D4_14",
         "orientation": "h",
         "showlegend": true,
         "textposition": "auto",
         "type": "bar",
         "x": {
          "bdata": "oLsNAEBUiQCguw0AgE8SAA==",
          "dtype": "i4"
         },
         "xaxis": "x",
         "y": [
          "dep_1",
          "dep_2",
          "dep_3",
          "dep_4"
         ],
         "yaxis": "y"
        }
       ],
       "layout": {
        "barmode": "overlay",
        "legend": {
         "title": {
          "text": "Train"
         },
         "tracegroupgap": 0
        },
        "margin": {
         "t": 60
        },
        "template": {
         "data": {
          "bar": [
           {
            "error_x": {
             "color": "#2a3f5f"
            },
            "error_y": {
             "color": "#2a3f5f"
            },
            "marker": {
             "line": {
              "color": "#E5ECF6",
              "width": 0.5
             },
             "pattern": {
              "fillmode": "overlay",
              "size": 10,
              "solidity": 0.2
             }
            },
            "type": "bar"
           }
          ],
          "barpolar": [
           {
            "marker": {
             "line": {
              "color": "#E5ECF6",
              "width": 0.5
             },
             "pattern": {
              "fillmode": "overlay",
              "size": 10,
              "solidity": 0.2
             }
            },
            "type": "barpolar"
           }
          ],
          "carpet": [
           {
            "aaxis": {
             "endlinecolor": "#2a3f5f",
             "gridcolor": "white",
             "linecolor": "white",
             "minorgridcolor": "white",
             "startlinecolor": "#2a3f5f"
            },
            "baxis": {
             "endlinecolor": "#2a3f5f",
             "gridcolor": "white",
             "linecolor": "white",
             "minorgridcolor": "white",
             "startlinecolor": "#2a3f5f"
            },
            "type": "carpet"
           }
          ],
          "choropleth": [
           {
            "colorbar": {
             "outlinewidth": 0,
             "ticks": ""
            },
            "type": "choropleth"
           }
          ],
          "contour": [
           {
            "colorbar": {
             "outlinewidth": 0,
             "ticks": ""
            },
            "colorscale": [
             [
              0,
              "#0d0887"
             ],
             [
              0.1111111111111111,
              "#46039f"
             ],
             [
              0.2222222222222222,
              "#7201a8"
             ],
             [
              0.3333333333333333,
              "#9c179e"
             ],
             [
              0.4444444444444444,
              "#bd3786"
             ],
             [
              0.5555555555555556,
              "#d8576b"
             ],
             [
              0.6666666666666666,
              "#ed7953"
             ],
             [
              0.7777777777777778,
              "#fb9f3a"
             ],
             [
              0.8888888888888888,
              "#fdca26"
             ],
             [
              1,
              "#f0f921"
             ]
            ],
            "type": "contour"
           }
          ],
          "contourcarpet": [
           {
            "colorbar": {
             "outlinewidth": 0,
             "ticks": ""
            },
            "type": "contourcarpet"
           }
          ],
          "heatmap": [
           {
            "colorbar": {
             "outlinewidth": 0,
             "ticks": ""
            },
            "colorscale": [
             [
              0,
              "#0d0887"
             ],
             [
              0.1111111111111111,
              "#46039f"
             ],
             [
              0.2222222222222222,
              "#7201a8"
             ],
             [
              0.3333333333333333,
              "#9c179e"
             ],
             [
              0.4444444444444444,
              "#bd3786"
             ],
             [
              0.5555555555555556,
              "#d8576b"
             ],
             [
              0.6666666666666666,
              "#ed7953"
             ],
             [
              0.7777777777777778,
              "#fb9f3a"
             ],
             [
              0.8888888888888888,
              "#fdca26"
             ],
             [
              1,
              "#f0f921"
             ]
            ],
            "type": "heatmap"
           }
          ],
          "histogram": [
           {
            "marker": {
             "pattern": {
              "fillmode": "overlay",
              "size": 10,
              "solidity": 0.2
             }
            },
            "type": "histogram"
           }
          ],
          "histogram2d": [
           {
            "colorbar": {
             "outlinewidth": 0,
             "ticks": ""
            },
            "colorscale": [
             [
              0,
              "#0d0887"
             ],
             [
              0.1111111111111111,
              "#46039f"
             ],
             [
              0.2222222222222222,
              "#7201a8"
             ],
             [
              0.3333333333333333,
              "#9c179e"
             ],
             [
              0.4444444444444444,
              "#bd3786"
             ],
             [
              0.5555555555555556,
              "#d8576b"
             ],
             [
              0.6666666666666666,
              "#ed7953"
             ],
             [
              0.7777777777777778,
              "#fb9f3a"
             ],
             [
              0.8888888888888888,
              "#fdca26"
             ],
             [
              1,
              "#f0f921"
             ]
            ],
            "type": "histogram2d"
           }
          ],
          "histogram2dcontour": [
           {
            "colorbar": {
             "outlinewidth": 0,
             "ticks": ""
            },
            "colorscale": [
             [
              0,
              "#0d0887"
             ],
             [
              0.1111111111111111,
              "#46039f"
             ],
             [
              0.2222222222222222,
              "#7201a8"
             ],
             [
              0.3333333333333333,
              "#9c179e"
             ],
             [
              0.4444444444444444,
              "#bd3786"
             ],
             [
              0.5555555555555556,
              "#d8576b"
             ],
             [
              0.6666666666666666,
              "#ed7953"
             ],
             [
              0.7777777777777778,
              "#fb9f3a"
             ],
             [
              0.8888888888888888,
              "#fdca26"
             ],
             [
              1,
              "#f0f921"
             ]
            ],
            "type": "histogram2dcontour"
           }
          ],
          "mesh3d": [
           {
            "colorbar": {
             "outlinewidth": 0,
             "ticks": ""
            },
            "type": "mesh3d"
           }
          ],
          "parcoords": [
           {
            "line": {
             "colorbar": {
              "outlinewidth": 0,
              "ticks": ""
             }
            },
            "type": "parcoords"
           }
          ],
          "pie": [
           {
            "automargin": true,
            "type": "pie"
           }
          ],
          "scatter": [
           {
            "fillpattern": {
             "fillmode": "overlay",
             "size": 10,
             "solidity": 0.2
            },
            "type": "scatter"
           }
          ],
          "scatter3d": [
           {
            "line": {
             "colorbar": {
              "outlinewidth": 0,
              "ticks": ""
             }
            },
            "marker": {
             "colorbar": {
              "outlinewidth": 0,
              "ticks": ""
             }
            },
            "type": "scatter3d"
           }
          ],
          "scattercarpet": [
           {
            "marker": {
             "colorbar": {
              "outlinewidth": 0,
              "ticks": ""
             }
            },
            "type": "scattercarpet"
           }
          ],
          "scattergeo": [
           {
            "marker": {
             "colorbar": {
              "outlinewidth": 0,
              "ticks": ""
             }
            },
            "type": "scattergeo"
           }
          ],
          "scattergl": [
           {
            "marker": {
             "colorbar": {
              "outlinewidth": 0,
              "ticks": ""
             }
            },
            "type": "scattergl"
           }
          ],
          "scattermap": [
           {
            "marker": {
             "colorbar": {
              "outlinewidth": 0,
              "ticks": ""
             }
            },
            "type": "scattermap"
           }
          ],
          "scattermapbox": [
           {
            "marker": {
             "colorbar": {
              "outlinewidth": 0,
              "ticks": ""
             }
            },
            "type": "scattermapbox"
           }
          ],
          "scatterpolar": [
           {
            "marker": {
             "colorbar": {
              "outlinewidth": 0,
              "ticks": ""
             }
            },
            "type": "scatterpolar"
           }
          ],
          "scatterpolargl": [
           {
            "marker": {
             "colorbar": {
              "outlinewidth": 0,
              "ticks": ""
             }
            },
            "type": "scatterpolargl"
           }
          ],
          "scatterternary": [
           {
            "marker": {
             "colorbar": {
              "outlinewidth": 0,
              "ticks": ""
             }
            },
            "type": "scatterternary"
           }
          ],
          "surface": [
           {
            "colorbar": {
             "outlinewidth": 0,
             "ticks": ""
            },
            "colorscale": [
             [
              0,
              "#0d0887"
             ],
             [
              0.1111111111111111,
              "#46039f"
             ],
             [
              0.2222222222222222,
              "#7201a8"
             ],
             [
              0.3333333333333333,
              "#9c179e"
             ],
             [
              0.4444444444444444,
              "#bd3786"
             ],
             [
              0.5555555555555556,
              "#d8576b"
             ],
             [
              0.6666666666666666,
              "#ed7953"
             ],
             [
              0.7777777777777778,
              "#fb9f3a"
             ],
             [
              0.8888888888888888,
              "#fdca26"
             ],
             [
              1,
              "#f0f921"
             ]
            ],
            "type": "surface"
           }
          ],
          "table": [
           {
            "cells": {
             "fill": {
              "color": "#EBF0F8"
             },
             "line": {
              "color": "white"
             }
            },
            "header": {
             "fill": {
              "color": "#C8D4E3"
             },
             "line": {
              "color": "white"
             }
            },
            "type": "table"
           }
          ]
         },
         "layout": {
          "annotationdefaults": {
           "arrowcolor": "#2a3f5f",
           "arrowhead": 0,
           "arrowwidth": 1
          },
          "autotypenumbers": "strict",
          "coloraxis": {
           "colorbar": {
            "outlinewidth": 0,
            "ticks": ""
           }
          },
          "colorscale": {
           "diverging": [
            [
             0,
             "#8e0152"
            ],
            [
             0.1,
             "#c51b7d"
            ],
            [
             0.2,
             "#de77ae"
            ],
            [
             0.3,
             "#f1b6da"
            ],
            [
             0.4,
             "#fde0ef"
            ],
            [
             0.5,
             "#f7f7f7"
            ],
            [
             0.6,
             "#e6f5d0"
            ],
            [
             0.7,
             "#b8e186"
            ],
            [
             0.8,
             "#7fbc41"
            ],
            [
             0.9,
             "#4d9221"
            ],
            [
             1,
             "#276419"
            ]
           ],
           "sequential": [
            [
             0,
             "#0d0887"
            ],
            [
             0.1111111111111111,
             "#46039f"
            ],
            [
             0.2222222222222222,
             "#7201a8"
            ],
            [
             0.3333333333333333,
             "#9c179e"
            ],
            [
             0.4444444444444444,
             "#bd3786"
            ],
            [
             0.5555555555555556,
             "#d8576b"
            ],
            [
             0.6666666666666666,
             "#ed7953"
            ],
            [
             0.7777777777777778,
             "#fb9f3a"
            ],
            [
             0.8888888888888888,
             "#fdca26"
            ],
            [
             1,
             "#f0f921"
            ]
           ],
           "sequentialminus": [
            [
             0,
             "#0d0887"
            ],
            [
             0.1111111111111111,
             "#46039f"
            ],
            [
             0.2222222222222222,
             "#7201a8"
            ],
            [
             0.3333333333333333,
             "#9c179e"
            ],
            [
             0.4444444444444444,
             "#bd3786"
            ],
            [
             0.5555555555555556,
             "#d8576b"
            ],
            [
             0.6666666666666666,
             "#ed7953"
            ],
            [
             0.7777777777777778,
             "#fb9f3a"
            ],
            [
             0.8888888888888888,
             "#fdca26"
            ],
            [
             1,
             "#f0f921"
            ]
           ]
          },
          "colorway": [
           "#636efa",
           "#EF553B",
           "#00cc96",
           "#ab63fa",
           "#FFA15A",
           "#19d3f3",
           "#FF6692",
           "#B6E880",
           "#FF97FF",
           "#FECB52"
          ],
          "font": {
           "color": "#2a3f5f"
          },
          "geo": {
           "bgcolor": "white",
           "lakecolor": "white",
           "landcolor": "#E5ECF6",
           "showlakes": true,
           "showland": true,
           "subunitcolor": "white"
          },
          "hoverlabel": {
           "align": "left"
          },
          "hovermode": "closest",
          "mapbox": {
           "style": "light"
          },
          "paper_bgcolor": "white",
          "plot_bgcolor": "#E5ECF6",
          "polar": {
           "angularaxis": {
            "gridcolor": "white",
            "linecolor": "white",
            "ticks": ""
           },
           "bgcolor": "#E5ECF6",
           "radialaxis": {
            "gridcolor": "white",
            "linecolor": "white",
            "ticks": ""
           }
          },
          "scene": {
           "xaxis": {
            "backgroundcolor": "#E5ECF6",
            "gridcolor": "white",
            "gridwidth": 2,
            "linecolor": "white",
            "showbackground": true,
            "ticks": "",
            "zerolinecolor": "white"
           },
           "yaxis": {
            "backgroundcolor": "#E5ECF6",
            "gridcolor": "white",
            "gridwidth": 2,
            "linecolor": "white",
            "showbackground": true,
            "ticks": "",
            "zerolinecolor": "white"
           },
           "zaxis": {
            "backgroundcolor": "#E5ECF6",
            "gridcolor": "white",
            "gridwidth": 2,
            "linecolor": "white",
            "showbackground": true,
            "ticks": "",
            "zerolinecolor": "white"
           }
          },
          "shapedefaults": {
           "line": {
            "color": "#2a3f5f"
           }
          },
          "ternary": {
           "aaxis": {
            "gridcolor": "white",
            "linecolor": "white",
            "ticks": ""
           },
           "baxis": {
            "gridcolor": "white",
            "linecolor": "white",
            "ticks": ""
           },
           "bgcolor": "#E5ECF6",
           "caxis": {
            "gridcolor": "white",
            "linecolor": "white",
            "ticks": ""
           }
          },
          "title": {
           "x": 0.05
          },
          "xaxis": {
           "automargin": true,
           "gridcolor": "white",
           "linecolor": "white",
           "ticks": "",
           "title": {
            "standoff": 15
           },
           "zerolinecolor": "white",
           "zerolinewidth": 2
          },
          "yaxis": {
           "automargin": true,
           "gridcolor": "white",
           "linecolor": "white",
           "ticks": "",
           "title": {
            "standoff": 15
           },
           "zerolinecolor": "white",
           "zerolinewidth": 2
          }
         }
        },
        "xaxis": {
         "anchor": "y",
         "domain": [
          0,
          1
         ],
         "tickformat": "%d/%m/%y %H:%M",
         "title": {
          "text": "Temps"
         },
         "type": "date"
        },
        "yaxis": {
         "anchor": "x",
         "categoryarray": [
          "dep_4",
          "dep_3",
          "dep_2",
          "dep_1",
          "arr_3",
          "arr_2",
          "arr_1"
         ],
         "categoryorder": "array",
         "domain": [
          0,
          1
         ],
         "title": {
          "text": "Tâches"
         }
        }
       }
      }
     },
     "metadata": {},
     "output_type": "display_data"
    }
   ],
   "source": [
    "visualisation_gantt(t_arr,t_dep).show()"
   ]
  },
  {
   "cell_type": "code",
   "execution_count": 6,
   "metadata": {},
   "outputs": [
    {
     "data": {
      "image/png": "[encoded data removed]",
      "text/plain": [
       "<Figure size 1000x500 with 1 Axes>"
      ]
     },
     "metadata": {},
     "output_type": "display_data"
    }
   ],
   "source": [
    "# Correction du format de la date de référence\n",
    "ref_date = datetime.datetime.strptime(\"08/08/2022\", \"%d/%m/%Y\")\n",
    "\n",
    "# Conversion des temps en dates au format \"dd/mm/yyyy/HH/MM\"\n",
    "x_date = [ref_date + datetime.timedelta(minutes=15*t) for t in range((t_max-t_min)//15+2)]\n",
    "\n",
    "# Calcul des voies occupées pour chaque chantier\n",
    "occupation_REC = np.array([quicksum(is_present['REC'][(id_train, t)].X for id_train in liste_id_train_arrivee).getValue() for t in range((t_max-t_min)//15+2)])\n",
    "occupation_FOR = np.array([quicksum(is_present['FOR'][(id_train, t)].X for id_train in liste_id_train_depart).getValue() for t in range((t_max-t_min)//15+2)])\n",
    "occupation_DEP = np.array([quicksum(is_present['DEP'][(id_train, t)].X for id_train in liste_id_train_depart).getValue() for t in range((t_max-t_min)//15+2)])\n",
    "\n",
    "if visualisation_occupation(occupation_REC, occupation_FOR, occupation_DEP, x_date):\n",
    "    plt.show()\n"
   ]
  },
  {
   "cell_type": "code",
   "execution_count": 7,
   "metadata": {},
   "outputs": [],
   "source": [
    "#Les anciennes variables de décision deviennent les nouvelles données\n",
    "t_arr = {\n",
    "        (m, id_train_arr): t_arr[(m, id_train_arr)].X\n",
    "        for m in Taches.TACHES_ARRIVEE\n",
    "        for id_train_arr in liste_id_train_arrivee\n",
    "    }\n",
    "\n",
    "t_dep = {\n",
    "        (m, id_train_dep): t_dep[(m, id_train_dep)].X\n",
    "        for m in Taches.TACHES_DEPART\n",
    "        for id_train_dep in liste_id_train_depart\n",
    "    }"
   ]
  },
  {
   "cell_type": "code",
   "execution_count": 8,
   "metadata": {},
   "outputs": [],
   "source": [
    "model2, who_arr, who_dep, nombre_agents = init_model2(\n",
    "    liste_id_train_arrivee,\n",
    "    liste_id_train_depart,\n",
    "    nb_cycles_agents,\n",
    "    h_deb,\n",
    "    nombre_roulements=nb_roulements,\n",
    "    equip=roulements_operants_sur_tache(file),\n",
    "    max_agents_sur_roulement=max_agents_sur_roulement,\n",
    "    comp_arr=comp_arr,\n",
    "    comp_dep=comp_dep,\n",
    "    nb_cycle_jour=nb_cycle_jour,\n",
    "    t_arr=t_arr,\n",
    "    t_dep=t_dep\n",
    ")"
   ]
  },
  {
   "cell_type": "code",
   "execution_count": 9,
   "metadata": {},
   "outputs": [
    {
     "name": "stdout",
     "output_type": "stream",
     "text": [
      "Ca marche !\n",
      "La valeur objectif est : 28.0\n"
     ]
    }
   ],
   "source": [
    "model2.optimize()\n",
    "\n",
    "if model2.status == GRB.INFEASIBLE:\n",
    "    print(\"Le modèle n'a pas de solution\")\n",
    "elif model2.status == GRB.UNBOUNDED:\n",
    "    print(\"Le modèle est non borné\")\n",
    "else:\n",
    "    print(\"Ca marche !\")\n",
    "    print('La valeur objectif est :', model2.objVal)"
   ]
  },
  {
   "cell_type": "code",
   "execution_count": 10,
   "metadata": {},
   "outputs": [
    {
     "name": "stdout",
     "output_type": "stream",
     "text": [
      "jour 0 roulement 1 0.0 6\n",
      "jour 1 roulement 1 0.0 6\n",
      "jour 2 roulement 1 0.0 6\n",
      "jour 3 roulement 1 0.0 6\n",
      "jour 4 roulement 1 0.0 6\n",
      "jour 5 roulement 1 1.0 6\n",
      "jour 6 roulement 1 1.0 6\n",
      "jour 7 roulement 1 0.0 6\n",
      "jour 0 roulement 2 0.0 8\n",
      "jour 1 roulement 2 0.0 8\n",
      "jour 2 roulement 2 0.0 8\n",
      "jour 3 roulement 2 0.0 8\n",
      "jour 4 roulement 2 1.0 8\n",
      "jour 5 roulement 2 0.0 8\n",
      "jour 6 roulement 2 1.0 8\n",
      "jour 7 roulement 2 0.0 8\n",
      "jour 0 roulement 3 0.0 2\n",
      "jour 1 roulement 3 0.0 2\n",
      "jour 2 roulement 3 0.0 2\n",
      "jour 3 roulement 3 0.0 2\n",
      "jour 4 roulement 3 0.0 2\n",
      "jour 5 roulement 3 0.0 2\n",
      "jour 6 roulement 3 0.0 2\n",
      "jour 7 roulement 3 0.0 2\n",
      "jour 0 roulement 4 2.0 1\n",
      "jour 1 roulement 4 2.0 1\n",
      "jour 2 roulement 4 2.0 1\n",
      "jour 3 roulement 4 2.0 1\n",
      "jour 4 roulement 4 2.0 1\n",
      "jour 5 roulement 4 1.0 1\n",
      "jour 6 roulement 4 0.0 1\n",
      "jour 0 roulement 5 2.0 7\n",
      "jour 1 roulement 5 2.0 7\n",
      "jour 2 roulement 5 2.0 7\n",
      "jour 3 roulement 5 2.0 7\n",
      "jour 4 roulement 5 2.0 7\n",
      "jour 5 roulement 5 2.0 7\n",
      "jour 6 roulement 5 1.0 7\n",
      "jour 7 roulement 5 0.0 7\n"
     ]
    }
   ],
   "source": [
    "for r in range(1, nb_roulements + 1):\n",
    "        for q in range(nb_cycles_agents[r] // nb_cycle_jour[r]):\n",
    "            print(\"jour\", q, \"roulement\", r, quicksum(\n",
    "                    [\n",
    "                        nombre_agents[(r, nb_cycle_jour[r] * q + i)].X\n",
    "                        for i in range(1, nb_cycle_jour[r] + 1)\n",
    "                    ]\n",
    "                )\n",
    "                , max_agents_sur_roulement[r])"
   ]
  },
  {
   "cell_type": "code",
   "execution_count": 11,
   "metadata": {},
   "outputs": [
    {
     "name": "stdout",
     "output_type": "stream",
     "text": [
      "8\n"
     ]
    },
    {
     "name": "stderr",
     "output_type": "stream",
     "text": [
      "c:\\Users\\ggeno\\AppData\\Local\\Programs\\Python\\Python311\\Lib\\site-packages\\openpyxl\\workbook\\child.py:99: UserWarning:\n",
      "\n",
      "Title is more than 31 characters. Some applications may not be able to read the file\n",
      "\n"
     ]
    },
    {
     "data": {
      "text/plain": [
       "True"
      ]
     },
     "execution_count": 11,
     "metadata": {},
     "output_type": "execute_result"
    }
   ],
   "source": [
    "ecriture_donnees_sortie(\n",
    "    t_arr, \n",
    "    t_dep, \n",
    "    occupation_REC, \n",
    "    occupation_FOR, \n",
    "    occupation_REC, \n",
    "    x_date,\n",
    "    limites_voies,\n",
    "    file,\n",
    "    h_deb,\n",
    "    equip,\n",
    "    nb_cycles_agents,\n",
    "    who_arr,\n",
    "    who_dep,\n",
    "    liste_id_train_arrivee,\n",
    "    liste_id_train_depart,\n",
    "    nombre_agents,\n",
    "    nb_cycle_jour,\n",
    "    nb_cycles_agents\n",
    ")"
   ]
  }
 ],
 "metadata": {
  "kernelspec": {
   "display_name": "Opti",
   "language": "python",
   "name": "python3"
  },
  "language_info": {
   "codemirror_mode": {
    "name": "ipython",
    "version": 3
   },
   "file_extension": ".py",
   "mimetype": "text/x-python",
   "name": "python",
   "nbconvert_exporter": "python",
   "pygments_lexer": "ipython3",
   "version": "3.12.3"
  }
 },
 "nbformat": 4,
 "nbformat_minor": 2
}
