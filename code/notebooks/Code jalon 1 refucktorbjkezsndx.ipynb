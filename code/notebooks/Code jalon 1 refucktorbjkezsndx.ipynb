{
 "cells": [
  {
   "cell_type": "code",
   "execution_count": 7,
   "metadata": {},
   "outputs": [],
   "source": [
    "import os\n",
    "import sys\n",
    "from gurobipy import *\n",
    "import pandas as pd\n",
    "module_path = os.path.abspath(\"..\")\n",
    "sys.path.append(module_path)\n",
    "import itertools\n",
    "import datetime\n",
    "import plotly.express as px\n",
    "\n",
    "from module.modele1 import init_model,Taches\n",
    "from module.utils1 import (\n",
    "    read_sillon,\n",
    "    init_t_a,\n",
    "    init_t_d,\n",
    "    init_dict_correspondance,\n",
    "    base_time\n",
    ")"
   ]
  },
  {
   "cell_type": "code",
   "execution_count": 2,
   "metadata": {},
   "outputs": [
    {
     "name": "stdout",
     "output_type": "stream",
     "text": [
      "Train 412202_08 : JARR = 2022-08-08, minutes écoulées = 1248\n",
      "Train 431018_08 : JARR = 2022-08-08, minutes écoulées = 801\n",
      "Train 431246_08 : JARR = 2022-08-08, minutes écoulées = 664\n",
      "Train 44951_08 : JARR = 2022-08-08, minutes écoulées = 1130\n",
      "Train 450237_08 : JARR = 2022-08-08, minutes écoulées = 707\n",
      "Train 489016_08 : JARR = 2022-08-08, minutes écoulées = 1415\n",
      "Train 54234_08 : JARR = 2022-08-08, minutes écoulées = 1321\n",
      "Train 55390_08 : JARR = 2022-08-08, minutes écoulées = 1429\n",
      "Train 56135_08 : JARR = 2022-08-08, minutes écoulées = 1288\n",
      "Train 412023_09 : JARR = 2022-08-09, minutes écoulées = 1567\n",
      "Train 41264_09 : JARR = 2022-08-09, minutes écoulées = 2793\n",
      "Train 431802_09 : JARR = 2022-08-09, minutes écoulées = 1620\n",
      "Train 44222_09 : JARR = 2022-08-09, minutes écoulées = 2533\n",
      "Train 44250_09 : JARR = 2022-08-09, minutes écoulées = 2058\n",
      "Train 44865_09 : JARR = 2022-08-09, minutes écoulées = 2416\n",
      "Train 450237_09 : JARR = 2022-08-09, minutes écoulées = 2147\n",
      "Train 471003_09 : JARR = 2022-08-09, minutes écoulées = 2203\n",
      "Train 47262_09 : JARR = 2022-08-09, minutes écoulées = 1982\n",
      "Train 489026_09 : JARR = 2022-08-09, minutes écoulées = 2011\n",
      "Train 54234_09 : JARR = 2022-08-09, minutes écoulées = 2761\n",
      "Train 55390_09 : JARR = 2022-08-09, minutes écoulées = 2869\n",
      "Train 55398_09 : JARR = 2022-08-09, minutes écoulées = 1680\n",
      "Train 56135_09 : JARR = 2022-08-09, minutes écoulées = 2728\n",
      "Train 56730_09 : JARR = 2022-08-09, minutes écoulées = 1592\n",
      "Train 58706_09 : JARR = 2022-08-09, minutes écoulées = 2715\n",
      "Train 412023_10 : JARR = 2022-08-10, minutes écoulées = 3007\n",
      "Train 412202_10 : JARR = 2022-08-10, minutes écoulées = 4128\n",
      "Train 41264_10 : JARR = 2022-08-10, minutes écoulées = 4233\n",
      "Train 431020_10 : JARR = 2022-08-10, minutes écoulées = 4098\n",
      "Train 431110_10 : JARR = 2022-08-10, minutes écoulées = 3630\n",
      "Train 431246_10 : JARR = 2022-08-10, minutes écoulées = 3544\n",
      "Train 431802_10 : JARR = 2022-08-10, minutes écoulées = 3115\n",
      "Train 44222_10 : JARR = 2022-08-10, minutes écoulées = 3832\n",
      "Train 44228_10 : JARR = 2022-08-10, minutes écoulées = 2953\n",
      "Train 44250_10 : JARR = 2022-08-10, minutes écoulées = 3498\n",
      "Train 450237_10 : JARR = 2022-08-10, minutes écoulées = 3587\n",
      "Train 471003_10 : JARR = 2022-08-10, minutes écoulées = 3643\n",
      "Train 47214_10 : JARR = 2022-08-10, minutes écoulées = 3643\n",
      "Train 47262_10 : JARR = 2022-08-10, minutes écoulées = 3422\n",
      "Train 54234_10 : JARR = 2022-08-10, minutes écoulées = 4201\n",
      "Train 55390_10 : JARR = 2022-08-10, minutes écoulées = 4309\n",
      "Train 55396_10 : JARR = 2022-08-10, minutes écoulées = 3345\n",
      "Train 56135_10 : JARR = 2022-08-10, minutes écoulées = 4168\n",
      "Train 56730_10 : JARR = 2022-08-10, minutes écoulées = 3032\n",
      "Train 58706_10 : JARR = 2022-08-10, minutes écoulées = 4155\n",
      "Train 71270_10 : JARR = 2022-08-10, minutes écoulées = 3445\n",
      "Train 412023_11 : JARR = 2022-08-11, minutes écoulées = 4447\n",
      "Train 412202_11 : JARR = 2022-08-11, minutes écoulées = 5568\n",
      "Train 41254_11 : JARR = 2022-08-11, minutes écoulées = 5717\n",
      "Train 431246_11 : JARR = 2022-08-11, minutes écoulées = 4984\n",
      "Train 431640_11 : JARR = 2022-08-11, minutes écoulées = 4989\n",
      "Train 431802_11 : JARR = 2022-08-11, minutes écoulées = 4500\n",
      "Train 44222_11 : JARR = 2022-08-11, minutes écoulées = 5272\n",
      "Train 44250_11 : JARR = 2022-08-11, minutes écoulées = 4938\n",
      "Train 44865_11 : JARR = 2022-08-11, minutes écoulées = 5299\n",
      "Train 450237_11 : JARR = 2022-08-11, minutes écoulées = 5027\n",
      "Train 471003_11 : JARR = 2022-08-11, minutes écoulées = 5083\n",
      "Train 47212_11 : JARR = 2022-08-11, minutes écoulées = 5383\n",
      "Train 47240_11 : JARR = 2022-08-11, minutes écoulées = 4487\n",
      "Train 47262_11 : JARR = 2022-08-11, minutes écoulées = 4862\n",
      "Train 47822_11 : JARR = 2022-08-11, minutes écoulées = 5493\n",
      "Train 54234_11 : JARR = 2022-08-11, minutes écoulées = 5641\n",
      "Train 55390_11 : JARR = 2022-08-11, minutes écoulées = 5749\n",
      "Train 55394_11 : JARR = 2022-08-11, minutes écoulées = 5013\n",
      "Train 55396_11 : JARR = 2022-08-11, minutes écoulées = 4545\n",
      "Train 56135_11 : JARR = 2022-08-11, minutes écoulées = 5608\n",
      "Train 56730_11 : JARR = 2022-08-11, minutes écoulées = 4472\n",
      "Train 58706_11 : JARR = 2022-08-11, minutes écoulées = 5595\n",
      "Train 412023_12 : JARR = 2022-08-12, minutes écoulées = 5887\n",
      "Train 412202_12 : JARR = 2022-08-12, minutes écoulées = 7008\n",
      "Train 41264_12 : JARR = 2022-08-12, minutes écoulées = 7113\n",
      "Train 431246_12 : JARR = 2022-08-12, minutes écoulées = 6424\n",
      "Train 431802_12 : JARR = 2022-08-12, minutes écoulées = 6063\n",
      "Train 44222_12 : JARR = 2022-08-12, minutes écoulées = 6712\n",
      "Train 44228_12 : JARR = 2022-08-12, minutes écoulées = 5833\n",
      "Train 44250_12 : JARR = 2022-08-12, minutes écoulées = 6378\n",
      "Train 44865_12 : JARR = 2022-08-12, minutes écoulées = 6739\n",
      "Train 44951_12 : JARR = 2022-08-12, minutes écoulées = 6890\n",
      "Train 450237_12 : JARR = 2022-08-12, minutes écoulées = 6467\n",
      "Train 471003_12 : JARR = 2022-08-12, minutes écoulées = 6523\n",
      "Train 47214_12 : JARR = 2022-08-12, minutes écoulées = 6823\n",
      "Train 47262_12 : JARR = 2022-08-12, minutes écoulées = 6302\n",
      "Train 47822_12 : JARR = 2022-08-12, minutes écoulées = 6933\n",
      "Train 48216_12 : JARR = 2022-08-12, minutes écoulées = 6223\n",
      "Train 489026_12 : JARR = 2022-08-12, minutes écoulées = 6453\n",
      "Train 489042_12 : JARR = 2022-08-12, minutes écoulées = 7056\n",
      "Train 54234_12 : JARR = 2022-08-12, minutes écoulées = 7081\n",
      "Train 55396_12 : JARR = 2022-08-12, minutes écoulées = 6225\n",
      "Train 56135_12 : JARR = 2022-08-12, minutes écoulées = 7048\n",
      "Train 56730_12 : JARR = 2022-08-12, minutes écoulées = 5912\n",
      "Train 58706_12 : JARR = 2022-08-12, minutes écoulées = 7035\n",
      "Train 71270_12 : JARR = 2022-08-12, minutes écoulées = 6325\n",
      "Train 412023_13 : JARR = 2022-08-13, minutes écoulées = 7327\n",
      "Train 41230_13 : JARR = 2022-08-13, minutes écoulées = 8521\n",
      "Train 431802_13 : JARR = 2022-08-13, minutes écoulées = 7503\n",
      "Train 44222_13 : JARR = 2022-08-13, minutes écoulées = 8165\n",
      "Train 44228_13 : JARR = 2022-08-13, minutes écoulées = 7273\n",
      "Train 44250_13 : JARR = 2022-08-13, minutes écoulées = 7831\n",
      "Train 44864_13 : JARR = 2022-08-13, minutes écoulées = 8172\n",
      "Train 450235_13 : JARR = 2022-08-13, minutes écoulées = 7911\n",
      "Train 47240_13 : JARR = 2022-08-13, minutes écoulées = 7306\n",
      "Train 47262_13 : JARR = 2022-08-13, minutes écoulées = 7757\n",
      "Train 47822_13 : JARR = 2022-08-13, minutes écoulées = 8373\n",
      "Train 489026_13 : JARR = 2022-08-13, minutes écoulées = 7893\n",
      "Train 54234_13 : JARR = 2022-08-13, minutes écoulées = 8521\n",
      "Train 55390_13 : JARR = 2022-08-13, minutes écoulées = 8629\n",
      "Train 55396_13 : JARR = 2022-08-13, minutes écoulées = 7665\n",
      "Train 56135_13 : JARR = 2022-08-13, minutes écoulées = 8488\n",
      "Train 56730_13 : JARR = 2022-08-13, minutes écoulées = 7352\n",
      "Train 58706_13 : JARR = 2022-08-13, minutes écoulées = 8475\n",
      "Train 56730_14 : JARR = 2022-08-14, minutes écoulées = 8795\n",
      "Train 400006_09 : JDEP = 2022-08-09, minutes écoulées = 2386\n",
      "Train 400016_09 : JDEP = 2022-08-09, minutes écoulées = 2806\n",
      "Train 400110_09 : JDEP = 2022-08-09, minutes écoulées = 2697\n",
      "Train 431035_09 : JDEP = 2022-08-09, minutes écoulées = 2342\n",
      "Train 431091_09 : JDEP = 2022-08-09, minutes écoulées = 1819\n",
      "Train 44203_09 : JDEP = 2022-08-09, minutes écoulées = 2515\n",
      "Train 44241_09 : JDEP = 2022-08-09, minutes écoulées = 2242\n",
      "Train 44249_09 : JDEP = 2022-08-09, minutes écoulées = 1627\n",
      "Train 44806_09 : JDEP = 2022-08-09, minutes écoulées = 1933\n",
      "Train 47245_09 : JDEP = 2022-08-09, minutes écoulées = 2300\n",
      "Train 47289_09 : JDEP = 2022-08-09, minutes écoulées = 2100\n",
      "Train 47821_09 : JDEP = 2022-08-09, minutes écoulées = 2785\n",
      "Train 489447_09 : JDEP = 2022-08-09, minutes écoulées = 1811\n",
      "Train 52672_09 : JDEP = 2022-08-09, minutes écoulées = 2412\n",
      "Train 54003_09 : JDEP = 2022-08-09, minutes écoulées = 1679\n",
      "Train 54051_09 : JDEP = 2022-08-09, minutes écoulées = 1774\n",
      "Train 54086_09 : JDEP = 2022-08-09, minutes écoulées = 1670\n",
      "Train 54231_09 : JDEP = 2022-08-09, minutes écoulées = 2289\n",
      "Train 450226_10 : JDEP = 2022-08-10, minutes écoulées = 3320\n",
      "Train 400014_10 : JDEP = 2022-08-10, minutes écoulées = 4067\n",
      "Train 412124_10 : JDEP = 2022-08-10, minutes écoulées = 3073\n",
      "Train 41258_10 : JDEP = 2022-08-10, minutes écoulées = 3043\n",
      "Train 431035_10 : JDEP = 2022-08-10, minutes écoulées = 3783\n",
      "Train 431091_10 : JDEP = 2022-08-10, minutes écoulées = 3259\n",
      "Train 44203_10 : JDEP = 2022-08-10, minutes écoulées = 3955\n",
      "Train 44241_10 : JDEP = 2022-08-10, minutes écoulées = 3682\n",
      "Train 44249_10 : JDEP = 2022-08-10, minutes écoulées = 3067\n",
      "Train 47205_10 : JDEP = 2022-08-10, minutes écoulées = 3728\n",
      "Train 48215_10 : JDEP = 2022-08-10, minutes écoulées = 3847\n",
      "Train 489044_10 : JDEP = 2022-08-10, minutes écoulées = 3010\n",
      "Train 52672_10 : JDEP = 2022-08-10, minutes écoulées = 3852\n",
      "Train 54003_10 : JDEP = 2022-08-10, minutes écoulées = 3119\n",
      "Train 54053_10 : JDEP = 2022-08-10, minutes écoulées = 3818\n",
      "Train 54231_10 : JDEP = 2022-08-10, minutes écoulées = 3729\n",
      "Train 71210_10 : JDEP = 2022-08-10, minutes écoulées = 3180\n",
      "Train 400006_11 : JDEP = 2022-08-11, minutes écoulées = 5266\n",
      "Train 400010_11 : JDEP = 2022-08-11, minutes écoulées = 5746\n",
      "Train 400016_11 : JDEP = 2022-08-11, minutes écoulées = 5686\n",
      "Train 431035_11 : JDEP = 2022-08-11, minutes écoulées = 5222\n",
      "Train 44203_11 : JDEP = 2022-08-11, minutes écoulées = 5395\n",
      "Train 44241_11 : JDEP = 2022-08-11, minutes écoulées = 5122\n",
      "Train 44806_11 : JDEP = 2022-08-11, minutes écoulées = 4638\n",
      "Train 450226_11 : JDEP = 2022-08-11, minutes écoulées = 4760\n",
      "Train 47245_11 : JDEP = 2022-08-11, minutes écoulées = 5203\n",
      "Train 47247_11 : JDEP = 2022-08-11, minutes écoulées = 4980\n",
      "Train 47820_11 : JDEP = 2022-08-11, minutes écoulées = 5665\n",
      "Train 489118_11 : JDEP = 2022-08-11, minutes écoulées = 5230\n",
      "Train 52672_11 : JDEP = 2022-08-11, minutes écoulées = 5292\n",
      "Train 54003_11 : JDEP = 2022-08-11, minutes écoulées = 4559\n",
      "Train 54051_11 : JDEP = 2022-08-11, minutes écoulées = 4654\n",
      "Train 54086_11 : JDEP = 2022-08-11, minutes écoulées = 4550\n",
      "Train 54231_11 : JDEP = 2022-08-11, minutes écoulées = 5169\n",
      "Train 71256_11 : JDEP = 2022-08-11, minutes écoulées = 4466\n",
      "Train 400010_12 : JDEP = 2022-08-12, minutes écoulées = 7186\n",
      "Train 400016_12 : JDEP = 2022-08-12, minutes écoulées = 7126\n",
      "Train 412024_12 : JDEP = 2022-08-12, minutes écoulées = 6026\n",
      "Train 41258_12 : JDEP = 2022-08-12, minutes écoulées = 5923\n",
      "Train 431035_12 : JDEP = 2022-08-12, minutes écoulées = 6663\n",
      "Train 44241_12 : JDEP = 2022-08-12, minutes écoulées = 6562\n",
      "Train 44249_12 : JDEP = 2022-08-12, minutes écoulées = 5947\n",
      "Train 44952_12 : JDEP = 2022-08-12, minutes écoulées = 7017\n",
      "Train 47205_12 : JDEP = 2022-08-12, minutes écoulées = 6919\n",
      "Train 48219_12 : JDEP = 2022-08-12, minutes écoulées = 5914\n",
      "Train 489447_12 : JDEP = 2022-08-12, minutes écoulées = 6131\n",
      "Train 52672_12 : JDEP = 2022-08-12, minutes écoulées = 6732\n",
      "Train 54003_12 : JDEP = 2022-08-12, minutes écoulées = 5999\n",
      "Train 54053_12 : JDEP = 2022-08-12, minutes écoulées = 6698\n",
      "Train 54086_12 : JDEP = 2022-08-12, minutes écoulées = 5990\n",
      "Train 54231_12 : JDEP = 2022-08-12, minutes écoulées = 6609\n",
      "Train 71217_12 : JDEP = 2022-08-12, minutes écoulées = 7170\n",
      "Train 41258_13 : JDEP = 2022-08-13, minutes écoulées = 7363\n",
      "Train 431091_13 : JDEP = 2022-08-13, minutes écoulées = 7579\n",
      "Train 44241_13 : JDEP = 2022-08-13, minutes écoulées = 8002\n",
      "Train 44806_13 : JDEP = 2022-08-13, minutes écoulées = 7470\n",
      "Train 450224_13 : JDEP = 2022-08-13, minutes écoulées = 7779\n",
      "Train 47237_13 : JDEP = 2022-08-13, minutes écoulées = 7860\n",
      "Train 47281_13 : JDEP = 2022-08-13, minutes écoulées = 8309\n",
      "Train 489044_13 : JDEP = 2022-08-13, minutes écoulées = 7330\n",
      "Train 489119_13 : JDEP = 2022-08-13, minutes écoulées = 8103\n",
      "Train 489447_13 : JDEP = 2022-08-13, minutes écoulées = 7571\n",
      "Train 54051_13 : JDEP = 2022-08-13, minutes écoulées = 7536\n",
      "Train 54086_13 : JDEP = 2022-08-13, minutes écoulées = 7430\n",
      "Train 431037_14 : JDEP = 2022-08-14, minutes écoulées = 9700\n",
      "Train 44247_14 : JDEP = 2022-08-14, minutes écoulées = 9515\n",
      "Train 44559_14 : JDEP = 2022-08-14, minutes écoulées = 9368\n",
      "Train 47820_14 : JDEP = 2022-08-14, minutes écoulées = 9542\n",
      "Train 489447_14 : JDEP = 2022-08-14, minutes écoulées = 9011\n",
      "Train 54003_14 : JDEP = 2022-08-14, minutes écoulées = 8879\n",
      "Train 54053_14 : JDEP = 2022-08-14, minutes écoulées = 9578\n",
      "Train 54055_14 : JDEP = 2022-08-14, minutes écoulées = 8730\n",
      "Train 54086_14 : JDEP = 2022-08-14, minutes écoulées = 8870\n",
      "Train 400014_15 : JDEP = 2022-08-15, minutes écoulées = 11267\n",
      "Train 431035_15 : JDEP = 2022-08-15, minutes écoulées = 10982\n",
      "Train 431121_15 : JDEP = 2022-08-15, minutes écoulées = 10421\n",
      "Train 450226_15 : JDEP = 2022-08-15, minutes écoulées = 10520\n",
      "Train 489447_15 : JDEP = 2022-08-15, minutes écoulées = 10451\n",
      "Train 54003_15 : JDEP = 2022-08-15, minutes écoulées = 10319\n",
      "Train 54051_15 : JDEP = 2022-08-15, minutes écoulées = 10414\n",
      "Train 54086_15 : JDEP = 2022-08-15, minutes écoulées = 10310\n",
      "Train 54231_15 : JDEP = 2022-08-15, minutes écoulées = 10929\n",
      "Train 41258_16 : JDEP = 2022-08-16, minutes écoulées = 11683\n",
      "Train 431091_16 : JDEP = 2022-08-16, minutes écoulées = 11899\n",
      "Train 489044_16 : JDEP = 2022-08-16, minutes écoulées = 11650\n",
      "Train 54051_16 : JDEP = 2022-08-16, minutes écoulées = 11854\n",
      "Train 412124_17 : JDEP = 2022-08-17, minutes écoulées = 13153\n",
      "Train 431113_17 : JDEP = 2022-08-17, minutes écoulées = 13620\n",
      "Vérification du contenu final de t_a :\n",
      "Train 412202_08: 1248 min\n",
      "Train 431018_08: 801 min\n",
      "Train 431246_08: 664 min\n",
      "Train 44951_08: 1130 min\n",
      "Train 450237_08: 707 min\n",
      "Train 489016_08: 1415 min\n",
      "Train 54234_08: 1321 min\n",
      "Train 55390_08: 1429 min\n",
      "Train 56135_08: 1288 min\n",
      "Train 412023_09: 1567 min\n",
      "Train 41264_09: 2793 min\n",
      "Train 431802_09: 1620 min\n",
      "Train 44222_09: 2533 min\n",
      "Train 44250_09: 2058 min\n",
      "Train 44865_09: 2416 min\n",
      "Train 450237_09: 2147 min\n",
      "Train 471003_09: 2203 min\n",
      "Train 47262_09: 1982 min\n",
      "Train 489026_09: 2011 min\n",
      "Train 54234_09: 2761 min\n",
      "Train 55390_09: 2869 min\n",
      "Train 55398_09: 1680 min\n",
      "Train 56135_09: 2728 min\n",
      "Train 56730_09: 1592 min\n",
      "Train 58706_09: 2715 min\n",
      "Train 412023_10: 3007 min\n",
      "Train 412202_10: 4128 min\n",
      "Train 41264_10: 4233 min\n",
      "Train 431020_10: 4098 min\n",
      "Train 431110_10: 3630 min\n",
      "Train 431246_10: 3544 min\n",
      "Train 431802_10: 3115 min\n",
      "Train 44222_10: 3832 min\n",
      "Train 44228_10: 2953 min\n",
      "Train 44250_10: 3498 min\n",
      "Train 450237_10: 3587 min\n",
      "Train 471003_10: 3643 min\n",
      "Train 47214_10: 3643 min\n",
      "Train 47262_10: 3422 min\n",
      "Train 54234_10: 4201 min\n",
      "Train 55390_10: 4309 min\n",
      "Train 55396_10: 3345 min\n",
      "Train 56135_10: 4168 min\n",
      "Train 56730_10: 3032 min\n",
      "Train 58706_10: 4155 min\n",
      "Train 71270_10: 3445 min\n",
      "Train 412023_11: 4447 min\n",
      "Train 412202_11: 5568 min\n",
      "Train 41254_11: 5717 min\n",
      "Train 431246_11: 4984 min\n",
      "Train 431640_11: 4989 min\n",
      "Train 431802_11: 4500 min\n",
      "Train 44222_11: 5272 min\n",
      "Train 44250_11: 4938 min\n",
      "Train 44865_11: 5299 min\n",
      "Train 450237_11: 5027 min\n",
      "Train 471003_11: 5083 min\n",
      "Train 47212_11: 5383 min\n",
      "Train 47240_11: 4487 min\n",
      "Train 47262_11: 4862 min\n",
      "Train 47822_11: 5493 min\n",
      "Train 54234_11: 5641 min\n",
      "Train 55390_11: 5749 min\n",
      "Train 55394_11: 5013 min\n",
      "Train 55396_11: 4545 min\n",
      "Train 56135_11: 5608 min\n",
      "Train 56730_11: 4472 min\n",
      "Train 58706_11: 5595 min\n",
      "Train 412023_12: 5887 min\n",
      "Train 412202_12: 7008 min\n",
      "Train 41264_12: 7113 min\n",
      "Train 431246_12: 6424 min\n",
      "Train 431802_12: 6063 min\n",
      "Train 44222_12: 6712 min\n",
      "Train 44228_12: 5833 min\n",
      "Train 44250_12: 6378 min\n",
      "Train 44865_12: 6739 min\n",
      "Train 44951_12: 6890 min\n",
      "Train 450237_12: 6467 min\n",
      "Train 471003_12: 6523 min\n",
      "Train 47214_12: 6823 min\n",
      "Train 47262_12: 6302 min\n",
      "Train 47822_12: 6933 min\n",
      "Train 48216_12: 6223 min\n",
      "Train 489026_12: 6453 min\n",
      "Train 489042_12: 7056 min\n",
      "Train 54234_12: 7081 min\n",
      "Train 55396_12: 6225 min\n",
      "Train 56135_12: 7048 min\n",
      "Train 56730_12: 5912 min\n",
      "Train 58706_12: 7035 min\n",
      "Train 71270_12: 6325 min\n",
      "Train 412023_13: 7327 min\n",
      "Train 41230_13: 8521 min\n",
      "Train 431802_13: 7503 min\n",
      "Train 44222_13: 8165 min\n",
      "Train 44228_13: 7273 min\n",
      "Train 44250_13: 7831 min\n",
      "Train 44864_13: 8172 min\n",
      "Train 450235_13: 7911 min\n",
      "Train 47240_13: 7306 min\n",
      "Train 47262_13: 7757 min\n",
      "Train 47822_13: 8373 min\n",
      "Train 489026_13: 7893 min\n",
      "Train 54234_13: 8521 min\n",
      "Train 55390_13: 8629 min\n",
      "Train 55396_13: 7665 min\n",
      "Train 56135_13: 8488 min\n",
      "Train 56730_13: 7352 min\n",
      "Train 58706_13: 8475 min\n",
      "Train 56730_14: 8795 min\n",
      "Vérification du contenu final de t_d :\n",
      "Train 400006_09: 2386 min\n",
      "Train 400016_09: 2806 min\n",
      "Train 400110_09: 2697 min\n",
      "Train 431035_09: 2342 min\n",
      "Train 431091_09: 1819 min\n",
      "Train 44203_09: 2515 min\n",
      "Train 44241_09: 2242 min\n",
      "Train 44249_09: 1627 min\n",
      "Train 44806_09: 1933 min\n",
      "Train 47245_09: 2300 min\n",
      "Train 47289_09: 2100 min\n",
      "Train 47821_09: 2785 min\n",
      "Train 489447_09: 1811 min\n",
      "Train 52672_09: 2412 min\n",
      "Train 54003_09: 1679 min\n",
      "Train 54051_09: 1774 min\n",
      "Train 54086_09: 1670 min\n",
      "Train 54231_09: 2289 min\n",
      "Train 450226_10: 3320 min\n",
      "Train 400014_10: 4067 min\n",
      "Train 412124_10: 3073 min\n",
      "Train 41258_10: 3043 min\n",
      "Train 431035_10: 3783 min\n",
      "Train 431091_10: 3259 min\n",
      "Train 44203_10: 3955 min\n",
      "Train 44241_10: 3682 min\n",
      "Train 44249_10: 3067 min\n",
      "Train 47205_10: 3728 min\n",
      "Train 48215_10: 3847 min\n",
      "Train 489044_10: 3010 min\n",
      "Train 52672_10: 3852 min\n",
      "Train 54003_10: 3119 min\n",
      "Train 54053_10: 3818 min\n",
      "Train 54231_10: 3729 min\n",
      "Train 71210_10: 3180 min\n",
      "Train 400006_11: 5266 min\n",
      "Train 400010_11: 5746 min\n",
      "Train 400016_11: 5686 min\n",
      "Train 431035_11: 5222 min\n",
      "Train 44203_11: 5395 min\n",
      "Train 44241_11: 5122 min\n",
      "Train 44806_11: 4638 min\n",
      "Train 450226_11: 4760 min\n",
      "Train 47245_11: 5203 min\n",
      "Train 47247_11: 4980 min\n",
      "Train 47820_11: 5665 min\n",
      "Train 489118_11: 5230 min\n",
      "Train 52672_11: 5292 min\n",
      "Train 54003_11: 4559 min\n",
      "Train 54051_11: 4654 min\n",
      "Train 54086_11: 4550 min\n",
      "Train 54231_11: 5169 min\n",
      "Train 71256_11: 4466 min\n",
      "Train 400010_12: 7186 min\n",
      "Train 400016_12: 7126 min\n",
      "Train 412024_12: 6026 min\n",
      "Train 41258_12: 5923 min\n",
      "Train 431035_12: 6663 min\n",
      "Train 44241_12: 6562 min\n",
      "Train 44249_12: 5947 min\n",
      "Train 44952_12: 7017 min\n",
      "Train 47205_12: 6919 min\n",
      "Train 48219_12: 5914 min\n",
      "Train 489447_12: 6131 min\n",
      "Train 52672_12: 6732 min\n",
      "Train 54003_12: 5999 min\n",
      "Train 54053_12: 6698 min\n",
      "Train 54086_12: 5990 min\n",
      "Train 54231_12: 6609 min\n",
      "Train 71217_12: 7170 min\n",
      "Train 41258_13: 7363 min\n",
      "Train 431091_13: 7579 min\n",
      "Train 44241_13: 8002 min\n",
      "Train 44806_13: 7470 min\n",
      "Train 450224_13: 7779 min\n",
      "Train 47237_13: 7860 min\n",
      "Train 47281_13: 8309 min\n",
      "Train 489044_13: 7330 min\n",
      "Train 489119_13: 8103 min\n",
      "Train 489447_13: 7571 min\n",
      "Train 54051_13: 7536 min\n",
      "Train 54086_13: 7430 min\n",
      "Train 431037_14: 9700 min\n",
      "Train 44247_14: 9515 min\n",
      "Train 44559_14: 9368 min\n",
      "Train 47820_14: 9542 min\n",
      "Train 489447_14: 9011 min\n",
      "Train 54003_14: 8879 min\n",
      "Train 54053_14: 9578 min\n",
      "Train 54055_14: 8730 min\n",
      "Train 54086_14: 8870 min\n",
      "Train 400014_15: 11267 min\n",
      "Train 431035_15: 10982 min\n",
      "Train 431121_15: 10421 min\n",
      "Train 450226_15: 10520 min\n",
      "Train 489447_15: 10451 min\n",
      "Train 54003_15: 10319 min\n",
      "Train 54051_15: 10414 min\n",
      "Train 54086_15: 10310 min\n",
      "Train 54231_15: 10929 min\n",
      "Train 41258_16: 11683 min\n",
      "Train 431091_16: 11899 min\n",
      "Train 489044_16: 11650 min\n",
      "Train 54051_16: 11854 min\n",
      "Train 412124_17: 13153 min\n",
      "Train 431113_17: 13620 min\n"
     ]
    }
   ],
   "source": [
    "# Charger le fichier Excel\n",
    "file = \"instance_WPY_realiste_jalon1.xlsx\"\n",
    "\n",
    "# Lire les feuilles \"Sillons arrivée\" et \"Sillons départ\"\n",
    "df_sillons_arr, df_sillons_dep = read_sillon(file)\n",
    "\n",
    "# Dictionnaires pour stocker les temps d'arrivée et de départ en minutes :\n",
    "# Traitement des arrivées\n",
    "t_a = init_t_a(df_sillons_arr, print_bool=True)\n",
    "\n",
    "t_d = init_t_d(df_sillons_dep, print_bool=True)\n",
    "\n",
    "# Vérification finale\n",
    "print(\"Vérification du contenu final de t_a :\")\n",
    "for key, value in t_a.items():\n",
    "    print(f\"Train {key}: {value} min\")\n",
    "\n",
    "print(\"Vérification du contenu final de t_d :\")\n",
    "for key, value in t_d.items():\n",
    "    print(f\"Train {key}: {value} min\")"
   ]
  },
  {
   "cell_type": "code",
   "execution_count": 3,
   "metadata": {},
   "outputs": [],
   "source": [
    "df_correspondance = pd.read_excel(file, sheet_name=\"Correspondances\")\n",
    "\n",
    "D = init_dict_correspondance(df_correspondance)"
   ]
  },
  {
   "cell_type": "code",
   "execution_count": 4,
   "metadata": {},
   "outputs": [
    {
     "name": "stdout",
     "output_type": "stream",
     "text": [
      "Set parameter Username\n",
      "Set parameter LicenseID to value 2617576\n",
      "Academic license - for non-commercial use only - expires 2026-02-03\n"
     ]
    }
   ],
   "source": [
    "model,t_arr,t_dep = init_model(\n",
    "    liste_id_train_arrivee = t_a.keys(),\n",
    "    t_a = t_a,\n",
    "    liste_id_train_depart = t_d.keys(),\n",
    "    t_d = t_d,\n",
    "    dict_correspondances = D,\n",
    "    file=file,\n",
    "    id_file = 1\n",
    ")\n"
   ]
  },
  {
   "cell_type": "code",
   "execution_count": 5,
   "metadata": {},
   "outputs": [
    {
     "name": "stdout",
     "output_type": "stream",
     "text": [
      "Ca marche Bébou\n",
      "Tâche 1 - Train 412202_08 : 1248.0\n",
      "Tâche 1 - Train 431018_08 : 801.0\n",
      "Tâche 1 - Train 431246_08 : 664.0\n",
      "Tâche 1 - Train 44951_08 : 1130.0\n",
      "Tâche 1 - Train 450237_08 : 707.0\n",
      "Tâche 1 - Train 489016_08 : 1415.0\n",
      "Tâche 1 - Train 54234_08 : 1321.0\n",
      "Tâche 1 - Train 55390_08 : 1429.0\n",
      "Tâche 1 - Train 56135_08 : 1288.0\n",
      "Tâche 1 - Train 412023_09 : 1567.0\n",
      "Tâche 1 - Train 41264_09 : 2793.0\n",
      "Tâche 1 - Train 431802_09 : 1620.0\n",
      "Tâche 1 - Train 44222_09 : 2533.0\n",
      "Tâche 1 - Train 44250_09 : 2058.0\n",
      "Tâche 1 - Train 44865_09 : 2416.0\n",
      "Tâche 1 - Train 450237_09 : 2147.0\n",
      "Tâche 1 - Train 471003_09 : 2203.0\n",
      "Tâche 1 - Train 47262_09 : 1982.0\n",
      "Tâche 1 - Train 489026_09 : 2011.0\n",
      "Tâche 1 - Train 54234_09 : 2761.0\n",
      "Tâche 1 - Train 55390_09 : 2869.0\n",
      "Tâche 1 - Train 55398_09 : 1680.0\n",
      "Tâche 1 - Train 56135_09 : 2728.0\n",
      "Tâche 1 - Train 56730_09 : 1592.0\n",
      "Tâche 1 - Train 58706_09 : 2715.0\n",
      "Tâche 1 - Train 412023_10 : 3007.0\n",
      "Tâche 1 - Train 412202_10 : 4128.0\n",
      "Tâche 1 - Train 41264_10 : 4233.0\n",
      "Tâche 1 - Train 431020_10 : 4098.0\n",
      "Tâche 1 - Train 431110_10 : 3630.0\n",
      "Tâche 1 - Train 431246_10 : 3544.0\n",
      "Tâche 1 - Train 431802_10 : 3115.0\n",
      "Tâche 1 - Train 44222_10 : 3832.0\n",
      "Tâche 1 - Train 44228_10 : 2953.0\n",
      "Tâche 1 - Train 44250_10 : 3498.0\n",
      "Tâche 1 - Train 450237_10 : 3587.0\n",
      "Tâche 1 - Train 471003_10 : 3643.0\n",
      "Tâche 1 - Train 47214_10 : 3643.0\n",
      "Tâche 1 - Train 47262_10 : 3422.0\n",
      "Tâche 1 - Train 54234_10 : 4201.0\n",
      "Tâche 1 - Train 55390_10 : 4309.0\n",
      "Tâche 1 - Train 55396_10 : 3345.0\n",
      "Tâche 1 - Train 56135_10 : 4168.0\n",
      "Tâche 1 - Train 56730_10 : 3032.0\n",
      "Tâche 1 - Train 58706_10 : 4155.0\n",
      "Tâche 1 - Train 71270_10 : 3445.0\n",
      "Tâche 1 - Train 412023_11 : 4447.0\n",
      "Tâche 1 - Train 412202_11 : 5568.0\n",
      "Tâche 1 - Train 41254_11 : 5717.0\n",
      "Tâche 1 - Train 431246_11 : 4984.0\n",
      "Tâche 1 - Train 431640_11 : 4989.0\n",
      "Tâche 1 - Train 431802_11 : 4500.0\n",
      "Tâche 1 - Train 44222_11 : 5272.0\n",
      "Tâche 1 - Train 44250_11 : 4938.0\n",
      "Tâche 1 - Train 44865_11 : 5299.0\n",
      "Tâche 1 - Train 450237_11 : 5027.0\n",
      "Tâche 1 - Train 471003_11 : 5083.0\n",
      "Tâche 1 - Train 47212_11 : 5383.0\n",
      "Tâche 1 - Train 47240_11 : 4487.0\n",
      "Tâche 1 - Train 47262_11 : 4862.0\n",
      "Tâche 1 - Train 47822_11 : 5493.0\n",
      "Tâche 1 - Train 54234_11 : 5641.0\n",
      "Tâche 1 - Train 55390_11 : 5749.0\n",
      "Tâche 1 - Train 55394_11 : 5013.0\n",
      "Tâche 1 - Train 55396_11 : 4545.0\n",
      "Tâche 1 - Train 56135_11 : 5608.0\n",
      "Tâche 1 - Train 56730_11 : 4472.0\n",
      "Tâche 1 - Train 58706_11 : 5595.0\n",
      "Tâche 1 - Train 412023_12 : 5887.0\n",
      "Tâche 1 - Train 412202_12 : 7008.0\n",
      "Tâche 1 - Train 41264_12 : 7113.0\n",
      "Tâche 1 - Train 431246_12 : 6424.0\n",
      "Tâche 1 - Train 431802_12 : 6063.0\n",
      "Tâche 1 - Train 44222_12 : 6712.0\n",
      "Tâche 1 - Train 44228_12 : 5833.0\n",
      "Tâche 1 - Train 44250_12 : 6378.0\n",
      "Tâche 1 - Train 44865_12 : 6739.0\n",
      "Tâche 1 - Train 44951_12 : 6890.0\n",
      "Tâche 1 - Train 450237_12 : 6467.0\n",
      "Tâche 1 - Train 471003_12 : 6523.0\n",
      "Tâche 1 - Train 47214_12 : 6823.0\n",
      "Tâche 1 - Train 47262_12 : 6302.0\n",
      "Tâche 1 - Train 47822_12 : 6933.0\n",
      "Tâche 1 - Train 48216_12 : 6223.0\n",
      "Tâche 1 - Train 489026_12 : 6453.0\n",
      "Tâche 1 - Train 489042_12 : 7056.0\n",
      "Tâche 1 - Train 54234_12 : 7081.0\n",
      "Tâche 1 - Train 55396_12 : 6225.0\n",
      "Tâche 1 - Train 56135_12 : 7048.0\n",
      "Tâche 1 - Train 56730_12 : 5912.0\n",
      "Tâche 1 - Train 58706_12 : 7035.0\n",
      "Tâche 1 - Train 71270_12 : 6325.0\n",
      "Tâche 1 - Train 412023_13 : 7327.0\n",
      "Tâche 1 - Train 41230_13 : 8521.0\n",
      "Tâche 1 - Train 431802_13 : 7503.0\n",
      "Tâche 1 - Train 44222_13 : 8165.0\n",
      "Tâche 1 - Train 44228_13 : 7273.0\n",
      "Tâche 1 - Train 44250_13 : 7831.0\n",
      "Tâche 1 - Train 44864_13 : 8172.0\n",
      "Tâche 1 - Train 450235_13 : 7911.0\n",
      "Tâche 1 - Train 47240_13 : 7306.0\n",
      "Tâche 1 - Train 47262_13 : 7757.0\n",
      "Tâche 1 - Train 47822_13 : 8373.0\n",
      "Tâche 1 - Train 489026_13 : 7893.0\n",
      "Tâche 1 - Train 54234_13 : 8521.0\n",
      "Tâche 1 - Train 55390_13 : 8629.0\n",
      "Tâche 1 - Train 55396_13 : 7665.0\n",
      "Tâche 1 - Train 56135_13 : 8488.0\n",
      "Tâche 1 - Train 56730_13 : 7352.0\n",
      "Tâche 1 - Train 58706_13 : 8475.0\n",
      "Tâche 1 - Train 56730_14 : 8795.0\n",
      "Tâche 2 - Train 412202_08 : 1263.0\n",
      "Tâche 2 - Train 431018_08 : 816.0\n",
      "Tâche 2 - Train 431246_08 : 679.0\n",
      "Tâche 2 - Train 44951_08 : 1145.0\n",
      "Tâche 2 - Train 450237_08 : 722.0\n",
      "Tâche 2 - Train 489016_08 : 1430.0\n",
      "Tâche 2 - Train 54234_08 : 1336.0\n",
      "Tâche 2 - Train 55390_08 : 1444.0\n",
      "Tâche 2 - Train 56135_08 : 1303.0\n",
      "Tâche 2 - Train 412023_09 : 1582.0\n",
      "Tâche 2 - Train 41264_09 : 2808.0\n",
      "Tâche 2 - Train 431802_09 : 1635.0\n",
      "Tâche 2 - Train 44222_09 : 2548.0\n",
      "Tâche 2 - Train 44250_09 : 2073.0\n",
      "Tâche 2 - Train 44865_09 : 2431.0\n",
      "Tâche 2 - Train 450237_09 : 2162.0\n",
      "Tâche 2 - Train 471003_09 : 2218.0\n",
      "Tâche 2 - Train 47262_09 : 1997.0\n",
      "Tâche 2 - Train 489026_09 : 2026.0\n",
      "Tâche 2 - Train 54234_09 : 2776.0\n",
      "Tâche 2 - Train 55390_09 : 2884.0\n",
      "Tâche 2 - Train 55398_09 : 1695.0\n",
      "Tâche 2 - Train 56135_09 : 2743.0\n",
      "Tâche 2 - Train 56730_09 : 1607.0\n",
      "Tâche 2 - Train 58706_09 : 2730.0\n",
      "Tâche 2 - Train 412023_10 : 3022.0\n",
      "Tâche 2 - Train 412202_10 : 4143.0\n",
      "Tâche 2 - Train 41264_10 : 4248.0\n",
      "Tâche 2 - Train 431020_10 : 4113.0\n",
      "Tâche 2 - Train 431110_10 : 3645.0\n",
      "Tâche 2 - Train 431246_10 : 3559.0\n",
      "Tâche 2 - Train 431802_10 : 3130.0\n",
      "Tâche 2 - Train 44222_10 : 3847.0\n",
      "Tâche 2 - Train 44228_10 : 2968.0\n",
      "Tâche 2 - Train 44250_10 : 3513.0\n",
      "Tâche 2 - Train 450237_10 : 3602.0\n",
      "Tâche 2 - Train 471003_10 : 3658.0\n",
      "Tâche 2 - Train 47214_10 : 3658.0\n",
      "Tâche 2 - Train 47262_10 : 3437.0\n",
      "Tâche 2 - Train 54234_10 : 4216.0\n",
      "Tâche 2 - Train 55390_10 : 4324.0\n",
      "Tâche 2 - Train 55396_10 : 3360.0\n",
      "Tâche 2 - Train 56135_10 : 4183.0\n",
      "Tâche 2 - Train 56730_10 : 3047.0\n",
      "Tâche 2 - Train 58706_10 : 4170.0\n",
      "Tâche 2 - Train 71270_10 : 3460.0\n",
      "Tâche 2 - Train 412023_11 : 4462.0\n",
      "Tâche 2 - Train 412202_11 : 5583.0\n",
      "Tâche 2 - Train 41254_11 : 5732.0\n",
      "Tâche 2 - Train 431246_11 : 4999.0\n",
      "Tâche 2 - Train 431640_11 : 5004.0\n",
      "Tâche 2 - Train 431802_11 : 4515.0\n",
      "Tâche 2 - Train 44222_11 : 5287.0\n",
      "Tâche 2 - Train 44250_11 : 4953.0\n",
      "Tâche 2 - Train 44865_11 : 5314.0\n",
      "Tâche 2 - Train 450237_11 : 5042.0\n",
      "Tâche 2 - Train 471003_11 : 5098.0\n",
      "Tâche 2 - Train 47212_11 : 5398.0\n",
      "Tâche 2 - Train 47240_11 : 4502.0\n",
      "Tâche 2 - Train 47262_11 : 4877.0\n",
      "Tâche 2 - Train 47822_11 : 5508.0\n",
      "Tâche 2 - Train 54234_11 : 5656.0\n",
      "Tâche 2 - Train 55390_11 : 5764.0\n",
      "Tâche 2 - Train 55394_11 : 5028.0\n",
      "Tâche 2 - Train 55396_11 : 4560.0\n",
      "Tâche 2 - Train 56135_11 : 5623.0\n",
      "Tâche 2 - Train 56730_11 : 4487.0\n",
      "Tâche 2 - Train 58706_11 : 5610.0\n",
      "Tâche 2 - Train 412023_12 : 5902.0\n",
      "Tâche 2 - Train 412202_12 : 7023.0\n",
      "Tâche 2 - Train 41264_12 : 7128.0\n",
      "Tâche 2 - Train 431246_12 : 6439.0\n",
      "Tâche 2 - Train 431802_12 : 6078.0\n",
      "Tâche 2 - Train 44222_12 : 6727.0\n",
      "Tâche 2 - Train 44228_12 : 5848.0\n",
      "Tâche 2 - Train 44250_12 : 6393.0\n",
      "Tâche 2 - Train 44865_12 : 6754.0\n",
      "Tâche 2 - Train 44951_12 : 6905.0\n",
      "Tâche 2 - Train 450237_12 : 6482.0\n",
      "Tâche 2 - Train 471003_12 : 6538.0\n",
      "Tâche 2 - Train 47214_12 : 6838.0\n",
      "Tâche 2 - Train 47262_12 : 6317.0\n",
      "Tâche 2 - Train 47822_12 : 6948.0\n",
      "Tâche 2 - Train 48216_12 : 6238.0\n",
      "Tâche 2 - Train 489026_12 : 6468.0\n",
      "Tâche 2 - Train 489042_12 : 7071.0\n",
      "Tâche 2 - Train 54234_12 : 7096.0\n",
      "Tâche 2 - Train 55396_12 : 6240.0\n",
      "Tâche 2 - Train 56135_12 : 7063.0\n",
      "Tâche 2 - Train 56730_12 : 5927.0\n",
      "Tâche 2 - Train 58706_12 : 7050.0\n",
      "Tâche 2 - Train 71270_12 : 6340.0\n",
      "Tâche 2 - Train 412023_13 : 7342.0\n",
      "Tâche 2 - Train 41230_13 : 8536.0\n",
      "Tâche 2 - Train 431802_13 : 7518.0\n",
      "Tâche 2 - Train 44222_13 : 8180.0\n",
      "Tâche 2 - Train 44228_13 : 7288.0\n",
      "Tâche 2 - Train 44250_13 : 7846.0\n",
      "Tâche 2 - Train 44864_13 : 8187.0\n",
      "Tâche 2 - Train 450235_13 : 7926.0\n",
      "Tâche 2 - Train 47240_13 : 7321.0\n",
      "Tâche 2 - Train 47262_13 : 7772.0\n",
      "Tâche 2 - Train 47822_13 : 8388.0\n",
      "Tâche 2 - Train 489026_13 : 7908.0\n",
      "Tâche 2 - Train 54234_13 : 8536.0\n",
      "Tâche 2 - Train 55390_13 : 8644.0\n",
      "Tâche 2 - Train 55396_13 : 7680.0\n",
      "Tâche 2 - Train 56135_13 : 8503.0\n",
      "Tâche 2 - Train 56730_13 : 7367.0\n",
      "Tâche 2 - Train 58706_13 : 8490.0\n",
      "Tâche 2 - Train 56730_14 : 8810.0\n",
      "Tâche 3 - Train 412202_08 : 1308.0\n",
      "Tâche 3 - Train 431018_08 : 861.0\n",
      "Tâche 3 - Train 431246_08 : 795.0\n",
      "Tâche 3 - Train 44951_08 : 1190.0\n",
      "Tâche 3 - Train 450237_08 : 780.0\n",
      "Tâche 3 - Train 489016_08 : 1475.0\n",
      "Tâche 3 - Train 54234_08 : 1381.0\n",
      "Tâche 3 - Train 55390_08 : 1490.0\n",
      "Tâche 3 - Train 56135_08 : 1348.0\n",
      "Tâche 3 - Train 412023_09 : 1627.0\n",
      "Tâche 3 - Train 41264_09 : 2853.0\n",
      "Tâche 3 - Train 431802_09 : 1680.0\n",
      "Tâche 3 - Train 44222_09 : 2593.0\n",
      "Tâche 3 - Train 44250_09 : 2118.0\n",
      "Tâche 3 - Train 44865_09 : 2476.0\n",
      "Tâche 3 - Train 450237_09 : 2207.0\n",
      "Tâche 3 - Train 471003_09 : 2263.0\n",
      "Tâche 3 - Train 47262_09 : 2042.0\n",
      "Tâche 3 - Train 489026_09 : 2071.0\n",
      "Tâche 3 - Train 54234_09 : 2821.0\n",
      "Tâche 3 - Train 55390_09 : 2929.0\n",
      "Tâche 3 - Train 55398_09 : 1740.0\n",
      "Tâche 3 - Train 56135_09 : 2788.0\n",
      "Tâche 3 - Train 56730_09 : 1652.0\n",
      "Tâche 3 - Train 58706_09 : 2803.0\n",
      "Tâche 3 - Train 412023_10 : 3067.0\n",
      "Tâche 3 - Train 412202_10 : 4188.0\n",
      "Tâche 3 - Train 41264_10 : 4293.0\n",
      "Tâche 3 - Train 431020_10 : 4158.0\n",
      "Tâche 3 - Train 431110_10 : 3690.0\n",
      "Tâche 3 - Train 431246_10 : 3604.0\n",
      "Tâche 3 - Train 431802_10 : 3175.0\n",
      "Tâche 3 - Train 44222_10 : 3892.0\n",
      "Tâche 3 - Train 44228_10 : 3013.0\n",
      "Tâche 3 - Train 44250_10 : 3558.0\n",
      "Tâche 3 - Train 450237_10 : 3647.0\n",
      "Tâche 3 - Train 471003_10 : 3705.0\n",
      "Tâche 3 - Train 47214_10 : 3720.0\n",
      "Tâche 3 - Train 47262_10 : 3482.0\n",
      "Tâche 3 - Train 54234_10 : 4261.0\n",
      "Tâche 3 - Train 55390_10 : 4369.0\n",
      "Tâche 3 - Train 55396_10 : 3405.0\n",
      "Tâche 3 - Train 56135_10 : 4230.0\n",
      "Tâche 3 - Train 56730_10 : 3092.0\n",
      "Tâche 3 - Train 58706_10 : 4215.0\n",
      "Tâche 3 - Train 71270_10 : 3505.0\n",
      "Tâche 3 - Train 412023_11 : 4507.0\n",
      "Tâche 3 - Train 412202_11 : 5628.0\n",
      "Tâche 3 - Train 41254_11 : 5777.0\n",
      "Tâche 3 - Train 431246_11 : 5044.0\n",
      "Tâche 3 - Train 431640_11 : 5059.0\n",
      "Tâche 3 - Train 431802_11 : 4562.0\n",
      "Tâche 3 - Train 44222_11 : 5332.0\n",
      "Tâche 3 - Train 44250_11 : 4998.0\n",
      "Tâche 3 - Train 44865_11 : 5359.0\n",
      "Tâche 3 - Train 450237_11 : 5089.0\n",
      "Tâche 3 - Train 471003_11 : 5143.0\n",
      "Tâche 3 - Train 47212_11 : 5443.0\n",
      "Tâche 3 - Train 47240_11 : 4547.0\n",
      "Tâche 3 - Train 47262_11 : 4922.0\n",
      "Tâche 3 - Train 47822_11 : 5553.0\n",
      "Tâche 3 - Train 54234_11 : 5701.0\n",
      "Tâche 3 - Train 55390_11 : 5809.0\n",
      "Tâche 3 - Train 55394_11 : 5074.0\n",
      "Tâche 3 - Train 55396_11 : 4605.0\n",
      "Tâche 3 - Train 56135_11 : 5670.0\n",
      "Tâche 3 - Train 56730_11 : 4532.0\n",
      "Tâche 3 - Train 58706_11 : 5655.0\n",
      "Tâche 3 - Train 412023_12 : 5947.0\n",
      "Tâche 3 - Train 412202_12 : 7068.0\n",
      "Tâche 3 - Train 41264_12 : 7173.0\n",
      "Tâche 3 - Train 431246_12 : 6484.0\n",
      "Tâche 3 - Train 431802_12 : 6123.0\n",
      "Tâche 3 - Train 44222_12 : 6772.0\n",
      "Tâche 3 - Train 44228_12 : 5893.0\n",
      "Tâche 3 - Train 44250_12 : 6438.0\n",
      "Tâche 3 - Train 44865_12 : 6799.0\n",
      "Tâche 3 - Train 44951_12 : 6950.0\n",
      "Tâche 3 - Train 450237_12 : 6528.0\n",
      "Tâche 3 - Train 471003_12 : 6583.0\n",
      "Tâche 3 - Train 47214_12 : 6883.0\n",
      "Tâche 3 - Train 47262_12 : 6362.0\n",
      "Tâche 3 - Train 47822_12 : 6993.0\n",
      "Tâche 3 - Train 48216_12 : 6300.0\n",
      "Tâche 3 - Train 489026_12 : 6513.0\n",
      "Tâche 3 - Train 489042_12 : 7116.0\n",
      "Tâche 3 - Train 54234_12 : 7141.0\n",
      "Tâche 3 - Train 55396_12 : 6285.0\n",
      "Tâche 3 - Train 56135_12 : 7156.0\n",
      "Tâche 3 - Train 56730_12 : 5972.0\n",
      "Tâche 3 - Train 58706_12 : 7095.0\n",
      "Tâche 3 - Train 71270_12 : 6385.0\n",
      "Tâche 3 - Train 412023_13 : 7387.0\n",
      "Tâche 3 - Train 41230_13 : 8581.0\n",
      "Tâche 3 - Train 431802_13 : 7563.0\n",
      "Tâche 3 - Train 44222_13 : 8475.0\n",
      "Tâche 3 - Train 44228_13 : 7333.0\n",
      "Tâche 3 - Train 44250_13 : 7891.0\n",
      "Tâche 3 - Train 44864_13 : 8460.0\n",
      "Tâche 3 - Train 450235_13 : 8490.0\n",
      "Tâche 3 - Train 47240_13 : 7366.0\n",
      "Tâche 3 - Train 47262_13 : 7817.0\n",
      "Tâche 3 - Train 47822_13 : 8505.0\n",
      "Tâche 3 - Train 489026_13 : 7953.0\n",
      "Tâche 3 - Train 54234_13 : 8596.0\n",
      "Tâche 3 - Train 55390_13 : 8689.0\n",
      "Tâche 3 - Train 55396_13 : 7725.0\n",
      "Tâche 3 - Train 56135_13 : 8550.0\n",
      "Tâche 3 - Train 56730_13 : 7412.0\n",
      "Tâche 3 - Train 58706_13 : 8535.0\n",
      "Tâche 3 - Train 56730_14 : 8855.0\n",
      "Tâche 1 - Train 400006_09 : 1687.0\n",
      "Tâche 1 - Train 400016_09 : 1755.0\n",
      "Tâche 1 - Train 400110_09 : 1490.0\n",
      "Tâche 1 - Train 431035_09 : 1505.0\n",
      "Tâche 1 - Train 431091_09 : 1535.0\n",
      "Tâche 1 - Train 44203_09 : 1672.0\n",
      "Tâche 1 - Train 44241_09 : 810.0\n",
      "Tâche 1 - Train 44249_09 : 795.0\n",
      "Tâche 1 - Train 44806_09 : 876.0\n",
      "Tâche 1 - Train 47245_09 : 1378.0\n",
      "Tâche 1 - Train 47289_09 : 1520.0\n",
      "Tâche 1 - Train 47821_09 : 2086.0\n",
      "Tâche 1 - Train 489447_09 : 1396.0\n",
      "Tâche 1 - Train 52672_09 : 1657.0\n",
      "Tâche 1 - Train 54003_09 : 1363.0\n",
      "Tâche 1 - Train 54051_09 : 840.0\n",
      "Tâche 1 - Train 54086_09 : 825.0\n",
      "Tâche 1 - Train 54231_09 : 1770.0\n",
      "Tâche 1 - Train 450226_10 : 2836.0\n",
      "Tâche 1 - Train 400014_10 : 2866.0\n",
      "Tâche 1 - Train 412124_10 : 1702.0\n",
      "Tâche 1 - Train 41258_10 : 1642.0\n",
      "Tâche 1 - Train 431035_10 : 3127.0\n",
      "Tâche 1 - Train 431091_10 : 2944.0\n",
      "Tâche 1 - Train 44203_10 : 2896.0\n",
      "Tâche 1 - Train 44241_10 : 2851.0\n",
      "Tâche 1 - Train 44249_10 : 2278.0\n",
      "Tâche 1 - Train 47205_10 : 3420.0\n",
      "Tâche 1 - Train 48215_10 : 2803.0\n",
      "Tâche 1 - Train 489044_10 : 2222.0\n",
      "Tâche 1 - Train 52672_10 : 3097.0\n",
      "Tâche 1 - Train 54003_10 : 2491.0\n",
      "Tâche 1 - Train 54053_10 : 2911.0\n",
      "Tâche 1 - Train 54231_10 : 3082.0\n",
      "Tâche 1 - Train 71210_10 : 2881.0\n",
      "Tâche 1 - Train 400006_11 : 4276.0\n",
      "Tâche 1 - Train 400010_11 : 4291.0\n",
      "Tâche 1 - Train 400016_11 : 4547.0\n",
      "Tâche 1 - Train 431035_11 : 4577.0\n",
      "Tâche 1 - Train 44203_11 : 4230.0\n",
      "Tâche 1 - Train 44241_11 : 4260.0\n",
      "Tâche 1 - Train 44806_11 : 4321.0\n",
      "Tâche 1 - Train 450226_11 : 3112.0\n",
      "Tâche 1 - Train 47245_11 : 4245.0\n",
      "Tâche 1 - Train 47247_11 : 4306.0\n",
      "Tâche 1 - Train 47820_11 : 4384.0\n",
      "Tâche 1 - Train 489118_11 : 4620.0\n",
      "Tâche 1 - Train 52672_11 : 4522.0\n",
      "Tâche 1 - Train 54003_11 : 4203.0\n",
      "Tâche 1 - Train 54051_11 : 4336.0\n",
      "Tâche 1 - Train 54086_11 : 3662.0\n",
      "Tâche 1 - Train 54231_11 : 4635.0\n",
      "Tâche 1 - Train 71256_11 : 3619.0\n",
      "Tâche 1 - Train 400010_12 : 6528.0\n",
      "Tâche 1 - Train 400016_12 : 6573.0\n",
      "Tâche 1 - Train 412024_12 : 4562.0\n",
      "Tâche 1 - Train 41258_12 : 4399.0\n",
      "Tâche 1 - Train 431035_12 : 5670.0\n",
      "Tâche 1 - Train 44241_12 : 5716.0\n",
      "Tâche 1 - Train 44249_12 : 5089.0\n",
      "Tâche 1 - Train 44952_12 : 5987.0\n",
      "Tâche 1 - Train 47205_12 : 4650.0\n",
      "Tâche 1 - Train 48219_12 : 5104.0\n",
      "Tâche 1 - Train 489447_12 : 5824.0\n",
      "Tâche 1 - Train 52672_12 : 6300.0\n",
      "Tâche 1 - Train 54003_12 : 5685.0\n",
      "Tâche 1 - Train 54053_12 : 5908.0\n",
      "Tâche 1 - Train 54086_12 : 5119.0\n",
      "Tâche 1 - Train 54231_12 : 6138.0\n",
      "Tâche 1 - Train 71217_12 : 6558.0\n",
      "Tâche 1 - Train 41258_13 : 6543.0\n",
      "Tâche 1 - Train 431091_13 : 5962.0\n",
      "Tâche 1 - Train 44241_13 : 7110.0\n",
      "Tâche 1 - Train 44806_13 : 7140.0\n",
      "Tâche 1 - Train 450224_13 : 7457.0\n",
      "Tâche 1 - Train 47237_13 : 7188.0\n",
      "Tâche 1 - Train 47281_13 : 7203.0\n",
      "Tâche 1 - Train 489044_13 : 6965.0\n",
      "Tâche 1 - Train 489119_13 : 7095.0\n",
      "Tâche 1 - Train 489447_13 : 7125.0\n",
      "Tâche 1 - Train 54051_13 : 6315.0\n",
      "Tâche 1 - Train 54086_13 : 5792.0\n",
      "Tâche 1 - Train 431037_14 : 8641.0\n",
      "Tâche 1 - Train 44247_14 : 8704.0\n",
      "Tâche 1 - Train 44559_14 : 7740.0\n",
      "Tâche 1 - Train 47820_14 : 8719.0\n",
      "Tâche 1 - Train 489447_14 : 7156.0\n",
      "Tâche 1 - Train 54003_14 : 8565.0\n",
      "Tâche 1 - Train 54053_14 : 8596.0\n",
      "Tâche 1 - Train 54055_14 : 7381.0\n",
      "Tâche 1 - Train 54086_14 : 7402.0\n",
      "Tâche 1 - Train 400014_15 : 8870.0\n",
      "Tâche 1 - Train 431035_15 : 6400.0\n",
      "Tâche 1 - Train 431121_15 : 7427.0\n",
      "Tâche 1 - Train 450226_15 : 8611.0\n",
      "Tâche 1 - Train 489447_15 : 7442.0\n",
      "Tâche 1 - Train 54003_15 : 8900.0\n",
      "Tâche 1 - Train 54051_15 : 7578.0\n",
      "Tâche 1 - Train 54086_15 : 8885.0\n",
      "Tâche 1 - Train 54231_15 : 8626.0\n",
      "Tâche 1 - Train 41258_16 : 8656.0\n",
      "Tâche 1 - Train 431091_16 : 6499.0\n",
      "Tâche 1 - Train 489044_16 : 8460.0\n",
      "Tâche 1 - Train 54051_16 : 5700.0\n",
      "Tâche 1 - Train 412124_17 : 8581.0\n",
      "Tâche 1 - Train 431113_17 : 3705.0\n",
      "Tâche 2 - Train 400006_09 : 1702.0\n",
      "Tâche 2 - Train 400016_09 : 1770.0\n",
      "Tâche 2 - Train 400110_09 : 1505.0\n",
      "Tâche 2 - Train 431035_09 : 1520.0\n",
      "Tâche 2 - Train 431091_09 : 1550.0\n",
      "Tâche 2 - Train 44203_09 : 1687.0\n",
      "Tâche 2 - Train 44241_09 : 825.0\n",
      "Tâche 2 - Train 44249_09 : 810.0\n",
      "Tâche 2 - Train 44806_09 : 891.0\n",
      "Tâche 2 - Train 47245_09 : 1393.0\n",
      "Tâche 2 - Train 47289_09 : 1565.0\n",
      "Tâche 2 - Train 47821_09 : 2101.0\n",
      "Tâche 2 - Train 489447_09 : 1423.0\n",
      "Tâche 2 - Train 52672_09 : 1672.0\n",
      "Tâche 2 - Train 54003_09 : 1408.0\n",
      "Tâche 2 - Train 54051_09 : 855.0\n",
      "Tâche 2 - Train 54086_09 : 840.0\n",
      "Tâche 2 - Train 54231_09 : 1785.0\n",
      "Tâche 2 - Train 450226_10 : 2896.0\n",
      "Tâche 2 - Train 400014_10 : 2881.0\n",
      "Tâche 2 - Train 412124_10 : 1717.0\n",
      "Tâche 2 - Train 41258_10 : 1657.0\n",
      "Tâche 2 - Train 431035_10 : 3142.0\n",
      "Tâche 2 - Train 431091_10 : 2973.0\n",
      "Tâche 2 - Train 44203_10 : 2928.0\n",
      "Tâche 2 - Train 44241_10 : 2866.0\n",
      "Tâche 2 - Train 44249_10 : 2293.0\n",
      "Tâche 2 - Train 47205_10 : 3435.0\n",
      "Tâche 2 - Train 48215_10 : 2913.0\n",
      "Tâche 2 - Train 489044_10 : 2237.0\n",
      "Tâche 2 - Train 52672_10 : 3112.0\n",
      "Tâche 2 - Train 54003_10 : 2506.0\n",
      "Tâche 2 - Train 54053_10 : 2943.0\n",
      "Tâche 2 - Train 54231_10 : 3097.0\n",
      "Tâche 2 - Train 71210_10 : 2958.0\n",
      "Tâche 2 - Train 400006_11 : 4306.0\n",
      "Tâche 2 - Train 400010_11 : 4351.0\n",
      "Tâche 2 - Train 400016_11 : 4562.0\n",
      "Tâche 2 - Train 431035_11 : 4592.0\n",
      "Tâche 2 - Train 44203_11 : 4245.0\n",
      "Tâche 2 - Train 44241_11 : 4275.0\n",
      "Tâche 2 - Train 44806_11 : 4336.0\n",
      "Tâche 2 - Train 450226_11 : 3157.0\n",
      "Tâche 2 - Train 47245_11 : 4291.0\n",
      "Tâche 2 - Train 47247_11 : 4321.0\n",
      "Tâche 2 - Train 47820_11 : 4399.0\n",
      "Tâche 2 - Train 489118_11 : 4635.0\n",
      "Tâche 2 - Train 52672_11 : 4537.0\n",
      "Tâche 2 - Train 54003_11 : 4218.0\n",
      "Tâche 2 - Train 54051_11 : 4366.0\n",
      "Tâche 2 - Train 54086_11 : 3677.0\n",
      "Tâche 2 - Train 54231_11 : 4650.0\n",
      "Tâche 2 - Train 71256_11 : 3634.0\n",
      "Tâche 2 - Train 400010_12 : 6543.0\n",
      "Tâche 2 - Train 400016_12 : 6588.0\n",
      "Tâche 2 - Train 412024_12 : 4577.0\n",
      "Tâche 2 - Train 41258_12 : 4414.0\n",
      "Tâche 2 - Train 431035_12 : 5685.0\n",
      "Tâche 2 - Train 44241_12 : 5731.0\n",
      "Tâche 2 - Train 44249_12 : 5104.0\n",
      "Tâche 2 - Train 44952_12 : 6002.0\n",
      "Tâche 2 - Train 47205_12 : 4665.0\n",
      "Tâche 2 - Train 48219_12 : 5119.0\n",
      "Tâche 2 - Train 489447_12 : 5839.0\n",
      "Tâche 2 - Train 52672_12 : 6315.0\n",
      "Tâche 2 - Train 54003_12 : 5700.0\n",
      "Tâche 2 - Train 54053_12 : 5923.0\n",
      "Tâche 2 - Train 54086_12 : 5134.0\n",
      "Tâche 2 - Train 54231_12 : 6153.0\n",
      "Tâche 2 - Train 71217_12 : 6573.0\n",
      "Tâche 2 - Train 41258_13 : 6558.0\n",
      "Tâche 2 - Train 431091_13 : 5977.0\n",
      "Tâche 2 - Train 44241_13 : 7185.0\n",
      "Tâche 2 - Train 44806_13 : 7155.0\n",
      "Tâche 2 - Train 450224_13 : 7472.0\n",
      "Tâche 2 - Train 47237_13 : 7215.0\n",
      "Tâche 2 - Train 47281_13 : 7230.0\n",
      "Tâche 2 - Train 489044_13 : 6980.0\n",
      "Tâche 2 - Train 489119_13 : 7170.0\n",
      "Tâche 2 - Train 489447_13 : 7140.0\n",
      "Tâche 2 - Train 54051_13 : 6400.0\n",
      "Tâche 2 - Train 54086_13 : 5807.0\n",
      "Tâche 2 - Train 431037_14 : 8656.0\n",
      "Tâche 2 - Train 44247_14 : 8719.0\n",
      "Tâche 2 - Train 44559_14 : 7755.0\n",
      "Tâche 2 - Train 47820_14 : 8734.0\n",
      "Tâche 2 - Train 489447_14 : 7171.0\n",
      "Tâche 2 - Train 54003_14 : 8580.0\n",
      "Tâche 2 - Train 54053_14 : 8611.0\n",
      "Tâche 2 - Train 54055_14 : 7396.0\n",
      "Tâche 2 - Train 54086_14 : 7417.0\n",
      "Tâche 2 - Train 400014_15 : 8885.0\n",
      "Tâche 2 - Train 431035_15 : 6415.0\n",
      "Tâche 2 - Train 431121_15 : 7442.0\n",
      "Tâche 2 - Train 450226_15 : 8626.0\n",
      "Tâche 2 - Train 489447_15 : 7457.0\n",
      "Tâche 2 - Train 54003_15 : 8915.0\n",
      "Tâche 2 - Train 54051_15 : 7593.0\n",
      "Tâche 2 - Train 54086_15 : 8900.0\n",
      "Tâche 2 - Train 54231_15 : 8641.0\n",
      "Tâche 2 - Train 41258_16 : 8671.0\n",
      "Tâche 2 - Train 431091_16 : 6514.0\n",
      "Tâche 2 - Train 489044_16 : 8475.0\n",
      "Tâche 2 - Train 54051_16 : 5715.0\n",
      "Tâche 2 - Train 412124_17 : 8626.0\n",
      "Tâche 2 - Train 431113_17 : 3720.0\n",
      "Tâche 3 - Train 400006_09 : 1852.0\n",
      "Tâche 3 - Train 400016_09 : 1920.0\n",
      "Tâche 3 - Train 400110_09 : 1655.0\n",
      "Tâche 3 - Train 431035_09 : 1670.0\n",
      "Tâche 3 - Train 431091_09 : 1700.0\n",
      "Tâche 3 - Train 44203_09 : 1837.0\n",
      "Tâche 3 - Train 44241_09 : 975.0\n",
      "Tâche 3 - Train 44249_09 : 960.0\n",
      "Tâche 3 - Train 44806_09 : 1041.0\n",
      "Tâche 3 - Train 47245_09 : 1543.0\n",
      "Tâche 3 - Train 47289_09 : 1715.0\n",
      "Tâche 3 - Train 47821_09 : 2251.0\n",
      "Tâche 3 - Train 489447_09 : 1573.0\n",
      "Tâche 3 - Train 52672_09 : 1822.0\n",
      "Tâche 3 - Train 54003_09 : 1558.0\n",
      "Tâche 3 - Train 54051_09 : 1005.0\n",
      "Tâche 3 - Train 54086_09 : 990.0\n",
      "Tâche 3 - Train 54231_09 : 1935.0\n",
      "Tâche 3 - Train 450226_10 : 3046.0\n",
      "Tâche 3 - Train 400014_10 : 3031.0\n",
      "Tâche 3 - Train 412124_10 : 1867.0\n",
      "Tâche 3 - Train 41258_10 : 1807.0\n",
      "Tâche 3 - Train 431035_10 : 3292.0\n",
      "Tâche 3 - Train 431091_10 : 3123.0\n",
      "Tâche 3 - Train 44203_10 : 3078.0\n",
      "Tâche 3 - Train 44241_10 : 3016.0\n",
      "Tâche 3 - Train 44249_10 : 2443.0\n",
      "Tâche 3 - Train 47205_10 : 3585.0\n",
      "Tâche 3 - Train 48215_10 : 3063.0\n",
      "Tâche 3 - Train 489044_10 : 2387.0\n",
      "Tâche 3 - Train 52672_10 : 3262.0\n",
      "Tâche 3 - Train 54003_10 : 2656.0\n",
      "Tâche 3 - Train 54053_10 : 3093.0\n",
      "Tâche 3 - Train 54231_10 : 3247.0\n",
      "Tâche 3 - Train 71210_10 : 3108.0\n",
      "Tâche 3 - Train 400006_11 : 4456.0\n",
      "Tâche 3 - Train 400010_11 : 4501.0\n",
      "Tâche 3 - Train 400016_11 : 4712.0\n",
      "Tâche 3 - Train 431035_11 : 4742.0\n",
      "Tâche 3 - Train 44203_11 : 4395.0\n",
      "Tâche 3 - Train 44241_11 : 4425.0\n",
      "Tâche 3 - Train 44806_11 : 4486.0\n",
      "Tâche 3 - Train 450226_11 : 3307.0\n",
      "Tâche 3 - Train 47245_11 : 4441.0\n",
      "Tâche 3 - Train 47247_11 : 4471.0\n",
      "Tâche 3 - Train 47820_11 : 4549.0\n",
      "Tâche 3 - Train 489118_11 : 4785.0\n",
      "Tâche 3 - Train 52672_11 : 4687.0\n",
      "Tâche 3 - Train 54003_11 : 4368.0\n",
      "Tâche 3 - Train 54051_11 : 4516.0\n",
      "Tâche 3 - Train 54086_11 : 3827.0\n",
      "Tâche 3 - Train 54231_11 : 4800.0\n",
      "Tâche 3 - Train 71256_11 : 3784.0\n",
      "Tâche 3 - Train 400010_12 : 6693.0\n",
      "Tâche 3 - Train 400016_12 : 6738.0\n",
      "Tâche 3 - Train 412024_12 : 4727.0\n",
      "Tâche 3 - Train 41258_12 : 4564.0\n",
      "Tâche 3 - Train 431035_12 : 5835.0\n",
      "Tâche 3 - Train 44241_12 : 5881.0\n",
      "Tâche 3 - Train 44249_12 : 5254.0\n",
      "Tâche 3 - Train 44952_12 : 6152.0\n",
      "Tâche 3 - Train 47205_12 : 4815.0\n",
      "Tâche 3 - Train 48219_12 : 5269.0\n",
      "Tâche 3 - Train 489447_12 : 5989.0\n",
      "Tâche 3 - Train 52672_12 : 6465.0\n",
      "Tâche 3 - Train 54003_12 : 5850.0\n",
      "Tâche 3 - Train 54053_12 : 6073.0\n",
      "Tâche 3 - Train 54086_12 : 5284.0\n",
      "Tâche 3 - Train 54231_12 : 6303.0\n",
      "Tâche 3 - Train 71217_12 : 6723.0\n",
      "Tâche 3 - Train 41258_13 : 6708.0\n",
      "Tâche 3 - Train 431091_13 : 6127.0\n",
      "Tâche 3 - Train 44241_13 : 7335.0\n",
      "Tâche 3 - Train 44806_13 : 7305.0\n",
      "Tâche 3 - Train 450224_13 : 7622.0\n",
      "Tâche 3 - Train 47237_13 : 7365.0\n",
      "Tâche 3 - Train 47281_13 : 7380.0\n",
      "Tâche 3 - Train 489044_13 : 7130.0\n",
      "Tâche 3 - Train 489119_13 : 7320.0\n",
      "Tâche 3 - Train 489447_13 : 7290.0\n",
      "Tâche 3 - Train 54051_13 : 6550.0\n",
      "Tâche 3 - Train 54086_13 : 5957.0\n",
      "Tâche 3 - Train 431037_14 : 8806.0\n",
      "Tâche 3 - Train 44247_14 : 8869.0\n",
      "Tâche 3 - Train 44559_14 : 7905.0\n",
      "Tâche 3 - Train 47820_14 : 8884.0\n",
      "Tâche 3 - Train 489447_14 : 7350.0\n",
      "Tâche 3 - Train 54003_14 : 8730.0\n",
      "Tâche 3 - Train 54053_14 : 8761.0\n",
      "Tâche 3 - Train 54055_14 : 7546.0\n",
      "Tâche 3 - Train 54086_14 : 7637.0\n",
      "Tâche 3 - Train 400014_15 : 9080.0\n",
      "Tâche 3 - Train 431035_15 : 6565.0\n",
      "Tâche 3 - Train 431121_15 : 7592.0\n",
      "Tâche 3 - Train 450226_15 : 8776.0\n",
      "Tâche 3 - Train 489447_15 : 7607.0\n",
      "Tâche 3 - Train 54003_15 : 9065.0\n",
      "Tâche 3 - Train 54051_15 : 7743.0\n",
      "Tâche 3 - Train 54086_15 : 9050.0\n",
      "Tâche 3 - Train 54231_15 : 8791.0\n",
      "Tâche 3 - Train 41258_16 : 8821.0\n",
      "Tâche 3 - Train 431091_16 : 6753.0\n",
      "Tâche 3 - Train 489044_16 : 8625.0\n",
      "Tâche 3 - Train 54051_16 : 5865.0\n",
      "Tâche 3 - Train 412124_17 : 8836.0\n",
      "Tâche 3 - Train 431113_17 : 3870.0\n",
      "Tâche 4 - Train 400006_09 : 2366.0\n",
      "Tâche 4 - Train 400016_09 : 2786.0\n",
      "Tâche 4 - Train 400110_09 : 2677.0\n",
      "Tâche 4 - Train 431035_09 : 2322.0\n",
      "Tâche 4 - Train 431091_09 : 1799.0\n",
      "Tâche 4 - Train 44203_09 : 2495.0\n",
      "Tâche 4 - Train 44241_09 : 2222.0\n",
      "Tâche 4 - Train 44249_09 : 1607.0\n",
      "Tâche 4 - Train 44806_09 : 1913.0\n",
      "Tâche 4 - Train 47245_09 : 2280.0\n",
      "Tâche 4 - Train 47289_09 : 2080.0\n",
      "Tâche 4 - Train 47821_09 : 2765.0\n",
      "Tâche 4 - Train 489447_09 : 1791.0\n",
      "Tâche 4 - Train 52672_09 : 2392.0\n",
      "Tâche 4 - Train 54003_09 : 1659.0\n",
      "Tâche 4 - Train 54051_09 : 1754.0\n",
      "Tâche 4 - Train 54086_09 : 1650.0\n",
      "Tâche 4 - Train 54231_09 : 2269.0\n",
      "Tâche 4 - Train 450226_10 : 3300.0\n",
      "Tâche 4 - Train 400014_10 : 4047.0\n",
      "Tâche 4 - Train 412124_10 : 3053.0\n",
      "Tâche 4 - Train 41258_10 : 3023.0\n",
      "Tâche 4 - Train 431035_10 : 3763.0\n",
      "Tâche 4 - Train 431091_10 : 3239.0\n",
      "Tâche 4 - Train 44203_10 : 3935.0\n",
      "Tâche 4 - Train 44241_10 : 3662.0\n",
      "Tâche 4 - Train 44249_10 : 3047.0\n",
      "Tâche 4 - Train 47205_10 : 3708.0\n",
      "Tâche 4 - Train 48215_10 : 3827.0\n",
      "Tâche 4 - Train 489044_10 : 2990.0\n",
      "Tâche 4 - Train 52672_10 : 3832.0\n",
      "Tâche 4 - Train 54003_10 : 3099.0\n",
      "Tâche 4 - Train 54053_10 : 3798.0\n",
      "Tâche 4 - Train 54231_10 : 3709.0\n",
      "Tâche 4 - Train 71210_10 : 3160.0\n",
      "Tâche 4 - Train 400006_11 : 5246.0\n",
      "Tâche 4 - Train 400010_11 : 5726.0\n",
      "Tâche 4 - Train 400016_11 : 5666.0\n",
      "Tâche 4 - Train 431035_11 : 5202.0\n",
      "Tâche 4 - Train 44203_11 : 5375.0\n",
      "Tâche 4 - Train 44241_11 : 5102.0\n",
      "Tâche 4 - Train 44806_11 : 4618.0\n",
      "Tâche 4 - Train 450226_11 : 4740.0\n",
      "Tâche 4 - Train 47245_11 : 5183.0\n",
      "Tâche 4 - Train 47247_11 : 4960.0\n",
      "Tâche 4 - Train 47820_11 : 5645.0\n",
      "Tâche 4 - Train 489118_11 : 5210.0\n",
      "Tâche 4 - Train 52672_11 : 5272.0\n",
      "Tâche 4 - Train 54003_11 : 4539.0\n",
      "Tâche 4 - Train 54051_11 : 4634.0\n",
      "Tâche 4 - Train 54086_11 : 4530.0\n",
      "Tâche 4 - Train 54231_11 : 5149.0\n",
      "Tâche 4 - Train 71256_11 : 4446.0\n",
      "Tâche 4 - Train 400010_12 : 7166.0\n",
      "Tâche 4 - Train 400016_12 : 7106.0\n",
      "Tâche 4 - Train 412024_12 : 6006.0\n",
      "Tâche 4 - Train 41258_12 : 5903.0\n",
      "Tâche 4 - Train 431035_12 : 6643.0\n",
      "Tâche 4 - Train 44241_12 : 6542.0\n",
      "Tâche 4 - Train 44249_12 : 5927.0\n",
      "Tâche 4 - Train 44952_12 : 6997.0\n",
      "Tâche 4 - Train 47205_12 : 6899.0\n",
      "Tâche 4 - Train 48219_12 : 5894.0\n",
      "Tâche 4 - Train 489447_12 : 6111.0\n",
      "Tâche 4 - Train 52672_12 : 6712.0\n",
      "Tâche 4 - Train 54003_12 : 5979.0\n",
      "Tâche 4 - Train 54053_12 : 6678.0\n",
      "Tâche 4 - Train 54086_12 : 5970.0\n",
      "Tâche 4 - Train 54231_12 : 6589.0\n",
      "Tâche 4 - Train 71217_12 : 7150.0\n",
      "Tâche 4 - Train 41258_13 : 7343.0\n",
      "Tâche 4 - Train 431091_13 : 7559.0\n",
      "Tâche 4 - Train 44241_13 : 7982.0\n",
      "Tâche 4 - Train 44806_13 : 7450.0\n",
      "Tâche 4 - Train 450224_13 : 7759.0\n",
      "Tâche 4 - Train 47237_13 : 7840.0\n",
      "Tâche 4 - Train 47281_13 : 8289.0\n",
      "Tâche 4 - Train 489044_13 : 7310.0\n",
      "Tâche 4 - Train 489119_13 : 8083.0\n",
      "Tâche 4 - Train 489447_13 : 7551.0\n",
      "Tâche 4 - Train 54051_13 : 7516.0\n",
      "Tâche 4 - Train 54086_13 : 7410.0\n",
      "Tâche 4 - Train 431037_14 : 9680.0\n",
      "Tâche 4 - Train 44247_14 : 9495.0\n",
      "Tâche 4 - Train 44559_14 : 9348.0\n",
      "Tâche 4 - Train 47820_14 : 9522.0\n",
      "Tâche 4 - Train 489447_14 : 8991.0\n",
      "Tâche 4 - Train 54003_14 : 8859.0\n",
      "Tâche 4 - Train 54053_14 : 9558.0\n",
      "Tâche 4 - Train 54055_14 : 8710.0\n",
      "Tâche 4 - Train 54086_14 : 8850.0\n",
      "Tâche 4 - Train 400014_15 : 11247.0\n",
      "Tâche 4 - Train 431035_15 : 10962.0\n",
      "Tâche 4 - Train 431121_15 : 10401.0\n",
      "Tâche 4 - Train 450226_15 : 10500.0\n",
      "Tâche 4 - Train 489447_15 : 10431.0\n",
      "Tâche 4 - Train 54003_15 : 10299.0\n",
      "Tâche 4 - Train 54051_15 : 10394.0\n",
      "Tâche 4 - Train 54086_15 : 10290.0\n",
      "Tâche 4 - Train 54231_15 : 10909.0\n",
      "Tâche 4 - Train 41258_16 : 11663.0\n",
      "Tâche 4 - Train 431091_16 : 11879.0\n",
      "Tâche 4 - Train 489044_16 : 11630.0\n",
      "Tâche 4 - Train 54051_16 : 11834.0\n",
      "Tâche 4 - Train 412124_17 : 13133.0\n",
      "Tâche 4 - Train 431113_17 : 13600.0\n"
     ]
    }
   ],
   "source": [
    "model.optimize()\n",
    "\n",
    "if model.status == GRB.INFEASIBLE:\n",
    "    print(\"Le modèle n'a pas de solution\")\n",
    "elif model.status == GRB.UNBOUNDED:\n",
    "    print(\"Le modèle est non borné\")\n",
    "else:\n",
    "    print(\"Ca marche Bébou\")\n",
    "    for (m, n), var in t_arr.items():\n",
    "        print(f\"Tâche {m} - Train {n} : {var.x}\")\n",
    "    for (m, n), var in t_dep.items():\n",
    "        print(f\"Tâche {m} - Train {n} : {var.x}\")"
   ]
  },
  {
   "cell_type": "code",
   "execution_count": 9,
   "metadata": {},
   "outputs": [
    {
     "data": {
      "application/vnd.plotly.v1+json": {
       "config": {
        "plotlyServerURL": "https://plot.ly"
       },
       "data": [
        {
         "base": [
          "2022-08-08T20:48:00.000000000",
          "2022-08-08T21:03:00.000000000",
          "2022-08-08T21:48:00.000000000"
         ],
         "hovertemplate": "Train=412202_08<br>Start=%{base}<br>Finish=%{x}<br>Tâches=%{y}<extra></extra>",
         "legendgroup": "412202_08",
         "marker": {
          "color": "#636efa",
          "pattern": {
           "shape": ""
          }
         },
         "name": "412202_08",
         "orientation": "h",
         "showlegend": true,
         "textposition": "auto",
         "type": "bar",
         "x": {
          "bdata": "oLsNAOAyKQCguw0A",
          "dtype": "i4"
         },
         "xaxis": "x",
         "y": [
          "arr_1",
          "arr_2",
          "arr_3"
         ],
         "yaxis": "y"
        },
        {
         "base": [
          "2022-08-08T13:21:00.000000000",
          "2022-08-08T13:36:00.000000000",
          "2022-08-08T14:21:00.000000000"
         ],
         "hovertemplate": "Train=431018_08<br>Start=%{base}<br>Finish=%{x}<br>Tâches=%{y}<extra></extra>",
         "legendgroup": "431018_08",
         "marker": {
          "color": "#EF553B",
          "pattern": {
           "shape": ""
          }
         },
         "name": "431018_08",
         "orientation": "h",
         "showlegend": true,
         "textposition": "auto",
         "type": "bar",
         "x": {
          "bdata": "oLsNAOAyKQCguw0A",
          "dtype": "i4"
         },
         "xaxis": "x",
         "y": [
          "arr_1",
          "arr_2",
          "arr_3"
         ],
         "yaxis": "y"
        },
        {
         "base": [
          "2022-08-08T11:04:00.000000000",
          "2022-08-08T11:19:00.000000000",
          "2022-08-08T13:15:00.000000000"
         ],
         "hovertemplate": "Train=431246_08<br>Start=%{base}<br>Finish=%{x}<br>Tâches=%{y}<extra></extra>",
         "legendgroup": "431246_08",
         "marker": {
          "color": "#00cc96",
          "pattern": {
           "shape": ""
          }
         },
         "name": "431246_08",
         "orientation": "h",
         "showlegend": true,
         "textposition": "auto",
         "type": "bar",
         "x": {
          "bdata": "oLsNAOAyKQCguw0A",
          "dtype": "i4"
         },
         "xaxis": "x",
         "y": [
          "arr_1",
          "arr_2",
          "arr_3"
         ],
         "yaxis": "y"
        },
        {
         "base": [
          "2022-08-08T18:50:00.000000000",
          "2022-08-08T19:05:00.000000000",
          "2022-08-08T19:50:00.000000000"
         ],
         "hovertemplate": "Train=44951_08<br>Start=%{base}<br>Finish=%{x}<br>Tâches=%{y}<extra></extra>",
         "legendgroup": "44951_08",
         "marker": {
          "color": "#ab63fa",
          "pattern": {
           "shape": ""
          }
         },
         "name": "44951_08",
         "orientation": "h",
         "showlegend": true,
         "textposition": "auto",
         "type": "bar",
         "x": {
          "bdata": "oLsNAOAyKQCguw0A",
          "dtype": "i4"
         },
         "xaxis": "x",
         "y": [
          "arr_1",
          "arr_2",
          "arr_3"
         ],
         "yaxis": "y"
        },
        {
         "base": [
          "2022-08-08T11:47:00.000000000",
          "2022-08-08T12:02:00.000000000",
          "2022-08-08T13:00:00.000000000"
         ],
         "hovertemplate": "Train=450237_08<br>Start=%{base}<br>Finish=%{x}<br>Tâches=%{y}<extra></extra>",
         "legendgroup": "450237_08",
         "marker": {
          "color": "#FFA15A",
          "pattern": {
           "shape": ""
          }
         },
         "name": "450237_08",
         "orientation": "h",
         "showlegend": true,
         "textposition": "auto",
         "type": "bar",
         "x": {
          "bdata": "oLsNAOAyKQCguw0A",
          "dtype": "i4"
         },
         "xaxis": "x",
         "y": [
          "arr_1",
          "arr_2",
          "arr_3"
         ],
         "yaxis": "y"
        },
        {
         "base": [
          "2022-08-08T23:35:00.000000000",
          "2022-08-08T23:50:00.000000000",
          "2022-08-09T00:35:00.000000000"
         ],
         "hovertemplate": "Train=489016_08<br>Start=%{base}<br>Finish=%{x}<br>Tâches=%{y}<extra></extra>",
         "legendgroup": "489016_08",
         "marker": {
          "color": "#19d3f3",
          "pattern": {
           "shape": ""
          }
         },
         "name": "489016_08",
         "orientation": "h",
         "showlegend": true,
         "textposition": "auto",
         "type": "bar",
         "x": {
          "bdata": "oLsNAOAyKQCguw0A",
          "dtype": "i4"
         },
         "xaxis": "x",
         "y": [
          "arr_1",
          "arr_2",
          "arr_3"
         ],
         "yaxis": "y"
        },
        {
         "base": [
          "2022-08-08T22:01:00.000000000",
          "2022-08-08T22:16:00.000000000",
          "2022-08-08T23:01:00.000000000"
         ],
         "hovertemplate": "Train=54234_08<br>Start=%{base}<br>Finish=%{x}<br>Tâches=%{y}<extra></extra>",
         "legendgroup": "54234_08",
         "marker": {
          "color": "#FF6692",
          "pattern": {
           "shape": ""
          }
         },
         "name": "54234_08",
         "orientation": "h",
         "showlegend": true,
         "textposition": "auto",
         "type": "bar",
         "x": {
          "bdata": "oLsNAOAyKQCguw0A",
          "dtype": "i4"
         },
         "xaxis": "x",
         "y": [
          "arr_1",
          "arr_2",
          "arr_3"
         ],
         "yaxis": "y"
        },
        {
         "base": [
          "2022-08-08T23:49:00.000000000",
          "2022-08-09T00:04:00.000000000",
          "2022-08-09T00:50:00.000000000"
         ],
         "hovertemplate": "Train=55390_08<br>Start=%{base}<br>Finish=%{x}<br>Tâches=%{y}<extra></extra>",
         "legendgroup": "55390_08",
         "marker": {
          "color": "#B6E880",
          "pattern": {
           "shape": ""
          }
         },
         "name": "55390_08",
         "orientation": "h",
         "showlegend": true,
         "textposition": "auto",
         "type": "bar",
         "x": {
          "bdata": "oLsNAOAyKQCguw0A",
          "dtype": "i4"
         },
         "xaxis": "x",
         "y": [
          "arr_1",
          "arr_2",
          "arr_3"
         ],
         "yaxis": "y"
        },
        {
         "base": [
          "2022-08-08T21:28:00.000000000",
          "2022-08-08T21:43:00.000000000",
          "2022-08-08T22:28:00.000000000"
         ],
         "hovertemplate": "Train=56135_08<br>Start=%{base}<br>Finish=%{x}<br>Tâches=%{y}<extra></extra>",
         "legendgroup": "56135_08",
         "marker": {
          "color": "#FF97FF",
          "pattern": {
           "shape": ""
          }
         },
         "name": "56135_08",
         "orientation": "h",
         "showlegend": true,
         "textposition": "auto",
         "type": "bar",
         "x": {
          "bdata": "oLsNAOAyKQCguw0A",
          "dtype": "i4"
         },
         "xaxis": "x",
         "y": [
          "arr_1",
          "arr_2",
          "arr_3"
         ],
         "yaxis": "y"
        },
        {
         "base": [
          "2022-08-09T02:07:00.000000000",
          "2022-08-09T02:22:00.000000000",
          "2022-08-09T03:07:00.000000000"
         ],
         "hovertemplate": "Train=412023_09<br>Start=%{base}<br>Finish=%{x}<br>Tâches=%{y}<extra></extra>",
         "legendgroup": "412023_09",
         "marker": {
          "color": "#FECB52",
          "pattern": {
           "shape": ""
          }
         },
         "name": "412023_09",
         "orientation": "h",
         "showlegend": true,
         "textposition": "auto",
         "type": "bar",
         "x": {
          "bdata": "oLsNAOAyKQCguw0A",
          "dtype": "i4"
         },
         "xaxis": "x",
         "y": [
          "arr_1",
          "arr_2",
          "arr_3"
         ],
         "yaxis": "y"
        },
        {
         "base": [
          "2022-08-09T22:33:00.000000000",
          "2022-08-09T22:48:00.000000000",
          "2022-08-09T23:33:00.000000000"
         ],
         "hovertemplate": "Train=41264_09<br>Start=%{base}<br>Finish=%{x}<br>Tâches=%{y}<extra></extra>",
         "legendgroup": "41264_09",
         "marker": {
          "color": "#636efa",
          "pattern": {
           "shape": ""
          }
         },
         "name": "41264_09",
         "orientation": "h",
         "showlegend": true,
         "textposition": "auto",
         "type": "bar",
         "x": {
          "bdata": "oLsNAOAyKQCguw0A",
          "dtype": "i4"
         },
         "xaxis": "x",
         "y": [
          "arr_1",
          "arr_2",
          "arr_3"
         ],
         "yaxis": "y"
        },
        {
         "base": [
          "2022-08-09T03:00:00.000000000",
          "2022-08-09T03:15:00.000000000",
          "2022-08-09T04:00:00.000000000"
         ],
         "hovertemplate": "Train=431802_09<br>Start=%{base}<br>Finish=%{x}<br>Tâches=%{y}<extra></extra>",
         "legendgroup": "431802_09",
         "marker": {
          "color": "#EF553B",
          "pattern": {
           "shape": ""
          }
         },
         "name": "431802_09",
         "orientation": "h",
         "showlegend": true,
         "textposition": "auto",
         "type": "bar",
         "x": {
          "bdata": "oLsNAOAyKQCguw0A",
          "dtype": "i4"
         },
         "xaxis": "x",
         "y": [
          "arr_1",
          "arr_2",
          "arr_3"
         ],
         "yaxis": "y"
        },
        {
         "base": [
          "2022-08-09T18:13:00.000000000",
          "2022-08-09T18:28:00.000000000",
          "2022-08-09T19:13:00.000000000"
         ],
         "hovertemplate": "Train=44222_09<br>Start=%{base}<br>Finish=%{x}<br>Tâches=%{y}<extra></extra>",
         "legendgroup": "44222_09",
         "marker": {
          "color": "#00cc96",
          "pattern": {
           "shape": ""
          }
         },
         "name": "44222_09",
         "orientation": "h",
         "showlegend": true,
         "textposition": "auto",
         "type": "bar",
         "x": {
          "bdata": "oLsNAOAyKQCguw0A",
          "dtype": "i4"
         },
         "xaxis": "x",
         "y": [
          "arr_1",
          "arr_2",
          "arr_3"
         ],
         "yaxis": "y"
        },
        {
         "base": [
          "2022-08-09T10:18:00.000000000",
          "2022-08-09T10:33:00.000000000",
          "2022-08-09T11:18:00.000000000"
         ],
         "hovertemplate": "Train=44250_09<br>Start=%{base}<br>Finish=%{x}<br>Tâches=%{y}<extra></extra>",
         "legendgroup": "44250_09",
         "marker": {
          "color": "#ab63fa",
          "pattern": {
           "shape": ""
          }
         },
         "name": "44250_09",
         "orientation": "h",
         "showlegend": true,
         "textposition": "auto",
         "type": "bar",
         "x": {
          "bdata": "oLsNAOAyKQCguw0A",
          "dtype": "i4"
         },
         "xaxis": "x",
         "y": [
          "arr_1",
          "arr_2",
          "arr_3"
         ],
         "yaxis": "y"
        },
        {
         "base": [
          "2022-08-09T16:16:00.000000000",
          "2022-08-09T16:31:00.000000000",
          "2022-08-09T17:16:00.000000000"
         ],
         "hovertemplate": "Train=44865_09<br>Start=%{base}<br>Finish=%{x}<br>Tâches=%{y}<extra></extra>",
         "legendgroup": "44865_09",
         "marker": {
          "color": "#FFA15A",
          "pattern": {
           "shape": ""
          }
         },
         "name": "44865_09",
         "orientation": "h",
         "showlegend": true,
         "textposition": "auto",
         "type": "bar",
         "x": {
          "bdata": "oLsNAOAyKQCguw0A",
          "dtype": "i4"
         },
         "xaxis": "x",
         "y": [
          "arr_1",
          "arr_2",
          "arr_3"
         ],
         "yaxis": "y"
        },
        {
         "base": [
          "2022-08-09T11:47:00.000000000",
          "2022-08-09T12:02:00.000000000",
          "2022-08-09T12:47:00.000000000"
         ],
         "hovertemplate": "Train=450237_09<br>Start=%{base}<br>Finish=%{x}<br>Tâches=%{y}<extra></extra>",
         "legendgroup": "450237_09",
         "marker": {
          "color": "#19d3f3",
          "pattern": {
           "shape": ""
          }
         },
         "name": "450237_09",
         "orientation": "h",
         "showlegend": true,
         "textposition": "auto",
         "type": "bar",
         "x": {
          "bdata": "oLsNAOAyKQCguw0A",
          "dtype": "i4"
         },
         "xaxis": "x",
         "y": [
          "arr_1",
          "arr_2",
          "arr_3"
         ],
         "yaxis": "y"
        },
        {
         "base": [
          "2022-08-09T12:43:00.000000000",
          "2022-08-09T12:58:00.000000000",
          "2022-08-09T13:43:00.000000000"
         ],
         "hovertemplate": "Train=471003_09<br>Start=%{base}<br>Finish=%{x}<br>Tâches=%{y}<extra></extra>",
         "legendgroup": "471003_09",
         "marker": {
          "color": "#FF6692",
          "pattern": {
           "shape": ""
          }
         },
         "name": "471003_09",
         "orientation": "h",
         "showlegend": true,
         "textposition": "auto",
         "type": "bar",
         "x": {
          "bdata": "oLsNAOAyKQCguw0A",
          "dtype": "i4"
         },
         "xaxis": "x",
         "y": [
          "arr_1",
          "arr_2",
          "arr_3"
         ],
         "yaxis": "y"
        },
        {
         "base": [
          "2022-08-09T09:02:00.000000000",
          "2022-08-09T09:17:00.000000000",
          "2022-08-09T10:02:00.000000000"
         ],
         "hovertemplate": "Train=47262_09<br>Start=%{base}<br>Finish=%{x}<br>Tâches=%{y}<extra></extra>",
         "legendgroup": "47262_09",
         "marker": {
          "color": "#B6E880",
          "pattern": {
           "shape": ""
          }
         },
         "name": "47262_09",
         "orientation": "h",
         "showlegend": true,
         "textposition": "auto",
         "type": "bar",
         "x": {
          "bdata": "oLsNAOAyKQCguw0A",
          "dtype": "i4"
         },
         "xaxis": "x",
         "y": [
          "arr_1",
          "arr_2",
          "arr_3"
         ],
         "yaxis": "y"
        },
        {
         "base": [
          "2022-08-09T09:31:00.000000000",
          "2022-08-09T09:46:00.000000000",
          "2022-08-09T10:31:00.000000000"
         ],
         "hovertemplate": "Train=489026_09<br>Start=%{base}<br>Finish=%{x}<br>Tâches=%{y}<extra></extra>",
         "legendgroup": "489026_09",
         "marker": {
          "color": "#FF97FF",
          "pattern": {
           "shape": ""
          }
         },
         "name": "489026_09",
         "orientation": "h",
         "showlegend": true,
         "textposition": "auto",
         "type": "bar",
         "x": {
          "bdata": "oLsNAOAyKQCguw0A",
          "dtype": "i4"
         },
         "xaxis": "x",
         "y": [
          "arr_1",
          "arr_2",
          "arr_3"
         ],
         "yaxis": "y"
        },
        {
         "base": [
          "2022-08-09T22:01:00.000000000",
          "2022-08-09T22:16:00.000000000",
          "2022-08-09T23:01:00.000000000"
         ],
         "hovertemplate": "Train=54234_09<br>Start=%{base}<br>Finish=%{x}<br>Tâches=%{y}<extra></extra>",
         "legendgroup": "54234_09",
         "marker": {
          "color": "#FECB52",
          "pattern": {
           "shape": ""
          }
         },
         "name": "54234_09",
         "orientation": "h",
         "showlegend": true,
         "textposition": "auto",
         "type": "bar",
         "x": {
          "bdata": "oLsNAOAyKQCguw0A",
          "dtype": "i4"
         },
         "xaxis": "x",
         "y": [
          "arr_1",
          "arr_2",
          "arr_3"
         ],
         "yaxis": "y"
        },
        {
         "base": [
          "2022-08-09T23:49:00.000000000",
          "2022-08-10T00:04:00.000000000",
          "2022-08-10T00:49:00.000000000"
         ],
         "hovertemplate": "Train=55390_09<br>Start=%{base}<br>Finish=%{x}<br>Tâches=%{y}<extra></extra>",
         "legendgroup": "55390_09",
         "marker": {
          "color": "#636efa",
          "pattern": {
           "shape": ""
          }
         },
         "name": "55390_09",
         "orientation": "h",
         "showlegend": true,
         "textposition": "auto",
         "type": "bar",
         "x": {
          "bdata": "oLsNAOAyKQCguw0A",
          "dtype": "i4"
         },
         "xaxis": "x",
         "y": [
          "arr_1",
          "arr_2",
          "arr_3"
         ],
         "yaxis": "y"
        },
        {
         "base": [
          "2022-08-09T04:00:00.000000000",
          "2022-08-09T04:15:00.000000000",
          "2022-08-09T05:00:00.000000000"
         ],
         "hovertemplate": "Train=55398_09<br>Start=%{base}<br>Finish=%{x}<br>Tâches=%{y}<extra></extra>",
         "legendgroup": "55398_09",
         "marker": {
          "color": "#EF553B",
          "pattern": {
           "shape": ""
          }
         },
         "name": "55398_09",
         "orientation": "h",
         "showlegend": true,
         "textposition": "auto",
         "type": "bar",
         "x": {
          "bdata": "oLsNAOAyKQCguw0A",
          "dtype": "i4"
         },
         "xaxis": "x",
         "y": [
          "arr_1",
          "arr_2",
          "arr_3"
         ],
         "yaxis": "y"
        },
        {
         "base": [
          "2022-08-09T21:28:00.000000000",
          "2022-08-09T21:43:00.000000000",
          "2022-08-09T22:28:00.000000000"
         ],
         "hovertemplate": "Train=56135_09<br>Start=%{base}<br>Finish=%{x}<br>Tâches=%{y}<extra></extra>",
         "legendgroup": "56135_09",
         "marker": {
          "color": "#00cc96",
          "pattern": {
           "shape": ""
          }
         },
         "name": "56135_09",
         "orientation": "h",
         "showlegend": true,
         "textposition": "auto",
         "type": "bar",
         "x": {
          "bdata": "oLsNAOAyKQCguw0A",
          "dtype": "i4"
         },
         "xaxis": "x",
         "y": [
          "arr_1",
          "arr_2",
          "arr_3"
         ],
         "yaxis": "y"
        },
        {
         "base": [
          "2022-08-09T02:32:00.000000000",
          "2022-08-09T02:47:00.000000000",
          "2022-08-09T03:32:00.000000000"
         ],
         "hovertemplate": "Train=56730_09<br>Start=%{base}<br>Finish=%{x}<br>Tâches=%{y}<extra></extra>",
         "legendgroup": "56730_09",
         "marker": {
          "color": "#ab63fa",
          "pattern": {
           "shape": ""
          }
         },
         "name": "56730_09",
         "orientation": "h",
         "showlegend": true,
         "textposition": "auto",
         "type": "bar",
         "x": {
          "bdata": "oLsNAOAyKQCguw0A",
          "dtype": "i4"
         },
         "xaxis": "x",
         "y": [
          "arr_1",
          "arr_2",
          "arr_3"
         ],
         "yaxis": "y"
        },
        {
         "base": [
          "2022-08-09T21:15:00.000000000",
          "2022-08-09T21:30:00.000000000",
          "2022-08-09T22:43:00.000000000"
         ],
         "hovertemplate": "Train=58706_09<br>Start=%{base}<br>Finish=%{x}<br>Tâches=%{y}<extra></extra>",
         "legendgroup": "58706_09",
         "marker": {
          "color": "#FFA15A",
          "pattern": {
           "shape": ""
          }
         },
         "name": "58706_09",
         "orientation": "h",
         "showlegend": true,
         "textposition": "auto",
         "type": "bar",
         "x": {
          "bdata": "oLsNAOAyKQCguw0A",
          "dtype": "i4"
         },
         "xaxis": "x",
         "y": [
          "arr_1",
          "arr_2",
          "arr_3"
         ],
         "yaxis": "y"
        },
        {
         "base": [
          "2022-08-10T02:07:00.000000000",
          "2022-08-10T02:22:00.000000000",
          "2022-08-10T03:07:00.000000000"
         ],
         "hovertemplate": "Train=412023_10<br>Start=%{base}<br>Finish=%{x}<br>Tâches=%{y}<extra></extra>",
         "legendgroup": "412023_10",
         "marker": {
          "color": "#19d3f3",
          "pattern": {
           "shape": ""
          }
         },
         "name": "412023_10",
         "orientation": "h",
         "showlegend": true,
         "textposition": "auto",
         "type": "bar",
         "x": {
          "bdata": "oLsNAOAyKQCguw0A",
          "dtype": "i4"
         },
         "xaxis": "x",
         "y": [
          "arr_1",
          "arr_2",
          "arr_3"
         ],
         "yaxis": "y"
        },
        {
         "base": [
          "2022-08-10T20:48:00.000000000",
          "2022-08-10T21:03:00.000000000",
          "2022-08-10T21:48:00.000000000"
         ],
         "hovertemplate": "Train=412202_10<br>Start=%{base}<br>Finish=%{x}<br>Tâches=%{y}<extra></extra>",
         "legendgroup": "412202_10",
         "marker": {
          "color": "#FF6692",
          "pattern": {
           "shape": ""
          }
         },
         "name": "412202_10",
         "orientation": "h",
         "showlegend": true,
         "textposition": "auto",
         "type": "bar",
         "x": {
          "bdata": "oLsNAOAyKQCguw0A",
          "dtype": "i4"
         },
         "xaxis": "x",
         "y": [
          "arr_1",
          "arr_2",
          "arr_3"
         ],
         "yaxis": "y"
        },
        {
         "base": [
          "2022-08-10T22:33:00.000000000",
          "2022-08-10T22:48:00.000000000",
          "2022-08-10T23:33:00.000000000"
         ],
         "hovertemplate": "Train=41264_10<br>Start=%{base}<br>Finish=%{x}<br>Tâches=%{y}<extra></extra>",
         "legendgroup": "41264_10",
         "marker": {
          "color": "#B6E880",
          "pattern": {
           "shape": ""
          }
         },
         "name": "41264_10",
         "orientation": "h",
         "showlegend": true,
         "textposition": "auto",
         "type": "bar",
         "x": {
          "bdata": "oLsNAOAyKQCguw0A",
          "dtype": "i4"
         },
         "xaxis": "x",
         "y": [
          "arr_1",
          "arr_2",
          "arr_3"
         ],
         "yaxis": "y"
        },
        {
         "base": [
          "2022-08-10T20:18:00.000000000",
          "2022-08-10T20:33:00.000000000",
          "2022-08-10T21:18:00.000000000"
         ],
         "hovertemplate": "Train=431020_10<br>Start=%{base}<br>Finish=%{x}<br>Tâches=%{y}<extra></extra>",
         "legendgroup": "431020_10",
         "marker": {
          "color": "#FF97FF",
          "pattern": {
           "shape": ""
          }
         },
         "name": "431020_10",
         "orientation": "h",
         "showlegend": true,
         "textposition": "auto",
         "type": "bar",
         "x": {
          "bdata": "oLsNAOAyKQCguw0A",
          "dtype": "i4"
         },
         "xaxis": "x",
         "y": [
          "arr_1",
          "arr_2",
          "arr_3"
         ],
         "yaxis": "y"
        },
        {
         "base": [
          "2022-08-10T12:30:00.000000000",
          "2022-08-10T12:45:00.000000000",
          "2022-08-10T13:30:00.000000000"
         ],
         "hovertemplate": "Train=431110_10<br>Start=%{base}<br>Finish=%{x}<br>Tâches=%{y}<extra></extra>",
         "legendgroup": "431110_10",
         "marker": {
          "color": "#FECB52",
          "pattern": {
           "shape": ""
          }
         },
         "name": "431110_10",
         "orientation": "h",
         "showlegend": true,
         "textposition": "auto",
         "type": "bar",
         "x": {
          "bdata": "oLsNAOAyKQCguw0A",
          "dtype": "i4"
         },
         "xaxis": "x",
         "y": [
          "arr_1",
          "arr_2",
          "arr_3"
         ],
         "yaxis": "y"
        },
        {
         "base": [
          "2022-08-10T11:04:00.000000000",
          "2022-08-10T11:19:00.000000000",
          "2022-08-10T12:04:00.000000000"
         ],
         "hovertemplate": "Train=431246_10<br>Start=%{base}<br>Finish=%{x}<br>Tâches=%{y}<extra></extra>",
         "legendgroup": "431246_10",
         "marker": {
          "color": "#636efa",
          "pattern": {
           "shape": ""
          }
         },
         "name": "431246_10",
         "orientation": "h",
         "showlegend": true,
         "textposition": "auto",
         "type": "bar",
         "x": {
          "bdata": "oLsNAOAyKQCguw0A",
          "dtype": "i4"
         },
         "xaxis": "x",
         "y": [
          "arr_1",
          "arr_2",
          "arr_3"
         ],
         "yaxis": "y"
        },
        {
         "base": [
          "2022-08-10T03:55:00.000000000",
          "2022-08-10T04:10:00.000000000",
          "2022-08-10T04:55:00.000000000"
         ],
         "hovertemplate": "Train=431802_10<br>Start=%{base}<br>Finish=%{x}<br>Tâches=%{y}<extra></extra>",
         "legendgroup": "431802_10",
         "marker": {
          "color": "#EF553B",
          "pattern": {
           "shape": ""
          }
         },
         "name": "431802_10",
         "orientation": "h",
         "showlegend": true,
         "textposition": "auto",
         "type": "bar",
         "x": {
          "bdata": "oLsNAOAyKQCguw0A",
          "dtype": "i4"
         },
         "xaxis": "x",
         "y": [
          "arr_1",
          "arr_2",
          "arr_3"
         ],
         "yaxis": "y"
        },
        {
         "base": [
          "2022-08-10T15:52:00.000000000",
          "2022-08-10T16:07:00.000000000",
          "2022-08-10T16:52:00.000000000"
         ],
         "hovertemplate": "Train=44222_10<br>Start=%{base}<br>Finish=%{x}<br>Tâches=%{y}<extra></extra>",
         "legendgroup": "44222_10",
         "marker": {
          "color": "#00cc96",
          "pattern": {
           "shape": ""
          }
         },
         "name": "44222_10",
         "orientation": "h",
         "showlegend": true,
         "textposition": "auto",
         "type": "bar",
         "x": {
          "bdata": "oLsNAOAyKQCguw0A",
          "dtype": "i4"
         },
         "xaxis": "x",
         "y": [
          "arr_1",
          "arr_2",
          "arr_3"
         ],
         "yaxis": "y"
        },
        {
         "base": [
          "2022-08-10T01:13:00.000000000",
          "2022-08-10T01:28:00.000000000",
          "2022-08-10T02:13:00.000000000"
         ],
         "hovertemplate": "Train=44228_10<br>Start=%{base}<br>Finish=%{x}<br>Tâches=%{y}<extra></extra>",
         "legendgroup": "44228_10",
         "marker": {
          "color": "#ab63fa",
          "pattern": {
           "shape": ""
          }
         },
         "name": "44228_10",
         "orientation": "h",
         "showlegend": true,
         "textposition": "auto",
         "type": "bar",
         "x": {
          "bdata": "oLsNAOAyKQCguw0A",
          "dtype": "i4"
         },
         "xaxis": "x",
         "y": [
          "arr_1",
          "arr_2",
          "arr_3"
         ],
         "yaxis": "y"
        },
        {
         "base": [
          "2022-08-10T10:18:00.000000000",
          "2022-08-10T10:33:00.000000000",
          "2022-08-10T11:18:00.000000000"
         ],
         "hovertemplate": "Train=44250_10<br>Start=%{base}<br>Finish=%{x}<br>Tâches=%{y}<extra></extra>",
         "legendgroup": "44250_10",
         "marker": {
          "color": "#FFA15A",
          "pattern": {
           "shape": ""
          }
         },
         "name": "44250_10",
         "orientation": "h",
         "showlegend": true,
         "textposition": "auto",
         "type": "bar",
         "x": {
          "bdata": "oLsNAOAyKQCguw0A",
          "dtype": "i4"
         },
         "xaxis": "x",
         "y": [
          "arr_1",
          "arr_2",
          "arr_3"
         ],
         "yaxis": "y"
        },
        {
         "base": [
          "2022-08-10T11:47:00.000000000",
          "2022-08-10T12:02:00.000000000",
          "2022-08-10T12:47:00.000000000"
         ],
         "hovertemplate": "Train=450237_10<br>Start=%{base}<br>Finish=%{x}<br>Tâches=%{y}<extra></extra>",
         "legendgroup": "450237_10",
         "marker": {
          "color": "#19d3f3",
          "pattern": {
           "shape": ""
          }
         },
         "name": "450237_10",
         "orientation": "h",
         "showlegend": true,
         "textposition": "auto",
         "type": "bar",
         "x": {
          "bdata": "oLsNAOAyKQCguw0A",
          "dtype": "i4"
         },
         "xaxis": "x",
         "y": [
          "arr_1",
          "arr_2",
          "arr_3"
         ],
         "yaxis": "y"
        },
        {
         "base": [
          "2022-08-10T12:43:00.000000000",
          "2022-08-10T12:58:00.000000000",
          "2022-08-10T13:45:00.000000000"
         ],
         "hovertemplate": "Train=471003_10<br>Start=%{base}<br>Finish=%{x}<br>Tâches=%{y}<extra></extra>",
         "legendgroup": "471003_10",
         "marker": {
          "color": "#FF6692",
          "pattern": {
           "shape": ""
          }
         },
         "name": "471003_10",
         "orientation": "h",
         "showlegend": true,
         "textposition": "auto",
         "type": "bar",
         "x": {
          "bdata": "oLsNAOAyKQCguw0A",
          "dtype": "i4"
         },
         "xaxis": "x",
         "y": [
          "arr_1",
          "arr_2",
          "arr_3"
         ],
         "yaxis": "y"
        },
        {
         "base": [
          "2022-08-10T12:43:00.000000000",
          "2022-08-10T12:58:00.000000000",
          "2022-08-10T14:00:00.000000000"
         ],
         "hovertemplate": "Train=47214_10<br>Start=%{base}<br>Finish=%{x}<br>Tâches=%{y}<extra></extra>",
         "legendgroup": "47214_10",
         "marker": {
          "color": "#B6E880",
          "pattern": {
           "shape": ""
          }
         },
         "name": "47214_10",
         "orientation": "h",
         "showlegend": true,
         "textposition": "auto",
         "type": "bar",
         "x": {
          "bdata": "oLsNAOAyKQCguw0A",
          "dtype": "i4"
         },
         "xaxis": "x",
         "y": [
          "arr_1",
          "arr_2",
          "arr_3"
         ],
         "yaxis": "y"
        },
        {
         "base": [
          "2022-08-10T09:02:00.000000000",
          "2022-08-10T09:17:00.000000000",
          "2022-08-10T10:02:00.000000000"
         ],
         "hovertemplate": "Train=47262_10<br>Start=%{base}<br>Finish=%{x}<br>Tâches=%{y}<extra></extra>",
         "legendgroup": "47262_10",
         "marker": {
          "color": "#FF97FF",
          "pattern": {
           "shape": ""
          }
         },
         "name": "47262_10",
         "orientation": "h",
         "showlegend": true,
         "textposition": "auto",
         "type": "bar",
         "x": {
          "bdata": "oLsNAOAyKQCguw0A",
          "dtype": "i4"
         },
         "xaxis": "x",
         "y": [
          "arr_1",
          "arr_2",
          "arr_3"
         ],
         "yaxis": "y"
        },
        {
         "base": [
          "2022-08-10T22:01:00.000000000",
          "2022-08-10T22:16:00.000000000",
          "2022-08-10T23:01:00.000000000"
         ],
         "hovertemplate": "Train=54234_10<br>Start=%{base}<br>Finish=%{x}<br>Tâches=%{y}<extra></extra>",
         "legendgroup": "54234_10",
         "marker": {
          "color": "#FECB52",
          "pattern": {
           "shape": ""
          }
         },
         "name": "54234_10",
         "orientation": "h",
         "showlegend": true,
         "textposition": "auto",
         "type": "bar",
         "x": {
          "bdata": "oLsNAOAyKQCguw0A",
          "dtype": "i4"
         },
         "xaxis": "x",
         "y": [
          "arr_1",
          "arr_2",
          "arr_3"
         ],
         "yaxis": "y"
        },
        {
         "base": [
          "2022-08-10T23:49:00.000000000",
          "2022-08-11T00:04:00.000000000",
          "2022-08-11T00:49:00.000000000"
         ],
         "hovertemplate": "Train=55390_10<br>Start=%{base}<br>Finish=%{x}<br>Tâches=%{y}<extra></extra>",
         "legendgroup": "55390_10",
         "marker": {
          "color": "#636efa",
          "pattern": {
           "shape": ""
          }
         },
         "name": "55390_10",
         "orientation": "h",
         "showlegend": true,
         "textposition": "auto",
         "type": "bar",
         "x": {
          "bdata": "oLsNAOAyKQCguw0A",
          "dtype": "i4"
         },
         "xaxis": "x",
         "y": [
          "arr_1",
          "arr_2",
          "arr_3"
         ],
         "yaxis": "y"
        },
        {
         "base": [
          "2022-08-10T07:45:00.000000000",
          "2022-08-10T08:00:00.000000000",
          "2022-08-10T08:45:00.000000000"
         ],
         "hovertemplate": "Train=55396_10<br>Start=%{base}<br>Finish=%{x}<br>Tâches=%{y}<extra></extra>",
         "legendgroup": "55396_10",
         "marker": {
          "color": "#EF553B",
          "pattern": {
           "shape": ""
          }
         },
         "name": "55396_10",
         "orientation": "h",
         "showlegend": true,
         "textposition": "auto",
         "type": "bar",
         "x": {
          "bdata": "oLsNAOAyKQCguw0A",
          "dtype": "i4"
         },
         "xaxis": "x",
         "y": [
          "arr_1",
          "arr_2",
          "arr_3"
         ],
         "yaxis": "y"
        },
        {
         "base": [
          "2022-08-10T21:28:00.000000000",
          "2022-08-10T21:43:00.000000000",
          "2022-08-10T22:30:00.000000000"
         ],
         "hovertemplate": "Train=56135_10<br>Start=%{base}<br>Finish=%{x}<br>Tâches=%{y}<extra></extra>",
         "legendgroup": "56135_10",
         "marker": {
          "color": "#00cc96",
          "pattern": {
           "shape": ""
          }
         },
         "name": "56135_10",
         "orientation": "h",
         "showlegend": true,
         "textposition": "auto",
         "type": "bar",
         "x": {
          "bdata": "oLsNAOAyKQCguw0A",
          "dtype": "i4"
         },
         "xaxis": "x",
         "y": [
          "arr_1",
          "arr_2",
          "arr_3"
         ],
         "yaxis": "y"
        },
        {
         "base": [
          "2022-08-10T02:32:00.000000000",
          "2022-08-10T02:47:00.000000000",
          "2022-08-10T03:32:00.000000000"
         ],
         "hovertemplate": "Train=56730_10<br>Start=%{base}<br>Finish=%{x}<br>Tâches=%{y}<extra></extra>",
         "legendgroup": "56730_10",
         "marker": {
          "color": "#ab63fa",
          "pattern": {
           "shape": ""
          }
         },
         "name": "56730_10",
         "orientation": "h",
         "showlegend": true,
         "textposition": "auto",
         "type": "bar",
         "x": {
          "bdata": "oLsNAOAyKQCguw0A",
          "dtype": "i4"
         },
         "xaxis": "x",
         "y": [
          "arr_1",
          "arr_2",
          "arr_3"
         ],
         "yaxis": "y"
        },
        {
         "base": [
          "2022-08-10T21:15:00.000000000",
          "2022-08-10T21:30:00.000000000",
          "2022-08-10T22:15:00.000000000"
         ],
         "hovertemplate": "Train=58706_10<br>Start=%{base}<br>Finish=%{x}<br>Tâches=%{y}<extra></extra>",
         "legendgroup": "58706_10",
         "marker": {
          "color": "#FFA15A",
          "pattern": {
           "shape": ""
          }
         },
         "name": "58706_10",
         "orientation": "h",
         "showlegend": true,
         "textposition": "auto",
         "type": "bar",
         "x": {
          "bdata": "oLsNAOAyKQCguw0A",
          "dtype": "i4"
         },
         "xaxis": "x",
         "y": [
          "arr_1",
          "arr_2",
          "arr_3"
         ],
         "yaxis": "y"
        },
        {
         "base": [
          "2022-08-10T09:25:00.000000000",
          "2022-08-10T09:40:00.000000000",
          "2022-08-10T10:25:00.000000000"
         ],
         "hovertemplate": "Train=71270_10<br>Start=%{base}<br>Finish=%{x}<br>Tâches=%{y}<extra></extra>",
         "legendgroup": "71270_10",
         "marker": {
          "color": "#19d3f3",
          "pattern": {
           "shape": ""
          }
         },
         "name": "71270_10",
         "orientation": "h",
         "showlegend": true,
         "textposition": "auto",
         "type": "bar",
         "x": {
          "bdata": "oLsNAOAyKQCguw0A",
          "dtype": "i4"
         },
         "xaxis": "x",
         "y": [
          "arr_1",
          "arr_2",
          "arr_3"
         ],
         "yaxis": "y"
        },
        {
         "base": [
          "2022-08-11T02:07:00.000000000",
          "2022-08-11T02:22:00.000000000",
          "2022-08-11T03:07:00.000000000"
         ],
         "hovertemplate": "Train=412023_11<br>Start=%{base}<br>Finish=%{x}<br>Tâches=%{y}<extra></extra>",
         "legendgroup": "412023_11",
         "marker": {
          "color": "#FF6692",
          "pattern": {
           "shape": ""
          }
         },
         "name": "412023_11",
         "orientation": "h",
         "showlegend": true,
         "textposition": "auto",
         "type": "bar",
         "x": {
          "bdata": "oLsNAOAyKQCguw0A",
          "dtype": "i4"
         },
         "xaxis": "x",
         "y": [
          "arr_1",
          "arr_2",
          "arr_3"
         ],
         "yaxis": "y"
        },
        {
         "base": [
          "2022-08-11T20:48:00.000000000",
          "2022-08-11T21:03:00.000000000",
          "2022-08-11T21:48:00.000000000"
         ],
         "hovertemplate": "Train=412202_11<br>Start=%{base}<br>Finish=%{x}<br>Tâches=%{y}<extra></extra>",
         "legendgroup": "412202_11",
         "marker": {
          "color": "#B6E880",
          "pattern": {
           "shape": ""
          }
         },
         "name": "412202_11",
         "orientation": "h",
         "showlegend": true,
         "textposition": "auto",
         "type": "bar",
         "x": {
          "bdata": "oLsNAOAyKQCguw0A",
          "dtype": "i4"
         },
         "xaxis": "x",
         "y": [
          "arr_1",
          "arr_2",
          "arr_3"
         ],
         "yaxis": "y"
        },
        {
         "base": [
          "2022-08-11T23:17:00.000000000",
          "2022-08-11T23:32:00.000000000",
          "2022-08-12T00:17:00.000000000"
         ],
         "hovertemplate": "Train=41254_11<br>Start=%{base}<br>Finish=%{x}<br>Tâches=%{y}<extra></extra>",
         "legendgroup": "41254_11",
         "marker": {
          "color": "#FF97FF",
          "pattern": {
           "shape": ""
          }
         },
         "name": "41254_11",
         "orientation": "h",
         "showlegend": true,
         "textposition": "auto",
         "type": "bar",
         "x": {
          "bdata": "oLsNAOAyKQCguw0A",
          "dtype": "i4"
         },
         "xaxis": "x",
         "y": [
          "arr_1",
          "arr_2",
          "arr_3"
         ],
         "yaxis": "y"
        },
        {
         "base": [
          "2022-08-11T11:04:00.000000000",
          "2022-08-11T11:19:00.000000000",
          "2022-08-11T12:04:00.000000000"
         ],
         "hovertemplate": "Train=431246_11<br>Start=%{base}<br>Finish=%{x}<br>Tâches=%{y}<extra></extra>",
         "legendgroup": "431246_11",
         "marker": {
          "color": "#FECB52",
          "pattern": {
           "shape": ""
          }
         },
         "name": "431246_11",
         "orientation": "h",
         "showlegend": true,
         "textposition": "auto",
         "type": "bar",
         "x": {
          "bdata": "oLsNAOAyKQCguw0A",
          "dtype": "i4"
         },
         "xaxis": "x",
         "y": [
          "arr_1",
          "arr_2",
          "arr_3"
         ],
         "yaxis": "y"
        },
        {
         "base": [
          "2022-08-11T11:09:00.000000000",
          "2022-08-11T11:24:00.000000000",
          "2022-08-11T12:19:00.000000000"
         ],
         "hovertemplate": "Train=431640_11<br>Start=%{base}<br>Finish=%{x}<br>Tâches=%{y}<extra></extra>",
         "legendgroup": "431640_11",
         "marker": {
          "color": "#636efa",
          "pattern": {
           "shape": ""
          }
         },
         "name": "431640_11",
         "orientation": "h",
         "showlegend": true,
         "textposition": "auto",
         "type": "bar",
         "x": {
          "bdata": "oLsNAOAyKQCguw0A",
          "dtype": "i4"
         },
         "xaxis": "x",
         "y": [
          "arr_1",
          "arr_2",
          "arr_3"
         ],
         "yaxis": "y"
        },
        {
         "base": [
          "2022-08-11T03:00:00.000000000",
          "2022-08-11T03:15:00.000000000",
          "2022-08-11T04:02:00.000000000"
         ],
         "hovertemplate": "Train=431802_11<br>Start=%{base}<br>Finish=%{x}<br>Tâches=%{y}<extra></extra>",
         "legendgroup": "431802_11",
         "marker": {
          "color": "#EF553B",
          "pattern": {
           "shape": ""
          }
         },
         "name": "431802_11",
         "orientation": "h",
         "showlegend": true,
         "textposition": "auto",
         "type": "bar",
         "x": {
          "bdata": "oLsNAOAyKQCguw0A",
          "dtype": "i4"
         },
         "xaxis": "x",
         "y": [
          "arr_1",
          "arr_2",
          "arr_3"
         ],
         "yaxis": "y"
        },
        {
         "base": [
          "2022-08-11T15:52:00.000000000",
          "2022-08-11T16:07:00.000000000",
          "2022-08-11T16:52:00.000000000"
         ],
         "hovertemplate": "Train=44222_11<br>Start=%{base}<br>Finish=%{x}<br>Tâches=%{y}<extra></extra>",
         "legendgroup": "44222_11",
         "marker": {
          "color": "#00cc96",
          "pattern": {
           "shape": ""
          }
         },
         "name": "44222_11",
         "orientation": "h",
         "showlegend": true,
         "textposition": "auto",
         "type": "bar",
         "x": {
          "bdata": "oLsNAOAyKQCguw0A",
          "dtype": "i4"
         },
         "xaxis": "x",
         "y": [
          "arr_1",
          "arr_2",
          "arr_3"
         ],
         "yaxis": "y"
        },
        {
         "base": [
          "2022-08-11T10:18:00.000000000",
          "2022-08-11T10:33:00.000000000",
          "2022-08-11T11:18:00.000000000"
         ],
         "hovertemplate": "Train=44250_11<br>Start=%{base}<br>Finish=%{x}<br>Tâches=%{y}<extra></extra>",
         "legendgroup": "44250_11",
         "marker": {
          "color": "#ab63fa",
          "pattern": {
           "shape": ""
          }
         },
         "name": "44250_11",
         "orientation": "h",
         "showlegend": true,
         "textposition": "auto",
         "type": "bar",
         "x": {
          "bdata": "oLsNAOAyKQCguw0A",
          "dtype": "i4"
         },
         "xaxis": "x",
         "y": [
          "arr_1",
          "arr_2",
          "arr_3"
         ],
         "yaxis": "y"
        },
        {
         "base": [
          "2022-08-11T16:19:00.000000000",
          "2022-08-11T16:34:00.000000000",
          "2022-08-11T17:19:00.000000000"
         ],
         "hovertemplate": "Train=44865_11<br>Start=%{base}<br>Finish=%{x}<br>Tâches=%{y}<extra></extra>",
         "legendgroup": "44865_11",
         "marker": {
          "color": "#FFA15A",
          "pattern": {
           "shape": ""
          }
         },
         "name": "44865_11",
         "orientation": "h",
         "showlegend": true,
         "textposition": "auto",
         "type": "bar",
         "x": {
          "bdata": "oLsNAOAyKQCguw0A",
          "dtype": "i4"
         },
         "xaxis": "x",
         "y": [
          "arr_1",
          "arr_2",
          "arr_3"
         ],
         "yaxis": "y"
        },
        {
         "base": [
          "2022-08-11T11:47:00.000000000",
          "2022-08-11T12:02:00.000000000",
          "2022-08-11T12:49:00.000000000"
         ],
         "hovertemplate": "Train=450237_11<br>Start=%{base}<br>Finish=%{x}<br>Tâches=%{y}<extra></extra>",
         "legendgroup": "450237_11",
         "marker": {
          "color": "#19d3f3",
          "pattern": {
           "shape": ""
          }
         },
         "name": "450237_11",
         "orientation": "h",
         "showlegend": true,
         "textposition": "auto",
         "type": "bar",
         "x": {
          "bdata": "oLsNAOAyKQCguw0A",
          "dtype": "i4"
         },
         "xaxis": "x",
         "y": [
          "arr_1",
          "arr_2",
          "arr_3"
         ],
         "yaxis": "y"
        },
        {
         "base": [
          "2022-08-11T12:43:00.000000000",
          "2022-08-11T12:58:00.000000000",
          "2022-08-11T13:43:00.000000000"
         ],
         "hovertemplate": "Train=471003_11<br>Start=%{base}<br>Finish=%{x}<br>Tâches=%{y}<extra></extra>",
         "legendgroup": "471003_11",
         "marker": {
          "color": "#FF6692",
          "pattern": {
           "shape": ""
          }
         },
         "name": "471003_11",
         "orientation": "h",
         "showlegend": true,
         "textposition": "auto",
         "type": "bar",
         "x": {
          "bdata": "oLsNAOAyKQCguw0A",
          "dtype": "i4"
         },
         "xaxis": "x",
         "y": [
          "arr_1",
          "arr_2",
          "arr_3"
         ],
         "yaxis": "y"
        },
        {
         "base": [
          "2022-08-11T17:43:00.000000000",
          "2022-08-11T17:58:00.000000000",
          "2022-08-11T18:43:00.000000000"
         ],
         "hovertemplate": "Train=47212_11<br>Start=%{base}<br>Finish=%{x}<br>Tâches=%{y}<extra></extra>",
         "legendgroup": "47212_11",
         "marker": {
          "color": "#B6E880",
          "pattern": {
           "shape": ""
          }
         },
         "name": "47212_11",
         "orientation": "h",
         "showlegend": true,
         "textposition": "auto",
         "type": "bar",
         "x": {
          "bdata": "oLsNAOAyKQCguw0A",
          "dtype": "i4"
         },
         "xaxis": "x",
         "y": [
          "arr_1",
          "arr_2",
          "arr_3"
         ],
         "yaxis": "y"
        },
        {
         "base": [
          "2022-08-11T02:47:00.000000000",
          "2022-08-11T03:02:00.000000000",
          "2022-08-11T03:47:00.000000000"
         ],
         "hovertemplate": "Train=47240_11<br>Start=%{base}<br>Finish=%{x}<br>Tâches=%{y}<extra></extra>",
         "legendgroup": "47240_11",
         "marker": {
          "color": "#FF97FF",
          "pattern": {
           "shape": ""
          }
         },
         "name": "47240_11",
         "orientation": "h",
         "showlegend": true,
         "textposition": "auto",
         "type": "bar",
         "x": {
          "bdata": "oLsNAOAyKQCguw0A",
          "dtype": "i4"
         },
         "xaxis": "x",
         "y": [
          "arr_1",
          "arr_2",
          "arr_3"
         ],
         "yaxis": "y"
        },
        {
         "base": [
          "2022-08-11T09:02:00.000000000",
          "2022-08-11T09:17:00.000000000",
          "2022-08-11T10:02:00.000000000"
         ],
         "hovertemplate": "Train=47262_11<br>Start=%{base}<br>Finish=%{x}<br>Tâches=%{y}<extra></extra>",
         "legendgroup": "47262_11",
         "marker": {
          "color": "#FECB52",
          "pattern": {
           "shape": ""
          }
         },
         "name": "47262_11",
         "orientation": "h",
         "showlegend": true,
         "textposition": "auto",
         "type": "bar",
         "x": {
          "bdata": "oLsNAOAyKQCguw0A",
          "dtype": "i4"
         },
         "xaxis": "x",
         "y": [
          "arr_1",
          "arr_2",
          "arr_3"
         ],
         "yaxis": "y"
        },
        {
         "base": [
          "2022-08-11T19:33:00.000000000",
          "2022-08-11T19:48:00.000000000",
          "2022-08-11T20:33:00.000000000"
         ],
         "hovertemplate": "Train=47822_11<br>Start=%{base}<br>Finish=%{x}<br>Tâches=%{y}<extra></extra>",
         "legendgroup": "47822_11",
         "marker": {
          "color": "#636efa",
          "pattern": {
           "shape": ""
          }
         },
         "name": "47822_11",
         "orientation": "h",
         "showlegend": true,
         "textposition": "auto",
         "type": "bar",
         "x": {
          "bdata": "oLsNAOAyKQCguw0A",
          "dtype": "i4"
         },
         "xaxis": "x",
         "y": [
          "arr_1",
          "arr_2",
          "arr_3"
         ],
         "yaxis": "y"
        },
        {
         "base": [
          "2022-08-11T22:01:00.000000000",
          "2022-08-11T22:16:00.000000000",
          "2022-08-11T23:01:00.000000000"
         ],
         "hovertemplate": "Train=54234_11<br>Start=%{base}<br>Finish=%{x}<br>Tâches=%{y}<extra></extra>",
         "legendgroup": "54234_11",
         "marker": {
          "color": "#EF553B",
          "pattern": {
           "shape": ""
          }
         },
         "name": "54234_11",
         "orientation": "h",
         "showlegend": true,
         "textposition": "auto",
         "type": "bar",
         "x": {
          "bdata": "oLsNAOAyKQCguw0A",
          "dtype": "i4"
         },
         "xaxis": "x",
         "y": [
          "arr_1",
          "arr_2",
          "arr_3"
         ],
         "yaxis": "y"
        },
        {
         "base": [
          "2022-08-11T23:49:00.000000000",
          "2022-08-12T00:04:00.000000000",
          "2022-08-12T00:49:00.000000000"
         ],
         "hovertemplate": "Train=55390_11<br>Start=%{base}<br>Finish=%{x}<br>Tâches=%{y}<extra></extra>",
         "legendgroup": "55390_11",
         "marker": {
          "color": "#00cc96",
          "pattern": {
           "shape": ""
          }
         },
         "name": "55390_11",
         "orientation": "h",
         "showlegend": true,
         "textposition": "auto",
         "type": "bar",
         "x": {
          "bdata": "oLsNAOAyKQCguw0A",
          "dtype": "i4"
         },
         "xaxis": "x",
         "y": [
          "arr_1",
          "arr_2",
          "arr_3"
         ],
         "yaxis": "y"
        },
        {
         "base": [
          "2022-08-11T11:33:00.000000000",
          "2022-08-11T11:48:00.000000000",
          "2022-08-11T12:34:00.000000000"
         ],
         "hovertemplate": "Train=55394_11<br>Start=%{base}<br>Finish=%{x}<br>Tâches=%{y}<extra></extra>",
         "legendgroup": "55394_11",
         "marker": {
          "color": "#ab63fa",
          "pattern": {
           "shape": ""
          }
         },
         "name": "55394_11",
         "orientation": "h",
         "showlegend": true,
         "textposition": "auto",
         "type": "bar",
         "x": {
          "bdata": "oLsNAOAyKQCguw0A",
          "dtype": "i4"
         },
         "xaxis": "x",
         "y": [
          "arr_1",
          "arr_2",
          "arr_3"
         ],
         "yaxis": "y"
        },
        {
         "base": [
          "2022-08-11T03:45:00.000000000",
          "2022-08-11T04:00:00.000000000",
          "2022-08-11T04:45:00.000000000"
         ],
         "hovertemplate": "Train=55396_11<br>Start=%{base}<br>Finish=%{x}<br>Tâches=%{y}<extra></extra>",
         "legendgroup": "55396_11",
         "marker": {
          "color": "#FFA15A",
          "pattern": {
           "shape": ""
          }
         },
         "name": "55396_11",
         "orientation": "h",
         "showlegend": true,
         "textposition": "auto",
         "type": "bar",
         "x": {
          "bdata": "oLsNAOAyKQCguw0A",
          "dtype": "i4"
         },
         "xaxis": "x",
         "y": [
          "arr_1",
          "arr_2",
          "arr_3"
         ],
         "yaxis": "y"
        },
        {
         "base": [
          "2022-08-11T21:28:00.000000000",
          "2022-08-11T21:43:00.000000000",
          "2022-08-11T22:30:00.000000000"
         ],
         "hovertemplate": "Train=56135_11<br>Start=%{base}<br>Finish=%{x}<br>Tâches=%{y}<extra></extra>",
         "legendgroup": "56135_11",
         "marker": {
          "color": "#19d3f3",
          "pattern": {
           "shape": ""
          }
         },
         "name": "56135_11",
         "orientation": "h",
         "showlegend": true,
         "textposition": "auto",
         "type": "bar",
         "x": {
          "bdata": "oLsNAOAyKQCguw0A",
          "dtype": "i4"
         },
         "xaxis": "x",
         "y": [
          "arr_1",
          "arr_2",
          "arr_3"
         ],
         "yaxis": "y"
        },
        {
         "base": [
          "2022-08-11T02:32:00.000000000",
          "2022-08-11T02:47:00.000000000",
          "2022-08-11T03:32:00.000000000"
         ],
         "hovertemplate": "Train=56730_11<br>Start=%{base}<br>Finish=%{x}<br>Tâches=%{y}<extra></extra>",
         "legendgroup": "56730_11",
         "marker": {
          "color": "#FF6692",
          "pattern": {
           "shape": ""
          }
         },
         "name": "56730_11",
         "orientation": "h",
         "showlegend": true,
         "textposition": "auto",
         "type": "bar",
         "x": {
          "bdata": "oLsNAOAyKQCguw0A",
          "dtype": "i4"
         },
         "xaxis": "x",
         "y": [
          "arr_1",
          "arr_2",
          "arr_3"
         ],
         "yaxis": "y"
        },
        {
         "base": [
          "2022-08-11T21:15:00.000000000",
          "2022-08-11T21:30:00.000000000",
          "2022-08-11T22:15:00.000000000"
         ],
         "hovertemplate": "Train=58706_11<br>Start=%{base}<br>Finish=%{x}<br>Tâches=%{y}<extra></extra>",
         "legendgroup": "58706_11",
         "marker": {
          "color": "#B6E880",
          "pattern": {
           "shape": ""
          }
         },
         "name": "58706_11",
         "orientation": "h",
         "showlegend": true,
         "textposition": "auto",
         "type": "bar",
         "x": {
          "bdata": "oLsNAOAyKQCguw0A",
          "dtype": "i4"
         },
         "xaxis": "x",
         "y": [
          "arr_1",
          "arr_2",
          "arr_3"
         ],
         "yaxis": "y"
        },
        {
         "base": [
          "2022-08-12T02:07:00.000000000",
          "2022-08-12T02:22:00.000000000",
          "2022-08-12T03:07:00.000000000"
         ],
         "hovertemplate": "Train=412023_12<br>Start=%{base}<br>Finish=%{x}<br>Tâches=%{y}<extra></extra>",
         "legendgroup": "412023_12",
         "marker": {
          "color": "#FF97FF",
          "pattern": {
           "shape": ""
          }
         },
         "name": "412023_12",
         "orientation": "h",
         "showlegend": true,
         "textposition": "auto",
         "type": "bar",
         "x": {
          "bdata": "oLsNAOAyKQCguw0A",
          "dtype": "i4"
         },
         "xaxis": "x",
         "y": [
          "arr_1",
          "arr_2",
          "arr_3"
         ],
         "yaxis": "y"
        },
        {
         "base": [
          "2022-08-12T20:48:00.000000000",
          "2022-08-12T21:03:00.000000000",
          "2022-08-12T21:48:00.000000000"
         ],
         "hovertemplate": "Train=412202_12<br>Start=%{base}<br>Finish=%{x}<br>Tâches=%{y}<extra></extra>",
         "legendgroup": "412202_12",
         "marker": {
          "color": "#FECB52",
          "pattern": {
           "shape": ""
          }
         },
         "name": "412202_12",
         "orientation": "h",
         "showlegend": true,
         "textposition": "auto",
         "type": "bar",
         "x": {
          "bdata": "oLsNAOAyKQCguw0A",
          "dtype": "i4"
         },
         "xaxis": "x",
         "y": [
          "arr_1",
          "arr_2",
          "arr_3"
         ],
         "yaxis": "y"
        },
        {
         "base": [
          "2022-08-12T22:33:00.000000000",
          "2022-08-12T22:48:00.000000000",
          "2022-08-12T23:33:00.000000000"
         ],
         "hovertemplate": "Train=41264_12<br>Start=%{base}<br>Finish=%{x}<br>Tâches=%{y}<extra></extra>",
         "legendgroup": "41264_12",
         "marker": {
          "color": "#636efa",
          "pattern": {
           "shape": ""
          }
         },
         "name": "41264_12",
         "orientation": "h",
         "showlegend": true,
         "textposition": "auto",
         "type": "bar",
         "x": {
          "bdata": "oLsNAOAyKQCguw0A",
          "dtype": "i4"
         },
         "xaxis": "x",
         "y": [
          "arr_1",
          "arr_2",
          "arr_3"
         ],
         "yaxis": "y"
        },
        {
         "base": [
          "2022-08-12T11:04:00.000000000",
          "2022-08-12T11:19:00.000000000",
          "2022-08-12T12:04:00.000000000"
         ],
         "hovertemplate": "Train=431246_12<br>Start=%{base}<br>Finish=%{x}<br>Tâches=%{y}<extra></extra>",
         "legendgroup": "431246_12",
         "marker": {
          "color": "#EF553B",
          "pattern": {
           "shape": ""
          }
         },
         "name": "431246_12",
         "orientation": "h",
         "showlegend": true,
         "textposition": "auto",
         "type": "bar",
         "x": {
          "bdata": "oLsNAOAyKQCguw0A",
          "dtype": "i4"
         },
         "xaxis": "x",
         "y": [
          "arr_1",
          "arr_2",
          "arr_3"
         ],
         "yaxis": "y"
        },
        {
         "base": [
          "2022-08-12T05:03:00.000000000",
          "2022-08-12T05:18:00.000000000",
          "2022-08-12T06:03:00.000000000"
         ],
         "hovertemplate": "Train=431802_12<br>Start=%{base}<br>Finish=%{x}<br>Tâches=%{y}<extra></extra>",
         "legendgroup": "431802_12",
         "marker": {
          "color": "#00cc96",
          "pattern": {
           "shape": ""
          }
         },
         "name": "431802_12",
         "orientation": "h",
         "showlegend": true,
         "textposition": "auto",
         "type": "bar",
         "x": {
          "bdata": "oLsNAOAyKQCguw0A",
          "dtype": "i4"
         },
         "xaxis": "x",
         "y": [
          "arr_1",
          "arr_2",
          "arr_3"
         ],
         "yaxis": "y"
        },
        {
         "base": [
          "2022-08-12T15:52:00.000000000",
          "2022-08-12T16:07:00.000000000",
          "2022-08-12T16:52:00.000000000"
         ],
         "hovertemplate": "Train=44222_12<br>Start=%{base}<br>Finish=%{x}<br>Tâches=%{y}<extra></extra>",
         "legendgroup": "44222_12",
         "marker": {
          "color": "#ab63fa",
          "pattern": {
           "shape": ""
          }
         },
         "name": "44222_12",
         "orientation": "h",
         "showlegend": true,
         "textposition": "auto",
         "type": "bar",
         "x": {
          "bdata": "oLsNAOAyKQCguw0A",
          "dtype": "i4"
         },
         "xaxis": "x",
         "y": [
          "arr_1",
          "arr_2",
          "arr_3"
         ],
         "yaxis": "y"
        },
        {
         "base": [
          "2022-08-12T01:13:00.000000000",
          "2022-08-12T01:28:00.000000000",
          "2022-08-12T02:13:00.000000000"
         ],
         "hovertemplate": "Train=44228_12<br>Start=%{base}<br>Finish=%{x}<br>Tâches=%{y}<extra></extra>",
         "legendgroup": "44228_12",
         "marker": {
          "color": "#FFA15A",
          "pattern": {
           "shape": ""
          }
         },
         "name": "44228_12",
         "orientation": "h",
         "showlegend": true,
         "textposition": "auto",
         "type": "bar",
         "x": {
          "bdata": "oLsNAOAyKQCguw0A",
          "dtype": "i4"
         },
         "xaxis": "x",
         "y": [
          "arr_1",
          "arr_2",
          "arr_3"
         ],
         "yaxis": "y"
        },
        {
         "base": [
          "2022-08-12T10:18:00.000000000",
          "2022-08-12T10:33:00.000000000",
          "2022-08-12T11:18:00.000000000"
         ],
         "hovertemplate": "Train=44250_12<br>Start=%{base}<br>Finish=%{x}<br>Tâches=%{y}<extra></extra>",
         "legendgroup": "44250_12",
         "marker": {
          "color": "#19d3f3",
          "pattern": {
           "shape": ""
          }
         },
         "name": "44250_12",
         "orientation": "h",
         "showlegend": true,
         "textposition": "auto",
         "type": "bar",
         "x": {
          "bdata": "oLsNAOAyKQCguw0A",
          "dtype": "i4"
         },
         "xaxis": "x",
         "y": [
          "arr_1",
          "arr_2",
          "arr_3"
         ],
         "yaxis": "y"
        },
        {
         "base": [
          "2022-08-12T16:19:00.000000000",
          "2022-08-12T16:34:00.000000000",
          "2022-08-12T17:19:00.000000000"
         ],
         "hovertemplate": "Train=44865_12<br>Start=%{base}<br>Finish=%{x}<br>Tâches=%{y}<extra></extra>",
         "legendgroup": "44865_12",
         "marker": {
          "color": "#FF6692",
          "pattern": {
           "shape": ""
          }
         },
         "name": "44865_12",
         "orientation": "h",
         "showlegend": true,
         "textposition": "auto",
         "type": "bar",
         "x": {
          "bdata": "oLsNAOAyKQCguw0A",
          "dtype": "i4"
         },
         "xaxis": "x",
         "y": [
          "arr_1",
          "arr_2",
          "arr_3"
         ],
         "yaxis": "y"
        },
        {
         "base": [
          "2022-08-12T18:50:00.000000000",
          "2022-08-12T19:05:00.000000000",
          "2022-08-12T19:50:00.000000000"
         ],
         "hovertemplate": "Train=44951_12<br>Start=%{base}<br>Finish=%{x}<br>Tâches=%{y}<extra></extra>",
         "legendgroup": "44951_12",
         "marker": {
          "color": "#B6E880",
          "pattern": {
           "shape": ""
          }
         },
         "name": "44951_12",
         "orientation": "h",
         "showlegend": true,
         "textposition": "auto",
         "type": "bar",
         "x": {
          "bdata": "oLsNAOAyKQCguw0A",
          "dtype": "i4"
         },
         "xaxis": "x",
         "y": [
          "arr_1",
          "arr_2",
          "arr_3"
         ],
         "yaxis": "y"
        },
        {
         "base": [
          "2022-08-12T11:47:00.000000000",
          "2022-08-12T12:02:00.000000000",
          "2022-08-12T12:48:00.000000000"
         ],
         "hovertemplate": "Train=450237_12<br>Start=%{base}<br>Finish=%{x}<br>Tâches=%{y}<extra></extra>",
         "legendgroup": "450237_12",
         "marker": {
          "color": "#FF97FF",
          "pattern": {
           "shape": ""
          }
         },
         "name": "450237_12",
         "orientation": "h",
         "showlegend": true,
         "textposition": "auto",
         "type": "bar",
         "x": {
          "bdata": "oLsNAOAyKQCguw0A",
          "dtype": "i4"
         },
         "xaxis": "x",
         "y": [
          "arr_1",
          "arr_2",
          "arr_3"
         ],
         "yaxis": "y"
        },
        {
         "base": [
          "2022-08-12T12:43:00.000000000",
          "2022-08-12T12:58:00.000000000",
          "2022-08-12T13:43:00.000000000"
         ],
         "hovertemplate": "Train=471003_12<br>Start=%{base}<br>Finish=%{x}<br>Tâches=%{y}<extra></extra>",
         "legendgroup": "471003_12",
         "marker": {
          "color": "#FECB52",
          "pattern": {
           "shape": ""
          }
         },
         "name": "471003_12",
         "orientation": "h",
         "showlegend": true,
         "textposition": "auto",
         "type": "bar",
         "x": {
          "bdata": "oLsNAOAyKQCguw0A",
          "dtype": "i4"
         },
         "xaxis": "x",
         "y": [
          "arr_1",
          "arr_2",
          "arr_3"
         ],
         "yaxis": "y"
        },
        {
         "base": [
          "2022-08-12T17:43:00.000000000",
          "2022-08-12T17:58:00.000000000",
          "2022-08-12T18:43:00.000000000"
         ],
         "hovertemplate": "Train=47214_12<br>Start=%{base}<br>Finish=%{x}<br>Tâches=%{y}<extra></extra>",
         "legendgroup": "47214_12",
         "marker": {
          "color": "#636efa",
          "pattern": {
           "shape": ""
          }
         },
         "name": "47214_12",
         "orientation": "h",
         "showlegend": true,
         "textposition": "auto",
         "type": "bar",
         "x": {
          "bdata": "oLsNAOAyKQCguw0A",
          "dtype": "i4"
         },
         "xaxis": "x",
         "y": [
          "arr_1",
          "arr_2",
          "arr_3"
         ],
         "yaxis": "y"
        },
        {
         "base": [
          "2022-08-12T09:02:00.000000000",
          "2022-08-12T09:17:00.000000000",
          "2022-08-12T10:02:00.000000000"
         ],
         "hovertemplate": "Train=47262_12<br>Start=%{base}<br>Finish=%{x}<br>Tâches=%{y}<extra></extra>",
         "legendgroup": "47262_12",
         "marker": {
          "color": "#EF553B",
          "pattern": {
           "shape": ""
          }
         },
         "name": "47262_12",
         "orientation": "h",
         "showlegend": true,
         "textposition": "auto",
         "type": "bar",
         "x": {
          "bdata": "oLsNAOAyKQCguw0A",
          "dtype": "i4"
         },
         "xaxis": "x",
         "y": [
          "arr_1",
          "arr_2",
          "arr_3"
         ],
         "yaxis": "y"
        },
        {
         "base": [
          "2022-08-12T19:33:00.000000000",
          "2022-08-12T19:48:00.000000000",
          "2022-08-12T20:33:00.000000000"
         ],
         "hovertemplate": "Train=47822_12<br>Start=%{base}<br>Finish=%{x}<br>Tâches=%{y}<extra></extra>",
         "legendgroup": "47822_12",
         "marker": {
          "color": "#00cc96",
          "pattern": {
           "shape": ""
          }
         },
         "name": "47822_12",
         "orientation": "h",
         "showlegend": true,
         "textposition": "auto",
         "type": "bar",
         "x": {
          "bdata": "oLsNAOAyKQCguw0A",
          "dtype": "i4"
         },
         "xaxis": "x",
         "y": [
          "arr_1",
          "arr_2",
          "arr_3"
         ],
         "yaxis": "y"
        },
        {
         "base": [
          "2022-08-12T07:43:00.000000000",
          "2022-08-12T07:58:00.000000000",
          "2022-08-12T09:00:00.000000000"
         ],
         "hovertemplate": "Train=48216_12<br>Start=%{base}<br>Finish=%{x}<br>Tâches=%{y}<extra></extra>",
         "legendgroup": "48216_12",
         "marker": {
          "color": "#ab63fa",
          "pattern": {
           "shape": ""
          }
         },
         "name": "48216_12",
         "orientation": "h",
         "showlegend": true,
         "textposition": "auto",
         "type": "bar",
         "x": {
          "bdata": "oLsNAOAyKQCguw0A",
          "dtype": "i4"
         },
         "xaxis": "x",
         "y": [
          "arr_1",
          "arr_2",
          "arr_3"
         ],
         "yaxis": "y"
        },
        {
         "base": [
          "2022-08-12T11:33:00.000000000",
          "2022-08-12T11:48:00.000000000",
          "2022-08-12T12:33:00.000000000"
         ],
         "hovertemplate": "Train=489026_12<br>Start=%{base}<br>Finish=%{x}<br>Tâches=%{y}<extra></extra>",
         "legendgroup": "489026_12",
         "marker": {
          "color": "#FFA15A",
          "pattern": {
           "shape": ""
          }
         },
         "name": "489026_12",
         "orientation": "h",
         "showlegend": true,
         "textposition": "auto",
         "type": "bar",
         "x": {
          "bdata": "oLsNAOAyKQCguw0A",
          "dtype": "i4"
         },
         "xaxis": "x",
         "y": [
          "arr_1",
          "arr_2",
          "arr_3"
         ],
         "yaxis": "y"
        },
        {
         "base": [
          "2022-08-12T21:36:00.000000000",
          "2022-08-12T21:51:00.000000000",
          "2022-08-12T22:36:00.000000000"
         ],
         "hovertemplate": "Train=489042_12<br>Start=%{base}<br>Finish=%{x}<br>Tâches=%{y}<extra></extra>",
         "legendgroup": "489042_12",
         "marker": {
          "color": "#19d3f3",
          "pattern": {
           "shape": ""
          }
         },
         "name": "489042_12",
         "orientation": "h",
         "showlegend": true,
         "textposition": "auto",
         "type": "bar",
         "x": {
          "bdata": "oLsNAOAyKQCguw0A",
          "dtype": "i4"
         },
         "xaxis": "x",
         "y": [
          "arr_1",
          "arr_2",
          "arr_3"
         ],
         "yaxis": "y"
        },
        {
         "base": [
          "2022-08-12T22:01:00.000000000",
          "2022-08-12T22:16:00.000000000",
          "2022-08-12T23:01:00.000000000"
         ],
         "hovertemplate": "Train=54234_12<br>Start=%{base}<br>Finish=%{x}<br>Tâches=%{y}<extra></extra>",
         "legendgroup": "54234_12",
         "marker": {
          "color": "#FF6692",
          "pattern": {
           "shape": ""
          }
         },
         "name": "54234_12",
         "orientation": "h",
         "showlegend": true,
         "textposition": "auto",
         "type": "bar",
         "x": {
          "bdata": "oLsNAOAyKQCguw0A",
          "dtype": "i4"
         },
         "xaxis": "x",
         "y": [
          "arr_1",
          "arr_2",
          "arr_3"
         ],
         "yaxis": "y"
        },
        {
         "base": [
          "2022-08-12T07:45:00.000000000",
          "2022-08-12T08:00:00.000000000",
          "2022-08-12T08:45:00.000000000"
         ],
         "hovertemplate": "Train=55396_12<br>Start=%{base}<br>Finish=%{x}<br>Tâches=%{y}<extra></extra>",
         "legendgroup": "55396_12",
         "marker": {
          "color": "#B6E880",
          "pattern": {
           "shape": ""
          }
         },
         "name": "55396_12",
         "orientation": "h",
         "showlegend": true,
         "textposition": "auto",
         "type": "bar",
         "x": {
          "bdata": "oLsNAOAyKQCguw0A",
          "dtype": "i4"
         },
         "xaxis": "x",
         "y": [
          "arr_1",
          "arr_2",
          "arr_3"
         ],
         "yaxis": "y"
        },
        {
         "base": [
          "2022-08-12T21:28:00.000000000",
          "2022-08-12T21:43:00.000000000",
          "2022-08-12T23:16:00.000000000"
         ],
         "hovertemplate": "Train=56135_12<br>Start=%{base}<br>Finish=%{x}<br>Tâches=%{y}<extra></extra>",
         "legendgroup": "56135_12",
         "marker": {
          "color": "#FF97FF",
          "pattern": {
           "shape": ""
          }
         },
         "name": "56135_12",
         "orientation": "h",
         "showlegend": true,
         "textposition": "auto",
         "type": "bar",
         "x": {
          "bdata": "oLsNAOAyKQCguw0A",
          "dtype": "i4"
         },
         "xaxis": "x",
         "y": [
          "arr_1",
          "arr_2",
          "arr_3"
         ],
         "yaxis": "y"
        },
        {
         "base": [
          "2022-08-12T02:32:00.000000000",
          "2022-08-12T02:47:00.000000000",
          "2022-08-12T03:32:00.000000000"
         ],
         "hovertemplate": "Train=56730_12<br>Start=%{base}<br>Finish=%{x}<br>Tâches=%{y}<extra></extra>",
         "legendgroup": "56730_12",
         "marker": {
          "color": "#FECB52",
          "pattern": {
           "shape": ""
          }
         },
         "name": "56730_12",
         "orientation": "h",
         "showlegend": true,
         "textposition": "auto",
         "type": "bar",
         "x": {
          "bdata": "oLsNAOAyKQCguw0A",
          "dtype": "i4"
         },
         "xaxis": "x",
         "y": [
          "arr_1",
          "arr_2",
          "arr_3"
         ],
         "yaxis": "y"
        },
        {
         "base": [
          "2022-08-12T21:15:00.000000000",
          "2022-08-12T21:30:00.000000000",
          "2022-08-12T22:15:00.000000000"
         ],
         "hovertemplate": "Train=58706_12<br>Start=%{base}<br>Finish=%{x}<br>Tâches=%{y}<extra></extra>",
         "legendgroup": "58706_12",
         "marker": {
          "color": "#636efa",
          "pattern": {
           "shape": ""
          }
         },
         "name": "58706_12",
         "orientation": "h",
         "showlegend": true,
         "textposition": "auto",
         "type": "bar",
         "x": {
          "bdata": "oLsNAOAyKQCguw0A",
          "dtype": "i4"
         },
         "xaxis": "x",
         "y": [
          "arr_1",
          "arr_2",
          "arr_3"
         ],
         "yaxis": "y"
        },
        {
         "base": [
          "2022-08-12T09:25:00.000000000",
          "2022-08-12T09:40:00.000000000",
          "2022-08-12T10:25:00.000000000"
         ],
         "hovertemplate": "Train=71270_12<br>Start=%{base}<br>Finish=%{x}<br>Tâches=%{y}<extra></extra>",
         "legendgroup": "71270_12",
         "marker": {
          "color": "#EF553B",
          "pattern": {
           "shape": ""
          }
         },
         "name": "71270_12",
         "orientation": "h",
         "showlegend": true,
         "textposition": "auto",
         "type": "bar",
         "x": {
          "bdata": "oLsNAOAyKQCguw0A",
          "dtype": "i4"
         },
         "xaxis": "x",
         "y": [
          "arr_1",
          "arr_2",
          "arr_3"
         ],
         "yaxis": "y"
        },
        {
         "base": [
          "2022-08-13T02:07:00.000000000",
          "2022-08-13T02:22:00.000000000",
          "2022-08-13T03:07:00.000000000"
         ],
         "hovertemplate": "Train=412023_13<br>Start=%{base}<br>Finish=%{x}<br>Tâches=%{y}<extra></extra>",
         "legendgroup": "412023_13",
         "marker": {
          "color": "#00cc96",
          "pattern": {
           "shape": ""
          }
         },
         "name": "412023_13",
         "orientation": "h",
         "showlegend": true,
         "textposition": "auto",
         "type": "bar",
         "x": {
          "bdata": "oLsNAOAyKQCguw0A",
          "dtype": "i4"
         },
         "xaxis": "x",
         "y": [
          "arr_1",
          "arr_2",
          "arr_3"
         ],
         "yaxis": "y"
        },
        {
         "base": [
          "2022-08-13T22:01:00.000000000",
          "2022-08-13T22:16:00.000000000",
          "2022-08-13T23:01:00.000000000"
         ],
         "hovertemplate": "Train=41230_13<br>Start=%{base}<br>Finish=%{x}<br>Tâches=%{y}<extra></extra>",
         "legendgroup": "41230_13",
         "marker": {
          "color": "#ab63fa",
          "pattern": {
           "shape": ""
          }
         },
         "name": "41230_13",
         "orientation": "h",
         "showlegend": true,
         "textposition": "auto",
         "type": "bar",
         "x": {
          "bdata": "oLsNAOAyKQCguw0A",
          "dtype": "i4"
         },
         "xaxis": "x",
         "y": [
          "arr_1",
          "arr_2",
          "arr_3"
         ],
         "yaxis": "y"
        },
        {
         "base": [
          "2022-08-13T05:03:00.000000000",
          "2022-08-13T05:18:00.000000000",
          "2022-08-13T06:03:00.000000000"
         ],
         "hovertemplate": "Train=431802_13<br>Start=%{base}<br>Finish=%{x}<br>Tâches=%{y}<extra></extra>",
         "legendgroup": "431802_13",
         "marker": {
          "color": "#FFA15A",
          "pattern": {
           "shape": ""
          }
         },
         "name": "431802_13",
         "orientation": "h",
         "showlegend": true,
         "textposition": "auto",
         "type": "bar",
         "x": {
          "bdata": "oLsNAOAyKQCguw0A",
          "dtype": "i4"
         },
         "xaxis": "x",
         "y": [
          "arr_1",
          "arr_2",
          "arr_3"
         ],
         "yaxis": "y"
        },
        {
         "base": [
          "2022-08-13T16:05:00.000000000",
          "2022-08-13T16:20:00.000000000",
          "2022-08-13T21:15:00.000000000"
         ],
         "hovertemplate": "Train=44222_13<br>Start=%{base}<br>Finish=%{x}<br>Tâches=%{y}<extra></extra>",
         "legendgroup": "44222_13",
         "marker": {
          "color": "#19d3f3",
          "pattern": {
           "shape": ""
          }
         },
         "name": "44222_13",
         "orientation": "h",
         "showlegend": true,
         "textposition": "auto",
         "type": "bar",
         "x": {
          "bdata": "oLsNAOAyKQCguw0A",
          "dtype": "i4"
         },
         "xaxis": "x",
         "y": [
          "arr_1",
          "arr_2",
          "arr_3"
         ],
         "yaxis": "y"
        },
        {
         "base": [
          "2022-08-13T01:13:00.000000000",
          "2022-08-13T01:28:00.000000000",
          "2022-08-13T02:13:00.000000000"
         ],
         "hovertemplate": "Train=44228_13<br>Start=%{base}<br>Finish=%{x}<br>Tâches=%{y}<extra></extra>",
         "legendgroup": "44228_13",
         "marker": {
          "color": "#FF6692",
          "pattern": {
           "shape": ""
          }
         },
         "name": "44228_13",
         "orientation": "h",
         "showlegend": true,
         "textposition": "auto",
         "type": "bar",
         "x": {
          "bdata": "oLsNAOAyKQCguw0A",
          "dtype": "i4"
         },
         "xaxis": "x",
         "y": [
          "arr_1",
          "arr_2",
          "arr_3"
         ],
         "yaxis": "y"
        },
        {
         "base": [
          "2022-08-13T10:31:00.000000000",
          "2022-08-13T10:46:00.000000000",
          "2022-08-13T11:31:00.000000000"
         ],
         "hovertemplate": "Train=44250_13<br>Start=%{base}<br>Finish=%{x}<br>Tâches=%{y}<extra></extra>",
         "legendgroup": "44250_13",
         "marker": {
          "color": "#B6E880",
          "pattern": {
           "shape": ""
          }
         },
         "name": "44250_13",
         "orientation": "h",
         "showlegend": true,
         "textposition": "auto",
         "type": "bar",
         "x": {
          "bdata": "oLsNAOAyKQCguw0A",
          "dtype": "i4"
         },
         "xaxis": "x",
         "y": [
          "arr_1",
          "arr_2",
          "arr_3"
         ],
         "yaxis": "y"
        },
        {
         "base": [
          "2022-08-13T16:12:00.000000000",
          "2022-08-13T16:27:00.000000000",
          "2022-08-13T21:00:00.000000000"
         ],
         "hovertemplate": "Train=44864_13<br>Start=%{base}<br>Finish=%{x}<br>Tâches=%{y}<extra></extra>",
         "legendgroup": "44864_13",
         "marker": {
          "color": "#FF97FF",
          "pattern": {
           "shape": ""
          }
         },
         "name": "44864_13",
         "orientation": "h",
         "showlegend": true,
         "textposition": "auto",
         "type": "bar",
         "x": {
          "bdata": "oLsNAOAyKQCguw0A",
          "dtype": "i4"
         },
         "xaxis": "x",
         "y": [
          "arr_1",
          "arr_2",
          "arr_3"
         ],
         "yaxis": "y"
        },
        {
         "base": [
          "2022-08-13T11:51:00.000000000",
          "2022-08-13T12:06:00.000000000",
          "2022-08-13T21:30:00.000000000"
         ],
         "hovertemplate": "Train=450235_13<br>Start=%{base}<br>Finish=%{x}<br>Tâches=%{y}<extra></extra>",
         "legendgroup": "450235_13",
         "marker": {
          "color": "#FECB52",
          "pattern": {
           "shape": ""
          }
         },
         "name": "450235_13",
         "orientation": "h",
         "showlegend": true,
         "textposition": "auto",
         "type": "bar",
         "x": {
          "bdata": "oLsNAOAyKQCguw0A",
          "dtype": "i4"
         },
         "xaxis": "x",
         "y": [
          "arr_1",
          "arr_2",
          "arr_3"
         ],
         "yaxis": "y"
        },
        {
         "base": [
          "2022-08-13T01:46:00.000000000",
          "2022-08-13T02:01:00.000000000",
          "2022-08-13T02:46:00.000000000"
         ],
         "hovertemplate": "Train=47240_13<br>Start=%{base}<br>Finish=%{x}<br>Tâches=%{y}<extra></extra>",
         "legendgroup": "47240_13",
         "marker": {
          "color": "#636efa",
          "pattern": {
           "shape": ""
          }
         },
         "name": "47240_13",
         "orientation": "h",
         "showlegend": true,
         "textposition": "auto",
         "type": "bar",
         "x": {
          "bdata": "oLsNAOAyKQCguw0A",
          "dtype": "i4"
         },
         "xaxis": "x",
         "y": [
          "arr_1",
          "arr_2",
          "arr_3"
         ],
         "yaxis": "y"
        },
        {
         "base": [
          "2022-08-13T09:17:00.000000000",
          "2022-08-13T09:32:00.000000000",
          "2022-08-13T10:17:00.000000000"
         ],
         "hovertemplate": "Train=47262_13<br>Start=%{base}<br>Finish=%{x}<br>Tâches=%{y}<extra></extra>",
         "legendgroup": "47262_13",
         "marker": {
          "color": "#EF553B",
          "pattern": {
           "shape": ""
          }
         },
         "name": "47262_13",
         "orientation": "h",
         "showlegend": true,
         "textposition": "auto",
         "type": "bar",
         "x": {
          "bdata": "oLsNAOAyKQCguw0A",
          "dtype": "i4"
         },
         "xaxis": "x",
         "y": [
          "arr_1",
          "arr_2",
          "arr_3"
         ],
         "yaxis": "y"
        },
        {
         "base": [
          "2022-08-13T19:33:00.000000000",
          "2022-08-13T19:48:00.000000000",
          "2022-08-13T21:45:00.000000000"
         ],
         "hovertemplate": "Train=47822_13<br>Start=%{base}<br>Finish=%{x}<br>Tâches=%{y}<extra></extra>",
         "legendgroup": "47822_13",
         "marker": {
          "color": "#00cc96",
          "pattern": {
           "shape": ""
          }
         },
         "name": "47822_13",
         "orientation": "h",
         "showlegend": true,
         "textposition": "auto",
         "type": "bar",
         "x": {
          "bdata": "oLsNAOAyKQCguw0A",
          "dtype": "i4"
         },
         "xaxis": "x",
         "y": [
          "arr_1",
          "arr_2",
          "arr_3"
         ],
         "yaxis": "y"
        },
        {
         "base": [
          "2022-08-13T11:33:00.000000000",
          "2022-08-13T11:48:00.000000000",
          "2022-08-13T12:33:00.000000000"
         ],
         "hovertemplate": "Train=489026_13<br>Start=%{base}<br>Finish=%{x}<br>Tâches=%{y}<extra></extra>",
         "legendgroup": "489026_13",
         "marker": {
          "color": "#ab63fa",
          "pattern": {
           "shape": ""
          }
         },
         "name": "489026_13",
         "orientation": "h",
         "showlegend": true,
         "textposition": "auto",
         "type": "bar",
         "x": {
          "bdata": "oLsNAOAyKQCguw0A",
          "dtype": "i4"
         },
         "xaxis": "x",
         "y": [
          "arr_1",
          "arr_2",
          "arr_3"
         ],
         "yaxis": "y"
        },
        {
         "base": [
          "2022-08-13T22:01:00.000000000",
          "2022-08-13T22:16:00.000000000",
          "2022-08-13T23:16:00.000000000"
         ],
         "hovertemplate": "Train=54234_13<br>Start=%{base}<br>Finish=%{x}<br>Tâches=%{y}<extra></extra>",
         "legendgroup": "54234_13",
         "marker": {
          "color": "#FFA15A",
          "pattern": {
           "shape": ""
          }
         },
         "name": "54234_13",
         "orientation": "h",
         "showlegend": true,
         "textposition": "auto",
         "type": "bar",
         "x": {
          "bdata": "oLsNAOAyKQCguw0A",
          "dtype": "i4"
         },
         "xaxis": "x",
         "y": [
          "arr_1",
          "arr_2",
          "arr_3"
         ],
         "yaxis": "y"
        },
        {
         "base": [
          "2022-08-13T23:49:00.000000000",
          "2022-08-14T00:04:00.000000000",
          "2022-08-14T00:49:00.000000000"
         ],
         "hovertemplate": "Train=55390_13<br>Start=%{base}<br>Finish=%{x}<br>Tâches=%{y}<extra></extra>",
         "legendgroup": "55390_13",
         "marker": {
          "color": "#19d3f3",
          "pattern": {
           "shape": ""
          }
         },
         "name": "55390_13",
         "orientation": "h",
         "showlegend": true,
         "textposition": "auto",
         "type": "bar",
         "x": {
          "bdata": "oLsNAOAyKQCguw0A",
          "dtype": "i4"
         },
         "xaxis": "x",
         "y": [
          "arr_1",
          "arr_2",
          "arr_3"
         ],
         "yaxis": "y"
        },
        {
         "base": [
          "2022-08-13T07:45:00.000000000",
          "2022-08-13T08:00:00.000000000",
          "2022-08-13T08:45:00.000000000"
         ],
         "hovertemplate": "Train=55396_13<br>Start=%{base}<br>Finish=%{x}<br>Tâches=%{y}<extra></extra>",
         "legendgroup": "55396_13",
         "marker": {
          "color": "#FF6692",
          "pattern": {
           "shape": ""
          }
         },
         "name": "55396_13",
         "orientation": "h",
         "showlegend": true,
         "textposition": "auto",
         "type": "bar",
         "x": {
          "bdata": "oLsNAOAyKQCguw0A",
          "dtype": "i4"
         },
         "xaxis": "x",
         "y": [
          "arr_1",
          "arr_2",
          "arr_3"
         ],
         "yaxis": "y"
        },
        {
         "base": [
          "2022-08-13T21:28:00.000000000",
          "2022-08-13T21:43:00.000000000",
          "2022-08-13T22:30:00.000000000"
         ],
         "hovertemplate": "Train=56135_13<br>Start=%{base}<br>Finish=%{x}<br>Tâches=%{y}<extra></extra>",
         "legendgroup": "56135_13",
         "marker": {
          "color": "#B6E880",
          "pattern": {
           "shape": ""
          }
         },
         "name": "56135_13",
         "orientation": "h",
         "showlegend": true,
         "textposition": "auto",
         "type": "bar",
         "x": {
          "bdata": "oLsNAOAyKQCguw0A",
          "dtype": "i4"
         },
         "xaxis": "x",
         "y": [
          "arr_1",
          "arr_2",
          "arr_3"
         ],
         "yaxis": "y"
        },
        {
         "base": [
          "2022-08-13T02:32:00.000000000",
          "2022-08-13T02:47:00.000000000",
          "2022-08-13T03:32:00.000000000"
         ],
         "hovertemplate": "Train=56730_13<br>Start=%{base}<br>Finish=%{x}<br>Tâches=%{y}<extra></extra>",
         "legendgroup": "56730_13",
         "marker": {
          "color": "#FF97FF",
          "pattern": {
           "shape": ""
          }
         },
         "name": "56730_13",
         "orientation": "h",
         "showlegend": true,
         "textposition": "auto",
         "type": "bar",
         "x": {
          "bdata": "oLsNAOAyKQCguw0A",
          "dtype": "i4"
         },
         "xaxis": "x",
         "y": [
          "arr_1",
          "arr_2",
          "arr_3"
         ],
         "yaxis": "y"
        },
        {
         "base": [
          "2022-08-13T21:15:00.000000000",
          "2022-08-13T21:30:00.000000000",
          "2022-08-13T22:15:00.000000000"
         ],
         "hovertemplate": "Train=58706_13<br>Start=%{base}<br>Finish=%{x}<br>Tâches=%{y}<extra></extra>",
         "legendgroup": "58706_13",
         "marker": {
          "color": "#FECB52",
          "pattern": {
           "shape": ""
          }
         },
         "name": "58706_13",
         "orientation": "h",
         "showlegend": true,
         "textposition": "auto",
         "type": "bar",
         "x": {
          "bdata": "oLsNAOAyKQCguw0A",
          "dtype": "i4"
         },
         "xaxis": "x",
         "y": [
          "arr_1",
          "arr_2",
          "arr_3"
         ],
         "yaxis": "y"
        },
        {
         "base": [
          "2022-08-14T02:35:00.000000000",
          "2022-08-14T02:50:00.000000000",
          "2022-08-14T03:35:00.000000000"
         ],
         "hovertemplate": "Train=56730_14<br>Start=%{base}<br>Finish=%{x}<br>Tâches=%{y}<extra></extra>",
         "legendgroup": "56730_14",
         "marker": {
          "color": "#636efa",
          "pattern": {
           "shape": ""
          }
         },
         "name": "56730_14",
         "orientation": "h",
         "showlegend": true,
         "textposition": "auto",
         "type": "bar",
         "x": {
          "bdata": "oLsNAOAyKQCguw0A",
          "dtype": "i4"
         },
         "xaxis": "x",
         "y": [
          "arr_1",
          "arr_2",
          "arr_3"
         ],
         "yaxis": "y"
        },
        {
         "base": [
          "2022-08-09T04:07:00.000000000",
          "2022-08-09T04:22:00.000000000",
          "2022-08-09T06:52:00.000000000",
          "2022-08-09T15:26:00.000000000"
         ],
         "hovertemplate": "Train=400006_09<br>Start=%{base}<br>Finish=%{x}<br>Tâches=%{y}<extra></extra>",
         "legendgroup": "400006_09",
         "marker": {
          "color": "#EF553B",
          "pattern": {
           "shape": ""
          }
         },
         "name": "400006_09",
         "orientation": "h",
         "showlegend": true,
         "textposition": "auto",
         "type": "bar",
         "x": {
          "bdata": "oLsNAEBUiQCguw0AgE8SAA==",
          "dtype": "i4"
         },
         "xaxis": "x",
         "y": [
          "dep_1",
          "dep_2",
          "dep_3",
          "dep_4"
         ],
         "yaxis": "y"
        },
        {
         "base": [
          "2022-08-09T05:15:00.000000000",
          "2022-08-09T05:30:00.000000000",
          "2022-08-09T08:00:00.000000000",
          "2022-08-09T22:26:00.000000000"
         ],
         "hovertemplate": "Train=400016_09<br>Start=%{base}<br>Finish=%{x}<br>Tâches=%{y}<extra></extra>",
         "legendgroup": "400016_09",
         "marker": {
          "color": "#00cc96",
          "pattern": {
           "shape": ""
          }
         },
         "name": "400016_09",
         "orientation": "h",
         "showlegend": true,
         "textposition": "auto",
         "type": "bar",
         "x": {
          "bdata": "oLsNAEBUiQCguw0AgE8SAA==",
          "dtype": "i4"
         },
         "xaxis": "x",
         "y": [
          "dep_1",
          "dep_2",
          "dep_3",
          "dep_4"
         ],
         "yaxis": "y"
        },
        {
         "base": [
          "2022-08-09T00:50:00.000000000",
          "2022-08-09T01:05:00.000000000",
          "2022-08-09T03:35:00.000000000",
          "2022-08-09T20:37:00.000000000"
         ],
         "hovertemplate": "Train=400110_09<br>Start=%{base}<br>Finish=%{x}<br>Tâches=%{y}<extra></extra>",
         "legendgroup": "400110_09",
         "marker": {
          "color": "#ab63fa",
          "pattern": {
           "shape": ""
          }
         },
         "name": "400110_09",
         "orientation": "h",
         "showlegend": true,
         "textposition": "auto",
         "type": "bar",
         "x": {
          "bdata": "oLsNAEBUiQCguw0AgE8SAA==",
          "dtype": "i4"
         },
         "xaxis": "x",
         "y": [
          "dep_1",
          "dep_2",
          "dep_3",
          "dep_4"
         ],
         "yaxis": "y"
        },
        {
         "base": [
          "2022-08-09T01:05:00.000000000",
          "2022-08-09T01:20:00.000000000",
          "2022-08-09T03:50:00.000000000",
          "2022-08-09T14:42:00.000000000"
         ],
         "hovertemplate": "Train=431035_09<br>Start=%{base}<br>Finish=%{x}<br>Tâches=%{y}<extra></extra>",
         "legendgroup": "431035_09",
         "marker": {
          "color": "#FFA15A",
          "pattern": {
           "shape": ""
          }
         },
         "name": "431035_09",
         "orientation": "h",
         "showlegend": true,
         "textposition": "auto",
         "type": "bar",
         "x": {
          "bdata": "oLsNAEBUiQCguw0AgE8SAA==",
          "dtype": "i4"
         },
         "xaxis": "x",
         "y": [
          "dep_1",
          "dep_2",
          "dep_3",
          "dep_4"
         ],
         "yaxis": "y"
        },
        {
         "base": [
          "2022-08-09T01:35:00.000000000",
          "2022-08-09T01:50:00.000000000",
          "2022-08-09T04:20:00.000000000",
          "2022-08-09T05:59:00.000000000"
         ],
         "hovertemplate": "Train=431091_09<br>Start=%{base}<br>Finish=%{x}<br>Tâches=%{y}<extra></extra>",
         "legendgroup": "431091_09",
         "marker": {
          "color": "#19d3f3",
          "pattern": {
           "shape": ""
          }
         },
         "name": "431091_09",
         "orientation": "h",
         "showlegend": true,
         "textposition": "auto",
         "type": "bar",
         "x": {
          "bdata": "oLsNAEBUiQCguw0AgE8SAA==",
          "dtype": "i4"
         },
         "xaxis": "x",
         "y": [
          "dep_1",
          "dep_2",
          "dep_3",
          "dep_4"
         ],
         "yaxis": "y"
        },
        {
         "base": [
          "2022-08-09T03:52:00.000000000",
          "2022-08-09T04:07:00.000000000",
          "2022-08-09T06:37:00.000000000",
          "2022-08-09T17:35:00.000000000"
         ],
         "hovertemplate": "Train=44203_09<br>Start=%{base}<br>Finish=%{x}<br>Tâches=%{y}<extra></extra>",
         "legendgroup": "44203_09",
         "marker": {
          "color": "#FF6692",
          "pattern": {
           "shape": ""
          }
         },
         "name": "44203_09",
         "orientation": "h",
         "showlegend": true,
         "textposition": "auto",
         "type": "bar",
         "x": {
          "bdata": "oLsNAEBUiQCguw0AgE8SAA==",
          "dtype": "i4"
         },
         "xaxis": "x",
         "y": [
          "dep_1",
          "dep_2",
          "dep_3",
          "dep_4"
         ],
         "yaxis": "y"
        },
        {
         "base": [
          "2022-08-08T13:30:00.000000000",
          "2022-08-08T13:45:00.000000000",
          "2022-08-08T16:15:00.000000000",
          "2022-08-09T13:02:00.000000000"
         ],
         "hovertemplate": "Train=44241_09<br>Start=%{base}<br>Finish=%{x}<br>Tâches=%{y}<extra></extra>",
         "legendgroup": "44241_09",
         "marker": {
          "color": "#B6E880",
          "pattern": {
           "shape": ""
          }
         },
         "name": "44241_09",
         "orientation": "h",
         "showlegend": true,
         "textposition": "auto",
         "type": "bar",
         "x": {
          "bdata": "oLsNAEBUiQCguw0AgE8SAA==",
          "dtype": "i4"
         },
         "xaxis": "x",
         "y": [
          "dep_1",
          "dep_2",
          "dep_3",
          "dep_4"
         ],
         "yaxis": "y"
        },
        {
         "base": [
          "2022-08-08T13:15:00.000000000",
          "2022-08-08T13:30:00.000000000",
          "2022-08-08T16:00:00.000000000",
          "2022-08-09T02:47:00.000000000"
         ],
         "hovertemplate": "Train=44249_09<br>Start=%{base}<br>Finish=%{x}<br>Tâches=%{y}<extra></extra>",
         "legendgroup": "44249_09",
         "marker": {
          "color": "#FF97FF",
          "pattern": {
           "shape": ""
          }
         },
         "name": "44249_09",
         "orientation": "h",
         "showlegend": true,
         "textposition": "auto",
         "type": "bar",
         "x": {
          "bdata": "oLsNAEBUiQCguw0AgE8SAA==",
          "dtype": "i4"
         },
         "xaxis": "x",
         "y": [
          "dep_1",
          "dep_2",
          "dep_3",
          "dep_4"
         ],
         "yaxis": "y"
        },
        {
         "base": [
          "2022-08-08T14:36:00.000000000",
          "2022-08-08T14:51:00.000000000",
          "2022-08-08T17:21:00.000000000",
          "2022-08-09T07:53:00.000000000"
         ],
         "hovertemplate": "Train=44806_09<br>Start=%{base}<br>Finish=%{x}<br>Tâches=%{y}<extra></extra>",
         "legendgroup": "44806_09",
         "marker": {
          "color": "#FECB52",
          "pattern": {
           "shape": ""
          }
         },
         "name": "44806_09",
         "orientation": "h",
         "showlegend": true,
         "textposition": "auto",
         "type": "bar",
         "x": {
          "bdata": "oLsNAEBUiQCguw0AgE8SAA==",
          "dtype": "i4"
         },
         "xaxis": "x",
         "y": [
          "dep_1",
          "dep_2",
          "dep_3",
          "dep_4"
         ],
         "yaxis": "y"
        },
        {
         "base": [
          "2022-08-08T22:58:00.000000000",
          "2022-08-08T23:13:00.000000000",
          "2022-08-09T01:43:00.000000000",
          "2022-08-09T14:00:00.000000000"
         ],
         "hovertemplate": "Train=47245_09<br>Start=%{base}<br>Finish=%{x}<br>Tâches=%{y}<extra></extra>",
         "legendgroup": "47245_09",
         "marker": {
          "color": "#636efa",
          "pattern": {
           "shape": ""
          }
         },
         "name": "47245_09",
         "orientation": "h",
         "showlegend": true,
         "textposition": "auto",
         "type": "bar",
         "x": {
          "bdata": "oLsNAEBUiQCguw0AgE8SAA==",
          "dtype": "i4"
         },
         "xaxis": "x",
         "y": [
          "dep_1",
          "dep_2",
          "dep_3",
          "dep_4"
         ],
         "yaxis": "y"
        },
        {
         "base": [
          "2022-08-09T01:20:00.000000000",
          "2022-08-09T02:05:00.000000000",
          "2022-08-09T04:35:00.000000000",
          "2022-08-09T10:40:00.000000000"
         ],
         "hovertemplate": "Train=47289_09<br>Start=%{base}<br>Finish=%{x}<br>Tâches=%{y}<extra></extra>",
         "legendgroup": "47289_09",
         "marker": {
          "color": "#EF553B",
          "pattern": {
           "shape": ""
          }
         },
         "name": "47289_09",
         "orientation": "h",
         "showlegend": true,
         "textposition": "auto",
         "type": "bar",
         "x": {
          "bdata": "oLsNAEBUiQCguw0AgE8SAA==",
          "dtype": "i4"
         },
         "xaxis": "x",
         "y": [
          "dep_1",
          "dep_2",
          "dep_3",
          "dep_4"
         ],
         "yaxis": "y"
        },
        {
         "base": [
          "2022-08-09T10:46:00.000000000",
          "2022-08-09T11:01:00.000000000",
          "2022-08-09T13:31:00.000000000",
          "2022-08-09T22:05:00.000000000"
         ],
         "hovertemplate": "Train=47821_09<br>Start=%{base}<br>Finish=%{x}<br>Tâches=%{y}<extra></extra>",
         "legendgroup": "47821_09",
         "marker": {
          "color": "#00cc96",
          "pattern": {
           "shape": ""
          }
         },
         "name": "47821_09",
         "orientation": "h",
         "showlegend": true,
         "textposition": "auto",
         "type": "bar",
         "x": {
          "bdata": "oLsNAEBUiQCguw0AgE8SAA==",
          "dtype": "i4"
         },
         "xaxis": "x",
         "y": [
          "dep_1",
          "dep_2",
          "dep_3",
          "dep_4"
         ],
         "yaxis": "y"
        },
        {
         "base": [
          "2022-08-08T23:16:00.000000000",
          "2022-08-08T23:43:00.000000000",
          "2022-08-09T02:13:00.000000000",
          "2022-08-09T05:51:00.000000000"
         ],
         "hovertemplate": "Train=489447_09<br>Start=%{base}<br>Finish=%{x}<br>Tâches=%{y}<extra></extra>",
         "legendgroup": "489447_09",
         "marker": {
          "color": "#ab63fa",
          "pattern": {
           "shape": ""
          }
         },
         "name": "489447_09",
         "orientation": "h",
         "showlegend": true,
         "textposition": "auto",
         "type": "bar",
         "x": {
          "bdata": "oLsNAEBUiQCguw0AgE8SAA==",
          "dtype": "i4"
         },
         "xaxis": "x",
         "y": [
          "dep_1",
          "dep_2",
          "dep_3",
          "dep_4"
         ],
         "yaxis": "y"
        },
        {
         "base": [
          "2022-08-09T03:37:00.000000000",
          "2022-08-09T03:52:00.000000000",
          "2022-08-09T06:22:00.000000000",
          "2022-08-09T15:52:00.000000000"
         ],
         "hovertemplate": "Train=52672_09<br>Start=%{base}<br>Finish=%{x}<br>Tâches=%{y}<extra></extra>",
         "legendgroup": "52672_09",
         "marker": {
          "color": "#FFA15A",
          "pattern": {
           "shape": ""
          }
         },
         "name": "52672_09",
         "orientation": "h",
         "showlegend": true,
         "textposition": "auto",
         "type": "bar",
         "x": {
          "bdata": "oLsNAEBUiQCguw0AgE8SAA==",
          "dtype": "i4"
         },
         "xaxis": "x",
         "y": [
          "dep_1",
          "dep_2",
          "dep_3",
          "dep_4"
         ],
         "yaxis": "y"
        },
        {
         "base": [
          "2022-08-08T22:43:00.000000000",
          "2022-08-08T23:28:00.000000000",
          "2022-08-09T01:58:00.000000000",
          "2022-08-09T03:39:00.000000000"
         ],
         "hovertemplate": "Train=54003_09<br>Start=%{base}<br>Finish=%{x}<br>Tâches=%{y}<extra></extra>",
         "legendgroup": "54003_09",
         "marker": {
          "color": "#19d3f3",
          "pattern": {
           "shape": ""
          }
         },
         "name": "54003_09",
         "orientation": "h",
         "showlegend": true,
         "textposition": "auto",
         "type": "bar",
         "x": {
          "bdata": "oLsNAEBUiQCguw0AgE8SAA==",
          "dtype": "i4"
         },
         "xaxis": "x",
         "y": [
          "dep_1",
          "dep_2",
          "dep_3",
          "dep_4"
         ],
         "yaxis": "y"
        },
        {
         "base": [
          "2022-08-08T14:00:00.000000000",
          "2022-08-08T14:15:00.000000000",
          "2022-08-08T16:45:00.000000000",
          "2022-08-09T05:14:00.000000000"
         ],
         "hovertemplate": "Train=54051_09<br>Start=%{base}<br>Finish=%{x}<br>Tâches=%{y}<extra></extra>",
         "legendgroup": "54051_09",
         "marker": {
          "color": "#FF6692",
          "pattern": {
           "shape": ""
          }
         },
         "name": "54051_09",
         "orientation": "h",
         "showlegend": true,
         "textposition": "auto",
         "type": "bar",
         "x": {
          "bdata": "oLsNAEBUiQCguw0AgE8SAA==",
          "dtype": "i4"
         },
         "xaxis": "x",
         "y": [
          "dep_1",
          "dep_2",
          "dep_3",
          "dep_4"
         ],
         "yaxis": "y"
        },
        {
         "base": [
          "2022-08-08T13:45:00.000000000",
          "2022-08-08T14:00:00.000000000",
          "2022-08-08T16:30:00.000000000",
          "2022-08-09T03:30:00.000000000"
         ],
         "hovertemplate": "Train=54086_09<br>Start=%{base}<br>Finish=%{x}<br>Tâches=%{y}<extra></extra>",
         "legendgroup": "54086_09",
         "marker": {
          "color": "#B6E880",
          "pattern": {
           "shape": ""
          }
         },
         "name": "54086_09",
         "orientation": "h",
         "showlegend": true,
         "textposition": "auto",
         "type": "bar",
         "x": {
          "bdata": "oLsNAEBUiQCguw0AgE8SAA==",
          "dtype": "i4"
         },
         "xaxis": "x",
         "y": [
          "dep_1",
          "dep_2",
          "dep_3",
          "dep_4"
         ],
         "yaxis": "y"
        },
        {
         "base": [
          "2022-08-09T05:30:00.000000000",
          "2022-08-09T05:45:00.000000000",
          "2022-08-09T08:15:00.000000000",
          "2022-08-09T13:49:00.000000000"
         ],
         "hovertemplate": "Train=54231_09<br>Start=%{base}<br>Finish=%{x}<br>Tâches=%{y}<extra></extra>",
         "legendgroup": "54231_09",
         "marker": {
          "color": "#FF97FF",
          "pattern": {
           "shape": ""
          }
         },
         "name": "54231_09",
         "orientation": "h",
         "showlegend": true,
         "textposition": "auto",
         "type": "bar",
         "x": {
          "bdata": "oLsNAEBUiQCguw0AgE8SAA==",
          "dtype": "i4"
         },
         "xaxis": "x",
         "y": [
          "dep_1",
          "dep_2",
          "dep_3",
          "dep_4"
         ],
         "yaxis": "y"
        },
        {
         "base": [
          "2022-08-09T23:16:00.000000000",
          "2022-08-10T00:16:00.000000000",
          "2022-08-10T02:46:00.000000000",
          "2022-08-10T07:00:00.000000000"
         ],
         "hovertemplate": "Train=450226_10<br>Start=%{base}<br>Finish=%{x}<br>Tâches=%{y}<extra></extra>",
         "legendgroup": "450226_10",
         "marker": {
          "color": "#FECB52",
          "pattern": {
           "shape": ""
          }
         },
         "name": "450226_10",
         "orientation": "h",
         "showlegend": true,
         "textposition": "auto",
         "type": "bar",
         "x": {
          "bdata": "oLsNAEBUiQCguw0AgE8SAA==",
          "dtype": "i4"
         },
         "xaxis": "x",
         "y": [
          "dep_1",
          "dep_2",
          "dep_3",
          "dep_4"
         ],
         "yaxis": "y"
        },
        {
         "base": [
          "2022-08-09T23:46:00.000000000",
          "2022-08-10T00:01:00.000000000",
          "2022-08-10T02:31:00.000000000",
          "2022-08-10T19:27:00.000000000"
         ],
         "hovertemplate": "Train=400014_10<br>Start=%{base}<br>Finish=%{x}<br>Tâches=%{y}<extra></extra>",
         "legendgroup": "400014_10",
         "marker": {
          "color": "#636efa",
          "pattern": {
           "shape": ""
          }
         },
         "name": "400014_10",
         "orientation": "h",
         "showlegend": true,
         "textposition": "auto",
         "type": "bar",
         "x": {
          "bdata": "oLsNAEBUiQCguw0AgE8SAA==",
          "dtype": "i4"
         },
         "xaxis": "x",
         "y": [
          "dep_1",
          "dep_2",
          "dep_3",
          "dep_4"
         ],
         "yaxis": "y"
        },
        {
         "base": [
          "2022-08-09T04:22:00.000000000",
          "2022-08-09T04:37:00.000000000",
          "2022-08-09T07:07:00.000000000",
          "2022-08-10T02:53:00.000000000"
         ],
         "hovertemplate": "Train=412124_10<br>Start=%{base}<br>Finish=%{x}<br>Tâches=%{y}<extra></extra>",
         "legendgroup": "412124_10",
         "marker": {
          "color": "#EF553B",
          "pattern": {
           "shape": ""
          }
         },
         "name": "412124_10",
         "orientation": "h",
         "showlegend": true,
         "textposition": "auto",
         "type": "bar",
         "x": {
          "bdata": "oLsNAEBUiQCguw0AgE8SAA==",
          "dtype": "i4"
         },
         "xaxis": "x",
         "y": [
          "dep_1",
          "dep_2",
          "dep_3",
          "dep_4"
         ],
         "yaxis": "y"
        },
        {
         "base": [
          "2022-08-09T03:22:00.000000000",
          "2022-08-09T03:37:00.000000000",
          "2022-08-09T06:07:00.000000000",
          "2022-08-10T02:23:00.000000000"
         ],
         "hovertemplate": "Train=41258_10<br>Start=%{base}<br>Finish=%{x}<br>Tâches=%{y}<extra></extra>",
         "legendgroup": "41258_10",
         "marker": {
          "color": "#00cc96",
          "pattern": {
           "shape": ""
          }
         },
         "name": "41258_10",
         "orientation": "h",
         "showlegend": true,
         "textposition": "auto",
         "type": "bar",
         "x": {
          "bdata": "oLsNAEBUiQCguw0AgE8SAA==",
          "dtype": "i4"
         },
         "xaxis": "x",
         "y": [
          "dep_1",
          "dep_2",
          "dep_3",
          "dep_4"
         ],
         "yaxis": "y"
        },
        {
         "base": [
          "2022-08-10T04:07:00.000000000",
          "2022-08-10T04:22:00.000000000",
          "2022-08-10T06:52:00.000000000",
          "2022-08-10T14:43:00.000000000"
         ],
         "hovertemplate": "Train=431035_10<br>Start=%{base}<br>Finish=%{x}<br>Tâches=%{y}<extra></extra>",
         "legendgroup": "431035_10",
         "marker": {
          "color": "#ab63fa",
          "pattern": {
           "shape": ""
          }
         },
         "name": "431035_10",
         "orientation": "h",
         "showlegend": true,
         "textposition": "auto",
         "type": "bar",
         "x": {
          "bdata": "oLsNAEBUiQCguw0AgE8SAA==",
          "dtype": "i4"
         },
         "xaxis": "x",
         "y": [
          "dep_1",
          "dep_2",
          "dep_3",
          "dep_4"
         ],
         "yaxis": "y"
        },
        {
         "base": [
          "2022-08-10T01:04:00.000000000",
          "2022-08-10T01:33:00.000000000",
          "2022-08-10T04:03:00.000000000",
          "2022-08-10T05:59:00.000000000"
         ],
         "hovertemplate": "Train=431091_10<br>Start=%{base}<br>Finish=%{x}<br>Tâches=%{y}<extra></extra>",
         "legendgroup": "431091_10",
         "marker": {
          "color": "#FFA15A",
          "pattern": {
           "shape": ""
          }
         },
         "name": "431091_10",
         "orientation": "h",
         "showlegend": true,
         "textposition": "auto",
         "type": "bar",
         "x": {
          "bdata": "oLsNAEBUiQCguw0AgE8SAA==",
          "dtype": "i4"
         },
         "xaxis": "x",
         "y": [
          "dep_1",
          "dep_2",
          "dep_3",
          "dep_4"
         ],
         "yaxis": "y"
        },
        {
         "base": [
          "2022-08-10T00:16:00.000000000",
          "2022-08-10T00:48:00.000000000",
          "2022-08-10T03:18:00.000000000",
          "2022-08-10T17:35:00.000000000"
         ],
         "hovertemplate": "Train=44203_10<br>Start=%{base}<br>Finish=%{x}<br>Tâches=%{y}<extra></extra>",
         "legendgroup": "44203_10",
         "marker": {
          "color": "#19d3f3",
          "pattern": {
           "shape": ""
          }
         },
         "name": "44203_10",
         "orientation": "h",
         "showlegend": true,
         "textposition": "auto",
         "type": "bar",
         "x": {
          "bdata": "oLsNAEBUiQCguw0AgE8SAA==",
          "dtype": "i4"
         },
         "xaxis": "x",
         "y": [
          "dep_1",
          "dep_2",
          "dep_3",
          "dep_4"
         ],
         "yaxis": "y"
        },
        {
         "base": [
          "2022-08-09T23:31:00.000000000",
          "2022-08-09T23:46:00.000000000",
          "2022-08-10T02:16:00.000000000",
          "2022-08-10T13:02:00.000000000"
         ],
         "hovertemplate": "Train=44241_10<br>Start=%{base}<br>Finish=%{x}<br>Tâches=%{y}<extra></extra>",
         "legendgroup": "44241_10",
         "marker": {
          "color": "#FF6692",
          "pattern": {
           "shape": ""
          }
         },
         "name": "44241_10",
         "orientation": "h",
         "showlegend": true,
         "textposition": "auto",
         "type": "bar",
         "x": {
          "bdata": "oLsNAEBUiQCguw0AgE8SAA==",
          "dtype": "i4"
         },
         "xaxis": "x",
         "y": [
          "dep_1",
          "dep_2",
          "dep_3",
          "dep_4"
         ],
         "yaxis": "y"
        },
        {
         "base": [
          "2022-08-09T13:58:00.000000000",
          "2022-08-09T14:13:00.000000000",
          "2022-08-09T16:43:00.000000000",
          "2022-08-10T02:47:00.000000000"
         ],
         "hovertemplate": "Train=44249_10<br>Start=%{base}<br>Finish=%{x}<br>Tâches=%{y}<extra></extra>",
         "legendgroup": "44249_10",
         "marker": {
          "color": "#B6E880",
          "pattern": {
           "shape": ""
          }
         },
         "name": "44249_10",
         "orientation": "h",
         "showlegend": true,
         "textposition": "auto",
         "type": "bar",
         "x": {
          "bdata": "oLsNAEBUiQCguw0AgE8SAA==",
          "dtype": "i4"
         },
         "xaxis": "x",
         "y": [
          "dep_1",
          "dep_2",
          "dep_3",
          "dep_4"
         ],
         "yaxis": "y"
        },
        {
         "base": [
          "2022-08-10T09:00:00.000000000",
          "2022-08-10T09:15:00.000000000",
          "2022-08-10T11:45:00.000000000",
          "2022-08-10T13:48:00.000000000"
         ],
         "hovertemplate": "Train=47205_10<br>Start=%{base}<br>Finish=%{x}<br>Tâches=%{y}<extra></extra>",
         "legendgroup": "47205_10",
         "marker": {
          "color": "#FF97FF",
          "pattern": {
           "shape": ""
          }
         },
         "name": "47205_10",
         "orientation": "h",
         "showlegend": true,
         "textposition": "auto",
         "type": "bar",
         "x": {
          "bdata": "oLsNAEBUiQCguw0AgE8SAA==",
          "dtype": "i4"
         },
         "xaxis": "x",
         "y": [
          "dep_1",
          "dep_2",
          "dep_3",
          "dep_4"
         ],
         "yaxis": "y"
        },
        {
         "base": [
          "2022-08-09T22:43:00.000000000",
          "2022-08-10T00:33:00.000000000",
          "2022-08-10T03:03:00.000000000",
          "2022-08-10T15:47:00.000000000"
         ],
         "hovertemplate": "Train=48215_10<br>Start=%{base}<br>Finish=%{x}<br>Tâches=%{y}<extra></extra>",
         "legendgroup": "48215_10",
         "marker": {
          "color": "#FECB52",
          "pattern": {
           "shape": ""
          }
         },
         "name": "48215_10",
         "orientation": "h",
         "showlegend": true,
         "textposition": "auto",
         "type": "bar",
         "x": {
          "bdata": "oLsNAEBUiQCguw0AgE8SAA==",
          "dtype": "i4"
         },
         "xaxis": "x",
         "y": [
          "dep_1",
          "dep_2",
          "dep_3",
          "dep_4"
         ],
         "yaxis": "y"
        },
        {
         "base": [
          "2022-08-09T13:02:00.000000000",
          "2022-08-09T13:17:00.000000000",
          "2022-08-09T15:47:00.000000000",
          "2022-08-10T01:50:00.000000000"
         ],
         "hovertemplate": "Train=489044_10<br>Start=%{base}<br>Finish=%{x}<br>Tâches=%{y}<extra></extra>",
         "legendgroup": "489044_10",
         "marker": {
          "color": "#636efa",
          "pattern": {
           "shape": ""
          }
         },
         "name": "489044_10",
         "orientation": "h",
         "showlegend": true,
         "textposition": "auto",
         "type": "bar",
         "x": {
          "bdata": "oLsNAEBUiQCguw0AgE8SAA==",
          "dtype": "i4"
         },
         "xaxis": "x",
         "y": [
          "dep_1",
          "dep_2",
          "dep_3",
          "dep_4"
         ],
         "yaxis": "y"
        },
        {
         "base": [
          "2022-08-10T03:37:00.000000000",
          "2022-08-10T03:52:00.000000000",
          "2022-08-10T06:22:00.000000000",
          "2022-08-10T15:52:00.000000000"
         ],
         "hovertemplate": "Train=52672_10<br>Start=%{base}<br>Finish=%{x}<br>Tâches=%{y}<extra></extra>",
         "legendgroup": "52672_10",
         "marker": {
          "color": "#EF553B",
          "pattern": {
           "shape": ""
          }
         },
         "name": "52672_10",
         "orientation": "h",
         "showlegend": true,
         "textposition": "auto",
         "type": "bar",
         "x": {
          "bdata": "oLsNAEBUiQCguw0AgE8SAA==",
          "dtype": "i4"
         },
         "xaxis": "x",
         "y": [
          "dep_1",
          "dep_2",
          "dep_3",
          "dep_4"
         ],
         "yaxis": "y"
        },
        {
         "base": [
          "2022-08-09T17:31:00.000000000",
          "2022-08-09T17:46:00.000000000",
          "2022-08-09T20:16:00.000000000",
          "2022-08-10T03:39:00.000000000"
         ],
         "hovertemplate": "Train=54003_10<br>Start=%{base}<br>Finish=%{x}<br>Tâches=%{y}<extra></extra>",
         "legendgroup": "54003_10",
         "marker": {
          "color": "#00cc96",
          "pattern": {
           "shape": ""
          }
         },
         "name": "54003_10",
         "orientation": "h",
         "showlegend": true,
         "textposition": "auto",
         "type": "bar",
         "x": {
          "bdata": "oLsNAEBUiQCguw0AgE8SAA==",
          "dtype": "i4"
         },
         "xaxis": "x",
         "y": [
          "dep_1",
          "dep_2",
          "dep_3",
          "dep_4"
         ],
         "yaxis": "y"
        },
        {
         "base": [
          "2022-08-10T00:31:00.000000000",
          "2022-08-10T01:03:00.000000000",
          "2022-08-10T03:33:00.000000000",
          "2022-08-10T15:18:00.000000000"
         ],
         "hovertemplate": "Train=54053_10<br>Start=%{base}<br>Finish=%{x}<br>Tâches=%{y}<extra></extra>",
         "legendgroup": "54053_10",
         "marker": {
          "color": "#ab63fa",
          "pattern": {
           "shape": ""
          }
         },
         "name": "54053_10",
         "orientation": "h",
         "showlegend": true,
         "textposition": "auto",
         "type": "bar",
         "x": {
          "bdata": "oLsNAEBUiQCguw0AgE8SAA==",
          "dtype": "i4"
         },
         "xaxis": "x",
         "y": [
          "dep_1",
          "dep_2",
          "dep_3",
          "dep_4"
         ],
         "yaxis": "y"
        },
        {
         "base": [
          "2022-08-10T03:22:00.000000000",
          "2022-08-10T03:37:00.000000000",
          "2022-08-10T06:07:00.000000000",
          "2022-08-10T13:49:00.000000000"
         ],
         "hovertemplate": "Train=54231_10<br>Start=%{base}<br>Finish=%{x}<br>Tâches=%{y}<extra></extra>",
         "legendgroup": "54231_10",
         "marker": {
          "color": "#FFA15A",
          "pattern": {
           "shape": ""
          }
         },
         "name": "54231_10",
         "orientation": "h",
         "showlegend": true,
         "textposition": "auto",
         "type": "bar",
         "x": {
          "bdata": "oLsNAEBUiQCguw0AgE8SAA==",
          "dtype": "i4"
         },
         "xaxis": "x",
         "y": [
          "dep_1",
          "dep_2",
          "dep_3",
          "dep_4"
         ],
         "yaxis": "y"
        },
        {
         "base": [
          "2022-08-10T00:01:00.000000000",
          "2022-08-10T01:18:00.000000000",
          "2022-08-10T03:48:00.000000000",
          "2022-08-10T04:40:00.000000000"
         ],
         "hovertemplate": "Train=71210_10<br>Start=%{base}<br>Finish=%{x}<br>Tâches=%{y}<extra></extra>",
         "legendgroup": "71210_10",
         "marker": {
          "color": "#19d3f3",
          "pattern": {
           "shape": ""
          }
         },
         "name": "71210_10",
         "orientation": "h",
         "showlegend": true,
         "textposition": "auto",
         "type": "bar",
         "x": {
          "bdata": "oLsNAEBUiQCguw0AgE8SAA==",
          "dtype": "i4"
         },
         "xaxis": "x",
         "y": [
          "dep_1",
          "dep_2",
          "dep_3",
          "dep_4"
         ],
         "yaxis": "y"
        },
        {
         "base": [
          "2022-08-10T23:16:00.000000000",
          "2022-08-10T23:46:00.000000000",
          "2022-08-11T02:16:00.000000000",
          "2022-08-11T15:26:00.000000000"
         ],
         "hovertemplate": "Train=400006_11<br>Start=%{base}<br>Finish=%{x}<br>Tâches=%{y}<extra></extra>",
         "legendgroup": "400006_11",
         "marker": {
          "color": "#FF6692",
          "pattern": {
           "shape": ""
          }
         },
         "name": "400006_11",
         "orientation": "h",
         "showlegend": true,
         "textposition": "auto",
         "type": "bar",
         "x": {
          "bdata": "oLsNAEBUiQCguw0AgE8SAA==",
          "dtype": "i4"
         },
         "xaxis": "x",
         "y": [
          "dep_1",
          "dep_2",
          "dep_3",
          "dep_4"
         ],
         "yaxis": "y"
        },
        {
         "base": [
          "2022-08-10T23:31:00.000000000",
          "2022-08-11T00:31:00.000000000",
          "2022-08-11T03:01:00.000000000",
          "2022-08-11T23:26:00.000000000"
         ],
         "hovertemplate": "Train=400010_11<br>Start=%{base}<br>Finish=%{x}<br>Tâches=%{y}<extra></extra>",
         "legendgroup": "400010_11",
         "marker": {
          "color": "#B6E880",
          "pattern": {
           "shape": ""
          }
         },
         "name": "400010_11",
         "orientation": "h",
         "showlegend": true,
         "textposition": "auto",
         "type": "bar",
         "x": {
          "bdata": "oLsNAEBUiQCguw0AgE8SAA==",
          "dtype": "i4"
         },
         "xaxis": "x",
         "y": [
          "dep_1",
          "dep_2",
          "dep_3",
          "dep_4"
         ],
         "yaxis": "y"
        },
        {
         "base": [
          "2022-08-11T03:47:00.000000000",
          "2022-08-11T04:02:00.000000000",
          "2022-08-11T06:32:00.000000000",
          "2022-08-11T22:26:00.000000000"
         ],
         "hovertemplate": "Train=400016_11<br>Start=%{base}<br>Finish=%{x}<br>Tâches=%{y}<extra></extra>",
         "legendgroup": "400016_11",
         "marker": {
          "color": "#FF97FF",
          "pattern": {
           "shape": ""
          }
         },
         "name": "400016_11",
         "orientation": "h",
         "showlegend": true,
         "textposition": "auto",
         "type": "bar",
         "x": {
          "bdata": "oLsNAEBUiQCguw0AgE8SAA==",
          "dtype": "i4"
         },
         "xaxis": "x",
         "y": [
          "dep_1",
          "dep_2",
          "dep_3",
          "dep_4"
         ],
         "yaxis": "y"
        },
        {
         "base": [
          "2022-08-11T04:17:00.000000000",
          "2022-08-11T04:32:00.000000000",
          "2022-08-11T07:02:00.000000000",
          "2022-08-11T14:42:00.000000000"
         ],
         "hovertemplate": "Train=431035_11<br>Start=%{base}<br>Finish=%{x}<br>Tâches=%{y}<extra></extra>",
         "legendgroup": "431035_11",
         "marker": {
          "color": "#FECB52",
          "pattern": {
           "shape": ""
          }
         },
         "name": "431035_11",
         "orientation": "h",
         "showlegend": true,
         "textposition": "auto",
         "type": "bar",
         "x": {
          "bdata": "oLsNAEBUiQCguw0AgE8SAA==",
          "dtype": "i4"
         },
         "xaxis": "x",
         "y": [
          "dep_1",
          "dep_2",
          "dep_3",
          "dep_4"
         ],
         "yaxis": "y"
        },
        {
         "base": [
          "2022-08-10T22:30:00.000000000",
          "2022-08-10T22:45:00.000000000",
          "2022-08-11T01:15:00.000000000",
          "2022-08-11T17:35:00.000000000"
         ],
         "hovertemplate": "Train=44203_11<br>Start=%{base}<br>Finish=%{x}<br>Tâches=%{y}<extra></extra>",
         "legendgroup": "44203_11",
         "marker": {
          "color": "#636efa",
          "pattern": {
           "shape": ""
          }
         },
         "name": "44203_11",
         "orientation": "h",
         "showlegend": true,
         "textposition": "auto",
         "type": "bar",
         "x": {
          "bdata": "oLsNAEBUiQCguw0AgE8SAA==",
          "dtype": "i4"
         },
         "xaxis": "x",
         "y": [
          "dep_1",
          "dep_2",
          "dep_3",
          "dep_4"
         ],
         "yaxis": "y"
        },
        {
         "base": [
          "2022-08-10T23:00:00.000000000",
          "2022-08-10T23:15:00.000000000",
          "2022-08-11T01:45:00.000000000",
          "2022-08-11T13:02:00.000000000"
         ],
         "hovertemplate": "Train=44241_11<br>Start=%{base}<br>Finish=%{x}<br>Tâches=%{y}<extra></extra>",
         "legendgroup": "44241_11",
         "marker": {
          "color": "#EF553B",
          "pattern": {
           "shape": ""
          }
         },
         "name": "44241_11",
         "orientation": "h",
         "showlegend": true,
         "textposition": "auto",
         "type": "bar",
         "x": {
          "bdata": "oLsNAEBUiQCguw0AgE8SAA==",
          "dtype": "i4"
         },
         "xaxis": "x",
         "y": [
          "dep_1",
          "dep_2",
          "dep_3",
          "dep_4"
         ],
         "yaxis": "y"
        },
        {
         "base": [
          "2022-08-11T00:01:00.000000000",
          "2022-08-11T00:16:00.000000000",
          "2022-08-11T02:46:00.000000000",
          "2022-08-11T04:58:00.000000000"
         ],
         "hovertemplate": "Train=44806_11<br>Start=%{base}<br>Finish=%{x}<br>Tâches=%{y}<extra></extra>",
         "legendgroup": "44806_11",
         "marker": {
          "color": "#00cc96",
          "pattern": {
           "shape": ""
          }
         },
         "name": "44806_11",
         "orientation": "h",
         "showlegend": true,
         "textposition": "auto",
         "type": "bar",
         "x": {
          "bdata": "oLsNAEBUiQCguw0AgE8SAA==",
          "dtype": "i4"
         },
         "xaxis": "x",
         "y": [
          "dep_1",
          "dep_2",
          "dep_3",
          "dep_4"
         ],
         "yaxis": "y"
        },
        {
         "base": [
          "2022-08-10T03:52:00.000000000",
          "2022-08-10T04:37:00.000000000",
          "2022-08-10T07:07:00.000000000",
          "2022-08-11T07:00:00.000000000"
         ],
         "hovertemplate": "Train=450226_11<br>Start=%{base}<br>Finish=%{x}<br>Tâches=%{y}<extra></extra>",
         "legendgroup": "450226_11",
         "marker": {
          "color": "#ab63fa",
          "pattern": {
           "shape": ""
          }
         },
         "name": "450226_11",
         "orientation": "h",
         "showlegend": true,
         "textposition": "auto",
         "type": "bar",
         "x": {
          "bdata": "oLsNAEBUiQCguw0AgE8SAA==",
          "dtype": "i4"
         },
         "xaxis": "x",
         "y": [
          "dep_1",
          "dep_2",
          "dep_3",
          "dep_4"
         ],
         "yaxis": "y"
        },
        {
         "base": [
          "2022-08-10T22:45:00.000000000",
          "2022-08-10T23:31:00.000000000",
          "2022-08-11T02:01:00.000000000",
          "2022-08-11T14:23:00.000000000"
         ],
         "hovertemplate": "Train=47245_11<br>Start=%{base}<br>Finish=%{x}<br>Tâches=%{y}<extra></extra>",
         "legendgroup": "47245_11",
         "marker": {
          "color": "#FFA15A",
          "pattern": {
           "shape": ""
          }
         },
         "name": "47245_11",
         "orientation": "h",
         "showlegend": true,
         "textposition": "auto",
         "type": "bar",
         "x": {
          "bdata": "oLsNAEBUiQCguw0AgE8SAA==",
          "dtype": "i4"
         },
         "xaxis": "x",
         "y": [
          "dep_1",
          "dep_2",
          "dep_3",
          "dep_4"
         ],
         "yaxis": "y"
        },
        {
         "base": [
          "2022-08-10T23:46:00.000000000",
          "2022-08-11T00:01:00.000000000",
          "2022-08-11T02:31:00.000000000",
          "2022-08-11T10:40:00.000000000"
         ],
         "hovertemplate": "Train=47247_11<br>Start=%{base}<br>Finish=%{x}<br>Tâches=%{y}<extra></extra>",
         "legendgroup": "47247_11",
         "marker": {
          "color": "#19d3f3",
          "pattern": {
           "shape": ""
          }
         },
         "name": "47247_11",
         "orientation": "h",
         "showlegend": true,
         "textposition": "auto",
         "type": "bar",
         "x": {
          "bdata": "oLsNAEBUiQCguw0AgE8SAA==",
          "dtype": "i4"
         },
         "xaxis": "x",
         "y": [
          "dep_1",
          "dep_2",
          "dep_3",
          "dep_4"
         ],
         "yaxis": "y"
        },
        {
         "base": [
          "2022-08-11T01:04:00.000000000",
          "2022-08-11T01:19:00.000000000",
          "2022-08-11T03:49:00.000000000",
          "2022-08-11T22:05:00.000000000"
         ],
         "hovertemplate": "Train=47820_11<br>Start=%{base}<br>Finish=%{x}<br>Tâches=%{y}<extra></extra>",
         "legendgroup": "47820_11",
         "marker": {
          "color": "#FF6692",
          "pattern": {
           "shape": ""
          }
         },
         "name": "47820_11",
         "orientation": "h",
         "showlegend": true,
         "textposition": "auto",
         "type": "bar",
         "x": {
          "bdata": "oLsNAEBUiQCguw0AgE8SAA==",
          "dtype": "i4"
         },
         "xaxis": "x",
         "y": [
          "dep_1",
          "dep_2",
          "dep_3",
          "dep_4"
         ],
         "yaxis": "y"
        },
        {
         "base": [
          "2022-08-11T05:00:00.000000000",
          "2022-08-11T05:15:00.000000000",
          "2022-08-11T07:45:00.000000000",
          "2022-08-11T14:50:00.000000000"
         ],
         "hovertemplate": "Train=489118_11<br>Start=%{base}<br>Finish=%{x}<br>Tâches=%{y}<extra></extra>",
         "legendgroup": "489118_11",
         "marker": {
          "color": "#B6E880",
          "pattern": {
           "shape": ""
          }
         },
         "name": "489118_11",
         "orientation": "h",
         "showlegend": true,
         "textposition": "auto",
         "type": "bar",
         "x": {
          "bdata": "oLsNAEBUiQCguw0AgE8SAA==",
          "dtype": "i4"
         },
         "xaxis": "x",
         "y": [
          "dep_1",
          "dep_2",
          "dep_3",
          "dep_4"
         ],
         "yaxis": "y"
        },
        {
         "base": [
          "2022-08-11T03:22:00.000000000",
          "2022-08-11T03:37:00.000000000",
          "2022-08-11T06:07:00.000000000",
          "2022-08-11T15:52:00.000000000"
         ],
         "hovertemplate": "Train=52672_11<br>Start=%{base}<br>Finish=%{x}<br>Tâches=%{y}<extra></extra>",
         "legendgroup": "52672_11",
         "marker": {
          "color": "#FF97FF",
          "pattern": {
           "shape": ""
          }
         },
         "name": "52672_11",
         "orientation": "h",
         "showlegend": true,
         "textposition": "auto",
         "type": "bar",
         "x": {
          "bdata": "oLsNAEBUiQCguw0AgE8SAA==",
          "dtype": "i4"
         },
         "xaxis": "x",
         "y": [
          "dep_1",
          "dep_2",
          "dep_3",
          "dep_4"
         ],
         "yaxis": "y"
        },
        {
         "base": [
          "2022-08-10T22:03:00.000000000",
          "2022-08-10T22:18:00.000000000",
          "2022-08-11T00:48:00.000000000",
          "2022-08-11T03:39:00.000000000"
         ],
         "hovertemplate": "Train=54003_11<br>Start=%{base}<br>Finish=%{x}<br>Tâches=%{y}<extra></extra>",
         "legendgroup": "54003_11",
         "marker": {
          "color": "#FECB52",
          "pattern": {
           "shape": ""
          }
         },
         "name": "54003_11",
         "orientation": "h",
         "showlegend": true,
         "textposition": "auto",
         "type": "bar",
         "x": {
          "bdata": "oLsNAEBUiQCguw0AgE8SAA==",
          "dtype": "i4"
         },
         "xaxis": "x",
         "y": [
          "dep_1",
          "dep_2",
          "dep_3",
          "dep_4"
         ],
         "yaxis": "y"
        },
        {
         "base": [
          "2022-08-11T00:16:00.000000000",
          "2022-08-11T00:46:00.000000000",
          "2022-08-11T03:16:00.000000000",
          "2022-08-11T05:14:00.000000000"
         ],
         "hovertemplate": "Train=54051_11<br>Start=%{base}<br>Finish=%{x}<br>Tâches=%{y}<extra></extra>",
         "legendgroup": "54051_11",
         "marker": {
          "color": "#636efa",
          "pattern": {
           "shape": ""
          }
         },
         "name": "54051_11",
         "orientation": "h",
         "showlegend": true,
         "textposition": "auto",
         "type": "bar",
         "x": {
          "bdata": "oLsNAEBUiQCguw0AgE8SAA==",
          "dtype": "i4"
         },
         "xaxis": "x",
         "y": [
          "dep_1",
          "dep_2",
          "dep_3",
          "dep_4"
         ],
         "yaxis": "y"
        },
        {
         "base": [
          "2022-08-10T13:02:00.000000000",
          "2022-08-10T13:17:00.000000000",
          "2022-08-10T15:47:00.000000000",
          "2022-08-11T03:30:00.000000000"
         ],
         "hovertemplate": "Train=54086_11<br>Start=%{base}<br>Finish=%{x}<br>Tâches=%{y}<extra></extra>",
         "legendgroup": "54086_11",
         "marker": {
          "color": "#EF553B",
          "pattern": {
           "shape": ""
          }
         },
         "name": "54086_11",
         "orientation": "h",
         "showlegend": true,
         "textposition": "auto",
         "type": "bar",
         "x": {
          "bdata": "oLsNAEBUiQCguw0AgE8SAA==",
          "dtype": "i4"
         },
         "xaxis": "x",
         "y": [
          "dep_1",
          "dep_2",
          "dep_3",
          "dep_4"
         ],
         "yaxis": "y"
        },
        {
         "base": [
          "2022-08-11T05:15:00.000000000",
          "2022-08-11T05:30:00.000000000",
          "2022-08-11T08:00:00.000000000",
          "2022-08-11T13:49:00.000000000"
         ],
         "hovertemplate": "Train=54231_11<br>Start=%{base}<br>Finish=%{x}<br>Tâches=%{y}<extra></extra>",
         "legendgroup": "54231_11",
         "marker": {
          "color": "#00cc96",
          "pattern": {
           "shape": ""
          }
         },
         "name": "54231_11",
         "orientation": "h",
         "showlegend": true,
         "textposition": "auto",
         "type": "bar",
         "x": {
          "bdata": "oLsNAEBUiQCguw0AgE8SAA==",
          "dtype": "i4"
         },
         "xaxis": "x",
         "y": [
          "dep_1",
          "dep_2",
          "dep_3",
          "dep_4"
         ],
         "yaxis": "y"
        },
        {
         "base": [
          "2022-08-10T12:19:00.000000000",
          "2022-08-10T12:34:00.000000000",
          "2022-08-10T15:04:00.000000000",
          "2022-08-11T02:06:00.000000000"
         ],
         "hovertemplate": "Train=71256_11<br>Start=%{base}<br>Finish=%{x}<br>Tâches=%{y}<extra></extra>",
         "legendgroup": "71256_11",
         "marker": {
          "color": "#ab63fa",
          "pattern": {
           "shape": ""
          }
         },
         "name": "71256_11",
         "orientation": "h",
         "showlegend": true,
         "textposition": "auto",
         "type": "bar",
         "x": {
          "bdata": "oLsNAEBUiQCguw0AgE8SAA==",
          "dtype": "i4"
         },
         "xaxis": "x",
         "y": [
          "dep_1",
          "dep_2",
          "dep_3",
          "dep_4"
         ],
         "yaxis": "y"
        },
        {
         "base": [
          "2022-08-12T12:48:00.000000000",
          "2022-08-12T13:03:00.000000000",
          "2022-08-12T15:33:00.000000000",
          "2022-08-12T23:26:00.000000000"
         ],
         "hovertemplate": "Train=400010_12<br>Start=%{base}<br>Finish=%{x}<br>Tâches=%{y}<extra></extra>",
         "legendgroup": "400010_12",
         "marker": {
          "color": "#FFA15A",
          "pattern": {
           "shape": ""
          }
         },
         "name": "400010_12",
         "orientation": "h",
         "showlegend": true,
         "textposition": "auto",
         "type": "bar",
         "x": {
          "bdata": "oLsNAEBUiQCguw0AgE8SAA==",
          "dtype": "i4"
         },
         "xaxis": "x",
         "y": [
          "dep_1",
          "dep_2",
          "dep_3",
          "dep_4"
         ],
         "yaxis": "y"
        },
        {
         "base": [
          "2022-08-12T13:33:00.000000000",
          "2022-08-12T13:48:00.000000000",
          "2022-08-12T16:18:00.000000000",
          "2022-08-12T22:26:00.000000000"
         ],
         "hovertemplate": "Train=400016_12<br>Start=%{base}<br>Finish=%{x}<br>Tâches=%{y}<extra></extra>",
         "legendgroup": "400016_12",
         "marker": {
          "color": "#19d3f3",
          "pattern": {
           "shape": ""
          }
         },
         "name": "400016_12",
         "orientation": "h",
         "showlegend": true,
         "textposition": "auto",
         "type": "bar",
         "x": {
          "bdata": "oLsNAEBUiQCguw0AgE8SAA==",
          "dtype": "i4"
         },
         "xaxis": "x",
         "y": [
          "dep_1",
          "dep_2",
          "dep_3",
          "dep_4"
         ],
         "yaxis": "y"
        },
        {
         "base": [
          "2022-08-11T04:02:00.000000000",
          "2022-08-11T04:17:00.000000000",
          "2022-08-11T06:47:00.000000000",
          "2022-08-12T04:06:00.000000000"
         ],
         "hovertemplate": "Train=412024_12<br>Start=%{base}<br>Finish=%{x}<br>Tâches=%{y}<extra></extra>",
         "legendgroup": "412024_12",
         "marker": {
          "color": "#FF6692",
          "pattern": {
           "shape": ""
          }
         },
         "name": "412024_12",
         "orientation": "h",
         "showlegend": true,
         "textposition": "auto",
         "type": "bar",
         "x": {
          "bdata": "oLsNAEBUiQCguw0AgE8SAA==",
          "dtype": "i4"
         },
         "xaxis": "x",
         "y": [
          "dep_1",
          "dep_2",
          "dep_3",
          "dep_4"
         ],
         "yaxis": "y"
        },
        {
         "base": [
          "2022-08-11T01:19:00.000000000",
          "2022-08-11T01:34:00.000000000",
          "2022-08-11T04:04:00.000000000",
          "2022-08-12T02:23:00.000000000"
         ],
         "hovertemplate": "Train=41258_12<br>Start=%{base}<br>Finish=%{x}<br>Tâches=%{y}<extra></extra>",
         "legendgroup": "41258_12",
         "marker": {
          "color": "#B6E880",
          "pattern": {
           "shape": ""
          }
         },
         "name": "41258_12",
         "orientation": "h",
         "showlegend": true,
         "textposition": "auto",
         "type": "bar",
         "x": {
          "bdata": "oLsNAEBUiQCguw0AgE8SAA==",
          "dtype": "i4"
         },
         "xaxis": "x",
         "y": [
          "dep_1",
          "dep_2",
          "dep_3",
          "dep_4"
         ],
         "yaxis": "y"
        },
        {
         "base": [
          "2022-08-11T22:30:00.000000000",
          "2022-08-11T22:45:00.000000000",
          "2022-08-12T01:15:00.000000000",
          "2022-08-12T14:43:00.000000000"
         ],
         "hovertemplate": "Train=431035_12<br>Start=%{base}<br>Finish=%{x}<br>Tâches=%{y}<extra></extra>",
         "legendgroup": "431035_12",
         "marker": {
          "color": "#FF97FF",
          "pattern": {
           "shape": ""
          }
         },
         "name": "431035_12",
         "orientation": "h",
         "showlegend": true,
         "textposition": "auto",
         "type": "bar",
         "x": {
          "bdata": "oLsNAEBUiQCguw0AgE8SAA==",
          "dtype": "i4"
         },
         "xaxis": "x",
         "y": [
          "dep_1",
          "dep_2",
          "dep_3",
          "dep_4"
         ],
         "yaxis": "y"
        },
        {
         "base": [
          "2022-08-11T23:16:00.000000000",
          "2022-08-11T23:31:00.000000000",
          "2022-08-12T02:01:00.000000000",
          "2022-08-12T13:02:00.000000000"
         ],
         "hovertemplate": "Train=44241_12<br>Start=%{base}<br>Finish=%{x}<br>Tâches=%{y}<extra></extra>",
         "legendgroup": "44241_12",
         "marker": {
          "color": "#FECB52",
          "pattern": {
           "shape": ""
          }
         },
         "name": "44241_12",
         "orientation": "h",
         "showlegend": true,
         "textposition": "auto",
         "type": "bar",
         "x": {
          "bdata": "oLsNAEBUiQCguw0AgE8SAA==",
          "dtype": "i4"
         },
         "xaxis": "x",
         "y": [
          "dep_1",
          "dep_2",
          "dep_3",
          "dep_4"
         ],
         "yaxis": "y"
        },
        {
         "base": [
          "2022-08-11T12:49:00.000000000",
          "2022-08-11T13:04:00.000000000",
          "2022-08-11T15:34:00.000000000",
          "2022-08-12T02:47:00.000000000"
         ],
         "hovertemplate": "Train=44249_12<br>Start=%{base}<br>Finish=%{x}<br>Tâches=%{y}<extra></extra>",
         "legendgroup": "44249_12",
         "marker": {
          "color": "#636efa",
          "pattern": {
           "shape": ""
          }
         },
         "name": "44249_12",
         "orientation": "h",
         "showlegend": true,
         "textposition": "auto",
         "type": "bar",
         "x": {
          "bdata": "oLsNAEBUiQCguw0AgE8SAA==",
          "dtype": "i4"
         },
         "xaxis": "x",
         "y": [
          "dep_1",
          "dep_2",
          "dep_3",
          "dep_4"
         ],
         "yaxis": "y"
        },
        {
         "base": [
          "2022-08-12T03:47:00.000000000",
          "2022-08-12T04:02:00.000000000",
          "2022-08-12T06:32:00.000000000",
          "2022-08-12T20:37:00.000000000"
         ],
         "hovertemplate": "Train=44952_12<br>Start=%{base}<br>Finish=%{x}<br>Tâches=%{y}<extra></extra>",
         "legendgroup": "44952_12",
         "marker": {
          "color": "#EF553B",
          "pattern": {
           "shape": ""
          }
         },
         "name": "44952_12",
         "orientation": "h",
         "showlegend": true,
         "textposition": "auto",
         "type": "bar",
         "x": {
          "bdata": "oLsNAEBUiQCguw0AgE8SAA==",
          "dtype": "i4"
         },
         "xaxis": "x",
         "y": [
          "dep_1",
          "dep_2",
          "dep_3",
          "dep_4"
         ],
         "yaxis": "y"
        },
        {
         "base": [
          "2022-08-11T05:30:00.000000000",
          "2022-08-11T05:45:00.000000000",
          "2022-08-11T08:15:00.000000000",
          "2022-08-12T18:59:00.000000000"
         ],
         "hovertemplate": "Train=47205_12<br>Start=%{base}<br>Finish=%{x}<br>Tâches=%{y}<extra></extra>",
         "legendgroup": "47205_12",
         "marker": {
          "color": "#00cc96",
          "pattern": {
           "shape": ""
          }
         },
         "name": "47205_12",
         "orientation": "h",
         "showlegend": true,
         "textposition": "auto",
         "type": "bar",
         "x": {
          "bdata": "oLsNAEBUiQCguw0AgE8SAA==",
          "dtype": "i4"
         },
         "xaxis": "x",
         "y": [
          "dep_1",
          "dep_2",
          "dep_3",
          "dep_4"
         ],
         "yaxis": "y"
        },
        {
         "base": [
          "2022-08-11T13:04:00.000000000",
          "2022-08-11T13:19:00.000000000",
          "2022-08-11T15:49:00.000000000",
          "2022-08-12T02:14:00.000000000"
         ],
         "hovertemplate": "Train=48219_12<br>Start=%{base}<br>Finish=%{x}<br>Tâches=%{y}<extra></extra>",
         "legendgroup": "48219_12",
         "marker": {
          "color": "#ab63fa",
          "pattern": {
           "shape": ""
          }
         },
         "name": "48219_12",
         "orientation": "h",
         "showlegend": true,
         "textposition": "auto",
         "type": "bar",
         "x": {
          "bdata": "oLsNAEBUiQCguw0AgE8SAA==",
          "dtype": "i4"
         },
         "xaxis": "x",
         "y": [
          "dep_1",
          "dep_2",
          "dep_3",
          "dep_4"
         ],
         "yaxis": "y"
        },
        {
         "base": [
          "2022-08-12T01:04:00.000000000",
          "2022-08-12T01:19:00.000000000",
          "2022-08-12T03:49:00.000000000",
          "2022-08-12T05:51:00.000000000"
         ],
         "hovertemplate": "Train=489447_12<br>Start=%{base}<br>Finish=%{x}<br>Tâches=%{y}<extra></extra>",
         "legendgroup": "489447_12",
         "marker": {
          "color": "#FFA15A",
          "pattern": {
           "shape": ""
          }
         },
         "name": "489447_12",
         "orientation": "h",
         "showlegend": true,
         "textposition": "auto",
         "type": "bar",
         "x": {
          "bdata": "oLsNAEBUiQCguw0AgE8SAA==",
          "dtype": "i4"
         },
         "xaxis": "x",
         "y": [
          "dep_1",
          "dep_2",
          "dep_3",
          "dep_4"
         ],
         "yaxis": "y"
        },
        {
         "base": [
          "2022-08-12T09:00:00.000000000",
          "2022-08-12T09:15:00.000000000",
          "2022-08-12T11:45:00.000000000",
          "2022-08-12T15:52:00.000000000"
         ],
         "hovertemplate": "Train=52672_12<br>Start=%{base}<br>Finish=%{x}<br>Tâches=%{y}<extra></extra>",
         "legendgroup": "52672_12",
         "marker": {
          "color": "#19d3f3",
          "pattern": {
           "shape": ""
          }
         },
         "name": "52672_12",
         "orientation": "h",
         "showlegend": true,
         "textposition": "auto",
         "type": "bar",
         "x": {
          "bdata": "oLsNAEBUiQCguw0AgE8SAA==",
          "dtype": "i4"
         },
         "xaxis": "x",
         "y": [
          "dep_1",
          "dep_2",
          "dep_3",
          "dep_4"
         ],
         "yaxis": "y"
        },
        {
         "base": [
          "2022-08-11T22:45:00.000000000",
          "2022-08-11T23:00:00.000000000",
          "2022-08-12T01:30:00.000000000",
          "2022-08-12T03:39:00.000000000"
         ],
         "hovertemplate": "Train=54003_12<br>Start=%{base}<br>Finish=%{x}<br>Tâches=%{y}<extra></extra>",
         "legendgroup": "54003_12",
         "marker": {
          "color": "#FF6692",
          "pattern": {
           "shape": ""
          }
         },
         "name": "54003_12",
         "orientation": "h",
         "showlegend": true,
         "textposition": "auto",
         "type": "bar",
         "x": {
          "bdata": "oLsNAEBUiQCguw0AgE8SAA==",
          "dtype": "i4"
         },
         "xaxis": "x",
         "y": [
          "dep_1",
          "dep_2",
          "dep_3",
          "dep_4"
         ],
         "yaxis": "y"
        },
        {
         "base": [
          "2022-08-12T02:28:00.000000000",
          "2022-08-12T02:43:00.000000000",
          "2022-08-12T05:13:00.000000000",
          "2022-08-12T15:18:00.000000000"
         ],
         "hovertemplate": "Train=54053_12<br>Start=%{base}<br>Finish=%{x}<br>Tâches=%{y}<extra></extra>",
         "legendgroup": "54053_12",
         "marker": {
          "color": "#B6E880",
          "pattern": {
           "shape": ""
          }
         },
         "name": "54053_12",
         "orientation": "h",
         "showlegend": true,
         "textposition": "auto",
         "type": "bar",
         "x": {
          "bdata": "oLsNAEBUiQCguw0AgE8SAA==",
          "dtype": "i4"
         },
         "xaxis": "x",
         "y": [
          "dep_1",
          "dep_2",
          "dep_3",
          "dep_4"
         ],
         "yaxis": "y"
        },
        {
         "base": [
          "2022-08-11T13:19:00.000000000",
          "2022-08-11T13:34:00.000000000",
          "2022-08-11T16:04:00.000000000",
          "2022-08-12T03:30:00.000000000"
         ],
         "hovertemplate": "Train=54086_12<br>Start=%{base}<br>Finish=%{x}<br>Tâches=%{y}<extra></extra>",
         "legendgroup": "54086_12",
         "marker": {
          "color": "#FF97FF",
          "pattern": {
           "shape": ""
          }
         },
         "name": "54086_12",
         "orientation": "h",
         "showlegend": true,
         "textposition": "auto",
         "type": "bar",
         "x": {
          "bdata": "oLsNAEBUiQCguw0AgE8SAA==",
          "dtype": "i4"
         },
         "xaxis": "x",
         "y": [
          "dep_1",
          "dep_2",
          "dep_3",
          "dep_4"
         ],
         "yaxis": "y"
        },
        {
         "base": [
          "2022-08-12T06:18:00.000000000",
          "2022-08-12T06:33:00.000000000",
          "2022-08-12T09:03:00.000000000",
          "2022-08-12T13:49:00.000000000"
         ],
         "hovertemplate": "Train=54231_12<br>Start=%{base}<br>Finish=%{x}<br>Tâches=%{y}<extra></extra>",
         "legendgroup": "54231_12",
         "marker": {
          "color": "#FECB52",
          "pattern": {
           "shape": ""
          }
         },
         "name": "54231_12",
         "orientation": "h",
         "showlegend": true,
         "textposition": "auto",
         "type": "bar",
         "x": {
          "bdata": "oLsNAEBUiQCguw0AgE8SAA==",
          "dtype": "i4"
         },
         "xaxis": "x",
         "y": [
          "dep_1",
          "dep_2",
          "dep_3",
          "dep_4"
         ],
         "yaxis": "y"
        },
        {
         "base": [
          "2022-08-12T13:18:00.000000000",
          "2022-08-12T13:33:00.000000000",
          "2022-08-12T16:03:00.000000000",
          "2022-08-12T23:10:00.000000000"
         ],
         "hovertemplate": "Train=71217_12<br>Start=%{base}<br>Finish=%{x}<br>Tâches=%{y}<extra></extra>",
         "legendgroup": "71217_12",
         "marker": {
          "color": "#636efa",
          "pattern": {
           "shape": ""
          }
         },
         "name": "71217_12",
         "orientation": "h",
         "showlegend": true,
         "textposition": "auto",
         "type": "bar",
         "x": {
          "bdata": "oLsNAEBUiQCguw0AgE8SAA==",
          "dtype": "i4"
         },
         "xaxis": "x",
         "y": [
          "dep_1",
          "dep_2",
          "dep_3",
          "dep_4"
         ],
         "yaxis": "y"
        },
        {
         "base": [
          "2022-08-12T13:03:00.000000000",
          "2022-08-12T13:18:00.000000000",
          "2022-08-12T15:48:00.000000000",
          "2022-08-13T02:23:00.000000000"
         ],
         "hovertemplate": "Train=41258_13<br>Start=%{base}<br>Finish=%{x}<br>Tâches=%{y}<extra></extra>",
         "legendgroup": "41258_13",
         "marker": {
          "color": "#EF553B",
          "pattern": {
           "shape": ""
          }
         },
         "name": "41258_13",
         "orientation": "h",
         "showlegend": true,
         "textposition": "auto",
         "type": "bar",
         "x": {
          "bdata": "oLsNAEBUiQCguw0AgE8SAA==",
          "dtype": "i4"
         },
         "xaxis": "x",
         "y": [
          "dep_1",
          "dep_2",
          "dep_3",
          "dep_4"
         ],
         "yaxis": "y"
        },
        {
         "base": [
          "2022-08-12T03:22:00.000000000",
          "2022-08-12T03:37:00.000000000",
          "2022-08-12T06:07:00.000000000",
          "2022-08-13T05:59:00.000000000"
         ],
         "hovertemplate": "Train=431091_13<br>Start=%{base}<br>Finish=%{x}<br>Tâches=%{y}<extra></extra>",
         "legendgroup": "431091_13",
         "marker": {
          "color": "#00cc96",
          "pattern": {
           "shape": ""
          }
         },
         "name": "431091_13",
         "orientation": "h",
         "showlegend": true,
         "textposition": "auto",
         "type": "bar",
         "x": {
          "bdata": "oLsNAEBUiQCguw0AgE8SAA==",
          "dtype": "i4"
         },
         "xaxis": "x",
         "y": [
          "dep_1",
          "dep_2",
          "dep_3",
          "dep_4"
         ],
         "yaxis": "y"
        },
        {
         "base": [
          "2022-08-12T22:30:00.000000000",
          "2022-08-12T23:45:00.000000000",
          "2022-08-13T02:15:00.000000000",
          "2022-08-13T13:02:00.000000000"
         ],
         "hovertemplate": "Train=44241_13<br>Start=%{base}<br>Finish=%{x}<br>Tâches=%{y}<extra></extra>",
         "legendgroup": "44241_13",
         "marker": {
          "color": "#ab63fa",
          "pattern": {
           "shape": ""
          }
         },
         "name": "44241_13",
         "orientation": "h",
         "showlegend": true,
         "textposition": "auto",
         "type": "bar",
         "x": {
          "bdata": "oLsNAEBUiQCguw0AgE8SAA==",
          "dtype": "i4"
         },
         "xaxis": "x",
         "y": [
          "dep_1",
          "dep_2",
          "dep_3",
          "dep_4"
         ],
         "yaxis": "y"
        },
        {
         "base": [
          "2022-08-12T23:00:00.000000000",
          "2022-08-12T23:15:00.000000000",
          "2022-08-13T01:45:00.000000000",
          "2022-08-13T04:10:00.000000000"
         ],
         "hovertemplate": "Train=44806_13<br>Start=%{base}<br>Finish=%{x}<br>Tâches=%{y}<extra></extra>",
         "legendgroup": "44806_13",
         "marker": {
          "color": "#FFA15A",
          "pattern": {
           "shape": ""
          }
         },
         "name": "44806_13",
         "orientation": "h",
         "showlegend": true,
         "textposition": "auto",
         "type": "bar",
         "x": {
          "bdata": "oLsNAEBUiQCguw0AgE8SAA==",
          "dtype": "i4"
         },
         "xaxis": "x",
         "y": [
          "dep_1",
          "dep_2",
          "dep_3",
          "dep_4"
         ],
         "yaxis": "y"
        },
        {
         "base": [
          "2022-08-13T04:17:00.000000000",
          "2022-08-13T04:32:00.000000000",
          "2022-08-13T07:02:00.000000000",
          "2022-08-13T09:19:00.000000000"
         ],
         "hovertemplate": "Train=450224_13<br>Start=%{base}<br>Finish=%{x}<br>Tâches=%{y}<extra></extra>",
         "legendgroup": "450224_13",
         "marker": {
          "color": "#19d3f3",
          "pattern": {
           "shape": ""
          }
         },
         "name": "450224_13",
         "orientation": "h",
         "showlegend": true,
         "textposition": "auto",
         "type": "bar",
         "x": {
          "bdata": "oLsNAEBUiQCguw0AgE8SAA==",
          "dtype": "i4"
         },
         "xaxis": "x",
         "y": [
          "dep_1",
          "dep_2",
          "dep_3",
          "dep_4"
         ],
         "yaxis": "y"
        },
        {
         "base": [
          "2022-08-12T23:48:00.000000000",
          "2022-08-13T00:15:00.000000000",
          "2022-08-13T02:45:00.000000000",
          "2022-08-13T10:40:00.000000000"
         ],
         "hovertemplate": "Train=47237_13<br>Start=%{base}<br>Finish=%{x}<br>Tâches=%{y}<extra></extra>",
         "legendgroup": "47237_13",
         "marker": {
          "color": "#FF6692",
          "pattern": {
           "shape": ""
          }
         },
         "name": "47237_13",
         "orientation": "h",
         "showlegend": true,
         "textposition": "auto",
         "type": "bar",
         "x": {
          "bdata": "oLsNAEBUiQCguw0AgE8SAA==",
          "dtype": "i4"
         },
         "xaxis": "x",
         "y": [
          "dep_1",
          "dep_2",
          "dep_3",
          "dep_4"
         ],
         "yaxis": "y"
        },
        {
         "base": [
          "2022-08-13T00:03:00.000000000",
          "2022-08-13T00:30:00.000000000",
          "2022-08-13T03:00:00.000000000",
          "2022-08-13T18:09:00.000000000"
         ],
         "hovertemplate": "Train=47281_13<br>Start=%{base}<br>Finish=%{x}<br>Tâches=%{y}<extra></extra>",
         "legendgroup": "47281_13",
         "marker": {
          "color": "#B6E880",
          "pattern": {
           "shape": ""
          }
         },
         "name": "47281_13",
         "orientation": "h",
         "showlegend": true,
         "textposition": "auto",
         "type": "bar",
         "x": {
          "bdata": "oLsNAEBUiQCguw0AgE8SAA==",
          "dtype": "i4"
         },
         "xaxis": "x",
         "y": [
          "dep_1",
          "dep_2",
          "dep_3",
          "dep_4"
         ],
         "yaxis": "y"
        },
        {
         "base": [
          "2022-08-12T20:05:00.000000000",
          "2022-08-12T20:20:00.000000000",
          "2022-08-12T22:50:00.000000000",
          "2022-08-13T01:50:00.000000000"
         ],
         "hovertemplate": "Train=489044_13<br>Start=%{base}<br>Finish=%{x}<br>Tâches=%{y}<extra></extra>",
         "legendgroup": "489044_13",
         "marker": {
          "color": "#FF97FF",
          "pattern": {
           "shape": ""
          }
         },
         "name": "489044_13",
         "orientation": "h",
         "showlegend": true,
         "textposition": "auto",
         "type": "bar",
         "x": {
          "bdata": "oLsNAEBUiQCguw0AgE8SAA==",
          "dtype": "i4"
         },
         "xaxis": "x",
         "y": [
          "dep_1",
          "dep_2",
          "dep_3",
          "dep_4"
         ],
         "yaxis": "y"
        },
        {
         "base": [
          "2022-08-12T22:15:00.000000000",
          "2022-08-12T23:30:00.000000000",
          "2022-08-13T02:00:00.000000000",
          "2022-08-13T14:43:00.000000000"
         ],
         "hovertemplate": "Train=489119_13<br>Start=%{base}<br>Finish=%{x}<br>Tâches=%{y}<extra></extra>",
         "legendgroup": "489119_13",
         "marker": {
          "color": "#FECB52",
          "pattern": {
           "shape": ""
          }
         },
         "name": "489119_13",
         "orientation": "h",
         "showlegend": true,
         "textposition": "auto",
         "type": "bar",
         "x": {
          "bdata": "oLsNAEBUiQCguw0AgE8SAA==",
          "dtype": "i4"
         },
         "xaxis": "x",
         "y": [
          "dep_1",
          "dep_2",
          "dep_3",
          "dep_4"
         ],
         "yaxis": "y"
        },
        {
         "base": [
          "2022-08-12T22:45:00.000000000",
          "2022-08-12T23:00:00.000000000",
          "2022-08-13T01:30:00.000000000",
          "2022-08-13T05:51:00.000000000"
         ],
         "hovertemplate": "Train=489447_13<br>Start=%{base}<br>Finish=%{x}<br>Tâches=%{y}<extra></extra>",
         "legendgroup": "489447_13",
         "marker": {
          "color": "#636efa",
          "pattern": {
           "shape": ""
          }
         },
         "name": "489447_13",
         "orientation": "h",
         "showlegend": true,
         "textposition": "auto",
         "type": "bar",
         "x": {
          "bdata": "oLsNAEBUiQCguw0AgE8SAA==",
          "dtype": "i4"
         },
         "xaxis": "x",
         "y": [
          "dep_1",
          "dep_2",
          "dep_3",
          "dep_4"
         ],
         "yaxis": "y"
        },
        {
         "base": [
          "2022-08-12T09:15:00.000000000",
          "2022-08-12T10:40:00.000000000",
          "2022-08-12T13:10:00.000000000",
          "2022-08-13T05:16:00.000000000"
         ],
         "hovertemplate": "Train=54051_13<br>Start=%{base}<br>Finish=%{x}<br>Tâches=%{y}<extra></extra>",
         "legendgroup": "54051_13",
         "marker": {
          "color": "#EF553B",
          "pattern": {
           "shape": ""
          }
         },
         "name": "54051_13",
         "orientation": "h",
         "showlegend": true,
         "textposition": "auto",
         "type": "bar",
         "x": {
          "bdata": "oLsNAEBUiQCguw0AgE8SAA==",
          "dtype": "i4"
         },
         "xaxis": "x",
         "y": [
          "dep_1",
          "dep_2",
          "dep_3",
          "dep_4"
         ],
         "yaxis": "y"
        },
        {
         "base": [
          "2022-08-12T00:32:00.000000000",
          "2022-08-12T00:47:00.000000000",
          "2022-08-12T03:17:00.000000000",
          "2022-08-13T03:30:00.000000000"
         ],
         "hovertemplate": "Train=54086_13<br>Start=%{base}<br>Finish=%{x}<br>Tâches=%{y}<extra></extra>",
         "legendgroup": "54086_13",
         "marker": {
          "color": "#00cc96",
          "pattern": {
           "shape": ""
          }
         },
         "name": "54086_13",
         "orientation": "h",
         "showlegend": true,
         "textposition": "auto",
         "type": "bar",
         "x": {
          "bdata": "oLsNAEBUiQCguw0AgE8SAA==",
          "dtype": "i4"
         },
         "xaxis": "x",
         "y": [
          "dep_1",
          "dep_2",
          "dep_3",
          "dep_4"
         ],
         "yaxis": "y"
        },
        {
         "base": [
          "2022-08-14T00:01:00.000000000",
          "2022-08-14T00:16:00.000000000",
          "2022-08-14T02:46:00.000000000",
          "2022-08-14T17:20:00.000000000"
         ],
         "hovertemplate": "Train=431037_14<br>Start=%{base}<br>Finish=%{x}<br>Tâches=%{y}<extra></extra>",
         "legendgroup": "431037_14",
         "marker": {
          "color": "#ab63fa",
          "pattern": {
           "shape": ""
          }
         },
         "name": "431037_14",
         "orientation": "h",
         "showlegend": true,
         "textposition": "auto",
         "type": "bar",
         "x": {
          "bdata": "oLsNAEBUiQCguw0AgE8SAA==",
          "dtype": "i4"
         },
         "xaxis": "x",
         "y": [
          "dep_1",
          "dep_2",
          "dep_3",
          "dep_4"
         ],
         "yaxis": "y"
        },
        {
         "base": [
          "2022-08-14T01:04:00.000000000",
          "2022-08-14T01:19:00.000000000",
          "2022-08-14T03:49:00.000000000",
          "2022-08-14T14:15:00.000000000"
         ],
         "hovertemplate": "Train=44247_14<br>Start=%{base}<br>Finish=%{x}<br>Tâches=%{y}<extra></extra>",
         "legendgroup": "44247_14",
         "marker": {
          "color": "#FFA15A",
          "pattern": {
           "shape": ""
          }
         },
         "name": "44247_14",
         "orientation": "h",
         "showlegend": true,
         "textposition": "auto",
         "type": "bar",
         "x": {
          "bdata": "oLsNAEBUiQCguw0AgE8SAA==",
          "dtype": "i4"
         },
         "xaxis": "x",
         "y": [
          "dep_1",
          "dep_2",
          "dep_3",
          "dep_4"
         ],
         "yaxis": "y"
        },
        {
         "base": [
          "2022-08-13T09:00:00.000000000",
          "2022-08-13T09:15:00.000000000",
          "2022-08-13T11:45:00.000000000",
          "2022-08-14T11:48:00.000000000"
         ],
         "hovertemplate": "Train=44559_14<br>Start=%{base}<br>Finish=%{x}<br>Tâches=%{y}<extra></extra>",
         "legendgroup": "44559_14",
         "marker": {
          "color": "#19d3f3",
          "pattern": {
           "shape": ""
          }
         },
         "name": "44559_14",
         "orientation": "h",
         "showlegend": true,
         "textposition": "auto",
         "type": "bar",
         "x": {
          "bdata": "oLsNAEBUiQCguw0AgE8SAA==",
          "dtype": "i4"
         },
         "xaxis": "x",
         "y": [
          "dep_1",
          "dep_2",
          "dep_3",
          "dep_4"
         ],
         "yaxis": "y"
        },
        {
         "base": [
          "2022-08-14T01:19:00.000000000",
          "2022-08-14T01:34:00.000000000",
          "2022-08-14T04:04:00.000000000",
          "2022-08-14T14:42:00.000000000"
         ],
         "hovertemplate": "Train=47820_14<br>Start=%{base}<br>Finish=%{x}<br>Tâches=%{y}<extra></extra>",
         "legendgroup": "47820_14",
         "marker": {
          "color": "#FF6692",
          "pattern": {
           "shape": ""
          }
         },
         "name": "47820_14",
         "orientation": "h",
         "showlegend": true,
         "textposition": "auto",
         "type": "bar",
         "x": {
          "bdata": "oLsNAEBUiQCguw0AgE8SAA==",
          "dtype": "i4"
         },
         "xaxis": "x",
         "y": [
          "dep_1",
          "dep_2",
          "dep_3",
          "dep_4"
         ],
         "yaxis": "y"
        },
        {
         "base": [
          "2022-08-12T23:16:00.000000000",
          "2022-08-12T23:31:00.000000000",
          "2022-08-13T02:30:00.000000000",
          "2022-08-14T05:51:00.000000000"
         ],
         "hovertemplate": "Train=489447_14<br>Start=%{base}<br>Finish=%{x}<br>Tâches=%{y}<extra></extra>",
         "legendgroup": "489447_14",
         "marker": {
          "color": "#B6E880",
          "pattern": {
           "shape": ""
          }
         },
         "name": "489447_14",
         "orientation": "h",
         "showlegend": true,
         "textposition": "auto",
         "type": "bar",
         "x": {
          "bdata": "oLsNAEBUiQCguw0AgE8SAA==",
          "dtype": "i4"
         },
         "xaxis": "x",
         "y": [
          "dep_1",
          "dep_2",
          "dep_3",
          "dep_4"
         ],
         "yaxis": "y"
        },
        {
         "base": [
          "2022-08-13T22:45:00.000000000",
          "2022-08-13T23:00:00.000000000",
          "2022-08-14T01:30:00.000000000",
          "2022-08-14T03:39:00.000000000"
         ],
         "hovertemplate": "Train=54003_14<br>Start=%{base}<br>Finish=%{x}<br>Tâches=%{y}<extra></extra>",
         "legendgroup": "54003_14",
         "marker": {
          "color": "#FF97FF",
          "pattern": {
           "shape": ""
          }
         },
         "name": "54003_14",
         "orientation": "h",
         "showlegend": true,
         "textposition": "auto",
         "type": "bar",
         "x": {
          "bdata": "oLsNAEBUiQCguw0AgE8SAA==",
          "dtype": "i4"
         },
         "xaxis": "x",
         "y": [
          "dep_1",
          "dep_2",
          "dep_3",
          "dep_4"
         ],
         "yaxis": "y"
        },
        {
         "base": [
          "2022-08-13T23:16:00.000000000",
          "2022-08-13T23:31:00.000000000",
          "2022-08-14T02:01:00.000000000",
          "2022-08-14T15:18:00.000000000"
         ],
         "hovertemplate": "Train=54053_14<br>Start=%{base}<br>Finish=%{x}<br>Tâches=%{y}<extra></extra>",
         "legendgroup": "54053_14",
         "marker": {
          "color": "#FECB52",
          "pattern": {
           "shape": ""
          }
         },
         "name": "54053_14",
         "orientation": "h",
         "showlegend": true,
         "textposition": "auto",
         "type": "bar",
         "x": {
          "bdata": "oLsNAEBUiQCguw0AgE8SAA==",
          "dtype": "i4"
         },
         "xaxis": "x",
         "y": [
          "dep_1",
          "dep_2",
          "dep_3",
          "dep_4"
         ],
         "yaxis": "y"
        },
        {
         "base": [
          "2022-08-13T03:01:00.000000000",
          "2022-08-13T03:16:00.000000000",
          "2022-08-13T05:46:00.000000000",
          "2022-08-14T01:10:00.000000000"
         ],
         "hovertemplate": "Train=54055_14<br>Start=%{base}<br>Finish=%{x}<br>Tâches=%{y}<extra></extra>",
         "legendgroup": "54055_14",
         "marker": {
          "color": "#636efa",
          "pattern": {
           "shape": ""
          }
         },
         "name": "54055_14",
         "orientation": "h",
         "showlegend": true,
         "textposition": "auto",
         "type": "bar",
         "x": {
          "bdata": "oLsNAEBUiQCguw0AgE8SAA==",
          "dtype": "i4"
         },
         "xaxis": "x",
         "y": [
          "dep_1",
          "dep_2",
          "dep_3",
          "dep_4"
         ],
         "yaxis": "y"
        },
        {
         "base": [
          "2022-08-13T03:22:00.000000000",
          "2022-08-13T03:37:00.000000000",
          "2022-08-13T07:17:00.000000000",
          "2022-08-14T03:30:00.000000000"
         ],
         "hovertemplate": "Train=54086_14<br>Start=%{base}<br>Finish=%{x}<br>Tâches=%{y}<extra></extra>",
         "legendgroup": "54086_14",
         "marker": {
          "color": "#EF553B",
          "pattern": {
           "shape": ""
          }
         },
         "name": "54086_14",
         "orientation": "h",
         "showlegend": true,
         "textposition": "auto",
         "type": "bar",
         "x": {
          "bdata": "oLsNAEBUiQCguw0AgE8SAA==",
          "dtype": "i4"
         },
         "xaxis": "x",
         "y": [
          "dep_1",
          "dep_2",
          "dep_3",
          "dep_4"
         ],
         "yaxis": "y"
        },
        {
         "base": [
          "2022-08-14T03:50:00.000000000",
          "2022-08-14T04:05:00.000000000",
          "2022-08-14T07:20:00.000000000",
          "2022-08-15T19:27:00.000000000"
         ],
         "hovertemplate": "Train=400014_15<br>Start=%{base}<br>Finish=%{x}<br>Tâches=%{y}<extra></extra>",
         "legendgroup": "400014_15",
         "marker": {
          "color": "#00cc96",
          "pattern": {
           "shape": ""
          }
         },
         "name": "400014_15",
         "orientation": "h",
         "showlegend": true,
         "textposition": "auto",
         "type": "bar",
         "x": {
          "bdata": "oLsNAEBUiQCguw0AgE8SAA==",
          "dtype": "i4"
         },
         "xaxis": "x",
         "y": [
          "dep_1",
          "dep_2",
          "dep_3",
          "dep_4"
         ],
         "yaxis": "y"
        },
        {
         "base": [
          "2022-08-12T10:40:00.000000000",
          "2022-08-12T10:55:00.000000000",
          "2022-08-12T13:25:00.000000000",
          "2022-08-15T14:42:00.000000000"
         ],
         "hovertemplate": "Train=431035_15<br>Start=%{base}<br>Finish=%{x}<br>Tâches=%{y}<extra></extra>",
         "legendgroup": "431035_15",
         "marker": {
          "color": "#ab63fa",
          "pattern": {
           "shape": ""
          }
         },
         "name": "431035_15",
         "orientation": "h",
         "showlegend": true,
         "textposition": "auto",
         "type": "bar",
         "x": {
          "bdata": "oLsNAEBUiQCguw0AgE8SAA==",
          "dtype": "i4"
         },
         "xaxis": "x",
         "y": [
          "dep_1",
          "dep_2",
          "dep_3",
          "dep_4"
         ],
         "yaxis": "y"
        },
        {
         "base": [
          "2022-08-13T03:47:00.000000000",
          "2022-08-13T04:02:00.000000000",
          "2022-08-13T06:32:00.000000000",
          "2022-08-15T05:21:00.000000000"
         ],
         "hovertemplate": "Train=431121_15<br>Start=%{base}<br>Finish=%{x}<br>Tâches=%{y}<extra></extra>",
         "legendgroup": "431121_15",
         "marker": {
          "color": "#FFA15A",
          "pattern": {
           "shape": ""
          }
         },
         "name": "431121_15",
         "orientation": "h",
         "showlegend": true,
         "textposition": "auto",
         "type": "bar",
         "x": {
          "bdata": "oLsNAEBUiQCguw0AgE8SAA==",
          "dtype": "i4"
         },
         "xaxis": "x",
         "y": [
          "dep_1",
          "dep_2",
          "dep_3",
          "dep_4"
         ],
         "yaxis": "y"
        },
        {
         "base": [
          "2022-08-13T23:31:00.000000000",
          "2022-08-13T23:46:00.000000000",
          "2022-08-14T02:16:00.000000000",
          "2022-08-15T07:00:00.000000000"
         ],
         "hovertemplate": "Train=450226_15<br>Start=%{base}<br>Finish=%{x}<br>Tâches=%{y}<extra></extra>",
         "legendgroup": "450226_15",
         "marker": {
          "color": "#19d3f3",
          "pattern": {
           "shape": ""
          }
         },
         "name": "450226_15",
         "orientation": "h",
         "showlegend": true,
         "textposition": "auto",
         "type": "bar",
         "x": {
          "bdata": "oLsNAEBUiQCguw0AgE8SAA==",
          "dtype": "i4"
         },
         "xaxis": "x",
         "y": [
          "dep_1",
          "dep_2",
          "dep_3",
          "dep_4"
         ],
         "yaxis": "y"
        },
        {
         "base": [
          "2022-08-13T04:02:00.000000000",
          "2022-08-13T04:17:00.000000000",
          "2022-08-13T06:47:00.000000000",
          "2022-08-15T05:51:00.000000000"
         ],
         "hovertemplate": "Train=489447_15<br>Start=%{base}<br>Finish=%{x}<br>Tâches=%{y}<extra></extra>",
         "legendgroup": "489447_15",
         "marker": {
          "color": "#FF6692",
          "pattern": {
           "shape": ""
          }
         },
         "name": "489447_15",
         "orientation": "h",
         "showlegend": true,
         "textposition": "auto",
         "type": "bar",
         "x": {
          "bdata": "oLsNAEBUiQCguw0AgE8SAA==",
          "dtype": "i4"
         },
         "xaxis": "x",
         "y": [
          "dep_1",
          "dep_2",
          "dep_3",
          "dep_4"
         ],
         "yaxis": "y"
        },
        {
         "base": [
          "2022-08-14T04:20:00.000000000",
          "2022-08-14T04:35:00.000000000",
          "2022-08-14T07:05:00.000000000",
          "2022-08-15T03:39:00.000000000"
         ],
         "hovertemplate": "Train=54003_15<br>Start=%{base}<br>Finish=%{x}<br>Tâches=%{y}<extra></extra>",
         "legendgroup": "54003_15",
         "marker": {
          "color": "#B6E880",
          "pattern": {
           "shape": ""
          }
         },
         "name": "54003_15",
         "orientation": "h",
         "showlegend": true,
         "textposition": "auto",
         "type": "bar",
         "x": {
          "bdata": "oLsNAEBUiQCguw0AgE8SAA==",
          "dtype": "i4"
         },
         "xaxis": "x",
         "y": [
          "dep_1",
          "dep_2",
          "dep_3",
          "dep_4"
         ],
         "yaxis": "y"
        },
        {
         "base": [
          "2022-08-13T06:18:00.000000000",
          "2022-08-13T06:33:00.000000000",
          "2022-08-13T09:03:00.000000000",
          "2022-08-15T05:14:00.000000000"
         ],
         "hovertemplate": "Train=54051_15<br>Start=%{base}<br>Finish=%{x}<br>Tâches=%{y}<extra></extra>",
         "legendgroup": "54051_15",
         "marker": {
          "color": "#FF97FF",
          "pattern": {
           "shape": ""
          }
         },
         "name": "54051_15",
         "orientation": "h",
         "showlegend": true,
         "textposition": "auto",
         "type": "bar",
         "x": {
          "bdata": "oLsNAEBUiQCguw0AgE8SAA==",
          "dtype": "i4"
         },
         "xaxis": "x",
         "y": [
          "dep_1",
          "dep_2",
          "dep_3",
          "dep_4"
         ],
         "yaxis": "y"
        },
        {
         "base": [
          "2022-08-14T04:05:00.000000000",
          "2022-08-14T04:20:00.000000000",
          "2022-08-14T06:50:00.000000000",
          "2022-08-15T03:30:00.000000000"
         ],
         "hovertemplate": "Train=54086_15<br>Start=%{base}<br>Finish=%{x}<br>Tâches=%{y}<extra></extra>",
         "legendgroup": "54086_15",
         "marker": {
          "color": "#FECB52",
          "pattern": {
           "shape": ""
          }
         },
         "name": "54086_15",
         "orientation": "h",
         "showlegend": true,
         "textposition": "auto",
         "type": "bar",
         "x": {
          "bdata": "oLsNAEBUiQCguw0AgE8SAA==",
          "dtype": "i4"
         },
         "xaxis": "x",
         "y": [
          "dep_1",
          "dep_2",
          "dep_3",
          "dep_4"
         ],
         "yaxis": "y"
        },
        {
         "base": [
          "2022-08-13T23:46:00.000000000",
          "2022-08-14T00:01:00.000000000",
          "2022-08-14T02:31:00.000000000",
          "2022-08-15T13:49:00.000000000"
         ],
         "hovertemplate": "Train=54231_15<br>Start=%{base}<br>Finish=%{x}<br>Tâches=%{y}<extra></extra>",
         "legendgroup": "54231_15",
         "marker": {
          "color": "#636efa",
          "pattern": {
           "shape": ""
          }
         },
         "name": "54231_15",
         "orientation": "h",
         "showlegend": true,
         "textposition": "auto",
         "type": "bar",
         "x": {
          "bdata": "oLsNAEBUiQCguw0AgE8SAA==",
          "dtype": "i4"
         },
         "xaxis": "x",
         "y": [
          "dep_1",
          "dep_2",
          "dep_3",
          "dep_4"
         ],
         "yaxis": "y"
        },
        {
         "base": [
          "2022-08-14T00:16:00.000000000",
          "2022-08-14T00:31:00.000000000",
          "2022-08-14T03:01:00.000000000",
          "2022-08-16T02:23:00.000000000"
         ],
         "hovertemplate": "Train=41258_16<br>Start=%{base}<br>Finish=%{x}<br>Tâches=%{y}<extra></extra>",
         "legendgroup": "41258_16",
         "marker": {
          "color": "#EF553B",
          "pattern": {
           "shape": ""
          }
         },
         "name": "41258_16",
         "orientation": "h",
         "showlegend": true,
         "textposition": "auto",
         "type": "bar",
         "x": {
          "bdata": "oLsNAEBUiQCguw0AgE8SAA==",
          "dtype": "i4"
         },
         "xaxis": "x",
         "y": [
          "dep_1",
          "dep_2",
          "dep_3",
          "dep_4"
         ],
         "yaxis": "y"
        },
        {
         "base": [
          "2022-08-12T12:19:00.000000000",
          "2022-08-12T12:34:00.000000000",
          "2022-08-12T16:33:00.000000000",
          "2022-08-16T05:59:00.000000000"
         ],
         "hovertemplate": "Train=431091_16<br>Start=%{base}<br>Finish=%{x}<br>Tâches=%{y}<extra></extra>",
         "legendgroup": "431091_16",
         "marker": {
          "color": "#00cc96",
          "pattern": {
           "shape": ""
          }
         },
         "name": "431091_16",
         "orientation": "h",
         "showlegend": true,
         "textposition": "auto",
         "type": "bar",
         "x": {
          "bdata": "oLsNAEBUiQCguw0AgE8SAA==",
          "dtype": "i4"
         },
         "xaxis": "x",
         "y": [
          "dep_1",
          "dep_2",
          "dep_3",
          "dep_4"
         ],
         "yaxis": "y"
        },
        {
         "base": [
          "2022-08-13T21:00:00.000000000",
          "2022-08-13T21:15:00.000000000",
          "2022-08-13T23:45:00.000000000",
          "2022-08-16T01:50:00.000000000"
         ],
         "hovertemplate": "Train=489044_16<br>Start=%{base}<br>Finish=%{x}<br>Tâches=%{y}<extra></extra>",
         "legendgroup": "489044_16",
         "marker": {
          "color": "#ab63fa",
          "pattern": {
           "shape": ""
          }
         },
         "name": "489044_16",
         "orientation": "h",
         "showlegend": true,
         "textposition": "auto",
         "type": "bar",
         "x": {
          "bdata": "oLsNAEBUiQCguw0AgE8SAA==",
          "dtype": "i4"
         },
         "xaxis": "x",
         "y": [
          "dep_1",
          "dep_2",
          "dep_3",
          "dep_4"
         ],
         "yaxis": "y"
        },
        {
         "base": [
          "2022-08-11T23:00:00.000000000",
          "2022-08-11T23:15:00.000000000",
          "2022-08-12T01:45:00.000000000",
          "2022-08-16T05:14:00.000000000"
         ],
         "hovertemplate": "Train=54051_16<br>Start=%{base}<br>Finish=%{x}<br>Tâches=%{y}<extra></extra>",
         "legendgroup": "54051_16",
         "marker": {
          "color": "#FFA15A",
          "pattern": {
           "shape": ""
          }
         },
         "name": "54051_16",
         "orientation": "h",
         "showlegend": true,
         "textposition": "auto",
         "type": "bar",
         "x": {
          "bdata": "oLsNAEBUiQCguw0AgE8SAA==",
          "dtype": "i4"
         },
         "xaxis": "x",
         "y": [
          "dep_1",
          "dep_2",
          "dep_3",
          "dep_4"
         ],
         "yaxis": "y"
        },
        {
         "base": [
          "2022-08-13T23:01:00.000000000",
          "2022-08-13T23:46:00.000000000",
          "2022-08-14T03:16:00.000000000",
          "2022-08-17T02:53:00.000000000"
         ],
         "hovertemplate": "Train=412124_17<br>Start=%{base}<br>Finish=%{x}<br>Tâches=%{y}<extra></extra>",
         "legendgroup": "412124_17",
         "marker": {
          "color": "#19d3f3",
          "pattern": {
           "shape": ""
          }
         },
         "name": "412124_17",
         "orientation": "h",
         "showlegend": true,
         "textposition": "auto",
         "type": "bar",
         "x": {
          "bdata": "oLsNAEBUiQCguw0AgE8SAA==",
          "dtype": "i4"
         },
         "xaxis": "x",
         "y": [
          "dep_1",
          "dep_2",
          "dep_3",
          "dep_4"
         ],
         "yaxis": "y"
        },
        {
         "base": [
          "2022-08-10T13:45:00.000000000",
          "2022-08-10T14:00:00.000000000",
          "2022-08-10T16:30:00.000000000",
          "2022-08-17T10:40:00.000000000"
         ],
         "hovertemplate": "Train=431113_17<br>Start=%{base}<br>Finish=%{x}<br>Tâches=%{y}<extra></extra>",
         "legendgroup": "431113_17",
         "marker": {
          "color": "#FF6692",
          "pattern": {
           "shape": ""
          }
         },
         "name": "431113_17",
         "orientation": "h",
         "showlegend": true,
         "textposition": "auto",
         "type": "bar",
         "x": {
          "bdata": "oLsNAEBUiQCguw0AgE8SAA==",
          "dtype": "i4"
         },
         "xaxis": "x",
         "y": [
          "dep_1",
          "dep_2",
          "dep_3",
          "dep_4"
         ],
         "yaxis": "y"
        }
       ],
       "layout": {
        "barmode": "overlay",
        "legend": {
         "title": {
          "text": "Train"
         },
         "tracegroupgap": 0
        },
        "margin": {
         "t": 60
        },
        "template": {
         "data": {
          "bar": [
           {
            "error_x": {
             "color": "#2a3f5f"
            },
            "error_y": {
             "color": "#2a3f5f"
            },
            "marker": {
             "line": {
              "color": "#E5ECF6",
              "width": 0.5
             },
             "pattern": {
              "fillmode": "overlay",
              "size": 10,
              "solidity": 0.2
             }
            },
            "type": "bar"
           }
          ],
          "barpolar": [
           {
            "marker": {
             "line": {
              "color": "#E5ECF6",
              "width": 0.5
             },
             "pattern": {
              "fillmode": "overlay",
              "size": 10,
              "solidity": 0.2
             }
            },
            "type": "barpolar"
           }
          ],
          "carpet": [
           {
            "aaxis": {
             "endlinecolor": "#2a3f5f",
             "gridcolor": "white",
             "linecolor": "white",
             "minorgridcolor": "white",
             "startlinecolor": "#2a3f5f"
            },
            "baxis": {
             "endlinecolor": "#2a3f5f",
             "gridcolor": "white",
             "linecolor": "white",
             "minorgridcolor": "white",
             "startlinecolor": "#2a3f5f"
            },
            "type": "carpet"
           }
          ],
          "choropleth": [
           {
            "colorbar": {
             "outlinewidth": 0,
             "ticks": ""
            },
            "type": "choropleth"
           }
          ],
          "contour": [
           {
            "colorbar": {
             "outlinewidth": 0,
             "ticks": ""
            },
            "colorscale": [
             [
              0,
              "#0d0887"
             ],
             [
              0.1111111111111111,
              "#46039f"
             ],
             [
              0.2222222222222222,
              "#7201a8"
             ],
             [
              0.3333333333333333,
              "#9c179e"
             ],
             [
              0.4444444444444444,
              "#bd3786"
             ],
             [
              0.5555555555555556,
              "#d8576b"
             ],
             [
              0.6666666666666666,
              "#ed7953"
             ],
             [
              0.7777777777777778,
              "#fb9f3a"
             ],
             [
              0.8888888888888888,
              "#fdca26"
             ],
             [
              1,
              "#f0f921"
             ]
            ],
            "type": "contour"
           }
          ],
          "contourcarpet": [
           {
            "colorbar": {
             "outlinewidth": 0,
             "ticks": ""
            },
            "type": "contourcarpet"
           }
          ],
          "heatmap": [
           {
            "colorbar": {
             "outlinewidth": 0,
             "ticks": ""
            },
            "colorscale": [
             [
              0,
              "#0d0887"
             ],
             [
              0.1111111111111111,
              "#46039f"
             ],
             [
              0.2222222222222222,
              "#7201a8"
             ],
             [
              0.3333333333333333,
              "#9c179e"
             ],
             [
              0.4444444444444444,
              "#bd3786"
             ],
             [
              0.5555555555555556,
              "#d8576b"
             ],
             [
              0.6666666666666666,
              "#ed7953"
             ],
             [
              0.7777777777777778,
              "#fb9f3a"
             ],
             [
              0.8888888888888888,
              "#fdca26"
             ],
             [
              1,
              "#f0f921"
             ]
            ],
            "type": "heatmap"
           }
          ],
          "histogram": [
           {
            "marker": {
             "pattern": {
              "fillmode": "overlay",
              "size": 10,
              "solidity": 0.2
             }
            },
            "type": "histogram"
           }
          ],
          "histogram2d": [
           {
            "colorbar": {
             "outlinewidth": 0,
             "ticks": ""
            },
            "colorscale": [
             [
              0,
              "#0d0887"
             ],
             [
              0.1111111111111111,
              "#46039f"
             ],
             [
              0.2222222222222222,
              "#7201a8"
             ],
             [
              0.3333333333333333,
              "#9c179e"
             ],
             [
              0.4444444444444444,
              "#bd3786"
             ],
             [
              0.5555555555555556,
              "#d8576b"
             ],
             [
              0.6666666666666666,
              "#ed7953"
             ],
             [
              0.7777777777777778,
              "#fb9f3a"
             ],
             [
              0.8888888888888888,
              "#fdca26"
             ],
             [
              1,
              "#f0f921"
             ]
            ],
            "type": "histogram2d"
           }
          ],
          "histogram2dcontour": [
           {
            "colorbar": {
             "outlinewidth": 0,
             "ticks": ""
            },
            "colorscale": [
             [
              0,
              "#0d0887"
             ],
             [
              0.1111111111111111,
              "#46039f"
             ],
             [
              0.2222222222222222,
              "#7201a8"
             ],
             [
              0.3333333333333333,
              "#9c179e"
             ],
             [
              0.4444444444444444,
              "#bd3786"
             ],
             [
              0.5555555555555556,
              "#d8576b"
             ],
             [
              0.6666666666666666,
              "#ed7953"
             ],
             [
              0.7777777777777778,
              "#fb9f3a"
             ],
             [
              0.8888888888888888,
              "#fdca26"
             ],
             [
              1,
              "#f0f921"
             ]
            ],
            "type": "histogram2dcontour"
           }
          ],
          "mesh3d": [
           {
            "colorbar": {
             "outlinewidth": 0,
             "ticks": ""
            },
            "type": "mesh3d"
           }
          ],
          "parcoords": [
           {
            "line": {
             "colorbar": {
              "outlinewidth": 0,
              "ticks": ""
             }
            },
            "type": "parcoords"
           }
          ],
          "pie": [
           {
            "automargin": true,
            "type": "pie"
           }
          ],
          "scatter": [
           {
            "fillpattern": {
             "fillmode": "overlay",
             "size": 10,
             "solidity": 0.2
            },
            "type": "scatter"
           }
          ],
          "scatter3d": [
           {
            "line": {
             "colorbar": {
              "outlinewidth": 0,
              "ticks": ""
             }
            },
            "marker": {
             "colorbar": {
              "outlinewidth": 0,
              "ticks": ""
             }
            },
            "type": "scatter3d"
           }
          ],
          "scattercarpet": [
           {
            "marker": {
             "colorbar": {
              "outlinewidth": 0,
              "ticks": ""
             }
            },
            "type": "scattercarpet"
           }
          ],
          "scattergeo": [
           {
            "marker": {
             "colorbar": {
              "outlinewidth": 0,
              "ticks": ""
             }
            },
            "type": "scattergeo"
           }
          ],
          "scattergl": [
           {
            "marker": {
             "colorbar": {
              "outlinewidth": 0,
              "ticks": ""
             }
            },
            "type": "scattergl"
           }
          ],
          "scattermap": [
           {
            "marker": {
             "colorbar": {
              "outlinewidth": 0,
              "ticks": ""
             }
            },
            "type": "scattermap"
           }
          ],
          "scattermapbox": [
           {
            "marker": {
             "colorbar": {
              "outlinewidth": 0,
              "ticks": ""
             }
            },
            "type": "scattermapbox"
           }
          ],
          "scatterpolar": [
           {
            "marker": {
             "colorbar": {
              "outlinewidth": 0,
              "ticks": ""
             }
            },
            "type": "scatterpolar"
           }
          ],
          "scatterpolargl": [
           {
            "marker": {
             "colorbar": {
              "outlinewidth": 0,
              "ticks": ""
             }
            },
            "type": "scatterpolargl"
           }
          ],
          "scatterternary": [
           {
            "marker": {
             "colorbar": {
              "outlinewidth": 0,
              "ticks": ""
             }
            },
            "type": "scatterternary"
           }
          ],
          "surface": [
           {
            "colorbar": {
             "outlinewidth": 0,
             "ticks": ""
            },
            "colorscale": [
             [
              0,
              "#0d0887"
             ],
             [
              0.1111111111111111,
              "#46039f"
             ],
             [
              0.2222222222222222,
              "#7201a8"
             ],
             [
              0.3333333333333333,
              "#9c179e"
             ],
             [
              0.4444444444444444,
              "#bd3786"
             ],
             [
              0.5555555555555556,
              "#d8576b"
             ],
             [
              0.6666666666666666,
              "#ed7953"
             ],
             [
              0.7777777777777778,
              "#fb9f3a"
             ],
             [
              0.8888888888888888,
              "#fdca26"
             ],
             [
              1,
              "#f0f921"
             ]
            ],
            "type": "surface"
           }
          ],
          "table": [
           {
            "cells": {
             "fill": {
              "color": "#EBF0F8"
             },
             "line": {
              "color": "white"
             }
            },
            "header": {
             "fill": {
              "color": "#C8D4E3"
             },
             "line": {
              "color": "white"
             }
            },
            "type": "table"
           }
          ]
         },
         "layout": {
          "annotationdefaults": {
           "arrowcolor": "#2a3f5f",
           "arrowhead": 0,
           "arrowwidth": 1
          },
          "autotypenumbers": "strict",
          "coloraxis": {
           "colorbar": {
            "outlinewidth": 0,
            "ticks": ""
           }
          },
          "colorscale": {
           "diverging": [
            [
             0,
             "#8e0152"
            ],
            [
             0.1,
             "#c51b7d"
            ],
            [
             0.2,
             "#de77ae"
            ],
            [
             0.3,
             "#f1b6da"
            ],
            [
             0.4,
             "#fde0ef"
            ],
            [
             0.5,
             "#f7f7f7"
            ],
            [
             0.6,
             "#e6f5d0"
            ],
            [
             0.7,
             "#b8e186"
            ],
            [
             0.8,
             "#7fbc41"
            ],
            [
             0.9,
             "#4d9221"
            ],
            [
             1,
             "#276419"
            ]
           ],
           "sequential": [
            [
             0,
             "#0d0887"
            ],
            [
             0.1111111111111111,
             "#46039f"
            ],
            [
             0.2222222222222222,
             "#7201a8"
            ],
            [
             0.3333333333333333,
             "#9c179e"
            ],
            [
             0.4444444444444444,
             "#bd3786"
            ],
            [
             0.5555555555555556,
             "#d8576b"
            ],
            [
             0.6666666666666666,
             "#ed7953"
            ],
            [
             0.7777777777777778,
             "#fb9f3a"
            ],
            [
             0.8888888888888888,
             "#fdca26"
            ],
            [
             1,
             "#f0f921"
            ]
           ],
           "sequentialminus": [
            [
             0,
             "#0d0887"
            ],
            [
             0.1111111111111111,
             "#46039f"
            ],
            [
             0.2222222222222222,
             "#7201a8"
            ],
            [
             0.3333333333333333,
             "#9c179e"
            ],
            [
             0.4444444444444444,
             "#bd3786"
            ],
            [
             0.5555555555555556,
             "#d8576b"
            ],
            [
             0.6666666666666666,
             "#ed7953"
            ],
            [
             0.7777777777777778,
             "#fb9f3a"
            ],
            [
             0.8888888888888888,
             "#fdca26"
            ],
            [
             1,
             "#f0f921"
            ]
           ]
          },
          "colorway": [
           "#636efa",
           "#EF553B",
           "#00cc96",
           "#ab63fa",
           "#FFA15A",
           "#19d3f3",
           "#FF6692",
           "#B6E880",
           "#FF97FF",
           "#FECB52"
          ],
          "font": {
           "color": "#2a3f5f"
          },
          "geo": {
           "bgcolor": "white",
           "lakecolor": "white",
           "landcolor": "#E5ECF6",
           "showlakes": true,
           "showland": true,
           "subunitcolor": "white"
          },
          "hoverlabel": {
           "align": "left"
          },
          "hovermode": "closest",
          "mapbox": {
           "style": "light"
          },
          "paper_bgcolor": "white",
          "plot_bgcolor": "#E5ECF6",
          "polar": {
           "angularaxis": {
            "gridcolor": "white",
            "linecolor": "white",
            "ticks": ""
           },
           "bgcolor": "#E5ECF6",
           "radialaxis": {
            "gridcolor": "white",
            "linecolor": "white",
            "ticks": ""
           }
          },
          "scene": {
           "xaxis": {
            "backgroundcolor": "#E5ECF6",
            "gridcolor": "white",
            "gridwidth": 2,
            "linecolor": "white",
            "showbackground": true,
            "ticks": "",
            "zerolinecolor": "white"
           },
           "yaxis": {
            "backgroundcolor": "#E5ECF6",
            "gridcolor": "white",
            "gridwidth": 2,
            "linecolor": "white",
            "showbackground": true,
            "ticks": "",
            "zerolinecolor": "white"
           },
           "zaxis": {
            "backgroundcolor": "#E5ECF6",
            "gridcolor": "white",
            "gridwidth": 2,
            "linecolor": "white",
            "showbackground": true,
            "ticks": "",
            "zerolinecolor": "white"
           }
          },
          "shapedefaults": {
           "line": {
            "color": "#2a3f5f"
           }
          },
          "ternary": {
           "aaxis": {
            "gridcolor": "white",
            "linecolor": "white",
            "ticks": ""
           },
           "baxis": {
            "gridcolor": "white",
            "linecolor": "white",
            "ticks": ""
           },
           "bgcolor": "#E5ECF6",
           "caxis": {
            "gridcolor": "white",
            "linecolor": "white",
            "ticks": ""
           }
          },
          "title": {
           "x": 0.05
          },
          "xaxis": {
           "automargin": true,
           "gridcolor": "white",
           "linecolor": "white",
           "ticks": "",
           "title": {
            "standoff": 15
           },
           "zerolinecolor": "white",
           "zerolinewidth": 2
          },
          "yaxis": {
           "automargin": true,
           "gridcolor": "white",
           "linecolor": "white",
           "ticks": "",
           "title": {
            "standoff": 15
           },
           "zerolinecolor": "white",
           "zerolinewidth": 2
          }
         }
        },
        "xaxis": {
         "anchor": "y",
         "domain": [
          0,
          1
         ],
         "tickformat": "%d/%m/%y %H:%M",
         "title": {
          "text": "Temps"
         },
         "type": "date"
        },
        "yaxis": {
         "anchor": "x",
         "categoryarray": [
          "dep_4",
          "dep_3",
          "dep_2",
          "dep_1",
          "arr_3",
          "arr_2",
          "arr_1"
         ],
         "categoryorder": "array",
         "domain": [
          0,
          1
         ],
         "title": {
          "text": "Tâches"
         }
        }
       }
      }
     },
     "metadata": {},
     "output_type": "display_data"
    }
   ],
   "source": [
    "# Liste ordonnée des machines\n",
    "ORDERED_MACHINES = [\"arr_1\", \"arr_2\", \"arr_3\",\n",
    "                        \"dep_1\", \"dep_2\", \"dep_3\", \"dep_4\"]\n",
    "\n",
    "# Données fournies sous forme de liste de dictionnaires\n",
    "tasks = [\n",
    "        {\"Train\": n_arr,\n",
    "         \"Start\": base_time(1) + datetime.timedelta(minutes=var_arr.X),\n",
    "         \"Finish\": base_time(1) + datetime.timedelta(minutes=var_arr.X + Taches.T_ARR[m_arr]),\n",
    "         \"Machine\": f\"arr_{m_arr}\",\n",
    "         \"Tâches\": f\"arr_{m_arr}\"}\n",
    "        for (m_arr, n_arr), var_arr in t_arr.items()\n",
    "    ] + [\n",
    "        {\"Train\": n_dep,\n",
    "         \"Start\": base_time(1) + datetime.timedelta(minutes=var_dep.X),\n",
    "         \"Finish\": base_time(1) + datetime.timedelta(minutes=var_dep.X + Taches.T_DEP[m_dep]),\n",
    "         \"Machine\": f\"dep_{m_dep}\",\n",
    "         \"Tâches\": f\"dep_{m_dep}\"}\n",
    "        for (m_dep, n_dep), var_dep in t_dep.items()\n",
    "    ]\n",
    "\n",
    "# Construction du DataFrame pour la visualisation\n",
    "gantt_df = pd.DataFrame(tasks)\n",
    "\n",
    "# Regroupement des ressources par machine\n",
    "resource_per_machine = {}\n",
    "for task in tasks:\n",
    "    resource_per_machine.setdefault(\n",
    "        task[\"Machine\"], set()).add(task[\"Tâches\"])\n",
    "\n",
    "sorted_resources = list(itertools.chain.from_iterable(\n",
    "    [sorted(resource_per_machine[machine]) for machine in ORDERED_MACHINES]\n",
    "))\n",
    "\n",
    "fig = px.timeline(gantt_df, x_start=\"Start\",\n",
    "                    x_end=\"Finish\", y=\"Tâches\", color=\"Train\")\n",
    "fig.update_layout(xaxis=dict(title='Temps',\n",
    "                    tickformat='%d/%m/%y %H:%M'))\n",
    "fig.update_yaxes(categoryorder=\"array\",\n",
    "                    categoryarray=sorted_resources[::-1])\n",
    "fig.show()"
   ]
  }
 ],
 "metadata": {
  "kernelspec": {
   "display_name": "Opti",
   "language": "python",
   "name": "python3"
  },
  "language_info": {
   "codemirror_mode": {
    "name": "ipython",
    "version": 3
   },
   "file_extension": ".py",
   "mimetype": "text/x-python",
   "name": "python",
   "nbconvert_exporter": "python",
   "pygments_lexer": "ipython3",
   "version": "3.12.7"
  }
 },
 "nbformat": 4,
 "nbformat_minor": 2
}
